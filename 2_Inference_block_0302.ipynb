{
 "cells": [
  {
   "cell_type": "code",
   "execution_count": 1,
   "id": "95479ff1-daa9-4a85-bee2-32d78b24506b",
   "metadata": {},
   "outputs": [],
   "source": [
    "import pandas as pd\n",
    "import numpy as np\n",
    "import matplotlib.pyplot as plt\n",
    "import os\n",
    "from sklearn.metrics import mean_absolute_error, mean_squared_error, r2_score\n",
    "from scipy.stats import pearsonr"
   ]
  },
  {
   "cell_type": "code",
   "execution_count": 2,
   "id": "d0c496d4-1b24-43dd-ab1b-b98d6eaef21b",
   "metadata": {},
   "outputs": [],
   "source": [
    "# path to dataframes\n",
    "path_to_dfs = \"data/BLAR_implementation/Block_0302/forecasted_counts/\""
   ]
  },
  {
   "cell_type": "code",
   "execution_count": 3,
   "id": "0c9c641d-4e5d-4c54-a235-c62cbdf13f8d",
   "metadata": {},
   "outputs": [],
   "source": [
    "# os.listdir(path_to_dfs)"
   ]
  },
  {
   "cell_type": "code",
   "execution_count": 4,
   "id": "5e5d1ebd-ac8c-4a2b-b33c-db3c4b477eae",
   "metadata": {},
   "outputs": [
    {
     "data": {
      "text/plain": [
       "6370"
      ]
     },
     "execution_count": 4,
     "metadata": {},
     "output_type": "execute_result"
    }
   ],
   "source": [
    "len(os.listdir(path_to_dfs))"
   ]
  },
  {
   "cell_type": "code",
   "execution_count": 5,
   "id": "3b80d752-5eb8-42c1-ad39-987ad3dbb001",
   "metadata": {},
   "outputs": [
    {
     "data": {
      "text/plain": [
       "7.0"
      ]
     },
     "execution_count": 5,
     "metadata": {},
     "output_type": "execute_result"
    }
   ],
   "source": [
    "6370/910"
   ]
  },
  {
   "cell_type": "code",
   "execution_count": 6,
   "id": "a0ac81e1-3049-44de-a2bf-4bf5a274ba45",
   "metadata": {},
   "outputs": [],
   "source": [
    "# seems each sub-window sequence have 7 things stored - what are all these?\n",
    "\n",
    "# the forecasted npy files\n",
    "# ar_sigma\n",
    "# noise_sigma\n",
    "# betas\n",
    "# rho\n",
    "# averaged forecasts\n",
    "# posterior parameter summaries - might need to pay a little attention here, the r_hat values are too high - think this should vary around 1? - but almost all the values are greater than 2."
   ]
  },
  {
   "cell_type": "code",
   "execution_count": 7,
   "id": "f9a4f497-2d9d-4b5c-9169-46b6ae6b9977",
   "metadata": {},
   "outputs": [],
   "source": [
    "averaged_forecasts_csvs = []\n",
    "for file in os.listdir(path_to_dfs):\n",
    "    if file[:8] =='averaged':\n",
    "        averaged_forecasts_csvs.append(file)"
   ]
  },
  {
   "cell_type": "code",
   "execution_count": 8,
   "id": "094e9614-b16f-45a2-aafc-d7884678eb44",
   "metadata": {},
   "outputs": [
    {
     "data": {
      "text/plain": [
       "910"
      ]
     },
     "execution_count": 8,
     "metadata": {},
     "output_type": "execute_result"
    }
   ],
   "source": [
    "# how many csv files do we have?\n",
    "len(averaged_forecasts_csvs)"
   ]
  },
  {
   "cell_type": "code",
   "execution_count": 9,
   "id": "7eca928b-bdbd-4d00-9eb1-8a808db7123e",
   "metadata": {},
   "outputs": [],
   "source": [
    "# averaged_forecasts_csvs - we probably need these in order for getting the respective predicted values"
   ]
  },
  {
   "cell_type": "code",
   "execution_count": 10,
   "id": "d0e11c68-824a-41ea-bf6b-65f53103343f",
   "metadata": {},
   "outputs": [
    {
     "data": {
      "text/plain": [
       "'averaged_forecasts_sub_653.csv'"
      ]
     },
     "execution_count": 10,
     "metadata": {},
     "output_type": "execute_result"
    }
   ],
   "source": [
    "averaged_forecasts_csvs[0]"
   ]
  },
  {
   "cell_type": "code",
   "execution_count": 11,
   "id": "f1f9e7be-53a6-4f38-b389-045d898b14ef",
   "metadata": {},
   "outputs": [],
   "source": [
    "# sorting them would not work as everything in the nomenclature of the files is a character - hence will not respect the numerical order"
   ]
  },
  {
   "cell_type": "code",
   "execution_count": 12,
   "id": "3cf616ee-4b4e-4ad9-ac1b-20aba081bfc5",
   "metadata": {},
   "outputs": [],
   "source": [
    "# let's create these names in the order of the subwindows\n",
    "ordered_csv_files = ['averaged_forecasts_sub_' + str(i) + '.csv' for i in range(910)]"
   ]
  },
  {
   "cell_type": "code",
   "execution_count": 13,
   "id": "7ac08389-4437-448b-b8a8-317cd0a9bf8e",
   "metadata": {},
   "outputs": [],
   "source": [
    "# ordered_csv_files"
   ]
  },
  {
   "cell_type": "code",
   "execution_count": 14,
   "id": "e74425d7-b613-44cf-96dd-df4298cef947",
   "metadata": {},
   "outputs": [],
   "source": [
    "# averaged_forecasts_csvs list is pointless at this time?"
   ]
  },
  {
   "cell_type": "code",
   "execution_count": 15,
   "id": "9a94c9ec-57cc-42fa-ad71-26639da44cb7",
   "metadata": {},
   "outputs": [
    {
     "name": "stdout",
     "output_type": "stream",
     "text": [
      "CPU times: user 442 ms, sys: 16.3 ms, total: 458 ms\n",
      "Wall time: 460 ms\n"
     ]
    }
   ],
   "source": [
    "%%time\n",
    "all_dfs = []\n",
    "for file in ordered_csv_files:\n",
    "    read_df = pd.read_csv(path_to_dfs + '/' + file)\n",
    "    all_dfs.append(read_df)"
   ]
  },
  {
   "cell_type": "code",
   "execution_count": 16,
   "id": "c04b6062-8fc9-4f3e-87f2-2a8e9abac16f",
   "metadata": {},
   "outputs": [],
   "source": [
    "# make a single dataframe out of the many\n",
    "combined_df = pd.concat(all_dfs, axis = 1)"
   ]
  },
  {
   "cell_type": "code",
   "execution_count": 17,
   "id": "5671cc95-7ba6-47bc-8da8-47ba9d3f36e3",
   "metadata": {},
   "outputs": [
    {
     "data": {
      "text/html": [
       "<div>\n",
       "<style scoped>\n",
       "    .dataframe tbody tr th:only-of-type {\n",
       "        vertical-align: middle;\n",
       "    }\n",
       "\n",
       "    .dataframe tbody tr th {\n",
       "        vertical-align: top;\n",
       "    }\n",
       "\n",
       "    .dataframe thead th {\n",
       "        text-align: right;\n",
       "    }\n",
       "</style>\n",
       "<table border=\"1\" class=\"dataframe\">\n",
       "  <thead>\n",
       "    <tr style=\"text-align: right;\">\n",
       "      <th></th>\n",
       "      <th>True_value</th>\n",
       "      <th>Forecasted_value</th>\n",
       "      <th>True_value</th>\n",
       "      <th>Forecasted_value</th>\n",
       "      <th>True_value</th>\n",
       "      <th>Forecasted_value</th>\n",
       "      <th>True_value</th>\n",
       "      <th>Forecasted_value</th>\n",
       "      <th>True_value</th>\n",
       "      <th>Forecasted_value</th>\n",
       "      <th>...</th>\n",
       "      <th>True_value</th>\n",
       "      <th>Forecasted_value</th>\n",
       "      <th>True_value</th>\n",
       "      <th>Forecasted_value</th>\n",
       "      <th>True_value</th>\n",
       "      <th>Forecasted_value</th>\n",
       "      <th>True_value</th>\n",
       "      <th>Forecasted_value</th>\n",
       "      <th>True_value</th>\n",
       "      <th>Forecasted_value</th>\n",
       "    </tr>\n",
       "  </thead>\n",
       "  <tbody>\n",
       "    <tr>\n",
       "      <th>0</th>\n",
       "      <td>0.000000</td>\n",
       "      <td>-0.000743</td>\n",
       "      <td>0.00000</td>\n",
       "      <td>-0.020988</td>\n",
       "      <td>0.000000e+00</td>\n",
       "      <td>-0.010714</td>\n",
       "      <td>0.0</td>\n",
       "      <td>-0.046937</td>\n",
       "      <td>0.0</td>\n",
       "      <td>-0.014023</td>\n",
       "      <td>...</td>\n",
       "      <td>0.0</td>\n",
       "      <td>-0.006209</td>\n",
       "      <td>0.0</td>\n",
       "      <td>-0.017756</td>\n",
       "      <td>0.0</td>\n",
       "      <td>-0.000955</td>\n",
       "      <td>0.0</td>\n",
       "      <td>-0.001040</td>\n",
       "      <td>0.0</td>\n",
       "      <td>-0.012862</td>\n",
       "    </tr>\n",
       "    <tr>\n",
       "      <th>1</th>\n",
       "      <td>0.009946</td>\n",
       "      <td>-0.002672</td>\n",
       "      <td>0.00376</td>\n",
       "      <td>-0.007768</td>\n",
       "      <td>0.000000e+00</td>\n",
       "      <td>0.001656</td>\n",
       "      <td>0.0</td>\n",
       "      <td>-0.027640</td>\n",
       "      <td>0.0</td>\n",
       "      <td>0.002394</td>\n",
       "      <td>...</td>\n",
       "      <td>0.0</td>\n",
       "      <td>-0.006582</td>\n",
       "      <td>0.0</td>\n",
       "      <td>-0.009468</td>\n",
       "      <td>0.0</td>\n",
       "      <td>0.000990</td>\n",
       "      <td>0.0</td>\n",
       "      <td>-0.000224</td>\n",
       "      <td>0.0</td>\n",
       "      <td>-0.004894</td>\n",
       "    </tr>\n",
       "    <tr>\n",
       "      <th>2</th>\n",
       "      <td>0.000000</td>\n",
       "      <td>-0.013115</td>\n",
       "      <td>0.00000</td>\n",
       "      <td>-0.020896</td>\n",
       "      <td>0.000000e+00</td>\n",
       "      <td>-0.001077</td>\n",
       "      <td>0.0</td>\n",
       "      <td>-0.003916</td>\n",
       "      <td>0.0</td>\n",
       "      <td>0.006938</td>\n",
       "      <td>...</td>\n",
       "      <td>0.0</td>\n",
       "      <td>-0.006630</td>\n",
       "      <td>0.0</td>\n",
       "      <td>-0.009099</td>\n",
       "      <td>0.0</td>\n",
       "      <td>0.007784</td>\n",
       "      <td>0.0</td>\n",
       "      <td>-0.003651</td>\n",
       "      <td>0.0</td>\n",
       "      <td>-0.009942</td>\n",
       "    </tr>\n",
       "    <tr>\n",
       "      <th>3</th>\n",
       "      <td>0.000037</td>\n",
       "      <td>0.010149</td>\n",
       "      <td>0.00455</td>\n",
       "      <td>-0.005909</td>\n",
       "      <td>7.131669e-07</td>\n",
       "      <td>0.001015</td>\n",
       "      <td>0.0</td>\n",
       "      <td>0.044046</td>\n",
       "      <td>0.0</td>\n",
       "      <td>-0.000500</td>\n",
       "      <td>...</td>\n",
       "      <td>0.0</td>\n",
       "      <td>-0.002029</td>\n",
       "      <td>0.0</td>\n",
       "      <td>-0.004404</td>\n",
       "      <td>0.0</td>\n",
       "      <td>-0.000254</td>\n",
       "      <td>0.0</td>\n",
       "      <td>0.000620</td>\n",
       "      <td>0.0</td>\n",
       "      <td>0.017581</td>\n",
       "    </tr>\n",
       "    <tr>\n",
       "      <th>4</th>\n",
       "      <td>0.000000</td>\n",
       "      <td>-0.006569</td>\n",
       "      <td>0.00000</td>\n",
       "      <td>-0.000037</td>\n",
       "      <td>0.000000e+00</td>\n",
       "      <td>-0.000649</td>\n",
       "      <td>0.0</td>\n",
       "      <td>0.006580</td>\n",
       "      <td>0.0</td>\n",
       "      <td>0.004788</td>\n",
       "      <td>...</td>\n",
       "      <td>0.0</td>\n",
       "      <td>-0.000980</td>\n",
       "      <td>0.0</td>\n",
       "      <td>-0.003171</td>\n",
       "      <td>0.0</td>\n",
       "      <td>0.005738</td>\n",
       "      <td>0.0</td>\n",
       "      <td>0.001279</td>\n",
       "      <td>0.0</td>\n",
       "      <td>0.016728</td>\n",
       "    </tr>\n",
       "  </tbody>\n",
       "</table>\n",
       "<p>5 rows × 1820 columns</p>\n",
       "</div>"
      ],
      "text/plain": [
       "   True_value  Forecasted_value  True_value  Forecasted_value    True_value  \\\n",
       "0    0.000000         -0.000743     0.00000         -0.020988  0.000000e+00   \n",
       "1    0.009946         -0.002672     0.00376         -0.007768  0.000000e+00   \n",
       "2    0.000000         -0.013115     0.00000         -0.020896  0.000000e+00   \n",
       "3    0.000037          0.010149     0.00455         -0.005909  7.131669e-07   \n",
       "4    0.000000         -0.006569     0.00000         -0.000037  0.000000e+00   \n",
       "\n",
       "   Forecasted_value  True_value  Forecasted_value  True_value  \\\n",
       "0         -0.010714         0.0         -0.046937         0.0   \n",
       "1          0.001656         0.0         -0.027640         0.0   \n",
       "2         -0.001077         0.0         -0.003916         0.0   \n",
       "3          0.001015         0.0          0.044046         0.0   \n",
       "4         -0.000649         0.0          0.006580         0.0   \n",
       "\n",
       "   Forecasted_value  ...  True_value  Forecasted_value  True_value  \\\n",
       "0         -0.014023  ...         0.0         -0.006209         0.0   \n",
       "1          0.002394  ...         0.0         -0.006582         0.0   \n",
       "2          0.006938  ...         0.0         -0.006630         0.0   \n",
       "3         -0.000500  ...         0.0         -0.002029         0.0   \n",
       "4          0.004788  ...         0.0         -0.000980         0.0   \n",
       "\n",
       "   Forecasted_value  True_value  Forecasted_value  True_value  \\\n",
       "0         -0.017756         0.0         -0.000955         0.0   \n",
       "1         -0.009468         0.0          0.000990         0.0   \n",
       "2         -0.009099         0.0          0.007784         0.0   \n",
       "3         -0.004404         0.0         -0.000254         0.0   \n",
       "4         -0.003171         0.0          0.005738         0.0   \n",
       "\n",
       "   Forecasted_value  True_value  Forecasted_value  \n",
       "0         -0.001040         0.0         -0.012862  \n",
       "1         -0.000224         0.0         -0.004894  \n",
       "2         -0.003651         0.0         -0.009942  \n",
       "3          0.000620         0.0          0.017581  \n",
       "4          0.001279         0.0          0.016728  \n",
       "\n",
       "[5 rows x 1820 columns]"
      ]
     },
     "execution_count": 17,
     "metadata": {},
     "output_type": "execute_result"
    }
   ],
   "source": [
    "combined_df.head()"
   ]
  },
  {
   "cell_type": "code",
   "execution_count": 18,
   "id": "77ebc554-fe99-4cea-9cb3-2d2b8329b7b8",
   "metadata": {},
   "outputs": [
    {
     "data": {
      "text/plain": [
       "(7, 1820)"
      ]
     },
     "execution_count": 18,
     "metadata": {},
     "output_type": "execute_result"
    }
   ],
   "source": [
    "combined_df.shape"
   ]
  },
  {
   "cell_type": "code",
   "execution_count": 19,
   "id": "cd7bd824-8dac-4284-b286-aafcd8cd7d43",
   "metadata": {},
   "outputs": [],
   "source": [
    "# get the true values\n",
    "True_values_df = combined_df[['True_value']]"
   ]
  },
  {
   "cell_type": "code",
   "execution_count": 20,
   "id": "20d0decc-e09d-494a-9ff8-2139aac7254b",
   "metadata": {},
   "outputs": [
    {
     "data": {
      "text/html": [
       "<div>\n",
       "<style scoped>\n",
       "    .dataframe tbody tr th:only-of-type {\n",
       "        vertical-align: middle;\n",
       "    }\n",
       "\n",
       "    .dataframe tbody tr th {\n",
       "        vertical-align: top;\n",
       "    }\n",
       "\n",
       "    .dataframe thead th {\n",
       "        text-align: right;\n",
       "    }\n",
       "</style>\n",
       "<table border=\"1\" class=\"dataframe\">\n",
       "  <thead>\n",
       "    <tr style=\"text-align: right;\">\n",
       "      <th></th>\n",
       "      <th>True_value</th>\n",
       "      <th>True_value</th>\n",
       "      <th>True_value</th>\n",
       "      <th>True_value</th>\n",
       "      <th>True_value</th>\n",
       "      <th>True_value</th>\n",
       "      <th>True_value</th>\n",
       "      <th>True_value</th>\n",
       "      <th>True_value</th>\n",
       "      <th>True_value</th>\n",
       "      <th>...</th>\n",
       "      <th>True_value</th>\n",
       "      <th>True_value</th>\n",
       "      <th>True_value</th>\n",
       "      <th>True_value</th>\n",
       "      <th>True_value</th>\n",
       "      <th>True_value</th>\n",
       "      <th>True_value</th>\n",
       "      <th>True_value</th>\n",
       "      <th>True_value</th>\n",
       "      <th>True_value</th>\n",
       "    </tr>\n",
       "  </thead>\n",
       "  <tbody>\n",
       "    <tr>\n",
       "      <th>0</th>\n",
       "      <td>0.000000</td>\n",
       "      <td>0.00000</td>\n",
       "      <td>0.000000e+00</td>\n",
       "      <td>0.0</td>\n",
       "      <td>0.0</td>\n",
       "      <td>0.000000</td>\n",
       "      <td>0.000000</td>\n",
       "      <td>0.000000e+00</td>\n",
       "      <td>0.000000</td>\n",
       "      <td>0.0</td>\n",
       "      <td>...</td>\n",
       "      <td>0.0</td>\n",
       "      <td>0.0</td>\n",
       "      <td>0.000000</td>\n",
       "      <td>0.000000</td>\n",
       "      <td>0.0</td>\n",
       "      <td>0.0</td>\n",
       "      <td>0.0</td>\n",
       "      <td>0.0</td>\n",
       "      <td>0.0</td>\n",
       "      <td>0.0</td>\n",
       "    </tr>\n",
       "    <tr>\n",
       "      <th>1</th>\n",
       "      <td>0.009946</td>\n",
       "      <td>0.00376</td>\n",
       "      <td>0.000000e+00</td>\n",
       "      <td>0.0</td>\n",
       "      <td>0.0</td>\n",
       "      <td>0.000000</td>\n",
       "      <td>0.000000</td>\n",
       "      <td>0.000000e+00</td>\n",
       "      <td>0.000000</td>\n",
       "      <td>0.0</td>\n",
       "      <td>...</td>\n",
       "      <td>0.0</td>\n",
       "      <td>0.0</td>\n",
       "      <td>0.000000</td>\n",
       "      <td>0.000000</td>\n",
       "      <td>0.0</td>\n",
       "      <td>0.0</td>\n",
       "      <td>0.0</td>\n",
       "      <td>0.0</td>\n",
       "      <td>0.0</td>\n",
       "      <td>0.0</td>\n",
       "    </tr>\n",
       "    <tr>\n",
       "      <th>2</th>\n",
       "      <td>0.000000</td>\n",
       "      <td>0.00000</td>\n",
       "      <td>0.000000e+00</td>\n",
       "      <td>0.0</td>\n",
       "      <td>0.0</td>\n",
       "      <td>0.000000</td>\n",
       "      <td>0.000000</td>\n",
       "      <td>5.447757e-01</td>\n",
       "      <td>0.241312</td>\n",
       "      <td>0.0</td>\n",
       "      <td>...</td>\n",
       "      <td>0.0</td>\n",
       "      <td>0.0</td>\n",
       "      <td>0.000000</td>\n",
       "      <td>0.000000</td>\n",
       "      <td>0.0</td>\n",
       "      <td>0.0</td>\n",
       "      <td>0.0</td>\n",
       "      <td>0.0</td>\n",
       "      <td>0.0</td>\n",
       "      <td>0.0</td>\n",
       "    </tr>\n",
       "    <tr>\n",
       "      <th>3</th>\n",
       "      <td>0.000037</td>\n",
       "      <td>0.00455</td>\n",
       "      <td>7.131669e-07</td>\n",
       "      <td>0.0</td>\n",
       "      <td>0.0</td>\n",
       "      <td>0.000001</td>\n",
       "      <td>0.000154</td>\n",
       "      <td>2.405033e-08</td>\n",
       "      <td>0.000000</td>\n",
       "      <td>0.0</td>\n",
       "      <td>...</td>\n",
       "      <td>0.0</td>\n",
       "      <td>0.0</td>\n",
       "      <td>0.000000</td>\n",
       "      <td>0.000000</td>\n",
       "      <td>0.0</td>\n",
       "      <td>0.0</td>\n",
       "      <td>0.0</td>\n",
       "      <td>0.0</td>\n",
       "      <td>0.0</td>\n",
       "      <td>0.0</td>\n",
       "    </tr>\n",
       "    <tr>\n",
       "      <th>4</th>\n",
       "      <td>0.000000</td>\n",
       "      <td>0.00000</td>\n",
       "      <td>0.000000e+00</td>\n",
       "      <td>0.0</td>\n",
       "      <td>0.0</td>\n",
       "      <td>0.000658</td>\n",
       "      <td>0.680220</td>\n",
       "      <td>2.456316e-03</td>\n",
       "      <td>0.000000</td>\n",
       "      <td>0.0</td>\n",
       "      <td>...</td>\n",
       "      <td>0.0</td>\n",
       "      <td>0.0</td>\n",
       "      <td>0.147283</td>\n",
       "      <td>0.108888</td>\n",
       "      <td>0.0</td>\n",
       "      <td>0.0</td>\n",
       "      <td>0.0</td>\n",
       "      <td>0.0</td>\n",
       "      <td>0.0</td>\n",
       "      <td>0.0</td>\n",
       "    </tr>\n",
       "  </tbody>\n",
       "</table>\n",
       "<p>5 rows × 910 columns</p>\n",
       "</div>"
      ],
      "text/plain": [
       "   True_value  True_value    True_value  True_value  True_value  True_value  \\\n",
       "0    0.000000     0.00000  0.000000e+00         0.0         0.0    0.000000   \n",
       "1    0.009946     0.00376  0.000000e+00         0.0         0.0    0.000000   \n",
       "2    0.000000     0.00000  0.000000e+00         0.0         0.0    0.000000   \n",
       "3    0.000037     0.00455  7.131669e-07         0.0         0.0    0.000001   \n",
       "4    0.000000     0.00000  0.000000e+00         0.0         0.0    0.000658   \n",
       "\n",
       "   True_value    True_value  True_value  True_value  ...  True_value  \\\n",
       "0    0.000000  0.000000e+00    0.000000         0.0  ...         0.0   \n",
       "1    0.000000  0.000000e+00    0.000000         0.0  ...         0.0   \n",
       "2    0.000000  5.447757e-01    0.241312         0.0  ...         0.0   \n",
       "3    0.000154  2.405033e-08    0.000000         0.0  ...         0.0   \n",
       "4    0.680220  2.456316e-03    0.000000         0.0  ...         0.0   \n",
       "\n",
       "   True_value  True_value  True_value  True_value  True_value  True_value  \\\n",
       "0         0.0    0.000000    0.000000         0.0         0.0         0.0   \n",
       "1         0.0    0.000000    0.000000         0.0         0.0         0.0   \n",
       "2         0.0    0.000000    0.000000         0.0         0.0         0.0   \n",
       "3         0.0    0.000000    0.000000         0.0         0.0         0.0   \n",
       "4         0.0    0.147283    0.108888         0.0         0.0         0.0   \n",
       "\n",
       "   True_value  True_value  True_value  \n",
       "0         0.0         0.0         0.0  \n",
       "1         0.0         0.0         0.0  \n",
       "2         0.0         0.0         0.0  \n",
       "3         0.0         0.0         0.0  \n",
       "4         0.0         0.0         0.0  \n",
       "\n",
       "[5 rows x 910 columns]"
      ]
     },
     "execution_count": 20,
     "metadata": {},
     "output_type": "execute_result"
    }
   ],
   "source": [
    "True_values_df.head()"
   ]
  },
  {
   "cell_type": "code",
   "execution_count": 21,
   "id": "7bf2ce55-e613-440c-98df-b3137476fda8",
   "metadata": {},
   "outputs": [
    {
     "data": {
      "text/plain": [
       "(7, 910)"
      ]
     },
     "execution_count": 21,
     "metadata": {},
     "output_type": "execute_result"
    }
   ],
   "source": [
    "True_values_df.shape"
   ]
  },
  {
   "cell_type": "code",
   "execution_count": 22,
   "id": "18e0219e-ee9c-4e29-a372-2b6290708941",
   "metadata": {},
   "outputs": [],
   "source": [
    "# get the proper counts?\n",
    "exp_true = np.exp(True_values_df)-1"
   ]
  },
  {
   "cell_type": "code",
   "execution_count": 23,
   "id": "a7319ca1-7b28-41f3-8b38-11863c1835e5",
   "metadata": {},
   "outputs": [
    {
     "data": {
      "text/html": [
       "<div>\n",
       "<style scoped>\n",
       "    .dataframe tbody tr th:only-of-type {\n",
       "        vertical-align: middle;\n",
       "    }\n",
       "\n",
       "    .dataframe tbody tr th {\n",
       "        vertical-align: top;\n",
       "    }\n",
       "\n",
       "    .dataframe thead th {\n",
       "        text-align: right;\n",
       "    }\n",
       "</style>\n",
       "<table border=\"1\" class=\"dataframe\">\n",
       "  <thead>\n",
       "    <tr style=\"text-align: right;\">\n",
       "      <th></th>\n",
       "      <th>True_value</th>\n",
       "      <th>True_value</th>\n",
       "      <th>True_value</th>\n",
       "      <th>True_value</th>\n",
       "      <th>True_value</th>\n",
       "      <th>True_value</th>\n",
       "      <th>True_value</th>\n",
       "      <th>True_value</th>\n",
       "      <th>True_value</th>\n",
       "      <th>True_value</th>\n",
       "      <th>...</th>\n",
       "      <th>True_value</th>\n",
       "      <th>True_value</th>\n",
       "      <th>True_value</th>\n",
       "      <th>True_value</th>\n",
       "      <th>True_value</th>\n",
       "      <th>True_value</th>\n",
       "      <th>True_value</th>\n",
       "      <th>True_value</th>\n",
       "      <th>True_value</th>\n",
       "      <th>True_value</th>\n",
       "    </tr>\n",
       "  </thead>\n",
       "  <tbody>\n",
       "    <tr>\n",
       "      <th>0</th>\n",
       "      <td>0.000000</td>\n",
       "      <td>0.000000</td>\n",
       "      <td>0.000000e+00</td>\n",
       "      <td>0.000000</td>\n",
       "      <td>0.000000</td>\n",
       "      <td>0.000000e+00</td>\n",
       "      <td>0.000000</td>\n",
       "      <td>0.000000e+00</td>\n",
       "      <td>0.000000</td>\n",
       "      <td>0.0</td>\n",
       "      <td>...</td>\n",
       "      <td>0.0</td>\n",
       "      <td>0.0</td>\n",
       "      <td>0.000000</td>\n",
       "      <td>0.000000</td>\n",
       "      <td>0.0</td>\n",
       "      <td>0.0</td>\n",
       "      <td>0.0</td>\n",
       "      <td>0.0</td>\n",
       "      <td>0.0</td>\n",
       "      <td>0.0</td>\n",
       "    </tr>\n",
       "    <tr>\n",
       "      <th>1</th>\n",
       "      <td>0.009996</td>\n",
       "      <td>0.003767</td>\n",
       "      <td>0.000000e+00</td>\n",
       "      <td>0.000000</td>\n",
       "      <td>0.000000</td>\n",
       "      <td>0.000000e+00</td>\n",
       "      <td>0.000000</td>\n",
       "      <td>0.000000e+00</td>\n",
       "      <td>0.000000</td>\n",
       "      <td>0.0</td>\n",
       "      <td>...</td>\n",
       "      <td>0.0</td>\n",
       "      <td>0.0</td>\n",
       "      <td>0.000000</td>\n",
       "      <td>0.000000</td>\n",
       "      <td>0.0</td>\n",
       "      <td>0.0</td>\n",
       "      <td>0.0</td>\n",
       "      <td>0.0</td>\n",
       "      <td>0.0</td>\n",
       "      <td>0.0</td>\n",
       "    </tr>\n",
       "    <tr>\n",
       "      <th>2</th>\n",
       "      <td>0.000000</td>\n",
       "      <td>0.000000</td>\n",
       "      <td>0.000000e+00</td>\n",
       "      <td>0.000000</td>\n",
       "      <td>0.000000</td>\n",
       "      <td>0.000000e+00</td>\n",
       "      <td>0.000000</td>\n",
       "      <td>7.242216e-01</td>\n",
       "      <td>0.272918</td>\n",
       "      <td>0.0</td>\n",
       "      <td>...</td>\n",
       "      <td>0.0</td>\n",
       "      <td>0.0</td>\n",
       "      <td>0.000000</td>\n",
       "      <td>0.000000</td>\n",
       "      <td>0.0</td>\n",
       "      <td>0.0</td>\n",
       "      <td>0.0</td>\n",
       "      <td>0.0</td>\n",
       "      <td>0.0</td>\n",
       "      <td>0.0</td>\n",
       "    </tr>\n",
       "    <tr>\n",
       "      <th>3</th>\n",
       "      <td>0.000037</td>\n",
       "      <td>0.004561</td>\n",
       "      <td>7.131672e-07</td>\n",
       "      <td>0.000000</td>\n",
       "      <td>0.000000</td>\n",
       "      <td>1.256399e-06</td>\n",
       "      <td>0.000154</td>\n",
       "      <td>2.405033e-08</td>\n",
       "      <td>0.000000</td>\n",
       "      <td>0.0</td>\n",
       "      <td>...</td>\n",
       "      <td>0.0</td>\n",
       "      <td>0.0</td>\n",
       "      <td>0.000000</td>\n",
       "      <td>0.000000</td>\n",
       "      <td>0.0</td>\n",
       "      <td>0.0</td>\n",
       "      <td>0.0</td>\n",
       "      <td>0.0</td>\n",
       "      <td>0.0</td>\n",
       "      <td>0.0</td>\n",
       "    </tr>\n",
       "    <tr>\n",
       "      <th>4</th>\n",
       "      <td>0.000000</td>\n",
       "      <td>0.000000</td>\n",
       "      <td>0.000000e+00</td>\n",
       "      <td>0.000000</td>\n",
       "      <td>0.000000</td>\n",
       "      <td>6.585136e-04</td>\n",
       "      <td>0.974312</td>\n",
       "      <td>2.459335e-03</td>\n",
       "      <td>0.000000</td>\n",
       "      <td>0.0</td>\n",
       "      <td>...</td>\n",
       "      <td>0.0</td>\n",
       "      <td>0.0</td>\n",
       "      <td>0.158682</td>\n",
       "      <td>0.115037</td>\n",
       "      <td>0.0</td>\n",
       "      <td>0.0</td>\n",
       "      <td>0.0</td>\n",
       "      <td>0.0</td>\n",
       "      <td>0.0</td>\n",
       "      <td>0.0</td>\n",
       "    </tr>\n",
       "    <tr>\n",
       "      <th>5</th>\n",
       "      <td>0.000000</td>\n",
       "      <td>0.000000</td>\n",
       "      <td>0.000000e+00</td>\n",
       "      <td>0.000154</td>\n",
       "      <td>0.983625</td>\n",
       "      <td>8.035206e-03</td>\n",
       "      <td>0.000000</td>\n",
       "      <td>0.000000e+00</td>\n",
       "      <td>0.000000</td>\n",
       "      <td>0.0</td>\n",
       "      <td>...</td>\n",
       "      <td>0.0</td>\n",
       "      <td>0.0</td>\n",
       "      <td>0.000000</td>\n",
       "      <td>0.000000</td>\n",
       "      <td>0.0</td>\n",
       "      <td>0.0</td>\n",
       "      <td>0.0</td>\n",
       "      <td>0.0</td>\n",
       "      <td>0.0</td>\n",
       "      <td>0.0</td>\n",
       "    </tr>\n",
       "    <tr>\n",
       "      <th>6</th>\n",
       "      <td>0.000000</td>\n",
       "      <td>0.517342</td>\n",
       "      <td>2.713586e-01</td>\n",
       "      <td>0.000000</td>\n",
       "      <td>0.000000</td>\n",
       "      <td>1.334030e-07</td>\n",
       "      <td>0.242338</td>\n",
       "      <td>3.136316e-02</td>\n",
       "      <td>0.000000</td>\n",
       "      <td>0.0</td>\n",
       "      <td>...</td>\n",
       "      <td>0.0</td>\n",
       "      <td>0.0</td>\n",
       "      <td>0.000000</td>\n",
       "      <td>0.000000</td>\n",
       "      <td>0.0</td>\n",
       "      <td>0.0</td>\n",
       "      <td>0.0</td>\n",
       "      <td>0.0</td>\n",
       "      <td>0.0</td>\n",
       "      <td>0.0</td>\n",
       "    </tr>\n",
       "  </tbody>\n",
       "</table>\n",
       "<p>7 rows × 910 columns</p>\n",
       "</div>"
      ],
      "text/plain": [
       "   True_value  True_value    True_value  True_value  True_value    True_value  \\\n",
       "0    0.000000    0.000000  0.000000e+00    0.000000    0.000000  0.000000e+00   \n",
       "1    0.009996    0.003767  0.000000e+00    0.000000    0.000000  0.000000e+00   \n",
       "2    0.000000    0.000000  0.000000e+00    0.000000    0.000000  0.000000e+00   \n",
       "3    0.000037    0.004561  7.131672e-07    0.000000    0.000000  1.256399e-06   \n",
       "4    0.000000    0.000000  0.000000e+00    0.000000    0.000000  6.585136e-04   \n",
       "5    0.000000    0.000000  0.000000e+00    0.000154    0.983625  8.035206e-03   \n",
       "6    0.000000    0.517342  2.713586e-01    0.000000    0.000000  1.334030e-07   \n",
       "\n",
       "   True_value    True_value  True_value  True_value  ...  True_value  \\\n",
       "0    0.000000  0.000000e+00    0.000000         0.0  ...         0.0   \n",
       "1    0.000000  0.000000e+00    0.000000         0.0  ...         0.0   \n",
       "2    0.000000  7.242216e-01    0.272918         0.0  ...         0.0   \n",
       "3    0.000154  2.405033e-08    0.000000         0.0  ...         0.0   \n",
       "4    0.974312  2.459335e-03    0.000000         0.0  ...         0.0   \n",
       "5    0.000000  0.000000e+00    0.000000         0.0  ...         0.0   \n",
       "6    0.242338  3.136316e-02    0.000000         0.0  ...         0.0   \n",
       "\n",
       "   True_value  True_value  True_value  True_value  True_value  True_value  \\\n",
       "0         0.0    0.000000    0.000000         0.0         0.0         0.0   \n",
       "1         0.0    0.000000    0.000000         0.0         0.0         0.0   \n",
       "2         0.0    0.000000    0.000000         0.0         0.0         0.0   \n",
       "3         0.0    0.000000    0.000000         0.0         0.0         0.0   \n",
       "4         0.0    0.158682    0.115037         0.0         0.0         0.0   \n",
       "5         0.0    0.000000    0.000000         0.0         0.0         0.0   \n",
       "6         0.0    0.000000    0.000000         0.0         0.0         0.0   \n",
       "\n",
       "   True_value  True_value  True_value  \n",
       "0         0.0         0.0         0.0  \n",
       "1         0.0         0.0         0.0  \n",
       "2         0.0         0.0         0.0  \n",
       "3         0.0         0.0         0.0  \n",
       "4         0.0         0.0         0.0  \n",
       "5         0.0         0.0         0.0  \n",
       "6         0.0         0.0         0.0  \n",
       "\n",
       "[7 rows x 910 columns]"
      ]
     },
     "execution_count": 23,
     "metadata": {},
     "output_type": "execute_result"
    }
   ],
   "source": [
    "exp_true"
   ]
  },
  {
   "cell_type": "code",
   "execution_count": 24,
   "id": "fbc09b78-d34e-434e-8232-ee3be25766e9",
   "metadata": {},
   "outputs": [],
   "source": [
    "# sum the true values - since the sub images are not overlapping, we can get the sum across columns in the above dataframe\n",
    "sum_true_values = exp_true.sum(axis = 1)"
   ]
  },
  {
   "cell_type": "code",
   "execution_count": 25,
   "id": "6057a433-4dfb-4804-bbac-ea3dacce11e6",
   "metadata": {},
   "outputs": [
    {
     "data": {
      "text/plain": [
       "0    49.000000\n",
       "1    49.000005\n",
       "2    53.999570\n",
       "3    50.042349\n",
       "4    43.000009\n",
       "5    48.000573\n",
       "6    36.999999\n",
       "dtype: float64"
      ]
     },
     "execution_count": 25,
     "metadata": {},
     "output_type": "execute_result"
    }
   ],
   "source": [
    "sum_true_values"
   ]
  },
  {
   "cell_type": "code",
   "execution_count": 26,
   "id": "2fc2ac3e-59e7-4f27-91ab-31d30b4eeaa7",
   "metadata": {},
   "outputs": [],
   "source": [
    "# get the forecasted values\n",
    "Forecasted_values_df = combined_df[['Forecasted_value']]"
   ]
  },
  {
   "cell_type": "code",
   "execution_count": 27,
   "id": "4d4182a4-7ede-4ffc-b952-08aa47d424d0",
   "metadata": {},
   "outputs": [
    {
     "data": {
      "text/html": [
       "<div>\n",
       "<style scoped>\n",
       "    .dataframe tbody tr th:only-of-type {\n",
       "        vertical-align: middle;\n",
       "    }\n",
       "\n",
       "    .dataframe tbody tr th {\n",
       "        vertical-align: top;\n",
       "    }\n",
       "\n",
       "    .dataframe thead th {\n",
       "        text-align: right;\n",
       "    }\n",
       "</style>\n",
       "<table border=\"1\" class=\"dataframe\">\n",
       "  <thead>\n",
       "    <tr style=\"text-align: right;\">\n",
       "      <th></th>\n",
       "      <th>Forecasted_value</th>\n",
       "      <th>Forecasted_value</th>\n",
       "      <th>Forecasted_value</th>\n",
       "      <th>Forecasted_value</th>\n",
       "      <th>Forecasted_value</th>\n",
       "      <th>Forecasted_value</th>\n",
       "      <th>Forecasted_value</th>\n",
       "      <th>Forecasted_value</th>\n",
       "      <th>Forecasted_value</th>\n",
       "      <th>Forecasted_value</th>\n",
       "      <th>...</th>\n",
       "      <th>Forecasted_value</th>\n",
       "      <th>Forecasted_value</th>\n",
       "      <th>Forecasted_value</th>\n",
       "      <th>Forecasted_value</th>\n",
       "      <th>Forecasted_value</th>\n",
       "      <th>Forecasted_value</th>\n",
       "      <th>Forecasted_value</th>\n",
       "      <th>Forecasted_value</th>\n",
       "      <th>Forecasted_value</th>\n",
       "      <th>Forecasted_value</th>\n",
       "    </tr>\n",
       "  </thead>\n",
       "  <tbody>\n",
       "    <tr>\n",
       "      <th>0</th>\n",
       "      <td>-0.000743</td>\n",
       "      <td>-0.020988</td>\n",
       "      <td>-0.010714</td>\n",
       "      <td>-0.046937</td>\n",
       "      <td>-0.014023</td>\n",
       "      <td>-0.010371</td>\n",
       "      <td>0.021375</td>\n",
       "      <td>-0.056530</td>\n",
       "      <td>0.003908</td>\n",
       "      <td>-0.012848</td>\n",
       "      <td>...</td>\n",
       "      <td>-0.018903</td>\n",
       "      <td>0.002156</td>\n",
       "      <td>0.008877</td>\n",
       "      <td>-0.004529</td>\n",
       "      <td>0.001139</td>\n",
       "      <td>-0.006209</td>\n",
       "      <td>-0.017756</td>\n",
       "      <td>-0.000955</td>\n",
       "      <td>-0.001040</td>\n",
       "      <td>-0.012862</td>\n",
       "    </tr>\n",
       "    <tr>\n",
       "      <th>1</th>\n",
       "      <td>-0.002672</td>\n",
       "      <td>-0.007768</td>\n",
       "      <td>0.001656</td>\n",
       "      <td>-0.027640</td>\n",
       "      <td>0.002394</td>\n",
       "      <td>0.029980</td>\n",
       "      <td>0.021904</td>\n",
       "      <td>-0.011438</td>\n",
       "      <td>0.000557</td>\n",
       "      <td>-0.014806</td>\n",
       "      <td>...</td>\n",
       "      <td>-0.015544</td>\n",
       "      <td>-0.000109</td>\n",
       "      <td>-0.004285</td>\n",
       "      <td>0.006179</td>\n",
       "      <td>-0.005835</td>\n",
       "      <td>-0.006582</td>\n",
       "      <td>-0.009468</td>\n",
       "      <td>0.000990</td>\n",
       "      <td>-0.000224</td>\n",
       "      <td>-0.004894</td>\n",
       "    </tr>\n",
       "    <tr>\n",
       "      <th>2</th>\n",
       "      <td>-0.013115</td>\n",
       "      <td>-0.020896</td>\n",
       "      <td>-0.001077</td>\n",
       "      <td>-0.003916</td>\n",
       "      <td>0.006938</td>\n",
       "      <td>0.020933</td>\n",
       "      <td>0.027174</td>\n",
       "      <td>0.019915</td>\n",
       "      <td>-0.012129</td>\n",
       "      <td>-0.018094</td>\n",
       "      <td>...</td>\n",
       "      <td>0.014188</td>\n",
       "      <td>-0.002233</td>\n",
       "      <td>-0.014711</td>\n",
       "      <td>0.009159</td>\n",
       "      <td>-0.015878</td>\n",
       "      <td>-0.006630</td>\n",
       "      <td>-0.009099</td>\n",
       "      <td>0.007784</td>\n",
       "      <td>-0.003651</td>\n",
       "      <td>-0.009942</td>\n",
       "    </tr>\n",
       "    <tr>\n",
       "      <th>3</th>\n",
       "      <td>0.010149</td>\n",
       "      <td>-0.005909</td>\n",
       "      <td>0.001015</td>\n",
       "      <td>0.044046</td>\n",
       "      <td>-0.000500</td>\n",
       "      <td>0.021965</td>\n",
       "      <td>0.023204</td>\n",
       "      <td>-0.054127</td>\n",
       "      <td>0.001707</td>\n",
       "      <td>-0.001477</td>\n",
       "      <td>...</td>\n",
       "      <td>-0.002397</td>\n",
       "      <td>0.002304</td>\n",
       "      <td>-0.005911</td>\n",
       "      <td>0.011309</td>\n",
       "      <td>-0.011258</td>\n",
       "      <td>-0.002029</td>\n",
       "      <td>-0.004404</td>\n",
       "      <td>-0.000254</td>\n",
       "      <td>0.000620</td>\n",
       "      <td>0.017581</td>\n",
       "    </tr>\n",
       "    <tr>\n",
       "      <th>4</th>\n",
       "      <td>-0.006569</td>\n",
       "      <td>-0.000037</td>\n",
       "      <td>-0.000649</td>\n",
       "      <td>0.006580</td>\n",
       "      <td>0.004788</td>\n",
       "      <td>0.002515</td>\n",
       "      <td>0.019032</td>\n",
       "      <td>-0.069187</td>\n",
       "      <td>0.008714</td>\n",
       "      <td>-0.007345</td>\n",
       "      <td>...</td>\n",
       "      <td>0.007261</td>\n",
       "      <td>0.012945</td>\n",
       "      <td>-0.003221</td>\n",
       "      <td>0.024536</td>\n",
       "      <td>0.000073</td>\n",
       "      <td>-0.000980</td>\n",
       "      <td>-0.003171</td>\n",
       "      <td>0.005738</td>\n",
       "      <td>0.001279</td>\n",
       "      <td>0.016728</td>\n",
       "    </tr>\n",
       "  </tbody>\n",
       "</table>\n",
       "<p>5 rows × 910 columns</p>\n",
       "</div>"
      ],
      "text/plain": [
       "   Forecasted_value  Forecasted_value  Forecasted_value  Forecasted_value  \\\n",
       "0         -0.000743         -0.020988         -0.010714         -0.046937   \n",
       "1         -0.002672         -0.007768          0.001656         -0.027640   \n",
       "2         -0.013115         -0.020896         -0.001077         -0.003916   \n",
       "3          0.010149         -0.005909          0.001015          0.044046   \n",
       "4         -0.006569         -0.000037         -0.000649          0.006580   \n",
       "\n",
       "   Forecasted_value  Forecasted_value  Forecasted_value  Forecasted_value  \\\n",
       "0         -0.014023         -0.010371          0.021375         -0.056530   \n",
       "1          0.002394          0.029980          0.021904         -0.011438   \n",
       "2          0.006938          0.020933          0.027174          0.019915   \n",
       "3         -0.000500          0.021965          0.023204         -0.054127   \n",
       "4          0.004788          0.002515          0.019032         -0.069187   \n",
       "\n",
       "   Forecasted_value  Forecasted_value  ...  Forecasted_value  \\\n",
       "0          0.003908         -0.012848  ...         -0.018903   \n",
       "1          0.000557         -0.014806  ...         -0.015544   \n",
       "2         -0.012129         -0.018094  ...          0.014188   \n",
       "3          0.001707         -0.001477  ...         -0.002397   \n",
       "4          0.008714         -0.007345  ...          0.007261   \n",
       "\n",
       "   Forecasted_value  Forecasted_value  Forecasted_value  Forecasted_value  \\\n",
       "0          0.002156          0.008877         -0.004529          0.001139   \n",
       "1         -0.000109         -0.004285          0.006179         -0.005835   \n",
       "2         -0.002233         -0.014711          0.009159         -0.015878   \n",
       "3          0.002304         -0.005911          0.011309         -0.011258   \n",
       "4          0.012945         -0.003221          0.024536          0.000073   \n",
       "\n",
       "   Forecasted_value  Forecasted_value  Forecasted_value  Forecasted_value  \\\n",
       "0         -0.006209         -0.017756         -0.000955         -0.001040   \n",
       "1         -0.006582         -0.009468          0.000990         -0.000224   \n",
       "2         -0.006630         -0.009099          0.007784         -0.003651   \n",
       "3         -0.002029         -0.004404         -0.000254          0.000620   \n",
       "4         -0.000980         -0.003171          0.005738          0.001279   \n",
       "\n",
       "   Forecasted_value  \n",
       "0         -0.012862  \n",
       "1         -0.004894  \n",
       "2         -0.009942  \n",
       "3          0.017581  \n",
       "4          0.016728  \n",
       "\n",
       "[5 rows x 910 columns]"
      ]
     },
     "execution_count": 27,
     "metadata": {},
     "output_type": "execute_result"
    }
   ],
   "source": [
    "Forecasted_values_df.head()"
   ]
  },
  {
   "cell_type": "code",
   "execution_count": 28,
   "id": "c4e2130b-9b6b-40b7-9efe-4cd6cd30c107",
   "metadata": {},
   "outputs": [],
   "source": [
    "exp_forecasted = np.exp(Forecasted_values_df)-1"
   ]
  },
  {
   "cell_type": "code",
   "execution_count": 29,
   "id": "60cd0006-0367-436e-b3c8-282e12e01146",
   "metadata": {},
   "outputs": [
    {
     "data": {
      "text/html": [
       "<div>\n",
       "<style scoped>\n",
       "    .dataframe tbody tr th:only-of-type {\n",
       "        vertical-align: middle;\n",
       "    }\n",
       "\n",
       "    .dataframe tbody tr th {\n",
       "        vertical-align: top;\n",
       "    }\n",
       "\n",
       "    .dataframe thead th {\n",
       "        text-align: right;\n",
       "    }\n",
       "</style>\n",
       "<table border=\"1\" class=\"dataframe\">\n",
       "  <thead>\n",
       "    <tr style=\"text-align: right;\">\n",
       "      <th></th>\n",
       "      <th>Forecasted_value</th>\n",
       "      <th>Forecasted_value</th>\n",
       "      <th>Forecasted_value</th>\n",
       "      <th>Forecasted_value</th>\n",
       "      <th>Forecasted_value</th>\n",
       "      <th>Forecasted_value</th>\n",
       "      <th>Forecasted_value</th>\n",
       "      <th>Forecasted_value</th>\n",
       "      <th>Forecasted_value</th>\n",
       "      <th>Forecasted_value</th>\n",
       "      <th>...</th>\n",
       "      <th>Forecasted_value</th>\n",
       "      <th>Forecasted_value</th>\n",
       "      <th>Forecasted_value</th>\n",
       "      <th>Forecasted_value</th>\n",
       "      <th>Forecasted_value</th>\n",
       "      <th>Forecasted_value</th>\n",
       "      <th>Forecasted_value</th>\n",
       "      <th>Forecasted_value</th>\n",
       "      <th>Forecasted_value</th>\n",
       "      <th>Forecasted_value</th>\n",
       "    </tr>\n",
       "  </thead>\n",
       "  <tbody>\n",
       "    <tr>\n",
       "      <th>0</th>\n",
       "      <td>-0.000743</td>\n",
       "      <td>-0.020769</td>\n",
       "      <td>-0.010657</td>\n",
       "      <td>-0.045852</td>\n",
       "      <td>-0.013926</td>\n",
       "      <td>-0.010317</td>\n",
       "      <td>0.021605</td>\n",
       "      <td>-0.054962</td>\n",
       "      <td>0.003916</td>\n",
       "      <td>-0.012766</td>\n",
       "      <td>...</td>\n",
       "      <td>-0.018725</td>\n",
       "      <td>0.002158</td>\n",
       "      <td>0.008916</td>\n",
       "      <td>-0.004519</td>\n",
       "      <td>0.001139</td>\n",
       "      <td>-0.006190</td>\n",
       "      <td>-0.017599</td>\n",
       "      <td>-0.000954</td>\n",
       "      <td>-0.001040</td>\n",
       "      <td>-0.012780</td>\n",
       "    </tr>\n",
       "    <tr>\n",
       "      <th>1</th>\n",
       "      <td>-0.002669</td>\n",
       "      <td>-0.007738</td>\n",
       "      <td>0.001657</td>\n",
       "      <td>-0.027262</td>\n",
       "      <td>0.002397</td>\n",
       "      <td>0.030434</td>\n",
       "      <td>0.022145</td>\n",
       "      <td>-0.011373</td>\n",
       "      <td>0.000557</td>\n",
       "      <td>-0.014697</td>\n",
       "      <td>...</td>\n",
       "      <td>-0.015424</td>\n",
       "      <td>-0.000109</td>\n",
       "      <td>-0.004276</td>\n",
       "      <td>0.006198</td>\n",
       "      <td>-0.005818</td>\n",
       "      <td>-0.006561</td>\n",
       "      <td>-0.009423</td>\n",
       "      <td>0.000990</td>\n",
       "      <td>-0.000224</td>\n",
       "      <td>-0.004882</td>\n",
       "    </tr>\n",
       "    <tr>\n",
       "      <th>2</th>\n",
       "      <td>-0.013029</td>\n",
       "      <td>-0.020679</td>\n",
       "      <td>-0.001076</td>\n",
       "      <td>-0.003908</td>\n",
       "      <td>0.006962</td>\n",
       "      <td>0.021154</td>\n",
       "      <td>0.027547</td>\n",
       "      <td>0.020115</td>\n",
       "      <td>-0.012056</td>\n",
       "      <td>-0.017931</td>\n",
       "      <td>...</td>\n",
       "      <td>0.014289</td>\n",
       "      <td>-0.002230</td>\n",
       "      <td>-0.014603</td>\n",
       "      <td>0.009201</td>\n",
       "      <td>-0.015753</td>\n",
       "      <td>-0.006608</td>\n",
       "      <td>-0.009058</td>\n",
       "      <td>0.007815</td>\n",
       "      <td>-0.003644</td>\n",
       "      <td>-0.009893</td>\n",
       "    </tr>\n",
       "    <tr>\n",
       "      <th>3</th>\n",
       "      <td>0.010201</td>\n",
       "      <td>-0.005892</td>\n",
       "      <td>0.001015</td>\n",
       "      <td>0.045030</td>\n",
       "      <td>-0.000500</td>\n",
       "      <td>0.022208</td>\n",
       "      <td>0.023475</td>\n",
       "      <td>-0.052688</td>\n",
       "      <td>0.001709</td>\n",
       "      <td>-0.001476</td>\n",
       "      <td>...</td>\n",
       "      <td>-0.002394</td>\n",
       "      <td>0.002307</td>\n",
       "      <td>-0.005893</td>\n",
       "      <td>0.011373</td>\n",
       "      <td>-0.011195</td>\n",
       "      <td>-0.002027</td>\n",
       "      <td>-0.004395</td>\n",
       "      <td>-0.000254</td>\n",
       "      <td>0.000620</td>\n",
       "      <td>0.017736</td>\n",
       "    </tr>\n",
       "    <tr>\n",
       "      <th>4</th>\n",
       "      <td>-0.006547</td>\n",
       "      <td>-0.000037</td>\n",
       "      <td>-0.000649</td>\n",
       "      <td>0.006601</td>\n",
       "      <td>0.004799</td>\n",
       "      <td>0.002518</td>\n",
       "      <td>0.019215</td>\n",
       "      <td>-0.066848</td>\n",
       "      <td>0.008752</td>\n",
       "      <td>-0.007318</td>\n",
       "      <td>...</td>\n",
       "      <td>0.007288</td>\n",
       "      <td>0.013029</td>\n",
       "      <td>-0.003216</td>\n",
       "      <td>0.024840</td>\n",
       "      <td>0.000073</td>\n",
       "      <td>-0.000980</td>\n",
       "      <td>-0.003166</td>\n",
       "      <td>0.005754</td>\n",
       "      <td>0.001280</td>\n",
       "      <td>0.016868</td>\n",
       "    </tr>\n",
       "    <tr>\n",
       "      <th>5</th>\n",
       "      <td>-0.004140</td>\n",
       "      <td>0.005267</td>\n",
       "      <td>0.000670</td>\n",
       "      <td>0.034124</td>\n",
       "      <td>0.005356</td>\n",
       "      <td>0.019003</td>\n",
       "      <td>0.029035</td>\n",
       "      <td>-0.017686</td>\n",
       "      <td>0.011691</td>\n",
       "      <td>-0.003433</td>\n",
       "      <td>...</td>\n",
       "      <td>-0.007571</td>\n",
       "      <td>0.011623</td>\n",
       "      <td>-0.005726</td>\n",
       "      <td>0.016356</td>\n",
       "      <td>0.004472</td>\n",
       "      <td>0.004557</td>\n",
       "      <td>-0.000342</td>\n",
       "      <td>-0.002185</td>\n",
       "      <td>0.002689</td>\n",
       "      <td>0.019865</td>\n",
       "    </tr>\n",
       "    <tr>\n",
       "      <th>6</th>\n",
       "      <td>-0.002969</td>\n",
       "      <td>-0.004261</td>\n",
       "      <td>-0.001436</td>\n",
       "      <td>0.009645</td>\n",
       "      <td>0.002943</td>\n",
       "      <td>0.024542</td>\n",
       "      <td>0.021784</td>\n",
       "      <td>-0.011603</td>\n",
       "      <td>0.011838</td>\n",
       "      <td>-0.005224</td>\n",
       "      <td>...</td>\n",
       "      <td>0.004560</td>\n",
       "      <td>0.008944</td>\n",
       "      <td>-0.005206</td>\n",
       "      <td>0.011480</td>\n",
       "      <td>-0.002185</td>\n",
       "      <td>0.001900</td>\n",
       "      <td>-0.000474</td>\n",
       "      <td>0.002252</td>\n",
       "      <td>-0.000347</td>\n",
       "      <td>0.008832</td>\n",
       "    </tr>\n",
       "  </tbody>\n",
       "</table>\n",
       "<p>7 rows × 910 columns</p>\n",
       "</div>"
      ],
      "text/plain": [
       "   Forecasted_value  Forecasted_value  Forecasted_value  Forecasted_value  \\\n",
       "0         -0.000743         -0.020769         -0.010657         -0.045852   \n",
       "1         -0.002669         -0.007738          0.001657         -0.027262   \n",
       "2         -0.013029         -0.020679         -0.001076         -0.003908   \n",
       "3          0.010201         -0.005892          0.001015          0.045030   \n",
       "4         -0.006547         -0.000037         -0.000649          0.006601   \n",
       "5         -0.004140          0.005267          0.000670          0.034124   \n",
       "6         -0.002969         -0.004261         -0.001436          0.009645   \n",
       "\n",
       "   Forecasted_value  Forecasted_value  Forecasted_value  Forecasted_value  \\\n",
       "0         -0.013926         -0.010317          0.021605         -0.054962   \n",
       "1          0.002397          0.030434          0.022145         -0.011373   \n",
       "2          0.006962          0.021154          0.027547          0.020115   \n",
       "3         -0.000500          0.022208          0.023475         -0.052688   \n",
       "4          0.004799          0.002518          0.019215         -0.066848   \n",
       "5          0.005356          0.019003          0.029035         -0.017686   \n",
       "6          0.002943          0.024542          0.021784         -0.011603   \n",
       "\n",
       "   Forecasted_value  Forecasted_value  ...  Forecasted_value  \\\n",
       "0          0.003916         -0.012766  ...         -0.018725   \n",
       "1          0.000557         -0.014697  ...         -0.015424   \n",
       "2         -0.012056         -0.017931  ...          0.014289   \n",
       "3          0.001709         -0.001476  ...         -0.002394   \n",
       "4          0.008752         -0.007318  ...          0.007288   \n",
       "5          0.011691         -0.003433  ...         -0.007571   \n",
       "6          0.011838         -0.005224  ...          0.004560   \n",
       "\n",
       "   Forecasted_value  Forecasted_value  Forecasted_value  Forecasted_value  \\\n",
       "0          0.002158          0.008916         -0.004519          0.001139   \n",
       "1         -0.000109         -0.004276          0.006198         -0.005818   \n",
       "2         -0.002230         -0.014603          0.009201         -0.015753   \n",
       "3          0.002307         -0.005893          0.011373         -0.011195   \n",
       "4          0.013029         -0.003216          0.024840          0.000073   \n",
       "5          0.011623         -0.005726          0.016356          0.004472   \n",
       "6          0.008944         -0.005206          0.011480         -0.002185   \n",
       "\n",
       "   Forecasted_value  Forecasted_value  Forecasted_value  Forecasted_value  \\\n",
       "0         -0.006190         -0.017599         -0.000954         -0.001040   \n",
       "1         -0.006561         -0.009423          0.000990         -0.000224   \n",
       "2         -0.006608         -0.009058          0.007815         -0.003644   \n",
       "3         -0.002027         -0.004395         -0.000254          0.000620   \n",
       "4         -0.000980         -0.003166          0.005754          0.001280   \n",
       "5          0.004557         -0.000342         -0.002185          0.002689   \n",
       "6          0.001900         -0.000474          0.002252         -0.000347   \n",
       "\n",
       "   Forecasted_value  \n",
       "0         -0.012780  \n",
       "1         -0.004882  \n",
       "2         -0.009893  \n",
       "3          0.017736  \n",
       "4          0.016868  \n",
       "5          0.019865  \n",
       "6          0.008832  \n",
       "\n",
       "[7 rows x 910 columns]"
      ]
     },
     "execution_count": 29,
     "metadata": {},
     "output_type": "execute_result"
    }
   ],
   "source": [
    "exp_forecasted"
   ]
  },
  {
   "cell_type": "code",
   "execution_count": 30,
   "id": "cdc66bd6-b552-4dcd-9703-e07b035fb736",
   "metadata": {},
   "outputs": [],
   "source": [
    "# set the values to 0 if the forecasted count is negative?"
   ]
  },
  {
   "cell_type": "code",
   "execution_count": 31,
   "id": "56eddb77-a48e-409d-9684-10bb31132568",
   "metadata": {},
   "outputs": [],
   "source": [
    "exp_forecasted[exp_forecasted < 0] = 0"
   ]
  },
  {
   "cell_type": "code",
   "execution_count": 32,
   "id": "c96eedde-fcfa-4f54-b8cb-d5f5cb3d6493",
   "metadata": {},
   "outputs": [
    {
     "data": {
      "text/html": [
       "<div>\n",
       "<style scoped>\n",
       "    .dataframe tbody tr th:only-of-type {\n",
       "        vertical-align: middle;\n",
       "    }\n",
       "\n",
       "    .dataframe tbody tr th {\n",
       "        vertical-align: top;\n",
       "    }\n",
       "\n",
       "    .dataframe thead th {\n",
       "        text-align: right;\n",
       "    }\n",
       "</style>\n",
       "<table border=\"1\" class=\"dataframe\">\n",
       "  <thead>\n",
       "    <tr style=\"text-align: right;\">\n",
       "      <th></th>\n",
       "      <th>Forecasted_value</th>\n",
       "      <th>Forecasted_value</th>\n",
       "      <th>Forecasted_value</th>\n",
       "      <th>Forecasted_value</th>\n",
       "      <th>Forecasted_value</th>\n",
       "      <th>Forecasted_value</th>\n",
       "      <th>Forecasted_value</th>\n",
       "      <th>Forecasted_value</th>\n",
       "      <th>Forecasted_value</th>\n",
       "      <th>Forecasted_value</th>\n",
       "      <th>...</th>\n",
       "      <th>Forecasted_value</th>\n",
       "      <th>Forecasted_value</th>\n",
       "      <th>Forecasted_value</th>\n",
       "      <th>Forecasted_value</th>\n",
       "      <th>Forecasted_value</th>\n",
       "      <th>Forecasted_value</th>\n",
       "      <th>Forecasted_value</th>\n",
       "      <th>Forecasted_value</th>\n",
       "      <th>Forecasted_value</th>\n",
       "      <th>Forecasted_value</th>\n",
       "    </tr>\n",
       "  </thead>\n",
       "  <tbody>\n",
       "    <tr>\n",
       "      <th>0</th>\n",
       "      <td>0.000000</td>\n",
       "      <td>0.0</td>\n",
       "      <td>0.000000</td>\n",
       "      <td>0.000000</td>\n",
       "      <td>0.000000</td>\n",
       "      <td>0.000000</td>\n",
       "      <td>0.021605</td>\n",
       "      <td>0.000000</td>\n",
       "      <td>0.003916</td>\n",
       "      <td>0.0</td>\n",
       "      <td>...</td>\n",
       "      <td>0.000000</td>\n",
       "      <td>0.002158</td>\n",
       "      <td>0.008916</td>\n",
       "      <td>0.000000</td>\n",
       "      <td>0.001139</td>\n",
       "      <td>0.0</td>\n",
       "      <td>0.0</td>\n",
       "      <td>0.000000</td>\n",
       "      <td>0.00000</td>\n",
       "      <td>0.000000</td>\n",
       "    </tr>\n",
       "    <tr>\n",
       "      <th>1</th>\n",
       "      <td>0.000000</td>\n",
       "      <td>0.0</td>\n",
       "      <td>0.001657</td>\n",
       "      <td>0.000000</td>\n",
       "      <td>0.002397</td>\n",
       "      <td>0.030434</td>\n",
       "      <td>0.022145</td>\n",
       "      <td>0.000000</td>\n",
       "      <td>0.000557</td>\n",
       "      <td>0.0</td>\n",
       "      <td>...</td>\n",
       "      <td>0.000000</td>\n",
       "      <td>0.000000</td>\n",
       "      <td>0.000000</td>\n",
       "      <td>0.006198</td>\n",
       "      <td>0.000000</td>\n",
       "      <td>0.0</td>\n",
       "      <td>0.0</td>\n",
       "      <td>0.000990</td>\n",
       "      <td>0.00000</td>\n",
       "      <td>0.000000</td>\n",
       "    </tr>\n",
       "    <tr>\n",
       "      <th>2</th>\n",
       "      <td>0.000000</td>\n",
       "      <td>0.0</td>\n",
       "      <td>0.000000</td>\n",
       "      <td>0.000000</td>\n",
       "      <td>0.006962</td>\n",
       "      <td>0.021154</td>\n",
       "      <td>0.027547</td>\n",
       "      <td>0.020115</td>\n",
       "      <td>0.000000</td>\n",
       "      <td>0.0</td>\n",
       "      <td>...</td>\n",
       "      <td>0.014289</td>\n",
       "      <td>0.000000</td>\n",
       "      <td>0.000000</td>\n",
       "      <td>0.009201</td>\n",
       "      <td>0.000000</td>\n",
       "      <td>0.0</td>\n",
       "      <td>0.0</td>\n",
       "      <td>0.007815</td>\n",
       "      <td>0.00000</td>\n",
       "      <td>0.000000</td>\n",
       "    </tr>\n",
       "    <tr>\n",
       "      <th>3</th>\n",
       "      <td>0.010201</td>\n",
       "      <td>0.0</td>\n",
       "      <td>0.001015</td>\n",
       "      <td>0.045030</td>\n",
       "      <td>0.000000</td>\n",
       "      <td>0.022208</td>\n",
       "      <td>0.023475</td>\n",
       "      <td>0.000000</td>\n",
       "      <td>0.001709</td>\n",
       "      <td>0.0</td>\n",
       "      <td>...</td>\n",
       "      <td>0.000000</td>\n",
       "      <td>0.002307</td>\n",
       "      <td>0.000000</td>\n",
       "      <td>0.011373</td>\n",
       "      <td>0.000000</td>\n",
       "      <td>0.0</td>\n",
       "      <td>0.0</td>\n",
       "      <td>0.000000</td>\n",
       "      <td>0.00062</td>\n",
       "      <td>0.017736</td>\n",
       "    </tr>\n",
       "    <tr>\n",
       "      <th>4</th>\n",
       "      <td>0.000000</td>\n",
       "      <td>0.0</td>\n",
       "      <td>0.000000</td>\n",
       "      <td>0.006601</td>\n",
       "      <td>0.004799</td>\n",
       "      <td>0.002518</td>\n",
       "      <td>0.019215</td>\n",
       "      <td>0.000000</td>\n",
       "      <td>0.008752</td>\n",
       "      <td>0.0</td>\n",
       "      <td>...</td>\n",
       "      <td>0.007288</td>\n",
       "      <td>0.013029</td>\n",
       "      <td>0.000000</td>\n",
       "      <td>0.024840</td>\n",
       "      <td>0.000073</td>\n",
       "      <td>0.0</td>\n",
       "      <td>0.0</td>\n",
       "      <td>0.005754</td>\n",
       "      <td>0.00128</td>\n",
       "      <td>0.016868</td>\n",
       "    </tr>\n",
       "  </tbody>\n",
       "</table>\n",
       "<p>5 rows × 910 columns</p>\n",
       "</div>"
      ],
      "text/plain": [
       "   Forecasted_value  Forecasted_value  Forecasted_value  Forecasted_value  \\\n",
       "0          0.000000               0.0          0.000000          0.000000   \n",
       "1          0.000000               0.0          0.001657          0.000000   \n",
       "2          0.000000               0.0          0.000000          0.000000   \n",
       "3          0.010201               0.0          0.001015          0.045030   \n",
       "4          0.000000               0.0          0.000000          0.006601   \n",
       "\n",
       "   Forecasted_value  Forecasted_value  Forecasted_value  Forecasted_value  \\\n",
       "0          0.000000          0.000000          0.021605          0.000000   \n",
       "1          0.002397          0.030434          0.022145          0.000000   \n",
       "2          0.006962          0.021154          0.027547          0.020115   \n",
       "3          0.000000          0.022208          0.023475          0.000000   \n",
       "4          0.004799          0.002518          0.019215          0.000000   \n",
       "\n",
       "   Forecasted_value  Forecasted_value  ...  Forecasted_value  \\\n",
       "0          0.003916               0.0  ...          0.000000   \n",
       "1          0.000557               0.0  ...          0.000000   \n",
       "2          0.000000               0.0  ...          0.014289   \n",
       "3          0.001709               0.0  ...          0.000000   \n",
       "4          0.008752               0.0  ...          0.007288   \n",
       "\n",
       "   Forecasted_value  Forecasted_value  Forecasted_value  Forecasted_value  \\\n",
       "0          0.002158          0.008916          0.000000          0.001139   \n",
       "1          0.000000          0.000000          0.006198          0.000000   \n",
       "2          0.000000          0.000000          0.009201          0.000000   \n",
       "3          0.002307          0.000000          0.011373          0.000000   \n",
       "4          0.013029          0.000000          0.024840          0.000073   \n",
       "\n",
       "   Forecasted_value  Forecasted_value  Forecasted_value  Forecasted_value  \\\n",
       "0               0.0               0.0          0.000000           0.00000   \n",
       "1               0.0               0.0          0.000990           0.00000   \n",
       "2               0.0               0.0          0.007815           0.00000   \n",
       "3               0.0               0.0          0.000000           0.00062   \n",
       "4               0.0               0.0          0.005754           0.00128   \n",
       "\n",
       "   Forecasted_value  \n",
       "0          0.000000  \n",
       "1          0.000000  \n",
       "2          0.000000  \n",
       "3          0.017736  \n",
       "4          0.016868  \n",
       "\n",
       "[5 rows x 910 columns]"
      ]
     },
     "execution_count": 32,
     "metadata": {},
     "output_type": "execute_result"
    }
   ],
   "source": [
    "exp_forecasted.head()"
   ]
  },
  {
   "cell_type": "code",
   "execution_count": 33,
   "id": "92bcf82f-ca31-4b25-a919-c8d51d72cfa7",
   "metadata": {},
   "outputs": [],
   "source": [
    "sum_forecasted_values = exp_forecasted.sum(axis = 1)"
   ]
  },
  {
   "cell_type": "code",
   "execution_count": 34,
   "id": "7f0e1119-a3bd-4a52-ae36-afa2c2070e2b",
   "metadata": {},
   "outputs": [
    {
     "data": {
      "text/plain": [
       "0    33.462269\n",
       "1    31.847290\n",
       "2    33.991401\n",
       "3    39.471257\n",
       "4    35.185851\n",
       "5    37.521974\n",
       "6    41.741769\n",
       "dtype: float64"
      ]
     },
     "execution_count": 34,
     "metadata": {},
     "output_type": "execute_result"
    }
   ],
   "source": [
    "sum_forecasted_values"
   ]
  },
  {
   "cell_type": "code",
   "execution_count": 35,
   "id": "cbc06a7e-2dca-400d-9cea-d063c33a4442",
   "metadata": {},
   "outputs": [],
   "source": [
    "# concatenate the sum dataframes\n",
    "block_0302_true_and_forecasted_values_df = pd.concat((sum_true_values, sum_forecasted_values), axis = 1)"
   ]
  },
  {
   "cell_type": "code",
   "execution_count": 36,
   "id": "f667f3a6-d7f7-4e7c-a037-1e9541dd38bd",
   "metadata": {},
   "outputs": [],
   "source": [
    "block_0302_true_and_forecasted_values_df.columns = [\"True_count\", \"Forecasted_count\"]"
   ]
  },
  {
   "cell_type": "code",
   "execution_count": 37,
   "id": "d27b93db-c9e2-49ff-9003-9e4925de3179",
   "metadata": {},
   "outputs": [
    {
     "data": {
      "text/html": [
       "<div>\n",
       "<style scoped>\n",
       "    .dataframe tbody tr th:only-of-type {\n",
       "        vertical-align: middle;\n",
       "    }\n",
       "\n",
       "    .dataframe tbody tr th {\n",
       "        vertical-align: top;\n",
       "    }\n",
       "\n",
       "    .dataframe thead th {\n",
       "        text-align: right;\n",
       "    }\n",
       "</style>\n",
       "<table border=\"1\" class=\"dataframe\">\n",
       "  <thead>\n",
       "    <tr style=\"text-align: right;\">\n",
       "      <th></th>\n",
       "      <th>True_count</th>\n",
       "      <th>Forecasted_count</th>\n",
       "    </tr>\n",
       "  </thead>\n",
       "  <tbody>\n",
       "    <tr>\n",
       "      <th>0</th>\n",
       "      <td>49.000000</td>\n",
       "      <td>33.462269</td>\n",
       "    </tr>\n",
       "    <tr>\n",
       "      <th>1</th>\n",
       "      <td>49.000005</td>\n",
       "      <td>31.847290</td>\n",
       "    </tr>\n",
       "    <tr>\n",
       "      <th>2</th>\n",
       "      <td>53.999570</td>\n",
       "      <td>33.991401</td>\n",
       "    </tr>\n",
       "    <tr>\n",
       "      <th>3</th>\n",
       "      <td>50.042349</td>\n",
       "      <td>39.471257</td>\n",
       "    </tr>\n",
       "    <tr>\n",
       "      <th>4</th>\n",
       "      <td>43.000009</td>\n",
       "      <td>35.185851</td>\n",
       "    </tr>\n",
       "    <tr>\n",
       "      <th>5</th>\n",
       "      <td>48.000573</td>\n",
       "      <td>37.521974</td>\n",
       "    </tr>\n",
       "    <tr>\n",
       "      <th>6</th>\n",
       "      <td>36.999999</td>\n",
       "      <td>41.741769</td>\n",
       "    </tr>\n",
       "  </tbody>\n",
       "</table>\n",
       "</div>"
      ],
      "text/plain": [
       "   True_count  Forecasted_count\n",
       "0   49.000000         33.462269\n",
       "1   49.000005         31.847290\n",
       "2   53.999570         33.991401\n",
       "3   50.042349         39.471257\n",
       "4   43.000009         35.185851\n",
       "5   48.000573         37.521974\n",
       "6   36.999999         41.741769"
      ]
     },
     "execution_count": 37,
     "metadata": {},
     "output_type": "execute_result"
    }
   ],
   "source": [
    "block_0302_true_and_forecasted_values_df"
   ]
  },
  {
   "cell_type": "code",
   "execution_count": 38,
   "id": "636d512d-f76b-48dc-90f1-872dc6a32736",
   "metadata": {},
   "outputs": [
    {
     "data": {
      "text/plain": [
       "13.315179292499193"
      ]
     },
     "execution_count": 38,
     "metadata": {},
     "output_type": "execute_result"
    }
   ],
   "source": [
    "# blockwise mean squared error\n",
    "rmse = np.sqrt(mean_squared_error(sum_true_values, sum_forecasted_values))\n",
    "rmse"
   ]
  },
  {
   "cell_type": "code",
   "execution_count": 39,
   "id": "df568443-7d02-4ba8-ad0e-5d83f2576c8b",
   "metadata": {},
   "outputs": [
    {
     "data": {
      "text/plain": [
       "12.329176252860625"
      ]
     },
     "execution_count": 39,
     "metadata": {},
     "output_type": "execute_result"
    }
   ],
   "source": [
    "# blockwise mean absolute error\n",
    "mae = mean_absolute_error(sum_true_values, sum_forecasted_values)\n",
    "mae"
   ]
  },
  {
   "cell_type": "code",
   "execution_count": 40,
   "id": "24d1568b-1b0d-41db-a60b-cd864b46d6e7",
   "metadata": {},
   "outputs": [
    {
     "data": {
      "text/plain": [
       "PearsonRResult(statistic=-0.5928015846753167, pvalue=0.16069732442736123)"
      ]
     },
     "execution_count": 40,
     "metadata": {},
     "output_type": "execute_result"
    }
   ],
   "source": [
    "corr = pearsonr(sum_true_values, sum_forecasted_values)\n",
    "corr"
   ]
  },
  {
   "cell_type": "code",
   "execution_count": 41,
   "id": "cf8101a2-be23-4216-afd7-f7783e56f62d",
   "metadata": {},
   "outputs": [
    {
     "data": {
      "text/plain": [
       "-5.778191917072211"
      ]
     },
     "execution_count": 41,
     "metadata": {},
     "output_type": "execute_result"
    }
   ],
   "source": [
    "r2 = r2_score(sum_true_values, sum_forecasted_values)\n",
    "r2"
   ]
  },
  {
   "cell_type": "markdown",
   "id": "fa460e4d-2fdc-45fb-8f50-6a50b0a6ef13",
   "metadata": {},
   "source": [
    "##### Coverages and widths for the forecasted values?"
   ]
  },
  {
   "cell_type": "code",
   "execution_count": 42,
   "id": "eae4e334-d06f-4950-b09e-ec34cb4f3eba",
   "metadata": {},
   "outputs": [],
   "source": [
    "# for this we need the all_forecasts npy files"
   ]
  },
  {
   "cell_type": "code",
   "execution_count": 43,
   "id": "1ec4f3fa-b7b0-4064-9007-4230b0e64f72",
   "metadata": {},
   "outputs": [],
   "source": [
    "# content location is the same path as above"
   ]
  },
  {
   "cell_type": "code",
   "execution_count": 44,
   "id": "febb8655-c529-4099-b22e-ee36918188d5",
   "metadata": {},
   "outputs": [],
   "source": [
    "all_forecasts_npy_files = ['all_forecasts_sub_' + str(i) + '.npy' for i in range(910)]"
   ]
  },
  {
   "cell_type": "code",
   "execution_count": 45,
   "id": "11eba5f0-5a18-4d7d-a743-d57bc9cf93a4",
   "metadata": {},
   "outputs": [],
   "source": [
    "# all_forecasts_npy_files"
   ]
  },
  {
   "cell_type": "code",
   "execution_count": 46,
   "id": "7711dd37-fd3c-4ac8-b8ae-b4be59dff7fa",
   "metadata": {},
   "outputs": [],
   "source": [
    "# load the npy files"
   ]
  },
  {
   "cell_type": "code",
   "execution_count": 47,
   "id": "57f059e1-25b1-4e6d-b370-9ca0236848ea",
   "metadata": {},
   "outputs": [
    {
     "name": "stdout",
     "output_type": "stream",
     "text": [
      "CPU times: user 258 ms, sys: 72 ms, total: 330 ms\n",
      "Wall time: 330 ms\n"
     ]
    }
   ],
   "source": [
    "%%time\n",
    "loaded_npy_files = []\n",
    "for file in all_forecasts_npy_files:\n",
    "    joined_path = os.path.join(path_to_dfs, file)\n",
    "    load_file = np.load(joined_path)\n",
    "    # notice we are averaging the preds across the chains before exponentiation\n",
    "    mean_file = np.exp(np.mean(load_file, axis = 1)) - 1\n",
    "    loaded_npy_files.append(mean_file)"
   ]
  },
  {
   "cell_type": "code",
   "execution_count": 48,
   "id": "78d4c420-8e99-4103-881e-297bc81f909d",
   "metadata": {},
   "outputs": [
    {
     "data": {
      "text/plain": [
       "910"
      ]
     },
     "execution_count": 48,
     "metadata": {},
     "output_type": "execute_result"
    }
   ],
   "source": [
    "len(loaded_npy_files)"
   ]
  },
  {
   "cell_type": "code",
   "execution_count": 49,
   "id": "3cc8627a-822a-4c8e-898a-52957870ccde",
   "metadata": {},
   "outputs": [
    {
     "data": {
      "text/plain": [
       "(1000, 7)"
      ]
     },
     "execution_count": 49,
     "metadata": {},
     "output_type": "execute_result"
    }
   ],
   "source": [
    "loaded_npy_files[0].shape"
   ]
  },
  {
   "cell_type": "code",
   "execution_count": 50,
   "id": "ab72ca92-e8f1-4ce3-9cea-117b673d4529",
   "metadata": {},
   "outputs": [
    {
     "data": {
      "text/plain": [
       "array([[-8.1004500e-03, -8.8012218e-04, -1.2693524e-02, ...,\n",
       "         5.3786039e-03,  4.5061111e-03, -8.9162588e-04],\n",
       "       [-5.4802895e-03, -2.7894974e-05, -1.2995839e-02, ...,\n",
       "         5.2417517e-03,  4.4951439e-03,  1.0129213e-03],\n",
       "       [-9.6057653e-03, -9.4151497e-04, -1.1393845e-02, ...,\n",
       "         4.7858953e-03,  6.2710047e-03,  3.1843185e-03],\n",
       "       ...,\n",
       "       [ 1.1366606e-03, -6.7901015e-03, -1.0333478e-02, ...,\n",
       "        -2.3850799e-03,  3.8940907e-03,  1.2013912e-03],\n",
       "       [ 3.2186508e-03, -2.9686689e-03, -9.4020367e-03, ...,\n",
       "        -3.2966137e-03,  3.6752224e-03,  5.0985813e-03],\n",
       "       [ 2.0232201e-03, -2.9109716e-03, -9.8110437e-03, ...,\n",
       "        -4.5120716e-03,  4.0155649e-03,  4.9725771e-03]], dtype=float32)"
      ]
     },
     "execution_count": 50,
     "metadata": {},
     "output_type": "execute_result"
    }
   ],
   "source": [
    "loaded_npy_files[0]"
   ]
  },
  {
   "cell_type": "code",
   "execution_count": 51,
   "id": "53dd5c88-918c-46a0-b5ae-cb7c75895741",
   "metadata": {},
   "outputs": [
    {
     "name": "stdout",
     "output_type": "stream",
     "text": [
      "CPU times: user 21.5 ms, sys: 307 µs, total: 21.8 ms\n",
      "Wall time: 21 ms\n"
     ]
    }
   ],
   "source": [
    "%%time\n",
    "# convert less than 0 entries to 0 for all arrays\n",
    "for arr in loaded_npy_files:\n",
    "    arr[arr < 0] = 0"
   ]
  },
  {
   "cell_type": "code",
   "execution_count": 52,
   "id": "b20d4662-eefc-41bc-ac0a-25d0613fa00c",
   "metadata": {},
   "outputs": [
    {
     "data": {
      "text/plain": [
       "array([[0.        , 0.        , 0.        , ..., 0.0053786 , 0.00450611,\n",
       "        0.        ],\n",
       "       [0.        , 0.        , 0.        , ..., 0.00524175, 0.00449514,\n",
       "        0.00101292],\n",
       "       [0.        , 0.        , 0.        , ..., 0.0047859 , 0.006271  ,\n",
       "        0.00318432],\n",
       "       ...,\n",
       "       [0.00113666, 0.        , 0.        , ..., 0.        , 0.00389409,\n",
       "        0.00120139],\n",
       "       [0.00321865, 0.        , 0.        , ..., 0.        , 0.00367522,\n",
       "        0.00509858],\n",
       "       [0.00202322, 0.        , 0.        , ..., 0.        , 0.00401556,\n",
       "        0.00497258]], dtype=float32)"
      ]
     },
     "execution_count": 52,
     "metadata": {},
     "output_type": "execute_result"
    }
   ],
   "source": [
    "loaded_npy_files[0]"
   ]
  },
  {
   "cell_type": "code",
   "execution_count": 53,
   "id": "f2474bdb-3a79-4436-83b1-2b3c3ac24a5c",
   "metadata": {},
   "outputs": [],
   "source": [
    "# Since we do not have overlapping sub-windows, we can sum the counts to get the final densities\n",
    "output = sum(loaded_npy_files)"
   ]
  },
  {
   "cell_type": "code",
   "execution_count": 54,
   "id": "d9038206-4f90-4001-9c3c-aee27d7d610c",
   "metadata": {},
   "outputs": [
    {
     "data": {
      "text/plain": [
       "(1000, 7)"
      ]
     },
     "execution_count": 54,
     "metadata": {},
     "output_type": "execute_result"
    }
   ],
   "source": [
    "output.shape"
   ]
  },
  {
   "cell_type": "code",
   "execution_count": 55,
   "id": "6116babf-18f2-4e39-9a72-150ccc4e6387",
   "metadata": {},
   "outputs": [
    {
     "data": {
      "text/plain": [
       "array([[ 42.467384,  41.56459 ,  47.312492, ...,  36.245304,  38.210785,\n",
       "         37.20405 ],\n",
       "       [ 46.643063,  38.603313,  38.36328 , ...,  55.47372 ,  52.326157,\n",
       "         72.18304 ],\n",
       "       [ 40.57978 ,  40.06676 ,  41.636086, ...,  34.813263,  40.59916 ,\n",
       "         35.360767],\n",
       "       ...,\n",
       "       [ 42.863247,  41.901577,  43.82674 , ...,  56.939743,  55.601482,\n",
       "         64.56899 ],\n",
       "       [ 39.527046,  39.91111 ,  51.251694, ...,  45.53713 ,  44.231155,\n",
       "         42.6819  ],\n",
       "       [ 56.09195 ,  52.960056,  57.3756  , ..., 131.57649 , 102.433304,\n",
       "        165.32298 ]], dtype=float32)"
      ]
     },
     "execution_count": 55,
     "metadata": {},
     "output_type": "execute_result"
    }
   ],
   "source": [
    "output"
   ]
  },
  {
   "cell_type": "code",
   "execution_count": 56,
   "id": "fbac31f0-215b-4e8b-8c13-2cd85e76a70f",
   "metadata": {},
   "outputs": [],
   "source": [
    "# is this sum correct? alternative method of computing the sums\n",
    "output_alt = np.sum(loaded_npy_files, axis = 0)"
   ]
  },
  {
   "cell_type": "code",
   "execution_count": 57,
   "id": "1198a1a0-14fc-4101-b4af-14a2c26dc0c5",
   "metadata": {},
   "outputs": [
    {
     "data": {
      "text/plain": [
       "(1000, 7)"
      ]
     },
     "execution_count": 57,
     "metadata": {},
     "output_type": "execute_result"
    }
   ],
   "source": [
    "output_alt.shape"
   ]
  },
  {
   "cell_type": "code",
   "execution_count": 58,
   "id": "23c6ebbe-2c27-47ff-8a5f-86491e58d899",
   "metadata": {},
   "outputs": [
    {
     "data": {
      "text/plain": [
       "array([[ 42.467384,  41.56459 ,  47.312492, ...,  36.245304,  38.210785,\n",
       "         37.20405 ],\n",
       "       [ 46.643063,  38.603313,  38.36328 , ...,  55.47372 ,  52.326157,\n",
       "         72.18304 ],\n",
       "       [ 40.57978 ,  40.06676 ,  41.636086, ...,  34.813263,  40.59916 ,\n",
       "         35.360767],\n",
       "       ...,\n",
       "       [ 42.863247,  41.901577,  43.82674 , ...,  56.939743,  55.601482,\n",
       "         64.56899 ],\n",
       "       [ 39.527046,  39.91111 ,  51.251694, ...,  45.53713 ,  44.231155,\n",
       "         42.6819  ],\n",
       "       [ 56.09195 ,  52.960056,  57.3756  , ..., 131.57649 , 102.433304,\n",
       "        165.32298 ]], dtype=float32)"
      ]
     },
     "execution_count": 58,
     "metadata": {},
     "output_type": "execute_result"
    }
   ],
   "source": [
    "output_alt"
   ]
  },
  {
   "cell_type": "code",
   "execution_count": 59,
   "id": "7b4a8d85-fe98-49c3-9a9f-51fbd90c5174",
   "metadata": {},
   "outputs": [
    {
     "data": {
      "text/plain": [
       "1.0"
      ]
     },
     "execution_count": 59,
     "metadata": {},
     "output_type": "execute_result"
    }
   ],
   "source": [
    "np.mean(output_alt == output)"
   ]
  },
  {
   "cell_type": "code",
   "execution_count": 60,
   "id": "ba6418a3-03f4-475a-b552-55a08048311f",
   "metadata": {},
   "outputs": [],
   "source": [
    "# verified the sum is correct, let's get the widths and the coverages - and also any essential plots"
   ]
  },
  {
   "cell_type": "code",
   "execution_count": 61,
   "id": "ca61eabc-63ed-4b74-b20a-61521b3751a6",
   "metadata": {},
   "outputs": [],
   "source": [
    "# now we can get the 2.5th abd the 97.5th percentiles - to get the coverage and the widths of the CIS\n",
    "li_train = np.percentile(output, axis = 0, q = (2.5, 97.5))[0,:].reshape(-1,1)    \n",
    "ui_train = np.percentile(output, axis = 0, q = (2.5, 97.5))[1,:].reshape(-1,1)"
   ]
  },
  {
   "cell_type": "code",
   "execution_count": 62,
   "id": "9cad5cca-320d-4e70-b204-e4dc52fb9d6d",
   "metadata": {},
   "outputs": [
    {
     "data": {
      "text/plain": [
       "array([[29.15507331],\n",
       "       [27.51689315],\n",
       "       [27.19627485],\n",
       "       [30.45393205],\n",
       "       [28.23297009],\n",
       "       [31.48064752],\n",
       "       [31.32705026]])"
      ]
     },
     "execution_count": 62,
     "metadata": {},
     "output_type": "execute_result"
    }
   ],
   "source": [
    "li_train"
   ]
  },
  {
   "cell_type": "code",
   "execution_count": 63,
   "id": "4e669c1d-0916-4e77-92e2-a1b1879834aa",
   "metadata": {},
   "outputs": [
    {
     "data": {
      "text/plain": [
       "array([[ 58.3676053 ],\n",
       "       [ 50.10402126],\n",
       "       [ 51.44655914],\n",
       "       [113.03126049],\n",
       "       [101.47852077],\n",
       "       [ 82.08392525],\n",
       "       [137.07860832]])"
      ]
     },
     "execution_count": 63,
     "metadata": {},
     "output_type": "execute_result"
    }
   ],
   "source": [
    "ui_train"
   ]
  },
  {
   "cell_type": "code",
   "execution_count": 64,
   "id": "4d51a483-bfe5-4cc6-a31f-813cb83d5540",
   "metadata": {},
   "outputs": [],
   "source": [
    "width_train = ui_train - li_train\n",
    "avg_width_train = width_train.mean(0)[0]"
   ]
  },
  {
   "cell_type": "code",
   "execution_count": 65,
   "id": "37b163bb-b24c-4af2-8f2b-19c78eb24ff9",
   "metadata": {},
   "outputs": [
    {
     "data": {
      "text/plain": [
       "55.461094188690176"
      ]
     },
     "execution_count": 65,
     "metadata": {},
     "output_type": "execute_result"
    }
   ],
   "source": [
    "avg_width_train"
   ]
  },
  {
   "cell_type": "code",
   "execution_count": 66,
   "id": "46d652b2-05be-44f9-bf0d-3ff69ad25fed",
   "metadata": {},
   "outputs": [],
   "source": [
    "y_traina = block_0302_true_and_forecasted_values_df[[\"True_count\"]].values"
   ]
  },
  {
   "cell_type": "code",
   "execution_count": 67,
   "id": "053c0783-3289-4068-9999-948c0f985fa1",
   "metadata": {},
   "outputs": [
    {
     "data": {
      "text/plain": [
       "array([[49.00000008],\n",
       "       [49.00000505],\n",
       "       [53.99956993],\n",
       "       [50.04234922],\n",
       "       [43.00000909],\n",
       "       [48.00057269],\n",
       "       [36.99999861]])"
      ]
     },
     "execution_count": 67,
     "metadata": {},
     "output_type": "execute_result"
    }
   ],
   "source": [
    "y_traina"
   ]
  },
  {
   "cell_type": "code",
   "execution_count": 68,
   "id": "5f1ba54d-0aca-494d-b741-b2cd6d00fcb3",
   "metadata": {},
   "outputs": [],
   "source": [
    "ind_train = (y_traina >= li_train) & (y_traina <= ui_train)\n",
    "coverage_train= ind_train.mean(0)[0]"
   ]
  },
  {
   "cell_type": "code",
   "execution_count": 69,
   "id": "66d5a7c9-0400-4f6f-9221-9cb9c7860d3c",
   "metadata": {},
   "outputs": [
    {
     "data": {
      "text/plain": [
       "0.8571428571428571"
      ]
     },
     "execution_count": 69,
     "metadata": {},
     "output_type": "execute_result"
    }
   ],
   "source": [
    "coverage_train"
   ]
  },
  {
   "cell_type": "code",
   "execution_count": 70,
   "id": "ce86b870-01cf-4e10-904b-ef2396d2dc47",
   "metadata": {},
   "outputs": [
    {
     "data": {
      "text/plain": [
       "array([42.29414 , 38.056545, 39.32337 , 56.759914, 51.8447  , 49.249115,\n",
       "       62.428158], dtype=float32)"
      ]
     },
     "execution_count": 70,
     "metadata": {},
     "output_type": "execute_result"
    }
   ],
   "source": [
    "np.mean(output, axis = 0)"
   ]
  },
  {
   "cell_type": "code",
   "execution_count": 71,
   "id": "311beb4f-6347-407c-af9b-bfe285361098",
   "metadata": {},
   "outputs": [
    {
     "data": {
      "text/plain": [
       "0    33.462269\n",
       "1    31.847290\n",
       "2    33.991401\n",
       "3    39.471257\n",
       "4    35.185851\n",
       "5    37.521974\n",
       "6    41.741769\n",
       "dtype: float64"
      ]
     },
     "execution_count": 71,
     "metadata": {},
     "output_type": "execute_result"
    }
   ],
   "source": [
    "sum_forecasted_values"
   ]
  },
  {
   "cell_type": "code",
   "execution_count": 72,
   "id": "0f94ff2b-6606-477b-a3a7-c3841f436c56",
   "metadata": {},
   "outputs": [
    {
     "data": {
      "image/png": "[encoded data removed]",
      "text/plain": [
       "<Figure size 640x480 with 1 Axes>"
      ]
     },
     "metadata": {},
     "output_type": "display_data"
    }
   ],
   "source": [
    "plt.scatter(block_0302_true_and_forecasted_values_df['True_count'], block_0302_true_and_forecasted_values_df['Forecasted_count'])\n",
    "plt.xlabel(\"True density\")\n",
    "plt.ylabel(\"Predicted density\")\n",
    "# Add the y = x line\n",
    "plt.plot([30, 55], [30, 55], color='green', label='y = x')\n",
    "plt.legend()\n",
    "plt.show()"
   ]
  },
  {
   "cell_type": "code",
   "execution_count": 73,
   "id": "04aa778d-3203-493f-a8d5-6c42cd0c540a",
   "metadata": {},
   "outputs": [
    {
     "data": {
      "image/png": "[encoded data removed]",
      "text/plain": [
       "<Figure size 1500x2000 with 8 Axes>"
      ]
     },
     "metadata": {},
     "output_type": "display_data"
    },
    {
     "name": "stdout",
     "output_type": "stream",
     "text": [
      "CPU times: user 26.9 s, sys: 809 ms, total: 27.7 s\n",
      "Wall time: 27.4 s\n"
     ]
    }
   ],
   "source": [
    "%%time\n",
    "# Create a 2x4 grid of subplots (total 8 plots, the last one will be left empty)\n",
    "fig, axes = plt.subplots(4, 2, figsize=(15,20))\n",
    "axes = axes.flatten() \n",
    "\n",
    "# widths plots\n",
    "for i in range(7):\n",
    "    timestep_i_subwindows = []\n",
    "    for y, file in enumerate(loaded_npy_files):\n",
    "        t_i_forecast = file[:,i]\n",
    "        # print the shape of the extracted array\n",
    "        # print(t_i_forecast.shape)\n",
    "        timestep_i_subwindows.append(t_i_forecast)\n",
    "    stacked_forecasts = np.stack(timestep_i_subwindows)\n",
    "    stacked_forecasts[stacked_forecasts<0] = 0\n",
    "    sorted_stacked_forecasts = np.sort(stacked_forecasts, axis = 1)\n",
    "    # get the values between the 2.5th and 97.5th percentile?\n",
    "    sorted_interval_data = sorted_stacked_forecasts[:,25:975]\n",
    "\n",
    "    # Plot for the current 2D array\n",
    "    for l, row in enumerate(sorted_interval_data):\n",
    "        axes[i].plot([l + 1] * len(row), row, 'o', markersize=1, color='teal', label='Distribution of forecasted values' if l == 0 else \"\")\n",
    "    \n",
    "    true_counts = exp_true.iloc[i,:].values\n",
    "\n",
    "    # # Overlay the 1D array values\n",
    "    axes[i].plot(np.arange(1, 911), true_counts, 'o', markersize=1, color='red', label='True density')\n",
    "    \n",
    "    # Customize x-ticks and labels\n",
    "    axes[i].set_xticks(np.arange(1, 911))\n",
    "    # axes[i].set_xticklabels([f'sub_window_{zz + 1}' for zz in range(910)], rotation=90, fontsize=13)\n",
    "    axes[i].set_xlabel(\"Sub windows\", fontsize=12, fontweight='bold')\n",
    "    axes[i].set_ylabel(\"Forecasted and true densities\", fontsize=12, fontweight='bold')\n",
    "    axes[i].set_title(f\"Test image {i + 1}\", fontsize=12, fontweight='bold')\n",
    "    axes[i].legend()\n",
    "\n",
    "\n",
    "# Hide the last (empty) subplot\n",
    "axes[-1].set_visible(False)\n",
    "\n",
    "# Adjust layout\n",
    "plt.tight_layout()\n",
    "\n",
    "# # Save the figure as a PDF file\n",
    "# plt.savefig(\"Previous_data/Forecasted_distributions_blk13.pdf\", format='pdf', bbox_inches='tight')\n",
    "plt.show()\n",
    "\n"
   ]
  },
  {
   "cell_type": "code",
   "execution_count": 74,
   "id": "b51d6a01-5c7a-4e37-be12-776053974e4d",
   "metadata": {},
   "outputs": [],
   "source": [
    "# plots are going to be too over-crowded as we now have 910 subwindows - might beed to talk to Dr. Ghosh to figure out a better way to give these plots"
   ]
  },
  {
   "cell_type": "code",
   "execution_count": 75,
   "id": "c278c7bc-eced-4cbb-ab5c-b5156fe33612",
   "metadata": {},
   "outputs": [],
   "source": [
    "# we may need to re-think about the way the average forecasts were computed. Maybe get the average after exponentiating than averaging all values to a single value and then exponentiating? this would be a few lines of codes - but may be a better way to get the forecated density values? "
   ]
  }
 ],
 "metadata": {
  "kernelspec": {
   "display_name": "Python (tfp_cpu_env)",
   "language": "python",
   "name": "tfp_cpu_env"
  },
  "language_info": {
   "codemirror_mode": {
    "name": "ipython",
    "version": 3
   },
   "file_extension": ".py",
   "mimetype": "text/x-python",
   "name": "python",
   "nbconvert_exporter": "python",
   "pygments_lexer": "ipython3",
   "version": "3.11.7"
  }
 },
 "nbformat": 4,
 "nbformat_minor": 5
}
