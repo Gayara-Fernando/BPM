{
 "cells": [
  {
   "cell_type": "code",
   "execution_count": 1,
   "id": "95479ff1-daa9-4a85-bee2-32d78b24506b",
   "metadata": {},
   "outputs": [],
   "source": [
    "import pandas as pd\n",
    "import numpy as np\n",
    "import matplotlib.pyplot as plt\n",
    "import os\n",
    "from sklearn.metrics import mean_absolute_error, mean_squared_error, r2_score\n",
    "from scipy.stats import pearsonr"
   ]
  },
  {
   "cell_type": "code",
   "execution_count": 2,
   "id": "d0c496d4-1b24-43dd-ab1b-b98d6eaef21b",
   "metadata": {},
   "outputs": [],
   "source": [
    "# path to dataframes\n",
    "path_to_dfs = \"suggestion_2/forecasted_counts/block_0302\""
   ]
  },
  {
   "cell_type": "code",
   "execution_count": 3,
   "id": "0c9c641d-4e5d-4c54-a235-c62cbdf13f8d",
   "metadata": {},
   "outputs": [],
   "source": [
    "# os.listdir(path_to_dfs)"
   ]
  },
  {
   "cell_type": "code",
   "execution_count": 4,
   "id": "5e5d1ebd-ac8c-4a2b-b33c-db3c4b477eae",
   "metadata": {},
   "outputs": [
    {
     "data": {
      "text/plain": [
       "6370"
      ]
     },
     "execution_count": 4,
     "metadata": {},
     "output_type": "execute_result"
    }
   ],
   "source": [
    "len(os.listdir(path_to_dfs))"
   ]
  },
  {
   "cell_type": "code",
   "execution_count": 5,
   "id": "3b80d752-5eb8-42c1-ad39-987ad3dbb001",
   "metadata": {},
   "outputs": [
    {
     "data": {
      "text/plain": [
       "7.0"
      ]
     },
     "execution_count": 5,
     "metadata": {},
     "output_type": "execute_result"
    }
   ],
   "source": [
    "6370/910"
   ]
  },
  {
   "cell_type": "code",
   "execution_count": 6,
   "id": "a0ac81e1-3049-44de-a2bf-4bf5a274ba45",
   "metadata": {},
   "outputs": [],
   "source": [
    "# seems each sub-window sequence have 7 things stored - what are all these?\n",
    "\n",
    "# the forecasted npy files\n",
    "# ar_sigma\n",
    "# noise_sigma\n",
    "# betas\n",
    "# rho\n",
    "# averaged forecasts\n",
    "# posterior parameter summaries - might need to pay a little attention here, the r_hat values are too high - think this should vary around 1? - but almost all the values are greater than 2."
   ]
  },
  {
   "cell_type": "code",
   "execution_count": 7,
   "id": "f9a4f497-2d9d-4b5c-9169-46b6ae6b9977",
   "metadata": {},
   "outputs": [],
   "source": [
    "averaged_forecasts_csvs = []\n",
    "for file in os.listdir(path_to_dfs):\n",
    "    if file[:8] =='averaged':\n",
    "        averaged_forecasts_csvs.append(file)"
   ]
  },
  {
   "cell_type": "code",
   "execution_count": 8,
   "id": "094e9614-b16f-45a2-aafc-d7884678eb44",
   "metadata": {},
   "outputs": [
    {
     "data": {
      "text/plain": [
       "910"
      ]
     },
     "execution_count": 8,
     "metadata": {},
     "output_type": "execute_result"
    }
   ],
   "source": [
    "# how many csv files do we have?\n",
    "len(averaged_forecasts_csvs)"
   ]
  },
  {
   "cell_type": "code",
   "execution_count": 9,
   "id": "7eca928b-bdbd-4d00-9eb1-8a808db7123e",
   "metadata": {},
   "outputs": [],
   "source": [
    "# averaged_forecasts_csvs - we probably need these in order for getting the respective predicted values"
   ]
  },
  {
   "cell_type": "code",
   "execution_count": 10,
   "id": "d0e11c68-824a-41ea-bf6b-65f53103343f",
   "metadata": {},
   "outputs": [
    {
     "data": {
      "text/plain": [
       "'averaged_forecasts_sub_653.csv'"
      ]
     },
     "execution_count": 10,
     "metadata": {},
     "output_type": "execute_result"
    }
   ],
   "source": [
    "averaged_forecasts_csvs[0]"
   ]
  },
  {
   "cell_type": "code",
   "execution_count": 11,
   "id": "f1f9e7be-53a6-4f38-b389-045d898b14ef",
   "metadata": {},
   "outputs": [],
   "source": [
    "# sorting them would not work as everything in the nomenclature of the files is a character - hence will not respect the numerical order"
   ]
  },
  {
   "cell_type": "code",
   "execution_count": 12,
   "id": "3cf616ee-4b4e-4ad9-ac1b-20aba081bfc5",
   "metadata": {},
   "outputs": [],
   "source": [
    "# let's create these names in the order of the subwindows\n",
    "ordered_csv_files = ['averaged_forecasts_sub_' + str(i) + '.csv' for i in range(910)]"
   ]
  },
  {
   "cell_type": "code",
   "execution_count": 13,
   "id": "7ac08389-4437-448b-b8a8-317cd0a9bf8e",
   "metadata": {},
   "outputs": [],
   "source": [
    "# ordered_csv_files"
   ]
  },
  {
   "cell_type": "code",
   "execution_count": 14,
   "id": "e74425d7-b613-44cf-96dd-df4298cef947",
   "metadata": {},
   "outputs": [],
   "source": [
    "# averaged_forecasts_csvs list is pointless at this time?"
   ]
  },
  {
   "cell_type": "code",
   "execution_count": 15,
   "id": "9a94c9ec-57cc-42fa-ad71-26639da44cb7",
   "metadata": {},
   "outputs": [
    {
     "name": "stdout",
     "output_type": "stream",
     "text": [
      "CPU times: user 438 ms, sys: 17.7 ms, total: 456 ms\n",
      "Wall time: 458 ms\n"
     ]
    }
   ],
   "source": [
    "%%time\n",
    "all_dfs = []\n",
    "for file in ordered_csv_files:\n",
    "    read_df = pd.read_csv(path_to_dfs + '/' + file)\n",
    "    all_dfs.append(read_df)"
   ]
  },
  {
   "cell_type": "code",
   "execution_count": 16,
   "id": "c04b6062-8fc9-4f3e-87f2-2a8e9abac16f",
   "metadata": {},
   "outputs": [],
   "source": [
    "# make a single dataframe out of the many\n",
    "combined_df = pd.concat(all_dfs, axis = 1)"
   ]
  },
  {
   "cell_type": "code",
   "execution_count": 17,
   "id": "5671cc95-7ba6-47bc-8da8-47ba9d3f36e3",
   "metadata": {},
   "outputs": [
    {
     "data": {
      "text/html": [
       "<div>\n",
       "<style scoped>\n",
       "    .dataframe tbody tr th:only-of-type {\n",
       "        vertical-align: middle;\n",
       "    }\n",
       "\n",
       "    .dataframe tbody tr th {\n",
       "        vertical-align: top;\n",
       "    }\n",
       "\n",
       "    .dataframe thead th {\n",
       "        text-align: right;\n",
       "    }\n",
       "</style>\n",
       "<table border=\"1\" class=\"dataframe\">\n",
       "  <thead>\n",
       "    <tr style=\"text-align: right;\">\n",
       "      <th></th>\n",
       "      <th>True_value</th>\n",
       "      <th>Forecasted_value</th>\n",
       "      <th>True_value</th>\n",
       "      <th>Forecasted_value</th>\n",
       "      <th>True_value</th>\n",
       "      <th>Forecasted_value</th>\n",
       "      <th>True_value</th>\n",
       "      <th>Forecasted_value</th>\n",
       "      <th>True_value</th>\n",
       "      <th>Forecasted_value</th>\n",
       "      <th>...</th>\n",
       "      <th>True_value</th>\n",
       "      <th>Forecasted_value</th>\n",
       "      <th>True_value</th>\n",
       "      <th>Forecasted_value</th>\n",
       "      <th>True_value</th>\n",
       "      <th>Forecasted_value</th>\n",
       "      <th>True_value</th>\n",
       "      <th>Forecasted_value</th>\n",
       "      <th>True_value</th>\n",
       "      <th>Forecasted_value</th>\n",
       "    </tr>\n",
       "  </thead>\n",
       "  <tbody>\n",
       "    <tr>\n",
       "      <th>0</th>\n",
       "      <td>0.000000</td>\n",
       "      <td>0.000406</td>\n",
       "      <td>0.00000</td>\n",
       "      <td>-0.014003</td>\n",
       "      <td>0.000000e+00</td>\n",
       "      <td>-0.006570</td>\n",
       "      <td>0.0</td>\n",
       "      <td>-0.015622</td>\n",
       "      <td>0.0</td>\n",
       "      <td>-0.004524</td>\n",
       "      <td>...</td>\n",
       "      <td>0.0</td>\n",
       "      <td>-0.003171</td>\n",
       "      <td>0.0</td>\n",
       "      <td>-0.016560</td>\n",
       "      <td>0.0</td>\n",
       "      <td>-0.001557</td>\n",
       "      <td>0.0</td>\n",
       "      <td>-0.001128</td>\n",
       "      <td>0.0</td>\n",
       "      <td>-0.002171</td>\n",
       "    </tr>\n",
       "    <tr>\n",
       "      <th>1</th>\n",
       "      <td>0.009946</td>\n",
       "      <td>-0.003737</td>\n",
       "      <td>0.00376</td>\n",
       "      <td>-0.004209</td>\n",
       "      <td>0.000000e+00</td>\n",
       "      <td>0.000860</td>\n",
       "      <td>0.0</td>\n",
       "      <td>-0.007392</td>\n",
       "      <td>0.0</td>\n",
       "      <td>0.000756</td>\n",
       "      <td>...</td>\n",
       "      <td>0.0</td>\n",
       "      <td>0.000038</td>\n",
       "      <td>0.0</td>\n",
       "      <td>-0.005749</td>\n",
       "      <td>0.0</td>\n",
       "      <td>-0.001955</td>\n",
       "      <td>0.0</td>\n",
       "      <td>-0.000066</td>\n",
       "      <td>0.0</td>\n",
       "      <td>0.001649</td>\n",
       "    </tr>\n",
       "    <tr>\n",
       "      <th>2</th>\n",
       "      <td>0.000000</td>\n",
       "      <td>-0.009951</td>\n",
       "      <td>0.00000</td>\n",
       "      <td>-0.013025</td>\n",
       "      <td>0.000000e+00</td>\n",
       "      <td>-0.001112</td>\n",
       "      <td>0.0</td>\n",
       "      <td>-0.001699</td>\n",
       "      <td>0.0</td>\n",
       "      <td>0.005250</td>\n",
       "      <td>...</td>\n",
       "      <td>0.0</td>\n",
       "      <td>-0.000749</td>\n",
       "      <td>0.0</td>\n",
       "      <td>-0.007453</td>\n",
       "      <td>0.0</td>\n",
       "      <td>0.002822</td>\n",
       "      <td>0.0</td>\n",
       "      <td>-0.002384</td>\n",
       "      <td>0.0</td>\n",
       "      <td>-0.003483</td>\n",
       "    </tr>\n",
       "    <tr>\n",
       "      <th>3</th>\n",
       "      <td>0.000037</td>\n",
       "      <td>0.009409</td>\n",
       "      <td>0.00455</td>\n",
       "      <td>-0.002757</td>\n",
       "      <td>7.131669e-07</td>\n",
       "      <td>-0.001423</td>\n",
       "      <td>0.0</td>\n",
       "      <td>0.018110</td>\n",
       "      <td>0.0</td>\n",
       "      <td>0.000588</td>\n",
       "      <td>...</td>\n",
       "      <td>0.0</td>\n",
       "      <td>0.000644</td>\n",
       "      <td>0.0</td>\n",
       "      <td>-0.002185</td>\n",
       "      <td>0.0</td>\n",
       "      <td>-0.000807</td>\n",
       "      <td>0.0</td>\n",
       "      <td>0.000506</td>\n",
       "      <td>0.0</td>\n",
       "      <td>0.006351</td>\n",
       "    </tr>\n",
       "    <tr>\n",
       "      <th>4</th>\n",
       "      <td>0.000000</td>\n",
       "      <td>-0.002583</td>\n",
       "      <td>0.00000</td>\n",
       "      <td>0.000919</td>\n",
       "      <td>0.000000e+00</td>\n",
       "      <td>-0.002117</td>\n",
       "      <td>0.0</td>\n",
       "      <td>0.002515</td>\n",
       "      <td>0.0</td>\n",
       "      <td>0.002888</td>\n",
       "      <td>...</td>\n",
       "      <td>0.0</td>\n",
       "      <td>-0.001638</td>\n",
       "      <td>0.0</td>\n",
       "      <td>-0.000671</td>\n",
       "      <td>0.0</td>\n",
       "      <td>0.003193</td>\n",
       "      <td>0.0</td>\n",
       "      <td>0.000761</td>\n",
       "      <td>0.0</td>\n",
       "      <td>0.005511</td>\n",
       "    </tr>\n",
       "  </tbody>\n",
       "</table>\n",
       "<p>5 rows × 1820 columns</p>\n",
       "</div>"
      ],
      "text/plain": [
       "   True_value  Forecasted_value  True_value  Forecasted_value    True_value  \\\n",
       "0    0.000000          0.000406     0.00000         -0.014003  0.000000e+00   \n",
       "1    0.009946         -0.003737     0.00376         -0.004209  0.000000e+00   \n",
       "2    0.000000         -0.009951     0.00000         -0.013025  0.000000e+00   \n",
       "3    0.000037          0.009409     0.00455         -0.002757  7.131669e-07   \n",
       "4    0.000000         -0.002583     0.00000          0.000919  0.000000e+00   \n",
       "\n",
       "   Forecasted_value  True_value  Forecasted_value  True_value  \\\n",
       "0         -0.006570         0.0         -0.015622         0.0   \n",
       "1          0.000860         0.0         -0.007392         0.0   \n",
       "2         -0.001112         0.0         -0.001699         0.0   \n",
       "3         -0.001423         0.0          0.018110         0.0   \n",
       "4         -0.002117         0.0          0.002515         0.0   \n",
       "\n",
       "   Forecasted_value  ...  True_value  Forecasted_value  True_value  \\\n",
       "0         -0.004524  ...         0.0         -0.003171         0.0   \n",
       "1          0.000756  ...         0.0          0.000038         0.0   \n",
       "2          0.005250  ...         0.0         -0.000749         0.0   \n",
       "3          0.000588  ...         0.0          0.000644         0.0   \n",
       "4          0.002888  ...         0.0         -0.001638         0.0   \n",
       "\n",
       "   Forecasted_value  True_value  Forecasted_value  True_value  \\\n",
       "0         -0.016560         0.0         -0.001557         0.0   \n",
       "1         -0.005749         0.0         -0.001955         0.0   \n",
       "2         -0.007453         0.0          0.002822         0.0   \n",
       "3         -0.002185         0.0         -0.000807         0.0   \n",
       "4         -0.000671         0.0          0.003193         0.0   \n",
       "\n",
       "   Forecasted_value  True_value  Forecasted_value  \n",
       "0         -0.001128         0.0         -0.002171  \n",
       "1         -0.000066         0.0          0.001649  \n",
       "2         -0.002384         0.0         -0.003483  \n",
       "3          0.000506         0.0          0.006351  \n",
       "4          0.000761         0.0          0.005511  \n",
       "\n",
       "[5 rows x 1820 columns]"
      ]
     },
     "execution_count": 17,
     "metadata": {},
     "output_type": "execute_result"
    }
   ],
   "source": [
    "combined_df.head()"
   ]
  },
  {
   "cell_type": "code",
   "execution_count": 18,
   "id": "77ebc554-fe99-4cea-9cb3-2d2b8329b7b8",
   "metadata": {},
   "outputs": [
    {
     "data": {
      "text/plain": [
       "(7, 1820)"
      ]
     },
     "execution_count": 18,
     "metadata": {},
     "output_type": "execute_result"
    }
   ],
   "source": [
    "combined_df.shape"
   ]
  },
  {
   "cell_type": "code",
   "execution_count": 19,
   "id": "cd7bd824-8dac-4284-b286-aafcd8cd7d43",
   "metadata": {},
   "outputs": [],
   "source": [
    "# get the true values\n",
    "True_values_df = combined_df[['True_value']]"
   ]
  },
  {
   "cell_type": "code",
   "execution_count": 20,
   "id": "20d0decc-e09d-494a-9ff8-2139aac7254b",
   "metadata": {},
   "outputs": [
    {
     "data": {
      "text/html": [
       "<div>\n",
       "<style scoped>\n",
       "    .dataframe tbody tr th:only-of-type {\n",
       "        vertical-align: middle;\n",
       "    }\n",
       "\n",
       "    .dataframe tbody tr th {\n",
       "        vertical-align: top;\n",
       "    }\n",
       "\n",
       "    .dataframe thead th {\n",
       "        text-align: right;\n",
       "    }\n",
       "</style>\n",
       "<table border=\"1\" class=\"dataframe\">\n",
       "  <thead>\n",
       "    <tr style=\"text-align: right;\">\n",
       "      <th></th>\n",
       "      <th>True_value</th>\n",
       "      <th>True_value</th>\n",
       "      <th>True_value</th>\n",
       "      <th>True_value</th>\n",
       "      <th>True_value</th>\n",
       "      <th>True_value</th>\n",
       "      <th>True_value</th>\n",
       "      <th>True_value</th>\n",
       "      <th>True_value</th>\n",
       "      <th>True_value</th>\n",
       "      <th>...</th>\n",
       "      <th>True_value</th>\n",
       "      <th>True_value</th>\n",
       "      <th>True_value</th>\n",
       "      <th>True_value</th>\n",
       "      <th>True_value</th>\n",
       "      <th>True_value</th>\n",
       "      <th>True_value</th>\n",
       "      <th>True_value</th>\n",
       "      <th>True_value</th>\n",
       "      <th>True_value</th>\n",
       "    </tr>\n",
       "  </thead>\n",
       "  <tbody>\n",
       "    <tr>\n",
       "      <th>0</th>\n",
       "      <td>0.000000</td>\n",
       "      <td>0.00000</td>\n",
       "      <td>0.000000e+00</td>\n",
       "      <td>0.0</td>\n",
       "      <td>0.0</td>\n",
       "      <td>0.000000</td>\n",
       "      <td>0.000000</td>\n",
       "      <td>0.000000e+00</td>\n",
       "      <td>0.000000</td>\n",
       "      <td>0.0</td>\n",
       "      <td>...</td>\n",
       "      <td>0.0</td>\n",
       "      <td>0.0</td>\n",
       "      <td>0.000000</td>\n",
       "      <td>0.000000</td>\n",
       "      <td>0.0</td>\n",
       "      <td>0.0</td>\n",
       "      <td>0.0</td>\n",
       "      <td>0.0</td>\n",
       "      <td>0.0</td>\n",
       "      <td>0.0</td>\n",
       "    </tr>\n",
       "    <tr>\n",
       "      <th>1</th>\n",
       "      <td>0.009946</td>\n",
       "      <td>0.00376</td>\n",
       "      <td>0.000000e+00</td>\n",
       "      <td>0.0</td>\n",
       "      <td>0.0</td>\n",
       "      <td>0.000000</td>\n",
       "      <td>0.000000</td>\n",
       "      <td>0.000000e+00</td>\n",
       "      <td>0.000000</td>\n",
       "      <td>0.0</td>\n",
       "      <td>...</td>\n",
       "      <td>0.0</td>\n",
       "      <td>0.0</td>\n",
       "      <td>0.000000</td>\n",
       "      <td>0.000000</td>\n",
       "      <td>0.0</td>\n",
       "      <td>0.0</td>\n",
       "      <td>0.0</td>\n",
       "      <td>0.0</td>\n",
       "      <td>0.0</td>\n",
       "      <td>0.0</td>\n",
       "    </tr>\n",
       "    <tr>\n",
       "      <th>2</th>\n",
       "      <td>0.000000</td>\n",
       "      <td>0.00000</td>\n",
       "      <td>0.000000e+00</td>\n",
       "      <td>0.0</td>\n",
       "      <td>0.0</td>\n",
       "      <td>0.000000</td>\n",
       "      <td>0.000000</td>\n",
       "      <td>5.447757e-01</td>\n",
       "      <td>0.241312</td>\n",
       "      <td>0.0</td>\n",
       "      <td>...</td>\n",
       "      <td>0.0</td>\n",
       "      <td>0.0</td>\n",
       "      <td>0.000000</td>\n",
       "      <td>0.000000</td>\n",
       "      <td>0.0</td>\n",
       "      <td>0.0</td>\n",
       "      <td>0.0</td>\n",
       "      <td>0.0</td>\n",
       "      <td>0.0</td>\n",
       "      <td>0.0</td>\n",
       "    </tr>\n",
       "    <tr>\n",
       "      <th>3</th>\n",
       "      <td>0.000037</td>\n",
       "      <td>0.00455</td>\n",
       "      <td>7.131669e-07</td>\n",
       "      <td>0.0</td>\n",
       "      <td>0.0</td>\n",
       "      <td>0.000001</td>\n",
       "      <td>0.000154</td>\n",
       "      <td>2.405033e-08</td>\n",
       "      <td>0.000000</td>\n",
       "      <td>0.0</td>\n",
       "      <td>...</td>\n",
       "      <td>0.0</td>\n",
       "      <td>0.0</td>\n",
       "      <td>0.000000</td>\n",
       "      <td>0.000000</td>\n",
       "      <td>0.0</td>\n",
       "      <td>0.0</td>\n",
       "      <td>0.0</td>\n",
       "      <td>0.0</td>\n",
       "      <td>0.0</td>\n",
       "      <td>0.0</td>\n",
       "    </tr>\n",
       "    <tr>\n",
       "      <th>4</th>\n",
       "      <td>0.000000</td>\n",
       "      <td>0.00000</td>\n",
       "      <td>0.000000e+00</td>\n",
       "      <td>0.0</td>\n",
       "      <td>0.0</td>\n",
       "      <td>0.000658</td>\n",
       "      <td>0.680220</td>\n",
       "      <td>2.456316e-03</td>\n",
       "      <td>0.000000</td>\n",
       "      <td>0.0</td>\n",
       "      <td>...</td>\n",
       "      <td>0.0</td>\n",
       "      <td>0.0</td>\n",
       "      <td>0.147283</td>\n",
       "      <td>0.108888</td>\n",
       "      <td>0.0</td>\n",
       "      <td>0.0</td>\n",
       "      <td>0.0</td>\n",
       "      <td>0.0</td>\n",
       "      <td>0.0</td>\n",
       "      <td>0.0</td>\n",
       "    </tr>\n",
       "  </tbody>\n",
       "</table>\n",
       "<p>5 rows × 910 columns</p>\n",
       "</div>"
      ],
      "text/plain": [
       "   True_value  True_value    True_value  True_value  True_value  True_value  \\\n",
       "0    0.000000     0.00000  0.000000e+00         0.0         0.0    0.000000   \n",
       "1    0.009946     0.00376  0.000000e+00         0.0         0.0    0.000000   \n",
       "2    0.000000     0.00000  0.000000e+00         0.0         0.0    0.000000   \n",
       "3    0.000037     0.00455  7.131669e-07         0.0         0.0    0.000001   \n",
       "4    0.000000     0.00000  0.000000e+00         0.0         0.0    0.000658   \n",
       "\n",
       "   True_value    True_value  True_value  True_value  ...  True_value  \\\n",
       "0    0.000000  0.000000e+00    0.000000         0.0  ...         0.0   \n",
       "1    0.000000  0.000000e+00    0.000000         0.0  ...         0.0   \n",
       "2    0.000000  5.447757e-01    0.241312         0.0  ...         0.0   \n",
       "3    0.000154  2.405033e-08    0.000000         0.0  ...         0.0   \n",
       "4    0.680220  2.456316e-03    0.000000         0.0  ...         0.0   \n",
       "\n",
       "   True_value  True_value  True_value  True_value  True_value  True_value  \\\n",
       "0         0.0    0.000000    0.000000         0.0         0.0         0.0   \n",
       "1         0.0    0.000000    0.000000         0.0         0.0         0.0   \n",
       "2         0.0    0.000000    0.000000         0.0         0.0         0.0   \n",
       "3         0.0    0.000000    0.000000         0.0         0.0         0.0   \n",
       "4         0.0    0.147283    0.108888         0.0         0.0         0.0   \n",
       "\n",
       "   True_value  True_value  True_value  \n",
       "0         0.0         0.0         0.0  \n",
       "1         0.0         0.0         0.0  \n",
       "2         0.0         0.0         0.0  \n",
       "3         0.0         0.0         0.0  \n",
       "4         0.0         0.0         0.0  \n",
       "\n",
       "[5 rows x 910 columns]"
      ]
     },
     "execution_count": 20,
     "metadata": {},
     "output_type": "execute_result"
    }
   ],
   "source": [
    "True_values_df.head()"
   ]
  },
  {
   "cell_type": "code",
   "execution_count": 21,
   "id": "7bf2ce55-e613-440c-98df-b3137476fda8",
   "metadata": {},
   "outputs": [
    {
     "data": {
      "text/plain": [
       "(7, 910)"
      ]
     },
     "execution_count": 21,
     "metadata": {},
     "output_type": "execute_result"
    }
   ],
   "source": [
    "True_values_df.shape"
   ]
  },
  {
   "cell_type": "code",
   "execution_count": 22,
   "id": "18e0219e-ee9c-4e29-a372-2b6290708941",
   "metadata": {},
   "outputs": [],
   "source": [
    "# get the proper counts?\n",
    "exp_true = np.exp(True_values_df)-1"
   ]
  },
  {
   "cell_type": "code",
   "execution_count": 23,
   "id": "a7319ca1-7b28-41f3-8b38-11863c1835e5",
   "metadata": {},
   "outputs": [
    {
     "data": {
      "text/html": [
       "<div>\n",
       "<style scoped>\n",
       "    .dataframe tbody tr th:only-of-type {\n",
       "        vertical-align: middle;\n",
       "    }\n",
       "\n",
       "    .dataframe tbody tr th {\n",
       "        vertical-align: top;\n",
       "    }\n",
       "\n",
       "    .dataframe thead th {\n",
       "        text-align: right;\n",
       "    }\n",
       "</style>\n",
       "<table border=\"1\" class=\"dataframe\">\n",
       "  <thead>\n",
       "    <tr style=\"text-align: right;\">\n",
       "      <th></th>\n",
       "      <th>True_value</th>\n",
       "      <th>True_value</th>\n",
       "      <th>True_value</th>\n",
       "      <th>True_value</th>\n",
       "      <th>True_value</th>\n",
       "      <th>True_value</th>\n",
       "      <th>True_value</th>\n",
       "      <th>True_value</th>\n",
       "      <th>True_value</th>\n",
       "      <th>True_value</th>\n",
       "      <th>...</th>\n",
       "      <th>True_value</th>\n",
       "      <th>True_value</th>\n",
       "      <th>True_value</th>\n",
       "      <th>True_value</th>\n",
       "      <th>True_value</th>\n",
       "      <th>True_value</th>\n",
       "      <th>True_value</th>\n",
       "      <th>True_value</th>\n",
       "      <th>True_value</th>\n",
       "      <th>True_value</th>\n",
       "    </tr>\n",
       "  </thead>\n",
       "  <tbody>\n",
       "    <tr>\n",
       "      <th>0</th>\n",
       "      <td>0.000000</td>\n",
       "      <td>0.000000</td>\n",
       "      <td>0.000000e+00</td>\n",
       "      <td>0.000000</td>\n",
       "      <td>0.000000</td>\n",
       "      <td>0.000000e+00</td>\n",
       "      <td>0.000000</td>\n",
       "      <td>0.000000e+00</td>\n",
       "      <td>0.000000</td>\n",
       "      <td>0.0</td>\n",
       "      <td>...</td>\n",
       "      <td>0.0</td>\n",
       "      <td>0.0</td>\n",
       "      <td>0.000000</td>\n",
       "      <td>0.000000</td>\n",
       "      <td>0.0</td>\n",
       "      <td>0.0</td>\n",
       "      <td>0.0</td>\n",
       "      <td>0.0</td>\n",
       "      <td>0.0</td>\n",
       "      <td>0.0</td>\n",
       "    </tr>\n",
       "    <tr>\n",
       "      <th>1</th>\n",
       "      <td>0.009996</td>\n",
       "      <td>0.003767</td>\n",
       "      <td>0.000000e+00</td>\n",
       "      <td>0.000000</td>\n",
       "      <td>0.000000</td>\n",
       "      <td>0.000000e+00</td>\n",
       "      <td>0.000000</td>\n",
       "      <td>0.000000e+00</td>\n",
       "      <td>0.000000</td>\n",
       "      <td>0.0</td>\n",
       "      <td>...</td>\n",
       "      <td>0.0</td>\n",
       "      <td>0.0</td>\n",
       "      <td>0.000000</td>\n",
       "      <td>0.000000</td>\n",
       "      <td>0.0</td>\n",
       "      <td>0.0</td>\n",
       "      <td>0.0</td>\n",
       "      <td>0.0</td>\n",
       "      <td>0.0</td>\n",
       "      <td>0.0</td>\n",
       "    </tr>\n",
       "    <tr>\n",
       "      <th>2</th>\n",
       "      <td>0.000000</td>\n",
       "      <td>0.000000</td>\n",
       "      <td>0.000000e+00</td>\n",
       "      <td>0.000000</td>\n",
       "      <td>0.000000</td>\n",
       "      <td>0.000000e+00</td>\n",
       "      <td>0.000000</td>\n",
       "      <td>7.242216e-01</td>\n",
       "      <td>0.272918</td>\n",
       "      <td>0.0</td>\n",
       "      <td>...</td>\n",
       "      <td>0.0</td>\n",
       "      <td>0.0</td>\n",
       "      <td>0.000000</td>\n",
       "      <td>0.000000</td>\n",
       "      <td>0.0</td>\n",
       "      <td>0.0</td>\n",
       "      <td>0.0</td>\n",
       "      <td>0.0</td>\n",
       "      <td>0.0</td>\n",
       "      <td>0.0</td>\n",
       "    </tr>\n",
       "    <tr>\n",
       "      <th>3</th>\n",
       "      <td>0.000037</td>\n",
       "      <td>0.004561</td>\n",
       "      <td>7.131672e-07</td>\n",
       "      <td>0.000000</td>\n",
       "      <td>0.000000</td>\n",
       "      <td>1.256399e-06</td>\n",
       "      <td>0.000154</td>\n",
       "      <td>2.405033e-08</td>\n",
       "      <td>0.000000</td>\n",
       "      <td>0.0</td>\n",
       "      <td>...</td>\n",
       "      <td>0.0</td>\n",
       "      <td>0.0</td>\n",
       "      <td>0.000000</td>\n",
       "      <td>0.000000</td>\n",
       "      <td>0.0</td>\n",
       "      <td>0.0</td>\n",
       "      <td>0.0</td>\n",
       "      <td>0.0</td>\n",
       "      <td>0.0</td>\n",
       "      <td>0.0</td>\n",
       "    </tr>\n",
       "    <tr>\n",
       "      <th>4</th>\n",
       "      <td>0.000000</td>\n",
       "      <td>0.000000</td>\n",
       "      <td>0.000000e+00</td>\n",
       "      <td>0.000000</td>\n",
       "      <td>0.000000</td>\n",
       "      <td>6.585136e-04</td>\n",
       "      <td>0.974312</td>\n",
       "      <td>2.459335e-03</td>\n",
       "      <td>0.000000</td>\n",
       "      <td>0.0</td>\n",
       "      <td>...</td>\n",
       "      <td>0.0</td>\n",
       "      <td>0.0</td>\n",
       "      <td>0.158682</td>\n",
       "      <td>0.115037</td>\n",
       "      <td>0.0</td>\n",
       "      <td>0.0</td>\n",
       "      <td>0.0</td>\n",
       "      <td>0.0</td>\n",
       "      <td>0.0</td>\n",
       "      <td>0.0</td>\n",
       "    </tr>\n",
       "    <tr>\n",
       "      <th>5</th>\n",
       "      <td>0.000000</td>\n",
       "      <td>0.000000</td>\n",
       "      <td>0.000000e+00</td>\n",
       "      <td>0.000154</td>\n",
       "      <td>0.983625</td>\n",
       "      <td>8.035206e-03</td>\n",
       "      <td>0.000000</td>\n",
       "      <td>0.000000e+00</td>\n",
       "      <td>0.000000</td>\n",
       "      <td>0.0</td>\n",
       "      <td>...</td>\n",
       "      <td>0.0</td>\n",
       "      <td>0.0</td>\n",
       "      <td>0.000000</td>\n",
       "      <td>0.000000</td>\n",
       "      <td>0.0</td>\n",
       "      <td>0.0</td>\n",
       "      <td>0.0</td>\n",
       "      <td>0.0</td>\n",
       "      <td>0.0</td>\n",
       "      <td>0.0</td>\n",
       "    </tr>\n",
       "    <tr>\n",
       "      <th>6</th>\n",
       "      <td>0.000000</td>\n",
       "      <td>0.517342</td>\n",
       "      <td>2.713586e-01</td>\n",
       "      <td>0.000000</td>\n",
       "      <td>0.000000</td>\n",
       "      <td>1.334030e-07</td>\n",
       "      <td>0.242338</td>\n",
       "      <td>3.136316e-02</td>\n",
       "      <td>0.000000</td>\n",
       "      <td>0.0</td>\n",
       "      <td>...</td>\n",
       "      <td>0.0</td>\n",
       "      <td>0.0</td>\n",
       "      <td>0.000000</td>\n",
       "      <td>0.000000</td>\n",
       "      <td>0.0</td>\n",
       "      <td>0.0</td>\n",
       "      <td>0.0</td>\n",
       "      <td>0.0</td>\n",
       "      <td>0.0</td>\n",
       "      <td>0.0</td>\n",
       "    </tr>\n",
       "  </tbody>\n",
       "</table>\n",
       "<p>7 rows × 910 columns</p>\n",
       "</div>"
      ],
      "text/plain": [
       "   True_value  True_value    True_value  True_value  True_value    True_value  \\\n",
       "0    0.000000    0.000000  0.000000e+00    0.000000    0.000000  0.000000e+00   \n",
       "1    0.009996    0.003767  0.000000e+00    0.000000    0.000000  0.000000e+00   \n",
       "2    0.000000    0.000000  0.000000e+00    0.000000    0.000000  0.000000e+00   \n",
       "3    0.000037    0.004561  7.131672e-07    0.000000    0.000000  1.256399e-06   \n",
       "4    0.000000    0.000000  0.000000e+00    0.000000    0.000000  6.585136e-04   \n",
       "5    0.000000    0.000000  0.000000e+00    0.000154    0.983625  8.035206e-03   \n",
       "6    0.000000    0.517342  2.713586e-01    0.000000    0.000000  1.334030e-07   \n",
       "\n",
       "   True_value    True_value  True_value  True_value  ...  True_value  \\\n",
       "0    0.000000  0.000000e+00    0.000000         0.0  ...         0.0   \n",
       "1    0.000000  0.000000e+00    0.000000         0.0  ...         0.0   \n",
       "2    0.000000  7.242216e-01    0.272918         0.0  ...         0.0   \n",
       "3    0.000154  2.405033e-08    0.000000         0.0  ...         0.0   \n",
       "4    0.974312  2.459335e-03    0.000000         0.0  ...         0.0   \n",
       "5    0.000000  0.000000e+00    0.000000         0.0  ...         0.0   \n",
       "6    0.242338  3.136316e-02    0.000000         0.0  ...         0.0   \n",
       "\n",
       "   True_value  True_value  True_value  True_value  True_value  True_value  \\\n",
       "0         0.0    0.000000    0.000000         0.0         0.0         0.0   \n",
       "1         0.0    0.000000    0.000000         0.0         0.0         0.0   \n",
       "2         0.0    0.000000    0.000000         0.0         0.0         0.0   \n",
       "3         0.0    0.000000    0.000000         0.0         0.0         0.0   \n",
       "4         0.0    0.158682    0.115037         0.0         0.0         0.0   \n",
       "5         0.0    0.000000    0.000000         0.0         0.0         0.0   \n",
       "6         0.0    0.000000    0.000000         0.0         0.0         0.0   \n",
       "\n",
       "   True_value  True_value  True_value  \n",
       "0         0.0         0.0         0.0  \n",
       "1         0.0         0.0         0.0  \n",
       "2         0.0         0.0         0.0  \n",
       "3         0.0         0.0         0.0  \n",
       "4         0.0         0.0         0.0  \n",
       "5         0.0         0.0         0.0  \n",
       "6         0.0         0.0         0.0  \n",
       "\n",
       "[7 rows x 910 columns]"
      ]
     },
     "execution_count": 23,
     "metadata": {},
     "output_type": "execute_result"
    }
   ],
   "source": [
    "exp_true"
   ]
  },
  {
   "cell_type": "code",
   "execution_count": 24,
   "id": "fbc09b78-d34e-434e-8232-ee3be25766e9",
   "metadata": {},
   "outputs": [],
   "source": [
    "# sum the true values - since the sub images are not overlapping, we can get the sum across columns in the above dataframe\n",
    "sum_true_values = exp_true.sum(axis = 1)"
   ]
  },
  {
   "cell_type": "code",
   "execution_count": 25,
   "id": "6057a433-4dfb-4804-bbac-ea3dacce11e6",
   "metadata": {},
   "outputs": [
    {
     "data": {
      "text/plain": [
       "0    49.000000\n",
       "1    49.000005\n",
       "2    53.999570\n",
       "3    50.042349\n",
       "4    43.000009\n",
       "5    48.000573\n",
       "6    36.999999\n",
       "dtype: float64"
      ]
     },
     "execution_count": 25,
     "metadata": {},
     "output_type": "execute_result"
    }
   ],
   "source": [
    "sum_true_values"
   ]
  },
  {
   "cell_type": "code",
   "execution_count": 26,
   "id": "2fc2ac3e-59e7-4f27-91ab-31d30b4eeaa7",
   "metadata": {},
   "outputs": [],
   "source": [
    "# get the forecasted values\n",
    "Forecasted_values_df = combined_df[['Forecasted_value']]"
   ]
  },
  {
   "cell_type": "code",
   "execution_count": 27,
   "id": "4d4182a4-7ede-4ffc-b952-08aa47d424d0",
   "metadata": {},
   "outputs": [
    {
     "data": {
      "text/html": [
       "<div>\n",
       "<style scoped>\n",
       "    .dataframe tbody tr th:only-of-type {\n",
       "        vertical-align: middle;\n",
       "    }\n",
       "\n",
       "    .dataframe tbody tr th {\n",
       "        vertical-align: top;\n",
       "    }\n",
       "\n",
       "    .dataframe thead th {\n",
       "        text-align: right;\n",
       "    }\n",
       "</style>\n",
       "<table border=\"1\" class=\"dataframe\">\n",
       "  <thead>\n",
       "    <tr style=\"text-align: right;\">\n",
       "      <th></th>\n",
       "      <th>Forecasted_value</th>\n",
       "      <th>Forecasted_value</th>\n",
       "      <th>Forecasted_value</th>\n",
       "      <th>Forecasted_value</th>\n",
       "      <th>Forecasted_value</th>\n",
       "      <th>Forecasted_value</th>\n",
       "      <th>Forecasted_value</th>\n",
       "      <th>Forecasted_value</th>\n",
       "      <th>Forecasted_value</th>\n",
       "      <th>Forecasted_value</th>\n",
       "      <th>...</th>\n",
       "      <th>Forecasted_value</th>\n",
       "      <th>Forecasted_value</th>\n",
       "      <th>Forecasted_value</th>\n",
       "      <th>Forecasted_value</th>\n",
       "      <th>Forecasted_value</th>\n",
       "      <th>Forecasted_value</th>\n",
       "      <th>Forecasted_value</th>\n",
       "      <th>Forecasted_value</th>\n",
       "      <th>Forecasted_value</th>\n",
       "      <th>Forecasted_value</th>\n",
       "    </tr>\n",
       "  </thead>\n",
       "  <tbody>\n",
       "    <tr>\n",
       "      <th>0</th>\n",
       "      <td>0.000406</td>\n",
       "      <td>-0.014003</td>\n",
       "      <td>-0.006570</td>\n",
       "      <td>-0.015622</td>\n",
       "      <td>-0.004524</td>\n",
       "      <td>-0.004993</td>\n",
       "      <td>0.026482</td>\n",
       "      <td>-0.065087</td>\n",
       "      <td>0.002783</td>\n",
       "      <td>-0.005009</td>\n",
       "      <td>...</td>\n",
       "      <td>-0.009462</td>\n",
       "      <td>0.000986</td>\n",
       "      <td>0.005585</td>\n",
       "      <td>-0.004138</td>\n",
       "      <td>-0.003268</td>\n",
       "      <td>-0.003171</td>\n",
       "      <td>-0.016560</td>\n",
       "      <td>-0.001557</td>\n",
       "      <td>-0.001128</td>\n",
       "      <td>-0.002171</td>\n",
       "    </tr>\n",
       "    <tr>\n",
       "      <th>1</th>\n",
       "      <td>-0.003737</td>\n",
       "      <td>-0.004209</td>\n",
       "      <td>0.000860</td>\n",
       "      <td>-0.007392</td>\n",
       "      <td>0.000756</td>\n",
       "      <td>0.019516</td>\n",
       "      <td>0.026406</td>\n",
       "      <td>-0.037464</td>\n",
       "      <td>-0.000386</td>\n",
       "      <td>0.000102</td>\n",
       "      <td>...</td>\n",
       "      <td>-0.008709</td>\n",
       "      <td>0.001821</td>\n",
       "      <td>-0.003597</td>\n",
       "      <td>0.004687</td>\n",
       "      <td>-0.005976</td>\n",
       "      <td>0.000038</td>\n",
       "      <td>-0.005749</td>\n",
       "      <td>-0.001955</td>\n",
       "      <td>-0.000066</td>\n",
       "      <td>0.001649</td>\n",
       "    </tr>\n",
       "    <tr>\n",
       "      <th>2</th>\n",
       "      <td>-0.009951</td>\n",
       "      <td>-0.013025</td>\n",
       "      <td>-0.001112</td>\n",
       "      <td>-0.001699</td>\n",
       "      <td>0.005250</td>\n",
       "      <td>0.009668</td>\n",
       "      <td>0.043802</td>\n",
       "      <td>-0.051859</td>\n",
       "      <td>-0.006797</td>\n",
       "      <td>-0.008846</td>\n",
       "      <td>...</td>\n",
       "      <td>0.008373</td>\n",
       "      <td>-0.000410</td>\n",
       "      <td>-0.008525</td>\n",
       "      <td>0.006630</td>\n",
       "      <td>-0.011689</td>\n",
       "      <td>-0.000749</td>\n",
       "      <td>-0.007453</td>\n",
       "      <td>0.002822</td>\n",
       "      <td>-0.002384</td>\n",
       "      <td>-0.003483</td>\n",
       "    </tr>\n",
       "    <tr>\n",
       "      <th>3</th>\n",
       "      <td>0.009409</td>\n",
       "      <td>-0.002757</td>\n",
       "      <td>-0.001423</td>\n",
       "      <td>0.018110</td>\n",
       "      <td>0.000588</td>\n",
       "      <td>0.004813</td>\n",
       "      <td>0.033242</td>\n",
       "      <td>-0.080701</td>\n",
       "      <td>0.002421</td>\n",
       "      <td>0.011382</td>\n",
       "      <td>...</td>\n",
       "      <td>-0.000441</td>\n",
       "      <td>0.001169</td>\n",
       "      <td>-0.002531</td>\n",
       "      <td>0.008617</td>\n",
       "      <td>-0.007010</td>\n",
       "      <td>0.000644</td>\n",
       "      <td>-0.002185</td>\n",
       "      <td>-0.000807</td>\n",
       "      <td>0.000506</td>\n",
       "      <td>0.006351</td>\n",
       "    </tr>\n",
       "    <tr>\n",
       "      <th>4</th>\n",
       "      <td>-0.002583</td>\n",
       "      <td>0.000919</td>\n",
       "      <td>-0.002117</td>\n",
       "      <td>0.002515</td>\n",
       "      <td>0.002888</td>\n",
       "      <td>-0.004001</td>\n",
       "      <td>0.021604</td>\n",
       "      <td>-0.100867</td>\n",
       "      <td>0.006259</td>\n",
       "      <td>0.003044</td>\n",
       "      <td>...</td>\n",
       "      <td>0.006010</td>\n",
       "      <td>0.002481</td>\n",
       "      <td>-0.003685</td>\n",
       "      <td>0.012787</td>\n",
       "      <td>-0.000414</td>\n",
       "      <td>-0.001638</td>\n",
       "      <td>-0.000671</td>\n",
       "      <td>0.003193</td>\n",
       "      <td>0.000761</td>\n",
       "      <td>0.005511</td>\n",
       "    </tr>\n",
       "  </tbody>\n",
       "</table>\n",
       "<p>5 rows × 910 columns</p>\n",
       "</div>"
      ],
      "text/plain": [
       "   Forecasted_value  Forecasted_value  Forecasted_value  Forecasted_value  \\\n",
       "0          0.000406         -0.014003         -0.006570         -0.015622   \n",
       "1         -0.003737         -0.004209          0.000860         -0.007392   \n",
       "2         -0.009951         -0.013025         -0.001112         -0.001699   \n",
       "3          0.009409         -0.002757         -0.001423          0.018110   \n",
       "4         -0.002583          0.000919         -0.002117          0.002515   \n",
       "\n",
       "   Forecasted_value  Forecasted_value  Forecasted_value  Forecasted_value  \\\n",
       "0         -0.004524         -0.004993          0.026482         -0.065087   \n",
       "1          0.000756          0.019516          0.026406         -0.037464   \n",
       "2          0.005250          0.009668          0.043802         -0.051859   \n",
       "3          0.000588          0.004813          0.033242         -0.080701   \n",
       "4          0.002888         -0.004001          0.021604         -0.100867   \n",
       "\n",
       "   Forecasted_value  Forecasted_value  ...  Forecasted_value  \\\n",
       "0          0.002783         -0.005009  ...         -0.009462   \n",
       "1         -0.000386          0.000102  ...         -0.008709   \n",
       "2         -0.006797         -0.008846  ...          0.008373   \n",
       "3          0.002421          0.011382  ...         -0.000441   \n",
       "4          0.006259          0.003044  ...          0.006010   \n",
       "\n",
       "   Forecasted_value  Forecasted_value  Forecasted_value  Forecasted_value  \\\n",
       "0          0.000986          0.005585         -0.004138         -0.003268   \n",
       "1          0.001821         -0.003597          0.004687         -0.005976   \n",
       "2         -0.000410         -0.008525          0.006630         -0.011689   \n",
       "3          0.001169         -0.002531          0.008617         -0.007010   \n",
       "4          0.002481         -0.003685          0.012787         -0.000414   \n",
       "\n",
       "   Forecasted_value  Forecasted_value  Forecasted_value  Forecasted_value  \\\n",
       "0         -0.003171         -0.016560         -0.001557         -0.001128   \n",
       "1          0.000038         -0.005749         -0.001955         -0.000066   \n",
       "2         -0.000749         -0.007453          0.002822         -0.002384   \n",
       "3          0.000644         -0.002185         -0.000807          0.000506   \n",
       "4         -0.001638         -0.000671          0.003193          0.000761   \n",
       "\n",
       "   Forecasted_value  \n",
       "0         -0.002171  \n",
       "1          0.001649  \n",
       "2         -0.003483  \n",
       "3          0.006351  \n",
       "4          0.005511  \n",
       "\n",
       "[5 rows x 910 columns]"
      ]
     },
     "execution_count": 27,
     "metadata": {},
     "output_type": "execute_result"
    }
   ],
   "source": [
    "Forecasted_values_df.head()"
   ]
  },
  {
   "cell_type": "code",
   "execution_count": 28,
   "id": "c4e2130b-9b6b-40b7-9efe-4cd6cd30c107",
   "metadata": {},
   "outputs": [],
   "source": [
    "exp_forecasted = np.exp(Forecasted_values_df)-1"
   ]
  },
  {
   "cell_type": "code",
   "execution_count": 29,
   "id": "60cd0006-0367-436e-b3c8-282e12e01146",
   "metadata": {},
   "outputs": [
    {
     "data": {
      "text/html": [
       "<div>\n",
       "<style scoped>\n",
       "    .dataframe tbody tr th:only-of-type {\n",
       "        vertical-align: middle;\n",
       "    }\n",
       "\n",
       "    .dataframe tbody tr th {\n",
       "        vertical-align: top;\n",
       "    }\n",
       "\n",
       "    .dataframe thead th {\n",
       "        text-align: right;\n",
       "    }\n",
       "</style>\n",
       "<table border=\"1\" class=\"dataframe\">\n",
       "  <thead>\n",
       "    <tr style=\"text-align: right;\">\n",
       "      <th></th>\n",
       "      <th>Forecasted_value</th>\n",
       "      <th>Forecasted_value</th>\n",
       "      <th>Forecasted_value</th>\n",
       "      <th>Forecasted_value</th>\n",
       "      <th>Forecasted_value</th>\n",
       "      <th>Forecasted_value</th>\n",
       "      <th>Forecasted_value</th>\n",
       "      <th>Forecasted_value</th>\n",
       "      <th>Forecasted_value</th>\n",
       "      <th>Forecasted_value</th>\n",
       "      <th>...</th>\n",
       "      <th>Forecasted_value</th>\n",
       "      <th>Forecasted_value</th>\n",
       "      <th>Forecasted_value</th>\n",
       "      <th>Forecasted_value</th>\n",
       "      <th>Forecasted_value</th>\n",
       "      <th>Forecasted_value</th>\n",
       "      <th>Forecasted_value</th>\n",
       "      <th>Forecasted_value</th>\n",
       "      <th>Forecasted_value</th>\n",
       "      <th>Forecasted_value</th>\n",
       "    </tr>\n",
       "  </thead>\n",
       "  <tbody>\n",
       "    <tr>\n",
       "      <th>0</th>\n",
       "      <td>0.000406</td>\n",
       "      <td>-0.013905</td>\n",
       "      <td>-0.006549</td>\n",
       "      <td>-0.015501</td>\n",
       "      <td>-0.004514</td>\n",
       "      <td>-0.004980</td>\n",
       "      <td>0.026835</td>\n",
       "      <td>-0.063014</td>\n",
       "      <td>0.002787</td>\n",
       "      <td>-0.004997</td>\n",
       "      <td>...</td>\n",
       "      <td>-0.009417</td>\n",
       "      <td>0.000986</td>\n",
       "      <td>0.005601</td>\n",
       "      <td>-0.004130</td>\n",
       "      <td>-0.003262</td>\n",
       "      <td>-0.003166</td>\n",
       "      <td>-0.016423</td>\n",
       "      <td>-0.001556</td>\n",
       "      <td>-0.001127</td>\n",
       "      <td>-0.002169</td>\n",
       "    </tr>\n",
       "    <tr>\n",
       "      <th>1</th>\n",
       "      <td>-0.003730</td>\n",
       "      <td>-0.004200</td>\n",
       "      <td>0.000861</td>\n",
       "      <td>-0.007365</td>\n",
       "      <td>0.000756</td>\n",
       "      <td>0.019708</td>\n",
       "      <td>0.026757</td>\n",
       "      <td>-0.036771</td>\n",
       "      <td>-0.000386</td>\n",
       "      <td>0.000102</td>\n",
       "      <td>...</td>\n",
       "      <td>-0.008671</td>\n",
       "      <td>0.001823</td>\n",
       "      <td>-0.003591</td>\n",
       "      <td>0.004698</td>\n",
       "      <td>-0.005958</td>\n",
       "      <td>0.000038</td>\n",
       "      <td>-0.005733</td>\n",
       "      <td>-0.001953</td>\n",
       "      <td>-0.000066</td>\n",
       "      <td>0.001650</td>\n",
       "    </tr>\n",
       "    <tr>\n",
       "      <th>2</th>\n",
       "      <td>-0.009901</td>\n",
       "      <td>-0.012941</td>\n",
       "      <td>-0.001111</td>\n",
       "      <td>-0.001697</td>\n",
       "      <td>0.005264</td>\n",
       "      <td>0.009715</td>\n",
       "      <td>0.044775</td>\n",
       "      <td>-0.050537</td>\n",
       "      <td>-0.006773</td>\n",
       "      <td>-0.008807</td>\n",
       "      <td>...</td>\n",
       "      <td>0.008408</td>\n",
       "      <td>-0.000410</td>\n",
       "      <td>-0.008489</td>\n",
       "      <td>0.006652</td>\n",
       "      <td>-0.011621</td>\n",
       "      <td>-0.000749</td>\n",
       "      <td>-0.007425</td>\n",
       "      <td>0.002826</td>\n",
       "      <td>-0.002381</td>\n",
       "      <td>-0.003477</td>\n",
       "    </tr>\n",
       "    <tr>\n",
       "      <th>3</th>\n",
       "      <td>0.009454</td>\n",
       "      <td>-0.002753</td>\n",
       "      <td>-0.001421</td>\n",
       "      <td>0.018275</td>\n",
       "      <td>0.000588</td>\n",
       "      <td>0.004825</td>\n",
       "      <td>0.033801</td>\n",
       "      <td>-0.077530</td>\n",
       "      <td>0.002424</td>\n",
       "      <td>0.011447</td>\n",
       "      <td>...</td>\n",
       "      <td>-0.000441</td>\n",
       "      <td>0.001170</td>\n",
       "      <td>-0.002528</td>\n",
       "      <td>0.008654</td>\n",
       "      <td>-0.006985</td>\n",
       "      <td>0.000644</td>\n",
       "      <td>-0.002183</td>\n",
       "      <td>-0.000807</td>\n",
       "      <td>0.000506</td>\n",
       "      <td>0.006371</td>\n",
       "    </tr>\n",
       "    <tr>\n",
       "      <th>4</th>\n",
       "      <td>-0.002580</td>\n",
       "      <td>0.000919</td>\n",
       "      <td>-0.002115</td>\n",
       "      <td>0.002518</td>\n",
       "      <td>0.002892</td>\n",
       "      <td>-0.003993</td>\n",
       "      <td>0.021839</td>\n",
       "      <td>-0.095947</td>\n",
       "      <td>0.006279</td>\n",
       "      <td>0.003049</td>\n",
       "      <td>...</td>\n",
       "      <td>0.006028</td>\n",
       "      <td>0.002485</td>\n",
       "      <td>-0.003679</td>\n",
       "      <td>0.012869</td>\n",
       "      <td>-0.000414</td>\n",
       "      <td>-0.001637</td>\n",
       "      <td>-0.000671</td>\n",
       "      <td>0.003199</td>\n",
       "      <td>0.000761</td>\n",
       "      <td>0.005526</td>\n",
       "    </tr>\n",
       "    <tr>\n",
       "      <th>5</th>\n",
       "      <td>-0.004346</td>\n",
       "      <td>0.006425</td>\n",
       "      <td>0.000045</td>\n",
       "      <td>0.015056</td>\n",
       "      <td>0.002416</td>\n",
       "      <td>0.006778</td>\n",
       "      <td>0.047195</td>\n",
       "      <td>-0.037041</td>\n",
       "      <td>0.006379</td>\n",
       "      <td>0.005499</td>\n",
       "      <td>...</td>\n",
       "      <td>-0.002541</td>\n",
       "      <td>0.003597</td>\n",
       "      <td>-0.006953</td>\n",
       "      <td>0.009374</td>\n",
       "      <td>0.001483</td>\n",
       "      <td>-0.000637</td>\n",
       "      <td>0.000943</td>\n",
       "      <td>-0.001355</td>\n",
       "      <td>0.002409</td>\n",
       "      <td>0.007068</td>\n",
       "    </tr>\n",
       "    <tr>\n",
       "      <th>6</th>\n",
       "      <td>-0.000539</td>\n",
       "      <td>-0.003299</td>\n",
       "      <td>-0.001807</td>\n",
       "      <td>0.002916</td>\n",
       "      <td>0.002031</td>\n",
       "      <td>0.008357</td>\n",
       "      <td>0.026699</td>\n",
       "      <td>-0.026942</td>\n",
       "      <td>0.005785</td>\n",
       "      <td>0.002008</td>\n",
       "      <td>...</td>\n",
       "      <td>0.002412</td>\n",
       "      <td>0.001346</td>\n",
       "      <td>-0.005463</td>\n",
       "      <td>0.006973</td>\n",
       "      <td>-0.002866</td>\n",
       "      <td>0.001133</td>\n",
       "      <td>0.001459</td>\n",
       "      <td>0.001561</td>\n",
       "      <td>0.000239</td>\n",
       "      <td>0.001589</td>\n",
       "    </tr>\n",
       "  </tbody>\n",
       "</table>\n",
       "<p>7 rows × 910 columns</p>\n",
       "</div>"
      ],
      "text/plain": [
       "   Forecasted_value  Forecasted_value  Forecasted_value  Forecasted_value  \\\n",
       "0          0.000406         -0.013905         -0.006549         -0.015501   \n",
       "1         -0.003730         -0.004200          0.000861         -0.007365   \n",
       "2         -0.009901         -0.012941         -0.001111         -0.001697   \n",
       "3          0.009454         -0.002753         -0.001421          0.018275   \n",
       "4         -0.002580          0.000919         -0.002115          0.002518   \n",
       "5         -0.004346          0.006425          0.000045          0.015056   \n",
       "6         -0.000539         -0.003299         -0.001807          0.002916   \n",
       "\n",
       "   Forecasted_value  Forecasted_value  Forecasted_value  Forecasted_value  \\\n",
       "0         -0.004514         -0.004980          0.026835         -0.063014   \n",
       "1          0.000756          0.019708          0.026757         -0.036771   \n",
       "2          0.005264          0.009715          0.044775         -0.050537   \n",
       "3          0.000588          0.004825          0.033801         -0.077530   \n",
       "4          0.002892         -0.003993          0.021839         -0.095947   \n",
       "5          0.002416          0.006778          0.047195         -0.037041   \n",
       "6          0.002031          0.008357          0.026699         -0.026942   \n",
       "\n",
       "   Forecasted_value  Forecasted_value  ...  Forecasted_value  \\\n",
       "0          0.002787         -0.004997  ...         -0.009417   \n",
       "1         -0.000386          0.000102  ...         -0.008671   \n",
       "2         -0.006773         -0.008807  ...          0.008408   \n",
       "3          0.002424          0.011447  ...         -0.000441   \n",
       "4          0.006279          0.003049  ...          0.006028   \n",
       "5          0.006379          0.005499  ...         -0.002541   \n",
       "6          0.005785          0.002008  ...          0.002412   \n",
       "\n",
       "   Forecasted_value  Forecasted_value  Forecasted_value  Forecasted_value  \\\n",
       "0          0.000986          0.005601         -0.004130         -0.003262   \n",
       "1          0.001823         -0.003591          0.004698         -0.005958   \n",
       "2         -0.000410         -0.008489          0.006652         -0.011621   \n",
       "3          0.001170         -0.002528          0.008654         -0.006985   \n",
       "4          0.002485         -0.003679          0.012869         -0.000414   \n",
       "5          0.003597         -0.006953          0.009374          0.001483   \n",
       "6          0.001346         -0.005463          0.006973         -0.002866   \n",
       "\n",
       "   Forecasted_value  Forecasted_value  Forecasted_value  Forecasted_value  \\\n",
       "0         -0.003166         -0.016423         -0.001556         -0.001127   \n",
       "1          0.000038         -0.005733         -0.001953         -0.000066   \n",
       "2         -0.000749         -0.007425          0.002826         -0.002381   \n",
       "3          0.000644         -0.002183         -0.000807          0.000506   \n",
       "4         -0.001637         -0.000671          0.003199          0.000761   \n",
       "5         -0.000637          0.000943         -0.001355          0.002409   \n",
       "6          0.001133          0.001459          0.001561          0.000239   \n",
       "\n",
       "   Forecasted_value  \n",
       "0         -0.002169  \n",
       "1          0.001650  \n",
       "2         -0.003477  \n",
       "3          0.006371  \n",
       "4          0.005526  \n",
       "5          0.007068  \n",
       "6          0.001589  \n",
       "\n",
       "[7 rows x 910 columns]"
      ]
     },
     "execution_count": 29,
     "metadata": {},
     "output_type": "execute_result"
    }
   ],
   "source": [
    "exp_forecasted"
   ]
  },
  {
   "cell_type": "code",
   "execution_count": 30,
   "id": "cdc66bd6-b552-4dcd-9703-e07b035fb736",
   "metadata": {},
   "outputs": [],
   "source": [
    "# set the values to 0 if the forecasted count is negative?"
   ]
  },
  {
   "cell_type": "code",
   "execution_count": 31,
   "id": "56eddb77-a48e-409d-9684-10bb31132568",
   "metadata": {},
   "outputs": [],
   "source": [
    "exp_forecasted[exp_forecasted < 0] = 0"
   ]
  },
  {
   "cell_type": "code",
   "execution_count": 32,
   "id": "c96eedde-fcfa-4f54-b8cb-d5f5cb3d6493",
   "metadata": {},
   "outputs": [
    {
     "data": {
      "text/html": [
       "<div>\n",
       "<style scoped>\n",
       "    .dataframe tbody tr th:only-of-type {\n",
       "        vertical-align: middle;\n",
       "    }\n",
       "\n",
       "    .dataframe tbody tr th {\n",
       "        vertical-align: top;\n",
       "    }\n",
       "\n",
       "    .dataframe thead th {\n",
       "        text-align: right;\n",
       "    }\n",
       "</style>\n",
       "<table border=\"1\" class=\"dataframe\">\n",
       "  <thead>\n",
       "    <tr style=\"text-align: right;\">\n",
       "      <th></th>\n",
       "      <th>Forecasted_value</th>\n",
       "      <th>Forecasted_value</th>\n",
       "      <th>Forecasted_value</th>\n",
       "      <th>Forecasted_value</th>\n",
       "      <th>Forecasted_value</th>\n",
       "      <th>Forecasted_value</th>\n",
       "      <th>Forecasted_value</th>\n",
       "      <th>Forecasted_value</th>\n",
       "      <th>Forecasted_value</th>\n",
       "      <th>Forecasted_value</th>\n",
       "      <th>...</th>\n",
       "      <th>Forecasted_value</th>\n",
       "      <th>Forecasted_value</th>\n",
       "      <th>Forecasted_value</th>\n",
       "      <th>Forecasted_value</th>\n",
       "      <th>Forecasted_value</th>\n",
       "      <th>Forecasted_value</th>\n",
       "      <th>Forecasted_value</th>\n",
       "      <th>Forecasted_value</th>\n",
       "      <th>Forecasted_value</th>\n",
       "      <th>Forecasted_value</th>\n",
       "    </tr>\n",
       "  </thead>\n",
       "  <tbody>\n",
       "    <tr>\n",
       "      <th>0</th>\n",
       "      <td>0.000406</td>\n",
       "      <td>0.000000</td>\n",
       "      <td>0.000000</td>\n",
       "      <td>0.000000</td>\n",
       "      <td>0.000000</td>\n",
       "      <td>0.000000</td>\n",
       "      <td>0.026835</td>\n",
       "      <td>0.0</td>\n",
       "      <td>0.002787</td>\n",
       "      <td>0.000000</td>\n",
       "      <td>...</td>\n",
       "      <td>0.000000</td>\n",
       "      <td>0.000986</td>\n",
       "      <td>0.005601</td>\n",
       "      <td>0.000000</td>\n",
       "      <td>0.0</td>\n",
       "      <td>0.000000</td>\n",
       "      <td>0.0</td>\n",
       "      <td>0.000000</td>\n",
       "      <td>0.000000</td>\n",
       "      <td>0.000000</td>\n",
       "    </tr>\n",
       "    <tr>\n",
       "      <th>1</th>\n",
       "      <td>0.000000</td>\n",
       "      <td>0.000000</td>\n",
       "      <td>0.000861</td>\n",
       "      <td>0.000000</td>\n",
       "      <td>0.000756</td>\n",
       "      <td>0.019708</td>\n",
       "      <td>0.026757</td>\n",
       "      <td>0.0</td>\n",
       "      <td>0.000000</td>\n",
       "      <td>0.000102</td>\n",
       "      <td>...</td>\n",
       "      <td>0.000000</td>\n",
       "      <td>0.001823</td>\n",
       "      <td>0.000000</td>\n",
       "      <td>0.004698</td>\n",
       "      <td>0.0</td>\n",
       "      <td>0.000038</td>\n",
       "      <td>0.0</td>\n",
       "      <td>0.000000</td>\n",
       "      <td>0.000000</td>\n",
       "      <td>0.001650</td>\n",
       "    </tr>\n",
       "    <tr>\n",
       "      <th>2</th>\n",
       "      <td>0.000000</td>\n",
       "      <td>0.000000</td>\n",
       "      <td>0.000000</td>\n",
       "      <td>0.000000</td>\n",
       "      <td>0.005264</td>\n",
       "      <td>0.009715</td>\n",
       "      <td>0.044775</td>\n",
       "      <td>0.0</td>\n",
       "      <td>0.000000</td>\n",
       "      <td>0.000000</td>\n",
       "      <td>...</td>\n",
       "      <td>0.008408</td>\n",
       "      <td>0.000000</td>\n",
       "      <td>0.000000</td>\n",
       "      <td>0.006652</td>\n",
       "      <td>0.0</td>\n",
       "      <td>0.000000</td>\n",
       "      <td>0.0</td>\n",
       "      <td>0.002826</td>\n",
       "      <td>0.000000</td>\n",
       "      <td>0.000000</td>\n",
       "    </tr>\n",
       "    <tr>\n",
       "      <th>3</th>\n",
       "      <td>0.009454</td>\n",
       "      <td>0.000000</td>\n",
       "      <td>0.000000</td>\n",
       "      <td>0.018275</td>\n",
       "      <td>0.000588</td>\n",
       "      <td>0.004825</td>\n",
       "      <td>0.033801</td>\n",
       "      <td>0.0</td>\n",
       "      <td>0.002424</td>\n",
       "      <td>0.011447</td>\n",
       "      <td>...</td>\n",
       "      <td>0.000000</td>\n",
       "      <td>0.001170</td>\n",
       "      <td>0.000000</td>\n",
       "      <td>0.008654</td>\n",
       "      <td>0.0</td>\n",
       "      <td>0.000644</td>\n",
       "      <td>0.0</td>\n",
       "      <td>0.000000</td>\n",
       "      <td>0.000506</td>\n",
       "      <td>0.006371</td>\n",
       "    </tr>\n",
       "    <tr>\n",
       "      <th>4</th>\n",
       "      <td>0.000000</td>\n",
       "      <td>0.000919</td>\n",
       "      <td>0.000000</td>\n",
       "      <td>0.002518</td>\n",
       "      <td>0.002892</td>\n",
       "      <td>0.000000</td>\n",
       "      <td>0.021839</td>\n",
       "      <td>0.0</td>\n",
       "      <td>0.006279</td>\n",
       "      <td>0.003049</td>\n",
       "      <td>...</td>\n",
       "      <td>0.006028</td>\n",
       "      <td>0.002485</td>\n",
       "      <td>0.000000</td>\n",
       "      <td>0.012869</td>\n",
       "      <td>0.0</td>\n",
       "      <td>0.000000</td>\n",
       "      <td>0.0</td>\n",
       "      <td>0.003199</td>\n",
       "      <td>0.000761</td>\n",
       "      <td>0.005526</td>\n",
       "    </tr>\n",
       "  </tbody>\n",
       "</table>\n",
       "<p>5 rows × 910 columns</p>\n",
       "</div>"
      ],
      "text/plain": [
       "   Forecasted_value  Forecasted_value  Forecasted_value  Forecasted_value  \\\n",
       "0          0.000406          0.000000          0.000000          0.000000   \n",
       "1          0.000000          0.000000          0.000861          0.000000   \n",
       "2          0.000000          0.000000          0.000000          0.000000   \n",
       "3          0.009454          0.000000          0.000000          0.018275   \n",
       "4          0.000000          0.000919          0.000000          0.002518   \n",
       "\n",
       "   Forecasted_value  Forecasted_value  Forecasted_value  Forecasted_value  \\\n",
       "0          0.000000          0.000000          0.026835               0.0   \n",
       "1          0.000756          0.019708          0.026757               0.0   \n",
       "2          0.005264          0.009715          0.044775               0.0   \n",
       "3          0.000588          0.004825          0.033801               0.0   \n",
       "4          0.002892          0.000000          0.021839               0.0   \n",
       "\n",
       "   Forecasted_value  Forecasted_value  ...  Forecasted_value  \\\n",
       "0          0.002787          0.000000  ...          0.000000   \n",
       "1          0.000000          0.000102  ...          0.000000   \n",
       "2          0.000000          0.000000  ...          0.008408   \n",
       "3          0.002424          0.011447  ...          0.000000   \n",
       "4          0.006279          0.003049  ...          0.006028   \n",
       "\n",
       "   Forecasted_value  Forecasted_value  Forecasted_value  Forecasted_value  \\\n",
       "0          0.000986          0.005601          0.000000               0.0   \n",
       "1          0.001823          0.000000          0.004698               0.0   \n",
       "2          0.000000          0.000000          0.006652               0.0   \n",
       "3          0.001170          0.000000          0.008654               0.0   \n",
       "4          0.002485          0.000000          0.012869               0.0   \n",
       "\n",
       "   Forecasted_value  Forecasted_value  Forecasted_value  Forecasted_value  \\\n",
       "0          0.000000               0.0          0.000000          0.000000   \n",
       "1          0.000038               0.0          0.000000          0.000000   \n",
       "2          0.000000               0.0          0.002826          0.000000   \n",
       "3          0.000644               0.0          0.000000          0.000506   \n",
       "4          0.000000               0.0          0.003199          0.000761   \n",
       "\n",
       "   Forecasted_value  \n",
       "0          0.000000  \n",
       "1          0.001650  \n",
       "2          0.000000  \n",
       "3          0.006371  \n",
       "4          0.005526  \n",
       "\n",
       "[5 rows x 910 columns]"
      ]
     },
     "execution_count": 32,
     "metadata": {},
     "output_type": "execute_result"
    }
   ],
   "source": [
    "exp_forecasted.head()"
   ]
  },
  {
   "cell_type": "code",
   "execution_count": 33,
   "id": "92bcf82f-ca31-4b25-a919-c8d51d72cfa7",
   "metadata": {},
   "outputs": [],
   "source": [
    "sum_forecasted_values = exp_forecasted.sum(axis = 1)"
   ]
  },
  {
   "cell_type": "code",
   "execution_count": 34,
   "id": "7f0e1119-a3bd-4a52-ae36-afa2c2070e2b",
   "metadata": {},
   "outputs": [
    {
     "data": {
      "text/plain": [
       "0    29.510678\n",
       "1    31.120250\n",
       "2    33.588243\n",
       "3    28.402950\n",
       "4    25.410945\n",
       "5    30.143601\n",
       "6    28.597585\n",
       "dtype: float64"
      ]
     },
     "execution_count": 34,
     "metadata": {},
     "output_type": "execute_result"
    }
   ],
   "source": [
    "sum_forecasted_values"
   ]
  },
  {
   "cell_type": "code",
   "execution_count": 35,
   "id": "cbc06a7e-2dca-400d-9cea-d063c33a4442",
   "metadata": {},
   "outputs": [],
   "source": [
    "# concatenate the sum dataframes\n",
    "block_0103_true_and_forecasted_values_df = pd.concat((sum_true_values, sum_forecasted_values), axis = 1)"
   ]
  },
  {
   "cell_type": "code",
   "execution_count": 36,
   "id": "f667f3a6-d7f7-4e7c-a037-1e9541dd38bd",
   "metadata": {},
   "outputs": [],
   "source": [
    "block_0103_true_and_forecasted_values_df.columns = [\"True_count\", \"Forecasted_count\"]"
   ]
  },
  {
   "cell_type": "code",
   "execution_count": 37,
   "id": "d27b93db-c9e2-49ff-9003-9e4925de3179",
   "metadata": {},
   "outputs": [
    {
     "data": {
      "text/html": [
       "<div>\n",
       "<style scoped>\n",
       "    .dataframe tbody tr th:only-of-type {\n",
       "        vertical-align: middle;\n",
       "    }\n",
       "\n",
       "    .dataframe tbody tr th {\n",
       "        vertical-align: top;\n",
       "    }\n",
       "\n",
       "    .dataframe thead th {\n",
       "        text-align: right;\n",
       "    }\n",
       "</style>\n",
       "<table border=\"1\" class=\"dataframe\">\n",
       "  <thead>\n",
       "    <tr style=\"text-align: right;\">\n",
       "      <th></th>\n",
       "      <th>True_count</th>\n",
       "      <th>Forecasted_count</th>\n",
       "    </tr>\n",
       "  </thead>\n",
       "  <tbody>\n",
       "    <tr>\n",
       "      <th>0</th>\n",
       "      <td>49.000000</td>\n",
       "      <td>29.510678</td>\n",
       "    </tr>\n",
       "    <tr>\n",
       "      <th>1</th>\n",
       "      <td>49.000005</td>\n",
       "      <td>31.120250</td>\n",
       "    </tr>\n",
       "    <tr>\n",
       "      <th>2</th>\n",
       "      <td>53.999570</td>\n",
       "      <td>33.588243</td>\n",
       "    </tr>\n",
       "    <tr>\n",
       "      <th>3</th>\n",
       "      <td>50.042349</td>\n",
       "      <td>28.402950</td>\n",
       "    </tr>\n",
       "    <tr>\n",
       "      <th>4</th>\n",
       "      <td>43.000009</td>\n",
       "      <td>25.410945</td>\n",
       "    </tr>\n",
       "    <tr>\n",
       "      <th>5</th>\n",
       "      <td>48.000573</td>\n",
       "      <td>30.143601</td>\n",
       "    </tr>\n",
       "    <tr>\n",
       "      <th>6</th>\n",
       "      <td>36.999999</td>\n",
       "      <td>28.597585</td>\n",
       "    </tr>\n",
       "  </tbody>\n",
       "</table>\n",
       "</div>"
      ],
      "text/plain": [
       "   True_count  Forecasted_count\n",
       "0   49.000000         29.510678\n",
       "1   49.000005         31.120250\n",
       "2   53.999570         33.588243\n",
       "3   50.042349         28.402950\n",
       "4   43.000009         25.410945\n",
       "5   48.000573         30.143601\n",
       "6   36.999999         28.597585"
      ]
     },
     "execution_count": 37,
     "metadata": {},
     "output_type": "execute_result"
    }
   ],
   "source": [
    "block_0103_true_and_forecasted_values_df"
   ]
  },
  {
   "cell_type": "code",
   "execution_count": 38,
   "id": "636d512d-f76b-48dc-90f1-872dc6a32736",
   "metadata": {},
   "outputs": [
    {
     "data": {
      "text/plain": [
       "18.060423878917423"
      ]
     },
     "execution_count": 38,
     "metadata": {},
     "output_type": "execute_result"
    }
   ],
   "source": [
    "# blockwise mean squared error\n",
    "rmse = np.sqrt(mean_squared_error(sum_true_values, sum_forecasted_values))\n",
    "rmse"
   ]
  },
  {
   "cell_type": "code",
   "execution_count": 39,
   "id": "df568443-7d02-4ba8-ad0e-5d83f2576c8b",
   "metadata": {},
   "outputs": [
    {
     "data": {
      "text/plain": [
       "17.609750446646153"
      ]
     },
     "execution_count": 39,
     "metadata": {},
     "output_type": "execute_result"
    }
   ],
   "source": [
    "# blockwise mean absolute error\n",
    "mae = mean_absolute_error(sum_true_values, sum_forecasted_values)\n",
    "mae"
   ]
  },
  {
   "cell_type": "code",
   "execution_count": 40,
   "id": "24d1568b-1b0d-41db-a60b-cd864b46d6e7",
   "metadata": {},
   "outputs": [
    {
     "data": {
      "text/plain": [
       "PearsonRResult(statistic=0.6495669609436917, pvalue=0.11432944683553677)"
      ]
     },
     "execution_count": 40,
     "metadata": {},
     "output_type": "execute_result"
    }
   ],
   "source": [
    "corr = pearsonr(sum_true_values, sum_forecasted_values)\n",
    "corr"
   ]
  },
  {
   "cell_type": "code",
   "execution_count": 41,
   "id": "cf8101a2-be23-4216-afd7-f7783e56f62d",
   "metadata": {},
   "outputs": [
    {
     "data": {
      "text/plain": [
       "-11.470265553418496"
      ]
     },
     "execution_count": 41,
     "metadata": {},
     "output_type": "execute_result"
    }
   ],
   "source": [
    "r2 = r2_score(sum_true_values, sum_forecasted_values)\n",
    "r2"
   ]
  },
  {
   "cell_type": "markdown",
   "id": "fa460e4d-2fdc-45fb-8f50-6a50b0a6ef13",
   "metadata": {},
   "source": [
    "##### Coverages and widths for the forecasted values?"
   ]
  },
  {
   "cell_type": "code",
   "execution_count": 42,
   "id": "ab169e66-e011-4b49-aff9-a0bbc6ed682a",
   "metadata": {},
   "outputs": [],
   "source": [
    "# Should we get the interval preds in the same thinking way too?"
   ]
  },
  {
   "cell_type": "code",
   "execution_count": 43,
   "id": "68096274-41ee-4d50-aa90-600dfa7aebbd",
   "metadata": {},
   "outputs": [],
   "source": [
    "# maybe we should - so first convert to data scale before avearging, and see if the measures differ a lot"
   ]
  },
  {
   "cell_type": "code",
   "execution_count": null,
   "id": "dd89055b-d2da-4de1-8f26-aeca49b1b2e7",
   "metadata": {},
   "outputs": [],
   "source": []
  },
  {
   "cell_type": "code",
   "execution_count": null,
   "id": "b7832620-0685-4c21-9c6e-19df746f71fb",
   "metadata": {},
   "outputs": [],
   "source": []
  },
  {
   "cell_type": "code",
   "execution_count": 44,
   "id": "eae4e334-d06f-4950-b09e-ec34cb4f3eba",
   "metadata": {},
   "outputs": [],
   "source": [
    "# for this we need the all_forecasts npy files"
   ]
  },
  {
   "cell_type": "code",
   "execution_count": 45,
   "id": "1ec4f3fa-b7b0-4064-9007-4230b0e64f72",
   "metadata": {},
   "outputs": [],
   "source": [
    "# content location is the same path as above"
   ]
  },
  {
   "cell_type": "code",
   "execution_count": 46,
   "id": "febb8655-c529-4099-b22e-ee36918188d5",
   "metadata": {},
   "outputs": [],
   "source": [
    "all_forecasts_npy_files = ['all_forecasts_sub_' + str(i) + '.npy' for i in range(910)]"
   ]
  },
  {
   "cell_type": "code",
   "execution_count": 47,
   "id": "11eba5f0-5a18-4d7d-a743-d57bc9cf93a4",
   "metadata": {},
   "outputs": [],
   "source": [
    "# all_forecasts_npy_files"
   ]
  },
  {
   "cell_type": "code",
   "execution_count": 48,
   "id": "7711dd37-fd3c-4ac8-b8ae-b4be59dff7fa",
   "metadata": {},
   "outputs": [],
   "source": [
    "# load the npy files"
   ]
  },
  {
   "cell_type": "code",
   "execution_count": 49,
   "id": "57f059e1-25b1-4e6d-b370-9ca0236848ea",
   "metadata": {},
   "outputs": [
    {
     "name": "stdout",
     "output_type": "stream",
     "text": [
      "CPU times: user 260 ms, sys: 79.9 ms, total: 340 ms\n",
      "Wall time: 341 ms\n"
     ]
    }
   ],
   "source": [
    "%%time\n",
    "loaded_npy_files = []\n",
    "for file in all_forecasts_npy_files:\n",
    "    joined_path = os.path.join(path_to_dfs, file)\n",
    "    load_file = np.load(joined_path)\n",
    "    # notice we are averaging the preds across the chains before exponentiation\n",
    "    mean_file = np.exp(np.mean(load_file, axis = 1)) - 1\n",
    "    loaded_npy_files.append(mean_file)"
   ]
  },
  {
   "cell_type": "code",
   "execution_count": 50,
   "id": "78d4c420-8e99-4103-881e-297bc81f909d",
   "metadata": {},
   "outputs": [
    {
     "data": {
      "text/plain": [
       "910"
      ]
     },
     "execution_count": 50,
     "metadata": {},
     "output_type": "execute_result"
    }
   ],
   "source": [
    "len(loaded_npy_files)"
   ]
  },
  {
   "cell_type": "code",
   "execution_count": 51,
   "id": "3cc8627a-822a-4c8e-898a-52957870ccde",
   "metadata": {},
   "outputs": [
    {
     "data": {
      "text/plain": [
       "(1000, 7)"
      ]
     },
     "execution_count": 51,
     "metadata": {},
     "output_type": "execute_result"
    }
   ],
   "source": [
    "loaded_npy_files[0].shape"
   ]
  },
  {
   "cell_type": "code",
   "execution_count": 52,
   "id": "ab72ca92-e8f1-4ce3-9cea-117b673d4529",
   "metadata": {},
   "outputs": [
    {
     "data": {
      "text/plain": [
       "array([[-0.00061589, -0.0029192 , -0.00836349, ...,  0.00135469,\n",
       "        -0.00155008,  0.00212348],\n",
       "       [ 0.00032151, -0.00338179, -0.00896931, ...,  0.00050545,\n",
       "        -0.00170571,  0.00186944],\n",
       "       [-0.00110137, -0.00318253, -0.00989032, ...,  0.00070822,\n",
       "        -0.00124848,  0.00151348],\n",
       "       ...,\n",
       "       [ 0.00241232, -0.00316894, -0.00725418, ...,  0.00019825,\n",
       "         0.00085306,  0.00280511],\n",
       "       [ 0.00139964, -0.00432777, -0.00618887, ...,  0.00163162,\n",
       "         0.0017525 ,  0.00336897],\n",
       "       [ 0.00276935, -0.00329357, -0.00725466, ...,  0.00216377,\n",
       "         0.00215101,  0.00362253]], dtype=float32)"
      ]
     },
     "execution_count": 52,
     "metadata": {},
     "output_type": "execute_result"
    }
   ],
   "source": [
    "loaded_npy_files[0]"
   ]
  },
  {
   "cell_type": "code",
   "execution_count": 53,
   "id": "53dd5c88-918c-46a0-b5ae-cb7c75895741",
   "metadata": {},
   "outputs": [
    {
     "name": "stdout",
     "output_type": "stream",
     "text": [
      "CPU times: user 19.7 ms, sys: 1.8 ms, total: 21.5 ms\n",
      "Wall time: 20.8 ms\n"
     ]
    }
   ],
   "source": [
    "%%time\n",
    "# convert less than 0 entries to 0 for all arrays\n",
    "for arr in loaded_npy_files:\n",
    "    arr[arr < 0] = 0"
   ]
  },
  {
   "cell_type": "code",
   "execution_count": 54,
   "id": "b20d4662-eefc-41bc-ac0a-25d0613fa00c",
   "metadata": {},
   "outputs": [
    {
     "data": {
      "text/plain": [
       "array([[0.        , 0.        , 0.        , ..., 0.00135469, 0.        ,\n",
       "        0.00212348],\n",
       "       [0.00032151, 0.        , 0.        , ..., 0.00050545, 0.        ,\n",
       "        0.00186944],\n",
       "       [0.        , 0.        , 0.        , ..., 0.00070822, 0.        ,\n",
       "        0.00151348],\n",
       "       ...,\n",
       "       [0.00241232, 0.        , 0.        , ..., 0.00019825, 0.00085306,\n",
       "        0.00280511],\n",
       "       [0.00139964, 0.        , 0.        , ..., 0.00163162, 0.0017525 ,\n",
       "        0.00336897],\n",
       "       [0.00276935, 0.        , 0.        , ..., 0.00216377, 0.00215101,\n",
       "        0.00362253]], dtype=float32)"
      ]
     },
     "execution_count": 54,
     "metadata": {},
     "output_type": "execute_result"
    }
   ],
   "source": [
    "loaded_npy_files[0]"
   ]
  },
  {
   "cell_type": "code",
   "execution_count": 55,
   "id": "f2474bdb-3a79-4436-83b1-2b3c3ac24a5c",
   "metadata": {},
   "outputs": [],
   "source": [
    "# Since we do not have overlapping sub-windows, we can sum the counts to get the final densities\n",
    "output = sum(loaded_npy_files)"
   ]
  },
  {
   "cell_type": "code",
   "execution_count": 56,
   "id": "d9038206-4f90-4001-9c3c-aee27d7d610c",
   "metadata": {},
   "outputs": [
    {
     "data": {
      "text/plain": [
       "(1000, 7)"
      ]
     },
     "execution_count": 56,
     "metadata": {},
     "output_type": "execute_result"
    }
   ],
   "source": [
    "output.shape"
   ]
  },
  {
   "cell_type": "code",
   "execution_count": 57,
   "id": "6116babf-18f2-4e39-9a72-150ccc4e6387",
   "metadata": {},
   "outputs": [
    {
     "data": {
      "text/plain": [
       "array([[41.080204, 39.277733, 45.920353, ..., 41.960224, 47.028404,\n",
       "        47.28497 ],\n",
       "       [34.2286  , 33.974686, 37.741333, ..., 32.222267, 39.55074 ,\n",
       "        39.518513],\n",
       "       [40.281746, 38.996315, 45.65364 , ..., 45.526756, 49.538773,\n",
       "        46.200645],\n",
       "       ...,\n",
       "       [37.178005, 38.94179 , 39.98628 , ..., 37.196354, 40.84136 ,\n",
       "        45.260902],\n",
       "       [32.27748 , 35.21263 , 44.615685, ..., 38.903286, 38.08326 ,\n",
       "        38.045563],\n",
       "       [37.069893, 40.18003 , 42.62774 , ..., 38.45881 , 42.244415,\n",
       "        41.691006]], dtype=float32)"
      ]
     },
     "execution_count": 57,
     "metadata": {},
     "output_type": "execute_result"
    }
   ],
   "source": [
    "output"
   ]
  },
  {
   "cell_type": "code",
   "execution_count": 58,
   "id": "fbac31f0-215b-4e8b-8c13-2cd85e76a70f",
   "metadata": {},
   "outputs": [],
   "source": [
    "# is this sum correct? alternative method of computing the sums\n",
    "output_alt = np.sum(loaded_npy_files, axis = 0)"
   ]
  },
  {
   "cell_type": "code",
   "execution_count": 59,
   "id": "1198a1a0-14fc-4101-b4af-14a2c26dc0c5",
   "metadata": {},
   "outputs": [
    {
     "data": {
      "text/plain": [
       "(1000, 7)"
      ]
     },
     "execution_count": 59,
     "metadata": {},
     "output_type": "execute_result"
    }
   ],
   "source": [
    "output_alt.shape"
   ]
  },
  {
   "cell_type": "code",
   "execution_count": 60,
   "id": "23c6ebbe-2c27-47ff-8a5f-86491e58d899",
   "metadata": {},
   "outputs": [
    {
     "data": {
      "text/plain": [
       "array([[41.080204, 39.277733, 45.920353, ..., 41.960224, 47.028404,\n",
       "        47.28497 ],\n",
       "       [34.2286  , 33.974686, 37.741333, ..., 32.222267, 39.55074 ,\n",
       "        39.518513],\n",
       "       [40.281746, 38.996315, 45.65364 , ..., 45.526756, 49.538773,\n",
       "        46.200645],\n",
       "       ...,\n",
       "       [37.178005, 38.94179 , 39.98628 , ..., 37.196354, 40.84136 ,\n",
       "        45.260902],\n",
       "       [32.27748 , 35.21263 , 44.615685, ..., 38.903286, 38.08326 ,\n",
       "        38.045563],\n",
       "       [37.069893, 40.18003 , 42.62774 , ..., 38.45881 , 42.244415,\n",
       "        41.691006]], dtype=float32)"
      ]
     },
     "execution_count": 60,
     "metadata": {},
     "output_type": "execute_result"
    }
   ],
   "source": [
    "output_alt"
   ]
  },
  {
   "cell_type": "code",
   "execution_count": 61,
   "id": "7b4a8d85-fe98-49c3-9a9f-51fbd90c5174",
   "metadata": {},
   "outputs": [
    {
     "data": {
      "text/plain": [
       "1.0"
      ]
     },
     "execution_count": 61,
     "metadata": {},
     "output_type": "execute_result"
    }
   ],
   "source": [
    "np.mean(output_alt == output)"
   ]
  },
  {
   "cell_type": "code",
   "execution_count": 62,
   "id": "ba6418a3-03f4-475a-b552-55a08048311f",
   "metadata": {},
   "outputs": [],
   "source": [
    "# verified the sum is correct, let's get the widths and the coverages - and also any essential plots"
   ]
  },
  {
   "cell_type": "code",
   "execution_count": 63,
   "id": "ca61eabc-63ed-4b74-b20a-61521b3751a6",
   "metadata": {},
   "outputs": [],
   "source": [
    "# now we can get the 2.5th abd the 97.5th percentiles - to get the coverage and the widths of the CIS\n",
    "li_train = np.percentile(output, axis = 0, q = (2.5, 97.5))[0,:].reshape(-1,1)    \n",
    "ui_train = np.percentile(output, axis = 0, q = (2.5, 97.5))[1,:].reshape(-1,1)"
   ]
  },
  {
   "cell_type": "code",
   "execution_count": 64,
   "id": "9cad5cca-320d-4e70-b204-e4dc52fb9d6d",
   "metadata": {},
   "outputs": [
    {
     "data": {
      "text/plain": [
       "array([[27.52892632],\n",
       "       [27.83315978],\n",
       "       [27.88376327],\n",
       "       [26.18897443],\n",
       "       [24.24372358],\n",
       "       [27.12107015],\n",
       "       [26.36696072]])"
      ]
     },
     "execution_count": 64,
     "metadata": {},
     "output_type": "execute_result"
    }
   ],
   "source": [
    "li_train"
   ]
  },
  {
   "cell_type": "code",
   "execution_count": 65,
   "id": "4e669c1d-0916-4e77-92e2-a1b1879834aa",
   "metadata": {},
   "outputs": [
    {
     "data": {
      "text/plain": [
       "array([[45.7587966 ],\n",
       "       [46.69838505],\n",
       "       [49.64164848],\n",
       "       [51.33611479],\n",
       "       [47.48712578],\n",
       "       [50.34828138],\n",
       "       [51.55449448]])"
      ]
     },
     "execution_count": 65,
     "metadata": {},
     "output_type": "execute_result"
    }
   ],
   "source": [
    "ui_train"
   ]
  },
  {
   "cell_type": "code",
   "execution_count": 66,
   "id": "4d51a483-bfe5-4cc6-a31f-813cb83d5540",
   "metadata": {},
   "outputs": [],
   "source": [
    "width_train = ui_train - li_train\n",
    "avg_width_train = width_train.mean(0)[0]"
   ]
  },
  {
   "cell_type": "code",
   "execution_count": 67,
   "id": "37b163bb-b24c-4af2-8f2b-19c78eb24ff9",
   "metadata": {},
   "outputs": [
    {
     "data": {
      "text/plain": [
       "22.236895472662784"
      ]
     },
     "execution_count": 67,
     "metadata": {},
     "output_type": "execute_result"
    }
   ],
   "source": [
    "avg_width_train"
   ]
  },
  {
   "cell_type": "code",
   "execution_count": 68,
   "id": "46d652b2-05be-44f9-bf0d-3ff69ad25fed",
   "metadata": {},
   "outputs": [],
   "source": [
    "y_traina = block_0103_true_and_forecasted_values_df[[\"True_count\"]].values"
   ]
  },
  {
   "cell_type": "code",
   "execution_count": 69,
   "id": "5f1ba54d-0aca-494d-b741-b2cd6d00fcb3",
   "metadata": {},
   "outputs": [],
   "source": [
    "ind_train = (y_traina >= li_train) & (y_traina <= ui_train)\n",
    "coverage_train= ind_train.mean(0)[0]"
   ]
  },
  {
   "cell_type": "code",
   "execution_count": 70,
   "id": "66d5a7c9-0400-4f6f-9221-9cb9c7860d3c",
   "metadata": {},
   "outputs": [
    {
     "data": {
      "text/plain": [
       "0.5714285714285714"
      ]
     },
     "execution_count": 70,
     "metadata": {},
     "output_type": "execute_result"
    }
   ],
   "source": [
    "coverage_train"
   ]
  },
  {
   "cell_type": "code",
   "execution_count": 71,
   "id": "ce86b870-01cf-4e10-904b-ef2396d2dc47",
   "metadata": {},
   "outputs": [
    {
     "data": {
      "text/plain": [
       "array([36.07229 , 36.596573, 38.47735 , 37.47604 , 34.641052, 37.863823,\n",
       "       38.24346 ], dtype=float32)"
      ]
     },
     "execution_count": 71,
     "metadata": {},
     "output_type": "execute_result"
    }
   ],
   "source": [
    "np.mean(output, axis = 0)"
   ]
  },
  {
   "cell_type": "code",
   "execution_count": 72,
   "id": "311beb4f-6347-407c-af9b-bfe285361098",
   "metadata": {},
   "outputs": [],
   "source": [
    "# sum_forecasted_values"
   ]
  },
  {
   "cell_type": "code",
   "execution_count": 76,
   "id": "0f94ff2b-6606-477b-a3a7-c3841f436c56",
   "metadata": {},
   "outputs": [
    {
     "data": {
      "image/png": "[encoded data removed]",
      "text/plain": [
       "<Figure size 640x480 with 1 Axes>"
      ]
     },
     "metadata": {},
     "output_type": "display_data"
    }
   ],
   "source": [
    "plt.scatter(block_0103_true_and_forecasted_values_df['True_count'], block_0103_true_and_forecasted_values_df['Forecasted_count'])\n",
    "plt.xlabel(\"True density\")\n",
    "plt.ylabel(\"Predicted density\")\n",
    "# Add the y = x line\n",
    "plt.plot([25, 55], [25, 55], color='green', label='y = x')\n",
    "plt.legend()\n",
    "plt.show()"
   ]
  },
  {
   "cell_type": "code",
   "execution_count": 74,
   "id": "04aa778d-3203-493f-a8d5-6c42cd0c540a",
   "metadata": {},
   "outputs": [
    {
     "data": {
      "image/png": "[encoded data removed]",
      "text/plain": [
       "<Figure size 1500x2000 with 8 Axes>"
      ]
     },
     "metadata": {},
     "output_type": "display_data"
    },
    {
     "name": "stdout",
     "output_type": "stream",
     "text": [
      "CPU times: user 27.3 s, sys: 722 ms, total: 28 s\n",
      "Wall time: 27.7 s\n"
     ]
    }
   ],
   "source": [
    "%%time\n",
    "# Create a 2x4 grid of subplots (total 8 plots, the last one will be left empty)\n",
    "fig, axes = plt.subplots(4, 2, figsize=(15,20))\n",
    "axes = axes.flatten() \n",
    "\n",
    "# widths plots\n",
    "for i in range(7):\n",
    "    timestep_i_subwindows = []\n",
    "    for y, file in enumerate(loaded_npy_files):\n",
    "        t_i_forecast = file[:,i]\n",
    "        # print the shape of the extracted array\n",
    "        # print(t_i_forecast.shape)\n",
    "        timestep_i_subwindows.append(t_i_forecast)\n",
    "    stacked_forecasts = np.stack(timestep_i_subwindows)\n",
    "    stacked_forecasts[stacked_forecasts<0] = 0\n",
    "    sorted_stacked_forecasts = np.sort(stacked_forecasts, axis = 1)\n",
    "    # get the values between the 2.5th and 97.5th percentile?\n",
    "    sorted_interval_data = sorted_stacked_forecasts[:,25:975]\n",
    "\n",
    "    # Plot for the current 2D array\n",
    "    for l, row in enumerate(sorted_interval_data):\n",
    "        axes[i].plot([l + 1] * len(row), row, 'o', markersize=1, color='teal', label='Distribution of forecasted values' if l == 0 else \"\")\n",
    "    \n",
    "    true_counts = exp_true.iloc[i,:].values\n",
    "\n",
    "    # # Overlay the 1D array values\n",
    "    axes[i].plot(np.arange(1, 911), true_counts, 'o', markersize=1, color='red', label='True density')\n",
    "    \n",
    "    # Customize x-ticks and labels\n",
    "    axes[i].set_xticks(np.arange(1, 911))\n",
    "    # axes[i].set_xticklabels([f'sub_window_{zz + 1}' for zz in range(910)], rotation=90, fontsize=13)\n",
    "    axes[i].set_xlabel(\"Sub windows\", fontsize=12, fontweight='bold')\n",
    "    axes[i].set_ylabel(\"Forecasted and true densities\", fontsize=12, fontweight='bold')\n",
    "    axes[i].set_title(f\"Test image {i + 1}\", fontsize=12, fontweight='bold')\n",
    "    axes[i].legend()\n",
    "\n",
    "\n",
    "# Hide the last (empty) subplot\n",
    "axes[-1].set_visible(False)\n",
    "\n",
    "# Adjust layout\n",
    "plt.tight_layout()\n",
    "\n",
    "# # Save the figure as a PDF file\n",
    "# plt.savefig(\"Previous_data/Forecasted_distributions_blk13.pdf\", format='pdf', bbox_inches='tight')\n",
    "plt.show()\n",
    "\n"
   ]
  },
  {
   "cell_type": "code",
   "execution_count": 75,
   "id": "b51d6a01-5c7a-4e37-be12-776053974e4d",
   "metadata": {},
   "outputs": [],
   "source": [
    "# plots are going to be too over-crowded as we now have 910 subwindows - might beed to talk to Dr. Ghosh to figure out a better way to give these plots"
   ]
  }
 ],
 "metadata": {
  "kernelspec": {
   "display_name": "Python (tfp_cpu_env)",
   "language": "python",
   "name": "tfp_cpu_env"
  },
  "language_info": {
   "codemirror_mode": {
    "name": "ipython",
    "version": 3
   },
   "file_extension": ".py",
   "mimetype": "text/x-python",
   "name": "python",
   "nbconvert_exporter": "python",
   "pygments_lexer": "ipython3",
   "version": "3.11.7"
  }
 },
 "nbformat": 4,
 "nbformat_minor": 5
}
