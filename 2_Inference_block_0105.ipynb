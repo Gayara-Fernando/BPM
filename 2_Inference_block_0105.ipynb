{
 "cells": [
  {
   "cell_type": "code",
   "execution_count": 1,
   "id": "95479ff1-daa9-4a85-bee2-32d78b24506b",
   "metadata": {},
   "outputs": [],
   "source": [
    "import pandas as pd\n",
    "import numpy as np\n",
    "import matplotlib.pyplot as plt\n",
    "import os\n",
    "from sklearn.metrics import mean_absolute_error, mean_squared_error, r2_score\n",
    "from scipy.stats import pearsonr"
   ]
  },
  {
   "cell_type": "code",
   "execution_count": 2,
   "id": "d0c496d4-1b24-43dd-ab1b-b98d6eaef21b",
   "metadata": {},
   "outputs": [],
   "source": [
    "# path to dataframes\n",
    "path_to_dfs = \"data/BLAR_implementation/Block_0105/forecasted_counts/\""
   ]
  },
  {
   "cell_type": "code",
   "execution_count": 3,
   "id": "0c9c641d-4e5d-4c54-a235-c62cbdf13f8d",
   "metadata": {},
   "outputs": [],
   "source": [
    "# os.listdir(path_to_dfs)"
   ]
  },
  {
   "cell_type": "code",
   "execution_count": 4,
   "id": "5e5d1ebd-ac8c-4a2b-b33c-db3c4b477eae",
   "metadata": {},
   "outputs": [
    {
     "data": {
      "text/plain": [
       "6370"
      ]
     },
     "execution_count": 4,
     "metadata": {},
     "output_type": "execute_result"
    }
   ],
   "source": [
    "len(os.listdir(path_to_dfs))"
   ]
  },
  {
   "cell_type": "code",
   "execution_count": 5,
   "id": "3b80d752-5eb8-42c1-ad39-987ad3dbb001",
   "metadata": {},
   "outputs": [
    {
     "data": {
      "text/plain": [
       "7.0"
      ]
     },
     "execution_count": 5,
     "metadata": {},
     "output_type": "execute_result"
    }
   ],
   "source": [
    "6370/910"
   ]
  },
  {
   "cell_type": "code",
   "execution_count": 6,
   "id": "a0ac81e1-3049-44de-a2bf-4bf5a274ba45",
   "metadata": {},
   "outputs": [],
   "source": [
    "# seems each sub-window sequence have 7 things stored - what are all these?\n",
    "\n",
    "# the forecasted npy files\n",
    "# ar_sigma\n",
    "# noise_sigma\n",
    "# betas\n",
    "# rho\n",
    "# averaged forecasts\n",
    "# posterior parameter summaries - might need to pay a little attention here, the r_hat values are too high - think this should vary around 1? - but almost all the values are greater than 2."
   ]
  },
  {
   "cell_type": "code",
   "execution_count": 7,
   "id": "f9a4f497-2d9d-4b5c-9169-46b6ae6b9977",
   "metadata": {},
   "outputs": [],
   "source": [
    "averaged_forecasts_csvs = []\n",
    "for file in os.listdir(path_to_dfs):\n",
    "    if file[:8] =='averaged':\n",
    "        averaged_forecasts_csvs.append(file)"
   ]
  },
  {
   "cell_type": "code",
   "execution_count": 8,
   "id": "094e9614-b16f-45a2-aafc-d7884678eb44",
   "metadata": {},
   "outputs": [
    {
     "data": {
      "text/plain": [
       "910"
      ]
     },
     "execution_count": 8,
     "metadata": {},
     "output_type": "execute_result"
    }
   ],
   "source": [
    "# how many csv files do we have?\n",
    "len(averaged_forecasts_csvs)"
   ]
  },
  {
   "cell_type": "code",
   "execution_count": 9,
   "id": "7eca928b-bdbd-4d00-9eb1-8a808db7123e",
   "metadata": {},
   "outputs": [],
   "source": [
    "# averaged_forecasts_csvs - we probably need these in order for getting the respective predicted values"
   ]
  },
  {
   "cell_type": "code",
   "execution_count": 10,
   "id": "d0e11c68-824a-41ea-bf6b-65f53103343f",
   "metadata": {},
   "outputs": [
    {
     "data": {
      "text/plain": [
       "'averaged_forecasts_sub_653.csv'"
      ]
     },
     "execution_count": 10,
     "metadata": {},
     "output_type": "execute_result"
    }
   ],
   "source": [
    "averaged_forecasts_csvs[0]"
   ]
  },
  {
   "cell_type": "code",
   "execution_count": 11,
   "id": "f1f9e7be-53a6-4f38-b389-045d898b14ef",
   "metadata": {},
   "outputs": [],
   "source": [
    "# sorting them would not work as everything in the nomenclature of the files is a character - hence will not respect the numerical order"
   ]
  },
  {
   "cell_type": "code",
   "execution_count": 12,
   "id": "3cf616ee-4b4e-4ad9-ac1b-20aba081bfc5",
   "metadata": {},
   "outputs": [],
   "source": [
    "# let's create these names in the order of the subwindows\n",
    "ordered_csv_files = ['averaged_forecasts_sub_' + str(i) + '.csv' for i in range(910)]"
   ]
  },
  {
   "cell_type": "code",
   "execution_count": 13,
   "id": "7ac08389-4437-448b-b8a8-317cd0a9bf8e",
   "metadata": {},
   "outputs": [],
   "source": [
    "# ordered_csv_files"
   ]
  },
  {
   "cell_type": "code",
   "execution_count": 14,
   "id": "e74425d7-b613-44cf-96dd-df4298cef947",
   "metadata": {},
   "outputs": [],
   "source": [
    "# averaged_forecasts_csvs list is pointless at this time?"
   ]
  },
  {
   "cell_type": "code",
   "execution_count": 15,
   "id": "9a94c9ec-57cc-42fa-ad71-26639da44cb7",
   "metadata": {},
   "outputs": [
    {
     "name": "stdout",
     "output_type": "stream",
     "text": [
      "CPU times: user 458 ms, sys: 17.8 ms, total: 476 ms\n",
      "Wall time: 478 ms\n"
     ]
    }
   ],
   "source": [
    "%%time\n",
    "all_dfs = []\n",
    "for file in ordered_csv_files:\n",
    "    read_df = pd.read_csv(path_to_dfs + '/' + file)\n",
    "    all_dfs.append(read_df)"
   ]
  },
  {
   "cell_type": "code",
   "execution_count": 16,
   "id": "c04b6062-8fc9-4f3e-87f2-2a8e9abac16f",
   "metadata": {},
   "outputs": [],
   "source": [
    "# make a single dataframe out of the many\n",
    "combined_df = pd.concat(all_dfs, axis = 1)"
   ]
  },
  {
   "cell_type": "code",
   "execution_count": 17,
   "id": "5671cc95-7ba6-47bc-8da8-47ba9d3f36e3",
   "metadata": {},
   "outputs": [
    {
     "data": {
      "text/html": [
       "<div>\n",
       "<style scoped>\n",
       "    .dataframe tbody tr th:only-of-type {\n",
       "        vertical-align: middle;\n",
       "    }\n",
       "\n",
       "    .dataframe tbody tr th {\n",
       "        vertical-align: top;\n",
       "    }\n",
       "\n",
       "    .dataframe thead th {\n",
       "        text-align: right;\n",
       "    }\n",
       "</style>\n",
       "<table border=\"1\" class=\"dataframe\">\n",
       "  <thead>\n",
       "    <tr style=\"text-align: right;\">\n",
       "      <th></th>\n",
       "      <th>True_value</th>\n",
       "      <th>Forecasted_value</th>\n",
       "      <th>True_value</th>\n",
       "      <th>Forecasted_value</th>\n",
       "      <th>True_value</th>\n",
       "      <th>Forecasted_value</th>\n",
       "      <th>True_value</th>\n",
       "      <th>Forecasted_value</th>\n",
       "      <th>True_value</th>\n",
       "      <th>Forecasted_value</th>\n",
       "      <th>...</th>\n",
       "      <th>True_value</th>\n",
       "      <th>Forecasted_value</th>\n",
       "      <th>True_value</th>\n",
       "      <th>Forecasted_value</th>\n",
       "      <th>True_value</th>\n",
       "      <th>Forecasted_value</th>\n",
       "      <th>True_value</th>\n",
       "      <th>Forecasted_value</th>\n",
       "      <th>True_value</th>\n",
       "      <th>Forecasted_value</th>\n",
       "    </tr>\n",
       "  </thead>\n",
       "  <tbody>\n",
       "    <tr>\n",
       "      <th>0</th>\n",
       "      <td>0.0</td>\n",
       "      <td>-0.010814</td>\n",
       "      <td>0.0</td>\n",
       "      <td>-0.010528</td>\n",
       "      <td>0.0</td>\n",
       "      <td>-0.007839</td>\n",
       "      <td>4.042582e-03</td>\n",
       "      <td>-0.015733</td>\n",
       "      <td>4.042582e-03</td>\n",
       "      <td>0.208810</td>\n",
       "      <td>...</td>\n",
       "      <td>0.0</td>\n",
       "      <td>0.003892</td>\n",
       "      <td>0.0</td>\n",
       "      <td>0.002779</td>\n",
       "      <td>0.0</td>\n",
       "      <td>-0.033904</td>\n",
       "      <td>0.0</td>\n",
       "      <td>-0.018464</td>\n",
       "      <td>0.0</td>\n",
       "      <td>0.001312</td>\n",
       "    </tr>\n",
       "    <tr>\n",
       "      <th>1</th>\n",
       "      <td>0.0</td>\n",
       "      <td>-0.006430</td>\n",
       "      <td>0.0</td>\n",
       "      <td>0.012639</td>\n",
       "      <td>0.0</td>\n",
       "      <td>-0.001413</td>\n",
       "      <td>0.000000e+00</td>\n",
       "      <td>-0.013234</td>\n",
       "      <td>1.256398e-06</td>\n",
       "      <td>0.178798</td>\n",
       "      <td>...</td>\n",
       "      <td>0.0</td>\n",
       "      <td>-0.013009</td>\n",
       "      <td>0.0</td>\n",
       "      <td>-0.002402</td>\n",
       "      <td>0.0</td>\n",
       "      <td>-0.011110</td>\n",
       "      <td>0.0</td>\n",
       "      <td>-0.027494</td>\n",
       "      <td>0.0</td>\n",
       "      <td>-0.003227</td>\n",
       "    </tr>\n",
       "    <tr>\n",
       "      <th>2</th>\n",
       "      <td>0.0</td>\n",
       "      <td>-0.005055</td>\n",
       "      <td>0.0</td>\n",
       "      <td>0.009427</td>\n",
       "      <td>0.0</td>\n",
       "      <td>-0.004568</td>\n",
       "      <td>0.000000e+00</td>\n",
       "      <td>0.010436</td>\n",
       "      <td>2.405004e-05</td>\n",
       "      <td>0.171103</td>\n",
       "      <td>...</td>\n",
       "      <td>0.0</td>\n",
       "      <td>-0.001201</td>\n",
       "      <td>0.0</td>\n",
       "      <td>-0.002927</td>\n",
       "      <td>0.0</td>\n",
       "      <td>-0.041272</td>\n",
       "      <td>0.0</td>\n",
       "      <td>-0.008074</td>\n",
       "      <td>0.0</td>\n",
       "      <td>-0.005275</td>\n",
       "    </tr>\n",
       "    <tr>\n",
       "      <th>3</th>\n",
       "      <td>0.0</td>\n",
       "      <td>0.001632</td>\n",
       "      <td>0.0</td>\n",
       "      <td>0.025446</td>\n",
       "      <td>0.0</td>\n",
       "      <td>0.001462</td>\n",
       "      <td>7.707083e-08</td>\n",
       "      <td>0.008084</td>\n",
       "      <td>4.103336e-07</td>\n",
       "      <td>0.114497</td>\n",
       "      <td>...</td>\n",
       "      <td>0.0</td>\n",
       "      <td>-0.005206</td>\n",
       "      <td>0.0</td>\n",
       "      <td>-0.001036</td>\n",
       "      <td>0.0</td>\n",
       "      <td>-0.024987</td>\n",
       "      <td>0.0</td>\n",
       "      <td>-0.001255</td>\n",
       "      <td>0.0</td>\n",
       "      <td>-0.003272</td>\n",
       "    </tr>\n",
       "    <tr>\n",
       "      <th>4</th>\n",
       "      <td>0.0</td>\n",
       "      <td>-0.000513</td>\n",
       "      <td>0.0</td>\n",
       "      <td>0.007844</td>\n",
       "      <td>0.0</td>\n",
       "      <td>-0.001300</td>\n",
       "      <td>1.763056e-02</td>\n",
       "      <td>-0.027426</td>\n",
       "      <td>4.753948e-03</td>\n",
       "      <td>0.097177</td>\n",
       "      <td>...</td>\n",
       "      <td>0.0</td>\n",
       "      <td>0.006543</td>\n",
       "      <td>0.0</td>\n",
       "      <td>0.006006</td>\n",
       "      <td>0.0</td>\n",
       "      <td>-0.015281</td>\n",
       "      <td>0.0</td>\n",
       "      <td>-0.016180</td>\n",
       "      <td>0.0</td>\n",
       "      <td>-0.003769</td>\n",
       "    </tr>\n",
       "  </tbody>\n",
       "</table>\n",
       "<p>5 rows × 1820 columns</p>\n",
       "</div>"
      ],
      "text/plain": [
       "   True_value  Forecasted_value  True_value  Forecasted_value  True_value  \\\n",
       "0         0.0         -0.010814         0.0         -0.010528         0.0   \n",
       "1         0.0         -0.006430         0.0          0.012639         0.0   \n",
       "2         0.0         -0.005055         0.0          0.009427         0.0   \n",
       "3         0.0          0.001632         0.0          0.025446         0.0   \n",
       "4         0.0         -0.000513         0.0          0.007844         0.0   \n",
       "\n",
       "   Forecasted_value    True_value  Forecasted_value    True_value  \\\n",
       "0         -0.007839  4.042582e-03         -0.015733  4.042582e-03   \n",
       "1         -0.001413  0.000000e+00         -0.013234  1.256398e-06   \n",
       "2         -0.004568  0.000000e+00          0.010436  2.405004e-05   \n",
       "3          0.001462  7.707083e-08          0.008084  4.103336e-07   \n",
       "4         -0.001300  1.763056e-02         -0.027426  4.753948e-03   \n",
       "\n",
       "   Forecasted_value  ...  True_value  Forecasted_value  True_value  \\\n",
       "0          0.208810  ...         0.0          0.003892         0.0   \n",
       "1          0.178798  ...         0.0         -0.013009         0.0   \n",
       "2          0.171103  ...         0.0         -0.001201         0.0   \n",
       "3          0.114497  ...         0.0         -0.005206         0.0   \n",
       "4          0.097177  ...         0.0          0.006543         0.0   \n",
       "\n",
       "   Forecasted_value  True_value  Forecasted_value  True_value  \\\n",
       "0          0.002779         0.0         -0.033904         0.0   \n",
       "1         -0.002402         0.0         -0.011110         0.0   \n",
       "2         -0.002927         0.0         -0.041272         0.0   \n",
       "3         -0.001036         0.0         -0.024987         0.0   \n",
       "4          0.006006         0.0         -0.015281         0.0   \n",
       "\n",
       "   Forecasted_value  True_value  Forecasted_value  \n",
       "0         -0.018464         0.0          0.001312  \n",
       "1         -0.027494         0.0         -0.003227  \n",
       "2         -0.008074         0.0         -0.005275  \n",
       "3         -0.001255         0.0         -0.003272  \n",
       "4         -0.016180         0.0         -0.003769  \n",
       "\n",
       "[5 rows x 1820 columns]"
      ]
     },
     "execution_count": 17,
     "metadata": {},
     "output_type": "execute_result"
    }
   ],
   "source": [
    "combined_df.head()"
   ]
  },
  {
   "cell_type": "code",
   "execution_count": 18,
   "id": "77ebc554-fe99-4cea-9cb3-2d2b8329b7b8",
   "metadata": {},
   "outputs": [
    {
     "data": {
      "text/plain": [
       "(7, 1820)"
      ]
     },
     "execution_count": 18,
     "metadata": {},
     "output_type": "execute_result"
    }
   ],
   "source": [
    "combined_df.shape"
   ]
  },
  {
   "cell_type": "code",
   "execution_count": 19,
   "id": "cd7bd824-8dac-4284-b286-aafcd8cd7d43",
   "metadata": {},
   "outputs": [],
   "source": [
    "# get the true values\n",
    "True_values_df = combined_df[['True_value']]"
   ]
  },
  {
   "cell_type": "code",
   "execution_count": 20,
   "id": "20d0decc-e09d-494a-9ff8-2139aac7254b",
   "metadata": {},
   "outputs": [
    {
     "data": {
      "text/html": [
       "<div>\n",
       "<style scoped>\n",
       "    .dataframe tbody tr th:only-of-type {\n",
       "        vertical-align: middle;\n",
       "    }\n",
       "\n",
       "    .dataframe tbody tr th {\n",
       "        vertical-align: top;\n",
       "    }\n",
       "\n",
       "    .dataframe thead th {\n",
       "        text-align: right;\n",
       "    }\n",
       "</style>\n",
       "<table border=\"1\" class=\"dataframe\">\n",
       "  <thead>\n",
       "    <tr style=\"text-align: right;\">\n",
       "      <th></th>\n",
       "      <th>True_value</th>\n",
       "      <th>True_value</th>\n",
       "      <th>True_value</th>\n",
       "      <th>True_value</th>\n",
       "      <th>True_value</th>\n",
       "      <th>True_value</th>\n",
       "      <th>True_value</th>\n",
       "      <th>True_value</th>\n",
       "      <th>True_value</th>\n",
       "      <th>True_value</th>\n",
       "      <th>...</th>\n",
       "      <th>True_value</th>\n",
       "      <th>True_value</th>\n",
       "      <th>True_value</th>\n",
       "      <th>True_value</th>\n",
       "      <th>True_value</th>\n",
       "      <th>True_value</th>\n",
       "      <th>True_value</th>\n",
       "      <th>True_value</th>\n",
       "      <th>True_value</th>\n",
       "      <th>True_value</th>\n",
       "    </tr>\n",
       "  </thead>\n",
       "  <tbody>\n",
       "    <tr>\n",
       "      <th>0</th>\n",
       "      <td>0.0</td>\n",
       "      <td>0.0</td>\n",
       "      <td>0.0</td>\n",
       "      <td>4.042582e-03</td>\n",
       "      <td>4.042582e-03</td>\n",
       "      <td>0.000000</td>\n",
       "      <td>0.000000</td>\n",
       "      <td>0.000000</td>\n",
       "      <td>0.0</td>\n",
       "      <td>0.0</td>\n",
       "      <td>...</td>\n",
       "      <td>0.000000</td>\n",
       "      <td>0.000000</td>\n",
       "      <td>0.000000e+00</td>\n",
       "      <td>0.000000e+00</td>\n",
       "      <td>0.0</td>\n",
       "      <td>0.0</td>\n",
       "      <td>0.0</td>\n",
       "      <td>0.0</td>\n",
       "      <td>0.0</td>\n",
       "      <td>0.0</td>\n",
       "    </tr>\n",
       "    <tr>\n",
       "      <th>1</th>\n",
       "      <td>0.0</td>\n",
       "      <td>0.0</td>\n",
       "      <td>0.0</td>\n",
       "      <td>0.000000e+00</td>\n",
       "      <td>1.256398e-06</td>\n",
       "      <td>0.008003</td>\n",
       "      <td>0.000066</td>\n",
       "      <td>0.000000</td>\n",
       "      <td>0.0</td>\n",
       "      <td>0.0</td>\n",
       "      <td>...</td>\n",
       "      <td>0.000000</td>\n",
       "      <td>0.000000</td>\n",
       "      <td>0.000000e+00</td>\n",
       "      <td>0.000000e+00</td>\n",
       "      <td>0.0</td>\n",
       "      <td>0.0</td>\n",
       "      <td>0.0</td>\n",
       "      <td>0.0</td>\n",
       "      <td>0.0</td>\n",
       "      <td>0.0</td>\n",
       "    </tr>\n",
       "    <tr>\n",
       "      <th>2</th>\n",
       "      <td>0.0</td>\n",
       "      <td>0.0</td>\n",
       "      <td>0.0</td>\n",
       "      <td>0.000000e+00</td>\n",
       "      <td>2.405004e-05</td>\n",
       "      <td>0.000006</td>\n",
       "      <td>0.000000</td>\n",
       "      <td>0.000000</td>\n",
       "      <td>0.0</td>\n",
       "      <td>0.0</td>\n",
       "      <td>...</td>\n",
       "      <td>0.000232</td>\n",
       "      <td>0.000442</td>\n",
       "      <td>0.000000e+00</td>\n",
       "      <td>0.000000e+00</td>\n",
       "      <td>0.0</td>\n",
       "      <td>0.0</td>\n",
       "      <td>0.0</td>\n",
       "      <td>0.0</td>\n",
       "      <td>0.0</td>\n",
       "      <td>0.0</td>\n",
       "    </tr>\n",
       "    <tr>\n",
       "      <th>3</th>\n",
       "      <td>0.0</td>\n",
       "      <td>0.0</td>\n",
       "      <td>0.0</td>\n",
       "      <td>7.707083e-08</td>\n",
       "      <td>4.103336e-07</td>\n",
       "      <td>0.000000</td>\n",
       "      <td>0.000000</td>\n",
       "      <td>0.000000</td>\n",
       "      <td>0.0</td>\n",
       "      <td>0.0</td>\n",
       "      <td>...</td>\n",
       "      <td>0.000000</td>\n",
       "      <td>0.000000</td>\n",
       "      <td>2.825606e-07</td>\n",
       "      <td>2.048439e-07</td>\n",
       "      <td>0.0</td>\n",
       "      <td>0.0</td>\n",
       "      <td>0.0</td>\n",
       "      <td>0.0</td>\n",
       "      <td>0.0</td>\n",
       "      <td>0.0</td>\n",
       "    </tr>\n",
       "    <tr>\n",
       "      <th>4</th>\n",
       "      <td>0.0</td>\n",
       "      <td>0.0</td>\n",
       "      <td>0.0</td>\n",
       "      <td>1.763056e-02</td>\n",
       "      <td>4.753948e-03</td>\n",
       "      <td>0.000053</td>\n",
       "      <td>0.293578</td>\n",
       "      <td>0.002784</td>\n",
       "      <td>0.0</td>\n",
       "      <td>0.0</td>\n",
       "      <td>...</td>\n",
       "      <td>0.000000</td>\n",
       "      <td>0.000000</td>\n",
       "      <td>0.000000e+00</td>\n",
       "      <td>0.000000e+00</td>\n",
       "      <td>0.0</td>\n",
       "      <td>0.0</td>\n",
       "      <td>0.0</td>\n",
       "      <td>0.0</td>\n",
       "      <td>0.0</td>\n",
       "      <td>0.0</td>\n",
       "    </tr>\n",
       "  </tbody>\n",
       "</table>\n",
       "<p>5 rows × 910 columns</p>\n",
       "</div>"
      ],
      "text/plain": [
       "   True_value  True_value  True_value    True_value    True_value  True_value  \\\n",
       "0         0.0         0.0         0.0  4.042582e-03  4.042582e-03    0.000000   \n",
       "1         0.0         0.0         0.0  0.000000e+00  1.256398e-06    0.008003   \n",
       "2         0.0         0.0         0.0  0.000000e+00  2.405004e-05    0.000006   \n",
       "3         0.0         0.0         0.0  7.707083e-08  4.103336e-07    0.000000   \n",
       "4         0.0         0.0         0.0  1.763056e-02  4.753948e-03    0.000053   \n",
       "\n",
       "   True_value  True_value  True_value  True_value  ...  True_value  \\\n",
       "0    0.000000    0.000000         0.0         0.0  ...    0.000000   \n",
       "1    0.000066    0.000000         0.0         0.0  ...    0.000000   \n",
       "2    0.000000    0.000000         0.0         0.0  ...    0.000232   \n",
       "3    0.000000    0.000000         0.0         0.0  ...    0.000000   \n",
       "4    0.293578    0.002784         0.0         0.0  ...    0.000000   \n",
       "\n",
       "   True_value    True_value    True_value  True_value  True_value  True_value  \\\n",
       "0    0.000000  0.000000e+00  0.000000e+00         0.0         0.0         0.0   \n",
       "1    0.000000  0.000000e+00  0.000000e+00         0.0         0.0         0.0   \n",
       "2    0.000442  0.000000e+00  0.000000e+00         0.0         0.0         0.0   \n",
       "3    0.000000  2.825606e-07  2.048439e-07         0.0         0.0         0.0   \n",
       "4    0.000000  0.000000e+00  0.000000e+00         0.0         0.0         0.0   \n",
       "\n",
       "   True_value  True_value  True_value  \n",
       "0         0.0         0.0         0.0  \n",
       "1         0.0         0.0         0.0  \n",
       "2         0.0         0.0         0.0  \n",
       "3         0.0         0.0         0.0  \n",
       "4         0.0         0.0         0.0  \n",
       "\n",
       "[5 rows x 910 columns]"
      ]
     },
     "execution_count": 20,
     "metadata": {},
     "output_type": "execute_result"
    }
   ],
   "source": [
    "True_values_df.head()"
   ]
  },
  {
   "cell_type": "code",
   "execution_count": 21,
   "id": "7bf2ce55-e613-440c-98df-b3137476fda8",
   "metadata": {},
   "outputs": [
    {
     "data": {
      "text/plain": [
       "(7, 910)"
      ]
     },
     "execution_count": 21,
     "metadata": {},
     "output_type": "execute_result"
    }
   ],
   "source": [
    "True_values_df.shape"
   ]
  },
  {
   "cell_type": "code",
   "execution_count": 22,
   "id": "18e0219e-ee9c-4e29-a372-2b6290708941",
   "metadata": {},
   "outputs": [],
   "source": [
    "# get the proper counts?\n",
    "exp_true = np.exp(True_values_df)-1"
   ]
  },
  {
   "cell_type": "code",
   "execution_count": 23,
   "id": "a7319ca1-7b28-41f3-8b38-11863c1835e5",
   "metadata": {},
   "outputs": [
    {
     "data": {
      "text/html": [
       "<div>\n",
       "<style scoped>\n",
       "    .dataframe tbody tr th:only-of-type {\n",
       "        vertical-align: middle;\n",
       "    }\n",
       "\n",
       "    .dataframe tbody tr th {\n",
       "        vertical-align: top;\n",
       "    }\n",
       "\n",
       "    .dataframe thead th {\n",
       "        text-align: right;\n",
       "    }\n",
       "</style>\n",
       "<table border=\"1\" class=\"dataframe\">\n",
       "  <thead>\n",
       "    <tr style=\"text-align: right;\">\n",
       "      <th></th>\n",
       "      <th>True_value</th>\n",
       "      <th>True_value</th>\n",
       "      <th>True_value</th>\n",
       "      <th>True_value</th>\n",
       "      <th>True_value</th>\n",
       "      <th>True_value</th>\n",
       "      <th>True_value</th>\n",
       "      <th>True_value</th>\n",
       "      <th>True_value</th>\n",
       "      <th>True_value</th>\n",
       "      <th>...</th>\n",
       "      <th>True_value</th>\n",
       "      <th>True_value</th>\n",
       "      <th>True_value</th>\n",
       "      <th>True_value</th>\n",
       "      <th>True_value</th>\n",
       "      <th>True_value</th>\n",
       "      <th>True_value</th>\n",
       "      <th>True_value</th>\n",
       "      <th>True_value</th>\n",
       "      <th>True_value</th>\n",
       "    </tr>\n",
       "  </thead>\n",
       "  <tbody>\n",
       "    <tr>\n",
       "      <th>0</th>\n",
       "      <td>0.0</td>\n",
       "      <td>0.0</td>\n",
       "      <td>0.0</td>\n",
       "      <td>4.050764e-03</td>\n",
       "      <td>4.050764e-03</td>\n",
       "      <td>0.000000e+00</td>\n",
       "      <td>0.000000</td>\n",
       "      <td>0.000000</td>\n",
       "      <td>0.0</td>\n",
       "      <td>0.0</td>\n",
       "      <td>...</td>\n",
       "      <td>0.000000</td>\n",
       "      <td>0.000000e+00</td>\n",
       "      <td>0.000000e+00</td>\n",
       "      <td>0.000000e+00</td>\n",
       "      <td>0.0</td>\n",
       "      <td>0.0</td>\n",
       "      <td>0.0</td>\n",
       "      <td>0.0</td>\n",
       "      <td>0.0</td>\n",
       "      <td>0.0</td>\n",
       "    </tr>\n",
       "    <tr>\n",
       "      <th>1</th>\n",
       "      <td>0.0</td>\n",
       "      <td>0.0</td>\n",
       "      <td>0.0</td>\n",
       "      <td>0.000000e+00</td>\n",
       "      <td>1.256399e-06</td>\n",
       "      <td>8.034638e-03</td>\n",
       "      <td>0.000066</td>\n",
       "      <td>0.000000</td>\n",
       "      <td>0.0</td>\n",
       "      <td>0.0</td>\n",
       "      <td>...</td>\n",
       "      <td>0.000000</td>\n",
       "      <td>0.000000e+00</td>\n",
       "      <td>0.000000e+00</td>\n",
       "      <td>0.000000e+00</td>\n",
       "      <td>0.0</td>\n",
       "      <td>0.0</td>\n",
       "      <td>0.0</td>\n",
       "      <td>0.0</td>\n",
       "      <td>0.0</td>\n",
       "      <td>0.0</td>\n",
       "    </tr>\n",
       "    <tr>\n",
       "      <th>2</th>\n",
       "      <td>0.0</td>\n",
       "      <td>0.0</td>\n",
       "      <td>0.0</td>\n",
       "      <td>0.000000e+00</td>\n",
       "      <td>2.405033e-05</td>\n",
       "      <td>6.443295e-06</td>\n",
       "      <td>0.000000</td>\n",
       "      <td>0.000000</td>\n",
       "      <td>0.0</td>\n",
       "      <td>0.0</td>\n",
       "      <td>...</td>\n",
       "      <td>0.000232</td>\n",
       "      <td>4.419209e-04</td>\n",
       "      <td>0.000000e+00</td>\n",
       "      <td>0.000000e+00</td>\n",
       "      <td>0.0</td>\n",
       "      <td>0.0</td>\n",
       "      <td>0.0</td>\n",
       "      <td>0.0</td>\n",
       "      <td>0.0</td>\n",
       "      <td>0.0</td>\n",
       "    </tr>\n",
       "    <tr>\n",
       "      <th>3</th>\n",
       "      <td>0.0</td>\n",
       "      <td>0.0</td>\n",
       "      <td>0.0</td>\n",
       "      <td>7.707083e-08</td>\n",
       "      <td>4.103337e-07</td>\n",
       "      <td>0.000000e+00</td>\n",
       "      <td>0.000000</td>\n",
       "      <td>0.000000</td>\n",
       "      <td>0.0</td>\n",
       "      <td>0.0</td>\n",
       "      <td>...</td>\n",
       "      <td>0.000000</td>\n",
       "      <td>0.000000e+00</td>\n",
       "      <td>2.825606e-07</td>\n",
       "      <td>2.048439e-07</td>\n",
       "      <td>0.0</td>\n",
       "      <td>0.0</td>\n",
       "      <td>0.0</td>\n",
       "      <td>0.0</td>\n",
       "      <td>0.0</td>\n",
       "      <td>0.0</td>\n",
       "    </tr>\n",
       "    <tr>\n",
       "      <th>4</th>\n",
       "      <td>0.0</td>\n",
       "      <td>0.0</td>\n",
       "      <td>0.0</td>\n",
       "      <td>1.778690e-02</td>\n",
       "      <td>4.765266e-03</td>\n",
       "      <td>5.335709e-05</td>\n",
       "      <td>0.341217</td>\n",
       "      <td>0.002787</td>\n",
       "      <td>0.0</td>\n",
       "      <td>0.0</td>\n",
       "      <td>...</td>\n",
       "      <td>0.000000</td>\n",
       "      <td>0.000000e+00</td>\n",
       "      <td>0.000000e+00</td>\n",
       "      <td>0.000000e+00</td>\n",
       "      <td>0.0</td>\n",
       "      <td>0.0</td>\n",
       "      <td>0.0</td>\n",
       "      <td>0.0</td>\n",
       "      <td>0.0</td>\n",
       "      <td>0.0</td>\n",
       "    </tr>\n",
       "    <tr>\n",
       "      <th>5</th>\n",
       "      <td>0.0</td>\n",
       "      <td>0.0</td>\n",
       "      <td>0.0</td>\n",
       "      <td>3.669061e-05</td>\n",
       "      <td>6.370256e-04</td>\n",
       "      <td>3.337987e-09</td>\n",
       "      <td>0.000000</td>\n",
       "      <td>0.000000</td>\n",
       "      <td>0.0</td>\n",
       "      <td>0.0</td>\n",
       "      <td>...</td>\n",
       "      <td>0.000000</td>\n",
       "      <td>6.270229e-11</td>\n",
       "      <td>1.196620e-05</td>\n",
       "      <td>6.892144e-07</td>\n",
       "      <td>0.0</td>\n",
       "      <td>0.0</td>\n",
       "      <td>0.0</td>\n",
       "      <td>0.0</td>\n",
       "      <td>0.0</td>\n",
       "      <td>0.0</td>\n",
       "    </tr>\n",
       "    <tr>\n",
       "      <th>6</th>\n",
       "      <td>0.0</td>\n",
       "      <td>0.0</td>\n",
       "      <td>0.0</td>\n",
       "      <td>0.000000e+00</td>\n",
       "      <td>0.000000e+00</td>\n",
       "      <td>0.000000e+00</td>\n",
       "      <td>0.000000</td>\n",
       "      <td>0.000000</td>\n",
       "      <td>0.0</td>\n",
       "      <td>0.0</td>\n",
       "      <td>...</td>\n",
       "      <td>0.000000</td>\n",
       "      <td>0.000000e+00</td>\n",
       "      <td>0.000000e+00</td>\n",
       "      <td>0.000000e+00</td>\n",
       "      <td>0.0</td>\n",
       "      <td>0.0</td>\n",
       "      <td>0.0</td>\n",
       "      <td>0.0</td>\n",
       "      <td>0.0</td>\n",
       "      <td>0.0</td>\n",
       "    </tr>\n",
       "  </tbody>\n",
       "</table>\n",
       "<p>7 rows × 910 columns</p>\n",
       "</div>"
      ],
      "text/plain": [
       "   True_value  True_value  True_value    True_value    True_value  \\\n",
       "0         0.0         0.0         0.0  4.050764e-03  4.050764e-03   \n",
       "1         0.0         0.0         0.0  0.000000e+00  1.256399e-06   \n",
       "2         0.0         0.0         0.0  0.000000e+00  2.405033e-05   \n",
       "3         0.0         0.0         0.0  7.707083e-08  4.103337e-07   \n",
       "4         0.0         0.0         0.0  1.778690e-02  4.765266e-03   \n",
       "5         0.0         0.0         0.0  3.669061e-05  6.370256e-04   \n",
       "6         0.0         0.0         0.0  0.000000e+00  0.000000e+00   \n",
       "\n",
       "     True_value  True_value  True_value  True_value  True_value  ...  \\\n",
       "0  0.000000e+00    0.000000    0.000000         0.0         0.0  ...   \n",
       "1  8.034638e-03    0.000066    0.000000         0.0         0.0  ...   \n",
       "2  6.443295e-06    0.000000    0.000000         0.0         0.0  ...   \n",
       "3  0.000000e+00    0.000000    0.000000         0.0         0.0  ...   \n",
       "4  5.335709e-05    0.341217    0.002787         0.0         0.0  ...   \n",
       "5  3.337987e-09    0.000000    0.000000         0.0         0.0  ...   \n",
       "6  0.000000e+00    0.000000    0.000000         0.0         0.0  ...   \n",
       "\n",
       "   True_value    True_value    True_value    True_value  True_value  \\\n",
       "0    0.000000  0.000000e+00  0.000000e+00  0.000000e+00         0.0   \n",
       "1    0.000000  0.000000e+00  0.000000e+00  0.000000e+00         0.0   \n",
       "2    0.000232  4.419209e-04  0.000000e+00  0.000000e+00         0.0   \n",
       "3    0.000000  0.000000e+00  2.825606e-07  2.048439e-07         0.0   \n",
       "4    0.000000  0.000000e+00  0.000000e+00  0.000000e+00         0.0   \n",
       "5    0.000000  6.270229e-11  1.196620e-05  6.892144e-07         0.0   \n",
       "6    0.000000  0.000000e+00  0.000000e+00  0.000000e+00         0.0   \n",
       "\n",
       "   True_value  True_value  True_value  True_value  True_value  \n",
       "0         0.0         0.0         0.0         0.0         0.0  \n",
       "1         0.0         0.0         0.0         0.0         0.0  \n",
       "2         0.0         0.0         0.0         0.0         0.0  \n",
       "3         0.0         0.0         0.0         0.0         0.0  \n",
       "4         0.0         0.0         0.0         0.0         0.0  \n",
       "5         0.0         0.0         0.0         0.0         0.0  \n",
       "6         0.0         0.0         0.0         0.0         0.0  \n",
       "\n",
       "[7 rows x 910 columns]"
      ]
     },
     "execution_count": 23,
     "metadata": {},
     "output_type": "execute_result"
    }
   ],
   "source": [
    "exp_true"
   ]
  },
  {
   "cell_type": "code",
   "execution_count": 24,
   "id": "fbc09b78-d34e-434e-8232-ee3be25766e9",
   "metadata": {},
   "outputs": [],
   "source": [
    "# sum the true values - since the sub images are not overlapping, we can get the sum across columns in the above dataframe\n",
    "sum_true_values = exp_true.sum(axis = 1)"
   ]
  },
  {
   "cell_type": "code",
   "execution_count": 25,
   "id": "6057a433-4dfb-4804-bbac-ea3dacce11e6",
   "metadata": {},
   "outputs": [
    {
     "data": {
      "text/plain": [
       "0    40.000001\n",
       "1    46.002743\n",
       "2    58.000696\n",
       "3    41.000032\n",
       "4    41.001190\n",
       "5    36.000022\n",
       "6    23.000001\n",
       "dtype: float64"
      ]
     },
     "execution_count": 25,
     "metadata": {},
     "output_type": "execute_result"
    }
   ],
   "source": [
    "sum_true_values"
   ]
  },
  {
   "cell_type": "code",
   "execution_count": 26,
   "id": "2fc2ac3e-59e7-4f27-91ab-31d30b4eeaa7",
   "metadata": {},
   "outputs": [],
   "source": [
    "# get the forecasted values\n",
    "Forecasted_values_df = combined_df[['Forecasted_value']]"
   ]
  },
  {
   "cell_type": "code",
   "execution_count": 27,
   "id": "4d4182a4-7ede-4ffc-b952-08aa47d424d0",
   "metadata": {},
   "outputs": [
    {
     "data": {
      "text/html": [
       "<div>\n",
       "<style scoped>\n",
       "    .dataframe tbody tr th:only-of-type {\n",
       "        vertical-align: middle;\n",
       "    }\n",
       "\n",
       "    .dataframe tbody tr th {\n",
       "        vertical-align: top;\n",
       "    }\n",
       "\n",
       "    .dataframe thead th {\n",
       "        text-align: right;\n",
       "    }\n",
       "</style>\n",
       "<table border=\"1\" class=\"dataframe\">\n",
       "  <thead>\n",
       "    <tr style=\"text-align: right;\">\n",
       "      <th></th>\n",
       "      <th>Forecasted_value</th>\n",
       "      <th>Forecasted_value</th>\n",
       "      <th>Forecasted_value</th>\n",
       "      <th>Forecasted_value</th>\n",
       "      <th>Forecasted_value</th>\n",
       "      <th>Forecasted_value</th>\n",
       "      <th>Forecasted_value</th>\n",
       "      <th>Forecasted_value</th>\n",
       "      <th>Forecasted_value</th>\n",
       "      <th>Forecasted_value</th>\n",
       "      <th>...</th>\n",
       "      <th>Forecasted_value</th>\n",
       "      <th>Forecasted_value</th>\n",
       "      <th>Forecasted_value</th>\n",
       "      <th>Forecasted_value</th>\n",
       "      <th>Forecasted_value</th>\n",
       "      <th>Forecasted_value</th>\n",
       "      <th>Forecasted_value</th>\n",
       "      <th>Forecasted_value</th>\n",
       "      <th>Forecasted_value</th>\n",
       "      <th>Forecasted_value</th>\n",
       "    </tr>\n",
       "  </thead>\n",
       "  <tbody>\n",
       "    <tr>\n",
       "      <th>0</th>\n",
       "      <td>-0.010814</td>\n",
       "      <td>-0.010528</td>\n",
       "      <td>-0.007839</td>\n",
       "      <td>-0.015733</td>\n",
       "      <td>0.208810</td>\n",
       "      <td>-0.021249</td>\n",
       "      <td>-0.016524</td>\n",
       "      <td>0.044367</td>\n",
       "      <td>-0.011808</td>\n",
       "      <td>-0.002722</td>\n",
       "      <td>...</td>\n",
       "      <td>0.003800</td>\n",
       "      <td>0.084365</td>\n",
       "      <td>-0.011007</td>\n",
       "      <td>-0.000824</td>\n",
       "      <td>-0.009047</td>\n",
       "      <td>0.003892</td>\n",
       "      <td>0.002779</td>\n",
       "      <td>-0.033904</td>\n",
       "      <td>-0.018464</td>\n",
       "      <td>0.001312</td>\n",
       "    </tr>\n",
       "    <tr>\n",
       "      <th>1</th>\n",
       "      <td>-0.006430</td>\n",
       "      <td>0.012639</td>\n",
       "      <td>-0.001413</td>\n",
       "      <td>-0.013234</td>\n",
       "      <td>0.178798</td>\n",
       "      <td>-0.004173</td>\n",
       "      <td>0.030510</td>\n",
       "      <td>0.044270</td>\n",
       "      <td>-0.016416</td>\n",
       "      <td>0.001119</td>\n",
       "      <td>...</td>\n",
       "      <td>0.005771</td>\n",
       "      <td>0.042425</td>\n",
       "      <td>-0.011178</td>\n",
       "      <td>0.004431</td>\n",
       "      <td>-0.017495</td>\n",
       "      <td>-0.013009</td>\n",
       "      <td>-0.002402</td>\n",
       "      <td>-0.011110</td>\n",
       "      <td>-0.027494</td>\n",
       "      <td>-0.003227</td>\n",
       "    </tr>\n",
       "    <tr>\n",
       "      <th>2</th>\n",
       "      <td>-0.005055</td>\n",
       "      <td>0.009427</td>\n",
       "      <td>-0.004568</td>\n",
       "      <td>0.010436</td>\n",
       "      <td>0.171103</td>\n",
       "      <td>-0.008256</td>\n",
       "      <td>0.038708</td>\n",
       "      <td>0.053373</td>\n",
       "      <td>-0.007498</td>\n",
       "      <td>-0.003942</td>\n",
       "      <td>...</td>\n",
       "      <td>-0.007007</td>\n",
       "      <td>0.065254</td>\n",
       "      <td>-0.011880</td>\n",
       "      <td>-0.001317</td>\n",
       "      <td>-0.011378</td>\n",
       "      <td>-0.001201</td>\n",
       "      <td>-0.002927</td>\n",
       "      <td>-0.041272</td>\n",
       "      <td>-0.008074</td>\n",
       "      <td>-0.005275</td>\n",
       "    </tr>\n",
       "    <tr>\n",
       "      <th>3</th>\n",
       "      <td>0.001632</td>\n",
       "      <td>0.025446</td>\n",
       "      <td>0.001462</td>\n",
       "      <td>0.008084</td>\n",
       "      <td>0.114497</td>\n",
       "      <td>-0.003990</td>\n",
       "      <td>0.026412</td>\n",
       "      <td>0.044140</td>\n",
       "      <td>-0.004701</td>\n",
       "      <td>0.002359</td>\n",
       "      <td>...</td>\n",
       "      <td>-0.001871</td>\n",
       "      <td>-0.001841</td>\n",
       "      <td>0.001989</td>\n",
       "      <td>0.019496</td>\n",
       "      <td>0.002452</td>\n",
       "      <td>-0.005206</td>\n",
       "      <td>-0.001036</td>\n",
       "      <td>-0.024987</td>\n",
       "      <td>-0.001255</td>\n",
       "      <td>-0.003272</td>\n",
       "    </tr>\n",
       "    <tr>\n",
       "      <th>4</th>\n",
       "      <td>-0.000513</td>\n",
       "      <td>0.007844</td>\n",
       "      <td>-0.001300</td>\n",
       "      <td>-0.027426</td>\n",
       "      <td>0.097177</td>\n",
       "      <td>-0.012561</td>\n",
       "      <td>0.021906</td>\n",
       "      <td>0.029735</td>\n",
       "      <td>-0.005838</td>\n",
       "      <td>0.004290</td>\n",
       "      <td>...</td>\n",
       "      <td>0.024244</td>\n",
       "      <td>0.010323</td>\n",
       "      <td>-0.007845</td>\n",
       "      <td>0.003886</td>\n",
       "      <td>-0.001149</td>\n",
       "      <td>0.006543</td>\n",
       "      <td>0.006006</td>\n",
       "      <td>-0.015281</td>\n",
       "      <td>-0.016180</td>\n",
       "      <td>-0.003769</td>\n",
       "    </tr>\n",
       "  </tbody>\n",
       "</table>\n",
       "<p>5 rows × 910 columns</p>\n",
       "</div>"
      ],
      "text/plain": [
       "   Forecasted_value  Forecasted_value  Forecasted_value  Forecasted_value  \\\n",
       "0         -0.010814         -0.010528         -0.007839         -0.015733   \n",
       "1         -0.006430          0.012639         -0.001413         -0.013234   \n",
       "2         -0.005055          0.009427         -0.004568          0.010436   \n",
       "3          0.001632          0.025446          0.001462          0.008084   \n",
       "4         -0.000513          0.007844         -0.001300         -0.027426   \n",
       "\n",
       "   Forecasted_value  Forecasted_value  Forecasted_value  Forecasted_value  \\\n",
       "0          0.208810         -0.021249         -0.016524          0.044367   \n",
       "1          0.178798         -0.004173          0.030510          0.044270   \n",
       "2          0.171103         -0.008256          0.038708          0.053373   \n",
       "3          0.114497         -0.003990          0.026412          0.044140   \n",
       "4          0.097177         -0.012561          0.021906          0.029735   \n",
       "\n",
       "   Forecasted_value  Forecasted_value  ...  Forecasted_value  \\\n",
       "0         -0.011808         -0.002722  ...          0.003800   \n",
       "1         -0.016416          0.001119  ...          0.005771   \n",
       "2         -0.007498         -0.003942  ...         -0.007007   \n",
       "3         -0.004701          0.002359  ...         -0.001871   \n",
       "4         -0.005838          0.004290  ...          0.024244   \n",
       "\n",
       "   Forecasted_value  Forecasted_value  Forecasted_value  Forecasted_value  \\\n",
       "0          0.084365         -0.011007         -0.000824         -0.009047   \n",
       "1          0.042425         -0.011178          0.004431         -0.017495   \n",
       "2          0.065254         -0.011880         -0.001317         -0.011378   \n",
       "3         -0.001841          0.001989          0.019496          0.002452   \n",
       "4          0.010323         -0.007845          0.003886         -0.001149   \n",
       "\n",
       "   Forecasted_value  Forecasted_value  Forecasted_value  Forecasted_value  \\\n",
       "0          0.003892          0.002779         -0.033904         -0.018464   \n",
       "1         -0.013009         -0.002402         -0.011110         -0.027494   \n",
       "2         -0.001201         -0.002927         -0.041272         -0.008074   \n",
       "3         -0.005206         -0.001036         -0.024987         -0.001255   \n",
       "4          0.006543          0.006006         -0.015281         -0.016180   \n",
       "\n",
       "   Forecasted_value  \n",
       "0          0.001312  \n",
       "1         -0.003227  \n",
       "2         -0.005275  \n",
       "3         -0.003272  \n",
       "4         -0.003769  \n",
       "\n",
       "[5 rows x 910 columns]"
      ]
     },
     "execution_count": 27,
     "metadata": {},
     "output_type": "execute_result"
    }
   ],
   "source": [
    "Forecasted_values_df.head()"
   ]
  },
  {
   "cell_type": "code",
   "execution_count": 28,
   "id": "c4e2130b-9b6b-40b7-9efe-4cd6cd30c107",
   "metadata": {},
   "outputs": [],
   "source": [
    "exp_forecasted = np.exp(Forecasted_values_df)-1"
   ]
  },
  {
   "cell_type": "code",
   "execution_count": 29,
   "id": "60cd0006-0367-436e-b3c8-282e12e01146",
   "metadata": {},
   "outputs": [
    {
     "data": {
      "text/html": [
       "<div>\n",
       "<style scoped>\n",
       "    .dataframe tbody tr th:only-of-type {\n",
       "        vertical-align: middle;\n",
       "    }\n",
       "\n",
       "    .dataframe tbody tr th {\n",
       "        vertical-align: top;\n",
       "    }\n",
       "\n",
       "    .dataframe thead th {\n",
       "        text-align: right;\n",
       "    }\n",
       "</style>\n",
       "<table border=\"1\" class=\"dataframe\">\n",
       "  <thead>\n",
       "    <tr style=\"text-align: right;\">\n",
       "      <th></th>\n",
       "      <th>Forecasted_value</th>\n",
       "      <th>Forecasted_value</th>\n",
       "      <th>Forecasted_value</th>\n",
       "      <th>Forecasted_value</th>\n",
       "      <th>Forecasted_value</th>\n",
       "      <th>Forecasted_value</th>\n",
       "      <th>Forecasted_value</th>\n",
       "      <th>Forecasted_value</th>\n",
       "      <th>Forecasted_value</th>\n",
       "      <th>Forecasted_value</th>\n",
       "      <th>...</th>\n",
       "      <th>Forecasted_value</th>\n",
       "      <th>Forecasted_value</th>\n",
       "      <th>Forecasted_value</th>\n",
       "      <th>Forecasted_value</th>\n",
       "      <th>Forecasted_value</th>\n",
       "      <th>Forecasted_value</th>\n",
       "      <th>Forecasted_value</th>\n",
       "      <th>Forecasted_value</th>\n",
       "      <th>Forecasted_value</th>\n",
       "      <th>Forecasted_value</th>\n",
       "    </tr>\n",
       "  </thead>\n",
       "  <tbody>\n",
       "    <tr>\n",
       "      <th>0</th>\n",
       "      <td>-0.010756</td>\n",
       "      <td>-0.010473</td>\n",
       "      <td>-0.007808</td>\n",
       "      <td>-0.015610</td>\n",
       "      <td>0.232211</td>\n",
       "      <td>-0.021025</td>\n",
       "      <td>-0.016389</td>\n",
       "      <td>0.045366</td>\n",
       "      <td>-0.011739</td>\n",
       "      <td>-0.002718</td>\n",
       "      <td>...</td>\n",
       "      <td>0.003807</td>\n",
       "      <td>0.088026</td>\n",
       "      <td>-0.010946</td>\n",
       "      <td>-0.000824</td>\n",
       "      <td>-0.009007</td>\n",
       "      <td>0.003900</td>\n",
       "      <td>0.002783</td>\n",
       "      <td>-0.033336</td>\n",
       "      <td>-0.018294</td>\n",
       "      <td>0.001313</td>\n",
       "    </tr>\n",
       "    <tr>\n",
       "      <th>1</th>\n",
       "      <td>-0.006410</td>\n",
       "      <td>0.012719</td>\n",
       "      <td>-0.001412</td>\n",
       "      <td>-0.013147</td>\n",
       "      <td>0.195779</td>\n",
       "      <td>-0.004164</td>\n",
       "      <td>0.030981</td>\n",
       "      <td>0.045265</td>\n",
       "      <td>-0.016282</td>\n",
       "      <td>0.001119</td>\n",
       "      <td>...</td>\n",
       "      <td>0.005788</td>\n",
       "      <td>0.043338</td>\n",
       "      <td>-0.011116</td>\n",
       "      <td>0.004441</td>\n",
       "      <td>-0.017343</td>\n",
       "      <td>-0.012925</td>\n",
       "      <td>-0.002399</td>\n",
       "      <td>-0.011049</td>\n",
       "      <td>-0.027119</td>\n",
       "      <td>-0.003222</td>\n",
       "    </tr>\n",
       "    <tr>\n",
       "      <th>2</th>\n",
       "      <td>-0.005042</td>\n",
       "      <td>0.009472</td>\n",
       "      <td>-0.004557</td>\n",
       "      <td>0.010491</td>\n",
       "      <td>0.186613</td>\n",
       "      <td>-0.008222</td>\n",
       "      <td>0.039467</td>\n",
       "      <td>0.054823</td>\n",
       "      <td>-0.007470</td>\n",
       "      <td>-0.003934</td>\n",
       "      <td>...</td>\n",
       "      <td>-0.006982</td>\n",
       "      <td>0.067430</td>\n",
       "      <td>-0.011810</td>\n",
       "      <td>-0.001316</td>\n",
       "      <td>-0.011313</td>\n",
       "      <td>-0.001201</td>\n",
       "      <td>-0.002923</td>\n",
       "      <td>-0.040432</td>\n",
       "      <td>-0.008042</td>\n",
       "      <td>-0.005261</td>\n",
       "    </tr>\n",
       "    <tr>\n",
       "      <th>3</th>\n",
       "      <td>0.001633</td>\n",
       "      <td>0.025773</td>\n",
       "      <td>0.001463</td>\n",
       "      <td>0.008117</td>\n",
       "      <td>0.121309</td>\n",
       "      <td>-0.003982</td>\n",
       "      <td>0.026764</td>\n",
       "      <td>0.045129</td>\n",
       "      <td>-0.004690</td>\n",
       "      <td>0.002362</td>\n",
       "      <td>...</td>\n",
       "      <td>-0.001869</td>\n",
       "      <td>-0.001839</td>\n",
       "      <td>0.001991</td>\n",
       "      <td>0.019687</td>\n",
       "      <td>0.002455</td>\n",
       "      <td>-0.005192</td>\n",
       "      <td>-0.001036</td>\n",
       "      <td>-0.024678</td>\n",
       "      <td>-0.001255</td>\n",
       "      <td>-0.003267</td>\n",
       "    </tr>\n",
       "    <tr>\n",
       "      <th>4</th>\n",
       "      <td>-0.000512</td>\n",
       "      <td>0.007875</td>\n",
       "      <td>-0.001299</td>\n",
       "      <td>-0.027054</td>\n",
       "      <td>0.102056</td>\n",
       "      <td>-0.012483</td>\n",
       "      <td>0.022148</td>\n",
       "      <td>0.030181</td>\n",
       "      <td>-0.005821</td>\n",
       "      <td>0.004299</td>\n",
       "      <td>...</td>\n",
       "      <td>0.024541</td>\n",
       "      <td>0.010377</td>\n",
       "      <td>-0.007815</td>\n",
       "      <td>0.003894</td>\n",
       "      <td>-0.001148</td>\n",
       "      <td>0.006564</td>\n",
       "      <td>0.006024</td>\n",
       "      <td>-0.015165</td>\n",
       "      <td>-0.016050</td>\n",
       "      <td>-0.003762</td>\n",
       "    </tr>\n",
       "    <tr>\n",
       "      <th>5</th>\n",
       "      <td>0.004983</td>\n",
       "      <td>0.020268</td>\n",
       "      <td>0.005699</td>\n",
       "      <td>0.005176</td>\n",
       "      <td>0.116325</td>\n",
       "      <td>-0.008199</td>\n",
       "      <td>0.033995</td>\n",
       "      <td>0.054790</td>\n",
       "      <td>-0.000639</td>\n",
       "      <td>0.001528</td>\n",
       "      <td>...</td>\n",
       "      <td>0.007193</td>\n",
       "      <td>0.024927</td>\n",
       "      <td>0.004988</td>\n",
       "      <td>0.021191</td>\n",
       "      <td>0.000543</td>\n",
       "      <td>-0.001331</td>\n",
       "      <td>0.000360</td>\n",
       "      <td>-0.021296</td>\n",
       "      <td>-0.006035</td>\n",
       "      <td>-0.003082</td>\n",
       "    </tr>\n",
       "    <tr>\n",
       "      <th>6</th>\n",
       "      <td>-0.000309</td>\n",
       "      <td>0.024839</td>\n",
       "      <td>-0.003142</td>\n",
       "      <td>0.014801</td>\n",
       "      <td>0.114559</td>\n",
       "      <td>-0.014168</td>\n",
       "      <td>0.036293</td>\n",
       "      <td>0.056468</td>\n",
       "      <td>-0.001739</td>\n",
       "      <td>0.003476</td>\n",
       "      <td>...</td>\n",
       "      <td>-0.001439</td>\n",
       "      <td>0.014414</td>\n",
       "      <td>0.002182</td>\n",
       "      <td>0.015287</td>\n",
       "      <td>-0.003809</td>\n",
       "      <td>-0.005367</td>\n",
       "      <td>-0.003130</td>\n",
       "      <td>-0.033335</td>\n",
       "      <td>-0.003917</td>\n",
       "      <td>-0.002926</td>\n",
       "    </tr>\n",
       "  </tbody>\n",
       "</table>\n",
       "<p>7 rows × 910 columns</p>\n",
       "</div>"
      ],
      "text/plain": [
       "   Forecasted_value  Forecasted_value  Forecasted_value  Forecasted_value  \\\n",
       "0         -0.010756         -0.010473         -0.007808         -0.015610   \n",
       "1         -0.006410          0.012719         -0.001412         -0.013147   \n",
       "2         -0.005042          0.009472         -0.004557          0.010491   \n",
       "3          0.001633          0.025773          0.001463          0.008117   \n",
       "4         -0.000512          0.007875         -0.001299         -0.027054   \n",
       "5          0.004983          0.020268          0.005699          0.005176   \n",
       "6         -0.000309          0.024839         -0.003142          0.014801   \n",
       "\n",
       "   Forecasted_value  Forecasted_value  Forecasted_value  Forecasted_value  \\\n",
       "0          0.232211         -0.021025         -0.016389          0.045366   \n",
       "1          0.195779         -0.004164          0.030981          0.045265   \n",
       "2          0.186613         -0.008222          0.039467          0.054823   \n",
       "3          0.121309         -0.003982          0.026764          0.045129   \n",
       "4          0.102056         -0.012483          0.022148          0.030181   \n",
       "5          0.116325         -0.008199          0.033995          0.054790   \n",
       "6          0.114559         -0.014168          0.036293          0.056468   \n",
       "\n",
       "   Forecasted_value  Forecasted_value  ...  Forecasted_value  \\\n",
       "0         -0.011739         -0.002718  ...          0.003807   \n",
       "1         -0.016282          0.001119  ...          0.005788   \n",
       "2         -0.007470         -0.003934  ...         -0.006982   \n",
       "3         -0.004690          0.002362  ...         -0.001869   \n",
       "4         -0.005821          0.004299  ...          0.024541   \n",
       "5         -0.000639          0.001528  ...          0.007193   \n",
       "6         -0.001739          0.003476  ...         -0.001439   \n",
       "\n",
       "   Forecasted_value  Forecasted_value  Forecasted_value  Forecasted_value  \\\n",
       "0          0.088026         -0.010946         -0.000824         -0.009007   \n",
       "1          0.043338         -0.011116          0.004441         -0.017343   \n",
       "2          0.067430         -0.011810         -0.001316         -0.011313   \n",
       "3         -0.001839          0.001991          0.019687          0.002455   \n",
       "4          0.010377         -0.007815          0.003894         -0.001148   \n",
       "5          0.024927          0.004988          0.021191          0.000543   \n",
       "6          0.014414          0.002182          0.015287         -0.003809   \n",
       "\n",
       "   Forecasted_value  Forecasted_value  Forecasted_value  Forecasted_value  \\\n",
       "0          0.003900          0.002783         -0.033336         -0.018294   \n",
       "1         -0.012925         -0.002399         -0.011049         -0.027119   \n",
       "2         -0.001201         -0.002923         -0.040432         -0.008042   \n",
       "3         -0.005192         -0.001036         -0.024678         -0.001255   \n",
       "4          0.006564          0.006024         -0.015165         -0.016050   \n",
       "5         -0.001331          0.000360         -0.021296         -0.006035   \n",
       "6         -0.005367         -0.003130         -0.033335         -0.003917   \n",
       "\n",
       "   Forecasted_value  \n",
       "0          0.001313  \n",
       "1         -0.003222  \n",
       "2         -0.005261  \n",
       "3         -0.003267  \n",
       "4         -0.003762  \n",
       "5         -0.003082  \n",
       "6         -0.002926  \n",
       "\n",
       "[7 rows x 910 columns]"
      ]
     },
     "execution_count": 29,
     "metadata": {},
     "output_type": "execute_result"
    }
   ],
   "source": [
    "exp_forecasted"
   ]
  },
  {
   "cell_type": "code",
   "execution_count": 30,
   "id": "cdc66bd6-b552-4dcd-9703-e07b035fb736",
   "metadata": {},
   "outputs": [],
   "source": [
    "# set the values to 0 if the forecasted count is negative?"
   ]
  },
  {
   "cell_type": "code",
   "execution_count": 31,
   "id": "56eddb77-a48e-409d-9684-10bb31132568",
   "metadata": {},
   "outputs": [],
   "source": [
    "exp_forecasted[exp_forecasted < 0] = 0"
   ]
  },
  {
   "cell_type": "code",
   "execution_count": 32,
   "id": "c96eedde-fcfa-4f54-b8cb-d5f5cb3d6493",
   "metadata": {},
   "outputs": [
    {
     "data": {
      "text/html": [
       "<div>\n",
       "<style scoped>\n",
       "    .dataframe tbody tr th:only-of-type {\n",
       "        vertical-align: middle;\n",
       "    }\n",
       "\n",
       "    .dataframe tbody tr th {\n",
       "        vertical-align: top;\n",
       "    }\n",
       "\n",
       "    .dataframe thead th {\n",
       "        text-align: right;\n",
       "    }\n",
       "</style>\n",
       "<table border=\"1\" class=\"dataframe\">\n",
       "  <thead>\n",
       "    <tr style=\"text-align: right;\">\n",
       "      <th></th>\n",
       "      <th>Forecasted_value</th>\n",
       "      <th>Forecasted_value</th>\n",
       "      <th>Forecasted_value</th>\n",
       "      <th>Forecasted_value</th>\n",
       "      <th>Forecasted_value</th>\n",
       "      <th>Forecasted_value</th>\n",
       "      <th>Forecasted_value</th>\n",
       "      <th>Forecasted_value</th>\n",
       "      <th>Forecasted_value</th>\n",
       "      <th>Forecasted_value</th>\n",
       "      <th>...</th>\n",
       "      <th>Forecasted_value</th>\n",
       "      <th>Forecasted_value</th>\n",
       "      <th>Forecasted_value</th>\n",
       "      <th>Forecasted_value</th>\n",
       "      <th>Forecasted_value</th>\n",
       "      <th>Forecasted_value</th>\n",
       "      <th>Forecasted_value</th>\n",
       "      <th>Forecasted_value</th>\n",
       "      <th>Forecasted_value</th>\n",
       "      <th>Forecasted_value</th>\n",
       "    </tr>\n",
       "  </thead>\n",
       "  <tbody>\n",
       "    <tr>\n",
       "      <th>0</th>\n",
       "      <td>0.000000</td>\n",
       "      <td>0.000000</td>\n",
       "      <td>0.000000</td>\n",
       "      <td>0.000000</td>\n",
       "      <td>0.232211</td>\n",
       "      <td>0.0</td>\n",
       "      <td>0.000000</td>\n",
       "      <td>0.045366</td>\n",
       "      <td>0.0</td>\n",
       "      <td>0.000000</td>\n",
       "      <td>...</td>\n",
       "      <td>0.003807</td>\n",
       "      <td>0.088026</td>\n",
       "      <td>0.000000</td>\n",
       "      <td>0.000000</td>\n",
       "      <td>0.000000</td>\n",
       "      <td>0.003900</td>\n",
       "      <td>0.002783</td>\n",
       "      <td>0.0</td>\n",
       "      <td>0.0</td>\n",
       "      <td>0.001313</td>\n",
       "    </tr>\n",
       "    <tr>\n",
       "      <th>1</th>\n",
       "      <td>0.000000</td>\n",
       "      <td>0.012719</td>\n",
       "      <td>0.000000</td>\n",
       "      <td>0.000000</td>\n",
       "      <td>0.195779</td>\n",
       "      <td>0.0</td>\n",
       "      <td>0.030981</td>\n",
       "      <td>0.045265</td>\n",
       "      <td>0.0</td>\n",
       "      <td>0.001119</td>\n",
       "      <td>...</td>\n",
       "      <td>0.005788</td>\n",
       "      <td>0.043338</td>\n",
       "      <td>0.000000</td>\n",
       "      <td>0.004441</td>\n",
       "      <td>0.000000</td>\n",
       "      <td>0.000000</td>\n",
       "      <td>0.000000</td>\n",
       "      <td>0.0</td>\n",
       "      <td>0.0</td>\n",
       "      <td>0.000000</td>\n",
       "    </tr>\n",
       "    <tr>\n",
       "      <th>2</th>\n",
       "      <td>0.000000</td>\n",
       "      <td>0.009472</td>\n",
       "      <td>0.000000</td>\n",
       "      <td>0.010491</td>\n",
       "      <td>0.186613</td>\n",
       "      <td>0.0</td>\n",
       "      <td>0.039467</td>\n",
       "      <td>0.054823</td>\n",
       "      <td>0.0</td>\n",
       "      <td>0.000000</td>\n",
       "      <td>...</td>\n",
       "      <td>0.000000</td>\n",
       "      <td>0.067430</td>\n",
       "      <td>0.000000</td>\n",
       "      <td>0.000000</td>\n",
       "      <td>0.000000</td>\n",
       "      <td>0.000000</td>\n",
       "      <td>0.000000</td>\n",
       "      <td>0.0</td>\n",
       "      <td>0.0</td>\n",
       "      <td>0.000000</td>\n",
       "    </tr>\n",
       "    <tr>\n",
       "      <th>3</th>\n",
       "      <td>0.001633</td>\n",
       "      <td>0.025773</td>\n",
       "      <td>0.001463</td>\n",
       "      <td>0.008117</td>\n",
       "      <td>0.121309</td>\n",
       "      <td>0.0</td>\n",
       "      <td>0.026764</td>\n",
       "      <td>0.045129</td>\n",
       "      <td>0.0</td>\n",
       "      <td>0.002362</td>\n",
       "      <td>...</td>\n",
       "      <td>0.000000</td>\n",
       "      <td>0.000000</td>\n",
       "      <td>0.001991</td>\n",
       "      <td>0.019687</td>\n",
       "      <td>0.002455</td>\n",
       "      <td>0.000000</td>\n",
       "      <td>0.000000</td>\n",
       "      <td>0.0</td>\n",
       "      <td>0.0</td>\n",
       "      <td>0.000000</td>\n",
       "    </tr>\n",
       "    <tr>\n",
       "      <th>4</th>\n",
       "      <td>0.000000</td>\n",
       "      <td>0.007875</td>\n",
       "      <td>0.000000</td>\n",
       "      <td>0.000000</td>\n",
       "      <td>0.102056</td>\n",
       "      <td>0.0</td>\n",
       "      <td>0.022148</td>\n",
       "      <td>0.030181</td>\n",
       "      <td>0.0</td>\n",
       "      <td>0.004299</td>\n",
       "      <td>...</td>\n",
       "      <td>0.024541</td>\n",
       "      <td>0.010377</td>\n",
       "      <td>0.000000</td>\n",
       "      <td>0.003894</td>\n",
       "      <td>0.000000</td>\n",
       "      <td>0.006564</td>\n",
       "      <td>0.006024</td>\n",
       "      <td>0.0</td>\n",
       "      <td>0.0</td>\n",
       "      <td>0.000000</td>\n",
       "    </tr>\n",
       "  </tbody>\n",
       "</table>\n",
       "<p>5 rows × 910 columns</p>\n",
       "</div>"
      ],
      "text/plain": [
       "   Forecasted_value  Forecasted_value  Forecasted_value  Forecasted_value  \\\n",
       "0          0.000000          0.000000          0.000000          0.000000   \n",
       "1          0.000000          0.012719          0.000000          0.000000   \n",
       "2          0.000000          0.009472          0.000000          0.010491   \n",
       "3          0.001633          0.025773          0.001463          0.008117   \n",
       "4          0.000000          0.007875          0.000000          0.000000   \n",
       "\n",
       "   Forecasted_value  Forecasted_value  Forecasted_value  Forecasted_value  \\\n",
       "0          0.232211               0.0          0.000000          0.045366   \n",
       "1          0.195779               0.0          0.030981          0.045265   \n",
       "2          0.186613               0.0          0.039467          0.054823   \n",
       "3          0.121309               0.0          0.026764          0.045129   \n",
       "4          0.102056               0.0          0.022148          0.030181   \n",
       "\n",
       "   Forecasted_value  Forecasted_value  ...  Forecasted_value  \\\n",
       "0               0.0          0.000000  ...          0.003807   \n",
       "1               0.0          0.001119  ...          0.005788   \n",
       "2               0.0          0.000000  ...          0.000000   \n",
       "3               0.0          0.002362  ...          0.000000   \n",
       "4               0.0          0.004299  ...          0.024541   \n",
       "\n",
       "   Forecasted_value  Forecasted_value  Forecasted_value  Forecasted_value  \\\n",
       "0          0.088026          0.000000          0.000000          0.000000   \n",
       "1          0.043338          0.000000          0.004441          0.000000   \n",
       "2          0.067430          0.000000          0.000000          0.000000   \n",
       "3          0.000000          0.001991          0.019687          0.002455   \n",
       "4          0.010377          0.000000          0.003894          0.000000   \n",
       "\n",
       "   Forecasted_value  Forecasted_value  Forecasted_value  Forecasted_value  \\\n",
       "0          0.003900          0.002783               0.0               0.0   \n",
       "1          0.000000          0.000000               0.0               0.0   \n",
       "2          0.000000          0.000000               0.0               0.0   \n",
       "3          0.000000          0.000000               0.0               0.0   \n",
       "4          0.006564          0.006024               0.0               0.0   \n",
       "\n",
       "   Forecasted_value  \n",
       "0          0.001313  \n",
       "1          0.000000  \n",
       "2          0.000000  \n",
       "3          0.000000  \n",
       "4          0.000000  \n",
       "\n",
       "[5 rows x 910 columns]"
      ]
     },
     "execution_count": 32,
     "metadata": {},
     "output_type": "execute_result"
    }
   ],
   "source": [
    "exp_forecasted.head()"
   ]
  },
  {
   "cell_type": "code",
   "execution_count": 33,
   "id": "92bcf82f-ca31-4b25-a919-c8d51d72cfa7",
   "metadata": {},
   "outputs": [],
   "source": [
    "sum_forecasted_values = exp_forecasted.sum(axis = 1)"
   ]
  },
  {
   "cell_type": "code",
   "execution_count": 34,
   "id": "7f0e1119-a3bd-4a52-ae36-afa2c2070e2b",
   "metadata": {},
   "outputs": [
    {
     "data": {
      "text/plain": [
       "0    28.648847\n",
       "1    31.832094\n",
       "2    36.144721\n",
       "3    24.070608\n",
       "4    21.349573\n",
       "5    30.020887\n",
       "6    24.824792\n",
       "dtype: float64"
      ]
     },
     "execution_count": 34,
     "metadata": {},
     "output_type": "execute_result"
    }
   ],
   "source": [
    "sum_forecasted_values"
   ]
  },
  {
   "cell_type": "code",
   "execution_count": 35,
   "id": "cbc06a7e-2dca-400d-9cea-d063c33a4442",
   "metadata": {},
   "outputs": [],
   "source": [
    "# concatenate the sum dataframes\n",
    "block_0104_true_and_forecasted_values_df = pd.concat((sum_true_values, sum_forecasted_values), axis = 1)"
   ]
  },
  {
   "cell_type": "code",
   "execution_count": 36,
   "id": "f667f3a6-d7f7-4e7c-a037-1e9541dd38bd",
   "metadata": {},
   "outputs": [],
   "source": [
    "block_0104_true_and_forecasted_values_df.columns = [\"True_count\", \"Forecasted_count\"]"
   ]
  },
  {
   "cell_type": "code",
   "execution_count": 37,
   "id": "d27b93db-c9e2-49ff-9003-9e4925de3179",
   "metadata": {},
   "outputs": [
    {
     "data": {
      "text/html": [
       "<div>\n",
       "<style scoped>\n",
       "    .dataframe tbody tr th:only-of-type {\n",
       "        vertical-align: middle;\n",
       "    }\n",
       "\n",
       "    .dataframe tbody tr th {\n",
       "        vertical-align: top;\n",
       "    }\n",
       "\n",
       "    .dataframe thead th {\n",
       "        text-align: right;\n",
       "    }\n",
       "</style>\n",
       "<table border=\"1\" class=\"dataframe\">\n",
       "  <thead>\n",
       "    <tr style=\"text-align: right;\">\n",
       "      <th></th>\n",
       "      <th>True_count</th>\n",
       "      <th>Forecasted_count</th>\n",
       "    </tr>\n",
       "  </thead>\n",
       "  <tbody>\n",
       "    <tr>\n",
       "      <th>0</th>\n",
       "      <td>40.000001</td>\n",
       "      <td>28.648847</td>\n",
       "    </tr>\n",
       "    <tr>\n",
       "      <th>1</th>\n",
       "      <td>46.002743</td>\n",
       "      <td>31.832094</td>\n",
       "    </tr>\n",
       "    <tr>\n",
       "      <th>2</th>\n",
       "      <td>58.000696</td>\n",
       "      <td>36.144721</td>\n",
       "    </tr>\n",
       "    <tr>\n",
       "      <th>3</th>\n",
       "      <td>41.000032</td>\n",
       "      <td>24.070608</td>\n",
       "    </tr>\n",
       "    <tr>\n",
       "      <th>4</th>\n",
       "      <td>41.001190</td>\n",
       "      <td>21.349573</td>\n",
       "    </tr>\n",
       "    <tr>\n",
       "      <th>5</th>\n",
       "      <td>36.000022</td>\n",
       "      <td>30.020887</td>\n",
       "    </tr>\n",
       "    <tr>\n",
       "      <th>6</th>\n",
       "      <td>23.000001</td>\n",
       "      <td>24.824792</td>\n",
       "    </tr>\n",
       "  </tbody>\n",
       "</table>\n",
       "</div>"
      ],
      "text/plain": [
       "   True_count  Forecasted_count\n",
       "0   40.000001         28.648847\n",
       "1   46.002743         31.832094\n",
       "2   58.000696         36.144721\n",
       "3   41.000032         24.070608\n",
       "4   41.001190         21.349573\n",
       "5   36.000022         30.020887\n",
       "6   23.000001         24.824792"
      ]
     },
     "execution_count": 37,
     "metadata": {},
     "output_type": "execute_result"
    }
   ],
   "source": [
    "block_0104_true_and_forecasted_values_df"
   ]
  },
  {
   "cell_type": "code",
   "execution_count": 38,
   "id": "636d512d-f76b-48dc-90f1-872dc6a32736",
   "metadata": {},
   "outputs": [
    {
     "data": {
      "text/plain": [
       "14.731942916970306"
      ]
     },
     "execution_count": 38,
     "metadata": {},
     "output_type": "execute_result"
    }
   ],
   "source": [
    "# blockwise mean squared error\n",
    "rmse = np.sqrt(mean_squared_error(sum_true_values, sum_forecasted_values))\n",
    "rmse"
   ]
  },
  {
   "cell_type": "code",
   "execution_count": 39,
   "id": "df568443-7d02-4ba8-ad0e-5d83f2576c8b",
   "metadata": {},
   "outputs": [
    {
     "data": {
      "text/plain": [
       "13.108963532223227"
      ]
     },
     "execution_count": 39,
     "metadata": {},
     "output_type": "execute_result"
    }
   ],
   "source": [
    "# blockwise mean absolute error\n",
    "mae = mean_absolute_error(sum_true_values, sum_forecasted_values)\n",
    "mae"
   ]
  },
  {
   "cell_type": "code",
   "execution_count": 40,
   "id": "24d1568b-1b0d-41db-a60b-cd864b46d6e7",
   "metadata": {},
   "outputs": [
    {
     "data": {
      "text/plain": [
       "PearsonRResult(statistic=0.6366847600462977, pvalue=0.12414948691974736)"
      ]
     },
     "execution_count": 40,
     "metadata": {},
     "output_type": "execute_result"
    }
   ],
   "source": [
    "corr = pearsonr(sum_true_values, sum_forecasted_values)\n",
    "corr"
   ]
  },
  {
   "cell_type": "code",
   "execution_count": 41,
   "id": "cf8101a2-be23-4216-afd7-f7783e56f62d",
   "metadata": {},
   "outputs": [
    {
     "data": {
      "text/plain": [
       "-1.2897542505766322"
      ]
     },
     "execution_count": 41,
     "metadata": {},
     "output_type": "execute_result"
    }
   ],
   "source": [
    "r2 = r2_score(sum_true_values, sum_forecasted_values)\n",
    "r2"
   ]
  },
  {
   "cell_type": "markdown",
   "id": "fa460e4d-2fdc-45fb-8f50-6a50b0a6ef13",
   "metadata": {},
   "source": [
    "##### Coverages and widths for the forecasted values?"
   ]
  },
  {
   "cell_type": "code",
   "execution_count": 42,
   "id": "eae4e334-d06f-4950-b09e-ec34cb4f3eba",
   "metadata": {},
   "outputs": [],
   "source": [
    "# for this we need the all_forecasts npy files"
   ]
  },
  {
   "cell_type": "code",
   "execution_count": 43,
   "id": "1ec4f3fa-b7b0-4064-9007-4230b0e64f72",
   "metadata": {},
   "outputs": [],
   "source": [
    "# content location is the same path as above"
   ]
  },
  {
   "cell_type": "code",
   "execution_count": 44,
   "id": "febb8655-c529-4099-b22e-ee36918188d5",
   "metadata": {},
   "outputs": [],
   "source": [
    "all_forecasts_npy_files = ['all_forecasts_sub_' + str(i) + '.npy' for i in range(910)]"
   ]
  },
  {
   "cell_type": "code",
   "execution_count": 45,
   "id": "11eba5f0-5a18-4d7d-a743-d57bc9cf93a4",
   "metadata": {},
   "outputs": [],
   "source": [
    "# all_forecasts_npy_files"
   ]
  },
  {
   "cell_type": "code",
   "execution_count": 46,
   "id": "7711dd37-fd3c-4ac8-b8ae-b4be59dff7fa",
   "metadata": {},
   "outputs": [],
   "source": [
    "# load the npy files"
   ]
  },
  {
   "cell_type": "code",
   "execution_count": 47,
   "id": "57f059e1-25b1-4e6d-b370-9ca0236848ea",
   "metadata": {},
   "outputs": [
    {
     "name": "stdout",
     "output_type": "stream",
     "text": [
      "CPU times: user 257 ms, sys: 70.9 ms, total: 328 ms\n",
      "Wall time: 329 ms\n"
     ]
    }
   ],
   "source": [
    "%%time\n",
    "loaded_npy_files = []\n",
    "for file in all_forecasts_npy_files:\n",
    "    joined_path = os.path.join(path_to_dfs, file)\n",
    "    load_file = np.load(joined_path)\n",
    "    # notice we are averaging the preds across the chains before exponentiation\n",
    "    mean_file = np.exp(np.mean(load_file, axis = 1)) - 1\n",
    "    loaded_npy_files.append(mean_file)"
   ]
  },
  {
   "cell_type": "code",
   "execution_count": 48,
   "id": "78d4c420-8e99-4103-881e-297bc81f909d",
   "metadata": {},
   "outputs": [
    {
     "data": {
      "text/plain": [
       "910"
      ]
     },
     "execution_count": 48,
     "metadata": {},
     "output_type": "execute_result"
    }
   ],
   "source": [
    "len(loaded_npy_files)"
   ]
  },
  {
   "cell_type": "code",
   "execution_count": 49,
   "id": "3cc8627a-822a-4c8e-898a-52957870ccde",
   "metadata": {},
   "outputs": [
    {
     "data": {
      "text/plain": [
       "(1000, 7)"
      ]
     },
     "execution_count": 49,
     "metadata": {},
     "output_type": "execute_result"
    }
   ],
   "source": [
    "loaded_npy_files[0].shape"
   ]
  },
  {
   "cell_type": "code",
   "execution_count": 50,
   "id": "ab72ca92-e8f1-4ce3-9cea-117b673d4529",
   "metadata": {},
   "outputs": [
    {
     "data": {
      "text/plain": [
       "array([[-0.00506586,  0.00398433,  0.00914145, ...,  0.00530565,\n",
       "         0.0032407 ,  0.0054692 ],\n",
       "       [-0.00140631,  0.00597572,  0.0079391 , ...,  0.00788653,\n",
       "         0.00326288,  0.00274861],\n",
       "       [-0.00228226,  0.00609362,  0.00808227, ...,  0.00724423,\n",
       "         0.00191736,  0.00493276],\n",
       "       ...,\n",
       "       [-0.00443596, -0.00187939, -0.00595117, ...,  0.00100243,\n",
       "         0.0065757 ,  0.00119829],\n",
       "       [-0.00602168, -0.0012266 , -0.0006423 , ...,  0.00293672,\n",
       "         0.00774288,  0.00140452],\n",
       "       [-0.00547338, -0.00258207, -0.00455445, ...,  0.00162292,\n",
       "         0.00905478, -0.00096887]], dtype=float32)"
      ]
     },
     "execution_count": 50,
     "metadata": {},
     "output_type": "execute_result"
    }
   ],
   "source": [
    "loaded_npy_files[0]"
   ]
  },
  {
   "cell_type": "code",
   "execution_count": 51,
   "id": "53dd5c88-918c-46a0-b5ae-cb7c75895741",
   "metadata": {},
   "outputs": [
    {
     "name": "stdout",
     "output_type": "stream",
     "text": [
      "CPU times: user 26.6 ms, sys: 776 µs, total: 27.4 ms\n",
      "Wall time: 26.6 ms\n"
     ]
    }
   ],
   "source": [
    "%%time\n",
    "# convert less than 0 entries to 0 for all arrays\n",
    "for arr in loaded_npy_files:\n",
    "    arr[arr < 0] = 0"
   ]
  },
  {
   "cell_type": "code",
   "execution_count": 52,
   "id": "b20d4662-eefc-41bc-ac0a-25d0613fa00c",
   "metadata": {},
   "outputs": [
    {
     "data": {
      "text/plain": [
       "array([[0.        , 0.00398433, 0.00914145, ..., 0.00530565, 0.0032407 ,\n",
       "        0.0054692 ],\n",
       "       [0.        , 0.00597572, 0.0079391 , ..., 0.00788653, 0.00326288,\n",
       "        0.00274861],\n",
       "       [0.        , 0.00609362, 0.00808227, ..., 0.00724423, 0.00191736,\n",
       "        0.00493276],\n",
       "       ...,\n",
       "       [0.        , 0.        , 0.        , ..., 0.00100243, 0.0065757 ,\n",
       "        0.00119829],\n",
       "       [0.        , 0.        , 0.        , ..., 0.00293672, 0.00774288,\n",
       "        0.00140452],\n",
       "       [0.        , 0.        , 0.        , ..., 0.00162292, 0.00905478,\n",
       "        0.        ]], dtype=float32)"
      ]
     },
     "execution_count": 52,
     "metadata": {},
     "output_type": "execute_result"
    }
   ],
   "source": [
    "loaded_npy_files[0]"
   ]
  },
  {
   "cell_type": "code",
   "execution_count": 53,
   "id": "f2474bdb-3a79-4436-83b1-2b3c3ac24a5c",
   "metadata": {},
   "outputs": [],
   "source": [
    "# Since we do not have overlapping sub-windows, we can sum the counts to get the final densities\n",
    "output = sum(loaded_npy_files)"
   ]
  },
  {
   "cell_type": "code",
   "execution_count": 54,
   "id": "d9038206-4f90-4001-9c3c-aee27d7d610c",
   "metadata": {},
   "outputs": [
    {
     "data": {
      "text/plain": [
       "(1000, 7)"
      ]
     },
     "execution_count": 54,
     "metadata": {},
     "output_type": "execute_result"
    }
   ],
   "source": [
    "output.shape"
   ]
  },
  {
   "cell_type": "code",
   "execution_count": 55,
   "id": "6116babf-18f2-4e39-9a72-150ccc4e6387",
   "metadata": {},
   "outputs": [
    {
     "data": {
      "text/plain": [
       "array([[45.6153  , 39.51752 , 47.95581 , ..., 31.727564, 35.221283,\n",
       "        31.392094],\n",
       "       [35.20918 , 36.83117 , 39.475475, ..., 27.966406, 40.331814,\n",
       "        40.181362],\n",
       "       [39.981   , 39.599293, 47.32289 , ..., 35.390972, 44.263462,\n",
       "        36.783813],\n",
       "       ...,\n",
       "       [36.242783, 42.78488 , 45.5417  , ..., 38.827744, 48.444378,\n",
       "        46.60389 ],\n",
       "       [35.46632 , 41.066902, 58.38484 , ..., 44.791367, 49.097553,\n",
       "        38.912224],\n",
       "       [37.68915 , 47.851517, 57.713516, ..., 46.480724, 52.921413,\n",
       "        49.665176]], dtype=float32)"
      ]
     },
     "execution_count": 55,
     "metadata": {},
     "output_type": "execute_result"
    }
   ],
   "source": [
    "output"
   ]
  },
  {
   "cell_type": "code",
   "execution_count": 56,
   "id": "fbac31f0-215b-4e8b-8c13-2cd85e76a70f",
   "metadata": {},
   "outputs": [],
   "source": [
    "# is this sum correct? alternative method of computing the sums\n",
    "output_alt = np.sum(loaded_npy_files, axis = 0)"
   ]
  },
  {
   "cell_type": "code",
   "execution_count": 57,
   "id": "1198a1a0-14fc-4101-b4af-14a2c26dc0c5",
   "metadata": {},
   "outputs": [
    {
     "data": {
      "text/plain": [
       "(1000, 7)"
      ]
     },
     "execution_count": 57,
     "metadata": {},
     "output_type": "execute_result"
    }
   ],
   "source": [
    "output_alt.shape"
   ]
  },
  {
   "cell_type": "code",
   "execution_count": 58,
   "id": "23c6ebbe-2c27-47ff-8a5f-86491e58d899",
   "metadata": {},
   "outputs": [
    {
     "data": {
      "text/plain": [
       "array([[45.6153  , 39.51752 , 47.95581 , ..., 31.727564, 35.221283,\n",
       "        31.392094],\n",
       "       [35.20918 , 36.83117 , 39.475475, ..., 27.966406, 40.331814,\n",
       "        40.181362],\n",
       "       [39.981   , 39.599293, 47.32289 , ..., 35.390972, 44.263462,\n",
       "        36.783813],\n",
       "       ...,\n",
       "       [36.242783, 42.78488 , 45.5417  , ..., 38.827744, 48.444378,\n",
       "        46.60389 ],\n",
       "       [35.46632 , 41.066902, 58.38484 , ..., 44.791367, 49.097553,\n",
       "        38.912224],\n",
       "       [37.68915 , 47.851517, 57.713516, ..., 46.480724, 52.921413,\n",
       "        49.665176]], dtype=float32)"
      ]
     },
     "execution_count": 58,
     "metadata": {},
     "output_type": "execute_result"
    }
   ],
   "source": [
    "output_alt"
   ]
  },
  {
   "cell_type": "code",
   "execution_count": 59,
   "id": "7b4a8d85-fe98-49c3-9a9f-51fbd90c5174",
   "metadata": {},
   "outputs": [
    {
     "data": {
      "text/plain": [
       "1.0"
      ]
     },
     "execution_count": 59,
     "metadata": {},
     "output_type": "execute_result"
    }
   ],
   "source": [
    "np.mean(output_alt == output)"
   ]
  },
  {
   "cell_type": "code",
   "execution_count": 60,
   "id": "ba6418a3-03f4-475a-b552-55a08048311f",
   "metadata": {},
   "outputs": [],
   "source": [
    "# verified the sum is correct, let's get the widths and the coverages - and also any essential plots"
   ]
  },
  {
   "cell_type": "code",
   "execution_count": 61,
   "id": "ca61eabc-63ed-4b74-b20a-61521b3751a6",
   "metadata": {},
   "outputs": [],
   "source": [
    "# now we can get the 2.5th abd the 97.5th percentiles - to get the coverage and the widths of the CIS\n",
    "li_train = np.percentile(output, axis = 0, q = (2.5, 97.5))[0,:].reshape(-1,1)    \n",
    "ui_train = np.percentile(output, axis = 0, q = (2.5, 97.5))[1,:].reshape(-1,1)"
   ]
  },
  {
   "cell_type": "code",
   "execution_count": 62,
   "id": "9cad5cca-320d-4e70-b204-e4dc52fb9d6d",
   "metadata": {},
   "outputs": [
    {
     "data": {
      "text/plain": [
       "array([[25.58502674],\n",
       "       [27.02044272],\n",
       "       [28.57915864],\n",
       "       [20.29726114],\n",
       "       [18.7422822 ],\n",
       "       [24.55808597],\n",
       "       [21.87670393]])"
      ]
     },
     "execution_count": 62,
     "metadata": {},
     "output_type": "execute_result"
    }
   ],
   "source": [
    "li_train"
   ]
  },
  {
   "cell_type": "code",
   "execution_count": 63,
   "id": "4e669c1d-0916-4e77-92e2-a1b1879834aa",
   "metadata": {},
   "outputs": [
    {
     "data": {
      "text/plain": [
       "array([[48.56806755],\n",
       "       [50.5609272 ],\n",
       "       [55.48940344],\n",
       "       [45.22606659],\n",
       "       [43.40394878],\n",
       "       [50.80629034],\n",
       "       [45.50480633]])"
      ]
     },
     "execution_count": 63,
     "metadata": {},
     "output_type": "execute_result"
    }
   ],
   "source": [
    "ui_train"
   ]
  },
  {
   "cell_type": "code",
   "execution_count": 64,
   "id": "4d51a483-bfe5-4cc6-a31f-813cb83d5540",
   "metadata": {},
   "outputs": [],
   "source": [
    "width_train = ui_train - li_train\n",
    "avg_width_train = width_train.mean(0)[0]"
   ]
  },
  {
   "cell_type": "code",
   "execution_count": 65,
   "id": "37b163bb-b24c-4af2-8f2b-19c78eb24ff9",
   "metadata": {},
   "outputs": [
    {
     "data": {
      "text/plain": [
       "24.700078412464684"
      ]
     },
     "execution_count": 65,
     "metadata": {},
     "output_type": "execute_result"
    }
   ],
   "source": [
    "avg_width_train"
   ]
  },
  {
   "cell_type": "code",
   "execution_count": 66,
   "id": "46d652b2-05be-44f9-bf0d-3ff69ad25fed",
   "metadata": {},
   "outputs": [],
   "source": [
    "y_traina = block_0104_true_and_forecasted_values_df[[\"True_count\"]].values"
   ]
  },
  {
   "cell_type": "code",
   "execution_count": 67,
   "id": "053c0783-3289-4068-9999-948c0f985fa1",
   "metadata": {},
   "outputs": [
    {
     "data": {
      "text/plain": [
       "array([[40.0000012 ],\n",
       "       [46.00274337],\n",
       "       [58.00069632],\n",
       "       [41.00003184],\n",
       "       [41.00118972],\n",
       "       [36.0000218 ],\n",
       "       [23.00000075]])"
      ]
     },
     "execution_count": 67,
     "metadata": {},
     "output_type": "execute_result"
    }
   ],
   "source": [
    "y_traina"
   ]
  },
  {
   "cell_type": "code",
   "execution_count": 68,
   "id": "5f1ba54d-0aca-494d-b741-b2cd6d00fcb3",
   "metadata": {},
   "outputs": [],
   "source": [
    "ind_train = (y_traina >= li_train) & (y_traina <= ui_train)\n",
    "coverage_train= ind_train.mean(0)[0]"
   ]
  },
  {
   "cell_type": "code",
   "execution_count": 69,
   "id": "66d5a7c9-0400-4f6f-9221-9cb9c7860d3c",
   "metadata": {},
   "outputs": [
    {
     "data": {
      "text/plain": [
       "0.8571428571428571"
      ]
     },
     "execution_count": 69,
     "metadata": {},
     "output_type": "execute_result"
    }
   ],
   "source": [
    "coverage_train"
   ]
  },
  {
   "cell_type": "code",
   "execution_count": 70,
   "id": "ce86b870-01cf-4e10-904b-ef2396d2dc47",
   "metadata": {},
   "outputs": [
    {
     "data": {
      "text/plain": [
       "array([36.04197 , 37.976364, 41.73361 , 32.148026, 29.669928, 36.872383,\n",
       "       32.555016], dtype=float32)"
      ]
     },
     "execution_count": 70,
     "metadata": {},
     "output_type": "execute_result"
    }
   ],
   "source": [
    "np.mean(output, axis = 0)"
   ]
  },
  {
   "cell_type": "code",
   "execution_count": 71,
   "id": "311beb4f-6347-407c-af9b-bfe285361098",
   "metadata": {},
   "outputs": [
    {
     "data": {
      "text/plain": [
       "0    28.648847\n",
       "1    31.832094\n",
       "2    36.144721\n",
       "3    24.070608\n",
       "4    21.349573\n",
       "5    30.020887\n",
       "6    24.824792\n",
       "dtype: float64"
      ]
     },
     "execution_count": 71,
     "metadata": {},
     "output_type": "execute_result"
    }
   ],
   "source": [
    "sum_forecasted_values"
   ]
  },
  {
   "cell_type": "code",
   "execution_count": 72,
   "id": "0f94ff2b-6606-477b-a3a7-c3841f436c56",
   "metadata": {},
   "outputs": [
    {
     "data": {
      "image/png": "[encoded data removed]",
      "text/plain": [
       "<Figure size 640x480 with 1 Axes>"
      ]
     },
     "metadata": {},
     "output_type": "display_data"
    }
   ],
   "source": [
    "plt.scatter(block_0104_true_and_forecasted_values_df['True_count'], block_0104_true_and_forecasted_values_df['Forecasted_count'])\n",
    "plt.xlabel(\"True density\")\n",
    "plt.ylabel(\"Predicted density\")\n",
    "# Add the y = x line\n",
    "plt.plot([22, 55], [22, 55], color='green', label='y = x')\n",
    "plt.legend()\n",
    "plt.show()"
   ]
  },
  {
   "cell_type": "code",
   "execution_count": 73,
   "id": "04aa778d-3203-493f-a8d5-6c42cd0c540a",
   "metadata": {},
   "outputs": [
    {
     "data": {
      "image/png": "[encoded data removed]",
      "text/plain": [
       "<Figure size 1500x2000 with 8 Axes>"
      ]
     },
     "metadata": {},
     "output_type": "display_data"
    },
    {
     "name": "stdout",
     "output_type": "stream",
     "text": [
      "CPU times: user 29.2 s, sys: 832 ms, total: 30 s\n",
      "Wall time: 29.7 s\n"
     ]
    }
   ],
   "source": [
    "%%time\n",
    "# Create a 2x4 grid of subplots (total 8 plots, the last one will be left empty)\n",
    "fig, axes = plt.subplots(4, 2, figsize=(15,20))\n",
    "axes = axes.flatten() \n",
    "\n",
    "# widths plots\n",
    "for i in range(7):\n",
    "    timestep_i_subwindows = []\n",
    "    for y, file in enumerate(loaded_npy_files):\n",
    "        t_i_forecast = file[:,i]\n",
    "        # print the shape of the extracted array\n",
    "        # print(t_i_forecast.shape)\n",
    "        timestep_i_subwindows.append(t_i_forecast)\n",
    "    stacked_forecasts = np.stack(timestep_i_subwindows)\n",
    "    stacked_forecasts[stacked_forecasts<0] = 0\n",
    "    sorted_stacked_forecasts = np.sort(stacked_forecasts, axis = 1)\n",
    "    # get the values between the 2.5th and 97.5th percentile?\n",
    "    sorted_interval_data = sorted_stacked_forecasts[:,25:975]\n",
    "\n",
    "    # Plot for the current 2D array\n",
    "    for l, row in enumerate(sorted_interval_data):\n",
    "        axes[i].plot([l + 1] * len(row), row, 'o', markersize=1, color='teal', label='Distribution of forecasted values' if l == 0 else \"\")\n",
    "    \n",
    "    true_counts = exp_true.iloc[i,:].values\n",
    "\n",
    "    # # Overlay the 1D array values\n",
    "    axes[i].plot(np.arange(1, 911), true_counts, 'o', markersize=1, color='red', label='True density')\n",
    "    \n",
    "    # Customize x-ticks and labels\n",
    "    axes[i].set_xticks(np.arange(1, 911))\n",
    "    # axes[i].set_xticklabels([f'sub_window_{zz + 1}' for zz in range(910)], rotation=90, fontsize=13)\n",
    "    axes[i].set_xlabel(\"Sub windows\", fontsize=12, fontweight='bold')\n",
    "    axes[i].set_ylabel(\"Forecasted and true densities\", fontsize=12, fontweight='bold')\n",
    "    axes[i].set_title(f\"Test image {i + 1}\", fontsize=12, fontweight='bold')\n",
    "    axes[i].legend()\n",
    "\n",
    "\n",
    "# Hide the last (empty) subplot\n",
    "axes[-1].set_visible(False)\n",
    "\n",
    "# Adjust layout\n",
    "plt.tight_layout()\n",
    "\n",
    "# # Save the figure as a PDF file\n",
    "# plt.savefig(\"Previous_data/Forecasted_distributions_blk13.pdf\", format='pdf', bbox_inches='tight')\n",
    "plt.show()\n",
    "\n"
   ]
  },
  {
   "cell_type": "code",
   "execution_count": 74,
   "id": "b51d6a01-5c7a-4e37-be12-776053974e4d",
   "metadata": {},
   "outputs": [],
   "source": [
    "# plots are going to be too over-crowded as we now have 910 subwindows - might beed to talk to Dr. Ghosh to figure out a better way to give these plots"
   ]
  },
  {
   "cell_type": "code",
   "execution_count": 75,
   "id": "c278c7bc-eced-4cbb-ab5c-b5156fe33612",
   "metadata": {},
   "outputs": [],
   "source": [
    "# we may need to re-think about the way the average forecasts were computed. Maybe get the average after exponentiating than averaging all values to a single value and then exponentiating? this would be a few lines of codes - but may be a better way to get the forecated density values? "
   ]
  }
 ],
 "metadata": {
  "kernelspec": {
   "display_name": "Python (tfp_cpu_env)",
   "language": "python",
   "name": "tfp_cpu_env"
  },
  "language_info": {
   "codemirror_mode": {
    "name": "ipython",
    "version": 3
   },
   "file_extension": ".py",
   "mimetype": "text/x-python",
   "name": "python",
   "nbconvert_exporter": "python",
   "pygments_lexer": "ipython3",
   "version": "3.11.7"
  }
 },
 "nbformat": 4,
 "nbformat_minor": 5
}
