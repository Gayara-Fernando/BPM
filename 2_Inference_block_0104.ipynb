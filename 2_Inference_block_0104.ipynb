{
 "cells": [
  {
   "cell_type": "code",
   "execution_count": 1,
   "id": "95479ff1-daa9-4a85-bee2-32d78b24506b",
   "metadata": {},
   "outputs": [],
   "source": [
    "import pandas as pd\n",
    "import numpy as np\n",
    "import matplotlib.pyplot as plt\n",
    "import os\n",
    "from sklearn.metrics import mean_absolute_error, mean_squared_error, r2_score\n",
    "from scipy.stats import pearsonr"
   ]
  },
  {
   "cell_type": "code",
   "execution_count": 2,
   "id": "d0c496d4-1b24-43dd-ab1b-b98d6eaef21b",
   "metadata": {},
   "outputs": [],
   "source": [
    "# path to dataframes\n",
    "path_to_dfs = \"data/BLAR_implementation/Block_0104/forecasted_counts/\""
   ]
  },
  {
   "cell_type": "code",
   "execution_count": 3,
   "id": "0c9c641d-4e5d-4c54-a235-c62cbdf13f8d",
   "metadata": {},
   "outputs": [],
   "source": [
    "# os.listdir(path_to_dfs)"
   ]
  },
  {
   "cell_type": "code",
   "execution_count": 4,
   "id": "5e5d1ebd-ac8c-4a2b-b33c-db3c4b477eae",
   "metadata": {},
   "outputs": [
    {
     "data": {
      "text/plain": [
       "6370"
      ]
     },
     "execution_count": 4,
     "metadata": {},
     "output_type": "execute_result"
    }
   ],
   "source": [
    "len(os.listdir(path_to_dfs))"
   ]
  },
  {
   "cell_type": "code",
   "execution_count": 5,
   "id": "3b80d752-5eb8-42c1-ad39-987ad3dbb001",
   "metadata": {},
   "outputs": [
    {
     "data": {
      "text/plain": [
       "7.0"
      ]
     },
     "execution_count": 5,
     "metadata": {},
     "output_type": "execute_result"
    }
   ],
   "source": [
    "6370/910"
   ]
  },
  {
   "cell_type": "code",
   "execution_count": 6,
   "id": "a0ac81e1-3049-44de-a2bf-4bf5a274ba45",
   "metadata": {},
   "outputs": [],
   "source": [
    "# seems each sub-window sequence have 7 things stored - what are all these?\n",
    "\n",
    "# the forecasted npy files\n",
    "# ar_sigma\n",
    "# noise_sigma\n",
    "# betas\n",
    "# rho\n",
    "# averaged forecasts\n",
    "# posterior parameter summaries - might need to pay a little attention here, the r_hat values are too high - think this should vary around 1? - but almost all the values are greater than 2."
   ]
  },
  {
   "cell_type": "code",
   "execution_count": 7,
   "id": "f9a4f497-2d9d-4b5c-9169-46b6ae6b9977",
   "metadata": {},
   "outputs": [],
   "source": [
    "averaged_forecasts_csvs = []\n",
    "for file in os.listdir(path_to_dfs):\n",
    "    if file[:8] =='averaged':\n",
    "        averaged_forecasts_csvs.append(file)"
   ]
  },
  {
   "cell_type": "code",
   "execution_count": 8,
   "id": "094e9614-b16f-45a2-aafc-d7884678eb44",
   "metadata": {},
   "outputs": [
    {
     "data": {
      "text/plain": [
       "910"
      ]
     },
     "execution_count": 8,
     "metadata": {},
     "output_type": "execute_result"
    }
   ],
   "source": [
    "# how many csv files do we have?\n",
    "len(averaged_forecasts_csvs)"
   ]
  },
  {
   "cell_type": "code",
   "execution_count": 9,
   "id": "7eca928b-bdbd-4d00-9eb1-8a808db7123e",
   "metadata": {},
   "outputs": [],
   "source": [
    "# averaged_forecasts_csvs - we probably need these in order for getting the respective predicted values"
   ]
  },
  {
   "cell_type": "code",
   "execution_count": 10,
   "id": "d0e11c68-824a-41ea-bf6b-65f53103343f",
   "metadata": {},
   "outputs": [
    {
     "data": {
      "text/plain": [
       "'averaged_forecasts_sub_653.csv'"
      ]
     },
     "execution_count": 10,
     "metadata": {},
     "output_type": "execute_result"
    }
   ],
   "source": [
    "averaged_forecasts_csvs[0]"
   ]
  },
  {
   "cell_type": "code",
   "execution_count": 11,
   "id": "f1f9e7be-53a6-4f38-b389-045d898b14ef",
   "metadata": {},
   "outputs": [],
   "source": [
    "# sorting them would not work as everything in the nomenclature of the files is a character - hence will not respect the numerical order"
   ]
  },
  {
   "cell_type": "code",
   "execution_count": 12,
   "id": "3cf616ee-4b4e-4ad9-ac1b-20aba081bfc5",
   "metadata": {},
   "outputs": [],
   "source": [
    "# let's create these names in the order of the subwindows\n",
    "ordered_csv_files = ['averaged_forecasts_sub_' + str(i) + '.csv' for i in range(910)]"
   ]
  },
  {
   "cell_type": "code",
   "execution_count": 13,
   "id": "7ac08389-4437-448b-b8a8-317cd0a9bf8e",
   "metadata": {},
   "outputs": [],
   "source": [
    "# ordered_csv_files"
   ]
  },
  {
   "cell_type": "code",
   "execution_count": 14,
   "id": "e74425d7-b613-44cf-96dd-df4298cef947",
   "metadata": {},
   "outputs": [],
   "source": [
    "# averaged_forecasts_csvs list is pointless at this time?"
   ]
  },
  {
   "cell_type": "code",
   "execution_count": 15,
   "id": "9a94c9ec-57cc-42fa-ad71-26639da44cb7",
   "metadata": {},
   "outputs": [
    {
     "name": "stdout",
     "output_type": "stream",
     "text": [
      "CPU times: user 457 ms, sys: 9.11 ms, total: 466 ms\n",
      "Wall time: 468 ms\n"
     ]
    }
   ],
   "source": [
    "%%time\n",
    "all_dfs = []\n",
    "for file in ordered_csv_files:\n",
    "    read_df = pd.read_csv(path_to_dfs + '/' + file)\n",
    "    all_dfs.append(read_df)"
   ]
  },
  {
   "cell_type": "code",
   "execution_count": 16,
   "id": "c04b6062-8fc9-4f3e-87f2-2a8e9abac16f",
   "metadata": {},
   "outputs": [],
   "source": [
    "# make a single dataframe out of the many\n",
    "combined_df = pd.concat(all_dfs, axis = 1)"
   ]
  },
  {
   "cell_type": "code",
   "execution_count": 17,
   "id": "5671cc95-7ba6-47bc-8da8-47ba9d3f36e3",
   "metadata": {},
   "outputs": [
    {
     "data": {
      "text/html": [
       "<div>\n",
       "<style scoped>\n",
       "    .dataframe tbody tr th:only-of-type {\n",
       "        vertical-align: middle;\n",
       "    }\n",
       "\n",
       "    .dataframe tbody tr th {\n",
       "        vertical-align: top;\n",
       "    }\n",
       "\n",
       "    .dataframe thead th {\n",
       "        text-align: right;\n",
       "    }\n",
       "</style>\n",
       "<table border=\"1\" class=\"dataframe\">\n",
       "  <thead>\n",
       "    <tr style=\"text-align: right;\">\n",
       "      <th></th>\n",
       "      <th>True_value</th>\n",
       "      <th>Forecasted_value</th>\n",
       "      <th>True_value</th>\n",
       "      <th>Forecasted_value</th>\n",
       "      <th>True_value</th>\n",
       "      <th>Forecasted_value</th>\n",
       "      <th>True_value</th>\n",
       "      <th>Forecasted_value</th>\n",
       "      <th>True_value</th>\n",
       "      <th>Forecasted_value</th>\n",
       "      <th>...</th>\n",
       "      <th>True_value</th>\n",
       "      <th>Forecasted_value</th>\n",
       "      <th>True_value</th>\n",
       "      <th>Forecasted_value</th>\n",
       "      <th>True_value</th>\n",
       "      <th>Forecasted_value</th>\n",
       "      <th>True_value</th>\n",
       "      <th>Forecasted_value</th>\n",
       "      <th>True_value</th>\n",
       "      <th>Forecasted_value</th>\n",
       "    </tr>\n",
       "  </thead>\n",
       "  <tbody>\n",
       "    <tr>\n",
       "      <th>0</th>\n",
       "      <td>0.0</td>\n",
       "      <td>-0.007945</td>\n",
       "      <td>0.0</td>\n",
       "      <td>-0.015862</td>\n",
       "      <td>0.0</td>\n",
       "      <td>-0.018728</td>\n",
       "      <td>0.00000</td>\n",
       "      <td>0.044334</td>\n",
       "      <td>0.000567</td>\n",
       "      <td>0.040543</td>\n",
       "      <td>...</td>\n",
       "      <td>0.00000</td>\n",
       "      <td>-0.011801</td>\n",
       "      <td>0.000000</td>\n",
       "      <td>-0.014348</td>\n",
       "      <td>0.000000e+00</td>\n",
       "      <td>-0.002540</td>\n",
       "      <td>0.0</td>\n",
       "      <td>0.001093</td>\n",
       "      <td>0.0</td>\n",
       "      <td>-0.006951</td>\n",
       "    </tr>\n",
       "    <tr>\n",
       "      <th>1</th>\n",
       "      <td>0.0</td>\n",
       "      <td>-0.007200</td>\n",
       "      <td>0.0</td>\n",
       "      <td>-0.014912</td>\n",
       "      <td>0.0</td>\n",
       "      <td>-0.008924</td>\n",
       "      <td>0.00000</td>\n",
       "      <td>0.015186</td>\n",
       "      <td>0.000000</td>\n",
       "      <td>0.036810</td>\n",
       "      <td>...</td>\n",
       "      <td>0.00000</td>\n",
       "      <td>-0.009357</td>\n",
       "      <td>0.000000</td>\n",
       "      <td>-0.013813</td>\n",
       "      <td>0.000000e+00</td>\n",
       "      <td>-0.000842</td>\n",
       "      <td>0.0</td>\n",
       "      <td>0.012773</td>\n",
       "      <td>0.0</td>\n",
       "      <td>-0.006390</td>\n",
       "    </tr>\n",
       "    <tr>\n",
       "      <th>2</th>\n",
       "      <td>0.0</td>\n",
       "      <td>-0.007708</td>\n",
       "      <td>0.0</td>\n",
       "      <td>-0.013195</td>\n",
       "      <td>0.0</td>\n",
       "      <td>-0.007611</td>\n",
       "      <td>0.00000</td>\n",
       "      <td>0.005452</td>\n",
       "      <td>0.000000</td>\n",
       "      <td>0.039282</td>\n",
       "      <td>...</td>\n",
       "      <td>0.00000</td>\n",
       "      <td>-0.008539</td>\n",
       "      <td>0.000000</td>\n",
       "      <td>-0.019973</td>\n",
       "      <td>0.000000e+00</td>\n",
       "      <td>-0.001503</td>\n",
       "      <td>0.0</td>\n",
       "      <td>0.010821</td>\n",
       "      <td>0.0</td>\n",
       "      <td>-0.007330</td>\n",
       "    </tr>\n",
       "    <tr>\n",
       "      <th>3</th>\n",
       "      <td>0.0</td>\n",
       "      <td>0.002253</td>\n",
       "      <td>0.0</td>\n",
       "      <td>-0.004648</td>\n",
       "      <td>0.0</td>\n",
       "      <td>0.013973</td>\n",
       "      <td>0.04368</td>\n",
       "      <td>0.011136</td>\n",
       "      <td>0.154138</td>\n",
       "      <td>0.033750</td>\n",
       "      <td>...</td>\n",
       "      <td>0.00000</td>\n",
       "      <td>0.000516</td>\n",
       "      <td>0.000000</td>\n",
       "      <td>-0.011991</td>\n",
       "      <td>0.000000e+00</td>\n",
       "      <td>0.006065</td>\n",
       "      <td>0.0</td>\n",
       "      <td>0.021181</td>\n",
       "      <td>0.0</td>\n",
       "      <td>-0.002116</td>\n",
       "    </tr>\n",
       "    <tr>\n",
       "      <th>4</th>\n",
       "      <td>0.0</td>\n",
       "      <td>-0.001194</td>\n",
       "      <td>0.0</td>\n",
       "      <td>-0.001524</td>\n",
       "      <td>0.0</td>\n",
       "      <td>0.001779</td>\n",
       "      <td>0.00000</td>\n",
       "      <td>0.007086</td>\n",
       "      <td>0.000000</td>\n",
       "      <td>0.028253</td>\n",
       "      <td>...</td>\n",
       "      <td>0.00194</td>\n",
       "      <td>-0.007728</td>\n",
       "      <td>0.033166</td>\n",
       "      <td>-0.008625</td>\n",
       "      <td>1.767040e-07</td>\n",
       "      <td>0.008750</td>\n",
       "      <td>0.0</td>\n",
       "      <td>-0.001592</td>\n",
       "      <td>0.0</td>\n",
       "      <td>-0.002587</td>\n",
       "    </tr>\n",
       "  </tbody>\n",
       "</table>\n",
       "<p>5 rows × 1820 columns</p>\n",
       "</div>"
      ],
      "text/plain": [
       "   True_value  Forecasted_value  True_value  Forecasted_value  True_value  \\\n",
       "0         0.0         -0.007945         0.0         -0.015862         0.0   \n",
       "1         0.0         -0.007200         0.0         -0.014912         0.0   \n",
       "2         0.0         -0.007708         0.0         -0.013195         0.0   \n",
       "3         0.0          0.002253         0.0         -0.004648         0.0   \n",
       "4         0.0         -0.001194         0.0         -0.001524         0.0   \n",
       "\n",
       "   Forecasted_value  True_value  Forecasted_value  True_value  \\\n",
       "0         -0.018728     0.00000          0.044334    0.000567   \n",
       "1         -0.008924     0.00000          0.015186    0.000000   \n",
       "2         -0.007611     0.00000          0.005452    0.000000   \n",
       "3          0.013973     0.04368          0.011136    0.154138   \n",
       "4          0.001779     0.00000          0.007086    0.000000   \n",
       "\n",
       "   Forecasted_value  ...  True_value  Forecasted_value  True_value  \\\n",
       "0          0.040543  ...     0.00000         -0.011801    0.000000   \n",
       "1          0.036810  ...     0.00000         -0.009357    0.000000   \n",
       "2          0.039282  ...     0.00000         -0.008539    0.000000   \n",
       "3          0.033750  ...     0.00000          0.000516    0.000000   \n",
       "4          0.028253  ...     0.00194         -0.007728    0.033166   \n",
       "\n",
       "   Forecasted_value    True_value  Forecasted_value  True_value  \\\n",
       "0         -0.014348  0.000000e+00         -0.002540         0.0   \n",
       "1         -0.013813  0.000000e+00         -0.000842         0.0   \n",
       "2         -0.019973  0.000000e+00         -0.001503         0.0   \n",
       "3         -0.011991  0.000000e+00          0.006065         0.0   \n",
       "4         -0.008625  1.767040e-07          0.008750         0.0   \n",
       "\n",
       "   Forecasted_value  True_value  Forecasted_value  \n",
       "0          0.001093         0.0         -0.006951  \n",
       "1          0.012773         0.0         -0.006390  \n",
       "2          0.010821         0.0         -0.007330  \n",
       "3          0.021181         0.0         -0.002116  \n",
       "4         -0.001592         0.0         -0.002587  \n",
       "\n",
       "[5 rows x 1820 columns]"
      ]
     },
     "execution_count": 17,
     "metadata": {},
     "output_type": "execute_result"
    }
   ],
   "source": [
    "combined_df.head()"
   ]
  },
  {
   "cell_type": "code",
   "execution_count": 18,
   "id": "77ebc554-fe99-4cea-9cb3-2d2b8329b7b8",
   "metadata": {},
   "outputs": [
    {
     "data": {
      "text/plain": [
       "(7, 1820)"
      ]
     },
     "execution_count": 18,
     "metadata": {},
     "output_type": "execute_result"
    }
   ],
   "source": [
    "combined_df.shape"
   ]
  },
  {
   "cell_type": "code",
   "execution_count": 19,
   "id": "cd7bd824-8dac-4284-b286-aafcd8cd7d43",
   "metadata": {},
   "outputs": [],
   "source": [
    "# get the true values\n",
    "True_values_df = combined_df[['True_value']]"
   ]
  },
  {
   "cell_type": "code",
   "execution_count": 20,
   "id": "20d0decc-e09d-494a-9ff8-2139aac7254b",
   "metadata": {},
   "outputs": [
    {
     "data": {
      "text/html": [
       "<div>\n",
       "<style scoped>\n",
       "    .dataframe tbody tr th:only-of-type {\n",
       "        vertical-align: middle;\n",
       "    }\n",
       "\n",
       "    .dataframe tbody tr th {\n",
       "        vertical-align: top;\n",
       "    }\n",
       "\n",
       "    .dataframe thead th {\n",
       "        text-align: right;\n",
       "    }\n",
       "</style>\n",
       "<table border=\"1\" class=\"dataframe\">\n",
       "  <thead>\n",
       "    <tr style=\"text-align: right;\">\n",
       "      <th></th>\n",
       "      <th>True_value</th>\n",
       "      <th>True_value</th>\n",
       "      <th>True_value</th>\n",
       "      <th>True_value</th>\n",
       "      <th>True_value</th>\n",
       "      <th>True_value</th>\n",
       "      <th>True_value</th>\n",
       "      <th>True_value</th>\n",
       "      <th>True_value</th>\n",
       "      <th>True_value</th>\n",
       "      <th>...</th>\n",
       "      <th>True_value</th>\n",
       "      <th>True_value</th>\n",
       "      <th>True_value</th>\n",
       "      <th>True_value</th>\n",
       "      <th>True_value</th>\n",
       "      <th>True_value</th>\n",
       "      <th>True_value</th>\n",
       "      <th>True_value</th>\n",
       "      <th>True_value</th>\n",
       "      <th>True_value</th>\n",
       "    </tr>\n",
       "  </thead>\n",
       "  <tbody>\n",
       "    <tr>\n",
       "      <th>0</th>\n",
       "      <td>0.0</td>\n",
       "      <td>0.0</td>\n",
       "      <td>0.0</td>\n",
       "      <td>0.00000</td>\n",
       "      <td>0.000567</td>\n",
       "      <td>0.000107</td>\n",
       "      <td>0.0</td>\n",
       "      <td>0.0</td>\n",
       "      <td>0.0</td>\n",
       "      <td>0.0</td>\n",
       "      <td>...</td>\n",
       "      <td>2.140443e-09</td>\n",
       "      <td>0.00003</td>\n",
       "      <td>4.196664e-07</td>\n",
       "      <td>0.000000</td>\n",
       "      <td>0.0</td>\n",
       "      <td>0.00000</td>\n",
       "      <td>0.000000</td>\n",
       "      <td>0.000000e+00</td>\n",
       "      <td>0.0</td>\n",
       "      <td>0.0</td>\n",
       "    </tr>\n",
       "    <tr>\n",
       "      <th>1</th>\n",
       "      <td>0.0</td>\n",
       "      <td>0.0</td>\n",
       "      <td>0.0</td>\n",
       "      <td>0.00000</td>\n",
       "      <td>0.000000</td>\n",
       "      <td>0.000000</td>\n",
       "      <td>0.0</td>\n",
       "      <td>0.0</td>\n",
       "      <td>0.0</td>\n",
       "      <td>0.0</td>\n",
       "      <td>...</td>\n",
       "      <td>0.000000e+00</td>\n",
       "      <td>0.00000</td>\n",
       "      <td>0.000000e+00</td>\n",
       "      <td>0.000000</td>\n",
       "      <td>0.0</td>\n",
       "      <td>0.00000</td>\n",
       "      <td>0.000000</td>\n",
       "      <td>0.000000e+00</td>\n",
       "      <td>0.0</td>\n",
       "      <td>0.0</td>\n",
       "    </tr>\n",
       "    <tr>\n",
       "      <th>2</th>\n",
       "      <td>0.0</td>\n",
       "      <td>0.0</td>\n",
       "      <td>0.0</td>\n",
       "      <td>0.00000</td>\n",
       "      <td>0.000000</td>\n",
       "      <td>0.000000</td>\n",
       "      <td>0.0</td>\n",
       "      <td>0.0</td>\n",
       "      <td>0.0</td>\n",
       "      <td>0.0</td>\n",
       "      <td>...</td>\n",
       "      <td>0.000000e+00</td>\n",
       "      <td>0.00000</td>\n",
       "      <td>3.866841e-02</td>\n",
       "      <td>0.072474</td>\n",
       "      <td>0.0</td>\n",
       "      <td>0.00000</td>\n",
       "      <td>0.000000</td>\n",
       "      <td>0.000000e+00</td>\n",
       "      <td>0.0</td>\n",
       "      <td>0.0</td>\n",
       "    </tr>\n",
       "    <tr>\n",
       "      <th>3</th>\n",
       "      <td>0.0</td>\n",
       "      <td>0.0</td>\n",
       "      <td>0.0</td>\n",
       "      <td>0.04368</td>\n",
       "      <td>0.154138</td>\n",
       "      <td>0.000000</td>\n",
       "      <td>0.0</td>\n",
       "      <td>0.0</td>\n",
       "      <td>0.0</td>\n",
       "      <td>0.0</td>\n",
       "      <td>...</td>\n",
       "      <td>0.000000e+00</td>\n",
       "      <td>0.00000</td>\n",
       "      <td>0.000000e+00</td>\n",
       "      <td>0.000000</td>\n",
       "      <td>0.0</td>\n",
       "      <td>0.00000</td>\n",
       "      <td>0.000000</td>\n",
       "      <td>0.000000e+00</td>\n",
       "      <td>0.0</td>\n",
       "      <td>0.0</td>\n",
       "    </tr>\n",
       "    <tr>\n",
       "      <th>4</th>\n",
       "      <td>0.0</td>\n",
       "      <td>0.0</td>\n",
       "      <td>0.0</td>\n",
       "      <td>0.00000</td>\n",
       "      <td>0.000000</td>\n",
       "      <td>0.000000</td>\n",
       "      <td>0.0</td>\n",
       "      <td>0.0</td>\n",
       "      <td>0.0</td>\n",
       "      <td>0.0</td>\n",
       "      <td>...</td>\n",
       "      <td>4.196664e-07</td>\n",
       "      <td>0.00000</td>\n",
       "      <td>0.000000e+00</td>\n",
       "      <td>0.000000</td>\n",
       "      <td>0.0</td>\n",
       "      <td>0.00194</td>\n",
       "      <td>0.033166</td>\n",
       "      <td>1.767040e-07</td>\n",
       "      <td>0.0</td>\n",
       "      <td>0.0</td>\n",
       "    </tr>\n",
       "  </tbody>\n",
       "</table>\n",
       "<p>5 rows × 910 columns</p>\n",
       "</div>"
      ],
      "text/plain": [
       "   True_value  True_value  True_value  True_value  True_value  True_value  \\\n",
       "0         0.0         0.0         0.0     0.00000    0.000567    0.000107   \n",
       "1         0.0         0.0         0.0     0.00000    0.000000    0.000000   \n",
       "2         0.0         0.0         0.0     0.00000    0.000000    0.000000   \n",
       "3         0.0         0.0         0.0     0.04368    0.154138    0.000000   \n",
       "4         0.0         0.0         0.0     0.00000    0.000000    0.000000   \n",
       "\n",
       "   True_value  True_value  True_value  True_value  ...    True_value  \\\n",
       "0         0.0         0.0         0.0         0.0  ...  2.140443e-09   \n",
       "1         0.0         0.0         0.0         0.0  ...  0.000000e+00   \n",
       "2         0.0         0.0         0.0         0.0  ...  0.000000e+00   \n",
       "3         0.0         0.0         0.0         0.0  ...  0.000000e+00   \n",
       "4         0.0         0.0         0.0         0.0  ...  4.196664e-07   \n",
       "\n",
       "   True_value    True_value  True_value  True_value  True_value  True_value  \\\n",
       "0     0.00003  4.196664e-07    0.000000         0.0     0.00000    0.000000   \n",
       "1     0.00000  0.000000e+00    0.000000         0.0     0.00000    0.000000   \n",
       "2     0.00000  3.866841e-02    0.072474         0.0     0.00000    0.000000   \n",
       "3     0.00000  0.000000e+00    0.000000         0.0     0.00000    0.000000   \n",
       "4     0.00000  0.000000e+00    0.000000         0.0     0.00194    0.033166   \n",
       "\n",
       "     True_value  True_value  True_value  \n",
       "0  0.000000e+00         0.0         0.0  \n",
       "1  0.000000e+00         0.0         0.0  \n",
       "2  0.000000e+00         0.0         0.0  \n",
       "3  0.000000e+00         0.0         0.0  \n",
       "4  1.767040e-07         0.0         0.0  \n",
       "\n",
       "[5 rows x 910 columns]"
      ]
     },
     "execution_count": 20,
     "metadata": {},
     "output_type": "execute_result"
    }
   ],
   "source": [
    "True_values_df.head()"
   ]
  },
  {
   "cell_type": "code",
   "execution_count": 21,
   "id": "7bf2ce55-e613-440c-98df-b3137476fda8",
   "metadata": {},
   "outputs": [
    {
     "data": {
      "text/plain": [
       "(7, 910)"
      ]
     },
     "execution_count": 21,
     "metadata": {},
     "output_type": "execute_result"
    }
   ],
   "source": [
    "True_values_df.shape"
   ]
  },
  {
   "cell_type": "code",
   "execution_count": 22,
   "id": "18e0219e-ee9c-4e29-a372-2b6290708941",
   "metadata": {},
   "outputs": [],
   "source": [
    "# get the proper counts?\n",
    "exp_true = np.exp(True_values_df)-1"
   ]
  },
  {
   "cell_type": "code",
   "execution_count": 23,
   "id": "a7319ca1-7b28-41f3-8b38-11863c1835e5",
   "metadata": {},
   "outputs": [
    {
     "data": {
      "text/html": [
       "<div>\n",
       "<style scoped>\n",
       "    .dataframe tbody tr th:only-of-type {\n",
       "        vertical-align: middle;\n",
       "    }\n",
       "\n",
       "    .dataframe tbody tr th {\n",
       "        vertical-align: top;\n",
       "    }\n",
       "\n",
       "    .dataframe thead th {\n",
       "        text-align: right;\n",
       "    }\n",
       "</style>\n",
       "<table border=\"1\" class=\"dataframe\">\n",
       "  <thead>\n",
       "    <tr style=\"text-align: right;\">\n",
       "      <th></th>\n",
       "      <th>True_value</th>\n",
       "      <th>True_value</th>\n",
       "      <th>True_value</th>\n",
       "      <th>True_value</th>\n",
       "      <th>True_value</th>\n",
       "      <th>True_value</th>\n",
       "      <th>True_value</th>\n",
       "      <th>True_value</th>\n",
       "      <th>True_value</th>\n",
       "      <th>True_value</th>\n",
       "      <th>...</th>\n",
       "      <th>True_value</th>\n",
       "      <th>True_value</th>\n",
       "      <th>True_value</th>\n",
       "      <th>True_value</th>\n",
       "      <th>True_value</th>\n",
       "      <th>True_value</th>\n",
       "      <th>True_value</th>\n",
       "      <th>True_value</th>\n",
       "      <th>True_value</th>\n",
       "      <th>True_value</th>\n",
       "    </tr>\n",
       "  </thead>\n",
       "  <tbody>\n",
       "    <tr>\n",
       "      <th>0</th>\n",
       "      <td>0.0</td>\n",
       "      <td>0.0</td>\n",
       "      <td>0.00000</td>\n",
       "      <td>0.000000</td>\n",
       "      <td>0.000567</td>\n",
       "      <td>0.000107</td>\n",
       "      <td>0.0</td>\n",
       "      <td>0.0</td>\n",
       "      <td>0.0</td>\n",
       "      <td>0.0</td>\n",
       "      <td>...</td>\n",
       "      <td>2.140443e-09</td>\n",
       "      <td>0.00003</td>\n",
       "      <td>4.196665e-07</td>\n",
       "      <td>0.000000</td>\n",
       "      <td>0.0</td>\n",
       "      <td>0.000000</td>\n",
       "      <td>0.000000</td>\n",
       "      <td>0.000000e+00</td>\n",
       "      <td>0.0</td>\n",
       "      <td>0.0</td>\n",
       "    </tr>\n",
       "    <tr>\n",
       "      <th>1</th>\n",
       "      <td>0.0</td>\n",
       "      <td>0.0</td>\n",
       "      <td>0.00000</td>\n",
       "      <td>0.000000</td>\n",
       "      <td>0.000000</td>\n",
       "      <td>0.000000</td>\n",
       "      <td>0.0</td>\n",
       "      <td>0.0</td>\n",
       "      <td>0.0</td>\n",
       "      <td>0.0</td>\n",
       "      <td>...</td>\n",
       "      <td>0.000000e+00</td>\n",
       "      <td>0.00000</td>\n",
       "      <td>0.000000e+00</td>\n",
       "      <td>0.000000</td>\n",
       "      <td>0.0</td>\n",
       "      <td>0.000000</td>\n",
       "      <td>0.000000</td>\n",
       "      <td>0.000000e+00</td>\n",
       "      <td>0.0</td>\n",
       "      <td>0.0</td>\n",
       "    </tr>\n",
       "    <tr>\n",
       "      <th>2</th>\n",
       "      <td>0.0</td>\n",
       "      <td>0.0</td>\n",
       "      <td>0.00000</td>\n",
       "      <td>0.000000</td>\n",
       "      <td>0.000000</td>\n",
       "      <td>0.000000</td>\n",
       "      <td>0.0</td>\n",
       "      <td>0.0</td>\n",
       "      <td>0.0</td>\n",
       "      <td>0.0</td>\n",
       "      <td>...</td>\n",
       "      <td>0.000000e+00</td>\n",
       "      <td>0.00000</td>\n",
       "      <td>3.942576e-02</td>\n",
       "      <td>0.075165</td>\n",
       "      <td>0.0</td>\n",
       "      <td>0.000000</td>\n",
       "      <td>0.000000</td>\n",
       "      <td>0.000000e+00</td>\n",
       "      <td>0.0</td>\n",
       "      <td>0.0</td>\n",
       "    </tr>\n",
       "    <tr>\n",
       "      <th>3</th>\n",
       "      <td>0.0</td>\n",
       "      <td>0.0</td>\n",
       "      <td>0.00000</td>\n",
       "      <td>0.044648</td>\n",
       "      <td>0.166652</td>\n",
       "      <td>0.000000</td>\n",
       "      <td>0.0</td>\n",
       "      <td>0.0</td>\n",
       "      <td>0.0</td>\n",
       "      <td>0.0</td>\n",
       "      <td>...</td>\n",
       "      <td>0.000000e+00</td>\n",
       "      <td>0.00000</td>\n",
       "      <td>0.000000e+00</td>\n",
       "      <td>0.000000</td>\n",
       "      <td>0.0</td>\n",
       "      <td>0.000000</td>\n",
       "      <td>0.000000</td>\n",
       "      <td>0.000000e+00</td>\n",
       "      <td>0.0</td>\n",
       "      <td>0.0</td>\n",
       "    </tr>\n",
       "    <tr>\n",
       "      <th>4</th>\n",
       "      <td>0.0</td>\n",
       "      <td>0.0</td>\n",
       "      <td>0.00000</td>\n",
       "      <td>0.000000</td>\n",
       "      <td>0.000000</td>\n",
       "      <td>0.000000</td>\n",
       "      <td>0.0</td>\n",
       "      <td>0.0</td>\n",
       "      <td>0.0</td>\n",
       "      <td>0.0</td>\n",
       "      <td>...</td>\n",
       "      <td>4.196665e-07</td>\n",
       "      <td>0.00000</td>\n",
       "      <td>0.000000e+00</td>\n",
       "      <td>0.000000</td>\n",
       "      <td>0.0</td>\n",
       "      <td>0.001942</td>\n",
       "      <td>0.033722</td>\n",
       "      <td>1.767040e-07</td>\n",
       "      <td>0.0</td>\n",
       "      <td>0.0</td>\n",
       "    </tr>\n",
       "    <tr>\n",
       "      <th>5</th>\n",
       "      <td>0.0</td>\n",
       "      <td>0.0</td>\n",
       "      <td>0.00000</td>\n",
       "      <td>0.000000</td>\n",
       "      <td>0.000000</td>\n",
       "      <td>0.000000</td>\n",
       "      <td>0.0</td>\n",
       "      <td>0.0</td>\n",
       "      <td>0.0</td>\n",
       "      <td>0.0</td>\n",
       "      <td>...</td>\n",
       "      <td>0.000000e+00</td>\n",
       "      <td>0.00000</td>\n",
       "      <td>0.000000e+00</td>\n",
       "      <td>0.000000</td>\n",
       "      <td>0.0</td>\n",
       "      <td>0.000000</td>\n",
       "      <td>0.000000</td>\n",
       "      <td>0.000000e+00</td>\n",
       "      <td>0.0</td>\n",
       "      <td>0.0</td>\n",
       "    </tr>\n",
       "    <tr>\n",
       "      <th>6</th>\n",
       "      <td>0.0</td>\n",
       "      <td>0.0</td>\n",
       "      <td>0.00002</td>\n",
       "      <td>0.000010</td>\n",
       "      <td>0.000000</td>\n",
       "      <td>0.000000</td>\n",
       "      <td>0.0</td>\n",
       "      <td>0.0</td>\n",
       "      <td>0.0</td>\n",
       "      <td>0.0</td>\n",
       "      <td>...</td>\n",
       "      <td>0.000000e+00</td>\n",
       "      <td>0.00000</td>\n",
       "      <td>0.000000e+00</td>\n",
       "      <td>0.000000</td>\n",
       "      <td>0.0</td>\n",
       "      <td>0.000000</td>\n",
       "      <td>0.000000</td>\n",
       "      <td>0.000000e+00</td>\n",
       "      <td>0.0</td>\n",
       "      <td>0.0</td>\n",
       "    </tr>\n",
       "  </tbody>\n",
       "</table>\n",
       "<p>7 rows × 910 columns</p>\n",
       "</div>"
      ],
      "text/plain": [
       "   True_value  True_value  True_value  True_value  True_value  True_value  \\\n",
       "0         0.0         0.0     0.00000    0.000000    0.000567    0.000107   \n",
       "1         0.0         0.0     0.00000    0.000000    0.000000    0.000000   \n",
       "2         0.0         0.0     0.00000    0.000000    0.000000    0.000000   \n",
       "3         0.0         0.0     0.00000    0.044648    0.166652    0.000000   \n",
       "4         0.0         0.0     0.00000    0.000000    0.000000    0.000000   \n",
       "5         0.0         0.0     0.00000    0.000000    0.000000    0.000000   \n",
       "6         0.0         0.0     0.00002    0.000010    0.000000    0.000000   \n",
       "\n",
       "   True_value  True_value  True_value  True_value  ...    True_value  \\\n",
       "0         0.0         0.0         0.0         0.0  ...  2.140443e-09   \n",
       "1         0.0         0.0         0.0         0.0  ...  0.000000e+00   \n",
       "2         0.0         0.0         0.0         0.0  ...  0.000000e+00   \n",
       "3         0.0         0.0         0.0         0.0  ...  0.000000e+00   \n",
       "4         0.0         0.0         0.0         0.0  ...  4.196665e-07   \n",
       "5         0.0         0.0         0.0         0.0  ...  0.000000e+00   \n",
       "6         0.0         0.0         0.0         0.0  ...  0.000000e+00   \n",
       "\n",
       "   True_value    True_value  True_value  True_value  True_value  True_value  \\\n",
       "0     0.00003  4.196665e-07    0.000000         0.0    0.000000    0.000000   \n",
       "1     0.00000  0.000000e+00    0.000000         0.0    0.000000    0.000000   \n",
       "2     0.00000  3.942576e-02    0.075165         0.0    0.000000    0.000000   \n",
       "3     0.00000  0.000000e+00    0.000000         0.0    0.000000    0.000000   \n",
       "4     0.00000  0.000000e+00    0.000000         0.0    0.001942    0.033722   \n",
       "5     0.00000  0.000000e+00    0.000000         0.0    0.000000    0.000000   \n",
       "6     0.00000  0.000000e+00    0.000000         0.0    0.000000    0.000000   \n",
       "\n",
       "     True_value  True_value  True_value  \n",
       "0  0.000000e+00         0.0         0.0  \n",
       "1  0.000000e+00         0.0         0.0  \n",
       "2  0.000000e+00         0.0         0.0  \n",
       "3  0.000000e+00         0.0         0.0  \n",
       "4  1.767040e-07         0.0         0.0  \n",
       "5  0.000000e+00         0.0         0.0  \n",
       "6  0.000000e+00         0.0         0.0  \n",
       "\n",
       "[7 rows x 910 columns]"
      ]
     },
     "execution_count": 23,
     "metadata": {},
     "output_type": "execute_result"
    }
   ],
   "source": [
    "exp_true"
   ]
  },
  {
   "cell_type": "code",
   "execution_count": 24,
   "id": "fbc09b78-d34e-434e-8232-ee3be25766e9",
   "metadata": {},
   "outputs": [],
   "source": [
    "# sum the true values - since the sub images are not overlapping, we can get the sum across columns in the above dataframe\n",
    "sum_true_values = exp_true.sum(axis = 1)"
   ]
  },
  {
   "cell_type": "code",
   "execution_count": 25,
   "id": "6057a433-4dfb-4804-bbac-ea3dacce11e6",
   "metadata": {},
   "outputs": [
    {
     "data": {
      "text/plain": [
       "0    33.000000\n",
       "1    30.000000\n",
       "2    39.000001\n",
       "3    40.000000\n",
       "4    40.998810\n",
       "5    42.169009\n",
       "6    30.005317\n",
       "dtype: float64"
      ]
     },
     "execution_count": 25,
     "metadata": {},
     "output_type": "execute_result"
    }
   ],
   "source": [
    "sum_true_values"
   ]
  },
  {
   "cell_type": "code",
   "execution_count": 26,
   "id": "2fc2ac3e-59e7-4f27-91ab-31d30b4eeaa7",
   "metadata": {},
   "outputs": [],
   "source": [
    "# get the forecasted values\n",
    "Forecasted_values_df = combined_df[['Forecasted_value']]"
   ]
  },
  {
   "cell_type": "code",
   "execution_count": 27,
   "id": "4d4182a4-7ede-4ffc-b952-08aa47d424d0",
   "metadata": {},
   "outputs": [
    {
     "data": {
      "text/html": [
       "<div>\n",
       "<style scoped>\n",
       "    .dataframe tbody tr th:only-of-type {\n",
       "        vertical-align: middle;\n",
       "    }\n",
       "\n",
       "    .dataframe tbody tr th {\n",
       "        vertical-align: top;\n",
       "    }\n",
       "\n",
       "    .dataframe thead th {\n",
       "        text-align: right;\n",
       "    }\n",
       "</style>\n",
       "<table border=\"1\" class=\"dataframe\">\n",
       "  <thead>\n",
       "    <tr style=\"text-align: right;\">\n",
       "      <th></th>\n",
       "      <th>Forecasted_value</th>\n",
       "      <th>Forecasted_value</th>\n",
       "      <th>Forecasted_value</th>\n",
       "      <th>Forecasted_value</th>\n",
       "      <th>Forecasted_value</th>\n",
       "      <th>Forecasted_value</th>\n",
       "      <th>Forecasted_value</th>\n",
       "      <th>Forecasted_value</th>\n",
       "      <th>Forecasted_value</th>\n",
       "      <th>Forecasted_value</th>\n",
       "      <th>...</th>\n",
       "      <th>Forecasted_value</th>\n",
       "      <th>Forecasted_value</th>\n",
       "      <th>Forecasted_value</th>\n",
       "      <th>Forecasted_value</th>\n",
       "      <th>Forecasted_value</th>\n",
       "      <th>Forecasted_value</th>\n",
       "      <th>Forecasted_value</th>\n",
       "      <th>Forecasted_value</th>\n",
       "      <th>Forecasted_value</th>\n",
       "      <th>Forecasted_value</th>\n",
       "    </tr>\n",
       "  </thead>\n",
       "  <tbody>\n",
       "    <tr>\n",
       "      <th>0</th>\n",
       "      <td>-0.007945</td>\n",
       "      <td>-0.015862</td>\n",
       "      <td>-0.018728</td>\n",
       "      <td>0.044334</td>\n",
       "      <td>0.040543</td>\n",
       "      <td>-0.016620</td>\n",
       "      <td>-0.029504</td>\n",
       "      <td>-0.018610</td>\n",
       "      <td>-0.011476</td>\n",
       "      <td>-0.009544</td>\n",
       "      <td>...</td>\n",
       "      <td>-0.003992</td>\n",
       "      <td>0.009564</td>\n",
       "      <td>0.058431</td>\n",
       "      <td>-0.043394</td>\n",
       "      <td>0.007290</td>\n",
       "      <td>-0.011801</td>\n",
       "      <td>-0.014348</td>\n",
       "      <td>-0.002540</td>\n",
       "      <td>0.001093</td>\n",
       "      <td>-0.006951</td>\n",
       "    </tr>\n",
       "    <tr>\n",
       "      <th>1</th>\n",
       "      <td>-0.007200</td>\n",
       "      <td>-0.014912</td>\n",
       "      <td>-0.008924</td>\n",
       "      <td>0.015186</td>\n",
       "      <td>0.036810</td>\n",
       "      <td>-0.005158</td>\n",
       "      <td>-0.016010</td>\n",
       "      <td>-0.006474</td>\n",
       "      <td>-0.006307</td>\n",
       "      <td>-0.008970</td>\n",
       "      <td>...</td>\n",
       "      <td>-0.004620</td>\n",
       "      <td>0.009245</td>\n",
       "      <td>0.047644</td>\n",
       "      <td>-0.008851</td>\n",
       "      <td>0.002197</td>\n",
       "      <td>-0.009357</td>\n",
       "      <td>-0.013813</td>\n",
       "      <td>-0.000842</td>\n",
       "      <td>0.012773</td>\n",
       "      <td>-0.006390</td>\n",
       "    </tr>\n",
       "    <tr>\n",
       "      <th>2</th>\n",
       "      <td>-0.007708</td>\n",
       "      <td>-0.013195</td>\n",
       "      <td>-0.007611</td>\n",
       "      <td>0.005452</td>\n",
       "      <td>0.039282</td>\n",
       "      <td>0.003628</td>\n",
       "      <td>-0.020484</td>\n",
       "      <td>-0.003984</td>\n",
       "      <td>-0.000925</td>\n",
       "      <td>-0.000607</td>\n",
       "      <td>...</td>\n",
       "      <td>-0.003249</td>\n",
       "      <td>-0.000042</td>\n",
       "      <td>0.049702</td>\n",
       "      <td>0.006911</td>\n",
       "      <td>-0.005319</td>\n",
       "      <td>-0.008539</td>\n",
       "      <td>-0.019973</td>\n",
       "      <td>-0.001503</td>\n",
       "      <td>0.010821</td>\n",
       "      <td>-0.007330</td>\n",
       "    </tr>\n",
       "    <tr>\n",
       "      <th>3</th>\n",
       "      <td>0.002253</td>\n",
       "      <td>-0.004648</td>\n",
       "      <td>0.013973</td>\n",
       "      <td>0.011136</td>\n",
       "      <td>0.033750</td>\n",
       "      <td>-0.001457</td>\n",
       "      <td>-0.014991</td>\n",
       "      <td>0.003302</td>\n",
       "      <td>0.010211</td>\n",
       "      <td>0.001052</td>\n",
       "      <td>...</td>\n",
       "      <td>0.002342</td>\n",
       "      <td>-0.001892</td>\n",
       "      <td>0.016988</td>\n",
       "      <td>-0.009734</td>\n",
       "      <td>0.000506</td>\n",
       "      <td>0.000516</td>\n",
       "      <td>-0.011991</td>\n",
       "      <td>0.006065</td>\n",
       "      <td>0.021181</td>\n",
       "      <td>-0.002116</td>\n",
       "    </tr>\n",
       "    <tr>\n",
       "      <th>4</th>\n",
       "      <td>-0.001194</td>\n",
       "      <td>-0.001524</td>\n",
       "      <td>0.001779</td>\n",
       "      <td>0.007086</td>\n",
       "      <td>0.028253</td>\n",
       "      <td>-0.017477</td>\n",
       "      <td>-0.010164</td>\n",
       "      <td>-0.005257</td>\n",
       "      <td>0.008596</td>\n",
       "      <td>0.002096</td>\n",
       "      <td>...</td>\n",
       "      <td>0.000463</td>\n",
       "      <td>-0.005004</td>\n",
       "      <td>0.017485</td>\n",
       "      <td>-0.001547</td>\n",
       "      <td>0.000222</td>\n",
       "      <td>-0.007728</td>\n",
       "      <td>-0.008625</td>\n",
       "      <td>0.008750</td>\n",
       "      <td>-0.001592</td>\n",
       "      <td>-0.002587</td>\n",
       "    </tr>\n",
       "  </tbody>\n",
       "</table>\n",
       "<p>5 rows × 910 columns</p>\n",
       "</div>"
      ],
      "text/plain": [
       "   Forecasted_value  Forecasted_value  Forecasted_value  Forecasted_value  \\\n",
       "0         -0.007945         -0.015862         -0.018728          0.044334   \n",
       "1         -0.007200         -0.014912         -0.008924          0.015186   \n",
       "2         -0.007708         -0.013195         -0.007611          0.005452   \n",
       "3          0.002253         -0.004648          0.013973          0.011136   \n",
       "4         -0.001194         -0.001524          0.001779          0.007086   \n",
       "\n",
       "   Forecasted_value  Forecasted_value  Forecasted_value  Forecasted_value  \\\n",
       "0          0.040543         -0.016620         -0.029504         -0.018610   \n",
       "1          0.036810         -0.005158         -0.016010         -0.006474   \n",
       "2          0.039282          0.003628         -0.020484         -0.003984   \n",
       "3          0.033750         -0.001457         -0.014991          0.003302   \n",
       "4          0.028253         -0.017477         -0.010164         -0.005257   \n",
       "\n",
       "   Forecasted_value  Forecasted_value  ...  Forecasted_value  \\\n",
       "0         -0.011476         -0.009544  ...         -0.003992   \n",
       "1         -0.006307         -0.008970  ...         -0.004620   \n",
       "2         -0.000925         -0.000607  ...         -0.003249   \n",
       "3          0.010211          0.001052  ...          0.002342   \n",
       "4          0.008596          0.002096  ...          0.000463   \n",
       "\n",
       "   Forecasted_value  Forecasted_value  Forecasted_value  Forecasted_value  \\\n",
       "0          0.009564          0.058431         -0.043394          0.007290   \n",
       "1          0.009245          0.047644         -0.008851          0.002197   \n",
       "2         -0.000042          0.049702          0.006911         -0.005319   \n",
       "3         -0.001892          0.016988         -0.009734          0.000506   \n",
       "4         -0.005004          0.017485         -0.001547          0.000222   \n",
       "\n",
       "   Forecasted_value  Forecasted_value  Forecasted_value  Forecasted_value  \\\n",
       "0         -0.011801         -0.014348         -0.002540          0.001093   \n",
       "1         -0.009357         -0.013813         -0.000842          0.012773   \n",
       "2         -0.008539         -0.019973         -0.001503          0.010821   \n",
       "3          0.000516         -0.011991          0.006065          0.021181   \n",
       "4         -0.007728         -0.008625          0.008750         -0.001592   \n",
       "\n",
       "   Forecasted_value  \n",
       "0         -0.006951  \n",
       "1         -0.006390  \n",
       "2         -0.007330  \n",
       "3         -0.002116  \n",
       "4         -0.002587  \n",
       "\n",
       "[5 rows x 910 columns]"
      ]
     },
     "execution_count": 27,
     "metadata": {},
     "output_type": "execute_result"
    }
   ],
   "source": [
    "Forecasted_values_df.head()"
   ]
  },
  {
   "cell_type": "code",
   "execution_count": 28,
   "id": "c4e2130b-9b6b-40b7-9efe-4cd6cd30c107",
   "metadata": {},
   "outputs": [],
   "source": [
    "exp_forecasted = np.exp(Forecasted_values_df)-1"
   ]
  },
  {
   "cell_type": "code",
   "execution_count": 29,
   "id": "60cd0006-0367-436e-b3c8-282e12e01146",
   "metadata": {},
   "outputs": [
    {
     "data": {
      "text/html": [
       "<div>\n",
       "<style scoped>\n",
       "    .dataframe tbody tr th:only-of-type {\n",
       "        vertical-align: middle;\n",
       "    }\n",
       "\n",
       "    .dataframe tbody tr th {\n",
       "        vertical-align: top;\n",
       "    }\n",
       "\n",
       "    .dataframe thead th {\n",
       "        text-align: right;\n",
       "    }\n",
       "</style>\n",
       "<table border=\"1\" class=\"dataframe\">\n",
       "  <thead>\n",
       "    <tr style=\"text-align: right;\">\n",
       "      <th></th>\n",
       "      <th>Forecasted_value</th>\n",
       "      <th>Forecasted_value</th>\n",
       "      <th>Forecasted_value</th>\n",
       "      <th>Forecasted_value</th>\n",
       "      <th>Forecasted_value</th>\n",
       "      <th>Forecasted_value</th>\n",
       "      <th>Forecasted_value</th>\n",
       "      <th>Forecasted_value</th>\n",
       "      <th>Forecasted_value</th>\n",
       "      <th>Forecasted_value</th>\n",
       "      <th>...</th>\n",
       "      <th>Forecasted_value</th>\n",
       "      <th>Forecasted_value</th>\n",
       "      <th>Forecasted_value</th>\n",
       "      <th>Forecasted_value</th>\n",
       "      <th>Forecasted_value</th>\n",
       "      <th>Forecasted_value</th>\n",
       "      <th>Forecasted_value</th>\n",
       "      <th>Forecasted_value</th>\n",
       "      <th>Forecasted_value</th>\n",
       "      <th>Forecasted_value</th>\n",
       "    </tr>\n",
       "  </thead>\n",
       "  <tbody>\n",
       "    <tr>\n",
       "      <th>0</th>\n",
       "      <td>-0.007914</td>\n",
       "      <td>-0.015737</td>\n",
       "      <td>-0.018554</td>\n",
       "      <td>0.045331</td>\n",
       "      <td>0.041376</td>\n",
       "      <td>-0.016483</td>\n",
       "      <td>-0.029073</td>\n",
       "      <td>-0.018438</td>\n",
       "      <td>-0.011410</td>\n",
       "      <td>-0.009499</td>\n",
       "      <td>...</td>\n",
       "      <td>-0.003984</td>\n",
       "      <td>0.009610</td>\n",
       "      <td>0.060172</td>\n",
       "      <td>-0.042466</td>\n",
       "      <td>0.007317</td>\n",
       "      <td>-0.011731</td>\n",
       "      <td>-0.014246</td>\n",
       "      <td>-0.002536</td>\n",
       "      <td>0.001094</td>\n",
       "      <td>-0.006927</td>\n",
       "    </tr>\n",
       "    <tr>\n",
       "      <th>1</th>\n",
       "      <td>-0.007174</td>\n",
       "      <td>-0.014801</td>\n",
       "      <td>-0.008884</td>\n",
       "      <td>0.015302</td>\n",
       "      <td>0.037496</td>\n",
       "      <td>-0.005144</td>\n",
       "      <td>-0.015882</td>\n",
       "      <td>-0.006453</td>\n",
       "      <td>-0.006287</td>\n",
       "      <td>-0.008930</td>\n",
       "      <td>...</td>\n",
       "      <td>-0.004610</td>\n",
       "      <td>0.009288</td>\n",
       "      <td>0.048797</td>\n",
       "      <td>-0.008812</td>\n",
       "      <td>0.002200</td>\n",
       "      <td>-0.009314</td>\n",
       "      <td>-0.013718</td>\n",
       "      <td>-0.000841</td>\n",
       "      <td>0.012855</td>\n",
       "      <td>-0.006370</td>\n",
       "    </tr>\n",
       "    <tr>\n",
       "      <th>2</th>\n",
       "      <td>-0.007678</td>\n",
       "      <td>-0.013108</td>\n",
       "      <td>-0.007582</td>\n",
       "      <td>0.005467</td>\n",
       "      <td>0.040064</td>\n",
       "      <td>0.003634</td>\n",
       "      <td>-0.020276</td>\n",
       "      <td>-0.003976</td>\n",
       "      <td>-0.000925</td>\n",
       "      <td>-0.000607</td>\n",
       "      <td>...</td>\n",
       "      <td>-0.003243</td>\n",
       "      <td>-0.000042</td>\n",
       "      <td>0.050958</td>\n",
       "      <td>0.006935</td>\n",
       "      <td>-0.005305</td>\n",
       "      <td>-0.008502</td>\n",
       "      <td>-0.019775</td>\n",
       "      <td>-0.001502</td>\n",
       "      <td>0.010880</td>\n",
       "      <td>-0.007303</td>\n",
       "    </tr>\n",
       "    <tr>\n",
       "      <th>3</th>\n",
       "      <td>0.002256</td>\n",
       "      <td>-0.004638</td>\n",
       "      <td>0.014071</td>\n",
       "      <td>0.011199</td>\n",
       "      <td>0.034326</td>\n",
       "      <td>-0.001456</td>\n",
       "      <td>-0.014879</td>\n",
       "      <td>0.003307</td>\n",
       "      <td>0.010263</td>\n",
       "      <td>0.001053</td>\n",
       "      <td>...</td>\n",
       "      <td>0.002345</td>\n",
       "      <td>-0.001890</td>\n",
       "      <td>0.017133</td>\n",
       "      <td>-0.009686</td>\n",
       "      <td>0.000506</td>\n",
       "      <td>0.000516</td>\n",
       "      <td>-0.011920</td>\n",
       "      <td>0.006083</td>\n",
       "      <td>0.021407</td>\n",
       "      <td>-0.002113</td>\n",
       "    </tr>\n",
       "    <tr>\n",
       "      <th>4</th>\n",
       "      <td>-0.001193</td>\n",
       "      <td>-0.001522</td>\n",
       "      <td>0.001780</td>\n",
       "      <td>0.007111</td>\n",
       "      <td>0.028656</td>\n",
       "      <td>-0.017325</td>\n",
       "      <td>-0.010112</td>\n",
       "      <td>-0.005244</td>\n",
       "      <td>0.008633</td>\n",
       "      <td>0.002098</td>\n",
       "      <td>...</td>\n",
       "      <td>0.000464</td>\n",
       "      <td>-0.004991</td>\n",
       "      <td>0.017638</td>\n",
       "      <td>-0.001545</td>\n",
       "      <td>0.000222</td>\n",
       "      <td>-0.007699</td>\n",
       "      <td>-0.008588</td>\n",
       "      <td>0.008788</td>\n",
       "      <td>-0.001590</td>\n",
       "      <td>-0.002584</td>\n",
       "    </tr>\n",
       "    <tr>\n",
       "      <th>5</th>\n",
       "      <td>-0.001130</td>\n",
       "      <td>0.000797</td>\n",
       "      <td>0.015069</td>\n",
       "      <td>0.020998</td>\n",
       "      <td>0.051419</td>\n",
       "      <td>-0.006183</td>\n",
       "      <td>-0.000981</td>\n",
       "      <td>0.002448</td>\n",
       "      <td>0.003167</td>\n",
       "      <td>0.000267</td>\n",
       "      <td>...</td>\n",
       "      <td>0.001339</td>\n",
       "      <td>-0.000260</td>\n",
       "      <td>0.025149</td>\n",
       "      <td>0.005564</td>\n",
       "      <td>-0.001697</td>\n",
       "      <td>-0.005889</td>\n",
       "      <td>0.000942</td>\n",
       "      <td>0.005485</td>\n",
       "      <td>0.001447</td>\n",
       "      <td>-0.001480</td>\n",
       "    </tr>\n",
       "    <tr>\n",
       "      <th>6</th>\n",
       "      <td>-0.003879</td>\n",
       "      <td>-0.000742</td>\n",
       "      <td>0.008669</td>\n",
       "      <td>0.022449</td>\n",
       "      <td>0.059394</td>\n",
       "      <td>-0.010022</td>\n",
       "      <td>-0.008907</td>\n",
       "      <td>-0.005724</td>\n",
       "      <td>0.003075</td>\n",
       "      <td>0.001393</td>\n",
       "      <td>...</td>\n",
       "      <td>-0.001812</td>\n",
       "      <td>-0.001956</td>\n",
       "      <td>0.013904</td>\n",
       "      <td>-0.015757</td>\n",
       "      <td>-0.008598</td>\n",
       "      <td>-0.015034</td>\n",
       "      <td>-0.003088</td>\n",
       "      <td>0.002914</td>\n",
       "      <td>0.005780</td>\n",
       "      <td>-0.001375</td>\n",
       "    </tr>\n",
       "  </tbody>\n",
       "</table>\n",
       "<p>7 rows × 910 columns</p>\n",
       "</div>"
      ],
      "text/plain": [
       "   Forecasted_value  Forecasted_value  Forecasted_value  Forecasted_value  \\\n",
       "0         -0.007914         -0.015737         -0.018554          0.045331   \n",
       "1         -0.007174         -0.014801         -0.008884          0.015302   \n",
       "2         -0.007678         -0.013108         -0.007582          0.005467   \n",
       "3          0.002256         -0.004638          0.014071          0.011199   \n",
       "4         -0.001193         -0.001522          0.001780          0.007111   \n",
       "5         -0.001130          0.000797          0.015069          0.020998   \n",
       "6         -0.003879         -0.000742          0.008669          0.022449   \n",
       "\n",
       "   Forecasted_value  Forecasted_value  Forecasted_value  Forecasted_value  \\\n",
       "0          0.041376         -0.016483         -0.029073         -0.018438   \n",
       "1          0.037496         -0.005144         -0.015882         -0.006453   \n",
       "2          0.040064          0.003634         -0.020276         -0.003976   \n",
       "3          0.034326         -0.001456         -0.014879          0.003307   \n",
       "4          0.028656         -0.017325         -0.010112         -0.005244   \n",
       "5          0.051419         -0.006183         -0.000981          0.002448   \n",
       "6          0.059394         -0.010022         -0.008907         -0.005724   \n",
       "\n",
       "   Forecasted_value  Forecasted_value  ...  Forecasted_value  \\\n",
       "0         -0.011410         -0.009499  ...         -0.003984   \n",
       "1         -0.006287         -0.008930  ...         -0.004610   \n",
       "2         -0.000925         -0.000607  ...         -0.003243   \n",
       "3          0.010263          0.001053  ...          0.002345   \n",
       "4          0.008633          0.002098  ...          0.000464   \n",
       "5          0.003167          0.000267  ...          0.001339   \n",
       "6          0.003075          0.001393  ...         -0.001812   \n",
       "\n",
       "   Forecasted_value  Forecasted_value  Forecasted_value  Forecasted_value  \\\n",
       "0          0.009610          0.060172         -0.042466          0.007317   \n",
       "1          0.009288          0.048797         -0.008812          0.002200   \n",
       "2         -0.000042          0.050958          0.006935         -0.005305   \n",
       "3         -0.001890          0.017133         -0.009686          0.000506   \n",
       "4         -0.004991          0.017638         -0.001545          0.000222   \n",
       "5         -0.000260          0.025149          0.005564         -0.001697   \n",
       "6         -0.001956          0.013904         -0.015757         -0.008598   \n",
       "\n",
       "   Forecasted_value  Forecasted_value  Forecasted_value  Forecasted_value  \\\n",
       "0         -0.011731         -0.014246         -0.002536          0.001094   \n",
       "1         -0.009314         -0.013718         -0.000841          0.012855   \n",
       "2         -0.008502         -0.019775         -0.001502          0.010880   \n",
       "3          0.000516         -0.011920          0.006083          0.021407   \n",
       "4         -0.007699         -0.008588          0.008788         -0.001590   \n",
       "5         -0.005889          0.000942          0.005485          0.001447   \n",
       "6         -0.015034         -0.003088          0.002914          0.005780   \n",
       "\n",
       "   Forecasted_value  \n",
       "0         -0.006927  \n",
       "1         -0.006370  \n",
       "2         -0.007303  \n",
       "3         -0.002113  \n",
       "4         -0.002584  \n",
       "5         -0.001480  \n",
       "6         -0.001375  \n",
       "\n",
       "[7 rows x 910 columns]"
      ]
     },
     "execution_count": 29,
     "metadata": {},
     "output_type": "execute_result"
    }
   ],
   "source": [
    "exp_forecasted"
   ]
  },
  {
   "cell_type": "code",
   "execution_count": 30,
   "id": "cdc66bd6-b552-4dcd-9703-e07b035fb736",
   "metadata": {},
   "outputs": [],
   "source": [
    "# set the values to 0 if the forecasted count is negative?"
   ]
  },
  {
   "cell_type": "code",
   "execution_count": 31,
   "id": "56eddb77-a48e-409d-9684-10bb31132568",
   "metadata": {},
   "outputs": [],
   "source": [
    "exp_forecasted[exp_forecasted < 0] = 0"
   ]
  },
  {
   "cell_type": "code",
   "execution_count": 32,
   "id": "c96eedde-fcfa-4f54-b8cb-d5f5cb3d6493",
   "metadata": {},
   "outputs": [
    {
     "data": {
      "text/html": [
       "<div>\n",
       "<style scoped>\n",
       "    .dataframe tbody tr th:only-of-type {\n",
       "        vertical-align: middle;\n",
       "    }\n",
       "\n",
       "    .dataframe tbody tr th {\n",
       "        vertical-align: top;\n",
       "    }\n",
       "\n",
       "    .dataframe thead th {\n",
       "        text-align: right;\n",
       "    }\n",
       "</style>\n",
       "<table border=\"1\" class=\"dataframe\">\n",
       "  <thead>\n",
       "    <tr style=\"text-align: right;\">\n",
       "      <th></th>\n",
       "      <th>Forecasted_value</th>\n",
       "      <th>Forecasted_value</th>\n",
       "      <th>Forecasted_value</th>\n",
       "      <th>Forecasted_value</th>\n",
       "      <th>Forecasted_value</th>\n",
       "      <th>Forecasted_value</th>\n",
       "      <th>Forecasted_value</th>\n",
       "      <th>Forecasted_value</th>\n",
       "      <th>Forecasted_value</th>\n",
       "      <th>Forecasted_value</th>\n",
       "      <th>...</th>\n",
       "      <th>Forecasted_value</th>\n",
       "      <th>Forecasted_value</th>\n",
       "      <th>Forecasted_value</th>\n",
       "      <th>Forecasted_value</th>\n",
       "      <th>Forecasted_value</th>\n",
       "      <th>Forecasted_value</th>\n",
       "      <th>Forecasted_value</th>\n",
       "      <th>Forecasted_value</th>\n",
       "      <th>Forecasted_value</th>\n",
       "      <th>Forecasted_value</th>\n",
       "    </tr>\n",
       "  </thead>\n",
       "  <tbody>\n",
       "    <tr>\n",
       "      <th>0</th>\n",
       "      <td>0.000000</td>\n",
       "      <td>0.0</td>\n",
       "      <td>0.000000</td>\n",
       "      <td>0.045331</td>\n",
       "      <td>0.041376</td>\n",
       "      <td>0.000000</td>\n",
       "      <td>0.0</td>\n",
       "      <td>0.000000</td>\n",
       "      <td>0.000000</td>\n",
       "      <td>0.000000</td>\n",
       "      <td>...</td>\n",
       "      <td>0.000000</td>\n",
       "      <td>0.009610</td>\n",
       "      <td>0.060172</td>\n",
       "      <td>0.000000</td>\n",
       "      <td>0.007317</td>\n",
       "      <td>0.000000</td>\n",
       "      <td>0.0</td>\n",
       "      <td>0.000000</td>\n",
       "      <td>0.001094</td>\n",
       "      <td>0.0</td>\n",
       "    </tr>\n",
       "    <tr>\n",
       "      <th>1</th>\n",
       "      <td>0.000000</td>\n",
       "      <td>0.0</td>\n",
       "      <td>0.000000</td>\n",
       "      <td>0.015302</td>\n",
       "      <td>0.037496</td>\n",
       "      <td>0.000000</td>\n",
       "      <td>0.0</td>\n",
       "      <td>0.000000</td>\n",
       "      <td>0.000000</td>\n",
       "      <td>0.000000</td>\n",
       "      <td>...</td>\n",
       "      <td>0.000000</td>\n",
       "      <td>0.009288</td>\n",
       "      <td>0.048797</td>\n",
       "      <td>0.000000</td>\n",
       "      <td>0.002200</td>\n",
       "      <td>0.000000</td>\n",
       "      <td>0.0</td>\n",
       "      <td>0.000000</td>\n",
       "      <td>0.012855</td>\n",
       "      <td>0.0</td>\n",
       "    </tr>\n",
       "    <tr>\n",
       "      <th>2</th>\n",
       "      <td>0.000000</td>\n",
       "      <td>0.0</td>\n",
       "      <td>0.000000</td>\n",
       "      <td>0.005467</td>\n",
       "      <td>0.040064</td>\n",
       "      <td>0.003634</td>\n",
       "      <td>0.0</td>\n",
       "      <td>0.000000</td>\n",
       "      <td>0.000000</td>\n",
       "      <td>0.000000</td>\n",
       "      <td>...</td>\n",
       "      <td>0.000000</td>\n",
       "      <td>0.000000</td>\n",
       "      <td>0.050958</td>\n",
       "      <td>0.006935</td>\n",
       "      <td>0.000000</td>\n",
       "      <td>0.000000</td>\n",
       "      <td>0.0</td>\n",
       "      <td>0.000000</td>\n",
       "      <td>0.010880</td>\n",
       "      <td>0.0</td>\n",
       "    </tr>\n",
       "    <tr>\n",
       "      <th>3</th>\n",
       "      <td>0.002256</td>\n",
       "      <td>0.0</td>\n",
       "      <td>0.014071</td>\n",
       "      <td>0.011199</td>\n",
       "      <td>0.034326</td>\n",
       "      <td>0.000000</td>\n",
       "      <td>0.0</td>\n",
       "      <td>0.003307</td>\n",
       "      <td>0.010263</td>\n",
       "      <td>0.001053</td>\n",
       "      <td>...</td>\n",
       "      <td>0.002345</td>\n",
       "      <td>0.000000</td>\n",
       "      <td>0.017133</td>\n",
       "      <td>0.000000</td>\n",
       "      <td>0.000506</td>\n",
       "      <td>0.000516</td>\n",
       "      <td>0.0</td>\n",
       "      <td>0.006083</td>\n",
       "      <td>0.021407</td>\n",
       "      <td>0.0</td>\n",
       "    </tr>\n",
       "    <tr>\n",
       "      <th>4</th>\n",
       "      <td>0.000000</td>\n",
       "      <td>0.0</td>\n",
       "      <td>0.001780</td>\n",
       "      <td>0.007111</td>\n",
       "      <td>0.028656</td>\n",
       "      <td>0.000000</td>\n",
       "      <td>0.0</td>\n",
       "      <td>0.000000</td>\n",
       "      <td>0.008633</td>\n",
       "      <td>0.002098</td>\n",
       "      <td>...</td>\n",
       "      <td>0.000464</td>\n",
       "      <td>0.000000</td>\n",
       "      <td>0.017638</td>\n",
       "      <td>0.000000</td>\n",
       "      <td>0.000222</td>\n",
       "      <td>0.000000</td>\n",
       "      <td>0.0</td>\n",
       "      <td>0.008788</td>\n",
       "      <td>0.000000</td>\n",
       "      <td>0.0</td>\n",
       "    </tr>\n",
       "  </tbody>\n",
       "</table>\n",
       "<p>5 rows × 910 columns</p>\n",
       "</div>"
      ],
      "text/plain": [
       "   Forecasted_value  Forecasted_value  Forecasted_value  Forecasted_value  \\\n",
       "0          0.000000               0.0          0.000000          0.045331   \n",
       "1          0.000000               0.0          0.000000          0.015302   \n",
       "2          0.000000               0.0          0.000000          0.005467   \n",
       "3          0.002256               0.0          0.014071          0.011199   \n",
       "4          0.000000               0.0          0.001780          0.007111   \n",
       "\n",
       "   Forecasted_value  Forecasted_value  Forecasted_value  Forecasted_value  \\\n",
       "0          0.041376          0.000000               0.0          0.000000   \n",
       "1          0.037496          0.000000               0.0          0.000000   \n",
       "2          0.040064          0.003634               0.0          0.000000   \n",
       "3          0.034326          0.000000               0.0          0.003307   \n",
       "4          0.028656          0.000000               0.0          0.000000   \n",
       "\n",
       "   Forecasted_value  Forecasted_value  ...  Forecasted_value  \\\n",
       "0          0.000000          0.000000  ...          0.000000   \n",
       "1          0.000000          0.000000  ...          0.000000   \n",
       "2          0.000000          0.000000  ...          0.000000   \n",
       "3          0.010263          0.001053  ...          0.002345   \n",
       "4          0.008633          0.002098  ...          0.000464   \n",
       "\n",
       "   Forecasted_value  Forecasted_value  Forecasted_value  Forecasted_value  \\\n",
       "0          0.009610          0.060172          0.000000          0.007317   \n",
       "1          0.009288          0.048797          0.000000          0.002200   \n",
       "2          0.000000          0.050958          0.006935          0.000000   \n",
       "3          0.000000          0.017133          0.000000          0.000506   \n",
       "4          0.000000          0.017638          0.000000          0.000222   \n",
       "\n",
       "   Forecasted_value  Forecasted_value  Forecasted_value  Forecasted_value  \\\n",
       "0          0.000000               0.0          0.000000          0.001094   \n",
       "1          0.000000               0.0          0.000000          0.012855   \n",
       "2          0.000000               0.0          0.000000          0.010880   \n",
       "3          0.000516               0.0          0.006083          0.021407   \n",
       "4          0.000000               0.0          0.008788          0.000000   \n",
       "\n",
       "   Forecasted_value  \n",
       "0               0.0  \n",
       "1               0.0  \n",
       "2               0.0  \n",
       "3               0.0  \n",
       "4               0.0  \n",
       "\n",
       "[5 rows x 910 columns]"
      ]
     },
     "execution_count": 32,
     "metadata": {},
     "output_type": "execute_result"
    }
   ],
   "source": [
    "exp_forecasted.head()"
   ]
  },
  {
   "cell_type": "code",
   "execution_count": 33,
   "id": "92bcf82f-ca31-4b25-a919-c8d51d72cfa7",
   "metadata": {},
   "outputs": [],
   "source": [
    "sum_forecasted_values = exp_forecasted.sum(axis = 1)"
   ]
  },
  {
   "cell_type": "code",
   "execution_count": 34,
   "id": "7f0e1119-a3bd-4a52-ae36-afa2c2070e2b",
   "metadata": {},
   "outputs": [
    {
     "data": {
      "text/plain": [
       "0    23.604889\n",
       "1    24.514601\n",
       "2    25.776722\n",
       "3    21.536203\n",
       "4    17.825255\n",
       "5    24.983249\n",
       "6    21.932268\n",
       "dtype: float64"
      ]
     },
     "execution_count": 34,
     "metadata": {},
     "output_type": "execute_result"
    }
   ],
   "source": [
    "sum_forecasted_values"
   ]
  },
  {
   "cell_type": "code",
   "execution_count": 35,
   "id": "cbc06a7e-2dca-400d-9cea-d063c33a4442",
   "metadata": {},
   "outputs": [],
   "source": [
    "# concatenate the sum dataframes\n",
    "block_0104_true_and_forecasted_values_df = pd.concat((sum_true_values, sum_forecasted_values), axis = 1)"
   ]
  },
  {
   "cell_type": "code",
   "execution_count": 36,
   "id": "f667f3a6-d7f7-4e7c-a037-1e9541dd38bd",
   "metadata": {},
   "outputs": [],
   "source": [
    "block_0104_true_and_forecasted_values_df.columns = [\"True_count\", \"Forecasted_count\"]"
   ]
  },
  {
   "cell_type": "code",
   "execution_count": 37,
   "id": "d27b93db-c9e2-49ff-9003-9e4925de3179",
   "metadata": {},
   "outputs": [
    {
     "data": {
      "text/html": [
       "<div>\n",
       "<style scoped>\n",
       "    .dataframe tbody tr th:only-of-type {\n",
       "        vertical-align: middle;\n",
       "    }\n",
       "\n",
       "    .dataframe tbody tr th {\n",
       "        vertical-align: top;\n",
       "    }\n",
       "\n",
       "    .dataframe thead th {\n",
       "        text-align: right;\n",
       "    }\n",
       "</style>\n",
       "<table border=\"1\" class=\"dataframe\">\n",
       "  <thead>\n",
       "    <tr style=\"text-align: right;\">\n",
       "      <th></th>\n",
       "      <th>True_count</th>\n",
       "      <th>Forecasted_count</th>\n",
       "    </tr>\n",
       "  </thead>\n",
       "  <tbody>\n",
       "    <tr>\n",
       "      <th>0</th>\n",
       "      <td>33.000000</td>\n",
       "      <td>23.604889</td>\n",
       "    </tr>\n",
       "    <tr>\n",
       "      <th>1</th>\n",
       "      <td>30.000000</td>\n",
       "      <td>24.514601</td>\n",
       "    </tr>\n",
       "    <tr>\n",
       "      <th>2</th>\n",
       "      <td>39.000001</td>\n",
       "      <td>25.776722</td>\n",
       "    </tr>\n",
       "    <tr>\n",
       "      <th>3</th>\n",
       "      <td>40.000000</td>\n",
       "      <td>21.536203</td>\n",
       "    </tr>\n",
       "    <tr>\n",
       "      <th>4</th>\n",
       "      <td>40.998810</td>\n",
       "      <td>17.825255</td>\n",
       "    </tr>\n",
       "    <tr>\n",
       "      <th>5</th>\n",
       "      <td>42.169009</td>\n",
       "      <td>24.983249</td>\n",
       "    </tr>\n",
       "    <tr>\n",
       "      <th>6</th>\n",
       "      <td>30.005317</td>\n",
       "      <td>21.932268</td>\n",
       "    </tr>\n",
       "  </tbody>\n",
       "</table>\n",
       "</div>"
      ],
      "text/plain": [
       "   True_count  Forecasted_count\n",
       "0   33.000000         23.604889\n",
       "1   30.000000         24.514601\n",
       "2   39.000001         25.776722\n",
       "3   40.000000         21.536203\n",
       "4   40.998810         17.825255\n",
       "5   42.169009         24.983249\n",
       "6   30.005317         21.932268"
      ]
     },
     "execution_count": 37,
     "metadata": {},
     "output_type": "execute_result"
    }
   ],
   "source": [
    "block_0104_true_and_forecasted_values_df"
   ]
  },
  {
   "cell_type": "code",
   "execution_count": 38,
   "id": "636d512d-f76b-48dc-90f1-872dc6a32736",
   "metadata": {},
   "outputs": [
    {
     "data": {
      "text/plain": [
       "14.792192637707764"
      ]
     },
     "execution_count": 38,
     "metadata": {},
     "output_type": "execute_result"
    }
   ],
   "source": [
    "# blockwise mean squared error\n",
    "rmse = np.sqrt(mean_squared_error(sum_true_values, sum_forecasted_values))\n",
    "rmse"
   ]
  },
  {
   "cell_type": "code",
   "execution_count": 39,
   "id": "df568443-7d02-4ba8-ad0e-5d83f2576c8b",
   "metadata": {},
   "outputs": [
    {
     "data": {
      "text/plain": [
       "13.571421435680353"
      ]
     },
     "execution_count": 39,
     "metadata": {},
     "output_type": "execute_result"
    }
   ],
   "source": [
    "# blockwise mean absolute error\n",
    "mae = mean_absolute_error(sum_true_values, sum_forecasted_values)\n",
    "mae"
   ]
  },
  {
   "cell_type": "code",
   "execution_count": 40,
   "id": "24d1568b-1b0d-41db-a60b-cd864b46d6e7",
   "metadata": {},
   "outputs": [
    {
     "data": {
      "text/plain": [
       "PearsonRResult(statistic=-0.17748264509167463, pvalue=0.7034191458534276)"
      ]
     },
     "execution_count": 40,
     "metadata": {},
     "output_type": "execute_result"
    }
   ],
   "source": [
    "corr = pearsonr(sum_true_values, sum_forecasted_values)\n",
    "corr"
   ]
  },
  {
   "cell_type": "code",
   "execution_count": 41,
   "id": "cf8101a2-be23-4216-afd7-f7783e56f62d",
   "metadata": {},
   "outputs": [
    {
     "data": {
      "text/plain": [
       "-8.14192963790998"
      ]
     },
     "execution_count": 41,
     "metadata": {},
     "output_type": "execute_result"
    }
   ],
   "source": [
    "r2 = r2_score(sum_true_values, sum_forecasted_values)\n",
    "r2"
   ]
  },
  {
   "cell_type": "markdown",
   "id": "fa460e4d-2fdc-45fb-8f50-6a50b0a6ef13",
   "metadata": {},
   "source": [
    "##### Coverages and widths for the forecasted values?"
   ]
  },
  {
   "cell_type": "code",
   "execution_count": 42,
   "id": "eae4e334-d06f-4950-b09e-ec34cb4f3eba",
   "metadata": {},
   "outputs": [],
   "source": [
    "# for this we need the all_forecasts npy files"
   ]
  },
  {
   "cell_type": "code",
   "execution_count": 43,
   "id": "1ec4f3fa-b7b0-4064-9007-4230b0e64f72",
   "metadata": {},
   "outputs": [],
   "source": [
    "# content location is the same path as above"
   ]
  },
  {
   "cell_type": "code",
   "execution_count": 44,
   "id": "febb8655-c529-4099-b22e-ee36918188d5",
   "metadata": {},
   "outputs": [],
   "source": [
    "all_forecasts_npy_files = ['all_forecasts_sub_' + str(i) + '.npy' for i in range(910)]"
   ]
  },
  {
   "cell_type": "code",
   "execution_count": 45,
   "id": "11eba5f0-5a18-4d7d-a743-d57bc9cf93a4",
   "metadata": {},
   "outputs": [],
   "source": [
    "# all_forecasts_npy_files"
   ]
  },
  {
   "cell_type": "code",
   "execution_count": 46,
   "id": "7711dd37-fd3c-4ac8-b8ae-b4be59dff7fa",
   "metadata": {},
   "outputs": [],
   "source": [
    "# load the npy files"
   ]
  },
  {
   "cell_type": "code",
   "execution_count": 47,
   "id": "57f059e1-25b1-4e6d-b370-9ca0236848ea",
   "metadata": {},
   "outputs": [
    {
     "name": "stdout",
     "output_type": "stream",
     "text": [
      "CPU times: user 265 ms, sys: 68.1 ms, total: 333 ms\n",
      "Wall time: 334 ms\n"
     ]
    }
   ],
   "source": [
    "%%time\n",
    "loaded_npy_files = []\n",
    "for file in all_forecasts_npy_files:\n",
    "    joined_path = os.path.join(path_to_dfs, file)\n",
    "    load_file = np.load(joined_path)\n",
    "    # notice we are averaging the preds across the chains before exponentiation\n",
    "    mean_file = np.exp(np.mean(load_file, axis = 1)) - 1\n",
    "    loaded_npy_files.append(mean_file)"
   ]
  },
  {
   "cell_type": "code",
   "execution_count": 48,
   "id": "78d4c420-8e99-4103-881e-297bc81f909d",
   "metadata": {},
   "outputs": [
    {
     "data": {
      "text/plain": [
       "910"
      ]
     },
     "execution_count": 48,
     "metadata": {},
     "output_type": "execute_result"
    }
   ],
   "source": [
    "len(loaded_npy_files)"
   ]
  },
  {
   "cell_type": "code",
   "execution_count": 49,
   "id": "3cc8627a-822a-4c8e-898a-52957870ccde",
   "metadata": {},
   "outputs": [
    {
     "data": {
      "text/plain": [
       "(1000, 7)"
      ]
     },
     "execution_count": 49,
     "metadata": {},
     "output_type": "execute_result"
    }
   ],
   "source": [
    "loaded_npy_files[0].shape"
   ]
  },
  {
   "cell_type": "code",
   "execution_count": 50,
   "id": "ab72ca92-e8f1-4ce3-9cea-117b673d4529",
   "metadata": {},
   "outputs": [
    {
     "data": {
      "text/plain": [
       "array([[-6.9734454e-03, -1.1769533e-03, -4.9453378e-03, ...,\n",
       "         3.8968325e-03,  3.6108494e-03, -1.9340515e-03],\n",
       "       [-6.9288611e-03,  1.0852814e-03, -3.8669705e-03, ...,\n",
       "         3.1677485e-03,  3.7695169e-03, -2.0641685e-03],\n",
       "       [-7.9401135e-03,  5.0306320e-05, -3.2243133e-03, ...,\n",
       "         1.1930466e-03,  7.4172020e-04, -6.0194731e-04],\n",
       "       ...,\n",
       "       [-1.0349095e-02, -4.7357082e-03, -6.0933828e-03, ...,\n",
       "         1.7271042e-03,  1.6076565e-03, -1.7045140e-03],\n",
       "       [-1.1469364e-02, -5.7418942e-03, -7.0627928e-03, ...,\n",
       "         8.3959103e-04,  2.8932095e-03, -2.3546815e-03],\n",
       "       [-1.2019575e-02, -4.7009587e-03, -5.6349039e-03, ...,\n",
       "         4.5537949e-05,  2.2990704e-03, -2.8059483e-03]], dtype=float32)"
      ]
     },
     "execution_count": 50,
     "metadata": {},
     "output_type": "execute_result"
    }
   ],
   "source": [
    "loaded_npy_files[0]"
   ]
  },
  {
   "cell_type": "code",
   "execution_count": 51,
   "id": "53dd5c88-918c-46a0-b5ae-cb7c75895741",
   "metadata": {},
   "outputs": [
    {
     "name": "stdout",
     "output_type": "stream",
     "text": [
      "CPU times: user 20.1 ms, sys: 1.04 ms, total: 21.1 ms\n",
      "Wall time: 20.5 ms\n"
     ]
    }
   ],
   "source": [
    "%%time\n",
    "# convert less than 0 entries to 0 for all arrays\n",
    "for arr in loaded_npy_files:\n",
    "    arr[arr < 0] = 0"
   ]
  },
  {
   "cell_type": "code",
   "execution_count": 52,
   "id": "b20d4662-eefc-41bc-ac0a-25d0613fa00c",
   "metadata": {},
   "outputs": [
    {
     "data": {
      "text/plain": [
       "array([[0.0000000e+00, 0.0000000e+00, 0.0000000e+00, ..., 3.8968325e-03,\n",
       "        3.6108494e-03, 0.0000000e+00],\n",
       "       [0.0000000e+00, 1.0852814e-03, 0.0000000e+00, ..., 3.1677485e-03,\n",
       "        3.7695169e-03, 0.0000000e+00],\n",
       "       [0.0000000e+00, 5.0306320e-05, 0.0000000e+00, ..., 1.1930466e-03,\n",
       "        7.4172020e-04, 0.0000000e+00],\n",
       "       ...,\n",
       "       [0.0000000e+00, 0.0000000e+00, 0.0000000e+00, ..., 1.7271042e-03,\n",
       "        1.6076565e-03, 0.0000000e+00],\n",
       "       [0.0000000e+00, 0.0000000e+00, 0.0000000e+00, ..., 8.3959103e-04,\n",
       "        2.8932095e-03, 0.0000000e+00],\n",
       "       [0.0000000e+00, 0.0000000e+00, 0.0000000e+00, ..., 4.5537949e-05,\n",
       "        2.2990704e-03, 0.0000000e+00]], dtype=float32)"
      ]
     },
     "execution_count": 52,
     "metadata": {},
     "output_type": "execute_result"
    }
   ],
   "source": [
    "loaded_npy_files[0]"
   ]
  },
  {
   "cell_type": "code",
   "execution_count": 53,
   "id": "f2474bdb-3a79-4436-83b1-2b3c3ac24a5c",
   "metadata": {},
   "outputs": [],
   "source": [
    "# Since we do not have overlapping sub-windows, we can sum the counts to get the final densities\n",
    "output = sum(loaded_npy_files)"
   ]
  },
  {
   "cell_type": "code",
   "execution_count": 54,
   "id": "d9038206-4f90-4001-9c3c-aee27d7d610c",
   "metadata": {},
   "outputs": [
    {
     "data": {
      "text/plain": [
       "(1000, 7)"
      ]
     },
     "execution_count": 54,
     "metadata": {},
     "output_type": "execute_result"
    }
   ],
   "source": [
    "output.shape"
   ]
  },
  {
   "cell_type": "code",
   "execution_count": 55,
   "id": "6116babf-18f2-4e39-9a72-150ccc4e6387",
   "metadata": {},
   "outputs": [
    {
     "data": {
      "text/plain": [
       "array([[37.194775, 31.1536  , 34.59269 , ..., 24.43132 , 27.980143,\n",
       "        25.937103],\n",
       "       [33.398605, 29.738636, 29.409548, ..., 24.927368, 28.973152,\n",
       "        33.38355 ],\n",
       "       [32.798344, 30.526081, 34.47335 , ..., 26.928745, 32.58068 ,\n",
       "        26.210096],\n",
       "       ...,\n",
       "       [26.229458, 34.162815, 33.419582, ..., 31.961384, 36.51775 ,\n",
       "        38.378555],\n",
       "       [30.641975, 30.480064, 43.751972, ..., 39.938717, 40.265812,\n",
       "        35.66626 ],\n",
       "       [28.554018, 33.560085, 43.355824, ..., 35.03486 , 40.627968,\n",
       "        37.885807]], dtype=float32)"
      ]
     },
     "execution_count": 55,
     "metadata": {},
     "output_type": "execute_result"
    }
   ],
   "source": [
    "output"
   ]
  },
  {
   "cell_type": "code",
   "execution_count": 56,
   "id": "fbac31f0-215b-4e8b-8c13-2cd85e76a70f",
   "metadata": {},
   "outputs": [],
   "source": [
    "# is this sum correct? alternative method of computing the sums\n",
    "output_alt = np.sum(loaded_npy_files, axis = 0)"
   ]
  },
  {
   "cell_type": "code",
   "execution_count": 57,
   "id": "1198a1a0-14fc-4101-b4af-14a2c26dc0c5",
   "metadata": {},
   "outputs": [
    {
     "data": {
      "text/plain": [
       "(1000, 7)"
      ]
     },
     "execution_count": 57,
     "metadata": {},
     "output_type": "execute_result"
    }
   ],
   "source": [
    "output_alt.shape"
   ]
  },
  {
   "cell_type": "code",
   "execution_count": 58,
   "id": "23c6ebbe-2c27-47ff-8a5f-86491e58d899",
   "metadata": {},
   "outputs": [
    {
     "data": {
      "text/plain": [
       "array([[37.194775, 31.1536  , 34.59269 , ..., 24.43132 , 27.980143,\n",
       "        25.937103],\n",
       "       [33.398605, 29.738636, 29.409548, ..., 24.927368, 28.973152,\n",
       "        33.38355 ],\n",
       "       [32.798344, 30.526081, 34.47335 , ..., 26.928745, 32.58068 ,\n",
       "        26.210096],\n",
       "       ...,\n",
       "       [26.229458, 34.162815, 33.419582, ..., 31.961384, 36.51775 ,\n",
       "        38.378555],\n",
       "       [30.641975, 30.480064, 43.751972, ..., 39.938717, 40.265812,\n",
       "        35.66626 ],\n",
       "       [28.554018, 33.560085, 43.355824, ..., 35.03486 , 40.627968,\n",
       "        37.885807]], dtype=float32)"
      ]
     },
     "execution_count": 58,
     "metadata": {},
     "output_type": "execute_result"
    }
   ],
   "source": [
    "output_alt"
   ]
  },
  {
   "cell_type": "code",
   "execution_count": 59,
   "id": "7b4a8d85-fe98-49c3-9a9f-51fbd90c5174",
   "metadata": {},
   "outputs": [
    {
     "data": {
      "text/plain": [
       "1.0"
      ]
     },
     "execution_count": 59,
     "metadata": {},
     "output_type": "execute_result"
    }
   ],
   "source": [
    "np.mean(output_alt == output)"
   ]
  },
  {
   "cell_type": "code",
   "execution_count": 60,
   "id": "ba6418a3-03f4-475a-b552-55a08048311f",
   "metadata": {},
   "outputs": [],
   "source": [
    "# verified the sum is correct, let's get the widths and the coverages - and also any essential plots"
   ]
  },
  {
   "cell_type": "code",
   "execution_count": 61,
   "id": "ca61eabc-63ed-4b74-b20a-61521b3751a6",
   "metadata": {},
   "outputs": [],
   "source": [
    "# now we can get the 2.5th abd the 97.5th percentiles - to get the coverage and the widths of the CIS\n",
    "li_train = np.percentile(output, axis = 0, q = (2.5, 97.5))[0,:].reshape(-1,1)    \n",
    "ui_train = np.percentile(output, axis = 0, q = (2.5, 97.5))[1,:].reshape(-1,1)"
   ]
  },
  {
   "cell_type": "code",
   "execution_count": 62,
   "id": "9cad5cca-320d-4e70-b204-e4dc52fb9d6d",
   "metadata": {},
   "outputs": [
    {
     "data": {
      "text/plain": [
       "array([[20.92055221],\n",
       "       [20.55860538],\n",
       "       [20.2693182 ],\n",
       "       [17.22943697],\n",
       "       [15.79766099],\n",
       "       [20.3873601 ],\n",
       "       [18.56729784]])"
      ]
     },
     "execution_count": 62,
     "metadata": {},
     "output_type": "execute_result"
    }
   ],
   "source": [
    "li_train"
   ]
  },
  {
   "cell_type": "code",
   "execution_count": 63,
   "id": "4e669c1d-0916-4e77-92e2-a1b1879834aa",
   "metadata": {},
   "outputs": [
    {
     "data": {
      "text/plain": [
       "array([[39.95142469],\n",
       "       [40.36540985],\n",
       "       [41.66616516],\n",
       "       [38.46940498],\n",
       "       [35.76462708],\n",
       "       [42.26914701],\n",
       "       [38.99360695]])"
      ]
     },
     "execution_count": 63,
     "metadata": {},
     "output_type": "execute_result"
    }
   ],
   "source": [
    "ui_train"
   ]
  },
  {
   "cell_type": "code",
   "execution_count": 64,
   "id": "4d51a483-bfe5-4cc6-a31f-813cb83d5540",
   "metadata": {},
   "outputs": [],
   "source": [
    "width_train = ui_train - li_train\n",
    "avg_width_train = width_train.mean(0)[0]"
   ]
  },
  {
   "cell_type": "code",
   "execution_count": 65,
   "id": "37b163bb-b24c-4af2-8f2b-19c78eb24ff9",
   "metadata": {},
   "outputs": [
    {
     "data": {
      "text/plain": [
       "20.53565057686397"
      ]
     },
     "execution_count": 65,
     "metadata": {},
     "output_type": "execute_result"
    }
   ],
   "source": [
    "avg_width_train"
   ]
  },
  {
   "cell_type": "code",
   "execution_count": 66,
   "id": "46d652b2-05be-44f9-bf0d-3ff69ad25fed",
   "metadata": {},
   "outputs": [],
   "source": [
    "y_traina = block_0104_true_and_forecasted_values_df[[\"True_count\"]].values"
   ]
  },
  {
   "cell_type": "code",
   "execution_count": 67,
   "id": "053c0783-3289-4068-9999-948c0f985fa1",
   "metadata": {},
   "outputs": [
    {
     "data": {
      "text/plain": [
       "array([[32.99999993],\n",
       "       [29.99999992],\n",
       "       [39.00000114],\n",
       "       [39.9999999 ],\n",
       "       [40.99881042],\n",
       "       [42.16900878],\n",
       "       [30.00531684]])"
      ]
     },
     "execution_count": 67,
     "metadata": {},
     "output_type": "execute_result"
    }
   ],
   "source": [
    "y_traina"
   ]
  },
  {
   "cell_type": "code",
   "execution_count": 68,
   "id": "5f1ba54d-0aca-494d-b741-b2cd6d00fcb3",
   "metadata": {},
   "outputs": [],
   "source": [
    "ind_train = (y_traina >= li_train) & (y_traina <= ui_train)\n",
    "coverage_train= ind_train.mean(0)[0]"
   ]
  },
  {
   "cell_type": "code",
   "execution_count": 69,
   "id": "66d5a7c9-0400-4f6f-9221-9cb9c7860d3c",
   "metadata": {},
   "outputs": [
    {
     "data": {
      "text/plain": [
       "0.7142857142857143"
      ]
     },
     "execution_count": 69,
     "metadata": {},
     "output_type": "execute_result"
    }
   ],
   "source": [
    "coverage_train"
   ]
  },
  {
   "cell_type": "code",
   "execution_count": 70,
   "id": "ce86b870-01cf-4e10-904b-ef2396d2dc47",
   "metadata": {},
   "outputs": [
    {
     "data": {
      "text/plain": [
       "array([29.53146 , 29.504856, 30.581106, 27.891165, 24.564396, 30.5189  ,\n",
       "       28.119635], dtype=float32)"
      ]
     },
     "execution_count": 70,
     "metadata": {},
     "output_type": "execute_result"
    }
   ],
   "source": [
    "np.mean(output, axis = 0)"
   ]
  },
  {
   "cell_type": "code",
   "execution_count": 71,
   "id": "311beb4f-6347-407c-af9b-bfe285361098",
   "metadata": {},
   "outputs": [
    {
     "data": {
      "text/plain": [
       "0    23.604889\n",
       "1    24.514601\n",
       "2    25.776722\n",
       "3    21.536203\n",
       "4    17.825255\n",
       "5    24.983249\n",
       "6    21.932268\n",
       "dtype: float64"
      ]
     },
     "execution_count": 71,
     "metadata": {},
     "output_type": "execute_result"
    }
   ],
   "source": [
    "sum_forecasted_values"
   ]
  },
  {
   "cell_type": "code",
   "execution_count": 72,
   "id": "0f94ff2b-6606-477b-a3a7-c3841f436c56",
   "metadata": {},
   "outputs": [
    {
     "data": {
      "image/png": "[encoded data removed]",
      "text/plain": [
       "<Figure size 640x480 with 1 Axes>"
      ]
     },
     "metadata": {},
     "output_type": "display_data"
    }
   ],
   "source": [
    "plt.scatter(block_0104_true_and_forecasted_values_df['True_count'], block_0104_true_and_forecasted_values_df['Forecasted_count'])\n",
    "plt.xlabel(\"True density\")\n",
    "plt.ylabel(\"Predicted density\")\n",
    "# Add the y = x line\n",
    "plt.plot([22, 45], [22, 45], color='green', label='y = x')\n",
    "plt.legend()\n",
    "plt.show()"
   ]
  },
  {
   "cell_type": "code",
   "execution_count": 73,
   "id": "04aa778d-3203-493f-a8d5-6c42cd0c540a",
   "metadata": {},
   "outputs": [
    {
     "data": {
      "image/png": "[encoded data removed]",
      "text/plain": [
       "<Figure size 1500x2000 with 8 Axes>"
      ]
     },
     "metadata": {},
     "output_type": "display_data"
    },
    {
     "name": "stdout",
     "output_type": "stream",
     "text": [
      "CPU times: user 32.1 s, sys: 984 ms, total: 33.1 s\n",
      "Wall time: 32.8 s\n"
     ]
    }
   ],
   "source": [
    "%%time\n",
    "# Create a 2x4 grid of subplots (total 8 plots, the last one will be left empty)\n",
    "fig, axes = plt.subplots(4, 2, figsize=(15,20))\n",
    "axes = axes.flatten() \n",
    "\n",
    "# widths plots\n",
    "for i in range(7):\n",
    "    timestep_i_subwindows = []\n",
    "    for y, file in enumerate(loaded_npy_files):\n",
    "        t_i_forecast = file[:,i]\n",
    "        # print the shape of the extracted array\n",
    "        # print(t_i_forecast.shape)\n",
    "        timestep_i_subwindows.append(t_i_forecast)\n",
    "    stacked_forecasts = np.stack(timestep_i_subwindows)\n",
    "    stacked_forecasts[stacked_forecasts<0] = 0\n",
    "    sorted_stacked_forecasts = np.sort(stacked_forecasts, axis = 1)\n",
    "    # get the values between the 2.5th and 97.5th percentile?\n",
    "    sorted_interval_data = sorted_stacked_forecasts[:,25:975]\n",
    "\n",
    "    # Plot for the current 2D array\n",
    "    for l, row in enumerate(sorted_interval_data):\n",
    "        axes[i].plot([l + 1] * len(row), row, 'o', markersize=1, color='teal', label='Distribution of forecasted values' if l == 0 else \"\")\n",
    "    \n",
    "    true_counts = exp_true.iloc[i,:].values\n",
    "\n",
    "    # # Overlay the 1D array values\n",
    "    axes[i].plot(np.arange(1, 911), true_counts, 'o', markersize=1, color='red', label='True density')\n",
    "    \n",
    "    # Customize x-ticks and labels\n",
    "    axes[i].set_xticks(np.arange(1, 911))\n",
    "    # axes[i].set_xticklabels([f'sub_window_{zz + 1}' for zz in range(910)], rotation=90, fontsize=13)\n",
    "    axes[i].set_xlabel(\"Sub windows\", fontsize=12, fontweight='bold')\n",
    "    axes[i].set_ylabel(\"Forecasted and true densities\", fontsize=12, fontweight='bold')\n",
    "    axes[i].set_title(f\"Test image {i + 1}\", fontsize=12, fontweight='bold')\n",
    "    axes[i].legend()\n",
    "\n",
    "\n",
    "# Hide the last (empty) subplot\n",
    "axes[-1].set_visible(False)\n",
    "\n",
    "# Adjust layout\n",
    "plt.tight_layout()\n",
    "\n",
    "# # Save the figure as a PDF file\n",
    "# plt.savefig(\"Previous_data/Forecasted_distributions_blk13.pdf\", format='pdf', bbox_inches='tight')\n",
    "plt.show()\n",
    "\n"
   ]
  },
  {
   "cell_type": "code",
   "execution_count": 74,
   "id": "b51d6a01-5c7a-4e37-be12-776053974e4d",
   "metadata": {},
   "outputs": [],
   "source": [
    "# plots are going to be too over-crowded as we now have 910 subwindows - might beed to talk to Dr. Ghosh to figure out a better way to give these plots"
   ]
  },
  {
   "cell_type": "code",
   "execution_count": 75,
   "id": "c278c7bc-eced-4cbb-ab5c-b5156fe33612",
   "metadata": {},
   "outputs": [],
   "source": [
    "# we may need to re-think about the way the average forecasts were computed. Maybe get the average after exponentiating than averaging all values to a single value and then exponentiating? this would be a few lines of codes - but may be a better way to get the forecated density values? "
   ]
  }
 ],
 "metadata": {
  "kernelspec": {
   "display_name": "Python (tfp_cpu_env)",
   "language": "python",
   "name": "tfp_cpu_env"
  },
  "language_info": {
   "codemirror_mode": {
    "name": "ipython",
    "version": 3
   },
   "file_extension": ".py",
   "mimetype": "text/x-python",
   "name": "python",
   "nbconvert_exporter": "python",
   "pygments_lexer": "ipython3",
   "version": "3.11.7"
  }
 },
 "nbformat": 4,
 "nbformat_minor": 5
}
