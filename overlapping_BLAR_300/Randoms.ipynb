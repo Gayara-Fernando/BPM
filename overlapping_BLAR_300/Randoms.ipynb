{
 "cells": [
  {
   "cell_type": "code",
   "execution_count": 1,
   "id": "0d70f875-7d4a-4370-8549-44ae64774ec7",
   "metadata": {},
   "outputs": [],
   "source": [
    "import numpy as np\n",
    "import os"
   ]
  },
  {
   "cell_type": "code",
   "execution_count": 2,
   "id": "141b4a35-19a0-44d2-b8c7-0019be7a1931",
   "metadata": {},
   "outputs": [],
   "source": [
    "# check the shape of the previously stored predicted values for stage 2 (Preprocesseing inputs for BLAR)\n",
    "chosen_path = '../overlapping_BLAR/data/predicted_sequences_from_stage_1/'"
   ]
  },
  {
   "cell_type": "code",
   "execution_count": 6,
   "id": "99e687ec-d70c-4e3e-887b-6f7912bd29f2",
   "metadata": {},
   "outputs": [
    {
     "data": {
      "text/plain": [
       "['pred_values_blk_0103.npy',\n",
       " 'pred_values_blk_0104.npy',\n",
       " 'pred_values_blk_0105.npy',\n",
       " 'pred_values_blk_0106.npy',\n",
       " 'pred_values_blk_0201.npy',\n",
       " 'pred_values_blk_0202.npy',\n",
       " 'pred_values_blk_0205.npy',\n",
       " 'pred_values_blk_0206.npy',\n",
       " 'pred_values_blk_0302.npy',\n",
       " 'pred_values_blk_0303.npy',\n",
       " 'pred_values_blk_0304.npy',\n",
       " 'pred_values_blk_0305.npy',\n",
       " 'pred_values_blk_0306.npy']"
      ]
     },
     "execution_count": 6,
     "metadata": {},
     "output_type": "execute_result"
    }
   ],
   "source": [
    "contents_here = os.listdir(chosen_path)\n",
    "contents_here.sort()\n",
    "contents_here"
   ]
  },
  {
   "cell_type": "code",
   "execution_count": 8,
   "id": "5c10ef6b-7456-4778-b0fd-4df08f2420ec",
   "metadata": {},
   "outputs": [],
   "source": [
    "# load one file and chak the shape?\n",
    "trial_file = np.load(os.path.join(chosen_path, contents_here[0]))"
   ]
  },
  {
   "cell_type": "code",
   "execution_count": 9,
   "id": "79d32f14-d484-4008-b139-f5ecf3293350",
   "metadata": {},
   "outputs": [
    {
     "data": {
      "text/plain": [
       "(3072, 7, 32)"
      ]
     },
     "execution_count": 9,
     "metadata": {},
     "output_type": "execute_result"
    }
   ],
   "source": [
    "trial_file.shape"
   ]
  },
  {
   "cell_type": "code",
   "execution_count": 10,
   "id": "676bd767-2389-4d78-b68a-bd2b94d25041",
   "metadata": {},
   "outputs": [],
   "source": [
    "# now try the shapes of the new extracted features for the 300 overlapping sub-window experiment"
   ]
  },
  {
   "cell_type": "code",
   "execution_count": 13,
   "id": "11475b08-b894-41ef-9627-2e3ae7835df0",
   "metadata": {},
   "outputs": [],
   "source": [
    "# check the shape of the previously stored predicted values for stage 2 (Preprocesseing inputs for BLAR)\n",
    "chosen_path_now = 'data/predicted_sequences_from_stage_1/'"
   ]
  },
  {
   "cell_type": "code",
   "execution_count": 14,
   "id": "341a45c6-2b86-43d4-93cf-c5880d9f138b",
   "metadata": {},
   "outputs": [
    {
     "data": {
      "text/plain": [
       "['pred_values_blk_0103.npy', 'pred_values_blk_0104.npy']"
      ]
     },
     "execution_count": 14,
     "metadata": {},
     "output_type": "execute_result"
    }
   ],
   "source": [
    "contents_here_now = os.listdir(chosen_path_now)\n",
    "contents_here_now.sort()\n",
    "contents_here_now"
   ]
  },
  {
   "cell_type": "code",
   "execution_count": 15,
   "id": "6ef1bd0e-4144-40dc-a929-087d8a8557e2",
   "metadata": {},
   "outputs": [],
   "source": [
    "# load one file and chak the shape?\n",
    "trial_file_now = np.load(os.path.join(chosen_path_now, contents_here_now[0]))"
   ]
  },
  {
   "cell_type": "code",
   "execution_count": 16,
   "id": "9eb67fc2-7b5c-4821-8ac6-3a0980099064",
   "metadata": {},
   "outputs": [
    {
     "data": {
      "text/plain": [
       "(1376, 7, 32)"
      ]
     },
     "execution_count": 16,
     "metadata": {},
     "output_type": "execute_result"
    }
   ],
   "source": [
    "trial_file_now.shape"
   ]
  },
  {
   "cell_type": "code",
   "execution_count": 17,
   "id": "78bb2904-b1db-427d-82b9-f29fb0d7a766",
   "metadata": {},
   "outputs": [],
   "source": [
    "# Okay, I think we have the predicted arrays in the required shape for the next exercise"
   ]
  },
  {
   "cell_type": "markdown",
   "id": "f02e0dfa-8f43-4d6f-ae49-ce4b9685a5be",
   "metadata": {},
   "source": [
    "Block 0301"
   ]
  },
  {
   "cell_type": "code",
   "execution_count": 5,
   "id": "bdd5eeb4-5dc6-4f05-8c72-81ffa411474d",
   "metadata": {},
   "outputs": [
    {
     "data": {
      "text/plain": [
       "74"
      ]
     },
     "execution_count": 5,
     "metadata": {},
     "output_type": "execute_result"
    }
   ],
   "source": [
    "4+7+4+3+5+8+12+7+4+1+4+4+5+2+1+3"
   ]
  },
  {
   "cell_type": "code",
   "execution_count": 6,
   "id": "77360c41-fb4b-43f8-aaec-3d703485852e",
   "metadata": {},
   "outputs": [
    {
     "data": {
      "text/plain": [
       "141"
      ]
     },
     "execution_count": 6,
     "metadata": {},
     "output_type": "execute_result"
    }
   ],
   "source": [
    "4+4+5+1+2+5+8+10+10+6+11+4+13+4+2+13+21+4+14"
   ]
  },
  {
   "cell_type": "code",
   "execution_count": 3,
   "id": "ad55a0a6-0bec-4dc3-b033-0a84ddac54ef",
   "metadata": {},
   "outputs": [
    {
     "data": {
      "text/plain": [
       "125"
      ]
     },
     "execution_count": 3,
     "metadata": {},
     "output_type": "execute_result"
    }
   ],
   "source": [
    "2+13+18+3+12+6+3+4+10+1+16+12+18+7"
   ]
  },
  {
   "cell_type": "code",
   "execution_count": 7,
   "id": "cec2785c-b2dc-4e26-a310-7162847d1d5c",
   "metadata": {},
   "outputs": [
    {
     "data": {
      "text/plain": [
       "340"
      ]
     },
     "execution_count": 7,
     "metadata": {},
     "output_type": "execute_result"
    }
   ],
   "source": [
    "125+141+74"
   ]
  },
  {
   "cell_type": "markdown",
   "id": "34fa3ec1-050f-43a7-8264-0819cbfd69b4",
   "metadata": {},
   "source": [
    "Block 0104"
   ]
  },
  {
   "cell_type": "code",
   "execution_count": 9,
   "id": "2004b028-6c03-4e7d-bab9-1ed64b20ee26",
   "metadata": {},
   "outputs": [
    {
     "data": {
      "text/plain": [
       "176"
      ]
     },
     "execution_count": 9,
     "metadata": {},
     "output_type": "execute_result"
    }
   ],
   "source": [
    "1+2+5+7+9+9+7+6+4+3+7+9+8+6+6+2+6+1+6+4+2+2+4+3+2+8+6+4+5+3+11+5+3+6+4"
   ]
  },
  {
   "cell_type": "markdown",
   "id": "a5a3bed1-64d1-4e90-a9ef-ef4cc9b77cc9",
   "metadata": {},
   "source": [
    "Block 0106"
   ]
  },
  {
   "cell_type": "code",
   "execution_count": 13,
   "id": "9e1498f3-93b2-4e24-9368-39022d42fdbe",
   "metadata": {},
   "outputs": [
    {
     "data": {
      "text/plain": [
       "109"
      ]
     },
     "execution_count": 13,
     "metadata": {},
     "output_type": "execute_result"
    }
   ],
   "source": [
    "11+3+3+2+2+3+2+1+2+3+2+2+8+14+1+9+11+11+11+3+4+1"
   ]
  },
  {
   "cell_type": "code",
   "execution_count": 14,
   "id": "05c62105-6931-461a-b1e2-fe59d81024cb",
   "metadata": {},
   "outputs": [
    {
     "data": {
      "text/plain": [
       "83"
      ]
     },
     "execution_count": 14,
     "metadata": {},
     "output_type": "execute_result"
    }
   ],
   "source": [
    "4+2+7+2+3+2+1+6+1+6+3+4+3+3+4+1+5+2+4+2+4+5+9"
   ]
  },
  {
   "cell_type": "code",
   "execution_count": 15,
   "id": "1581d7fd-ef5b-464a-b743-54f1cbddbf5c",
   "metadata": {},
   "outputs": [
    {
     "data": {
      "text/plain": [
       "192"
      ]
     },
     "execution_count": 15,
     "metadata": {},
     "output_type": "execute_result"
    }
   ],
   "source": [
    "109 + 83"
   ]
  },
  {
   "cell_type": "markdown",
   "id": "cbb7c144-908c-40c8-b6c8-2fc27a78ee5f",
   "metadata": {},
   "source": [
    "Block 0201"
   ]
  },
  {
   "cell_type": "code",
   "execution_count": 19,
   "id": "a536a362-77f2-4136-9769-70d7ec66d166",
   "metadata": {},
   "outputs": [
    {
     "data": {
      "text/plain": [
       "95"
      ]
     },
     "execution_count": 19,
     "metadata": {},
     "output_type": "execute_result"
    }
   ],
   "source": [
    "4+7+3+2+6+7+2+10+4+9+4+3+9+7+7+9+2"
   ]
  },
  {
   "cell_type": "code",
   "execution_count": 17,
   "id": "b5efc65d-7e40-468c-9d69-c254474e1f50",
   "metadata": {},
   "outputs": [
    {
     "data": {
      "text/plain": [
       "104"
      ]
     },
     "execution_count": 17,
     "metadata": {},
     "output_type": "execute_result"
    }
   ],
   "source": [
    "17+2+18+2+15+2+5+11+1+5+7+7+9+3"
   ]
  },
  {
   "cell_type": "code",
   "execution_count": 20,
   "id": "4b14d94e-8910-4828-952d-aed64bb3c260",
   "metadata": {},
   "outputs": [
    {
     "data": {
      "text/plain": [
       "199"
      ]
     },
     "execution_count": 20,
     "metadata": {},
     "output_type": "execute_result"
    }
   ],
   "source": [
    "104+95"
   ]
  }
 ],
 "metadata": {
  "kernelspec": {
   "display_name": "Python 3 (ipykernel)",
   "language": "python",
   "name": "python3"
  },
  "language_info": {
   "codemirror_mode": {
    "name": "ipython",
    "version": 3
   },
   "file_extension": ".py",
   "mimetype": "text/x-python",
   "name": "python",
   "nbconvert_exporter": "python",
   "pygments_lexer": "ipython3",
   "version": "3.9.22"
  }
 },
 "nbformat": 4,
 "nbformat_minor": 5
}
