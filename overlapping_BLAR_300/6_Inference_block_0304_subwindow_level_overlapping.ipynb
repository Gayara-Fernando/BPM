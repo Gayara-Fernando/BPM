{
 "cells": [
  {
   "cell_type": "code",
   "execution_count": 1,
   "id": "658db0bc-89f4-467b-831b-554c08cb3eeb",
   "metadata": {},
   "outputs": [],
   "source": [
    "# Okay, let's get the proper transformations, and also get all the predictions on a subwindow scale - Later as a proof of concept, we will separate the sequences with densities all zero and see how the predicted densities look like."
   ]
  },
  {
   "cell_type": "code",
   "execution_count": 2,
   "id": "53cabc2a-d2b8-4e33-84a0-6c8f552caf3f",
   "metadata": {},
   "outputs": [],
   "source": [
    "import pandas as pd\n",
    "import numpy as np\n",
    "import matplotlib.pyplot as plt \n",
    "import os\n",
    "from sklearn.metrics import mean_absolute_error, mean_squared_error, r2_score\n",
    "from scipy.stats import pearsonr"
   ]
  },
  {
   "cell_type": "code",
   "execution_count": 3,
   "id": "60a1f5b1-2e15-471d-a379-057566c05ccc",
   "metadata": {},
   "outputs": [],
   "source": [
    "# path to dataframes\n",
    "path_to_dfs = \"data/BLAR_implementation/Block_0304/forecasted_counts\""
   ]
  },
  {
   "cell_type": "code",
   "execution_count": 4,
   "id": "ae71026b-360c-485d-8741-1766c956efd6",
   "metadata": {},
   "outputs": [
    {
     "data": {
      "text/plain": [
       "9632"
      ]
     },
     "execution_count": 4,
     "metadata": {},
     "output_type": "execute_result"
    }
   ],
   "source": [
    "len(os.listdir(path_to_dfs))"
   ]
  },
  {
   "cell_type": "code",
   "execution_count": 5,
   "id": "3b23384f-6325-4bc2-9700-240572b13745",
   "metadata": {},
   "outputs": [
    {
     "data": {
      "text/plain": [
       "7.0"
      ]
     },
     "execution_count": 5,
     "metadata": {},
     "output_type": "execute_result"
    }
   ],
   "source": [
    "len(os.listdir(path_to_dfs)) / 1376"
   ]
  },
  {
   "cell_type": "code",
   "execution_count": 6,
   "id": "90d27344-d686-4672-9b01-ded72e5f24a8",
   "metadata": {},
   "outputs": [],
   "source": [
    "averaged_forecasts_csvs = []\n",
    "for file in os.listdir(path_to_dfs):\n",
    "    if file[:8] =='averaged':\n",
    "        averaged_forecasts_csvs.append(file)"
   ]
  },
  {
   "cell_type": "code",
   "execution_count": 7,
   "id": "fabd37ca-e1da-430a-b23a-4905d0247f9b",
   "metadata": {},
   "outputs": [
    {
     "data": {
      "text/plain": [
       "1376"
      ]
     },
     "execution_count": 7,
     "metadata": {},
     "output_type": "execute_result"
    }
   ],
   "source": [
    "# how many csv files do we have?\n",
    "len(averaged_forecasts_csvs)"
   ]
  },
  {
   "cell_type": "code",
   "execution_count": 8,
   "id": "8c0af51f-8022-4186-b027-75dcbac9ab4c",
   "metadata": {},
   "outputs": [
    {
     "data": {
      "text/plain": [
       "'averaged_forecasts_sub_986.csv'"
      ]
     },
     "execution_count": 8,
     "metadata": {},
     "output_type": "execute_result"
    }
   ],
   "source": [
    "averaged_forecasts_csvs[0]"
   ]
  },
  {
   "cell_type": "code",
   "execution_count": 9,
   "id": "cf8d93c8-36d8-49d2-a213-2259381d61c0",
   "metadata": {},
   "outputs": [],
   "source": [
    "# let's create these names in the order of the subwindows\n",
    "ordered_csv_files = ['averaged_forecasts_sub_' + str(i) + '.csv' for i in range(1376)]"
   ]
  },
  {
   "cell_type": "code",
   "execution_count": 10,
   "id": "3d7f4c02-45fa-4004-ae11-fdb0ebeb01ab",
   "metadata": {},
   "outputs": [],
   "source": [
    "# ordered_csv_files"
   ]
  },
  {
   "cell_type": "code",
   "execution_count": 11,
   "id": "bbdf82b7-cc66-4bc5-9a7a-a7c0bbe72881",
   "metadata": {},
   "outputs": [
    {
     "name": "stdout",
     "output_type": "stream",
     "text": [
      "CPU times: user 2.17 s, sys: 494 ms, total: 2.67 s\n",
      "Wall time: 33.9 s\n"
     ]
    }
   ],
   "source": [
    "%%time\n",
    "all_dfs = []\n",
    "for file in ordered_csv_files:\n",
    "    read_df = pd.read_csv(path_to_dfs + '/' + file)\n",
    "    all_dfs.append(read_df)"
   ]
  },
  {
   "cell_type": "code",
   "execution_count": 12,
   "id": "21c0f3b6-00be-4459-a845-b536a3b5999e",
   "metadata": {},
   "outputs": [],
   "source": [
    "# make a single dataframe out of the many\n",
    "combined_df = pd.concat(all_dfs, axis = 1)"
   ]
  },
  {
   "cell_type": "code",
   "execution_count": 13,
   "id": "c827d724-6545-4056-a577-c1714a322ed6",
   "metadata": {},
   "outputs": [
    {
     "data": {
      "text/html": [
       "<div>\n",
       "<style scoped>\n",
       "    .dataframe tbody tr th:only-of-type {\n",
       "        vertical-align: middle;\n",
       "    }\n",
       "\n",
       "    .dataframe tbody tr th {\n",
       "        vertical-align: top;\n",
       "    }\n",
       "\n",
       "    .dataframe thead th {\n",
       "        text-align: right;\n",
       "    }\n",
       "</style>\n",
       "<table border=\"1\" class=\"dataframe\">\n",
       "  <thead>\n",
       "    <tr style=\"text-align: right;\">\n",
       "      <th></th>\n",
       "      <th>True_value</th>\n",
       "      <th>Forecasted_value</th>\n",
       "      <th>True_value</th>\n",
       "      <th>Forecasted_value</th>\n",
       "      <th>True_value</th>\n",
       "      <th>Forecasted_value</th>\n",
       "      <th>True_value</th>\n",
       "      <th>Forecasted_value</th>\n",
       "      <th>True_value</th>\n",
       "      <th>Forecasted_value</th>\n",
       "      <th>...</th>\n",
       "      <th>True_value</th>\n",
       "      <th>Forecasted_value</th>\n",
       "      <th>True_value</th>\n",
       "      <th>Forecasted_value</th>\n",
       "      <th>True_value</th>\n",
       "      <th>Forecasted_value</th>\n",
       "      <th>True_value</th>\n",
       "      <th>Forecasted_value</th>\n",
       "      <th>True_value</th>\n",
       "      <th>Forecasted_value</th>\n",
       "    </tr>\n",
       "  </thead>\n",
       "  <tbody>\n",
       "    <tr>\n",
       "      <th>0</th>\n",
       "      <td>1.662732</td>\n",
       "      <td>1.811935</td>\n",
       "      <td>1.662732</td>\n",
       "      <td>1.807860</td>\n",
       "      <td>1.662732</td>\n",
       "      <td>1.787212</td>\n",
       "      <td>1.662762</td>\n",
       "      <td>1.937285</td>\n",
       "      <td>1.907915</td>\n",
       "      <td>2.042148</td>\n",
       "      <td>...</td>\n",
       "      <td>0.0</td>\n",
       "      <td>0.027530</td>\n",
       "      <td>0.0</td>\n",
       "      <td>0.081697</td>\n",
       "      <td>0.0</td>\n",
       "      <td>0.032809</td>\n",
       "      <td>0.0</td>\n",
       "      <td>0.006064</td>\n",
       "      <td>0.0</td>\n",
       "      <td>0.029143</td>\n",
       "    </tr>\n",
       "    <tr>\n",
       "      <th>1</th>\n",
       "      <td>1.613938</td>\n",
       "      <td>1.860074</td>\n",
       "      <td>1.613938</td>\n",
       "      <td>1.856415</td>\n",
       "      <td>1.613938</td>\n",
       "      <td>1.844156</td>\n",
       "      <td>1.641008</td>\n",
       "      <td>1.959797</td>\n",
       "      <td>2.075213</td>\n",
       "      <td>2.049094</td>\n",
       "      <td>...</td>\n",
       "      <td>0.0</td>\n",
       "      <td>0.007979</td>\n",
       "      <td>0.0</td>\n",
       "      <td>0.011234</td>\n",
       "      <td>0.0</td>\n",
       "      <td>-0.019253</td>\n",
       "      <td>0.0</td>\n",
       "      <td>-0.019590</td>\n",
       "      <td>0.0</td>\n",
       "      <td>-0.025917</td>\n",
       "    </tr>\n",
       "    <tr>\n",
       "      <th>2</th>\n",
       "      <td>1.791785</td>\n",
       "      <td>1.920664</td>\n",
       "      <td>1.791785</td>\n",
       "      <td>1.906883</td>\n",
       "      <td>1.791785</td>\n",
       "      <td>1.861675</td>\n",
       "      <td>1.791898</td>\n",
       "      <td>2.012503</td>\n",
       "      <td>1.939288</td>\n",
       "      <td>2.069557</td>\n",
       "      <td>...</td>\n",
       "      <td>0.0</td>\n",
       "      <td>0.009540</td>\n",
       "      <td>0.0</td>\n",
       "      <td>0.009377</td>\n",
       "      <td>0.0</td>\n",
       "      <td>0.002216</td>\n",
       "      <td>0.0</td>\n",
       "      <td>-0.005503</td>\n",
       "      <td>0.0</td>\n",
       "      <td>-0.023231</td>\n",
       "    </tr>\n",
       "    <tr>\n",
       "      <th>3</th>\n",
       "      <td>1.598486</td>\n",
       "      <td>1.800246</td>\n",
       "      <td>1.609438</td>\n",
       "      <td>1.825484</td>\n",
       "      <td>1.611057</td>\n",
       "      <td>1.921220</td>\n",
       "      <td>1.870555</td>\n",
       "      <td>1.898419</td>\n",
       "      <td>1.957323</td>\n",
       "      <td>2.012661</td>\n",
       "      <td>...</td>\n",
       "      <td>0.0</td>\n",
       "      <td>-0.012296</td>\n",
       "      <td>0.0</td>\n",
       "      <td>0.004196</td>\n",
       "      <td>0.0</td>\n",
       "      <td>-0.013009</td>\n",
       "      <td>0.0</td>\n",
       "      <td>-0.004996</td>\n",
       "      <td>0.0</td>\n",
       "      <td>0.013751</td>\n",
       "    </tr>\n",
       "    <tr>\n",
       "      <th>4</th>\n",
       "      <td>1.792174</td>\n",
       "      <td>1.823567</td>\n",
       "      <td>1.792179</td>\n",
       "      <td>1.827768</td>\n",
       "      <td>1.792179</td>\n",
       "      <td>1.896517</td>\n",
       "      <td>1.872189</td>\n",
       "      <td>1.930195</td>\n",
       "      <td>1.994415</td>\n",
       "      <td>2.044178</td>\n",
       "      <td>...</td>\n",
       "      <td>0.0</td>\n",
       "      <td>0.003208</td>\n",
       "      <td>0.0</td>\n",
       "      <td>0.002591</td>\n",
       "      <td>0.0</td>\n",
       "      <td>-0.005574</td>\n",
       "      <td>0.0</td>\n",
       "      <td>-0.000503</td>\n",
       "      <td>0.0</td>\n",
       "      <td>0.011592</td>\n",
       "    </tr>\n",
       "  </tbody>\n",
       "</table>\n",
       "<p>5 rows × 2752 columns</p>\n",
       "</div>"
      ],
      "text/plain": [
       "   True_value  Forecasted_value  True_value  Forecasted_value  True_value  \\\n",
       "0    1.662732          1.811935    1.662732          1.807860    1.662732   \n",
       "1    1.613938          1.860074    1.613938          1.856415    1.613938   \n",
       "2    1.791785          1.920664    1.791785          1.906883    1.791785   \n",
       "3    1.598486          1.800246    1.609438          1.825484    1.611057   \n",
       "4    1.792174          1.823567    1.792179          1.827768    1.792179   \n",
       "\n",
       "   Forecasted_value  True_value  Forecasted_value  True_value  \\\n",
       "0          1.787212    1.662762          1.937285    1.907915   \n",
       "1          1.844156    1.641008          1.959797    2.075213   \n",
       "2          1.861675    1.791898          2.012503    1.939288   \n",
       "3          1.921220    1.870555          1.898419    1.957323   \n",
       "4          1.896517    1.872189          1.930195    1.994415   \n",
       "\n",
       "   Forecasted_value  ...  True_value  Forecasted_value  True_value  \\\n",
       "0          2.042148  ...         0.0          0.027530         0.0   \n",
       "1          2.049094  ...         0.0          0.007979         0.0   \n",
       "2          2.069557  ...         0.0          0.009540         0.0   \n",
       "3          2.012661  ...         0.0         -0.012296         0.0   \n",
       "4          2.044178  ...         0.0          0.003208         0.0   \n",
       "\n",
       "   Forecasted_value  True_value  Forecasted_value  True_value  \\\n",
       "0          0.081697         0.0          0.032809         0.0   \n",
       "1          0.011234         0.0         -0.019253         0.0   \n",
       "2          0.009377         0.0          0.002216         0.0   \n",
       "3          0.004196         0.0         -0.013009         0.0   \n",
       "4          0.002591         0.0         -0.005574         0.0   \n",
       "\n",
       "   Forecasted_value  True_value  Forecasted_value  \n",
       "0          0.006064         0.0          0.029143  \n",
       "1         -0.019590         0.0         -0.025917  \n",
       "2         -0.005503         0.0         -0.023231  \n",
       "3         -0.004996         0.0          0.013751  \n",
       "4         -0.000503         0.0          0.011592  \n",
       "\n",
       "[5 rows x 2752 columns]"
      ]
     },
     "execution_count": 13,
     "metadata": {},
     "output_type": "execute_result"
    }
   ],
   "source": [
    "combined_df.head()"
   ]
  },
  {
   "cell_type": "code",
   "execution_count": 14,
   "id": "be1c39bd-5454-46e6-a8fe-128a599ac086",
   "metadata": {},
   "outputs": [
    {
     "data": {
      "text/plain": [
       "(7, 2752)"
      ]
     },
     "execution_count": 14,
     "metadata": {},
     "output_type": "execute_result"
    }
   ],
   "source": [
    "combined_df.shape"
   ]
  },
  {
   "cell_type": "code",
   "execution_count": 15,
   "id": "f04174fe-3b90-4194-b682-57d3cd98b188",
   "metadata": {},
   "outputs": [],
   "source": [
    "# get the true values\n",
    "True_values_df = combined_df[['True_value']]"
   ]
  },
  {
   "cell_type": "code",
   "execution_count": 16,
   "id": "5e749e0d-ac2f-46ac-93a2-cfaa1a32f4e0",
   "metadata": {},
   "outputs": [
    {
     "data": {
      "text/html": [
       "<div>\n",
       "<style scoped>\n",
       "    .dataframe tbody tr th:only-of-type {\n",
       "        vertical-align: middle;\n",
       "    }\n",
       "\n",
       "    .dataframe tbody tr th {\n",
       "        vertical-align: top;\n",
       "    }\n",
       "\n",
       "    .dataframe thead th {\n",
       "        text-align: right;\n",
       "    }\n",
       "</style>\n",
       "<table border=\"1\" class=\"dataframe\">\n",
       "  <thead>\n",
       "    <tr style=\"text-align: right;\">\n",
       "      <th></th>\n",
       "      <th>True_value</th>\n",
       "      <th>True_value</th>\n",
       "      <th>True_value</th>\n",
       "      <th>True_value</th>\n",
       "      <th>True_value</th>\n",
       "      <th>True_value</th>\n",
       "      <th>True_value</th>\n",
       "      <th>True_value</th>\n",
       "      <th>True_value</th>\n",
       "      <th>True_value</th>\n",
       "      <th>...</th>\n",
       "      <th>True_value</th>\n",
       "      <th>True_value</th>\n",
       "      <th>True_value</th>\n",
       "      <th>True_value</th>\n",
       "      <th>True_value</th>\n",
       "      <th>True_value</th>\n",
       "      <th>True_value</th>\n",
       "      <th>True_value</th>\n",
       "      <th>True_value</th>\n",
       "      <th>True_value</th>\n",
       "    </tr>\n",
       "  </thead>\n",
       "  <tbody>\n",
       "    <tr>\n",
       "      <th>0</th>\n",
       "      <td>1.662732</td>\n",
       "      <td>1.662732</td>\n",
       "      <td>1.662732</td>\n",
       "      <td>1.662762</td>\n",
       "      <td>1.907915</td>\n",
       "      <td>2.153328</td>\n",
       "      <td>1.944139</td>\n",
       "      <td>1.792526</td>\n",
       "      <td>1.791759</td>\n",
       "      <td>1.787994</td>\n",
       "      <td>...</td>\n",
       "      <td>0.000000</td>\n",
       "      <td>0.000000</td>\n",
       "      <td>0.000000</td>\n",
       "      <td>0.000000</td>\n",
       "      <td>0.00000</td>\n",
       "      <td>0.0</td>\n",
       "      <td>0.0</td>\n",
       "      <td>0.0</td>\n",
       "      <td>0.0</td>\n",
       "      <td>0.0</td>\n",
       "    </tr>\n",
       "    <tr>\n",
       "      <th>1</th>\n",
       "      <td>1.613938</td>\n",
       "      <td>1.613938</td>\n",
       "      <td>1.613938</td>\n",
       "      <td>1.641008</td>\n",
       "      <td>2.075213</td>\n",
       "      <td>2.252282</td>\n",
       "      <td>2.158338</td>\n",
       "      <td>1.983151</td>\n",
       "      <td>1.793108</td>\n",
       "      <td>1.791759</td>\n",
       "      <td>...</td>\n",
       "      <td>0.682860</td>\n",
       "      <td>0.682860</td>\n",
       "      <td>0.682860</td>\n",
       "      <td>0.655542</td>\n",
       "      <td>0.00066</td>\n",
       "      <td>0.0</td>\n",
       "      <td>0.0</td>\n",
       "      <td>0.0</td>\n",
       "      <td>0.0</td>\n",
       "      <td>0.0</td>\n",
       "    </tr>\n",
       "    <tr>\n",
       "      <th>2</th>\n",
       "      <td>1.791785</td>\n",
       "      <td>1.791785</td>\n",
       "      <td>1.791785</td>\n",
       "      <td>1.791898</td>\n",
       "      <td>1.939288</td>\n",
       "      <td>2.144746</td>\n",
       "      <td>2.156442</td>\n",
       "      <td>1.946568</td>\n",
       "      <td>1.945910</td>\n",
       "      <td>1.945910</td>\n",
       "      <td>...</td>\n",
       "      <td>0.000000</td>\n",
       "      <td>0.000000</td>\n",
       "      <td>0.000000</td>\n",
       "      <td>0.000000</td>\n",
       "      <td>0.00000</td>\n",
       "      <td>0.0</td>\n",
       "      <td>0.0</td>\n",
       "      <td>0.0</td>\n",
       "      <td>0.0</td>\n",
       "      <td>0.0</td>\n",
       "    </tr>\n",
       "    <tr>\n",
       "      <th>3</th>\n",
       "      <td>1.598486</td>\n",
       "      <td>1.609438</td>\n",
       "      <td>1.611057</td>\n",
       "      <td>1.870555</td>\n",
       "      <td>1.957323</td>\n",
       "      <td>2.080838</td>\n",
       "      <td>1.952413</td>\n",
       "      <td>1.794051</td>\n",
       "      <td>1.616675</td>\n",
       "      <td>1.612187</td>\n",
       "      <td>...</td>\n",
       "      <td>0.234233</td>\n",
       "      <td>0.000363</td>\n",
       "      <td>0.000000</td>\n",
       "      <td>0.000000</td>\n",
       "      <td>0.00000</td>\n",
       "      <td>0.0</td>\n",
       "      <td>0.0</td>\n",
       "      <td>0.0</td>\n",
       "      <td>0.0</td>\n",
       "      <td>0.0</td>\n",
       "    </tr>\n",
       "    <tr>\n",
       "      <th>4</th>\n",
       "      <td>1.792174</td>\n",
       "      <td>1.792179</td>\n",
       "      <td>1.792179</td>\n",
       "      <td>1.872189</td>\n",
       "      <td>1.994415</td>\n",
       "      <td>2.192921</td>\n",
       "      <td>2.036946</td>\n",
       "      <td>1.795507</td>\n",
       "      <td>1.791754</td>\n",
       "      <td>1.791754</td>\n",
       "      <td>...</td>\n",
       "      <td>0.053029</td>\n",
       "      <td>0.047093</td>\n",
       "      <td>0.000008</td>\n",
       "      <td>0.000000</td>\n",
       "      <td>0.00000</td>\n",
       "      <td>0.0</td>\n",
       "      <td>0.0</td>\n",
       "      <td>0.0</td>\n",
       "      <td>0.0</td>\n",
       "      <td>0.0</td>\n",
       "    </tr>\n",
       "  </tbody>\n",
       "</table>\n",
       "<p>5 rows × 1376 columns</p>\n",
       "</div>"
      ],
      "text/plain": [
       "   True_value  True_value  True_value  True_value  True_value  True_value  \\\n",
       "0    1.662732    1.662732    1.662732    1.662762    1.907915    2.153328   \n",
       "1    1.613938    1.613938    1.613938    1.641008    2.075213    2.252282   \n",
       "2    1.791785    1.791785    1.791785    1.791898    1.939288    2.144746   \n",
       "3    1.598486    1.609438    1.611057    1.870555    1.957323    2.080838   \n",
       "4    1.792174    1.792179    1.792179    1.872189    1.994415    2.192921   \n",
       "\n",
       "   True_value  True_value  True_value  True_value  ...  True_value  \\\n",
       "0    1.944139    1.792526    1.791759    1.787994  ...    0.000000   \n",
       "1    2.158338    1.983151    1.793108    1.791759  ...    0.682860   \n",
       "2    2.156442    1.946568    1.945910    1.945910  ...    0.000000   \n",
       "3    1.952413    1.794051    1.616675    1.612187  ...    0.234233   \n",
       "4    2.036946    1.795507    1.791754    1.791754  ...    0.053029   \n",
       "\n",
       "   True_value  True_value  True_value  True_value  True_value  True_value  \\\n",
       "0    0.000000    0.000000    0.000000     0.00000         0.0         0.0   \n",
       "1    0.682860    0.682860    0.655542     0.00066         0.0         0.0   \n",
       "2    0.000000    0.000000    0.000000     0.00000         0.0         0.0   \n",
       "3    0.000363    0.000000    0.000000     0.00000         0.0         0.0   \n",
       "4    0.047093    0.000008    0.000000     0.00000         0.0         0.0   \n",
       "\n",
       "   True_value  True_value  True_value  \n",
       "0         0.0         0.0         0.0  \n",
       "1         0.0         0.0         0.0  \n",
       "2         0.0         0.0         0.0  \n",
       "3         0.0         0.0         0.0  \n",
       "4         0.0         0.0         0.0  \n",
       "\n",
       "[5 rows x 1376 columns]"
      ]
     },
     "execution_count": 16,
     "metadata": {},
     "output_type": "execute_result"
    }
   ],
   "source": [
    "True_values_df.head()"
   ]
  },
  {
   "cell_type": "code",
   "execution_count": 17,
   "id": "eaac93e8-5497-4d9e-ba82-6e7b92f5f0bc",
   "metadata": {},
   "outputs": [
    {
     "data": {
      "text/plain": [
       "(7, 1376)"
      ]
     },
     "execution_count": 17,
     "metadata": {},
     "output_type": "execute_result"
    }
   ],
   "source": [
    "True_values_df.shape"
   ]
  },
  {
   "cell_type": "code",
   "execution_count": 18,
   "id": "cfdd6a93-1047-4acb-a8b4-091d15dbae98",
   "metadata": {},
   "outputs": [],
   "source": [
    "# get the proper counts? - Do the transformation\n",
    "exp_true = np.exp(True_values_df)-1"
   ]
  },
  {
   "cell_type": "code",
   "execution_count": 19,
   "id": "0ae1b7a4-0bff-487e-93df-24df360917e0",
   "metadata": {},
   "outputs": [
    {
     "data": {
      "text/html": [
       "<div>\n",
       "<style scoped>\n",
       "    .dataframe tbody tr th:only-of-type {\n",
       "        vertical-align: middle;\n",
       "    }\n",
       "\n",
       "    .dataframe tbody tr th {\n",
       "        vertical-align: top;\n",
       "    }\n",
       "\n",
       "    .dataframe thead th {\n",
       "        text-align: right;\n",
       "    }\n",
       "</style>\n",
       "<table border=\"1\" class=\"dataframe\">\n",
       "  <thead>\n",
       "    <tr style=\"text-align: right;\">\n",
       "      <th></th>\n",
       "      <th>True_value</th>\n",
       "      <th>True_value</th>\n",
       "      <th>True_value</th>\n",
       "      <th>True_value</th>\n",
       "      <th>True_value</th>\n",
       "      <th>True_value</th>\n",
       "      <th>True_value</th>\n",
       "      <th>True_value</th>\n",
       "      <th>True_value</th>\n",
       "      <th>True_value</th>\n",
       "      <th>...</th>\n",
       "      <th>True_value</th>\n",
       "      <th>True_value</th>\n",
       "      <th>True_value</th>\n",
       "      <th>True_value</th>\n",
       "      <th>True_value</th>\n",
       "      <th>True_value</th>\n",
       "      <th>True_value</th>\n",
       "      <th>True_value</th>\n",
       "      <th>True_value</th>\n",
       "      <th>True_value</th>\n",
       "    </tr>\n",
       "  </thead>\n",
       "  <tbody>\n",
       "    <tr>\n",
       "      <th>0</th>\n",
       "      <td>4.273701</td>\n",
       "      <td>4.273701</td>\n",
       "      <td>4.273701</td>\n",
       "      <td>4.273858</td>\n",
       "      <td>5.739022</td>\n",
       "      <td>7.613478</td>\n",
       "      <td>5.987613</td>\n",
       "      <td>5.004599</td>\n",
       "      <td>5.000000</td>\n",
       "      <td>4.977448</td>\n",
       "      <td>...</td>\n",
       "      <td>0.000000</td>\n",
       "      <td>0.000000</td>\n",
       "      <td>0.000000e+00</td>\n",
       "      <td>0.000000</td>\n",
       "      <td>0.00000</td>\n",
       "      <td>0.0</td>\n",
       "      <td>0.0</td>\n",
       "      <td>0.0</td>\n",
       "      <td>0.0</td>\n",
       "      <td>0.0</td>\n",
       "    </tr>\n",
       "    <tr>\n",
       "      <th>1</th>\n",
       "      <td>4.022552</td>\n",
       "      <td>4.022552</td>\n",
       "      <td>4.022552</td>\n",
       "      <td>4.160367</td>\n",
       "      <td>6.966247</td>\n",
       "      <td>8.509413</td>\n",
       "      <td>7.656735</td>\n",
       "      <td>6.265601</td>\n",
       "      <td>5.008098</td>\n",
       "      <td>4.999997</td>\n",
       "      <td>...</td>\n",
       "      <td>0.979530</td>\n",
       "      <td>0.979530</td>\n",
       "      <td>9.795303e-01</td>\n",
       "      <td>0.926185</td>\n",
       "      <td>0.00066</td>\n",
       "      <td>0.0</td>\n",
       "      <td>0.0</td>\n",
       "      <td>0.0</td>\n",
       "      <td>0.0</td>\n",
       "      <td>0.0</td>\n",
       "    </tr>\n",
       "    <tr>\n",
       "      <th>2</th>\n",
       "      <td>5.000150</td>\n",
       "      <td>5.000155</td>\n",
       "      <td>5.000155</td>\n",
       "      <td>5.000828</td>\n",
       "      <td>5.953798</td>\n",
       "      <td>7.539870</td>\n",
       "      <td>7.640340</td>\n",
       "      <td>6.004603</td>\n",
       "      <td>6.000000</td>\n",
       "      <td>6.000000</td>\n",
       "      <td>...</td>\n",
       "      <td>0.000000</td>\n",
       "      <td>0.000000</td>\n",
       "      <td>0.000000e+00</td>\n",
       "      <td>0.000000</td>\n",
       "      <td>0.00000</td>\n",
       "      <td>0.0</td>\n",
       "      <td>0.0</td>\n",
       "      <td>0.0</td>\n",
       "      <td>0.0</td>\n",
       "      <td>0.0</td>\n",
       "    </tr>\n",
       "    <tr>\n",
       "      <th>3</th>\n",
       "      <td>3.945540</td>\n",
       "      <td>4.000000</td>\n",
       "      <td>4.008102</td>\n",
       "      <td>5.491899</td>\n",
       "      <td>6.080345</td>\n",
       "      <td>7.011183</td>\n",
       "      <td>6.045670</td>\n",
       "      <td>5.013762</td>\n",
       "      <td>4.036314</td>\n",
       "      <td>4.013763</td>\n",
       "      <td>...</td>\n",
       "      <td>0.263939</td>\n",
       "      <td>0.000363</td>\n",
       "      <td>0.000000e+00</td>\n",
       "      <td>0.000000</td>\n",
       "      <td>0.00000</td>\n",
       "      <td>0.0</td>\n",
       "      <td>0.0</td>\n",
       "      <td>0.0</td>\n",
       "      <td>0.0</td>\n",
       "      <td>0.0</td>\n",
       "    </tr>\n",
       "    <tr>\n",
       "      <th>4</th>\n",
       "      <td>5.002485</td>\n",
       "      <td>5.002516</td>\n",
       "      <td>5.002517</td>\n",
       "      <td>5.502516</td>\n",
       "      <td>6.347900</td>\n",
       "      <td>7.961352</td>\n",
       "      <td>6.667157</td>\n",
       "      <td>5.022526</td>\n",
       "      <td>4.999969</td>\n",
       "      <td>4.999969</td>\n",
       "      <td>...</td>\n",
       "      <td>0.054460</td>\n",
       "      <td>0.048219</td>\n",
       "      <td>8.445712e-06</td>\n",
       "      <td>0.000000</td>\n",
       "      <td>0.00000</td>\n",
       "      <td>0.0</td>\n",
       "      <td>0.0</td>\n",
       "      <td>0.0</td>\n",
       "      <td>0.0</td>\n",
       "      <td>0.0</td>\n",
       "    </tr>\n",
       "    <tr>\n",
       "      <th>5</th>\n",
       "      <td>4.885389</td>\n",
       "      <td>4.885416</td>\n",
       "      <td>4.885086</td>\n",
       "      <td>4.082864</td>\n",
       "      <td>6.206767</td>\n",
       "      <td>6.940560</td>\n",
       "      <td>4.507555</td>\n",
       "      <td>4.096711</td>\n",
       "      <td>4.096711</td>\n",
       "      <td>4.096711</td>\n",
       "      <td>...</td>\n",
       "      <td>0.000013</td>\n",
       "      <td>0.000012</td>\n",
       "      <td>1.678830e-08</td>\n",
       "      <td>0.000000</td>\n",
       "      <td>0.00000</td>\n",
       "      <td>0.0</td>\n",
       "      <td>0.0</td>\n",
       "      <td>0.0</td>\n",
       "      <td>0.0</td>\n",
       "      <td>0.0</td>\n",
       "    </tr>\n",
       "    <tr>\n",
       "      <th>6</th>\n",
       "      <td>1.919812</td>\n",
       "      <td>1.911703</td>\n",
       "      <td>0.927759</td>\n",
       "      <td>0.920984</td>\n",
       "      <td>1.883992</td>\n",
       "      <td>1.919657</td>\n",
       "      <td>1.919657</td>\n",
       "      <td>1.603242</td>\n",
       "      <td>1.000005</td>\n",
       "      <td>1.000000</td>\n",
       "      <td>...</td>\n",
       "      <td>0.022552</td>\n",
       "      <td>0.022522</td>\n",
       "      <td>8.043206e-04</td>\n",
       "      <td>0.000000</td>\n",
       "      <td>0.00000</td>\n",
       "      <td>0.0</td>\n",
       "      <td>0.0</td>\n",
       "      <td>0.0</td>\n",
       "      <td>0.0</td>\n",
       "      <td>0.0</td>\n",
       "    </tr>\n",
       "  </tbody>\n",
       "</table>\n",
       "<p>7 rows × 1376 columns</p>\n",
       "</div>"
      ],
      "text/plain": [
       "   True_value  True_value  True_value  True_value  True_value  True_value  \\\n",
       "0    4.273701    4.273701    4.273701    4.273858    5.739022    7.613478   \n",
       "1    4.022552    4.022552    4.022552    4.160367    6.966247    8.509413   \n",
       "2    5.000150    5.000155    5.000155    5.000828    5.953798    7.539870   \n",
       "3    3.945540    4.000000    4.008102    5.491899    6.080345    7.011183   \n",
       "4    5.002485    5.002516    5.002517    5.502516    6.347900    7.961352   \n",
       "5    4.885389    4.885416    4.885086    4.082864    6.206767    6.940560   \n",
       "6    1.919812    1.911703    0.927759    0.920984    1.883992    1.919657   \n",
       "\n",
       "   True_value  True_value  True_value  True_value  ...  True_value  \\\n",
       "0    5.987613    5.004599    5.000000    4.977448  ...    0.000000   \n",
       "1    7.656735    6.265601    5.008098    4.999997  ...    0.979530   \n",
       "2    7.640340    6.004603    6.000000    6.000000  ...    0.000000   \n",
       "3    6.045670    5.013762    4.036314    4.013763  ...    0.263939   \n",
       "4    6.667157    5.022526    4.999969    4.999969  ...    0.054460   \n",
       "5    4.507555    4.096711    4.096711    4.096711  ...    0.000013   \n",
       "6    1.919657    1.603242    1.000005    1.000000  ...    0.022552   \n",
       "\n",
       "   True_value    True_value  True_value  True_value  True_value  True_value  \\\n",
       "0    0.000000  0.000000e+00    0.000000     0.00000         0.0         0.0   \n",
       "1    0.979530  9.795303e-01    0.926185     0.00066         0.0         0.0   \n",
       "2    0.000000  0.000000e+00    0.000000     0.00000         0.0         0.0   \n",
       "3    0.000363  0.000000e+00    0.000000     0.00000         0.0         0.0   \n",
       "4    0.048219  8.445712e-06    0.000000     0.00000         0.0         0.0   \n",
       "5    0.000012  1.678830e-08    0.000000     0.00000         0.0         0.0   \n",
       "6    0.022522  8.043206e-04    0.000000     0.00000         0.0         0.0   \n",
       "\n",
       "   True_value  True_value  True_value  \n",
       "0         0.0         0.0         0.0  \n",
       "1         0.0         0.0         0.0  \n",
       "2         0.0         0.0         0.0  \n",
       "3         0.0         0.0         0.0  \n",
       "4         0.0         0.0         0.0  \n",
       "5         0.0         0.0         0.0  \n",
       "6         0.0         0.0         0.0  \n",
       "\n",
       "[7 rows x 1376 columns]"
      ]
     },
     "execution_count": 19,
     "metadata": {},
     "output_type": "execute_result"
    }
   ],
   "source": [
    "exp_true"
   ]
  },
  {
   "cell_type": "code",
   "execution_count": 20,
   "id": "e3ea73ab-34ac-4af8-b9bb-bf9c859bd59e",
   "metadata": {},
   "outputs": [],
   "source": [
    "# Identify the maximum and the minimum true values we have for the test data"
   ]
  },
  {
   "cell_type": "code",
   "execution_count": 21,
   "id": "0c0af4a8-5a75-4e0a-b1d7-ac0240faa7db",
   "metadata": {},
   "outputs": [
    {
     "data": {
      "text/plain": [
       "(0.0, 10.54984161999753)"
      ]
     },
     "execution_count": 21,
     "metadata": {},
     "output_type": "execute_result"
    }
   ],
   "source": [
    "exp_true.values.min(), exp_true.values.max()"
   ]
  },
  {
   "cell_type": "code",
   "execution_count": 22,
   "id": "c8a91a31-659e-42cb-a715-2fbc8dcd1125",
   "metadata": {},
   "outputs": [],
   "source": [
    "# Okay, so the highest true value we have is ~3. let's get teh min and max values for the predicted exponentiated values also"
   ]
  },
  {
   "cell_type": "code",
   "execution_count": 23,
   "id": "68791706-80d1-417c-97b5-1219d5d3ba5c",
   "metadata": {},
   "outputs": [],
   "source": [
    "all_forecasts_npy_files = []\n",
    "for file in os.listdir(path_to_dfs):\n",
    "    if file[:13] == 'all_forecasts':\n",
    "        all_forecasts_npy_files.append(file)"
   ]
  },
  {
   "cell_type": "code",
   "execution_count": 24,
   "id": "510a3a60-6b0f-4ba1-b628-1eea63adbf3a",
   "metadata": {},
   "outputs": [
    {
     "data": {
      "text/plain": [
       "1376"
      ]
     },
     "execution_count": 24,
     "metadata": {},
     "output_type": "execute_result"
    }
   ],
   "source": [
    "len(all_forecasts_npy_files)"
   ]
  },
  {
   "cell_type": "code",
   "execution_count": 25,
   "id": "926db1ce-530e-43a7-b8de-d68e54465a3b",
   "metadata": {},
   "outputs": [
    {
     "data": {
      "text/plain": [
       "'all_forecasts_sub_1104.npy'"
      ]
     },
     "execution_count": 25,
     "metadata": {},
     "output_type": "execute_result"
    }
   ],
   "source": [
    "all_forecasts_npy_files[0]"
   ]
  },
  {
   "cell_type": "code",
   "execution_count": 26,
   "id": "5ae1ee6d-7957-416d-8f76-b1c0f4f74048",
   "metadata": {},
   "outputs": [],
   "source": [
    "# load just the first file\n",
    "sub_273_forecasts = np.load(os.path.join(path_to_dfs, all_forecasts_npy_files[0]))"
   ]
  },
  {
   "cell_type": "code",
   "execution_count": 27,
   "id": "b18192a3-ea14-4ff3-af61-572f491fcce5",
   "metadata": {},
   "outputs": [
    {
     "data": {
      "text/plain": [
       "(1000, 4, 7)"
      ]
     },
     "execution_count": 27,
     "metadata": {},
     "output_type": "execute_result"
    }
   ],
   "source": [
    "sub_273_forecasts.shape"
   ]
  },
  {
   "cell_type": "code",
   "execution_count": 28,
   "id": "68634f79-5fe1-4326-821c-f88fd6358121",
   "metadata": {},
   "outputs": [],
   "source": [
    "# Okay, so for the subwindow 273 -  this file seem to have all the 1000 values in the 4 chains for all the test time points in the sequence"
   ]
  },
  {
   "cell_type": "code",
   "execution_count": 29,
   "id": "2beec9ec-bc5b-48ed-94bf-708dc1c323c5",
   "metadata": {},
   "outputs": [],
   "source": [
    "# transform these values?\n",
    "sub_273_forecasts = np.exp(sub_273_forecasts) - 1"
   ]
  },
  {
   "cell_type": "code",
   "execution_count": 30,
   "id": "139479a7-fd4e-4c9e-b125-b456aabcc33e",
   "metadata": {},
   "outputs": [
    {
     "data": {
      "text/plain": [
       "(-0.99428934, 373.2867)"
      ]
     },
     "execution_count": 30,
     "metadata": {},
     "output_type": "execute_result"
    }
   ],
   "source": [
    "sub_273_forecasts.min(), sub_273_forecasts.max()"
   ]
  },
  {
   "cell_type": "code",
   "execution_count": 31,
   "id": "eeea39fb-d9b6-4e75-b4f4-a48db2a78dda",
   "metadata": {},
   "outputs": [],
   "source": [
    "# get rid of anything below zero?\n",
    "sub_273_forecasts[sub_273_forecasts < 0] = 0"
   ]
  },
  {
   "cell_type": "code",
   "execution_count": 32,
   "id": "a3b048ca-2362-4521-a082-1e2a59ab8063",
   "metadata": {},
   "outputs": [
    {
     "data": {
      "text/plain": [
       "(0.0, 373.2867)"
      ]
     },
     "execution_count": 32,
     "metadata": {},
     "output_type": "execute_result"
    }
   ],
   "source": [
    "sub_273_forecasts.min(), sub_273_forecasts.max()"
   ]
  },
  {
   "cell_type": "code",
   "execution_count": 33,
   "id": "71918f6c-61fa-4666-bbae-05df60d1b050",
   "metadata": {},
   "outputs": [],
   "source": [
    "# cool -  what does these values mean?"
   ]
  },
  {
   "cell_type": "code",
   "execution_count": 34,
   "id": "91c6f8c0-cd40-4b9d-ba4f-279bc3073022",
   "metadata": {},
   "outputs": [],
   "source": [
    "# try averaging the forecasted values along the 0th and 1st axis?"
   ]
  },
  {
   "cell_type": "code",
   "execution_count": 35,
   "id": "47faa528-5199-4bab-b505-26087b378584",
   "metadata": {},
   "outputs": [],
   "source": [
    "sub_273_forecasts_averged = np.mean(sub_273_forecasts, axis = (0,1))"
   ]
  },
  {
   "cell_type": "code",
   "execution_count": 36,
   "id": "64d024db-bb14-4910-a061-3e0afe1c88ac",
   "metadata": {},
   "outputs": [
    {
     "data": {
      "text/plain": [
       "array([2.8986564, 2.8653169, 3.2303047, 3.7847736, 4.595481 , 4.171834 ,\n",
       "       4.097384 ], dtype=float32)"
      ]
     },
     "execution_count": 36,
     "metadata": {},
     "output_type": "execute_result"
    }
   ],
   "source": [
    "sub_273_forecasts_averged"
   ]
  },
  {
   "cell_type": "code",
   "execution_count": 37,
   "id": "9872bc2e-ed4a-4a8c-ae6b-3b63e640c0bb",
   "metadata": {},
   "outputs": [
    {
     "data": {
      "text/plain": [
       "(7,)"
      ]
     },
     "execution_count": 37,
     "metadata": {},
     "output_type": "execute_result"
    }
   ],
   "source": [
    "sub_273_forecasts_averged.shape"
   ]
  },
  {
   "cell_type": "code",
   "execution_count": 38,
   "id": "40d19bd4-5f92-4cba-a0ba-d2cef1985fba",
   "metadata": {},
   "outputs": [],
   "source": [
    "# sanity check"
   ]
  },
  {
   "cell_type": "code",
   "execution_count": 39,
   "id": "43d050cf-9337-4500-8a46-e51683b39f30",
   "metadata": {},
   "outputs": [
    {
     "name": "stdout",
     "output_type": "stream",
     "text": [
      "2.8986583\n",
      "2.865313\n",
      "3.2303035\n",
      "3.784775\n",
      "4.5954804\n",
      "4.1718297\n",
      "4.0973883\n"
     ]
    }
   ],
   "source": [
    "# sanity check\n",
    "for i in range(sub_273_forecasts.shape[-1]):\n",
    "    track = sub_273_forecasts[:,:,i]\n",
    "    print(np.mean(track))"
   ]
  },
  {
   "cell_type": "code",
   "execution_count": 40,
   "id": "9404b3fc-7f26-4620-a1c7-816a12ccc1e7",
   "metadata": {},
   "outputs": [],
   "source": [
    "# Verify the shape of the true values - these are at a subwindow level, and we can use these as they are for getting the metrics, and the scatterplots?"
   ]
  },
  {
   "cell_type": "code",
   "execution_count": 41,
   "id": "81d84191-828a-4853-9765-f72b944f6e43",
   "metadata": {},
   "outputs": [
    {
     "data": {
      "text/plain": [
       "(7, 1376)"
      ]
     },
     "execution_count": 41,
     "metadata": {},
     "output_type": "execute_result"
    }
   ],
   "source": [
    "exp_true.shape"
   ]
  },
  {
   "cell_type": "code",
   "execution_count": 42,
   "id": "50e3210d-b649-4e19-b372-53c48aa7134e",
   "metadata": {},
   "outputs": [],
   "source": [
    "# Okay, we need the predictions for the subwindows in the same shape? - but before that, we need to do the transformation for all the npy files. We can do this in a loop - we have done this before, use the code as it is."
   ]
  },
  {
   "cell_type": "code",
   "execution_count": 43,
   "id": "cacb4a51-039b-4621-936f-3992c72137db",
   "metadata": {},
   "outputs": [
    {
     "name": "stdout",
     "output_type": "stream",
     "text": [
      "CPU times: user 1.08 s, sys: 452 ms, total: 1.53 s\n",
      "Wall time: 33.1 s\n"
     ]
    }
   ],
   "source": [
    "%%time\n",
    "catch_all_averaged_preds = []\n",
    "for i in range(exp_true.shape[1]):\n",
    "    file_name = \"all_forecasts_sub_\" + str(i) + '.npy'\n",
    "    al_forecasts_npy_file = np.load(os.path.join(path_to_dfs, file_name))\n",
    "    # make the conversion\n",
    "    sub_window_forecasts = np.exp(al_forecasts_npy_file) - 1\n",
    "    # get rid of anything below zero?\n",
    "    sub_window_forecasts[sub_window_forecasts < 0] = 0\n",
    "    # get averages over time \n",
    "    sub_window_forecasts_averaged = np.mean(sub_window_forecasts, axis = (0,1))\n",
    "    catch_all_averaged_preds.append(sub_window_forecasts_averaged)    "
   ]
  },
  {
   "cell_type": "code",
   "execution_count": 44,
   "id": "d84417a1-e8f2-428d-9170-bf95909115df",
   "metadata": {},
   "outputs": [
    {
     "data": {
      "text/plain": [
       "1376"
      ]
     },
     "execution_count": 44,
     "metadata": {},
     "output_type": "execute_result"
    }
   ],
   "source": [
    "len(catch_all_averaged_preds)"
   ]
  },
  {
   "cell_type": "code",
   "execution_count": 45,
   "id": "b64849c3-b140-420b-b618-624d3ba45d03",
   "metadata": {},
   "outputs": [
    {
     "data": {
      "text/plain": [
       "array([5.2912846, 5.6427207, 6.1018023, 5.440166 , 5.501603 , 5.492738 ,\n",
       "       5.547624 ], dtype=float32)"
      ]
     },
     "execution_count": 45,
     "metadata": {},
     "output_type": "execute_result"
    }
   ],
   "source": [
    "catch_all_averaged_preds[0]"
   ]
  },
  {
   "cell_type": "code",
   "execution_count": 46,
   "id": "ef6c25a0-0f7f-4434-8d5c-b3443659d436",
   "metadata": {},
   "outputs": [],
   "source": [
    "Forecasted_values_df = pd.DataFrame(catch_all_averaged_preds).T"
   ]
  },
  {
   "cell_type": "code",
   "execution_count": 47,
   "id": "b26d17a8-7f02-403f-a02a-18d2d8d12854",
   "metadata": {},
   "outputs": [
    {
     "data": {
      "text/plain": [
       "(7, 1376)"
      ]
     },
     "execution_count": 47,
     "metadata": {},
     "output_type": "execute_result"
    }
   ],
   "source": [
    "Forecasted_values_df.shape"
   ]
  },
  {
   "cell_type": "code",
   "execution_count": 48,
   "id": "a630e79d-0c18-492a-a414-40d6e51d5584",
   "metadata": {},
   "outputs": [
    {
     "data": {
      "text/html": [
       "<div>\n",
       "<style scoped>\n",
       "    .dataframe tbody tr th:only-of-type {\n",
       "        vertical-align: middle;\n",
       "    }\n",
       "\n",
       "    .dataframe tbody tr th {\n",
       "        vertical-align: top;\n",
       "    }\n",
       "\n",
       "    .dataframe thead th {\n",
       "        text-align: right;\n",
       "    }\n",
       "</style>\n",
       "<table border=\"1\" class=\"dataframe\">\n",
       "  <thead>\n",
       "    <tr style=\"text-align: right;\">\n",
       "      <th></th>\n",
       "      <th>0</th>\n",
       "      <th>1</th>\n",
       "      <th>2</th>\n",
       "      <th>3</th>\n",
       "      <th>4</th>\n",
       "      <th>5</th>\n",
       "      <th>6</th>\n",
       "      <th>7</th>\n",
       "      <th>8</th>\n",
       "      <th>9</th>\n",
       "      <th>...</th>\n",
       "      <th>1366</th>\n",
       "      <th>1367</th>\n",
       "      <th>1368</th>\n",
       "      <th>1369</th>\n",
       "      <th>1370</th>\n",
       "      <th>1371</th>\n",
       "      <th>1372</th>\n",
       "      <th>1373</th>\n",
       "      <th>1374</th>\n",
       "      <th>1375</th>\n",
       "    </tr>\n",
       "  </thead>\n",
       "  <tbody>\n",
       "    <tr>\n",
       "      <th>0</th>\n",
       "      <td>5.291285</td>\n",
       "      <td>5.260665</td>\n",
       "      <td>5.113215</td>\n",
       "      <td>6.119927</td>\n",
       "      <td>6.933001</td>\n",
       "      <td>7.402585</td>\n",
       "      <td>6.359083</td>\n",
       "      <td>4.723436</td>\n",
       "      <td>3.052234</td>\n",
       "      <td>3.512386</td>\n",
       "      <td>...</td>\n",
       "      <td>0.306466</td>\n",
       "      <td>0.239479</td>\n",
       "      <td>0.172551</td>\n",
       "      <td>0.040103</td>\n",
       "      <td>0.007128</td>\n",
       "      <td>0.061423</td>\n",
       "      <td>0.153996</td>\n",
       "      <td>0.074907</td>\n",
       "      <td>0.033527</td>\n",
       "      <td>0.054980</td>\n",
       "    </tr>\n",
       "    <tr>\n",
       "      <th>1</th>\n",
       "      <td>5.642721</td>\n",
       "      <td>5.605371</td>\n",
       "      <td>5.503568</td>\n",
       "      <td>6.319032</td>\n",
       "      <td>7.093297</td>\n",
       "      <td>7.567481</td>\n",
       "      <td>5.671157</td>\n",
       "      <td>3.705863</td>\n",
       "      <td>2.024355</td>\n",
       "      <td>3.089243</td>\n",
       "      <td>...</td>\n",
       "      <td>0.349859</td>\n",
       "      <td>0.256440</td>\n",
       "      <td>0.177875</td>\n",
       "      <td>0.035458</td>\n",
       "      <td>0.001601</td>\n",
       "      <td>0.016464</td>\n",
       "      <td>0.030753</td>\n",
       "      <td>0.010765</td>\n",
       "      <td>0.003488</td>\n",
       "      <td>0.006001</td>\n",
       "    </tr>\n",
       "    <tr>\n",
       "      <th>2</th>\n",
       "      <td>6.101802</td>\n",
       "      <td>5.958230</td>\n",
       "      <td>5.643017</td>\n",
       "      <td>6.730361</td>\n",
       "      <td>7.184845</td>\n",
       "      <td>7.699506</td>\n",
       "      <td>7.177152</td>\n",
       "      <td>5.760663</td>\n",
       "      <td>5.214807</td>\n",
       "      <td>4.748707</td>\n",
       "      <td>...</td>\n",
       "      <td>0.395664</td>\n",
       "      <td>0.334764</td>\n",
       "      <td>0.207118</td>\n",
       "      <td>0.042241</td>\n",
       "      <td>0.003192</td>\n",
       "      <td>0.014756</td>\n",
       "      <td>0.018018</td>\n",
       "      <td>0.011321</td>\n",
       "      <td>0.004199</td>\n",
       "      <td>0.005665</td>\n",
       "    </tr>\n",
       "    <tr>\n",
       "      <th>3</th>\n",
       "      <td>5.440166</td>\n",
       "      <td>5.554020</td>\n",
       "      <td>6.336840</td>\n",
       "      <td>6.515362</td>\n",
       "      <td>9.855320</td>\n",
       "      <td>12.901858</td>\n",
       "      <td>7.989931</td>\n",
       "      <td>1.270874</td>\n",
       "      <td>3.243594</td>\n",
       "      <td>26.806416</td>\n",
       "      <td>...</td>\n",
       "      <td>0.273474</td>\n",
       "      <td>0.234088</td>\n",
       "      <td>0.150582</td>\n",
       "      <td>0.016550</td>\n",
       "      <td>0.003034</td>\n",
       "      <td>0.001405</td>\n",
       "      <td>0.012086</td>\n",
       "      <td>0.002376</td>\n",
       "      <td>0.004633</td>\n",
       "      <td>0.017500</td>\n",
       "    </tr>\n",
       "    <tr>\n",
       "      <th>4</th>\n",
       "      <td>5.501603</td>\n",
       "      <td>5.493289</td>\n",
       "      <td>5.994168</td>\n",
       "      <td>6.350889</td>\n",
       "      <td>8.052847</td>\n",
       "      <td>9.477959</td>\n",
       "      <td>5.409243</td>\n",
       "      <td>1.503350</td>\n",
       "      <td>1.698673</td>\n",
       "      <td>9.633458</td>\n",
       "      <td>...</td>\n",
       "      <td>0.237785</td>\n",
       "      <td>0.231779</td>\n",
       "      <td>0.143088</td>\n",
       "      <td>0.003302</td>\n",
       "      <td>0.003145</td>\n",
       "      <td>0.010674</td>\n",
       "      <td>0.006710</td>\n",
       "      <td>0.002796</td>\n",
       "      <td>0.007366</td>\n",
       "      <td>0.015738</td>\n",
       "    </tr>\n",
       "  </tbody>\n",
       "</table>\n",
       "<p>5 rows × 1376 columns</p>\n",
       "</div>"
      ],
      "text/plain": [
       "       0         1         2         3         4          5         6     \\\n",
       "0  5.291285  5.260665  5.113215  6.119927  6.933001   7.402585  6.359083   \n",
       "1  5.642721  5.605371  5.503568  6.319032  7.093297   7.567481  5.671157   \n",
       "2  6.101802  5.958230  5.643017  6.730361  7.184845   7.699506  7.177152   \n",
       "3  5.440166  5.554020  6.336840  6.515362  9.855320  12.901858  7.989931   \n",
       "4  5.501603  5.493289  5.994168  6.350889  8.052847   9.477959  5.409243   \n",
       "\n",
       "       7         8          9     ...      1366      1367      1368      1369  \\\n",
       "0  4.723436  3.052234   3.512386  ...  0.306466  0.239479  0.172551  0.040103   \n",
       "1  3.705863  2.024355   3.089243  ...  0.349859  0.256440  0.177875  0.035458   \n",
       "2  5.760663  5.214807   4.748707  ...  0.395664  0.334764  0.207118  0.042241   \n",
       "3  1.270874  3.243594  26.806416  ...  0.273474  0.234088  0.150582  0.016550   \n",
       "4  1.503350  1.698673   9.633458  ...  0.237785  0.231779  0.143088  0.003302   \n",
       "\n",
       "       1370      1371      1372      1373      1374      1375  \n",
       "0  0.007128  0.061423  0.153996  0.074907  0.033527  0.054980  \n",
       "1  0.001601  0.016464  0.030753  0.010765  0.003488  0.006001  \n",
       "2  0.003192  0.014756  0.018018  0.011321  0.004199  0.005665  \n",
       "3  0.003034  0.001405  0.012086  0.002376  0.004633  0.017500  \n",
       "4  0.003145  0.010674  0.006710  0.002796  0.007366  0.015738  \n",
       "\n",
       "[5 rows x 1376 columns]"
      ]
     },
     "execution_count": 48,
     "metadata": {},
     "output_type": "execute_result"
    }
   ],
   "source": [
    "Forecasted_values_df.head()"
   ]
  },
  {
   "cell_type": "code",
   "execution_count": 49,
   "id": "68c7bc01-af52-4664-8745-99c3f70ed793",
   "metadata": {},
   "outputs": [],
   "source": [
    "# give column names here\n",
    "Forecasted_values_df.columns = ['forecasted_val_' + str(i) for i in range(1376)]"
   ]
  },
  {
   "cell_type": "code",
   "execution_count": 50,
   "id": "5753e902-47ea-4455-a177-ccb6cd4b16ff",
   "metadata": {},
   "outputs": [
    {
     "data": {
      "text/html": [
       "<div>\n",
       "<style scoped>\n",
       "    .dataframe tbody tr th:only-of-type {\n",
       "        vertical-align: middle;\n",
       "    }\n",
       "\n",
       "    .dataframe tbody tr th {\n",
       "        vertical-align: top;\n",
       "    }\n",
       "\n",
       "    .dataframe thead th {\n",
       "        text-align: right;\n",
       "    }\n",
       "</style>\n",
       "<table border=\"1\" class=\"dataframe\">\n",
       "  <thead>\n",
       "    <tr style=\"text-align: right;\">\n",
       "      <th></th>\n",
       "      <th>forecasted_val_0</th>\n",
       "      <th>forecasted_val_1</th>\n",
       "      <th>forecasted_val_2</th>\n",
       "      <th>forecasted_val_3</th>\n",
       "      <th>forecasted_val_4</th>\n",
       "      <th>forecasted_val_5</th>\n",
       "      <th>forecasted_val_6</th>\n",
       "      <th>forecasted_val_7</th>\n",
       "      <th>forecasted_val_8</th>\n",
       "      <th>forecasted_val_9</th>\n",
       "      <th>...</th>\n",
       "      <th>forecasted_val_1366</th>\n",
       "      <th>forecasted_val_1367</th>\n",
       "      <th>forecasted_val_1368</th>\n",
       "      <th>forecasted_val_1369</th>\n",
       "      <th>forecasted_val_1370</th>\n",
       "      <th>forecasted_val_1371</th>\n",
       "      <th>forecasted_val_1372</th>\n",
       "      <th>forecasted_val_1373</th>\n",
       "      <th>forecasted_val_1374</th>\n",
       "      <th>forecasted_val_1375</th>\n",
       "    </tr>\n",
       "  </thead>\n",
       "  <tbody>\n",
       "    <tr>\n",
       "      <th>0</th>\n",
       "      <td>5.291285</td>\n",
       "      <td>5.260665</td>\n",
       "      <td>5.113215</td>\n",
       "      <td>6.119927</td>\n",
       "      <td>6.933001</td>\n",
       "      <td>7.402585</td>\n",
       "      <td>6.359083</td>\n",
       "      <td>4.723436</td>\n",
       "      <td>3.052234</td>\n",
       "      <td>3.512386</td>\n",
       "      <td>...</td>\n",
       "      <td>0.306466</td>\n",
       "      <td>0.239479</td>\n",
       "      <td>0.172551</td>\n",
       "      <td>0.040103</td>\n",
       "      <td>0.007128</td>\n",
       "      <td>0.061423</td>\n",
       "      <td>0.153996</td>\n",
       "      <td>0.074907</td>\n",
       "      <td>0.033527</td>\n",
       "      <td>0.054980</td>\n",
       "    </tr>\n",
       "    <tr>\n",
       "      <th>1</th>\n",
       "      <td>5.642721</td>\n",
       "      <td>5.605371</td>\n",
       "      <td>5.503568</td>\n",
       "      <td>6.319032</td>\n",
       "      <td>7.093297</td>\n",
       "      <td>7.567481</td>\n",
       "      <td>5.671157</td>\n",
       "      <td>3.705863</td>\n",
       "      <td>2.024355</td>\n",
       "      <td>3.089243</td>\n",
       "      <td>...</td>\n",
       "      <td>0.349859</td>\n",
       "      <td>0.256440</td>\n",
       "      <td>0.177875</td>\n",
       "      <td>0.035458</td>\n",
       "      <td>0.001601</td>\n",
       "      <td>0.016464</td>\n",
       "      <td>0.030753</td>\n",
       "      <td>0.010765</td>\n",
       "      <td>0.003488</td>\n",
       "      <td>0.006001</td>\n",
       "    </tr>\n",
       "    <tr>\n",
       "      <th>2</th>\n",
       "      <td>6.101802</td>\n",
       "      <td>5.958230</td>\n",
       "      <td>5.643017</td>\n",
       "      <td>6.730361</td>\n",
       "      <td>7.184845</td>\n",
       "      <td>7.699506</td>\n",
       "      <td>7.177152</td>\n",
       "      <td>5.760663</td>\n",
       "      <td>5.214807</td>\n",
       "      <td>4.748707</td>\n",
       "      <td>...</td>\n",
       "      <td>0.395664</td>\n",
       "      <td>0.334764</td>\n",
       "      <td>0.207118</td>\n",
       "      <td>0.042241</td>\n",
       "      <td>0.003192</td>\n",
       "      <td>0.014756</td>\n",
       "      <td>0.018018</td>\n",
       "      <td>0.011321</td>\n",
       "      <td>0.004199</td>\n",
       "      <td>0.005665</td>\n",
       "    </tr>\n",
       "    <tr>\n",
       "      <th>3</th>\n",
       "      <td>5.440166</td>\n",
       "      <td>5.554020</td>\n",
       "      <td>6.336840</td>\n",
       "      <td>6.515362</td>\n",
       "      <td>9.855320</td>\n",
       "      <td>12.901858</td>\n",
       "      <td>7.989931</td>\n",
       "      <td>1.270874</td>\n",
       "      <td>3.243594</td>\n",
       "      <td>26.806416</td>\n",
       "      <td>...</td>\n",
       "      <td>0.273474</td>\n",
       "      <td>0.234088</td>\n",
       "      <td>0.150582</td>\n",
       "      <td>0.016550</td>\n",
       "      <td>0.003034</td>\n",
       "      <td>0.001405</td>\n",
       "      <td>0.012086</td>\n",
       "      <td>0.002376</td>\n",
       "      <td>0.004633</td>\n",
       "      <td>0.017500</td>\n",
       "    </tr>\n",
       "    <tr>\n",
       "      <th>4</th>\n",
       "      <td>5.501603</td>\n",
       "      <td>5.493289</td>\n",
       "      <td>5.994168</td>\n",
       "      <td>6.350889</td>\n",
       "      <td>8.052847</td>\n",
       "      <td>9.477959</td>\n",
       "      <td>5.409243</td>\n",
       "      <td>1.503350</td>\n",
       "      <td>1.698673</td>\n",
       "      <td>9.633458</td>\n",
       "      <td>...</td>\n",
       "      <td>0.237785</td>\n",
       "      <td>0.231779</td>\n",
       "      <td>0.143088</td>\n",
       "      <td>0.003302</td>\n",
       "      <td>0.003145</td>\n",
       "      <td>0.010674</td>\n",
       "      <td>0.006710</td>\n",
       "      <td>0.002796</td>\n",
       "      <td>0.007366</td>\n",
       "      <td>0.015738</td>\n",
       "    </tr>\n",
       "  </tbody>\n",
       "</table>\n",
       "<p>5 rows × 1376 columns</p>\n",
       "</div>"
      ],
      "text/plain": [
       "   forecasted_val_0  forecasted_val_1  forecasted_val_2  forecasted_val_3  \\\n",
       "0          5.291285          5.260665          5.113215          6.119927   \n",
       "1          5.642721          5.605371          5.503568          6.319032   \n",
       "2          6.101802          5.958230          5.643017          6.730361   \n",
       "3          5.440166          5.554020          6.336840          6.515362   \n",
       "4          5.501603          5.493289          5.994168          6.350889   \n",
       "\n",
       "   forecasted_val_4  forecasted_val_5  forecasted_val_6  forecasted_val_7  \\\n",
       "0          6.933001          7.402585          6.359083          4.723436   \n",
       "1          7.093297          7.567481          5.671157          3.705863   \n",
       "2          7.184845          7.699506          7.177152          5.760663   \n",
       "3          9.855320         12.901858          7.989931          1.270874   \n",
       "4          8.052847          9.477959          5.409243          1.503350   \n",
       "\n",
       "   forecasted_val_8  forecasted_val_9  ...  forecasted_val_1366  \\\n",
       "0          3.052234          3.512386  ...             0.306466   \n",
       "1          2.024355          3.089243  ...             0.349859   \n",
       "2          5.214807          4.748707  ...             0.395664   \n",
       "3          3.243594         26.806416  ...             0.273474   \n",
       "4          1.698673          9.633458  ...             0.237785   \n",
       "\n",
       "   forecasted_val_1367  forecasted_val_1368  forecasted_val_1369  \\\n",
       "0             0.239479             0.172551             0.040103   \n",
       "1             0.256440             0.177875             0.035458   \n",
       "2             0.334764             0.207118             0.042241   \n",
       "3             0.234088             0.150582             0.016550   \n",
       "4             0.231779             0.143088             0.003302   \n",
       "\n",
       "   forecasted_val_1370  forecasted_val_1371  forecasted_val_1372  \\\n",
       "0             0.007128             0.061423             0.153996   \n",
       "1             0.001601             0.016464             0.030753   \n",
       "2             0.003192             0.014756             0.018018   \n",
       "3             0.003034             0.001405             0.012086   \n",
       "4             0.003145             0.010674             0.006710   \n",
       "\n",
       "   forecasted_val_1373  forecasted_val_1374  forecasted_val_1375  \n",
       "0             0.074907             0.033527             0.054980  \n",
       "1             0.010765             0.003488             0.006001  \n",
       "2             0.011321             0.004199             0.005665  \n",
       "3             0.002376             0.004633             0.017500  \n",
       "4             0.002796             0.007366             0.015738  \n",
       "\n",
       "[5 rows x 1376 columns]"
      ]
     },
     "execution_count": 50,
     "metadata": {},
     "output_type": "execute_result"
    }
   ],
   "source": [
    "Forecasted_values_df.head()"
   ]
  },
  {
   "cell_type": "code",
   "execution_count": 51,
   "id": "8b5404a5-79f0-4045-a156-69eea2eb2081",
   "metadata": {},
   "outputs": [],
   "source": [
    "# get the min and max values here?"
   ]
  },
  {
   "cell_type": "code",
   "execution_count": 52,
   "id": "3f78b24b-0f2a-41c7-8ded-8d8158b0da98",
   "metadata": {},
   "outputs": [
    {
     "data": {
      "text/plain": [
       "(0.0014046298, 1189.386)"
      ]
     },
     "execution_count": 52,
     "metadata": {},
     "output_type": "execute_result"
    }
   ],
   "source": [
    "Forecasted_values_df.values.min(), Forecasted_values_df.values.max()"
   ]
  },
  {
   "cell_type": "code",
   "execution_count": 53,
   "id": "de9d0d60-49bc-44b9-8aa2-1ae340963f4a",
   "metadata": {},
   "outputs": [],
   "source": [
    "# notice that, there are a lot of values which seem to be greater than 20 - this seems like an okay value to have a cut off - should we try to get the row and column indices of these values? Maybe we need to run these later individually until we get stable values?"
   ]
  },
  {
   "cell_type": "code",
   "execution_count": 54,
   "id": "e455298f-cdea-42f6-9f1c-3296be66998f",
   "metadata": {},
   "outputs": [],
   "source": [
    "mask_gt_20 = Forecasted_values_df > 20"
   ]
  },
  {
   "cell_type": "code",
   "execution_count": 55,
   "id": "c6fc9d6c-e010-46bc-85a3-06fdb4e98df3",
   "metadata": {},
   "outputs": [],
   "source": [
    "resulting_df = Forecasted_values_df[mask_gt_20].stack().reset_index()"
   ]
  },
  {
   "cell_type": "code",
   "execution_count": 56,
   "id": "e27c9497-3039-45c8-9750-c8ba5ca28aa6",
   "metadata": {},
   "outputs": [
    {
     "data": {
      "text/html": [
       "<div>\n",
       "<style scoped>\n",
       "    .dataframe tbody tr th:only-of-type {\n",
       "        vertical-align: middle;\n",
       "    }\n",
       "\n",
       "    .dataframe tbody tr th {\n",
       "        vertical-align: top;\n",
       "    }\n",
       "\n",
       "    .dataframe thead th {\n",
       "        text-align: right;\n",
       "    }\n",
       "</style>\n",
       "<table border=\"1\" class=\"dataframe\">\n",
       "  <thead>\n",
       "    <tr style=\"text-align: right;\">\n",
       "      <th></th>\n",
       "      <th>level_0</th>\n",
       "      <th>level_1</th>\n",
       "      <th>0</th>\n",
       "    </tr>\n",
       "  </thead>\n",
       "  <tbody>\n",
       "    <tr>\n",
       "      <th>0</th>\n",
       "      <td>3</td>\n",
       "      <td>forecasted_val_9</td>\n",
       "      <td>26.806416</td>\n",
       "    </tr>\n",
       "    <tr>\n",
       "      <th>1</th>\n",
       "      <td>3</td>\n",
       "      <td>forecasted_val_10</td>\n",
       "      <td>155.118301</td>\n",
       "    </tr>\n",
       "    <tr>\n",
       "      <th>2</th>\n",
       "      <td>3</td>\n",
       "      <td>forecasted_val_11</td>\n",
       "      <td>66.329422</td>\n",
       "    </tr>\n",
       "    <tr>\n",
       "      <th>3</th>\n",
       "      <td>3</td>\n",
       "      <td>forecasted_val_12</td>\n",
       "      <td>968.753967</td>\n",
       "    </tr>\n",
       "    <tr>\n",
       "      <th>4</th>\n",
       "      <td>3</td>\n",
       "      <td>forecasted_val_13</td>\n",
       "      <td>306.066437</td>\n",
       "    </tr>\n",
       "  </tbody>\n",
       "</table>\n",
       "</div>"
      ],
      "text/plain": [
       "   level_0            level_1           0\n",
       "0        3   forecasted_val_9   26.806416\n",
       "1        3  forecasted_val_10  155.118301\n",
       "2        3  forecasted_val_11   66.329422\n",
       "3        3  forecasted_val_12  968.753967\n",
       "4        3  forecasted_val_13  306.066437"
      ]
     },
     "execution_count": 56,
     "metadata": {},
     "output_type": "execute_result"
    }
   ],
   "source": [
    "resulting_df.head()"
   ]
  },
  {
   "cell_type": "code",
   "execution_count": 57,
   "id": "9ad7881d-53ae-40cc-928a-a2397e2d49dc",
   "metadata": {},
   "outputs": [
    {
     "data": {
      "text/plain": [
       "(555, 3)"
      ]
     },
     "execution_count": 57,
     "metadata": {},
     "output_type": "execute_result"
    }
   ],
   "source": [
    "resulting_df.shape"
   ]
  },
  {
   "cell_type": "code",
   "execution_count": 58,
   "id": "18e72553-47c9-45f5-b1dc-495e4a52c97d",
   "metadata": {},
   "outputs": [],
   "source": [
    "resulting_df.columns = ['row_index', 'column_name', 'forecasted_val']"
   ]
  },
  {
   "cell_type": "code",
   "execution_count": 59,
   "id": "8e740c75-d3ae-4027-b1ba-759af436489c",
   "metadata": {},
   "outputs": [
    {
     "data": {
      "text/html": [
       "<div>\n",
       "<style scoped>\n",
       "    .dataframe tbody tr th:only-of-type {\n",
       "        vertical-align: middle;\n",
       "    }\n",
       "\n",
       "    .dataframe tbody tr th {\n",
       "        vertical-align: top;\n",
       "    }\n",
       "\n",
       "    .dataframe thead th {\n",
       "        text-align: right;\n",
       "    }\n",
       "</style>\n",
       "<table border=\"1\" class=\"dataframe\">\n",
       "  <thead>\n",
       "    <tr style=\"text-align: right;\">\n",
       "      <th></th>\n",
       "      <th>row_index</th>\n",
       "      <th>column_name</th>\n",
       "      <th>forecasted_val</th>\n",
       "    </tr>\n",
       "  </thead>\n",
       "  <tbody>\n",
       "    <tr>\n",
       "      <th>0</th>\n",
       "      <td>3</td>\n",
       "      <td>forecasted_val_9</td>\n",
       "      <td>26.806416</td>\n",
       "    </tr>\n",
       "    <tr>\n",
       "      <th>1</th>\n",
       "      <td>3</td>\n",
       "      <td>forecasted_val_10</td>\n",
       "      <td>155.118301</td>\n",
       "    </tr>\n",
       "    <tr>\n",
       "      <th>2</th>\n",
       "      <td>3</td>\n",
       "      <td>forecasted_val_11</td>\n",
       "      <td>66.329422</td>\n",
       "    </tr>\n",
       "    <tr>\n",
       "      <th>3</th>\n",
       "      <td>3</td>\n",
       "      <td>forecasted_val_12</td>\n",
       "      <td>968.753967</td>\n",
       "    </tr>\n",
       "    <tr>\n",
       "      <th>4</th>\n",
       "      <td>3</td>\n",
       "      <td>forecasted_val_13</td>\n",
       "      <td>306.066437</td>\n",
       "    </tr>\n",
       "  </tbody>\n",
       "</table>\n",
       "</div>"
      ],
      "text/plain": [
       "   row_index        column_name  forecasted_val\n",
       "0          3   forecasted_val_9       26.806416\n",
       "1          3  forecasted_val_10      155.118301\n",
       "2          3  forecasted_val_11       66.329422\n",
       "3          3  forecasted_val_12      968.753967\n",
       "4          3  forecasted_val_13      306.066437"
      ]
     },
     "execution_count": 59,
     "metadata": {},
     "output_type": "execute_result"
    }
   ],
   "source": [
    "resulting_df.head()"
   ]
  },
  {
   "cell_type": "code",
   "execution_count": 60,
   "id": "0d6f74e9-17fc-402e-8f1a-a6236ad26d48",
   "metadata": {},
   "outputs": [
    {
     "data": {
      "text/plain": [
       "column_name\n",
       "forecasted_val_1131    4\n",
       "forecasted_val_1132    4\n",
       "forecasted_val_1141    4\n",
       "forecasted_val_53      4\n",
       "forecasted_val_54      4\n",
       "                      ..\n",
       "forecasted_val_699     1\n",
       "forecasted_val_734     1\n",
       "forecasted_val_1010    1\n",
       "forecasted_val_1140    1\n",
       "forecasted_val_587     1\n",
       "Name: count, Length: 185, dtype: int64"
      ]
     },
     "execution_count": 60,
     "metadata": {},
     "output_type": "execute_result"
    }
   ],
   "source": [
    "# how many coumns do we need to focus on?\n",
    "resulting_df['column_name'].value_counts()"
   ]
  },
  {
   "cell_type": "code",
   "execution_count": 61,
   "id": "77c1b38c-960c-476d-b752-c1ff0d3e25d6",
   "metadata": {},
   "outputs": [],
   "source": [
    "# notice that there are 347 py scripts that we may need to rerun"
   ]
  },
  {
   "cell_type": "code",
   "execution_count": 62,
   "id": "1d5aee46-8073-49ca-bdaf-1b6afaa86196",
   "metadata": {},
   "outputs": [],
   "source": [
    "# What are the subwindow names?"
   ]
  },
  {
   "cell_type": "code",
   "execution_count": 63,
   "id": "189a70df-c304-4bc1-ad1c-579314576445",
   "metadata": {},
   "outputs": [],
   "source": [
    "sub_window_names = list(set(resulting_df['column_name']))\n",
    "sub_window_names.sort()"
   ]
  },
  {
   "cell_type": "code",
   "execution_count": 64,
   "id": "3f68a02c-3882-4ed7-a8ee-c02bd6697c12",
   "metadata": {},
   "outputs": [],
   "source": [
    "# sub_window_names - but this is not properly sorted"
   ]
  },
  {
   "cell_type": "code",
   "execution_count": 65,
   "id": "4eab754c-d295-4c11-a781-b0a155860b82",
   "metadata": {},
   "outputs": [],
   "source": [
    "sub_window_numbers = [val.split('_')[-1] for val in resulting_df['column_name']]\n",
    "sub_window_int = [int(i) for i in sub_window_numbers]\n",
    "sub_window_int.sort()"
   ]
  },
  {
   "cell_type": "code",
   "execution_count": 66,
   "id": "3448bdda-1a83-43f2-bbc5-e9d8f828bb09",
   "metadata": {},
   "outputs": [
    {
     "data": {
      "text/plain": [
       "555"
      ]
     },
     "execution_count": 66,
     "metadata": {},
     "output_type": "execute_result"
    }
   ],
   "source": [
    "len(sub_window_int)"
   ]
  },
  {
   "cell_type": "code",
   "execution_count": 67,
   "id": "b463df1e-b63f-4cdb-b6d2-f8304c63410c",
   "metadata": {},
   "outputs": [],
   "source": [
    "unique_subwindow_int = list(set(sub_window_int))"
   ]
  },
  {
   "cell_type": "code",
   "execution_count": 68,
   "id": "2c45b5a5-4b94-4760-a9b6-b362b5d0cedb",
   "metadata": {},
   "outputs": [],
   "source": [
    "len(unique_subwindow_int)\n",
    "unique_subwindow_int.sort()"
   ]
  },
  {
   "cell_type": "code",
   "execution_count": 72,
   "id": "f9c030a1-555c-4efa-9ed3-851b9b697361",
   "metadata": {},
   "outputs": [
    {
     "name": "stdout",
     "output_type": "stream",
     "text": [
      "185\n"
     ]
    }
   ],
   "source": [
    "print(len(unique_subwindow_int))"
   ]
  },
  {
   "cell_type": "code",
   "execution_count": 69,
   "id": "64e9cb47-2215-4dda-a350-f645a60bfd47",
   "metadata": {},
   "outputs": [],
   "source": [
    "sub_window_names_final = ['forecasted_val_' + str(i) for i in unique_subwindow_int]"
   ]
  },
  {
   "cell_type": "code",
   "execution_count": 70,
   "id": "0517dd1b-b82c-439c-85c9-e010928f7ba8",
   "metadata": {},
   "outputs": [
    {
     "data": {
      "text/plain": [
       "['forecasted_val_9',\n",
       " 'forecasted_val_10',\n",
       " 'forecasted_val_11',\n",
       " 'forecasted_val_12',\n",
       " 'forecasted_val_13',\n",
       " 'forecasted_val_14',\n",
       " 'forecasted_val_15',\n",
       " 'forecasted_val_16',\n",
       " 'forecasted_val_48',\n",
       " 'forecasted_val_49',\n",
       " 'forecasted_val_52',\n",
       " 'forecasted_val_53',\n",
       " 'forecasted_val_54',\n",
       " 'forecasted_val_55',\n",
       " 'forecasted_val_56',\n",
       " 'forecasted_val_57',\n",
       " 'forecasted_val_58',\n",
       " 'forecasted_val_59',\n",
       " 'forecasted_val_96',\n",
       " 'forecasted_val_97',\n",
       " 'forecasted_val_98',\n",
       " 'forecasted_val_99',\n",
       " 'forecasted_val_100',\n",
       " 'forecasted_val_101',\n",
       " 'forecasted_val_102',\n",
       " 'forecasted_val_144',\n",
       " 'forecasted_val_177',\n",
       " 'forecasted_val_184',\n",
       " 'forecasted_val_186',\n",
       " 'forecasted_val_187',\n",
       " 'forecasted_val_188',\n",
       " 'forecasted_val_230',\n",
       " 'forecasted_val_271',\n",
       " 'forecasted_val_272',\n",
       " 'forecasted_val_273',\n",
       " 'forecasted_val_274',\n",
       " 'forecasted_val_275',\n",
       " 'forecasted_val_313',\n",
       " 'forecasted_val_314',\n",
       " 'forecasted_val_316',\n",
       " 'forecasted_val_357',\n",
       " 'forecasted_val_358',\n",
       " 'forecasted_val_359',\n",
       " 'forecasted_val_360',\n",
       " 'forecasted_val_392',\n",
       " 'forecasted_val_393',\n",
       " 'forecasted_val_400',\n",
       " 'forecasted_val_401',\n",
       " 'forecasted_val_402',\n",
       " 'forecasted_val_403',\n",
       " 'forecasted_val_435',\n",
       " 'forecasted_val_436',\n",
       " 'forecasted_val_445',\n",
       " 'forecasted_val_446',\n",
       " 'forecasted_val_478',\n",
       " 'forecasted_val_479',\n",
       " 'forecasted_val_487',\n",
       " 'forecasted_val_488',\n",
       " 'forecasted_val_489',\n",
       " 'forecasted_val_491',\n",
       " 'forecasted_val_492',\n",
       " 'forecasted_val_495',\n",
       " 'forecasted_val_520',\n",
       " 'forecasted_val_521',\n",
       " 'forecasted_val_522',\n",
       " 'forecasted_val_530',\n",
       " 'forecasted_val_531',\n",
       " 'forecasted_val_532',\n",
       " 'forecasted_val_537',\n",
       " 'forecasted_val_538',\n",
       " 'forecasted_val_564',\n",
       " 'forecasted_val_565',\n",
       " 'forecasted_val_573',\n",
       " 'forecasted_val_574',\n",
       " 'forecasted_val_575',\n",
       " 'forecasted_val_579',\n",
       " 'forecasted_val_580',\n",
       " 'forecasted_val_581',\n",
       " 'forecasted_val_583',\n",
       " 'forecasted_val_585',\n",
       " 'forecasted_val_586',\n",
       " 'forecasted_val_587',\n",
       " 'forecasted_val_589',\n",
       " 'forecasted_val_607',\n",
       " 'forecasted_val_608',\n",
       " 'forecasted_val_615',\n",
       " 'forecasted_val_616',\n",
       " 'forecasted_val_617',\n",
       " 'forecasted_val_618',\n",
       " 'forecasted_val_621',\n",
       " 'forecasted_val_622',\n",
       " 'forecasted_val_623',\n",
       " 'forecasted_val_624',\n",
       " 'forecasted_val_626',\n",
       " 'forecasted_val_627',\n",
       " 'forecasted_val_628',\n",
       " 'forecasted_val_648',\n",
       " 'forecasted_val_650',\n",
       " 'forecasted_val_651',\n",
       " 'forecasted_val_658',\n",
       " 'forecasted_val_659',\n",
       " 'forecasted_val_660',\n",
       " 'forecasted_val_661',\n",
       " 'forecasted_val_664',\n",
       " 'forecasted_val_665',\n",
       " 'forecasted_val_666',\n",
       " 'forecasted_val_667',\n",
       " 'forecasted_val_669',\n",
       " 'forecasted_val_670',\n",
       " 'forecasted_val_691',\n",
       " 'forecasted_val_692',\n",
       " 'forecasted_val_693',\n",
       " 'forecasted_val_694',\n",
       " 'forecasted_val_699',\n",
       " 'forecasted_val_701',\n",
       " 'forecasted_val_702',\n",
       " 'forecasted_val_703',\n",
       " 'forecasted_val_704',\n",
       " 'forecasted_val_708',\n",
       " 'forecasted_val_709',\n",
       " 'forecasted_val_710',\n",
       " 'forecasted_val_711',\n",
       " 'forecasted_val_734',\n",
       " 'forecasted_val_736',\n",
       " 'forecasted_val_737',\n",
       " 'forecasted_val_745',\n",
       " 'forecasted_val_746',\n",
       " 'forecasted_val_747',\n",
       " 'forecasted_val_748',\n",
       " 'forecasted_val_749',\n",
       " 'forecasted_val_750',\n",
       " 'forecasted_val_751',\n",
       " 'forecasted_val_753',\n",
       " 'forecasted_val_754',\n",
       " 'forecasted_val_756',\n",
       " 'forecasted_val_787',\n",
       " 'forecasted_val_792',\n",
       " 'forecasted_val_793',\n",
       " 'forecasted_val_795',\n",
       " 'forecasted_val_796',\n",
       " 'forecasted_val_797',\n",
       " 'forecasted_val_799',\n",
       " 'forecasted_val_821',\n",
       " 'forecasted_val_823',\n",
       " 'forecasted_val_836',\n",
       " 'forecasted_val_838',\n",
       " 'forecasted_val_839',\n",
       " 'forecasted_val_840',\n",
       " 'forecasted_val_841',\n",
       " 'forecasted_val_842',\n",
       " 'forecasted_val_866',\n",
       " 'forecasted_val_873',\n",
       " 'forecasted_val_874',\n",
       " 'forecasted_val_879',\n",
       " 'forecasted_val_881',\n",
       " 'forecasted_val_882',\n",
       " 'forecasted_val_883',\n",
       " 'forecasted_val_916',\n",
       " 'forecasted_val_917',\n",
       " 'forecasted_val_919',\n",
       " 'forecasted_val_920',\n",
       " 'forecasted_val_921',\n",
       " 'forecasted_val_924',\n",
       " 'forecasted_val_925',\n",
       " 'forecasted_val_926',\n",
       " 'forecasted_val_959',\n",
       " 'forecasted_val_960',\n",
       " 'forecasted_val_967',\n",
       " 'forecasted_val_968',\n",
       " 'forecasted_val_1001',\n",
       " 'forecasted_val_1002',\n",
       " 'forecasted_val_1003',\n",
       " 'forecasted_val_1010',\n",
       " 'forecasted_val_1011',\n",
       " 'forecasted_val_1045',\n",
       " 'forecasted_val_1046',\n",
       " 'forecasted_val_1048',\n",
       " 'forecasted_val_1054',\n",
       " 'forecasted_val_1088',\n",
       " 'forecasted_val_1097',\n",
       " 'forecasted_val_1098',\n",
       " 'forecasted_val_1131',\n",
       " 'forecasted_val_1132',\n",
       " 'forecasted_val_1140',\n",
       " 'forecasted_val_1141']"
      ]
     },
     "execution_count": 70,
     "metadata": {},
     "output_type": "execute_result"
    }
   ],
   "source": [
    "sub_window_names_final # cool, so we need to look into individually running these scripts?"
   ]
  },
  {
   "cell_type": "code",
   "execution_count": 71,
   "id": "14bfa81d-3247-413c-a1ec-dd8aedcaec86",
   "metadata": {},
   "outputs": [],
   "source": [
    "# We are waiting to see if changing the prioirs are going to give us a direction we should proceed in"
   ]
  },
  {
   "cell_type": "code",
   "execution_count": 72,
   "id": "25bb623d-9523-4752-ac13-af99cbff5c27",
   "metadata": {},
   "outputs": [],
   "source": [
    "# The maximmum is an absurd amount - where is this coming from ? Do we need to manually fix it? Let's see\n",
    "# how many of teh values in the above dataframe are more than 10?"
   ]
  },
  {
   "cell_type": "code",
   "execution_count": 73,
   "id": "074e601a-f118-47e2-af47-32731c30bdc4",
   "metadata": {},
   "outputs": [],
   "source": [
    "# Maybe see to this once all columns are arranged in a single column?"
   ]
  },
  {
   "cell_type": "code",
   "execution_count": 74,
   "id": "3c856c12-7001-43c1-a186-08b242074808",
   "metadata": {},
   "outputs": [],
   "source": [
    "exp_true.columns = ['True_val_' + str(i) for i in range(1376)]"
   ]
  },
  {
   "cell_type": "code",
   "execution_count": 75,
   "id": "067be61e-3f40-487d-9d29-2aca3375cbe9",
   "metadata": {},
   "outputs": [
    {
     "data": {
      "text/html": [
       "<div>\n",
       "<style scoped>\n",
       "    .dataframe tbody tr th:only-of-type {\n",
       "        vertical-align: middle;\n",
       "    }\n",
       "\n",
       "    .dataframe tbody tr th {\n",
       "        vertical-align: top;\n",
       "    }\n",
       "\n",
       "    .dataframe thead th {\n",
       "        text-align: right;\n",
       "    }\n",
       "</style>\n",
       "<table border=\"1\" class=\"dataframe\">\n",
       "  <thead>\n",
       "    <tr style=\"text-align: right;\">\n",
       "      <th></th>\n",
       "      <th>True_val_0</th>\n",
       "      <th>True_val_1</th>\n",
       "      <th>True_val_2</th>\n",
       "      <th>True_val_3</th>\n",
       "      <th>True_val_4</th>\n",
       "      <th>True_val_5</th>\n",
       "      <th>True_val_6</th>\n",
       "      <th>True_val_7</th>\n",
       "      <th>True_val_8</th>\n",
       "      <th>True_val_9</th>\n",
       "      <th>...</th>\n",
       "      <th>True_val_1366</th>\n",
       "      <th>True_val_1367</th>\n",
       "      <th>True_val_1368</th>\n",
       "      <th>True_val_1369</th>\n",
       "      <th>True_val_1370</th>\n",
       "      <th>True_val_1371</th>\n",
       "      <th>True_val_1372</th>\n",
       "      <th>True_val_1373</th>\n",
       "      <th>True_val_1374</th>\n",
       "      <th>True_val_1375</th>\n",
       "    </tr>\n",
       "  </thead>\n",
       "  <tbody>\n",
       "    <tr>\n",
       "      <th>0</th>\n",
       "      <td>4.273701</td>\n",
       "      <td>4.273701</td>\n",
       "      <td>4.273701</td>\n",
       "      <td>4.273858</td>\n",
       "      <td>5.739022</td>\n",
       "      <td>7.613478</td>\n",
       "      <td>5.987613</td>\n",
       "      <td>5.004599</td>\n",
       "      <td>5.000000</td>\n",
       "      <td>4.977448</td>\n",
       "      <td>...</td>\n",
       "      <td>0.000000</td>\n",
       "      <td>0.000000</td>\n",
       "      <td>0.000000</td>\n",
       "      <td>0.000000</td>\n",
       "      <td>0.00000</td>\n",
       "      <td>0.0</td>\n",
       "      <td>0.0</td>\n",
       "      <td>0.0</td>\n",
       "      <td>0.0</td>\n",
       "      <td>0.0</td>\n",
       "    </tr>\n",
       "    <tr>\n",
       "      <th>1</th>\n",
       "      <td>4.022552</td>\n",
       "      <td>4.022552</td>\n",
       "      <td>4.022552</td>\n",
       "      <td>4.160367</td>\n",
       "      <td>6.966247</td>\n",
       "      <td>8.509413</td>\n",
       "      <td>7.656735</td>\n",
       "      <td>6.265601</td>\n",
       "      <td>5.008098</td>\n",
       "      <td>4.999997</td>\n",
       "      <td>...</td>\n",
       "      <td>0.979530</td>\n",
       "      <td>0.979530</td>\n",
       "      <td>0.979530</td>\n",
       "      <td>0.926185</td>\n",
       "      <td>0.00066</td>\n",
       "      <td>0.0</td>\n",
       "      <td>0.0</td>\n",
       "      <td>0.0</td>\n",
       "      <td>0.0</td>\n",
       "      <td>0.0</td>\n",
       "    </tr>\n",
       "    <tr>\n",
       "      <th>2</th>\n",
       "      <td>5.000150</td>\n",
       "      <td>5.000155</td>\n",
       "      <td>5.000155</td>\n",
       "      <td>5.000828</td>\n",
       "      <td>5.953798</td>\n",
       "      <td>7.539870</td>\n",
       "      <td>7.640340</td>\n",
       "      <td>6.004603</td>\n",
       "      <td>6.000000</td>\n",
       "      <td>6.000000</td>\n",
       "      <td>...</td>\n",
       "      <td>0.000000</td>\n",
       "      <td>0.000000</td>\n",
       "      <td>0.000000</td>\n",
       "      <td>0.000000</td>\n",
       "      <td>0.00000</td>\n",
       "      <td>0.0</td>\n",
       "      <td>0.0</td>\n",
       "      <td>0.0</td>\n",
       "      <td>0.0</td>\n",
       "      <td>0.0</td>\n",
       "    </tr>\n",
       "    <tr>\n",
       "      <th>3</th>\n",
       "      <td>3.945540</td>\n",
       "      <td>4.000000</td>\n",
       "      <td>4.008102</td>\n",
       "      <td>5.491899</td>\n",
       "      <td>6.080345</td>\n",
       "      <td>7.011183</td>\n",
       "      <td>6.045670</td>\n",
       "      <td>5.013762</td>\n",
       "      <td>4.036314</td>\n",
       "      <td>4.013763</td>\n",
       "      <td>...</td>\n",
       "      <td>0.263939</td>\n",
       "      <td>0.000363</td>\n",
       "      <td>0.000000</td>\n",
       "      <td>0.000000</td>\n",
       "      <td>0.00000</td>\n",
       "      <td>0.0</td>\n",
       "      <td>0.0</td>\n",
       "      <td>0.0</td>\n",
       "      <td>0.0</td>\n",
       "      <td>0.0</td>\n",
       "    </tr>\n",
       "    <tr>\n",
       "      <th>4</th>\n",
       "      <td>5.002485</td>\n",
       "      <td>5.002516</td>\n",
       "      <td>5.002517</td>\n",
       "      <td>5.502516</td>\n",
       "      <td>6.347900</td>\n",
       "      <td>7.961352</td>\n",
       "      <td>6.667157</td>\n",
       "      <td>5.022526</td>\n",
       "      <td>4.999969</td>\n",
       "      <td>4.999969</td>\n",
       "      <td>...</td>\n",
       "      <td>0.054460</td>\n",
       "      <td>0.048219</td>\n",
       "      <td>0.000008</td>\n",
       "      <td>0.000000</td>\n",
       "      <td>0.00000</td>\n",
       "      <td>0.0</td>\n",
       "      <td>0.0</td>\n",
       "      <td>0.0</td>\n",
       "      <td>0.0</td>\n",
       "      <td>0.0</td>\n",
       "    </tr>\n",
       "  </tbody>\n",
       "</table>\n",
       "<p>5 rows × 1376 columns</p>\n",
       "</div>"
      ],
      "text/plain": [
       "   True_val_0  True_val_1  True_val_2  True_val_3  True_val_4  True_val_5  \\\n",
       "0    4.273701    4.273701    4.273701    4.273858    5.739022    7.613478   \n",
       "1    4.022552    4.022552    4.022552    4.160367    6.966247    8.509413   \n",
       "2    5.000150    5.000155    5.000155    5.000828    5.953798    7.539870   \n",
       "3    3.945540    4.000000    4.008102    5.491899    6.080345    7.011183   \n",
       "4    5.002485    5.002516    5.002517    5.502516    6.347900    7.961352   \n",
       "\n",
       "   True_val_6  True_val_7  True_val_8  True_val_9  ...  True_val_1366  \\\n",
       "0    5.987613    5.004599    5.000000    4.977448  ...       0.000000   \n",
       "1    7.656735    6.265601    5.008098    4.999997  ...       0.979530   \n",
       "2    7.640340    6.004603    6.000000    6.000000  ...       0.000000   \n",
       "3    6.045670    5.013762    4.036314    4.013763  ...       0.263939   \n",
       "4    6.667157    5.022526    4.999969    4.999969  ...       0.054460   \n",
       "\n",
       "   True_val_1367  True_val_1368  True_val_1369  True_val_1370  True_val_1371  \\\n",
       "0       0.000000       0.000000       0.000000        0.00000            0.0   \n",
       "1       0.979530       0.979530       0.926185        0.00066            0.0   \n",
       "2       0.000000       0.000000       0.000000        0.00000            0.0   \n",
       "3       0.000363       0.000000       0.000000        0.00000            0.0   \n",
       "4       0.048219       0.000008       0.000000        0.00000            0.0   \n",
       "\n",
       "   True_val_1372  True_val_1373  True_val_1374  True_val_1375  \n",
       "0            0.0            0.0            0.0            0.0  \n",
       "1            0.0            0.0            0.0            0.0  \n",
       "2            0.0            0.0            0.0            0.0  \n",
       "3            0.0            0.0            0.0            0.0  \n",
       "4            0.0            0.0            0.0            0.0  \n",
       "\n",
       "[5 rows x 1376 columns]"
      ]
     },
     "execution_count": 75,
     "metadata": {},
     "output_type": "execute_result"
    }
   ],
   "source": [
    "exp_true.head()"
   ]
  },
  {
   "cell_type": "code",
   "execution_count": 76,
   "id": "2c45773b-0ea1-46be-8779-6c94e5c2d2e8",
   "metadata": {},
   "outputs": [],
   "source": [
    "# I think at this point we can go ahead and get the metrics for inference computed?"
   ]
  },
  {
   "cell_type": "code",
   "execution_count": 77,
   "id": "74578441-3c54-4eb3-8f75-e489c3c9494f",
   "metadata": {},
   "outputs": [],
   "source": [
    "# exp_true.keys()"
   ]
  },
  {
   "cell_type": "code",
   "execution_count": 78,
   "id": "eb0a136a-9fe1-498f-9bb8-84162b73a942",
   "metadata": {},
   "outputs": [],
   "source": [
    "# exp_true.values.shape"
   ]
  },
  {
   "cell_type": "code",
   "execution_count": 79,
   "id": "a3ca5525-f6e8-441d-ace6-0f00448a200a",
   "metadata": {},
   "outputs": [],
   "source": [
    "# use one column for both dataframes? that way it will be easier to compute the metrics?"
   ]
  },
  {
   "cell_type": "code",
   "execution_count": 80,
   "id": "1c43c82e-2df6-4005-9459-528fa4b1f3cb",
   "metadata": {},
   "outputs": [],
   "source": [
    "# Also something to keep in mind here is that the subwindow sizes are very small - 30*30 - this was intentional as we had to do the seq-2-seq model and they are data hungry - therefore having a 300*300 window size was not feasible"
   ]
  },
  {
   "cell_type": "code",
   "execution_count": 81,
   "id": "c622e1cf-a163-4edb-8ed3-d73a716466e1",
   "metadata": {},
   "outputs": [],
   "source": [
    "exp_true_onecol = pd.DataFrame(exp_true.to_numpy().ravel(order = 'F'), columns=[\"True_values\"])"
   ]
  },
  {
   "cell_type": "code",
   "execution_count": 82,
   "id": "97949b77-22b4-4b7a-82a4-32668f520ab0",
   "metadata": {},
   "outputs": [
    {
     "data": {
      "text/html": [
       "<div>\n",
       "<style scoped>\n",
       "    .dataframe tbody tr th:only-of-type {\n",
       "        vertical-align: middle;\n",
       "    }\n",
       "\n",
       "    .dataframe tbody tr th {\n",
       "        vertical-align: top;\n",
       "    }\n",
       "\n",
       "    .dataframe thead th {\n",
       "        text-align: right;\n",
       "    }\n",
       "</style>\n",
       "<table border=\"1\" class=\"dataframe\">\n",
       "  <thead>\n",
       "    <tr style=\"text-align: right;\">\n",
       "      <th></th>\n",
       "      <th>True_values</th>\n",
       "    </tr>\n",
       "  </thead>\n",
       "  <tbody>\n",
       "    <tr>\n",
       "      <th>0</th>\n",
       "      <td>4.273701</td>\n",
       "    </tr>\n",
       "    <tr>\n",
       "      <th>1</th>\n",
       "      <td>4.022552</td>\n",
       "    </tr>\n",
       "    <tr>\n",
       "      <th>2</th>\n",
       "      <td>5.000150</td>\n",
       "    </tr>\n",
       "    <tr>\n",
       "      <th>3</th>\n",
       "      <td>3.945540</td>\n",
       "    </tr>\n",
       "    <tr>\n",
       "      <th>4</th>\n",
       "      <td>5.002485</td>\n",
       "    </tr>\n",
       "  </tbody>\n",
       "</table>\n",
       "</div>"
      ],
      "text/plain": [
       "   True_values\n",
       "0     4.273701\n",
       "1     4.022552\n",
       "2     5.000150\n",
       "3     3.945540\n",
       "4     5.002485"
      ]
     },
     "execution_count": 82,
     "metadata": {},
     "output_type": "execute_result"
    }
   ],
   "source": [
    "exp_true_onecol.head()"
   ]
  },
  {
   "cell_type": "code",
   "execution_count": 83,
   "id": "770f4ad1-2c71-4a62-b2fd-0f052eba9088",
   "metadata": {},
   "outputs": [
    {
     "data": {
      "text/plain": [
       "(9632, 1)"
      ]
     },
     "execution_count": 83,
     "metadata": {},
     "output_type": "execute_result"
    }
   ],
   "source": [
    "exp_true_onecol.shape"
   ]
  },
  {
   "cell_type": "code",
   "execution_count": 84,
   "id": "59a01283-1e4e-45cf-bbc6-9330c5863f96",
   "metadata": {},
   "outputs": [
    {
     "data": {
      "text/plain": [
       "21504"
      ]
     },
     "execution_count": 84,
     "metadata": {},
     "output_type": "execute_result"
    }
   ],
   "source": [
    "3072*7"
   ]
  },
  {
   "cell_type": "code",
   "execution_count": 85,
   "id": "1de30f69-827a-4566-bb47-006090eb5f73",
   "metadata": {},
   "outputs": [],
   "source": [
    "exp_predicted_onecol = pd.DataFrame(Forecasted_values_df.to_numpy().ravel(order = 'F'), columns=[\"Forecasted_values\"])"
   ]
  },
  {
   "cell_type": "code",
   "execution_count": 86,
   "id": "8342aa85-97d4-4c5a-a021-81ef1edb027a",
   "metadata": {
    "scrolled": true
   },
   "outputs": [
    {
     "data": {
      "text/html": [
       "<div>\n",
       "<style scoped>\n",
       "    .dataframe tbody tr th:only-of-type {\n",
       "        vertical-align: middle;\n",
       "    }\n",
       "\n",
       "    .dataframe tbody tr th {\n",
       "        vertical-align: top;\n",
       "    }\n",
       "\n",
       "    .dataframe thead th {\n",
       "        text-align: right;\n",
       "    }\n",
       "</style>\n",
       "<table border=\"1\" class=\"dataframe\">\n",
       "  <thead>\n",
       "    <tr style=\"text-align: right;\">\n",
       "      <th></th>\n",
       "      <th>Forecasted_values</th>\n",
       "    </tr>\n",
       "  </thead>\n",
       "  <tbody>\n",
       "    <tr>\n",
       "      <th>0</th>\n",
       "      <td>5.291285</td>\n",
       "    </tr>\n",
       "    <tr>\n",
       "      <th>1</th>\n",
       "      <td>5.642721</td>\n",
       "    </tr>\n",
       "    <tr>\n",
       "      <th>2</th>\n",
       "      <td>6.101802</td>\n",
       "    </tr>\n",
       "    <tr>\n",
       "      <th>3</th>\n",
       "      <td>5.440166</td>\n",
       "    </tr>\n",
       "    <tr>\n",
       "      <th>4</th>\n",
       "      <td>5.501603</td>\n",
       "    </tr>\n",
       "  </tbody>\n",
       "</table>\n",
       "</div>"
      ],
      "text/plain": [
       "   Forecasted_values\n",
       "0           5.291285\n",
       "1           5.642721\n",
       "2           6.101802\n",
       "3           5.440166\n",
       "4           5.501603"
      ]
     },
     "execution_count": 86,
     "metadata": {},
     "output_type": "execute_result"
    }
   ],
   "source": [
    "exp_predicted_onecol.head()"
   ]
  },
  {
   "cell_type": "code",
   "execution_count": 87,
   "id": "a069bf97-37be-4353-a829-842b4eae8ef0",
   "metadata": {},
   "outputs": [
    {
     "data": {
      "text/html": [
       "<div>\n",
       "<style scoped>\n",
       "    .dataframe tbody tr th:only-of-type {\n",
       "        vertical-align: middle;\n",
       "    }\n",
       "\n",
       "    .dataframe tbody tr th {\n",
       "        vertical-align: top;\n",
       "    }\n",
       "\n",
       "    .dataframe thead th {\n",
       "        text-align: right;\n",
       "    }\n",
       "</style>\n",
       "<table border=\"1\" class=\"dataframe\">\n",
       "  <thead>\n",
       "    <tr style=\"text-align: right;\">\n",
       "      <th></th>\n",
       "      <th>Forecasted_values</th>\n",
       "    </tr>\n",
       "  </thead>\n",
       "  <tbody>\n",
       "    <tr>\n",
       "      <th>9627</th>\n",
       "      <td>0.005665</td>\n",
       "    </tr>\n",
       "    <tr>\n",
       "      <th>9628</th>\n",
       "      <td>0.017500</td>\n",
       "    </tr>\n",
       "    <tr>\n",
       "      <th>9629</th>\n",
       "      <td>0.015738</td>\n",
       "    </tr>\n",
       "    <tr>\n",
       "      <th>9630</th>\n",
       "      <td>0.009944</td>\n",
       "    </tr>\n",
       "    <tr>\n",
       "      <th>9631</th>\n",
       "      <td>0.008930</td>\n",
       "    </tr>\n",
       "  </tbody>\n",
       "</table>\n",
       "</div>"
      ],
      "text/plain": [
       "      Forecasted_values\n",
       "9627           0.005665\n",
       "9628           0.017500\n",
       "9629           0.015738\n",
       "9630           0.009944\n",
       "9631           0.008930"
      ]
     },
     "execution_count": 87,
     "metadata": {},
     "output_type": "execute_result"
    }
   ],
   "source": [
    "exp_predicted_onecol.tail()"
   ]
  },
  {
   "cell_type": "code",
   "execution_count": 88,
   "id": "8e28b95a-89e0-43c5-a9c3-e2cc1d432c89",
   "metadata": {},
   "outputs": [
    {
     "data": {
      "text/plain": [
       "(9632, 1)"
      ]
     },
     "execution_count": 88,
     "metadata": {},
     "output_type": "execute_result"
    }
   ],
   "source": [
    "exp_predicted_onecol.shape"
   ]
  },
  {
   "cell_type": "code",
   "execution_count": 89,
   "id": "f9ec5122-f42e-4c52-9318-d84cbf8df103",
   "metadata": {},
   "outputs": [],
   "source": [
    "# how many values are > 10? - 491 - This still feels like an absolutely high value. Should we change the priors? Need to look into this. \n",
    "# how many values are > 100? - 160\n",
    "# how many values are > 1000? - 65\n",
    "# how many values are > 10000? - 27\n",
    "# how many values are > 100000? - 8"
   ]
  },
  {
   "cell_type": "code",
   "execution_count": 90,
   "id": "da79a573-6833-429f-af4d-7a5c14e35319",
   "metadata": {},
   "outputs": [],
   "source": [
    "values_greater_than_10 = []\n",
    "greater_than_10_df_index = []\n",
    "for i, val in enumerate(range(exp_predicted_onecol.shape[0])):\n",
    "    value = exp_predicted_onecol['Forecasted_values'][val]\n",
    "    if value >= 10:\n",
    "        values_greater_than_10.append(value)\n",
    "        greater_than_10_df_index.append(i)"
   ]
  },
  {
   "cell_type": "code",
   "execution_count": 91,
   "id": "8cf6bcb1-c3c9-40a8-95eb-00154b199eff",
   "metadata": {},
   "outputs": [
    {
     "data": {
      "text/plain": [
       "1113"
      ]
     },
     "execution_count": 91,
     "metadata": {},
     "output_type": "execute_result"
    }
   ],
   "source": [
    "len(values_greater_than_10)"
   ]
  },
  {
   "cell_type": "code",
   "execution_count": 92,
   "id": "cc87cd9c-ab8d-44ef-a1a2-c47dce057068",
   "metadata": {},
   "outputs": [],
   "source": [
    "# values_greater_than_10"
   ]
  },
  {
   "cell_type": "code",
   "execution_count": 93,
   "id": "e6047afe-9129-4d9f-8a97-d9ee1d1fad09",
   "metadata": {},
   "outputs": [],
   "source": [
    "# greater_than_10_df_index"
   ]
  },
  {
   "cell_type": "code",
   "execution_count": 94,
   "id": "1830abf8-7086-4dca-8a38-2098f66574be",
   "metadata": {},
   "outputs": [],
   "source": [
    "# enumerate(exp_predicted_onecol['Forecasted_values'][0])"
   ]
  },
  {
   "cell_type": "code",
   "execution_count": 95,
   "id": "bfe30c60-3a4d-4a60-9d05-d305681fc9f2",
   "metadata": {},
   "outputs": [],
   "source": [
    "# I think at this point, we should be looking inot other blocks too, to see if we see weird results like this?"
   ]
  },
  {
   "cell_type": "code",
   "execution_count": 96,
   "id": "1e39fe2f-d205-4c7a-918a-22250ddf1694",
   "metadata": {},
   "outputs": [],
   "source": [
    "# compute the metrics - these would look really small as the values we have are really small"
   ]
  },
  {
   "cell_type": "code",
   "execution_count": 97,
   "id": "576837f9-1f0f-47e2-8959-4774323b2ead",
   "metadata": {},
   "outputs": [
    {
     "data": {
      "text/plain": [
       "34.17121796859116"
      ]
     },
     "execution_count": 97,
     "metadata": {},
     "output_type": "execute_result"
    }
   ],
   "source": [
    "# blockwise mean squared error\n",
    "rmse = np.sqrt(mean_squared_error(exp_true_onecol['True_values'], exp_predicted_onecol['Forecasted_values']))\n",
    "rmse"
   ]
  },
  {
   "cell_type": "code",
   "execution_count": 98,
   "id": "656c6ac0-86a7-4fde-b57a-24f5f5883080",
   "metadata": {},
   "outputs": [
    {
     "data": {
      "text/plain": [
       "5.6927763836520064"
      ]
     },
     "execution_count": 98,
     "metadata": {},
     "output_type": "execute_result"
    }
   ],
   "source": [
    "mae = mean_absolute_error(exp_true_onecol['True_values'], exp_predicted_onecol['Forecasted_values'])\n",
    "mae"
   ]
  },
  {
   "cell_type": "code",
   "execution_count": 99,
   "id": "93072881-3eac-4c5e-916c-5fe8f59eb24f",
   "metadata": {},
   "outputs": [
    {
     "data": {
      "text/plain": [
       "0.20010443375689846"
      ]
     },
     "execution_count": 99,
     "metadata": {},
     "output_type": "execute_result"
    }
   ],
   "source": [
    "corr = pearsonr(exp_true_onecol['True_values'], exp_predicted_onecol['Forecasted_values'])\n",
    "corr[0]"
   ]
  },
  {
   "cell_type": "code",
   "execution_count": 100,
   "id": "601575da-140c-4069-ac87-868f310aeb54",
   "metadata": {},
   "outputs": [
    {
     "data": {
      "text/plain": [
       "-258.58928991759456"
      ]
     },
     "execution_count": 100,
     "metadata": {},
     "output_type": "execute_result"
    }
   ],
   "source": [
    "r2 = r2_score(exp_true_onecol['True_values'], exp_predicted_onecol['Forecasted_values'])\n",
    "r2"
   ]
  },
  {
   "cell_type": "code",
   "execution_count": 101,
   "id": "efe29cef-f6ed-4b8c-a115-fe17bfb0c2fb",
   "metadata": {},
   "outputs": [
    {
     "data": {
      "image/png": "[encoded data removed]",
      "text/plain": [
       "<Figure size 800x800 with 1 Axes>"
      ]
     },
     "metadata": {},
     "output_type": "display_data"
    }
   ],
   "source": [
    "plt.figure(figsize = (8,8))\n",
    "plt.scatter(exp_true_onecol['True_values'], exp_predicted_onecol['Forecasted_values'], s = 10)\n",
    "plt.xlabel(\"True density\")\n",
    "plt.ylabel(\"Predicted density\")\n",
    "# Add the y = x line\n",
    "plt.plot([0, 3], [0, 3], color='green', label='y = x')\n",
    "plt.legend()\n",
    "plt.show()"
   ]
  },
  {
   "cell_type": "code",
   "execution_count": 102,
   "id": "5b6bc4f5-948f-4ffd-94bf-67b6132b9586",
   "metadata": {},
   "outputs": [
    {
     "data": {
      "image/png": "[encoded data removed]",
      "text/plain": [
       "<Figure size 640x480 with 1 Axes>"
      ]
     },
     "metadata": {},
     "output_type": "display_data"
    }
   ],
   "source": [
    "# At this point let's look at the true and predicted value distributions - overlay the histograms\n",
    "\n",
    "# Plot histogram of two columns\n",
    "plt.hist(exp_true_onecol['True_values'], \n",
    "         bins=30, \n",
    "         label=[' True values'], \n",
    "         alpha=0.5, color = 'blue')  # alpha = transparency\n",
    "plt.hist(exp_predicted_onecol['Forecasted_values'], \n",
    "         bins=30, \n",
    "         label=['Predicted values'], \n",
    "         alpha=0.5, color = 'red') \n",
    "plt.xlabel(\"Value\")\n",
    "plt.ylabel(\"Frequency\")\n",
    "plt.title(\"Histogram of Two Columns\")\n",
    "plt.legend()\n",
    "plt.show()"
   ]
  },
  {
   "cell_type": "code",
   "execution_count": 103,
   "id": "d86e03d3-9dc9-438c-9442-82da8bdfe8ce",
   "metadata": {},
   "outputs": [],
   "source": [
    "# Should we try to get the values separated by 0s?"
   ]
  },
  {
   "cell_type": "code",
   "execution_count": 104,
   "id": "abe3c42d-1d1d-46c0-a6a8-9324236f0943",
   "metadata": {},
   "outputs": [],
   "source": [
    "# how to do this? Maybe we need to take the indices from the true values df, and subset accordingly?"
   ]
  },
  {
   "cell_type": "code",
   "execution_count": 105,
   "id": "b24b7cda-ac98-492c-a939-5c31a1a32046",
   "metadata": {},
   "outputs": [],
   "source": [
    "# so create a mask 0 with the true values 0s - we need the indices of this"
   ]
  },
  {
   "cell_type": "code",
   "execution_count": 106,
   "id": "1a6f9210-233b-4394-8573-bf9c8b943a61",
   "metadata": {},
   "outputs": [],
   "source": [
    "mask_zero = exp_true_onecol['True_values'].eq(0)"
   ]
  },
  {
   "cell_type": "code",
   "execution_count": 107,
   "id": "d471dc76-ee06-4aea-96fd-718fcd304a30",
   "metadata": {},
   "outputs": [],
   "source": [
    "# separate the zero and non-zero indices\n",
    "idx_zero = exp_true_onecol.index[mask_zero]\n",
    "idx_nonzero = exp_true_onecol.index[-mask_zero]"
   ]
  },
  {
   "cell_type": "code",
   "execution_count": 108,
   "id": "00c74624-2b63-4a24-964f-7d51f22ac673",
   "metadata": {},
   "outputs": [
    {
     "data": {
      "text/plain": [
       "(1289,)"
      ]
     },
     "execution_count": 108,
     "metadata": {},
     "output_type": "execute_result"
    }
   ],
   "source": [
    "# how many zero values?\n",
    "idx_zero.shape"
   ]
  },
  {
   "cell_type": "code",
   "execution_count": 109,
   "id": "7739f884-380a-49fe-b849-fe0f8ea4fe88",
   "metadata": {},
   "outputs": [
    {
     "data": {
      "text/plain": [
       "6370"
      ]
     },
     "execution_count": 109,
     "metadata": {},
     "output_type": "execute_result"
    }
   ],
   "source": [
    "910*7"
   ]
  },
  {
   "cell_type": "code",
   "execution_count": 110,
   "id": "f44c0120-4b6b-4ba9-8a64-d1261a00dcd0",
   "metadata": {},
   "outputs": [
    {
     "data": {
      "text/plain": [
       "(8343,)"
      ]
     },
     "execution_count": 110,
     "metadata": {},
     "output_type": "execute_result"
    }
   ],
   "source": [
    "# how many non-zeor values\n",
    "idx_nonzero.shape"
   ]
  },
  {
   "cell_type": "code",
   "execution_count": 111,
   "id": "63de6cf0-cc99-45e8-aa2c-30a7547da434",
   "metadata": {},
   "outputs": [
    {
     "data": {
      "text/plain": [
       "9632"
      ]
     },
     "execution_count": 111,
     "metadata": {},
     "output_type": "execute_result"
    }
   ],
   "source": [
    "# sanity check\n",
    "idx_nonzero.shape[0] + idx_zero.shape[0]"
   ]
  },
  {
   "cell_type": "code",
   "execution_count": 112,
   "id": "4a256064-8c76-431c-bc76-e721a1b7282a",
   "metadata": {},
   "outputs": [],
   "source": [
    "# Subset both dataframes with the same indices\n",
    "df_true_zero  = exp_true_onecol.loc[idx_zero]\n",
    "df_pred_zero  = exp_predicted_onecol.loc[idx_zero]\n",
    "df_true_nz    = exp_true_onecol.loc[idx_nonzero]\n",
    "df_pred_nz    = exp_predicted_onecol.loc[idx_nonzero]"
   ]
  },
  {
   "cell_type": "code",
   "execution_count": 113,
   "id": "3df123ca-fe8d-4482-8736-34c3b5128668",
   "metadata": {},
   "outputs": [
    {
     "data": {
      "text/plain": [
       "((1289, 1), (1289, 1))"
      ]
     },
     "execution_count": 113,
     "metadata": {},
     "output_type": "execute_result"
    }
   ],
   "source": [
    "df_true_zero.shape, df_pred_zero.shape"
   ]
  },
  {
   "cell_type": "code",
   "execution_count": 114,
   "id": "c3841a59-219e-4015-aef1-0c88dc839328",
   "metadata": {},
   "outputs": [
    {
     "data": {
      "text/html": [
       "<div>\n",
       "<style scoped>\n",
       "    .dataframe tbody tr th:only-of-type {\n",
       "        vertical-align: middle;\n",
       "    }\n",
       "\n",
       "    .dataframe tbody tr th {\n",
       "        vertical-align: top;\n",
       "    }\n",
       "\n",
       "    .dataframe thead th {\n",
       "        text-align: right;\n",
       "    }\n",
       "</style>\n",
       "<table border=\"1\" class=\"dataframe\">\n",
       "  <thead>\n",
       "    <tr style=\"text-align: right;\">\n",
       "      <th></th>\n",
       "      <th>True_values</th>\n",
       "    </tr>\n",
       "  </thead>\n",
       "  <tbody>\n",
       "    <tr>\n",
       "      <th>252</th>\n",
       "      <td>0.0</td>\n",
       "    </tr>\n",
       "    <tr>\n",
       "      <th>258</th>\n",
       "      <td>0.0</td>\n",
       "    </tr>\n",
       "    <tr>\n",
       "      <th>259</th>\n",
       "      <td>0.0</td>\n",
       "    </tr>\n",
       "    <tr>\n",
       "      <th>260</th>\n",
       "      <td>0.0</td>\n",
       "    </tr>\n",
       "    <tr>\n",
       "      <th>261</th>\n",
       "      <td>0.0</td>\n",
       "    </tr>\n",
       "  </tbody>\n",
       "</table>\n",
       "</div>"
      ],
      "text/plain": [
       "     True_values\n",
       "252          0.0\n",
       "258          0.0\n",
       "259          0.0\n",
       "260          0.0\n",
       "261          0.0"
      ]
     },
     "execution_count": 114,
     "metadata": {},
     "output_type": "execute_result"
    }
   ],
   "source": [
    "df_true_zero.head()"
   ]
  },
  {
   "cell_type": "code",
   "execution_count": 115,
   "id": "1713c839-a187-4043-9d24-0935778a2cc3",
   "metadata": {},
   "outputs": [
    {
     "data": {
      "text/html": [
       "<div>\n",
       "<style scoped>\n",
       "    .dataframe tbody tr th:only-of-type {\n",
       "        vertical-align: middle;\n",
       "    }\n",
       "\n",
       "    .dataframe tbody tr th {\n",
       "        vertical-align: top;\n",
       "    }\n",
       "\n",
       "    .dataframe thead th {\n",
       "        text-align: right;\n",
       "    }\n",
       "</style>\n",
       "<table border=\"1\" class=\"dataframe\">\n",
       "  <thead>\n",
       "    <tr style=\"text-align: right;\">\n",
       "      <th></th>\n",
       "      <th>Forecasted_values</th>\n",
       "    </tr>\n",
       "  </thead>\n",
       "  <tbody>\n",
       "    <tr>\n",
       "      <th>252</th>\n",
       "      <td>0.624356</td>\n",
       "    </tr>\n",
       "    <tr>\n",
       "      <th>258</th>\n",
       "      <td>0.612379</td>\n",
       "    </tr>\n",
       "    <tr>\n",
       "      <th>259</th>\n",
       "      <td>0.391103</td>\n",
       "    </tr>\n",
       "    <tr>\n",
       "      <th>260</th>\n",
       "      <td>0.381326</td>\n",
       "    </tr>\n",
       "    <tr>\n",
       "      <th>261</th>\n",
       "      <td>0.480673</td>\n",
       "    </tr>\n",
       "  </tbody>\n",
       "</table>\n",
       "</div>"
      ],
      "text/plain": [
       "     Forecasted_values\n",
       "252           0.624356\n",
       "258           0.612379\n",
       "259           0.391103\n",
       "260           0.381326\n",
       "261           0.480673"
      ]
     },
     "execution_count": 115,
     "metadata": {},
     "output_type": "execute_result"
    }
   ],
   "source": [
    "df_pred_zero.head()"
   ]
  },
  {
   "cell_type": "code",
   "execution_count": 116,
   "id": "7cb5d3a4-a298-457a-99ff-d39149186ad7",
   "metadata": {},
   "outputs": [
    {
     "data": {
      "text/html": [
       "<div>\n",
       "<style scoped>\n",
       "    .dataframe tbody tr th:only-of-type {\n",
       "        vertical-align: middle;\n",
       "    }\n",
       "\n",
       "    .dataframe tbody tr th {\n",
       "        vertical-align: top;\n",
       "    }\n",
       "\n",
       "    .dataframe thead th {\n",
       "        text-align: right;\n",
       "    }\n",
       "</style>\n",
       "<table border=\"1\" class=\"dataframe\">\n",
       "  <thead>\n",
       "    <tr style=\"text-align: right;\">\n",
       "      <th></th>\n",
       "      <th>True_values</th>\n",
       "    </tr>\n",
       "  </thead>\n",
       "  <tbody>\n",
       "    <tr>\n",
       "      <th>0</th>\n",
       "      <td>4.273701</td>\n",
       "    </tr>\n",
       "    <tr>\n",
       "      <th>1</th>\n",
       "      <td>4.022552</td>\n",
       "    </tr>\n",
       "    <tr>\n",
       "      <th>2</th>\n",
       "      <td>5.000150</td>\n",
       "    </tr>\n",
       "    <tr>\n",
       "      <th>3</th>\n",
       "      <td>3.945540</td>\n",
       "    </tr>\n",
       "    <tr>\n",
       "      <th>4</th>\n",
       "      <td>5.002485</td>\n",
       "    </tr>\n",
       "  </tbody>\n",
       "</table>\n",
       "</div>"
      ],
      "text/plain": [
       "   True_values\n",
       "0     4.273701\n",
       "1     4.022552\n",
       "2     5.000150\n",
       "3     3.945540\n",
       "4     5.002485"
      ]
     },
     "execution_count": 116,
     "metadata": {},
     "output_type": "execute_result"
    }
   ],
   "source": [
    "df_true_nz.head()"
   ]
  },
  {
   "cell_type": "code",
   "execution_count": 117,
   "id": "4d6ceb8e-f387-49c4-937f-23c284c6158d",
   "metadata": {},
   "outputs": [
    {
     "data": {
      "text/html": [
       "<div>\n",
       "<style scoped>\n",
       "    .dataframe tbody tr th:only-of-type {\n",
       "        vertical-align: middle;\n",
       "    }\n",
       "\n",
       "    .dataframe tbody tr th {\n",
       "        vertical-align: top;\n",
       "    }\n",
       "\n",
       "    .dataframe thead th {\n",
       "        text-align: right;\n",
       "    }\n",
       "</style>\n",
       "<table border=\"1\" class=\"dataframe\">\n",
       "  <thead>\n",
       "    <tr style=\"text-align: right;\">\n",
       "      <th></th>\n",
       "      <th>Forecasted_values</th>\n",
       "    </tr>\n",
       "  </thead>\n",
       "  <tbody>\n",
       "    <tr>\n",
       "      <th>0</th>\n",
       "      <td>5.291285</td>\n",
       "    </tr>\n",
       "    <tr>\n",
       "      <th>1</th>\n",
       "      <td>5.642721</td>\n",
       "    </tr>\n",
       "    <tr>\n",
       "      <th>2</th>\n",
       "      <td>6.101802</td>\n",
       "    </tr>\n",
       "    <tr>\n",
       "      <th>3</th>\n",
       "      <td>5.440166</td>\n",
       "    </tr>\n",
       "    <tr>\n",
       "      <th>4</th>\n",
       "      <td>5.501603</td>\n",
       "    </tr>\n",
       "  </tbody>\n",
       "</table>\n",
       "</div>"
      ],
      "text/plain": [
       "   Forecasted_values\n",
       "0           5.291285\n",
       "1           5.642721\n",
       "2           6.101802\n",
       "3           5.440166\n",
       "4           5.501603"
      ]
     },
     "execution_count": 117,
     "metadata": {},
     "output_type": "execute_result"
    }
   ],
   "source": [
    "df_pred_nz.head()"
   ]
  },
  {
   "cell_type": "code",
   "execution_count": 118,
   "id": "fa6515be-c487-4d90-a7f7-7ae9aac98be8",
   "metadata": {},
   "outputs": [],
   "source": [
    "# create the separate scatterplots for these"
   ]
  },
  {
   "cell_type": "code",
   "execution_count": 119,
   "id": "5b1be166-8641-4ef5-af70-386326b2c989",
   "metadata": {},
   "outputs": [
    {
     "data": {
      "image/png": "[encoded data removed]",
      "text/plain": [
       "<Figure size 800x800 with 1 Axes>"
      ]
     },
     "metadata": {},
     "output_type": "display_data"
    }
   ],
   "source": [
    "# For zero-data\n",
    "plt.figure(figsize = (8,8))\n",
    "plt.scatter(df_true_zero['True_values'], df_pred_zero['Forecasted_values'], s = 10)\n",
    "plt.title(\"Scatter plot when the True densities are zeros\")\n",
    "plt.xlabel(\"True densities\")\n",
    "plt.ylabel(\"Forecasted densities\")\n",
    "plt.show()"
   ]
  },
  {
   "cell_type": "code",
   "execution_count": 120,
   "id": "81177e50-319f-41e7-bded-f0cb4194812b",
   "metadata": {},
   "outputs": [
    {
     "data": {
      "image/png": "[encoded data removed]",
      "text/plain": [
       "<Figure size 640x480 with 1 Axes>"
      ]
     },
     "metadata": {},
     "output_type": "display_data"
    }
   ],
   "source": [
    "# Plot histogram of two columns\n",
    "plt.hist(df_true_zero['True_values'], \n",
    "         bins=30, \n",
    "         label=[' True values'], \n",
    "         alpha=0.5, color = 'blue')  # alpha = transparency\n",
    "plt.hist(df_pred_zero['Forecasted_values'], \n",
    "         bins=30, \n",
    "         label=['Predicted values'], \n",
    "         alpha=0.5, color = 'red') \n",
    "plt.xlabel(\"Value\")\n",
    "plt.ylabel(\"Frequency\")\n",
    "plt.title(\"Histogram of Two Columns\")\n",
    "plt.legend()\n",
    "plt.show()"
   ]
  },
  {
   "cell_type": "code",
   "execution_count": 121,
   "id": "1fb0724b-bfa0-40fc-ac2b-f249f807788a",
   "metadata": {},
   "outputs": [
    {
     "data": {
      "image/png": "[encoded data removed]",
      "text/plain": [
       "<Figure size 800x800 with 1 Axes>"
      ]
     },
     "metadata": {},
     "output_type": "display_data"
    }
   ],
   "source": [
    "# For non-zero data\n",
    "plt.figure(figsize = (8,8))\n",
    "plt.scatter(df_true_nz['True_values'], df_pred_nz['Forecasted_values'], s = 10)\n",
    "plt.title(\"Scatter plot when the True densities are non-zeros\")\n",
    "# also plot the y = x line?\n",
    "plt.plot([0, 3], [0, 3], color='green', label='y = x')\n",
    "plt.xlabel(\"True densities\")\n",
    "plt.ylabel(\"Forecasted densities\")\n",
    "plt.show()"
   ]
  },
  {
   "cell_type": "code",
   "execution_count": 122,
   "id": "667b1664-b6e7-433c-97c4-a6f52fd02dea",
   "metadata": {},
   "outputs": [
    {
     "data": {
      "image/png": "[encoded data removed]",
      "text/plain": [
       "<Figure size 640x480 with 1 Axes>"
      ]
     },
     "metadata": {},
     "output_type": "display_data"
    }
   ],
   "source": [
    "# Plot histogram of two columns\n",
    "plt.hist(df_true_nz['True_values'], \n",
    "         bins=30, \n",
    "         label=[' True values'], \n",
    "         alpha=0.5, color = 'blue')  # alpha = transparency\n",
    "plt.hist(df_pred_nz['Forecasted_values'], \n",
    "         bins=30, \n",
    "         label=['Predicted values'], \n",
    "         alpha=0.5, color = 'red') \n",
    "plt.xlabel(\"Value\")\n",
    "plt.ylabel(\"Frequency\")\n",
    "plt.title(\"Histogram of Two Columns\")\n",
    "plt.legend()\n",
    "plt.show()"
   ]
  },
  {
   "cell_type": "code",
   "execution_count": 123,
   "id": "7f15c23f-13fa-4a4c-8f9e-91a286fe3ecb",
   "metadata": {},
   "outputs": [],
   "source": [
    "# not that great - but maybe the model is not doing as well as we need due to the number of zeros we had considered during the model training phase?"
   ]
  },
  {
   "cell_type": "code",
   "execution_count": 124,
   "id": "09b5a98a-8355-4906-9dc6-6c04080878d5",
   "metadata": {},
   "outputs": [],
   "source": [
    "# Maybe get the metrics for teh reduced subsets of data as well"
   ]
  },
  {
   "cell_type": "code",
   "execution_count": 125,
   "id": "daf790da-d6e2-4b26-ba0f-c4bba44003a5",
   "metadata": {},
   "outputs": [],
   "source": [
    "# All zeros"
   ]
  },
  {
   "cell_type": "code",
   "execution_count": 126,
   "id": "8f00c90b-e894-4fe5-a5a1-59bc88819f8f",
   "metadata": {},
   "outputs": [
    {
     "data": {
      "text/plain": [
       "0.4830601354016346"
      ]
     },
     "execution_count": 126,
     "metadata": {},
     "output_type": "execute_result"
    }
   ],
   "source": [
    "rmse_zero =  np.sqrt(mean_squared_error(df_true_zero['True_values'], df_pred_zero['Forecasted_values']))\n",
    "rmse_zero"
   ]
  },
  {
   "cell_type": "code",
   "execution_count": 127,
   "id": "3d662c70-2756-4907-8a23-5230d48df1f1",
   "metadata": {},
   "outputs": [
    {
     "data": {
      "text/plain": [
       "0.2606754140015128"
      ]
     },
     "execution_count": 127,
     "metadata": {},
     "output_type": "execute_result"
    }
   ],
   "source": [
    "mae_zero = mean_absolute_error(df_true_zero['True_values'], df_pred_zero['Forecasted_values'])\n",
    "mae_zero"
   ]
  },
  {
   "cell_type": "code",
   "execution_count": 128,
   "id": "1aba16bc-daa8-477e-b2d8-9f7c0ebe6cb5",
   "metadata": {},
   "outputs": [
    {
     "name": "stderr",
     "output_type": "stream",
     "text": [
      "/mnt/nrdstor/statsgeneral/gayara/tfp_cpu_env/lib/python3.11/site-packages/scipy/stats/_stats_py.py:4781: ConstantInputWarning: An input array is constant; the correlation coefficient is not defined.\n",
      "  warnings.warn(stats.ConstantInputWarning(msg))\n"
     ]
    }
   ],
   "source": [
    "corr_zero = pearsonr(df_true_zero['True_values'], df_pred_zero['Forecasted_values'])"
   ]
  },
  {
   "cell_type": "code",
   "execution_count": 129,
   "id": "8dc223f6-3ef1-4e38-bdfa-17b7d3355b65",
   "metadata": {},
   "outputs": [
    {
     "data": {
      "text/plain": [
       "PearsonRResult(statistic=nan, pvalue=nan)"
      ]
     },
     "execution_count": 129,
     "metadata": {},
     "output_type": "execute_result"
    }
   ],
   "source": [
    "corr_zero"
   ]
  },
  {
   "cell_type": "code",
   "execution_count": 130,
   "id": "0fbe3d09-1068-4c48-8b75-ec1a0528b271",
   "metadata": {},
   "outputs": [
    {
     "data": {
      "text/plain": [
       "-368.97647685674906"
      ]
     },
     "execution_count": 130,
     "metadata": {},
     "output_type": "execute_result"
    }
   ],
   "source": [
    "r2_zero = r2_score(df_true_nz['True_values'], df_pred_nz['Forecasted_values'])\n",
    "r2_zero"
   ]
  },
  {
   "cell_type": "code",
   "execution_count": 131,
   "id": "ce72776f-ad77-4356-a433-85f9d97b7813",
   "metadata": {},
   "outputs": [],
   "source": [
    "# non zeros"
   ]
  },
  {
   "cell_type": "code",
   "execution_count": 132,
   "id": "e61c34f7-e6bc-4aab-bee8-a42fff986316",
   "metadata": {},
   "outputs": [
    {
     "data": {
      "text/plain": [
       "36.71569610010361"
      ]
     },
     "execution_count": 132,
     "metadata": {},
     "output_type": "execute_result"
    }
   ],
   "source": [
    "rmse_nzero =  np.sqrt(mean_squared_error(df_true_nz['True_values'], df_pred_nz['Forecasted_values']))\n",
    "rmse_nzero"
   ]
  },
  {
   "cell_type": "code",
   "execution_count": 133,
   "id": "e49def21-cecd-42cc-b893-dcde7152f111",
   "metadata": {},
   "outputs": [
    {
     "data": {
      "text/plain": [
       "6.532040215592494"
      ]
     },
     "execution_count": 133,
     "metadata": {},
     "output_type": "execute_result"
    }
   ],
   "source": [
    "mae_nzero = mean_absolute_error(df_true_nz['True_values'], df_pred_nz['Forecasted_values'])\n",
    "mae_nzero"
   ]
  },
  {
   "cell_type": "code",
   "execution_count": 134,
   "id": "50b9cafd-40de-48ca-836c-61cdbf218ff2",
   "metadata": {},
   "outputs": [],
   "source": [
    "corr_nzero = pearsonr(df_true_nz['True_values'], df_pred_nz['Forecasted_values'])"
   ]
  },
  {
   "cell_type": "code",
   "execution_count": 135,
   "id": "7ad869be-4d69-4476-a3ed-9f58856d7b4c",
   "metadata": {},
   "outputs": [
    {
     "data": {
      "text/plain": [
       "PearsonRResult(statistic=0.18134463834419906, pvalue=1.3066161891804108e-62)"
      ]
     },
     "execution_count": 135,
     "metadata": {},
     "output_type": "execute_result"
    }
   ],
   "source": [
    "corr_nzero"
   ]
  },
  {
   "cell_type": "code",
   "execution_count": 136,
   "id": "9f381cc1-4d60-4cff-9186-51c402041846",
   "metadata": {},
   "outputs": [
    {
     "data": {
      "text/plain": [
       "-368.97647685674906"
      ]
     },
     "execution_count": 136,
     "metadata": {},
     "output_type": "execute_result"
    }
   ],
   "source": [
    "r2_nzero = r2_score(df_true_nz['True_values'], df_pred_nz['Forecasted_values'])\n",
    "r2_nzero"
   ]
  },
  {
   "cell_type": "markdown",
   "id": "3e6d46d1-da3f-4e0b-85e4-07d9150143c3",
   "metadata": {},
   "source": [
    "Credible Intervals"
   ]
  },
  {
   "cell_type": "code",
   "execution_count": 137,
   "id": "d1283353-ccf4-4640-9443-060c86a177c9",
   "metadata": {},
   "outputs": [],
   "source": [
    "all_forecasts_npy_files = ['all_forecasts_sub_' + str(i) + '.npy' for i in range(1376)]"
   ]
  },
  {
   "cell_type": "code",
   "execution_count": 138,
   "id": "46efa0a7-a942-431d-8540-cc8f57a8fe0e",
   "metadata": {},
   "outputs": [
    {
     "name": "stdout",
     "output_type": "stream",
     "text": [
      "CPU times: user 351 ms, sys: 101 ms, total: 452 ms\n",
      "Wall time: 454 ms\n"
     ]
    }
   ],
   "source": [
    "%%time\n",
    "loaded_npy_files = []\n",
    "for file in all_forecasts_npy_files:\n",
    "    joined_path = os.path.join(path_to_dfs, file)\n",
    "    load_file = np.load(joined_path)\n",
    "    # notice we are averaging the preds across the chains before exponentiation\n",
    "    mean_file = np.mean(np.exp(load_file)-1, axis = 1)\n",
    "    loaded_npy_files.append(mean_file)"
   ]
  },
  {
   "cell_type": "code",
   "execution_count": 139,
   "id": "95532003-d9ec-4003-b0cc-050441d4bc64",
   "metadata": {},
   "outputs": [
    {
     "data": {
      "text/plain": [
       "1376"
      ]
     },
     "execution_count": 139,
     "metadata": {},
     "output_type": "execute_result"
    }
   ],
   "source": [
    "len(loaded_npy_files)"
   ]
  },
  {
   "cell_type": "code",
   "execution_count": 140,
   "id": "8852a620-9f09-4a6a-9abc-261e466b7100",
   "metadata": {},
   "outputs": [
    {
     "data": {
      "text/plain": [
       "(1000, 7)"
      ]
     },
     "execution_count": 140,
     "metadata": {},
     "output_type": "execute_result"
    }
   ],
   "source": [
    "loaded_npy_files[0].shape"
   ]
  },
  {
   "cell_type": "code",
   "execution_count": 141,
   "id": "1a8bf2d5-72e2-4e66-842b-f740bc32d6c4",
   "metadata": {},
   "outputs": [],
   "source": [
    "# Maybe we should not get rid of the negatives? - As for the percentiles we will else never capture the true values of zeros?"
   ]
  },
  {
   "cell_type": "code",
   "execution_count": 142,
   "id": "0568b502-103f-4a04-8242-7031d19cc3ca",
   "metadata": {},
   "outputs": [],
   "source": [
    "# yeah, let's proceed with these"
   ]
  },
  {
   "cell_type": "code",
   "execution_count": 143,
   "id": "891cf483-19f4-4201-93c3-d5c089a68273",
   "metadata": {},
   "outputs": [],
   "source": [
    "# how to arrange these though? - might need to think this through a little"
   ]
  },
  {
   "cell_type": "code",
   "execution_count": 144,
   "id": "c671730f-2a6b-4387-9429-ffe7c02fa813",
   "metadata": {},
   "outputs": [
    {
     "data": {
      "text/plain": [
       "(7, 1376)"
      ]
     },
     "execution_count": 144,
     "metadata": {},
     "output_type": "execute_result"
    }
   ],
   "source": [
    "exp_true.shape"
   ]
  },
  {
   "cell_type": "code",
   "execution_count": 145,
   "id": "2a8f28f9-a6da-48e2-bb39-df328db746a5",
   "metadata": {},
   "outputs": [],
   "source": [
    "# where is the lsit of the forecasted range of values? - loaded_npy_files"
   ]
  },
  {
   "cell_type": "code",
   "execution_count": 146,
   "id": "9f0f8a25-8d35-4208-b291-268acdd6f166",
   "metadata": {},
   "outputs": [
    {
     "data": {
      "text/plain": [
       "1376"
      ]
     },
     "execution_count": 146,
     "metadata": {},
     "output_type": "execute_result"
    }
   ],
   "source": [
    "len(loaded_npy_files)"
   ]
  },
  {
   "cell_type": "code",
   "execution_count": 147,
   "id": "926e5ada-5d73-4773-84d0-9dda13f0013b",
   "metadata": {},
   "outputs": [
    {
     "data": {
      "text/plain": [
       "(1000, 7)"
      ]
     },
     "execution_count": 147,
     "metadata": {},
     "output_type": "execute_result"
    }
   ],
   "source": [
    "loaded_npy_files[0].shape"
   ]
  },
  {
   "cell_type": "code",
   "execution_count": 148,
   "id": "491757f8-1e87-44dc-b6b6-a3064d5b59d5",
   "metadata": {},
   "outputs": [],
   "source": [
    "# Okay, I think we need to move along the loaded file and also its axis 1 to get the percentile values in order."
   ]
  },
  {
   "cell_type": "code",
   "execution_count": 149,
   "id": "af429823-492f-462a-b26d-d41fbae4ad01",
   "metadata": {},
   "outputs": [],
   "source": [
    "# create a for loop for this? - and later maybe even a function so we do not need to repeat everything for each block separately"
   ]
  },
  {
   "cell_type": "code",
   "execution_count": 150,
   "id": "22caf338-e41f-409a-b915-bfb50a007f97",
   "metadata": {},
   "outputs": [],
   "source": [
    "# I think we also need to catch the percentiles?"
   ]
  },
  {
   "cell_type": "code",
   "execution_count": 151,
   "id": "1437bde4-4fd9-4ec0-b08d-a11325b900d6",
   "metadata": {},
   "outputs": [],
   "source": [
    "# Let's try all these?"
   ]
  },
  {
   "cell_type": "code",
   "execution_count": 152,
   "id": "66e12086-ceec-4e68-8d58-17dc6840293e",
   "metadata": {},
   "outputs": [],
   "source": [
    "trial_0 = loaded_npy_files[0][:,0]"
   ]
  },
  {
   "cell_type": "code",
   "execution_count": 153,
   "id": "a5991ee6-71f2-4aa9-816d-9f4790a62863",
   "metadata": {},
   "outputs": [
    {
     "data": {
      "text/plain": [
       "(1000,)"
      ]
     },
     "execution_count": 153,
     "metadata": {},
     "output_type": "execute_result"
    }
   ],
   "source": [
    "trial_0.shape"
   ]
  },
  {
   "cell_type": "code",
   "execution_count": 154,
   "id": "9b5136d7-ccfe-4112-bca5-e84c6a6245d7",
   "metadata": {},
   "outputs": [],
   "source": [
    "trial_li = np.percentile(trial_0, axis = 0, q = (2.5, 97.5))"
   ]
  },
  {
   "cell_type": "code",
   "execution_count": 155,
   "id": "f929943f-8c47-4318-a753-d5c1a537d1a1",
   "metadata": {},
   "outputs": [],
   "source": [
    "# trial_0.min(), trial_0.max()"
   ]
  },
  {
   "cell_type": "code",
   "execution_count": 156,
   "id": "74a56faa-f47f-42ed-a93e-de996cd92268",
   "metadata": {},
   "outputs": [
    {
     "data": {
      "text/plain": [
       "array([3.99495474, 6.91239655])"
      ]
     },
     "execution_count": 156,
     "metadata": {},
     "output_type": "execute_result"
    }
   ],
   "source": [
    "trial_li"
   ]
  },
  {
   "cell_type": "code",
   "execution_count": 157,
   "id": "ac802cff-8d84-49de-b0fb-3200b79f7317",
   "metadata": {},
   "outputs": [
    {
     "data": {
      "text/plain": [
       "(3.9949547410011292, 6.912396550178528)"
      ]
     },
     "execution_count": 157,
     "metadata": {},
     "output_type": "execute_result"
    }
   ],
   "source": [
    "trial_li[0], trial_li[1]"
   ]
  },
  {
   "cell_type": "code",
   "execution_count": 158,
   "id": "43327cdf-ac00-461a-9fee-51233f414f2b",
   "metadata": {},
   "outputs": [],
   "source": [
    "lower_and_upper_limits = [] \n",
    "for j in range(loaded_npy_files[0].shape[1]):\n",
    "    values = loaded_npy_files[0][:,j]\n",
    "    # compute the lower and upper bounds?\n",
    "    li = np.percentile(values, axis = 0, q = (2.5, 97.5))[0]    \n",
    "    ui = np.percentile(values, axis = 0, q = (2.5, 97.5))[1]\n",
    "    lower_and_upper_limits.append((li, ui))"
   ]
  },
  {
   "cell_type": "code",
   "execution_count": 159,
   "id": "0593dae1-4d70-48b3-88f1-9a0964be600e",
   "metadata": {},
   "outputs": [
    {
     "data": {
      "text/plain": [
       "[(3.9949547410011292, 6.912396550178528),\n",
       " (4.05844247341156, 7.572014307975769),\n",
       " (4.287962508201599, 8.403252625465392),\n",
       " (3.337275552749634, 8.009182906150818),\n",
       " (3.716149115562439, 7.757858526706696),\n",
       " (3.7892497181892395, 7.935498011112213),\n",
       " (3.8487717509269714, 7.702857887744903)]"
      ]
     },
     "execution_count": 159,
     "metadata": {},
     "output_type": "execute_result"
    }
   ],
   "source": [
    "lower_and_upper_limits"
   ]
  },
  {
   "cell_type": "code",
   "execution_count": 160,
   "id": "46213b78-ec25-4f81-add5-42a6d15bfcfe",
   "metadata": {},
   "outputs": [
    {
     "name": "stdout",
     "output_type": "stream",
     "text": [
      "CPU times: user 1.34 s, sys: 509 µs, total: 1.34 s\n",
      "Wall time: 1.35 s\n"
     ]
    }
   ],
   "source": [
    "%%time\n",
    "# Do this for all files?\n",
    "catch_all_percentiles = []\n",
    "for i in range(len(loaded_npy_files)):\n",
    "    all_lower_and_upper_limits = [] \n",
    "    for j in range(loaded_npy_files[i].shape[1]):\n",
    "        values = loaded_npy_files[i][:,j]\n",
    "        # compute the lower and upper bounds?\n",
    "        li = np.percentile(values, axis = 0, q = (2.5, 97.5))[0]    \n",
    "        ui = np.percentile(values, axis = 0, q = (2.5, 97.5))[1]\n",
    "        all_lower_and_upper_limits.append((li, ui))\n",
    "    catch_all_percentiles.append(all_lower_and_upper_limits)\n",
    "    "
   ]
  },
  {
   "cell_type": "code",
   "execution_count": 161,
   "id": "ff1bf688-0f0a-4703-9056-471c60e793b7",
   "metadata": {},
   "outputs": [
    {
     "data": {
      "text/plain": [
       "1376"
      ]
     },
     "execution_count": 161,
     "metadata": {},
     "output_type": "execute_result"
    }
   ],
   "source": [
    "len(catch_all_percentiles)"
   ]
  },
  {
   "cell_type": "code",
   "execution_count": 162,
   "id": "02db8873-f844-4dc6-b6ae-c04aca24099d",
   "metadata": {},
   "outputs": [],
   "source": [
    "catch_inside_length = []\n",
    "for limit_values in catch_all_percentiles:\n",
    "    length = len(limit_values)\n",
    "    catch_inside_length.append(length)"
   ]
  },
  {
   "cell_type": "code",
   "execution_count": 163,
   "id": "e6d08eb0-1132-465d-8e8d-cb39b675da4e",
   "metadata": {},
   "outputs": [
    {
     "data": {
      "text/plain": [
       "7.0"
      ]
     },
     "execution_count": 163,
     "metadata": {},
     "output_type": "execute_result"
    }
   ],
   "source": [
    "np.mean(catch_inside_length)"
   ]
  },
  {
   "cell_type": "code",
   "execution_count": 164,
   "id": "ee051bb6-0d20-44c2-bba4-aed93879566e",
   "metadata": {},
   "outputs": [],
   "source": [
    "# We may need a multitude of sanity checks to make sure we are correctly computing the coverages and widths. Now at this point, we can go ahead and compute the CI widths using the credible intervals? As this computation seems fairly simple?"
   ]
  },
  {
   "cell_type": "code",
   "execution_count": 165,
   "id": "0e25abcb-7754-4f52-b879-6fefe82dca8a",
   "metadata": {},
   "outputs": [
    {
     "data": {
      "text/plain": [
       "7"
      ]
     },
     "execution_count": 165,
     "metadata": {},
     "output_type": "execute_result"
    }
   ],
   "source": [
    "len(catch_all_percentiles[0])"
   ]
  },
  {
   "cell_type": "code",
   "execution_count": 166,
   "id": "503f2147-13d7-40b2-8920-ee4ccc007aeb",
   "metadata": {},
   "outputs": [],
   "source": [
    "all_percentiles_for_widths = [item for limit_values in catch_all_percentiles for item in limit_values]"
   ]
  },
  {
   "cell_type": "code",
   "execution_count": 167,
   "id": "767da887-164b-4d35-ae5d-9928181abc1a",
   "metadata": {},
   "outputs": [
    {
     "data": {
      "text/plain": [
       "9632"
      ]
     },
     "execution_count": 167,
     "metadata": {},
     "output_type": "execute_result"
    }
   ],
   "source": [
    "len(all_percentiles_for_widths)"
   ]
  },
  {
   "cell_type": "code",
   "execution_count": 168,
   "id": "9cb5f303-b818-4dc1-beb1-427c50c411c3",
   "metadata": {},
   "outputs": [],
   "source": [
    "# do some sanity check?"
   ]
  },
  {
   "cell_type": "code",
   "execution_count": 169,
   "id": "8472812a-8ded-468a-b778-8cee8f86a68c",
   "metadata": {},
   "outputs": [
    {
     "data": {
      "text/plain": [
       "[(3.9230682015419007, 6.8418339610099785),\n",
       " (4.078448152542114, 7.464522016048431),\n",
       " (4.3397480845451355, 7.955547237396239),\n",
       " (3.6183658063411714, 8.217427444458007),\n",
       " (3.720773595571518, 7.70548985004425),\n",
       " (3.742994600534439, 7.625727462768554),\n",
       " (3.797546648979187, 7.826076042652128)]"
      ]
     },
     "execution_count": 169,
     "metadata": {},
     "output_type": "execute_result"
    }
   ],
   "source": [
    "catch_all_percentiles[1]"
   ]
  },
  {
   "cell_type": "code",
   "execution_count": 170,
   "id": "becf777c-14a3-4bbd-9e66-a208d7c91298",
   "metadata": {},
   "outputs": [
    {
     "data": {
      "text/plain": [
       "[(3.9230682015419007, 6.8418339610099785),\n",
       " (4.078448152542114, 7.464522016048431),\n",
       " (4.3397480845451355, 7.955547237396239),\n",
       " (3.6183658063411714, 8.217427444458007),\n",
       " (3.720773595571518, 7.70548985004425),\n",
       " (3.742994600534439, 7.625727462768554),\n",
       " (3.797546648979187, 7.826076042652128)]"
      ]
     },
     "execution_count": 170,
     "metadata": {},
     "output_type": "execute_result"
    }
   ],
   "source": [
    "all_percentiles_for_widths[7:14]"
   ]
  },
  {
   "cell_type": "code",
   "execution_count": 171,
   "id": "7cd4c952-1194-4eb4-9b2a-b18bed651de7",
   "metadata": {},
   "outputs": [],
   "source": [
    "# seems this is right, let's move forward with the computation of the CI widths?"
   ]
  },
  {
   "cell_type": "code",
   "execution_count": 172,
   "id": "9e7d3cfe-96de-4650-8797-46ecba615862",
   "metadata": {},
   "outputs": [],
   "source": [
    "catch_wdths = []\n",
    "for values in all_percentiles_for_widths:\n",
    "    width = values[1] - values[0]\n",
    "    catch_wdths.append(width)"
   ]
  },
  {
   "cell_type": "code",
   "execution_count": 173,
   "id": "13b70b3e-2a3d-4a46-b0bd-c5837cc55588",
   "metadata": {},
   "outputs": [
    {
     "data": {
      "text/plain": [
       "25.623413269836412"
      ]
     },
     "execution_count": 173,
     "metadata": {},
     "output_type": "execute_result"
    }
   ],
   "source": [
    "# average CI width\n",
    "Average_CI_width = np.mean(catch_wdths)\n",
    "Average_CI_width"
   ]
  },
  {
   "cell_type": "code",
   "execution_count": 174,
   "id": "91d4f750-ced3-4a77-8d90-1c5d7c6ea281",
   "metadata": {},
   "outputs": [],
   "source": [
    "# do a few sanity checks  before we proceed?"
   ]
  },
  {
   "cell_type": "code",
   "execution_count": 175,
   "id": "9107c4fd-a1f0-4f25-b0c1-1a2c74a2c910",
   "metadata": {},
   "outputs": [
    {
     "data": {
      "text/plain": [
       "[2.9174418091773986,\n",
       " 3.5135718345642086,\n",
       " 4.115290117263792,\n",
       " 4.671907353401183,\n",
       " 4.041709411144257,\n",
       " 4.146248292922974,\n",
       " 3.8540861368179318]"
      ]
     },
     "execution_count": 175,
     "metadata": {},
     "output_type": "execute_result"
    }
   ],
   "source": [
    "catch_wdths[0:7]"
   ]
  },
  {
   "cell_type": "code",
   "execution_count": 176,
   "id": "60f9d8eb-9b91-464c-bb0c-590abba2362f",
   "metadata": {},
   "outputs": [
    {
     "name": "stdout",
     "output_type": "stream",
     "text": [
      "2.9174418091773986\n",
      "3.5135718345642086\n",
      "4.115290117263792\n",
      "4.671907353401183\n",
      "4.041709411144257\n",
      "4.146248292922974\n",
      "3.8540861368179318\n"
     ]
    }
   ],
   "source": [
    "print(catch_all_percentiles[0][0][1] - catch_all_percentiles[0][0][0])\n",
    "print(catch_all_percentiles[0][1][1] - catch_all_percentiles[0][1][0])\n",
    "print(catch_all_percentiles[0][2][1] - catch_all_percentiles[0][2][0])\n",
    "print(catch_all_percentiles[0][3][1] - catch_all_percentiles[0][3][0])\n",
    "print(catch_all_percentiles[0][4][1] - catch_all_percentiles[0][4][0])\n",
    "print(catch_all_percentiles[0][5][1] - catch_all_percentiles[0][5][0])\n",
    "print(catch_all_percentiles[0][6][1] - catch_all_percentiles[0][6][0])"
   ]
  },
  {
   "cell_type": "code",
   "execution_count": 177,
   "id": "f466fcea-eff8-4b63-9540-767821406287",
   "metadata": {},
   "outputs": [],
   "source": [
    "# Okay, we can move on now"
   ]
  },
  {
   "cell_type": "code",
   "execution_count": 178,
   "id": "b5a8d271-ed68-49e9-8ddf-56eeb7b8b118",
   "metadata": {},
   "outputs": [],
   "source": [
    "# What about the coverage?\n",
    "# Now this list - all_percentiles_for_widths - this is in the oder of the subwindows - but before proceeding to the next subwindow, it also tracks across the 7 time periods.\n",
    "# so now, we have the true values in a dataframe in the shape (7,910), we can stack these ina single column  - and basically then have to track if this value is inbetween the two upper and lower limits in the list all_percentiles_for_widths."
   ]
  },
  {
   "cell_type": "code",
   "execution_count": 179,
   "id": "7eabdb5c-e122-47b3-99c3-1802837f8d2b",
   "metadata": {},
   "outputs": [],
   "source": [
    "# cool, so let's get this true values dataset arranged  in one single column?"
   ]
  },
  {
   "cell_type": "code",
   "execution_count": 180,
   "id": "d3260a19-4371-4ac3-b2fa-f3e1f309e0f2",
   "metadata": {},
   "outputs": [],
   "source": [
    "# actually, we have already done that"
   ]
  },
  {
   "cell_type": "code",
   "execution_count": 181,
   "id": "18e5cf5d-b982-4aa8-b0d1-75b33359c8d4",
   "metadata": {},
   "outputs": [
    {
     "data": {
      "text/plain": [
       "(9632, 1)"
      ]
     },
     "execution_count": 181,
     "metadata": {},
     "output_type": "execute_result"
    }
   ],
   "source": [
    "exp_true_onecol.shape"
   ]
  },
  {
   "cell_type": "code",
   "execution_count": 182,
   "id": "9fd666d6-a90c-4c85-8fa1-b973843c31d2",
   "metadata": {},
   "outputs": [
    {
     "data": {
      "text/html": [
       "<div>\n",
       "<style scoped>\n",
       "    .dataframe tbody tr th:only-of-type {\n",
       "        vertical-align: middle;\n",
       "    }\n",
       "\n",
       "    .dataframe tbody tr th {\n",
       "        vertical-align: top;\n",
       "    }\n",
       "\n",
       "    .dataframe thead th {\n",
       "        text-align: right;\n",
       "    }\n",
       "</style>\n",
       "<table border=\"1\" class=\"dataframe\">\n",
       "  <thead>\n",
       "    <tr style=\"text-align: right;\">\n",
       "      <th></th>\n",
       "      <th>True_values</th>\n",
       "    </tr>\n",
       "  </thead>\n",
       "  <tbody>\n",
       "    <tr>\n",
       "      <th>0</th>\n",
       "      <td>4.273701</td>\n",
       "    </tr>\n",
       "    <tr>\n",
       "      <th>1</th>\n",
       "      <td>4.022552</td>\n",
       "    </tr>\n",
       "    <tr>\n",
       "      <th>2</th>\n",
       "      <td>5.000150</td>\n",
       "    </tr>\n",
       "    <tr>\n",
       "      <th>3</th>\n",
       "      <td>3.945540</td>\n",
       "    </tr>\n",
       "    <tr>\n",
       "      <th>4</th>\n",
       "      <td>5.002485</td>\n",
       "    </tr>\n",
       "  </tbody>\n",
       "</table>\n",
       "</div>"
      ],
      "text/plain": [
       "   True_values\n",
       "0     4.273701\n",
       "1     4.022552\n",
       "2     5.000150\n",
       "3     3.945540\n",
       "4     5.002485"
      ]
     },
     "execution_count": 182,
     "metadata": {},
     "output_type": "execute_result"
    }
   ],
   "source": [
    "exp_true_onecol.head()"
   ]
  },
  {
   "cell_type": "code",
   "execution_count": 183,
   "id": "ce2b14ca-1704-4051-9cdc-eb450c820c49",
   "metadata": {},
   "outputs": [],
   "source": [
    "All_exp_true_vals_array = exp_true_onecol.values.reshape(-1)"
   ]
  },
  {
   "cell_type": "code",
   "execution_count": 184,
   "id": "b85bdec1-fe7e-4d47-845e-156fbb923423",
   "metadata": {},
   "outputs": [
    {
     "data": {
      "text/plain": [
       "(9632,)"
      ]
     },
     "execution_count": 184,
     "metadata": {},
     "output_type": "execute_result"
    }
   ],
   "source": [
    "All_exp_true_vals_array.shape"
   ]
  },
  {
   "cell_type": "code",
   "execution_count": 185,
   "id": "1c0ac8a1-b72a-44e8-8e9b-d9cab757acb0",
   "metadata": {},
   "outputs": [
    {
     "data": {
      "text/plain": [
       "(0.0, 10.54984161999753)"
      ]
     },
     "execution_count": 185,
     "metadata": {},
     "output_type": "execute_result"
    }
   ],
   "source": [
    "All_exp_true_vals_array.min(), All_exp_true_vals_array.max()"
   ]
  },
  {
   "cell_type": "code",
   "execution_count": 186,
   "id": "4e49562c-7f70-4578-91e5-1a8916504fdc",
   "metadata": {},
   "outputs": [],
   "source": [
    "# cool, now check if this value is inbetween the upper and the lower limits contained in the list - all_percentiles_for_widths"
   ]
  },
  {
   "cell_type": "code",
   "execution_count": 187,
   "id": "8de7beae-6ecd-44ce-8dc4-4dd8d7a1a93a",
   "metadata": {},
   "outputs": [],
   "source": [
    "Catch_all_indicators = []\n",
    "for i in range(All_exp_true_vals_array.shape[0]):\n",
    "    true_value = All_exp_true_vals_array[i]\n",
    "    li_val = all_percentiles_for_widths[i][0]\n",
    "    ui_val = all_percentiles_for_widths[i][1]\n",
    "    ind_train = (true_value >= li_val) & (true_value <= ui_val)\n",
    "    Catch_all_indicators.append(ind_train)"
   ]
  },
  {
   "cell_type": "code",
   "execution_count": 188,
   "id": "85ab4671-0c07-4499-9dd4-60b4a433f516",
   "metadata": {},
   "outputs": [
    {
     "data": {
      "text/plain": [
       "0.6952865448504983"
      ]
     },
     "execution_count": 188,
     "metadata": {},
     "output_type": "execute_result"
    }
   ],
   "source": [
    "coverage_val = np.mean(Catch_all_indicators)\n",
    "coverage_val"
   ]
  },
  {
   "cell_type": "code",
   "execution_count": 189,
   "id": "cb369b20-1fd5-4746-a6bb-ac663ff346af",
   "metadata": {},
   "outputs": [],
   "source": [
    "# I think we are ready to replicate this for the rest of the blocks? Let's push the recent work to GitHub"
   ]
  },
  {
   "cell_type": "code",
   "execution_count": 190,
   "id": "1f5533fd-4011-4747-9d03-715dbcfcb9d6",
   "metadata": {},
   "outputs": [],
   "source": [
    "# define a function to get the post-hoc prediction\n",
    "def prediction_on_test_data(preds_array, stride = 16, kernel_size = 100):\n",
    "\n",
    "    img_height = 768 # we might need to verify this value\n",
    "    # get the image weight\n",
    "    img_width = 1024 # we might need to verify this value\n",
    "\n",
    "    \n",
    "    # create an empty density map\n",
    "    Density_map = np.zeros((img_height, img_width))\n",
    "\n",
    "    # create an empty counts map\n",
    "    counts_map = np.zeros((img_height, img_width))\n",
    "    \n",
    "    # now, for every window, we will keep adding the values together and also add the counts\n",
    "    counter = 0\n",
    "#     need a counter to move into each predicted value in the pred values list\n",
    "    for ii in range(0, img_height, stride):\n",
    "        for jj in range(0, img_width, stride):\n",
    "#         operations for density map\n",
    "#             get the window of interest\n",
    "            new_window = Density_map[ii:ii + kernel_size,jj:jj+kernel_size]\n",
    "#     fill each with the value c_k\n",
    "            counts_window = np.full((new_window.shape[0], new_window.shape[1]), preds_array[counter])\n",
    "#     get the shapes of this new window\n",
    "            cw_height = counts_window.shape[0]\n",
    "            cw_width = counts_window.shape[1]\n",
    "#         Do c_k/r_2\n",
    "            counts_window_new = counts_window/(cw_height*cw_width)\n",
    "#     This is the value in the window now\n",
    "            value_window = counts_window_new\n",
    "#     place the values in the corrsponding area of the density map\n",
    "            Density_map[ii:ii + kernel_size,jj:jj+kernel_size] = new_window + value_window\n",
    "\n",
    "#         Let's now focus on capturing the counts of the windows\n",
    "            new_window_c = counts_map[ii:ii + kernel_size,jj:jj+kernel_size]\n",
    "#     get the counts area\n",
    "            count = np.ones((new_window_c.shape[0], new_window_c.shape[1]))\n",
    "#     keep adding the counts to reflect the addition of densities\n",
    "            counts_map[ii:ii + kernel_size,jj:jj+kernel_size] = new_window_c + count\n",
    "#     increase the counter\n",
    "            counter = counter + 1\n",
    "            \n",
    "#         get the normalized count\n",
    "    normalized_counts = np.divide(Density_map, counts_map)\n",
    "    \n",
    "#     entire count on the test set\n",
    "    pred_on_test = np.sum(normalized_counts)\n",
    "    \n",
    "#     return the predicted value\n",
    "    return(pred_on_test, normalized_counts)"
   ]
  },
  {
   "cell_type": "code",
   "execution_count": 191,
   "id": "13b4e15c-5080-475d-91db-0acd7b779747",
   "metadata": {},
   "outputs": [
    {
     "data": {
      "text/plain": [
       "(7, 1376)"
      ]
     },
     "execution_count": 191,
     "metadata": {},
     "output_type": "execute_result"
    }
   ],
   "source": [
    "Forecasted_values_df.shape"
   ]
  },
  {
   "cell_type": "code",
   "execution_count": 192,
   "id": "8b709d64-8fa1-4918-a22c-526ef0a9d945",
   "metadata": {},
   "outputs": [
    {
     "data": {
      "text/plain": [
       "(7, 1376)"
      ]
     },
     "execution_count": 192,
     "metadata": {},
     "output_type": "execute_result"
    }
   ],
   "source": [
    "Forecasted_values_df.values.shape"
   ]
  },
  {
   "cell_type": "markdown",
   "id": "31b1d23d-c4c4-4202-9f03-8463b5665c9c",
   "metadata": {},
   "source": [
    "# Ensure the subwindows are stacked in the rows in the proper order"
   ]
  },
  {
   "cell_type": "code",
   "execution_count": 193,
   "id": "83c30dd8-7d48-4505-9977-4fae7e2bc7dc",
   "metadata": {},
   "outputs": [],
   "source": [
    "# Access just the first row?"
   ]
  },
  {
   "cell_type": "code",
   "execution_count": 194,
   "id": "cb367513-ada5-4e59-afc8-a5dda72791fc",
   "metadata": {},
   "outputs": [
    {
     "data": {
      "text/plain": [
       "(1376,)"
      ]
     },
     "execution_count": 194,
     "metadata": {},
     "output_type": "execute_result"
    }
   ],
   "source": [
    "Forecasted_values_df.values[0,:].shape"
   ]
  },
  {
   "cell_type": "code",
   "execution_count": 195,
   "id": "9d1c4fb4-39ba-45d1-93b7-075792aa56d4",
   "metadata": {},
   "outputs": [],
   "source": [
    "# use this to get the preds?"
   ]
  },
  {
   "cell_type": "code",
   "execution_count": 196,
   "id": "4c244ea9-7287-4e80-a82f-a37f5c33524e",
   "metadata": {},
   "outputs": [],
   "source": [
    "test_im_0_preds = prediction_on_test_data(Forecasted_values_df.values[0,:], stride = 24, kernel_size = 300)"
   ]
  },
  {
   "cell_type": "code",
   "execution_count": 197,
   "id": "b3a3fd7b-fdd6-49a8-a607-8ecc6dc3f642",
   "metadata": {},
   "outputs": [
    {
     "data": {
      "text/plain": [
       "43.20252065292989"
      ]
     },
     "execution_count": 197,
     "metadata": {},
     "output_type": "execute_result"
    }
   ],
   "source": [
    "test_im_0_preds[0]"
   ]
  },
  {
   "cell_type": "code",
   "execution_count": 198,
   "id": "e6b9f266-d528-4328-ab7d-2e7921bd0006",
   "metadata": {},
   "outputs": [],
   "source": [
    "# get the values forecasted in a loop?\n",
    "predicted_test_values = []\n",
    "for i in range(7):\n",
    "    pred_val = prediction_on_test_data(Forecasted_values_df.values[i,:], stride = 24, kernel_size = 300)[0]\n",
    "    predicted_test_values.append(pred_val)"
   ]
  },
  {
   "cell_type": "code",
   "execution_count": 199,
   "id": "a1240009-b252-4ea8-a662-f30a48c08d13",
   "metadata": {},
   "outputs": [
    {
     "data": {
      "text/plain": [
       "[43.20252065292989,\n",
       " 43.75704239033836,\n",
       " 45.45013365771973,\n",
       " 221.743789995047,\n",
       " 141.3717556462522,\n",
       " 106.3021229939414,\n",
       " 95.23365458280998]"
      ]
     },
     "execution_count": 199,
     "metadata": {},
     "output_type": "execute_result"
    }
   ],
   "source": [
    "predicted_test_values"
   ]
  },
  {
   "cell_type": "code",
   "execution_count": 200,
   "id": "16809903-c573-4043-8014-3b05046b91a3",
   "metadata": {},
   "outputs": [],
   "source": [
    "# Okay, there's some seroius shit happening I think with those very high values - we need to figuer out what to do"
   ]
  }
 ],
 "metadata": {
  "kernelspec": {
   "display_name": "Python (tfp_cpu_env)",
   "language": "python",
   "name": "tfp_cpu_env"
  },
  "language_info": {
   "codemirror_mode": {
    "name": "ipython",
    "version": 3
   },
   "file_extension": ".py",
   "mimetype": "text/x-python",
   "name": "python",
   "nbconvert_exporter": "python",
   "pygments_lexer": "ipython3",
   "version": "3.11.7"
  }
 },
 "nbformat": 4,
 "nbformat_minor": 5
}
