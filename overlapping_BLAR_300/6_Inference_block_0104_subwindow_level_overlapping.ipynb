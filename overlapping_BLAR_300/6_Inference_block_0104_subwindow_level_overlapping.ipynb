{
 "cells": [
  {
   "cell_type": "code",
   "execution_count": 1,
   "id": "658db0bc-89f4-467b-831b-554c08cb3eeb",
   "metadata": {},
   "outputs": [],
   "source": [
    "# Okay, let's get the proper transformations, and also get all the predictions on a subwindow scale - Later as a proof of concept, we will separate the sequences with densities all zero and see how the predicted densities look like."
   ]
  },
  {
   "cell_type": "code",
   "execution_count": 2,
   "id": "53cabc2a-d2b8-4e33-84a0-6c8f552caf3f",
   "metadata": {},
   "outputs": [],
   "source": [
    "import pandas as pd\n",
    "import numpy as np\n",
    "import matplotlib.pyplot as plt \n",
    "import os\n",
    "from sklearn.metrics import mean_absolute_error, mean_squared_error, r2_score\n",
    "from scipy.stats import pearsonr"
   ]
  },
  {
   "cell_type": "code",
   "execution_count": 3,
   "id": "60a1f5b1-2e15-471d-a379-057566c05ccc",
   "metadata": {},
   "outputs": [],
   "source": [
    "# path to dataframes\n",
    "path_to_dfs = \"data/BLAR_implementation/Block_0104/forecasted_counts\""
   ]
  },
  {
   "cell_type": "code",
   "execution_count": 4,
   "id": "ae71026b-360c-485d-8741-1766c956efd6",
   "metadata": {},
   "outputs": [
    {
     "data": {
      "text/plain": [
       "9632"
      ]
     },
     "execution_count": 4,
     "metadata": {},
     "output_type": "execute_result"
    }
   ],
   "source": [
    "len(os.listdir(path_to_dfs))"
   ]
  },
  {
   "cell_type": "code",
   "execution_count": 5,
   "id": "3b23384f-6325-4bc2-9700-240572b13745",
   "metadata": {},
   "outputs": [
    {
     "data": {
      "text/plain": [
       "7.0"
      ]
     },
     "execution_count": 5,
     "metadata": {},
     "output_type": "execute_result"
    }
   ],
   "source": [
    "len(os.listdir(path_to_dfs)) / 1376"
   ]
  },
  {
   "cell_type": "code",
   "execution_count": 6,
   "id": "90d27344-d686-4672-9b01-ded72e5f24a8",
   "metadata": {},
   "outputs": [],
   "source": [
    "averaged_forecasts_csvs = []\n",
    "for file in os.listdir(path_to_dfs):\n",
    "    if file[:8] =='averaged':\n",
    "        averaged_forecasts_csvs.append(file)"
   ]
  },
  {
   "cell_type": "code",
   "execution_count": 7,
   "id": "fabd37ca-e1da-430a-b23a-4905d0247f9b",
   "metadata": {},
   "outputs": [
    {
     "data": {
      "text/plain": [
       "1376"
      ]
     },
     "execution_count": 7,
     "metadata": {},
     "output_type": "execute_result"
    }
   ],
   "source": [
    "# how many csv files do we have?\n",
    "len(averaged_forecasts_csvs)"
   ]
  },
  {
   "cell_type": "code",
   "execution_count": 8,
   "id": "8c0af51f-8022-4186-b027-75dcbac9ab4c",
   "metadata": {},
   "outputs": [
    {
     "data": {
      "text/plain": [
       "'averaged_forecasts_sub_986.csv'"
      ]
     },
     "execution_count": 8,
     "metadata": {},
     "output_type": "execute_result"
    }
   ],
   "source": [
    "averaged_forecasts_csvs[0]"
   ]
  },
  {
   "cell_type": "code",
   "execution_count": 9,
   "id": "cf8d93c8-36d8-49d2-a213-2259381d61c0",
   "metadata": {},
   "outputs": [],
   "source": [
    "# let's create these names in the order of the subwindows\n",
    "ordered_csv_files = ['averaged_forecasts_sub_' + str(i) + '.csv' for i in range(1376)]"
   ]
  },
  {
   "cell_type": "code",
   "execution_count": 10,
   "id": "3d7f4c02-45fa-4004-ae11-fdb0ebeb01ab",
   "metadata": {},
   "outputs": [],
   "source": [
    "# ordered_csv_files"
   ]
  },
  {
   "cell_type": "code",
   "execution_count": 11,
   "id": "bbdf82b7-cc66-4bc5-9a7a-a7c0bbe72881",
   "metadata": {},
   "outputs": [
    {
     "name": "stdout",
     "output_type": "stream",
     "text": [
      "CPU times: user 2.33 s, sys: 432 ms, total: 2.76 s\n",
      "Wall time: 47.2 s\n"
     ]
    }
   ],
   "source": [
    "%%time\n",
    "all_dfs = []\n",
    "for file in ordered_csv_files:\n",
    "    read_df = pd.read_csv(path_to_dfs + '/' + file)\n",
    "    all_dfs.append(read_df)"
   ]
  },
  {
   "cell_type": "code",
   "execution_count": 12,
   "id": "21c0f3b6-00be-4459-a845-b536a3b5999e",
   "metadata": {},
   "outputs": [],
   "source": [
    "# make a single dataframe out of the many\n",
    "combined_df = pd.concat(all_dfs, axis = 1)"
   ]
  },
  {
   "cell_type": "code",
   "execution_count": 13,
   "id": "c827d724-6545-4056-a577-c1714a322ed6",
   "metadata": {},
   "outputs": [
    {
     "data": {
      "text/html": [
       "<div>\n",
       "<style scoped>\n",
       "    .dataframe tbody tr th:only-of-type {\n",
       "        vertical-align: middle;\n",
       "    }\n",
       "\n",
       "    .dataframe tbody tr th {\n",
       "        vertical-align: top;\n",
       "    }\n",
       "\n",
       "    .dataframe thead th {\n",
       "        text-align: right;\n",
       "    }\n",
       "</style>\n",
       "<table border=\"1\" class=\"dataframe\">\n",
       "  <thead>\n",
       "    <tr style=\"text-align: right;\">\n",
       "      <th></th>\n",
       "      <th>True_value</th>\n",
       "      <th>Forecasted_value</th>\n",
       "      <th>True_value</th>\n",
       "      <th>Forecasted_value</th>\n",
       "      <th>True_value</th>\n",
       "      <th>Forecasted_value</th>\n",
       "      <th>True_value</th>\n",
       "      <th>Forecasted_value</th>\n",
       "      <th>True_value</th>\n",
       "      <th>Forecasted_value</th>\n",
       "      <th>...</th>\n",
       "      <th>True_value</th>\n",
       "      <th>Forecasted_value</th>\n",
       "      <th>True_value</th>\n",
       "      <th>Forecasted_value</th>\n",
       "      <th>True_value</th>\n",
       "      <th>Forecasted_value</th>\n",
       "      <th>True_value</th>\n",
       "      <th>Forecasted_value</th>\n",
       "      <th>True_value</th>\n",
       "      <th>Forecasted_value</th>\n",
       "    </tr>\n",
       "  </thead>\n",
       "  <tbody>\n",
       "    <tr>\n",
       "      <th>0</th>\n",
       "      <td>1.386294</td>\n",
       "      <td>1.286216</td>\n",
       "      <td>1.386294</td>\n",
       "      <td>1.287762</td>\n",
       "      <td>1.399817</td>\n",
       "      <td>1.250179</td>\n",
       "      <td>1.650700</td>\n",
       "      <td>1.382555</td>\n",
       "      <td>1.791754</td>\n",
       "      <td>1.571735</td>\n",
       "      <td>...</td>\n",
       "      <td>0.000000</td>\n",
       "      <td>0.025641</td>\n",
       "      <td>0.000000</td>\n",
       "      <td>0.020374</td>\n",
       "      <td>0.000000</td>\n",
       "      <td>0.020713</td>\n",
       "      <td>0.0</td>\n",
       "      <td>0.018696</td>\n",
       "      <td>0.0</td>\n",
       "      <td>0.059833</td>\n",
       "    </tr>\n",
       "    <tr>\n",
       "      <th>1</th>\n",
       "      <td>1.386294</td>\n",
       "      <td>1.321135</td>\n",
       "      <td>1.386294</td>\n",
       "      <td>1.333182</td>\n",
       "      <td>1.386302</td>\n",
       "      <td>1.294798</td>\n",
       "      <td>1.566259</td>\n",
       "      <td>1.296153</td>\n",
       "      <td>1.609438</td>\n",
       "      <td>1.444090</td>\n",
       "      <td>...</td>\n",
       "      <td>0.000000</td>\n",
       "      <td>0.004964</td>\n",
       "      <td>0.000000</td>\n",
       "      <td>0.003445</td>\n",
       "      <td>0.000000</td>\n",
       "      <td>0.008057</td>\n",
       "      <td>0.0</td>\n",
       "      <td>0.005201</td>\n",
       "      <td>0.0</td>\n",
       "      <td>0.008457</td>\n",
       "    </tr>\n",
       "    <tr>\n",
       "      <th>2</th>\n",
       "      <td>1.609438</td>\n",
       "      <td>1.307129</td>\n",
       "      <td>1.609438</td>\n",
       "      <td>1.301197</td>\n",
       "      <td>1.609438</td>\n",
       "      <td>1.267284</td>\n",
       "      <td>1.704871</td>\n",
       "      <td>1.390015</td>\n",
       "      <td>1.938100</td>\n",
       "      <td>1.714816</td>\n",
       "      <td>...</td>\n",
       "      <td>0.000000</td>\n",
       "      <td>0.008714</td>\n",
       "      <td>0.000000</td>\n",
       "      <td>0.010791</td>\n",
       "      <td>0.000000</td>\n",
       "      <td>0.010661</td>\n",
       "      <td>0.0</td>\n",
       "      <td>0.011612</td>\n",
       "      <td>0.0</td>\n",
       "      <td>0.014563</td>\n",
       "    </tr>\n",
       "    <tr>\n",
       "      <th>3</th>\n",
       "      <td>1.609438</td>\n",
       "      <td>1.454814</td>\n",
       "      <td>1.640573</td>\n",
       "      <td>1.485569</td>\n",
       "      <td>1.792167</td>\n",
       "      <td>1.478579</td>\n",
       "      <td>1.966614</td>\n",
       "      <td>0.871947</td>\n",
       "      <td>2.095878</td>\n",
       "      <td>-0.121735</td>\n",
       "      <td>...</td>\n",
       "      <td>0.000000</td>\n",
       "      <td>0.016816</td>\n",
       "      <td>0.000000</td>\n",
       "      <td>0.013760</td>\n",
       "      <td>0.000000</td>\n",
       "      <td>0.020786</td>\n",
       "      <td>0.0</td>\n",
       "      <td>0.018960</td>\n",
       "      <td>0.0</td>\n",
       "      <td>0.036078</td>\n",
       "    </tr>\n",
       "    <tr>\n",
       "      <th>4</th>\n",
       "      <td>1.386294</td>\n",
       "      <td>1.406921</td>\n",
       "      <td>1.425098</td>\n",
       "      <td>1.415353</td>\n",
       "      <td>1.778066</td>\n",
       "      <td>1.420723</td>\n",
       "      <td>1.836177</td>\n",
       "      <td>1.189247</td>\n",
       "      <td>1.893255</td>\n",
       "      <td>0.642068</td>\n",
       "      <td>...</td>\n",
       "      <td>0.241927</td>\n",
       "      <td>0.011307</td>\n",
       "      <td>0.165118</td>\n",
       "      <td>0.003220</td>\n",
       "      <td>0.000001</td>\n",
       "      <td>0.016795</td>\n",
       "      <td>0.0</td>\n",
       "      <td>0.016575</td>\n",
       "      <td>0.0</td>\n",
       "      <td>0.025593</td>\n",
       "    </tr>\n",
       "  </tbody>\n",
       "</table>\n",
       "<p>5 rows × 2752 columns</p>\n",
       "</div>"
      ],
      "text/plain": [
       "   True_value  Forecasted_value  True_value  Forecasted_value  True_value  \\\n",
       "0    1.386294          1.286216    1.386294          1.287762    1.399817   \n",
       "1    1.386294          1.321135    1.386294          1.333182    1.386302   \n",
       "2    1.609438          1.307129    1.609438          1.301197    1.609438   \n",
       "3    1.609438          1.454814    1.640573          1.485569    1.792167   \n",
       "4    1.386294          1.406921    1.425098          1.415353    1.778066   \n",
       "\n",
       "   Forecasted_value  True_value  Forecasted_value  True_value  \\\n",
       "0          1.250179    1.650700          1.382555    1.791754   \n",
       "1          1.294798    1.566259          1.296153    1.609438   \n",
       "2          1.267284    1.704871          1.390015    1.938100   \n",
       "3          1.478579    1.966614          0.871947    2.095878   \n",
       "4          1.420723    1.836177          1.189247    1.893255   \n",
       "\n",
       "   Forecasted_value  ...  True_value  Forecasted_value  True_value  \\\n",
       "0          1.571735  ...    0.000000          0.025641    0.000000   \n",
       "1          1.444090  ...    0.000000          0.004964    0.000000   \n",
       "2          1.714816  ...    0.000000          0.008714    0.000000   \n",
       "3         -0.121735  ...    0.000000          0.016816    0.000000   \n",
       "4          0.642068  ...    0.241927          0.011307    0.165118   \n",
       "\n",
       "   Forecasted_value  True_value  Forecasted_value  True_value  \\\n",
       "0          0.020374    0.000000          0.020713         0.0   \n",
       "1          0.003445    0.000000          0.008057         0.0   \n",
       "2          0.010791    0.000000          0.010661         0.0   \n",
       "3          0.013760    0.000000          0.020786         0.0   \n",
       "4          0.003220    0.000001          0.016795         0.0   \n",
       "\n",
       "   Forecasted_value  True_value  Forecasted_value  \n",
       "0          0.018696         0.0          0.059833  \n",
       "1          0.005201         0.0          0.008457  \n",
       "2          0.011612         0.0          0.014563  \n",
       "3          0.018960         0.0          0.036078  \n",
       "4          0.016575         0.0          0.025593  \n",
       "\n",
       "[5 rows x 2752 columns]"
      ]
     },
     "execution_count": 13,
     "metadata": {},
     "output_type": "execute_result"
    }
   ],
   "source": [
    "combined_df.head()"
   ]
  },
  {
   "cell_type": "code",
   "execution_count": 14,
   "id": "be1c39bd-5454-46e6-a8fe-128a599ac086",
   "metadata": {},
   "outputs": [
    {
     "data": {
      "text/plain": [
       "(7, 2752)"
      ]
     },
     "execution_count": 14,
     "metadata": {},
     "output_type": "execute_result"
    }
   ],
   "source": [
    "combined_df.shape"
   ]
  },
  {
   "cell_type": "code",
   "execution_count": 15,
   "id": "f04174fe-3b90-4194-b682-57d3cd98b188",
   "metadata": {},
   "outputs": [],
   "source": [
    "# get the true values\n",
    "True_values_df = combined_df[['True_value']]"
   ]
  },
  {
   "cell_type": "code",
   "execution_count": 16,
   "id": "5e749e0d-ac2f-46ac-93a2-cfaa1a32f4e0",
   "metadata": {},
   "outputs": [
    {
     "data": {
      "text/html": [
       "<div>\n",
       "<style scoped>\n",
       "    .dataframe tbody tr th:only-of-type {\n",
       "        vertical-align: middle;\n",
       "    }\n",
       "\n",
       "    .dataframe tbody tr th {\n",
       "        vertical-align: top;\n",
       "    }\n",
       "\n",
       "    .dataframe thead th {\n",
       "        text-align: right;\n",
       "    }\n",
       "</style>\n",
       "<table border=\"1\" class=\"dataframe\">\n",
       "  <thead>\n",
       "    <tr style=\"text-align: right;\">\n",
       "      <th></th>\n",
       "      <th>True_value</th>\n",
       "      <th>True_value</th>\n",
       "      <th>True_value</th>\n",
       "      <th>True_value</th>\n",
       "      <th>True_value</th>\n",
       "      <th>True_value</th>\n",
       "      <th>True_value</th>\n",
       "      <th>True_value</th>\n",
       "      <th>True_value</th>\n",
       "      <th>True_value</th>\n",
       "      <th>...</th>\n",
       "      <th>True_value</th>\n",
       "      <th>True_value</th>\n",
       "      <th>True_value</th>\n",
       "      <th>True_value</th>\n",
       "      <th>True_value</th>\n",
       "      <th>True_value</th>\n",
       "      <th>True_value</th>\n",
       "      <th>True_value</th>\n",
       "      <th>True_value</th>\n",
       "      <th>True_value</th>\n",
       "    </tr>\n",
       "  </thead>\n",
       "  <tbody>\n",
       "    <tr>\n",
       "      <th>0</th>\n",
       "      <td>1.386294</td>\n",
       "      <td>1.386294</td>\n",
       "      <td>1.399817</td>\n",
       "      <td>1.650700</td>\n",
       "      <td>1.791754</td>\n",
       "      <td>1.791538</td>\n",
       "      <td>1.527640</td>\n",
       "      <td>1.101310</td>\n",
       "      <td>1.098612</td>\n",
       "      <td>1.098622</td>\n",
       "      <td>...</td>\n",
       "      <td>0.002311</td>\n",
       "      <td>8.290111e-07</td>\n",
       "      <td>0.000000</td>\n",
       "      <td>0.000000</td>\n",
       "      <td>0.000000</td>\n",
       "      <td>0.000000</td>\n",
       "      <td>0.000000</td>\n",
       "      <td>0.000000</td>\n",
       "      <td>0.0</td>\n",
       "      <td>0.0</td>\n",
       "    </tr>\n",
       "    <tr>\n",
       "      <th>1</th>\n",
       "      <td>1.386294</td>\n",
       "      <td>1.386294</td>\n",
       "      <td>1.386302</td>\n",
       "      <td>1.566259</td>\n",
       "      <td>1.609438</td>\n",
       "      <td>1.609168</td>\n",
       "      <td>1.116603</td>\n",
       "      <td>0.693484</td>\n",
       "      <td>0.693147</td>\n",
       "      <td>0.693147</td>\n",
       "      <td>...</td>\n",
       "      <td>0.000000</td>\n",
       "      <td>0.000000e+00</td>\n",
       "      <td>0.000000</td>\n",
       "      <td>0.000000</td>\n",
       "      <td>0.000000</td>\n",
       "      <td>0.000000</td>\n",
       "      <td>0.000000</td>\n",
       "      <td>0.000000</td>\n",
       "      <td>0.0</td>\n",
       "      <td>0.0</td>\n",
       "    </tr>\n",
       "    <tr>\n",
       "      <th>2</th>\n",
       "      <td>1.609438</td>\n",
       "      <td>1.609438</td>\n",
       "      <td>1.609438</td>\n",
       "      <td>1.704871</td>\n",
       "      <td>1.938100</td>\n",
       "      <td>1.945253</td>\n",
       "      <td>1.685659</td>\n",
       "      <td>1.385148</td>\n",
       "      <td>1.103189</td>\n",
       "      <td>1.098612</td>\n",
       "      <td>...</td>\n",
       "      <td>0.405466</td>\n",
       "      <td>4.054660e-01</td>\n",
       "      <td>0.283653</td>\n",
       "      <td>0.000002</td>\n",
       "      <td>0.000000</td>\n",
       "      <td>0.000000</td>\n",
       "      <td>0.000000</td>\n",
       "      <td>0.000000</td>\n",
       "      <td>0.0</td>\n",
       "      <td>0.0</td>\n",
       "    </tr>\n",
       "    <tr>\n",
       "      <th>3</th>\n",
       "      <td>1.609438</td>\n",
       "      <td>1.640573</td>\n",
       "      <td>1.792167</td>\n",
       "      <td>1.966614</td>\n",
       "      <td>2.095878</td>\n",
       "      <td>1.948507</td>\n",
       "      <td>1.635679</td>\n",
       "      <td>1.468816</td>\n",
       "      <td>1.468809</td>\n",
       "      <td>1.468809</td>\n",
       "      <td>...</td>\n",
       "      <td>0.000000</td>\n",
       "      <td>0.000000e+00</td>\n",
       "      <td>0.000000</td>\n",
       "      <td>0.000000</td>\n",
       "      <td>0.000000</td>\n",
       "      <td>0.000000</td>\n",
       "      <td>0.000000</td>\n",
       "      <td>0.000000</td>\n",
       "      <td>0.0</td>\n",
       "      <td>0.0</td>\n",
       "    </tr>\n",
       "    <tr>\n",
       "      <th>4</th>\n",
       "      <td>1.386294</td>\n",
       "      <td>1.425098</td>\n",
       "      <td>1.778066</td>\n",
       "      <td>1.836177</td>\n",
       "      <td>1.893255</td>\n",
       "      <td>1.438582</td>\n",
       "      <td>1.385997</td>\n",
       "      <td>1.385997</td>\n",
       "      <td>1.385997</td>\n",
       "      <td>1.386014</td>\n",
       "      <td>...</td>\n",
       "      <td>0.241927</td>\n",
       "      <td>2.419268e-01</td>\n",
       "      <td>0.241927</td>\n",
       "      <td>0.241927</td>\n",
       "      <td>0.241927</td>\n",
       "      <td>0.241927</td>\n",
       "      <td>0.165118</td>\n",
       "      <td>0.000001</td>\n",
       "      <td>0.0</td>\n",
       "      <td>0.0</td>\n",
       "    </tr>\n",
       "  </tbody>\n",
       "</table>\n",
       "<p>5 rows × 1376 columns</p>\n",
       "</div>"
      ],
      "text/plain": [
       "   True_value  True_value  True_value  True_value  True_value  True_value  \\\n",
       "0    1.386294    1.386294    1.399817    1.650700    1.791754    1.791538   \n",
       "1    1.386294    1.386294    1.386302    1.566259    1.609438    1.609168   \n",
       "2    1.609438    1.609438    1.609438    1.704871    1.938100    1.945253   \n",
       "3    1.609438    1.640573    1.792167    1.966614    2.095878    1.948507   \n",
       "4    1.386294    1.425098    1.778066    1.836177    1.893255    1.438582   \n",
       "\n",
       "   True_value  True_value  True_value  True_value  ...  True_value  \\\n",
       "0    1.527640    1.101310    1.098612    1.098622  ...    0.002311   \n",
       "1    1.116603    0.693484    0.693147    0.693147  ...    0.000000   \n",
       "2    1.685659    1.385148    1.103189    1.098612  ...    0.405466   \n",
       "3    1.635679    1.468816    1.468809    1.468809  ...    0.000000   \n",
       "4    1.385997    1.385997    1.385997    1.386014  ...    0.241927   \n",
       "\n",
       "     True_value  True_value  True_value  True_value  True_value  True_value  \\\n",
       "0  8.290111e-07    0.000000    0.000000    0.000000    0.000000    0.000000   \n",
       "1  0.000000e+00    0.000000    0.000000    0.000000    0.000000    0.000000   \n",
       "2  4.054660e-01    0.283653    0.000002    0.000000    0.000000    0.000000   \n",
       "3  0.000000e+00    0.000000    0.000000    0.000000    0.000000    0.000000   \n",
       "4  2.419268e-01    0.241927    0.241927    0.241927    0.241927    0.165118   \n",
       "\n",
       "   True_value  True_value  True_value  \n",
       "0    0.000000         0.0         0.0  \n",
       "1    0.000000         0.0         0.0  \n",
       "2    0.000000         0.0         0.0  \n",
       "3    0.000000         0.0         0.0  \n",
       "4    0.000001         0.0         0.0  \n",
       "\n",
       "[5 rows x 1376 columns]"
      ]
     },
     "execution_count": 16,
     "metadata": {},
     "output_type": "execute_result"
    }
   ],
   "source": [
    "True_values_df.head()"
   ]
  },
  {
   "cell_type": "code",
   "execution_count": 17,
   "id": "eaac93e8-5497-4d9e-ba82-6e7b92f5f0bc",
   "metadata": {},
   "outputs": [
    {
     "data": {
      "text/plain": [
       "(7, 1376)"
      ]
     },
     "execution_count": 17,
     "metadata": {},
     "output_type": "execute_result"
    }
   ],
   "source": [
    "True_values_df.shape"
   ]
  },
  {
   "cell_type": "code",
   "execution_count": 18,
   "id": "cfdd6a93-1047-4acb-a8b4-091d15dbae98",
   "metadata": {},
   "outputs": [],
   "source": [
    "# get the proper counts? - Do the transformation\n",
    "exp_true = np.exp(True_values_df)-1"
   ]
  },
  {
   "cell_type": "code",
   "execution_count": 19,
   "id": "0ae1b7a4-0bff-487e-93df-24df360917e0",
   "metadata": {},
   "outputs": [
    {
     "data": {
      "text/html": [
       "<div>\n",
       "<style scoped>\n",
       "    .dataframe tbody tr th:only-of-type {\n",
       "        vertical-align: middle;\n",
       "    }\n",
       "\n",
       "    .dataframe tbody tr th {\n",
       "        vertical-align: top;\n",
       "    }\n",
       "\n",
       "    .dataframe thead th {\n",
       "        text-align: right;\n",
       "    }\n",
       "</style>\n",
       "<table border=\"1\" class=\"dataframe\">\n",
       "  <thead>\n",
       "    <tr style=\"text-align: right;\">\n",
       "      <th></th>\n",
       "      <th>True_value</th>\n",
       "      <th>True_value</th>\n",
       "      <th>True_value</th>\n",
       "      <th>True_value</th>\n",
       "      <th>True_value</th>\n",
       "      <th>True_value</th>\n",
       "      <th>True_value</th>\n",
       "      <th>True_value</th>\n",
       "      <th>True_value</th>\n",
       "      <th>True_value</th>\n",
       "      <th>...</th>\n",
       "      <th>True_value</th>\n",
       "      <th>True_value</th>\n",
       "      <th>True_value</th>\n",
       "      <th>True_value</th>\n",
       "      <th>True_value</th>\n",
       "      <th>True_value</th>\n",
       "      <th>True_value</th>\n",
       "      <th>True_value</th>\n",
       "      <th>True_value</th>\n",
       "      <th>True_value</th>\n",
       "    </tr>\n",
       "  </thead>\n",
       "  <tbody>\n",
       "    <tr>\n",
       "      <th>0</th>\n",
       "      <td>3.000000</td>\n",
       "      <td>3.000000</td>\n",
       "      <td>3.054460</td>\n",
       "      <td>4.210626</td>\n",
       "      <td>4.999969</td>\n",
       "      <td>4.998673</td>\n",
       "      <td>3.607289</td>\n",
       "      <td>2.008103</td>\n",
       "      <td>2.000000</td>\n",
       "      <td>2.000030</td>\n",
       "      <td>...</td>\n",
       "      <td>0.002314</td>\n",
       "      <td>8.290115e-07</td>\n",
       "      <td>0.000000</td>\n",
       "      <td>0.000000</td>\n",
       "      <td>0.000000</td>\n",
       "      <td>0.000000</td>\n",
       "      <td>0.000000</td>\n",
       "      <td>0.000000</td>\n",
       "      <td>0.0</td>\n",
       "      <td>0.0</td>\n",
       "    </tr>\n",
       "    <tr>\n",
       "      <th>1</th>\n",
       "      <td>3.000000</td>\n",
       "      <td>3.000000</td>\n",
       "      <td>3.000031</td>\n",
       "      <td>3.788700</td>\n",
       "      <td>4.000000</td>\n",
       "      <td>3.998653</td>\n",
       "      <td>2.054460</td>\n",
       "      <td>1.000674</td>\n",
       "      <td>1.000000</td>\n",
       "      <td>1.000000</td>\n",
       "      <td>...</td>\n",
       "      <td>0.000000</td>\n",
       "      <td>0.000000e+00</td>\n",
       "      <td>0.000000</td>\n",
       "      <td>0.000000</td>\n",
       "      <td>0.000000</td>\n",
       "      <td>0.000000</td>\n",
       "      <td>0.000000</td>\n",
       "      <td>0.000000</td>\n",
       "      <td>0.0</td>\n",
       "      <td>0.0</td>\n",
       "    </tr>\n",
       "    <tr>\n",
       "      <th>2</th>\n",
       "      <td>4.000000</td>\n",
       "      <td>4.000000</td>\n",
       "      <td>4.000001</td>\n",
       "      <td>4.500674</td>\n",
       "      <td>5.945540</td>\n",
       "      <td>5.995402</td>\n",
       "      <td>4.396003</td>\n",
       "      <td>2.995419</td>\n",
       "      <td>2.013762</td>\n",
       "      <td>2.000000</td>\n",
       "      <td>...</td>\n",
       "      <td>0.500001</td>\n",
       "      <td>5.000013e-01</td>\n",
       "      <td>0.327972</td>\n",
       "      <td>0.000002</td>\n",
       "      <td>0.000000</td>\n",
       "      <td>0.000000</td>\n",
       "      <td>0.000000</td>\n",
       "      <td>0.000000</td>\n",
       "      <td>0.0</td>\n",
       "      <td>0.0</td>\n",
       "    </tr>\n",
       "    <tr>\n",
       "      <th>3</th>\n",
       "      <td>4.000000</td>\n",
       "      <td>4.158125</td>\n",
       "      <td>5.002446</td>\n",
       "      <td>6.146441</td>\n",
       "      <td>7.132579</td>\n",
       "      <td>6.018200</td>\n",
       "      <td>4.132944</td>\n",
       "      <td>3.344088</td>\n",
       "      <td>3.344058</td>\n",
       "      <td>3.344058</td>\n",
       "      <td>...</td>\n",
       "      <td>0.000000</td>\n",
       "      <td>0.000000e+00</td>\n",
       "      <td>0.000000</td>\n",
       "      <td>0.000000</td>\n",
       "      <td>0.000000</td>\n",
       "      <td>0.000000</td>\n",
       "      <td>0.000000</td>\n",
       "      <td>0.000000</td>\n",
       "      <td>0.0</td>\n",
       "      <td>0.0</td>\n",
       "    </tr>\n",
       "    <tr>\n",
       "      <th>4</th>\n",
       "      <td>3.000000</td>\n",
       "      <td>3.158267</td>\n",
       "      <td>4.918398</td>\n",
       "      <td>5.272511</td>\n",
       "      <td>5.640947</td>\n",
       "      <td>3.214714</td>\n",
       "      <td>2.998810</td>\n",
       "      <td>2.998810</td>\n",
       "      <td>2.998810</td>\n",
       "      <td>2.998881</td>\n",
       "      <td>...</td>\n",
       "      <td>0.273701</td>\n",
       "      <td>2.737009e-01</td>\n",
       "      <td>0.273701</td>\n",
       "      <td>0.273701</td>\n",
       "      <td>0.273701</td>\n",
       "      <td>0.273701</td>\n",
       "      <td>0.179532</td>\n",
       "      <td>0.000001</td>\n",
       "      <td>0.0</td>\n",
       "      <td>0.0</td>\n",
       "    </tr>\n",
       "    <tr>\n",
       "      <th>5</th>\n",
       "      <td>4.885411</td>\n",
       "      <td>5.000674</td>\n",
       "      <td>5.968063</td>\n",
       "      <td>6.997454</td>\n",
       "      <td>6.937409</td>\n",
       "      <td>5.007916</td>\n",
       "      <td>3.169018</td>\n",
       "      <td>2.999969</td>\n",
       "      <td>2.999969</td>\n",
       "      <td>3.211550</td>\n",
       "      <td>...</td>\n",
       "      <td>0.000000</td>\n",
       "      <td>0.000000e+00</td>\n",
       "      <td>0.000000</td>\n",
       "      <td>0.000000</td>\n",
       "      <td>0.000000</td>\n",
       "      <td>0.000000</td>\n",
       "      <td>0.000000</td>\n",
       "      <td>0.000000</td>\n",
       "      <td>0.0</td>\n",
       "      <td>0.0</td>\n",
       "    </tr>\n",
       "    <tr>\n",
       "      <th>6</th>\n",
       "      <td>3.000000</td>\n",
       "      <td>3.001326</td>\n",
       "      <td>4.136364</td>\n",
       "      <td>4.843384</td>\n",
       "      <td>4.398517</td>\n",
       "      <td>3.844058</td>\n",
       "      <td>3.070357</td>\n",
       "      <td>2.344071</td>\n",
       "      <td>2.344058</td>\n",
       "      <td>2.344058</td>\n",
       "      <td>...</td>\n",
       "      <td>0.000000</td>\n",
       "      <td>0.000000e+00</td>\n",
       "      <td>0.000000</td>\n",
       "      <td>0.000000</td>\n",
       "      <td>0.000000</td>\n",
       "      <td>0.000000</td>\n",
       "      <td>0.000000</td>\n",
       "      <td>0.000000</td>\n",
       "      <td>0.0</td>\n",
       "      <td>0.0</td>\n",
       "    </tr>\n",
       "  </tbody>\n",
       "</table>\n",
       "<p>7 rows × 1376 columns</p>\n",
       "</div>"
      ],
      "text/plain": [
       "   True_value  True_value  True_value  True_value  True_value  True_value  \\\n",
       "0    3.000000    3.000000    3.054460    4.210626    4.999969    4.998673   \n",
       "1    3.000000    3.000000    3.000031    3.788700    4.000000    3.998653   \n",
       "2    4.000000    4.000000    4.000001    4.500674    5.945540    5.995402   \n",
       "3    4.000000    4.158125    5.002446    6.146441    7.132579    6.018200   \n",
       "4    3.000000    3.158267    4.918398    5.272511    5.640947    3.214714   \n",
       "5    4.885411    5.000674    5.968063    6.997454    6.937409    5.007916   \n",
       "6    3.000000    3.001326    4.136364    4.843384    4.398517    3.844058   \n",
       "\n",
       "   True_value  True_value  True_value  True_value  ...  True_value  \\\n",
       "0    3.607289    2.008103    2.000000    2.000030  ...    0.002314   \n",
       "1    2.054460    1.000674    1.000000    1.000000  ...    0.000000   \n",
       "2    4.396003    2.995419    2.013762    2.000000  ...    0.500001   \n",
       "3    4.132944    3.344088    3.344058    3.344058  ...    0.000000   \n",
       "4    2.998810    2.998810    2.998810    2.998881  ...    0.273701   \n",
       "5    3.169018    2.999969    2.999969    3.211550  ...    0.000000   \n",
       "6    3.070357    2.344071    2.344058    2.344058  ...    0.000000   \n",
       "\n",
       "     True_value  True_value  True_value  True_value  True_value  True_value  \\\n",
       "0  8.290115e-07    0.000000    0.000000    0.000000    0.000000    0.000000   \n",
       "1  0.000000e+00    0.000000    0.000000    0.000000    0.000000    0.000000   \n",
       "2  5.000013e-01    0.327972    0.000002    0.000000    0.000000    0.000000   \n",
       "3  0.000000e+00    0.000000    0.000000    0.000000    0.000000    0.000000   \n",
       "4  2.737009e-01    0.273701    0.273701    0.273701    0.273701    0.179532   \n",
       "5  0.000000e+00    0.000000    0.000000    0.000000    0.000000    0.000000   \n",
       "6  0.000000e+00    0.000000    0.000000    0.000000    0.000000    0.000000   \n",
       "\n",
       "   True_value  True_value  True_value  \n",
       "0    0.000000         0.0         0.0  \n",
       "1    0.000000         0.0         0.0  \n",
       "2    0.000000         0.0         0.0  \n",
       "3    0.000000         0.0         0.0  \n",
       "4    0.000001         0.0         0.0  \n",
       "5    0.000000         0.0         0.0  \n",
       "6    0.000000         0.0         0.0  \n",
       "\n",
       "[7 rows x 1376 columns]"
      ]
     },
     "execution_count": 19,
     "metadata": {},
     "output_type": "execute_result"
    }
   ],
   "source": [
    "exp_true"
   ]
  },
  {
   "cell_type": "code",
   "execution_count": 20,
   "id": "e3ea73ab-34ac-4af8-b9bb-bf9c859bd59e",
   "metadata": {},
   "outputs": [],
   "source": [
    "# Identify the maximum and the minimum true values we have for the test data"
   ]
  },
  {
   "cell_type": "code",
   "execution_count": 21,
   "id": "0c0af4a8-5a75-4e0a-b1d7-ac0240faa7db",
   "metadata": {},
   "outputs": [
    {
     "data": {
      "text/plain": [
       "(0.0, 11.057969711590799)"
      ]
     },
     "execution_count": 21,
     "metadata": {},
     "output_type": "execute_result"
    }
   ],
   "source": [
    "exp_true.values.min(), exp_true.values.max()"
   ]
  },
  {
   "cell_type": "code",
   "execution_count": 22,
   "id": "c8a91a31-659e-42cb-a715-2fbc8dcd1125",
   "metadata": {},
   "outputs": [],
   "source": [
    "# Okay, so the highest true value we have is ~3. let's get teh min and max values for the predicted exponentiated values also"
   ]
  },
  {
   "cell_type": "code",
   "execution_count": 23,
   "id": "68791706-80d1-417c-97b5-1219d5d3ba5c",
   "metadata": {},
   "outputs": [],
   "source": [
    "all_forecasts_npy_files = []\n",
    "for file in os.listdir(path_to_dfs):\n",
    "    if file[:13] == 'all_forecasts':\n",
    "        all_forecasts_npy_files.append(file)"
   ]
  },
  {
   "cell_type": "code",
   "execution_count": 24,
   "id": "510a3a60-6b0f-4ba1-b628-1eea63adbf3a",
   "metadata": {},
   "outputs": [
    {
     "data": {
      "text/plain": [
       "1376"
      ]
     },
     "execution_count": 24,
     "metadata": {},
     "output_type": "execute_result"
    }
   ],
   "source": [
    "len(all_forecasts_npy_files)"
   ]
  },
  {
   "cell_type": "code",
   "execution_count": 25,
   "id": "926db1ce-530e-43a7-b8de-d68e54465a3b",
   "metadata": {},
   "outputs": [
    {
     "data": {
      "text/plain": [
       "'all_forecasts_sub_1104.npy'"
      ]
     },
     "execution_count": 25,
     "metadata": {},
     "output_type": "execute_result"
    }
   ],
   "source": [
    "all_forecasts_npy_files[0]"
   ]
  },
  {
   "cell_type": "code",
   "execution_count": 26,
   "id": "5ae1ee6d-7957-416d-8f76-b1c0f4f74048",
   "metadata": {},
   "outputs": [],
   "source": [
    "# load just the first file\n",
    "sub_273_forecasts = np.load(os.path.join(path_to_dfs, all_forecasts_npy_files[0]))"
   ]
  },
  {
   "cell_type": "code",
   "execution_count": 27,
   "id": "b18192a3-ea14-4ff3-af61-572f491fcce5",
   "metadata": {},
   "outputs": [
    {
     "data": {
      "text/plain": [
       "(1000, 4, 7)"
      ]
     },
     "execution_count": 27,
     "metadata": {},
     "output_type": "execute_result"
    }
   ],
   "source": [
    "sub_273_forecasts.shape"
   ]
  },
  {
   "cell_type": "code",
   "execution_count": 28,
   "id": "68634f79-5fe1-4326-821c-f88fd6358121",
   "metadata": {},
   "outputs": [],
   "source": [
    "# Okay, so for the subwindow 273 -  this file seem to have all the 1000 values in the 4 chains for all the test time points in the sequence"
   ]
  },
  {
   "cell_type": "code",
   "execution_count": 29,
   "id": "2beec9ec-bc5b-48ed-94bf-708dc1c323c5",
   "metadata": {},
   "outputs": [],
   "source": [
    "# transform these values?\n",
    "sub_273_forecasts = np.exp(sub_273_forecasts) - 1"
   ]
  },
  {
   "cell_type": "code",
   "execution_count": 30,
   "id": "139479a7-fd4e-4c9e-b125-b456aabcc33e",
   "metadata": {},
   "outputs": [
    {
     "data": {
      "text/plain": [
       "(-0.90208274, 154.3768)"
      ]
     },
     "execution_count": 30,
     "metadata": {},
     "output_type": "execute_result"
    }
   ],
   "source": [
    "sub_273_forecasts.min(), sub_273_forecasts.max()"
   ]
  },
  {
   "cell_type": "code",
   "execution_count": 31,
   "id": "eeea39fb-d9b6-4e75-b4f4-a48db2a78dda",
   "metadata": {},
   "outputs": [],
   "source": [
    "# get rid of anything below zero?\n",
    "sub_273_forecasts[sub_273_forecasts < 0] = 0"
   ]
  },
  {
   "cell_type": "code",
   "execution_count": 32,
   "id": "a3b048ca-2362-4521-a082-1e2a59ab8063",
   "metadata": {},
   "outputs": [
    {
     "data": {
      "text/plain": [
       "(0.0, 154.3768)"
      ]
     },
     "execution_count": 32,
     "metadata": {},
     "output_type": "execute_result"
    }
   ],
   "source": [
    "sub_273_forecasts.min(), sub_273_forecasts.max()"
   ]
  },
  {
   "cell_type": "code",
   "execution_count": 33,
   "id": "71918f6c-61fa-4666-bbae-05df60d1b050",
   "metadata": {},
   "outputs": [],
   "source": [
    "# cool -  what does these values mean?"
   ]
  },
  {
   "cell_type": "code",
   "execution_count": 34,
   "id": "91c6f8c0-cd40-4b9d-ba4f-279bc3073022",
   "metadata": {},
   "outputs": [],
   "source": [
    "# try averaging the forecasted values along the 0th and 1st axis?"
   ]
  },
  {
   "cell_type": "code",
   "execution_count": 36,
   "id": "47faa528-5199-4bab-b505-26087b378584",
   "metadata": {},
   "outputs": [],
   "source": [
    "sub_273_forecasts_averged = np.mean(sub_273_forecasts, axis = (0,1))"
   ]
  },
  {
   "cell_type": "code",
   "execution_count": 37,
   "id": "64d024db-bb14-4910-a061-3e0afe1c88ac",
   "metadata": {},
   "outputs": [
    {
     "data": {
      "text/plain": [
       "array([1.9466922, 2.0072393, 2.0858614, 2.636049 , 3.1028695, 3.1559927,\n",
       "       3.3960536], dtype=float32)"
      ]
     },
     "execution_count": 37,
     "metadata": {},
     "output_type": "execute_result"
    }
   ],
   "source": [
    "sub_273_forecasts_averged"
   ]
  },
  {
   "cell_type": "code",
   "execution_count": 38,
   "id": "9872bc2e-ed4a-4a8c-ae6b-3b63e640c0bb",
   "metadata": {},
   "outputs": [
    {
     "data": {
      "text/plain": [
       "(7,)"
      ]
     },
     "execution_count": 38,
     "metadata": {},
     "output_type": "execute_result"
    }
   ],
   "source": [
    "sub_273_forecasts_averged.shape"
   ]
  },
  {
   "cell_type": "code",
   "execution_count": 39,
   "id": "40d19bd4-5f92-4cba-a0ba-d2cef1985fba",
   "metadata": {},
   "outputs": [],
   "source": [
    "# sanity check"
   ]
  },
  {
   "cell_type": "code",
   "execution_count": 40,
   "id": "43d050cf-9337-4500-8a46-e51683b39f30",
   "metadata": {},
   "outputs": [
    {
     "name": "stdout",
     "output_type": "stream",
     "text": [
      "1.9466937\n",
      "2.0072381\n",
      "2.0858653\n",
      "2.6360514\n",
      "3.1028678\n",
      "3.1559963\n",
      "3.3960516\n"
     ]
    }
   ],
   "source": [
    "# sanity check\n",
    "for i in range(sub_273_forecasts.shape[-1]):\n",
    "    track = sub_273_forecasts[:,:,i]\n",
    "    print(np.mean(track))"
   ]
  },
  {
   "cell_type": "code",
   "execution_count": 41,
   "id": "9404b3fc-7f26-4620-a1c7-816a12ccc1e7",
   "metadata": {},
   "outputs": [],
   "source": [
    "# Verify the shape of the true values - these are at a subwindow level, and we can use these as they are for getting the metrics, and the scatterplots?"
   ]
  },
  {
   "cell_type": "code",
   "execution_count": 42,
   "id": "81d84191-828a-4853-9765-f72b944f6e43",
   "metadata": {},
   "outputs": [
    {
     "data": {
      "text/plain": [
       "(7, 1376)"
      ]
     },
     "execution_count": 42,
     "metadata": {},
     "output_type": "execute_result"
    }
   ],
   "source": [
    "exp_true.shape"
   ]
  },
  {
   "cell_type": "code",
   "execution_count": 43,
   "id": "50e3210d-b649-4e19-b372-53c48aa7134e",
   "metadata": {},
   "outputs": [],
   "source": [
    "# Okay, we need the predictions for the subwindows in the same shape? - but before that, we need to do the transformation for all the npy files. We can do this in a loop - we have done this before, use the code as it is."
   ]
  },
  {
   "cell_type": "code",
   "execution_count": 44,
   "id": "cacb4a51-039b-4621-936f-3992c72137db",
   "metadata": {},
   "outputs": [
    {
     "name": "stdout",
     "output_type": "stream",
     "text": [
      "CPU times: user 1.09 s, sys: 616 ms, total: 1.7 s\n",
      "Wall time: 48.9 s\n"
     ]
    }
   ],
   "source": [
    "%%time\n",
    "catch_all_averaged_preds = []\n",
    "for i in range(exp_true.shape[1]):\n",
    "    file_name = \"all_forecasts_sub_\" + str(i) + '.npy'\n",
    "    al_forecasts_npy_file = np.load(os.path.join(path_to_dfs, file_name))\n",
    "    # make the conversion\n",
    "    sub_window_forecasts = np.exp(al_forecasts_npy_file) - 1\n",
    "    # get rid of anything below zero?\n",
    "    sub_window_forecasts[sub_window_forecasts < 0] = 0\n",
    "    # get averages over time \n",
    "    sub_window_forecasts_averaged = np.mean(sub_window_forecasts, axis = (0,1))\n",
    "    catch_all_averaged_preds.append(sub_window_forecasts_averaged)    "
   ]
  },
  {
   "cell_type": "code",
   "execution_count": 45,
   "id": "d84417a1-e8f2-428d-9170-bf95909115df",
   "metadata": {},
   "outputs": [
    {
     "data": {
      "text/plain": [
       "1376"
      ]
     },
     "execution_count": 45,
     "metadata": {},
     "output_type": "execute_result"
    }
   ],
   "source": [
    "len(catch_all_averaged_preds)"
   ]
  },
  {
   "cell_type": "code",
   "execution_count": 46,
   "id": "b64849c3-b140-420b-b618-624d3ba45d03",
   "metadata": {},
   "outputs": [
    {
     "data": {
      "text/plain": [
       "array([2.794582 , 2.9163182, 2.90337  , 3.6740959, 3.3514018, 3.286683 ,\n",
       "       3.2678185], dtype=float32)"
      ]
     },
     "execution_count": 46,
     "metadata": {},
     "output_type": "execute_result"
    }
   ],
   "source": [
    "catch_all_averaged_preds[0]"
   ]
  },
  {
   "cell_type": "code",
   "execution_count": 47,
   "id": "ef6c25a0-0f7f-4434-8d5c-b3443659d436",
   "metadata": {},
   "outputs": [],
   "source": [
    "Forecasted_values_df = pd.DataFrame(catch_all_averaged_preds).T"
   ]
  },
  {
   "cell_type": "code",
   "execution_count": 48,
   "id": "b26d17a8-7f02-403f-a02a-18d2d8d12854",
   "metadata": {},
   "outputs": [
    {
     "data": {
      "text/plain": [
       "(7, 1376)"
      ]
     },
     "execution_count": 48,
     "metadata": {},
     "output_type": "execute_result"
    }
   ],
   "source": [
    "Forecasted_values_df.shape"
   ]
  },
  {
   "cell_type": "code",
   "execution_count": 49,
   "id": "a630e79d-0c18-492a-a414-40d6e51d5584",
   "metadata": {},
   "outputs": [
    {
     "data": {
      "text/html": [
       "<div>\n",
       "<style scoped>\n",
       "    .dataframe tbody tr th:only-of-type {\n",
       "        vertical-align: middle;\n",
       "    }\n",
       "\n",
       "    .dataframe tbody tr th {\n",
       "        vertical-align: top;\n",
       "    }\n",
       "\n",
       "    .dataframe thead th {\n",
       "        text-align: right;\n",
       "    }\n",
       "</style>\n",
       "<table border=\"1\" class=\"dataframe\">\n",
       "  <thead>\n",
       "    <tr style=\"text-align: right;\">\n",
       "      <th></th>\n",
       "      <th>0</th>\n",
       "      <th>1</th>\n",
       "      <th>2</th>\n",
       "      <th>3</th>\n",
       "      <th>4</th>\n",
       "      <th>5</th>\n",
       "      <th>6</th>\n",
       "      <th>7</th>\n",
       "      <th>8</th>\n",
       "      <th>9</th>\n",
       "      <th>...</th>\n",
       "      <th>1366</th>\n",
       "      <th>1367</th>\n",
       "      <th>1368</th>\n",
       "      <th>1369</th>\n",
       "      <th>1370</th>\n",
       "      <th>1371</th>\n",
       "      <th>1372</th>\n",
       "      <th>1373</th>\n",
       "      <th>1374</th>\n",
       "      <th>1375</th>\n",
       "    </tr>\n",
       "  </thead>\n",
       "  <tbody>\n",
       "    <tr>\n",
       "      <th>0</th>\n",
       "      <td>2.794582</td>\n",
       "      <td>2.793825</td>\n",
       "      <td>2.654170</td>\n",
       "      <td>3.148311</td>\n",
       "      <td>3.937677</td>\n",
       "      <td>4.442193</td>\n",
       "      <td>3.503537</td>\n",
       "      <td>2.777706</td>\n",
       "      <td>2.778156</td>\n",
       "      <td>2.836293</td>\n",
       "      <td>...</td>\n",
       "      <td>0.232323</td>\n",
       "      <td>0.226104</td>\n",
       "      <td>0.040968</td>\n",
       "      <td>0.024015</td>\n",
       "      <td>0.029969</td>\n",
       "      <td>0.035806</td>\n",
       "      <td>0.029881</td>\n",
       "      <td>0.033614</td>\n",
       "      <td>0.040806</td>\n",
       "      <td>0.069186</td>\n",
       "    </tr>\n",
       "    <tr>\n",
       "      <th>1</th>\n",
       "      <td>2.916318</td>\n",
       "      <td>2.966842</td>\n",
       "      <td>2.828131</td>\n",
       "      <td>2.829287</td>\n",
       "      <td>3.346132</td>\n",
       "      <td>3.960727</td>\n",
       "      <td>3.481507</td>\n",
       "      <td>2.858756</td>\n",
       "      <td>2.817668</td>\n",
       "      <td>2.798338</td>\n",
       "      <td>...</td>\n",
       "      <td>0.242973</td>\n",
       "      <td>0.233233</td>\n",
       "      <td>0.023803</td>\n",
       "      <td>0.008172</td>\n",
       "      <td>0.004577</td>\n",
       "      <td>0.011976</td>\n",
       "      <td>0.012454</td>\n",
       "      <td>0.019429</td>\n",
       "      <td>0.017566</td>\n",
       "      <td>0.012711</td>\n",
       "    </tr>\n",
       "    <tr>\n",
       "      <th>2</th>\n",
       "      <td>2.903370</td>\n",
       "      <td>2.888156</td>\n",
       "      <td>2.773405</td>\n",
       "      <td>3.204893</td>\n",
       "      <td>4.806106</td>\n",
       "      <td>3.790811</td>\n",
       "      <td>3.769469</td>\n",
       "      <td>2.622005</td>\n",
       "      <td>2.535726</td>\n",
       "      <td>2.712201</td>\n",
       "      <td>...</td>\n",
       "      <td>0.298058</td>\n",
       "      <td>0.260058</td>\n",
       "      <td>0.022451</td>\n",
       "      <td>0.005134</td>\n",
       "      <td>0.005588</td>\n",
       "      <td>0.016201</td>\n",
       "      <td>0.015240</td>\n",
       "      <td>0.020589</td>\n",
       "      <td>0.015635</td>\n",
       "      <td>0.018058</td>\n",
       "    </tr>\n",
       "    <tr>\n",
       "      <th>3</th>\n",
       "      <td>3.674096</td>\n",
       "      <td>3.794042</td>\n",
       "      <td>3.751941</td>\n",
       "      <td>2.066611</td>\n",
       "      <td>0.560782</td>\n",
       "      <td>19.888760</td>\n",
       "      <td>21.234600</td>\n",
       "      <td>18.267481</td>\n",
       "      <td>9.773792</td>\n",
       "      <td>6.979844</td>\n",
       "      <td>...</td>\n",
       "      <td>0.261834</td>\n",
       "      <td>0.257761</td>\n",
       "      <td>0.021421</td>\n",
       "      <td>0.011396</td>\n",
       "      <td>0.008079</td>\n",
       "      <td>0.022239</td>\n",
       "      <td>0.017316</td>\n",
       "      <td>0.031336</td>\n",
       "      <td>0.024792</td>\n",
       "      <td>0.038091</td>\n",
       "    </tr>\n",
       "    <tr>\n",
       "      <th>4</th>\n",
       "      <td>3.351402</td>\n",
       "      <td>3.402067</td>\n",
       "      <td>3.418045</td>\n",
       "      <td>2.609056</td>\n",
       "      <td>1.191571</td>\n",
       "      <td>7.467643</td>\n",
       "      <td>5.495633</td>\n",
       "      <td>5.563858</td>\n",
       "      <td>4.934660</td>\n",
       "      <td>4.073707</td>\n",
       "      <td>...</td>\n",
       "      <td>0.229685</td>\n",
       "      <td>0.252457</td>\n",
       "      <td>0.034623</td>\n",
       "      <td>0.007443</td>\n",
       "      <td>0.013186</td>\n",
       "      <td>0.017906</td>\n",
       "      <td>0.010582</td>\n",
       "      <td>0.025261</td>\n",
       "      <td>0.021745</td>\n",
       "      <td>0.027778</td>\n",
       "    </tr>\n",
       "  </tbody>\n",
       "</table>\n",
       "<p>5 rows × 1376 columns</p>\n",
       "</div>"
      ],
      "text/plain": [
       "       0         1         2         3         4          5          6     \\\n",
       "0  2.794582  2.793825  2.654170  3.148311  3.937677   4.442193   3.503537   \n",
       "1  2.916318  2.966842  2.828131  2.829287  3.346132   3.960727   3.481507   \n",
       "2  2.903370  2.888156  2.773405  3.204893  4.806106   3.790811   3.769469   \n",
       "3  3.674096  3.794042  3.751941  2.066611  0.560782  19.888760  21.234600   \n",
       "4  3.351402  3.402067  3.418045  2.609056  1.191571   7.467643   5.495633   \n",
       "\n",
       "        7         8         9     ...      1366      1367      1368      1369  \\\n",
       "0   2.777706  2.778156  2.836293  ...  0.232323  0.226104  0.040968  0.024015   \n",
       "1   2.858756  2.817668  2.798338  ...  0.242973  0.233233  0.023803  0.008172   \n",
       "2   2.622005  2.535726  2.712201  ...  0.298058  0.260058  0.022451  0.005134   \n",
       "3  18.267481  9.773792  6.979844  ...  0.261834  0.257761  0.021421  0.011396   \n",
       "4   5.563858  4.934660  4.073707  ...  0.229685  0.252457  0.034623  0.007443   \n",
       "\n",
       "       1370      1371      1372      1373      1374      1375  \n",
       "0  0.029969  0.035806  0.029881  0.033614  0.040806  0.069186  \n",
       "1  0.004577  0.011976  0.012454  0.019429  0.017566  0.012711  \n",
       "2  0.005588  0.016201  0.015240  0.020589  0.015635  0.018058  \n",
       "3  0.008079  0.022239  0.017316  0.031336  0.024792  0.038091  \n",
       "4  0.013186  0.017906  0.010582  0.025261  0.021745  0.027778  \n",
       "\n",
       "[5 rows x 1376 columns]"
      ]
     },
     "execution_count": 49,
     "metadata": {},
     "output_type": "execute_result"
    }
   ],
   "source": [
    "Forecasted_values_df.head()"
   ]
  },
  {
   "cell_type": "code",
   "execution_count": 50,
   "id": "68c7bc01-af52-4664-8745-99c3f70ed793",
   "metadata": {},
   "outputs": [],
   "source": [
    "# give column names here\n",
    "Forecasted_values_df.columns = ['forecasted_val_' + str(i) for i in range(1376)]"
   ]
  },
  {
   "cell_type": "code",
   "execution_count": 51,
   "id": "5753e902-47ea-4455-a177-ccb6cd4b16ff",
   "metadata": {},
   "outputs": [
    {
     "data": {
      "text/html": [
       "<div>\n",
       "<style scoped>\n",
       "    .dataframe tbody tr th:only-of-type {\n",
       "        vertical-align: middle;\n",
       "    }\n",
       "\n",
       "    .dataframe tbody tr th {\n",
       "        vertical-align: top;\n",
       "    }\n",
       "\n",
       "    .dataframe thead th {\n",
       "        text-align: right;\n",
       "    }\n",
       "</style>\n",
       "<table border=\"1\" class=\"dataframe\">\n",
       "  <thead>\n",
       "    <tr style=\"text-align: right;\">\n",
       "      <th></th>\n",
       "      <th>forecasted_val_0</th>\n",
       "      <th>forecasted_val_1</th>\n",
       "      <th>forecasted_val_2</th>\n",
       "      <th>forecasted_val_3</th>\n",
       "      <th>forecasted_val_4</th>\n",
       "      <th>forecasted_val_5</th>\n",
       "      <th>forecasted_val_6</th>\n",
       "      <th>forecasted_val_7</th>\n",
       "      <th>forecasted_val_8</th>\n",
       "      <th>forecasted_val_9</th>\n",
       "      <th>...</th>\n",
       "      <th>forecasted_val_1366</th>\n",
       "      <th>forecasted_val_1367</th>\n",
       "      <th>forecasted_val_1368</th>\n",
       "      <th>forecasted_val_1369</th>\n",
       "      <th>forecasted_val_1370</th>\n",
       "      <th>forecasted_val_1371</th>\n",
       "      <th>forecasted_val_1372</th>\n",
       "      <th>forecasted_val_1373</th>\n",
       "      <th>forecasted_val_1374</th>\n",
       "      <th>forecasted_val_1375</th>\n",
       "    </tr>\n",
       "  </thead>\n",
       "  <tbody>\n",
       "    <tr>\n",
       "      <th>0</th>\n",
       "      <td>2.794582</td>\n",
       "      <td>2.793825</td>\n",
       "      <td>2.654170</td>\n",
       "      <td>3.148311</td>\n",
       "      <td>3.937677</td>\n",
       "      <td>4.442193</td>\n",
       "      <td>3.503537</td>\n",
       "      <td>2.777706</td>\n",
       "      <td>2.778156</td>\n",
       "      <td>2.836293</td>\n",
       "      <td>...</td>\n",
       "      <td>0.232323</td>\n",
       "      <td>0.226104</td>\n",
       "      <td>0.040968</td>\n",
       "      <td>0.024015</td>\n",
       "      <td>0.029969</td>\n",
       "      <td>0.035806</td>\n",
       "      <td>0.029881</td>\n",
       "      <td>0.033614</td>\n",
       "      <td>0.040806</td>\n",
       "      <td>0.069186</td>\n",
       "    </tr>\n",
       "    <tr>\n",
       "      <th>1</th>\n",
       "      <td>2.916318</td>\n",
       "      <td>2.966842</td>\n",
       "      <td>2.828131</td>\n",
       "      <td>2.829287</td>\n",
       "      <td>3.346132</td>\n",
       "      <td>3.960727</td>\n",
       "      <td>3.481507</td>\n",
       "      <td>2.858756</td>\n",
       "      <td>2.817668</td>\n",
       "      <td>2.798338</td>\n",
       "      <td>...</td>\n",
       "      <td>0.242973</td>\n",
       "      <td>0.233233</td>\n",
       "      <td>0.023803</td>\n",
       "      <td>0.008172</td>\n",
       "      <td>0.004577</td>\n",
       "      <td>0.011976</td>\n",
       "      <td>0.012454</td>\n",
       "      <td>0.019429</td>\n",
       "      <td>0.017566</td>\n",
       "      <td>0.012711</td>\n",
       "    </tr>\n",
       "    <tr>\n",
       "      <th>2</th>\n",
       "      <td>2.903370</td>\n",
       "      <td>2.888156</td>\n",
       "      <td>2.773405</td>\n",
       "      <td>3.204893</td>\n",
       "      <td>4.806106</td>\n",
       "      <td>3.790811</td>\n",
       "      <td>3.769469</td>\n",
       "      <td>2.622005</td>\n",
       "      <td>2.535726</td>\n",
       "      <td>2.712201</td>\n",
       "      <td>...</td>\n",
       "      <td>0.298058</td>\n",
       "      <td>0.260058</td>\n",
       "      <td>0.022451</td>\n",
       "      <td>0.005134</td>\n",
       "      <td>0.005588</td>\n",
       "      <td>0.016201</td>\n",
       "      <td>0.015240</td>\n",
       "      <td>0.020589</td>\n",
       "      <td>0.015635</td>\n",
       "      <td>0.018058</td>\n",
       "    </tr>\n",
       "    <tr>\n",
       "      <th>3</th>\n",
       "      <td>3.674096</td>\n",
       "      <td>3.794042</td>\n",
       "      <td>3.751941</td>\n",
       "      <td>2.066611</td>\n",
       "      <td>0.560782</td>\n",
       "      <td>19.888760</td>\n",
       "      <td>21.234600</td>\n",
       "      <td>18.267481</td>\n",
       "      <td>9.773792</td>\n",
       "      <td>6.979844</td>\n",
       "      <td>...</td>\n",
       "      <td>0.261834</td>\n",
       "      <td>0.257761</td>\n",
       "      <td>0.021421</td>\n",
       "      <td>0.011396</td>\n",
       "      <td>0.008079</td>\n",
       "      <td>0.022239</td>\n",
       "      <td>0.017316</td>\n",
       "      <td>0.031336</td>\n",
       "      <td>0.024792</td>\n",
       "      <td>0.038091</td>\n",
       "    </tr>\n",
       "    <tr>\n",
       "      <th>4</th>\n",
       "      <td>3.351402</td>\n",
       "      <td>3.402067</td>\n",
       "      <td>3.418045</td>\n",
       "      <td>2.609056</td>\n",
       "      <td>1.191571</td>\n",
       "      <td>7.467643</td>\n",
       "      <td>5.495633</td>\n",
       "      <td>5.563858</td>\n",
       "      <td>4.934660</td>\n",
       "      <td>4.073707</td>\n",
       "      <td>...</td>\n",
       "      <td>0.229685</td>\n",
       "      <td>0.252457</td>\n",
       "      <td>0.034623</td>\n",
       "      <td>0.007443</td>\n",
       "      <td>0.013186</td>\n",
       "      <td>0.017906</td>\n",
       "      <td>0.010582</td>\n",
       "      <td>0.025261</td>\n",
       "      <td>0.021745</td>\n",
       "      <td>0.027778</td>\n",
       "    </tr>\n",
       "  </tbody>\n",
       "</table>\n",
       "<p>5 rows × 1376 columns</p>\n",
       "</div>"
      ],
      "text/plain": [
       "   forecasted_val_0  forecasted_val_1  forecasted_val_2  forecasted_val_3  \\\n",
       "0          2.794582          2.793825          2.654170          3.148311   \n",
       "1          2.916318          2.966842          2.828131          2.829287   \n",
       "2          2.903370          2.888156          2.773405          3.204893   \n",
       "3          3.674096          3.794042          3.751941          2.066611   \n",
       "4          3.351402          3.402067          3.418045          2.609056   \n",
       "\n",
       "   forecasted_val_4  forecasted_val_5  forecasted_val_6  forecasted_val_7  \\\n",
       "0          3.937677          4.442193          3.503537          2.777706   \n",
       "1          3.346132          3.960727          3.481507          2.858756   \n",
       "2          4.806106          3.790811          3.769469          2.622005   \n",
       "3          0.560782         19.888760         21.234600         18.267481   \n",
       "4          1.191571          7.467643          5.495633          5.563858   \n",
       "\n",
       "   forecasted_val_8  forecasted_val_9  ...  forecasted_val_1366  \\\n",
       "0          2.778156          2.836293  ...             0.232323   \n",
       "1          2.817668          2.798338  ...             0.242973   \n",
       "2          2.535726          2.712201  ...             0.298058   \n",
       "3          9.773792          6.979844  ...             0.261834   \n",
       "4          4.934660          4.073707  ...             0.229685   \n",
       "\n",
       "   forecasted_val_1367  forecasted_val_1368  forecasted_val_1369  \\\n",
       "0             0.226104             0.040968             0.024015   \n",
       "1             0.233233             0.023803             0.008172   \n",
       "2             0.260058             0.022451             0.005134   \n",
       "3             0.257761             0.021421             0.011396   \n",
       "4             0.252457             0.034623             0.007443   \n",
       "\n",
       "   forecasted_val_1370  forecasted_val_1371  forecasted_val_1372  \\\n",
       "0             0.029969             0.035806             0.029881   \n",
       "1             0.004577             0.011976             0.012454   \n",
       "2             0.005588             0.016201             0.015240   \n",
       "3             0.008079             0.022239             0.017316   \n",
       "4             0.013186             0.017906             0.010582   \n",
       "\n",
       "   forecasted_val_1373  forecasted_val_1374  forecasted_val_1375  \n",
       "0             0.033614             0.040806             0.069186  \n",
       "1             0.019429             0.017566             0.012711  \n",
       "2             0.020589             0.015635             0.018058  \n",
       "3             0.031336             0.024792             0.038091  \n",
       "4             0.025261             0.021745             0.027778  \n",
       "\n",
       "[5 rows x 1376 columns]"
      ]
     },
     "execution_count": 51,
     "metadata": {},
     "output_type": "execute_result"
    }
   ],
   "source": [
    "Forecasted_values_df.head()"
   ]
  },
  {
   "cell_type": "code",
   "execution_count": 52,
   "id": "8b5404a5-79f0-4045-a156-69eea2eb2081",
   "metadata": {},
   "outputs": [],
   "source": [
    "# get the min and max values here?"
   ]
  },
  {
   "cell_type": "code",
   "execution_count": 53,
   "id": "3f78b24b-0f2a-41c7-8ded-8d8158b0da98",
   "metadata": {},
   "outputs": [
    {
     "data": {
      "text/plain": [
       "(0.0017603843, 34022.91)"
      ]
     },
     "execution_count": 53,
     "metadata": {},
     "output_type": "execute_result"
    }
   ],
   "source": [
    "Forecasted_values_df.values.min(), Forecasted_values_df.values.max()"
   ]
  },
  {
   "cell_type": "code",
   "execution_count": 54,
   "id": "40fe0133-c973-4abd-b41e-103c5bd236be",
   "metadata": {},
   "outputs": [],
   "source": [
    "# notice that, there are a lot of values which seem to be greater than 20 - this seems like an okay value to have a cut off - should we try to get the row and column indices of these values? Maybe we need to run these later individually until we get stable values?"
   ]
  },
  {
   "cell_type": "code",
   "execution_count": 55,
   "id": "c696a675-c08d-400f-9a8c-a3e950e2a3a1",
   "metadata": {},
   "outputs": [],
   "source": [
    "mask_gt_20 = Forecasted_values_df > 20"
   ]
  },
  {
   "cell_type": "code",
   "execution_count": 56,
   "id": "2c264ed6-d426-44dc-8e16-b792fa95c98c",
   "metadata": {},
   "outputs": [],
   "source": [
    "resulting_df = Forecasted_values_df[mask_gt_20].stack().reset_index()"
   ]
  },
  {
   "cell_type": "code",
   "execution_count": 57,
   "id": "5e55aba4-ace3-4262-ac2f-0f64e5396e25",
   "metadata": {},
   "outputs": [
    {
     "data": {
      "text/html": [
       "<div>\n",
       "<style scoped>\n",
       "    .dataframe tbody tr th:only-of-type {\n",
       "        vertical-align: middle;\n",
       "    }\n",
       "\n",
       "    .dataframe tbody tr th {\n",
       "        vertical-align: top;\n",
       "    }\n",
       "\n",
       "    .dataframe thead th {\n",
       "        text-align: right;\n",
       "    }\n",
       "</style>\n",
       "<table border=\"1\" class=\"dataframe\">\n",
       "  <thead>\n",
       "    <tr style=\"text-align: right;\">\n",
       "      <th></th>\n",
       "      <th>level_0</th>\n",
       "      <th>level_1</th>\n",
       "      <th>0</th>\n",
       "    </tr>\n",
       "  </thead>\n",
       "  <tbody>\n",
       "    <tr>\n",
       "      <th>0</th>\n",
       "      <td>3</td>\n",
       "      <td>forecasted_val_6</td>\n",
       "      <td>21.234600</td>\n",
       "    </tr>\n",
       "    <tr>\n",
       "      <th>1</th>\n",
       "      <td>3</td>\n",
       "      <td>forecasted_val_13</td>\n",
       "      <td>37.611916</td>\n",
       "    </tr>\n",
       "    <tr>\n",
       "      <th>2</th>\n",
       "      <td>3</td>\n",
       "      <td>forecasted_val_14</td>\n",
       "      <td>25.668379</td>\n",
       "    </tr>\n",
       "    <tr>\n",
       "      <th>3</th>\n",
       "      <td>3</td>\n",
       "      <td>forecasted_val_50</td>\n",
       "      <td>23.083900</td>\n",
       "    </tr>\n",
       "    <tr>\n",
       "      <th>4</th>\n",
       "      <td>3</td>\n",
       "      <td>forecasted_val_53</td>\n",
       "      <td>24.772427</td>\n",
       "    </tr>\n",
       "  </tbody>\n",
       "</table>\n",
       "</div>"
      ],
      "text/plain": [
       "   level_0            level_1          0\n",
       "0        3   forecasted_val_6  21.234600\n",
       "1        3  forecasted_val_13  37.611916\n",
       "2        3  forecasted_val_14  25.668379\n",
       "3        3  forecasted_val_50  23.083900\n",
       "4        3  forecasted_val_53  24.772427"
      ]
     },
     "execution_count": 57,
     "metadata": {},
     "output_type": "execute_result"
    }
   ],
   "source": [
    "resulting_df.head()"
   ]
  },
  {
   "cell_type": "code",
   "execution_count": 58,
   "id": "080b2cff-441e-49c5-b6ed-eca47c56fd2a",
   "metadata": {},
   "outputs": [
    {
     "data": {
      "text/plain": [
       "(554, 3)"
      ]
     },
     "execution_count": 58,
     "metadata": {},
     "output_type": "execute_result"
    }
   ],
   "source": [
    "resulting_df.shape"
   ]
  },
  {
   "cell_type": "code",
   "execution_count": 59,
   "id": "f2640051-144e-4a91-baf5-3a1acc2aca9b",
   "metadata": {},
   "outputs": [],
   "source": [
    "resulting_df.columns = ['row_index', 'column_name', 'forecasted_val']"
   ]
  },
  {
   "cell_type": "code",
   "execution_count": 60,
   "id": "320c1b54-b3f4-4226-a792-4d508cf4c90b",
   "metadata": {},
   "outputs": [
    {
     "data": {
      "text/html": [
       "<div>\n",
       "<style scoped>\n",
       "    .dataframe tbody tr th:only-of-type {\n",
       "        vertical-align: middle;\n",
       "    }\n",
       "\n",
       "    .dataframe tbody tr th {\n",
       "        vertical-align: top;\n",
       "    }\n",
       "\n",
       "    .dataframe thead th {\n",
       "        text-align: right;\n",
       "    }\n",
       "</style>\n",
       "<table border=\"1\" class=\"dataframe\">\n",
       "  <thead>\n",
       "    <tr style=\"text-align: right;\">\n",
       "      <th></th>\n",
       "      <th>row_index</th>\n",
       "      <th>column_name</th>\n",
       "      <th>forecasted_val</th>\n",
       "    </tr>\n",
       "  </thead>\n",
       "  <tbody>\n",
       "    <tr>\n",
       "      <th>0</th>\n",
       "      <td>3</td>\n",
       "      <td>forecasted_val_6</td>\n",
       "      <td>21.234600</td>\n",
       "    </tr>\n",
       "    <tr>\n",
       "      <th>1</th>\n",
       "      <td>3</td>\n",
       "      <td>forecasted_val_13</td>\n",
       "      <td>37.611916</td>\n",
       "    </tr>\n",
       "    <tr>\n",
       "      <th>2</th>\n",
       "      <td>3</td>\n",
       "      <td>forecasted_val_14</td>\n",
       "      <td>25.668379</td>\n",
       "    </tr>\n",
       "    <tr>\n",
       "      <th>3</th>\n",
       "      <td>3</td>\n",
       "      <td>forecasted_val_50</td>\n",
       "      <td>23.083900</td>\n",
       "    </tr>\n",
       "    <tr>\n",
       "      <th>4</th>\n",
       "      <td>3</td>\n",
       "      <td>forecasted_val_53</td>\n",
       "      <td>24.772427</td>\n",
       "    </tr>\n",
       "  </tbody>\n",
       "</table>\n",
       "</div>"
      ],
      "text/plain": [
       "   row_index        column_name  forecasted_val\n",
       "0          3   forecasted_val_6       21.234600\n",
       "1          3  forecasted_val_13       37.611916\n",
       "2          3  forecasted_val_14       25.668379\n",
       "3          3  forecasted_val_50       23.083900\n",
       "4          3  forecasted_val_53       24.772427"
      ]
     },
     "execution_count": 60,
     "metadata": {},
     "output_type": "execute_result"
    }
   ],
   "source": [
    "resulting_df.head()"
   ]
  },
  {
   "cell_type": "code",
   "execution_count": 61,
   "id": "ef424267-cbe1-4c8b-acb2-ca63298d5900",
   "metadata": {},
   "outputs": [
    {
     "data": {
      "text/plain": [
       "column_name\n",
       "forecasted_val_1082    4\n",
       "forecasted_val_1087    4\n",
       "forecasted_val_1088    4\n",
       "forecasted_val_1089    4\n",
       "forecasted_val_1123    4\n",
       "                      ..\n",
       "forecasted_val_779     1\n",
       "forecasted_val_649     1\n",
       "forecasted_val_54      1\n",
       "forecasted_val_53      1\n",
       "forecasted_val_50      1\n",
       "Name: count, Length: 176, dtype: int64"
      ]
     },
     "execution_count": 61,
     "metadata": {},
     "output_type": "execute_result"
    }
   ],
   "source": [
    "# how many coumns do we need to focus on?\n",
    "resulting_df['column_name'].value_counts()"
   ]
  },
  {
   "cell_type": "code",
   "execution_count": 62,
   "id": "e5d00f0f-534c-4402-9fe7-4e9459811160",
   "metadata": {},
   "outputs": [],
   "source": [
    "# notice that there are 347 py scripts that we may need to rerun"
   ]
  },
  {
   "cell_type": "code",
   "execution_count": 63,
   "id": "bebd62c8-6fec-4775-a5b0-39c75d994ffe",
   "metadata": {},
   "outputs": [],
   "source": [
    "# What are the subwindow names?"
   ]
  },
  {
   "cell_type": "code",
   "execution_count": 64,
   "id": "f0f38cd5-4534-41b5-9a19-b4aabe522430",
   "metadata": {},
   "outputs": [],
   "source": [
    "sub_window_names = list(set(resulting_df['column_name']))\n",
    "sub_window_names.sort()"
   ]
  },
  {
   "cell_type": "code",
   "execution_count": 65,
   "id": "c8dc8bdb-ed42-4b3d-8890-6ae3edbd8fb0",
   "metadata": {},
   "outputs": [],
   "source": [
    "# sub_window_names - but this is not properly sorted"
   ]
  },
  {
   "cell_type": "code",
   "execution_count": 66,
   "id": "591392c7-4618-488c-abff-90409398700d",
   "metadata": {},
   "outputs": [],
   "source": [
    "sub_window_numbers = [val.split('_')[-1] for val in resulting_df['column_name']]\n",
    "sub_window_int = [int(i) for i in sub_window_numbers]\n",
    "sub_window_int.sort()"
   ]
  },
  {
   "cell_type": "code",
   "execution_count": 67,
   "id": "9b6258af-b965-46e7-a3b2-469bc91369c2",
   "metadata": {},
   "outputs": [
    {
     "data": {
      "text/plain": [
       "554"
      ]
     },
     "execution_count": 67,
     "metadata": {},
     "output_type": "execute_result"
    }
   ],
   "source": [
    "len(sub_window_int)"
   ]
  },
  {
   "cell_type": "code",
   "execution_count": 68,
   "id": "de0a65dd-66c4-492c-b047-74aa0dda975c",
   "metadata": {},
   "outputs": [],
   "source": [
    "unique_subwindow_int = list(set(sub_window_int))"
   ]
  },
  {
   "cell_type": "code",
   "execution_count": 74,
   "id": "13ea4d71-5eaf-4c91-a177-d1dca496d63c",
   "metadata": {},
   "outputs": [],
   "source": [
    "unique_subwindow_int.sort()"
   ]
  },
  {
   "cell_type": "code",
   "execution_count": 69,
   "id": "f7642d3d-840d-4e20-b739-50bd33c1e147",
   "metadata": {},
   "outputs": [
    {
     "data": {
      "text/plain": [
       "176"
      ]
     },
     "execution_count": 69,
     "metadata": {},
     "output_type": "execute_result"
    }
   ],
   "source": [
    "len(unique_subwindow_int)"
   ]
  },
  {
   "cell_type": "code",
   "execution_count": 76,
   "id": "34243047-3d57-4237-a73b-2a6b2c72a005",
   "metadata": {},
   "outputs": [],
   "source": [
    "# unique_subwindow_int"
   ]
  },
  {
   "cell_type": "code",
   "execution_count": 77,
   "id": "86a8e38e-0731-4ded-9a16-e6eb4acfa440",
   "metadata": {},
   "outputs": [],
   "source": [
    "sub_window_names_final = ['forecasted_val_' + str(i) for i in unique_subwindow_int]"
   ]
  },
  {
   "cell_type": "code",
   "execution_count": 79,
   "id": "907ff8f1-fc0b-469f-9f27-2947307afbe8",
   "metadata": {},
   "outputs": [],
   "source": [
    "# sub_window_names_final # cool, so we need to look into individually running these scripts?"
   ]
  },
  {
   "cell_type": "code",
   "execution_count": 80,
   "id": "e8eb3514-8def-4474-8ad8-5696b5200717",
   "metadata": {},
   "outputs": [],
   "source": [
    "# We are waiting to see if changing the prioirs are going to give us a direction we should proceed in"
   ]
  },
  {
   "cell_type": "code",
   "execution_count": 81,
   "id": "25bb623d-9523-4752-ac13-af99cbff5c27",
   "metadata": {},
   "outputs": [],
   "source": [
    "# The maximmum is an absurd amount - where is this coming from ? Do we need to manually fix it? Let's see\n",
    "# how many of teh values in the above dataframe are more than 10?"
   ]
  },
  {
   "cell_type": "code",
   "execution_count": 82,
   "id": "074e601a-f118-47e2-af47-32731c30bdc4",
   "metadata": {},
   "outputs": [],
   "source": [
    "# Maybe see to this once all columns are arranged in a single column?"
   ]
  },
  {
   "cell_type": "code",
   "execution_count": 84,
   "id": "3c856c12-7001-43c1-a186-08b242074808",
   "metadata": {},
   "outputs": [],
   "source": [
    "exp_true.columns = ['True_val_' + str(i) for i in range(1376)]"
   ]
  },
  {
   "cell_type": "code",
   "execution_count": 85,
   "id": "067be61e-3f40-487d-9d29-2aca3375cbe9",
   "metadata": {},
   "outputs": [
    {
     "data": {
      "text/html": [
       "<div>\n",
       "<style scoped>\n",
       "    .dataframe tbody tr th:only-of-type {\n",
       "        vertical-align: middle;\n",
       "    }\n",
       "\n",
       "    .dataframe tbody tr th {\n",
       "        vertical-align: top;\n",
       "    }\n",
       "\n",
       "    .dataframe thead th {\n",
       "        text-align: right;\n",
       "    }\n",
       "</style>\n",
       "<table border=\"1\" class=\"dataframe\">\n",
       "  <thead>\n",
       "    <tr style=\"text-align: right;\">\n",
       "      <th></th>\n",
       "      <th>True_val_0</th>\n",
       "      <th>True_val_1</th>\n",
       "      <th>True_val_2</th>\n",
       "      <th>True_val_3</th>\n",
       "      <th>True_val_4</th>\n",
       "      <th>True_val_5</th>\n",
       "      <th>True_val_6</th>\n",
       "      <th>True_val_7</th>\n",
       "      <th>True_val_8</th>\n",
       "      <th>True_val_9</th>\n",
       "      <th>...</th>\n",
       "      <th>True_val_1366</th>\n",
       "      <th>True_val_1367</th>\n",
       "      <th>True_val_1368</th>\n",
       "      <th>True_val_1369</th>\n",
       "      <th>True_val_1370</th>\n",
       "      <th>True_val_1371</th>\n",
       "      <th>True_val_1372</th>\n",
       "      <th>True_val_1373</th>\n",
       "      <th>True_val_1374</th>\n",
       "      <th>True_val_1375</th>\n",
       "    </tr>\n",
       "  </thead>\n",
       "  <tbody>\n",
       "    <tr>\n",
       "      <th>0</th>\n",
       "      <td>3.0</td>\n",
       "      <td>3.000000</td>\n",
       "      <td>3.054460</td>\n",
       "      <td>4.210626</td>\n",
       "      <td>4.999969</td>\n",
       "      <td>4.998673</td>\n",
       "      <td>3.607289</td>\n",
       "      <td>2.008103</td>\n",
       "      <td>2.000000</td>\n",
       "      <td>2.000030</td>\n",
       "      <td>...</td>\n",
       "      <td>0.002314</td>\n",
       "      <td>8.290115e-07</td>\n",
       "      <td>0.000000</td>\n",
       "      <td>0.000000</td>\n",
       "      <td>0.000000</td>\n",
       "      <td>0.000000</td>\n",
       "      <td>0.000000</td>\n",
       "      <td>0.000000</td>\n",
       "      <td>0.0</td>\n",
       "      <td>0.0</td>\n",
       "    </tr>\n",
       "    <tr>\n",
       "      <th>1</th>\n",
       "      <td>3.0</td>\n",
       "      <td>3.000000</td>\n",
       "      <td>3.000031</td>\n",
       "      <td>3.788700</td>\n",
       "      <td>4.000000</td>\n",
       "      <td>3.998653</td>\n",
       "      <td>2.054460</td>\n",
       "      <td>1.000674</td>\n",
       "      <td>1.000000</td>\n",
       "      <td>1.000000</td>\n",
       "      <td>...</td>\n",
       "      <td>0.000000</td>\n",
       "      <td>0.000000e+00</td>\n",
       "      <td>0.000000</td>\n",
       "      <td>0.000000</td>\n",
       "      <td>0.000000</td>\n",
       "      <td>0.000000</td>\n",
       "      <td>0.000000</td>\n",
       "      <td>0.000000</td>\n",
       "      <td>0.0</td>\n",
       "      <td>0.0</td>\n",
       "    </tr>\n",
       "    <tr>\n",
       "      <th>2</th>\n",
       "      <td>4.0</td>\n",
       "      <td>4.000000</td>\n",
       "      <td>4.000001</td>\n",
       "      <td>4.500674</td>\n",
       "      <td>5.945540</td>\n",
       "      <td>5.995402</td>\n",
       "      <td>4.396003</td>\n",
       "      <td>2.995419</td>\n",
       "      <td>2.013762</td>\n",
       "      <td>2.000000</td>\n",
       "      <td>...</td>\n",
       "      <td>0.500001</td>\n",
       "      <td>5.000013e-01</td>\n",
       "      <td>0.327972</td>\n",
       "      <td>0.000002</td>\n",
       "      <td>0.000000</td>\n",
       "      <td>0.000000</td>\n",
       "      <td>0.000000</td>\n",
       "      <td>0.000000</td>\n",
       "      <td>0.0</td>\n",
       "      <td>0.0</td>\n",
       "    </tr>\n",
       "    <tr>\n",
       "      <th>3</th>\n",
       "      <td>4.0</td>\n",
       "      <td>4.158125</td>\n",
       "      <td>5.002446</td>\n",
       "      <td>6.146441</td>\n",
       "      <td>7.132579</td>\n",
       "      <td>6.018200</td>\n",
       "      <td>4.132944</td>\n",
       "      <td>3.344088</td>\n",
       "      <td>3.344058</td>\n",
       "      <td>3.344058</td>\n",
       "      <td>...</td>\n",
       "      <td>0.000000</td>\n",
       "      <td>0.000000e+00</td>\n",
       "      <td>0.000000</td>\n",
       "      <td>0.000000</td>\n",
       "      <td>0.000000</td>\n",
       "      <td>0.000000</td>\n",
       "      <td>0.000000</td>\n",
       "      <td>0.000000</td>\n",
       "      <td>0.0</td>\n",
       "      <td>0.0</td>\n",
       "    </tr>\n",
       "    <tr>\n",
       "      <th>4</th>\n",
       "      <td>3.0</td>\n",
       "      <td>3.158267</td>\n",
       "      <td>4.918398</td>\n",
       "      <td>5.272511</td>\n",
       "      <td>5.640947</td>\n",
       "      <td>3.214714</td>\n",
       "      <td>2.998810</td>\n",
       "      <td>2.998810</td>\n",
       "      <td>2.998810</td>\n",
       "      <td>2.998881</td>\n",
       "      <td>...</td>\n",
       "      <td>0.273701</td>\n",
       "      <td>2.737009e-01</td>\n",
       "      <td>0.273701</td>\n",
       "      <td>0.273701</td>\n",
       "      <td>0.273701</td>\n",
       "      <td>0.273701</td>\n",
       "      <td>0.179532</td>\n",
       "      <td>0.000001</td>\n",
       "      <td>0.0</td>\n",
       "      <td>0.0</td>\n",
       "    </tr>\n",
       "  </tbody>\n",
       "</table>\n",
       "<p>5 rows × 1376 columns</p>\n",
       "</div>"
      ],
      "text/plain": [
       "   True_val_0  True_val_1  True_val_2  True_val_3  True_val_4  True_val_5  \\\n",
       "0         3.0    3.000000    3.054460    4.210626    4.999969    4.998673   \n",
       "1         3.0    3.000000    3.000031    3.788700    4.000000    3.998653   \n",
       "2         4.0    4.000000    4.000001    4.500674    5.945540    5.995402   \n",
       "3         4.0    4.158125    5.002446    6.146441    7.132579    6.018200   \n",
       "4         3.0    3.158267    4.918398    5.272511    5.640947    3.214714   \n",
       "\n",
       "   True_val_6  True_val_7  True_val_8  True_val_9  ...  True_val_1366  \\\n",
       "0    3.607289    2.008103    2.000000    2.000030  ...       0.002314   \n",
       "1    2.054460    1.000674    1.000000    1.000000  ...       0.000000   \n",
       "2    4.396003    2.995419    2.013762    2.000000  ...       0.500001   \n",
       "3    4.132944    3.344088    3.344058    3.344058  ...       0.000000   \n",
       "4    2.998810    2.998810    2.998810    2.998881  ...       0.273701   \n",
       "\n",
       "   True_val_1367  True_val_1368  True_val_1369  True_val_1370  True_val_1371  \\\n",
       "0   8.290115e-07       0.000000       0.000000       0.000000       0.000000   \n",
       "1   0.000000e+00       0.000000       0.000000       0.000000       0.000000   \n",
       "2   5.000013e-01       0.327972       0.000002       0.000000       0.000000   \n",
       "3   0.000000e+00       0.000000       0.000000       0.000000       0.000000   \n",
       "4   2.737009e-01       0.273701       0.273701       0.273701       0.273701   \n",
       "\n",
       "   True_val_1372  True_val_1373  True_val_1374  True_val_1375  \n",
       "0       0.000000       0.000000            0.0            0.0  \n",
       "1       0.000000       0.000000            0.0            0.0  \n",
       "2       0.000000       0.000000            0.0            0.0  \n",
       "3       0.000000       0.000000            0.0            0.0  \n",
       "4       0.179532       0.000001            0.0            0.0  \n",
       "\n",
       "[5 rows x 1376 columns]"
      ]
     },
     "execution_count": 85,
     "metadata": {},
     "output_type": "execute_result"
    }
   ],
   "source": [
    "exp_true.head()"
   ]
  },
  {
   "cell_type": "code",
   "execution_count": 86,
   "id": "2c45773b-0ea1-46be-8779-6c94e5c2d2e8",
   "metadata": {},
   "outputs": [],
   "source": [
    "# I think at this point we can go ahead and get the metrics for inference computed?"
   ]
  },
  {
   "cell_type": "code",
   "execution_count": 87,
   "id": "74578441-3c54-4eb3-8f75-e489c3c9494f",
   "metadata": {},
   "outputs": [],
   "source": [
    "# exp_true.keys()"
   ]
  },
  {
   "cell_type": "code",
   "execution_count": 88,
   "id": "eb0a136a-9fe1-498f-9bb8-84162b73a942",
   "metadata": {},
   "outputs": [],
   "source": [
    "# exp_true.values.shape"
   ]
  },
  {
   "cell_type": "code",
   "execution_count": 89,
   "id": "a3ca5525-f6e8-441d-ace6-0f00448a200a",
   "metadata": {},
   "outputs": [],
   "source": [
    "# use one column for both dataframes? that way it will be easier to compute the metrics?"
   ]
  },
  {
   "cell_type": "code",
   "execution_count": 90,
   "id": "1c43c82e-2df6-4005-9459-528fa4b1f3cb",
   "metadata": {},
   "outputs": [],
   "source": [
    "# Also something to keep in mind here is that the subwindow sizes are very small - 30*30 - this was intentional as we had to do the seq-2-seq model and they are data hungry - therefore having a 300*300 window size was not feasible"
   ]
  },
  {
   "cell_type": "code",
   "execution_count": 91,
   "id": "c622e1cf-a163-4edb-8ed3-d73a716466e1",
   "metadata": {},
   "outputs": [],
   "source": [
    "exp_true_onecol = pd.DataFrame(exp_true.to_numpy().ravel(order = 'F'), columns=[\"True_values\"])"
   ]
  },
  {
   "cell_type": "code",
   "execution_count": 92,
   "id": "97949b77-22b4-4b7a-82a4-32668f520ab0",
   "metadata": {},
   "outputs": [
    {
     "data": {
      "text/html": [
       "<div>\n",
       "<style scoped>\n",
       "    .dataframe tbody tr th:only-of-type {\n",
       "        vertical-align: middle;\n",
       "    }\n",
       "\n",
       "    .dataframe tbody tr th {\n",
       "        vertical-align: top;\n",
       "    }\n",
       "\n",
       "    .dataframe thead th {\n",
       "        text-align: right;\n",
       "    }\n",
       "</style>\n",
       "<table border=\"1\" class=\"dataframe\">\n",
       "  <thead>\n",
       "    <tr style=\"text-align: right;\">\n",
       "      <th></th>\n",
       "      <th>True_values</th>\n",
       "    </tr>\n",
       "  </thead>\n",
       "  <tbody>\n",
       "    <tr>\n",
       "      <th>0</th>\n",
       "      <td>3.0</td>\n",
       "    </tr>\n",
       "    <tr>\n",
       "      <th>1</th>\n",
       "      <td>3.0</td>\n",
       "    </tr>\n",
       "    <tr>\n",
       "      <th>2</th>\n",
       "      <td>4.0</td>\n",
       "    </tr>\n",
       "    <tr>\n",
       "      <th>3</th>\n",
       "      <td>4.0</td>\n",
       "    </tr>\n",
       "    <tr>\n",
       "      <th>4</th>\n",
       "      <td>3.0</td>\n",
       "    </tr>\n",
       "  </tbody>\n",
       "</table>\n",
       "</div>"
      ],
      "text/plain": [
       "   True_values\n",
       "0          3.0\n",
       "1          3.0\n",
       "2          4.0\n",
       "3          4.0\n",
       "4          3.0"
      ]
     },
     "execution_count": 92,
     "metadata": {},
     "output_type": "execute_result"
    }
   ],
   "source": [
    "exp_true_onecol.head()"
   ]
  },
  {
   "cell_type": "code",
   "execution_count": 93,
   "id": "770f4ad1-2c71-4a62-b2fd-0f052eba9088",
   "metadata": {},
   "outputs": [
    {
     "data": {
      "text/plain": [
       "(9632, 1)"
      ]
     },
     "execution_count": 93,
     "metadata": {},
     "output_type": "execute_result"
    }
   ],
   "source": [
    "exp_true_onecol.shape"
   ]
  },
  {
   "cell_type": "code",
   "execution_count": 94,
   "id": "59a01283-1e4e-45cf-bbc6-9330c5863f96",
   "metadata": {},
   "outputs": [
    {
     "data": {
      "text/plain": [
       "21504"
      ]
     },
     "execution_count": 94,
     "metadata": {},
     "output_type": "execute_result"
    }
   ],
   "source": [
    "3072*7"
   ]
  },
  {
   "cell_type": "code",
   "execution_count": 95,
   "id": "1de30f69-827a-4566-bb47-006090eb5f73",
   "metadata": {},
   "outputs": [],
   "source": [
    "exp_predicted_onecol = pd.DataFrame(Forecasted_values_df.to_numpy().ravel(order = 'F'), columns=[\"Forecasted_values\"])"
   ]
  },
  {
   "cell_type": "code",
   "execution_count": 97,
   "id": "8342aa85-97d4-4c5a-a021-81ef1edb027a",
   "metadata": {},
   "outputs": [
    {
     "data": {
      "text/html": [
       "<div>\n",
       "<style scoped>\n",
       "    .dataframe tbody tr th:only-of-type {\n",
       "        vertical-align: middle;\n",
       "    }\n",
       "\n",
       "    .dataframe tbody tr th {\n",
       "        vertical-align: top;\n",
       "    }\n",
       "\n",
       "    .dataframe thead th {\n",
       "        text-align: right;\n",
       "    }\n",
       "</style>\n",
       "<table border=\"1\" class=\"dataframe\">\n",
       "  <thead>\n",
       "    <tr style=\"text-align: right;\">\n",
       "      <th></th>\n",
       "      <th>Forecasted_values</th>\n",
       "    </tr>\n",
       "  </thead>\n",
       "  <tbody>\n",
       "    <tr>\n",
       "      <th>0</th>\n",
       "      <td>2.794582</td>\n",
       "    </tr>\n",
       "    <tr>\n",
       "      <th>1</th>\n",
       "      <td>2.916318</td>\n",
       "    </tr>\n",
       "    <tr>\n",
       "      <th>2</th>\n",
       "      <td>2.903370</td>\n",
       "    </tr>\n",
       "    <tr>\n",
       "      <th>3</th>\n",
       "      <td>3.674096</td>\n",
       "    </tr>\n",
       "    <tr>\n",
       "      <th>4</th>\n",
       "      <td>3.351402</td>\n",
       "    </tr>\n",
       "  </tbody>\n",
       "</table>\n",
       "</div>"
      ],
      "text/plain": [
       "   Forecasted_values\n",
       "0           2.794582\n",
       "1           2.916318\n",
       "2           2.903370\n",
       "3           3.674096\n",
       "4           3.351402"
      ]
     },
     "execution_count": 97,
     "metadata": {},
     "output_type": "execute_result"
    }
   ],
   "source": [
    "exp_predicted_onecol.head()"
   ]
  },
  {
   "cell_type": "code",
   "execution_count": 98,
   "id": "a069bf97-37be-4353-a829-842b4eae8ef0",
   "metadata": {},
   "outputs": [
    {
     "data": {
      "text/html": [
       "<div>\n",
       "<style scoped>\n",
       "    .dataframe tbody tr th:only-of-type {\n",
       "        vertical-align: middle;\n",
       "    }\n",
       "\n",
       "    .dataframe tbody tr th {\n",
       "        vertical-align: top;\n",
       "    }\n",
       "\n",
       "    .dataframe thead th {\n",
       "        text-align: right;\n",
       "    }\n",
       "</style>\n",
       "<table border=\"1\" class=\"dataframe\">\n",
       "  <thead>\n",
       "    <tr style=\"text-align: right;\">\n",
       "      <th></th>\n",
       "      <th>Forecasted_values</th>\n",
       "    </tr>\n",
       "  </thead>\n",
       "  <tbody>\n",
       "    <tr>\n",
       "      <th>9627</th>\n",
       "      <td>0.018058</td>\n",
       "    </tr>\n",
       "    <tr>\n",
       "      <th>9628</th>\n",
       "      <td>0.038091</td>\n",
       "    </tr>\n",
       "    <tr>\n",
       "      <th>9629</th>\n",
       "      <td>0.027778</td>\n",
       "    </tr>\n",
       "    <tr>\n",
       "      <th>9630</th>\n",
       "      <td>0.022704</td>\n",
       "    </tr>\n",
       "    <tr>\n",
       "      <th>9631</th>\n",
       "      <td>0.017391</td>\n",
       "    </tr>\n",
       "  </tbody>\n",
       "</table>\n",
       "</div>"
      ],
      "text/plain": [
       "      Forecasted_values\n",
       "9627           0.018058\n",
       "9628           0.038091\n",
       "9629           0.027778\n",
       "9630           0.022704\n",
       "9631           0.017391"
      ]
     },
     "execution_count": 98,
     "metadata": {},
     "output_type": "execute_result"
    }
   ],
   "source": [
    "exp_predicted_onecol.tail()"
   ]
  },
  {
   "cell_type": "code",
   "execution_count": 99,
   "id": "8e28b95a-89e0-43c5-a9c3-e2cc1d432c89",
   "metadata": {},
   "outputs": [
    {
     "data": {
      "text/plain": [
       "(9632, 1)"
      ]
     },
     "execution_count": 99,
     "metadata": {},
     "output_type": "execute_result"
    }
   ],
   "source": [
    "exp_predicted_onecol.shape"
   ]
  },
  {
   "cell_type": "code",
   "execution_count": 100,
   "id": "f9ec5122-f42e-4c52-9318-d84cbf8df103",
   "metadata": {},
   "outputs": [],
   "source": [
    "# how many values are > 10? - 992 - This still feels like an absolutely high value. Should we change the priors? Need to look into this. \n",
    "# how many values are > 100? - 162\n",
    "# how many values are > 1000? - 27\n",
    "# how many values are > 10000? - 4\n",
    "# how many values are > 100000? - 0"
   ]
  },
  {
   "cell_type": "code",
   "execution_count": 109,
   "id": "da79a573-6833-429f-af4d-7a5c14e35319",
   "metadata": {},
   "outputs": [],
   "source": [
    "values_greater_than_10 = []\n",
    "greater_than_10_df_index = []\n",
    "for i, val in enumerate(range(exp_predicted_onecol.shape[0])):\n",
    "    value = exp_predicted_onecol['Forecasted_values'][val]\n",
    "    if value >= 10:\n",
    "        values_greater_than_10.append(value)\n",
    "        greater_than_10_df_index.append(i)"
   ]
  },
  {
   "cell_type": "code",
   "execution_count": 110,
   "id": "8cf6bcb1-c3c9-40a8-95eb-00154b199eff",
   "metadata": {},
   "outputs": [
    {
     "data": {
      "text/plain": [
       "992"
      ]
     },
     "execution_count": 110,
     "metadata": {},
     "output_type": "execute_result"
    }
   ],
   "source": [
    "len(values_greater_than_10)"
   ]
  },
  {
   "cell_type": "code",
   "execution_count": 111,
   "id": "cc87cd9c-ab8d-44ef-a1a2-c47dce057068",
   "metadata": {},
   "outputs": [],
   "source": [
    "# values_greater_than_10"
   ]
  },
  {
   "cell_type": "code",
   "execution_count": 112,
   "id": "e6047afe-9129-4d9f-8a97-d9ee1d1fad09",
   "metadata": {},
   "outputs": [],
   "source": [
    "# greater_than_10_df_index"
   ]
  },
  {
   "cell_type": "code",
   "execution_count": 113,
   "id": "1830abf8-7086-4dca-8a38-2098f66574be",
   "metadata": {},
   "outputs": [],
   "source": [
    "# enumerate(exp_predicted_onecol['Forecasted_values'][0])"
   ]
  },
  {
   "cell_type": "code",
   "execution_count": 114,
   "id": "bfe30c60-3a4d-4a60-9d05-d305681fc9f2",
   "metadata": {},
   "outputs": [],
   "source": [
    "# I think at this point, we should be looking inot other blocks too, to see if we see weird results like this?"
   ]
  },
  {
   "cell_type": "code",
   "execution_count": 115,
   "id": "1e39fe2f-d205-4c7a-918a-22250ddf1694",
   "metadata": {},
   "outputs": [],
   "source": [
    "# compute the metrics - these would look really small as the values we have are really small"
   ]
  },
  {
   "cell_type": "code",
   "execution_count": 116,
   "id": "576837f9-1f0f-47e2-8959-4774323b2ead",
   "metadata": {},
   "outputs": [
    {
     "data": {
      "text/plain": [
       "515.9831992867983"
      ]
     },
     "execution_count": 116,
     "metadata": {},
     "output_type": "execute_result"
    }
   ],
   "source": [
    "# blockwise mean squared error\n",
    "rmse = np.sqrt(mean_squared_error(exp_true_onecol['True_values'], exp_predicted_onecol['Forecasted_values']))\n",
    "rmse"
   ]
  },
  {
   "cell_type": "code",
   "execution_count": 117,
   "id": "656c6ac0-86a7-4fde-b57a-24f5f5883080",
   "metadata": {},
   "outputs": [
    {
     "data": {
      "text/plain": [
       "23.94277215640868"
      ]
     },
     "execution_count": 117,
     "metadata": {},
     "output_type": "execute_result"
    }
   ],
   "source": [
    "mae = mean_absolute_error(exp_true_onecol['True_values'], exp_predicted_onecol['Forecasted_values'])\n",
    "mae"
   ]
  },
  {
   "cell_type": "code",
   "execution_count": 118,
   "id": "93072881-3eac-4c5e-916c-5fe8f59eb24f",
   "metadata": {},
   "outputs": [
    {
     "data": {
      "text/plain": [
       "0.0861856349058262"
      ]
     },
     "execution_count": 118,
     "metadata": {},
     "output_type": "execute_result"
    }
   ],
   "source": [
    "corr = pearsonr(exp_true_onecol['True_values'], exp_predicted_onecol['Forecasted_values'])\n",
    "corr[0]"
   ]
  },
  {
   "cell_type": "code",
   "execution_count": 119,
   "id": "601575da-140c-4069-ac87-868f310aeb54",
   "metadata": {},
   "outputs": [
    {
     "data": {
      "text/plain": [
       "-52115.17659841425"
      ]
     },
     "execution_count": 119,
     "metadata": {},
     "output_type": "execute_result"
    }
   ],
   "source": [
    "r2 = r2_score(exp_true_onecol['True_values'], exp_predicted_onecol['Forecasted_values'])\n",
    "r2"
   ]
  },
  {
   "cell_type": "code",
   "execution_count": 120,
   "id": "efe29cef-f6ed-4b8c-a115-fe17bfb0c2fb",
   "metadata": {},
   "outputs": [
    {
     "data": {
      "image/png": "[encoded data removed]",
      "text/plain": [
       "<Figure size 800x800 with 1 Axes>"
      ]
     },
     "metadata": {},
     "output_type": "display_data"
    }
   ],
   "source": [
    "plt.figure(figsize = (8,8))\n",
    "plt.scatter(exp_true_onecol['True_values'], exp_predicted_onecol['Forecasted_values'], s = 10)\n",
    "plt.xlabel(\"True density\")\n",
    "plt.ylabel(\"Predicted density\")\n",
    "# Add the y = x line\n",
    "plt.plot([0, 3], [0, 3], color='green', label='y = x')\n",
    "plt.legend()\n",
    "plt.show()"
   ]
  },
  {
   "cell_type": "code",
   "execution_count": 121,
   "id": "5b6bc4f5-948f-4ffd-94bf-67b6132b9586",
   "metadata": {},
   "outputs": [
    {
     "data": {
      "image/png": "[encoded data removed]",
      "text/plain": [
       "<Figure size 640x480 with 1 Axes>"
      ]
     },
     "metadata": {},
     "output_type": "display_data"
    }
   ],
   "source": [
    "# At this point let's look at the true and predicted value distributions - overlay the histograms\n",
    "\n",
    "# Plot histogram of two columns\n",
    "plt.hist(exp_true_onecol['True_values'], \n",
    "         bins=30, \n",
    "         label=[' True values'], \n",
    "         alpha=0.5, color = 'blue')  # alpha = transparency\n",
    "plt.hist(exp_predicted_onecol['Forecasted_values'], \n",
    "         bins=30, \n",
    "         label=['Predicted values'], \n",
    "         alpha=0.5, color = 'red') \n",
    "plt.xlabel(\"Value\")\n",
    "plt.ylabel(\"Frequency\")\n",
    "plt.title(\"Histogram of Two Columns\")\n",
    "plt.legend()\n",
    "plt.show()"
   ]
  },
  {
   "cell_type": "code",
   "execution_count": 122,
   "id": "d86e03d3-9dc9-438c-9442-82da8bdfe8ce",
   "metadata": {},
   "outputs": [],
   "source": [
    "# Should we try to get the values separated by 0s?"
   ]
  },
  {
   "cell_type": "code",
   "execution_count": 123,
   "id": "abe3c42d-1d1d-46c0-a6a8-9324236f0943",
   "metadata": {},
   "outputs": [],
   "source": [
    "# how to do this? Maybe we need to take the indices from the true values df, and subset accordingly?"
   ]
  },
  {
   "cell_type": "code",
   "execution_count": 124,
   "id": "b24b7cda-ac98-492c-a939-5c31a1a32046",
   "metadata": {},
   "outputs": [],
   "source": [
    "# so create a mask 0 with the true values 0s - we need the indices of this"
   ]
  },
  {
   "cell_type": "code",
   "execution_count": 125,
   "id": "1a6f9210-233b-4394-8573-bf9c8b943a61",
   "metadata": {},
   "outputs": [],
   "source": [
    "mask_zero = exp_true_onecol['True_values'].eq(0)"
   ]
  },
  {
   "cell_type": "code",
   "execution_count": 126,
   "id": "d471dc76-ee06-4aea-96fd-718fcd304a30",
   "metadata": {},
   "outputs": [],
   "source": [
    "# separate the zero and non-zero indices\n",
    "idx_zero = exp_true_onecol.index[mask_zero]\n",
    "idx_nonzero = exp_true_onecol.index[-mask_zero]"
   ]
  },
  {
   "cell_type": "code",
   "execution_count": 127,
   "id": "00c74624-2b63-4a24-964f-7d51f22ac673",
   "metadata": {},
   "outputs": [
    {
     "data": {
      "text/plain": [
       "(1148,)"
      ]
     },
     "execution_count": 127,
     "metadata": {},
     "output_type": "execute_result"
    }
   ],
   "source": [
    "# how many zero values?\n",
    "idx_zero.shape"
   ]
  },
  {
   "cell_type": "code",
   "execution_count": 128,
   "id": "7739f884-380a-49fe-b849-fe0f8ea4fe88",
   "metadata": {},
   "outputs": [
    {
     "data": {
      "text/plain": [
       "6370"
      ]
     },
     "execution_count": 128,
     "metadata": {},
     "output_type": "execute_result"
    }
   ],
   "source": [
    "910*7"
   ]
  },
  {
   "cell_type": "code",
   "execution_count": 129,
   "id": "f44c0120-4b6b-4ba9-8a64-d1261a00dcd0",
   "metadata": {},
   "outputs": [
    {
     "data": {
      "text/plain": [
       "(8484,)"
      ]
     },
     "execution_count": 129,
     "metadata": {},
     "output_type": "execute_result"
    }
   ],
   "source": [
    "# how many non-zeor values\n",
    "idx_nonzero.shape"
   ]
  },
  {
   "cell_type": "code",
   "execution_count": 130,
   "id": "63de6cf0-cc99-45e8-aa2c-30a7547da434",
   "metadata": {},
   "outputs": [
    {
     "data": {
      "text/plain": [
       "9632"
      ]
     },
     "execution_count": 130,
     "metadata": {},
     "output_type": "execute_result"
    }
   ],
   "source": [
    "# sanity check\n",
    "idx_nonzero.shape[0] + idx_zero.shape[0]"
   ]
  },
  {
   "cell_type": "code",
   "execution_count": 131,
   "id": "4a256064-8c76-431c-bc76-e721a1b7282a",
   "metadata": {},
   "outputs": [],
   "source": [
    "# Subset both dataframes with the same indices\n",
    "df_true_zero  = exp_true_onecol.loc[idx_zero]\n",
    "df_pred_zero  = exp_predicted_onecol.loc[idx_zero]\n",
    "df_true_nz    = exp_true_onecol.loc[idx_nonzero]\n",
    "df_pred_nz    = exp_predicted_onecol.loc[idx_nonzero]"
   ]
  },
  {
   "cell_type": "code",
   "execution_count": 132,
   "id": "3df123ca-fe8d-4482-8736-34c3b5128668",
   "metadata": {},
   "outputs": [
    {
     "data": {
      "text/plain": [
       "((1148, 1), (1148, 1))"
      ]
     },
     "execution_count": 132,
     "metadata": {},
     "output_type": "execute_result"
    }
   ],
   "source": [
    "df_true_zero.shape, df_pred_zero.shape"
   ]
  },
  {
   "cell_type": "code",
   "execution_count": 133,
   "id": "c3841a59-219e-4015-aef1-0c88dc839328",
   "metadata": {},
   "outputs": [
    {
     "data": {
      "text/html": [
       "<div>\n",
       "<style scoped>\n",
       "    .dataframe tbody tr th:only-of-type {\n",
       "        vertical-align: middle;\n",
       "    }\n",
       "\n",
       "    .dataframe tbody tr th {\n",
       "        vertical-align: top;\n",
       "    }\n",
       "\n",
       "    .dataframe thead th {\n",
       "        text-align: right;\n",
       "    }\n",
       "</style>\n",
       "<table border=\"1\" class=\"dataframe\">\n",
       "  <thead>\n",
       "    <tr style=\"text-align: right;\">\n",
       "      <th></th>\n",
       "      <th>True_values</th>\n",
       "    </tr>\n",
       "  </thead>\n",
       "  <tbody>\n",
       "    <tr>\n",
       "      <th>125</th>\n",
       "      <td>0.0</td>\n",
       "    </tr>\n",
       "    <tr>\n",
       "      <th>132</th>\n",
       "      <td>0.0</td>\n",
       "    </tr>\n",
       "    <tr>\n",
       "      <th>139</th>\n",
       "      <td>0.0</td>\n",
       "    </tr>\n",
       "    <tr>\n",
       "      <th>146</th>\n",
       "      <td>0.0</td>\n",
       "    </tr>\n",
       "    <tr>\n",
       "      <th>259</th>\n",
       "      <td>0.0</td>\n",
       "    </tr>\n",
       "  </tbody>\n",
       "</table>\n",
       "</div>"
      ],
      "text/plain": [
       "     True_values\n",
       "125          0.0\n",
       "132          0.0\n",
       "139          0.0\n",
       "146          0.0\n",
       "259          0.0"
      ]
     },
     "execution_count": 133,
     "metadata": {},
     "output_type": "execute_result"
    }
   ],
   "source": [
    "df_true_zero.head()"
   ]
  },
  {
   "cell_type": "code",
   "execution_count": 134,
   "id": "1713c839-a187-4043-9d24-0935778a2cc3",
   "metadata": {},
   "outputs": [
    {
     "data": {
      "text/html": [
       "<div>\n",
       "<style scoped>\n",
       "    .dataframe tbody tr th:only-of-type {\n",
       "        vertical-align: middle;\n",
       "    }\n",
       "\n",
       "    .dataframe tbody tr th {\n",
       "        vertical-align: top;\n",
       "    }\n",
       "\n",
       "    .dataframe thead th {\n",
       "        text-align: right;\n",
       "    }\n",
       "</style>\n",
       "<table border=\"1\" class=\"dataframe\">\n",
       "  <thead>\n",
       "    <tr style=\"text-align: right;\">\n",
       "      <th></th>\n",
       "      <th>Forecasted_values</th>\n",
       "    </tr>\n",
       "  </thead>\n",
       "  <tbody>\n",
       "    <tr>\n",
       "      <th>125</th>\n",
       "      <td>7.667278</td>\n",
       "    </tr>\n",
       "    <tr>\n",
       "      <th>132</th>\n",
       "      <td>8.298288</td>\n",
       "    </tr>\n",
       "    <tr>\n",
       "      <th>139</th>\n",
       "      <td>5.159138</td>\n",
       "    </tr>\n",
       "    <tr>\n",
       "      <th>146</th>\n",
       "      <td>4.937563</td>\n",
       "    </tr>\n",
       "    <tr>\n",
       "      <th>259</th>\n",
       "      <td>0.709564</td>\n",
       "    </tr>\n",
       "  </tbody>\n",
       "</table>\n",
       "</div>"
      ],
      "text/plain": [
       "     Forecasted_values\n",
       "125           7.667278\n",
       "132           8.298288\n",
       "139           5.159138\n",
       "146           4.937563\n",
       "259           0.709564"
      ]
     },
     "execution_count": 134,
     "metadata": {},
     "output_type": "execute_result"
    }
   ],
   "source": [
    "df_pred_zero.head()"
   ]
  },
  {
   "cell_type": "code",
   "execution_count": 135,
   "id": "7cb5d3a4-a298-457a-99ff-d39149186ad7",
   "metadata": {},
   "outputs": [
    {
     "data": {
      "text/html": [
       "<div>\n",
       "<style scoped>\n",
       "    .dataframe tbody tr th:only-of-type {\n",
       "        vertical-align: middle;\n",
       "    }\n",
       "\n",
       "    .dataframe tbody tr th {\n",
       "        vertical-align: top;\n",
       "    }\n",
       "\n",
       "    .dataframe thead th {\n",
       "        text-align: right;\n",
       "    }\n",
       "</style>\n",
       "<table border=\"1\" class=\"dataframe\">\n",
       "  <thead>\n",
       "    <tr style=\"text-align: right;\">\n",
       "      <th></th>\n",
       "      <th>True_values</th>\n",
       "    </tr>\n",
       "  </thead>\n",
       "  <tbody>\n",
       "    <tr>\n",
       "      <th>0</th>\n",
       "      <td>3.0</td>\n",
       "    </tr>\n",
       "    <tr>\n",
       "      <th>1</th>\n",
       "      <td>3.0</td>\n",
       "    </tr>\n",
       "    <tr>\n",
       "      <th>2</th>\n",
       "      <td>4.0</td>\n",
       "    </tr>\n",
       "    <tr>\n",
       "      <th>3</th>\n",
       "      <td>4.0</td>\n",
       "    </tr>\n",
       "    <tr>\n",
       "      <th>4</th>\n",
       "      <td>3.0</td>\n",
       "    </tr>\n",
       "  </tbody>\n",
       "</table>\n",
       "</div>"
      ],
      "text/plain": [
       "   True_values\n",
       "0          3.0\n",
       "1          3.0\n",
       "2          4.0\n",
       "3          4.0\n",
       "4          3.0"
      ]
     },
     "execution_count": 135,
     "metadata": {},
     "output_type": "execute_result"
    }
   ],
   "source": [
    "df_true_nz.head()"
   ]
  },
  {
   "cell_type": "code",
   "execution_count": 136,
   "id": "4d6ceb8e-f387-49c4-937f-23c284c6158d",
   "metadata": {},
   "outputs": [
    {
     "data": {
      "text/html": [
       "<div>\n",
       "<style scoped>\n",
       "    .dataframe tbody tr th:only-of-type {\n",
       "        vertical-align: middle;\n",
       "    }\n",
       "\n",
       "    .dataframe tbody tr th {\n",
       "        vertical-align: top;\n",
       "    }\n",
       "\n",
       "    .dataframe thead th {\n",
       "        text-align: right;\n",
       "    }\n",
       "</style>\n",
       "<table border=\"1\" class=\"dataframe\">\n",
       "  <thead>\n",
       "    <tr style=\"text-align: right;\">\n",
       "      <th></th>\n",
       "      <th>Forecasted_values</th>\n",
       "    </tr>\n",
       "  </thead>\n",
       "  <tbody>\n",
       "    <tr>\n",
       "      <th>0</th>\n",
       "      <td>2.794582</td>\n",
       "    </tr>\n",
       "    <tr>\n",
       "      <th>1</th>\n",
       "      <td>2.916318</td>\n",
       "    </tr>\n",
       "    <tr>\n",
       "      <th>2</th>\n",
       "      <td>2.903370</td>\n",
       "    </tr>\n",
       "    <tr>\n",
       "      <th>3</th>\n",
       "      <td>3.674096</td>\n",
       "    </tr>\n",
       "    <tr>\n",
       "      <th>4</th>\n",
       "      <td>3.351402</td>\n",
       "    </tr>\n",
       "  </tbody>\n",
       "</table>\n",
       "</div>"
      ],
      "text/plain": [
       "   Forecasted_values\n",
       "0           2.794582\n",
       "1           2.916318\n",
       "2           2.903370\n",
       "3           3.674096\n",
       "4           3.351402"
      ]
     },
     "execution_count": 136,
     "metadata": {},
     "output_type": "execute_result"
    }
   ],
   "source": [
    "df_pred_nz.head()"
   ]
  },
  {
   "cell_type": "code",
   "execution_count": 137,
   "id": "fa6515be-c487-4d90-a7f7-7ae9aac98be8",
   "metadata": {},
   "outputs": [],
   "source": [
    "# create the separate scatterplots for these"
   ]
  },
  {
   "cell_type": "code",
   "execution_count": 138,
   "id": "5b1be166-8641-4ef5-af70-386326b2c989",
   "metadata": {},
   "outputs": [
    {
     "data": {
      "image/png": "[encoded data removed]",
      "text/plain": [
       "<Figure size 800x800 with 1 Axes>"
      ]
     },
     "metadata": {},
     "output_type": "display_data"
    }
   ],
   "source": [
    "# For zero-data\n",
    "plt.figure(figsize = (8,8))\n",
    "plt.scatter(df_true_zero['True_values'], df_pred_zero['Forecasted_values'], s = 10)\n",
    "plt.title(\"Scatter plot when the True densities are zeros\")\n",
    "plt.xlabel(\"True densities\")\n",
    "plt.ylabel(\"Forecasted densities\")\n",
    "plt.show()"
   ]
  },
  {
   "cell_type": "code",
   "execution_count": 139,
   "id": "81177e50-319f-41e7-bded-f0cb4194812b",
   "metadata": {},
   "outputs": [
    {
     "data": {
      "image/png": "[encoded data removed]",
      "text/plain": [
       "<Figure size 640x480 with 1 Axes>"
      ]
     },
     "metadata": {},
     "output_type": "display_data"
    }
   ],
   "source": [
    "# Plot histogram of two columns\n",
    "plt.hist(df_true_zero['True_values'], \n",
    "         bins=30, \n",
    "         label=[' True values'], \n",
    "         alpha=0.5, color = 'blue')  # alpha = transparency\n",
    "plt.hist(df_pred_zero['Forecasted_values'], \n",
    "         bins=30, \n",
    "         label=['Predicted values'], \n",
    "         alpha=0.5, color = 'red') \n",
    "plt.xlabel(\"Value\")\n",
    "plt.ylabel(\"Frequency\")\n",
    "plt.title(\"Histogram of Two Columns\")\n",
    "plt.legend()\n",
    "plt.show()"
   ]
  },
  {
   "cell_type": "code",
   "execution_count": 140,
   "id": "1fb0724b-bfa0-40fc-ac2b-f249f807788a",
   "metadata": {},
   "outputs": [
    {
     "data": {
      "image/png": "[encoded data removed]",
      "text/plain": [
       "<Figure size 800x800 with 1 Axes>"
      ]
     },
     "metadata": {},
     "output_type": "display_data"
    }
   ],
   "source": [
    "# For non-zero data\n",
    "plt.figure(figsize = (8,8))\n",
    "plt.scatter(df_true_nz['True_values'], df_pred_nz['Forecasted_values'], s = 10)\n",
    "plt.title(\"Scatter plot when the True densities are non-zeros\")\n",
    "# also plot the y = x line?\n",
    "plt.plot([0, 3], [0, 3], color='green', label='y = x')\n",
    "plt.xlabel(\"True densities\")\n",
    "plt.ylabel(\"Forecasted densities\")\n",
    "plt.show()"
   ]
  },
  {
   "cell_type": "code",
   "execution_count": 141,
   "id": "667b1664-b6e7-433c-97c4-a6f52fd02dea",
   "metadata": {},
   "outputs": [
    {
     "data": {
      "image/png": "[encoded data removed]",
      "text/plain": [
       "<Figure size 640x480 with 1 Axes>"
      ]
     },
     "metadata": {},
     "output_type": "display_data"
    }
   ],
   "source": [
    "# Plot histogram of two columns\n",
    "plt.hist(df_true_nz['True_values'], \n",
    "         bins=30, \n",
    "         label=[' True values'], \n",
    "         alpha=0.5, color = 'blue')  # alpha = transparency\n",
    "plt.hist(df_pred_nz['Forecasted_values'], \n",
    "         bins=30, \n",
    "         label=['Predicted values'], \n",
    "         alpha=0.5, color = 'red') \n",
    "plt.xlabel(\"Value\")\n",
    "plt.ylabel(\"Frequency\")\n",
    "plt.title(\"Histogram of Two Columns\")\n",
    "plt.legend()\n",
    "plt.show()"
   ]
  },
  {
   "cell_type": "code",
   "execution_count": 142,
   "id": "7f15c23f-13fa-4a4c-8f9e-91a286fe3ecb",
   "metadata": {},
   "outputs": [],
   "source": [
    "# not that great - but maybe the model is not doing as well as we need due to the number of zeros we had considered during the model training phase?"
   ]
  },
  {
   "cell_type": "code",
   "execution_count": 143,
   "id": "09b5a98a-8355-4906-9dc6-6c04080878d5",
   "metadata": {},
   "outputs": [],
   "source": [
    "# Maybe get the metrics for teh reduced subsets of data as well"
   ]
  },
  {
   "cell_type": "code",
   "execution_count": 144,
   "id": "daf790da-d6e2-4b26-ba0f-c4bba44003a5",
   "metadata": {},
   "outputs": [],
   "source": [
    "# All zeros"
   ]
  },
  {
   "cell_type": "code",
   "execution_count": 145,
   "id": "8f00c90b-e894-4fe5-a5a1-59bc88819f8f",
   "metadata": {},
   "outputs": [
    {
     "data": {
      "text/plain": [
       "1.1829919503220871"
      ]
     },
     "execution_count": 145,
     "metadata": {},
     "output_type": "execute_result"
    }
   ],
   "source": [
    "rmse_zero =  np.sqrt(mean_squared_error(df_true_zero['True_values'], df_pred_zero['Forecasted_values']))\n",
    "rmse_zero"
   ]
  },
  {
   "cell_type": "code",
   "execution_count": 146,
   "id": "3d662c70-2756-4907-8a23-5230d48df1f1",
   "metadata": {},
   "outputs": [
    {
     "data": {
      "text/plain": [
       "0.853248746369808"
      ]
     },
     "execution_count": 146,
     "metadata": {},
     "output_type": "execute_result"
    }
   ],
   "source": [
    "mae_zero = mean_absolute_error(df_true_zero['True_values'], df_pred_zero['Forecasted_values'])\n",
    "mae_zero"
   ]
  },
  {
   "cell_type": "code",
   "execution_count": 147,
   "id": "1aba16bc-daa8-477e-b2d8-9f7c0ebe6cb5",
   "metadata": {},
   "outputs": [
    {
     "name": "stderr",
     "output_type": "stream",
     "text": [
      "/mnt/nrdstor/statsgeneral/gayara/tfp_cpu_env/lib/python3.11/site-packages/scipy/stats/_stats_py.py:4781: ConstantInputWarning: An input array is constant; the correlation coefficient is not defined.\n",
      "  warnings.warn(stats.ConstantInputWarning(msg))\n"
     ]
    }
   ],
   "source": [
    "corr_zero = pearsonr(df_true_zero['True_values'], df_pred_zero['Forecasted_values'])"
   ]
  },
  {
   "cell_type": "code",
   "execution_count": 148,
   "id": "8dc223f6-3ef1-4e38-bdfa-17b7d3355b65",
   "metadata": {},
   "outputs": [
    {
     "data": {
      "text/plain": [
       "PearsonRResult(statistic=nan, pvalue=nan)"
      ]
     },
     "execution_count": 148,
     "metadata": {},
     "output_type": "execute_result"
    }
   ],
   "source": [
    "corr_zero"
   ]
  },
  {
   "cell_type": "code",
   "execution_count": 149,
   "id": "0fbe3d09-1068-4c48-8b75-ec1a0528b271",
   "metadata": {},
   "outputs": [
    {
     "data": {
      "text/plain": [
       "-68578.83241629228"
      ]
     },
     "execution_count": 149,
     "metadata": {},
     "output_type": "execute_result"
    }
   ],
   "source": [
    "r2_zero = r2_score(df_true_nz['True_values'], df_pred_nz['Forecasted_values'])\n",
    "r2_zero"
   ]
  },
  {
   "cell_type": "code",
   "execution_count": 150,
   "id": "ce72776f-ad77-4356-a433-85f9d97b7813",
   "metadata": {},
   "outputs": [],
   "source": [
    "# non zeros"
   ]
  },
  {
   "cell_type": "code",
   "execution_count": 151,
   "id": "e61c34f7-e6bc-4aab-bee8-a42fff986316",
   "metadata": {},
   "outputs": [
    {
     "data": {
      "text/plain": [
       "549.7855637516299"
      ]
     },
     "execution_count": 151,
     "metadata": {},
     "output_type": "execute_result"
    }
   ],
   "source": [
    "rmse_nzero =  np.sqrt(mean_squared_error(df_true_nz['True_values'], df_pred_nz['Forecasted_values']))\n",
    "rmse_nzero"
   ]
  },
  {
   "cell_type": "code",
   "execution_count": 152,
   "id": "e49def21-cecd-42cc-b893-dcde7152f111",
   "metadata": {},
   "outputs": [
    {
     "data": {
      "text/plain": [
       "27.067097106281935"
      ]
     },
     "execution_count": 152,
     "metadata": {},
     "output_type": "execute_result"
    }
   ],
   "source": [
    "mae_nzero = mean_absolute_error(df_true_nz['True_values'], df_pred_nz['Forecasted_values'])\n",
    "mae_nzero"
   ]
  },
  {
   "cell_type": "code",
   "execution_count": 153,
   "id": "50b9cafd-40de-48ca-836c-61cdbf218ff2",
   "metadata": {},
   "outputs": [],
   "source": [
    "corr_nzero = pearsonr(df_true_nz['True_values'], df_pred_nz['Forecasted_values'])"
   ]
  },
  {
   "cell_type": "code",
   "execution_count": 154,
   "id": "7ad869be-4d69-4476-a3ed-9f58856d7b4c",
   "metadata": {},
   "outputs": [
    {
     "data": {
      "text/plain": [
       "PearsonRResult(statistic=0.08885547815470736, pvalue=2.416455304976847e-16)"
      ]
     },
     "execution_count": 154,
     "metadata": {},
     "output_type": "execute_result"
    }
   ],
   "source": [
    "corr_nzero"
   ]
  },
  {
   "cell_type": "code",
   "execution_count": 155,
   "id": "9f381cc1-4d60-4cff-9186-51c402041846",
   "metadata": {},
   "outputs": [
    {
     "data": {
      "text/plain": [
       "-68578.83241629228"
      ]
     },
     "execution_count": 155,
     "metadata": {},
     "output_type": "execute_result"
    }
   ],
   "source": [
    "r2_nzero = r2_score(df_true_nz['True_values'], df_pred_nz['Forecasted_values'])\n",
    "r2_nzero"
   ]
  },
  {
   "cell_type": "markdown",
   "id": "3e6d46d1-da3f-4e0b-85e4-07d9150143c3",
   "metadata": {},
   "source": [
    "Credible Intervals"
   ]
  },
  {
   "cell_type": "code",
   "execution_count": 156,
   "id": "d1283353-ccf4-4640-9443-060c86a177c9",
   "metadata": {},
   "outputs": [],
   "source": [
    "all_forecasts_npy_files = ['all_forecasts_sub_' + str(i) + '.npy' for i in range(3072)]"
   ]
  },
  {
   "cell_type": "code",
   "execution_count": 157,
   "id": "46efa0a7-a942-431d-8540-cc8f57a8fe0e",
   "metadata": {},
   "outputs": [
    {
     "ename": "FileNotFoundError",
     "evalue": "[Errno 2] No such file or directory: 'data/BLAR_implementation/Block_0104/forecasted_counts/all_forecasts_sub_1376.npy'",
     "output_type": "error",
     "traceback": [
      "\u001b[0;31m---------------------------------------------------------------------------\u001b[0m",
      "\u001b[0;31mFileNotFoundError\u001b[0m                         Traceback (most recent call last)",
      "File \u001b[0;32m<timed exec>:4\u001b[0m\n",
      "File \u001b[0;32m/mnt/nrdstor/statsgeneral/gayara/tfp_cpu_env/lib/python3.11/site-packages/numpy/lib/npyio.py:427\u001b[0m, in \u001b[0;36mload\u001b[0;34m(file, mmap_mode, allow_pickle, fix_imports, encoding, max_header_size)\u001b[0m\n\u001b[1;32m    425\u001b[0m     own_fid \u001b[38;5;241m=\u001b[39m \u001b[38;5;28;01mFalse\u001b[39;00m\n\u001b[1;32m    426\u001b[0m \u001b[38;5;28;01melse\u001b[39;00m:\n\u001b[0;32m--> 427\u001b[0m     fid \u001b[38;5;241m=\u001b[39m stack\u001b[38;5;241m.\u001b[39menter_context(\u001b[38;5;28mopen\u001b[39m(os_fspath(file), \u001b[38;5;124m\"\u001b[39m\u001b[38;5;124mrb\u001b[39m\u001b[38;5;124m\"\u001b[39m))\n\u001b[1;32m    428\u001b[0m     own_fid \u001b[38;5;241m=\u001b[39m \u001b[38;5;28;01mTrue\u001b[39;00m\n\u001b[1;32m    430\u001b[0m \u001b[38;5;66;03m# Code to distinguish from NumPy binary files and pickles.\u001b[39;00m\n",
      "\u001b[0;31mFileNotFoundError\u001b[0m: [Errno 2] No such file or directory: 'data/BLAR_implementation/Block_0104/forecasted_counts/all_forecasts_sub_1376.npy'"
     ]
    }
   ],
   "source": [
    "%%time\n",
    "loaded_npy_files = []\n",
    "for file in all_forecasts_npy_files:\n",
    "    joined_path = os.path.join(path_to_dfs, file)\n",
    "    load_file = np.load(joined_path)\n",
    "    # notice we are averaging the preds across the chains before exponentiation\n",
    "    mean_file = np.mean(np.exp(load_file)-1, axis = 1)\n",
    "    loaded_npy_files.append(mean_file)"
   ]
  },
  {
   "cell_type": "code",
   "execution_count": 158,
   "id": "95532003-d9ec-4003-b0cc-050441d4bc64",
   "metadata": {},
   "outputs": [
    {
     "data": {
      "text/plain": [
       "1376"
      ]
     },
     "execution_count": 158,
     "metadata": {},
     "output_type": "execute_result"
    }
   ],
   "source": [
    "len(loaded_npy_files)"
   ]
  },
  {
   "cell_type": "code",
   "execution_count": 159,
   "id": "8852a620-9f09-4a6a-9abc-261e466b7100",
   "metadata": {},
   "outputs": [
    {
     "data": {
      "text/plain": [
       "(1000, 7)"
      ]
     },
     "execution_count": 159,
     "metadata": {},
     "output_type": "execute_result"
    }
   ],
   "source": [
    "loaded_npy_files[0].shape"
   ]
  },
  {
   "cell_type": "code",
   "execution_count": 160,
   "id": "1a8bf2d5-72e2-4e66-842b-f740bc32d6c4",
   "metadata": {},
   "outputs": [],
   "source": [
    "# Maybe we should not get rid of the negatives? - As for the percentiles we will else never capture the true values of zeros?"
   ]
  },
  {
   "cell_type": "code",
   "execution_count": 161,
   "id": "0568b502-103f-4a04-8242-7031d19cc3ca",
   "metadata": {},
   "outputs": [],
   "source": [
    "# yeah, let's proceed with these"
   ]
  },
  {
   "cell_type": "code",
   "execution_count": 162,
   "id": "891cf483-19f4-4201-93c3-d5c089a68273",
   "metadata": {},
   "outputs": [],
   "source": [
    "# how to arrange these though? - might need to think this through a little"
   ]
  },
  {
   "cell_type": "code",
   "execution_count": 163,
   "id": "c671730f-2a6b-4387-9429-ffe7c02fa813",
   "metadata": {},
   "outputs": [
    {
     "data": {
      "text/plain": [
       "(7, 1376)"
      ]
     },
     "execution_count": 163,
     "metadata": {},
     "output_type": "execute_result"
    }
   ],
   "source": [
    "exp_true.shape"
   ]
  },
  {
   "cell_type": "code",
   "execution_count": 164,
   "id": "2a8f28f9-a6da-48e2-bb39-df328db746a5",
   "metadata": {},
   "outputs": [],
   "source": [
    "# where is the lsit of the forecasted range of values? - loaded_npy_files"
   ]
  },
  {
   "cell_type": "code",
   "execution_count": 165,
   "id": "9f0f8a25-8d35-4208-b291-268acdd6f166",
   "metadata": {},
   "outputs": [
    {
     "data": {
      "text/plain": [
       "1376"
      ]
     },
     "execution_count": 165,
     "metadata": {},
     "output_type": "execute_result"
    }
   ],
   "source": [
    "len(loaded_npy_files)"
   ]
  },
  {
   "cell_type": "code",
   "execution_count": 166,
   "id": "926e5ada-5d73-4773-84d0-9dda13f0013b",
   "metadata": {},
   "outputs": [
    {
     "data": {
      "text/plain": [
       "(1000, 7)"
      ]
     },
     "execution_count": 166,
     "metadata": {},
     "output_type": "execute_result"
    }
   ],
   "source": [
    "loaded_npy_files[0].shape"
   ]
  },
  {
   "cell_type": "code",
   "execution_count": 167,
   "id": "491757f8-1e87-44dc-b6b6-a3064d5b59d5",
   "metadata": {},
   "outputs": [],
   "source": [
    "# Okay, I think we need to move along the loaded file and also its axis 1 to get the percentile values in order."
   ]
  },
  {
   "cell_type": "code",
   "execution_count": 168,
   "id": "af429823-492f-462a-b26d-d41fbae4ad01",
   "metadata": {},
   "outputs": [],
   "source": [
    "# create a for loop for this? - and later maybe even a function so we do not need to repeat everything for each block separately"
   ]
  },
  {
   "cell_type": "code",
   "execution_count": 169,
   "id": "22caf338-e41f-409a-b915-bfb50a007f97",
   "metadata": {},
   "outputs": [],
   "source": [
    "# I think we also need to catch the percentiles?"
   ]
  },
  {
   "cell_type": "code",
   "execution_count": 170,
   "id": "1437bde4-4fd9-4ec0-b08d-a11325b900d6",
   "metadata": {},
   "outputs": [],
   "source": [
    "# Let's try all these?"
   ]
  },
  {
   "cell_type": "code",
   "execution_count": 171,
   "id": "66e12086-ceec-4e68-8d58-17dc6840293e",
   "metadata": {},
   "outputs": [],
   "source": [
    "trial_0 = loaded_npy_files[0][:,0]"
   ]
  },
  {
   "cell_type": "code",
   "execution_count": 172,
   "id": "a5991ee6-71f2-4aa9-816d-9f4790a62863",
   "metadata": {},
   "outputs": [
    {
     "data": {
      "text/plain": [
       "(1000,)"
      ]
     },
     "execution_count": 172,
     "metadata": {},
     "output_type": "execute_result"
    }
   ],
   "source": [
    "trial_0.shape"
   ]
  },
  {
   "cell_type": "code",
   "execution_count": 173,
   "id": "9b5136d7-ccfe-4112-bca5-e84c6a6245d7",
   "metadata": {},
   "outputs": [],
   "source": [
    "trial_li = np.percentile(trial_0, axis = 0, q = (2.5, 97.5))"
   ]
  },
  {
   "cell_type": "code",
   "execution_count": 174,
   "id": "f929943f-8c47-4318-a753-d5c1a537d1a1",
   "metadata": {},
   "outputs": [],
   "source": [
    "# trial_0.min(), trial_0.max()"
   ]
  },
  {
   "cell_type": "code",
   "execution_count": 175,
   "id": "74a56faa-f47f-42ed-a93e-de996cd92268",
   "metadata": {},
   "outputs": [
    {
     "data": {
      "text/plain": [
       "array([1.80685748, 4.1679399 ])"
      ]
     },
     "execution_count": 175,
     "metadata": {},
     "output_type": "execute_result"
    }
   ],
   "source": [
    "trial_li"
   ]
  },
  {
   "cell_type": "code",
   "execution_count": 176,
   "id": "ac802cff-8d84-49de-b0fb-3200b79f7317",
   "metadata": {},
   "outputs": [
    {
     "data": {
      "text/plain": [
       "(1.8068574786186218, 4.167939901351929)"
      ]
     },
     "execution_count": 176,
     "metadata": {},
     "output_type": "execute_result"
    }
   ],
   "source": [
    "trial_li[0], trial_li[1]"
   ]
  },
  {
   "cell_type": "code",
   "execution_count": 177,
   "id": "43327cdf-ac00-461a-9fee-51233f414f2b",
   "metadata": {},
   "outputs": [],
   "source": [
    "lower_and_upper_limits = [] \n",
    "for j in range(loaded_npy_files[0].shape[1]):\n",
    "    values = loaded_npy_files[0][:,j]\n",
    "    # compute the lower and upper bounds?\n",
    "    li = np.percentile(values, axis = 0, q = (2.5, 97.5))[0]    \n",
    "    ui = np.percentile(values, axis = 0, q = (2.5, 97.5))[1]\n",
    "    lower_and_upper_limits.append((li, ui))"
   ]
  },
  {
   "cell_type": "code",
   "execution_count": 178,
   "id": "0593dae1-4d70-48b3-88f1-9a0964be600e",
   "metadata": {},
   "outputs": [
    {
     "data": {
      "text/plain": [
       "[(1.8068574786186218, 4.167939901351929),\n",
       " (1.8985175669193268, 4.341465437412261),\n",
       " (1.752138376235962, 4.360116565227508),\n",
       " (2.022821033000946, 5.95030114650726),\n",
       " (1.9805631935596466, 5.338736200332641),\n",
       " (1.9824038684368133, 5.132636415958404),\n",
       " (2.019281667470932, 5.078577816486358)]"
      ]
     },
     "execution_count": 178,
     "metadata": {},
     "output_type": "execute_result"
    }
   ],
   "source": [
    "lower_and_upper_limits"
   ]
  },
  {
   "cell_type": "code",
   "execution_count": 179,
   "id": "46213b78-ec25-4f81-add5-42a6d15bfcfe",
   "metadata": {},
   "outputs": [
    {
     "name": "stdout",
     "output_type": "stream",
     "text": [
      "CPU times: user 1.37 s, sys: 5.23 ms, total: 1.37 s\n",
      "Wall time: 1.38 s\n"
     ]
    }
   ],
   "source": [
    "%%time\n",
    "# Do this for all files?\n",
    "catch_all_percentiles = []\n",
    "for i in range(len(loaded_npy_files)):\n",
    "    all_lower_and_upper_limits = [] \n",
    "    for j in range(loaded_npy_files[i].shape[1]):\n",
    "        values = loaded_npy_files[i][:,j]\n",
    "        # compute the lower and upper bounds?\n",
    "        li = np.percentile(values, axis = 0, q = (2.5, 97.5))[0]    \n",
    "        ui = np.percentile(values, axis = 0, q = (2.5, 97.5))[1]\n",
    "        all_lower_and_upper_limits.append((li, ui))\n",
    "    catch_all_percentiles.append(all_lower_and_upper_limits)\n",
    "    "
   ]
  },
  {
   "cell_type": "code",
   "execution_count": 180,
   "id": "ff1bf688-0f0a-4703-9056-471c60e793b7",
   "metadata": {},
   "outputs": [
    {
     "data": {
      "text/plain": [
       "1376"
      ]
     },
     "execution_count": 180,
     "metadata": {},
     "output_type": "execute_result"
    }
   ],
   "source": [
    "len(catch_all_percentiles)"
   ]
  },
  {
   "cell_type": "code",
   "execution_count": 181,
   "id": "02db8873-f844-4dc6-b6ae-c04aca24099d",
   "metadata": {},
   "outputs": [],
   "source": [
    "catch_inside_length = []\n",
    "for limit_values in catch_all_percentiles:\n",
    "    length = len(limit_values)\n",
    "    catch_inside_length.append(length)"
   ]
  },
  {
   "cell_type": "code",
   "execution_count": 182,
   "id": "e6d08eb0-1132-465d-8e8d-cb39b675da4e",
   "metadata": {},
   "outputs": [
    {
     "data": {
      "text/plain": [
       "7.0"
      ]
     },
     "execution_count": 182,
     "metadata": {},
     "output_type": "execute_result"
    }
   ],
   "source": [
    "np.mean(catch_inside_length)"
   ]
  },
  {
   "cell_type": "code",
   "execution_count": 183,
   "id": "ee051bb6-0d20-44c2-bba4-aed93879566e",
   "metadata": {},
   "outputs": [],
   "source": [
    "# We may need a multitude of sanity checks to make sure we are correctly computing the coverages and widths. Now at this point, we can go ahead and compute the CI widths using the credible intervals? As this computation seems fairly simple?"
   ]
  },
  {
   "cell_type": "code",
   "execution_count": 184,
   "id": "0e25abcb-7754-4f52-b879-6fefe82dca8a",
   "metadata": {},
   "outputs": [
    {
     "data": {
      "text/plain": [
       "7"
      ]
     },
     "execution_count": 184,
     "metadata": {},
     "output_type": "execute_result"
    }
   ],
   "source": [
    "len(catch_all_percentiles[0])"
   ]
  },
  {
   "cell_type": "code",
   "execution_count": 185,
   "id": "503f2147-13d7-40b2-8920-ee4ccc007aeb",
   "metadata": {},
   "outputs": [],
   "source": [
    "all_percentiles_for_widths = [item for limit_values in catch_all_percentiles for item in limit_values]"
   ]
  },
  {
   "cell_type": "code",
   "execution_count": 186,
   "id": "767da887-164b-4d35-ae5d-9928181abc1a",
   "metadata": {},
   "outputs": [
    {
     "data": {
      "text/plain": [
       "9632"
      ]
     },
     "execution_count": 186,
     "metadata": {},
     "output_type": "execute_result"
    }
   ],
   "source": [
    "len(all_percentiles_for_widths)"
   ]
  },
  {
   "cell_type": "code",
   "execution_count": 187,
   "id": "9cb5f303-b818-4dc1-beb1-427c50c411c3",
   "metadata": {},
   "outputs": [],
   "source": [
    "# do some sanity check?"
   ]
  },
  {
   "cell_type": "code",
   "execution_count": 188,
   "id": "8472812a-8ded-468a-b778-8cee8f86a68c",
   "metadata": {},
   "outputs": [
    {
     "data": {
      "text/plain": [
       "[(1.8289487034082412, 4.226812469959258),\n",
       " (1.8864688724279404, 4.340825295448303),\n",
       " (1.7130151003599168, 4.420544505119323),\n",
       " (2.185186195373535, 6.261098766326904),\n",
       " (2.057207536697388, 5.153581202030182),\n",
       " (1.917648011445999, 5.199319660663604),\n",
       " (1.9515757501125335, 4.835009145736694)]"
      ]
     },
     "execution_count": 188,
     "metadata": {},
     "output_type": "execute_result"
    }
   ],
   "source": [
    "catch_all_percentiles[1]"
   ]
  },
  {
   "cell_type": "code",
   "execution_count": 189,
   "id": "becf777c-14a3-4bbd-9e66-a208d7c91298",
   "metadata": {},
   "outputs": [
    {
     "data": {
      "text/plain": [
       "[(1.8289487034082412, 4.226812469959258),\n",
       " (1.8864688724279404, 4.340825295448303),\n",
       " (1.7130151003599168, 4.420544505119323),\n",
       " (2.185186195373535, 6.261098766326904),\n",
       " (2.057207536697388, 5.153581202030182),\n",
       " (1.917648011445999, 5.199319660663604),\n",
       " (1.9515757501125335, 4.835009145736694)]"
      ]
     },
     "execution_count": 189,
     "metadata": {},
     "output_type": "execute_result"
    }
   ],
   "source": [
    "all_percentiles_for_widths[7:14]"
   ]
  },
  {
   "cell_type": "code",
   "execution_count": 190,
   "id": "7cd4c952-1194-4eb4-9b2a-b18bed651de7",
   "metadata": {},
   "outputs": [],
   "source": [
    "# seems this is right, let's move forward with the computation of the CI widths?"
   ]
  },
  {
   "cell_type": "code",
   "execution_count": 191,
   "id": "9e7d3cfe-96de-4650-8797-46ecba615862",
   "metadata": {},
   "outputs": [],
   "source": [
    "catch_wdths = []\n",
    "for values in all_percentiles_for_widths:\n",
    "    width = values[1] - values[0]\n",
    "    catch_wdths.append(width)"
   ]
  },
  {
   "cell_type": "code",
   "execution_count": 192,
   "id": "13b70b3e-2a3d-4a46-b0bd-c5837cc55588",
   "metadata": {},
   "outputs": [
    {
     "data": {
      "text/plain": [
       "114.95222442644442"
      ]
     },
     "execution_count": 192,
     "metadata": {},
     "output_type": "execute_result"
    }
   ],
   "source": [
    "# average CI width\n",
    "Average_CI_width = np.mean(catch_wdths)\n",
    "Average_CI_width"
   ]
  },
  {
   "cell_type": "code",
   "execution_count": 193,
   "id": "91d4f750-ced3-4a77-8d90-1c5d7c6ea281",
   "metadata": {},
   "outputs": [],
   "source": [
    "# do a few sanity checks  before we proceed?"
   ]
  },
  {
   "cell_type": "code",
   "execution_count": 194,
   "id": "9107c4fd-a1f0-4f25-b0c1-1a2c74a2c910",
   "metadata": {},
   "outputs": [
    {
     "data": {
      "text/plain": [
       "[2.3610824227333067,\n",
       " 2.442947870492935,\n",
       " 2.607978188991546,\n",
       " 3.927480113506314,\n",
       " 3.3581730067729945,\n",
       " 3.150232547521591,\n",
       " 3.0592961490154256]"
      ]
     },
     "execution_count": 194,
     "metadata": {},
     "output_type": "execute_result"
    }
   ],
   "source": [
    "catch_wdths[0:7]"
   ]
  },
  {
   "cell_type": "code",
   "execution_count": 195,
   "id": "60f9d8eb-9b91-464c-bb0c-590abba2362f",
   "metadata": {},
   "outputs": [
    {
     "name": "stdout",
     "output_type": "stream",
     "text": [
      "2.3610824227333067\n",
      "2.442947870492935\n",
      "2.607978188991546\n",
      "3.927480113506314\n",
      "3.3581730067729945\n",
      "3.150232547521591\n",
      "3.0592961490154256\n"
     ]
    }
   ],
   "source": [
    "print(catch_all_percentiles[0][0][1] - catch_all_percentiles[0][0][0])\n",
    "print(catch_all_percentiles[0][1][1] - catch_all_percentiles[0][1][0])\n",
    "print(catch_all_percentiles[0][2][1] - catch_all_percentiles[0][2][0])\n",
    "print(catch_all_percentiles[0][3][1] - catch_all_percentiles[0][3][0])\n",
    "print(catch_all_percentiles[0][4][1] - catch_all_percentiles[0][4][0])\n",
    "print(catch_all_percentiles[0][5][1] - catch_all_percentiles[0][5][0])\n",
    "print(catch_all_percentiles[0][6][1] - catch_all_percentiles[0][6][0])"
   ]
  },
  {
   "cell_type": "code",
   "execution_count": 196,
   "id": "f466fcea-eff8-4b63-9540-767821406287",
   "metadata": {},
   "outputs": [],
   "source": [
    "# Okay, we can move on now"
   ]
  },
  {
   "cell_type": "code",
   "execution_count": 197,
   "id": "b5a8d271-ed68-49e9-8ddf-56eeb7b8b118",
   "metadata": {},
   "outputs": [],
   "source": [
    "# What about the coverage?\n",
    "# Now this list - all_percentiles_for_widths - this is in the oder of the subwindows - but before proceeding to the next subwindow, it also tracks across the 7 time periods.\n",
    "# so now, we have the true values in a dataframe in the shape (7,910), we can stack these ina single column  - and basically then have to track if this value is inbetween the two upper and lower limits in the list all_percentiles_for_widths."
   ]
  },
  {
   "cell_type": "code",
   "execution_count": 198,
   "id": "7eabdb5c-e122-47b3-99c3-1802837f8d2b",
   "metadata": {},
   "outputs": [],
   "source": [
    "# cool, so let's get this true values dataset arranged  in one single column?"
   ]
  },
  {
   "cell_type": "code",
   "execution_count": 199,
   "id": "d3260a19-4371-4ac3-b2fa-f3e1f309e0f2",
   "metadata": {},
   "outputs": [],
   "source": [
    "# actually, we have already done that"
   ]
  },
  {
   "cell_type": "code",
   "execution_count": 200,
   "id": "18e5cf5d-b982-4aa8-b0d1-75b33359c8d4",
   "metadata": {},
   "outputs": [
    {
     "data": {
      "text/plain": [
       "(9632, 1)"
      ]
     },
     "execution_count": 200,
     "metadata": {},
     "output_type": "execute_result"
    }
   ],
   "source": [
    "exp_true_onecol.shape"
   ]
  },
  {
   "cell_type": "code",
   "execution_count": 201,
   "id": "9fd666d6-a90c-4c85-8fa1-b973843c31d2",
   "metadata": {},
   "outputs": [
    {
     "data": {
      "text/html": [
       "<div>\n",
       "<style scoped>\n",
       "    .dataframe tbody tr th:only-of-type {\n",
       "        vertical-align: middle;\n",
       "    }\n",
       "\n",
       "    .dataframe tbody tr th {\n",
       "        vertical-align: top;\n",
       "    }\n",
       "\n",
       "    .dataframe thead th {\n",
       "        text-align: right;\n",
       "    }\n",
       "</style>\n",
       "<table border=\"1\" class=\"dataframe\">\n",
       "  <thead>\n",
       "    <tr style=\"text-align: right;\">\n",
       "      <th></th>\n",
       "      <th>True_values</th>\n",
       "    </tr>\n",
       "  </thead>\n",
       "  <tbody>\n",
       "    <tr>\n",
       "      <th>0</th>\n",
       "      <td>3.0</td>\n",
       "    </tr>\n",
       "    <tr>\n",
       "      <th>1</th>\n",
       "      <td>3.0</td>\n",
       "    </tr>\n",
       "    <tr>\n",
       "      <th>2</th>\n",
       "      <td>4.0</td>\n",
       "    </tr>\n",
       "    <tr>\n",
       "      <th>3</th>\n",
       "      <td>4.0</td>\n",
       "    </tr>\n",
       "    <tr>\n",
       "      <th>4</th>\n",
       "      <td>3.0</td>\n",
       "    </tr>\n",
       "  </tbody>\n",
       "</table>\n",
       "</div>"
      ],
      "text/plain": [
       "   True_values\n",
       "0          3.0\n",
       "1          3.0\n",
       "2          4.0\n",
       "3          4.0\n",
       "4          3.0"
      ]
     },
     "execution_count": 201,
     "metadata": {},
     "output_type": "execute_result"
    }
   ],
   "source": [
    "exp_true_onecol.head()"
   ]
  },
  {
   "cell_type": "code",
   "execution_count": 202,
   "id": "ce2b14ca-1704-4051-9cdc-eb450c820c49",
   "metadata": {},
   "outputs": [],
   "source": [
    "All_exp_true_vals_array = exp_true_onecol.values.reshape(-1)"
   ]
  },
  {
   "cell_type": "code",
   "execution_count": 203,
   "id": "b85bdec1-fe7e-4d47-845e-156fbb923423",
   "metadata": {},
   "outputs": [
    {
     "data": {
      "text/plain": [
       "(9632,)"
      ]
     },
     "execution_count": 203,
     "metadata": {},
     "output_type": "execute_result"
    }
   ],
   "source": [
    "All_exp_true_vals_array.shape"
   ]
  },
  {
   "cell_type": "code",
   "execution_count": 204,
   "id": "1c0ac8a1-b72a-44e8-8e9b-d9cab757acb0",
   "metadata": {},
   "outputs": [
    {
     "data": {
      "text/plain": [
       "(0.0, 11.057969711590799)"
      ]
     },
     "execution_count": 204,
     "metadata": {},
     "output_type": "execute_result"
    }
   ],
   "source": [
    "All_exp_true_vals_array.min(), All_exp_true_vals_array.max()"
   ]
  },
  {
   "cell_type": "code",
   "execution_count": 205,
   "id": "4e49562c-7f70-4578-91e5-1a8916504fdc",
   "metadata": {},
   "outputs": [],
   "source": [
    "# cool, now check if this value is inbetween the upper and the lower limits contained in the list - all_percentiles_for_widths"
   ]
  },
  {
   "cell_type": "code",
   "execution_count": 206,
   "id": "8de7beae-6ecd-44ce-8dc4-4dd8d7a1a93a",
   "metadata": {},
   "outputs": [],
   "source": [
    "Catch_all_indicators = []\n",
    "for i in range(All_exp_true_vals_array.shape[0]):\n",
    "    true_value = All_exp_true_vals_array[i]\n",
    "    li_val = all_percentiles_for_widths[i][0]\n",
    "    ui_val = all_percentiles_for_widths[i][1]\n",
    "    ind_train = (true_value >= li_val) & (true_value <= ui_val)\n",
    "    Catch_all_indicators.append(ind_train)"
   ]
  },
  {
   "cell_type": "code",
   "execution_count": 207,
   "id": "85ab4671-0c07-4499-9dd4-60b4a433f516",
   "metadata": {},
   "outputs": [
    {
     "data": {
      "text/plain": [
       "0.6637250830564784"
      ]
     },
     "execution_count": 207,
     "metadata": {},
     "output_type": "execute_result"
    }
   ],
   "source": [
    "coverage_val = np.mean(Catch_all_indicators)\n",
    "coverage_val"
   ]
  },
  {
   "cell_type": "code",
   "execution_count": 208,
   "id": "cb369b20-1fd5-4746-a6bb-ac663ff346af",
   "metadata": {},
   "outputs": [],
   "source": [
    "# I think we are ready to replicate this for the rest of the blocks? Let's push the recent work to GitHub"
   ]
  },
  {
   "cell_type": "code",
   "execution_count": 209,
   "id": "8d31ad3b-81c0-4e7a-a556-3338bae8c470",
   "metadata": {},
   "outputs": [],
   "source": [
    "# define a function to get the post-hoc prediction\n",
    "def prediction_on_test_data(preds_array, stride = 24, kernel_size = 300):\n",
    "\n",
    "    img_height = 768 # we might need to verify this value\n",
    "    # get the image weight\n",
    "    img_width = 1024 # we might need to verify this value\n",
    "\n",
    "    \n",
    "    # create an empty density map\n",
    "    Density_map = np.zeros((img_height, img_width))\n",
    "\n",
    "    # create an empty counts map\n",
    "    counts_map = np.zeros((img_height, img_width))\n",
    "    \n",
    "    # now, for every window, we will keep adding the values together and also add the counts\n",
    "    counter = 0\n",
    "#     need a counter to move into each predicted value in the pred values list\n",
    "    for ii in range(0, img_height, stride):\n",
    "        for jj in range(0, img_width, stride):\n",
    "#         operations for density map\n",
    "#             get the window of interest\n",
    "            new_window = Density_map[ii:ii + kernel_size,jj:jj+kernel_size]\n",
    "#     fill each with the value c_k\n",
    "            counts_window = np.full((new_window.shape[0], new_window.shape[1]), preds_array[counter])\n",
    "#     get the shapes of this new window\n",
    "            cw_height = counts_window.shape[0]\n",
    "            cw_width = counts_window.shape[1]\n",
    "#         Do c_k/r_2\n",
    "            counts_window_new = counts_window/(cw_height*cw_width)\n",
    "#     This is the value in the window now\n",
    "            value_window = counts_window_new\n",
    "#     place the values in the corrsponding area of the density map\n",
    "            Density_map[ii:ii + kernel_size,jj:jj+kernel_size] = new_window + value_window\n",
    "\n",
    "#         Let's now focus on capturing the counts of the windows\n",
    "            new_window_c = counts_map[ii:ii + kernel_size,jj:jj+kernel_size]\n",
    "#     get the counts area\n",
    "            count = np.ones((new_window_c.shape[0], new_window_c.shape[1]))\n",
    "#     keep adding the counts to reflect the addition of densities\n",
    "            counts_map[ii:ii + kernel_size,jj:jj+kernel_size] = new_window_c + count\n",
    "#     increase the counter\n",
    "            counter = counter + 1\n",
    "            \n",
    "#         get the normalized count\n",
    "    normalized_counts = np.divide(Density_map, counts_map)\n",
    "    \n",
    "#     entire count on the test set\n",
    "    pred_on_test = np.sum(normalized_counts)\n",
    "    \n",
    "#     return the predicted value\n",
    "    return(pred_on_test, normalized_counts)"
   ]
  },
  {
   "cell_type": "code",
   "execution_count": 210,
   "id": "4872bd17-b34a-4b2a-82c7-7a0ed93c8638",
   "metadata": {},
   "outputs": [
    {
     "data": {
      "text/plain": [
       "(7, 1376)"
      ]
     },
     "execution_count": 210,
     "metadata": {},
     "output_type": "execute_result"
    }
   ],
   "source": [
    "Forecasted_values_df.shape"
   ]
  },
  {
   "cell_type": "code",
   "execution_count": 211,
   "id": "134ac9aa-d386-4be8-82ae-aed2d538be92",
   "metadata": {},
   "outputs": [
    {
     "data": {
      "text/plain": [
       "(7, 1376)"
      ]
     },
     "execution_count": 211,
     "metadata": {},
     "output_type": "execute_result"
    }
   ],
   "source": [
    "Forecasted_values_df.values.shape"
   ]
  },
  {
   "cell_type": "code",
   "execution_count": 212,
   "id": "d4aca647-4100-4ed8-a19e-0e8a00945f54",
   "metadata": {},
   "outputs": [],
   "source": [
    "# Access just the first row?"
   ]
  },
  {
   "cell_type": "code",
   "execution_count": 213,
   "id": "d7d3bb75-93a8-424f-81fb-e151a78e113f",
   "metadata": {},
   "outputs": [
    {
     "data": {
      "text/plain": [
       "(1376,)"
      ]
     },
     "execution_count": 213,
     "metadata": {},
     "output_type": "execute_result"
    }
   ],
   "source": [
    "Forecasted_values_df.values[0,:].shape"
   ]
  },
  {
   "cell_type": "code",
   "execution_count": 214,
   "id": "53314146-446c-493f-8cf8-a7453127ca46",
   "metadata": {},
   "outputs": [],
   "source": [
    "# use this to get the preds?"
   ]
  },
  {
   "cell_type": "code",
   "execution_count": 215,
   "id": "b54010cf-4cb4-4413-805c-00be572eb7fa",
   "metadata": {},
   "outputs": [],
   "source": [
    "test_im_0_preds = prediction_on_test_data(Forecasted_values_df.values[0,:], stride = 24, kernel_size = 300)"
   ]
  },
  {
   "cell_type": "code",
   "execution_count": 216,
   "id": "c47dbb8c-6876-49ad-bdd6-ff8432c40a58",
   "metadata": {},
   "outputs": [
    {
     "data": {
      "text/plain": [
       "38.606392458946075"
      ]
     },
     "execution_count": 216,
     "metadata": {},
     "output_type": "execute_result"
    }
   ],
   "source": [
    "test_im_0_preds[0]"
   ]
  },
  {
   "cell_type": "code",
   "execution_count": 217,
   "id": "47890c1a-a263-4424-b49c-efc11628ad33",
   "metadata": {},
   "outputs": [],
   "source": [
    "# get the values forecasted in a loop?\n",
    "predicted_test_values = []\n",
    "for i in range(7):\n",
    "    pred_val = prediction_on_test_data(Forecasted_values_df.values[i,:], stride = 24, kernel_size = 300)[0]\n",
    "    predicted_test_values.append(pred_val)"
   ]
  },
  {
   "cell_type": "code",
   "execution_count": 218,
   "id": "26a933d3-5150-4e88-b741-15305c767257",
   "metadata": {},
   "outputs": [
    {
     "data": {
      "text/plain": [
       "[38.606392458946075,\n",
       " 38.27121528607346,\n",
       " 40.79602946111558,\n",
       " 1407.3405237742884,\n",
       " 182.99478546868573,\n",
       " 131.1446779759039,\n",
       " 121.3840268890145]"
      ]
     },
     "execution_count": 218,
     "metadata": {},
     "output_type": "execute_result"
    }
   ],
   "source": [
    "predicted_test_values"
   ]
  },
  {
   "cell_type": "code",
   "execution_count": 181,
   "id": "bd475b9b-0d01-42f9-8dc0-61e437c1e4bc",
   "metadata": {},
   "outputs": [],
   "source": [
    "# Okay, there's some seroius shit happening I think with those very high values - we need to figuer out what to do"
   ]
  }
 ],
 "metadata": {
  "kernelspec": {
   "display_name": "Python (tfp_cpu_env)",
   "language": "python",
   "name": "tfp_cpu_env"
  },
  "language_info": {
   "codemirror_mode": {
    "name": "ipython",
    "version": 3
   },
   "file_extension": ".py",
   "mimetype": "text/x-python",
   "name": "python",
   "nbconvert_exporter": "python",
   "pygments_lexer": "ipython3",
   "version": "3.11.7"
  }
 },
 "nbformat": 4,
 "nbformat_minor": 5
}
