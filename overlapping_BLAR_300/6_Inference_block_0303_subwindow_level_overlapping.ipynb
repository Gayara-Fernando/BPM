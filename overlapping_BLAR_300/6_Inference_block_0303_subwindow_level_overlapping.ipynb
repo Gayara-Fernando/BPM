{
 "cells": [
  {
   "cell_type": "code",
   "execution_count": 1,
   "id": "658db0bc-89f4-467b-831b-554c08cb3eeb",
   "metadata": {},
   "outputs": [],
   "source": [
    "# Okay, let's get the proper transformations, and also get all the predictions on a subwindow scale - Later as a proof of concept, we will separate the sequences with densities all zero and see how the predicted densities look like."
   ]
  },
  {
   "cell_type": "code",
   "execution_count": 2,
   "id": "53cabc2a-d2b8-4e33-84a0-6c8f552caf3f",
   "metadata": {},
   "outputs": [],
   "source": [
    "import pandas as pd\n",
    "import numpy as np\n",
    "import matplotlib.pyplot as plt \n",
    "import os\n",
    "from sklearn.metrics import mean_absolute_error, mean_squared_error, r2_score\n",
    "from scipy.stats import pearsonr"
   ]
  },
  {
   "cell_type": "code",
   "execution_count": 3,
   "id": "60a1f5b1-2e15-471d-a379-057566c05ccc",
   "metadata": {},
   "outputs": [],
   "source": [
    "# path to dataframes\n",
    "path_to_dfs = \"data/BLAR_implementation/Block_0303/forecasted_counts\""
   ]
  },
  {
   "cell_type": "code",
   "execution_count": 4,
   "id": "ae71026b-360c-485d-8741-1766c956efd6",
   "metadata": {},
   "outputs": [
    {
     "data": {
      "text/plain": [
       "9632"
      ]
     },
     "execution_count": 4,
     "metadata": {},
     "output_type": "execute_result"
    }
   ],
   "source": [
    "len(os.listdir(path_to_dfs))"
   ]
  },
  {
   "cell_type": "code",
   "execution_count": 5,
   "id": "3b23384f-6325-4bc2-9700-240572b13745",
   "metadata": {},
   "outputs": [
    {
     "data": {
      "text/plain": [
       "7.0"
      ]
     },
     "execution_count": 5,
     "metadata": {},
     "output_type": "execute_result"
    }
   ],
   "source": [
    "len(os.listdir(path_to_dfs)) / 1376"
   ]
  },
  {
   "cell_type": "code",
   "execution_count": 6,
   "id": "90d27344-d686-4672-9b01-ded72e5f24a8",
   "metadata": {},
   "outputs": [],
   "source": [
    "averaged_forecasts_csvs = []\n",
    "for file in os.listdir(path_to_dfs):\n",
    "    if file[:8] =='averaged':\n",
    "        averaged_forecasts_csvs.append(file)"
   ]
  },
  {
   "cell_type": "code",
   "execution_count": 7,
   "id": "fabd37ca-e1da-430a-b23a-4905d0247f9b",
   "metadata": {},
   "outputs": [
    {
     "data": {
      "text/plain": [
       "1376"
      ]
     },
     "execution_count": 7,
     "metadata": {},
     "output_type": "execute_result"
    }
   ],
   "source": [
    "# how many csv files do we have?\n",
    "len(averaged_forecasts_csvs)"
   ]
  },
  {
   "cell_type": "code",
   "execution_count": 8,
   "id": "8c0af51f-8022-4186-b027-75dcbac9ab4c",
   "metadata": {},
   "outputs": [
    {
     "data": {
      "text/plain": [
       "'averaged_forecasts_sub_986.csv'"
      ]
     },
     "execution_count": 8,
     "metadata": {},
     "output_type": "execute_result"
    }
   ],
   "source": [
    "averaged_forecasts_csvs[0]"
   ]
  },
  {
   "cell_type": "code",
   "execution_count": 9,
   "id": "cf8d93c8-36d8-49d2-a213-2259381d61c0",
   "metadata": {},
   "outputs": [],
   "source": [
    "# let's create these names in the order of the subwindows\n",
    "ordered_csv_files = ['averaged_forecasts_sub_' + str(i) + '.csv' for i in range(1376)]"
   ]
  },
  {
   "cell_type": "code",
   "execution_count": 10,
   "id": "3d7f4c02-45fa-4004-ae11-fdb0ebeb01ab",
   "metadata": {},
   "outputs": [],
   "source": [
    "# ordered_csv_files"
   ]
  },
  {
   "cell_type": "code",
   "execution_count": 11,
   "id": "bbdf82b7-cc66-4bc5-9a7a-a7c0bbe72881",
   "metadata": {},
   "outputs": [
    {
     "name": "stdout",
     "output_type": "stream",
     "text": [
      "CPU times: user 2.28 s, sys: 493 ms, total: 2.78 s\n",
      "Wall time: 35.8 s\n"
     ]
    }
   ],
   "source": [
    "%%time\n",
    "all_dfs = []\n",
    "for file in ordered_csv_files:\n",
    "    read_df = pd.read_csv(path_to_dfs + '/' + file)\n",
    "    all_dfs.append(read_df)"
   ]
  },
  {
   "cell_type": "code",
   "execution_count": 12,
   "id": "21c0f3b6-00be-4459-a845-b536a3b5999e",
   "metadata": {},
   "outputs": [],
   "source": [
    "# make a single dataframe out of the many\n",
    "combined_df = pd.concat(all_dfs, axis = 1)"
   ]
  },
  {
   "cell_type": "code",
   "execution_count": 13,
   "id": "c827d724-6545-4056-a577-c1714a322ed6",
   "metadata": {},
   "outputs": [
    {
     "data": {
      "text/html": [
       "<div>\n",
       "<style scoped>\n",
       "    .dataframe tbody tr th:only-of-type {\n",
       "        vertical-align: middle;\n",
       "    }\n",
       "\n",
       "    .dataframe tbody tr th {\n",
       "        vertical-align: top;\n",
       "    }\n",
       "\n",
       "    .dataframe thead th {\n",
       "        text-align: right;\n",
       "    }\n",
       "</style>\n",
       "<table border=\"1\" class=\"dataframe\">\n",
       "  <thead>\n",
       "    <tr style=\"text-align: right;\">\n",
       "      <th></th>\n",
       "      <th>True_value</th>\n",
       "      <th>Forecasted_value</th>\n",
       "      <th>True_value</th>\n",
       "      <th>Forecasted_value</th>\n",
       "      <th>True_value</th>\n",
       "      <th>Forecasted_value</th>\n",
       "      <th>True_value</th>\n",
       "      <th>Forecasted_value</th>\n",
       "      <th>True_value</th>\n",
       "      <th>Forecasted_value</th>\n",
       "      <th>...</th>\n",
       "      <th>True_value</th>\n",
       "      <th>Forecasted_value</th>\n",
       "      <th>True_value</th>\n",
       "      <th>Forecasted_value</th>\n",
       "      <th>True_value</th>\n",
       "      <th>Forecasted_value</th>\n",
       "      <th>True_value</th>\n",
       "      <th>Forecasted_value</th>\n",
       "      <th>True_value</th>\n",
       "      <th>Forecasted_value</th>\n",
       "    </tr>\n",
       "  </thead>\n",
       "  <tbody>\n",
       "    <tr>\n",
       "      <th>0</th>\n",
       "      <td>2.196945</td>\n",
       "      <td>1.961181</td>\n",
       "      <td>2.190874</td>\n",
       "      <td>2.015515</td>\n",
       "      <td>2.072379</td>\n",
       "      <td>1.942298</td>\n",
       "      <td>1.945657</td>\n",
       "      <td>1.870133</td>\n",
       "      <td>2.066080</td>\n",
       "      <td>1.951669</td>\n",
       "      <td>...</td>\n",
       "      <td>0.000673</td>\n",
       "      <td>0.006652</td>\n",
       "      <td>0.000673</td>\n",
       "      <td>-0.001657</td>\n",
       "      <td>0.000489</td>\n",
       "      <td>0.005852</td>\n",
       "      <td>8.526243e-09</td>\n",
       "      <td>0.012917</td>\n",
       "      <td>0.000000</td>\n",
       "      <td>-0.013419</td>\n",
       "    </tr>\n",
       "    <tr>\n",
       "      <th>1</th>\n",
       "      <td>2.079442</td>\n",
       "      <td>2.033482</td>\n",
       "      <td>2.011892</td>\n",
       "      <td>2.033342</td>\n",
       "      <td>1.847915</td>\n",
       "      <td>1.989477</td>\n",
       "      <td>1.945910</td>\n",
       "      <td>1.889831</td>\n",
       "      <td>2.025481</td>\n",
       "      <td>1.962801</td>\n",
       "      <td>...</td>\n",
       "      <td>0.000000</td>\n",
       "      <td>0.012213</td>\n",
       "      <td>0.000000</td>\n",
       "      <td>0.029408</td>\n",
       "      <td>0.000000</td>\n",
       "      <td>0.019026</td>\n",
       "      <td>0.000000e+00</td>\n",
       "      <td>0.034518</td>\n",
       "      <td>0.000000</td>\n",
       "      <td>0.009311</td>\n",
       "    </tr>\n",
       "    <tr>\n",
       "      <th>2</th>\n",
       "      <td>2.079355</td>\n",
       "      <td>1.782305</td>\n",
       "      <td>1.975556</td>\n",
       "      <td>1.772690</td>\n",
       "      <td>1.943747</td>\n",
       "      <td>1.532480</td>\n",
       "      <td>1.945016</td>\n",
       "      <td>1.750797</td>\n",
       "      <td>1.946993</td>\n",
       "      <td>1.933543</td>\n",
       "      <td>...</td>\n",
       "      <td>0.000000</td>\n",
       "      <td>0.014516</td>\n",
       "      <td>0.000000</td>\n",
       "      <td>0.032911</td>\n",
       "      <td>0.000000</td>\n",
       "      <td>0.025698</td>\n",
       "      <td>0.000000e+00</td>\n",
       "      <td>0.043211</td>\n",
       "      <td>0.000000</td>\n",
       "      <td>0.000971</td>\n",
       "    </tr>\n",
       "    <tr>\n",
       "      <th>3</th>\n",
       "      <td>1.945910</td>\n",
       "      <td>3.244721</td>\n",
       "      <td>1.938099</td>\n",
       "      <td>3.174141</td>\n",
       "      <td>1.791983</td>\n",
       "      <td>3.978203</td>\n",
       "      <td>2.015022</td>\n",
       "      <td>2.720673</td>\n",
       "      <td>2.197220</td>\n",
       "      <td>2.116254</td>\n",
       "      <td>...</td>\n",
       "      <td>0.000000</td>\n",
       "      <td>0.018983</td>\n",
       "      <td>0.000000</td>\n",
       "      <td>0.036490</td>\n",
       "      <td>0.000000</td>\n",
       "      <td>0.037033</td>\n",
       "      <td>0.000000e+00</td>\n",
       "      <td>0.049510</td>\n",
       "      <td>0.000000</td>\n",
       "      <td>0.009873</td>\n",
       "    </tr>\n",
       "    <tr>\n",
       "      <th>4</th>\n",
       "      <td>1.609444</td>\n",
       "      <td>2.681269</td>\n",
       "      <td>1.604923</td>\n",
       "      <td>2.769911</td>\n",
       "      <td>1.387891</td>\n",
       "      <td>3.251932</td>\n",
       "      <td>1.783839</td>\n",
       "      <td>2.437425</td>\n",
       "      <td>1.794056</td>\n",
       "      <td>2.050108</td>\n",
       "      <td>...</td>\n",
       "      <td>0.414057</td>\n",
       "      <td>0.030880</td>\n",
       "      <td>0.414057</td>\n",
       "      <td>0.046283</td>\n",
       "      <td>0.414057</td>\n",
       "      <td>0.036213</td>\n",
       "      <td>4.140566e-01</td>\n",
       "      <td>0.039928</td>\n",
       "      <td>0.395894</td>\n",
       "      <td>0.015484</td>\n",
       "    </tr>\n",
       "  </tbody>\n",
       "</table>\n",
       "<p>5 rows × 2752 columns</p>\n",
       "</div>"
      ],
      "text/plain": [
       "   True_value  Forecasted_value  True_value  Forecasted_value  True_value  \\\n",
       "0    2.196945          1.961181    2.190874          2.015515    2.072379   \n",
       "1    2.079442          2.033482    2.011892          2.033342    1.847915   \n",
       "2    2.079355          1.782305    1.975556          1.772690    1.943747   \n",
       "3    1.945910          3.244721    1.938099          3.174141    1.791983   \n",
       "4    1.609444          2.681269    1.604923          2.769911    1.387891   \n",
       "\n",
       "   Forecasted_value  True_value  Forecasted_value  True_value  \\\n",
       "0          1.942298    1.945657          1.870133    2.066080   \n",
       "1          1.989477    1.945910          1.889831    2.025481   \n",
       "2          1.532480    1.945016          1.750797    1.946993   \n",
       "3          3.978203    2.015022          2.720673    2.197220   \n",
       "4          3.251932    1.783839          2.437425    1.794056   \n",
       "\n",
       "   Forecasted_value  ...  True_value  Forecasted_value  True_value  \\\n",
       "0          1.951669  ...    0.000673          0.006652    0.000673   \n",
       "1          1.962801  ...    0.000000          0.012213    0.000000   \n",
       "2          1.933543  ...    0.000000          0.014516    0.000000   \n",
       "3          2.116254  ...    0.000000          0.018983    0.000000   \n",
       "4          2.050108  ...    0.414057          0.030880    0.414057   \n",
       "\n",
       "   Forecasted_value  True_value  Forecasted_value    True_value  \\\n",
       "0         -0.001657    0.000489          0.005852  8.526243e-09   \n",
       "1          0.029408    0.000000          0.019026  0.000000e+00   \n",
       "2          0.032911    0.000000          0.025698  0.000000e+00   \n",
       "3          0.036490    0.000000          0.037033  0.000000e+00   \n",
       "4          0.046283    0.414057          0.036213  4.140566e-01   \n",
       "\n",
       "   Forecasted_value  True_value  Forecasted_value  \n",
       "0          0.012917    0.000000         -0.013419  \n",
       "1          0.034518    0.000000          0.009311  \n",
       "2          0.043211    0.000000          0.000971  \n",
       "3          0.049510    0.000000          0.009873  \n",
       "4          0.039928    0.395894          0.015484  \n",
       "\n",
       "[5 rows x 2752 columns]"
      ]
     },
     "execution_count": 13,
     "metadata": {},
     "output_type": "execute_result"
    }
   ],
   "source": [
    "combined_df.head()"
   ]
  },
  {
   "cell_type": "code",
   "execution_count": 14,
   "id": "be1c39bd-5454-46e6-a8fe-128a599ac086",
   "metadata": {},
   "outputs": [
    {
     "data": {
      "text/plain": [
       "(7, 2752)"
      ]
     },
     "execution_count": 14,
     "metadata": {},
     "output_type": "execute_result"
    }
   ],
   "source": [
    "combined_df.shape"
   ]
  },
  {
   "cell_type": "code",
   "execution_count": 15,
   "id": "f04174fe-3b90-4194-b682-57d3cd98b188",
   "metadata": {},
   "outputs": [],
   "source": [
    "# get the true values\n",
    "True_values_df = combined_df[['True_value']]"
   ]
  },
  {
   "cell_type": "code",
   "execution_count": 16,
   "id": "5e749e0d-ac2f-46ac-93a2-cfaa1a32f4e0",
   "metadata": {},
   "outputs": [
    {
     "data": {
      "text/html": [
       "<div>\n",
       "<style scoped>\n",
       "    .dataframe tbody tr th:only-of-type {\n",
       "        vertical-align: middle;\n",
       "    }\n",
       "\n",
       "    .dataframe tbody tr th {\n",
       "        vertical-align: top;\n",
       "    }\n",
       "\n",
       "    .dataframe thead th {\n",
       "        text-align: right;\n",
       "    }\n",
       "</style>\n",
       "<table border=\"1\" class=\"dataframe\">\n",
       "  <thead>\n",
       "    <tr style=\"text-align: right;\">\n",
       "      <th></th>\n",
       "      <th>True_value</th>\n",
       "      <th>True_value</th>\n",
       "      <th>True_value</th>\n",
       "      <th>True_value</th>\n",
       "      <th>True_value</th>\n",
       "      <th>True_value</th>\n",
       "      <th>True_value</th>\n",
       "      <th>True_value</th>\n",
       "      <th>True_value</th>\n",
       "      <th>True_value</th>\n",
       "      <th>...</th>\n",
       "      <th>True_value</th>\n",
       "      <th>True_value</th>\n",
       "      <th>True_value</th>\n",
       "      <th>True_value</th>\n",
       "      <th>True_value</th>\n",
       "      <th>True_value</th>\n",
       "      <th>True_value</th>\n",
       "      <th>True_value</th>\n",
       "      <th>True_value</th>\n",
       "      <th>True_value</th>\n",
       "    </tr>\n",
       "  </thead>\n",
       "  <tbody>\n",
       "    <tr>\n",
       "      <th>0</th>\n",
       "      <td>2.196945</td>\n",
       "      <td>2.190874</td>\n",
       "      <td>2.072379</td>\n",
       "      <td>1.945657</td>\n",
       "      <td>2.066080</td>\n",
       "      <td>2.197150</td>\n",
       "      <td>2.306715</td>\n",
       "      <td>2.290594</td>\n",
       "      <td>1.996578</td>\n",
       "      <td>1.856985</td>\n",
       "      <td>...</td>\n",
       "      <td>0.000673</td>\n",
       "      <td>0.000673</td>\n",
       "      <td>0.000673</td>\n",
       "      <td>0.000673</td>\n",
       "      <td>0.000673</td>\n",
       "      <td>0.000673</td>\n",
       "      <td>0.000673</td>\n",
       "      <td>0.000489</td>\n",
       "      <td>8.526243e-09</td>\n",
       "      <td>0.000000</td>\n",
       "    </tr>\n",
       "    <tr>\n",
       "      <th>1</th>\n",
       "      <td>2.079442</td>\n",
       "      <td>2.011892</td>\n",
       "      <td>1.847915</td>\n",
       "      <td>1.945910</td>\n",
       "      <td>2.025481</td>\n",
       "      <td>2.226882</td>\n",
       "      <td>2.298064</td>\n",
       "      <td>2.182153</td>\n",
       "      <td>2.032444</td>\n",
       "      <td>1.638317</td>\n",
       "      <td>...</td>\n",
       "      <td>0.000000</td>\n",
       "      <td>0.000000</td>\n",
       "      <td>0.000000</td>\n",
       "      <td>0.000000</td>\n",
       "      <td>0.000000</td>\n",
       "      <td>0.000000</td>\n",
       "      <td>0.000000</td>\n",
       "      <td>0.000000</td>\n",
       "      <td>0.000000e+00</td>\n",
       "      <td>0.000000</td>\n",
       "    </tr>\n",
       "    <tr>\n",
       "      <th>2</th>\n",
       "      <td>2.079355</td>\n",
       "      <td>1.975556</td>\n",
       "      <td>1.943747</td>\n",
       "      <td>1.945016</td>\n",
       "      <td>1.946993</td>\n",
       "      <td>2.198916</td>\n",
       "      <td>2.219461</td>\n",
       "      <td>1.992509</td>\n",
       "      <td>1.926758</td>\n",
       "      <td>1.650830</td>\n",
       "      <td>...</td>\n",
       "      <td>0.000000</td>\n",
       "      <td>0.000000</td>\n",
       "      <td>0.000000</td>\n",
       "      <td>0.000000</td>\n",
       "      <td>0.000000</td>\n",
       "      <td>0.000000</td>\n",
       "      <td>0.000000</td>\n",
       "      <td>0.000000</td>\n",
       "      <td>0.000000e+00</td>\n",
       "      <td>0.000000</td>\n",
       "    </tr>\n",
       "    <tr>\n",
       "      <th>3</th>\n",
       "      <td>1.945910</td>\n",
       "      <td>1.938099</td>\n",
       "      <td>1.791983</td>\n",
       "      <td>2.015022</td>\n",
       "      <td>2.197220</td>\n",
       "      <td>2.197224</td>\n",
       "      <td>2.197077</td>\n",
       "      <td>1.962260</td>\n",
       "      <td>1.782418</td>\n",
       "      <td>1.395338</td>\n",
       "      <td>...</td>\n",
       "      <td>0.000000</td>\n",
       "      <td>0.000000</td>\n",
       "      <td>0.000000</td>\n",
       "      <td>0.000000</td>\n",
       "      <td>0.000000</td>\n",
       "      <td>0.000000</td>\n",
       "      <td>0.000000</td>\n",
       "      <td>0.000000</td>\n",
       "      <td>0.000000e+00</td>\n",
       "      <td>0.000000</td>\n",
       "    </tr>\n",
       "    <tr>\n",
       "      <th>4</th>\n",
       "      <td>1.609444</td>\n",
       "      <td>1.604923</td>\n",
       "      <td>1.387891</td>\n",
       "      <td>1.783839</td>\n",
       "      <td>1.794056</td>\n",
       "      <td>1.794056</td>\n",
       "      <td>1.707248</td>\n",
       "      <td>1.607678</td>\n",
       "      <td>1.212041</td>\n",
       "      <td>1.103189</td>\n",
       "      <td>...</td>\n",
       "      <td>0.414057</td>\n",
       "      <td>0.414057</td>\n",
       "      <td>0.414057</td>\n",
       "      <td>0.414057</td>\n",
       "      <td>0.414057</td>\n",
       "      <td>0.414057</td>\n",
       "      <td>0.414057</td>\n",
       "      <td>0.414057</td>\n",
       "      <td>4.140566e-01</td>\n",
       "      <td>0.395894</td>\n",
       "    </tr>\n",
       "  </tbody>\n",
       "</table>\n",
       "<p>5 rows × 1376 columns</p>\n",
       "</div>"
      ],
      "text/plain": [
       "   True_value  True_value  True_value  True_value  True_value  True_value  \\\n",
       "0    2.196945    2.190874    2.072379    1.945657    2.066080    2.197150   \n",
       "1    2.079442    2.011892    1.847915    1.945910    2.025481    2.226882   \n",
       "2    2.079355    1.975556    1.943747    1.945016    1.946993    2.198916   \n",
       "3    1.945910    1.938099    1.791983    2.015022    2.197220    2.197224   \n",
       "4    1.609444    1.604923    1.387891    1.783839    1.794056    1.794056   \n",
       "\n",
       "   True_value  True_value  True_value  True_value  ...  True_value  \\\n",
       "0    2.306715    2.290594    1.996578    1.856985  ...    0.000673   \n",
       "1    2.298064    2.182153    2.032444    1.638317  ...    0.000000   \n",
       "2    2.219461    1.992509    1.926758    1.650830  ...    0.000000   \n",
       "3    2.197077    1.962260    1.782418    1.395338  ...    0.000000   \n",
       "4    1.707248    1.607678    1.212041    1.103189  ...    0.414057   \n",
       "\n",
       "   True_value  True_value  True_value  True_value  True_value  True_value  \\\n",
       "0    0.000673    0.000673    0.000673    0.000673    0.000673    0.000673   \n",
       "1    0.000000    0.000000    0.000000    0.000000    0.000000    0.000000   \n",
       "2    0.000000    0.000000    0.000000    0.000000    0.000000    0.000000   \n",
       "3    0.000000    0.000000    0.000000    0.000000    0.000000    0.000000   \n",
       "4    0.414057    0.414057    0.414057    0.414057    0.414057    0.414057   \n",
       "\n",
       "   True_value    True_value  True_value  \n",
       "0    0.000489  8.526243e-09    0.000000  \n",
       "1    0.000000  0.000000e+00    0.000000  \n",
       "2    0.000000  0.000000e+00    0.000000  \n",
       "3    0.000000  0.000000e+00    0.000000  \n",
       "4    0.414057  4.140566e-01    0.395894  \n",
       "\n",
       "[5 rows x 1376 columns]"
      ]
     },
     "execution_count": 16,
     "metadata": {},
     "output_type": "execute_result"
    }
   ],
   "source": [
    "True_values_df.head()"
   ]
  },
  {
   "cell_type": "code",
   "execution_count": 17,
   "id": "eaac93e8-5497-4d9e-ba82-6e7b92f5f0bc",
   "metadata": {},
   "outputs": [
    {
     "data": {
      "text/plain": [
       "(7, 1376)"
      ]
     },
     "execution_count": 17,
     "metadata": {},
     "output_type": "execute_result"
    }
   ],
   "source": [
    "True_values_df.shape"
   ]
  },
  {
   "cell_type": "code",
   "execution_count": 18,
   "id": "cfdd6a93-1047-4acb-a8b4-091d15dbae98",
   "metadata": {},
   "outputs": [],
   "source": [
    "# get the proper counts? - Do the transformation\n",
    "exp_true = np.exp(True_values_df)-1"
   ]
  },
  {
   "cell_type": "code",
   "execution_count": 19,
   "id": "0ae1b7a4-0bff-487e-93df-24df360917e0",
   "metadata": {},
   "outputs": [
    {
     "data": {
      "text/html": [
       "<div>\n",
       "<style scoped>\n",
       "    .dataframe tbody tr th:only-of-type {\n",
       "        vertical-align: middle;\n",
       "    }\n",
       "\n",
       "    .dataframe tbody tr th {\n",
       "        vertical-align: top;\n",
       "    }\n",
       "\n",
       "    .dataframe thead th {\n",
       "        text-align: right;\n",
       "    }\n",
       "</style>\n",
       "<table border=\"1\" class=\"dataframe\">\n",
       "  <thead>\n",
       "    <tr style=\"text-align: right;\">\n",
       "      <th></th>\n",
       "      <th>True_value</th>\n",
       "      <th>True_value</th>\n",
       "      <th>True_value</th>\n",
       "      <th>True_value</th>\n",
       "      <th>True_value</th>\n",
       "      <th>True_value</th>\n",
       "      <th>True_value</th>\n",
       "      <th>True_value</th>\n",
       "      <th>True_value</th>\n",
       "      <th>True_value</th>\n",
       "      <th>...</th>\n",
       "      <th>True_value</th>\n",
       "      <th>True_value</th>\n",
       "      <th>True_value</th>\n",
       "      <th>True_value</th>\n",
       "      <th>True_value</th>\n",
       "      <th>True_value</th>\n",
       "      <th>True_value</th>\n",
       "      <th>True_value</th>\n",
       "      <th>True_value</th>\n",
       "      <th>True_value</th>\n",
       "    </tr>\n",
       "  </thead>\n",
       "  <tbody>\n",
       "    <tr>\n",
       "      <th>0</th>\n",
       "      <td>7.997484</td>\n",
       "      <td>7.943025</td>\n",
       "      <td>6.943698</td>\n",
       "      <td>5.998227</td>\n",
       "      <td>6.893819</td>\n",
       "      <td>7.999327</td>\n",
       "      <td>9.041387</td>\n",
       "      <td>8.880806</td>\n",
       "      <td>6.363811</td>\n",
       "      <td>5.404401</td>\n",
       "      <td>...</td>\n",
       "      <td>0.000674</td>\n",
       "      <td>0.000674</td>\n",
       "      <td>0.000674</td>\n",
       "      <td>6.737195e-04</td>\n",
       "      <td>0.000674</td>\n",
       "      <td>0.000674</td>\n",
       "      <td>0.000674</td>\n",
       "      <td>0.000489</td>\n",
       "      <td>8.526243e-09</td>\n",
       "      <td>0.000000</td>\n",
       "    </tr>\n",
       "    <tr>\n",
       "      <th>1</th>\n",
       "      <td>7.000000</td>\n",
       "      <td>6.477448</td>\n",
       "      <td>5.346575</td>\n",
       "      <td>5.999997</td>\n",
       "      <td>6.579756</td>\n",
       "      <td>8.270914</td>\n",
       "      <td>8.954896</td>\n",
       "      <td>7.865375</td>\n",
       "      <td>6.632716</td>\n",
       "      <td>4.146502</td>\n",
       "      <td>...</td>\n",
       "      <td>0.000000</td>\n",
       "      <td>0.000000</td>\n",
       "      <td>0.000000</td>\n",
       "      <td>0.000000e+00</td>\n",
       "      <td>0.000000</td>\n",
       "      <td>0.000000</td>\n",
       "      <td>0.000000</td>\n",
       "      <td>0.000000</td>\n",
       "      <td>0.000000e+00</td>\n",
       "      <td>0.000000</td>\n",
       "    </tr>\n",
       "    <tr>\n",
       "      <th>2</th>\n",
       "      <td>6.999308</td>\n",
       "      <td>6.210626</td>\n",
       "      <td>5.984875</td>\n",
       "      <td>5.993741</td>\n",
       "      <td>6.007584</td>\n",
       "      <td>8.015235</td>\n",
       "      <td>8.202369</td>\n",
       "      <td>6.333913</td>\n",
       "      <td>5.867211</td>\n",
       "      <td>4.211305</td>\n",
       "      <td>...</td>\n",
       "      <td>0.000000</td>\n",
       "      <td>0.000000</td>\n",
       "      <td>0.000000</td>\n",
       "      <td>0.000000e+00</td>\n",
       "      <td>0.000000</td>\n",
       "      <td>0.000000</td>\n",
       "      <td>0.000000</td>\n",
       "      <td>0.000000</td>\n",
       "      <td>0.000000e+00</td>\n",
       "      <td>0.000000</td>\n",
       "    </tr>\n",
       "    <tr>\n",
       "      <th>3</th>\n",
       "      <td>5.999997</td>\n",
       "      <td>5.945537</td>\n",
       "      <td>5.001344</td>\n",
       "      <td>6.500894</td>\n",
       "      <td>7.999962</td>\n",
       "      <td>7.999996</td>\n",
       "      <td>7.998670</td>\n",
       "      <td>6.115386</td>\n",
       "      <td>4.944212</td>\n",
       "      <td>3.036338</td>\n",
       "      <td>...</td>\n",
       "      <td>0.000000</td>\n",
       "      <td>0.000000</td>\n",
       "      <td>0.000000</td>\n",
       "      <td>0.000000e+00</td>\n",
       "      <td>0.000000</td>\n",
       "      <td>0.000000</td>\n",
       "      <td>0.000000</td>\n",
       "      <td>0.000000</td>\n",
       "      <td>0.000000e+00</td>\n",
       "      <td>0.000000</td>\n",
       "    </tr>\n",
       "    <tr>\n",
       "      <th>4</th>\n",
       "      <td>4.000031</td>\n",
       "      <td>3.977478</td>\n",
       "      <td>3.006390</td>\n",
       "      <td>4.952668</td>\n",
       "      <td>5.013793</td>\n",
       "      <td>5.013792</td>\n",
       "      <td>4.513766</td>\n",
       "      <td>3.991206</td>\n",
       "      <td>2.360337</td>\n",
       "      <td>2.013762</td>\n",
       "      <td>...</td>\n",
       "      <td>0.512943</td>\n",
       "      <td>0.512943</td>\n",
       "      <td>0.512943</td>\n",
       "      <td>5.129428e-01</td>\n",
       "      <td>0.512943</td>\n",
       "      <td>0.512943</td>\n",
       "      <td>0.512943</td>\n",
       "      <td>0.512943</td>\n",
       "      <td>5.129428e-01</td>\n",
       "      <td>0.485712</td>\n",
       "    </tr>\n",
       "    <tr>\n",
       "      <th>5</th>\n",
       "      <td>4.000000</td>\n",
       "      <td>3.997484</td>\n",
       "      <td>3.022552</td>\n",
       "      <td>3.213816</td>\n",
       "      <td>5.477417</td>\n",
       "      <td>5.999999</td>\n",
       "      <td>5.491893</td>\n",
       "      <td>3.352160</td>\n",
       "      <td>3.000000</td>\n",
       "      <td>3.000000</td>\n",
       "      <td>...</td>\n",
       "      <td>0.000674</td>\n",
       "      <td>0.000674</td>\n",
       "      <td>0.000597</td>\n",
       "      <td>1.044816e-07</td>\n",
       "      <td>0.000000</td>\n",
       "      <td>0.000000</td>\n",
       "      <td>0.000000</td>\n",
       "      <td>0.000000</td>\n",
       "      <td>0.000000e+00</td>\n",
       "      <td>0.000000</td>\n",
       "    </tr>\n",
       "    <tr>\n",
       "      <th>6</th>\n",
       "      <td>4.000000</td>\n",
       "      <td>4.000000</td>\n",
       "      <td>3.945540</td>\n",
       "      <td>3.000674</td>\n",
       "      <td>3.000000</td>\n",
       "      <td>3.500000</td>\n",
       "      <td>4.000000</td>\n",
       "      <td>3.998674</td>\n",
       "      <td>2.824365</td>\n",
       "      <td>2.000030</td>\n",
       "      <td>...</td>\n",
       "      <td>0.000000</td>\n",
       "      <td>0.000000</td>\n",
       "      <td>0.000000</td>\n",
       "      <td>0.000000e+00</td>\n",
       "      <td>0.000000</td>\n",
       "      <td>0.000000</td>\n",
       "      <td>0.000000</td>\n",
       "      <td>0.000000</td>\n",
       "      <td>0.000000e+00</td>\n",
       "      <td>0.000000</td>\n",
       "    </tr>\n",
       "  </tbody>\n",
       "</table>\n",
       "<p>7 rows × 1376 columns</p>\n",
       "</div>"
      ],
      "text/plain": [
       "   True_value  True_value  True_value  True_value  True_value  True_value  \\\n",
       "0    7.997484    7.943025    6.943698    5.998227    6.893819    7.999327   \n",
       "1    7.000000    6.477448    5.346575    5.999997    6.579756    8.270914   \n",
       "2    6.999308    6.210626    5.984875    5.993741    6.007584    8.015235   \n",
       "3    5.999997    5.945537    5.001344    6.500894    7.999962    7.999996   \n",
       "4    4.000031    3.977478    3.006390    4.952668    5.013793    5.013792   \n",
       "5    4.000000    3.997484    3.022552    3.213816    5.477417    5.999999   \n",
       "6    4.000000    4.000000    3.945540    3.000674    3.000000    3.500000   \n",
       "\n",
       "   True_value  True_value  True_value  True_value  ...  True_value  \\\n",
       "0    9.041387    8.880806    6.363811    5.404401  ...    0.000674   \n",
       "1    8.954896    7.865375    6.632716    4.146502  ...    0.000000   \n",
       "2    8.202369    6.333913    5.867211    4.211305  ...    0.000000   \n",
       "3    7.998670    6.115386    4.944212    3.036338  ...    0.000000   \n",
       "4    4.513766    3.991206    2.360337    2.013762  ...    0.512943   \n",
       "5    5.491893    3.352160    3.000000    3.000000  ...    0.000674   \n",
       "6    4.000000    3.998674    2.824365    2.000030  ...    0.000000   \n",
       "\n",
       "   True_value  True_value    True_value  True_value  True_value  True_value  \\\n",
       "0    0.000674    0.000674  6.737195e-04    0.000674    0.000674    0.000674   \n",
       "1    0.000000    0.000000  0.000000e+00    0.000000    0.000000    0.000000   \n",
       "2    0.000000    0.000000  0.000000e+00    0.000000    0.000000    0.000000   \n",
       "3    0.000000    0.000000  0.000000e+00    0.000000    0.000000    0.000000   \n",
       "4    0.512943    0.512943  5.129428e-01    0.512943    0.512943    0.512943   \n",
       "5    0.000674    0.000597  1.044816e-07    0.000000    0.000000    0.000000   \n",
       "6    0.000000    0.000000  0.000000e+00    0.000000    0.000000    0.000000   \n",
       "\n",
       "   True_value    True_value  True_value  \n",
       "0    0.000489  8.526243e-09    0.000000  \n",
       "1    0.000000  0.000000e+00    0.000000  \n",
       "2    0.000000  0.000000e+00    0.000000  \n",
       "3    0.000000  0.000000e+00    0.000000  \n",
       "4    0.512943  5.129428e-01    0.485712  \n",
       "5    0.000000  0.000000e+00    0.000000  \n",
       "6    0.000000  0.000000e+00    0.000000  \n",
       "\n",
       "[7 rows x 1376 columns]"
      ]
     },
     "execution_count": 19,
     "metadata": {},
     "output_type": "execute_result"
    }
   ],
   "source": [
    "exp_true"
   ]
  },
  {
   "cell_type": "code",
   "execution_count": 20,
   "id": "e3ea73ab-34ac-4af8-b9bb-bf9c859bd59e",
   "metadata": {},
   "outputs": [],
   "source": [
    "# Identify the maximum and the minimum true values we have for the test data"
   ]
  },
  {
   "cell_type": "code",
   "execution_count": 21,
   "id": "0c0af4a8-5a75-4e0a-b1d7-ac0240faa7db",
   "metadata": {},
   "outputs": [
    {
     "data": {
      "text/plain": [
       "(0.0, 10.74842430108513)"
      ]
     },
     "execution_count": 21,
     "metadata": {},
     "output_type": "execute_result"
    }
   ],
   "source": [
    "exp_true.values.min(), exp_true.values.max()"
   ]
  },
  {
   "cell_type": "code",
   "execution_count": 22,
   "id": "c8a91a31-659e-42cb-a715-2fbc8dcd1125",
   "metadata": {},
   "outputs": [],
   "source": [
    "# Okay, so the highest true value we have is ~3. let's get teh min and max values for the predicted exponentiated values also"
   ]
  },
  {
   "cell_type": "code",
   "execution_count": 23,
   "id": "68791706-80d1-417c-97b5-1219d5d3ba5c",
   "metadata": {},
   "outputs": [],
   "source": [
    "all_forecasts_npy_files = []\n",
    "for file in os.listdir(path_to_dfs):\n",
    "    if file[:13] == 'all_forecasts':\n",
    "        all_forecasts_npy_files.append(file)"
   ]
  },
  {
   "cell_type": "code",
   "execution_count": 24,
   "id": "510a3a60-6b0f-4ba1-b628-1eea63adbf3a",
   "metadata": {},
   "outputs": [
    {
     "data": {
      "text/plain": [
       "1376"
      ]
     },
     "execution_count": 24,
     "metadata": {},
     "output_type": "execute_result"
    }
   ],
   "source": [
    "len(all_forecasts_npy_files)"
   ]
  },
  {
   "cell_type": "code",
   "execution_count": 25,
   "id": "926db1ce-530e-43a7-b8de-d68e54465a3b",
   "metadata": {},
   "outputs": [
    {
     "data": {
      "text/plain": [
       "'all_forecasts_sub_1104.npy'"
      ]
     },
     "execution_count": 25,
     "metadata": {},
     "output_type": "execute_result"
    }
   ],
   "source": [
    "all_forecasts_npy_files[0]"
   ]
  },
  {
   "cell_type": "code",
   "execution_count": 26,
   "id": "5ae1ee6d-7957-416d-8f76-b1c0f4f74048",
   "metadata": {},
   "outputs": [],
   "source": [
    "# load just the first file\n",
    "sub_273_forecasts = np.load(os.path.join(path_to_dfs, all_forecasts_npy_files[0]))"
   ]
  },
  {
   "cell_type": "code",
   "execution_count": 27,
   "id": "b18192a3-ea14-4ff3-af61-572f491fcce5",
   "metadata": {},
   "outputs": [
    {
     "data": {
      "text/plain": [
       "(1000, 4, 7)"
      ]
     },
     "execution_count": 27,
     "metadata": {},
     "output_type": "execute_result"
    }
   ],
   "source": [
    "sub_273_forecasts.shape"
   ]
  },
  {
   "cell_type": "code",
   "execution_count": 28,
   "id": "68634f79-5fe1-4326-821c-f88fd6358121",
   "metadata": {},
   "outputs": [],
   "source": [
    "# Okay, so for the subwindow 273 -  this file seem to have all the 1000 values in the 4 chains for all the test time points in the sequence"
   ]
  },
  {
   "cell_type": "code",
   "execution_count": 29,
   "id": "2beec9ec-bc5b-48ed-94bf-708dc1c323c5",
   "metadata": {},
   "outputs": [],
   "source": [
    "# transform these values?\n",
    "sub_273_forecasts = np.exp(sub_273_forecasts) - 1"
   ]
  },
  {
   "cell_type": "code",
   "execution_count": 30,
   "id": "139479a7-fd4e-4c9e-b125-b456aabcc33e",
   "metadata": {},
   "outputs": [
    {
     "data": {
      "text/plain": [
       "(-0.11589146, 14.315723)"
      ]
     },
     "execution_count": 30,
     "metadata": {},
     "output_type": "execute_result"
    }
   ],
   "source": [
    "sub_273_forecasts.min(), sub_273_forecasts.max()"
   ]
  },
  {
   "cell_type": "code",
   "execution_count": 31,
   "id": "eeea39fb-d9b6-4e75-b4f4-a48db2a78dda",
   "metadata": {},
   "outputs": [],
   "source": [
    "# get rid of anything below zero?\n",
    "sub_273_forecasts[sub_273_forecasts < 0] = 0"
   ]
  },
  {
   "cell_type": "code",
   "execution_count": 32,
   "id": "a3b048ca-2362-4521-a082-1e2a59ab8063",
   "metadata": {},
   "outputs": [
    {
     "data": {
      "text/plain": [
       "(0.0, 14.315723)"
      ]
     },
     "execution_count": 32,
     "metadata": {},
     "output_type": "execute_result"
    }
   ],
   "source": [
    "sub_273_forecasts.min(), sub_273_forecasts.max()"
   ]
  },
  {
   "cell_type": "code",
   "execution_count": 33,
   "id": "71918f6c-61fa-4666-bbae-05df60d1b050",
   "metadata": {},
   "outputs": [],
   "source": [
    "# cool -  what does these values mean?"
   ]
  },
  {
   "cell_type": "code",
   "execution_count": 34,
   "id": "91c6f8c0-cd40-4b9d-ba4f-279bc3073022",
   "metadata": {},
   "outputs": [],
   "source": [
    "# try averaging the forecasted values along the 0th and 1st axis?"
   ]
  },
  {
   "cell_type": "code",
   "execution_count": 35,
   "id": "47faa528-5199-4bab-b505-26087b378584",
   "metadata": {},
   "outputs": [],
   "source": [
    "sub_273_forecasts_averged = np.mean(sub_273_forecasts, axis = (0,1))"
   ]
  },
  {
   "cell_type": "code",
   "execution_count": 36,
   "id": "64d024db-bb14-4910-a061-3e0afe1c88ac",
   "metadata": {},
   "outputs": [
    {
     "data": {
      "text/plain": [
       "array([2.3561764, 2.331404 , 2.3763134, 2.259063 , 2.2050948, 2.269594 ,\n",
       "       2.3425353], dtype=float32)"
      ]
     },
     "execution_count": 36,
     "metadata": {},
     "output_type": "execute_result"
    }
   ],
   "source": [
    "sub_273_forecasts_averged"
   ]
  },
  {
   "cell_type": "code",
   "execution_count": 37,
   "id": "9872bc2e-ed4a-4a8c-ae6b-3b63e640c0bb",
   "metadata": {},
   "outputs": [
    {
     "data": {
      "text/plain": [
       "(7,)"
      ]
     },
     "execution_count": 37,
     "metadata": {},
     "output_type": "execute_result"
    }
   ],
   "source": [
    "sub_273_forecasts_averged.shape"
   ]
  },
  {
   "cell_type": "code",
   "execution_count": 38,
   "id": "40d19bd4-5f92-4cba-a0ba-d2cef1985fba",
   "metadata": {},
   "outputs": [],
   "source": [
    "# sanity check"
   ]
  },
  {
   "cell_type": "code",
   "execution_count": 39,
   "id": "43d050cf-9337-4500-8a46-e51683b39f30",
   "metadata": {},
   "outputs": [
    {
     "name": "stdout",
     "output_type": "stream",
     "text": [
      "2.356176\n",
      "2.3314054\n",
      "2.3763134\n",
      "2.2590654\n",
      "2.2050922\n",
      "2.269595\n",
      "2.3425353\n"
     ]
    }
   ],
   "source": [
    "# sanity check\n",
    "for i in range(sub_273_forecasts.shape[-1]):\n",
    "    track = sub_273_forecasts[:,:,i]\n",
    "    print(np.mean(track))"
   ]
  },
  {
   "cell_type": "code",
   "execution_count": 40,
   "id": "9404b3fc-7f26-4620-a1c7-816a12ccc1e7",
   "metadata": {},
   "outputs": [],
   "source": [
    "# Verify the shape of the true values - these are at a subwindow level, and we can use these as they are for getting the metrics, and the scatterplots?"
   ]
  },
  {
   "cell_type": "code",
   "execution_count": 41,
   "id": "81d84191-828a-4853-9765-f72b944f6e43",
   "metadata": {},
   "outputs": [
    {
     "data": {
      "text/plain": [
       "(7, 1376)"
      ]
     },
     "execution_count": 41,
     "metadata": {},
     "output_type": "execute_result"
    }
   ],
   "source": [
    "exp_true.shape"
   ]
  },
  {
   "cell_type": "code",
   "execution_count": 42,
   "id": "50e3210d-b649-4e19-b372-53c48aa7134e",
   "metadata": {},
   "outputs": [],
   "source": [
    "# Okay, we need the predictions for the subwindows in the same shape? - but before that, we need to do the transformation for all the npy files. We can do this in a loop - we have done this before, use the code as it is."
   ]
  },
  {
   "cell_type": "code",
   "execution_count": 43,
   "id": "cacb4a51-039b-4621-936f-3992c72137db",
   "metadata": {},
   "outputs": [
    {
     "name": "stdout",
     "output_type": "stream",
     "text": [
      "CPU times: user 1.09 s, sys: 501 ms, total: 1.59 s\n",
      "Wall time: 32.7 s\n"
     ]
    }
   ],
   "source": [
    "%%time\n",
    "catch_all_averaged_preds = []\n",
    "for i in range(exp_true.shape[1]):\n",
    "    file_name = \"all_forecasts_sub_\" + str(i) + '.npy'\n",
    "    al_forecasts_npy_file = np.load(os.path.join(path_to_dfs, file_name))\n",
    "    # make the conversion\n",
    "    sub_window_forecasts = np.exp(al_forecasts_npy_file) - 1\n",
    "    # get rid of anything below zero?\n",
    "    sub_window_forecasts[sub_window_forecasts < 0] = 0\n",
    "    # get averages over time \n",
    "    sub_window_forecasts_averaged = np.mean(sub_window_forecasts, axis = (0,1))\n",
    "    catch_all_averaged_preds.append(sub_window_forecasts_averaged)    "
   ]
  },
  {
   "cell_type": "code",
   "execution_count": 44,
   "id": "d84417a1-e8f2-428d-9170-bf95909115df",
   "metadata": {},
   "outputs": [
    {
     "data": {
      "text/plain": [
       "1376"
      ]
     },
     "execution_count": 44,
     "metadata": {},
     "output_type": "execute_result"
    }
   ],
   "source": [
    "len(catch_all_averaged_preds)"
   ]
  },
  {
   "cell_type": "code",
   "execution_count": 45,
   "id": "b64849c3-b140-420b-b618-624d3ba45d03",
   "metadata": {},
   "outputs": [
    {
     "data": {
      "text/plain": [
       "array([ 6.443912,  6.925376,  5.376868, 42.213665, 17.525835, 16.872631,\n",
       "       16.224384], dtype=float32)"
      ]
     },
     "execution_count": 45,
     "metadata": {},
     "output_type": "execute_result"
    }
   ],
   "source": [
    "catch_all_averaged_preds[0]"
   ]
  },
  {
   "cell_type": "code",
   "execution_count": 46,
   "id": "ef6c25a0-0f7f-4434-8d5c-b3443659d436",
   "metadata": {},
   "outputs": [],
   "source": [
    "Forecasted_values_df = pd.DataFrame(catch_all_averaged_preds).T"
   ]
  },
  {
   "cell_type": "code",
   "execution_count": 47,
   "id": "b26d17a8-7f02-403f-a02a-18d2d8d12854",
   "metadata": {},
   "outputs": [
    {
     "data": {
      "text/plain": [
       "(7, 1376)"
      ]
     },
     "execution_count": 47,
     "metadata": {},
     "output_type": "execute_result"
    }
   ],
   "source": [
    "Forecasted_values_df.shape"
   ]
  },
  {
   "cell_type": "code",
   "execution_count": 48,
   "id": "a630e79d-0c18-492a-a414-40d6e51d5584",
   "metadata": {},
   "outputs": [
    {
     "data": {
      "text/html": [
       "<div>\n",
       "<style scoped>\n",
       "    .dataframe tbody tr th:only-of-type {\n",
       "        vertical-align: middle;\n",
       "    }\n",
       "\n",
       "    .dataframe tbody tr th {\n",
       "        vertical-align: top;\n",
       "    }\n",
       "\n",
       "    .dataframe thead th {\n",
       "        text-align: right;\n",
       "    }\n",
       "</style>\n",
       "<table border=\"1\" class=\"dataframe\">\n",
       "  <thead>\n",
       "    <tr style=\"text-align: right;\">\n",
       "      <th></th>\n",
       "      <th>0</th>\n",
       "      <th>1</th>\n",
       "      <th>2</th>\n",
       "      <th>3</th>\n",
       "      <th>4</th>\n",
       "      <th>5</th>\n",
       "      <th>6</th>\n",
       "      <th>7</th>\n",
       "      <th>8</th>\n",
       "      <th>9</th>\n",
       "      <th>...</th>\n",
       "      <th>1366</th>\n",
       "      <th>1367</th>\n",
       "      <th>1368</th>\n",
       "      <th>1369</th>\n",
       "      <th>1370</th>\n",
       "      <th>1371</th>\n",
       "      <th>1372</th>\n",
       "      <th>1373</th>\n",
       "      <th>1374</th>\n",
       "      <th>1375</th>\n",
       "    </tr>\n",
       "  </thead>\n",
       "  <tbody>\n",
       "    <tr>\n",
       "      <th>0</th>\n",
       "      <td>6.443912</td>\n",
       "      <td>6.733563</td>\n",
       "      <td>6.106737</td>\n",
       "      <td>5.670949</td>\n",
       "      <td>6.273829</td>\n",
       "      <td>8.453201</td>\n",
       "      <td>10.624232</td>\n",
       "      <td>9.862858</td>\n",
       "      <td>7.605898</td>\n",
       "      <td>5.912575</td>\n",
       "      <td>...</td>\n",
       "      <td>0.114376</td>\n",
       "      <td>0.102993</td>\n",
       "      <td>0.096635</td>\n",
       "      <td>0.110626</td>\n",
       "      <td>0.096816</td>\n",
       "      <td>0.089906</td>\n",
       "      <td>0.069704</td>\n",
       "      <td>0.077393</td>\n",
       "      <td>0.082442</td>\n",
       "      <td>0.014277</td>\n",
       "    </tr>\n",
       "    <tr>\n",
       "      <th>1</th>\n",
       "      <td>6.925376</td>\n",
       "      <td>6.890980</td>\n",
       "      <td>6.495146</td>\n",
       "      <td>5.829647</td>\n",
       "      <td>6.396173</td>\n",
       "      <td>9.455812</td>\n",
       "      <td>11.961292</td>\n",
       "      <td>10.993627</td>\n",
       "      <td>8.153784</td>\n",
       "      <td>6.084735</td>\n",
       "      <td>...</td>\n",
       "      <td>0.116414</td>\n",
       "      <td>0.108031</td>\n",
       "      <td>0.109397</td>\n",
       "      <td>0.122874</td>\n",
       "      <td>0.104400</td>\n",
       "      <td>0.093502</td>\n",
       "      <td>0.094441</td>\n",
       "      <td>0.091366</td>\n",
       "      <td>0.101998</td>\n",
       "      <td>0.035096</td>\n",
       "    </tr>\n",
       "    <tr>\n",
       "      <th>2</th>\n",
       "      <td>5.376868</td>\n",
       "      <td>5.103573</td>\n",
       "      <td>3.747458</td>\n",
       "      <td>4.969315</td>\n",
       "      <td>6.179579</td>\n",
       "      <td>6.740466</td>\n",
       "      <td>7.519310</td>\n",
       "      <td>7.068613</td>\n",
       "      <td>6.205327</td>\n",
       "      <td>5.121335</td>\n",
       "      <td>...</td>\n",
       "      <td>0.087791</td>\n",
       "      <td>0.082688</td>\n",
       "      <td>0.089939</td>\n",
       "      <td>0.100154</td>\n",
       "      <td>0.102372</td>\n",
       "      <td>0.091784</td>\n",
       "      <td>0.091333</td>\n",
       "      <td>0.090750</td>\n",
       "      <td>0.102975</td>\n",
       "      <td>0.017798</td>\n",
       "    </tr>\n",
       "    <tr>\n",
       "      <th>3</th>\n",
       "      <td>42.213665</td>\n",
       "      <td>31.177282</td>\n",
       "      <td>90.589798</td>\n",
       "      <td>32.663639</td>\n",
       "      <td>63.998814</td>\n",
       "      <td>14926.691406</td>\n",
       "      <td>19014.197266</td>\n",
       "      <td>8556.126953</td>\n",
       "      <td>2307.797119</td>\n",
       "      <td>839.109436</td>\n",
       "      <td>...</td>\n",
       "      <td>0.098548</td>\n",
       "      <td>0.095312</td>\n",
       "      <td>0.093906</td>\n",
       "      <td>0.082942</td>\n",
       "      <td>0.100807</td>\n",
       "      <td>0.087544</td>\n",
       "      <td>0.091713</td>\n",
       "      <td>0.098281</td>\n",
       "      <td>0.105118</td>\n",
       "      <td>0.020626</td>\n",
       "    </tr>\n",
       "    <tr>\n",
       "      <th>4</th>\n",
       "      <td>17.525835</td>\n",
       "      <td>17.592218</td>\n",
       "      <td>32.921413</td>\n",
       "      <td>16.229191</td>\n",
       "      <td>17.289907</td>\n",
       "      <td>438.982513</td>\n",
       "      <td>1156.538086</td>\n",
       "      <td>798.653992</td>\n",
       "      <td>317.882294</td>\n",
       "      <td>129.012970</td>\n",
       "      <td>...</td>\n",
       "      <td>0.119508</td>\n",
       "      <td>0.112544</td>\n",
       "      <td>0.107995</td>\n",
       "      <td>0.108914</td>\n",
       "      <td>0.112729</td>\n",
       "      <td>0.100571</td>\n",
       "      <td>0.102338</td>\n",
       "      <td>0.099589</td>\n",
       "      <td>0.099655</td>\n",
       "      <td>0.030861</td>\n",
       "    </tr>\n",
       "  </tbody>\n",
       "</table>\n",
       "<p>5 rows × 1376 columns</p>\n",
       "</div>"
      ],
      "text/plain": [
       "        0          1          2          3          4             5     \\\n",
       "0   6.443912   6.733563   6.106737   5.670949   6.273829      8.453201   \n",
       "1   6.925376   6.890980   6.495146   5.829647   6.396173      9.455812   \n",
       "2   5.376868   5.103573   3.747458   4.969315   6.179579      6.740466   \n",
       "3  42.213665  31.177282  90.589798  32.663639  63.998814  14926.691406   \n",
       "4  17.525835  17.592218  32.921413  16.229191  17.289907    438.982513   \n",
       "\n",
       "           6            7            8           9     ...      1366  \\\n",
       "0     10.624232     9.862858     7.605898    5.912575  ...  0.114376   \n",
       "1     11.961292    10.993627     8.153784    6.084735  ...  0.116414   \n",
       "2      7.519310     7.068613     6.205327    5.121335  ...  0.087791   \n",
       "3  19014.197266  8556.126953  2307.797119  839.109436  ...  0.098548   \n",
       "4   1156.538086   798.653992   317.882294  129.012970  ...  0.119508   \n",
       "\n",
       "       1367      1368      1369      1370      1371      1372      1373  \\\n",
       "0  0.102993  0.096635  0.110626  0.096816  0.089906  0.069704  0.077393   \n",
       "1  0.108031  0.109397  0.122874  0.104400  0.093502  0.094441  0.091366   \n",
       "2  0.082688  0.089939  0.100154  0.102372  0.091784  0.091333  0.090750   \n",
       "3  0.095312  0.093906  0.082942  0.100807  0.087544  0.091713  0.098281   \n",
       "4  0.112544  0.107995  0.108914  0.112729  0.100571  0.102338  0.099589   \n",
       "\n",
       "       1374      1375  \n",
       "0  0.082442  0.014277  \n",
       "1  0.101998  0.035096  \n",
       "2  0.102975  0.017798  \n",
       "3  0.105118  0.020626  \n",
       "4  0.099655  0.030861  \n",
       "\n",
       "[5 rows x 1376 columns]"
      ]
     },
     "execution_count": 48,
     "metadata": {},
     "output_type": "execute_result"
    }
   ],
   "source": [
    "Forecasted_values_df.head()"
   ]
  },
  {
   "cell_type": "code",
   "execution_count": 49,
   "id": "68c7bc01-af52-4664-8745-99c3f70ed793",
   "metadata": {},
   "outputs": [],
   "source": [
    "# give column names here\n",
    "Forecasted_values_df.columns = ['forecasted_val_' + str(i) for i in range(1376)]"
   ]
  },
  {
   "cell_type": "code",
   "execution_count": 50,
   "id": "5753e902-47ea-4455-a177-ccb6cd4b16ff",
   "metadata": {},
   "outputs": [
    {
     "data": {
      "text/html": [
       "<div>\n",
       "<style scoped>\n",
       "    .dataframe tbody tr th:only-of-type {\n",
       "        vertical-align: middle;\n",
       "    }\n",
       "\n",
       "    .dataframe tbody tr th {\n",
       "        vertical-align: top;\n",
       "    }\n",
       "\n",
       "    .dataframe thead th {\n",
       "        text-align: right;\n",
       "    }\n",
       "</style>\n",
       "<table border=\"1\" class=\"dataframe\">\n",
       "  <thead>\n",
       "    <tr style=\"text-align: right;\">\n",
       "      <th></th>\n",
       "      <th>forecasted_val_0</th>\n",
       "      <th>forecasted_val_1</th>\n",
       "      <th>forecasted_val_2</th>\n",
       "      <th>forecasted_val_3</th>\n",
       "      <th>forecasted_val_4</th>\n",
       "      <th>forecasted_val_5</th>\n",
       "      <th>forecasted_val_6</th>\n",
       "      <th>forecasted_val_7</th>\n",
       "      <th>forecasted_val_8</th>\n",
       "      <th>forecasted_val_9</th>\n",
       "      <th>...</th>\n",
       "      <th>forecasted_val_1366</th>\n",
       "      <th>forecasted_val_1367</th>\n",
       "      <th>forecasted_val_1368</th>\n",
       "      <th>forecasted_val_1369</th>\n",
       "      <th>forecasted_val_1370</th>\n",
       "      <th>forecasted_val_1371</th>\n",
       "      <th>forecasted_val_1372</th>\n",
       "      <th>forecasted_val_1373</th>\n",
       "      <th>forecasted_val_1374</th>\n",
       "      <th>forecasted_val_1375</th>\n",
       "    </tr>\n",
       "  </thead>\n",
       "  <tbody>\n",
       "    <tr>\n",
       "      <th>0</th>\n",
       "      <td>6.443912</td>\n",
       "      <td>6.733563</td>\n",
       "      <td>6.106737</td>\n",
       "      <td>5.670949</td>\n",
       "      <td>6.273829</td>\n",
       "      <td>8.453201</td>\n",
       "      <td>10.624232</td>\n",
       "      <td>9.862858</td>\n",
       "      <td>7.605898</td>\n",
       "      <td>5.912575</td>\n",
       "      <td>...</td>\n",
       "      <td>0.114376</td>\n",
       "      <td>0.102993</td>\n",
       "      <td>0.096635</td>\n",
       "      <td>0.110626</td>\n",
       "      <td>0.096816</td>\n",
       "      <td>0.089906</td>\n",
       "      <td>0.069704</td>\n",
       "      <td>0.077393</td>\n",
       "      <td>0.082442</td>\n",
       "      <td>0.014277</td>\n",
       "    </tr>\n",
       "    <tr>\n",
       "      <th>1</th>\n",
       "      <td>6.925376</td>\n",
       "      <td>6.890980</td>\n",
       "      <td>6.495146</td>\n",
       "      <td>5.829647</td>\n",
       "      <td>6.396173</td>\n",
       "      <td>9.455812</td>\n",
       "      <td>11.961292</td>\n",
       "      <td>10.993627</td>\n",
       "      <td>8.153784</td>\n",
       "      <td>6.084735</td>\n",
       "      <td>...</td>\n",
       "      <td>0.116414</td>\n",
       "      <td>0.108031</td>\n",
       "      <td>0.109397</td>\n",
       "      <td>0.122874</td>\n",
       "      <td>0.104400</td>\n",
       "      <td>0.093502</td>\n",
       "      <td>0.094441</td>\n",
       "      <td>0.091366</td>\n",
       "      <td>0.101998</td>\n",
       "      <td>0.035096</td>\n",
       "    </tr>\n",
       "    <tr>\n",
       "      <th>2</th>\n",
       "      <td>5.376868</td>\n",
       "      <td>5.103573</td>\n",
       "      <td>3.747458</td>\n",
       "      <td>4.969315</td>\n",
       "      <td>6.179579</td>\n",
       "      <td>6.740466</td>\n",
       "      <td>7.519310</td>\n",
       "      <td>7.068613</td>\n",
       "      <td>6.205327</td>\n",
       "      <td>5.121335</td>\n",
       "      <td>...</td>\n",
       "      <td>0.087791</td>\n",
       "      <td>0.082688</td>\n",
       "      <td>0.089939</td>\n",
       "      <td>0.100154</td>\n",
       "      <td>0.102372</td>\n",
       "      <td>0.091784</td>\n",
       "      <td>0.091333</td>\n",
       "      <td>0.090750</td>\n",
       "      <td>0.102975</td>\n",
       "      <td>0.017798</td>\n",
       "    </tr>\n",
       "    <tr>\n",
       "      <th>3</th>\n",
       "      <td>42.213665</td>\n",
       "      <td>31.177282</td>\n",
       "      <td>90.589798</td>\n",
       "      <td>32.663639</td>\n",
       "      <td>63.998814</td>\n",
       "      <td>14926.691406</td>\n",
       "      <td>19014.197266</td>\n",
       "      <td>8556.126953</td>\n",
       "      <td>2307.797119</td>\n",
       "      <td>839.109436</td>\n",
       "      <td>...</td>\n",
       "      <td>0.098548</td>\n",
       "      <td>0.095312</td>\n",
       "      <td>0.093906</td>\n",
       "      <td>0.082942</td>\n",
       "      <td>0.100807</td>\n",
       "      <td>0.087544</td>\n",
       "      <td>0.091713</td>\n",
       "      <td>0.098281</td>\n",
       "      <td>0.105118</td>\n",
       "      <td>0.020626</td>\n",
       "    </tr>\n",
       "    <tr>\n",
       "      <th>4</th>\n",
       "      <td>17.525835</td>\n",
       "      <td>17.592218</td>\n",
       "      <td>32.921413</td>\n",
       "      <td>16.229191</td>\n",
       "      <td>17.289907</td>\n",
       "      <td>438.982513</td>\n",
       "      <td>1156.538086</td>\n",
       "      <td>798.653992</td>\n",
       "      <td>317.882294</td>\n",
       "      <td>129.012970</td>\n",
       "      <td>...</td>\n",
       "      <td>0.119508</td>\n",
       "      <td>0.112544</td>\n",
       "      <td>0.107995</td>\n",
       "      <td>0.108914</td>\n",
       "      <td>0.112729</td>\n",
       "      <td>0.100571</td>\n",
       "      <td>0.102338</td>\n",
       "      <td>0.099589</td>\n",
       "      <td>0.099655</td>\n",
       "      <td>0.030861</td>\n",
       "    </tr>\n",
       "  </tbody>\n",
       "</table>\n",
       "<p>5 rows × 1376 columns</p>\n",
       "</div>"
      ],
      "text/plain": [
       "   forecasted_val_0  forecasted_val_1  forecasted_val_2  forecasted_val_3  \\\n",
       "0          6.443912          6.733563          6.106737          5.670949   \n",
       "1          6.925376          6.890980          6.495146          5.829647   \n",
       "2          5.376868          5.103573          3.747458          4.969315   \n",
       "3         42.213665         31.177282         90.589798         32.663639   \n",
       "4         17.525835         17.592218         32.921413         16.229191   \n",
       "\n",
       "   forecasted_val_4  forecasted_val_5  forecasted_val_6  forecasted_val_7  \\\n",
       "0          6.273829          8.453201         10.624232          9.862858   \n",
       "1          6.396173          9.455812         11.961292         10.993627   \n",
       "2          6.179579          6.740466          7.519310          7.068613   \n",
       "3         63.998814      14926.691406      19014.197266       8556.126953   \n",
       "4         17.289907        438.982513       1156.538086        798.653992   \n",
       "\n",
       "   forecasted_val_8  forecasted_val_9  ...  forecasted_val_1366  \\\n",
       "0          7.605898          5.912575  ...             0.114376   \n",
       "1          8.153784          6.084735  ...             0.116414   \n",
       "2          6.205327          5.121335  ...             0.087791   \n",
       "3       2307.797119        839.109436  ...             0.098548   \n",
       "4        317.882294        129.012970  ...             0.119508   \n",
       "\n",
       "   forecasted_val_1367  forecasted_val_1368  forecasted_val_1369  \\\n",
       "0             0.102993             0.096635             0.110626   \n",
       "1             0.108031             0.109397             0.122874   \n",
       "2             0.082688             0.089939             0.100154   \n",
       "3             0.095312             0.093906             0.082942   \n",
       "4             0.112544             0.107995             0.108914   \n",
       "\n",
       "   forecasted_val_1370  forecasted_val_1371  forecasted_val_1372  \\\n",
       "0             0.096816             0.089906             0.069704   \n",
       "1             0.104400             0.093502             0.094441   \n",
       "2             0.102372             0.091784             0.091333   \n",
       "3             0.100807             0.087544             0.091713   \n",
       "4             0.112729             0.100571             0.102338   \n",
       "\n",
       "   forecasted_val_1373  forecasted_val_1374  forecasted_val_1375  \n",
       "0             0.077393             0.082442             0.014277  \n",
       "1             0.091366             0.101998             0.035096  \n",
       "2             0.090750             0.102975             0.017798  \n",
       "3             0.098281             0.105118             0.020626  \n",
       "4             0.099589             0.099655             0.030861  \n",
       "\n",
       "[5 rows x 1376 columns]"
      ]
     },
     "execution_count": 50,
     "metadata": {},
     "output_type": "execute_result"
    }
   ],
   "source": [
    "Forecasted_values_df.head()"
   ]
  },
  {
   "cell_type": "code",
   "execution_count": 51,
   "id": "8b5404a5-79f0-4045-a156-69eea2eb2081",
   "metadata": {},
   "outputs": [],
   "source": [
    "# get the min and max values here?"
   ]
  },
  {
   "cell_type": "code",
   "execution_count": 52,
   "id": "3f78b24b-0f2a-41c7-8ded-8d8158b0da98",
   "metadata": {},
   "outputs": [
    {
     "data": {
      "text/plain": [
       "(0.014276779, 59996.598)"
      ]
     },
     "execution_count": 52,
     "metadata": {},
     "output_type": "execute_result"
    }
   ],
   "source": [
    "Forecasted_values_df.values.min(), Forecasted_values_df.values.max()"
   ]
  },
  {
   "cell_type": "code",
   "execution_count": 53,
   "id": "60d4eec5-2e9e-4557-ac5c-b18a2d0f9726",
   "metadata": {},
   "outputs": [],
   "source": [
    "# notice that, there are a lot of values which seem to be greater than 20 - this seems like an okay value to have a cut off - should we try to get the row and column indices of these values? Maybe we need to run these later individually until we get stable values?"
   ]
  },
  {
   "cell_type": "code",
   "execution_count": 54,
   "id": "c951460e-4ad7-487b-9046-e615469ef512",
   "metadata": {},
   "outputs": [],
   "source": [
    "mask_gt_20 = Forecasted_values_df > 20"
   ]
  },
  {
   "cell_type": "code",
   "execution_count": 55,
   "id": "f799df4e-9a68-4c09-b3d3-f86837544dcc",
   "metadata": {},
   "outputs": [],
   "source": [
    "resulting_df = Forecasted_values_df[mask_gt_20].stack().reset_index()"
   ]
  },
  {
   "cell_type": "code",
   "execution_count": 56,
   "id": "11f3e43f-3ac8-4236-86f0-e43970e698b8",
   "metadata": {},
   "outputs": [
    {
     "data": {
      "text/html": [
       "<div>\n",
       "<style scoped>\n",
       "    .dataframe tbody tr th:only-of-type {\n",
       "        vertical-align: middle;\n",
       "    }\n",
       "\n",
       "    .dataframe tbody tr th {\n",
       "        vertical-align: top;\n",
       "    }\n",
       "\n",
       "    .dataframe thead th {\n",
       "        text-align: right;\n",
       "    }\n",
       "</style>\n",
       "<table border=\"1\" class=\"dataframe\">\n",
       "  <thead>\n",
       "    <tr style=\"text-align: right;\">\n",
       "      <th></th>\n",
       "      <th>level_0</th>\n",
       "      <th>level_1</th>\n",
       "      <th>0</th>\n",
       "    </tr>\n",
       "  </thead>\n",
       "  <tbody>\n",
       "    <tr>\n",
       "      <th>0</th>\n",
       "      <td>3</td>\n",
       "      <td>forecasted_val_0</td>\n",
       "      <td>42.213665</td>\n",
       "    </tr>\n",
       "    <tr>\n",
       "      <th>1</th>\n",
       "      <td>3</td>\n",
       "      <td>forecasted_val_1</td>\n",
       "      <td>31.177282</td>\n",
       "    </tr>\n",
       "    <tr>\n",
       "      <th>2</th>\n",
       "      <td>3</td>\n",
       "      <td>forecasted_val_2</td>\n",
       "      <td>90.589798</td>\n",
       "    </tr>\n",
       "    <tr>\n",
       "      <th>3</th>\n",
       "      <td>3</td>\n",
       "      <td>forecasted_val_3</td>\n",
       "      <td>32.663639</td>\n",
       "    </tr>\n",
       "    <tr>\n",
       "      <th>4</th>\n",
       "      <td>3</td>\n",
       "      <td>forecasted_val_4</td>\n",
       "      <td>63.998814</td>\n",
       "    </tr>\n",
       "  </tbody>\n",
       "</table>\n",
       "</div>"
      ],
      "text/plain": [
       "   level_0           level_1          0\n",
       "0        3  forecasted_val_0  42.213665\n",
       "1        3  forecasted_val_1  31.177282\n",
       "2        3  forecasted_val_2  90.589798\n",
       "3        3  forecasted_val_3  32.663639\n",
       "4        3  forecasted_val_4  63.998814"
      ]
     },
     "execution_count": 56,
     "metadata": {},
     "output_type": "execute_result"
    }
   ],
   "source": [
    "resulting_df.head()"
   ]
  },
  {
   "cell_type": "code",
   "execution_count": 57,
   "id": "707268cb-9069-4375-9d67-ba8dbed0f621",
   "metadata": {},
   "outputs": [
    {
     "data": {
      "text/plain": [
       "(1199, 3)"
      ]
     },
     "execution_count": 57,
     "metadata": {},
     "output_type": "execute_result"
    }
   ],
   "source": [
    "resulting_df.shape"
   ]
  },
  {
   "cell_type": "code",
   "execution_count": 58,
   "id": "e4cd8982-c880-484d-ac2b-52fdf5bdac9f",
   "metadata": {},
   "outputs": [],
   "source": [
    "resulting_df.columns = ['row_index', 'column_name', 'forecasted_val']"
   ]
  },
  {
   "cell_type": "code",
   "execution_count": 59,
   "id": "87cfb23b-6cd4-4db6-8e34-2221cc0863e1",
   "metadata": {},
   "outputs": [
    {
     "data": {
      "text/html": [
       "<div>\n",
       "<style scoped>\n",
       "    .dataframe tbody tr th:only-of-type {\n",
       "        vertical-align: middle;\n",
       "    }\n",
       "\n",
       "    .dataframe tbody tr th {\n",
       "        vertical-align: top;\n",
       "    }\n",
       "\n",
       "    .dataframe thead th {\n",
       "        text-align: right;\n",
       "    }\n",
       "</style>\n",
       "<table border=\"1\" class=\"dataframe\">\n",
       "  <thead>\n",
       "    <tr style=\"text-align: right;\">\n",
       "      <th></th>\n",
       "      <th>row_index</th>\n",
       "      <th>column_name</th>\n",
       "      <th>forecasted_val</th>\n",
       "    </tr>\n",
       "  </thead>\n",
       "  <tbody>\n",
       "    <tr>\n",
       "      <th>0</th>\n",
       "      <td>3</td>\n",
       "      <td>forecasted_val_0</td>\n",
       "      <td>42.213665</td>\n",
       "    </tr>\n",
       "    <tr>\n",
       "      <th>1</th>\n",
       "      <td>3</td>\n",
       "      <td>forecasted_val_1</td>\n",
       "      <td>31.177282</td>\n",
       "    </tr>\n",
       "    <tr>\n",
       "      <th>2</th>\n",
       "      <td>3</td>\n",
       "      <td>forecasted_val_2</td>\n",
       "      <td>90.589798</td>\n",
       "    </tr>\n",
       "    <tr>\n",
       "      <th>3</th>\n",
       "      <td>3</td>\n",
       "      <td>forecasted_val_3</td>\n",
       "      <td>32.663639</td>\n",
       "    </tr>\n",
       "    <tr>\n",
       "      <th>4</th>\n",
       "      <td>3</td>\n",
       "      <td>forecasted_val_4</td>\n",
       "      <td>63.998814</td>\n",
       "    </tr>\n",
       "  </tbody>\n",
       "</table>\n",
       "</div>"
      ],
      "text/plain": [
       "   row_index       column_name  forecasted_val\n",
       "0          3  forecasted_val_0       42.213665\n",
       "1          3  forecasted_val_1       31.177282\n",
       "2          3  forecasted_val_2       90.589798\n",
       "3          3  forecasted_val_3       32.663639\n",
       "4          3  forecasted_val_4       63.998814"
      ]
     },
     "execution_count": 59,
     "metadata": {},
     "output_type": "execute_result"
    }
   ],
   "source": [
    "resulting_df.head()"
   ]
  },
  {
   "cell_type": "code",
   "execution_count": 60,
   "id": "bbce3c14-19b2-44bb-9ad7-619ae5ff71ac",
   "metadata": {},
   "outputs": [
    {
     "data": {
      "text/plain": [
       "column_name\n",
       "forecasted_val_1122    4\n",
       "forecasted_val_1123    4\n",
       "forecasted_val_1124    4\n",
       "forecasted_val_1125    4\n",
       "forecasted_val_1132    4\n",
       "                      ..\n",
       "forecasted_val_132     1\n",
       "forecasted_val_172     1\n",
       "forecasted_val_885     1\n",
       "forecasted_val_439     1\n",
       "forecasted_val_259     1\n",
       "Name: count, Length: 362, dtype: int64"
      ]
     },
     "execution_count": 60,
     "metadata": {},
     "output_type": "execute_result"
    }
   ],
   "source": [
    "# how many coumns do we need to focus on?\n",
    "resulting_df['column_name'].value_counts()"
   ]
  },
  {
   "cell_type": "code",
   "execution_count": 61,
   "id": "7f8aea6d-468c-404e-a3c1-ac1701efa702",
   "metadata": {},
   "outputs": [],
   "source": [
    "# notice that there are 347 py scripts that we may need to rerun"
   ]
  },
  {
   "cell_type": "code",
   "execution_count": 62,
   "id": "6d54b095-0b28-46c6-a245-faf5b30b6265",
   "metadata": {},
   "outputs": [],
   "source": [
    "# What are the subwindow names?"
   ]
  },
  {
   "cell_type": "code",
   "execution_count": 63,
   "id": "23b9ba53-6860-4e38-b49e-4beba504bd3e",
   "metadata": {},
   "outputs": [],
   "source": [
    "sub_window_names = list(set(resulting_df['column_name']))\n",
    "sub_window_names.sort()"
   ]
  },
  {
   "cell_type": "code",
   "execution_count": 64,
   "id": "0abefdb8-18bf-4231-adfd-fb48401f939f",
   "metadata": {},
   "outputs": [],
   "source": [
    "# sub_window_names - but this is not properly sorted"
   ]
  },
  {
   "cell_type": "code",
   "execution_count": 65,
   "id": "3af0d1e5-2079-4dd2-bc00-9363d8802244",
   "metadata": {},
   "outputs": [],
   "source": [
    "sub_window_numbers = [val.split('_')[-1] for val in resulting_df['column_name']]\n",
    "sub_window_int = [int(i) for i in sub_window_numbers]\n",
    "sub_window_int.sort()"
   ]
  },
  {
   "cell_type": "code",
   "execution_count": 66,
   "id": "5ead29f4-4c19-4f4c-8694-60d7544eb0ea",
   "metadata": {},
   "outputs": [
    {
     "data": {
      "text/plain": [
       "1199"
      ]
     },
     "execution_count": 66,
     "metadata": {},
     "output_type": "execute_result"
    }
   ],
   "source": [
    "len(sub_window_int)"
   ]
  },
  {
   "cell_type": "code",
   "execution_count": 67,
   "id": "82ebe3a2-bab5-4531-b913-5fac45031a37",
   "metadata": {},
   "outputs": [],
   "source": [
    "unique_subwindow_int = list(set(sub_window_int))"
   ]
  },
  {
   "cell_type": "code",
   "execution_count": 201,
   "id": "6c7afb3c-c580-4651-854a-38703872d963",
   "metadata": {},
   "outputs": [
    {
     "data": {
      "text/plain": [
       "362"
      ]
     },
     "execution_count": 201,
     "metadata": {},
     "output_type": "execute_result"
    }
   ],
   "source": [
    "len(unique_subwindow_int)"
   ]
  },
  {
   "cell_type": "code",
   "execution_count": 202,
   "id": "a5a7ea4c-45d8-4fd3-817b-a378d47c73e8",
   "metadata": {},
   "outputs": [],
   "source": [
    "\n",
    "unique_subwindow_int.sort()"
   ]
  },
  {
   "cell_type": "code",
   "execution_count": 203,
   "id": "dbc08fab-b2d1-49f5-acbe-a7f7f15c2713",
   "metadata": {},
   "outputs": [],
   "source": [
    "sub_window_names_final = ['forecasted_val_' + str(i) for i in unique_subwindow_int]"
   ]
  },
  {
   "cell_type": "code",
   "execution_count": 204,
   "id": "7c81ec23-873f-447e-b279-f30ecd158a9f",
   "metadata": {
    "scrolled": true
   },
   "outputs": [
    {
     "data": {
      "text/plain": [
       "['forecasted_val_0',\n",
       " 'forecasted_val_1',\n",
       " 'forecasted_val_2',\n",
       " 'forecasted_val_3',\n",
       " 'forecasted_val_4',\n",
       " 'forecasted_val_5',\n",
       " 'forecasted_val_6',\n",
       " 'forecasted_val_7',\n",
       " 'forecasted_val_8',\n",
       " 'forecasted_val_9',\n",
       " 'forecasted_val_10',\n",
       " 'forecasted_val_11',\n",
       " 'forecasted_val_12',\n",
       " 'forecasted_val_13',\n",
       " 'forecasted_val_14',\n",
       " 'forecasted_val_15',\n",
       " 'forecasted_val_16',\n",
       " 'forecasted_val_17',\n",
       " 'forecasted_val_24',\n",
       " 'forecasted_val_25',\n",
       " 'forecasted_val_43',\n",
       " 'forecasted_val_48',\n",
       " 'forecasted_val_49',\n",
       " 'forecasted_val_50',\n",
       " 'forecasted_val_51',\n",
       " 'forecasted_val_52',\n",
       " 'forecasted_val_53',\n",
       " 'forecasted_val_55',\n",
       " 'forecasted_val_56',\n",
       " 'forecasted_val_59',\n",
       " 'forecasted_val_60',\n",
       " 'forecasted_val_67',\n",
       " 'forecasted_val_68',\n",
       " 'forecasted_val_86',\n",
       " 'forecasted_val_90',\n",
       " 'forecasted_val_91',\n",
       " 'forecasted_val_92',\n",
       " 'forecasted_val_93',\n",
       " 'forecasted_val_94',\n",
       " 'forecasted_val_95',\n",
       " 'forecasted_val_96',\n",
       " 'forecasted_val_97',\n",
       " 'forecasted_val_98',\n",
       " 'forecasted_val_100',\n",
       " 'forecasted_val_101',\n",
       " 'forecasted_val_102',\n",
       " 'forecasted_val_103',\n",
       " 'forecasted_val_104',\n",
       " 'forecasted_val_106',\n",
       " 'forecasted_val_107',\n",
       " 'forecasted_val_108',\n",
       " 'forecasted_val_110',\n",
       " 'forecasted_val_111',\n",
       " 'forecasted_val_129',\n",
       " 'forecasted_val_132',\n",
       " 'forecasted_val_133',\n",
       " 'forecasted_val_134',\n",
       " 'forecasted_val_135',\n",
       " 'forecasted_val_136',\n",
       " 'forecasted_val_137',\n",
       " 'forecasted_val_138',\n",
       " 'forecasted_val_144',\n",
       " 'forecasted_val_145',\n",
       " 'forecasted_val_146',\n",
       " 'forecasted_val_147',\n",
       " 'forecasted_val_148',\n",
       " 'forecasted_val_149',\n",
       " 'forecasted_val_150',\n",
       " 'forecasted_val_152',\n",
       " 'forecasted_val_153',\n",
       " 'forecasted_val_154',\n",
       " 'forecasted_val_172',\n",
       " 'forecasted_val_175',\n",
       " 'forecasted_val_176',\n",
       " 'forecasted_val_177',\n",
       " 'forecasted_val_178',\n",
       " 'forecasted_val_179',\n",
       " 'forecasted_val_180',\n",
       " 'forecasted_val_188',\n",
       " 'forecasted_val_189',\n",
       " 'forecasted_val_196',\n",
       " 'forecasted_val_197',\n",
       " 'forecasted_val_215',\n",
       " 'forecasted_val_216',\n",
       " 'forecasted_val_220',\n",
       " 'forecasted_val_221',\n",
       " 'forecasted_val_222',\n",
       " 'forecasted_val_223',\n",
       " 'forecasted_val_224',\n",
       " 'forecasted_val_231',\n",
       " 'forecasted_val_232',\n",
       " 'forecasted_val_233',\n",
       " 'forecasted_val_239',\n",
       " 'forecasted_val_240',\n",
       " 'forecasted_val_241',\n",
       " 'forecasted_val_258',\n",
       " 'forecasted_val_259',\n",
       " 'forecasted_val_262',\n",
       " 'forecasted_val_263',\n",
       " 'forecasted_val_264',\n",
       " 'forecasted_val_265',\n",
       " 'forecasted_val_266',\n",
       " 'forecasted_val_267',\n",
       " 'forecasted_val_268',\n",
       " 'forecasted_val_269',\n",
       " 'forecasted_val_270',\n",
       " 'forecasted_val_272',\n",
       " 'forecasted_val_273',\n",
       " 'forecasted_val_274',\n",
       " 'forecasted_val_275',\n",
       " 'forecasted_val_276',\n",
       " 'forecasted_val_277',\n",
       " 'forecasted_val_278',\n",
       " 'forecasted_val_282',\n",
       " 'forecasted_val_283',\n",
       " 'forecasted_val_284',\n",
       " 'forecasted_val_305',\n",
       " 'forecasted_val_306',\n",
       " 'forecasted_val_307',\n",
       " 'forecasted_val_308',\n",
       " 'forecasted_val_309',\n",
       " 'forecasted_val_310',\n",
       " 'forecasted_val_311',\n",
       " 'forecasted_val_315',\n",
       " 'forecasted_val_316',\n",
       " 'forecasted_val_317',\n",
       " 'forecasted_val_319',\n",
       " 'forecasted_val_320',\n",
       " 'forecasted_val_321',\n",
       " 'forecasted_val_323',\n",
       " 'forecasted_val_325',\n",
       " 'forecasted_val_326',\n",
       " 'forecasted_val_327',\n",
       " 'forecasted_val_348',\n",
       " 'forecasted_val_349',\n",
       " 'forecasted_val_350',\n",
       " 'forecasted_val_351',\n",
       " 'forecasted_val_352',\n",
       " 'forecasted_val_353',\n",
       " 'forecasted_val_354',\n",
       " 'forecasted_val_355',\n",
       " 'forecasted_val_356',\n",
       " 'forecasted_val_358',\n",
       " 'forecasted_val_360',\n",
       " 'forecasted_val_366',\n",
       " 'forecasted_val_368',\n",
       " 'forecasted_val_369',\n",
       " 'forecasted_val_370',\n",
       " 'forecasted_val_391',\n",
       " 'forecasted_val_392',\n",
       " 'forecasted_val_393',\n",
       " 'forecasted_val_394',\n",
       " 'forecasted_val_395',\n",
       " 'forecasted_val_396',\n",
       " 'forecasted_val_397',\n",
       " 'forecasted_val_398',\n",
       " 'forecasted_val_399',\n",
       " 'forecasted_val_400',\n",
       " 'forecasted_val_401',\n",
       " 'forecasted_val_402',\n",
       " 'forecasted_val_403',\n",
       " 'forecasted_val_404',\n",
       " 'forecasted_val_405',\n",
       " 'forecasted_val_409',\n",
       " 'forecasted_val_410',\n",
       " 'forecasted_val_411',\n",
       " 'forecasted_val_412',\n",
       " 'forecasted_val_413',\n",
       " 'forecasted_val_435',\n",
       " 'forecasted_val_436',\n",
       " 'forecasted_val_438',\n",
       " 'forecasted_val_439',\n",
       " 'forecasted_val_440',\n",
       " 'forecasted_val_441',\n",
       " 'forecasted_val_442',\n",
       " 'forecasted_val_443',\n",
       " 'forecasted_val_444',\n",
       " 'forecasted_val_445',\n",
       " 'forecasted_val_447',\n",
       " 'forecasted_val_454',\n",
       " 'forecasted_val_455',\n",
       " 'forecasted_val_456',\n",
       " 'forecasted_val_478',\n",
       " 'forecasted_val_479',\n",
       " 'forecasted_val_487',\n",
       " 'forecasted_val_488',\n",
       " 'forecasted_val_497',\n",
       " 'forecasted_val_498',\n",
       " 'forecasted_val_520',\n",
       " 'forecasted_val_521',\n",
       " 'forecasted_val_522',\n",
       " 'forecasted_val_530',\n",
       " 'forecasted_val_531',\n",
       " 'forecasted_val_538',\n",
       " 'forecasted_val_539',\n",
       " 'forecasted_val_540',\n",
       " 'forecasted_val_541',\n",
       " 'forecasted_val_559',\n",
       " 'forecasted_val_563',\n",
       " 'forecasted_val_564',\n",
       " 'forecasted_val_565',\n",
       " 'forecasted_val_566',\n",
       " 'forecasted_val_569',\n",
       " 'forecasted_val_571',\n",
       " 'forecasted_val_572',\n",
       " 'forecasted_val_573',\n",
       " 'forecasted_val_574',\n",
       " 'forecasted_val_581',\n",
       " 'forecasted_val_582',\n",
       " 'forecasted_val_583',\n",
       " 'forecasted_val_584',\n",
       " 'forecasted_val_604',\n",
       " 'forecasted_val_605',\n",
       " 'forecasted_val_606',\n",
       " 'forecasted_val_607',\n",
       " 'forecasted_val_608',\n",
       " 'forecasted_val_609',\n",
       " 'forecasted_val_610',\n",
       " 'forecasted_val_611',\n",
       " 'forecasted_val_612',\n",
       " 'forecasted_val_616',\n",
       " 'forecasted_val_617',\n",
       " 'forecasted_val_626',\n",
       " 'forecasted_val_627',\n",
       " 'forecasted_val_648',\n",
       " 'forecasted_val_649',\n",
       " 'forecasted_val_650',\n",
       " 'forecasted_val_651',\n",
       " 'forecasted_val_652',\n",
       " 'forecasted_val_653',\n",
       " 'forecasted_val_659',\n",
       " 'forecasted_val_660',\n",
       " 'forecasted_val_664',\n",
       " 'forecasted_val_666',\n",
       " 'forecasted_val_691',\n",
       " 'forecasted_val_692',\n",
       " 'forecasted_val_693',\n",
       " 'forecasted_val_694',\n",
       " 'forecasted_val_695',\n",
       " 'forecasted_val_702',\n",
       " 'forecasted_val_703',\n",
       " 'forecasted_val_704',\n",
       " 'forecasted_val_705',\n",
       " 'forecasted_val_707',\n",
       " 'forecasted_val_708',\n",
       " 'forecasted_val_709',\n",
       " 'forecasted_val_712',\n",
       " 'forecasted_val_713',\n",
       " 'forecasted_val_714',\n",
       " 'forecasted_val_734',\n",
       " 'forecasted_val_735',\n",
       " 'forecasted_val_736',\n",
       " 'forecasted_val_737',\n",
       " 'forecasted_val_738',\n",
       " 'forecasted_val_739',\n",
       " 'forecasted_val_740',\n",
       " 'forecasted_val_741',\n",
       " 'forecasted_val_742',\n",
       " 'forecasted_val_743',\n",
       " 'forecasted_val_744',\n",
       " 'forecasted_val_745',\n",
       " 'forecasted_val_746',\n",
       " 'forecasted_val_747',\n",
       " 'forecasted_val_748',\n",
       " 'forecasted_val_749',\n",
       " 'forecasted_val_750',\n",
       " 'forecasted_val_751',\n",
       " 'forecasted_val_752',\n",
       " 'forecasted_val_776',\n",
       " 'forecasted_val_778',\n",
       " 'forecasted_val_779',\n",
       " 'forecasted_val_780',\n",
       " 'forecasted_val_781',\n",
       " 'forecasted_val_787',\n",
       " 'forecasted_val_788',\n",
       " 'forecasted_val_791',\n",
       " 'forecasted_val_793',\n",
       " 'forecasted_val_794',\n",
       " 'forecasted_val_795',\n",
       " 'forecasted_val_798',\n",
       " 'forecasted_val_799',\n",
       " 'forecasted_val_820',\n",
       " 'forecasted_val_821',\n",
       " 'forecasted_val_822',\n",
       " 'forecasted_val_823',\n",
       " 'forecasted_val_824',\n",
       " 'forecasted_val_831',\n",
       " 'forecasted_val_832',\n",
       " 'forecasted_val_833',\n",
       " 'forecasted_val_834',\n",
       " 'forecasted_val_835',\n",
       " 'forecasted_val_836',\n",
       " 'forecasted_val_837',\n",
       " 'forecasted_val_838',\n",
       " 'forecasted_val_841',\n",
       " 'forecasted_val_842',\n",
       " 'forecasted_val_864',\n",
       " 'forecasted_val_865',\n",
       " 'forecasted_val_866',\n",
       " 'forecasted_val_867',\n",
       " 'forecasted_val_868',\n",
       " 'forecasted_val_871',\n",
       " 'forecasted_val_872',\n",
       " 'forecasted_val_873',\n",
       " 'forecasted_val_874',\n",
       " 'forecasted_val_875',\n",
       " 'forecasted_val_876',\n",
       " 'forecasted_val_877',\n",
       " 'forecasted_val_878',\n",
       " 'forecasted_val_879',\n",
       " 'forecasted_val_885',\n",
       " 'forecasted_val_907',\n",
       " 'forecasted_val_908',\n",
       " 'forecasted_val_909',\n",
       " 'forecasted_val_911',\n",
       " 'forecasted_val_912',\n",
       " 'forecasted_val_913',\n",
       " 'forecasted_val_915',\n",
       " 'forecasted_val_916',\n",
       " 'forecasted_val_917',\n",
       " 'forecasted_val_918',\n",
       " 'forecasted_val_919',\n",
       " 'forecasted_val_921',\n",
       " 'forecasted_val_922',\n",
       " 'forecasted_val_949',\n",
       " 'forecasted_val_950',\n",
       " 'forecasted_val_951',\n",
       " 'forecasted_val_952',\n",
       " 'forecasted_val_953',\n",
       " 'forecasted_val_959',\n",
       " 'forecasted_val_960',\n",
       " 'forecasted_val_961',\n",
       " 'forecasted_val_963',\n",
       " 'forecasted_val_964',\n",
       " 'forecasted_val_965',\n",
       " 'forecasted_val_992',\n",
       " 'forecasted_val_993',\n",
       " 'forecasted_val_994',\n",
       " 'forecasted_val_995',\n",
       " 'forecasted_val_1001',\n",
       " 'forecasted_val_1002',\n",
       " 'forecasted_val_1003',\n",
       " 'forecasted_val_1004',\n",
       " 'forecasted_val_1005',\n",
       " 'forecasted_val_1035',\n",
       " 'forecasted_val_1036',\n",
       " 'forecasted_val_1037',\n",
       " 'forecasted_val_1038',\n",
       " 'forecasted_val_1046',\n",
       " 'forecasted_val_1047',\n",
       " 'forecasted_val_1078',\n",
       " 'forecasted_val_1080',\n",
       " 'forecasted_val_1081',\n",
       " 'forecasted_val_1087',\n",
       " 'forecasted_val_1089',\n",
       " 'forecasted_val_1121',\n",
       " 'forecasted_val_1122',\n",
       " 'forecasted_val_1123',\n",
       " 'forecasted_val_1124',\n",
       " 'forecasted_val_1125',\n",
       " 'forecasted_val_1132',\n",
       " 'forecasted_val_1165']"
      ]
     },
     "execution_count": 204,
     "metadata": {},
     "output_type": "execute_result"
    }
   ],
   "source": [
    "sub_window_names_final # cool, so we need to look into individually running these scripts?"
   ]
  },
  {
   "cell_type": "code",
   "execution_count": 71,
   "id": "6f264713-a88c-4db3-a67e-a2729294a529",
   "metadata": {},
   "outputs": [],
   "source": [
    "# We are waiting to see if changing the prioirs are going to give us a direction we should proceed in"
   ]
  },
  {
   "cell_type": "code",
   "execution_count": 72,
   "id": "25bb623d-9523-4752-ac13-af99cbff5c27",
   "metadata": {},
   "outputs": [],
   "source": [
    "# The maximmum is an absurd amount - where is this coming from ? Do we need to manually fix it? Let's see\n",
    "# how many of teh values in the above dataframe are more than 10?"
   ]
  },
  {
   "cell_type": "code",
   "execution_count": 73,
   "id": "074e601a-f118-47e2-af47-32731c30bdc4",
   "metadata": {},
   "outputs": [],
   "source": [
    "# Maybe see to this once all columns are arranged in a single column?"
   ]
  },
  {
   "cell_type": "code",
   "execution_count": 74,
   "id": "3c856c12-7001-43c1-a186-08b242074808",
   "metadata": {},
   "outputs": [],
   "source": [
    "exp_true.columns = ['True_val_' + str(i) for i in range(1376)]"
   ]
  },
  {
   "cell_type": "code",
   "execution_count": 75,
   "id": "067be61e-3f40-487d-9d29-2aca3375cbe9",
   "metadata": {},
   "outputs": [
    {
     "data": {
      "text/html": [
       "<div>\n",
       "<style scoped>\n",
       "    .dataframe tbody tr th:only-of-type {\n",
       "        vertical-align: middle;\n",
       "    }\n",
       "\n",
       "    .dataframe tbody tr th {\n",
       "        vertical-align: top;\n",
       "    }\n",
       "\n",
       "    .dataframe thead th {\n",
       "        text-align: right;\n",
       "    }\n",
       "</style>\n",
       "<table border=\"1\" class=\"dataframe\">\n",
       "  <thead>\n",
       "    <tr style=\"text-align: right;\">\n",
       "      <th></th>\n",
       "      <th>True_val_0</th>\n",
       "      <th>True_val_1</th>\n",
       "      <th>True_val_2</th>\n",
       "      <th>True_val_3</th>\n",
       "      <th>True_val_4</th>\n",
       "      <th>True_val_5</th>\n",
       "      <th>True_val_6</th>\n",
       "      <th>True_val_7</th>\n",
       "      <th>True_val_8</th>\n",
       "      <th>True_val_9</th>\n",
       "      <th>...</th>\n",
       "      <th>True_val_1366</th>\n",
       "      <th>True_val_1367</th>\n",
       "      <th>True_val_1368</th>\n",
       "      <th>True_val_1369</th>\n",
       "      <th>True_val_1370</th>\n",
       "      <th>True_val_1371</th>\n",
       "      <th>True_val_1372</th>\n",
       "      <th>True_val_1373</th>\n",
       "      <th>True_val_1374</th>\n",
       "      <th>True_val_1375</th>\n",
       "    </tr>\n",
       "  </thead>\n",
       "  <tbody>\n",
       "    <tr>\n",
       "      <th>0</th>\n",
       "      <td>7.997484</td>\n",
       "      <td>7.943025</td>\n",
       "      <td>6.943698</td>\n",
       "      <td>5.998227</td>\n",
       "      <td>6.893819</td>\n",
       "      <td>7.999327</td>\n",
       "      <td>9.041387</td>\n",
       "      <td>8.880806</td>\n",
       "      <td>6.363811</td>\n",
       "      <td>5.404401</td>\n",
       "      <td>...</td>\n",
       "      <td>0.000674</td>\n",
       "      <td>0.000674</td>\n",
       "      <td>0.000674</td>\n",
       "      <td>0.000674</td>\n",
       "      <td>0.000674</td>\n",
       "      <td>0.000674</td>\n",
       "      <td>0.000674</td>\n",
       "      <td>0.000489</td>\n",
       "      <td>8.526243e-09</td>\n",
       "      <td>0.000000</td>\n",
       "    </tr>\n",
       "    <tr>\n",
       "      <th>1</th>\n",
       "      <td>7.000000</td>\n",
       "      <td>6.477448</td>\n",
       "      <td>5.346575</td>\n",
       "      <td>5.999997</td>\n",
       "      <td>6.579756</td>\n",
       "      <td>8.270914</td>\n",
       "      <td>8.954896</td>\n",
       "      <td>7.865375</td>\n",
       "      <td>6.632716</td>\n",
       "      <td>4.146502</td>\n",
       "      <td>...</td>\n",
       "      <td>0.000000</td>\n",
       "      <td>0.000000</td>\n",
       "      <td>0.000000</td>\n",
       "      <td>0.000000</td>\n",
       "      <td>0.000000</td>\n",
       "      <td>0.000000</td>\n",
       "      <td>0.000000</td>\n",
       "      <td>0.000000</td>\n",
       "      <td>0.000000e+00</td>\n",
       "      <td>0.000000</td>\n",
       "    </tr>\n",
       "    <tr>\n",
       "      <th>2</th>\n",
       "      <td>6.999308</td>\n",
       "      <td>6.210626</td>\n",
       "      <td>5.984875</td>\n",
       "      <td>5.993741</td>\n",
       "      <td>6.007584</td>\n",
       "      <td>8.015235</td>\n",
       "      <td>8.202369</td>\n",
       "      <td>6.333913</td>\n",
       "      <td>5.867211</td>\n",
       "      <td>4.211305</td>\n",
       "      <td>...</td>\n",
       "      <td>0.000000</td>\n",
       "      <td>0.000000</td>\n",
       "      <td>0.000000</td>\n",
       "      <td>0.000000</td>\n",
       "      <td>0.000000</td>\n",
       "      <td>0.000000</td>\n",
       "      <td>0.000000</td>\n",
       "      <td>0.000000</td>\n",
       "      <td>0.000000e+00</td>\n",
       "      <td>0.000000</td>\n",
       "    </tr>\n",
       "    <tr>\n",
       "      <th>3</th>\n",
       "      <td>5.999997</td>\n",
       "      <td>5.945537</td>\n",
       "      <td>5.001344</td>\n",
       "      <td>6.500894</td>\n",
       "      <td>7.999962</td>\n",
       "      <td>7.999996</td>\n",
       "      <td>7.998670</td>\n",
       "      <td>6.115386</td>\n",
       "      <td>4.944212</td>\n",
       "      <td>3.036338</td>\n",
       "      <td>...</td>\n",
       "      <td>0.000000</td>\n",
       "      <td>0.000000</td>\n",
       "      <td>0.000000</td>\n",
       "      <td>0.000000</td>\n",
       "      <td>0.000000</td>\n",
       "      <td>0.000000</td>\n",
       "      <td>0.000000</td>\n",
       "      <td>0.000000</td>\n",
       "      <td>0.000000e+00</td>\n",
       "      <td>0.000000</td>\n",
       "    </tr>\n",
       "    <tr>\n",
       "      <th>4</th>\n",
       "      <td>4.000031</td>\n",
       "      <td>3.977478</td>\n",
       "      <td>3.006390</td>\n",
       "      <td>4.952668</td>\n",
       "      <td>5.013793</td>\n",
       "      <td>5.013792</td>\n",
       "      <td>4.513766</td>\n",
       "      <td>3.991206</td>\n",
       "      <td>2.360337</td>\n",
       "      <td>2.013762</td>\n",
       "      <td>...</td>\n",
       "      <td>0.512943</td>\n",
       "      <td>0.512943</td>\n",
       "      <td>0.512943</td>\n",
       "      <td>0.512943</td>\n",
       "      <td>0.512943</td>\n",
       "      <td>0.512943</td>\n",
       "      <td>0.512943</td>\n",
       "      <td>0.512943</td>\n",
       "      <td>5.129428e-01</td>\n",
       "      <td>0.485712</td>\n",
       "    </tr>\n",
       "  </tbody>\n",
       "</table>\n",
       "<p>5 rows × 1376 columns</p>\n",
       "</div>"
      ],
      "text/plain": [
       "   True_val_0  True_val_1  True_val_2  True_val_3  True_val_4  True_val_5  \\\n",
       "0    7.997484    7.943025    6.943698    5.998227    6.893819    7.999327   \n",
       "1    7.000000    6.477448    5.346575    5.999997    6.579756    8.270914   \n",
       "2    6.999308    6.210626    5.984875    5.993741    6.007584    8.015235   \n",
       "3    5.999997    5.945537    5.001344    6.500894    7.999962    7.999996   \n",
       "4    4.000031    3.977478    3.006390    4.952668    5.013793    5.013792   \n",
       "\n",
       "   True_val_6  True_val_7  True_val_8  True_val_9  ...  True_val_1366  \\\n",
       "0    9.041387    8.880806    6.363811    5.404401  ...       0.000674   \n",
       "1    8.954896    7.865375    6.632716    4.146502  ...       0.000000   \n",
       "2    8.202369    6.333913    5.867211    4.211305  ...       0.000000   \n",
       "3    7.998670    6.115386    4.944212    3.036338  ...       0.000000   \n",
       "4    4.513766    3.991206    2.360337    2.013762  ...       0.512943   \n",
       "\n",
       "   True_val_1367  True_val_1368  True_val_1369  True_val_1370  True_val_1371  \\\n",
       "0       0.000674       0.000674       0.000674       0.000674       0.000674   \n",
       "1       0.000000       0.000000       0.000000       0.000000       0.000000   \n",
       "2       0.000000       0.000000       0.000000       0.000000       0.000000   \n",
       "3       0.000000       0.000000       0.000000       0.000000       0.000000   \n",
       "4       0.512943       0.512943       0.512943       0.512943       0.512943   \n",
       "\n",
       "   True_val_1372  True_val_1373  True_val_1374  True_val_1375  \n",
       "0       0.000674       0.000489   8.526243e-09       0.000000  \n",
       "1       0.000000       0.000000   0.000000e+00       0.000000  \n",
       "2       0.000000       0.000000   0.000000e+00       0.000000  \n",
       "3       0.000000       0.000000   0.000000e+00       0.000000  \n",
       "4       0.512943       0.512943   5.129428e-01       0.485712  \n",
       "\n",
       "[5 rows x 1376 columns]"
      ]
     },
     "execution_count": 75,
     "metadata": {},
     "output_type": "execute_result"
    }
   ],
   "source": [
    "exp_true.head()"
   ]
  },
  {
   "cell_type": "code",
   "execution_count": 76,
   "id": "2c45773b-0ea1-46be-8779-6c94e5c2d2e8",
   "metadata": {},
   "outputs": [],
   "source": [
    "# I think at this point we can go ahead and get the metrics for inference computed?"
   ]
  },
  {
   "cell_type": "code",
   "execution_count": 77,
   "id": "74578441-3c54-4eb3-8f75-e489c3c9494f",
   "metadata": {},
   "outputs": [],
   "source": [
    "# exp_true.keys()"
   ]
  },
  {
   "cell_type": "code",
   "execution_count": 78,
   "id": "eb0a136a-9fe1-498f-9bb8-84162b73a942",
   "metadata": {},
   "outputs": [],
   "source": [
    "# exp_true.values.shape"
   ]
  },
  {
   "cell_type": "code",
   "execution_count": 79,
   "id": "a3ca5525-f6e8-441d-ace6-0f00448a200a",
   "metadata": {},
   "outputs": [],
   "source": [
    "# use one column for both dataframes? that way it will be easier to compute the metrics?"
   ]
  },
  {
   "cell_type": "code",
   "execution_count": 80,
   "id": "1c43c82e-2df6-4005-9459-528fa4b1f3cb",
   "metadata": {},
   "outputs": [],
   "source": [
    "# Also something to keep in mind here is that the subwindow sizes are very small - 30*30 - this was intentional as we had to do the seq-2-seq model and they are data hungry - therefore having a 300*300 window size was not feasible"
   ]
  },
  {
   "cell_type": "code",
   "execution_count": 81,
   "id": "c622e1cf-a163-4edb-8ed3-d73a716466e1",
   "metadata": {},
   "outputs": [],
   "source": [
    "exp_true_onecol = pd.DataFrame(exp_true.to_numpy().ravel(order = 'F'), columns=[\"True_values\"])"
   ]
  },
  {
   "cell_type": "code",
   "execution_count": 82,
   "id": "97949b77-22b4-4b7a-82a4-32668f520ab0",
   "metadata": {},
   "outputs": [
    {
     "data": {
      "text/html": [
       "<div>\n",
       "<style scoped>\n",
       "    .dataframe tbody tr th:only-of-type {\n",
       "        vertical-align: middle;\n",
       "    }\n",
       "\n",
       "    .dataframe tbody tr th {\n",
       "        vertical-align: top;\n",
       "    }\n",
       "\n",
       "    .dataframe thead th {\n",
       "        text-align: right;\n",
       "    }\n",
       "</style>\n",
       "<table border=\"1\" class=\"dataframe\">\n",
       "  <thead>\n",
       "    <tr style=\"text-align: right;\">\n",
       "      <th></th>\n",
       "      <th>True_values</th>\n",
       "    </tr>\n",
       "  </thead>\n",
       "  <tbody>\n",
       "    <tr>\n",
       "      <th>0</th>\n",
       "      <td>7.997484</td>\n",
       "    </tr>\n",
       "    <tr>\n",
       "      <th>1</th>\n",
       "      <td>7.000000</td>\n",
       "    </tr>\n",
       "    <tr>\n",
       "      <th>2</th>\n",
       "      <td>6.999308</td>\n",
       "    </tr>\n",
       "    <tr>\n",
       "      <th>3</th>\n",
       "      <td>5.999997</td>\n",
       "    </tr>\n",
       "    <tr>\n",
       "      <th>4</th>\n",
       "      <td>4.000031</td>\n",
       "    </tr>\n",
       "  </tbody>\n",
       "</table>\n",
       "</div>"
      ],
      "text/plain": [
       "   True_values\n",
       "0     7.997484\n",
       "1     7.000000\n",
       "2     6.999308\n",
       "3     5.999997\n",
       "4     4.000031"
      ]
     },
     "execution_count": 82,
     "metadata": {},
     "output_type": "execute_result"
    }
   ],
   "source": [
    "exp_true_onecol.head()"
   ]
  },
  {
   "cell_type": "code",
   "execution_count": 83,
   "id": "770f4ad1-2c71-4a62-b2fd-0f052eba9088",
   "metadata": {},
   "outputs": [
    {
     "data": {
      "text/plain": [
       "(9632, 1)"
      ]
     },
     "execution_count": 83,
     "metadata": {},
     "output_type": "execute_result"
    }
   ],
   "source": [
    "exp_true_onecol.shape"
   ]
  },
  {
   "cell_type": "code",
   "execution_count": 84,
   "id": "59a01283-1e4e-45cf-bbc6-9330c5863f96",
   "metadata": {},
   "outputs": [
    {
     "data": {
      "text/plain": [
       "21504"
      ]
     },
     "execution_count": 84,
     "metadata": {},
     "output_type": "execute_result"
    }
   ],
   "source": [
    "3072*7"
   ]
  },
  {
   "cell_type": "code",
   "execution_count": 85,
   "id": "1de30f69-827a-4566-bb47-006090eb5f73",
   "metadata": {},
   "outputs": [],
   "source": [
    "exp_predicted_onecol = pd.DataFrame(Forecasted_values_df.to_numpy().ravel(order = 'F'), columns=[\"Forecasted_values\"])"
   ]
  },
  {
   "cell_type": "code",
   "execution_count": 86,
   "id": "8342aa85-97d4-4c5a-a021-81ef1edb027a",
   "metadata": {
    "scrolled": true
   },
   "outputs": [
    {
     "data": {
      "text/html": [
       "<div>\n",
       "<style scoped>\n",
       "    .dataframe tbody tr th:only-of-type {\n",
       "        vertical-align: middle;\n",
       "    }\n",
       "\n",
       "    .dataframe tbody tr th {\n",
       "        vertical-align: top;\n",
       "    }\n",
       "\n",
       "    .dataframe thead th {\n",
       "        text-align: right;\n",
       "    }\n",
       "</style>\n",
       "<table border=\"1\" class=\"dataframe\">\n",
       "  <thead>\n",
       "    <tr style=\"text-align: right;\">\n",
       "      <th></th>\n",
       "      <th>Forecasted_values</th>\n",
       "    </tr>\n",
       "  </thead>\n",
       "  <tbody>\n",
       "    <tr>\n",
       "      <th>0</th>\n",
       "      <td>6.443912</td>\n",
       "    </tr>\n",
       "    <tr>\n",
       "      <th>1</th>\n",
       "      <td>6.925376</td>\n",
       "    </tr>\n",
       "    <tr>\n",
       "      <th>2</th>\n",
       "      <td>5.376868</td>\n",
       "    </tr>\n",
       "    <tr>\n",
       "      <th>3</th>\n",
       "      <td>42.213665</td>\n",
       "    </tr>\n",
       "    <tr>\n",
       "      <th>4</th>\n",
       "      <td>17.525835</td>\n",
       "    </tr>\n",
       "  </tbody>\n",
       "</table>\n",
       "</div>"
      ],
      "text/plain": [
       "   Forecasted_values\n",
       "0           6.443912\n",
       "1           6.925376\n",
       "2           5.376868\n",
       "3          42.213665\n",
       "4          17.525835"
      ]
     },
     "execution_count": 86,
     "metadata": {},
     "output_type": "execute_result"
    }
   ],
   "source": [
    "exp_predicted_onecol.head()"
   ]
  },
  {
   "cell_type": "code",
   "execution_count": 87,
   "id": "a069bf97-37be-4353-a829-842b4eae8ef0",
   "metadata": {},
   "outputs": [
    {
     "data": {
      "text/html": [
       "<div>\n",
       "<style scoped>\n",
       "    .dataframe tbody tr th:only-of-type {\n",
       "        vertical-align: middle;\n",
       "    }\n",
       "\n",
       "    .dataframe tbody tr th {\n",
       "        vertical-align: top;\n",
       "    }\n",
       "\n",
       "    .dataframe thead th {\n",
       "        text-align: right;\n",
       "    }\n",
       "</style>\n",
       "<table border=\"1\" class=\"dataframe\">\n",
       "  <thead>\n",
       "    <tr style=\"text-align: right;\">\n",
       "      <th></th>\n",
       "      <th>Forecasted_values</th>\n",
       "    </tr>\n",
       "  </thead>\n",
       "  <tbody>\n",
       "    <tr>\n",
       "      <th>9627</th>\n",
       "      <td>0.017798</td>\n",
       "    </tr>\n",
       "    <tr>\n",
       "      <th>9628</th>\n",
       "      <td>0.020626</td>\n",
       "    </tr>\n",
       "    <tr>\n",
       "      <th>9629</th>\n",
       "      <td>0.030861</td>\n",
       "    </tr>\n",
       "    <tr>\n",
       "      <th>9630</th>\n",
       "      <td>0.034455</td>\n",
       "    </tr>\n",
       "    <tr>\n",
       "      <th>9631</th>\n",
       "      <td>0.033529</td>\n",
       "    </tr>\n",
       "  </tbody>\n",
       "</table>\n",
       "</div>"
      ],
      "text/plain": [
       "      Forecasted_values\n",
       "9627           0.017798\n",
       "9628           0.020626\n",
       "9629           0.030861\n",
       "9630           0.034455\n",
       "9631           0.033529"
      ]
     },
     "execution_count": 87,
     "metadata": {},
     "output_type": "execute_result"
    }
   ],
   "source": [
    "exp_predicted_onecol.tail()"
   ]
  },
  {
   "cell_type": "code",
   "execution_count": 88,
   "id": "8e28b95a-89e0-43c5-a9c3-e2cc1d432c89",
   "metadata": {},
   "outputs": [
    {
     "data": {
      "text/plain": [
       "(9632, 1)"
      ]
     },
     "execution_count": 88,
     "metadata": {},
     "output_type": "execute_result"
    }
   ],
   "source": [
    "exp_predicted_onecol.shape"
   ]
  },
  {
   "cell_type": "code",
   "execution_count": 89,
   "id": "f9ec5122-f42e-4c52-9318-d84cbf8df103",
   "metadata": {},
   "outputs": [],
   "source": [
    "# how many values are > 10? - 503 - This still feels like an absolutely high value. Should we change the priors? Need to look into this. \n",
    "# how many values are > 100? - 163\n",
    "# how many values are > 1000? - 58\n",
    "# how many values are > 10000? - 18\n",
    "# how many values are > 100000? - 5"
   ]
  },
  {
   "cell_type": "code",
   "execution_count": 90,
   "id": "da79a573-6833-429f-af4d-7a5c14e35319",
   "metadata": {},
   "outputs": [],
   "source": [
    "values_greater_than_10 = []\n",
    "greater_than_10_df_index = []\n",
    "for i, val in enumerate(range(exp_predicted_onecol.shape[0])):\n",
    "    value = exp_predicted_onecol['Forecasted_values'][val]\n",
    "    if value >= 10:\n",
    "        values_greater_than_10.append(value)\n",
    "        greater_than_10_df_index.append(i)"
   ]
  },
  {
   "cell_type": "code",
   "execution_count": 91,
   "id": "8cf6bcb1-c3c9-40a8-95eb-00154b199eff",
   "metadata": {},
   "outputs": [
    {
     "data": {
      "text/plain": [
       "1928"
      ]
     },
     "execution_count": 91,
     "metadata": {},
     "output_type": "execute_result"
    }
   ],
   "source": [
    "len(values_greater_than_10)"
   ]
  },
  {
   "cell_type": "code",
   "execution_count": 92,
   "id": "cc87cd9c-ab8d-44ef-a1a2-c47dce057068",
   "metadata": {},
   "outputs": [],
   "source": [
    "# values_greater_than_10"
   ]
  },
  {
   "cell_type": "code",
   "execution_count": 93,
   "id": "e6047afe-9129-4d9f-8a97-d9ee1d1fad09",
   "metadata": {},
   "outputs": [],
   "source": [
    "# greater_than_10_df_index"
   ]
  },
  {
   "cell_type": "code",
   "execution_count": 94,
   "id": "1830abf8-7086-4dca-8a38-2098f66574be",
   "metadata": {},
   "outputs": [],
   "source": [
    "# enumerate(exp_predicted_onecol['Forecasted_values'][0])"
   ]
  },
  {
   "cell_type": "code",
   "execution_count": 95,
   "id": "bfe30c60-3a4d-4a60-9d05-d305681fc9f2",
   "metadata": {},
   "outputs": [],
   "source": [
    "# I think at this point, we should be looking inot other blocks too, to see if we see weird results like this?"
   ]
  },
  {
   "cell_type": "code",
   "execution_count": 96,
   "id": "1e39fe2f-d205-4c7a-918a-22250ddf1694",
   "metadata": {},
   "outputs": [],
   "source": [
    "# compute the metrics - these would look really small as the values we have are really small"
   ]
  },
  {
   "cell_type": "code",
   "execution_count": 97,
   "id": "576837f9-1f0f-47e2-8959-4774323b2ead",
   "metadata": {},
   "outputs": [
    {
     "data": {
      "text/plain": [
       "834.4101571133955"
      ]
     },
     "execution_count": 97,
     "metadata": {},
     "output_type": "execute_result"
    }
   ],
   "source": [
    "# blockwise mean squared error\n",
    "rmse = np.sqrt(mean_squared_error(exp_true_onecol['True_values'], exp_predicted_onecol['Forecasted_values']))\n",
    "rmse"
   ]
  },
  {
   "cell_type": "code",
   "execution_count": 98,
   "id": "656c6ac0-86a7-4fde-b57a-24f5f5883080",
   "metadata": {},
   "outputs": [
    {
     "data": {
      "text/plain": [
       "53.626460028452904"
      ]
     },
     "execution_count": 98,
     "metadata": {},
     "output_type": "execute_result"
    }
   ],
   "source": [
    "mae = mean_absolute_error(exp_true_onecol['True_values'], exp_predicted_onecol['Forecasted_values'])\n",
    "mae"
   ]
  },
  {
   "cell_type": "code",
   "execution_count": 99,
   "id": "93072881-3eac-4c5e-916c-5fe8f59eb24f",
   "metadata": {},
   "outputs": [
    {
     "data": {
      "text/plain": [
       "0.07239922180423093"
      ]
     },
     "execution_count": 99,
     "metadata": {},
     "output_type": "execute_result"
    }
   ],
   "source": [
    "corr = pearsonr(exp_true_onecol['True_values'], exp_predicted_onecol['Forecasted_values'])\n",
    "corr[0]"
   ]
  },
  {
   "cell_type": "code",
   "execution_count": 100,
   "id": "601575da-140c-4069-ac87-868f310aeb54",
   "metadata": {},
   "outputs": [
    {
     "data": {
      "text/plain": [
       "-131390.04178283288"
      ]
     },
     "execution_count": 100,
     "metadata": {},
     "output_type": "execute_result"
    }
   ],
   "source": [
    "r2 = r2_score(exp_true_onecol['True_values'], exp_predicted_onecol['Forecasted_values'])\n",
    "r2"
   ]
  },
  {
   "cell_type": "code",
   "execution_count": 101,
   "id": "efe29cef-f6ed-4b8c-a115-fe17bfb0c2fb",
   "metadata": {},
   "outputs": [
    {
     "data": {
      "image/png": "[encoded data removed]",
      "text/plain": [
       "<Figure size 800x800 with 1 Axes>"
      ]
     },
     "metadata": {},
     "output_type": "display_data"
    }
   ],
   "source": [
    "plt.figure(figsize = (8,8))\n",
    "plt.scatter(exp_true_onecol['True_values'], exp_predicted_onecol['Forecasted_values'], s = 10)\n",
    "plt.xlabel(\"True density\")\n",
    "plt.ylabel(\"Predicted density\")\n",
    "# Add the y = x line\n",
    "plt.plot([0, 3], [0, 3], color='green', label='y = x')\n",
    "plt.legend()\n",
    "plt.show()"
   ]
  },
  {
   "cell_type": "code",
   "execution_count": 102,
   "id": "5b6bc4f5-948f-4ffd-94bf-67b6132b9586",
   "metadata": {},
   "outputs": [
    {
     "data": {
      "image/png": "[encoded data removed]",
      "text/plain": [
       "<Figure size 640x480 with 1 Axes>"
      ]
     },
     "metadata": {},
     "output_type": "display_data"
    }
   ],
   "source": [
    "# At this point let's look at the true and predicted value distributions - overlay the histograms\n",
    "\n",
    "# Plot histogram of two columns\n",
    "plt.hist(exp_true_onecol['True_values'], \n",
    "         bins=30, \n",
    "         label=[' True values'], \n",
    "         alpha=0.5, color = 'blue')  # alpha = transparency\n",
    "plt.hist(exp_predicted_onecol['Forecasted_values'], \n",
    "         bins=30, \n",
    "         label=['Predicted values'], \n",
    "         alpha=0.5, color = 'red') \n",
    "plt.xlabel(\"Value\")\n",
    "plt.ylabel(\"Frequency\")\n",
    "plt.title(\"Histogram of Two Columns\")\n",
    "plt.legend()\n",
    "plt.show()"
   ]
  },
  {
   "cell_type": "code",
   "execution_count": 103,
   "id": "d86e03d3-9dc9-438c-9442-82da8bdfe8ce",
   "metadata": {},
   "outputs": [],
   "source": [
    "# Should we try to get the values separated by 0s?"
   ]
  },
  {
   "cell_type": "code",
   "execution_count": 104,
   "id": "abe3c42d-1d1d-46c0-a6a8-9324236f0943",
   "metadata": {},
   "outputs": [],
   "source": [
    "# how to do this? Maybe we need to take the indices from the true values df, and subset accordingly?"
   ]
  },
  {
   "cell_type": "code",
   "execution_count": 105,
   "id": "b24b7cda-ac98-492c-a939-5c31a1a32046",
   "metadata": {},
   "outputs": [],
   "source": [
    "# so create a mask 0 with the true values 0s - we need the indices of this"
   ]
  },
  {
   "cell_type": "code",
   "execution_count": 106,
   "id": "1a6f9210-233b-4394-8573-bf9c8b943a61",
   "metadata": {},
   "outputs": [],
   "source": [
    "mask_zero = exp_true_onecol['True_values'].eq(0)"
   ]
  },
  {
   "cell_type": "code",
   "execution_count": 107,
   "id": "d471dc76-ee06-4aea-96fd-718fcd304a30",
   "metadata": {},
   "outputs": [],
   "source": [
    "# separate the zero and non-zero indices\n",
    "idx_zero = exp_true_onecol.index[mask_zero]\n",
    "idx_nonzero = exp_true_onecol.index[-mask_zero]"
   ]
  },
  {
   "cell_type": "code",
   "execution_count": 108,
   "id": "00c74624-2b63-4a24-964f-7d51f22ac673",
   "metadata": {},
   "outputs": [
    {
     "data": {
      "text/plain": [
       "(1131,)"
      ]
     },
     "execution_count": 108,
     "metadata": {},
     "output_type": "execute_result"
    }
   ],
   "source": [
    "# how many zero values?\n",
    "idx_zero.shape"
   ]
  },
  {
   "cell_type": "code",
   "execution_count": 109,
   "id": "7739f884-380a-49fe-b849-fe0f8ea4fe88",
   "metadata": {},
   "outputs": [
    {
     "data": {
      "text/plain": [
       "6370"
      ]
     },
     "execution_count": 109,
     "metadata": {},
     "output_type": "execute_result"
    }
   ],
   "source": [
    "910*7"
   ]
  },
  {
   "cell_type": "code",
   "execution_count": 110,
   "id": "f44c0120-4b6b-4ba9-8a64-d1261a00dcd0",
   "metadata": {},
   "outputs": [
    {
     "data": {
      "text/plain": [
       "(8501,)"
      ]
     },
     "execution_count": 110,
     "metadata": {},
     "output_type": "execute_result"
    }
   ],
   "source": [
    "# how many non-zeor values\n",
    "idx_nonzero.shape"
   ]
  },
  {
   "cell_type": "code",
   "execution_count": 111,
   "id": "63de6cf0-cc99-45e8-aa2c-30a7547da434",
   "metadata": {},
   "outputs": [
    {
     "data": {
      "text/plain": [
       "9632"
      ]
     },
     "execution_count": 111,
     "metadata": {},
     "output_type": "execute_result"
    }
   ],
   "source": [
    "# sanity check\n",
    "idx_nonzero.shape[0] + idx_zero.shape[0]"
   ]
  },
  {
   "cell_type": "code",
   "execution_count": 112,
   "id": "4a256064-8c76-431c-bc76-e721a1b7282a",
   "metadata": {},
   "outputs": [],
   "source": [
    "# Subset both dataframes with the same indices\n",
    "df_true_zero  = exp_true_onecol.loc[idx_zero]\n",
    "df_pred_zero  = exp_predicted_onecol.loc[idx_zero]\n",
    "df_true_nz    = exp_true_onecol.loc[idx_nonzero]\n",
    "df_pred_nz    = exp_predicted_onecol.loc[idx_nonzero]"
   ]
  },
  {
   "cell_type": "code",
   "execution_count": 113,
   "id": "3df123ca-fe8d-4482-8736-34c3b5128668",
   "metadata": {},
   "outputs": [
    {
     "data": {
      "text/plain": [
       "((1131, 1), (1131, 1))"
      ]
     },
     "execution_count": 113,
     "metadata": {},
     "output_type": "execute_result"
    }
   ],
   "source": [
    "df_true_zero.shape, df_pred_zero.shape"
   ]
  },
  {
   "cell_type": "code",
   "execution_count": 114,
   "id": "c3841a59-219e-4015-aef1-0c88dc839328",
   "metadata": {},
   "outputs": [
    {
     "data": {
      "text/html": [
       "<div>\n",
       "<style scoped>\n",
       "    .dataframe tbody tr th:only-of-type {\n",
       "        vertical-align: middle;\n",
       "    }\n",
       "\n",
       "    .dataframe tbody tr th {\n",
       "        vertical-align: top;\n",
       "    }\n",
       "\n",
       "    .dataframe thead th {\n",
       "        text-align: right;\n",
       "    }\n",
       "</style>\n",
       "<table border=\"1\" class=\"dataframe\">\n",
       "  <thead>\n",
       "    <tr style=\"text-align: right;\">\n",
       "      <th></th>\n",
       "      <th>True_values</th>\n",
       "    </tr>\n",
       "  </thead>\n",
       "  <tbody>\n",
       "    <tr>\n",
       "      <th>216</th>\n",
       "      <td>0.0</td>\n",
       "    </tr>\n",
       "    <tr>\n",
       "      <th>223</th>\n",
       "      <td>0.0</td>\n",
       "    </tr>\n",
       "    <tr>\n",
       "      <th>230</th>\n",
       "      <td>0.0</td>\n",
       "    </tr>\n",
       "    <tr>\n",
       "      <th>237</th>\n",
       "      <td>0.0</td>\n",
       "    </tr>\n",
       "    <tr>\n",
       "      <th>244</th>\n",
       "      <td>0.0</td>\n",
       "    </tr>\n",
       "  </tbody>\n",
       "</table>\n",
       "</div>"
      ],
      "text/plain": [
       "     True_values\n",
       "216          0.0\n",
       "223          0.0\n",
       "230          0.0\n",
       "237          0.0\n",
       "244          0.0"
      ]
     },
     "execution_count": 114,
     "metadata": {},
     "output_type": "execute_result"
    }
   ],
   "source": [
    "df_true_zero.head()"
   ]
  },
  {
   "cell_type": "code",
   "execution_count": 115,
   "id": "1713c839-a187-4043-9d24-0935778a2cc3",
   "metadata": {},
   "outputs": [
    {
     "data": {
      "text/html": [
       "<div>\n",
       "<style scoped>\n",
       "    .dataframe tbody tr th:only-of-type {\n",
       "        vertical-align: middle;\n",
       "    }\n",
       "\n",
       "    .dataframe tbody tr th {\n",
       "        vertical-align: top;\n",
       "    }\n",
       "\n",
       "    .dataframe thead th {\n",
       "        text-align: right;\n",
       "    }\n",
       "</style>\n",
       "<table border=\"1\" class=\"dataframe\">\n",
       "  <thead>\n",
       "    <tr style=\"text-align: right;\">\n",
       "      <th></th>\n",
       "      <th>Forecasted_values</th>\n",
       "    </tr>\n",
       "  </thead>\n",
       "  <tbody>\n",
       "    <tr>\n",
       "      <th>216</th>\n",
       "      <td>8.688525</td>\n",
       "    </tr>\n",
       "    <tr>\n",
       "      <th>223</th>\n",
       "      <td>9.833511</td>\n",
       "    </tr>\n",
       "    <tr>\n",
       "      <th>230</th>\n",
       "      <td>7.793440</td>\n",
       "    </tr>\n",
       "    <tr>\n",
       "      <th>237</th>\n",
       "      <td>7.879281</td>\n",
       "    </tr>\n",
       "    <tr>\n",
       "      <th>244</th>\n",
       "      <td>5.910476</td>\n",
       "    </tr>\n",
       "  </tbody>\n",
       "</table>\n",
       "</div>"
      ],
      "text/plain": [
       "     Forecasted_values\n",
       "216           8.688525\n",
       "223           9.833511\n",
       "230           7.793440\n",
       "237           7.879281\n",
       "244           5.910476"
      ]
     },
     "execution_count": 115,
     "metadata": {},
     "output_type": "execute_result"
    }
   ],
   "source": [
    "df_pred_zero.head()"
   ]
  },
  {
   "cell_type": "code",
   "execution_count": 116,
   "id": "7cb5d3a4-a298-457a-99ff-d39149186ad7",
   "metadata": {},
   "outputs": [
    {
     "data": {
      "text/html": [
       "<div>\n",
       "<style scoped>\n",
       "    .dataframe tbody tr th:only-of-type {\n",
       "        vertical-align: middle;\n",
       "    }\n",
       "\n",
       "    .dataframe tbody tr th {\n",
       "        vertical-align: top;\n",
       "    }\n",
       "\n",
       "    .dataframe thead th {\n",
       "        text-align: right;\n",
       "    }\n",
       "</style>\n",
       "<table border=\"1\" class=\"dataframe\">\n",
       "  <thead>\n",
       "    <tr style=\"text-align: right;\">\n",
       "      <th></th>\n",
       "      <th>True_values</th>\n",
       "    </tr>\n",
       "  </thead>\n",
       "  <tbody>\n",
       "    <tr>\n",
       "      <th>0</th>\n",
       "      <td>7.997484</td>\n",
       "    </tr>\n",
       "    <tr>\n",
       "      <th>1</th>\n",
       "      <td>7.000000</td>\n",
       "    </tr>\n",
       "    <tr>\n",
       "      <th>2</th>\n",
       "      <td>6.999308</td>\n",
       "    </tr>\n",
       "    <tr>\n",
       "      <th>3</th>\n",
       "      <td>5.999997</td>\n",
       "    </tr>\n",
       "    <tr>\n",
       "      <th>4</th>\n",
       "      <td>4.000031</td>\n",
       "    </tr>\n",
       "  </tbody>\n",
       "</table>\n",
       "</div>"
      ],
      "text/plain": [
       "   True_values\n",
       "0     7.997484\n",
       "1     7.000000\n",
       "2     6.999308\n",
       "3     5.999997\n",
       "4     4.000031"
      ]
     },
     "execution_count": 116,
     "metadata": {},
     "output_type": "execute_result"
    }
   ],
   "source": [
    "df_true_nz.head()"
   ]
  },
  {
   "cell_type": "code",
   "execution_count": 117,
   "id": "4d6ceb8e-f387-49c4-937f-23c284c6158d",
   "metadata": {},
   "outputs": [
    {
     "data": {
      "text/html": [
       "<div>\n",
       "<style scoped>\n",
       "    .dataframe tbody tr th:only-of-type {\n",
       "        vertical-align: middle;\n",
       "    }\n",
       "\n",
       "    .dataframe tbody tr th {\n",
       "        vertical-align: top;\n",
       "    }\n",
       "\n",
       "    .dataframe thead th {\n",
       "        text-align: right;\n",
       "    }\n",
       "</style>\n",
       "<table border=\"1\" class=\"dataframe\">\n",
       "  <thead>\n",
       "    <tr style=\"text-align: right;\">\n",
       "      <th></th>\n",
       "      <th>Forecasted_values</th>\n",
       "    </tr>\n",
       "  </thead>\n",
       "  <tbody>\n",
       "    <tr>\n",
       "      <th>0</th>\n",
       "      <td>6.443912</td>\n",
       "    </tr>\n",
       "    <tr>\n",
       "      <th>1</th>\n",
       "      <td>6.925376</td>\n",
       "    </tr>\n",
       "    <tr>\n",
       "      <th>2</th>\n",
       "      <td>5.376868</td>\n",
       "    </tr>\n",
       "    <tr>\n",
       "      <th>3</th>\n",
       "      <td>42.213665</td>\n",
       "    </tr>\n",
       "    <tr>\n",
       "      <th>4</th>\n",
       "      <td>17.525835</td>\n",
       "    </tr>\n",
       "  </tbody>\n",
       "</table>\n",
       "</div>"
      ],
      "text/plain": [
       "   Forecasted_values\n",
       "0           6.443912\n",
       "1           6.925376\n",
       "2           5.376868\n",
       "3          42.213665\n",
       "4          17.525835"
      ]
     },
     "execution_count": 117,
     "metadata": {},
     "output_type": "execute_result"
    }
   ],
   "source": [
    "df_pred_nz.head()"
   ]
  },
  {
   "cell_type": "code",
   "execution_count": 118,
   "id": "fa6515be-c487-4d90-a7f7-7ae9aac98be8",
   "metadata": {},
   "outputs": [],
   "source": [
    "# create the separate scatterplots for these"
   ]
  },
  {
   "cell_type": "code",
   "execution_count": 119,
   "id": "5b1be166-8641-4ef5-af70-386326b2c989",
   "metadata": {},
   "outputs": [
    {
     "data": {
      "image/png": "[encoded data removed]",
      "text/plain": [
       "<Figure size 800x800 with 1 Axes>"
      ]
     },
     "metadata": {},
     "output_type": "display_data"
    }
   ],
   "source": [
    "# For zero-data\n",
    "plt.figure(figsize = (8,8))\n",
    "plt.scatter(df_true_zero['True_values'], df_pred_zero['Forecasted_values'], s = 10)\n",
    "plt.title(\"Scatter plot when the True densities are zeros\")\n",
    "plt.xlabel(\"True densities\")\n",
    "plt.ylabel(\"Forecasted densities\")\n",
    "plt.show()"
   ]
  },
  {
   "cell_type": "code",
   "execution_count": 120,
   "id": "81177e50-319f-41e7-bded-f0cb4194812b",
   "metadata": {},
   "outputs": [
    {
     "data": {
      "image/png": "[encoded data removed]",
      "text/plain": [
       "<Figure size 640x480 with 1 Axes>"
      ]
     },
     "metadata": {},
     "output_type": "display_data"
    }
   ],
   "source": [
    "# Plot histogram of two columns\n",
    "plt.hist(df_true_zero['True_values'], \n",
    "         bins=30, \n",
    "         label=[' True values'], \n",
    "         alpha=0.5, color = 'blue')  # alpha = transparency\n",
    "plt.hist(df_pred_zero['Forecasted_values'], \n",
    "         bins=30, \n",
    "         label=['Predicted values'], \n",
    "         alpha=0.5, color = 'red') \n",
    "plt.xlabel(\"Value\")\n",
    "plt.ylabel(\"Frequency\")\n",
    "plt.title(\"Histogram of Two Columns\")\n",
    "plt.legend()\n",
    "plt.show()"
   ]
  },
  {
   "cell_type": "code",
   "execution_count": 121,
   "id": "1fb0724b-bfa0-40fc-ac2b-f249f807788a",
   "metadata": {},
   "outputs": [
    {
     "data": {
      "image/png": "[encoded data removed]",
      "text/plain": [
       "<Figure size 800x800 with 1 Axes>"
      ]
     },
     "metadata": {},
     "output_type": "display_data"
    }
   ],
   "source": [
    "# For non-zero data\n",
    "plt.figure(figsize = (8,8))\n",
    "plt.scatter(df_true_nz['True_values'], df_pred_nz['Forecasted_values'], s = 10)\n",
    "plt.title(\"Scatter plot when the True densities are non-zeros\")\n",
    "# also plot the y = x line?\n",
    "plt.plot([0, 3], [0, 3], color='green', label='y = x')\n",
    "plt.xlabel(\"True densities\")\n",
    "plt.ylabel(\"Forecasted densities\")\n",
    "plt.show()"
   ]
  },
  {
   "cell_type": "code",
   "execution_count": 122,
   "id": "667b1664-b6e7-433c-97c4-a6f52fd02dea",
   "metadata": {},
   "outputs": [
    {
     "data": {
      "image/png": "[encoded data removed]",
      "text/plain": [
       "<Figure size 640x480 with 1 Axes>"
      ]
     },
     "metadata": {},
     "output_type": "display_data"
    }
   ],
   "source": [
    "# Plot histogram of two columns\n",
    "plt.hist(df_true_nz['True_values'], \n",
    "         bins=30, \n",
    "         label=[' True values'], \n",
    "         alpha=0.5, color = 'blue')  # alpha = transparency\n",
    "plt.hist(df_pred_nz['Forecasted_values'], \n",
    "         bins=30, \n",
    "         label=['Predicted values'], \n",
    "         alpha=0.5, color = 'red') \n",
    "plt.xlabel(\"Value\")\n",
    "plt.ylabel(\"Frequency\")\n",
    "plt.title(\"Histogram of Two Columns\")\n",
    "plt.legend()\n",
    "plt.show()"
   ]
  },
  {
   "cell_type": "code",
   "execution_count": 123,
   "id": "7f15c23f-13fa-4a4c-8f9e-91a286fe3ecb",
   "metadata": {},
   "outputs": [],
   "source": [
    "# not that great - but maybe the model is not doing as well as we need due to the number of zeros we had considered during the model training phase?"
   ]
  },
  {
   "cell_type": "code",
   "execution_count": 124,
   "id": "09b5a98a-8355-4906-9dc6-6c04080878d5",
   "metadata": {},
   "outputs": [],
   "source": [
    "# Maybe get the metrics for teh reduced subsets of data as well"
   ]
  },
  {
   "cell_type": "code",
   "execution_count": 125,
   "id": "daf790da-d6e2-4b26-ba0f-c4bba44003a5",
   "metadata": {},
   "outputs": [],
   "source": [
    "# All zeros"
   ]
  },
  {
   "cell_type": "code",
   "execution_count": 126,
   "id": "8f00c90b-e894-4fe5-a5a1-59bc88819f8f",
   "metadata": {},
   "outputs": [
    {
     "data": {
      "text/plain": [
       "1.263832531045776"
      ]
     },
     "execution_count": 126,
     "metadata": {},
     "output_type": "execute_result"
    }
   ],
   "source": [
    "rmse_zero =  np.sqrt(mean_squared_error(df_true_zero['True_values'], df_pred_zero['Forecasted_values']))\n",
    "rmse_zero"
   ]
  },
  {
   "cell_type": "code",
   "execution_count": 127,
   "id": "3d662c70-2756-4907-8a23-5230d48df1f1",
   "metadata": {},
   "outputs": [
    {
     "data": {
      "text/plain": [
       "0.8226598848660405"
      ]
     },
     "execution_count": 127,
     "metadata": {},
     "output_type": "execute_result"
    }
   ],
   "source": [
    "mae_zero = mean_absolute_error(df_true_zero['True_values'], df_pred_zero['Forecasted_values'])\n",
    "mae_zero"
   ]
  },
  {
   "cell_type": "code",
   "execution_count": 128,
   "id": "1aba16bc-daa8-477e-b2d8-9f7c0ebe6cb5",
   "metadata": {},
   "outputs": [
    {
     "name": "stderr",
     "output_type": "stream",
     "text": [
      "/mnt/nrdstor/statsgeneral/gayara/tfp_cpu_env/lib/python3.11/site-packages/scipy/stats/_stats_py.py:4781: ConstantInputWarning: An input array is constant; the correlation coefficient is not defined.\n",
      "  warnings.warn(stats.ConstantInputWarning(msg))\n"
     ]
    }
   ],
   "source": [
    "corr_zero = pearsonr(df_true_zero['True_values'], df_pred_zero['Forecasted_values'])"
   ]
  },
  {
   "cell_type": "code",
   "execution_count": 129,
   "id": "8dc223f6-3ef1-4e38-bdfa-17b7d3355b65",
   "metadata": {},
   "outputs": [
    {
     "data": {
      "text/plain": [
       "PearsonRResult(statistic=nan, pvalue=nan)"
      ]
     },
     "execution_count": 129,
     "metadata": {},
     "output_type": "execute_result"
    }
   ],
   "source": [
    "corr_zero"
   ]
  },
  {
   "cell_type": "code",
   "execution_count": 130,
   "id": "0fbe3d09-1068-4c48-8b75-ec1a0528b271",
   "metadata": {},
   "outputs": [
    {
     "data": {
      "text/plain": [
       "-178375.1608759352"
      ]
     },
     "execution_count": 130,
     "metadata": {},
     "output_type": "execute_result"
    }
   ],
   "source": [
    "r2_zero = r2_score(df_true_nz['True_values'], df_pred_nz['Forecasted_values'])\n",
    "r2_zero"
   ]
  },
  {
   "cell_type": "code",
   "execution_count": 131,
   "id": "ce72776f-ad77-4356-a433-85f9d97b7813",
   "metadata": {},
   "outputs": [],
   "source": [
    "# non zeros"
   ]
  },
  {
   "cell_type": "code",
   "execution_count": 132,
   "id": "e61c34f7-e6bc-4aab-bee8-a42fff986316",
   "metadata": {},
   "outputs": [
    {
     "data": {
      "text/plain": [
       "888.1836052978946"
      ]
     },
     "execution_count": 132,
     "metadata": {},
     "output_type": "execute_result"
    }
   ],
   "source": [
    "rmse_nzero =  np.sqrt(mean_squared_error(df_true_nz['True_values'], df_pred_nz['Forecasted_values']))\n",
    "rmse_nzero"
   ]
  },
  {
   "cell_type": "code",
   "execution_count": 133,
   "id": "e49def21-cecd-42cc-b893-dcde7152f111",
   "metadata": {},
   "outputs": [
    {
     "data": {
      "text/plain": [
       "60.65164506108397"
      ]
     },
     "execution_count": 133,
     "metadata": {},
     "output_type": "execute_result"
    }
   ],
   "source": [
    "mae_nzero = mean_absolute_error(df_true_nz['True_values'], df_pred_nz['Forecasted_values'])\n",
    "mae_nzero"
   ]
  },
  {
   "cell_type": "code",
   "execution_count": 134,
   "id": "50b9cafd-40de-48ca-836c-61cdbf218ff2",
   "metadata": {},
   "outputs": [],
   "source": [
    "corr_nzero = pearsonr(df_true_nz['True_values'], df_pred_nz['Forecasted_values'])"
   ]
  },
  {
   "cell_type": "code",
   "execution_count": 135,
   "id": "7ad869be-4d69-4476-a3ed-9f58856d7b4c",
   "metadata": {},
   "outputs": [
    {
     "data": {
      "text/plain": [
       "PearsonRResult(statistic=0.06982446602668207, pvalue=1.1575581025064664e-10)"
      ]
     },
     "execution_count": 135,
     "metadata": {},
     "output_type": "execute_result"
    }
   ],
   "source": [
    "corr_nzero"
   ]
  },
  {
   "cell_type": "code",
   "execution_count": 136,
   "id": "9f381cc1-4d60-4cff-9186-51c402041846",
   "metadata": {},
   "outputs": [
    {
     "data": {
      "text/plain": [
       "-178375.1608759352"
      ]
     },
     "execution_count": 136,
     "metadata": {},
     "output_type": "execute_result"
    }
   ],
   "source": [
    "r2_nzero = r2_score(df_true_nz['True_values'], df_pred_nz['Forecasted_values'])\n",
    "r2_nzero"
   ]
  },
  {
   "cell_type": "markdown",
   "id": "3e6d46d1-da3f-4e0b-85e4-07d9150143c3",
   "metadata": {},
   "source": [
    "Credible Intervals"
   ]
  },
  {
   "cell_type": "code",
   "execution_count": 137,
   "id": "d1283353-ccf4-4640-9443-060c86a177c9",
   "metadata": {},
   "outputs": [],
   "source": [
    "all_forecasts_npy_files = ['all_forecasts_sub_' + str(i) + '.npy' for i in range(1376)]"
   ]
  },
  {
   "cell_type": "code",
   "execution_count": 138,
   "id": "46efa0a7-a942-431d-8540-cc8f57a8fe0e",
   "metadata": {},
   "outputs": [
    {
     "name": "stdout",
     "output_type": "stream",
     "text": [
      "CPU times: user 372 ms, sys: 82.2 ms, total: 454 ms\n",
      "Wall time: 456 ms\n"
     ]
    }
   ],
   "source": [
    "%%time\n",
    "loaded_npy_files = []\n",
    "for file in all_forecasts_npy_files:\n",
    "    joined_path = os.path.join(path_to_dfs, file)\n",
    "    load_file = np.load(joined_path)\n",
    "    # notice we are averaging the preds across the chains before exponentiation\n",
    "    mean_file = np.mean(np.exp(load_file)-1, axis = 1)\n",
    "    loaded_npy_files.append(mean_file)"
   ]
  },
  {
   "cell_type": "code",
   "execution_count": 139,
   "id": "95532003-d9ec-4003-b0cc-050441d4bc64",
   "metadata": {},
   "outputs": [
    {
     "data": {
      "text/plain": [
       "1376"
      ]
     },
     "execution_count": 139,
     "metadata": {},
     "output_type": "execute_result"
    }
   ],
   "source": [
    "len(loaded_npy_files)"
   ]
  },
  {
   "cell_type": "code",
   "execution_count": 140,
   "id": "8852a620-9f09-4a6a-9abc-261e466b7100",
   "metadata": {},
   "outputs": [
    {
     "data": {
      "text/plain": [
       "(1000, 7)"
      ]
     },
     "execution_count": 140,
     "metadata": {},
     "output_type": "execute_result"
    }
   ],
   "source": [
    "loaded_npy_files[0].shape"
   ]
  },
  {
   "cell_type": "code",
   "execution_count": 141,
   "id": "1a8bf2d5-72e2-4e66-842b-f740bc32d6c4",
   "metadata": {},
   "outputs": [],
   "source": [
    "# Maybe we should not get rid of the negatives? - As for the percentiles we will else never capture the true values of zeros?"
   ]
  },
  {
   "cell_type": "code",
   "execution_count": 142,
   "id": "0568b502-103f-4a04-8242-7031d19cc3ca",
   "metadata": {},
   "outputs": [],
   "source": [
    "# yeah, let's proceed with these"
   ]
  },
  {
   "cell_type": "code",
   "execution_count": 143,
   "id": "891cf483-19f4-4201-93c3-d5c089a68273",
   "metadata": {},
   "outputs": [],
   "source": [
    "# how to arrange these though? - might need to think this through a little"
   ]
  },
  {
   "cell_type": "code",
   "execution_count": 144,
   "id": "c671730f-2a6b-4387-9429-ffe7c02fa813",
   "metadata": {},
   "outputs": [
    {
     "data": {
      "text/plain": [
       "(7, 1376)"
      ]
     },
     "execution_count": 144,
     "metadata": {},
     "output_type": "execute_result"
    }
   ],
   "source": [
    "exp_true.shape"
   ]
  },
  {
   "cell_type": "code",
   "execution_count": 145,
   "id": "2a8f28f9-a6da-48e2-bb39-df328db746a5",
   "metadata": {},
   "outputs": [],
   "source": [
    "# where is the lsit of the forecasted range of values? - loaded_npy_files"
   ]
  },
  {
   "cell_type": "code",
   "execution_count": 146,
   "id": "9f0f8a25-8d35-4208-b291-268acdd6f166",
   "metadata": {},
   "outputs": [
    {
     "data": {
      "text/plain": [
       "1376"
      ]
     },
     "execution_count": 146,
     "metadata": {},
     "output_type": "execute_result"
    }
   ],
   "source": [
    "len(loaded_npy_files)"
   ]
  },
  {
   "cell_type": "code",
   "execution_count": 147,
   "id": "926e5ada-5d73-4773-84d0-9dda13f0013b",
   "metadata": {},
   "outputs": [
    {
     "data": {
      "text/plain": [
       "(1000, 7)"
      ]
     },
     "execution_count": 147,
     "metadata": {},
     "output_type": "execute_result"
    }
   ],
   "source": [
    "loaded_npy_files[0].shape"
   ]
  },
  {
   "cell_type": "code",
   "execution_count": 148,
   "id": "491757f8-1e87-44dc-b6b6-a3064d5b59d5",
   "metadata": {},
   "outputs": [],
   "source": [
    "# Okay, I think we need to move along the loaded file and also its axis 1 to get the percentile values in order."
   ]
  },
  {
   "cell_type": "code",
   "execution_count": 149,
   "id": "af429823-492f-462a-b26d-d41fbae4ad01",
   "metadata": {},
   "outputs": [],
   "source": [
    "# create a for loop for this? - and later maybe even a function so we do not need to repeat everything for each block separately"
   ]
  },
  {
   "cell_type": "code",
   "execution_count": 150,
   "id": "22caf338-e41f-409a-b915-bfb50a007f97",
   "metadata": {},
   "outputs": [],
   "source": [
    "# I think we also need to catch the percentiles?"
   ]
  },
  {
   "cell_type": "code",
   "execution_count": 151,
   "id": "1437bde4-4fd9-4ec0-b08d-a11325b900d6",
   "metadata": {},
   "outputs": [],
   "source": [
    "# Let's try all these?"
   ]
  },
  {
   "cell_type": "code",
   "execution_count": 152,
   "id": "66e12086-ceec-4e68-8d58-17dc6840293e",
   "metadata": {},
   "outputs": [],
   "source": [
    "trial_0 = loaded_npy_files[0][:,0]"
   ]
  },
  {
   "cell_type": "code",
   "execution_count": 153,
   "id": "a5991ee6-71f2-4aa9-816d-9f4790a62863",
   "metadata": {},
   "outputs": [
    {
     "data": {
      "text/plain": [
       "(1000,)"
      ]
     },
     "execution_count": 153,
     "metadata": {},
     "output_type": "execute_result"
    }
   ],
   "source": [
    "trial_0.shape"
   ]
  },
  {
   "cell_type": "code",
   "execution_count": 154,
   "id": "9b5136d7-ccfe-4112-bca5-e84c6a6245d7",
   "metadata": {},
   "outputs": [],
   "source": [
    "trial_li = np.percentile(trial_0, axis = 0, q = (2.5, 97.5))"
   ]
  },
  {
   "cell_type": "code",
   "execution_count": 155,
   "id": "f929943f-8c47-4318-a753-d5c1a537d1a1",
   "metadata": {},
   "outputs": [],
   "source": [
    "# trial_0.min(), trial_0.max()"
   ]
  },
  {
   "cell_type": "code",
   "execution_count": 156,
   "id": "74a56faa-f47f-42ed-a93e-de996cd92268",
   "metadata": {},
   "outputs": [
    {
     "data": {
      "text/plain": [
       "array([4.66188439, 8.81821468])"
      ]
     },
     "execution_count": 156,
     "metadata": {},
     "output_type": "execute_result"
    }
   ],
   "source": [
    "trial_li"
   ]
  },
  {
   "cell_type": "code",
   "execution_count": 157,
   "id": "ac802cff-8d84-49de-b0fb-3200b79f7317",
   "metadata": {},
   "outputs": [
    {
     "data": {
      "text/plain": [
       "(4.661884391307831, 8.818214678764342)"
      ]
     },
     "execution_count": 157,
     "metadata": {},
     "output_type": "execute_result"
    }
   ],
   "source": [
    "trial_li[0], trial_li[1]"
   ]
  },
  {
   "cell_type": "code",
   "execution_count": 158,
   "id": "43327cdf-ac00-461a-9fee-51233f414f2b",
   "metadata": {},
   "outputs": [],
   "source": [
    "lower_and_upper_limits = [] \n",
    "for j in range(loaded_npy_files[0].shape[1]):\n",
    "    values = loaded_npy_files[0][:,j]\n",
    "    # compute the lower and upper bounds?\n",
    "    li = np.percentile(values, axis = 0, q = (2.5, 97.5))[0]    \n",
    "    ui = np.percentile(values, axis = 0, q = (2.5, 97.5))[1]\n",
    "    lower_and_upper_limits.append((li, ui))"
   ]
  },
  {
   "cell_type": "code",
   "execution_count": 159,
   "id": "0593dae1-4d70-48b3-88f1-9a0964be600e",
   "metadata": {},
   "outputs": [
    {
     "data": {
      "text/plain": [
       "[(4.661884391307831, 8.818214678764342),\n",
       " (5.165213739871978, 9.26061406135559),\n",
       " (3.9125468611717222, 7.249611616134643),\n",
       " (11.935397243499756, 122.22638645172118),\n",
       " (8.384459233283996, 34.41663494110107),\n",
       " (8.735920691490174, 30.76369352340698),\n",
       " (8.19217278957367, 30.919425868988032)]"
      ]
     },
     "execution_count": 159,
     "metadata": {},
     "output_type": "execute_result"
    }
   ],
   "source": [
    "lower_and_upper_limits"
   ]
  },
  {
   "cell_type": "code",
   "execution_count": 160,
   "id": "46213b78-ec25-4f81-add5-42a6d15bfcfe",
   "metadata": {},
   "outputs": [
    {
     "name": "stdout",
     "output_type": "stream",
     "text": [
      "CPU times: user 1.34 s, sys: 1.51 ms, total: 1.35 s\n",
      "Wall time: 1.35 s\n"
     ]
    }
   ],
   "source": [
    "%%time\n",
    "# Do this for all files?\n",
    "catch_all_percentiles = []\n",
    "for i in range(len(loaded_npy_files)):\n",
    "    all_lower_and_upper_limits = [] \n",
    "    for j in range(loaded_npy_files[i].shape[1]):\n",
    "        values = loaded_npy_files[i][:,j]\n",
    "        # compute the lower and upper bounds?\n",
    "        li = np.percentile(values, axis = 0, q = (2.5, 97.5))[0]    \n",
    "        ui = np.percentile(values, axis = 0, q = (2.5, 97.5))[1]\n",
    "        all_lower_and_upper_limits.append((li, ui))\n",
    "    catch_all_percentiles.append(all_lower_and_upper_limits)\n",
    "    "
   ]
  },
  {
   "cell_type": "code",
   "execution_count": 161,
   "id": "ff1bf688-0f0a-4703-9056-471c60e793b7",
   "metadata": {},
   "outputs": [
    {
     "data": {
      "text/plain": [
       "1376"
      ]
     },
     "execution_count": 161,
     "metadata": {},
     "output_type": "execute_result"
    }
   ],
   "source": [
    "len(catch_all_percentiles)"
   ]
  },
  {
   "cell_type": "code",
   "execution_count": 162,
   "id": "02db8873-f844-4dc6-b6ae-c04aca24099d",
   "metadata": {},
   "outputs": [],
   "source": [
    "catch_inside_length = []\n",
    "for limit_values in catch_all_percentiles:\n",
    "    length = len(limit_values)\n",
    "    catch_inside_length.append(length)"
   ]
  },
  {
   "cell_type": "code",
   "execution_count": 163,
   "id": "e6d08eb0-1132-465d-8e8d-cb39b675da4e",
   "metadata": {},
   "outputs": [
    {
     "data": {
      "text/plain": [
       "7.0"
      ]
     },
     "execution_count": 163,
     "metadata": {},
     "output_type": "execute_result"
    }
   ],
   "source": [
    "np.mean(catch_inside_length)"
   ]
  },
  {
   "cell_type": "code",
   "execution_count": 164,
   "id": "ee051bb6-0d20-44c2-bba4-aed93879566e",
   "metadata": {},
   "outputs": [],
   "source": [
    "# We may need a multitude of sanity checks to make sure we are correctly computing the coverages and widths. Now at this point, we can go ahead and compute the CI widths using the credible intervals? As this computation seems fairly simple?"
   ]
  },
  {
   "cell_type": "code",
   "execution_count": 165,
   "id": "0e25abcb-7754-4f52-b879-6fefe82dca8a",
   "metadata": {},
   "outputs": [
    {
     "data": {
      "text/plain": [
       "7"
      ]
     },
     "execution_count": 165,
     "metadata": {},
     "output_type": "execute_result"
    }
   ],
   "source": [
    "len(catch_all_percentiles[0])"
   ]
  },
  {
   "cell_type": "code",
   "execution_count": 166,
   "id": "503f2147-13d7-40b2-8920-ee4ccc007aeb",
   "metadata": {},
   "outputs": [],
   "source": [
    "all_percentiles_for_widths = [item for limit_values in catch_all_percentiles for item in limit_values]"
   ]
  },
  {
   "cell_type": "code",
   "execution_count": 167,
   "id": "767da887-164b-4d35-ae5d-9928181abc1a",
   "metadata": {},
   "outputs": [
    {
     "data": {
      "text/plain": [
       "9632"
      ]
     },
     "execution_count": 167,
     "metadata": {},
     "output_type": "execute_result"
    }
   ],
   "source": [
    "len(all_percentiles_for_widths)"
   ]
  },
  {
   "cell_type": "code",
   "execution_count": 168,
   "id": "9cb5f303-b818-4dc1-beb1-427c50c411c3",
   "metadata": {},
   "outputs": [],
   "source": [
    "# do some sanity check?"
   ]
  },
  {
   "cell_type": "code",
   "execution_count": 169,
   "id": "8472812a-8ded-468a-b778-8cee8f86a68c",
   "metadata": {},
   "outputs": [
    {
     "data": {
      "text/plain": [
       "[(4.95982186794281, 8.72539916038513),\n",
       " (5.096383166313172, 9.349065780639648),\n",
       " (3.6581962406635284, 6.954628586769103),\n",
       " (12.867823386192322, 67.24300842285155),\n",
       " (9.495571255683899, 29.392969942092893),\n",
       " (9.002636885643005, 26.89540519714355),\n",
       " (9.008719849586488, 27.941008377075196)]"
      ]
     },
     "execution_count": 169,
     "metadata": {},
     "output_type": "execute_result"
    }
   ],
   "source": [
    "catch_all_percentiles[1]"
   ]
  },
  {
   "cell_type": "code",
   "execution_count": 170,
   "id": "becf777c-14a3-4bbd-9e66-a208d7c91298",
   "metadata": {},
   "outputs": [
    {
     "data": {
      "text/plain": [
       "[(4.95982186794281, 8.72539916038513),\n",
       " (5.096383166313172, 9.349065780639648),\n",
       " (3.6581962406635284, 6.954628586769103),\n",
       " (12.867823386192322, 67.24300842285155),\n",
       " (9.495571255683899, 29.392969942092893),\n",
       " (9.002636885643005, 26.89540519714355),\n",
       " (9.008719849586488, 27.941008377075196)]"
      ]
     },
     "execution_count": 170,
     "metadata": {},
     "output_type": "execute_result"
    }
   ],
   "source": [
    "all_percentiles_for_widths[7:14]"
   ]
  },
  {
   "cell_type": "code",
   "execution_count": 171,
   "id": "7cd4c952-1194-4eb4-9b2a-b18bed651de7",
   "metadata": {},
   "outputs": [],
   "source": [
    "# seems this is right, let's move forward with the computation of the CI widths?"
   ]
  },
  {
   "cell_type": "code",
   "execution_count": 172,
   "id": "9e7d3cfe-96de-4650-8797-46ecba615862",
   "metadata": {},
   "outputs": [],
   "source": [
    "catch_wdths = []\n",
    "for values in all_percentiles_for_widths:\n",
    "    width = values[1] - values[0]\n",
    "    catch_wdths.append(width)"
   ]
  },
  {
   "cell_type": "code",
   "execution_count": 173,
   "id": "13b70b3e-2a3d-4a46-b0bd-c5837cc55588",
   "metadata": {},
   "outputs": [
    {
     "data": {
      "text/plain": [
       "230.4928150118788"
      ]
     },
     "execution_count": 173,
     "metadata": {},
     "output_type": "execute_result"
    }
   ],
   "source": [
    "# average CI width\n",
    "Average_CI_width = np.mean(catch_wdths)\n",
    "Average_CI_width"
   ]
  },
  {
   "cell_type": "code",
   "execution_count": 174,
   "id": "91d4f750-ced3-4a77-8d90-1c5d7c6ea281",
   "metadata": {},
   "outputs": [],
   "source": [
    "# do a few sanity checks  before we proceed?"
   ]
  },
  {
   "cell_type": "code",
   "execution_count": 175,
   "id": "9107c4fd-a1f0-4f25-b0c1-1a2c74a2c910",
   "metadata": {},
   "outputs": [
    {
     "data": {
      "text/plain": [
       "[4.156330287456511,\n",
       " 4.095400321483611,\n",
       " 3.3370647549629204,\n",
       " 110.29098920822143,\n",
       " 26.032175707817075,\n",
       " 22.027772831916806,\n",
       " 22.72725307941436]"
      ]
     },
     "execution_count": 175,
     "metadata": {},
     "output_type": "execute_result"
    }
   ],
   "source": [
    "catch_wdths[0:7]"
   ]
  },
  {
   "cell_type": "code",
   "execution_count": 176,
   "id": "60f9d8eb-9b91-464c-bb0c-590abba2362f",
   "metadata": {},
   "outputs": [
    {
     "name": "stdout",
     "output_type": "stream",
     "text": [
      "4.156330287456511\n",
      "4.095400321483611\n",
      "3.3370647549629204\n",
      "110.29098920822143\n",
      "26.032175707817075\n",
      "22.027772831916806\n",
      "22.72725307941436\n"
     ]
    }
   ],
   "source": [
    "print(catch_all_percentiles[0][0][1] - catch_all_percentiles[0][0][0])\n",
    "print(catch_all_percentiles[0][1][1] - catch_all_percentiles[0][1][0])\n",
    "print(catch_all_percentiles[0][2][1] - catch_all_percentiles[0][2][0])\n",
    "print(catch_all_percentiles[0][3][1] - catch_all_percentiles[0][3][0])\n",
    "print(catch_all_percentiles[0][4][1] - catch_all_percentiles[0][4][0])\n",
    "print(catch_all_percentiles[0][5][1] - catch_all_percentiles[0][5][0])\n",
    "print(catch_all_percentiles[0][6][1] - catch_all_percentiles[0][6][0])"
   ]
  },
  {
   "cell_type": "code",
   "execution_count": 177,
   "id": "f466fcea-eff8-4b63-9540-767821406287",
   "metadata": {},
   "outputs": [],
   "source": [
    "# Okay, we can move on now"
   ]
  },
  {
   "cell_type": "code",
   "execution_count": 178,
   "id": "b5a8d271-ed68-49e9-8ddf-56eeb7b8b118",
   "metadata": {},
   "outputs": [],
   "source": [
    "# What about the coverage?\n",
    "# Now this list - all_percentiles_for_widths - this is in the oder of the subwindows - but before proceeding to the next subwindow, it also tracks across the 7 time periods.\n",
    "# so now, we have the true values in a dataframe in the shape (7,910), we can stack these ina single column  - and basically then have to track if this value is inbetween the two upper and lower limits in the list all_percentiles_for_widths."
   ]
  },
  {
   "cell_type": "code",
   "execution_count": 179,
   "id": "7eabdb5c-e122-47b3-99c3-1802837f8d2b",
   "metadata": {},
   "outputs": [],
   "source": [
    "# cool, so let's get this true values dataset arranged  in one single column?"
   ]
  },
  {
   "cell_type": "code",
   "execution_count": 180,
   "id": "d3260a19-4371-4ac3-b2fa-f3e1f309e0f2",
   "metadata": {},
   "outputs": [],
   "source": [
    "# actually, we have already done that"
   ]
  },
  {
   "cell_type": "code",
   "execution_count": 181,
   "id": "18e5cf5d-b982-4aa8-b0d1-75b33359c8d4",
   "metadata": {},
   "outputs": [
    {
     "data": {
      "text/plain": [
       "(9632, 1)"
      ]
     },
     "execution_count": 181,
     "metadata": {},
     "output_type": "execute_result"
    }
   ],
   "source": [
    "exp_true_onecol.shape"
   ]
  },
  {
   "cell_type": "code",
   "execution_count": 182,
   "id": "9fd666d6-a90c-4c85-8fa1-b973843c31d2",
   "metadata": {},
   "outputs": [
    {
     "data": {
      "text/html": [
       "<div>\n",
       "<style scoped>\n",
       "    .dataframe tbody tr th:only-of-type {\n",
       "        vertical-align: middle;\n",
       "    }\n",
       "\n",
       "    .dataframe tbody tr th {\n",
       "        vertical-align: top;\n",
       "    }\n",
       "\n",
       "    .dataframe thead th {\n",
       "        text-align: right;\n",
       "    }\n",
       "</style>\n",
       "<table border=\"1\" class=\"dataframe\">\n",
       "  <thead>\n",
       "    <tr style=\"text-align: right;\">\n",
       "      <th></th>\n",
       "      <th>True_values</th>\n",
       "    </tr>\n",
       "  </thead>\n",
       "  <tbody>\n",
       "    <tr>\n",
       "      <th>0</th>\n",
       "      <td>7.997484</td>\n",
       "    </tr>\n",
       "    <tr>\n",
       "      <th>1</th>\n",
       "      <td>7.000000</td>\n",
       "    </tr>\n",
       "    <tr>\n",
       "      <th>2</th>\n",
       "      <td>6.999308</td>\n",
       "    </tr>\n",
       "    <tr>\n",
       "      <th>3</th>\n",
       "      <td>5.999997</td>\n",
       "    </tr>\n",
       "    <tr>\n",
       "      <th>4</th>\n",
       "      <td>4.000031</td>\n",
       "    </tr>\n",
       "  </tbody>\n",
       "</table>\n",
       "</div>"
      ],
      "text/plain": [
       "   True_values\n",
       "0     7.997484\n",
       "1     7.000000\n",
       "2     6.999308\n",
       "3     5.999997\n",
       "4     4.000031"
      ]
     },
     "execution_count": 182,
     "metadata": {},
     "output_type": "execute_result"
    }
   ],
   "source": [
    "exp_true_onecol.head()"
   ]
  },
  {
   "cell_type": "code",
   "execution_count": 183,
   "id": "ce2b14ca-1704-4051-9cdc-eb450c820c49",
   "metadata": {},
   "outputs": [],
   "source": [
    "All_exp_true_vals_array = exp_true_onecol.values.reshape(-1)"
   ]
  },
  {
   "cell_type": "code",
   "execution_count": 184,
   "id": "b85bdec1-fe7e-4d47-845e-156fbb923423",
   "metadata": {},
   "outputs": [
    {
     "data": {
      "text/plain": [
       "(9632,)"
      ]
     },
     "execution_count": 184,
     "metadata": {},
     "output_type": "execute_result"
    }
   ],
   "source": [
    "All_exp_true_vals_array.shape"
   ]
  },
  {
   "cell_type": "code",
   "execution_count": 185,
   "id": "1c0ac8a1-b72a-44e8-8e9b-d9cab757acb0",
   "metadata": {},
   "outputs": [
    {
     "data": {
      "text/plain": [
       "(0.0, 10.74842430108513)"
      ]
     },
     "execution_count": 185,
     "metadata": {},
     "output_type": "execute_result"
    }
   ],
   "source": [
    "All_exp_true_vals_array.min(), All_exp_true_vals_array.max()"
   ]
  },
  {
   "cell_type": "code",
   "execution_count": 186,
   "id": "4e49562c-7f70-4578-91e5-1a8916504fdc",
   "metadata": {},
   "outputs": [],
   "source": [
    "# cool, now check if this value is inbetween the upper and the lower limits contained in the list - all_percentiles_for_widths"
   ]
  },
  {
   "cell_type": "code",
   "execution_count": 187,
   "id": "8de7beae-6ecd-44ce-8dc4-4dd8d7a1a93a",
   "metadata": {},
   "outputs": [],
   "source": [
    "Catch_all_indicators = []\n",
    "for i in range(All_exp_true_vals_array.shape[0]):\n",
    "    true_value = All_exp_true_vals_array[i]\n",
    "    li_val = all_percentiles_for_widths[i][0]\n",
    "    ui_val = all_percentiles_for_widths[i][1]\n",
    "    ind_train = (true_value >= li_val) & (true_value <= ui_val)\n",
    "    Catch_all_indicators.append(ind_train)"
   ]
  },
  {
   "cell_type": "code",
   "execution_count": 188,
   "id": "85ab4671-0c07-4499-9dd4-60b4a433f516",
   "metadata": {},
   "outputs": [
    {
     "data": {
      "text/plain": [
       "0.7114825581395349"
      ]
     },
     "execution_count": 188,
     "metadata": {},
     "output_type": "execute_result"
    }
   ],
   "source": [
    "coverage_val = np.mean(Catch_all_indicators)\n",
    "coverage_val"
   ]
  },
  {
   "cell_type": "code",
   "execution_count": 189,
   "id": "cb369b20-1fd5-4746-a6bb-ac663ff346af",
   "metadata": {},
   "outputs": [],
   "source": [
    "# I think we are ready to replicate this for the rest of the blocks? Let's push the recent work to GitHub"
   ]
  },
  {
   "cell_type": "code",
   "execution_count": 190,
   "id": "d513d6da-a5c0-4733-b5c1-c35a66ed9593",
   "metadata": {},
   "outputs": [],
   "source": [
    "# define a function to get the post-hoc prediction\n",
    "def prediction_on_test_data(preds_array, stride = 24, kernel_size = 300):\n",
    "\n",
    "    img_height = 768 # we might need to verify this value\n",
    "    # get the image weight\n",
    "    img_width = 1024 # we might need to verify this value\n",
    "\n",
    "    \n",
    "    # create an empty density map\n",
    "    Density_map = np.zeros((img_height, img_width))\n",
    "\n",
    "    # create an empty counts map\n",
    "    counts_map = np.zeros((img_height, img_width))\n",
    "    \n",
    "    # now, for every window, we will keep adding the values together and also add the counts\n",
    "    counter = 0\n",
    "#     need a counter to move into each predicted value in the pred values list\n",
    "    for ii in range(0, img_height, stride):\n",
    "        for jj in range(0, img_width, stride):\n",
    "#         operations for density map\n",
    "#             get the window of interest\n",
    "            new_window = Density_map[ii:ii + kernel_size,jj:jj+kernel_size]\n",
    "#     fill each with the value c_k\n",
    "            counts_window = np.full((new_window.shape[0], new_window.shape[1]), preds_array[counter])\n",
    "#     get the shapes of this new window\n",
    "            cw_height = counts_window.shape[0]\n",
    "            cw_width = counts_window.shape[1]\n",
    "#         Do c_k/r_2\n",
    "            counts_window_new = counts_window/(cw_height*cw_width)\n",
    "#     This is the value in the window now\n",
    "            value_window = counts_window_new\n",
    "#     place the values in the corrsponding area of the density map\n",
    "            Density_map[ii:ii + kernel_size,jj:jj+kernel_size] = new_window + value_window\n",
    "\n",
    "#         Let's now focus on capturing the counts of the windows\n",
    "            new_window_c = counts_map[ii:ii + kernel_size,jj:jj+kernel_size]\n",
    "#     get the counts area\n",
    "            count = np.ones((new_window_c.shape[0], new_window_c.shape[1]))\n",
    "#     keep adding the counts to reflect the addition of densities\n",
    "            counts_map[ii:ii + kernel_size,jj:jj+kernel_size] = new_window_c + count\n",
    "#     increase the counter\n",
    "            counter = counter + 1\n",
    "            \n",
    "#         get the normalized count\n",
    "    normalized_counts = np.divide(Density_map, counts_map)\n",
    "    \n",
    "#     entire count on the test set\n",
    "    pred_on_test = np.sum(normalized_counts)\n",
    "    \n",
    "#     return the predicted value\n",
    "    return(pred_on_test, normalized_counts)"
   ]
  },
  {
   "cell_type": "code",
   "execution_count": 191,
   "id": "501e8573-e06e-4c4b-b78d-139b4d067f13",
   "metadata": {},
   "outputs": [
    {
     "data": {
      "text/plain": [
       "(7, 1376)"
      ]
     },
     "execution_count": 191,
     "metadata": {},
     "output_type": "execute_result"
    }
   ],
   "source": [
    "Forecasted_values_df.shape"
   ]
  },
  {
   "cell_type": "code",
   "execution_count": 192,
   "id": "5ffb7caf-e971-41d7-8c07-5614570d92b9",
   "metadata": {},
   "outputs": [
    {
     "data": {
      "text/plain": [
       "(7, 1376)"
      ]
     },
     "execution_count": 192,
     "metadata": {},
     "output_type": "execute_result"
    }
   ],
   "source": [
    "Forecasted_values_df.values.shape"
   ]
  },
  {
   "cell_type": "code",
   "execution_count": 193,
   "id": "dd5eb5e9-c360-419f-b3a2-8f31331e7187",
   "metadata": {},
   "outputs": [],
   "source": [
    "# Access just the first row?"
   ]
  },
  {
   "cell_type": "code",
   "execution_count": 194,
   "id": "99e27c40-1101-434b-931b-199bbaae3447",
   "metadata": {},
   "outputs": [
    {
     "data": {
      "text/plain": [
       "(1376,)"
      ]
     },
     "execution_count": 194,
     "metadata": {},
     "output_type": "execute_result"
    }
   ],
   "source": [
    "Forecasted_values_df.values[0,:].shape"
   ]
  },
  {
   "cell_type": "code",
   "execution_count": 195,
   "id": "a96b51ef-20e8-4923-afec-1f8ab9c34a86",
   "metadata": {},
   "outputs": [],
   "source": [
    "# use this to get the preds?"
   ]
  },
  {
   "cell_type": "code",
   "execution_count": 196,
   "id": "b787e0ed-186b-47dc-90f6-ff0379ebb786",
   "metadata": {},
   "outputs": [],
   "source": [
    "test_im_0_preds = prediction_on_test_data(Forecasted_values_df.values[0,:], stride = 24, kernel_size = 300)"
   ]
  },
  {
   "cell_type": "code",
   "execution_count": 197,
   "id": "38ed1d0f-8af4-4f49-896a-afedbc2c6409",
   "metadata": {},
   "outputs": [
    {
     "data": {
      "text/plain": [
       "48.334394785703225"
      ]
     },
     "execution_count": 197,
     "metadata": {},
     "output_type": "execute_result"
    }
   ],
   "source": [
    "test_im_0_preds[0]"
   ]
  },
  {
   "cell_type": "code",
   "execution_count": 198,
   "id": "e67877b3-2030-40dd-8676-d97506fb5264",
   "metadata": {},
   "outputs": [],
   "source": [
    "# get the values forecasted in a loop?\n",
    "predicted_test_values = []\n",
    "for i in range(7):\n",
    "    pred_val = prediction_on_test_data(Forecasted_values_df.values[i,:], stride = 24, kernel_size = 300)[0]\n",
    "    predicted_test_values.append(pred_val)"
   ]
  },
  {
   "cell_type": "code",
   "execution_count": 199,
   "id": "5613f998-5f11-486a-a59a-ac12bf3fe2fe",
   "metadata": {},
   "outputs": [
    {
     "data": {
      "text/plain": [
       "[48.334394785703225,\n",
       " 48.873717819995214,\n",
       " 45.59645800293016,\n",
       " 4204.153023766467,\n",
       " 547.321995220706,\n",
       " 409.30478730469974,\n",
       " 487.80618156287994]"
      ]
     },
     "execution_count": 199,
     "metadata": {},
     "output_type": "execute_result"
    }
   ],
   "source": [
    "predicted_test_values"
   ]
  },
  {
   "cell_type": "code",
   "execution_count": 200,
   "id": "edea67ac-5c5d-41bf-a786-5c56ce7039e5",
   "metadata": {},
   "outputs": [],
   "source": [
    "# Okay, there's some seroius shit happening I think with those very high values - we need to figuer out what to do"
   ]
  }
 ],
 "metadata": {
  "kernelspec": {
   "display_name": "Python (tfp_cpu_env)",
   "language": "python",
   "name": "tfp_cpu_env"
  },
  "language_info": {
   "codemirror_mode": {
    "name": "ipython",
    "version": 3
   },
   "file_extension": ".py",
   "mimetype": "text/x-python",
   "name": "python",
   "nbconvert_exporter": "python",
   "pygments_lexer": "ipython3",
   "version": "3.11.7"
  }
 },
 "nbformat": 4,
 "nbformat_minor": 5
}
