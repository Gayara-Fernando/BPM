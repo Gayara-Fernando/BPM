{
 "cells": [
  {
   "cell_type": "code",
   "execution_count": 1,
   "id": "33eb26f5-b9ba-4878-8ef1-61d87e6ba72f",
   "metadata": {},
   "outputs": [],
   "source": [
    "import numpy as np\n",
    "import os"
   ]
  },
  {
   "cell_type": "code",
   "execution_count": 2,
   "id": "ee2e7782-da98-4931-b859-0cf99e0df027",
   "metadata": {},
   "outputs": [],
   "source": [
    "# Need to verify we have the figures for all the subwindow sequnces - we can chech the error files, but that's annoying. So let's just code it up."
   ]
  },
  {
   "cell_type": "code",
   "execution_count": 3,
   "id": "98a126ef-f40a-4478-9ff9-b7e73ebb3987",
   "metadata": {},
   "outputs": [],
   "source": [
    "# Where is the data we need?"
   ]
  },
  {
   "cell_type": "markdown",
   "id": "06e835c2-9172-44aa-8a6b-2fc91faf4277",
   "metadata": {},
   "source": [
    "Block 0103"
   ]
  },
  {
   "cell_type": "code",
   "execution_count": 4,
   "id": "a0ad27b6-9393-40af-b329-23a66f3dd238",
   "metadata": {},
   "outputs": [],
   "source": [
    "block_0103_figs = \"data/BLAR_implementation/Block_0103/figures\""
   ]
  },
  {
   "cell_type": "code",
   "execution_count": 5,
   "id": "1e213103-6cd5-4433-b15a-6ac549e88448",
   "metadata": {},
   "outputs": [],
   "source": [
    "contents_0103 = os.listdir(block_0103_figs)"
   ]
  },
  {
   "cell_type": "code",
   "execution_count": 6,
   "id": "709b1989-ae22-46f5-bb34-dbdf5c8ff360",
   "metadata": {},
   "outputs": [],
   "source": [
    "contents_0103.sort()"
   ]
  },
  {
   "cell_type": "code",
   "execution_count": 7,
   "id": "135d1ae4-71d0-4b3d-9ae5-cc7d18b4a5b1",
   "metadata": {},
   "outputs": [
    {
     "data": {
      "text/plain": [
       "1376"
      ]
     },
     "execution_count": 7,
     "metadata": {},
     "output_type": "execute_result"
    }
   ],
   "source": [
    "len(contents_0103)"
   ]
  },
  {
   "cell_type": "code",
   "execution_count": 8,
   "id": "a1fa47ff-fd94-4841-9178-5ded5a5c203e",
   "metadata": {},
   "outputs": [],
   "source": [
    "# seems like we have the 3072 figures for all sub-windows, but let's make sure?"
   ]
  },
  {
   "cell_type": "code",
   "execution_count": 9,
   "id": "9c9f8e7c-a569-4048-ae3d-70a50a2b2091",
   "metadata": {},
   "outputs": [],
   "source": [
    "catch_all_available_files_0103 = []\n",
    "catch_all_unavailable_files_0103 = []\n",
    "for i in range(1376):\n",
    "    file_name = 'all_trace_plots_sub_' + str(i) + '.png'\n",
    "    if file_name in contents_0103:\n",
    "        catch_all_available_files_0103.append(file_name)\n",
    "    else:\n",
    "        catch_all_unavailable_files_0103.append(file_name)\n",
    "    "
   ]
  },
  {
   "cell_type": "code",
   "execution_count": 10,
   "id": "580e8adf-a589-46c9-b661-982175f0ad89",
   "metadata": {},
   "outputs": [
    {
     "data": {
      "text/plain": [
       "(1376, 0)"
      ]
     },
     "execution_count": 10,
     "metadata": {},
     "output_type": "execute_result"
    }
   ],
   "source": [
    "len(catch_all_available_files_0103), len(catch_all_unavailable_files_0103)"
   ]
  },
  {
   "cell_type": "code",
   "execution_count": 11,
   "id": "44501057-1c56-4c47-a7f1-4216b5748260",
   "metadata": {},
   "outputs": [],
   "source": [
    "# Okay, we have all the subwindows"
   ]
  },
  {
   "cell_type": "markdown",
   "id": "59de0e77-4b8c-4301-ab1f-dc40a83d8b91",
   "metadata": {},
   "source": [
    "Block 0104"
   ]
  },
  {
   "cell_type": "code",
   "execution_count": 12,
   "id": "6b46b76b-d5f6-40fa-8c74-c45599800f1a",
   "metadata": {},
   "outputs": [],
   "source": [
    "block_0104_figs = \"data/BLAR_implementation/Block_0104/figures\""
   ]
  },
  {
   "cell_type": "code",
   "execution_count": 13,
   "id": "da752a58-1490-4754-8bee-68fd4b446eab",
   "metadata": {},
   "outputs": [],
   "source": [
    "contents_0104 = os.listdir(block_0104_figs)"
   ]
  },
  {
   "cell_type": "code",
   "execution_count": 14,
   "id": "968ca0f1-ca98-4b0f-b12a-b1822a8d01b6",
   "metadata": {},
   "outputs": [],
   "source": [
    "contents_0104.sort()"
   ]
  },
  {
   "cell_type": "code",
   "execution_count": 15,
   "id": "421935ee-9748-4339-b277-a7f85793b06b",
   "metadata": {},
   "outputs": [
    {
     "data": {
      "text/plain": [
       "1376"
      ]
     },
     "execution_count": 15,
     "metadata": {},
     "output_type": "execute_result"
    }
   ],
   "source": [
    "len(contents_0104)"
   ]
  },
  {
   "cell_type": "code",
   "execution_count": 16,
   "id": "e7456571-f38f-4c4e-bb36-6187f00f6cb7",
   "metadata": {},
   "outputs": [],
   "source": [
    "# seems like we have the 3072 figures for all sub-windows, but let's make sure?"
   ]
  },
  {
   "cell_type": "code",
   "execution_count": 17,
   "id": "b9612a34-e22a-440d-b3b9-f510e6537bff",
   "metadata": {},
   "outputs": [],
   "source": [
    "catch_all_available_files_0104 = []\n",
    "catch_all_unavailable_files_0104 = []\n",
    "for i in range(1376):\n",
    "    file_name = 'all_trace_plots_sub_' + str(i) + '.png'\n",
    "    if file_name in contents_0104:\n",
    "        catch_all_available_files_0104.append(file_name)\n",
    "    else:\n",
    "        catch_all_unavailable_files_0104.append(file_name)\n",
    "    "
   ]
  },
  {
   "cell_type": "code",
   "execution_count": 18,
   "id": "00bdcec0-a140-4799-9c37-909dcb88104e",
   "metadata": {},
   "outputs": [
    {
     "data": {
      "text/plain": [
       "(1376, 0)"
      ]
     },
     "execution_count": 18,
     "metadata": {},
     "output_type": "execute_result"
    }
   ],
   "source": [
    "len(catch_all_available_files_0104), len(catch_all_unavailable_files_0104)"
   ]
  },
  {
   "cell_type": "code",
   "execution_count": 19,
   "id": "ac475864-5a77-437c-8fa8-a9979df700cb",
   "metadata": {},
   "outputs": [],
   "source": [
    "# Okay, we have all the subwindows"
   ]
  },
  {
   "cell_type": "markdown",
   "id": "c159bff7-f6c3-4ed2-b377-1fa61ebecc1e",
   "metadata": {},
   "source": [
    "Block 0105"
   ]
  },
  {
   "cell_type": "code",
   "execution_count": 20,
   "id": "cff8ad4b-c1cf-46fb-b1e5-64fd4bb42f41",
   "metadata": {},
   "outputs": [],
   "source": [
    "block_0105_figs = \"data/BLAR_implementation/Block_0105/figures\""
   ]
  },
  {
   "cell_type": "code",
   "execution_count": 21,
   "id": "9fe1b725-cba0-4514-a370-3daab1a7f054",
   "metadata": {},
   "outputs": [],
   "source": [
    "contents_0105 = os.listdir(block_0105_figs)"
   ]
  },
  {
   "cell_type": "code",
   "execution_count": 22,
   "id": "882cdd54-1725-4b97-9549-d061d3944c45",
   "metadata": {},
   "outputs": [],
   "source": [
    "contents_0105.sort()"
   ]
  },
  {
   "cell_type": "code",
   "execution_count": 23,
   "id": "5cd5b4a3-98c5-477f-b5c0-2da572452d5c",
   "metadata": {},
   "outputs": [
    {
     "data": {
      "text/plain": [
       "1376"
      ]
     },
     "execution_count": 23,
     "metadata": {},
     "output_type": "execute_result"
    }
   ],
   "source": [
    "len(contents_0105)"
   ]
  },
  {
   "cell_type": "code",
   "execution_count": 24,
   "id": "ab80d390-2776-475f-944b-ccd0d69f121d",
   "metadata": {},
   "outputs": [],
   "source": [
    "# seems like we have the 3072 figures for all sub-windows, but let's make sure?"
   ]
  },
  {
   "cell_type": "code",
   "execution_count": 25,
   "id": "54a8634b-b876-4a1e-b8b2-a33a90b9f3fd",
   "metadata": {},
   "outputs": [],
   "source": [
    "catch_all_available_files_0105 = []\n",
    "catch_all_unavailable_files_0105 = []\n",
    "for i in range(1376):\n",
    "    file_name = 'all_trace_plots_sub_' + str(i) + '.png'\n",
    "    if file_name in contents_0105:\n",
    "        catch_all_available_files_0105.append(file_name)\n",
    "    else:\n",
    "        catch_all_unavailable_files_0105.append(file_name)\n",
    "    "
   ]
  },
  {
   "cell_type": "code",
   "execution_count": 26,
   "id": "db5e42a6-9811-43a1-b235-725c164ca717",
   "metadata": {},
   "outputs": [
    {
     "data": {
      "text/plain": [
       "(1376, 0)"
      ]
     },
     "execution_count": 26,
     "metadata": {},
     "output_type": "execute_result"
    }
   ],
   "source": [
    "len(catch_all_available_files_0105), len(catch_all_unavailable_files_0105)"
   ]
  },
  {
   "cell_type": "code",
   "execution_count": 27,
   "id": "caca4c70-232e-4f9f-a0bf-1c656d4583c4",
   "metadata": {},
   "outputs": [],
   "source": [
    "# Okay, we have all the subwindows"
   ]
  },
  {
   "cell_type": "markdown",
   "id": "b02891e5-b769-4b53-a734-0767719140fe",
   "metadata": {},
   "source": [
    "Block 0106"
   ]
  },
  {
   "cell_type": "code",
   "execution_count": 28,
   "id": "89de922b-9eeb-4a2a-a8be-2757fff6c232",
   "metadata": {},
   "outputs": [],
   "source": [
    "block_0106_figs = \"data/BLAR_implementation/Block_0106/figures\""
   ]
  },
  {
   "cell_type": "code",
   "execution_count": 29,
   "id": "fceb8223-1b03-41da-87d1-5914ae8a024a",
   "metadata": {},
   "outputs": [],
   "source": [
    "contents_0106 = os.listdir(block_0106_figs)"
   ]
  },
  {
   "cell_type": "code",
   "execution_count": 30,
   "id": "38a1300f-5187-44c2-b98e-4d9dd678d865",
   "metadata": {},
   "outputs": [],
   "source": [
    "contents_0106.sort()"
   ]
  },
  {
   "cell_type": "code",
   "execution_count": 31,
   "id": "421c85bb-88df-4d35-b66c-7213e3e7f024",
   "metadata": {},
   "outputs": [
    {
     "data": {
      "text/plain": [
       "1376"
      ]
     },
     "execution_count": 31,
     "metadata": {},
     "output_type": "execute_result"
    }
   ],
   "source": [
    "len(contents_0106)"
   ]
  },
  {
   "cell_type": "code",
   "execution_count": 32,
   "id": "a2751205-c386-4717-a659-87fafb2853da",
   "metadata": {},
   "outputs": [],
   "source": [
    "# seems like we have the 3072 figures for all sub-windows, but let's make sure?"
   ]
  },
  {
   "cell_type": "code",
   "execution_count": 33,
   "id": "0ff1309e-ea24-4bb2-8b6c-45078c43480e",
   "metadata": {},
   "outputs": [],
   "source": [
    "catch_all_available_files_0106 = []\n",
    "catch_all_unavailable_files_0106 = []\n",
    "for i in range(1376):\n",
    "    file_name = 'all_trace_plots_sub_' + str(i) + '.png'\n",
    "    if file_name in contents_0106:\n",
    "        catch_all_available_files_0106.append(file_name)\n",
    "    else:\n",
    "        catch_all_unavailable_files_0106.append(file_name)\n",
    "    "
   ]
  },
  {
   "cell_type": "code",
   "execution_count": 34,
   "id": "e8c1004e-9ca8-41b3-9736-cbaac2741e0d",
   "metadata": {},
   "outputs": [
    {
     "data": {
      "text/plain": [
       "(1376, 0)"
      ]
     },
     "execution_count": 34,
     "metadata": {},
     "output_type": "execute_result"
    }
   ],
   "source": [
    "len(catch_all_available_files_0106), len(catch_all_unavailable_files_0106)"
   ]
  },
  {
   "cell_type": "code",
   "execution_count": 35,
   "id": "725be2b9-490e-4f4b-8390-f790fc9ca0dd",
   "metadata": {},
   "outputs": [],
   "source": [
    "# Okay, we have all the subwindows"
   ]
  },
  {
   "cell_type": "markdown",
   "id": "c45e0dd3-d8f2-4c16-b35d-aa5ebedb5b20",
   "metadata": {},
   "source": [
    "Block 0201"
   ]
  },
  {
   "cell_type": "code",
   "execution_count": 36,
   "id": "cd1cbc07-5ac1-43c8-ac31-1f6cf135ea65",
   "metadata": {},
   "outputs": [],
   "source": [
    "block_0201_figs = \"data/BLAR_implementation/Block_0201/figures\""
   ]
  },
  {
   "cell_type": "code",
   "execution_count": 37,
   "id": "1e1f377a-b18c-46eb-8fee-cc2076cb50c0",
   "metadata": {},
   "outputs": [],
   "source": [
    "contents_0201 = os.listdir(block_0201_figs)"
   ]
  },
  {
   "cell_type": "code",
   "execution_count": 38,
   "id": "248fbc89-1817-4b3c-b9f2-db8433ecd7a9",
   "metadata": {},
   "outputs": [],
   "source": [
    "contents_0201.sort()"
   ]
  },
  {
   "cell_type": "code",
   "execution_count": 39,
   "id": "30aa93d8-8e41-4ce8-b688-330493d0b6ae",
   "metadata": {},
   "outputs": [
    {
     "data": {
      "text/plain": [
       "1376"
      ]
     },
     "execution_count": 39,
     "metadata": {},
     "output_type": "execute_result"
    }
   ],
   "source": [
    "len(contents_0201)"
   ]
  },
  {
   "cell_type": "code",
   "execution_count": 40,
   "id": "a645a10e-a65c-41e1-b1a9-ea33589245fd",
   "metadata": {},
   "outputs": [],
   "source": [
    "# seems like we have the 3072 figures for all sub-windows, but let's make sure?"
   ]
  },
  {
   "cell_type": "code",
   "execution_count": 41,
   "id": "5c2287f5-2869-459e-b466-d06f7bbc25aa",
   "metadata": {},
   "outputs": [],
   "source": [
    "catch_all_available_files_0201 = []\n",
    "catch_all_unavailable_files_0201 = []\n",
    "for i in range(1376):\n",
    "    file_name = 'all_trace_plots_sub_' + str(i) + '.png'\n",
    "    if file_name in contents_0201:\n",
    "        catch_all_available_files_0201.append(file_name)\n",
    "    else:\n",
    "        catch_all_unavailable_files_0201.append(file_name)\n",
    "    "
   ]
  },
  {
   "cell_type": "code",
   "execution_count": 42,
   "id": "90fe175d-c16e-40a4-8491-a4d0d4108a0f",
   "metadata": {},
   "outputs": [
    {
     "data": {
      "text/plain": [
       "(1376, 0)"
      ]
     },
     "execution_count": 42,
     "metadata": {},
     "output_type": "execute_result"
    }
   ],
   "source": [
    "len(catch_all_available_files_0201), len(catch_all_unavailable_files_0201)"
   ]
  },
  {
   "cell_type": "code",
   "execution_count": 43,
   "id": "c1f7f7e6-4c80-47a4-92f9-5b2eb0f6d713",
   "metadata": {},
   "outputs": [],
   "source": [
    "# Okay, we have all the subwindows"
   ]
  },
  {
   "cell_type": "markdown",
   "id": "e9e811ab-f623-446c-a0ff-0d8f2c445152",
   "metadata": {},
   "source": [
    "Block 0202"
   ]
  },
  {
   "cell_type": "code",
   "execution_count": 44,
   "id": "d591a856-edcd-427e-ac2f-e3a828ba74bd",
   "metadata": {},
   "outputs": [],
   "source": [
    "block_0202_figs = \"data/BLAR_implementation/Block_0202/figures\""
   ]
  },
  {
   "cell_type": "code",
   "execution_count": 45,
   "id": "a60453bb-0b8f-48ea-b076-ddb2baef219e",
   "metadata": {},
   "outputs": [],
   "source": [
    "contents_0202 = os.listdir(block_0202_figs)"
   ]
  },
  {
   "cell_type": "code",
   "execution_count": 46,
   "id": "2f2d3a9a-67c3-43a9-aa00-ec078484313b",
   "metadata": {},
   "outputs": [],
   "source": [
    "contents_0202.sort()"
   ]
  },
  {
   "cell_type": "code",
   "execution_count": 47,
   "id": "a749d03e-37a1-4031-87bc-1a901fccd72c",
   "metadata": {},
   "outputs": [
    {
     "data": {
      "text/plain": [
       "1376"
      ]
     },
     "execution_count": 47,
     "metadata": {},
     "output_type": "execute_result"
    }
   ],
   "source": [
    "len(contents_0202)"
   ]
  },
  {
   "cell_type": "code",
   "execution_count": 48,
   "id": "b3f33ee2-a84a-4a54-92e7-6e3585f6288c",
   "metadata": {},
   "outputs": [],
   "source": [
    "# seems like we have the 3072 figures for all sub-windows, but let's make sure?"
   ]
  },
  {
   "cell_type": "code",
   "execution_count": 49,
   "id": "bf61d964-e63d-4975-b78f-7585ec58ab69",
   "metadata": {},
   "outputs": [],
   "source": [
    "catch_all_available_files_0202 = []\n",
    "catch_all_unavailable_files_0202 = []\n",
    "for i in range(1376):\n",
    "    file_name = 'all_trace_plots_sub_' + str(i) + '.png'\n",
    "    if file_name in contents_0202:\n",
    "        catch_all_available_files_0202.append(file_name)\n",
    "    else:\n",
    "        catch_all_unavailable_files_0202.append(file_name)\n",
    "    "
   ]
  },
  {
   "cell_type": "code",
   "execution_count": 50,
   "id": "bf62e9e4-b688-4210-b7e0-8eef895b4425",
   "metadata": {},
   "outputs": [
    {
     "data": {
      "text/plain": [
       "(1376, 0)"
      ]
     },
     "execution_count": 50,
     "metadata": {},
     "output_type": "execute_result"
    }
   ],
   "source": [
    "len(catch_all_available_files_0202), len(catch_all_unavailable_files_0202)"
   ]
  },
  {
   "cell_type": "code",
   "execution_count": 51,
   "id": "c807663f-d3ae-497d-acc7-6ca9544dd453",
   "metadata": {},
   "outputs": [],
   "source": [
    "# catch_all_unavailable_files_0202"
   ]
  },
  {
   "cell_type": "code",
   "execution_count": 52,
   "id": "095b653c-803d-460a-a5de-81d897d5f82d",
   "metadata": {},
   "outputs": [],
   "source": [
    "# Okay, we have all the subwindows"
   ]
  },
  {
   "cell_type": "markdown",
   "id": "e4b85c61-e245-474b-82ae-a3e4d7555206",
   "metadata": {},
   "source": [
    "Block 0205"
   ]
  },
  {
   "cell_type": "code",
   "execution_count": 53,
   "id": "94bb396b-205f-4f5e-afb6-83b3da09aa7c",
   "metadata": {},
   "outputs": [],
   "source": [
    "block_0205_figs = \"data/BLAR_implementation/Block_0205/figures\""
   ]
  },
  {
   "cell_type": "code",
   "execution_count": 54,
   "id": "3d5752c2-373f-428e-8c14-de608362715d",
   "metadata": {},
   "outputs": [],
   "source": [
    "contents_0205 = os.listdir(block_0205_figs)"
   ]
  },
  {
   "cell_type": "code",
   "execution_count": 55,
   "id": "01a1c7b9-6936-4f69-808c-43c98cac5425",
   "metadata": {},
   "outputs": [],
   "source": [
    "contents_0205.sort()"
   ]
  },
  {
   "cell_type": "code",
   "execution_count": 56,
   "id": "3bd4b4b8-e2b2-418f-b216-c18d46fd4e2c",
   "metadata": {},
   "outputs": [
    {
     "data": {
      "text/plain": [
       "1376"
      ]
     },
     "execution_count": 56,
     "metadata": {},
     "output_type": "execute_result"
    }
   ],
   "source": [
    "len(contents_0205)"
   ]
  },
  {
   "cell_type": "code",
   "execution_count": 57,
   "id": "6b71abde-6158-4c29-b95a-2ec01cb005bf",
   "metadata": {},
   "outputs": [],
   "source": [
    "# seems like we have the 3072 figures for all sub-windows, but let's make sure?"
   ]
  },
  {
   "cell_type": "code",
   "execution_count": 58,
   "id": "abe6280c-f6fb-4aec-ac6e-6d2af0670597",
   "metadata": {},
   "outputs": [],
   "source": [
    "catch_all_available_files_0205 = []\n",
    "catch_all_unavailable_files_0205 = []\n",
    "for i in range(1376):\n",
    "    file_name = 'all_trace_plots_sub_' + str(i) + '.png'\n",
    "    if file_name in contents_0205:\n",
    "        catch_all_available_files_0205.append(file_name)\n",
    "    else:\n",
    "        catch_all_unavailable_files_0205.append(file_name)\n",
    "    "
   ]
  },
  {
   "cell_type": "code",
   "execution_count": 59,
   "id": "fbfe47ec-b6c6-4404-bb88-e686e1efa82a",
   "metadata": {},
   "outputs": [
    {
     "data": {
      "text/plain": [
       "(1376, 0)"
      ]
     },
     "execution_count": 59,
     "metadata": {},
     "output_type": "execute_result"
    }
   ],
   "source": [
    "len(catch_all_available_files_0205), len(catch_all_unavailable_files_0205)"
   ]
  },
  {
   "cell_type": "code",
   "execution_count": 60,
   "id": "281dc76d-2ffe-4ee2-8e96-d07733f3ccf6",
   "metadata": {},
   "outputs": [],
   "source": [
    "# Okay, we have all the subwindows"
   ]
  },
  {
   "cell_type": "code",
   "execution_count": 61,
   "id": "e9cd73a3-60cb-4d9c-a050-60b9c6f0912a",
   "metadata": {},
   "outputs": [],
   "source": [
    "# catch_all_unavailable_files_0205"
   ]
  },
  {
   "cell_type": "markdown",
   "id": "e5922102-1c28-4426-a88c-80c024b737c5",
   "metadata": {},
   "source": [
    "Block 0206"
   ]
  },
  {
   "cell_type": "code",
   "execution_count": 62,
   "id": "62d6d1f6-b827-4cad-9a51-35b6511bb208",
   "metadata": {},
   "outputs": [],
   "source": [
    "block_0206_figs = \"data/BLAR_implementation/Block_0206/figures\""
   ]
  },
  {
   "cell_type": "code",
   "execution_count": 63,
   "id": "2650d17a-e70f-45f6-9c79-4b4aa7b30a0d",
   "metadata": {},
   "outputs": [],
   "source": [
    "contents_0206 = os.listdir(block_0206_figs)"
   ]
  },
  {
   "cell_type": "code",
   "execution_count": 64,
   "id": "2c75ebef-957c-47da-9a80-9c621cf241ba",
   "metadata": {},
   "outputs": [],
   "source": [
    "contents_0206.sort()"
   ]
  },
  {
   "cell_type": "code",
   "execution_count": 65,
   "id": "de7d1d3c-3fcf-4a32-a851-c38bd8a9b889",
   "metadata": {},
   "outputs": [
    {
     "data": {
      "text/plain": [
       "1376"
      ]
     },
     "execution_count": 65,
     "metadata": {},
     "output_type": "execute_result"
    }
   ],
   "source": [
    "len(contents_0206)"
   ]
  },
  {
   "cell_type": "code",
   "execution_count": 66,
   "id": "93bc33d6-fa1c-4065-92d7-5a419a59bfc5",
   "metadata": {},
   "outputs": [],
   "source": [
    "# seems like we have the 3072 figures for all sub-windows, but let's make sure?"
   ]
  },
  {
   "cell_type": "code",
   "execution_count": 67,
   "id": "e3877587-6239-4444-a74c-4d9ea94e7d1f",
   "metadata": {},
   "outputs": [],
   "source": [
    "catch_all_available_files_0206 = []\n",
    "catch_all_unavailable_files_0206 = []\n",
    "for i in range(1376):\n",
    "    file_name = 'all_trace_plots_sub_' + str(i) + '.png'\n",
    "    if file_name in contents_0206:\n",
    "        catch_all_available_files_0206.append(file_name)\n",
    "    else:\n",
    "        catch_all_unavailable_files_0206.append(file_name)\n",
    "    "
   ]
  },
  {
   "cell_type": "code",
   "execution_count": 68,
   "id": "e0b3b0df-abdf-4253-ac74-a6b407f6e3a1",
   "metadata": {},
   "outputs": [
    {
     "data": {
      "text/plain": [
       "(1376, 0)"
      ]
     },
     "execution_count": 68,
     "metadata": {},
     "output_type": "execute_result"
    }
   ],
   "source": [
    "len(catch_all_available_files_0206), len(catch_all_unavailable_files_0206)"
   ]
  },
  {
   "cell_type": "code",
   "execution_count": 69,
   "id": "cda91e54-5b30-41d6-9777-c18810ff96e8",
   "metadata": {},
   "outputs": [],
   "source": [
    "# Okay, we have all the subwindows"
   ]
  },
  {
   "cell_type": "code",
   "execution_count": 70,
   "id": "b554c2fd-8942-4adf-b9cd-e1765c0330d5",
   "metadata": {},
   "outputs": [
    {
     "data": {
      "text/plain": [
       "[]"
      ]
     },
     "execution_count": 70,
     "metadata": {},
     "output_type": "execute_result"
    }
   ],
   "source": [
    "catch_all_unavailable_files_0206"
   ]
  },
  {
   "cell_type": "markdown",
   "id": "5625ffa1-6a1c-44a6-9bf2-e43dcf5b61c3",
   "metadata": {},
   "source": [
    "Block 0302"
   ]
  },
  {
   "cell_type": "code",
   "execution_count": 71,
   "id": "53a4cedb-50ec-4391-b8ba-72f561bd5a3d",
   "metadata": {},
   "outputs": [],
   "source": [
    "block_0302_figs = \"data/BLAR_implementation/Block_0302/figures\""
   ]
  },
  {
   "cell_type": "code",
   "execution_count": 72,
   "id": "89cfa135-6da0-4d0c-b591-96285a7f1c25",
   "metadata": {},
   "outputs": [],
   "source": [
    "contents_0302 = os.listdir(block_0302_figs)"
   ]
  },
  {
   "cell_type": "code",
   "execution_count": 73,
   "id": "54cb7497-4cd8-436c-bf18-24a3a4f9dc84",
   "metadata": {},
   "outputs": [],
   "source": [
    "contents_0302.sort()"
   ]
  },
  {
   "cell_type": "code",
   "execution_count": 74,
   "id": "7f59d260-59cf-42fb-ba5b-9f9f58b7ba90",
   "metadata": {},
   "outputs": [
    {
     "data": {
      "text/plain": [
       "1376"
      ]
     },
     "execution_count": 74,
     "metadata": {},
     "output_type": "execute_result"
    }
   ],
   "source": [
    "len(contents_0302)"
   ]
  },
  {
   "cell_type": "code",
   "execution_count": 75,
   "id": "6a793d3e-4b37-43f0-b990-7dfec9f2f5a0",
   "metadata": {},
   "outputs": [],
   "source": [
    "# seems like we have the 3072 figures for all sub-windows, but let's make sure?"
   ]
  },
  {
   "cell_type": "code",
   "execution_count": 76,
   "id": "d5411fae-a5e0-45bf-88b3-0a3fa343ffb9",
   "metadata": {},
   "outputs": [],
   "source": [
    "catch_all_available_files_0302 = []\n",
    "catch_all_unavailable_files_0302 = []\n",
    "for i in range(1376):\n",
    "    file_name = 'all_trace_plots_sub_' + str(i) + '.png'\n",
    "    if file_name in contents_0302:\n",
    "        catch_all_available_files_0302.append(file_name)\n",
    "    else:\n",
    "        catch_all_unavailable_files_0302.append(file_name)\n",
    "    "
   ]
  },
  {
   "cell_type": "code",
   "execution_count": 77,
   "id": "7d833b1d-c318-4ad2-bd5a-b0709686735b",
   "metadata": {},
   "outputs": [
    {
     "data": {
      "text/plain": [
       "(1376, 0)"
      ]
     },
     "execution_count": 77,
     "metadata": {},
     "output_type": "execute_result"
    }
   ],
   "source": [
    "len(catch_all_available_files_0302), len(catch_all_unavailable_files_0302)"
   ]
  },
  {
   "cell_type": "code",
   "execution_count": 78,
   "id": "52b94862-626e-4bc6-a7d7-6d13c9dfd4ad",
   "metadata": {},
   "outputs": [],
   "source": [
    "# Okay, we have all the subwindows"
   ]
  },
  {
   "cell_type": "code",
   "execution_count": 79,
   "id": "50e4af5b-571c-4e2f-b59a-1fc4cb10dafa",
   "metadata": {},
   "outputs": [
    {
     "data": {
      "text/plain": [
       "[]"
      ]
     },
     "execution_count": 79,
     "metadata": {},
     "output_type": "execute_result"
    }
   ],
   "source": [
    "catch_all_unavailable_files_0302"
   ]
  },
  {
   "cell_type": "markdown",
   "id": "4daea547-8f47-4c41-bc46-4608f28eb1f6",
   "metadata": {},
   "source": [
    "Block 0303"
   ]
  },
  {
   "cell_type": "code",
   "execution_count": 80,
   "id": "f85c17d6-c725-43fa-9a0a-f4e3c3f7a106",
   "metadata": {},
   "outputs": [],
   "source": [
    "block_0303_figs = \"data/BLAR_implementation/Block_0303/figures\""
   ]
  },
  {
   "cell_type": "code",
   "execution_count": 81,
   "id": "578f564e-f629-4704-93fc-3a71cc8311bb",
   "metadata": {},
   "outputs": [],
   "source": [
    "contents_0303 = os.listdir(block_0303_figs)"
   ]
  },
  {
   "cell_type": "code",
   "execution_count": 82,
   "id": "8a8e3d46-4e5f-48ca-858e-a7119717f5a4",
   "metadata": {},
   "outputs": [],
   "source": [
    "contents_0303.sort()"
   ]
  },
  {
   "cell_type": "code",
   "execution_count": 83,
   "id": "14593350-ad67-42fd-9491-af5340cdb7a1",
   "metadata": {},
   "outputs": [
    {
     "data": {
      "text/plain": [
       "1376"
      ]
     },
     "execution_count": 83,
     "metadata": {},
     "output_type": "execute_result"
    }
   ],
   "source": [
    "len(contents_0303)"
   ]
  },
  {
   "cell_type": "code",
   "execution_count": 84,
   "id": "8e153ef3-77ab-431a-80d2-30d640be6124",
   "metadata": {},
   "outputs": [],
   "source": [
    "# seems like we have the 3072 figures for all sub-windows, but let's make sure?"
   ]
  },
  {
   "cell_type": "code",
   "execution_count": 85,
   "id": "ab151b2b-fbbb-47dd-8035-b2c173e52bf4",
   "metadata": {},
   "outputs": [],
   "source": [
    "catch_all_available_files_0303 = []\n",
    "catch_all_unavailable_files_0303 = []\n",
    "for i in range(1376):\n",
    "    file_name = 'all_trace_plots_sub_' + str(i) + '.png'\n",
    "    if file_name in contents_0303:\n",
    "        catch_all_available_files_0303.append(file_name)\n",
    "    else:\n",
    "        catch_all_unavailable_files_0303.append(file_name)\n",
    "    "
   ]
  },
  {
   "cell_type": "code",
   "execution_count": 86,
   "id": "6fd7b16f-6f31-42b1-b762-0c60e34e863d",
   "metadata": {},
   "outputs": [
    {
     "data": {
      "text/plain": [
       "(1376, 0)"
      ]
     },
     "execution_count": 86,
     "metadata": {},
     "output_type": "execute_result"
    }
   ],
   "source": [
    "len(catch_all_available_files_0303), len(catch_all_unavailable_files_0303)"
   ]
  },
  {
   "cell_type": "code",
   "execution_count": 87,
   "id": "52933be7-58d9-4d02-bdc7-7ba7eb74ea93",
   "metadata": {},
   "outputs": [],
   "source": [
    "# Okay, we have all the subwindows"
   ]
  },
  {
   "cell_type": "code",
   "execution_count": 88,
   "id": "05e67025-d2e9-4da4-aff3-ce908ecbbbc2",
   "metadata": {},
   "outputs": [
    {
     "data": {
      "text/plain": [
       "[]"
      ]
     },
     "execution_count": 88,
     "metadata": {},
     "output_type": "execute_result"
    }
   ],
   "source": [
    "catch_all_unavailable_files_0303"
   ]
  },
  {
   "cell_type": "markdown",
   "id": "25d002c5-5d2c-4abe-8cd4-a6c9d7d6ad39",
   "metadata": {},
   "source": [
    "Block 0304"
   ]
  },
  {
   "cell_type": "code",
   "execution_count": 89,
   "id": "e9bc0677-f664-45bf-8cbd-34dd0edbd0cd",
   "metadata": {},
   "outputs": [],
   "source": [
    "block_0304_figs = \"data/BLAR_implementation/Block_0304/figures\""
   ]
  },
  {
   "cell_type": "code",
   "execution_count": 89,
   "id": "55260a10-9f13-4d76-aeb2-38690c4a35f5",
   "metadata": {},
   "outputs": [],
   "source": [
    "contents_0304 = os.listdir(block_0304_figs)"
   ]
  },
  {
   "cell_type": "code",
   "execution_count": 90,
   "id": "69e2d0a6-773d-4d73-8924-fa701a722df7",
   "metadata": {},
   "outputs": [],
   "source": [
    "contents_0304.sort()"
   ]
  },
  {
   "cell_type": "code",
   "execution_count": 91,
   "id": "07362fa8-3f5b-4ddd-94d0-f81e6467ffb6",
   "metadata": {},
   "outputs": [
    {
     "data": {
      "text/plain": [
       "3072"
      ]
     },
     "execution_count": 91,
     "metadata": {},
     "output_type": "execute_result"
    }
   ],
   "source": [
    "len(contents_0304)"
   ]
  },
  {
   "cell_type": "code",
   "execution_count": 92,
   "id": "ad7f7a58-af42-49a4-a281-c171e8051f7e",
   "metadata": {},
   "outputs": [],
   "source": [
    "# seems like we have the 3072 figures for all sub-windows, but let's make sure?"
   ]
  },
  {
   "cell_type": "code",
   "execution_count": 93,
   "id": "5bace7cb-479e-47ad-876e-fe04614f68d9",
   "metadata": {},
   "outputs": [],
   "source": [
    "catch_all_available_files_0304 = []\n",
    "catch_all_unavailable_files_0304 = []\n",
    "for i in range(1376):\n",
    "    file_name = 'all_trace_plots_sub_' + str(i) + '.png'\n",
    "    if file_name in contents_0304:\n",
    "        catch_all_available_files_0304.append(file_name)\n",
    "    else:\n",
    "        catch_all_unavailable_files_0304.append(file_name)\n",
    "    "
   ]
  },
  {
   "cell_type": "code",
   "execution_count": 94,
   "id": "baf790d7-c321-47ed-be9a-76be1edaa096",
   "metadata": {},
   "outputs": [
    {
     "data": {
      "text/plain": [
       "(3072, 0)"
      ]
     },
     "execution_count": 94,
     "metadata": {},
     "output_type": "execute_result"
    }
   ],
   "source": [
    "len(catch_all_available_files_0304), len(catch_all_unavailable_files_0304)"
   ]
  },
  {
   "cell_type": "code",
   "execution_count": 95,
   "id": "e9809ab3-6ce6-4460-8650-ba63f9dea424",
   "metadata": {},
   "outputs": [],
   "source": [
    "# Okay, we have all the subwindows"
   ]
  },
  {
   "cell_type": "code",
   "execution_count": 96,
   "id": "65e017d0-f9ec-4948-b1fb-245c2371f20a",
   "metadata": {},
   "outputs": [
    {
     "data": {
      "text/plain": [
       "[]"
      ]
     },
     "execution_count": 96,
     "metadata": {},
     "output_type": "execute_result"
    }
   ],
   "source": [
    "catch_all_unavailable_files_0304"
   ]
  },
  {
   "cell_type": "markdown",
   "id": "cadf4b09-7cf1-49c4-ab21-2900dda099b8",
   "metadata": {},
   "source": [
    "Block 0305"
   ]
  },
  {
   "cell_type": "code",
   "execution_count": 97,
   "id": "009f57fe-d3ea-4155-a4f8-23602a165a66",
   "metadata": {},
   "outputs": [],
   "source": [
    "block_0305_figs = \"data/BLAR_implementation/Block_0305/figures\""
   ]
  },
  {
   "cell_type": "code",
   "execution_count": 98,
   "id": "b8485de5-0b02-4aa5-89dc-046d40cd296c",
   "metadata": {},
   "outputs": [],
   "source": [
    "contents_0305 = os.listdir(block_0305_figs)"
   ]
  },
  {
   "cell_type": "code",
   "execution_count": 99,
   "id": "d9d39069-f711-49b6-a453-73e153827f7d",
   "metadata": {},
   "outputs": [],
   "source": [
    "contents_0305.sort()"
   ]
  },
  {
   "cell_type": "code",
   "execution_count": 100,
   "id": "44d9842c-b2a0-4905-8708-fadffeb805e9",
   "metadata": {},
   "outputs": [
    {
     "data": {
      "text/plain": [
       "3072"
      ]
     },
     "execution_count": 100,
     "metadata": {},
     "output_type": "execute_result"
    }
   ],
   "source": [
    "len(contents_0305)"
   ]
  },
  {
   "cell_type": "code",
   "execution_count": 101,
   "id": "1613a3ef-ca5b-492c-90a9-b6cfe93d0603",
   "metadata": {},
   "outputs": [],
   "source": [
    "# seems like we have the 3072 figures for all sub-windows, but let's make sure?"
   ]
  },
  {
   "cell_type": "code",
   "execution_count": 102,
   "id": "0ff73b0b-f9c8-480b-ad41-0a395939b4ae",
   "metadata": {},
   "outputs": [],
   "source": [
    "catch_all_available_files_0305 = []\n",
    "catch_all_unavailable_files_0305 = []\n",
    "for i in range(1376):\n",
    "    file_name = 'all_trace_plots_sub_' + str(i) + '.png'\n",
    "    if file_name in contents_0305:\n",
    "        catch_all_available_files_0305.append(file_name)\n",
    "    else:\n",
    "        catch_all_unavailable_files_0305.append(file_name)\n",
    "    "
   ]
  },
  {
   "cell_type": "code",
   "execution_count": 103,
   "id": "0b04f39a-64eb-48a0-baad-8f58c84a7cb2",
   "metadata": {},
   "outputs": [
    {
     "data": {
      "text/plain": [
       "(3072, 0)"
      ]
     },
     "execution_count": 103,
     "metadata": {},
     "output_type": "execute_result"
    }
   ],
   "source": [
    "len(catch_all_available_files_0305), len(catch_all_unavailable_files_0305)"
   ]
  },
  {
   "cell_type": "code",
   "execution_count": 104,
   "id": "d4b907ec-ba89-483a-ad34-3a3f64a4c5c5",
   "metadata": {},
   "outputs": [],
   "source": [
    "# Okay, we have all the subwindows"
   ]
  },
  {
   "cell_type": "code",
   "execution_count": 105,
   "id": "486fe6a3-39d6-404b-97ef-69a1aef420de",
   "metadata": {},
   "outputs": [],
   "source": [
    "# catch_all_unavailable_files_0305"
   ]
  },
  {
   "cell_type": "markdown",
   "id": "059617c0-a3bc-4d61-9329-dfbde15cc66e",
   "metadata": {},
   "source": [
    "Block 0306"
   ]
  },
  {
   "cell_type": "code",
   "execution_count": 106,
   "id": "365c05a5-6ed6-4a92-abd6-26e89f2194ac",
   "metadata": {},
   "outputs": [],
   "source": [
    "block_0306_figs = \"data/BLAR_implementation/Block_0306/figures\""
   ]
  },
  {
   "cell_type": "code",
   "execution_count": 107,
   "id": "30265b3d-420a-4502-ba38-75f01f856d10",
   "metadata": {},
   "outputs": [],
   "source": [
    "contents_0306 = os.listdir(block_0306_figs)"
   ]
  },
  {
   "cell_type": "code",
   "execution_count": 108,
   "id": "a5e12bda-18df-4bc0-b763-ea0214bb6ea8",
   "metadata": {},
   "outputs": [],
   "source": [
    "contents_0306.sort()"
   ]
  },
  {
   "cell_type": "code",
   "execution_count": 109,
   "id": "3b1f1689-beb2-43df-87cf-1dad8e8df308",
   "metadata": {},
   "outputs": [
    {
     "data": {
      "text/plain": [
       "3072"
      ]
     },
     "execution_count": 109,
     "metadata": {},
     "output_type": "execute_result"
    }
   ],
   "source": [
    "len(contents_0306)"
   ]
  },
  {
   "cell_type": "code",
   "execution_count": 110,
   "id": "3827c91b-1d54-4645-9875-21ce46ef9bd4",
   "metadata": {},
   "outputs": [],
   "source": [
    "# seems like we have the 3072 figures for all sub-windows, but let's make sure?"
   ]
  },
  {
   "cell_type": "code",
   "execution_count": 111,
   "id": "2440c725-6bf0-4716-a1cb-736062c314e0",
   "metadata": {},
   "outputs": [],
   "source": [
    "catch_all_available_files_0306 = []\n",
    "catch_all_unavailable_files_0306 = []\n",
    "for i in range(1376):\n",
    "    file_name = 'all_trace_plots_sub_' + str(i) + '.png'\n",
    "    if file_name in contents_0306:\n",
    "        catch_all_available_files_0306.append(file_name)\n",
    "    else:\n",
    "        catch_all_unavailable_files_0306.append(file_name)\n",
    "    "
   ]
  },
  {
   "cell_type": "code",
   "execution_count": 112,
   "id": "07208391-ff3c-4441-acec-b6f5dbb0d85e",
   "metadata": {},
   "outputs": [
    {
     "data": {
      "text/plain": [
       "(3072, 0)"
      ]
     },
     "execution_count": 112,
     "metadata": {},
     "output_type": "execute_result"
    }
   ],
   "source": [
    "len(catch_all_available_files_0306), len(catch_all_unavailable_files_0306)"
   ]
  },
  {
   "cell_type": "code",
   "execution_count": 113,
   "id": "1bb88c8c-fcfd-4c78-bdde-5e841b812991",
   "metadata": {},
   "outputs": [],
   "source": [
    "# Okay, we have all the subwindows"
   ]
  },
  {
   "cell_type": "code",
   "execution_count": 114,
   "id": "ad31114f-e60f-467e-9686-98ff574c2c29",
   "metadata": {},
   "outputs": [
    {
     "data": {
      "text/plain": [
       "[]"
      ]
     },
     "execution_count": 114,
     "metadata": {},
     "output_type": "execute_result"
    }
   ],
   "source": [
    "catch_all_unavailable_files_0306"
   ]
  }
 ],
 "metadata": {
  "kernelspec": {
   "display_name": "Python 3 (ipykernel)",
   "language": "python",
   "name": "python3"
  },
  "language_info": {
   "codemirror_mode": {
    "name": "ipython",
    "version": 3
   },
   "file_extension": ".py",
   "mimetype": "text/x-python",
   "name": "python",
   "nbconvert_exporter": "python",
   "pygments_lexer": "ipython3",
   "version": "3.9.22"
  }
 },
 "nbformat": 4,
 "nbformat_minor": 5
}
