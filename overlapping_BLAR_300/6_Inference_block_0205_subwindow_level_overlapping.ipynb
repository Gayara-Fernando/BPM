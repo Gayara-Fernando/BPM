{
 "cells": [
  {
   "cell_type": "code",
   "execution_count": 1,
   "id": "658db0bc-89f4-467b-831b-554c08cb3eeb",
   "metadata": {},
   "outputs": [],
   "source": [
    "# Okay, let's get the proper transformations, and also get all the predictions on a subwindow scale - Later as a proof of concept, we will separate the sequences with densities all zero and see how the predicted densities look like."
   ]
  },
  {
   "cell_type": "code",
   "execution_count": 2,
   "id": "53cabc2a-d2b8-4e33-84a0-6c8f552caf3f",
   "metadata": {},
   "outputs": [],
   "source": [
    "import pandas as pd\n",
    "import numpy as np\n",
    "import matplotlib.pyplot as plt \n",
    "import os\n",
    "from sklearn.metrics import mean_absolute_error, mean_squared_error, r2_score\n",
    "from scipy.stats import pearsonr"
   ]
  },
  {
   "cell_type": "code",
   "execution_count": 3,
   "id": "60a1f5b1-2e15-471d-a379-057566c05ccc",
   "metadata": {},
   "outputs": [],
   "source": [
    "# path to dataframes\n",
    "path_to_dfs = \"data/BLAR_implementation/Block_0205/forecasted_counts\""
   ]
  },
  {
   "cell_type": "code",
   "execution_count": 4,
   "id": "ae71026b-360c-485d-8741-1766c956efd6",
   "metadata": {},
   "outputs": [
    {
     "data": {
      "text/plain": [
       "9632"
      ]
     },
     "execution_count": 4,
     "metadata": {},
     "output_type": "execute_result"
    }
   ],
   "source": [
    "len(os.listdir(path_to_dfs))"
   ]
  },
  {
   "cell_type": "code",
   "execution_count": 5,
   "id": "3b23384f-6325-4bc2-9700-240572b13745",
   "metadata": {},
   "outputs": [
    {
     "data": {
      "text/plain": [
       "7.0"
      ]
     },
     "execution_count": 5,
     "metadata": {},
     "output_type": "execute_result"
    }
   ],
   "source": [
    "len(os.listdir(path_to_dfs)) / 1376"
   ]
  },
  {
   "cell_type": "code",
   "execution_count": 6,
   "id": "90d27344-d686-4672-9b01-ded72e5f24a8",
   "metadata": {},
   "outputs": [],
   "source": [
    "averaged_forecasts_csvs = []\n",
    "for file in os.listdir(path_to_dfs):\n",
    "    if file[:8] =='averaged':\n",
    "        averaged_forecasts_csvs.append(file)"
   ]
  },
  {
   "cell_type": "code",
   "execution_count": 7,
   "id": "fabd37ca-e1da-430a-b23a-4905d0247f9b",
   "metadata": {},
   "outputs": [
    {
     "data": {
      "text/plain": [
       "1376"
      ]
     },
     "execution_count": 7,
     "metadata": {},
     "output_type": "execute_result"
    }
   ],
   "source": [
    "# how many csv files do we have?\n",
    "len(averaged_forecasts_csvs)"
   ]
  },
  {
   "cell_type": "code",
   "execution_count": 8,
   "id": "8c0af51f-8022-4186-b027-75dcbac9ab4c",
   "metadata": {},
   "outputs": [
    {
     "data": {
      "text/plain": [
       "'averaged_forecasts_sub_986.csv'"
      ]
     },
     "execution_count": 8,
     "metadata": {},
     "output_type": "execute_result"
    }
   ],
   "source": [
    "averaged_forecasts_csvs[0]"
   ]
  },
  {
   "cell_type": "code",
   "execution_count": 9,
   "id": "cf8d93c8-36d8-49d2-a213-2259381d61c0",
   "metadata": {},
   "outputs": [],
   "source": [
    "# let's create these names in the order of the subwindows\n",
    "ordered_csv_files = ['averaged_forecasts_sub_' + str(i) + '.csv' for i in range(1376)]"
   ]
  },
  {
   "cell_type": "code",
   "execution_count": 10,
   "id": "3d7f4c02-45fa-4004-ae11-fdb0ebeb01ab",
   "metadata": {},
   "outputs": [],
   "source": [
    "# ordered_csv_files"
   ]
  },
  {
   "cell_type": "code",
   "execution_count": 11,
   "id": "bbdf82b7-cc66-4bc5-9a7a-a7c0bbe72881",
   "metadata": {},
   "outputs": [
    {
     "name": "stdout",
     "output_type": "stream",
     "text": [
      "CPU times: user 2.21 s, sys: 433 ms, total: 2.65 s\n",
      "Wall time: 34.6 s\n"
     ]
    }
   ],
   "source": [
    "%%time\n",
    "all_dfs = []\n",
    "for file in ordered_csv_files:\n",
    "    read_df = pd.read_csv(path_to_dfs + '/' + file)\n",
    "    all_dfs.append(read_df)"
   ]
  },
  {
   "cell_type": "code",
   "execution_count": 12,
   "id": "21c0f3b6-00be-4459-a845-b536a3b5999e",
   "metadata": {},
   "outputs": [],
   "source": [
    "# make a single dataframe out of the many\n",
    "combined_df = pd.concat(all_dfs, axis = 1)"
   ]
  },
  {
   "cell_type": "code",
   "execution_count": 13,
   "id": "c827d724-6545-4056-a577-c1714a322ed6",
   "metadata": {},
   "outputs": [
    {
     "data": {
      "text/html": [
       "<div>\n",
       "<style scoped>\n",
       "    .dataframe tbody tr th:only-of-type {\n",
       "        vertical-align: middle;\n",
       "    }\n",
       "\n",
       "    .dataframe tbody tr th {\n",
       "        vertical-align: top;\n",
       "    }\n",
       "\n",
       "    .dataframe thead th {\n",
       "        text-align: right;\n",
       "    }\n",
       "</style>\n",
       "<table border=\"1\" class=\"dataframe\">\n",
       "  <thead>\n",
       "    <tr style=\"text-align: right;\">\n",
       "      <th></th>\n",
       "      <th>True_value</th>\n",
       "      <th>Forecasted_value</th>\n",
       "      <th>True_value</th>\n",
       "      <th>Forecasted_value</th>\n",
       "      <th>True_value</th>\n",
       "      <th>Forecasted_value</th>\n",
       "      <th>True_value</th>\n",
       "      <th>Forecasted_value</th>\n",
       "      <th>True_value</th>\n",
       "      <th>Forecasted_value</th>\n",
       "      <th>...</th>\n",
       "      <th>True_value</th>\n",
       "      <th>Forecasted_value</th>\n",
       "      <th>True_value</th>\n",
       "      <th>Forecasted_value</th>\n",
       "      <th>True_value</th>\n",
       "      <th>Forecasted_value</th>\n",
       "      <th>True_value</th>\n",
       "      <th>Forecasted_value</th>\n",
       "      <th>True_value</th>\n",
       "      <th>Forecasted_value</th>\n",
       "    </tr>\n",
       "  </thead>\n",
       "  <tbody>\n",
       "    <tr>\n",
       "      <th>0</th>\n",
       "      <td>1.609435</td>\n",
       "      <td>1.543159</td>\n",
       "      <td>1.609435</td>\n",
       "      <td>1.551834</td>\n",
       "      <td>1.609435</td>\n",
       "      <td>1.530330</td>\n",
       "      <td>1.632095</td>\n",
       "      <td>1.821694</td>\n",
       "      <td>1.847517</td>\n",
       "      <td>2.070601</td>\n",
       "      <td>...</td>\n",
       "      <td>0.0</td>\n",
       "      <td>0.091632</td>\n",
       "      <td>0.0</td>\n",
       "      <td>0.107461</td>\n",
       "      <td>0.0</td>\n",
       "      <td>0.124840</td>\n",
       "      <td>0.0</td>\n",
       "      <td>0.091289</td>\n",
       "      <td>0.0</td>\n",
       "      <td>0.007550</td>\n",
       "    </tr>\n",
       "    <tr>\n",
       "      <th>1</th>\n",
       "      <td>1.486202</td>\n",
       "      <td>1.572134</td>\n",
       "      <td>1.486202</td>\n",
       "      <td>1.577330</td>\n",
       "      <td>1.486202</td>\n",
       "      <td>1.589076</td>\n",
       "      <td>1.498447</td>\n",
       "      <td>1.926259</td>\n",
       "      <td>1.737895</td>\n",
       "      <td>2.176055</td>\n",
       "      <td>...</td>\n",
       "      <td>0.0</td>\n",
       "      <td>0.037784</td>\n",
       "      <td>0.0</td>\n",
       "      <td>0.033111</td>\n",
       "      <td>0.0</td>\n",
       "      <td>-0.003788</td>\n",
       "      <td>0.0</td>\n",
       "      <td>0.021097</td>\n",
       "      <td>0.0</td>\n",
       "      <td>-0.093139</td>\n",
       "    </tr>\n",
       "    <tr>\n",
       "      <th>2</th>\n",
       "      <td>1.704748</td>\n",
       "      <td>1.571020</td>\n",
       "      <td>1.704748</td>\n",
       "      <td>1.530878</td>\n",
       "      <td>1.704748</td>\n",
       "      <td>1.393450</td>\n",
       "      <td>1.805309</td>\n",
       "      <td>1.402422</td>\n",
       "      <td>2.129425</td>\n",
       "      <td>1.660182</td>\n",
       "      <td>...</td>\n",
       "      <td>0.0</td>\n",
       "      <td>0.068858</td>\n",
       "      <td>0.0</td>\n",
       "      <td>0.070142</td>\n",
       "      <td>0.0</td>\n",
       "      <td>0.050794</td>\n",
       "      <td>0.0</td>\n",
       "      <td>0.064470</td>\n",
       "      <td>0.0</td>\n",
       "      <td>-0.056733</td>\n",
       "    </tr>\n",
       "    <tr>\n",
       "      <th>3</th>\n",
       "      <td>1.607817</td>\n",
       "      <td>1.612331</td>\n",
       "      <td>1.607817</td>\n",
       "      <td>1.749953</td>\n",
       "      <td>1.688651</td>\n",
       "      <td>2.373641</td>\n",
       "      <td>1.818231</td>\n",
       "      <td>3.791704</td>\n",
       "      <td>2.079338</td>\n",
       "      <td>4.367765</td>\n",
       "      <td>...</td>\n",
       "      <td>0.0</td>\n",
       "      <td>0.015594</td>\n",
       "      <td>0.0</td>\n",
       "      <td>0.012863</td>\n",
       "      <td>0.0</td>\n",
       "      <td>-0.013279</td>\n",
       "      <td>0.0</td>\n",
       "      <td>0.003094</td>\n",
       "      <td>0.0</td>\n",
       "      <td>-0.006328</td>\n",
       "    </tr>\n",
       "    <tr>\n",
       "      <th>4</th>\n",
       "      <td>1.386301</td>\n",
       "      <td>1.611284</td>\n",
       "      <td>1.386301</td>\n",
       "      <td>1.679964</td>\n",
       "      <td>1.386301</td>\n",
       "      <td>2.007411</td>\n",
       "      <td>1.386801</td>\n",
       "      <td>2.894407</td>\n",
       "      <td>1.776634</td>\n",
       "      <td>3.402213</td>\n",
       "      <td>...</td>\n",
       "      <td>0.0</td>\n",
       "      <td>-0.001208</td>\n",
       "      <td>0.0</td>\n",
       "      <td>-0.005880</td>\n",
       "      <td>0.0</td>\n",
       "      <td>-0.041453</td>\n",
       "      <td>0.0</td>\n",
       "      <td>0.004636</td>\n",
       "      <td>0.0</td>\n",
       "      <td>-0.038747</td>\n",
       "    </tr>\n",
       "  </tbody>\n",
       "</table>\n",
       "<p>5 rows × 2752 columns</p>\n",
       "</div>"
      ],
      "text/plain": [
       "   True_value  Forecasted_value  True_value  Forecasted_value  True_value  \\\n",
       "0    1.609435          1.543159    1.609435          1.551834    1.609435   \n",
       "1    1.486202          1.572134    1.486202          1.577330    1.486202   \n",
       "2    1.704748          1.571020    1.704748          1.530878    1.704748   \n",
       "3    1.607817          1.612331    1.607817          1.749953    1.688651   \n",
       "4    1.386301          1.611284    1.386301          1.679964    1.386301   \n",
       "\n",
       "   Forecasted_value  True_value  Forecasted_value  True_value  \\\n",
       "0          1.530330    1.632095          1.821694    1.847517   \n",
       "1          1.589076    1.498447          1.926259    1.737895   \n",
       "2          1.393450    1.805309          1.402422    2.129425   \n",
       "3          2.373641    1.818231          3.791704    2.079338   \n",
       "4          2.007411    1.386801          2.894407    1.776634   \n",
       "\n",
       "   Forecasted_value  ...  True_value  Forecasted_value  True_value  \\\n",
       "0          2.070601  ...         0.0          0.091632         0.0   \n",
       "1          2.176055  ...         0.0          0.037784         0.0   \n",
       "2          1.660182  ...         0.0          0.068858         0.0   \n",
       "3          4.367765  ...         0.0          0.015594         0.0   \n",
       "4          3.402213  ...         0.0         -0.001208         0.0   \n",
       "\n",
       "   Forecasted_value  True_value  Forecasted_value  True_value  \\\n",
       "0          0.107461         0.0          0.124840         0.0   \n",
       "1          0.033111         0.0         -0.003788         0.0   \n",
       "2          0.070142         0.0          0.050794         0.0   \n",
       "3          0.012863         0.0         -0.013279         0.0   \n",
       "4         -0.005880         0.0         -0.041453         0.0   \n",
       "\n",
       "   Forecasted_value  True_value  Forecasted_value  \n",
       "0          0.091289         0.0          0.007550  \n",
       "1          0.021097         0.0         -0.093139  \n",
       "2          0.064470         0.0         -0.056733  \n",
       "3          0.003094         0.0         -0.006328  \n",
       "4          0.004636         0.0         -0.038747  \n",
       "\n",
       "[5 rows x 2752 columns]"
      ]
     },
     "execution_count": 13,
     "metadata": {},
     "output_type": "execute_result"
    }
   ],
   "source": [
    "combined_df.head()"
   ]
  },
  {
   "cell_type": "code",
   "execution_count": 14,
   "id": "be1c39bd-5454-46e6-a8fe-128a599ac086",
   "metadata": {},
   "outputs": [
    {
     "data": {
      "text/plain": [
       "(7, 2752)"
      ]
     },
     "execution_count": 14,
     "metadata": {},
     "output_type": "execute_result"
    }
   ],
   "source": [
    "combined_df.shape"
   ]
  },
  {
   "cell_type": "code",
   "execution_count": 15,
   "id": "f04174fe-3b90-4194-b682-57d3cd98b188",
   "metadata": {},
   "outputs": [],
   "source": [
    "# get the true values\n",
    "True_values_df = combined_df[['True_value']]"
   ]
  },
  {
   "cell_type": "code",
   "execution_count": 16,
   "id": "5e749e0d-ac2f-46ac-93a2-cfaa1a32f4e0",
   "metadata": {},
   "outputs": [
    {
     "data": {
      "text/html": [
       "<div>\n",
       "<style scoped>\n",
       "    .dataframe tbody tr th:only-of-type {\n",
       "        vertical-align: middle;\n",
       "    }\n",
       "\n",
       "    .dataframe tbody tr th {\n",
       "        vertical-align: top;\n",
       "    }\n",
       "\n",
       "    .dataframe thead th {\n",
       "        text-align: right;\n",
       "    }\n",
       "</style>\n",
       "<table border=\"1\" class=\"dataframe\">\n",
       "  <thead>\n",
       "    <tr style=\"text-align: right;\">\n",
       "      <th></th>\n",
       "      <th>True_value</th>\n",
       "      <th>True_value</th>\n",
       "      <th>True_value</th>\n",
       "      <th>True_value</th>\n",
       "      <th>True_value</th>\n",
       "      <th>True_value</th>\n",
       "      <th>True_value</th>\n",
       "      <th>True_value</th>\n",
       "      <th>True_value</th>\n",
       "      <th>True_value</th>\n",
       "      <th>...</th>\n",
       "      <th>True_value</th>\n",
       "      <th>True_value</th>\n",
       "      <th>True_value</th>\n",
       "      <th>True_value</th>\n",
       "      <th>True_value</th>\n",
       "      <th>True_value</th>\n",
       "      <th>True_value</th>\n",
       "      <th>True_value</th>\n",
       "      <th>True_value</th>\n",
       "      <th>True_value</th>\n",
       "    </tr>\n",
       "  </thead>\n",
       "  <tbody>\n",
       "    <tr>\n",
       "      <th>0</th>\n",
       "      <td>1.609435</td>\n",
       "      <td>1.609435</td>\n",
       "      <td>1.609435</td>\n",
       "      <td>1.632095</td>\n",
       "      <td>1.847517</td>\n",
       "      <td>2.065012</td>\n",
       "      <td>2.079440</td>\n",
       "      <td>2.050904</td>\n",
       "      <td>1.699089</td>\n",
       "      <td>1.386626</td>\n",
       "      <td>...</td>\n",
       "      <td>0.022302</td>\n",
       "      <td>0.022302</td>\n",
       "      <td>0.022302</td>\n",
       "      <td>0.014685</td>\n",
       "      <td>1.117361e-07</td>\n",
       "      <td>0.0</td>\n",
       "      <td>0.0</td>\n",
       "      <td>0.0</td>\n",
       "      <td>0.0</td>\n",
       "      <td>0.0</td>\n",
       "    </tr>\n",
       "    <tr>\n",
       "      <th>1</th>\n",
       "      <td>1.486202</td>\n",
       "      <td>1.486202</td>\n",
       "      <td>1.486202</td>\n",
       "      <td>1.498447</td>\n",
       "      <td>1.737895</td>\n",
       "      <td>2.004460</td>\n",
       "      <td>2.121454</td>\n",
       "      <td>1.868379</td>\n",
       "      <td>1.609495</td>\n",
       "      <td>1.609438</td>\n",
       "      <td>...</td>\n",
       "      <td>0.405466</td>\n",
       "      <td>0.405466</td>\n",
       "      <td>0.366521</td>\n",
       "      <td>0.000078</td>\n",
       "      <td>0.000000e+00</td>\n",
       "      <td>0.0</td>\n",
       "      <td>0.0</td>\n",
       "      <td>0.0</td>\n",
       "      <td>0.0</td>\n",
       "      <td>0.0</td>\n",
       "    </tr>\n",
       "    <tr>\n",
       "      <th>2</th>\n",
       "      <td>1.704748</td>\n",
       "      <td>1.704748</td>\n",
       "      <td>1.704748</td>\n",
       "      <td>1.805309</td>\n",
       "      <td>2.129425</td>\n",
       "      <td>2.158516</td>\n",
       "      <td>2.228808</td>\n",
       "      <td>2.082618</td>\n",
       "      <td>1.778523</td>\n",
       "      <td>1.658258</td>\n",
       "      <td>...</td>\n",
       "      <td>0.000000</td>\n",
       "      <td>0.000000</td>\n",
       "      <td>0.000000</td>\n",
       "      <td>0.000000</td>\n",
       "      <td>0.000000e+00</td>\n",
       "      <td>0.0</td>\n",
       "      <td>0.0</td>\n",
       "      <td>0.0</td>\n",
       "      <td>0.0</td>\n",
       "      <td>0.0</td>\n",
       "    </tr>\n",
       "    <tr>\n",
       "      <th>3</th>\n",
       "      <td>1.607817</td>\n",
       "      <td>1.607817</td>\n",
       "      <td>1.688651</td>\n",
       "      <td>1.818231</td>\n",
       "      <td>2.079338</td>\n",
       "      <td>2.186903</td>\n",
       "      <td>2.195141</td>\n",
       "      <td>1.831264</td>\n",
       "      <td>1.791760</td>\n",
       "      <td>1.791759</td>\n",
       "      <td>...</td>\n",
       "      <td>0.000000</td>\n",
       "      <td>0.000000</td>\n",
       "      <td>0.000000</td>\n",
       "      <td>0.000000</td>\n",
       "      <td>0.000000e+00</td>\n",
       "      <td>0.0</td>\n",
       "      <td>0.0</td>\n",
       "      <td>0.0</td>\n",
       "      <td>0.0</td>\n",
       "      <td>0.0</td>\n",
       "    </tr>\n",
       "    <tr>\n",
       "      <th>4</th>\n",
       "      <td>1.386301</td>\n",
       "      <td>1.386301</td>\n",
       "      <td>1.386301</td>\n",
       "      <td>1.386801</td>\n",
       "      <td>1.776634</td>\n",
       "      <td>1.818926</td>\n",
       "      <td>1.388655</td>\n",
       "      <td>1.386294</td>\n",
       "      <td>1.386294</td>\n",
       "      <td>1.386294</td>\n",
       "      <td>...</td>\n",
       "      <td>0.000000</td>\n",
       "      <td>0.000000</td>\n",
       "      <td>0.000000</td>\n",
       "      <td>0.000000</td>\n",
       "      <td>0.000000e+00</td>\n",
       "      <td>0.0</td>\n",
       "      <td>0.0</td>\n",
       "      <td>0.0</td>\n",
       "      <td>0.0</td>\n",
       "      <td>0.0</td>\n",
       "    </tr>\n",
       "  </tbody>\n",
       "</table>\n",
       "<p>5 rows × 1376 columns</p>\n",
       "</div>"
      ],
      "text/plain": [
       "   True_value  True_value  True_value  True_value  True_value  True_value  \\\n",
       "0    1.609435    1.609435    1.609435    1.632095    1.847517    2.065012   \n",
       "1    1.486202    1.486202    1.486202    1.498447    1.737895    2.004460   \n",
       "2    1.704748    1.704748    1.704748    1.805309    2.129425    2.158516   \n",
       "3    1.607817    1.607817    1.688651    1.818231    2.079338    2.186903   \n",
       "4    1.386301    1.386301    1.386301    1.386801    1.776634    1.818926   \n",
       "\n",
       "   True_value  True_value  True_value  True_value  ...  True_value  \\\n",
       "0    2.079440    2.050904    1.699089    1.386626  ...    0.022302   \n",
       "1    2.121454    1.868379    1.609495    1.609438  ...    0.405466   \n",
       "2    2.228808    2.082618    1.778523    1.658258  ...    0.000000   \n",
       "3    2.195141    1.831264    1.791760    1.791759  ...    0.000000   \n",
       "4    1.388655    1.386294    1.386294    1.386294  ...    0.000000   \n",
       "\n",
       "   True_value  True_value  True_value    True_value  True_value  True_value  \\\n",
       "0    0.022302    0.022302    0.014685  1.117361e-07         0.0         0.0   \n",
       "1    0.405466    0.366521    0.000078  0.000000e+00         0.0         0.0   \n",
       "2    0.000000    0.000000    0.000000  0.000000e+00         0.0         0.0   \n",
       "3    0.000000    0.000000    0.000000  0.000000e+00         0.0         0.0   \n",
       "4    0.000000    0.000000    0.000000  0.000000e+00         0.0         0.0   \n",
       "\n",
       "   True_value  True_value  True_value  \n",
       "0         0.0         0.0         0.0  \n",
       "1         0.0         0.0         0.0  \n",
       "2         0.0         0.0         0.0  \n",
       "3         0.0         0.0         0.0  \n",
       "4         0.0         0.0         0.0  \n",
       "\n",
       "[5 rows x 1376 columns]"
      ]
     },
     "execution_count": 16,
     "metadata": {},
     "output_type": "execute_result"
    }
   ],
   "source": [
    "True_values_df.head()"
   ]
  },
  {
   "cell_type": "code",
   "execution_count": 17,
   "id": "eaac93e8-5497-4d9e-ba82-6e7b92f5f0bc",
   "metadata": {},
   "outputs": [
    {
     "data": {
      "text/plain": [
       "(7, 1376)"
      ]
     },
     "execution_count": 17,
     "metadata": {},
     "output_type": "execute_result"
    }
   ],
   "source": [
    "True_values_df.shape"
   ]
  },
  {
   "cell_type": "code",
   "execution_count": 18,
   "id": "cfdd6a93-1047-4acb-a8b4-091d15dbae98",
   "metadata": {},
   "outputs": [],
   "source": [
    "# get the proper counts? - Do the transformation\n",
    "exp_true = np.exp(True_values_df)-1"
   ]
  },
  {
   "cell_type": "code",
   "execution_count": 19,
   "id": "0ae1b7a4-0bff-487e-93df-24df360917e0",
   "metadata": {},
   "outputs": [
    {
     "data": {
      "text/html": [
       "<div>\n",
       "<style scoped>\n",
       "    .dataframe tbody tr th:only-of-type {\n",
       "        vertical-align: middle;\n",
       "    }\n",
       "\n",
       "    .dataframe tbody tr th {\n",
       "        vertical-align: top;\n",
       "    }\n",
       "\n",
       "    .dataframe thead th {\n",
       "        text-align: right;\n",
       "    }\n",
       "</style>\n",
       "<table border=\"1\" class=\"dataframe\">\n",
       "  <thead>\n",
       "    <tr style=\"text-align: right;\">\n",
       "      <th></th>\n",
       "      <th>True_value</th>\n",
       "      <th>True_value</th>\n",
       "      <th>True_value</th>\n",
       "      <th>True_value</th>\n",
       "      <th>True_value</th>\n",
       "      <th>True_value</th>\n",
       "      <th>True_value</th>\n",
       "      <th>True_value</th>\n",
       "      <th>True_value</th>\n",
       "      <th>True_value</th>\n",
       "      <th>...</th>\n",
       "      <th>True_value</th>\n",
       "      <th>True_value</th>\n",
       "      <th>True_value</th>\n",
       "      <th>True_value</th>\n",
       "      <th>True_value</th>\n",
       "      <th>True_value</th>\n",
       "      <th>True_value</th>\n",
       "      <th>True_value</th>\n",
       "      <th>True_value</th>\n",
       "      <th>True_value</th>\n",
       "    </tr>\n",
       "  </thead>\n",
       "  <tbody>\n",
       "    <tr>\n",
       "      <th>0</th>\n",
       "      <td>3.999988</td>\n",
       "      <td>3.999988</td>\n",
       "      <td>3.999988</td>\n",
       "      <td>4.114577</td>\n",
       "      <td>5.344045</td>\n",
       "      <td>6.885394</td>\n",
       "      <td>6.999989</td>\n",
       "      <td>6.774925</td>\n",
       "      <td>4.468964</td>\n",
       "      <td>3.001328</td>\n",
       "      <td>...</td>\n",
       "      <td>0.022552</td>\n",
       "      <td>0.022552</td>\n",
       "      <td>0.022552</td>\n",
       "      <td>0.014793</td>\n",
       "      <td>1.117362e-07</td>\n",
       "      <td>0.0</td>\n",
       "      <td>0.0</td>\n",
       "      <td>0.0</td>\n",
       "      <td>0.0</td>\n",
       "      <td>0.0</td>\n",
       "    </tr>\n",
       "    <tr>\n",
       "      <th>1</th>\n",
       "      <td>3.420275</td>\n",
       "      <td>3.420275</td>\n",
       "      <td>3.420275</td>\n",
       "      <td>3.474735</td>\n",
       "      <td>4.685360</td>\n",
       "      <td>6.422087</td>\n",
       "      <td>7.343262</td>\n",
       "      <td>5.477786</td>\n",
       "      <td>4.000286</td>\n",
       "      <td>4.000000</td>\n",
       "      <td>...</td>\n",
       "      <td>0.500001</td>\n",
       "      <td>0.500001</td>\n",
       "      <td>0.442707</td>\n",
       "      <td>0.000078</td>\n",
       "      <td>0.000000e+00</td>\n",
       "      <td>0.0</td>\n",
       "      <td>0.0</td>\n",
       "      <td>0.0</td>\n",
       "      <td>0.0</td>\n",
       "      <td>0.0</td>\n",
       "    </tr>\n",
       "    <tr>\n",
       "      <th>2</th>\n",
       "      <td>4.500000</td>\n",
       "      <td>4.500000</td>\n",
       "      <td>4.500002</td>\n",
       "      <td>5.081848</td>\n",
       "      <td>7.410030</td>\n",
       "      <td>7.658281</td>\n",
       "      <td>8.288784</td>\n",
       "      <td>7.025448</td>\n",
       "      <td>4.921105</td>\n",
       "      <td>4.250155</td>\n",
       "      <td>...</td>\n",
       "      <td>0.000000</td>\n",
       "      <td>0.000000</td>\n",
       "      <td>0.000000</td>\n",
       "      <td>0.000000</td>\n",
       "      <td>0.000000e+00</td>\n",
       "      <td>0.0</td>\n",
       "      <td>0.0</td>\n",
       "      <td>0.0</td>\n",
       "      <td>0.0</td>\n",
       "      <td>0.0</td>\n",
       "    </tr>\n",
       "    <tr>\n",
       "      <th>3</th>\n",
       "      <td>3.991900</td>\n",
       "      <td>3.991900</td>\n",
       "      <td>4.412175</td>\n",
       "      <td>5.160947</td>\n",
       "      <td>6.999172</td>\n",
       "      <td>7.907581</td>\n",
       "      <td>7.981270</td>\n",
       "      <td>5.241772</td>\n",
       "      <td>5.000001</td>\n",
       "      <td>5.000000</td>\n",
       "      <td>...</td>\n",
       "      <td>0.000000</td>\n",
       "      <td>0.000000</td>\n",
       "      <td>0.000000</td>\n",
       "      <td>0.000000</td>\n",
       "      <td>0.000000e+00</td>\n",
       "      <td>0.0</td>\n",
       "      <td>0.0</td>\n",
       "      <td>0.0</td>\n",
       "      <td>0.0</td>\n",
       "      <td>0.0</td>\n",
       "    </tr>\n",
       "    <tr>\n",
       "      <th>4</th>\n",
       "      <td>3.000026</td>\n",
       "      <td>3.000026</td>\n",
       "      <td>3.000026</td>\n",
       "      <td>3.002026</td>\n",
       "      <td>4.909930</td>\n",
       "      <td>5.165234</td>\n",
       "      <td>3.009452</td>\n",
       "      <td>3.000000</td>\n",
       "      <td>3.000000</td>\n",
       "      <td>3.000000</td>\n",
       "      <td>...</td>\n",
       "      <td>0.000000</td>\n",
       "      <td>0.000000</td>\n",
       "      <td>0.000000</td>\n",
       "      <td>0.000000</td>\n",
       "      <td>0.000000e+00</td>\n",
       "      <td>0.0</td>\n",
       "      <td>0.0</td>\n",
       "      <td>0.0</td>\n",
       "      <td>0.0</td>\n",
       "      <td>0.0</td>\n",
       "    </tr>\n",
       "    <tr>\n",
       "      <th>5</th>\n",
       "      <td>3.000000</td>\n",
       "      <td>3.000000</td>\n",
       "      <td>3.000155</td>\n",
       "      <td>3.899179</td>\n",
       "      <td>5.992232</td>\n",
       "      <td>6.655798</td>\n",
       "      <td>6.000003</td>\n",
       "      <td>5.420275</td>\n",
       "      <td>5.000000</td>\n",
       "      <td>5.000000</td>\n",
       "      <td>...</td>\n",
       "      <td>0.000000</td>\n",
       "      <td>0.000000</td>\n",
       "      <td>0.000000</td>\n",
       "      <td>0.000000</td>\n",
       "      <td>0.000000e+00</td>\n",
       "      <td>0.0</td>\n",
       "      <td>0.0</td>\n",
       "      <td>0.0</td>\n",
       "      <td>0.0</td>\n",
       "      <td>0.0</td>\n",
       "    </tr>\n",
       "    <tr>\n",
       "      <th>6</th>\n",
       "      <td>1.945540</td>\n",
       "      <td>2.060129</td>\n",
       "      <td>2.945385</td>\n",
       "      <td>2.945553</td>\n",
       "      <td>4.591970</td>\n",
       "      <td>6.059783</td>\n",
       "      <td>6.945041</td>\n",
       "      <td>6.617360</td>\n",
       "      <td>5.022213</td>\n",
       "      <td>4.999656</td>\n",
       "      <td>...</td>\n",
       "      <td>0.000000</td>\n",
       "      <td>0.000000</td>\n",
       "      <td>0.000000</td>\n",
       "      <td>0.000000</td>\n",
       "      <td>0.000000e+00</td>\n",
       "      <td>0.0</td>\n",
       "      <td>0.0</td>\n",
       "      <td>0.0</td>\n",
       "      <td>0.0</td>\n",
       "      <td>0.0</td>\n",
       "    </tr>\n",
       "  </tbody>\n",
       "</table>\n",
       "<p>7 rows × 1376 columns</p>\n",
       "</div>"
      ],
      "text/plain": [
       "   True_value  True_value  True_value  True_value  True_value  True_value  \\\n",
       "0    3.999988    3.999988    3.999988    4.114577    5.344045    6.885394   \n",
       "1    3.420275    3.420275    3.420275    3.474735    4.685360    6.422087   \n",
       "2    4.500000    4.500000    4.500002    5.081848    7.410030    7.658281   \n",
       "3    3.991900    3.991900    4.412175    5.160947    6.999172    7.907581   \n",
       "4    3.000026    3.000026    3.000026    3.002026    4.909930    5.165234   \n",
       "5    3.000000    3.000000    3.000155    3.899179    5.992232    6.655798   \n",
       "6    1.945540    2.060129    2.945385    2.945553    4.591970    6.059783   \n",
       "\n",
       "   True_value  True_value  True_value  True_value  ...  True_value  \\\n",
       "0    6.999989    6.774925    4.468964    3.001328  ...    0.022552   \n",
       "1    7.343262    5.477786    4.000286    4.000000  ...    0.500001   \n",
       "2    8.288784    7.025448    4.921105    4.250155  ...    0.000000   \n",
       "3    7.981270    5.241772    5.000001    5.000000  ...    0.000000   \n",
       "4    3.009452    3.000000    3.000000    3.000000  ...    0.000000   \n",
       "5    6.000003    5.420275    5.000000    5.000000  ...    0.000000   \n",
       "6    6.945041    6.617360    5.022213    4.999656  ...    0.000000   \n",
       "\n",
       "   True_value  True_value  True_value    True_value  True_value  True_value  \\\n",
       "0    0.022552    0.022552    0.014793  1.117362e-07         0.0         0.0   \n",
       "1    0.500001    0.442707    0.000078  0.000000e+00         0.0         0.0   \n",
       "2    0.000000    0.000000    0.000000  0.000000e+00         0.0         0.0   \n",
       "3    0.000000    0.000000    0.000000  0.000000e+00         0.0         0.0   \n",
       "4    0.000000    0.000000    0.000000  0.000000e+00         0.0         0.0   \n",
       "5    0.000000    0.000000    0.000000  0.000000e+00         0.0         0.0   \n",
       "6    0.000000    0.000000    0.000000  0.000000e+00         0.0         0.0   \n",
       "\n",
       "   True_value  True_value  True_value  \n",
       "0         0.0         0.0         0.0  \n",
       "1         0.0         0.0         0.0  \n",
       "2         0.0         0.0         0.0  \n",
       "3         0.0         0.0         0.0  \n",
       "4         0.0         0.0         0.0  \n",
       "5         0.0         0.0         0.0  \n",
       "6         0.0         0.0         0.0  \n",
       "\n",
       "[7 rows x 1376 columns]"
      ]
     },
     "execution_count": 19,
     "metadata": {},
     "output_type": "execute_result"
    }
   ],
   "source": [
    "exp_true"
   ]
  },
  {
   "cell_type": "code",
   "execution_count": 20,
   "id": "e3ea73ab-34ac-4af8-b9bb-bf9c859bd59e",
   "metadata": {},
   "outputs": [],
   "source": [
    "# Identify the maximum and the minimum true values we have for the test data"
   ]
  },
  {
   "cell_type": "code",
   "execution_count": 21,
   "id": "0c0af4a8-5a75-4e0a-b1d7-ac0240faa7db",
   "metadata": {},
   "outputs": [
    {
     "data": {
      "text/plain": [
       "(0.0, 11.082551652028974)"
      ]
     },
     "execution_count": 21,
     "metadata": {},
     "output_type": "execute_result"
    }
   ],
   "source": [
    "exp_true.values.min(), exp_true.values.max()"
   ]
  },
  {
   "cell_type": "code",
   "execution_count": 22,
   "id": "c8a91a31-659e-42cb-a715-2fbc8dcd1125",
   "metadata": {},
   "outputs": [],
   "source": [
    "# Okay, so the highest true value we have is ~3. let's get teh min and max values for the predicted exponentiated values also"
   ]
  },
  {
   "cell_type": "code",
   "execution_count": 23,
   "id": "68791706-80d1-417c-97b5-1219d5d3ba5c",
   "metadata": {},
   "outputs": [],
   "source": [
    "all_forecasts_npy_files = []\n",
    "for file in os.listdir(path_to_dfs):\n",
    "    if file[:13] == 'all_forecasts':\n",
    "        all_forecasts_npy_files.append(file)"
   ]
  },
  {
   "cell_type": "code",
   "execution_count": 24,
   "id": "510a3a60-6b0f-4ba1-b628-1eea63adbf3a",
   "metadata": {},
   "outputs": [
    {
     "data": {
      "text/plain": [
       "1376"
      ]
     },
     "execution_count": 24,
     "metadata": {},
     "output_type": "execute_result"
    }
   ],
   "source": [
    "len(all_forecasts_npy_files)"
   ]
  },
  {
   "cell_type": "code",
   "execution_count": 25,
   "id": "926db1ce-530e-43a7-b8de-d68e54465a3b",
   "metadata": {},
   "outputs": [
    {
     "data": {
      "text/plain": [
       "'all_forecasts_sub_1104.npy'"
      ]
     },
     "execution_count": 25,
     "metadata": {},
     "output_type": "execute_result"
    }
   ],
   "source": [
    "all_forecasts_npy_files[0]"
   ]
  },
  {
   "cell_type": "code",
   "execution_count": 26,
   "id": "5ae1ee6d-7957-416d-8f76-b1c0f4f74048",
   "metadata": {},
   "outputs": [],
   "source": [
    "# load just the first file\n",
    "sub_273_forecasts = np.load(os.path.join(path_to_dfs, all_forecasts_npy_files[0]))"
   ]
  },
  {
   "cell_type": "code",
   "execution_count": 27,
   "id": "b18192a3-ea14-4ff3-af61-572f491fcce5",
   "metadata": {},
   "outputs": [
    {
     "data": {
      "text/plain": [
       "(1000, 4, 7)"
      ]
     },
     "execution_count": 27,
     "metadata": {},
     "output_type": "execute_result"
    }
   ],
   "source": [
    "sub_273_forecasts.shape"
   ]
  },
  {
   "cell_type": "code",
   "execution_count": 28,
   "id": "68634f79-5fe1-4326-821c-f88fd6358121",
   "metadata": {},
   "outputs": [],
   "source": [
    "# Okay, so for the subwindow 273 -  this file seem to have all the 1000 values in the 4 chains for all the test time points in the sequence"
   ]
  },
  {
   "cell_type": "code",
   "execution_count": 29,
   "id": "2beec9ec-bc5b-48ed-94bf-708dc1c323c5",
   "metadata": {},
   "outputs": [],
   "source": [
    "# transform these values?\n",
    "sub_273_forecasts = np.exp(sub_273_forecasts) - 1"
   ]
  },
  {
   "cell_type": "code",
   "execution_count": 30,
   "id": "139479a7-fd4e-4c9e-b125-b456aabcc33e",
   "metadata": {},
   "outputs": [
    {
     "data": {
      "text/plain": [
       "(-0.9742745, 49.42197)"
      ]
     },
     "execution_count": 30,
     "metadata": {},
     "output_type": "execute_result"
    }
   ],
   "source": [
    "sub_273_forecasts.min(), sub_273_forecasts.max()"
   ]
  },
  {
   "cell_type": "code",
   "execution_count": 31,
   "id": "eeea39fb-d9b6-4e75-b4f4-a48db2a78dda",
   "metadata": {},
   "outputs": [],
   "source": [
    "# get rid of anything below zero?\n",
    "sub_273_forecasts[sub_273_forecasts < 0] = 0"
   ]
  },
  {
   "cell_type": "code",
   "execution_count": 32,
   "id": "a3b048ca-2362-4521-a082-1e2a59ab8063",
   "metadata": {},
   "outputs": [
    {
     "data": {
      "text/plain": [
       "(0.0, 49.42197)"
      ]
     },
     "execution_count": 32,
     "metadata": {},
     "output_type": "execute_result"
    }
   ],
   "source": [
    "sub_273_forecasts.min(), sub_273_forecasts.max()"
   ]
  },
  {
   "cell_type": "code",
   "execution_count": 33,
   "id": "71918f6c-61fa-4666-bbae-05df60d1b050",
   "metadata": {},
   "outputs": [],
   "source": [
    "# cool -  what does these values mean?"
   ]
  },
  {
   "cell_type": "code",
   "execution_count": 34,
   "id": "91c6f8c0-cd40-4b9d-ba4f-279bc3073022",
   "metadata": {},
   "outputs": [],
   "source": [
    "# try averaging the forecasted values along the 0th and 1st axis?"
   ]
  },
  {
   "cell_type": "code",
   "execution_count": 35,
   "id": "47faa528-5199-4bab-b505-26087b378584",
   "metadata": {},
   "outputs": [],
   "source": [
    "sub_273_forecasts_averged = np.mean(sub_273_forecasts, axis = (0,1))"
   ]
  },
  {
   "cell_type": "code",
   "execution_count": 36,
   "id": "64d024db-bb14-4910-a061-3e0afe1c88ac",
   "metadata": {},
   "outputs": [
    {
     "data": {
      "text/plain": [
       "array([2.1658087 , 1.6326008 , 2.8640924 , 0.9512046 , 0.9531844 ,\n",
       "       0.98225486, 1.0689142 ], dtype=float32)"
      ]
     },
     "execution_count": 36,
     "metadata": {},
     "output_type": "execute_result"
    }
   ],
   "source": [
    "sub_273_forecasts_averged"
   ]
  },
  {
   "cell_type": "code",
   "execution_count": 37,
   "id": "9872bc2e-ed4a-4a8c-ae6b-3b63e640c0bb",
   "metadata": {},
   "outputs": [
    {
     "data": {
      "text/plain": [
       "(7,)"
      ]
     },
     "execution_count": 37,
     "metadata": {},
     "output_type": "execute_result"
    }
   ],
   "source": [
    "sub_273_forecasts_averged.shape"
   ]
  },
  {
   "cell_type": "code",
   "execution_count": 38,
   "id": "40d19bd4-5f92-4cba-a0ba-d2cef1985fba",
   "metadata": {},
   "outputs": [],
   "source": [
    "# sanity check"
   ]
  },
  {
   "cell_type": "code",
   "execution_count": 39,
   "id": "43d050cf-9337-4500-8a46-e51683b39f30",
   "metadata": {},
   "outputs": [
    {
     "name": "stdout",
     "output_type": "stream",
     "text": [
      "2.1658099\n",
      "1.6326001\n",
      "2.8640952\n",
      "0.9512052\n",
      "0.95318514\n",
      "0.98225504\n",
      "1.0689145\n"
     ]
    }
   ],
   "source": [
    "# sanity check\n",
    "for i in range(sub_273_forecasts.shape[-1]):\n",
    "    track = sub_273_forecasts[:,:,i]\n",
    "    print(np.mean(track))"
   ]
  },
  {
   "cell_type": "code",
   "execution_count": 40,
   "id": "9404b3fc-7f26-4620-a1c7-816a12ccc1e7",
   "metadata": {},
   "outputs": [],
   "source": [
    "# Verify the shape of the true values - these are at a subwindow level, and we can use these as they are for getting the metrics, and the scatterplots?"
   ]
  },
  {
   "cell_type": "code",
   "execution_count": 41,
   "id": "81d84191-828a-4853-9765-f72b944f6e43",
   "metadata": {},
   "outputs": [
    {
     "data": {
      "text/plain": [
       "(7, 1376)"
      ]
     },
     "execution_count": 41,
     "metadata": {},
     "output_type": "execute_result"
    }
   ],
   "source": [
    "exp_true.shape"
   ]
  },
  {
   "cell_type": "code",
   "execution_count": 42,
   "id": "50e3210d-b649-4e19-b372-53c48aa7134e",
   "metadata": {},
   "outputs": [],
   "source": [
    "# Okay, we need the predictions for the subwindows in the same shape? - but before that, we need to do the transformation for all the npy files. We can do this in a loop - we have done this before, use the code as it is."
   ]
  },
  {
   "cell_type": "code",
   "execution_count": 43,
   "id": "cacb4a51-039b-4621-936f-3992c72137db",
   "metadata": {},
   "outputs": [
    {
     "name": "stdout",
     "output_type": "stream",
     "text": [
      "CPU times: user 1.02 s, sys: 508 ms, total: 1.53 s\n",
      "Wall time: 34.7 s\n"
     ]
    }
   ],
   "source": [
    "%%time\n",
    "catch_all_averaged_preds = []\n",
    "for i in range(exp_true.shape[1]):\n",
    "    file_name = \"all_forecasts_sub_\" + str(i) + '.npy'\n",
    "    al_forecasts_npy_file = np.load(os.path.join(path_to_dfs, file_name))\n",
    "    # make the conversion\n",
    "    sub_window_forecasts = np.exp(al_forecasts_npy_file) - 1\n",
    "    # get rid of anything below zero?\n",
    "    sub_window_forecasts[sub_window_forecasts < 0] = 0\n",
    "    # get averages over time \n",
    "    sub_window_forecasts_averaged = np.mean(sub_window_forecasts, axis = (0,1))\n",
    "    catch_all_averaged_preds.append(sub_window_forecasts_averaged)    "
   ]
  },
  {
   "cell_type": "code",
   "execution_count": 44,
   "id": "d84417a1-e8f2-428d-9170-bf95909115df",
   "metadata": {},
   "outputs": [
    {
     "data": {
      "text/plain": [
       "1376"
      ]
     },
     "execution_count": 44,
     "metadata": {},
     "output_type": "execute_result"
    }
   ],
   "source": [
    "len(catch_all_averaged_preds)"
   ]
  },
  {
   "cell_type": "code",
   "execution_count": 45,
   "id": "b64849c3-b140-420b-b618-624d3ba45d03",
   "metadata": {},
   "outputs": [
    {
     "data": {
      "text/plain": [
       "array([ 3.9326782,  4.119783 ,  4.142134 , 14.337399 ,  6.5449266,\n",
       "        6.0943933,  6.361912 ], dtype=float32)"
      ]
     },
     "execution_count": 45,
     "metadata": {},
     "output_type": "execute_result"
    }
   ],
   "source": [
    "catch_all_averaged_preds[0]"
   ]
  },
  {
   "cell_type": "code",
   "execution_count": 46,
   "id": "ef6c25a0-0f7f-4434-8d5c-b3443659d436",
   "metadata": {},
   "outputs": [],
   "source": [
    "Forecasted_values_df = pd.DataFrame(catch_all_averaged_preds).T"
   ]
  },
  {
   "cell_type": "code",
   "execution_count": 47,
   "id": "b26d17a8-7f02-403f-a02a-18d2d8d12854",
   "metadata": {},
   "outputs": [
    {
     "data": {
      "text/plain": [
       "(7, 1376)"
      ]
     },
     "execution_count": 47,
     "metadata": {},
     "output_type": "execute_result"
    }
   ],
   "source": [
    "Forecasted_values_df.shape"
   ]
  },
  {
   "cell_type": "code",
   "execution_count": 48,
   "id": "a630e79d-0c18-492a-a414-40d6e51d5584",
   "metadata": {},
   "outputs": [
    {
     "data": {
      "text/html": [
       "<div>\n",
       "<style scoped>\n",
       "    .dataframe tbody tr th:only-of-type {\n",
       "        vertical-align: middle;\n",
       "    }\n",
       "\n",
       "    .dataframe tbody tr th {\n",
       "        vertical-align: top;\n",
       "    }\n",
       "\n",
       "    .dataframe thead th {\n",
       "        text-align: right;\n",
       "    }\n",
       "</style>\n",
       "<table border=\"1\" class=\"dataframe\">\n",
       "  <thead>\n",
       "    <tr style=\"text-align: right;\">\n",
       "      <th></th>\n",
       "      <th>0</th>\n",
       "      <th>1</th>\n",
       "      <th>2</th>\n",
       "      <th>3</th>\n",
       "      <th>4</th>\n",
       "      <th>5</th>\n",
       "      <th>6</th>\n",
       "      <th>7</th>\n",
       "      <th>8</th>\n",
       "      <th>9</th>\n",
       "      <th>...</th>\n",
       "      <th>1366</th>\n",
       "      <th>1367</th>\n",
       "      <th>1368</th>\n",
       "      <th>1369</th>\n",
       "      <th>1370</th>\n",
       "      <th>1371</th>\n",
       "      <th>1372</th>\n",
       "      <th>1373</th>\n",
       "      <th>1374</th>\n",
       "      <th>1375</th>\n",
       "    </tr>\n",
       "  </thead>\n",
       "  <tbody>\n",
       "    <tr>\n",
       "      <th>0</th>\n",
       "      <td>3.932678</td>\n",
       "      <td>3.933593</td>\n",
       "      <td>3.792443</td>\n",
       "      <td>5.437506</td>\n",
       "      <td>8.082741</td>\n",
       "      <td>7.819171</td>\n",
       "      <td>6.588145</td>\n",
       "      <td>5.462041</td>\n",
       "      <td>4.136084</td>\n",
       "      <td>4.202950</td>\n",
       "      <td>...</td>\n",
       "      <td>0.181018</td>\n",
       "      <td>0.168495</td>\n",
       "      <td>0.155338</td>\n",
       "      <td>0.139326</td>\n",
       "      <td>0.147779</td>\n",
       "      <td>0.163399</td>\n",
       "      <td>0.177176</td>\n",
       "      <td>0.196960</td>\n",
       "      <td>0.171844</td>\n",
       "      <td>0.041419</td>\n",
       "    </tr>\n",
       "    <tr>\n",
       "      <th>1</th>\n",
       "      <td>4.119783</td>\n",
       "      <td>4.140505</td>\n",
       "      <td>4.126584</td>\n",
       "      <td>6.223222</td>\n",
       "      <td>10.103832</td>\n",
       "      <td>9.015433</td>\n",
       "      <td>6.787932</td>\n",
       "      <td>6.374667</td>\n",
       "      <td>4.137870</td>\n",
       "      <td>4.231476</td>\n",
       "      <td>...</td>\n",
       "      <td>0.157754</td>\n",
       "      <td>0.140983</td>\n",
       "      <td>0.120150</td>\n",
       "      <td>0.093093</td>\n",
       "      <td>0.116291</td>\n",
       "      <td>0.110791</td>\n",
       "      <td>0.103275</td>\n",
       "      <td>0.083328</td>\n",
       "      <td>0.102880</td>\n",
       "      <td>0.011957</td>\n",
       "    </tr>\n",
       "    <tr>\n",
       "      <th>2</th>\n",
       "      <td>4.142134</td>\n",
       "      <td>3.906164</td>\n",
       "      <td>3.208768</td>\n",
       "      <td>3.224933</td>\n",
       "      <td>4.540843</td>\n",
       "      <td>5.622232</td>\n",
       "      <td>6.804345</td>\n",
       "      <td>4.931649</td>\n",
       "      <td>4.771575</td>\n",
       "      <td>4.715947</td>\n",
       "      <td>...</td>\n",
       "      <td>0.291257</td>\n",
       "      <td>0.259403</td>\n",
       "      <td>0.169764</td>\n",
       "      <td>0.102488</td>\n",
       "      <td>0.124288</td>\n",
       "      <td>0.125061</td>\n",
       "      <td>0.125825</td>\n",
       "      <td>0.110874</td>\n",
       "      <td>0.122280</td>\n",
       "      <td>0.009988</td>\n",
       "    </tr>\n",
       "    <tr>\n",
       "      <th>3</th>\n",
       "      <td>14.337399</td>\n",
       "      <td>13.525181</td>\n",
       "      <td>19.507345</td>\n",
       "      <td>123.125015</td>\n",
       "      <td>84518.296875</td>\n",
       "      <td>24985.058594</td>\n",
       "      <td>2841.108643</td>\n",
       "      <td>1498.780640</td>\n",
       "      <td>30.755207</td>\n",
       "      <td>54.030880</td>\n",
       "      <td>...</td>\n",
       "      <td>0.163835</td>\n",
       "      <td>0.122183</td>\n",
       "      <td>0.128144</td>\n",
       "      <td>0.086951</td>\n",
       "      <td>0.101202</td>\n",
       "      <td>0.088236</td>\n",
       "      <td>0.086738</td>\n",
       "      <td>0.070541</td>\n",
       "      <td>0.087330</td>\n",
       "      <td>0.016877</td>\n",
       "    </tr>\n",
       "    <tr>\n",
       "      <th>4</th>\n",
       "      <td>6.544927</td>\n",
       "      <td>6.210675</td>\n",
       "      <td>8.509479</td>\n",
       "      <td>25.154005</td>\n",
       "      <td>554.593018</td>\n",
       "      <td>1066.092163</td>\n",
       "      <td>190.734665</td>\n",
       "      <td>172.036163</td>\n",
       "      <td>12.248383</td>\n",
       "      <td>18.719873</td>\n",
       "      <td>...</td>\n",
       "      <td>0.160363</td>\n",
       "      <td>0.118495</td>\n",
       "      <td>0.146722</td>\n",
       "      <td>0.103506</td>\n",
       "      <td>0.096356</td>\n",
       "      <td>0.087823</td>\n",
       "      <td>0.091056</td>\n",
       "      <td>0.072019</td>\n",
       "      <td>0.098025</td>\n",
       "      <td>0.010093</td>\n",
       "    </tr>\n",
       "  </tbody>\n",
       "</table>\n",
       "<p>5 rows × 1376 columns</p>\n",
       "</div>"
      ],
      "text/plain": [
       "        0          1          2           3             4             5     \\\n",
       "0   3.932678   3.933593   3.792443    5.437506      8.082741      7.819171   \n",
       "1   4.119783   4.140505   4.126584    6.223222     10.103832      9.015433   \n",
       "2   4.142134   3.906164   3.208768    3.224933      4.540843      5.622232   \n",
       "3  14.337399  13.525181  19.507345  123.125015  84518.296875  24985.058594   \n",
       "4   6.544927   6.210675   8.509479   25.154005    554.593018   1066.092163   \n",
       "\n",
       "          6            7          8          9     ...      1366      1367  \\\n",
       "0     6.588145     5.462041   4.136084   4.202950  ...  0.181018  0.168495   \n",
       "1     6.787932     6.374667   4.137870   4.231476  ...  0.157754  0.140983   \n",
       "2     6.804345     4.931649   4.771575   4.715947  ...  0.291257  0.259403   \n",
       "3  2841.108643  1498.780640  30.755207  54.030880  ...  0.163835  0.122183   \n",
       "4   190.734665   172.036163  12.248383  18.719873  ...  0.160363  0.118495   \n",
       "\n",
       "       1368      1369      1370      1371      1372      1373      1374  \\\n",
       "0  0.155338  0.139326  0.147779  0.163399  0.177176  0.196960  0.171844   \n",
       "1  0.120150  0.093093  0.116291  0.110791  0.103275  0.083328  0.102880   \n",
       "2  0.169764  0.102488  0.124288  0.125061  0.125825  0.110874  0.122280   \n",
       "3  0.128144  0.086951  0.101202  0.088236  0.086738  0.070541  0.087330   \n",
       "4  0.146722  0.103506  0.096356  0.087823  0.091056  0.072019  0.098025   \n",
       "\n",
       "       1375  \n",
       "0  0.041419  \n",
       "1  0.011957  \n",
       "2  0.009988  \n",
       "3  0.016877  \n",
       "4  0.010093  \n",
       "\n",
       "[5 rows x 1376 columns]"
      ]
     },
     "execution_count": 48,
     "metadata": {},
     "output_type": "execute_result"
    }
   ],
   "source": [
    "Forecasted_values_df.head()"
   ]
  },
  {
   "cell_type": "code",
   "execution_count": 49,
   "id": "68c7bc01-af52-4664-8745-99c3f70ed793",
   "metadata": {},
   "outputs": [],
   "source": [
    "# give column names here\n",
    "Forecasted_values_df.columns = ['forecasted_val_' + str(i) for i in range(1376)]"
   ]
  },
  {
   "cell_type": "code",
   "execution_count": 50,
   "id": "5753e902-47ea-4455-a177-ccb6cd4b16ff",
   "metadata": {},
   "outputs": [
    {
     "data": {
      "text/html": [
       "<div>\n",
       "<style scoped>\n",
       "    .dataframe tbody tr th:only-of-type {\n",
       "        vertical-align: middle;\n",
       "    }\n",
       "\n",
       "    .dataframe tbody tr th {\n",
       "        vertical-align: top;\n",
       "    }\n",
       "\n",
       "    .dataframe thead th {\n",
       "        text-align: right;\n",
       "    }\n",
       "</style>\n",
       "<table border=\"1\" class=\"dataframe\">\n",
       "  <thead>\n",
       "    <tr style=\"text-align: right;\">\n",
       "      <th></th>\n",
       "      <th>forecasted_val_0</th>\n",
       "      <th>forecasted_val_1</th>\n",
       "      <th>forecasted_val_2</th>\n",
       "      <th>forecasted_val_3</th>\n",
       "      <th>forecasted_val_4</th>\n",
       "      <th>forecasted_val_5</th>\n",
       "      <th>forecasted_val_6</th>\n",
       "      <th>forecasted_val_7</th>\n",
       "      <th>forecasted_val_8</th>\n",
       "      <th>forecasted_val_9</th>\n",
       "      <th>...</th>\n",
       "      <th>forecasted_val_1366</th>\n",
       "      <th>forecasted_val_1367</th>\n",
       "      <th>forecasted_val_1368</th>\n",
       "      <th>forecasted_val_1369</th>\n",
       "      <th>forecasted_val_1370</th>\n",
       "      <th>forecasted_val_1371</th>\n",
       "      <th>forecasted_val_1372</th>\n",
       "      <th>forecasted_val_1373</th>\n",
       "      <th>forecasted_val_1374</th>\n",
       "      <th>forecasted_val_1375</th>\n",
       "    </tr>\n",
       "  </thead>\n",
       "  <tbody>\n",
       "    <tr>\n",
       "      <th>0</th>\n",
       "      <td>3.932678</td>\n",
       "      <td>3.933593</td>\n",
       "      <td>3.792443</td>\n",
       "      <td>5.437506</td>\n",
       "      <td>8.082741</td>\n",
       "      <td>7.819171</td>\n",
       "      <td>6.588145</td>\n",
       "      <td>5.462041</td>\n",
       "      <td>4.136084</td>\n",
       "      <td>4.202950</td>\n",
       "      <td>...</td>\n",
       "      <td>0.181018</td>\n",
       "      <td>0.168495</td>\n",
       "      <td>0.155338</td>\n",
       "      <td>0.139326</td>\n",
       "      <td>0.147779</td>\n",
       "      <td>0.163399</td>\n",
       "      <td>0.177176</td>\n",
       "      <td>0.196960</td>\n",
       "      <td>0.171844</td>\n",
       "      <td>0.041419</td>\n",
       "    </tr>\n",
       "    <tr>\n",
       "      <th>1</th>\n",
       "      <td>4.119783</td>\n",
       "      <td>4.140505</td>\n",
       "      <td>4.126584</td>\n",
       "      <td>6.223222</td>\n",
       "      <td>10.103832</td>\n",
       "      <td>9.015433</td>\n",
       "      <td>6.787932</td>\n",
       "      <td>6.374667</td>\n",
       "      <td>4.137870</td>\n",
       "      <td>4.231476</td>\n",
       "      <td>...</td>\n",
       "      <td>0.157754</td>\n",
       "      <td>0.140983</td>\n",
       "      <td>0.120150</td>\n",
       "      <td>0.093093</td>\n",
       "      <td>0.116291</td>\n",
       "      <td>0.110791</td>\n",
       "      <td>0.103275</td>\n",
       "      <td>0.083328</td>\n",
       "      <td>0.102880</td>\n",
       "      <td>0.011957</td>\n",
       "    </tr>\n",
       "    <tr>\n",
       "      <th>2</th>\n",
       "      <td>4.142134</td>\n",
       "      <td>3.906164</td>\n",
       "      <td>3.208768</td>\n",
       "      <td>3.224933</td>\n",
       "      <td>4.540843</td>\n",
       "      <td>5.622232</td>\n",
       "      <td>6.804345</td>\n",
       "      <td>4.931649</td>\n",
       "      <td>4.771575</td>\n",
       "      <td>4.715947</td>\n",
       "      <td>...</td>\n",
       "      <td>0.291257</td>\n",
       "      <td>0.259403</td>\n",
       "      <td>0.169764</td>\n",
       "      <td>0.102488</td>\n",
       "      <td>0.124288</td>\n",
       "      <td>0.125061</td>\n",
       "      <td>0.125825</td>\n",
       "      <td>0.110874</td>\n",
       "      <td>0.122280</td>\n",
       "      <td>0.009988</td>\n",
       "    </tr>\n",
       "    <tr>\n",
       "      <th>3</th>\n",
       "      <td>14.337399</td>\n",
       "      <td>13.525181</td>\n",
       "      <td>19.507345</td>\n",
       "      <td>123.125015</td>\n",
       "      <td>84518.296875</td>\n",
       "      <td>24985.058594</td>\n",
       "      <td>2841.108643</td>\n",
       "      <td>1498.780640</td>\n",
       "      <td>30.755207</td>\n",
       "      <td>54.030880</td>\n",
       "      <td>...</td>\n",
       "      <td>0.163835</td>\n",
       "      <td>0.122183</td>\n",
       "      <td>0.128144</td>\n",
       "      <td>0.086951</td>\n",
       "      <td>0.101202</td>\n",
       "      <td>0.088236</td>\n",
       "      <td>0.086738</td>\n",
       "      <td>0.070541</td>\n",
       "      <td>0.087330</td>\n",
       "      <td>0.016877</td>\n",
       "    </tr>\n",
       "    <tr>\n",
       "      <th>4</th>\n",
       "      <td>6.544927</td>\n",
       "      <td>6.210675</td>\n",
       "      <td>8.509479</td>\n",
       "      <td>25.154005</td>\n",
       "      <td>554.593018</td>\n",
       "      <td>1066.092163</td>\n",
       "      <td>190.734665</td>\n",
       "      <td>172.036163</td>\n",
       "      <td>12.248383</td>\n",
       "      <td>18.719873</td>\n",
       "      <td>...</td>\n",
       "      <td>0.160363</td>\n",
       "      <td>0.118495</td>\n",
       "      <td>0.146722</td>\n",
       "      <td>0.103506</td>\n",
       "      <td>0.096356</td>\n",
       "      <td>0.087823</td>\n",
       "      <td>0.091056</td>\n",
       "      <td>0.072019</td>\n",
       "      <td>0.098025</td>\n",
       "      <td>0.010093</td>\n",
       "    </tr>\n",
       "  </tbody>\n",
       "</table>\n",
       "<p>5 rows × 1376 columns</p>\n",
       "</div>"
      ],
      "text/plain": [
       "   forecasted_val_0  forecasted_val_1  forecasted_val_2  forecasted_val_3  \\\n",
       "0          3.932678          3.933593          3.792443          5.437506   \n",
       "1          4.119783          4.140505          4.126584          6.223222   \n",
       "2          4.142134          3.906164          3.208768          3.224933   \n",
       "3         14.337399         13.525181         19.507345        123.125015   \n",
       "4          6.544927          6.210675          8.509479         25.154005   \n",
       "\n",
       "   forecasted_val_4  forecasted_val_5  forecasted_val_6  forecasted_val_7  \\\n",
       "0          8.082741          7.819171          6.588145          5.462041   \n",
       "1         10.103832          9.015433          6.787932          6.374667   \n",
       "2          4.540843          5.622232          6.804345          4.931649   \n",
       "3      84518.296875      24985.058594       2841.108643       1498.780640   \n",
       "4        554.593018       1066.092163        190.734665        172.036163   \n",
       "\n",
       "   forecasted_val_8  forecasted_val_9  ...  forecasted_val_1366  \\\n",
       "0          4.136084          4.202950  ...             0.181018   \n",
       "1          4.137870          4.231476  ...             0.157754   \n",
       "2          4.771575          4.715947  ...             0.291257   \n",
       "3         30.755207         54.030880  ...             0.163835   \n",
       "4         12.248383         18.719873  ...             0.160363   \n",
       "\n",
       "   forecasted_val_1367  forecasted_val_1368  forecasted_val_1369  \\\n",
       "0             0.168495             0.155338             0.139326   \n",
       "1             0.140983             0.120150             0.093093   \n",
       "2             0.259403             0.169764             0.102488   \n",
       "3             0.122183             0.128144             0.086951   \n",
       "4             0.118495             0.146722             0.103506   \n",
       "\n",
       "   forecasted_val_1370  forecasted_val_1371  forecasted_val_1372  \\\n",
       "0             0.147779             0.163399             0.177176   \n",
       "1             0.116291             0.110791             0.103275   \n",
       "2             0.124288             0.125061             0.125825   \n",
       "3             0.101202             0.088236             0.086738   \n",
       "4             0.096356             0.087823             0.091056   \n",
       "\n",
       "   forecasted_val_1373  forecasted_val_1374  forecasted_val_1375  \n",
       "0             0.196960             0.171844             0.041419  \n",
       "1             0.083328             0.102880             0.011957  \n",
       "2             0.110874             0.122280             0.009988  \n",
       "3             0.070541             0.087330             0.016877  \n",
       "4             0.072019             0.098025             0.010093  \n",
       "\n",
       "[5 rows x 1376 columns]"
      ]
     },
     "execution_count": 50,
     "metadata": {},
     "output_type": "execute_result"
    }
   ],
   "source": [
    "Forecasted_values_df.head()"
   ]
  },
  {
   "cell_type": "code",
   "execution_count": 51,
   "id": "8b5404a5-79f0-4045-a156-69eea2eb2081",
   "metadata": {},
   "outputs": [],
   "source": [
    "# get the min and max values here?"
   ]
  },
  {
   "cell_type": "code",
   "execution_count": 52,
   "id": "3f78b24b-0f2a-41c7-8ded-8d8158b0da98",
   "metadata": {},
   "outputs": [
    {
     "data": {
      "text/plain": [
       "(0.0, 84518.3)"
      ]
     },
     "execution_count": 52,
     "metadata": {},
     "output_type": "execute_result"
    }
   ],
   "source": [
    "Forecasted_values_df.values.min(), Forecasted_values_df.values.max()"
   ]
  },
  {
   "cell_type": "code",
   "execution_count": 53,
   "id": "cc69247e-f637-4e72-80e0-fafc5cf9db62",
   "metadata": {},
   "outputs": [],
   "source": [
    "# notice that, there are a lot of values which seem to be greater than 20 - this seems like an okay value to have a cut off - should we try to get the row and column indices of these values? Maybe we need to run these later individually until we get stable values?"
   ]
  },
  {
   "cell_type": "code",
   "execution_count": 54,
   "id": "ff820a6e-cfcb-4b4b-a23a-78662a110c7c",
   "metadata": {},
   "outputs": [],
   "source": [
    "mask_gt_20 = Forecasted_values_df > 20"
   ]
  },
  {
   "cell_type": "code",
   "execution_count": 55,
   "id": "70b9b029-444b-4339-84a0-1116908d9406",
   "metadata": {},
   "outputs": [],
   "source": [
    "resulting_df = Forecasted_values_df[mask_gt_20].stack().reset_index()"
   ]
  },
  {
   "cell_type": "code",
   "execution_count": 56,
   "id": "03a49588-2139-4ec1-91b3-4788f0fe026e",
   "metadata": {},
   "outputs": [
    {
     "data": {
      "text/html": [
       "<div>\n",
       "<style scoped>\n",
       "    .dataframe tbody tr th:only-of-type {\n",
       "        vertical-align: middle;\n",
       "    }\n",
       "\n",
       "    .dataframe tbody tr th {\n",
       "        vertical-align: top;\n",
       "    }\n",
       "\n",
       "    .dataframe thead th {\n",
       "        text-align: right;\n",
       "    }\n",
       "</style>\n",
       "<table border=\"1\" class=\"dataframe\">\n",
       "  <thead>\n",
       "    <tr style=\"text-align: right;\">\n",
       "      <th></th>\n",
       "      <th>level_0</th>\n",
       "      <th>level_1</th>\n",
       "      <th>0</th>\n",
       "    </tr>\n",
       "  </thead>\n",
       "  <tbody>\n",
       "    <tr>\n",
       "      <th>0</th>\n",
       "      <td>3</td>\n",
       "      <td>forecasted_val_3</td>\n",
       "      <td>123.125015</td>\n",
       "    </tr>\n",
       "    <tr>\n",
       "      <th>1</th>\n",
       "      <td>3</td>\n",
       "      <td>forecasted_val_4</td>\n",
       "      <td>84518.296875</td>\n",
       "    </tr>\n",
       "    <tr>\n",
       "      <th>2</th>\n",
       "      <td>3</td>\n",
       "      <td>forecasted_val_5</td>\n",
       "      <td>24985.058594</td>\n",
       "    </tr>\n",
       "    <tr>\n",
       "      <th>3</th>\n",
       "      <td>3</td>\n",
       "      <td>forecasted_val_6</td>\n",
       "      <td>2841.108643</td>\n",
       "    </tr>\n",
       "    <tr>\n",
       "      <th>4</th>\n",
       "      <td>3</td>\n",
       "      <td>forecasted_val_7</td>\n",
       "      <td>1498.780640</td>\n",
       "    </tr>\n",
       "  </tbody>\n",
       "</table>\n",
       "</div>"
      ],
      "text/plain": [
       "   level_0           level_1             0\n",
       "0        3  forecasted_val_3    123.125015\n",
       "1        3  forecasted_val_4  84518.296875\n",
       "2        3  forecasted_val_5  24985.058594\n",
       "3        3  forecasted_val_6   2841.108643\n",
       "4        3  forecasted_val_7   1498.780640"
      ]
     },
     "execution_count": 56,
     "metadata": {},
     "output_type": "execute_result"
    }
   ],
   "source": [
    "resulting_df.head()"
   ]
  },
  {
   "cell_type": "code",
   "execution_count": 57,
   "id": "1e923fd9-d8dc-4a2e-b36d-1cc83139ecfd",
   "metadata": {},
   "outputs": [
    {
     "data": {
      "text/plain": [
       "(474, 3)"
      ]
     },
     "execution_count": 57,
     "metadata": {},
     "output_type": "execute_result"
    }
   ],
   "source": [
    "resulting_df.shape"
   ]
  },
  {
   "cell_type": "code",
   "execution_count": 58,
   "id": "fca28095-1740-4a73-bc24-246b67d6b80a",
   "metadata": {},
   "outputs": [],
   "source": [
    "resulting_df.columns = ['row_index', 'column_name', 'forecasted_val']"
   ]
  },
  {
   "cell_type": "code",
   "execution_count": 59,
   "id": "20ce119e-b159-47d0-bfd9-7395a79feef7",
   "metadata": {},
   "outputs": [
    {
     "data": {
      "text/html": [
       "<div>\n",
       "<style scoped>\n",
       "    .dataframe tbody tr th:only-of-type {\n",
       "        vertical-align: middle;\n",
       "    }\n",
       "\n",
       "    .dataframe tbody tr th {\n",
       "        vertical-align: top;\n",
       "    }\n",
       "\n",
       "    .dataframe thead th {\n",
       "        text-align: right;\n",
       "    }\n",
       "</style>\n",
       "<table border=\"1\" class=\"dataframe\">\n",
       "  <thead>\n",
       "    <tr style=\"text-align: right;\">\n",
       "      <th></th>\n",
       "      <th>row_index</th>\n",
       "      <th>column_name</th>\n",
       "      <th>forecasted_val</th>\n",
       "    </tr>\n",
       "  </thead>\n",
       "  <tbody>\n",
       "    <tr>\n",
       "      <th>0</th>\n",
       "      <td>3</td>\n",
       "      <td>forecasted_val_3</td>\n",
       "      <td>123.125015</td>\n",
       "    </tr>\n",
       "    <tr>\n",
       "      <th>1</th>\n",
       "      <td>3</td>\n",
       "      <td>forecasted_val_4</td>\n",
       "      <td>84518.296875</td>\n",
       "    </tr>\n",
       "    <tr>\n",
       "      <th>2</th>\n",
       "      <td>3</td>\n",
       "      <td>forecasted_val_5</td>\n",
       "      <td>24985.058594</td>\n",
       "    </tr>\n",
       "    <tr>\n",
       "      <th>3</th>\n",
       "      <td>3</td>\n",
       "      <td>forecasted_val_6</td>\n",
       "      <td>2841.108643</td>\n",
       "    </tr>\n",
       "    <tr>\n",
       "      <th>4</th>\n",
       "      <td>3</td>\n",
       "      <td>forecasted_val_7</td>\n",
       "      <td>1498.780640</td>\n",
       "    </tr>\n",
       "  </tbody>\n",
       "</table>\n",
       "</div>"
      ],
      "text/plain": [
       "   row_index       column_name  forecasted_val\n",
       "0          3  forecasted_val_3      123.125015\n",
       "1          3  forecasted_val_4    84518.296875\n",
       "2          3  forecasted_val_5    24985.058594\n",
       "3          3  forecasted_val_6     2841.108643\n",
       "4          3  forecasted_val_7     1498.780640"
      ]
     },
     "execution_count": 59,
     "metadata": {},
     "output_type": "execute_result"
    }
   ],
   "source": [
    "resulting_df.head()"
   ]
  },
  {
   "cell_type": "code",
   "execution_count": 60,
   "id": "f21c631c-b8f3-4c1c-b35e-32ceaca4fe8c",
   "metadata": {},
   "outputs": [
    {
     "data": {
      "text/plain": [
       "column_name\n",
       "forecasted_val_282    4\n",
       "forecasted_val_281    4\n",
       "forecasted_val_272    4\n",
       "forecasted_val_271    4\n",
       "forecasted_val_270    4\n",
       "                     ..\n",
       "forecasted_val_268    1\n",
       "forecasted_val_262    1\n",
       "forecasted_val_261    1\n",
       "forecasted_val_221    1\n",
       "forecasted_val_313    1\n",
       "Name: count, Length: 161, dtype: int64"
      ]
     },
     "execution_count": 60,
     "metadata": {},
     "output_type": "execute_result"
    }
   ],
   "source": [
    "# how many coumns do we need to focus on?\n",
    "resulting_df['column_name'].value_counts()"
   ]
  },
  {
   "cell_type": "code",
   "execution_count": 61,
   "id": "80730236-cab5-440c-83c6-797329c83cc2",
   "metadata": {},
   "outputs": [],
   "source": [
    "# notice that there are 347 py scripts that we may need to rerun"
   ]
  },
  {
   "cell_type": "code",
   "execution_count": 62,
   "id": "39722875-d624-4f14-90eb-27c5694c66a9",
   "metadata": {},
   "outputs": [],
   "source": [
    "# What are the subwindow names?"
   ]
  },
  {
   "cell_type": "code",
   "execution_count": 63,
   "id": "eeddc6cf-862c-4634-b7bf-623e3963b6f0",
   "metadata": {},
   "outputs": [],
   "source": [
    "sub_window_names = list(set(resulting_df['column_name']))\n",
    "sub_window_names.sort()"
   ]
  },
  {
   "cell_type": "code",
   "execution_count": 64,
   "id": "6597d751-8c75-4500-a602-3f99913152ce",
   "metadata": {},
   "outputs": [],
   "source": [
    "# sub_window_names - but this is not properly sorted"
   ]
  },
  {
   "cell_type": "code",
   "execution_count": 65,
   "id": "ba36bfa7-b1ae-4227-9c8b-c8b8e3e1bca8",
   "metadata": {},
   "outputs": [],
   "source": [
    "sub_window_numbers = [val.split('_')[-1] for val in resulting_df['column_name']]\n",
    "sub_window_int = [int(i) for i in sub_window_numbers]\n",
    "sub_window_int.sort()"
   ]
  },
  {
   "cell_type": "code",
   "execution_count": 66,
   "id": "504089a6-f512-4219-8365-0234930be345",
   "metadata": {},
   "outputs": [
    {
     "data": {
      "text/plain": [
       "474"
      ]
     },
     "execution_count": 66,
     "metadata": {},
     "output_type": "execute_result"
    }
   ],
   "source": [
    "len(sub_window_int)"
   ]
  },
  {
   "cell_type": "code",
   "execution_count": 67,
   "id": "02a9e739-d30a-4150-bc3d-6b2d1cfc9ab5",
   "metadata": {},
   "outputs": [],
   "source": [
    "unique_subwindow_int = list(set(sub_window_int))"
   ]
  },
  {
   "cell_type": "code",
   "execution_count": 68,
   "id": "f9f459a3-c95e-4948-af3c-f5300c92c663",
   "metadata": {},
   "outputs": [],
   "source": [
    "len(unique_subwindow_int)\n",
    "unique_subwindow_int.sort()"
   ]
  },
  {
   "cell_type": "code",
   "execution_count": 69,
   "id": "39f88ccf-907f-4951-913e-cc2a9cd9793c",
   "metadata": {},
   "outputs": [],
   "source": [
    "sub_window_names_final = ['forecasted_val_' + str(i) for i in unique_subwindow_int]"
   ]
  },
  {
   "cell_type": "code",
   "execution_count": 70,
   "id": "875792dd-0bd6-416e-a66e-56872ffb3461",
   "metadata": {},
   "outputs": [
    {
     "data": {
      "text/plain": [
       "['forecasted_val_3',\n",
       " 'forecasted_val_4',\n",
       " 'forecasted_val_5',\n",
       " 'forecasted_val_6',\n",
       " 'forecasted_val_7',\n",
       " 'forecasted_val_8',\n",
       " 'forecasted_val_9',\n",
       " 'forecasted_val_13',\n",
       " 'forecasted_val_14',\n",
       " 'forecasted_val_23',\n",
       " 'forecasted_val_24',\n",
       " 'forecasted_val_25',\n",
       " 'forecasted_val_26',\n",
       " 'forecasted_val_46',\n",
       " 'forecasted_val_47',\n",
       " 'forecasted_val_48',\n",
       " 'forecasted_val_49',\n",
       " 'forecasted_val_50',\n",
       " 'forecasted_val_51',\n",
       " 'forecasted_val_52',\n",
       " 'forecasted_val_53',\n",
       " 'forecasted_val_54',\n",
       " 'forecasted_val_55',\n",
       " 'forecasted_val_56',\n",
       " 'forecasted_val_57',\n",
       " 'forecasted_val_58',\n",
       " 'forecasted_val_59',\n",
       " 'forecasted_val_66',\n",
       " 'forecasted_val_67',\n",
       " 'forecasted_val_68',\n",
       " 'forecasted_val_69',\n",
       " 'forecasted_val_89',\n",
       " 'forecasted_val_90',\n",
       " 'forecasted_val_91',\n",
       " 'forecasted_val_92',\n",
       " 'forecasted_val_93',\n",
       " 'forecasted_val_94',\n",
       " 'forecasted_val_95',\n",
       " 'forecasted_val_99',\n",
       " 'forecasted_val_100',\n",
       " 'forecasted_val_109',\n",
       " 'forecasted_val_110',\n",
       " 'forecasted_val_132',\n",
       " 'forecasted_val_133',\n",
       " 'forecasted_val_134',\n",
       " 'forecasted_val_135',\n",
       " 'forecasted_val_136',\n",
       " 'forecasted_val_137',\n",
       " 'forecasted_val_138',\n",
       " 'forecasted_val_139',\n",
       " 'forecasted_val_140',\n",
       " 'forecasted_val_141',\n",
       " 'forecasted_val_142',\n",
       " 'forecasted_val_143',\n",
       " 'forecasted_val_152',\n",
       " 'forecasted_val_153',\n",
       " 'forecasted_val_154',\n",
       " 'forecasted_val_156',\n",
       " 'forecasted_val_175',\n",
       " 'forecasted_val_176',\n",
       " 'forecasted_val_177',\n",
       " 'forecasted_val_178',\n",
       " 'forecasted_val_179',\n",
       " 'forecasted_val_181',\n",
       " 'forecasted_val_184',\n",
       " 'forecasted_val_185',\n",
       " 'forecasted_val_186',\n",
       " 'forecasted_val_187',\n",
       " 'forecasted_val_195',\n",
       " 'forecasted_val_196',\n",
       " 'forecasted_val_219',\n",
       " 'forecasted_val_221',\n",
       " 'forecasted_val_222',\n",
       " 'forecasted_val_228',\n",
       " 'forecasted_val_229',\n",
       " 'forecasted_val_238',\n",
       " 'forecasted_val_239',\n",
       " 'forecasted_val_261',\n",
       " 'forecasted_val_262',\n",
       " 'forecasted_val_263',\n",
       " 'forecasted_val_264',\n",
       " 'forecasted_val_265',\n",
       " 'forecasted_val_268',\n",
       " 'forecasted_val_269',\n",
       " 'forecasted_val_270',\n",
       " 'forecasted_val_271',\n",
       " 'forecasted_val_272',\n",
       " 'forecasted_val_277',\n",
       " 'forecasted_val_280',\n",
       " 'forecasted_val_281',\n",
       " 'forecasted_val_282',\n",
       " 'forecasted_val_285',\n",
       " 'forecasted_val_286',\n",
       " 'forecasted_val_288',\n",
       " 'forecasted_val_305',\n",
       " 'forecasted_val_306',\n",
       " 'forecasted_val_307',\n",
       " 'forecasted_val_308',\n",
       " 'forecasted_val_313',\n",
       " 'forecasted_val_314',\n",
       " 'forecasted_val_315',\n",
       " 'forecasted_val_323',\n",
       " 'forecasted_val_324',\n",
       " 'forecasted_val_325',\n",
       " 'forecasted_val_327',\n",
       " 'forecasted_val_328',\n",
       " 'forecasted_val_329',\n",
       " 'forecasted_val_330',\n",
       " 'forecasted_val_331',\n",
       " 'forecasted_val_348',\n",
       " 'forecasted_val_349',\n",
       " 'forecasted_val_350',\n",
       " 'forecasted_val_351',\n",
       " 'forecasted_val_353',\n",
       " 'forecasted_val_354',\n",
       " 'forecasted_val_355',\n",
       " 'forecasted_val_356',\n",
       " 'forecasted_val_357',\n",
       " 'forecasted_val_358',\n",
       " 'forecasted_val_359',\n",
       " 'forecasted_val_361',\n",
       " 'forecasted_val_362',\n",
       " 'forecasted_val_363',\n",
       " 'forecasted_val_364',\n",
       " 'forecasted_val_367',\n",
       " 'forecasted_val_368',\n",
       " 'forecasted_val_391',\n",
       " 'forecasted_val_397',\n",
       " 'forecasted_val_398',\n",
       " 'forecasted_val_399',\n",
       " 'forecasted_val_400',\n",
       " 'forecasted_val_401',\n",
       " 'forecasted_val_410',\n",
       " 'forecasted_val_444',\n",
       " 'forecasted_val_445',\n",
       " 'forecasted_val_487',\n",
       " 'forecasted_val_531',\n",
       " 'forecasted_val_574',\n",
       " 'forecasted_val_627',\n",
       " 'forecasted_val_628',\n",
       " 'forecasted_val_670',\n",
       " 'forecasted_val_671',\n",
       " 'forecasted_val_672',\n",
       " 'forecasted_val_712',\n",
       " 'forecasted_val_713',\n",
       " 'forecasted_val_714',\n",
       " 'forecasted_val_756',\n",
       " 'forecasted_val_757',\n",
       " 'forecasted_val_798',\n",
       " 'forecasted_val_799',\n",
       " 'forecasted_val_800',\n",
       " 'forecasted_val_842',\n",
       " 'forecasted_val_883',\n",
       " 'forecasted_val_885',\n",
       " 'forecasted_val_1014',\n",
       " 'forecasted_val_1015',\n",
       " 'forecasted_val_1057',\n",
       " 'forecasted_val_1058',\n",
       " 'forecasted_val_1100',\n",
       " 'forecasted_val_1101',\n",
       " 'forecasted_val_1141']"
      ]
     },
     "execution_count": 70,
     "metadata": {},
     "output_type": "execute_result"
    }
   ],
   "source": [
    "sub_window_names_final # cool, so we need to look into individually running these scripts?"
   ]
  },
  {
   "cell_type": "code",
   "execution_count": 71,
   "id": "e0fb55c6-3c6c-4f40-a67b-6dbf516b11d3",
   "metadata": {},
   "outputs": [],
   "source": [
    "# We are waiting to see if changing the prioirs are going to give us a direction we should proceed in"
   ]
  },
  {
   "cell_type": "code",
   "execution_count": 72,
   "id": "25bb623d-9523-4752-ac13-af99cbff5c27",
   "metadata": {},
   "outputs": [],
   "source": [
    "# The maximmum is an absurd amount - where is this coming from ? Do we need to manually fix it? Let's see\n",
    "# how many of teh values in the above dataframe are more than 10?"
   ]
  },
  {
   "cell_type": "code",
   "execution_count": 73,
   "id": "074e601a-f118-47e2-af47-32731c30bdc4",
   "metadata": {},
   "outputs": [],
   "source": [
    "# Maybe see to this once all columns are arranged in a single column?"
   ]
  },
  {
   "cell_type": "code",
   "execution_count": 74,
   "id": "3c856c12-7001-43c1-a186-08b242074808",
   "metadata": {},
   "outputs": [],
   "source": [
    "exp_true.columns = ['True_val_' + str(i) for i in range(1376)]"
   ]
  },
  {
   "cell_type": "code",
   "execution_count": 75,
   "id": "067be61e-3f40-487d-9d29-2aca3375cbe9",
   "metadata": {},
   "outputs": [
    {
     "data": {
      "text/html": [
       "<div>\n",
       "<style scoped>\n",
       "    .dataframe tbody tr th:only-of-type {\n",
       "        vertical-align: middle;\n",
       "    }\n",
       "\n",
       "    .dataframe tbody tr th {\n",
       "        vertical-align: top;\n",
       "    }\n",
       "\n",
       "    .dataframe thead th {\n",
       "        text-align: right;\n",
       "    }\n",
       "</style>\n",
       "<table border=\"1\" class=\"dataframe\">\n",
       "  <thead>\n",
       "    <tr style=\"text-align: right;\">\n",
       "      <th></th>\n",
       "      <th>True_val_0</th>\n",
       "      <th>True_val_1</th>\n",
       "      <th>True_val_2</th>\n",
       "      <th>True_val_3</th>\n",
       "      <th>True_val_4</th>\n",
       "      <th>True_val_5</th>\n",
       "      <th>True_val_6</th>\n",
       "      <th>True_val_7</th>\n",
       "      <th>True_val_8</th>\n",
       "      <th>True_val_9</th>\n",
       "      <th>...</th>\n",
       "      <th>True_val_1366</th>\n",
       "      <th>True_val_1367</th>\n",
       "      <th>True_val_1368</th>\n",
       "      <th>True_val_1369</th>\n",
       "      <th>True_val_1370</th>\n",
       "      <th>True_val_1371</th>\n",
       "      <th>True_val_1372</th>\n",
       "      <th>True_val_1373</th>\n",
       "      <th>True_val_1374</th>\n",
       "      <th>True_val_1375</th>\n",
       "    </tr>\n",
       "  </thead>\n",
       "  <tbody>\n",
       "    <tr>\n",
       "      <th>0</th>\n",
       "      <td>3.999988</td>\n",
       "      <td>3.999988</td>\n",
       "      <td>3.999988</td>\n",
       "      <td>4.114577</td>\n",
       "      <td>5.344045</td>\n",
       "      <td>6.885394</td>\n",
       "      <td>6.999989</td>\n",
       "      <td>6.774925</td>\n",
       "      <td>4.468964</td>\n",
       "      <td>3.001328</td>\n",
       "      <td>...</td>\n",
       "      <td>0.022552</td>\n",
       "      <td>0.022552</td>\n",
       "      <td>0.022552</td>\n",
       "      <td>0.014793</td>\n",
       "      <td>1.117362e-07</td>\n",
       "      <td>0.0</td>\n",
       "      <td>0.0</td>\n",
       "      <td>0.0</td>\n",
       "      <td>0.0</td>\n",
       "      <td>0.0</td>\n",
       "    </tr>\n",
       "    <tr>\n",
       "      <th>1</th>\n",
       "      <td>3.420275</td>\n",
       "      <td>3.420275</td>\n",
       "      <td>3.420275</td>\n",
       "      <td>3.474735</td>\n",
       "      <td>4.685360</td>\n",
       "      <td>6.422087</td>\n",
       "      <td>7.343262</td>\n",
       "      <td>5.477786</td>\n",
       "      <td>4.000286</td>\n",
       "      <td>4.000000</td>\n",
       "      <td>...</td>\n",
       "      <td>0.500001</td>\n",
       "      <td>0.500001</td>\n",
       "      <td>0.442707</td>\n",
       "      <td>0.000078</td>\n",
       "      <td>0.000000e+00</td>\n",
       "      <td>0.0</td>\n",
       "      <td>0.0</td>\n",
       "      <td>0.0</td>\n",
       "      <td>0.0</td>\n",
       "      <td>0.0</td>\n",
       "    </tr>\n",
       "    <tr>\n",
       "      <th>2</th>\n",
       "      <td>4.500000</td>\n",
       "      <td>4.500000</td>\n",
       "      <td>4.500002</td>\n",
       "      <td>5.081848</td>\n",
       "      <td>7.410030</td>\n",
       "      <td>7.658281</td>\n",
       "      <td>8.288784</td>\n",
       "      <td>7.025448</td>\n",
       "      <td>4.921105</td>\n",
       "      <td>4.250155</td>\n",
       "      <td>...</td>\n",
       "      <td>0.000000</td>\n",
       "      <td>0.000000</td>\n",
       "      <td>0.000000</td>\n",
       "      <td>0.000000</td>\n",
       "      <td>0.000000e+00</td>\n",
       "      <td>0.0</td>\n",
       "      <td>0.0</td>\n",
       "      <td>0.0</td>\n",
       "      <td>0.0</td>\n",
       "      <td>0.0</td>\n",
       "    </tr>\n",
       "    <tr>\n",
       "      <th>3</th>\n",
       "      <td>3.991900</td>\n",
       "      <td>3.991900</td>\n",
       "      <td>4.412175</td>\n",
       "      <td>5.160947</td>\n",
       "      <td>6.999172</td>\n",
       "      <td>7.907581</td>\n",
       "      <td>7.981270</td>\n",
       "      <td>5.241772</td>\n",
       "      <td>5.000001</td>\n",
       "      <td>5.000000</td>\n",
       "      <td>...</td>\n",
       "      <td>0.000000</td>\n",
       "      <td>0.000000</td>\n",
       "      <td>0.000000</td>\n",
       "      <td>0.000000</td>\n",
       "      <td>0.000000e+00</td>\n",
       "      <td>0.0</td>\n",
       "      <td>0.0</td>\n",
       "      <td>0.0</td>\n",
       "      <td>0.0</td>\n",
       "      <td>0.0</td>\n",
       "    </tr>\n",
       "    <tr>\n",
       "      <th>4</th>\n",
       "      <td>3.000026</td>\n",
       "      <td>3.000026</td>\n",
       "      <td>3.000026</td>\n",
       "      <td>3.002026</td>\n",
       "      <td>4.909930</td>\n",
       "      <td>5.165234</td>\n",
       "      <td>3.009452</td>\n",
       "      <td>3.000000</td>\n",
       "      <td>3.000000</td>\n",
       "      <td>3.000000</td>\n",
       "      <td>...</td>\n",
       "      <td>0.000000</td>\n",
       "      <td>0.000000</td>\n",
       "      <td>0.000000</td>\n",
       "      <td>0.000000</td>\n",
       "      <td>0.000000e+00</td>\n",
       "      <td>0.0</td>\n",
       "      <td>0.0</td>\n",
       "      <td>0.0</td>\n",
       "      <td>0.0</td>\n",
       "      <td>0.0</td>\n",
       "    </tr>\n",
       "  </tbody>\n",
       "</table>\n",
       "<p>5 rows × 1376 columns</p>\n",
       "</div>"
      ],
      "text/plain": [
       "   True_val_0  True_val_1  True_val_2  True_val_3  True_val_4  True_val_5  \\\n",
       "0    3.999988    3.999988    3.999988    4.114577    5.344045    6.885394   \n",
       "1    3.420275    3.420275    3.420275    3.474735    4.685360    6.422087   \n",
       "2    4.500000    4.500000    4.500002    5.081848    7.410030    7.658281   \n",
       "3    3.991900    3.991900    4.412175    5.160947    6.999172    7.907581   \n",
       "4    3.000026    3.000026    3.000026    3.002026    4.909930    5.165234   \n",
       "\n",
       "   True_val_6  True_val_7  True_val_8  True_val_9  ...  True_val_1366  \\\n",
       "0    6.999989    6.774925    4.468964    3.001328  ...       0.022552   \n",
       "1    7.343262    5.477786    4.000286    4.000000  ...       0.500001   \n",
       "2    8.288784    7.025448    4.921105    4.250155  ...       0.000000   \n",
       "3    7.981270    5.241772    5.000001    5.000000  ...       0.000000   \n",
       "4    3.009452    3.000000    3.000000    3.000000  ...       0.000000   \n",
       "\n",
       "   True_val_1367  True_val_1368  True_val_1369  True_val_1370  True_val_1371  \\\n",
       "0       0.022552       0.022552       0.014793   1.117362e-07            0.0   \n",
       "1       0.500001       0.442707       0.000078   0.000000e+00            0.0   \n",
       "2       0.000000       0.000000       0.000000   0.000000e+00            0.0   \n",
       "3       0.000000       0.000000       0.000000   0.000000e+00            0.0   \n",
       "4       0.000000       0.000000       0.000000   0.000000e+00            0.0   \n",
       "\n",
       "   True_val_1372  True_val_1373  True_val_1374  True_val_1375  \n",
       "0            0.0            0.0            0.0            0.0  \n",
       "1            0.0            0.0            0.0            0.0  \n",
       "2            0.0            0.0            0.0            0.0  \n",
       "3            0.0            0.0            0.0            0.0  \n",
       "4            0.0            0.0            0.0            0.0  \n",
       "\n",
       "[5 rows x 1376 columns]"
      ]
     },
     "execution_count": 75,
     "metadata": {},
     "output_type": "execute_result"
    }
   ],
   "source": [
    "exp_true.head()"
   ]
  },
  {
   "cell_type": "code",
   "execution_count": 76,
   "id": "2c45773b-0ea1-46be-8779-6c94e5c2d2e8",
   "metadata": {},
   "outputs": [],
   "source": [
    "# I think at this point we can go ahead and get the metrics for inference computed?"
   ]
  },
  {
   "cell_type": "code",
   "execution_count": 77,
   "id": "74578441-3c54-4eb3-8f75-e489c3c9494f",
   "metadata": {},
   "outputs": [],
   "source": [
    "# exp_true.keys()"
   ]
  },
  {
   "cell_type": "code",
   "execution_count": 78,
   "id": "eb0a136a-9fe1-498f-9bb8-84162b73a942",
   "metadata": {},
   "outputs": [],
   "source": [
    "# exp_true.values.shape"
   ]
  },
  {
   "cell_type": "code",
   "execution_count": 79,
   "id": "a3ca5525-f6e8-441d-ace6-0f00448a200a",
   "metadata": {},
   "outputs": [],
   "source": [
    "# use one column for both dataframes? that way it will be easier to compute the metrics?"
   ]
  },
  {
   "cell_type": "code",
   "execution_count": 80,
   "id": "1c43c82e-2df6-4005-9459-528fa4b1f3cb",
   "metadata": {},
   "outputs": [],
   "source": [
    "# Also something to keep in mind here is that the subwindow sizes are very small - 30*30 - this was intentional as we had to do the seq-2-seq model and they are data hungry - therefore having a 300*300 window size was not feasible"
   ]
  },
  {
   "cell_type": "code",
   "execution_count": 81,
   "id": "c622e1cf-a163-4edb-8ed3-d73a716466e1",
   "metadata": {},
   "outputs": [],
   "source": [
    "exp_true_onecol = pd.DataFrame(exp_true.to_numpy().ravel(order = 'F'), columns=[\"True_values\"])"
   ]
  },
  {
   "cell_type": "code",
   "execution_count": 82,
   "id": "97949b77-22b4-4b7a-82a4-32668f520ab0",
   "metadata": {},
   "outputs": [
    {
     "data": {
      "text/html": [
       "<div>\n",
       "<style scoped>\n",
       "    .dataframe tbody tr th:only-of-type {\n",
       "        vertical-align: middle;\n",
       "    }\n",
       "\n",
       "    .dataframe tbody tr th {\n",
       "        vertical-align: top;\n",
       "    }\n",
       "\n",
       "    .dataframe thead th {\n",
       "        text-align: right;\n",
       "    }\n",
       "</style>\n",
       "<table border=\"1\" class=\"dataframe\">\n",
       "  <thead>\n",
       "    <tr style=\"text-align: right;\">\n",
       "      <th></th>\n",
       "      <th>True_values</th>\n",
       "    </tr>\n",
       "  </thead>\n",
       "  <tbody>\n",
       "    <tr>\n",
       "      <th>0</th>\n",
       "      <td>3.999988</td>\n",
       "    </tr>\n",
       "    <tr>\n",
       "      <th>1</th>\n",
       "      <td>3.420275</td>\n",
       "    </tr>\n",
       "    <tr>\n",
       "      <th>2</th>\n",
       "      <td>4.500000</td>\n",
       "    </tr>\n",
       "    <tr>\n",
       "      <th>3</th>\n",
       "      <td>3.991900</td>\n",
       "    </tr>\n",
       "    <tr>\n",
       "      <th>4</th>\n",
       "      <td>3.000026</td>\n",
       "    </tr>\n",
       "  </tbody>\n",
       "</table>\n",
       "</div>"
      ],
      "text/plain": [
       "   True_values\n",
       "0     3.999988\n",
       "1     3.420275\n",
       "2     4.500000\n",
       "3     3.991900\n",
       "4     3.000026"
      ]
     },
     "execution_count": 82,
     "metadata": {},
     "output_type": "execute_result"
    }
   ],
   "source": [
    "exp_true_onecol.head()"
   ]
  },
  {
   "cell_type": "code",
   "execution_count": 83,
   "id": "770f4ad1-2c71-4a62-b2fd-0f052eba9088",
   "metadata": {},
   "outputs": [
    {
     "data": {
      "text/plain": [
       "(9632, 1)"
      ]
     },
     "execution_count": 83,
     "metadata": {},
     "output_type": "execute_result"
    }
   ],
   "source": [
    "exp_true_onecol.shape"
   ]
  },
  {
   "cell_type": "code",
   "execution_count": 84,
   "id": "59a01283-1e4e-45cf-bbc6-9330c5863f96",
   "metadata": {},
   "outputs": [
    {
     "data": {
      "text/plain": [
       "21504"
      ]
     },
     "execution_count": 84,
     "metadata": {},
     "output_type": "execute_result"
    }
   ],
   "source": [
    "3072*7"
   ]
  },
  {
   "cell_type": "code",
   "execution_count": 85,
   "id": "1de30f69-827a-4566-bb47-006090eb5f73",
   "metadata": {},
   "outputs": [],
   "source": [
    "exp_predicted_onecol = pd.DataFrame(Forecasted_values_df.to_numpy().ravel(order = 'F'), columns=[\"Forecasted_values\"])"
   ]
  },
  {
   "cell_type": "code",
   "execution_count": 86,
   "id": "8342aa85-97d4-4c5a-a021-81ef1edb027a",
   "metadata": {},
   "outputs": [
    {
     "data": {
      "text/html": [
       "<div>\n",
       "<style scoped>\n",
       "    .dataframe tbody tr th:only-of-type {\n",
       "        vertical-align: middle;\n",
       "    }\n",
       "\n",
       "    .dataframe tbody tr th {\n",
       "        vertical-align: top;\n",
       "    }\n",
       "\n",
       "    .dataframe thead th {\n",
       "        text-align: right;\n",
       "    }\n",
       "</style>\n",
       "<table border=\"1\" class=\"dataframe\">\n",
       "  <thead>\n",
       "    <tr style=\"text-align: right;\">\n",
       "      <th></th>\n",
       "      <th>Forecasted_values</th>\n",
       "    </tr>\n",
       "  </thead>\n",
       "  <tbody>\n",
       "    <tr>\n",
       "      <th>0</th>\n",
       "      <td>3.932678</td>\n",
       "    </tr>\n",
       "    <tr>\n",
       "      <th>1</th>\n",
       "      <td>4.119783</td>\n",
       "    </tr>\n",
       "    <tr>\n",
       "      <th>2</th>\n",
       "      <td>4.142134</td>\n",
       "    </tr>\n",
       "    <tr>\n",
       "      <th>3</th>\n",
       "      <td>14.337399</td>\n",
       "    </tr>\n",
       "    <tr>\n",
       "      <th>4</th>\n",
       "      <td>6.544927</td>\n",
       "    </tr>\n",
       "  </tbody>\n",
       "</table>\n",
       "</div>"
      ],
      "text/plain": [
       "   Forecasted_values\n",
       "0           3.932678\n",
       "1           4.119783\n",
       "2           4.142134\n",
       "3          14.337399\n",
       "4           6.544927"
      ]
     },
     "execution_count": 86,
     "metadata": {},
     "output_type": "execute_result"
    }
   ],
   "source": [
    "exp_predicted_onecol.head()"
   ]
  },
  {
   "cell_type": "code",
   "execution_count": 87,
   "id": "a069bf97-37be-4353-a829-842b4eae8ef0",
   "metadata": {},
   "outputs": [
    {
     "data": {
      "text/html": [
       "<div>\n",
       "<style scoped>\n",
       "    .dataframe tbody tr th:only-of-type {\n",
       "        vertical-align: middle;\n",
       "    }\n",
       "\n",
       "    .dataframe tbody tr th {\n",
       "        vertical-align: top;\n",
       "    }\n",
       "\n",
       "    .dataframe thead th {\n",
       "        text-align: right;\n",
       "    }\n",
       "</style>\n",
       "<table border=\"1\" class=\"dataframe\">\n",
       "  <thead>\n",
       "    <tr style=\"text-align: right;\">\n",
       "      <th></th>\n",
       "      <th>Forecasted_values</th>\n",
       "    </tr>\n",
       "  </thead>\n",
       "  <tbody>\n",
       "    <tr>\n",
       "      <th>9627</th>\n",
       "      <td>0.009988</td>\n",
       "    </tr>\n",
       "    <tr>\n",
       "      <th>9628</th>\n",
       "      <td>0.016877</td>\n",
       "    </tr>\n",
       "    <tr>\n",
       "      <th>9629</th>\n",
       "      <td>0.010093</td>\n",
       "    </tr>\n",
       "    <tr>\n",
       "      <th>9630</th>\n",
       "      <td>0.023070</td>\n",
       "    </tr>\n",
       "    <tr>\n",
       "      <th>9631</th>\n",
       "      <td>0.035447</td>\n",
       "    </tr>\n",
       "  </tbody>\n",
       "</table>\n",
       "</div>"
      ],
      "text/plain": [
       "      Forecasted_values\n",
       "9627           0.009988\n",
       "9628           0.016877\n",
       "9629           0.010093\n",
       "9630           0.023070\n",
       "9631           0.035447"
      ]
     },
     "execution_count": 87,
     "metadata": {},
     "output_type": "execute_result"
    }
   ],
   "source": [
    "exp_predicted_onecol.tail()"
   ]
  },
  {
   "cell_type": "code",
   "execution_count": 88,
   "id": "8e28b95a-89e0-43c5-a9c3-e2cc1d432c89",
   "metadata": {},
   "outputs": [
    {
     "data": {
      "text/plain": [
       "(9632, 1)"
      ]
     },
     "execution_count": 88,
     "metadata": {},
     "output_type": "execute_result"
    }
   ],
   "source": [
    "exp_predicted_onecol.shape"
   ]
  },
  {
   "cell_type": "code",
   "execution_count": 89,
   "id": "f9ec5122-f42e-4c52-9318-d84cbf8df103",
   "metadata": {},
   "outputs": [],
   "source": [
    "# how many values are > 10? - 573 - This still feels like an absolutely high value. Should we change the priors? Need to look into this. \n",
    "# how many values are > 100? - 153\n",
    "# how many values are > 1000? - 51\n",
    "# how many values are > 10000? - 21\n",
    "# how many values are > 100000? - 5\n",
    "# how many values are > 1000000? - 1"
   ]
  },
  {
   "cell_type": "code",
   "execution_count": 90,
   "id": "da79a573-6833-429f-af4d-7a5c14e35319",
   "metadata": {},
   "outputs": [],
   "source": [
    "values_greater_than_10 = []\n",
    "greater_than_10_df_index = []\n",
    "for i, val in enumerate(range(exp_predicted_onecol.shape[0])):\n",
    "    value = exp_predicted_onecol['Forecasted_values'][val]\n",
    "    if value >= 10:\n",
    "        values_greater_than_10.append(value)\n",
    "        greater_than_10_df_index.append(i)"
   ]
  },
  {
   "cell_type": "code",
   "execution_count": 91,
   "id": "8cf6bcb1-c3c9-40a8-95eb-00154b199eff",
   "metadata": {},
   "outputs": [
    {
     "data": {
      "text/plain": [
       "1059"
      ]
     },
     "execution_count": 91,
     "metadata": {},
     "output_type": "execute_result"
    }
   ],
   "source": [
    "len(values_greater_than_10)"
   ]
  },
  {
   "cell_type": "code",
   "execution_count": 92,
   "id": "cc87cd9c-ab8d-44ef-a1a2-c47dce057068",
   "metadata": {},
   "outputs": [],
   "source": [
    "# values_greater_than_10"
   ]
  },
  {
   "cell_type": "code",
   "execution_count": 93,
   "id": "e6047afe-9129-4d9f-8a97-d9ee1d1fad09",
   "metadata": {},
   "outputs": [],
   "source": [
    "# greater_than_10_df_index"
   ]
  },
  {
   "cell_type": "code",
   "execution_count": 94,
   "id": "1830abf8-7086-4dca-8a38-2098f66574be",
   "metadata": {},
   "outputs": [],
   "source": [
    "# enumerate(exp_predicted_onecol['Forecasted_values'][0])"
   ]
  },
  {
   "cell_type": "code",
   "execution_count": 95,
   "id": "bfe30c60-3a4d-4a60-9d05-d305681fc9f2",
   "metadata": {},
   "outputs": [],
   "source": [
    "# I think at this point, we should be looking inot other blocks too, to see if we see weird results like this?"
   ]
  },
  {
   "cell_type": "code",
   "execution_count": 96,
   "id": "1e39fe2f-d205-4c7a-918a-22250ddf1694",
   "metadata": {},
   "outputs": [],
   "source": [
    "# compute the metrics - these would look really small as the values we have are really small"
   ]
  },
  {
   "cell_type": "code",
   "execution_count": 97,
   "id": "576837f9-1f0f-47e2-8959-4774323b2ead",
   "metadata": {},
   "outputs": [
    {
     "data": {
      "text/plain": [
       "933.1531545556085"
      ]
     },
     "execution_count": 97,
     "metadata": {},
     "output_type": "execute_result"
    }
   ],
   "source": [
    "# blockwise mean squared error\n",
    "rmse = np.sqrt(mean_squared_error(exp_true_onecol['True_values'], exp_predicted_onecol['Forecasted_values']))\n",
    "rmse"
   ]
  },
  {
   "cell_type": "code",
   "execution_count": 98,
   "id": "656c6ac0-86a7-4fde-b57a-24f5f5883080",
   "metadata": {},
   "outputs": [
    {
     "data": {
      "text/plain": [
       "22.619240486546044"
      ]
     },
     "execution_count": 98,
     "metadata": {},
     "output_type": "execute_result"
    }
   ],
   "source": [
    "mae = mean_absolute_error(exp_true_onecol['True_values'], exp_predicted_onecol['Forecasted_values'])\n",
    "mae"
   ]
  },
  {
   "cell_type": "code",
   "execution_count": 99,
   "id": "93072881-3eac-4c5e-916c-5fe8f59eb24f",
   "metadata": {},
   "outputs": [
    {
     "data": {
      "text/plain": [
       "0.0384382899771142"
      ]
     },
     "execution_count": 99,
     "metadata": {},
     "output_type": "execute_result"
    }
   ],
   "source": [
    "corr = pearsonr(exp_true_onecol['True_values'], exp_predicted_onecol['Forecasted_values'])\n",
    "corr[0]"
   ]
  },
  {
   "cell_type": "code",
   "execution_count": 100,
   "id": "601575da-140c-4069-ac87-868f310aeb54",
   "metadata": {},
   "outputs": [
    {
     "data": {
      "text/plain": [
       "-134802.9330172765"
      ]
     },
     "execution_count": 100,
     "metadata": {},
     "output_type": "execute_result"
    }
   ],
   "source": [
    "r2 = r2_score(exp_true_onecol['True_values'], exp_predicted_onecol['Forecasted_values'])\n",
    "r2"
   ]
  },
  {
   "cell_type": "code",
   "execution_count": 101,
   "id": "efe29cef-f6ed-4b8c-a115-fe17bfb0c2fb",
   "metadata": {},
   "outputs": [
    {
     "data": {
      "image/png": "[encoded data removed]",
      "text/plain": [
       "<Figure size 800x800 with 1 Axes>"
      ]
     },
     "metadata": {},
     "output_type": "display_data"
    }
   ],
   "source": [
    "plt.figure(figsize = (8,8))\n",
    "plt.scatter(exp_true_onecol['True_values'], exp_predicted_onecol['Forecasted_values'], s = 10)\n",
    "plt.xlabel(\"True density\")\n",
    "plt.ylabel(\"Predicted density\")\n",
    "# Add the y = x line\n",
    "plt.plot([0, 3], [0, 3], color='green', label='y = x')\n",
    "plt.legend()\n",
    "plt.show()"
   ]
  },
  {
   "cell_type": "code",
   "execution_count": 102,
   "id": "5b6bc4f5-948f-4ffd-94bf-67b6132b9586",
   "metadata": {},
   "outputs": [
    {
     "data": {
      "image/png": "[encoded data removed]",
      "text/plain": [
       "<Figure size 640x480 with 1 Axes>"
      ]
     },
     "metadata": {},
     "output_type": "display_data"
    }
   ],
   "source": [
    "# At this point let's look at the true and predicted value distributions - overlay the histograms\n",
    "\n",
    "# Plot histogram of two columns\n",
    "plt.hist(exp_true_onecol['True_values'], \n",
    "         bins=30, \n",
    "         label=[' True values'], \n",
    "         alpha=0.5, color = 'blue')  # alpha = transparency\n",
    "plt.hist(exp_predicted_onecol['Forecasted_values'], \n",
    "         bins=30, \n",
    "         label=['Predicted values'], \n",
    "         alpha=0.5, color = 'red') \n",
    "plt.xlabel(\"Value\")\n",
    "plt.ylabel(\"Frequency\")\n",
    "plt.title(\"Histogram of Two Columns\")\n",
    "plt.legend()\n",
    "plt.show()"
   ]
  },
  {
   "cell_type": "code",
   "execution_count": 103,
   "id": "d86e03d3-9dc9-438c-9442-82da8bdfe8ce",
   "metadata": {},
   "outputs": [],
   "source": [
    "# Should we try to get the values separated by 0s?"
   ]
  },
  {
   "cell_type": "code",
   "execution_count": 104,
   "id": "abe3c42d-1d1d-46c0-a6a8-9324236f0943",
   "metadata": {},
   "outputs": [],
   "source": [
    "# how to do this? Maybe we need to take the indices from the true values df, and subset accordingly?"
   ]
  },
  {
   "cell_type": "code",
   "execution_count": 105,
   "id": "b24b7cda-ac98-492c-a939-5c31a1a32046",
   "metadata": {},
   "outputs": [],
   "source": [
    "# so create a mask 0 with the true values 0s - we need the indices of this"
   ]
  },
  {
   "cell_type": "code",
   "execution_count": 106,
   "id": "1a6f9210-233b-4394-8573-bf9c8b943a61",
   "metadata": {},
   "outputs": [],
   "source": [
    "mask_zero = exp_true_onecol['True_values'].eq(0)"
   ]
  },
  {
   "cell_type": "code",
   "execution_count": 107,
   "id": "d471dc76-ee06-4aea-96fd-718fcd304a30",
   "metadata": {},
   "outputs": [],
   "source": [
    "# separate the zero and non-zero indices\n",
    "idx_zero = exp_true_onecol.index[mask_zero]\n",
    "idx_nonzero = exp_true_onecol.index[-mask_zero]"
   ]
  },
  {
   "cell_type": "code",
   "execution_count": 108,
   "id": "00c74624-2b63-4a24-964f-7d51f22ac673",
   "metadata": {},
   "outputs": [
    {
     "data": {
      "text/plain": [
       "(1158,)"
      ]
     },
     "execution_count": 108,
     "metadata": {},
     "output_type": "execute_result"
    }
   ],
   "source": [
    "# how many zero values?\n",
    "idx_zero.shape"
   ]
  },
  {
   "cell_type": "code",
   "execution_count": 109,
   "id": "7739f884-380a-49fe-b849-fe0f8ea4fe88",
   "metadata": {},
   "outputs": [
    {
     "data": {
      "text/plain": [
       "6370"
      ]
     },
     "execution_count": 109,
     "metadata": {},
     "output_type": "execute_result"
    }
   ],
   "source": [
    "910*7"
   ]
  },
  {
   "cell_type": "code",
   "execution_count": 110,
   "id": "f44c0120-4b6b-4ba9-8a64-d1261a00dcd0",
   "metadata": {},
   "outputs": [
    {
     "data": {
      "text/plain": [
       "(8474,)"
      ]
     },
     "execution_count": 110,
     "metadata": {},
     "output_type": "execute_result"
    }
   ],
   "source": [
    "# how many non-zeor values\n",
    "idx_nonzero.shape"
   ]
  },
  {
   "cell_type": "code",
   "execution_count": 111,
   "id": "63de6cf0-cc99-45e8-aa2c-30a7547da434",
   "metadata": {},
   "outputs": [
    {
     "data": {
      "text/plain": [
       "9632"
      ]
     },
     "execution_count": 111,
     "metadata": {},
     "output_type": "execute_result"
    }
   ],
   "source": [
    "# sanity check\n",
    "idx_nonzero.shape[0] + idx_zero.shape[0]"
   ]
  },
  {
   "cell_type": "code",
   "execution_count": 112,
   "id": "4a256064-8c76-431c-bc76-e721a1b7282a",
   "metadata": {},
   "outputs": [],
   "source": [
    "# Subset both dataframes with the same indices\n",
    "df_true_zero  = exp_true_onecol.loc[idx_zero]\n",
    "df_pred_zero  = exp_predicted_onecol.loc[idx_zero]\n",
    "df_true_nz    = exp_true_onecol.loc[idx_nonzero]\n",
    "df_pred_nz    = exp_predicted_onecol.loc[idx_nonzero]"
   ]
  },
  {
   "cell_type": "code",
   "execution_count": 113,
   "id": "3df123ca-fe8d-4482-8736-34c3b5128668",
   "metadata": {},
   "outputs": [
    {
     "data": {
      "text/plain": [
       "((1158, 1), (1158, 1))"
      ]
     },
     "execution_count": 113,
     "metadata": {},
     "output_type": "execute_result"
    }
   ],
   "source": [
    "df_true_zero.shape, df_pred_zero.shape"
   ]
  },
  {
   "cell_type": "code",
   "execution_count": 114,
   "id": "c3841a59-219e-4015-aef1-0c88dc839328",
   "metadata": {},
   "outputs": [
    {
     "data": {
      "text/html": [
       "<div>\n",
       "<style scoped>\n",
       "    .dataframe tbody tr th:only-of-type {\n",
       "        vertical-align: middle;\n",
       "    }\n",
       "\n",
       "    .dataframe tbody tr th {\n",
       "        vertical-align: top;\n",
       "    }\n",
       "\n",
       "    .dataframe thead th {\n",
       "        text-align: right;\n",
       "    }\n",
       "</style>\n",
       "<table border=\"1\" class=\"dataframe\">\n",
       "  <thead>\n",
       "    <tr style=\"text-align: right;\">\n",
       "      <th></th>\n",
       "      <th>True_values</th>\n",
       "    </tr>\n",
       "  </thead>\n",
       "  <tbody>\n",
       "    <tr>\n",
       "      <th>272</th>\n",
       "      <td>0.0</td>\n",
       "    </tr>\n",
       "    <tr>\n",
       "      <th>277</th>\n",
       "      <td>0.0</td>\n",
       "    </tr>\n",
       "    <tr>\n",
       "      <th>279</th>\n",
       "      <td>0.0</td>\n",
       "    </tr>\n",
       "    <tr>\n",
       "      <th>282</th>\n",
       "      <td>0.0</td>\n",
       "    </tr>\n",
       "    <tr>\n",
       "      <th>283</th>\n",
       "      <td>0.0</td>\n",
       "    </tr>\n",
       "  </tbody>\n",
       "</table>\n",
       "</div>"
      ],
      "text/plain": [
       "     True_values\n",
       "272          0.0\n",
       "277          0.0\n",
       "279          0.0\n",
       "282          0.0\n",
       "283          0.0"
      ]
     },
     "execution_count": 114,
     "metadata": {},
     "output_type": "execute_result"
    }
   ],
   "source": [
    "df_true_zero.head()"
   ]
  },
  {
   "cell_type": "code",
   "execution_count": 115,
   "id": "1713c839-a187-4043-9d24-0935778a2cc3",
   "metadata": {},
   "outputs": [
    {
     "data": {
      "text/html": [
       "<div>\n",
       "<style scoped>\n",
       "    .dataframe tbody tr th:only-of-type {\n",
       "        vertical-align: middle;\n",
       "    }\n",
       "\n",
       "    .dataframe tbody tr th {\n",
       "        vertical-align: top;\n",
       "    }\n",
       "\n",
       "    .dataframe thead th {\n",
       "        text-align: right;\n",
       "    }\n",
       "</style>\n",
       "<table border=\"1\" class=\"dataframe\">\n",
       "  <thead>\n",
       "    <tr style=\"text-align: right;\">\n",
       "      <th></th>\n",
       "      <th>Forecasted_values</th>\n",
       "    </tr>\n",
       "  </thead>\n",
       "  <tbody>\n",
       "    <tr>\n",
       "      <th>272</th>\n",
       "      <td>0.279103</td>\n",
       "    </tr>\n",
       "    <tr>\n",
       "      <th>277</th>\n",
       "      <td>0.002122</td>\n",
       "    </tr>\n",
       "    <tr>\n",
       "      <th>279</th>\n",
       "      <td>0.001624</td>\n",
       "    </tr>\n",
       "    <tr>\n",
       "      <th>282</th>\n",
       "      <td>0.000812</td>\n",
       "    </tr>\n",
       "    <tr>\n",
       "      <th>283</th>\n",
       "      <td>0.003608</td>\n",
       "    </tr>\n",
       "  </tbody>\n",
       "</table>\n",
       "</div>"
      ],
      "text/plain": [
       "     Forecasted_values\n",
       "272           0.279103\n",
       "277           0.002122\n",
       "279           0.001624\n",
       "282           0.000812\n",
       "283           0.003608"
      ]
     },
     "execution_count": 115,
     "metadata": {},
     "output_type": "execute_result"
    }
   ],
   "source": [
    "df_pred_zero.head()"
   ]
  },
  {
   "cell_type": "code",
   "execution_count": 116,
   "id": "7cb5d3a4-a298-457a-99ff-d39149186ad7",
   "metadata": {},
   "outputs": [
    {
     "data": {
      "text/html": [
       "<div>\n",
       "<style scoped>\n",
       "    .dataframe tbody tr th:only-of-type {\n",
       "        vertical-align: middle;\n",
       "    }\n",
       "\n",
       "    .dataframe tbody tr th {\n",
       "        vertical-align: top;\n",
       "    }\n",
       "\n",
       "    .dataframe thead th {\n",
       "        text-align: right;\n",
       "    }\n",
       "</style>\n",
       "<table border=\"1\" class=\"dataframe\">\n",
       "  <thead>\n",
       "    <tr style=\"text-align: right;\">\n",
       "      <th></th>\n",
       "      <th>True_values</th>\n",
       "    </tr>\n",
       "  </thead>\n",
       "  <tbody>\n",
       "    <tr>\n",
       "      <th>0</th>\n",
       "      <td>3.999988</td>\n",
       "    </tr>\n",
       "    <tr>\n",
       "      <th>1</th>\n",
       "      <td>3.420275</td>\n",
       "    </tr>\n",
       "    <tr>\n",
       "      <th>2</th>\n",
       "      <td>4.500000</td>\n",
       "    </tr>\n",
       "    <tr>\n",
       "      <th>3</th>\n",
       "      <td>3.991900</td>\n",
       "    </tr>\n",
       "    <tr>\n",
       "      <th>4</th>\n",
       "      <td>3.000026</td>\n",
       "    </tr>\n",
       "  </tbody>\n",
       "</table>\n",
       "</div>"
      ],
      "text/plain": [
       "   True_values\n",
       "0     3.999988\n",
       "1     3.420275\n",
       "2     4.500000\n",
       "3     3.991900\n",
       "4     3.000026"
      ]
     },
     "execution_count": 116,
     "metadata": {},
     "output_type": "execute_result"
    }
   ],
   "source": [
    "df_true_nz.head()"
   ]
  },
  {
   "cell_type": "code",
   "execution_count": 117,
   "id": "4d6ceb8e-f387-49c4-937f-23c284c6158d",
   "metadata": {},
   "outputs": [
    {
     "data": {
      "text/html": [
       "<div>\n",
       "<style scoped>\n",
       "    .dataframe tbody tr th:only-of-type {\n",
       "        vertical-align: middle;\n",
       "    }\n",
       "\n",
       "    .dataframe tbody tr th {\n",
       "        vertical-align: top;\n",
       "    }\n",
       "\n",
       "    .dataframe thead th {\n",
       "        text-align: right;\n",
       "    }\n",
       "</style>\n",
       "<table border=\"1\" class=\"dataframe\">\n",
       "  <thead>\n",
       "    <tr style=\"text-align: right;\">\n",
       "      <th></th>\n",
       "      <th>Forecasted_values</th>\n",
       "    </tr>\n",
       "  </thead>\n",
       "  <tbody>\n",
       "    <tr>\n",
       "      <th>0</th>\n",
       "      <td>3.932678</td>\n",
       "    </tr>\n",
       "    <tr>\n",
       "      <th>1</th>\n",
       "      <td>4.119783</td>\n",
       "    </tr>\n",
       "    <tr>\n",
       "      <th>2</th>\n",
       "      <td>4.142134</td>\n",
       "    </tr>\n",
       "    <tr>\n",
       "      <th>3</th>\n",
       "      <td>14.337399</td>\n",
       "    </tr>\n",
       "    <tr>\n",
       "      <th>4</th>\n",
       "      <td>6.544927</td>\n",
       "    </tr>\n",
       "  </tbody>\n",
       "</table>\n",
       "</div>"
      ],
      "text/plain": [
       "   Forecasted_values\n",
       "0           3.932678\n",
       "1           4.119783\n",
       "2           4.142134\n",
       "3          14.337399\n",
       "4           6.544927"
      ]
     },
     "execution_count": 117,
     "metadata": {},
     "output_type": "execute_result"
    }
   ],
   "source": [
    "df_pred_nz.head()"
   ]
  },
  {
   "cell_type": "code",
   "execution_count": 118,
   "id": "fa6515be-c487-4d90-a7f7-7ae9aac98be8",
   "metadata": {},
   "outputs": [],
   "source": [
    "# create the separate scatterplots for these"
   ]
  },
  {
   "cell_type": "code",
   "execution_count": 119,
   "id": "5b1be166-8641-4ef5-af70-386326b2c989",
   "metadata": {},
   "outputs": [
    {
     "data": {
      "image/png": "[encoded data removed]",
      "text/plain": [
       "<Figure size 800x800 with 1 Axes>"
      ]
     },
     "metadata": {},
     "output_type": "display_data"
    }
   ],
   "source": [
    "# For zero-data\n",
    "plt.figure(figsize = (8,8))\n",
    "plt.scatter(df_true_zero['True_values'], df_pred_zero['Forecasted_values'], s = 10)\n",
    "plt.title(\"Scatter plot when the True densities are zeros\")\n",
    "plt.xlabel(\"True densities\")\n",
    "plt.ylabel(\"Forecasted densities\")\n",
    "plt.show()"
   ]
  },
  {
   "cell_type": "code",
   "execution_count": 120,
   "id": "81177e50-319f-41e7-bded-f0cb4194812b",
   "metadata": {},
   "outputs": [
    {
     "data": {
      "image/png": "[encoded data removed]",
      "text/plain": [
       "<Figure size 640x480 with 1 Axes>"
      ]
     },
     "metadata": {},
     "output_type": "display_data"
    }
   ],
   "source": [
    "# Plot histogram of two columns\n",
    "plt.hist(df_true_zero['True_values'], \n",
    "         bins=30, \n",
    "         label=[' True values'], \n",
    "         alpha=0.5, color = 'blue')  # alpha = transparency\n",
    "plt.hist(df_pred_zero['Forecasted_values'], \n",
    "         bins=30, \n",
    "         label=['Predicted values'], \n",
    "         alpha=0.5, color = 'red') \n",
    "plt.xlabel(\"Value\")\n",
    "plt.ylabel(\"Frequency\")\n",
    "plt.title(\"Histogram of Two Columns\")\n",
    "plt.legend()\n",
    "plt.show()"
   ]
  },
  {
   "cell_type": "code",
   "execution_count": 121,
   "id": "1fb0724b-bfa0-40fc-ac2b-f249f807788a",
   "metadata": {},
   "outputs": [
    {
     "data": {
      "image/png": "[encoded data removed]",
      "text/plain": [
       "<Figure size 800x800 with 1 Axes>"
      ]
     },
     "metadata": {},
     "output_type": "display_data"
    }
   ],
   "source": [
    "# For non-zero data\n",
    "plt.figure(figsize = (8,8))\n",
    "plt.scatter(df_true_nz['True_values'], df_pred_nz['Forecasted_values'], s = 10)\n",
    "plt.title(\"Scatter plot when the True densities are non-zeros\")\n",
    "# also plot the y = x line?\n",
    "plt.plot([0, 3], [0, 3], color='green', label='y = x')\n",
    "plt.xlabel(\"True densities\")\n",
    "plt.ylabel(\"Forecasted densities\")\n",
    "plt.show()"
   ]
  },
  {
   "cell_type": "code",
   "execution_count": 122,
   "id": "667b1664-b6e7-433c-97c4-a6f52fd02dea",
   "metadata": {},
   "outputs": [
    {
     "data": {
      "image/png": "[encoded data removed]",
      "text/plain": [
       "<Figure size 640x480 with 1 Axes>"
      ]
     },
     "metadata": {},
     "output_type": "display_data"
    }
   ],
   "source": [
    "# Plot histogram of two columns\n",
    "plt.hist(df_true_nz['True_values'], \n",
    "         bins=30, \n",
    "         label=[' True values'], \n",
    "         alpha=0.5, color = 'blue')  # alpha = transparency\n",
    "plt.hist(df_pred_nz['Forecasted_values'], \n",
    "         bins=30, \n",
    "         label=['Predicted values'], \n",
    "         alpha=0.5, color = 'red') \n",
    "plt.xlabel(\"Value\")\n",
    "plt.ylabel(\"Frequency\")\n",
    "plt.title(\"Histogram of Two Columns\")\n",
    "plt.legend()\n",
    "plt.show()"
   ]
  },
  {
   "cell_type": "code",
   "execution_count": 123,
   "id": "7f15c23f-13fa-4a4c-8f9e-91a286fe3ecb",
   "metadata": {},
   "outputs": [],
   "source": [
    "# not that great - but maybe the model is not doing as well as we need due to the number of zeros we had considered during the model training phase?"
   ]
  },
  {
   "cell_type": "code",
   "execution_count": 124,
   "id": "09b5a98a-8355-4906-9dc6-6c04080878d5",
   "metadata": {},
   "outputs": [],
   "source": [
    "# Maybe get the metrics for teh reduced subsets of data as well"
   ]
  },
  {
   "cell_type": "code",
   "execution_count": 125,
   "id": "daf790da-d6e2-4b26-ba0f-c4bba44003a5",
   "metadata": {},
   "outputs": [],
   "source": [
    "# All zeros"
   ]
  },
  {
   "cell_type": "code",
   "execution_count": 126,
   "id": "8f00c90b-e894-4fe5-a5a1-59bc88819f8f",
   "metadata": {},
   "outputs": [
    {
     "data": {
      "text/plain": [
       "0.2848975749005273"
      ]
     },
     "execution_count": 126,
     "metadata": {},
     "output_type": "execute_result"
    }
   ],
   "source": [
    "rmse_zero =  np.sqrt(mean_squared_error(df_true_zero['True_values'], df_pred_zero['Forecasted_values']))\n",
    "rmse_zero"
   ]
  },
  {
   "cell_type": "code",
   "execution_count": 127,
   "id": "3d662c70-2756-4907-8a23-5230d48df1f1",
   "metadata": {},
   "outputs": [
    {
     "data": {
      "text/plain": [
       "0.19050961383623244"
      ]
     },
     "execution_count": 127,
     "metadata": {},
     "output_type": "execute_result"
    }
   ],
   "source": [
    "mae_zero = mean_absolute_error(df_true_zero['True_values'], df_pred_zero['Forecasted_values'])\n",
    "mae_zero"
   ]
  },
  {
   "cell_type": "code",
   "execution_count": 128,
   "id": "1aba16bc-daa8-477e-b2d8-9f7c0ebe6cb5",
   "metadata": {},
   "outputs": [
    {
     "name": "stderr",
     "output_type": "stream",
     "text": [
      "/mnt/nrdstor/statsgeneral/gayara/tfp_cpu_env/lib/python3.11/site-packages/scipy/stats/_stats_py.py:4781: ConstantInputWarning: An input array is constant; the correlation coefficient is not defined.\n",
      "  warnings.warn(stats.ConstantInputWarning(msg))\n"
     ]
    }
   ],
   "source": [
    "corr_zero = pearsonr(df_true_zero['True_values'], df_pred_zero['Forecasted_values'])"
   ]
  },
  {
   "cell_type": "code",
   "execution_count": 129,
   "id": "8dc223f6-3ef1-4e38-bdfa-17b7d3355b65",
   "metadata": {},
   "outputs": [
    {
     "data": {
      "text/plain": [
       "PearsonRResult(statistic=nan, pvalue=nan)"
      ]
     },
     "execution_count": 129,
     "metadata": {},
     "output_type": "execute_result"
    }
   ],
   "source": [
    "corr_zero"
   ]
  },
  {
   "cell_type": "code",
   "execution_count": 130,
   "id": "0fbe3d09-1068-4c48-8b75-ec1a0528b271",
   "metadata": {},
   "outputs": [
    {
     "data": {
      "text/plain": [
       "-183040.73875045852"
      ]
     },
     "execution_count": 130,
     "metadata": {},
     "output_type": "execute_result"
    }
   ],
   "source": [
    "r2_zero = r2_score(df_true_nz['True_values'], df_pred_nz['Forecasted_values'])\n",
    "r2_zero"
   ]
  },
  {
   "cell_type": "code",
   "execution_count": 131,
   "id": "ce72776f-ad77-4356-a433-85f9d97b7813",
   "metadata": {},
   "outputs": [],
   "source": [
    "# non zeros"
   ]
  },
  {
   "cell_type": "code",
   "execution_count": 132,
   "id": "e61c34f7-e6bc-4aab-bee8-a42fff986316",
   "metadata": {},
   "outputs": [
    {
     "data": {
      "text/plain": [
       "994.8713703249024"
      ]
     },
     "execution_count": 132,
     "metadata": {},
     "output_type": "execute_result"
    }
   ],
   "source": [
    "rmse_nzero =  np.sqrt(mean_squared_error(df_true_nz['True_values'], df_pred_nz['Forecasted_values']))\n",
    "rmse_nzero"
   ]
  },
  {
   "cell_type": "code",
   "execution_count": 133,
   "id": "e49def21-cecd-42cc-b893-dcde7152f111",
   "metadata": {},
   "outputs": [
    {
     "data": {
      "text/plain": [
       "25.68420040519107"
      ]
     },
     "execution_count": 133,
     "metadata": {},
     "output_type": "execute_result"
    }
   ],
   "source": [
    "mae_nzero = mean_absolute_error(df_true_nz['True_values'], df_pred_nz['Forecasted_values'])\n",
    "mae_nzero"
   ]
  },
  {
   "cell_type": "code",
   "execution_count": 134,
   "id": "50b9cafd-40de-48ca-836c-61cdbf218ff2",
   "metadata": {},
   "outputs": [],
   "source": [
    "corr_nzero = pearsonr(df_true_nz['True_values'], df_pred_nz['Forecasted_values'])"
   ]
  },
  {
   "cell_type": "code",
   "execution_count": 135,
   "id": "7ad869be-4d69-4476-a3ed-9f58856d7b4c",
   "metadata": {},
   "outputs": [
    {
     "data": {
      "text/plain": [
       "PearsonRResult(statistic=0.03881811426495473, pvalue=0.0003513064176998464)"
      ]
     },
     "execution_count": 135,
     "metadata": {},
     "output_type": "execute_result"
    }
   ],
   "source": [
    "corr_nzero"
   ]
  },
  {
   "cell_type": "code",
   "execution_count": 136,
   "id": "9f381cc1-4d60-4cff-9186-51c402041846",
   "metadata": {},
   "outputs": [
    {
     "data": {
      "text/plain": [
       "-183040.73875045852"
      ]
     },
     "execution_count": 136,
     "metadata": {},
     "output_type": "execute_result"
    }
   ],
   "source": [
    "r2_nzero = r2_score(df_true_nz['True_values'], df_pred_nz['Forecasted_values'])\n",
    "r2_nzero"
   ]
  },
  {
   "cell_type": "markdown",
   "id": "3e6d46d1-da3f-4e0b-85e4-07d9150143c3",
   "metadata": {},
   "source": [
    "Credible Intervals"
   ]
  },
  {
   "cell_type": "code",
   "execution_count": 137,
   "id": "d1283353-ccf4-4640-9443-060c86a177c9",
   "metadata": {},
   "outputs": [],
   "source": [
    "all_forecasts_npy_files = ['all_forecasts_sub_' + str(i) + '.npy' for i in range(1376)]"
   ]
  },
  {
   "cell_type": "code",
   "execution_count": 138,
   "id": "46efa0a7-a942-431d-8540-cc8f57a8fe0e",
   "metadata": {},
   "outputs": [
    {
     "name": "stdout",
     "output_type": "stream",
     "text": [
      "CPU times: user 348 ms, sys: 108 ms, total: 456 ms\n",
      "Wall time: 458 ms\n"
     ]
    }
   ],
   "source": [
    "%%time\n",
    "loaded_npy_files = []\n",
    "for file in all_forecasts_npy_files:\n",
    "    joined_path = os.path.join(path_to_dfs, file)\n",
    "    load_file = np.load(joined_path)\n",
    "    # notice we are averaging the preds across the chains before exponentiation\n",
    "    mean_file = np.mean(np.exp(load_file)-1, axis = 1)\n",
    "    loaded_npy_files.append(mean_file)"
   ]
  },
  {
   "cell_type": "code",
   "execution_count": 139,
   "id": "95532003-d9ec-4003-b0cc-050441d4bc64",
   "metadata": {},
   "outputs": [
    {
     "data": {
      "text/plain": [
       "1376"
      ]
     },
     "execution_count": 139,
     "metadata": {},
     "output_type": "execute_result"
    }
   ],
   "source": [
    "len(loaded_npy_files)"
   ]
  },
  {
   "cell_type": "code",
   "execution_count": 140,
   "id": "8852a620-9f09-4a6a-9abc-261e466b7100",
   "metadata": {},
   "outputs": [
    {
     "data": {
      "text/plain": [
       "(1000, 7)"
      ]
     },
     "execution_count": 140,
     "metadata": {},
     "output_type": "execute_result"
    }
   ],
   "source": [
    "loaded_npy_files[0].shape"
   ]
  },
  {
   "cell_type": "code",
   "execution_count": 141,
   "id": "1a8bf2d5-72e2-4e66-842b-f740bc32d6c4",
   "metadata": {},
   "outputs": [],
   "source": [
    "# Maybe we should not get rid of the negatives? - As for the percentiles we will else never capture the true values of zeros?"
   ]
  },
  {
   "cell_type": "code",
   "execution_count": 142,
   "id": "0568b502-103f-4a04-8242-7031d19cc3ca",
   "metadata": {},
   "outputs": [],
   "source": [
    "# yeah, let's proceed with these"
   ]
  },
  {
   "cell_type": "code",
   "execution_count": 143,
   "id": "891cf483-19f4-4201-93c3-d5c089a68273",
   "metadata": {},
   "outputs": [],
   "source": [
    "# how to arrange these though? - might need to think this through a little"
   ]
  },
  {
   "cell_type": "code",
   "execution_count": 144,
   "id": "c671730f-2a6b-4387-9429-ffe7c02fa813",
   "metadata": {},
   "outputs": [
    {
     "data": {
      "text/plain": [
       "(7, 1376)"
      ]
     },
     "execution_count": 144,
     "metadata": {},
     "output_type": "execute_result"
    }
   ],
   "source": [
    "exp_true.shape"
   ]
  },
  {
   "cell_type": "code",
   "execution_count": 145,
   "id": "2a8f28f9-a6da-48e2-bb39-df328db746a5",
   "metadata": {},
   "outputs": [],
   "source": [
    "# where is the lsit of the forecasted range of values? - loaded_npy_files"
   ]
  },
  {
   "cell_type": "code",
   "execution_count": 146,
   "id": "9f0f8a25-8d35-4208-b291-268acdd6f166",
   "metadata": {},
   "outputs": [
    {
     "data": {
      "text/plain": [
       "1376"
      ]
     },
     "execution_count": 146,
     "metadata": {},
     "output_type": "execute_result"
    }
   ],
   "source": [
    "len(loaded_npy_files)"
   ]
  },
  {
   "cell_type": "code",
   "execution_count": 147,
   "id": "926e5ada-5d73-4773-84d0-9dda13f0013b",
   "metadata": {},
   "outputs": [
    {
     "data": {
      "text/plain": [
       "(1000, 7)"
      ]
     },
     "execution_count": 147,
     "metadata": {},
     "output_type": "execute_result"
    }
   ],
   "source": [
    "loaded_npy_files[0].shape"
   ]
  },
  {
   "cell_type": "code",
   "execution_count": 148,
   "id": "491757f8-1e87-44dc-b6b6-a3064d5b59d5",
   "metadata": {},
   "outputs": [],
   "source": [
    "# Okay, I think we need to move along the loaded file and also its axis 1 to get the percentile values in order."
   ]
  },
  {
   "cell_type": "code",
   "execution_count": 149,
   "id": "af429823-492f-462a-b26d-d41fbae4ad01",
   "metadata": {},
   "outputs": [],
   "source": [
    "# create a for loop for this? - and later maybe even a function so we do not need to repeat everything for each block separately"
   ]
  },
  {
   "cell_type": "code",
   "execution_count": 150,
   "id": "22caf338-e41f-409a-b915-bfb50a007f97",
   "metadata": {},
   "outputs": [],
   "source": [
    "# I think we also need to catch the percentiles?"
   ]
  },
  {
   "cell_type": "code",
   "execution_count": 151,
   "id": "1437bde4-4fd9-4ec0-b08d-a11325b900d6",
   "metadata": {},
   "outputs": [],
   "source": [
    "# Let's try all these?"
   ]
  },
  {
   "cell_type": "code",
   "execution_count": 152,
   "id": "66e12086-ceec-4e68-8d58-17dc6840293e",
   "metadata": {},
   "outputs": [],
   "source": [
    "trial_0 = loaded_npy_files[0][:,0]"
   ]
  },
  {
   "cell_type": "code",
   "execution_count": 153,
   "id": "a5991ee6-71f2-4aa9-816d-9f4790a62863",
   "metadata": {},
   "outputs": [
    {
     "data": {
      "text/plain": [
       "(1000,)"
      ]
     },
     "execution_count": 153,
     "metadata": {},
     "output_type": "execute_result"
    }
   ],
   "source": [
    "trial_0.shape"
   ]
  },
  {
   "cell_type": "code",
   "execution_count": 154,
   "id": "9b5136d7-ccfe-4112-bca5-e84c6a6245d7",
   "metadata": {},
   "outputs": [],
   "source": [
    "trial_li = np.percentile(trial_0, axis = 0, q = (2.5, 97.5))"
   ]
  },
  {
   "cell_type": "code",
   "execution_count": 155,
   "id": "f929943f-8c47-4318-a753-d5c1a537d1a1",
   "metadata": {},
   "outputs": [],
   "source": [
    "# trial_0.min(), trial_0.max()"
   ]
  },
  {
   "cell_type": "code",
   "execution_count": 156,
   "id": "74a56faa-f47f-42ed-a93e-de996cd92268",
   "metadata": {},
   "outputs": [
    {
     "data": {
      "text/plain": [
       "array([2.53917841, 5.78757782])"
      ]
     },
     "execution_count": 156,
     "metadata": {},
     "output_type": "execute_result"
    }
   ],
   "source": [
    "trial_li"
   ]
  },
  {
   "cell_type": "code",
   "execution_count": 157,
   "id": "ac802cff-8d84-49de-b0fb-3200b79f7317",
   "metadata": {},
   "outputs": [
    {
     "data": {
      "text/plain": [
       "(2.539178413152695, 5.787577819824218)"
      ]
     },
     "execution_count": 157,
     "metadata": {},
     "output_type": "execute_result"
    }
   ],
   "source": [
    "trial_li[0], trial_li[1]"
   ]
  },
  {
   "cell_type": "code",
   "execution_count": 158,
   "id": "43327cdf-ac00-461a-9fee-51233f414f2b",
   "metadata": {},
   "outputs": [],
   "source": [
    "lower_and_upper_limits = [] \n",
    "for j in range(loaded_npy_files[0].shape[1]):\n",
    "    values = loaded_npy_files[0][:,j]\n",
    "    # compute the lower and upper bounds?\n",
    "    li = np.percentile(values, axis = 0, q = (2.5, 97.5))[0]    \n",
    "    ui = np.percentile(values, axis = 0, q = (2.5, 97.5))[1]\n",
    "    lower_and_upper_limits.append((li, ui))"
   ]
  },
  {
   "cell_type": "code",
   "execution_count": 159,
   "id": "0593dae1-4d70-48b3-88f1-9a0964be600e",
   "metadata": {},
   "outputs": [
    {
     "data": {
      "text/plain": [
       "[(2.539178413152695, 5.787577819824218),\n",
       " (2.5285963475704194, 6.0517694473266594),\n",
       " (2.6335663735866546, 6.135599946975708),\n",
       " (1.2276058793067932, 65.32461318969723),\n",
       " (1.809155711531639, 18.579551506042478),\n",
       " (1.9778512865304947, 17.810799312591552),\n",
       " (1.9209070056676865, 17.4327826976776)]"
      ]
     },
     "execution_count": 159,
     "metadata": {},
     "output_type": "execute_result"
    }
   ],
   "source": [
    "lower_and_upper_limits"
   ]
  },
  {
   "cell_type": "code",
   "execution_count": 160,
   "id": "46213b78-ec25-4f81-add5-42a6d15bfcfe",
   "metadata": {},
   "outputs": [
    {
     "name": "stdout",
     "output_type": "stream",
     "text": [
      "CPU times: user 1.32 s, sys: 6.71 ms, total: 1.33 s\n",
      "Wall time: 1.34 s\n"
     ]
    }
   ],
   "source": [
    "%%time\n",
    "# Do this for all files?\n",
    "catch_all_percentiles = []\n",
    "for i in range(len(loaded_npy_files)):\n",
    "    all_lower_and_upper_limits = [] \n",
    "    for j in range(loaded_npy_files[i].shape[1]):\n",
    "        values = loaded_npy_files[i][:,j]\n",
    "        # compute the lower and upper bounds?\n",
    "        li = np.percentile(values, axis = 0, q = (2.5, 97.5))[0]    \n",
    "        ui = np.percentile(values, axis = 0, q = (2.5, 97.5))[1]\n",
    "        all_lower_and_upper_limits.append((li, ui))\n",
    "    catch_all_percentiles.append(all_lower_and_upper_limits)\n",
    "    "
   ]
  },
  {
   "cell_type": "code",
   "execution_count": 161,
   "id": "ff1bf688-0f0a-4703-9056-471c60e793b7",
   "metadata": {},
   "outputs": [
    {
     "data": {
      "text/plain": [
       "1376"
      ]
     },
     "execution_count": 161,
     "metadata": {},
     "output_type": "execute_result"
    }
   ],
   "source": [
    "len(catch_all_percentiles)"
   ]
  },
  {
   "cell_type": "code",
   "execution_count": 162,
   "id": "02db8873-f844-4dc6-b6ae-c04aca24099d",
   "metadata": {},
   "outputs": [],
   "source": [
    "catch_inside_length = []\n",
    "for limit_values in catch_all_percentiles:\n",
    "    length = len(limit_values)\n",
    "    catch_inside_length.append(length)"
   ]
  },
  {
   "cell_type": "code",
   "execution_count": 163,
   "id": "e6d08eb0-1132-465d-8e8d-cb39b675da4e",
   "metadata": {},
   "outputs": [
    {
     "data": {
      "text/plain": [
       "7.0"
      ]
     },
     "execution_count": 163,
     "metadata": {},
     "output_type": "execute_result"
    }
   ],
   "source": [
    "np.mean(catch_inside_length)"
   ]
  },
  {
   "cell_type": "code",
   "execution_count": 164,
   "id": "ee051bb6-0d20-44c2-bba4-aed93879566e",
   "metadata": {},
   "outputs": [],
   "source": [
    "# We may need a multitude of sanity checks to make sure we are correctly computing the coverages and widths. Now at this point, we can go ahead and compute the CI widths using the credible intervals? As this computation seems fairly simple?"
   ]
  },
  {
   "cell_type": "code",
   "execution_count": 165,
   "id": "0e25abcb-7754-4f52-b879-6fefe82dca8a",
   "metadata": {},
   "outputs": [
    {
     "data": {
      "text/plain": [
       "7"
      ]
     },
     "execution_count": 165,
     "metadata": {},
     "output_type": "execute_result"
    }
   ],
   "source": [
    "len(catch_all_percentiles[0])"
   ]
  },
  {
   "cell_type": "code",
   "execution_count": 166,
   "id": "503f2147-13d7-40b2-8920-ee4ccc007aeb",
   "metadata": {},
   "outputs": [],
   "source": [
    "all_percentiles_for_widths = [item for limit_values in catch_all_percentiles for item in limit_values]"
   ]
  },
  {
   "cell_type": "code",
   "execution_count": 167,
   "id": "767da887-164b-4d35-ae5d-9928181abc1a",
   "metadata": {},
   "outputs": [
    {
     "data": {
      "text/plain": [
       "9632"
      ]
     },
     "execution_count": 167,
     "metadata": {},
     "output_type": "execute_result"
    }
   ],
   "source": [
    "len(all_percentiles_for_widths)"
   ]
  },
  {
   "cell_type": "code",
   "execution_count": 168,
   "id": "9cb5f303-b818-4dc1-beb1-427c50c411c3",
   "metadata": {},
   "outputs": [],
   "source": [
    "# do some sanity check?"
   ]
  },
  {
   "cell_type": "code",
   "execution_count": 169,
   "id": "8472812a-8ded-468a-b778-8cee8f86a68c",
   "metadata": {},
   "outputs": [
    {
     "data": {
      "text/plain": [
       "[(2.747095859050751, 5.738787043094635),\n",
       " (2.668898379802704, 6.201612567901611),\n",
       " (2.4490860998630524, 5.8571856141090395),\n",
       " (1.2780601859092713, 57.306190776824906),\n",
       " (1.9964534044265747, 16.245589590072626),\n",
       " (2.163723146915436, 14.353302478790281),\n",
       " (2.1150775790214538, 14.45514216423034)]"
      ]
     },
     "execution_count": 169,
     "metadata": {},
     "output_type": "execute_result"
    }
   ],
   "source": [
    "catch_all_percentiles[1]"
   ]
  },
  {
   "cell_type": "code",
   "execution_count": 170,
   "id": "becf777c-14a3-4bbd-9e66-a208d7c91298",
   "metadata": {},
   "outputs": [
    {
     "data": {
      "text/plain": [
       "[(2.747095859050751, 5.738787043094635),\n",
       " (2.668898379802704, 6.201612567901611),\n",
       " (2.4490860998630524, 5.8571856141090395),\n",
       " (1.2780601859092713, 57.306190776824906),\n",
       " (1.9964534044265747, 16.245589590072626),\n",
       " (2.163723146915436, 14.353302478790281),\n",
       " (2.1150775790214538, 14.45514216423034)]"
      ]
     },
     "execution_count": 170,
     "metadata": {},
     "output_type": "execute_result"
    }
   ],
   "source": [
    "all_percentiles_for_widths[7:14]"
   ]
  },
  {
   "cell_type": "code",
   "execution_count": 171,
   "id": "7cd4c952-1194-4eb4-9b2a-b18bed651de7",
   "metadata": {},
   "outputs": [],
   "source": [
    "# seems this is right, let's move forward with the computation of the CI widths?"
   ]
  },
  {
   "cell_type": "code",
   "execution_count": 172,
   "id": "9e7d3cfe-96de-4650-8797-46ecba615862",
   "metadata": {},
   "outputs": [],
   "source": [
    "catch_wdths = []\n",
    "for values in all_percentiles_for_widths:\n",
    "    width = values[1] - values[0]\n",
    "    catch_wdths.append(width)"
   ]
  },
  {
   "cell_type": "code",
   "execution_count": 173,
   "id": "13b70b3e-2a3d-4a46-b0bd-c5837cc55588",
   "metadata": {},
   "outputs": [
    {
     "data": {
      "text/plain": [
       "89.4841879919573"
      ]
     },
     "execution_count": 173,
     "metadata": {},
     "output_type": "execute_result"
    }
   ],
   "source": [
    "# average CI width\n",
    "Average_CI_width = np.mean(catch_wdths)\n",
    "Average_CI_width"
   ]
  },
  {
   "cell_type": "code",
   "execution_count": 174,
   "id": "91d4f750-ced3-4a77-8d90-1c5d7c6ea281",
   "metadata": {},
   "outputs": [],
   "source": [
    "# do a few sanity checks  before we proceed?"
   ]
  },
  {
   "cell_type": "code",
   "execution_count": 175,
   "id": "9107c4fd-a1f0-4f25-b0c1-1a2c74a2c910",
   "metadata": {},
   "outputs": [
    {
     "data": {
      "text/plain": [
       "[3.248399406671523,\n",
       " 3.52317309975624,\n",
       " 3.502033573389053,\n",
       " 64.09700731039044,\n",
       " 16.77039579451084,\n",
       " 15.832948026061057,\n",
       " 15.511875692009912]"
      ]
     },
     "execution_count": 175,
     "metadata": {},
     "output_type": "execute_result"
    }
   ],
   "source": [
    "catch_wdths[0:7]"
   ]
  },
  {
   "cell_type": "code",
   "execution_count": 176,
   "id": "60f9d8eb-9b91-464c-bb0c-590abba2362f",
   "metadata": {},
   "outputs": [
    {
     "name": "stdout",
     "output_type": "stream",
     "text": [
      "3.248399406671523\n",
      "3.52317309975624\n",
      "3.502033573389053\n",
      "64.09700731039044\n",
      "16.77039579451084\n",
      "15.832948026061057\n",
      "15.511875692009912\n"
     ]
    }
   ],
   "source": [
    "print(catch_all_percentiles[0][0][1] - catch_all_percentiles[0][0][0])\n",
    "print(catch_all_percentiles[0][1][1] - catch_all_percentiles[0][1][0])\n",
    "print(catch_all_percentiles[0][2][1] - catch_all_percentiles[0][2][0])\n",
    "print(catch_all_percentiles[0][3][1] - catch_all_percentiles[0][3][0])\n",
    "print(catch_all_percentiles[0][4][1] - catch_all_percentiles[0][4][0])\n",
    "print(catch_all_percentiles[0][5][1] - catch_all_percentiles[0][5][0])\n",
    "print(catch_all_percentiles[0][6][1] - catch_all_percentiles[0][6][0])"
   ]
  },
  {
   "cell_type": "code",
   "execution_count": 177,
   "id": "f466fcea-eff8-4b63-9540-767821406287",
   "metadata": {},
   "outputs": [],
   "source": [
    "# Okay, we can move on now"
   ]
  },
  {
   "cell_type": "code",
   "execution_count": 178,
   "id": "b5a8d271-ed68-49e9-8ddf-56eeb7b8b118",
   "metadata": {},
   "outputs": [],
   "source": [
    "# What about the coverage?\n",
    "# Now this list - all_percentiles_for_widths - this is in the oder of the subwindows - but before proceeding to the next subwindow, it also tracks across the 7 time periods.\n",
    "# so now, we have the true values in a dataframe in the shape (7,910), we can stack these ina single column  - and basically then have to track if this value is inbetween the two upper and lower limits in the list all_percentiles_for_widths."
   ]
  },
  {
   "cell_type": "code",
   "execution_count": 179,
   "id": "7eabdb5c-e122-47b3-99c3-1802837f8d2b",
   "metadata": {},
   "outputs": [],
   "source": [
    "# cool, so let's get this true values dataset arranged  in one single column?"
   ]
  },
  {
   "cell_type": "code",
   "execution_count": 180,
   "id": "d3260a19-4371-4ac3-b2fa-f3e1f309e0f2",
   "metadata": {},
   "outputs": [],
   "source": [
    "# actually, we have already done that"
   ]
  },
  {
   "cell_type": "code",
   "execution_count": 181,
   "id": "18e5cf5d-b982-4aa8-b0d1-75b33359c8d4",
   "metadata": {},
   "outputs": [
    {
     "data": {
      "text/plain": [
       "(9632, 1)"
      ]
     },
     "execution_count": 181,
     "metadata": {},
     "output_type": "execute_result"
    }
   ],
   "source": [
    "exp_true_onecol.shape"
   ]
  },
  {
   "cell_type": "code",
   "execution_count": 182,
   "id": "9fd666d6-a90c-4c85-8fa1-b973843c31d2",
   "metadata": {},
   "outputs": [
    {
     "data": {
      "text/html": [
       "<div>\n",
       "<style scoped>\n",
       "    .dataframe tbody tr th:only-of-type {\n",
       "        vertical-align: middle;\n",
       "    }\n",
       "\n",
       "    .dataframe tbody tr th {\n",
       "        vertical-align: top;\n",
       "    }\n",
       "\n",
       "    .dataframe thead th {\n",
       "        text-align: right;\n",
       "    }\n",
       "</style>\n",
       "<table border=\"1\" class=\"dataframe\">\n",
       "  <thead>\n",
       "    <tr style=\"text-align: right;\">\n",
       "      <th></th>\n",
       "      <th>True_values</th>\n",
       "    </tr>\n",
       "  </thead>\n",
       "  <tbody>\n",
       "    <tr>\n",
       "      <th>0</th>\n",
       "      <td>3.999988</td>\n",
       "    </tr>\n",
       "    <tr>\n",
       "      <th>1</th>\n",
       "      <td>3.420275</td>\n",
       "    </tr>\n",
       "    <tr>\n",
       "      <th>2</th>\n",
       "      <td>4.500000</td>\n",
       "    </tr>\n",
       "    <tr>\n",
       "      <th>3</th>\n",
       "      <td>3.991900</td>\n",
       "    </tr>\n",
       "    <tr>\n",
       "      <th>4</th>\n",
       "      <td>3.000026</td>\n",
       "    </tr>\n",
       "  </tbody>\n",
       "</table>\n",
       "</div>"
      ],
      "text/plain": [
       "   True_values\n",
       "0     3.999988\n",
       "1     3.420275\n",
       "2     4.500000\n",
       "3     3.991900\n",
       "4     3.000026"
      ]
     },
     "execution_count": 182,
     "metadata": {},
     "output_type": "execute_result"
    }
   ],
   "source": [
    "exp_true_onecol.head()"
   ]
  },
  {
   "cell_type": "code",
   "execution_count": 183,
   "id": "ce2b14ca-1704-4051-9cdc-eb450c820c49",
   "metadata": {},
   "outputs": [],
   "source": [
    "All_exp_true_vals_array = exp_true_onecol.values.reshape(-1)"
   ]
  },
  {
   "cell_type": "code",
   "execution_count": 184,
   "id": "b85bdec1-fe7e-4d47-845e-156fbb923423",
   "metadata": {},
   "outputs": [
    {
     "data": {
      "text/plain": [
       "(9632,)"
      ]
     },
     "execution_count": 184,
     "metadata": {},
     "output_type": "execute_result"
    }
   ],
   "source": [
    "All_exp_true_vals_array.shape"
   ]
  },
  {
   "cell_type": "code",
   "execution_count": 185,
   "id": "1c0ac8a1-b72a-44e8-8e9b-d9cab757acb0",
   "metadata": {},
   "outputs": [
    {
     "data": {
      "text/plain": [
       "(0.0, 11.082551652028974)"
      ]
     },
     "execution_count": 185,
     "metadata": {},
     "output_type": "execute_result"
    }
   ],
   "source": [
    "All_exp_true_vals_array.min(), All_exp_true_vals_array.max()"
   ]
  },
  {
   "cell_type": "code",
   "execution_count": 186,
   "id": "4e49562c-7f70-4578-91e5-1a8916504fdc",
   "metadata": {},
   "outputs": [],
   "source": [
    "# cool, now check if this value is inbetween the upper and the lower limits contained in the list - all_percentiles_for_widths"
   ]
  },
  {
   "cell_type": "code",
   "execution_count": 187,
   "id": "8de7beae-6ecd-44ce-8dc4-4dd8d7a1a93a",
   "metadata": {},
   "outputs": [],
   "source": [
    "Catch_all_indicators = []\n",
    "for i in range(All_exp_true_vals_array.shape[0]):\n",
    "    true_value = All_exp_true_vals_array[i]\n",
    "    li_val = all_percentiles_for_widths[i][0]\n",
    "    ui_val = all_percentiles_for_widths[i][1]\n",
    "    ind_train = (true_value >= li_val) & (true_value <= ui_val)\n",
    "    Catch_all_indicators.append(ind_train)"
   ]
  },
  {
   "cell_type": "code",
   "execution_count": 188,
   "id": "85ab4671-0c07-4499-9dd4-60b4a433f516",
   "metadata": {},
   "outputs": [
    {
     "data": {
      "text/plain": [
       "0.7667151162790697"
      ]
     },
     "execution_count": 188,
     "metadata": {},
     "output_type": "execute_result"
    }
   ],
   "source": [
    "coverage_val = np.mean(Catch_all_indicators)\n",
    "coverage_val"
   ]
  },
  {
   "cell_type": "code",
   "execution_count": 189,
   "id": "cb369b20-1fd5-4746-a6bb-ac663ff346af",
   "metadata": {},
   "outputs": [],
   "source": [
    "# I think we are ready to replicate this for the rest of the blocks? Let's push the recent work to GitHub"
   ]
  },
  {
   "cell_type": "code",
   "execution_count": 190,
   "id": "c924ec22-d98e-4043-b88b-48cce95ac0a4",
   "metadata": {},
   "outputs": [],
   "source": [
    "# define a function to get the post-hoc prediction\n",
    "def prediction_on_test_data(preds_array, stride = 24, kernel_size = 300):\n",
    "\n",
    "    img_height = 768 # we might need to verify this value\n",
    "    # get the image weight\n",
    "    img_width = 1024 # we might need to verify this value\n",
    "\n",
    "    \n",
    "    # create an empty density map\n",
    "    Density_map = np.zeros((img_height, img_width))\n",
    "\n",
    "    # create an empty counts map\n",
    "    counts_map = np.zeros((img_height, img_width))\n",
    "    \n",
    "    # now, for every window, we will keep adding the values together and also add the counts\n",
    "    counter = 0\n",
    "#     need a counter to move into each predicted value in the pred values list\n",
    "    for ii in range(0, img_height, stride):\n",
    "        for jj in range(0, img_width, stride):\n",
    "#         operations for density map\n",
    "#             get the window of interest\n",
    "            new_window = Density_map[ii:ii + kernel_size,jj:jj+kernel_size]\n",
    "#     fill each with the value c_k\n",
    "            counts_window = np.full((new_window.shape[0], new_window.shape[1]), preds_array[counter])\n",
    "#     get the shapes of this new window\n",
    "            cw_height = counts_window.shape[0]\n",
    "            cw_width = counts_window.shape[1]\n",
    "#         Do c_k/r_2\n",
    "            counts_window_new = counts_window/(cw_height*cw_width)\n",
    "#     This is the value in the window now\n",
    "            value_window = counts_window_new\n",
    "#     place the values in the corrsponding area of the density map\n",
    "            Density_map[ii:ii + kernel_size,jj:jj+kernel_size] = new_window + value_window\n",
    "\n",
    "#         Let's now focus on capturing the counts of the windows\n",
    "            new_window_c = counts_map[ii:ii + kernel_size,jj:jj+kernel_size]\n",
    "#     get the counts area\n",
    "            count = np.ones((new_window_c.shape[0], new_window_c.shape[1]))\n",
    "#     keep adding the counts to reflect the addition of densities\n",
    "            counts_map[ii:ii + kernel_size,jj:jj+kernel_size] = new_window_c + count\n",
    "#     increase the counter\n",
    "            counter = counter + 1\n",
    "            \n",
    "#         get the normalized count\n",
    "    normalized_counts = np.divide(Density_map, counts_map)\n",
    "    \n",
    "#     entire count on the test set\n",
    "    pred_on_test = np.sum(normalized_counts)\n",
    "    \n",
    "#     return the predicted value\n",
    "    return(pred_on_test, normalized_counts)"
   ]
  },
  {
   "cell_type": "code",
   "execution_count": 191,
   "id": "beee2074-c202-4412-9d56-308a231c56c5",
   "metadata": {},
   "outputs": [
    {
     "data": {
      "text/plain": [
       "(7, 1376)"
      ]
     },
     "execution_count": 191,
     "metadata": {},
     "output_type": "execute_result"
    }
   ],
   "source": [
    "Forecasted_values_df.shape"
   ]
  },
  {
   "cell_type": "code",
   "execution_count": 192,
   "id": "e31f1932-af74-48be-92a1-51435b1eb585",
   "metadata": {},
   "outputs": [
    {
     "data": {
      "text/plain": [
       "(7, 1376)"
      ]
     },
     "execution_count": 192,
     "metadata": {},
     "output_type": "execute_result"
    }
   ],
   "source": [
    "Forecasted_values_df.values.shape"
   ]
  },
  {
   "cell_type": "code",
   "execution_count": 193,
   "id": "cd1dc763-a1ec-49c6-86f3-aa95cce53764",
   "metadata": {},
   "outputs": [],
   "source": [
    "# Access just the first row?"
   ]
  },
  {
   "cell_type": "code",
   "execution_count": 194,
   "id": "07cdfd79-b811-41cc-a4ab-4e3c8241a563",
   "metadata": {},
   "outputs": [
    {
     "data": {
      "text/plain": [
       "(1376,)"
      ]
     },
     "execution_count": 194,
     "metadata": {},
     "output_type": "execute_result"
    }
   ],
   "source": [
    "Forecasted_values_df.values[0,:].shape"
   ]
  },
  {
   "cell_type": "code",
   "execution_count": 195,
   "id": "9d69b608-7a85-4f1c-9f5b-cd3fab48ae48",
   "metadata": {},
   "outputs": [],
   "source": [
    "# use this to get the preds?"
   ]
  },
  {
   "cell_type": "code",
   "execution_count": 196,
   "id": "4d2f1366-2a3a-462c-833f-c4696aefd4e4",
   "metadata": {},
   "outputs": [],
   "source": [
    "test_im_0_preds = prediction_on_test_data(Forecasted_values_df.values[0,:], stride = 24, kernel_size = 300)"
   ]
  },
  {
   "cell_type": "code",
   "execution_count": 197,
   "id": "3e889728-8eb0-417e-bf33-1116f1337d3b",
   "metadata": {},
   "outputs": [
    {
     "data": {
      "text/plain": [
       "45.56048118006433"
      ]
     },
     "execution_count": 197,
     "metadata": {},
     "output_type": "execute_result"
    }
   ],
   "source": [
    "test_im_0_preds[0]"
   ]
  },
  {
   "cell_type": "code",
   "execution_count": 198,
   "id": "2df6ab18-c8c7-4142-a2f4-7909822f50ed",
   "metadata": {},
   "outputs": [],
   "source": [
    "# get the values forecasted in a loop?\n",
    "predicted_test_values = []\n",
    "for i in range(7):\n",
    "    pred_val = prediction_on_test_data(Forecasted_values_df.values[i,:], stride = 24, kernel_size = 300)[0]\n",
    "    predicted_test_values.append(pred_val)"
   ]
  },
  {
   "cell_type": "code",
   "execution_count": 199,
   "id": "4b1e2226-6a0c-42d1-90e0-8e1afb7f8548",
   "metadata": {},
   "outputs": [
    {
     "data": {
      "text/plain": [
       "[45.56048118006433,\n",
       " 46.11652533383825,\n",
       " 46.97143504591451,\n",
       " 4015.6156280700006,\n",
       " 204.1285824347166,\n",
       " 143.9265702309836,\n",
       " 123.73300286139506]"
      ]
     },
     "execution_count": 199,
     "metadata": {},
     "output_type": "execute_result"
    }
   ],
   "source": [
    "predicted_test_values"
   ]
  },
  {
   "cell_type": "code",
   "execution_count": 200,
   "id": "65ff7c53-2f08-4601-ab2e-12eaea9765f4",
   "metadata": {},
   "outputs": [],
   "source": [
    "# Okay, there's some seroius shit happening I think with those very high values - we need to figuer out what to do"
   ]
  }
 ],
 "metadata": {
  "kernelspec": {
   "display_name": "Python (tfp_cpu_env)",
   "language": "python",
   "name": "tfp_cpu_env"
  },
  "language_info": {
   "codemirror_mode": {
    "name": "ipython",
    "version": 3
   },
   "file_extension": ".py",
   "mimetype": "text/x-python",
   "name": "python",
   "nbconvert_exporter": "python",
   "pygments_lexer": "ipython3",
   "version": "3.11.7"
  }
 },
 "nbformat": 4,
 "nbformat_minor": 5
}
