{
 "cells": [
  {
   "cell_type": "code",
   "execution_count": 1,
   "id": "a3e3f4a7-a681-41e0-98c0-700bf22f2c83",
   "metadata": {},
   "outputs": [],
   "source": [
    "import numpy as np\n",
    "import pandas as pd\n",
    "import os"
   ]
  },
  {
   "cell_type": "code",
   "execution_count": 2,
   "id": "72eeab66-355d-40e4-b3ed-ed6320eeb25c",
   "metadata": {},
   "outputs": [],
   "source": [
    "# What all do we have? We have the geenrated features, and the densities defined for all the test blocks."
   ]
  },
  {
   "cell_type": "code",
   "execution_count": 3,
   "id": "ae7bf6f8-e2af-4540-8479-02dea8c2f38f",
   "metadata": {},
   "outputs": [],
   "source": [
    "# Do the data prep for one block, and define a function for the rest"
   ]
  },
  {
   "cell_type": "code",
   "execution_count": 5,
   "id": "d0acac57-2d44-44c0-8f0c-c106fd72d7d2",
   "metadata": {},
   "outputs": [],
   "source": [
    "# densities are here\n",
    "block_0103_density_file = np.load(os.path.join(\"data/densities_overlapping/\", \"all_densities_block_0103.npy\"))"
   ]
  },
  {
   "cell_type": "code",
   "execution_count": 6,
   "id": "bbb70fff-79e6-4b4e-a94d-27aacb3db17d",
   "metadata": {},
   "outputs": [
    {
     "data": {
      "text/plain": [
       "(3072, 20, 1)"
      ]
     },
     "execution_count": 6,
     "metadata": {},
     "output_type": "execute_result"
    }
   ],
   "source": [
    "block_0103_density_file.shape"
   ]
  },
  {
   "cell_type": "code",
   "execution_count": 7,
   "id": "f2077ee6-c2ed-4ede-abc2-d07784bd1335",
   "metadata": {},
   "outputs": [],
   "source": [
    "# Where are the feature files?"
   ]
  },
  {
   "cell_type": "code",
   "execution_count": 8,
   "id": "845f5f6a-2c8c-4668-9ad4-48e526393f8d",
   "metadata": {},
   "outputs": [],
   "source": [
    "# for test time points\n",
    "block_0103_feature_file_test_points = np.load(os.path.join(\"data/predicted_sequences_from_stage_1\", \"pred_values_blk_0103.npy\"))"
   ]
  },
  {
   "cell_type": "code",
   "execution_count": 9,
   "id": "cc2b1041-ceeb-4bea-a19f-cb699c16f3a7",
   "metadata": {},
   "outputs": [
    {
     "data": {
      "text/plain": [
       "(3072, 7, 32)"
      ]
     },
     "execution_count": 9,
     "metadata": {},
     "output_type": "execute_result"
    }
   ],
   "source": [
    "block_0103_feature_file_test_points.shape"
   ]
  },
  {
   "cell_type": "code",
   "execution_count": 10,
   "id": "9666cede-58b7-46cd-8500-d032cb6f1fe9",
   "metadata": {},
   "outputs": [],
   "source": [
    "# for train time points\n",
    "block_0103_feature_file_train_points = np.load(os.path.join(\"data/train_features_non_overlapping/\", \"train_features_block_0103.npy\"))"
   ]
  },
  {
   "cell_type": "code",
   "execution_count": 11,
   "id": "96d687ae-8d13-4af8-846d-55288b3b7b3a",
   "metadata": {},
   "outputs": [
    {
     "data": {
      "text/plain": [
       "(3072, 13, 32)"
      ]
     },
     "execution_count": 11,
     "metadata": {},
     "output_type": "execute_result"
    }
   ],
   "source": [
    "block_0103_feature_file_train_points.shape"
   ]
  },
  {
   "cell_type": "code",
   "execution_count": 12,
   "id": "6e777e88-f12f-48b5-af88-34be42626564",
   "metadata": {},
   "outputs": [],
   "source": [
    "# Stack the featrue files together?"
   ]
  },
  {
   "cell_type": "code",
   "execution_count": 13,
   "id": "8a19cc96-272a-4680-81d8-6045fd40cf15",
   "metadata": {},
   "outputs": [],
   "source": [
    "block_0103_features = np.hstack((block_0103_feature_file_train_points, block_0103_feature_file_test_points))"
   ]
  },
  {
   "cell_type": "code",
   "execution_count": 14,
   "id": "355c9dab-12f0-4f26-8542-678f780d641d",
   "metadata": {},
   "outputs": [
    {
     "data": {
      "text/plain": [
       "(3072, 20, 32)"
      ]
     },
     "execution_count": 14,
     "metadata": {},
     "output_type": "execute_result"
    }
   ],
   "source": [
    "block_0103_features.shape"
   ]
  },
  {
   "cell_type": "code",
   "execution_count": 15,
   "id": "10ae5bcc-c1b7-4abc-9f2b-856857bfe07e",
   "metadata": {},
   "outputs": [],
   "source": [
    "# alternative way\n",
    "block_0103_features_alt = np.concatenate((block_0103_feature_file_train_points, block_0103_feature_file_test_points), axis = 1)"
   ]
  },
  {
   "cell_type": "code",
   "execution_count": 16,
   "id": "d934d16f-1280-494f-9bdf-6590e651d522",
   "metadata": {},
   "outputs": [
    {
     "data": {
      "text/plain": [
       "(3072, 20, 32)"
      ]
     },
     "execution_count": 16,
     "metadata": {},
     "output_type": "execute_result"
    }
   ],
   "source": [
    "block_0103_features_alt.shape"
   ]
  },
  {
   "cell_type": "code",
   "execution_count": 17,
   "id": "84992633-fd68-4590-9707-a62fb65dd625",
   "metadata": {},
   "outputs": [
    {
     "data": {
      "text/plain": [
       "1.0"
      ]
     },
     "execution_count": 17,
     "metadata": {},
     "output_type": "execute_result"
    }
   ],
   "source": [
    "# sanity check\n",
    "np.mean(block_0103_features == block_0103_features_alt)"
   ]
  },
  {
   "cell_type": "code",
   "execution_count": 18,
   "id": "700fc6aa-7146-43cd-894c-23731bd48f71",
   "metadata": {},
   "outputs": [],
   "source": [
    "# now stack this with the response?"
   ]
  },
  {
   "cell_type": "code",
   "execution_count": 19,
   "id": "563fe015-e1d7-4976-a75f-50f133b0c1b5",
   "metadata": {},
   "outputs": [],
   "source": [
    "block_0103_all_data = np.concatenate((block_0103_features, block_0103_density_file), axis = 2)"
   ]
  },
  {
   "cell_type": "code",
   "execution_count": 20,
   "id": "c2c972ad-d443-4374-8392-752b2f4c158a",
   "metadata": {},
   "outputs": [
    {
     "data": {
      "text/plain": [
       "(3072, 20, 33)"
      ]
     },
     "execution_count": 20,
     "metadata": {},
     "output_type": "execute_result"
    }
   ],
   "source": [
    "block_0103_all_data.shape"
   ]
  },
  {
   "cell_type": "code",
   "execution_count": 21,
   "id": "89f341b9-29c1-46f7-9bbe-ca7de889a19b",
   "metadata": {},
   "outputs": [],
   "source": [
    "block_0103_all_data_alt = np.dstack((block_0103_features, block_0103_density_file))"
   ]
  },
  {
   "cell_type": "code",
   "execution_count": 22,
   "id": "b21c6551-e163-404b-8fd7-aabc2f2072a3",
   "metadata": {},
   "outputs": [
    {
     "data": {
      "text/plain": [
       "(3072, 20, 33)"
      ]
     },
     "execution_count": 22,
     "metadata": {},
     "output_type": "execute_result"
    }
   ],
   "source": [
    "block_0103_all_data_alt.shape"
   ]
  },
  {
   "cell_type": "code",
   "execution_count": 23,
   "id": "63226eeb-50c5-48c3-8a46-350a032b4f2d",
   "metadata": {},
   "outputs": [
    {
     "data": {
      "text/plain": [
       "1.0"
      ]
     },
     "execution_count": 23,
     "metadata": {},
     "output_type": "execute_result"
    }
   ],
   "source": [
    "# sanity check\n",
    "np.mean(block_0103_all_data_alt == block_0103_all_data)"
   ]
  },
  {
   "cell_type": "code",
   "execution_count": 24,
   "id": "d743f3fd-1c5f-4855-b6a9-4b71070297d2",
   "metadata": {},
   "outputs": [],
   "source": [
    "# Okay, now need to create dfs, and store so these can be later used for the BLAR model"
   ]
  },
  {
   "cell_type": "code",
   "execution_count": 25,
   "id": "b43ac038-eb20-4474-b937-e40e7048201c",
   "metadata": {},
   "outputs": [],
   "source": [
    "block_0103_all_data_df_100 = pd.DataFrame(block_0103_all_data[100,:,:], columns = ['feature_' + str(i) for i in range(32)] + ['density'])"
   ]
  },
  {
   "cell_type": "code",
   "execution_count": 27,
   "id": "e6351fa6-4363-4479-ad0a-3edae12ddb2b",
   "metadata": {},
   "outputs": [
    {
     "name": "stdout",
     "output_type": "stream",
     "text": [
      "CPU times: user 2.82 s, sys: 143 ms, total: 2.96 s\n",
      "Wall time: 5.58 s\n"
     ]
    }
   ],
   "source": [
    "%%time\n",
    "counter = 0\n",
    "for row in range(block_0103_all_data.shape[0]):\n",
    "    # create the df\n",
    "    current_df = pd.DataFrame(block_0103_all_data[row,:,:], columns = ['feature_' + str(i) for i in range(32)] + ['density'])\n",
    "    # name the df\n",
    "    df_name = 'block_0103_df_' + str(counter) + '.csv'\n",
    "    # df path\n",
    "    df_path = \"data/BLAR_ready_dfs/block_0103\"\n",
    "    # save the df\n",
    "    current_df.to_csv(os.path.join(df_path, df_name), index = False)\n",
    "    counter = counter + 1"
   ]
  },
  {
   "cell_type": "code",
   "execution_count": 29,
   "id": "aeee5b5c-9963-4731-a7b6-581269433825",
   "metadata": {},
   "outputs": [],
   "source": [
    "# block_0103_all_data_df_100"
   ]
  },
  {
   "cell_type": "code",
   "execution_count": 30,
   "id": "512be379-127c-4a4a-9bdf-b474ec5094b6",
   "metadata": {},
   "outputs": [],
   "source": [
    "# Seems this is what we need, but do sanity checks"
   ]
  },
  {
   "cell_type": "code",
   "execution_count": 31,
   "id": "799d2c95-9531-4719-a7c2-3c906d3e3cb4",
   "metadata": {},
   "outputs": [],
   "source": [
    "# Okay, how do we ensure we have done this correct"
   ]
  },
  {
   "cell_type": "code",
   "execution_count": 32,
   "id": "bca8773b-04b9-4812-8b30-004746b51c88",
   "metadata": {},
   "outputs": [
    {
     "data": {
      "text/plain": [
       "(3072, 20, 32)"
      ]
     },
     "execution_count": 32,
     "metadata": {},
     "output_type": "execute_result"
    }
   ],
   "source": [
    "block_0103_features.shape"
   ]
  },
  {
   "cell_type": "code",
   "execution_count": 33,
   "id": "c6fc9940-2eb5-419c-a8b6-f7dc2e4dc4b4",
   "metadata": {},
   "outputs": [
    {
     "name": "stdout",
     "output_type": "stream",
     "text": [
      "1.0\n",
      "1.0\n"
     ]
    }
   ],
   "source": [
    "# sanity check for features\n",
    "# train tps\n",
    "print(np.mean(block_0103_features[:,:13,:] == block_0103_feature_file_train_points))\n",
    "# test tps\n",
    "print(np.mean(block_0103_features[:,13:,:] == block_0103_feature_file_test_points))"
   ]
  },
  {
   "cell_type": "code",
   "execution_count": 34,
   "id": "c8391cf9-9fe8-43dd-8910-d240a9657eb4",
   "metadata": {},
   "outputs": [],
   "source": [
    "# Also check a few random dfs\n",
    "block_0103_all_data_df_100 = pd.DataFrame(block_0103_all_data[100,:,:], columns = ['feature_' + str(i) for i in range(32)] + ['density']) # matches with the stored df\n",
    "block_0103_all_data_df_500 = pd.DataFrame(block_0103_all_data[500,:,:], columns = ['feature_' + str(i) for i in range(32)] + ['density']) # matches with the stored df\n",
    "block_0103_all_data_df_785 = pd.DataFrame(block_0103_all_data[785,:,:], columns = ['feature_' + str(i) for i in range(32)] + ['density']) # matches with the stored df\n",
    "block_0103_all_data_df_91 = pd.DataFrame(block_0103_all_data[91,:,:], columns = ['feature_' + str(i) for i in range(32)] + ['density']) # matches with the stored df"
   ]
  },
  {
   "cell_type": "code",
   "execution_count": 36,
   "id": "b75ad3d5-adc4-493a-bc74-1159840b146e",
   "metadata": {},
   "outputs": [],
   "source": [
    "# block_0103_all_data_df_91"
   ]
  },
  {
   "cell_type": "code",
   "execution_count": 37,
   "id": "dca94afd-fb4e-47fd-a46b-97a110db2b9d",
   "metadata": {},
   "outputs": [],
   "source": [
    "# Okay, define a function to be used for the rest of the blocks"
   ]
  },
  {
   "cell_type": "code",
   "execution_count": 38,
   "id": "a6dc9f4b-202d-4a28-a479-5d73b9821ef3",
   "metadata": {},
   "outputs": [],
   "source": [
    "# What all do we need for the function?\n",
    "\n",
    "# density_file_loc\n",
    "# feature_file_loc_train\n",
    "# feature_file_loc_test\n"
   ]
  },
  {
   "cell_type": "code",
   "execution_count": 39,
   "id": "ccbe86dd-6406-4f8e-a0b2-f4b242df1876",
   "metadata": {},
   "outputs": [],
   "source": [
    "def store_BLAR_ready_dfs(density_file_loc, feature_file_loc_train, feature_file_loc_test, block_name_for_df, save_df_path):\n",
    "    # load density file\n",
    "    density_array = np.load(density_file_loc)\n",
    "    # load train features\n",
    "    train_features = np.load(feature_file_loc_train)\n",
    "    # load test featrues\n",
    "    test_features = np.load(feature_file_loc_test)\n",
    "    # stack features files\n",
    "    stacked_features = np.hstack((train_features, test_features))\n",
    "    # do sanity check\n",
    "    stacked_features_alt = np.concatenate((train_features, test_features), axis = 1)\n",
    "    print(np.mean(stacked_features == stacked_features_alt))\n",
    "    # print shape\n",
    "    print(stacked_features.shape)\n",
    "    # stack features and density\n",
    "    all_data_array = np.concatenate((stacked_features, density_array), axis = 2)\n",
    "    # let's also do teh sanity checks\n",
    "    all_data_alt = np.dstack((stacked_features, density_array))\n",
    "    print(np.mean(all_data_array == all_data_alt))\n",
    "    print(all_data_array.shape)\n",
    "    # do the for loop and store the dfs\n",
    "\n",
    "    catch_dfs = []\n",
    "    counter = 0\n",
    "    for row in range(all_data_array.shape[0]):\n",
    "        # create the df\n",
    "        current_df = pd.DataFrame(all_data_array[row,:,:], columns = ['feature_' + str(i) for i in range(32)] + ['density'])\n",
    "        catch_dfs.append(current_df)\n",
    "        # name the df\n",
    "        df_name = block_name_for_df + str(counter) + '.csv'\n",
    "        # save the df\n",
    "        current_df.to_csv(os.path.join(save_df_path, df_name), index = False)\n",
    "        counter = counter + 1\n",
    "\n",
    "    return catch_dfs"
   ]
  },
  {
   "cell_type": "code",
   "execution_count": 40,
   "id": "4c794633-54ab-4d30-aec0-82e4b0897324",
   "metadata": {},
   "outputs": [],
   "source": [
    "# Try this for block 0103 - we need to create an additional folder for the block names"
   ]
  },
  {
   "cell_type": "code",
   "execution_count": 43,
   "id": "63e70569-36c6-43ff-a28d-2797ff9d744d",
   "metadata": {},
   "outputs": [],
   "source": [
    "# argument values\n",
    "dense_file_loc = \"data/densities_overlapping/all_densities_block_0103.npy\"\n",
    "train_features_loc = \"data/train_features_non_overlapping/train_features_block_0103.npy\"\n",
    "test_features_loc = \"data/predicted_sequences_from_stage_1/pred_values_blk_0103.npy\"\n",
    "blk_name = \"block_0103_df_\"\n",
    "save_df_loc = \"data/BLAR_ready_dfs/block_0103\""
   ]
  },
  {
   "cell_type": "code",
   "execution_count": 44,
   "id": "ace61357-fa05-49e8-83e0-0917f6859b45",
   "metadata": {},
   "outputs": [
    {
     "name": "stdout",
     "output_type": "stream",
     "text": [
      "1.0\n",
      "(3072, 20, 32)\n",
      "1.0\n",
      "(3072, 20, 33)\n"
     ]
    }
   ],
   "source": [
    "try_0103 = store_BLAR_ready_dfs(dense_file_loc, train_features_loc, test_features_loc, blk_name, save_df_loc)"
   ]
  },
  {
   "cell_type": "code",
   "execution_count": 45,
   "id": "5844347e-b5ac-4eaf-a9a2-62ee1bed7247",
   "metadata": {},
   "outputs": [],
   "source": [
    "# are the all the same?\n",
    "\n",
    "# list files in \"data/BLAR_ready_dfs/model_1\" for block 0103"
   ]
  },
  {
   "cell_type": "code",
   "execution_count": 46,
   "id": "db79b966-2626-4d8a-aa1f-caa99bb53984",
   "metadata": {},
   "outputs": [],
   "source": [
    "all_files_here = [file for file in os.listdir(\"data/BLAR_ready_dfs\")]"
   ]
  },
  {
   "cell_type": "code",
   "execution_count": 47,
   "id": "e84b8c21-1160-4b37-8ccd-20cd185fa037",
   "metadata": {},
   "outputs": [
    {
     "data": {
      "text/plain": [
       "14"
      ]
     },
     "execution_count": 47,
     "metadata": {},
     "output_type": "execute_result"
    }
   ],
   "source": [
    "len(all_files_here)"
   ]
  },
  {
   "cell_type": "code",
   "execution_count": 48,
   "id": "dd07a050-ba62-47fe-ae9e-afbefa7d9338",
   "metadata": {},
   "outputs": [],
   "source": [
    "only_csv  = [file for file in os.listdir(\"data/BLAR_ready_dfs/block_0103\") if file.split(\".\")[-1] == 'csv']"
   ]
  },
  {
   "cell_type": "code",
   "execution_count": 49,
   "id": "81c7a3f5-db26-4ad4-b662-af3c18c74d7c",
   "metadata": {},
   "outputs": [],
   "source": [
    "# only_csv"
   ]
  },
  {
   "cell_type": "code",
   "execution_count": 50,
   "id": "44217080-5ba7-4708-a6e0-c6a7ddbda732",
   "metadata": {},
   "outputs": [
    {
     "data": {
      "text/plain": [
       "3072"
      ]
     },
     "execution_count": 50,
     "metadata": {},
     "output_type": "execute_result"
    }
   ],
   "source": [
    "len(only_csv)"
   ]
  },
  {
   "cell_type": "code",
   "execution_count": 51,
   "id": "6fed4f8f-4a7d-4025-967d-587e98f49ad5",
   "metadata": {},
   "outputs": [],
   "source": [
    "# files inside the block_0103 folder\n",
    "only_csv_block_0103 = [file for file in os.listdir(save_df_loc)]"
   ]
  },
  {
   "cell_type": "code",
   "execution_count": 52,
   "id": "13f3d9da-72a4-4961-8b84-e60610850fcb",
   "metadata": {},
   "outputs": [
    {
     "data": {
      "text/plain": [
       "3072"
      ]
     },
     "execution_count": 52,
     "metadata": {},
     "output_type": "execute_result"
    }
   ],
   "source": [
    "len(only_csv_block_0103)"
   ]
  },
  {
   "cell_type": "code",
   "execution_count": 53,
   "id": "96fcb621-af62-4da5-97d7-127bfdad7511",
   "metadata": {},
   "outputs": [],
   "source": [
    "csv_files = ['block_0103_df_' + str(i) + '.csv' for i in range(3072)]"
   ]
  },
  {
   "cell_type": "code",
   "execution_count": 55,
   "id": "d5a1e17b-5487-4e85-b36f-b45ea2416496",
   "metadata": {},
   "outputs": [],
   "source": [
    "# csv_files"
   ]
  },
  {
   "cell_type": "code",
   "execution_count": 56,
   "id": "c26cc231-5af5-496f-875a-50af0e487fbb",
   "metadata": {},
   "outputs": [
    {
     "name": "stdout",
     "output_type": "stream",
     "text": [
      "CPU times: user 7.08 s, sys: 148 ms, total: 7.23 s\n",
      "Wall time: 12.8 s\n"
     ]
    }
   ],
   "source": [
    "%%time\n",
    "catch_true = []\n",
    "for file in csv_files:\n",
    "    load_from_loc1 = pd.read_csv(os.path.join(\"data/BLAR_ready_dfs/block_0103\", file))\n",
    "    load_from_loc2 = pd.read_csv(os.path.join(save_df_loc, file))\n",
    "    is_true = load_from_loc1.equals(load_from_loc2)\n",
    "    catch_true.append(is_true)"
   ]
  },
  {
   "cell_type": "code",
   "execution_count": 57,
   "id": "f63b37c3-2165-44f4-8dba-706870f58139",
   "metadata": {},
   "outputs": [
    {
     "data": {
      "text/plain": [
       "1.0"
      ]
     },
     "execution_count": 57,
     "metadata": {},
     "output_type": "execute_result"
    }
   ],
   "source": [
    "np.mean(catch_true)"
   ]
  },
  {
   "cell_type": "code",
   "execution_count": 58,
   "id": "e734b15a-8524-4909-89f6-32abb8de7a1e",
   "metadata": {},
   "outputs": [],
   "source": [
    "# Let's preprocess data for teh rest of the blocks"
   ]
  },
  {
   "cell_type": "code",
   "execution_count": 59,
   "id": "3df1124f-43e1-4f1e-8dbb-1145fdcc4975",
   "metadata": {},
   "outputs": [],
   "source": [
    "# block 0104"
   ]
  },
  {
   "cell_type": "code",
   "execution_count": 62,
   "id": "abdc15ce-d5e0-4139-a18c-d687e7fcb4d6",
   "metadata": {},
   "outputs": [],
   "source": [
    "# argument values\n",
    "dense_file_loc_0104 = \"data/densities_overlapping/all_densities_block_0104.npy\"\n",
    "train_features_loc_0104 = \"data/train_features_non_overlapping/train_features_block_0104.npy\"\n",
    "test_features_loc_0104 = \"data/predicted_sequences_from_stage_1/pred_values_blk_0104.npy\"\n",
    "blk_name_0104 = \"block_0104_df_\"\n",
    "save_df_loc_0104 = \"data/BLAR_ready_dfs/block_0104\""
   ]
  },
  {
   "cell_type": "code",
   "execution_count": 63,
   "id": "4dee976c-e54d-4c88-896c-93fee1b5be6d",
   "metadata": {},
   "outputs": [
    {
     "name": "stdout",
     "output_type": "stream",
     "text": [
      "1.0\n",
      "(3072, 20, 32)\n",
      "1.0\n",
      "(3072, 20, 33)\n"
     ]
    }
   ],
   "source": [
    "try_0104 = store_BLAR_ready_dfs(dense_file_loc_0104, train_features_loc_0104, test_features_loc_0104, blk_name_0104, save_df_loc_0104)"
   ]
  },
  {
   "cell_type": "code",
   "execution_count": 65,
   "id": "b37a41db-a26f-45de-aae4-47cd171ebe9a",
   "metadata": {},
   "outputs": [],
   "source": [
    "# block 0105"
   ]
  },
  {
   "cell_type": "code",
   "execution_count": 66,
   "id": "277f5f95-0f4a-44a6-a567-2f35f57825be",
   "metadata": {},
   "outputs": [],
   "source": [
    "# argument values\n",
    "dense_file_loc_0105 = \"data/densities_overlapping/all_densities_block_0105.npy\"\n",
    "train_features_loc_0105 = \"data/train_features_non_overlapping/train_features_block_0105.npy\"\n",
    "test_features_loc_0105 = \"data/predicted_sequences_from_stage_1/pred_values_blk_0105.npy\"\n",
    "blk_name_0105 = \"block_0105_df_\"\n",
    "save_df_loc_0105 = \"data/BLAR_ready_dfs/block_0105\""
   ]
  },
  {
   "cell_type": "code",
   "execution_count": 67,
   "id": "b6defede-12a9-4065-b36c-5a3ca80a0489",
   "metadata": {},
   "outputs": [
    {
     "name": "stdout",
     "output_type": "stream",
     "text": [
      "1.0\n",
      "(3072, 20, 32)\n",
      "1.0\n",
      "(3072, 20, 33)\n"
     ]
    }
   ],
   "source": [
    "try_0105 = store_BLAR_ready_dfs(dense_file_loc_0105, train_features_loc_0105, test_features_loc_0105, blk_name_0105, save_df_loc_0105)"
   ]
  },
  {
   "cell_type": "code",
   "execution_count": 68,
   "id": "ac6b124a-0bc6-42e8-9f2f-0066ec4a60b1",
   "metadata": {},
   "outputs": [],
   "source": [
    "# block 0106"
   ]
  },
  {
   "cell_type": "code",
   "execution_count": 69,
   "id": "992260c1-0e98-4aad-bf44-ff6bcb2075e1",
   "metadata": {},
   "outputs": [],
   "source": [
    "# argument values\n",
    "dense_file_loc_0106 = \"data/densities_overlapping/all_densities_block_0106.npy\"\n",
    "train_features_loc_0106 = \"data/train_features_non_overlapping/train_features_block_0106.npy\"\n",
    "test_features_loc_0106 = \"data/predicted_sequences_from_stage_1/pred_values_blk_0106.npy\"\n",
    "blk_name_0106 = \"block_0106_df_\"\n",
    "save_df_loc_0106 = \"data/BLAR_ready_dfs/block_0106\""
   ]
  },
  {
   "cell_type": "code",
   "execution_count": 70,
   "id": "7560ce85-cf09-4dcb-90da-76e881992f97",
   "metadata": {},
   "outputs": [
    {
     "name": "stdout",
     "output_type": "stream",
     "text": [
      "1.0\n",
      "(3072, 20, 32)\n",
      "1.0\n",
      "(3072, 20, 33)\n"
     ]
    }
   ],
   "source": [
    "try_0106 = store_BLAR_ready_dfs(dense_file_loc_0106, train_features_loc_0106, test_features_loc_0106, blk_name_0106, save_df_loc_0106)"
   ]
  },
  {
   "cell_type": "code",
   "execution_count": 71,
   "id": "b290e745-52dc-4582-843b-76627d931ddc",
   "metadata": {},
   "outputs": [],
   "source": [
    "# block 0201"
   ]
  },
  {
   "cell_type": "code",
   "execution_count": 72,
   "id": "b6e6cf6e-bf70-4510-a414-7c92a18183b2",
   "metadata": {},
   "outputs": [],
   "source": [
    "# argument values\n",
    "dense_file_loc_0201 = \"data/densities_overlapping/all_densities_block_0201.npy\"\n",
    "train_features_loc_0201 = \"data/train_features_non_overlapping/train_features_block_0201.npy\"\n",
    "test_features_loc_0201 = \"data/predicted_sequences_from_stage_1/pred_values_blk_0201.npy\"\n",
    "blk_name_0201 = \"block_0201_df_\"\n",
    "save_df_loc_0201 = \"data/BLAR_ready_dfs/block_0201\""
   ]
  },
  {
   "cell_type": "code",
   "execution_count": 73,
   "id": "8538d298-fcf7-4193-af39-2abbcc8f58c6",
   "metadata": {},
   "outputs": [
    {
     "name": "stdout",
     "output_type": "stream",
     "text": [
      "1.0\n",
      "(3072, 20, 32)\n",
      "1.0\n",
      "(3072, 20, 33)\n"
     ]
    }
   ],
   "source": [
    "try_0201 = store_BLAR_ready_dfs(dense_file_loc_0201, train_features_loc_0201, test_features_loc_0201, blk_name_0201, save_df_loc_0201)"
   ]
  },
  {
   "cell_type": "code",
   "execution_count": 74,
   "id": "aefc1bd4-1115-49c3-97b5-67ecebf17367",
   "metadata": {},
   "outputs": [],
   "source": [
    "# block 0202"
   ]
  },
  {
   "cell_type": "code",
   "execution_count": 75,
   "id": "868386f5-6b8a-4c30-a0eb-6c0daedb5bff",
   "metadata": {},
   "outputs": [],
   "source": [
    "# argument values\n",
    "dense_file_loc_0202 = \"data/densities_overlapping/all_densities_block_0202.npy\"\n",
    "train_features_loc_0202 = \"data/train_features_non_overlapping/train_features_block_0202.npy\"\n",
    "test_features_loc_0202 = \"data/predicted_sequences_from_stage_1/pred_values_blk_0202.npy\"\n",
    "blk_name_0202 = \"block_0202_df_\"\n",
    "save_df_loc_0202 = \"data/BLAR_ready_dfs/block_0202\""
   ]
  },
  {
   "cell_type": "code",
   "execution_count": 76,
   "id": "0f01009f-4d72-4293-b419-6e6a67f6cf68",
   "metadata": {},
   "outputs": [
    {
     "name": "stdout",
     "output_type": "stream",
     "text": [
      "1.0\n",
      "(3072, 20, 32)\n",
      "1.0\n",
      "(3072, 20, 33)\n"
     ]
    }
   ],
   "source": [
    "try_0202 = store_BLAR_ready_dfs(dense_file_loc_0202, train_features_loc_0202, test_features_loc_0202, blk_name_0202, save_df_loc_0202)"
   ]
  },
  {
   "cell_type": "code",
   "execution_count": 77,
   "id": "0576c3fc-b3c5-4f9c-baa6-64912a5f5ddf",
   "metadata": {},
   "outputs": [],
   "source": [
    "# block 0205"
   ]
  },
  {
   "cell_type": "code",
   "execution_count": 78,
   "id": "39012173-5679-4233-ba51-6d3012a5817d",
   "metadata": {},
   "outputs": [],
   "source": [
    "# argument values\n",
    "dense_file_loc_0205 = \"data/densities_overlapping/all_densities_block_0205.npy\"\n",
    "train_features_loc_0205 = \"data/train_features_non_overlapping/train_features_block_0205.npy\"\n",
    "test_features_loc_0205 = \"data/predicted_sequences_from_stage_1/pred_values_blk_0205.npy\"\n",
    "blk_name_0205 = \"block_0205_df_\"\n",
    "save_df_loc_0205 = \"data/BLAR_ready_dfs/block_0205\""
   ]
  },
  {
   "cell_type": "code",
   "execution_count": 79,
   "id": "3cbe9661-5bae-4ba8-bb1d-8841211125d0",
   "metadata": {},
   "outputs": [
    {
     "name": "stdout",
     "output_type": "stream",
     "text": [
      "1.0\n",
      "(3072, 20, 32)\n",
      "1.0\n",
      "(3072, 20, 33)\n"
     ]
    }
   ],
   "source": [
    "try_0205 = store_BLAR_ready_dfs(dense_file_loc_0205, train_features_loc_0205, test_features_loc_0205, blk_name_0205, save_df_loc_0205)"
   ]
  },
  {
   "cell_type": "code",
   "execution_count": 80,
   "id": "b50da164-5809-4219-a5d2-2cff2b443c87",
   "metadata": {},
   "outputs": [],
   "source": [
    "# block 0206"
   ]
  },
  {
   "cell_type": "code",
   "execution_count": 81,
   "id": "ab80743b-ca99-4947-8cfe-07c9a74a6684",
   "metadata": {},
   "outputs": [],
   "source": [
    "# argument values\n",
    "dense_file_loc_0206 = \"data/densities_overlapping/all_densities_block_0206.npy\"\n",
    "train_features_loc_0206 = \"data/train_features_non_overlapping/train_features_block_0206.npy\"\n",
    "test_features_loc_0206 = \"data/predicted_sequences_from_stage_1/pred_values_blk_0206.npy\"\n",
    "blk_name_0206 = \"block_0206_df_\"\n",
    "save_df_loc_0206 = \"data/BLAR_ready_dfs/block_0206\""
   ]
  },
  {
   "cell_type": "code",
   "execution_count": 82,
   "id": "82def5cd-4f75-4bc5-8046-a0dfdb684794",
   "metadata": {},
   "outputs": [
    {
     "name": "stdout",
     "output_type": "stream",
     "text": [
      "1.0\n",
      "(3072, 20, 32)\n",
      "1.0\n",
      "(3072, 20, 33)\n"
     ]
    }
   ],
   "source": [
    "try_0206 = store_BLAR_ready_dfs(dense_file_loc_0206, train_features_loc_0206, test_features_loc_0206, blk_name_0206, save_df_loc_0206)"
   ]
  },
  {
   "cell_type": "code",
   "execution_count": 83,
   "id": "068143cf-b763-486f-8a7a-7e01d197f371",
   "metadata": {},
   "outputs": [],
   "source": [
    "# block 0302"
   ]
  },
  {
   "cell_type": "code",
   "execution_count": 84,
   "id": "59eb7781-55f7-47da-9718-0fa42cb00795",
   "metadata": {},
   "outputs": [],
   "source": [
    "# argument values\n",
    "dense_file_loc_0302 = \"data/densities_overlapping/all_densities_block_0302.npy\"\n",
    "train_features_loc_0302 = \"data/train_features_non_overlapping/train_features_block_0302.npy\"\n",
    "test_features_loc_0302 = \"data/predicted_sequences_from_stage_1/pred_values_blk_0302.npy\"\n",
    "blk_name_0302 = \"block_0302_df_\"\n",
    "save_df_loc_0302 = \"data/BLAR_ready_dfs/block_0302\""
   ]
  },
  {
   "cell_type": "code",
   "execution_count": 85,
   "id": "b3103468-39d1-4a33-a76c-bc5473c4a62b",
   "metadata": {},
   "outputs": [
    {
     "name": "stdout",
     "output_type": "stream",
     "text": [
      "1.0\n",
      "(3072, 20, 32)\n",
      "1.0\n",
      "(3072, 20, 33)\n"
     ]
    }
   ],
   "source": [
    "try_0302 = store_BLAR_ready_dfs(dense_file_loc_0302, train_features_loc_0302, test_features_loc_0302, blk_name_0302, save_df_loc_0302)"
   ]
  },
  {
   "cell_type": "code",
   "execution_count": 86,
   "id": "6a5b3423-af1c-4734-9afa-de8a5b8a2f92",
   "metadata": {},
   "outputs": [],
   "source": [
    "# block 0303"
   ]
  },
  {
   "cell_type": "code",
   "execution_count": 87,
   "id": "b60377f0-50a1-47ba-9ade-31dcf61feb8c",
   "metadata": {},
   "outputs": [],
   "source": [
    "# argument values\n",
    "dense_file_loc_0303 = \"data/densities_overlapping/all_densities_block_0303.npy\"\n",
    "train_features_loc_0303 = \"data/train_features_non_overlapping/train_features_block_0303.npy\"\n",
    "test_features_loc_0303 = \"data/predicted_sequences_from_stage_1/pred_values_blk_0303.npy\"\n",
    "blk_name_0303 = \"block_0303_df_\"\n",
    "save_df_loc_0303 = \"data/BLAR_ready_dfs/block_0303\""
   ]
  },
  {
   "cell_type": "code",
   "execution_count": 88,
   "id": "cad197e1-e944-4db1-9f82-97d913e6dd8e",
   "metadata": {},
   "outputs": [
    {
     "name": "stdout",
     "output_type": "stream",
     "text": [
      "1.0\n",
      "(3072, 20, 32)\n",
      "1.0\n",
      "(3072, 20, 33)\n"
     ]
    }
   ],
   "source": [
    "try_0303 = store_BLAR_ready_dfs(dense_file_loc_0303, train_features_loc_0303, test_features_loc_0303, blk_name_0303, save_df_loc_0303)"
   ]
  },
  {
   "cell_type": "code",
   "execution_count": 89,
   "id": "60006aba-46e9-4175-8ae9-f3d1542c933a",
   "metadata": {},
   "outputs": [],
   "source": [
    "# block 0304"
   ]
  },
  {
   "cell_type": "code",
   "execution_count": 90,
   "id": "5b791b89-8eee-488a-9b0b-b6513e1386a3",
   "metadata": {},
   "outputs": [],
   "source": [
    "# argument values\n",
    "dense_file_loc_0304 = \"data/densities_overlapping/all_densities_block_0304.npy\"\n",
    "train_features_loc_0304 = \"data/train_features_non_overlapping/train_features_block_0304.npy\"\n",
    "test_features_loc_0304 = \"data/predicted_sequences_from_stage_1/pred_values_blk_0304.npy\"\n",
    "blk_name_0304 = \"block_0304_df_\"\n",
    "save_df_loc_0304 = \"data/BLAR_ready_dfs/block_0304\""
   ]
  },
  {
   "cell_type": "code",
   "execution_count": 91,
   "id": "61e9e20a-9e5e-41e2-95a0-a991662574d1",
   "metadata": {},
   "outputs": [
    {
     "name": "stdout",
     "output_type": "stream",
     "text": [
      "1.0\n",
      "(3072, 20, 32)\n",
      "1.0\n",
      "(3072, 20, 33)\n"
     ]
    }
   ],
   "source": [
    "try_0304 = store_BLAR_ready_dfs(dense_file_loc_0304, train_features_loc_0304, test_features_loc_0304, blk_name_0304, save_df_loc_0304)"
   ]
  },
  {
   "cell_type": "code",
   "execution_count": 92,
   "id": "ca1ef3b0-df6e-4b2d-9494-10eec38623bc",
   "metadata": {},
   "outputs": [],
   "source": [
    "# block 0305"
   ]
  },
  {
   "cell_type": "code",
   "execution_count": 95,
   "id": "6ef24145-b905-4aee-8440-9f554cdf3141",
   "metadata": {},
   "outputs": [],
   "source": [
    "# argument values\n",
    "dense_file_loc_0305 = \"data/densities_overlapping/all_densities_block_0305.npy\"\n",
    "train_features_loc_0305 = \"data/train_features_non_overlapping/train_features_block_0305.npy\"\n",
    "test_features_loc_0305 = \"data/predicted_sequences_from_stage_1/pred_values_blk_0305.npy\"\n",
    "blk_name_0305 = \"block_0305_df_\"\n",
    "save_df_loc_0305 = \"data/BLAR_ready_dfs/block_0305\""
   ]
  },
  {
   "cell_type": "code",
   "execution_count": 96,
   "id": "d8fcd84e-29f5-4817-b2f2-dcddd1572ad7",
   "metadata": {},
   "outputs": [
    {
     "name": "stdout",
     "output_type": "stream",
     "text": [
      "1.0\n",
      "(3072, 20, 32)\n",
      "1.0\n",
      "(3072, 20, 33)\n"
     ]
    }
   ],
   "source": [
    "try_0305 = store_BLAR_ready_dfs(dense_file_loc_0305, train_features_loc_0305, test_features_loc_0305, blk_name_0305, save_df_loc_0305)"
   ]
  },
  {
   "cell_type": "code",
   "execution_count": 97,
   "id": "018de666-4149-45c8-a7df-723db671073e",
   "metadata": {},
   "outputs": [],
   "source": [
    "# block 0306"
   ]
  },
  {
   "cell_type": "code",
   "execution_count": 98,
   "id": "b35b2ab2-afaf-47bc-82a6-4a53b619b89b",
   "metadata": {},
   "outputs": [],
   "source": [
    "# argument values\n",
    "dense_file_loc_0306 = \"data/densities_overlapping/all_densities_block_0306.npy\"\n",
    "train_features_loc_0306 = \"data/train_features_non_overlapping/train_features_block_0306.npy\"\n",
    "test_features_loc_0306 = \"data/predicted_sequences_from_stage_1/pred_values_blk_0306.npy\"\n",
    "blk_name_0306 = \"block_0306_df_\"\n",
    "save_df_loc_0306 = \"data/BLAR_ready_dfs/block_0306\""
   ]
  },
  {
   "cell_type": "code",
   "execution_count": 99,
   "id": "6fec4f4f-e938-4b98-97a6-8cae4269a748",
   "metadata": {},
   "outputs": [
    {
     "name": "stdout",
     "output_type": "stream",
     "text": [
      "1.0\n",
      "(3072, 20, 32)\n",
      "1.0\n",
      "(3072, 20, 33)\n"
     ]
    }
   ],
   "source": [
    "try_0306 = store_BLAR_ready_dfs(dense_file_loc_0306, train_features_loc_0306, test_features_loc_0306, blk_name_0306, save_df_loc_0306)"
   ]
  }
 ],
 "metadata": {
  "kernelspec": {
   "display_name": "Python (nrdstor_tfp_for_TN)",
   "language": "python",
   "name": "nrdstor_tfp_for_tn"
  },
  "language_info": {
   "codemirror_mode": {
    "name": "ipython",
    "version": 3
   },
   "file_extension": ".py",
   "mimetype": "text/x-python",
   "name": "python",
   "nbconvert_exporter": "python",
   "pygments_lexer": "ipython3",
   "version": "3.10.14"
  }
 },
 "nbformat": 4,
 "nbformat_minor": 5
}
