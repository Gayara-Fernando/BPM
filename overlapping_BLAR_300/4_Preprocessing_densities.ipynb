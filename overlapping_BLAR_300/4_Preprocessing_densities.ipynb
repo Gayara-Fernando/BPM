{
 "cells": [
  {
   "cell_type": "code",
   "execution_count": null,
   "id": "55217ecc-bce6-4b02-a345-29485cd2324b",
   "metadata": {},
   "outputs": [],
   "source": [
    "import numpy as np\n",
    "import pandas as pd\n",
    "import matplotlib.pyplot as plt\n",
    "import os\n",
    "from scipy import ndimage\n",
    "import xml\n",
    "import xml.etree.ElementTree as ET\n",
    "import cv2\n",
    "import warnings\n",
    "from skimage.transform import resize"
   ]
  },
  {
   "cell_type": "code",
   "execution_count": null,
   "id": "fbc39349-15c4-421d-a52e-41d56cbe26a5",
   "metadata": {},
   "outputs": [],
   "source": [
    "# I think we need the sum of the density from the density maps for each corresponding subwindow?"
   ]
  },
  {
   "cell_type": "code",
   "execution_count": null,
   "id": "1505f23e-9ee0-4b09-99b6-3447f8f0d25e",
   "metadata": {},
   "outputs": [],
   "source": [
    "def chose_xml_and_jpeg(file_location):\n",
    "    # list all files in location\n",
    "    list_of_all_files = os.listdir(file_location)\n",
    "    # sort files\n",
    "    list_of_all_files.sort()\n",
    "    # separate xml and jpeg files\n",
    "    all_xml_files = [file for file in list_of_all_files if file.split('.')[-1] == 'xml']\n",
    "    all_xml_files.sort()\n",
    "    all_jpeg_files = [file for file in list_of_all_files if file not in all_xml_files]\n",
    "    all_jpeg_files.sort()\n",
    "    # get the final 20 files\n",
    "    chosen_xml_files = all_xml_files[-20:]\n",
    "    chosen_jpeg_files = all_jpeg_files[-20:]\n",
    "    # make sure the xml and jpeg files correspond to each other?\n",
    "    mean = np.mean([file.split('.')[0] for file in chosen_xml_files] == [file.split('.')[0] for file in chosen_jpeg_files])\n",
    "    return(chosen_jpeg_files, chosen_xml_files, mean)"
   ]
  },
  {
   "cell_type": "code",
   "execution_count": null,
   "id": "8b38b19d-8f5d-4ad5-a913-ecf5c35000a5",
   "metadata": {},
   "outputs": [],
   "source": [
    "# for horizontally annotated images\n",
    "def get_density_maps_horizontal(file_name, image_path, xml_path):\n",
    "    xml_file = file_name + '.xml'\n",
    "    xml_file_path = os.path.join(xml_path, xml_file)\n",
    "\n",
    "    # Get coords from the xml file\n",
    "    # parse the xml file\n",
    "    parsed_file = ET.parse(xml_file_path)\n",
    "    # get the roots\n",
    "    root = parsed_file.getroot()\n",
    "    # get the roots here\n",
    "    coords = []\n",
    "    for child in root:\n",
    "        for i in child:\n",
    "            for j in i:\n",
    "                coords.append(int(j.text))\n",
    "    \n",
    "    # chunk the points into sets of 4 - these are the coordinates of the bounding boxes\n",
    "    points_tupples = []\n",
    "    for i in range(0, len(coords), 4):\n",
    "        points_tupples.append(coords[i:i + 4])\n",
    "\n",
    "    # make a dataframe with these points\n",
    "    coords_df = pd.DataFrame(points_tupples, columns = [\"bleft_x\", \"bleft_y\", \"tright_x\", \"tright_y\"])\n",
    "\n",
    "    # compute the number of tassels in each image\n",
    "    no_of_tassels = len(points_tupples)\n",
    "\n",
    "    # compute the mid coordinates\n",
    "    coords_df[\"mid_x\"] = (round(0.5*(coords_df[\"bleft_x\"] + coords_df[\"tright_x\"]))).astype(int)\n",
    "    coords_df[\"mid_y\"] = (round(0.5*(coords_df[\"bleft_y\"] + coords_df[\"tright_y\"]))).astype(int)\n",
    "\n",
    "    # extract the mid cordinates\n",
    "    mid_coords = coords_df[[\"mid_x\", \"mid_y\"]]\n",
    "    # cap the coords at the max height and width values\n",
    "    mid_coords.loc[mid_coords['mid_x'] > 1024, 'mid_x'] = 1023\n",
    "    mid_coords.loc[mid_coords['mid_y'] > 768, 'mid_y'] = 767\n",
    "    warnings.filterwarnings(\"ignore\")\n",
    "\n",
    "    # plot the bounding boxes on images\n",
    "    # get image name and path\n",
    "    image_name = file_name + '.jpeg'\n",
    "    imge_file_path = os.path.join(image_path, image_name)\n",
    "    # read the image\n",
    "    read_image = plt.imread(imge_file_path)\n",
    "    read_image = ndimage.rotate(read_image, 0)\n",
    "\n",
    "    # check the shape of the read image\n",
    "    read_image_shape = read_image.shape\n",
    "    #  plot the bounding boxes on the image\n",
    "    for points in points_tupples:\n",
    "        annotated_image = cv2.rectangle(read_image, (points[0],points[1]), (points[2],points[3]), color = (255,0,0), thickness = 2)\n",
    "    # plt.figure(figsize = (12,18))\n",
    "    plt.imshow(annotated_image)\n",
    "    plt.show()\n",
    "\n",
    "    # plot the mid points on the image\n",
    "    coords_list = mid_coords.values.tolist()\n",
    "    # read the image again\n",
    "    read_image_again = plt.imread(imge_file_path)\n",
    "    read_image_again = ndimage.rotate(read_image_again, 0)\n",
    "    # draw the circles on image\n",
    "    for i in coords_list:\n",
    "        image_with_mids = cv2.circle(read_image_again, i, radius=5, color=(255, 0, 0), thickness=-1)\n",
    "    # look at the annotated image\n",
    "    # plt.figure(figsize = (12,18))\n",
    "    plt.imshow(image_with_mids)\n",
    "    plt.show()\n",
    "\n",
    "    # also try creating the density map here\n",
    "    # first create the empty maps\n",
    "    np_image = np.zeros((read_image_shape[0], read_image_shape[1]))\n",
    "    # get the dot maps\n",
    "    for point in coords_list:\n",
    "        np_image[point[1], point[0]] = 1\n",
    "    # plot the image\n",
    "    # plt.figure(figsize = (12,18))\n",
    "    plt.imshow(np_image, cmap = \"Greys\")\n",
    "    plt.show()\n",
    "\n",
    "    # now define the kernel and run the convolution\n",
    "    one_d_kerenel = cv2.getGaussianKernel(50,5)\n",
    "    two_d_kernel = np.multiply(one_d_kerenel.T, one_d_kerenel)\n",
    "\n",
    "    # Shape of the 2D kernel\n",
    "    twoD_shape = two_d_kernel.shape\n",
    "        \n",
    "    # do the convolution\n",
    "    convolution = ndimage.convolve(np_image, two_d_kernel)\n",
    "        \n",
    "    # plot the density map\n",
    "    # plt.figure(figsize = (12,18))\n",
    "    plt.imshow(convolution, cmap = \"Greys\")\n",
    "    plt.show()\n",
    "        \n",
    "    # get the sums of the images\n",
    "    img_sum = np.sum(convolution)\n",
    "\n",
    "    return(file_name, read_image_shape, no_of_tassels, img_sum, convolution)"
   ]
  },
  {
   "cell_type": "code",
   "execution_count": null,
   "id": "a215616a-45d2-4193-9ceb-e4f444e0d5fa",
   "metadata": {},
   "outputs": [],
   "source": [
    "def create_densities_for_subwindows(density_map, stride = 30, kernel_size = 30):\n",
    "        \n",
    "    # create the counts for the subwindows as follows\n",
    "    img_height = density_map.shape[0]\n",
    "    img_width = density_map.shape[1]\n",
    "    \n",
    "    density_sums = []\n",
    "    for i in  range(0, img_height, stride):\n",
    "        for j in range(0, img_width, stride):\n",
    "            # sub_window = loaded_im_file[i: i + kernel_size, j : j + kernel_size,:]\n",
    "            density = density_map[i: i + kernel_size, j : j + kernel_size]\n",
    "            dense_sum = np.sum(density)\n",
    "            density_sums.append(dense_sum)\n",
    "\n",
    "    print(\"sum of the convolved map: \", np.sum(density_sums))\n",
    "    density_sums_array = np.array(density_sums).reshape(-1,1)\n",
    "    return density_sums_array"
   ]
  },
  {
   "cell_type": "code",
   "execution_count": null,
   "id": "69bccce2-c0b1-437b-86d7-cd3e8f1a150e",
   "metadata": {},
   "outputs": [],
   "source": [
    "# Block 0103"
   ]
  },
  {
   "cell_type": "code",
   "execution_count": null,
   "id": "0500b23a-5ce1-4818-b9c5-45e5620b7799",
   "metadata": {},
   "outputs": [],
   "source": [
    "block_0103 = '../../../Spring_2024/S_lab_TasselNet/Block_3_TN/Block_3_images_and_xml'"
   ]
  },
  {
   "cell_type": "code",
   "execution_count": null,
   "id": "53bdf074-6cb8-43c9-9b1e-13b3bd8b042b",
   "metadata": {},
   "outputs": [],
   "source": [
    "# get im and xml files\n",
    "block_0103_target_ims, block_0103_target_xmls, block_0103_mean = chose_xml_and_jpeg(block_0103)"
   ]
  },
  {
   "cell_type": "code",
   "execution_count": null,
   "id": "15bb1bf5-be75-46cb-8007-3dc235cf8d0c",
   "metadata": {},
   "outputs": [],
   "source": [
    "len(block_0103_target_ims)"
   ]
  },
  {
   "cell_type": "code",
   "execution_count": null,
   "id": "1d06c899-0e83-41df-847c-f7b772e2c75b",
   "metadata": {},
   "outputs": [],
   "source": [
    "# block_0103_target_xmls"
   ]
  },
  {
   "cell_type": "code",
   "execution_count": null,
   "id": "c35e70f9-43fa-47aa-947d-361a5c3d462a",
   "metadata": {},
   "outputs": [],
   "source": [
    "block_0103_mean"
   ]
  },
  {
   "cell_type": "code",
   "execution_count": null,
   "id": "48686197-2348-4ac3-abc2-910063cd7715",
   "metadata": {},
   "outputs": [],
   "source": [
    "# just file names\n",
    "block_0103_file_names = [file.split(\".\")[0] for file in block_0103_target_ims]"
   ]
  },
  {
   "cell_type": "code",
   "execution_count": null,
   "id": "174e3edd-cf5b-4a8c-9ddd-e958d7928d89",
   "metadata": {},
   "outputs": [],
   "source": [
    "# block_0103_file_names"
   ]
  },
  {
   "cell_type": "code",
   "execution_count": null,
   "id": "314c60c6-90c0-4acf-a8b3-1eee60b00aca",
   "metadata": {
    "scrolled": true
   },
   "outputs": [],
   "source": [
    "%%time\n",
    "# Get the density maps\n",
    "block_0103_names = []\n",
    "block_0103_im_shapes = []\n",
    "block_0103_tassel_count = []\n",
    "block_0103_tassel_count_alt = []\n",
    "# capture the density maps here\n",
    "block_0103_convs = []\n",
    "for file in block_0103_file_names:\n",
    "    name, shape, no_tassels, no_tassel_alt, conv = get_density_maps_horizontal(file, block_0103, block_0103)\n",
    "    block_0103_names.append(name)\n",
    "    block_0103_im_shapes.append(shape)\n",
    "    block_0103_tassel_count.append(no_tassels)\n",
    "    block_0103_tassel_count_alt.append(no_tassel_alt)\n",
    "    block_0103_convs.append(conv)"
   ]
  },
  {
   "cell_type": "code",
   "execution_count": null,
   "id": "f45e1ed0-b6cc-406d-a8e5-6c388871055d",
   "metadata": {},
   "outputs": [],
   "source": [
    "# block_0103_names"
   ]
  },
  {
   "cell_type": "code",
   "execution_count": null,
   "id": "76403bf0-1b01-4224-957c-9041c8fedb4e",
   "metadata": {},
   "outputs": [],
   "source": [
    "# block_0103_im_shapes"
   ]
  },
  {
   "cell_type": "code",
   "execution_count": null,
   "id": "835c9f0c-3f3a-4774-82d5-8a73c21fe804",
   "metadata": {},
   "outputs": [],
   "source": [
    "# block_0103_tassel_count, block_0103_tassel_count_alt"
   ]
  },
  {
   "cell_type": "code",
   "execution_count": null,
   "id": "f26fddbf-9361-4b1f-bfe9-1d20362d0282",
   "metadata": {},
   "outputs": [],
   "source": [
    "np.mean(np.round(block_0103_tassel_count, 0) == np.round(block_0103_tassel_count_alt, 0))"
   ]
  },
  {
   "cell_type": "code",
   "execution_count": null,
   "id": "507c81dd-e719-446f-bdb2-d02faa48ee5c",
   "metadata": {
    "scrolled": true
   },
   "outputs": [],
   "source": [
    "%%time\n",
    "# Get the stacks?\n",
    "block_0103_density_list = []\n",
    "for conv in block_0103_convs:\n",
    "    density_values = create_densities_for_subwindows(conv, 24, 300)\n",
    "    block_0103_density_list.append(density_values)"
   ]
  },
  {
   "cell_type": "code",
   "execution_count": null,
   "id": "fdfe86d3-67f2-4a0b-97c9-08fb732ef443",
   "metadata": {},
   "outputs": [],
   "source": [
    "# sum of the conv maps arent gonna make any sense here as we have overlapping sub-windows"
   ]
  },
  {
   "cell_type": "code",
   "execution_count": null,
   "id": "34520320-614d-47c7-a28e-4370444e01c7",
   "metadata": {},
   "outputs": [],
   "source": [
    "len(block_0103_density_list)"
   ]
  },
  {
   "cell_type": "code",
   "execution_count": null,
   "id": "ccc6b675-acf0-418a-ad47-5f01f11391f8",
   "metadata": {},
   "outputs": [],
   "source": [
    "block_0103_density_list[0].shape"
   ]
  },
  {
   "cell_type": "code",
   "execution_count": null,
   "id": "21629413-4c76-417f-a991-5c3f2e63ff9e",
   "metadata": {},
   "outputs": [],
   "source": [
    "# need to stack this list\n",
    "block_0103_all_density_stack = np.stack(block_0103_density_list, axis = 1)"
   ]
  },
  {
   "cell_type": "code",
   "execution_count": null,
   "id": "38306c70-7de0-4e42-a50f-ee53ba16e454",
   "metadata": {},
   "outputs": [],
   "source": [
    "block_0103_all_density_stack.shape"
   ]
  },
  {
   "cell_type": "code",
   "execution_count": null,
   "id": "181751a5-3c64-43e3-b3b8-cf10879dbcb4",
   "metadata": {},
   "outputs": [],
   "source": [
    "np.array(block_0103_tassel_count_alt)"
   ]
  },
  {
   "cell_type": "code",
   "execution_count": null,
   "id": "1bce606b-8958-4ff5-8855-19dba06a9587",
   "metadata": {},
   "outputs": [],
   "source": [
    "np.sum(block_0103_all_density_stack, axis = 0).reshape(1,-1)"
   ]
  },
  {
   "cell_type": "code",
   "execution_count": null,
   "id": "a98a5b98-f639-4613-ba5f-85622be8277c",
   "metadata": {},
   "outputs": [],
   "source": [
    "block_0103_convs[0].shape"
   ]
  },
  {
   "cell_type": "code",
   "execution_count": null,
   "id": "5c8d0d1b-61d7-4fe4-bf56-9f2b6d81364d",
   "metadata": {},
   "outputs": [],
   "source": [
    "all_subwindowed_densitities_im_1 = create_densities_for_subwindows(block_0103_convs[0], stride = 24, kernel_size = 300)"
   ]
  },
  {
   "cell_type": "code",
   "execution_count": null,
   "id": "74422045-b077-4033-ad6c-5a3b28eea543",
   "metadata": {},
   "outputs": [],
   "source": [
    "np.array(all_subwindowed_densitities_im_1).shape"
   ]
  },
  {
   "cell_type": "code",
   "execution_count": null,
   "id": "e7cd9f35-fb10-46c8-8603-09f9371dfacb",
   "metadata": {},
   "outputs": [],
   "source": [
    "np.array(all_subwindowed_densitities_im_1).reshape(-1,1).shape"
   ]
  },
  {
   "cell_type": "code",
   "execution_count": null,
   "id": "813e51f6-068a-4a54-9bd1-2a9bb78d82b7",
   "metadata": {},
   "outputs": [],
   "source": [
    "time_period_name = ['t_' + str(i) for i in range(1, len(block_0103_tassel_count_alt)+1)]\n",
    "# time_period_name"
   ]
  },
  {
   "cell_type": "code",
   "execution_count": null,
   "id": "062a0628-58c1-47b6-a6e9-ae0a337989c3",
   "metadata": {},
   "outputs": [],
   "source": [
    "true_densities_0103_df = pd.DataFrame(zip(time_period_name, block_0103_tassel_count_alt), columns = ['Time', \"True_density\"]) "
   ]
  },
  {
   "cell_type": "code",
   "execution_count": null,
   "id": "98fdf8da-66bc-4c9d-9395-58de91fb96bb",
   "metadata": {},
   "outputs": [],
   "source": [
    "true_densities_0103_df.head()"
   ]
  },
  {
   "cell_type": "code",
   "execution_count": null,
   "id": "bfbb1f4f-38f1-4c55-9c59-2b8d366a0716",
   "metadata": {},
   "outputs": [],
   "source": [
    "true_densities_0103_df.shape"
   ]
  },
  {
   "cell_type": "code",
   "execution_count": null,
   "id": "177dace8-1064-40db-ac93-f101d29aba94",
   "metadata": {},
   "outputs": [],
   "source": [
    "true_densities_0103_df.to_csv(\"data/test_block_true_counts/block_0103_true_counts.csv\", index = False)"
   ]
  },
  {
   "cell_type": "code",
   "execution_count": null,
   "id": "7b07549a-5ec3-43e3-aca3-398ea3b40d75",
   "metadata": {},
   "outputs": [],
   "source": [
    "block_0103_all_density_stack.shape"
   ]
  },
  {
   "cell_type": "code",
   "execution_count": null,
   "id": "9bf2c99f-3336-483e-b796-9a1a45b468f9",
   "metadata": {},
   "outputs": [],
   "source": [
    "len(block_0103_density_list)"
   ]
  },
  {
   "cell_type": "code",
   "execution_count": null,
   "id": "86d15fa4-39fb-4267-8ad3-ac12afd4c181",
   "metadata": {},
   "outputs": [],
   "source": [
    "%%time\n",
    "for i in range(len(block_0103_density_list)):\n",
    "    print(np.mean(block_0103_density_list[i] == block_0103_all_density_stack[:, i, :]))   "
   ]
  },
  {
   "cell_type": "code",
   "execution_count": null,
   "id": "07549b3d-106a-4e16-b832-a7806e806430",
   "metadata": {},
   "outputs": [],
   "source": [
    "np.save(\"data/densities_overlapping/all_densities_block_0103.npy\", block_0103_all_density_stack)"
   ]
  },
  {
   "cell_type": "code",
   "execution_count": null,
   "id": "8159b558-d6d3-4156-adb6-a97088771a0f",
   "metadata": {},
   "outputs": [],
   "source": [
    "# sanity check\n",
    "loaded_density_blk_0103 = np.load(\"data/densities_overlapping/all_densities_block_0103.npy\")"
   ]
  },
  {
   "cell_type": "code",
   "execution_count": null,
   "id": "21fcf50a-6c5b-4e00-96ec-9c63b021801c",
   "metadata": {},
   "outputs": [],
   "source": [
    "np.mean(loaded_density_blk_0103 == block_0103_all_density_stack)"
   ]
  },
  {
   "cell_type": "code",
   "execution_count": null,
   "id": "7e22329b-3e68-4594-b14d-9accb053d54f",
   "metadata": {},
   "outputs": [],
   "source": [
    "# Block 0104"
   ]
  },
  {
   "cell_type": "code",
   "execution_count": null,
   "id": "4d40dea1-ec1d-448a-ab5e-d534fdf81406",
   "metadata": {},
   "outputs": [],
   "source": [
    "block_0104 = '../../../Spring_2024/S_lab_TasselNet/Block_4_TN/Block_4_images_and_xml'"
   ]
  },
  {
   "cell_type": "code",
   "execution_count": null,
   "id": "32d3bf34-ac37-4695-a387-3ad60eaf9a20",
   "metadata": {},
   "outputs": [],
   "source": [
    "# get im and xml files\n",
    "block_0104_target_ims, block_0104_target_xmls, block_0104_mean = chose_xml_and_jpeg(block_0104)"
   ]
  },
  {
   "cell_type": "code",
   "execution_count": null,
   "id": "c98b2b8f-df14-401b-8040-b86783478ae8",
   "metadata": {},
   "outputs": [],
   "source": [
    "# block_0104_target_ims"
   ]
  },
  {
   "cell_type": "code",
   "execution_count": null,
   "id": "96f58cbc-7e13-4639-bd2f-ea434b9144a7",
   "metadata": {},
   "outputs": [],
   "source": [
    "# block_0104_target_xmls"
   ]
  },
  {
   "cell_type": "code",
   "execution_count": null,
   "id": "9b2e4ad6-c79a-4532-a307-d046f932e3c8",
   "metadata": {},
   "outputs": [],
   "source": [
    "block_0104_mean"
   ]
  },
  {
   "cell_type": "code",
   "execution_count": null,
   "id": "639a7add-3703-4a45-85a5-fd8d35f50b59",
   "metadata": {},
   "outputs": [],
   "source": [
    "# just file names\n",
    "block_0104_file_names = [file.split(\".\")[0] for file in block_0104_target_ims]"
   ]
  },
  {
   "cell_type": "code",
   "execution_count": null,
   "id": "3070f2ed-5c52-44d9-b072-0862687c0c4d",
   "metadata": {},
   "outputs": [],
   "source": [
    "# block_0104_file_names"
   ]
  },
  {
   "cell_type": "code",
   "execution_count": null,
   "id": "46ae9e46-6304-4eb1-a73d-731fb18bd9e7",
   "metadata": {
    "scrolled": true
   },
   "outputs": [],
   "source": [
    "%%time\n",
    "# Get the density maps\n",
    "block_0104_names = []\n",
    "block_0104_im_shapes = []\n",
    "block_0104_tassel_count = []\n",
    "block_0104_tassel_count_alt = []\n",
    "# capture the density maps here\n",
    "block_0104_convs = []\n",
    "for file in block_0104_file_names:\n",
    "    name, shape, no_tassels, no_tassel_alt, conv = get_density_maps_horizontal(file, block_0104, block_0104)\n",
    "    block_0104_names.append(name)\n",
    "    block_0104_im_shapes.append(shape)\n",
    "    block_0104_tassel_count.append(no_tassels)\n",
    "    block_0104_tassel_count_alt.append(no_tassel_alt)\n",
    "    block_0104_convs.append(conv)"
   ]
  },
  {
   "cell_type": "code",
   "execution_count": null,
   "id": "a7f0b2f5-b289-454e-b16b-c572472d5cb4",
   "metadata": {},
   "outputs": [],
   "source": [
    "block_0104_names"
   ]
  },
  {
   "cell_type": "code",
   "execution_count": null,
   "id": "2fff4173-ddd1-42b3-9f3c-bfeb1049ef9e",
   "metadata": {},
   "outputs": [],
   "source": [
    "block_0104_im_shapes"
   ]
  },
  {
   "cell_type": "code",
   "execution_count": null,
   "id": "0e903be9-07f4-4ff7-a985-9a183ce8df34",
   "metadata": {},
   "outputs": [],
   "source": [
    "np.mean(np.round(block_0104_tassel_count, 0) == np.round(block_0104_tassel_count_alt, 0))"
   ]
  },
  {
   "cell_type": "code",
   "execution_count": null,
   "id": "c34ef3ec-c406-47fb-b742-5a61970f4b21",
   "metadata": {},
   "outputs": [],
   "source": [
    "%%time\n",
    "# Get the stacks?\n",
    "block_0104_density_list = []\n",
    "for conv in block_0104_convs:\n",
    "    density_values = create_densities_for_subwindows(conv, 24, 300)\n",
    "    block_0104_density_list.append(density_values)"
   ]
  },
  {
   "cell_type": "code",
   "execution_count": null,
   "id": "e5eddb86-d933-414d-9f72-0958353a4db3",
   "metadata": {},
   "outputs": [],
   "source": [
    "len(block_0104_density_list)"
   ]
  },
  {
   "cell_type": "code",
   "execution_count": null,
   "id": "601125da-e1a8-46b7-8603-bab8e60a4458",
   "metadata": {},
   "outputs": [],
   "source": [
    "block_0104_density_list[0].shape"
   ]
  },
  {
   "cell_type": "code",
   "execution_count": null,
   "id": "6bd19d28-a1e3-4c1f-b155-7f0ec0a86c95",
   "metadata": {},
   "outputs": [],
   "source": [
    "# need to stack this list\n",
    "block_0104_all_density_stack = np.stack(block_0104_density_list, axis = 1)"
   ]
  },
  {
   "cell_type": "code",
   "execution_count": null,
   "id": "78f54a72-a61c-4b81-999b-99bde6ff2eac",
   "metadata": {},
   "outputs": [],
   "source": [
    "block_0104_all_density_stack.shape"
   ]
  },
  {
   "cell_type": "code",
   "execution_count": null,
   "id": "2b891077-5b85-4680-b102-7b98d5cc0cc0",
   "metadata": {},
   "outputs": [],
   "source": [
    "np.array(block_0104_tassel_count_alt)"
   ]
  },
  {
   "cell_type": "code",
   "execution_count": null,
   "id": "be1ceaeb-9742-4ba9-b8cd-7db89e79b91d",
   "metadata": {},
   "outputs": [],
   "source": [
    "np.sum(block_0104_all_density_stack, axis = 0).reshape(1,-1)"
   ]
  },
  {
   "cell_type": "code",
   "execution_count": null,
   "id": "ff82fa18-d908-4df9-9f07-1175c4089bfb",
   "metadata": {},
   "outputs": [],
   "source": [
    "# Need to figure out a better sanity check"
   ]
  },
  {
   "cell_type": "code",
   "execution_count": null,
   "id": "08e3c49e-a39c-4c15-877a-167385574fd3",
   "metadata": {},
   "outputs": [],
   "source": [
    "block_0104_convs[0].shape"
   ]
  },
  {
   "cell_type": "code",
   "execution_count": null,
   "id": "8a9df44d-df7b-462d-a026-04c0763ee5c3",
   "metadata": {},
   "outputs": [],
   "source": [
    "all_subwindowed_densitities_im_1 = create_densities_for_subwindows(block_0104_convs[0], stride = 24, kernel_size = 300)"
   ]
  },
  {
   "cell_type": "code",
   "execution_count": null,
   "id": "7f94d3b7-a343-4715-974a-2b7128e291fa",
   "metadata": {},
   "outputs": [],
   "source": [
    "np.array(all_subwindowed_densitities_im_1).shape"
   ]
  },
  {
   "cell_type": "code",
   "execution_count": null,
   "id": "0a4ca945-b95c-4f0b-9f29-a4c4fba6363d",
   "metadata": {},
   "outputs": [],
   "source": [
    "np.array(all_subwindowed_densitities_im_1).reshape(-1,1).shape"
   ]
  },
  {
   "cell_type": "code",
   "execution_count": null,
   "id": "ee760497-8a7e-4076-a119-ac7ee90d5220",
   "metadata": {},
   "outputs": [],
   "source": [
    "time_period_name = ['t_' + str(i) for i in range(1, len(block_0104_tassel_count_alt)+1)]\n",
    "# time_period_name"
   ]
  },
  {
   "cell_type": "code",
   "execution_count": null,
   "id": "daeb64c8-31e4-4337-8024-97b86bceabdf",
   "metadata": {},
   "outputs": [],
   "source": [
    "true_densities_0104_df = pd.DataFrame(zip(time_period_name, block_0104_tassel_count_alt), columns = ['Time', \"True_density\"]) "
   ]
  },
  {
   "cell_type": "code",
   "execution_count": null,
   "id": "912daf5f-1072-4fb8-a820-e546b1d666f3",
   "metadata": {},
   "outputs": [],
   "source": [
    "true_densities_0104_df.head()"
   ]
  },
  {
   "cell_type": "code",
   "execution_count": null,
   "id": "8fa00078-4b0f-4b91-8b88-40b43e4e9e66",
   "metadata": {},
   "outputs": [],
   "source": [
    "true_densities_0104_df.to_csv(\"data/test_block_true_counts/block_0104_true_counts.csv\", index = False)"
   ]
  },
  {
   "cell_type": "code",
   "execution_count": null,
   "id": "6a464802-a4bf-4024-972a-2588dda1ce42",
   "metadata": {},
   "outputs": [],
   "source": [
    "# What other sanity checks can we perform to ensure the subwindowing is right?"
   ]
  },
  {
   "cell_type": "code",
   "execution_count": null,
   "id": "1a7a46ec-6cc6-4989-a600-2c7959317e5b",
   "metadata": {},
   "outputs": [],
   "source": [
    "# We have verified all written codes previously, so let's only verify that the stacking is indeed right"
   ]
  },
  {
   "cell_type": "code",
   "execution_count": null,
   "id": "5021efa4-383e-42ae-afa1-5e316ffd50eb",
   "metadata": {},
   "outputs": [],
   "source": [
    "block_0104_all_density_stack.shape"
   ]
  },
  {
   "cell_type": "code",
   "execution_count": null,
   "id": "1cdbb1a7-2d47-4afc-90d2-7471030622c3",
   "metadata": {},
   "outputs": [],
   "source": [
    "len(block_0104_density_list)"
   ]
  },
  {
   "cell_type": "code",
   "execution_count": null,
   "id": "f963ecf5-2a5b-4b0b-8c2b-5e8ee39d8f28",
   "metadata": {},
   "outputs": [],
   "source": [
    "%%time\n",
    "for i in range(len(block_0104_density_list)):\n",
    "    print(np.mean(block_0104_density_list[i] == block_0104_all_density_stack[:, i, :]))   "
   ]
  },
  {
   "cell_type": "code",
   "execution_count": null,
   "id": "6fed67fe-59b2-4d20-aff7-95983dd7b3e3",
   "metadata": {},
   "outputs": [],
   "source": [
    "# Stacking is corretly done"
   ]
  },
  {
   "cell_type": "code",
   "execution_count": null,
   "id": "e575207a-dd0c-4c36-8f5e-abc1ffa0270f",
   "metadata": {},
   "outputs": [],
   "source": [
    "# save the final stack as an np array?"
   ]
  },
  {
   "cell_type": "code",
   "execution_count": null,
   "id": "5eea788a-cfd3-4524-beb3-0ff4317d7d97",
   "metadata": {},
   "outputs": [],
   "source": [
    "block_0104_all_density_stack.shape"
   ]
  },
  {
   "cell_type": "code",
   "execution_count": null,
   "id": "0ade986b-f976-4131-b4b2-38e000807c41",
   "metadata": {},
   "outputs": [],
   "source": [
    "np.save(\"data/densities_overlapping/all_densities_block_0104.npy\", block_0104_all_density_stack)"
   ]
  },
  {
   "cell_type": "code",
   "execution_count": null,
   "id": "47adc4d3-a869-4b00-9b43-96214eedc7e9",
   "metadata": {},
   "outputs": [],
   "source": [
    "# sanity check\n",
    "loaded_density_blk_0104 = np.load(\"data/densities_overlapping/all_densities_block_0104.npy\")"
   ]
  },
  {
   "cell_type": "code",
   "execution_count": null,
   "id": "c22914d6-47fb-4290-a3fb-9f876d4e04d4",
   "metadata": {},
   "outputs": [],
   "source": [
    "np.mean(loaded_density_blk_0104 == block_0104_all_density_stack)"
   ]
  },
  {
   "cell_type": "code",
   "execution_count": null,
   "id": "4f8d6ab4-87dd-416f-b85c-eaa4ddef2362",
   "metadata": {},
   "outputs": [],
   "source": [
    "# Block 0105"
   ]
  },
  {
   "cell_type": "code",
   "execution_count": null,
   "id": "08d7728b-3a8c-4653-83ec-c1e1176cfe1e",
   "metadata": {},
   "outputs": [],
   "source": [
    "block_0105 = '../../../Spring_2024/S_lab_TasselNet/Block_5_TN/Block_5_images_and_xml'"
   ]
  },
  {
   "cell_type": "code",
   "execution_count": null,
   "id": "35eb8831-9664-46a0-8274-268cd5182317",
   "metadata": {},
   "outputs": [],
   "source": [
    "# get im and xml files\n",
    "block_0105_target_ims, block_0105_target_xmls, block_0105_mean = chose_xml_and_jpeg(block_0105)"
   ]
  },
  {
   "cell_type": "code",
   "execution_count": null,
   "id": "9444ff10-0222-4e09-978b-ee99db9cb436",
   "metadata": {},
   "outputs": [],
   "source": [
    "block_0105_target_ims"
   ]
  },
  {
   "cell_type": "code",
   "execution_count": null,
   "id": "da1a206f-fc49-4caf-a731-29bc233bad03",
   "metadata": {},
   "outputs": [],
   "source": [
    "block_0105_target_xmls"
   ]
  },
  {
   "cell_type": "code",
   "execution_count": null,
   "id": "7d72c03e-5062-4dbb-a816-bf4114c16b95",
   "metadata": {},
   "outputs": [],
   "source": [
    "block_0105_mean"
   ]
  },
  {
   "cell_type": "code",
   "execution_count": null,
   "id": "8ba79707-88c2-4d4f-8e0e-049e8e4dfd50",
   "metadata": {},
   "outputs": [],
   "source": [
    "# just file names\n",
    "block_0105_file_names = [file.split(\".\")[0] for file in block_0105_target_ims]"
   ]
  },
  {
   "cell_type": "code",
   "execution_count": null,
   "id": "979b6b28-0230-44ea-a2ef-3411ecd3412d",
   "metadata": {},
   "outputs": [],
   "source": [
    "block_0105_file_names"
   ]
  },
  {
   "cell_type": "code",
   "execution_count": null,
   "id": "d61bfc9f-de73-454d-8a95-414a36aa430b",
   "metadata": {
    "scrolled": true
   },
   "outputs": [],
   "source": [
    "%%time\n",
    "# Get the density maps\n",
    "block_0105_names = []\n",
    "block_0105_im_shapes = []\n",
    "block_0105_tassel_count = []\n",
    "block_0105_tassel_count_alt = []\n",
    "# capture the density maps here\n",
    "block_0105_convs = []\n",
    "for file in block_0105_file_names:\n",
    "    name, shape, no_tassels, no_tassel_alt, conv = get_density_maps_horizontal(file, block_0105, block_0105)\n",
    "    block_0105_names.append(name)\n",
    "    block_0105_im_shapes.append(shape)\n",
    "    block_0105_tassel_count.append(no_tassels)\n",
    "    block_0105_tassel_count_alt.append(no_tassel_alt)\n",
    "    block_0105_convs.append(conv)"
   ]
  },
  {
   "cell_type": "code",
   "execution_count": null,
   "id": "72f0cafc-1423-4c2f-a8cf-326ab54a9706",
   "metadata": {},
   "outputs": [],
   "source": [
    "block_0105_names"
   ]
  },
  {
   "cell_type": "code",
   "execution_count": null,
   "id": "af297b11-a001-4a91-a581-0d3dd2d8f419",
   "metadata": {},
   "outputs": [],
   "source": [
    "block_0105_im_shapes"
   ]
  },
  {
   "cell_type": "code",
   "execution_count": null,
   "id": "cf83605f-f2f2-4422-b0aa-4a864a5d02bd",
   "metadata": {},
   "outputs": [],
   "source": [
    "block_0105_tassel_count, block_0105_tassel_count_alt"
   ]
  },
  {
   "cell_type": "code",
   "execution_count": null,
   "id": "158e6a3d-f069-45dc-b261-4ca109e3dc14",
   "metadata": {},
   "outputs": [],
   "source": [
    "np.mean(np.round(block_0105_tassel_count, 0) == np.round(block_0105_tassel_count_alt, 0))"
   ]
  },
  {
   "cell_type": "code",
   "execution_count": null,
   "id": "d9488bfe-8f50-4caf-8610-c63de93e3b0e",
   "metadata": {},
   "outputs": [],
   "source": [
    "# save these true counts in a df for future use"
   ]
  },
  {
   "cell_type": "code",
   "execution_count": null,
   "id": "cdb697b7-1ce9-44ce-a92c-bbcc7b237bd4",
   "metadata": {},
   "outputs": [],
   "source": [
    "%%time\n",
    "# Get the stacks?\n",
    "block_0105_density_list = []\n",
    "for conv in block_0105_convs:\n",
    "    density_values = create_densities_for_subwindows(conv, 24, 300)\n",
    "    block_0105_density_list.append(density_values)"
   ]
  },
  {
   "cell_type": "code",
   "execution_count": null,
   "id": "352bfeec-9894-4502-b775-eb7dfede04b5",
   "metadata": {},
   "outputs": [],
   "source": [
    "len(block_0105_density_list)"
   ]
  },
  {
   "cell_type": "code",
   "execution_count": null,
   "id": "f51f93b8-3598-4a1f-a196-9ea1034ce0e7",
   "metadata": {},
   "outputs": [],
   "source": [
    "block_0105_density_list[0].shape"
   ]
  },
  {
   "cell_type": "code",
   "execution_count": null,
   "id": "25b68e40-b40c-429c-8cb9-b70c054fdf89",
   "metadata": {},
   "outputs": [],
   "source": [
    "# need to stack this list\n",
    "block_0105_all_density_stack = np.stack(block_0105_density_list, axis = 1)"
   ]
  },
  {
   "cell_type": "code",
   "execution_count": null,
   "id": "a5cc9f86-5d49-41f2-a871-30f51154cf74",
   "metadata": {},
   "outputs": [],
   "source": [
    "block_0105_all_density_stack.shape"
   ]
  },
  {
   "cell_type": "code",
   "execution_count": null,
   "id": "3bf3e273-ab10-42ca-a195-a4a79844246a",
   "metadata": {},
   "outputs": [],
   "source": [
    "np.array(block_0105_tassel_count_alt)"
   ]
  },
  {
   "cell_type": "code",
   "execution_count": null,
   "id": "3aa781c4-5302-405b-b198-cf27f4d64ac4",
   "metadata": {},
   "outputs": [],
   "source": [
    "np.sum(block_0105_all_density_stack, axis = 0).reshape(1,-1)"
   ]
  },
  {
   "cell_type": "code",
   "execution_count": null,
   "id": "68789098-9dd8-4e3a-b119-6ae50baac4c7",
   "metadata": {},
   "outputs": [],
   "source": [
    "# Need to figure out a better sanity check"
   ]
  },
  {
   "cell_type": "code",
   "execution_count": null,
   "id": "94c1134d-1ea1-4efa-ad46-c2e3be2b5df6",
   "metadata": {},
   "outputs": [],
   "source": [
    "block_0105_convs[0].shape"
   ]
  },
  {
   "cell_type": "code",
   "execution_count": null,
   "id": "721cf1f8-f760-48ca-a851-40ea059b6ae6",
   "metadata": {},
   "outputs": [],
   "source": [
    "all_subwindowed_densitities_im_1 = create_densities_for_subwindows(block_0105_convs[0], stride = 24, kernel_size = 300)"
   ]
  },
  {
   "cell_type": "code",
   "execution_count": null,
   "id": "7506691b-31f7-4635-a69a-64c1ce2a3f4b",
   "metadata": {},
   "outputs": [],
   "source": [
    "np.array(all_subwindowed_densitities_im_1).shape"
   ]
  },
  {
   "cell_type": "code",
   "execution_count": null,
   "id": "1661669d-10a1-43b5-bcd3-e2867d138d0b",
   "metadata": {},
   "outputs": [],
   "source": [
    "np.array(all_subwindowed_densitities_im_1).reshape(-1,1).shape"
   ]
  },
  {
   "cell_type": "code",
   "execution_count": null,
   "id": "a591b347-3801-4947-8cbd-4276367341df",
   "metadata": {},
   "outputs": [],
   "source": [
    "time_period_name = ['t_' + str(i) for i in range(1, len(block_0105_tassel_count_alt)+1)]\n",
    "# time_period_name"
   ]
  },
  {
   "cell_type": "code",
   "execution_count": null,
   "id": "2e842656-15bc-45b4-af54-6eea5fd9040b",
   "metadata": {},
   "outputs": [],
   "source": [
    "true_densities_0105_df = pd.DataFrame(zip(time_period_name, block_0105_tassel_count_alt), columns = ['Time', \"True_density\"]) "
   ]
  },
  {
   "cell_type": "code",
   "execution_count": null,
   "id": "7902874e-65d0-439c-a854-876301af8497",
   "metadata": {},
   "outputs": [],
   "source": [
    "true_densities_0105_df.head()"
   ]
  },
  {
   "cell_type": "code",
   "execution_count": null,
   "id": "88a71347-4536-458c-96fc-9d2df58f1a56",
   "metadata": {},
   "outputs": [],
   "source": [
    "true_densities_0105_df.to_csv(\"data/test_block_true_counts/block_0105_true_counts.csv\", index = False)"
   ]
  },
  {
   "cell_type": "code",
   "execution_count": null,
   "id": "5690d71f-4f38-444e-a649-20398550bbd6",
   "metadata": {},
   "outputs": [],
   "source": [
    "# What other sanity checks can we perform to ensure the subwindowing is right?"
   ]
  },
  {
   "cell_type": "code",
   "execution_count": null,
   "id": "4ac81255-02fb-4493-8627-12b05bf0fe5b",
   "metadata": {},
   "outputs": [],
   "source": [
    "# We have verified all written codes previously, so let's only verify that the stacking is indeed right"
   ]
  },
  {
   "cell_type": "code",
   "execution_count": null,
   "id": "fbb8dd89-b688-4f57-a503-0d834992829b",
   "metadata": {},
   "outputs": [],
   "source": [
    "block_0105_all_density_stack.shape"
   ]
  },
  {
   "cell_type": "code",
   "execution_count": null,
   "id": "a85f4aea-39ad-4898-b433-6520b41f0f9c",
   "metadata": {},
   "outputs": [],
   "source": [
    "len(block_0105_density_list)"
   ]
  },
  {
   "cell_type": "code",
   "execution_count": null,
   "id": "05f47783-c4ee-472a-8899-762c4b539fd4",
   "metadata": {},
   "outputs": [],
   "source": [
    "%%time\n",
    "for i in range(len(block_0105_density_list)):\n",
    "    print(np.mean(block_0105_density_list[i] == block_0105_all_density_stack[:, i, :]))   "
   ]
  },
  {
   "cell_type": "code",
   "execution_count": null,
   "id": "a21b6e7f-24cc-47bd-b72d-0be11035a73b",
   "metadata": {},
   "outputs": [],
   "source": [
    "# Stacking is corretly dine"
   ]
  },
  {
   "cell_type": "code",
   "execution_count": null,
   "id": "63879149-80dd-4860-952a-fc573ce011d6",
   "metadata": {},
   "outputs": [],
   "source": [
    "# save the final stack as an np array?"
   ]
  },
  {
   "cell_type": "code",
   "execution_count": null,
   "id": "9d56d712-4598-4c8f-a039-1ccb0a9d4fe7",
   "metadata": {},
   "outputs": [],
   "source": [
    "block_0105_all_density_stack.shape"
   ]
  },
  {
   "cell_type": "code",
   "execution_count": null,
   "id": "fe9c0b33-350f-49fc-a23d-ce34e6c97cfd",
   "metadata": {},
   "outputs": [],
   "source": [
    "np.save(\"data/densities_overlapping/all_densities_block_0105.npy\", block_0105_all_density_stack)"
   ]
  },
  {
   "cell_type": "code",
   "execution_count": null,
   "id": "bea0b589-b7e0-4621-8118-270ad2669466",
   "metadata": {},
   "outputs": [],
   "source": [
    "# sanity check\n",
    "loaded_density_blk_0105 = np.load(\"data/densities_overlapping/all_densities_block_0105.npy\")"
   ]
  },
  {
   "cell_type": "code",
   "execution_count": null,
   "id": "caf77727-e547-40c5-bcc4-9c0367992a18",
   "metadata": {},
   "outputs": [],
   "source": [
    "np.mean(loaded_density_blk_0105 == block_0105_all_density_stack)"
   ]
  },
  {
   "cell_type": "code",
   "execution_count": null,
   "id": "24a642ac-c86d-4a4f-966b-fc2e53a49af1",
   "metadata": {},
   "outputs": [],
   "source": [
    "# Block 0106"
   ]
  },
  {
   "cell_type": "code",
   "execution_count": null,
   "id": "54b02bed-6580-45c2-9e44-d317ac0e11ce",
   "metadata": {},
   "outputs": [],
   "source": [
    "block_0106 = '../../../Spring_2024/S_lab_TasselNet/Block_6_TN/Block_6_images_and_xml'"
   ]
  },
  {
   "cell_type": "code",
   "execution_count": null,
   "id": "abdbfff5-4ade-4583-9b57-a84fcab455c0",
   "metadata": {},
   "outputs": [],
   "source": [
    "# get im and xml files\n",
    "block_0106_target_ims, block_0106_target_xmls, block_0106_mean = chose_xml_and_jpeg(block_0106)"
   ]
  },
  {
   "cell_type": "code",
   "execution_count": null,
   "id": "eab455a8-19ca-4df4-a4dd-665961e8c899",
   "metadata": {},
   "outputs": [],
   "source": [
    "block_0106_target_ims"
   ]
  },
  {
   "cell_type": "code",
   "execution_count": null,
   "id": "f37ff77c-8c3c-4983-a9d5-069b8e614519",
   "metadata": {},
   "outputs": [],
   "source": [
    "block_0106_target_xmls"
   ]
  },
  {
   "cell_type": "code",
   "execution_count": null,
   "id": "aa950cdf-888f-4d06-9b1a-13d70b61e915",
   "metadata": {},
   "outputs": [],
   "source": [
    "block_0106_mean"
   ]
  },
  {
   "cell_type": "code",
   "execution_count": null,
   "id": "a5c65892-1c14-4d53-a250-7eb297d1069c",
   "metadata": {},
   "outputs": [],
   "source": [
    "# just file names\n",
    "block_0106_file_names = [file.split(\".\")[0] for file in block_0106_target_ims]"
   ]
  },
  {
   "cell_type": "code",
   "execution_count": null,
   "id": "4650553c-d6be-4386-92cf-8349c6d4e911",
   "metadata": {},
   "outputs": [],
   "source": [
    "block_0106_file_names"
   ]
  },
  {
   "cell_type": "code",
   "execution_count": null,
   "id": "fe610d59-b99f-4f63-9209-011bc7f34ae4",
   "metadata": {
    "scrolled": true
   },
   "outputs": [],
   "source": [
    "%%time\n",
    "# Get the density maps\n",
    "block_0106_names = []\n",
    "block_0106_im_shapes = []\n",
    "block_0106_tassel_count = []\n",
    "block_0106_tassel_count_alt = []\n",
    "# capture the density maps here\n",
    "block_0106_convs = []\n",
    "for file in block_0106_file_names:\n",
    "    name, shape, no_tassels, no_tassel_alt, conv = get_density_maps_horizontal(file, block_0106, block_0106)\n",
    "    block_0106_names.append(name)\n",
    "    block_0106_im_shapes.append(shape)\n",
    "    block_0106_tassel_count.append(no_tassels)\n",
    "    block_0106_tassel_count_alt.append(no_tassel_alt)\n",
    "    block_0106_convs.append(conv)"
   ]
  },
  {
   "cell_type": "code",
   "execution_count": null,
   "id": "c50a115a-a83b-4a1d-8666-a7afaba7a616",
   "metadata": {},
   "outputs": [],
   "source": [
    "block_0106_names"
   ]
  },
  {
   "cell_type": "code",
   "execution_count": null,
   "id": "d1ca4c05-29bd-44d2-ad87-a9a6e2ad3cb4",
   "metadata": {},
   "outputs": [],
   "source": [
    "block_0106_im_shapes"
   ]
  },
  {
   "cell_type": "code",
   "execution_count": null,
   "id": "13208d49-99c2-4186-b5c5-b9912f38827f",
   "metadata": {},
   "outputs": [],
   "source": [
    "# block_0106_tassel_count, block_0106_tassel_count_alt"
   ]
  },
  {
   "cell_type": "code",
   "execution_count": null,
   "id": "9fd6a0a7-7417-4b26-b230-2913b251e156",
   "metadata": {},
   "outputs": [],
   "source": [
    "np.mean(np.round(block_0106_tassel_count, 0) == np.round(block_0106_tassel_count_alt, 0))"
   ]
  },
  {
   "cell_type": "code",
   "execution_count": null,
   "id": "57a47ecb-9be8-4e9d-a7e4-b2b5dcc23952",
   "metadata": {},
   "outputs": [],
   "source": [
    "# save these true counts in a df for future use"
   ]
  },
  {
   "cell_type": "code",
   "execution_count": null,
   "id": "d7299abf-f636-459e-962e-7e9c00706172",
   "metadata": {},
   "outputs": [],
   "source": [
    "%%time\n",
    "# Get the stacks?\n",
    "block_0106_density_list = []\n",
    "for conv in block_0106_convs:\n",
    "    density_values = create_densities_for_subwindows(conv, 24, 300)\n",
    "    block_0106_density_list.append(density_values)"
   ]
  },
  {
   "cell_type": "code",
   "execution_count": null,
   "id": "ecd6c67c-8e25-478c-b595-61e2e545a1b3",
   "metadata": {},
   "outputs": [],
   "source": [
    "len(block_0106_density_list)"
   ]
  },
  {
   "cell_type": "code",
   "execution_count": null,
   "id": "22b33533-146f-41ab-8685-d4cca24bce0b",
   "metadata": {},
   "outputs": [],
   "source": [
    "block_0106_density_list[0].shape"
   ]
  },
  {
   "cell_type": "code",
   "execution_count": null,
   "id": "abc23903-f16e-41d7-8269-61d80dffebfb",
   "metadata": {},
   "outputs": [],
   "source": [
    "# need to stack this list\n",
    "block_0106_all_density_stack = np.stack(block_0106_density_list, axis = 1)"
   ]
  },
  {
   "cell_type": "code",
   "execution_count": null,
   "id": "27b22712-b24c-470a-b082-e1a5fecd6fe4",
   "metadata": {},
   "outputs": [],
   "source": [
    "block_0106_all_density_stack.shape"
   ]
  },
  {
   "cell_type": "code",
   "execution_count": null,
   "id": "f5b3c27a-91af-411b-bb95-775736dc9756",
   "metadata": {},
   "outputs": [],
   "source": [
    "np.array(block_0106_tassel_count_alt)"
   ]
  },
  {
   "cell_type": "code",
   "execution_count": null,
   "id": "131f82a1-6b0a-4129-a48b-95cb91c3435a",
   "metadata": {},
   "outputs": [],
   "source": [
    "np.sum(block_0106_all_density_stack, axis = 0).reshape(1,-1)"
   ]
  },
  {
   "cell_type": "code",
   "execution_count": null,
   "id": "74579109-ed9b-4399-9078-2827c19e0ea3",
   "metadata": {},
   "outputs": [],
   "source": [
    "# Need to figure out a better sanity check"
   ]
  },
  {
   "cell_type": "code",
   "execution_count": null,
   "id": "ea915f4b-0714-4aa6-9548-fa28ab0eced8",
   "metadata": {},
   "outputs": [],
   "source": [
    "block_0106_convs[0].shape"
   ]
  },
  {
   "cell_type": "code",
   "execution_count": null,
   "id": "f409652a-a221-4a1d-b97b-bdba072fb235",
   "metadata": {},
   "outputs": [],
   "source": [
    "all_subwindowed_densitities_im_1 = create_densities_for_subwindows(block_0106_convs[0], stride = 24, kernel_size = 300)"
   ]
  },
  {
   "cell_type": "code",
   "execution_count": null,
   "id": "502a4c03-6c4d-4ef3-9032-a48681a0b081",
   "metadata": {},
   "outputs": [],
   "source": [
    "np.array(all_subwindowed_densitities_im_1).shape"
   ]
  },
  {
   "cell_type": "code",
   "execution_count": null,
   "id": "4cd7f529-6733-4f5f-a9c8-2b48d4c92737",
   "metadata": {},
   "outputs": [],
   "source": [
    "np.array(all_subwindowed_densitities_im_1).reshape(-1,1).shape"
   ]
  },
  {
   "cell_type": "code",
   "execution_count": null,
   "id": "062ff435-87c9-4b41-9d5e-f740a8ed02fe",
   "metadata": {},
   "outputs": [],
   "source": [
    "time_period_name = ['t_' + str(i) for i in range(1, len(block_0106_tassel_count_alt)+1)]\n",
    "# time_period_name"
   ]
  },
  {
   "cell_type": "code",
   "execution_count": null,
   "id": "7084d9fb-cf0d-4d3f-a582-a6f5d00d1cb4",
   "metadata": {},
   "outputs": [],
   "source": [
    "true_densities_0106_df = pd.DataFrame(zip(time_period_name, block_0106_tassel_count_alt), columns = ['Time', \"True_density\"]) "
   ]
  },
  {
   "cell_type": "code",
   "execution_count": null,
   "id": "1f8b15ce-0180-48ee-9843-87f066fc310f",
   "metadata": {},
   "outputs": [],
   "source": [
    "true_densities_0106_df.head()"
   ]
  },
  {
   "cell_type": "code",
   "execution_count": null,
   "id": "410544ff-3956-4c83-a59f-322ac8dc9b5d",
   "metadata": {},
   "outputs": [],
   "source": [
    "true_densities_0106_df.to_csv(\"data/test_block_true_counts/block_0106_true_counts.csv\", index = False)"
   ]
  },
  {
   "cell_type": "code",
   "execution_count": null,
   "id": "8c13dcf5-1e3a-4675-b5e5-276e2cd79dbf",
   "metadata": {},
   "outputs": [],
   "source": [
    "# What other sanity checks can we perform to ensure the subwindowing is right?"
   ]
  },
  {
   "cell_type": "code",
   "execution_count": null,
   "id": "8fb555b3-6815-48a6-a419-797f7f023d06",
   "metadata": {},
   "outputs": [],
   "source": [
    "# We have verified all written codes previously, so let's only verify that the stacking is indeed right"
   ]
  },
  {
   "cell_type": "code",
   "execution_count": null,
   "id": "b3e88cb1-2de2-4ae2-9795-d917d5757ce6",
   "metadata": {},
   "outputs": [],
   "source": [
    "block_0106_all_density_stack.shape"
   ]
  },
  {
   "cell_type": "code",
   "execution_count": null,
   "id": "6f7141e9-580a-4036-b5d3-34774d0b1b91",
   "metadata": {},
   "outputs": [],
   "source": [
    "len(block_0106_density_list)"
   ]
  },
  {
   "cell_type": "code",
   "execution_count": null,
   "id": "5c59938b-fb4e-4980-aceb-f88e6f517663",
   "metadata": {},
   "outputs": [],
   "source": [
    "%%time\n",
    "for i in range(len(block_0106_density_list)):\n",
    "    print(np.mean(block_0106_density_list[i] == block_0106_all_density_stack[:, i, :]))   "
   ]
  },
  {
   "cell_type": "code",
   "execution_count": null,
   "id": "a15a9aa9-4867-4296-93de-bd01f095e33c",
   "metadata": {},
   "outputs": [],
   "source": [
    "# Stacking is corretly dine"
   ]
  },
  {
   "cell_type": "code",
   "execution_count": null,
   "id": "c0db6be6-0543-4e23-b42c-f3679e2ee070",
   "metadata": {},
   "outputs": [],
   "source": [
    "# save the final stack as an np array?"
   ]
  },
  {
   "cell_type": "code",
   "execution_count": null,
   "id": "bcd28194-7e8a-45fb-bc6c-c2c195b133e7",
   "metadata": {},
   "outputs": [],
   "source": [
    "block_0106_all_density_stack.shape"
   ]
  },
  {
   "cell_type": "code",
   "execution_count": null,
   "id": "8e6f344a-a4f5-4a7c-99b5-2ca493bb4861",
   "metadata": {},
   "outputs": [],
   "source": [
    "np.save(\"data/densities_overlapping/all_densities_block_0106.npy\", block_0106_all_density_stack)"
   ]
  },
  {
   "cell_type": "code",
   "execution_count": null,
   "id": "40ae53da-fae9-4589-907d-8e1093701a58",
   "metadata": {},
   "outputs": [],
   "source": [
    "# sanity check\n",
    "loaded_density_blk_0106 = np.load(\"data/densities_overlapping/all_densities_block_0106.npy\")"
   ]
  },
  {
   "cell_type": "code",
   "execution_count": null,
   "id": "aba96308-7566-4bff-8120-e91608e8cdd0",
   "metadata": {},
   "outputs": [],
   "source": [
    "np.mean(loaded_density_blk_0106 == block_0106_all_density_stack)"
   ]
  },
  {
   "cell_type": "code",
   "execution_count": null,
   "id": "e4c82c61-8a74-426a-b425-2b2eb926ec66",
   "metadata": {},
   "outputs": [],
   "source": [
    "# Block 0201"
   ]
  },
  {
   "cell_type": "code",
   "execution_count": null,
   "id": "a04450c1-4997-4188-9cb7-0a65ede48a87",
   "metadata": {},
   "outputs": [],
   "source": [
    "block_0201 = '../../../Spring_2024/S_lab_TasselNet/Block_7_TN/Block_7_images_and_xml'"
   ]
  },
  {
   "cell_type": "code",
   "execution_count": null,
   "id": "e56302e7-f3c5-4829-baf5-fbd3ece4b048",
   "metadata": {},
   "outputs": [],
   "source": [
    "# get im and xml files\n",
    "block_0201_target_ims, block_0201_target_xmls, block_0201_mean = chose_xml_and_jpeg(block_0201)"
   ]
  },
  {
   "cell_type": "code",
   "execution_count": null,
   "id": "b92a7a2e-d90d-475a-8399-32e1108198c5",
   "metadata": {},
   "outputs": [],
   "source": [
    "# block_0201_target_ims"
   ]
  },
  {
   "cell_type": "code",
   "execution_count": null,
   "id": "9417fadf-6152-4189-ba9e-635d51f99fae",
   "metadata": {},
   "outputs": [],
   "source": [
    "# block_0201_target_xmls"
   ]
  },
  {
   "cell_type": "code",
   "execution_count": null,
   "id": "644476b8-01b0-4a02-9756-a8657714758b",
   "metadata": {},
   "outputs": [],
   "source": [
    "block_0201_mean"
   ]
  },
  {
   "cell_type": "code",
   "execution_count": null,
   "id": "19bf2be8-49e0-4dcd-8817-9e8d03f74600",
   "metadata": {},
   "outputs": [],
   "source": [
    "# just file names\n",
    "block_0201_file_names = [file.split(\".\")[0] for file in block_0201_target_ims]"
   ]
  },
  {
   "cell_type": "code",
   "execution_count": null,
   "id": "26e97079-0f54-4e50-a44c-dd486a88e530",
   "metadata": {},
   "outputs": [],
   "source": [
    "# block_0201_file_names"
   ]
  },
  {
   "cell_type": "code",
   "execution_count": null,
   "id": "851d73a5-f8d4-4a1f-acb8-2e3798e38ea1",
   "metadata": {
    "scrolled": true
   },
   "outputs": [],
   "source": [
    "%%time\n",
    "# Get the density maps\n",
    "block_0201_names = []\n",
    "block_0201_im_shapes = []\n",
    "block_0201_tassel_count = []\n",
    "block_0201_tassel_count_alt = []\n",
    "# capture the density maps here\n",
    "block_0201_convs = []\n",
    "for file in block_0201_file_names:\n",
    "    name, shape, no_tassels, no_tassel_alt, conv = get_density_maps_horizontal(file, block_0201, block_0201)\n",
    "    block_0201_names.append(name)\n",
    "    block_0201_im_shapes.append(shape)\n",
    "    block_0201_tassel_count.append(no_tassels)\n",
    "    block_0201_tassel_count_alt.append(no_tassel_alt)\n",
    "    block_0201_convs.append(conv)"
   ]
  },
  {
   "cell_type": "code",
   "execution_count": null,
   "id": "e349195d-ad64-426a-b516-d4604dee0d6e",
   "metadata": {},
   "outputs": [],
   "source": [
    "block_0201_names"
   ]
  },
  {
   "cell_type": "code",
   "execution_count": null,
   "id": "7bf0a2bf-d8c3-443d-8cea-0ffc5e90207c",
   "metadata": {},
   "outputs": [],
   "source": [
    "block_0201_im_shapes"
   ]
  },
  {
   "cell_type": "code",
   "execution_count": null,
   "id": "bac61b83-3235-44fd-aa80-48e891b44a65",
   "metadata": {},
   "outputs": [],
   "source": [
    "block_0201_tassel_count, block_0201_tassel_count_alt"
   ]
  },
  {
   "cell_type": "code",
   "execution_count": null,
   "id": "d92df647-5795-450c-9f91-f1e8b350ada0",
   "metadata": {},
   "outputs": [],
   "source": [
    "np.mean(np.round(block_0201_tassel_count, 0) == np.round(block_0201_tassel_count_alt, 0))"
   ]
  },
  {
   "cell_type": "code",
   "execution_count": null,
   "id": "a5e14db5-94d4-479a-9849-37ab6c52aa9a",
   "metadata": {},
   "outputs": [],
   "source": [
    "# save these true counts in a df for future use"
   ]
  },
  {
   "cell_type": "code",
   "execution_count": null,
   "id": "46af3fd2-460b-47f2-96d9-63e8e02449e3",
   "metadata": {},
   "outputs": [],
   "source": [
    "%%time\n",
    "# Get the stacks?\n",
    "block_0201_density_list = []\n",
    "for conv in block_0201_convs:\n",
    "    density_values = create_densities_for_subwindows(conv, 24, 300)\n",
    "    block_0201_density_list.append(density_values)"
   ]
  },
  {
   "cell_type": "code",
   "execution_count": null,
   "id": "c4692dd2-6c9b-4d2b-8ec4-648fdfbe05a9",
   "metadata": {},
   "outputs": [],
   "source": [
    "len(block_0201_density_list)"
   ]
  },
  {
   "cell_type": "code",
   "execution_count": null,
   "id": "21f66ca4-5bb9-4de7-90ce-fbb3659bb00e",
   "metadata": {},
   "outputs": [],
   "source": [
    "block_0201_density_list[0].shape"
   ]
  },
  {
   "cell_type": "code",
   "execution_count": null,
   "id": "bd13808d-0ddf-4222-9654-3f7db95f1f05",
   "metadata": {},
   "outputs": [],
   "source": [
    "# need to stack this list\n",
    "block_0201_all_density_stack = np.stack(block_0201_density_list, axis = 1)"
   ]
  },
  {
   "cell_type": "code",
   "execution_count": null,
   "id": "4b2bc72c-dfba-497e-8d54-c06e0c1ab112",
   "metadata": {},
   "outputs": [],
   "source": [
    "block_0201_all_density_stack.shape"
   ]
  },
  {
   "cell_type": "code",
   "execution_count": null,
   "id": "918786af-6407-4cf3-ac8a-ffeb6a809786",
   "metadata": {},
   "outputs": [],
   "source": [
    "np.array(block_0201_tassel_count_alt)"
   ]
  },
  {
   "cell_type": "code",
   "execution_count": null,
   "id": "e5b9409a-26f5-48ef-afdd-980aafb9db20",
   "metadata": {},
   "outputs": [],
   "source": [
    "np.sum(block_0201_all_density_stack, axis = 0).reshape(1,-1)"
   ]
  },
  {
   "cell_type": "code",
   "execution_count": null,
   "id": "01285c9b-35f7-4bc5-826c-a65462ac337a",
   "metadata": {},
   "outputs": [],
   "source": [
    "# Need to figure out a better sanity check"
   ]
  },
  {
   "cell_type": "code",
   "execution_count": null,
   "id": "a3c164fb-359f-4e9a-9088-e2db3fc39368",
   "metadata": {},
   "outputs": [],
   "source": [
    "block_0201_convs[0].shape"
   ]
  },
  {
   "cell_type": "code",
   "execution_count": null,
   "id": "ddf4bb3f-1bda-4945-9e0e-d1df3fc094d7",
   "metadata": {},
   "outputs": [],
   "source": [
    "all_subwindowed_densitities_im_1 = create_densities_for_subwindows(block_0201_convs[0], stride = 24, kernel_size = 300)"
   ]
  },
  {
   "cell_type": "code",
   "execution_count": null,
   "id": "c29465d1-7d63-414f-aab5-39b24b2c58e6",
   "metadata": {},
   "outputs": [],
   "source": [
    "np.array(all_subwindowed_densitities_im_1).shape"
   ]
  },
  {
   "cell_type": "code",
   "execution_count": null,
   "id": "76f7b476-3382-4b66-a728-64eba97c4826",
   "metadata": {},
   "outputs": [],
   "source": [
    "np.array(all_subwindowed_densitities_im_1).reshape(-1,1).shape"
   ]
  },
  {
   "cell_type": "code",
   "execution_count": null,
   "id": "71ed455f-792e-458c-b26d-4e01da13d0a3",
   "metadata": {},
   "outputs": [],
   "source": [
    "time_period_name = ['t_' + str(i) for i in range(1, len(block_0201_tassel_count_alt)+1)]\n",
    "# time_period_name"
   ]
  },
  {
   "cell_type": "code",
   "execution_count": null,
   "id": "2ac7d066-2a53-4f6e-872e-352923f84af9",
   "metadata": {},
   "outputs": [],
   "source": [
    "true_densities_0201_df = pd.DataFrame(zip(time_period_name, block_0201_tassel_count_alt), columns = ['Time', \"True_density\"]) "
   ]
  },
  {
   "cell_type": "code",
   "execution_count": null,
   "id": "6611dcd3-9756-466f-bf79-a81ee2721eb0",
   "metadata": {},
   "outputs": [],
   "source": [
    "true_densities_0201_df.head()"
   ]
  },
  {
   "cell_type": "code",
   "execution_count": null,
   "id": "27cecf30-b705-48b8-93cf-6d036f72274e",
   "metadata": {},
   "outputs": [],
   "source": [
    "true_densities_0201_df.to_csv(\"data/test_block_true_counts/block_0201_true_counts.csv\", index = False)"
   ]
  },
  {
   "cell_type": "code",
   "execution_count": null,
   "id": "57b793c3-921e-4174-9448-46cf71a95a03",
   "metadata": {},
   "outputs": [],
   "source": [
    "# What other sanity checks can we perform to ensure the subwindowing is right?"
   ]
  },
  {
   "cell_type": "code",
   "execution_count": null,
   "id": "b41e21ae-276b-4add-a8b2-2ee29fdb2b1a",
   "metadata": {},
   "outputs": [],
   "source": [
    "# We have verified all written codes previously, so let's only verify that the stacking is indeed right"
   ]
  },
  {
   "cell_type": "code",
   "execution_count": null,
   "id": "be149a9d-2ca8-48b5-aa7e-e6ba77aadb8f",
   "metadata": {},
   "outputs": [],
   "source": [
    "block_0201_all_density_stack.shape"
   ]
  },
  {
   "cell_type": "code",
   "execution_count": null,
   "id": "78b8c676-d8ce-42c8-ac7e-42de6f853d09",
   "metadata": {},
   "outputs": [],
   "source": [
    "len(block_0201_density_list)"
   ]
  },
  {
   "cell_type": "code",
   "execution_count": null,
   "id": "417d44cd-4f53-452f-a979-cfcb68f3a0f1",
   "metadata": {},
   "outputs": [],
   "source": [
    "%%time\n",
    "for i in range(len(block_0201_density_list)):\n",
    "    print(np.mean(block_0201_density_list[i] == block_0201_all_density_stack[:, i, :]))   "
   ]
  },
  {
   "cell_type": "code",
   "execution_count": null,
   "id": "6a06f01b-8ecb-4376-8cd6-e0c3eba2783d",
   "metadata": {},
   "outputs": [],
   "source": [
    "# Stacking is corretly dine"
   ]
  },
  {
   "cell_type": "code",
   "execution_count": null,
   "id": "81443c18-af22-4ebd-a333-497ec9e510e9",
   "metadata": {},
   "outputs": [],
   "source": [
    "# save the final stack as an np array?"
   ]
  },
  {
   "cell_type": "code",
   "execution_count": null,
   "id": "3773b18d-b159-4996-8887-a8e85dfe253a",
   "metadata": {},
   "outputs": [],
   "source": [
    "block_0201_all_density_stack.shape"
   ]
  },
  {
   "cell_type": "code",
   "execution_count": null,
   "id": "852fd15c-4395-48ba-ae06-7820b51142d1",
   "metadata": {},
   "outputs": [],
   "source": [
    "np.save(\"data/densities_overlapping/all_densities_block_0201.npy\", block_0201_all_density_stack)"
   ]
  },
  {
   "cell_type": "code",
   "execution_count": null,
   "id": "bf33e0b8-4627-451f-a333-329d49a87ddc",
   "metadata": {},
   "outputs": [],
   "source": [
    "# sanity check\n",
    "loaded_density_blk_0201 = np.load(\"data/densities_overlapping/all_densities_block_0201.npy\")"
   ]
  },
  {
   "cell_type": "code",
   "execution_count": null,
   "id": "0dbd0107-389d-48cb-b370-6050d749d20d",
   "metadata": {},
   "outputs": [],
   "source": [
    "np.mean(loaded_density_blk_0201 == block_0201_all_density_stack)"
   ]
  },
  {
   "cell_type": "code",
   "execution_count": null,
   "id": "946c36a4-19ee-4396-8be0-e15c50cf9370",
   "metadata": {},
   "outputs": [],
   "source": [
    "# Block 0202"
   ]
  },
  {
   "cell_type": "code",
   "execution_count": null,
   "id": "c63a8829-d8ed-46d1-b650-8a9742e58c1f",
   "metadata": {},
   "outputs": [],
   "source": [
    "block_0202 = '../../../Spring_2024/S_lab_TasselNet/Block_8_TN/Block_8_images_and_xml'"
   ]
  },
  {
   "cell_type": "code",
   "execution_count": null,
   "id": "4851e23d-7294-4186-afee-388ff7e1d4d7",
   "metadata": {},
   "outputs": [],
   "source": [
    "# get im and xml files\n",
    "block_0202_target_ims, block_0202_target_xmls, block_0202_mean = chose_xml_and_jpeg(block_0202)"
   ]
  },
  {
   "cell_type": "code",
   "execution_count": null,
   "id": "2c34c553-f34c-48f6-b169-ff625fa65893",
   "metadata": {},
   "outputs": [],
   "source": [
    "block_0202_target_ims"
   ]
  },
  {
   "cell_type": "code",
   "execution_count": null,
   "id": "a5251593-d2e7-4a9f-ba4e-25fdb00221f0",
   "metadata": {},
   "outputs": [],
   "source": [
    "block_0202_target_xmls"
   ]
  },
  {
   "cell_type": "code",
   "execution_count": null,
   "id": "4bb34aa1-3d4a-4b51-b4c1-9799138a1f7c",
   "metadata": {},
   "outputs": [],
   "source": [
    "block_0202_mean"
   ]
  },
  {
   "cell_type": "code",
   "execution_count": null,
   "id": "edfa2ea3-733f-4136-bbe1-81e5a45974c6",
   "metadata": {},
   "outputs": [],
   "source": [
    "# just file names\n",
    "block_0202_file_names = [file.split(\".\")[0] for file in block_0202_target_ims]"
   ]
  },
  {
   "cell_type": "code",
   "execution_count": null,
   "id": "93cb51e3-2f81-4971-8564-db39813ad7b3",
   "metadata": {},
   "outputs": [],
   "source": [
    "block_0202_file_names"
   ]
  },
  {
   "cell_type": "code",
   "execution_count": null,
   "id": "01d35371-efac-43eb-b499-04d4e7f38d0a",
   "metadata": {
    "scrolled": true
   },
   "outputs": [],
   "source": [
    "%%time\n",
    "# Get the density maps\n",
    "block_0202_names = []\n",
    "block_0202_im_shapes = []\n",
    "block_0202_tassel_count = []\n",
    "block_0202_tassel_count_alt = []\n",
    "# capture the density maps here\n",
    "block_0202_convs = []\n",
    "for file in block_0202_file_names:\n",
    "    name, shape, no_tassels, no_tassel_alt, conv = get_density_maps_horizontal(file, block_0202, block_0202)\n",
    "    block_0202_names.append(name)\n",
    "    block_0202_im_shapes.append(shape)\n",
    "    block_0202_tassel_count.append(no_tassels)\n",
    "    block_0202_tassel_count_alt.append(no_tassel_alt)\n",
    "    block_0202_convs.append(conv)"
   ]
  },
  {
   "cell_type": "code",
   "execution_count": null,
   "id": "9c23cd80-cd90-45b9-aa2a-6caafce415b3",
   "metadata": {},
   "outputs": [],
   "source": [
    "block_0202_names"
   ]
  },
  {
   "cell_type": "code",
   "execution_count": null,
   "id": "fefa8158-aab4-4c28-89b5-f499c2541f92",
   "metadata": {},
   "outputs": [],
   "source": [
    "block_0202_im_shapes"
   ]
  },
  {
   "cell_type": "code",
   "execution_count": null,
   "id": "553ef010-a6bb-45a3-a2fc-474168ab9448",
   "metadata": {},
   "outputs": [],
   "source": [
    "block_0202_tassel_count, block_0202_tassel_count_alt"
   ]
  },
  {
   "cell_type": "code",
   "execution_count": null,
   "id": "96590c21-d07d-4b13-ae93-9070642670f0",
   "metadata": {},
   "outputs": [],
   "source": [
    "np.mean(np.round(block_0202_tassel_count, 0) == np.round(block_0202_tassel_count_alt, 0))"
   ]
  },
  {
   "cell_type": "code",
   "execution_count": null,
   "id": "f83e21e6-4d98-4713-8516-fcc603f9c5ef",
   "metadata": {},
   "outputs": [],
   "source": [
    "# save these true counts in a df for future use"
   ]
  },
  {
   "cell_type": "code",
   "execution_count": null,
   "id": "dad290b7-bf8f-4500-aca4-f01cbfdc0632",
   "metadata": {},
   "outputs": [],
   "source": [
    "%%time\n",
    "# Get the stacks?\n",
    "block_0202_density_list = []\n",
    "for conv in block_0202_convs:\n",
    "    density_values = create_densities_for_subwindows(conv, 24, 300)\n",
    "    block_0202_density_list.append(density_values)"
   ]
  },
  {
   "cell_type": "code",
   "execution_count": null,
   "id": "6299717e-c3d6-466e-a64b-6fa8c2b5cd13",
   "metadata": {},
   "outputs": [],
   "source": [
    "len(block_0202_density_list)"
   ]
  },
  {
   "cell_type": "code",
   "execution_count": null,
   "id": "581b823c-ea77-4a69-b15d-ecf4dd15b3f8",
   "metadata": {},
   "outputs": [],
   "source": [
    "block_0202_density_list[0].shape"
   ]
  },
  {
   "cell_type": "code",
   "execution_count": null,
   "id": "97532cb5-3b28-4ba9-99bc-5e1a960e53ef",
   "metadata": {},
   "outputs": [],
   "source": [
    "# need to stack this list\n",
    "block_0202_all_density_stack = np.stack(block_0202_density_list, axis = 1)"
   ]
  },
  {
   "cell_type": "code",
   "execution_count": null,
   "id": "8527420c-0e0a-4a68-86b5-50556f2e2627",
   "metadata": {},
   "outputs": [],
   "source": [
    "block_0202_all_density_stack.shape"
   ]
  },
  {
   "cell_type": "code",
   "execution_count": null,
   "id": "a50fd68e-ae46-4d3b-8281-6f7d30f9eec5",
   "metadata": {},
   "outputs": [],
   "source": [
    "np.array(block_0202_tassel_count_alt)"
   ]
  },
  {
   "cell_type": "code",
   "execution_count": null,
   "id": "5593793d-7b08-4202-8cb8-3a784defe8e8",
   "metadata": {},
   "outputs": [],
   "source": [
    "np.sum(block_0202_all_density_stack, axis = 0).reshape(1,-1)"
   ]
  },
  {
   "cell_type": "code",
   "execution_count": null,
   "id": "92207664-6d13-4a1c-a5e3-8b0e6d5a02bb",
   "metadata": {},
   "outputs": [],
   "source": [
    "# Need to figure out a better sanity check"
   ]
  },
  {
   "cell_type": "code",
   "execution_count": null,
   "id": "13373818-b985-4d5e-8d2c-f1ff1a887199",
   "metadata": {},
   "outputs": [],
   "source": [
    "block_0202_convs[0].shape"
   ]
  },
  {
   "cell_type": "code",
   "execution_count": null,
   "id": "0d82dd64-a52c-4712-b413-11b95cdb1dbf",
   "metadata": {},
   "outputs": [],
   "source": [
    "all_subwindowed_densitities_im_1 = create_densities_for_subwindows(block_0202_convs[0], stride = 24, kernel_size = 300)"
   ]
  },
  {
   "cell_type": "code",
   "execution_count": null,
   "id": "0e11bf79-8ff8-4f47-9cc0-a66b137a486e",
   "metadata": {},
   "outputs": [],
   "source": [
    "np.array(all_subwindowed_densitities_im_1).shape"
   ]
  },
  {
   "cell_type": "code",
   "execution_count": null,
   "id": "de875b4f-4c67-45d7-a65b-9e2006a8a2e6",
   "metadata": {},
   "outputs": [],
   "source": [
    "np.array(all_subwindowed_densitities_im_1).reshape(-1,1).shape"
   ]
  },
  {
   "cell_type": "code",
   "execution_count": null,
   "id": "582515ea-f559-44a9-a07e-391f54d4a444",
   "metadata": {},
   "outputs": [],
   "source": [
    "time_period_name = ['t_' + str(i) for i in range(1, len(block_0202_tassel_count_alt)+1)]\n",
    "# time_period_name"
   ]
  },
  {
   "cell_type": "code",
   "execution_count": null,
   "id": "d439026b-d97d-4225-8736-deec2f438aba",
   "metadata": {},
   "outputs": [],
   "source": [
    "true_densities_0202_df = pd.DataFrame(zip(time_period_name, block_0202_tassel_count_alt), columns = ['Time', \"True_density\"]) "
   ]
  },
  {
   "cell_type": "code",
   "execution_count": null,
   "id": "af6d5c28-b4a6-467d-a2a1-8e9d2ce90ca8",
   "metadata": {},
   "outputs": [],
   "source": [
    "true_densities_0202_df.head()"
   ]
  },
  {
   "cell_type": "code",
   "execution_count": null,
   "id": "cf046a81-3538-458e-a1c9-6601bed71cb3",
   "metadata": {},
   "outputs": [],
   "source": [
    "true_densities_0202_df.to_csv(\"data/test_block_true_counts/block_0202_true_counts.csv\", index = False)"
   ]
  },
  {
   "cell_type": "code",
   "execution_count": null,
   "id": "e0b4231f-c3b4-4caf-93b6-8f7ae80ccf7a",
   "metadata": {},
   "outputs": [],
   "source": [
    "# What other sanity checks can we perform to ensure the subwindowing is right?"
   ]
  },
  {
   "cell_type": "code",
   "execution_count": null,
   "id": "811c711f-76c2-4896-b0a5-1ebf6ecd838d",
   "metadata": {},
   "outputs": [],
   "source": [
    "# We have verified all written codes previously, so let's only verify that the stacking is indeed right"
   ]
  },
  {
   "cell_type": "code",
   "execution_count": null,
   "id": "3865b0e5-01f5-44cc-b49b-9a3e56b99ae7",
   "metadata": {},
   "outputs": [],
   "source": [
    "block_0202_all_density_stack.shape"
   ]
  },
  {
   "cell_type": "code",
   "execution_count": null,
   "id": "93841cc6-ca3a-4f82-8f42-daffeb4cb373",
   "metadata": {},
   "outputs": [],
   "source": [
    "len(block_0202_density_list)"
   ]
  },
  {
   "cell_type": "code",
   "execution_count": null,
   "id": "5e53609b-18e6-43c5-a17c-b39af2ba3399",
   "metadata": {},
   "outputs": [],
   "source": [
    "%%time\n",
    "for i in range(len(block_0202_density_list)):\n",
    "    print(np.mean(block_0202_density_list[i] == block_0202_all_density_stack[:, i, :]))   "
   ]
  },
  {
   "cell_type": "code",
   "execution_count": null,
   "id": "d162d444-6d90-46f4-a431-2432a30fb1ad",
   "metadata": {},
   "outputs": [],
   "source": [
    "# Stacking is corretly dine"
   ]
  },
  {
   "cell_type": "code",
   "execution_count": null,
   "id": "e237d03c-e82e-420f-a77d-78bef06e8dbc",
   "metadata": {},
   "outputs": [],
   "source": [
    "# save the final stack as an np array?"
   ]
  },
  {
   "cell_type": "code",
   "execution_count": null,
   "id": "e3f6f6ea-d5ac-4d43-aed0-175ce5e1b3cc",
   "metadata": {},
   "outputs": [],
   "source": [
    "block_0202_all_density_stack.shape"
   ]
  },
  {
   "cell_type": "code",
   "execution_count": null,
   "id": "cce17c0c-12cd-43d4-b0c5-a1c01a7a8c5b",
   "metadata": {},
   "outputs": [],
   "source": [
    "np.save(\"data/densities_overlapping/all_densities_block_0202.npy\", block_0202_all_density_stack)"
   ]
  },
  {
   "cell_type": "code",
   "execution_count": null,
   "id": "541caeba-da4b-49b2-bbdb-579b40023420",
   "metadata": {},
   "outputs": [],
   "source": [
    "# sanity check\n",
    "loaded_density_blk_0202 = np.load(\"data/densities_overlapping/all_densities_block_0202.npy\")"
   ]
  },
  {
   "cell_type": "code",
   "execution_count": null,
   "id": "8a57ccf4-e787-4c04-8206-e14ef4f11103",
   "metadata": {},
   "outputs": [],
   "source": [
    "np.mean(loaded_density_blk_0202 == block_0202_all_density_stack)"
   ]
  },
  {
   "cell_type": "code",
   "execution_count": null,
   "id": "f3ec0be6-3938-4a26-9882-a51ea6fbb5ee",
   "metadata": {},
   "outputs": [],
   "source": [
    "# Block 0205"
   ]
  },
  {
   "cell_type": "code",
   "execution_count": null,
   "id": "537c0212-8374-4563-b6f3-c7f46e7fb5b8",
   "metadata": {},
   "outputs": [],
   "source": [
    "block_0205 = '../../../Spring_2024/S_lab_TasselNet/Block_11_TN/Block_11_images_and_xml'"
   ]
  },
  {
   "cell_type": "code",
   "execution_count": null,
   "id": "e66b168e-84f0-4e45-b9e1-2a63f58c798c",
   "metadata": {},
   "outputs": [],
   "source": [
    "# get im and xml files\n",
    "block_0205_target_ims, block_0205_target_xmls, block_0205_mean = chose_xml_and_jpeg(block_0205)"
   ]
  },
  {
   "cell_type": "code",
   "execution_count": null,
   "id": "6bb8923e-6c1b-4265-94cf-4127dc6fecf5",
   "metadata": {},
   "outputs": [],
   "source": [
    "block_0205_target_ims"
   ]
  },
  {
   "cell_type": "code",
   "execution_count": null,
   "id": "e38f0ac8-7a7e-495a-8acf-bf530ea8e89f",
   "metadata": {},
   "outputs": [],
   "source": [
    "block_0205_target_xmls"
   ]
  },
  {
   "cell_type": "code",
   "execution_count": null,
   "id": "85ef0a7e-25a0-4517-bbe1-70459804e94d",
   "metadata": {},
   "outputs": [],
   "source": [
    "block_0205_mean"
   ]
  },
  {
   "cell_type": "code",
   "execution_count": null,
   "id": "f77c262d-2e0a-4008-b471-c45155b36e94",
   "metadata": {},
   "outputs": [],
   "source": [
    "# just file names\n",
    "block_0205_file_names = [file.split(\".\")[0] for file in block_0205_target_ims]"
   ]
  },
  {
   "cell_type": "code",
   "execution_count": null,
   "id": "55d20b2b-8f73-4a3a-b1bc-beeb1127b9cf",
   "metadata": {},
   "outputs": [],
   "source": [
    "block_0205_file_names"
   ]
  },
  {
   "cell_type": "code",
   "execution_count": null,
   "id": "99cd3f86-85b6-4027-8aa4-3ae86fe73de7",
   "metadata": {
    "scrolled": true
   },
   "outputs": [],
   "source": [
    "%%time\n",
    "# Get the density maps\n",
    "block_0205_names = []\n",
    "block_0205_im_shapes = []\n",
    "block_0205_tassel_count = []\n",
    "block_0205_tassel_count_alt = []\n",
    "# capture the density maps here\n",
    "block_0205_convs = []\n",
    "for file in block_0205_file_names:\n",
    "    name, shape, no_tassels, no_tassel_alt, conv = get_density_maps_horizontal(file, block_0205, block_0205)\n",
    "    block_0205_names.append(name)\n",
    "    block_0205_im_shapes.append(shape)\n",
    "    block_0205_tassel_count.append(no_tassels)\n",
    "    block_0205_tassel_count_alt.append(no_tassel_alt)\n",
    "    block_0205_convs.append(conv)"
   ]
  },
  {
   "cell_type": "code",
   "execution_count": null,
   "id": "756fbc09-ef76-4aec-96dd-d717807add56",
   "metadata": {},
   "outputs": [],
   "source": [
    "block_0205_names"
   ]
  },
  {
   "cell_type": "code",
   "execution_count": null,
   "id": "dbc35b24-e654-4419-ab1a-5f4d014c0ce9",
   "metadata": {},
   "outputs": [],
   "source": [
    "block_0205_im_shapes"
   ]
  },
  {
   "cell_type": "code",
   "execution_count": null,
   "id": "4539b13a-c3d4-4859-b1f7-5ff0178ac058",
   "metadata": {},
   "outputs": [],
   "source": [
    "block_0205_tassel_count, block_0205_tassel_count_alt"
   ]
  },
  {
   "cell_type": "code",
   "execution_count": null,
   "id": "c653de8f-b3c1-4b94-b668-ee10229d7e12",
   "metadata": {},
   "outputs": [],
   "source": [
    "np.mean(np.round(block_0205_tassel_count, 0) == np.round(block_0205_tassel_count_alt, 0))"
   ]
  },
  {
   "cell_type": "code",
   "execution_count": null,
   "id": "83a0d9a1-9aa1-4566-96ca-d86309f81f71",
   "metadata": {},
   "outputs": [],
   "source": [
    "# save these true counts in a df for future use"
   ]
  },
  {
   "cell_type": "code",
   "execution_count": null,
   "id": "9d1a544a-3fce-499e-904b-8b95a92bd431",
   "metadata": {},
   "outputs": [],
   "source": [
    "%%time\n",
    "# Get the stacks?\n",
    "block_0205_density_list = []\n",
    "for conv in block_0205_convs:\n",
    "    density_values = create_densities_for_subwindows(conv, 24, 300)\n",
    "    block_0205_density_list.append(density_values)"
   ]
  },
  {
   "cell_type": "code",
   "execution_count": null,
   "id": "74e72643-e6a5-415f-a129-0bde086dd1fc",
   "metadata": {},
   "outputs": [],
   "source": [
    "len(block_0205_density_list)"
   ]
  },
  {
   "cell_type": "code",
   "execution_count": null,
   "id": "3369b1bc-284b-4fd1-a182-99d2e5330dc1",
   "metadata": {},
   "outputs": [],
   "source": [
    "block_0205_density_list[0].shape"
   ]
  },
  {
   "cell_type": "code",
   "execution_count": null,
   "id": "01b394d3-ae57-4684-81dd-77cb5d842c4a",
   "metadata": {},
   "outputs": [],
   "source": [
    "# need to stack this list\n",
    "block_0205_all_density_stack = np.stack(block_0205_density_list, axis = 1)"
   ]
  },
  {
   "cell_type": "code",
   "execution_count": null,
   "id": "ac1a503e-6746-4f22-8ca1-c010ee88a932",
   "metadata": {},
   "outputs": [],
   "source": [
    "block_0205_all_density_stack.shape"
   ]
  },
  {
   "cell_type": "code",
   "execution_count": null,
   "id": "fdaa7ace-e37f-4105-a3be-347a62e6067f",
   "metadata": {},
   "outputs": [],
   "source": [
    "np.array(block_0205_tassel_count_alt)"
   ]
  },
  {
   "cell_type": "code",
   "execution_count": null,
   "id": "61431943-2d39-4d2a-abb4-1dd19a531694",
   "metadata": {},
   "outputs": [],
   "source": [
    "np.sum(block_0205_all_density_stack, axis = 0).reshape(1,-1)"
   ]
  },
  {
   "cell_type": "code",
   "execution_count": null,
   "id": "aa49ffc0-33cc-4cc5-8605-fb6ced7430ff",
   "metadata": {},
   "outputs": [],
   "source": [
    "# Need to figure out a better sanity check"
   ]
  },
  {
   "cell_type": "code",
   "execution_count": null,
   "id": "48d1b9cf-bc1c-4b73-9532-825baf675dcc",
   "metadata": {},
   "outputs": [],
   "source": [
    "block_0205_convs[0].shape"
   ]
  },
  {
   "cell_type": "code",
   "execution_count": null,
   "id": "76343c9a-bf7e-4758-ae6d-977aa1ed4fb6",
   "metadata": {},
   "outputs": [],
   "source": [
    "all_subwindowed_densitities_im_1 = create_densities_for_subwindows(block_0205_convs[0], stride = 24, kernel_size = 300)"
   ]
  },
  {
   "cell_type": "code",
   "execution_count": null,
   "id": "f7a73678-fa0c-41c0-9e19-996b5be6290c",
   "metadata": {},
   "outputs": [],
   "source": [
    "np.array(all_subwindowed_densitities_im_1).shape"
   ]
  },
  {
   "cell_type": "code",
   "execution_count": null,
   "id": "d6656c4b-4c3f-4972-abb2-dff3de2c2d68",
   "metadata": {},
   "outputs": [],
   "source": [
    "np.array(all_subwindowed_densitities_im_1).reshape(-1,1).shape"
   ]
  },
  {
   "cell_type": "code",
   "execution_count": null,
   "id": "9a241767-c01d-4213-93ca-5af438a7ec9d",
   "metadata": {},
   "outputs": [],
   "source": [
    "time_period_name = ['t_' + str(i) for i in range(1, len(block_0205_tassel_count_alt)+1)]\n",
    "# time_period_name"
   ]
  },
  {
   "cell_type": "code",
   "execution_count": null,
   "id": "8c04b572-7c1a-4a68-97de-972d10b00b1d",
   "metadata": {},
   "outputs": [],
   "source": [
    "true_densities_0205_df = pd.DataFrame(zip(time_period_name, block_0205_tassel_count_alt), columns = ['Time', \"True_density\"]) "
   ]
  },
  {
   "cell_type": "code",
   "execution_count": null,
   "id": "53a0a7b6-8dbe-4d30-bb7f-e0ffc26c56fb",
   "metadata": {},
   "outputs": [],
   "source": [
    "true_densities_0205_df.head()"
   ]
  },
  {
   "cell_type": "code",
   "execution_count": null,
   "id": "1809caae-aa2f-44cf-ad70-ba72d0115c4a",
   "metadata": {},
   "outputs": [],
   "source": [
    "true_densities_0205_df.to_csv(\"data/test_block_true_counts/block_0205_true_counts.csv\", index = False)"
   ]
  },
  {
   "cell_type": "code",
   "execution_count": null,
   "id": "7bb45d39-ad72-4394-b075-7ada6f1e0960",
   "metadata": {},
   "outputs": [],
   "source": [
    "# What other sanity checks can we perform to ensure the subwindowing is right?"
   ]
  },
  {
   "cell_type": "code",
   "execution_count": null,
   "id": "f23e1a61-7845-423d-8352-5879293ffa94",
   "metadata": {},
   "outputs": [],
   "source": [
    "# We have verified all written codes previously, so let's only verify that the stacking is indeed right"
   ]
  },
  {
   "cell_type": "code",
   "execution_count": null,
   "id": "24feaf29-ae91-44ae-8bae-83b41de7601c",
   "metadata": {},
   "outputs": [],
   "source": [
    "block_0205_all_density_stack.shape"
   ]
  },
  {
   "cell_type": "code",
   "execution_count": null,
   "id": "7674358c-c17c-4947-8be8-1ba7f844d798",
   "metadata": {},
   "outputs": [],
   "source": [
    "len(block_0205_density_list)"
   ]
  },
  {
   "cell_type": "code",
   "execution_count": null,
   "id": "eab7fd64-322a-4fd1-a9b0-26a17c26f544",
   "metadata": {},
   "outputs": [],
   "source": [
    "%%time\n",
    "for i in range(len(block_0205_density_list)):\n",
    "    print(np.mean(block_0205_density_list[i] == block_0205_all_density_stack[:, i, :]))   "
   ]
  },
  {
   "cell_type": "code",
   "execution_count": null,
   "id": "79bb6461-81e1-43de-a171-473d5a17824e",
   "metadata": {},
   "outputs": [],
   "source": [
    "# Stacking is corretly done"
   ]
  },
  {
   "cell_type": "code",
   "execution_count": null,
   "id": "79e5cc37-d6b3-4e57-b64e-75c51f5063d5",
   "metadata": {},
   "outputs": [],
   "source": [
    "# save the final stack as an np array?"
   ]
  },
  {
   "cell_type": "code",
   "execution_count": null,
   "id": "afad32ca-1d16-48a1-83e0-1efbbdb7e203",
   "metadata": {},
   "outputs": [],
   "source": [
    "block_0205_all_density_stack.shape"
   ]
  },
  {
   "cell_type": "code",
   "execution_count": null,
   "id": "8b37e03c-fcc5-40ed-aa5d-3d2abc5d6643",
   "metadata": {},
   "outputs": [],
   "source": [
    "np.save(\"data/densities_overlapping/all_densities_block_0205.npy\", block_0205_all_density_stack)"
   ]
  },
  {
   "cell_type": "code",
   "execution_count": null,
   "id": "63620488-e935-4e02-a7c1-4c4258a20e2f",
   "metadata": {},
   "outputs": [],
   "source": [
    "# sanity check\n",
    "loaded_density_blk_0205 = np.load(\"data/densities_overlapping/all_densities_block_0205.npy\")"
   ]
  },
  {
   "cell_type": "code",
   "execution_count": null,
   "id": "3564a5e1-decb-4fb3-9bf4-9963d0625588",
   "metadata": {},
   "outputs": [],
   "source": [
    "np.mean(loaded_density_blk_0205 == block_0205_all_density_stack)"
   ]
  },
  {
   "cell_type": "code",
   "execution_count": null,
   "id": "d0269a14-7cc1-467e-9b4b-380944cfd38d",
   "metadata": {},
   "outputs": [],
   "source": [
    "# Block 0206"
   ]
  },
  {
   "cell_type": "code",
   "execution_count": null,
   "id": "5d0bf147-3e6d-4872-a89f-539e27492f4f",
   "metadata": {},
   "outputs": [],
   "source": [
    "block_0206 = '../../../Spring_2024/S_lab_TasselNet/Block_12_TN/Block_12_images_and_xml'"
   ]
  },
  {
   "cell_type": "code",
   "execution_count": null,
   "id": "8ab03832-6b11-43e4-81f2-4154f0b1c0d4",
   "metadata": {},
   "outputs": [],
   "source": [
    "# get im and xml files\n",
    "block_0206_target_ims, block_0206_target_xmls, block_0206_mean = chose_xml_and_jpeg(block_0206)"
   ]
  },
  {
   "cell_type": "code",
   "execution_count": null,
   "id": "56f62d3c-10d4-452a-bdf8-631b453fd52c",
   "metadata": {},
   "outputs": [],
   "source": [
    "block_0206_target_ims"
   ]
  },
  {
   "cell_type": "code",
   "execution_count": null,
   "id": "e46e86c7-5be2-42ea-972f-e3351e766b4d",
   "metadata": {},
   "outputs": [],
   "source": [
    "block_0206_target_xmls"
   ]
  },
  {
   "cell_type": "code",
   "execution_count": null,
   "id": "cdc24cec-f092-4681-b20b-ec7bf18e8317",
   "metadata": {},
   "outputs": [],
   "source": [
    "block_0206_mean"
   ]
  },
  {
   "cell_type": "code",
   "execution_count": null,
   "id": "5a63cb12-6171-46b4-8d11-be12a31b6f86",
   "metadata": {},
   "outputs": [],
   "source": [
    "# just file names\n",
    "block_0206_file_names = [file.split(\".\")[0] for file in block_0206_target_ims]"
   ]
  },
  {
   "cell_type": "code",
   "execution_count": null,
   "id": "cd4b53fe-226a-4f38-bf91-f4833b1b3713",
   "metadata": {},
   "outputs": [],
   "source": [
    "block_0206_file_names"
   ]
  },
  {
   "cell_type": "code",
   "execution_count": null,
   "id": "5b21fa2d-b2fa-4946-b33f-4dded17e2eaf",
   "metadata": {
    "scrolled": true
   },
   "outputs": [],
   "source": [
    "%%time\n",
    "# Get the density maps\n",
    "block_0206_names = []\n",
    "block_0206_im_shapes = []\n",
    "block_0206_tassel_count = []\n",
    "block_0206_tassel_count_alt = []\n",
    "# capture the density maps here\n",
    "block_0206_convs = []\n",
    "for file in block_0206_file_names:\n",
    "    name, shape, no_tassels, no_tassel_alt, conv = get_density_maps_horizontal(file, block_0206, block_0206)\n",
    "    block_0206_names.append(name)\n",
    "    block_0206_im_shapes.append(shape)\n",
    "    block_0206_tassel_count.append(no_tassels)\n",
    "    block_0206_tassel_count_alt.append(no_tassel_alt)\n",
    "    block_0206_convs.append(conv)"
   ]
  },
  {
   "cell_type": "code",
   "execution_count": null,
   "id": "e0539385-3f63-4708-9b6f-e43fcb4c2676",
   "metadata": {},
   "outputs": [],
   "source": [
    "block_0206_names"
   ]
  },
  {
   "cell_type": "code",
   "execution_count": null,
   "id": "de37a4a8-08ff-48c5-ae84-2d1a3e99562d",
   "metadata": {},
   "outputs": [],
   "source": [
    "block_0206_im_shapes"
   ]
  },
  {
   "cell_type": "code",
   "execution_count": null,
   "id": "7ae48f25-6e08-4d72-a238-cebec0b9155e",
   "metadata": {},
   "outputs": [],
   "source": [
    "block_0206_tassel_count, block_0206_tassel_count_alt"
   ]
  },
  {
   "cell_type": "code",
   "execution_count": null,
   "id": "9c1884ae-dd26-4c5d-bc6d-5c55be01af91",
   "metadata": {},
   "outputs": [],
   "source": [
    "np.mean(np.round(block_0206_tassel_count, 0) == np.round(block_0206_tassel_count_alt, 0))"
   ]
  },
  {
   "cell_type": "code",
   "execution_count": null,
   "id": "1044f078-f51f-47d7-92a6-3897db4ddd63",
   "metadata": {},
   "outputs": [],
   "source": [
    "# save these true counts in a df for future use"
   ]
  },
  {
   "cell_type": "code",
   "execution_count": null,
   "id": "0b39113f-a187-40ad-b58c-3897890d8801",
   "metadata": {},
   "outputs": [],
   "source": [
    "%%time\n",
    "# Get the stacks?\n",
    "block_0206_density_list = []\n",
    "for conv in block_0206_convs:\n",
    "    density_values = create_densities_for_subwindows(conv, 24, 300)\n",
    "    block_0206_density_list.append(density_values)"
   ]
  },
  {
   "cell_type": "code",
   "execution_count": null,
   "id": "139215b1-5c50-410f-9d87-98a60b116ece",
   "metadata": {},
   "outputs": [],
   "source": [
    "len(block_0206_density_list)"
   ]
  },
  {
   "cell_type": "code",
   "execution_count": null,
   "id": "02f6303d-1eae-4a05-a881-2b043ecf58b4",
   "metadata": {},
   "outputs": [],
   "source": [
    "block_0206_density_list[0].shape"
   ]
  },
  {
   "cell_type": "code",
   "execution_count": null,
   "id": "b3d44baa-dd50-42e1-9b6a-e21f3235eb98",
   "metadata": {},
   "outputs": [],
   "source": [
    "# need to stack this list\n",
    "block_0206_all_density_stack = np.stack(block_0206_density_list, axis = 1)"
   ]
  },
  {
   "cell_type": "code",
   "execution_count": null,
   "id": "f351e5e3-ba58-4ff7-beec-91211a180a4b",
   "metadata": {},
   "outputs": [],
   "source": [
    "block_0206_all_density_stack.shape"
   ]
  },
  {
   "cell_type": "code",
   "execution_count": null,
   "id": "26ffbd90-9130-4270-994f-b085a7822ace",
   "metadata": {},
   "outputs": [],
   "source": [
    "np.array(block_0206_tassel_count_alt)"
   ]
  },
  {
   "cell_type": "code",
   "execution_count": null,
   "id": "5662fce8-b60f-466b-ae28-782c399fc003",
   "metadata": {},
   "outputs": [],
   "source": [
    "np.sum(block_0206_all_density_stack, axis = 0).reshape(1,-1)"
   ]
  },
  {
   "cell_type": "code",
   "execution_count": null,
   "id": "538b0b5b-223a-4ff4-8796-b5db69c5350b",
   "metadata": {},
   "outputs": [],
   "source": [
    "# Need to figure out a better sanity check"
   ]
  },
  {
   "cell_type": "code",
   "execution_count": null,
   "id": "c8b04837-b98f-42fb-b5f5-e35e811c2847",
   "metadata": {},
   "outputs": [],
   "source": [
    "block_0206_convs[0].shape"
   ]
  },
  {
   "cell_type": "code",
   "execution_count": null,
   "id": "7bdb4cdf-465f-46a5-832c-62ad418f0754",
   "metadata": {},
   "outputs": [],
   "source": [
    "all_subwindowed_densitities_im_1 = create_densities_for_subwindows(block_0206_convs[0], stride = 24, kernel_size = 300)"
   ]
  },
  {
   "cell_type": "code",
   "execution_count": null,
   "id": "9244fd87-d209-4c81-b9a7-6047482488e2",
   "metadata": {},
   "outputs": [],
   "source": [
    "np.array(all_subwindowed_densitities_im_1).shape"
   ]
  },
  {
   "cell_type": "code",
   "execution_count": null,
   "id": "b8ba4381-4975-49ed-a5c2-31343de68467",
   "metadata": {},
   "outputs": [],
   "source": [
    "np.array(all_subwindowed_densitities_im_1).reshape(-1,1).shape"
   ]
  },
  {
   "cell_type": "code",
   "execution_count": null,
   "id": "f955580c-caaf-43c8-9f87-eaaed90a5a15",
   "metadata": {},
   "outputs": [],
   "source": [
    "time_period_name = ['t_' + str(i) for i in range(1, len(block_0206_tassel_count_alt)+1)]\n",
    "# time_period_name"
   ]
  },
  {
   "cell_type": "code",
   "execution_count": null,
   "id": "48548f56-978d-48fc-9392-d63a47ac3e49",
   "metadata": {},
   "outputs": [],
   "source": [
    "true_densities_0206_df = pd.DataFrame(zip(time_period_name, block_0206_tassel_count_alt), columns = ['Time', \"True_density\"]) "
   ]
  },
  {
   "cell_type": "code",
   "execution_count": null,
   "id": "5042009e-8386-41d1-bfe1-ea5ac4983482",
   "metadata": {},
   "outputs": [],
   "source": [
    "true_densities_0206_df.head()"
   ]
  },
  {
   "cell_type": "code",
   "execution_count": null,
   "id": "4db9937a-7554-48c1-98a4-9000e7074678",
   "metadata": {},
   "outputs": [],
   "source": [
    "true_densities_0206_df.to_csv(\"data/test_block_true_counts/block_0206_true_counts.csv\", index = False)"
   ]
  },
  {
   "cell_type": "code",
   "execution_count": null,
   "id": "bcbc998b-efa5-4c32-85ed-dd06a3ff7759",
   "metadata": {},
   "outputs": [],
   "source": [
    "# What other sanity checks can we perform to ensure the subwindowing is right?"
   ]
  },
  {
   "cell_type": "code",
   "execution_count": null,
   "id": "2cf36ef6-5b79-4b2c-9c1f-83fa314bbee5",
   "metadata": {},
   "outputs": [],
   "source": [
    "# We have verified all written codes previously, so let's only verify that the stacking is indeed right"
   ]
  },
  {
   "cell_type": "code",
   "execution_count": null,
   "id": "882916dc-b20e-4a03-9c15-c8a3ddac8ea2",
   "metadata": {},
   "outputs": [],
   "source": [
    "block_0206_all_density_stack.shape"
   ]
  },
  {
   "cell_type": "code",
   "execution_count": null,
   "id": "302e39be-8f67-47c7-90c8-d707160fabf4",
   "metadata": {},
   "outputs": [],
   "source": [
    "len(block_0206_density_list)"
   ]
  },
  {
   "cell_type": "code",
   "execution_count": null,
   "id": "b3ac3c12-5832-4b52-9c57-db284de7bd3f",
   "metadata": {},
   "outputs": [],
   "source": [
    "%%time\n",
    "for i in range(len(block_0206_density_list)):\n",
    "    print(np.mean(block_0206_density_list[i] == block_0206_all_density_stack[:, i, :]))   "
   ]
  },
  {
   "cell_type": "code",
   "execution_count": null,
   "id": "9f62969f-288d-43e2-9da2-c39a2fa1acb4",
   "metadata": {},
   "outputs": [],
   "source": [
    "# Stacking is corretly dine"
   ]
  },
  {
   "cell_type": "code",
   "execution_count": null,
   "id": "b5fcb846-b064-4194-aba6-f5907d851f0f",
   "metadata": {},
   "outputs": [],
   "source": [
    "# save the final stack as an np array?"
   ]
  },
  {
   "cell_type": "code",
   "execution_count": null,
   "id": "54bb9ca9-7e42-43fa-aae8-3a891d2d4c2f",
   "metadata": {},
   "outputs": [],
   "source": [
    "block_0206_all_density_stack.shape"
   ]
  },
  {
   "cell_type": "code",
   "execution_count": null,
   "id": "7f248ed1-af3d-4b20-9141-6fc1e9df503b",
   "metadata": {},
   "outputs": [],
   "source": [
    "np.save(\"data/densities_overlapping/all_densities_block_0206.npy\", block_0206_all_density_stack)"
   ]
  },
  {
   "cell_type": "code",
   "execution_count": null,
   "id": "9166d570-398f-4583-a4e4-f8ce4027b893",
   "metadata": {},
   "outputs": [],
   "source": [
    "# sanity check\n",
    "loaded_density_blk_0206 = np.load(\"data/densities_overlapping/all_densities_block_0206.npy\")"
   ]
  },
  {
   "cell_type": "code",
   "execution_count": null,
   "id": "46f8bdaf-2018-4748-8ecb-241f87394dba",
   "metadata": {},
   "outputs": [],
   "source": [
    "np.mean(loaded_density_blk_0206 == block_0206_all_density_stack)"
   ]
  },
  {
   "cell_type": "code",
   "execution_count": null,
   "id": "f7904563-5b8c-4804-8259-930b240dcd57",
   "metadata": {},
   "outputs": [],
   "source": [
    "# Block 0302"
   ]
  },
  {
   "cell_type": "code",
   "execution_count": null,
   "id": "72f3f8b1-6c52-4861-a649-8c9428535a32",
   "metadata": {},
   "outputs": [],
   "source": [
    "block_0302 = '../../../Spring_2024/S_lab_TasselNet/Block_14_TN/Block_14_images_and_xml'"
   ]
  },
  {
   "cell_type": "code",
   "execution_count": null,
   "id": "a18726e0-8ba6-416a-b8d7-d8e589d3e47d",
   "metadata": {},
   "outputs": [],
   "source": [
    "# get im and xml files\n",
    "block_0302_target_ims, block_0302_target_xmls, block_0302_mean = chose_xml_and_jpeg(block_0302)"
   ]
  },
  {
   "cell_type": "code",
   "execution_count": null,
   "id": "ca72809c-c21f-4d1a-a51d-0084c4deae68",
   "metadata": {},
   "outputs": [],
   "source": [
    "block_0302_target_ims"
   ]
  },
  {
   "cell_type": "code",
   "execution_count": null,
   "id": "54624f50-a64e-4568-b088-8b6c25b29b95",
   "metadata": {},
   "outputs": [],
   "source": [
    "block_0302_target_xmls"
   ]
  },
  {
   "cell_type": "code",
   "execution_count": null,
   "id": "9b256d0a-1adf-45d4-acab-3aac0765a0f0",
   "metadata": {},
   "outputs": [],
   "source": [
    "block_0302_mean"
   ]
  },
  {
   "cell_type": "code",
   "execution_count": null,
   "id": "8d0ebbc3-c32e-46e2-bd70-2a32c0a5c943",
   "metadata": {},
   "outputs": [],
   "source": [
    "# just file names\n",
    "block_0302_file_names = [file.split(\".\")[0] for file in block_0302_target_ims]"
   ]
  },
  {
   "cell_type": "code",
   "execution_count": null,
   "id": "ace26b7c-565a-46fc-8042-ac6acd446352",
   "metadata": {},
   "outputs": [],
   "source": [
    "block_0302_file_names"
   ]
  },
  {
   "cell_type": "code",
   "execution_count": null,
   "id": "8ddf0f1a-e173-4396-8787-c240b32714a7",
   "metadata": {
    "scrolled": true
   },
   "outputs": [],
   "source": [
    "%%time\n",
    "# Get the density maps\n",
    "block_0302_names = []\n",
    "block_0302_im_shapes = []\n",
    "block_0302_tassel_count = []\n",
    "block_0302_tassel_count_alt = []\n",
    "# capture the density maps here\n",
    "block_0302_convs = []\n",
    "for file in block_0302_file_names:\n",
    "    name, shape, no_tassels, no_tassel_alt, conv = get_density_maps_horizontal(file, block_0302, block_0302)\n",
    "    block_0302_names.append(name)\n",
    "    block_0302_im_shapes.append(shape)\n",
    "    block_0302_tassel_count.append(no_tassels)\n",
    "    block_0302_tassel_count_alt.append(no_tassel_alt)\n",
    "    block_0302_convs.append(conv)"
   ]
  },
  {
   "cell_type": "code",
   "execution_count": null,
   "id": "acf90844-86d0-423c-89a4-b6e26a70db16",
   "metadata": {},
   "outputs": [],
   "source": [
    "block_0302_names"
   ]
  },
  {
   "cell_type": "code",
   "execution_count": null,
   "id": "96d5c22c-4f8d-478b-a088-c78378844793",
   "metadata": {},
   "outputs": [],
   "source": [
    "block_0302_im_shapes"
   ]
  },
  {
   "cell_type": "code",
   "execution_count": null,
   "id": "d90e9d8c-5e79-47bd-ba2f-dfab17b3ac06",
   "metadata": {},
   "outputs": [],
   "source": [
    "block_0302_tassel_count, block_0302_tassel_count_alt"
   ]
  },
  {
   "cell_type": "code",
   "execution_count": null,
   "id": "7b20ecf5-69a1-4b7d-aa2b-32fe9223eb55",
   "metadata": {},
   "outputs": [],
   "source": [
    "np.mean(np.round(block_0302_tassel_count, 0) == np.round(block_0302_tassel_count_alt, 0))"
   ]
  },
  {
   "cell_type": "code",
   "execution_count": null,
   "id": "e47ffeb2-4c56-4b22-a2c8-dce635246735",
   "metadata": {},
   "outputs": [],
   "source": [
    "# save these true counts in a df for future use"
   ]
  },
  {
   "cell_type": "code",
   "execution_count": null,
   "id": "2ae58820-9c47-4cd8-808f-e07d0afa5e37",
   "metadata": {},
   "outputs": [],
   "source": [
    "%%time\n",
    "# Get the stacks?\n",
    "block_0302_density_list = []\n",
    "for conv in block_0302_convs:\n",
    "    density_values = create_densities_for_subwindows(conv, 24, 300)\n",
    "    block_0302_density_list.append(density_values)"
   ]
  },
  {
   "cell_type": "code",
   "execution_count": null,
   "id": "36aac994-bc06-4f5e-b167-91e327f8e21b",
   "metadata": {},
   "outputs": [],
   "source": [
    "len(block_0302_density_list)"
   ]
  },
  {
   "cell_type": "code",
   "execution_count": null,
   "id": "01534dbd-fcd6-4210-b005-c3526a9f8ba6",
   "metadata": {},
   "outputs": [],
   "source": [
    "block_0302_density_list[0].shape"
   ]
  },
  {
   "cell_type": "code",
   "execution_count": null,
   "id": "85764ee3-ee3e-4cec-8da1-0a69efebec66",
   "metadata": {},
   "outputs": [],
   "source": [
    "# need to stack this list\n",
    "block_0302_all_density_stack = np.stack(block_0302_density_list, axis = 1)"
   ]
  },
  {
   "cell_type": "code",
   "execution_count": null,
   "id": "ba2b2a3e-e2f2-4dd2-beda-d219734f1963",
   "metadata": {},
   "outputs": [],
   "source": [
    "block_0302_all_density_stack.shape"
   ]
  },
  {
   "cell_type": "code",
   "execution_count": null,
   "id": "56321726-996c-42ec-a776-a265a52b84cb",
   "metadata": {},
   "outputs": [],
   "source": [
    "np.array(block_0302_tassel_count_alt)"
   ]
  },
  {
   "cell_type": "code",
   "execution_count": null,
   "id": "a4f2913d-f381-42d9-94d2-ec524fcdcc83",
   "metadata": {},
   "outputs": [],
   "source": [
    "np.sum(block_0302_all_density_stack, axis = 0).reshape(1,-1)"
   ]
  },
  {
   "cell_type": "code",
   "execution_count": null,
   "id": "ac91e013-c18b-4b03-960a-21693ece230e",
   "metadata": {},
   "outputs": [],
   "source": [
    "# Need to figure out a better sanity check"
   ]
  },
  {
   "cell_type": "code",
   "execution_count": null,
   "id": "191bb2d6-663c-498c-82e6-5d82c18fa529",
   "metadata": {},
   "outputs": [],
   "source": [
    "block_0302_convs[0].shape"
   ]
  },
  {
   "cell_type": "code",
   "execution_count": null,
   "id": "46ce6178-1ab8-4498-8a33-d29395262366",
   "metadata": {},
   "outputs": [],
   "source": [
    "all_subwindowed_densitities_im_1 = create_densities_for_subwindows(block_0302_convs[0], stride = 24, kernel_size = 300)"
   ]
  },
  {
   "cell_type": "code",
   "execution_count": null,
   "id": "4dcc135b-6059-4685-99e2-04720af515d6",
   "metadata": {},
   "outputs": [],
   "source": [
    "np.array(all_subwindowed_densitities_im_1).shape"
   ]
  },
  {
   "cell_type": "code",
   "execution_count": null,
   "id": "cf578d6d-0f71-4d79-a87c-915fcedb1cd2",
   "metadata": {},
   "outputs": [],
   "source": [
    "np.array(all_subwindowed_densitities_im_1).reshape(-1,1).shape"
   ]
  },
  {
   "cell_type": "code",
   "execution_count": null,
   "id": "604a7045-332e-404d-bc14-cf07eb8de176",
   "metadata": {},
   "outputs": [],
   "source": [
    "time_period_name = ['t_' + str(i) for i in range(1, len(block_0302_tassel_count_alt)+1)]\n",
    "# time_period_name"
   ]
  },
  {
   "cell_type": "code",
   "execution_count": null,
   "id": "07baa2ba-d864-43de-accc-ffbd235a13db",
   "metadata": {},
   "outputs": [],
   "source": [
    "true_densities_0302_df = pd.DataFrame(zip(time_period_name, block_0302_tassel_count_alt), columns = ['Time', \"True_density\"]) "
   ]
  },
  {
   "cell_type": "code",
   "execution_count": null,
   "id": "59c41e90-2563-4dfc-9812-dfefdafd21b8",
   "metadata": {},
   "outputs": [],
   "source": [
    "true_densities_0302_df.head()"
   ]
  },
  {
   "cell_type": "code",
   "execution_count": null,
   "id": "4c6c4a13-f16b-4d4b-bcfc-a754510b7b57",
   "metadata": {},
   "outputs": [],
   "source": [
    "true_densities_0302_df.to_csv(\"data/test_block_true_counts/block_0302_true_counts.csv\", index = False)"
   ]
  },
  {
   "cell_type": "code",
   "execution_count": null,
   "id": "3fe44218-2138-4d40-85f8-ab6c5089f0a4",
   "metadata": {},
   "outputs": [],
   "source": [
    "# What other sanity checks can we perform to ensure the subwindowing is right?"
   ]
  },
  {
   "cell_type": "code",
   "execution_count": null,
   "id": "7bc964e7-4067-4f75-99b9-46cd78b11cc2",
   "metadata": {},
   "outputs": [],
   "source": [
    "# We have verified all written codes previously, so let's only verify that the stacking is indeed right"
   ]
  },
  {
   "cell_type": "code",
   "execution_count": null,
   "id": "2ae5a0fb-77ad-46c5-a32d-9b709943006a",
   "metadata": {},
   "outputs": [],
   "source": [
    "block_0302_all_density_stack.shape"
   ]
  },
  {
   "cell_type": "code",
   "execution_count": null,
   "id": "a9015f15-cf05-4396-88e4-a7fecbce4210",
   "metadata": {},
   "outputs": [],
   "source": [
    "len(block_0302_density_list)"
   ]
  },
  {
   "cell_type": "code",
   "execution_count": null,
   "id": "1c418e22-9760-4b57-a9bb-387913ed14c5",
   "metadata": {},
   "outputs": [],
   "source": [
    "%%time\n",
    "for i in range(len(block_0302_density_list)):\n",
    "    print(np.mean(block_0302_density_list[i] == block_0302_all_density_stack[:, i, :]))   "
   ]
  },
  {
   "cell_type": "code",
   "execution_count": null,
   "id": "5bfbb8e9-ed26-4ebe-9158-d8f08e8941ea",
   "metadata": {},
   "outputs": [],
   "source": [
    "# Stacking is corretly dine"
   ]
  },
  {
   "cell_type": "code",
   "execution_count": null,
   "id": "038cb253-9f03-47e6-91c1-d4ec2f9255ae",
   "metadata": {},
   "outputs": [],
   "source": [
    "# save the final stack as an np array?"
   ]
  },
  {
   "cell_type": "code",
   "execution_count": null,
   "id": "7052995d-2169-4664-902f-ecbdb7d2f12d",
   "metadata": {},
   "outputs": [],
   "source": [
    "block_0302_all_density_stack.shape"
   ]
  },
  {
   "cell_type": "code",
   "execution_count": null,
   "id": "89e32dcf-75af-4c8c-ab32-56d8eb4231c3",
   "metadata": {},
   "outputs": [],
   "source": [
    "np.save(\"data/densities_overlapping/all_densities_block_0302.npy\", block_0302_all_density_stack)"
   ]
  },
  {
   "cell_type": "code",
   "execution_count": null,
   "id": "ef79034a-d3dc-47db-aa8f-409da5c60508",
   "metadata": {},
   "outputs": [],
   "source": [
    "# sanity check\n",
    "loaded_density_blk_0302 = np.load(\"data/densities_overlapping/all_densities_block_0302.npy\")"
   ]
  },
  {
   "cell_type": "code",
   "execution_count": null,
   "id": "e0ef99df-1e78-4f54-9fa5-4dd6d55d2243",
   "metadata": {},
   "outputs": [],
   "source": [
    "np.mean(loaded_density_blk_0302 == block_0302_all_density_stack)"
   ]
  },
  {
   "cell_type": "code",
   "execution_count": null,
   "id": "77ea56e1-c828-4fb5-9e8c-8a45a1a1181b",
   "metadata": {},
   "outputs": [],
   "source": [
    "# Block 0303"
   ]
  },
  {
   "cell_type": "code",
   "execution_count": null,
   "id": "fbf979a5-bb5a-43b1-bf4c-ab34664876ca",
   "metadata": {},
   "outputs": [],
   "source": [
    "block_0303 = '../../../Spring_2024/S_lab_TasselNet/Block_15_TN/Block_15_images_and_xml'"
   ]
  },
  {
   "cell_type": "code",
   "execution_count": null,
   "id": "dfc06809-bb71-428d-8f1e-0b4eabc329a8",
   "metadata": {},
   "outputs": [],
   "source": [
    "# get im and xml files\n",
    "block_0303_target_ims, block_0303_target_xmls, block_0303_mean = chose_xml_and_jpeg(block_0303)"
   ]
  },
  {
   "cell_type": "code",
   "execution_count": null,
   "id": "000d3679-3a12-4521-b3fd-bb156d3301e0",
   "metadata": {},
   "outputs": [],
   "source": [
    "block_0303_target_ims"
   ]
  },
  {
   "cell_type": "code",
   "execution_count": null,
   "id": "07ab9638-2829-42e4-8510-e8114573a9a5",
   "metadata": {},
   "outputs": [],
   "source": [
    "block_0303_target_xmls"
   ]
  },
  {
   "cell_type": "code",
   "execution_count": null,
   "id": "b9452b87-0a04-4318-b458-537b16a5ea13",
   "metadata": {},
   "outputs": [],
   "source": [
    "block_0303_mean"
   ]
  },
  {
   "cell_type": "code",
   "execution_count": null,
   "id": "4a82903d-42c8-46a5-886b-3ad378061e42",
   "metadata": {},
   "outputs": [],
   "source": [
    "# just file names\n",
    "block_0303_file_names = [file.split(\".\")[0] for file in block_0303_target_ims]"
   ]
  },
  {
   "cell_type": "code",
   "execution_count": null,
   "id": "541908aa-cbdf-4a74-bf1c-efe71da136cf",
   "metadata": {},
   "outputs": [],
   "source": [
    "block_0303_file_names"
   ]
  },
  {
   "cell_type": "code",
   "execution_count": null,
   "id": "d3829f09-cce1-4e98-ba94-96677b85c26b",
   "metadata": {
    "scrolled": true
   },
   "outputs": [],
   "source": [
    "%%time\n",
    "# Get the density maps\n",
    "block_0303_names = []\n",
    "block_0303_im_shapes = []\n",
    "block_0303_tassel_count = []\n",
    "block_0303_tassel_count_alt = []\n",
    "# capture the density maps here\n",
    "block_0303_convs = []\n",
    "for file in block_0303_file_names:\n",
    "    name, shape, no_tassels, no_tassel_alt, conv = get_density_maps_horizontal(file, block_0303, block_0303)\n",
    "    block_0303_names.append(name)\n",
    "    block_0303_im_shapes.append(shape)\n",
    "    block_0303_tassel_count.append(no_tassels)\n",
    "    block_0303_tassel_count_alt.append(no_tassel_alt)\n",
    "    block_0303_convs.append(conv)"
   ]
  },
  {
   "cell_type": "code",
   "execution_count": null,
   "id": "ee1db3d1-ed11-46ff-b9a1-8c7a4c175c52",
   "metadata": {},
   "outputs": [],
   "source": [
    "block_0303_names"
   ]
  },
  {
   "cell_type": "code",
   "execution_count": null,
   "id": "06400cc7-d57f-4820-898f-99814404d11d",
   "metadata": {},
   "outputs": [],
   "source": [
    "block_0303_im_shapes"
   ]
  },
  {
   "cell_type": "code",
   "execution_count": null,
   "id": "38c4a911-4c9d-4d7b-afa6-2db36cfed25e",
   "metadata": {},
   "outputs": [],
   "source": [
    "block_0303_tassel_count, block_0303_tassel_count_alt"
   ]
  },
  {
   "cell_type": "code",
   "execution_count": null,
   "id": "5491213b-b7cf-4056-a0ea-07bede729431",
   "metadata": {},
   "outputs": [],
   "source": [
    "np.mean(np.round(block_0303_tassel_count, 0) == np.round(block_0303_tassel_count_alt, 0))"
   ]
  },
  {
   "cell_type": "code",
   "execution_count": null,
   "id": "e976dcc4-3b87-4ac0-9467-0eda564ec40f",
   "metadata": {},
   "outputs": [],
   "source": [
    "# save these true counts in a df for future use"
   ]
  },
  {
   "cell_type": "code",
   "execution_count": null,
   "id": "1d6cf295-16ae-4fd9-a4ec-a884ee5d67eb",
   "metadata": {},
   "outputs": [],
   "source": [
    "%%time\n",
    "# Get the stacks?\n",
    "block_0303_density_list = []\n",
    "for conv in block_0303_convs:\n",
    "    density_values = create_densities_for_subwindows(conv, 24, 300)\n",
    "    block_0303_density_list.append(density_values)"
   ]
  },
  {
   "cell_type": "code",
   "execution_count": null,
   "id": "83a499ec-6b0b-4336-8733-e05a15d69c91",
   "metadata": {},
   "outputs": [],
   "source": [
    "len(block_0303_density_list)"
   ]
  },
  {
   "cell_type": "code",
   "execution_count": null,
   "id": "727c9126-5c2f-43bd-b4ad-7d311452e87c",
   "metadata": {},
   "outputs": [],
   "source": [
    "block_0303_density_list[0].shape"
   ]
  },
  {
   "cell_type": "code",
   "execution_count": null,
   "id": "18ca8336-0f0d-4781-98c0-a2ce35e2f133",
   "metadata": {},
   "outputs": [],
   "source": [
    "# need to stack this list\n",
    "block_0303_all_density_stack = np.stack(block_0303_density_list, axis = 1)"
   ]
  },
  {
   "cell_type": "code",
   "execution_count": null,
   "id": "ca741bba-dca9-484e-91f8-325382ce5ced",
   "metadata": {},
   "outputs": [],
   "source": [
    "block_0303_all_density_stack.shape"
   ]
  },
  {
   "cell_type": "code",
   "execution_count": null,
   "id": "b2c16422-8cf0-4ecc-ad9b-11860a249d7b",
   "metadata": {},
   "outputs": [],
   "source": [
    "np.array(block_0303_tassel_count_alt)"
   ]
  },
  {
   "cell_type": "code",
   "execution_count": null,
   "id": "14d359f0-9508-46a7-b367-1ecea513ba5c",
   "metadata": {},
   "outputs": [],
   "source": [
    "np.sum(block_0303_all_density_stack, axis = 0).reshape(1,-1)"
   ]
  },
  {
   "cell_type": "code",
   "execution_count": null,
   "id": "70bc82dd-139d-4a20-86b5-b7fb3e2af7e9",
   "metadata": {},
   "outputs": [],
   "source": [
    "# Need to figure out a better sanity check"
   ]
  },
  {
   "cell_type": "code",
   "execution_count": null,
   "id": "b03e70ef-a15c-459c-b27d-9e460c1bc238",
   "metadata": {},
   "outputs": [],
   "source": [
    "block_0303_convs[0].shape"
   ]
  },
  {
   "cell_type": "code",
   "execution_count": null,
   "id": "db4b9c52-e6ef-45bb-9f22-b96bcfb36d1e",
   "metadata": {},
   "outputs": [],
   "source": [
    "all_subwindowed_densitities_im_1 = create_densities_for_subwindows(block_0303_convs[0], stride = 24, kernel_size = 300)"
   ]
  },
  {
   "cell_type": "code",
   "execution_count": null,
   "id": "ee179e29-1d3d-4720-9fc9-d6e6db40f59d",
   "metadata": {},
   "outputs": [],
   "source": [
    "np.array(all_subwindowed_densitities_im_1).shape"
   ]
  },
  {
   "cell_type": "code",
   "execution_count": null,
   "id": "af48dc58-9ad2-4a22-ace3-cc760bffa456",
   "metadata": {},
   "outputs": [],
   "source": [
    "np.array(all_subwindowed_densitities_im_1).reshape(-1,1).shape"
   ]
  },
  {
   "cell_type": "code",
   "execution_count": null,
   "id": "07f6af52-4c83-4b44-a1fe-f9b9889fcfcd",
   "metadata": {},
   "outputs": [],
   "source": [
    "time_period_name = ['t_' + str(i) for i in range(1, len(block_0303_tassel_count_alt)+1)]\n",
    "# time_period_name"
   ]
  },
  {
   "cell_type": "code",
   "execution_count": null,
   "id": "2b9d4a5e-568f-43e2-9b99-188ce1bdf90f",
   "metadata": {},
   "outputs": [],
   "source": [
    "true_densities_0303_df = pd.DataFrame(zip(time_period_name, block_0303_tassel_count_alt), columns = ['Time', \"True_density\"]) "
   ]
  },
  {
   "cell_type": "code",
   "execution_count": null,
   "id": "ca70c647-fa84-4904-aac8-c29ae3c9945e",
   "metadata": {},
   "outputs": [],
   "source": [
    "true_densities_0303_df.head()"
   ]
  },
  {
   "cell_type": "code",
   "execution_count": null,
   "id": "0453b680-931f-41b5-96d2-cd9fec314c4c",
   "metadata": {},
   "outputs": [],
   "source": [
    "true_densities_0303_df.to_csv(\"data/test_block_true_counts/block_0303_true_counts.csv\", index = False)"
   ]
  },
  {
   "cell_type": "code",
   "execution_count": null,
   "id": "1a4d0cb5-408e-4a85-bc96-3920fad0206b",
   "metadata": {},
   "outputs": [],
   "source": [
    "# What other sanity checks can we perform to ensure the subwindowing is right?"
   ]
  },
  {
   "cell_type": "code",
   "execution_count": null,
   "id": "306fc876-a60c-417b-a15b-e06b049db1a1",
   "metadata": {},
   "outputs": [],
   "source": [
    "# We have verified all written codes previously, so let's only verify that the stacking is indeed right"
   ]
  },
  {
   "cell_type": "code",
   "execution_count": null,
   "id": "5ba7f270-8933-43c2-a4de-3ccb4d67e5b7",
   "metadata": {},
   "outputs": [],
   "source": [
    "block_0303_all_density_stack.shape"
   ]
  },
  {
   "cell_type": "code",
   "execution_count": null,
   "id": "00d0eba2-9fb5-415a-a91a-0b14b22a4766",
   "metadata": {},
   "outputs": [],
   "source": [
    "len(block_0303_density_list)"
   ]
  },
  {
   "cell_type": "code",
   "execution_count": null,
   "id": "2e2e44a5-0cd6-41a2-ac33-47d174a697cc",
   "metadata": {},
   "outputs": [],
   "source": [
    "%%time\n",
    "for i in range(len(block_0303_density_list)):\n",
    "    print(np.mean(block_0303_density_list[i] == block_0303_all_density_stack[:, i, :]))   "
   ]
  },
  {
   "cell_type": "code",
   "execution_count": null,
   "id": "a543ca1a-27ac-4aa8-8a53-095d9b1db105",
   "metadata": {},
   "outputs": [],
   "source": [
    "# Stacking is corretly dine"
   ]
  },
  {
   "cell_type": "code",
   "execution_count": null,
   "id": "3ee25bf1-abcb-4504-a7da-18276448be2b",
   "metadata": {},
   "outputs": [],
   "source": [
    "# save the final stack as an np array?"
   ]
  },
  {
   "cell_type": "code",
   "execution_count": null,
   "id": "4fa5a5a5-6520-4641-946f-04c5e0e4877e",
   "metadata": {},
   "outputs": [],
   "source": [
    "block_0303_all_density_stack.shape"
   ]
  },
  {
   "cell_type": "code",
   "execution_count": null,
   "id": "84d017d6-560e-4d8e-b036-bd5381943ceb",
   "metadata": {},
   "outputs": [],
   "source": [
    "np.save(\"data/densities_overlapping/all_densities_block_0303.npy\", block_0303_all_density_stack)"
   ]
  },
  {
   "cell_type": "code",
   "execution_count": null,
   "id": "a2ebf8a4-faa5-4934-afd0-1b61ca25d6ab",
   "metadata": {},
   "outputs": [],
   "source": [
    "# sanity check\n",
    "loaded_density_blk_0303 = np.load(\"data/densities_overlapping/all_densities_block_0303.npy\")"
   ]
  },
  {
   "cell_type": "code",
   "execution_count": null,
   "id": "30c68380-4675-4001-a87c-fc8e1a9ee496",
   "metadata": {},
   "outputs": [],
   "source": [
    "np.mean(loaded_density_blk_0303 == block_0303_all_density_stack)"
   ]
  },
  {
   "cell_type": "code",
   "execution_count": null,
   "id": "20328c35-2bd2-4461-92ce-76666c815882",
   "metadata": {},
   "outputs": [],
   "source": [
    "# Block 0304"
   ]
  },
  {
   "cell_type": "code",
   "execution_count": null,
   "id": "3247043f-8da0-40e6-a1c7-f7d35109f238",
   "metadata": {},
   "outputs": [],
   "source": [
    "block_0304 = '../../../Spring_2024/S_lab_TasselNet/Block_16_TN/Block_16_images_and_xml'"
   ]
  },
  {
   "cell_type": "code",
   "execution_count": null,
   "id": "9f79bbab-8fb0-4cea-b225-83c98cebf5a4",
   "metadata": {},
   "outputs": [],
   "source": [
    "# get im and xml files\n",
    "block_0304_target_ims, block_0304_target_xmls, block_0304_mean = chose_xml_and_jpeg(block_0304)"
   ]
  },
  {
   "cell_type": "code",
   "execution_count": null,
   "id": "cbee33cf-58a4-4285-81e8-a36e49a25b84",
   "metadata": {},
   "outputs": [],
   "source": [
    "block_0304_target_ims"
   ]
  },
  {
   "cell_type": "code",
   "execution_count": null,
   "id": "93751d7d-b659-42b2-93f4-5b23c8bfb90e",
   "metadata": {},
   "outputs": [],
   "source": [
    "block_0304_target_xmls"
   ]
  },
  {
   "cell_type": "code",
   "execution_count": null,
   "id": "8028165a-2514-47bb-a2dc-7f66a764c15d",
   "metadata": {},
   "outputs": [],
   "source": [
    "block_0304_mean"
   ]
  },
  {
   "cell_type": "code",
   "execution_count": null,
   "id": "84c7302a-bee8-4382-8d02-644b56fbcfaa",
   "metadata": {},
   "outputs": [],
   "source": [
    "# just file names\n",
    "block_0304_file_names = [file.split(\".\")[0] for file in block_0304_target_ims]"
   ]
  },
  {
   "cell_type": "code",
   "execution_count": null,
   "id": "5e9ecc9f-bf19-460e-a8fe-19ae8c122ab3",
   "metadata": {},
   "outputs": [],
   "source": [
    "block_0304_file_names"
   ]
  },
  {
   "cell_type": "code",
   "execution_count": null,
   "id": "ad64360e-c2cf-4104-8729-4551fb328795",
   "metadata": {
    "scrolled": true
   },
   "outputs": [],
   "source": [
    "%%time\n",
    "# Get the density maps\n",
    "block_0304_names = []\n",
    "block_0304_im_shapes = []\n",
    "block_0304_tassel_count = []\n",
    "block_0304_tassel_count_alt = []\n",
    "# capture the density maps here\n",
    "block_0304_convs = []\n",
    "for file in block_0304_file_names:\n",
    "    name, shape, no_tassels, no_tassel_alt, conv = get_density_maps_horizontal(file, block_0304, block_0304)\n",
    "    block_0304_names.append(name)\n",
    "    block_0304_im_shapes.append(shape)\n",
    "    block_0304_tassel_count.append(no_tassels)\n",
    "    block_0304_tassel_count_alt.append(no_tassel_alt)\n",
    "    block_0304_convs.append(conv)"
   ]
  },
  {
   "cell_type": "code",
   "execution_count": null,
   "id": "c053f899-5914-4db2-aeeb-9ac31e21b826",
   "metadata": {},
   "outputs": [],
   "source": [
    "block_0304_names"
   ]
  },
  {
   "cell_type": "code",
   "execution_count": null,
   "id": "1ba51ad4-6d28-4a93-b52c-5cafc6fb6f45",
   "metadata": {},
   "outputs": [],
   "source": [
    "block_0304_im_shapes"
   ]
  },
  {
   "cell_type": "code",
   "execution_count": null,
   "id": "e70ea1a2-4231-432c-9776-5d9b3fe29174",
   "metadata": {},
   "outputs": [],
   "source": [
    "block_0304_tassel_count, block_0304_tassel_count_alt"
   ]
  },
  {
   "cell_type": "code",
   "execution_count": null,
   "id": "797963f0-7148-48f7-a089-881c9a2ea61a",
   "metadata": {},
   "outputs": [],
   "source": [
    "np.mean(np.round(block_0304_tassel_count, 0) == np.round(block_0304_tassel_count_alt, 0))"
   ]
  },
  {
   "cell_type": "code",
   "execution_count": null,
   "id": "af027bd7-fdd3-4bf1-95df-d7f242f97c2f",
   "metadata": {},
   "outputs": [],
   "source": [
    "# save these true counts in a df for future use"
   ]
  },
  {
   "cell_type": "code",
   "execution_count": null,
   "id": "156dea41-d3de-43ac-a798-1e8872e6de20",
   "metadata": {},
   "outputs": [],
   "source": [
    "%%time\n",
    "# Get the stacks?\n",
    "block_0304_density_list = []\n",
    "for conv in block_0304_convs:\n",
    "    density_values = create_densities_for_subwindows(conv, 24, 300)\n",
    "    block_0304_density_list.append(density_values)"
   ]
  },
  {
   "cell_type": "code",
   "execution_count": null,
   "id": "90e576a4-7109-47a8-b21b-9375acccf3b6",
   "metadata": {},
   "outputs": [],
   "source": [
    "len(block_0304_density_list)"
   ]
  },
  {
   "cell_type": "code",
   "execution_count": null,
   "id": "388575b1-c815-4e97-9704-e6e895452562",
   "metadata": {},
   "outputs": [],
   "source": [
    "block_0304_density_list[0].shape"
   ]
  },
  {
   "cell_type": "code",
   "execution_count": null,
   "id": "19ab893c-05f6-4d51-a9c3-f6a07eb9cfee",
   "metadata": {},
   "outputs": [],
   "source": [
    "# need to stack this list\n",
    "block_0304_all_density_stack = np.stack(block_0304_density_list, axis = 1)"
   ]
  },
  {
   "cell_type": "code",
   "execution_count": null,
   "id": "9d1f5a11-9d15-4f92-830a-9e80b9752e2f",
   "metadata": {},
   "outputs": [],
   "source": [
    "block_0304_all_density_stack.shape"
   ]
  },
  {
   "cell_type": "code",
   "execution_count": null,
   "id": "04285257-29d9-43d0-a12d-cf04e1f2b88e",
   "metadata": {},
   "outputs": [],
   "source": [
    "np.array(block_0304_tassel_count_alt)"
   ]
  },
  {
   "cell_type": "code",
   "execution_count": null,
   "id": "79b70ace-314b-41e7-9bcd-4fb24586dc9e",
   "metadata": {},
   "outputs": [],
   "source": [
    "np.sum(block_0304_all_density_stack, axis = 0).reshape(1,-1)"
   ]
  },
  {
   "cell_type": "code",
   "execution_count": null,
   "id": "cf2ad559-4e33-45ca-90d9-02e46c80d34d",
   "metadata": {},
   "outputs": [],
   "source": [
    "# Need to figure out a better sanity check"
   ]
  },
  {
   "cell_type": "code",
   "execution_count": null,
   "id": "5957d6ba-ab13-4822-ba90-17e15c0cd1fb",
   "metadata": {},
   "outputs": [],
   "source": [
    "block_0304_convs[0].shape"
   ]
  },
  {
   "cell_type": "code",
   "execution_count": null,
   "id": "0d7d61e8-3704-4b2c-819d-fe04c1b837bb",
   "metadata": {},
   "outputs": [],
   "source": [
    "all_subwindowed_densitities_im_1 = create_densities_for_subwindows(block_0304_convs[0], stride = 24, kernel_size = 300)"
   ]
  },
  {
   "cell_type": "code",
   "execution_count": null,
   "id": "6c7d9bea-8935-4f1d-962d-23221564b469",
   "metadata": {},
   "outputs": [],
   "source": [
    "np.array(all_subwindowed_densitities_im_1).shape"
   ]
  },
  {
   "cell_type": "code",
   "execution_count": null,
   "id": "548d8177-39bf-4739-9f2b-eb684dd138dd",
   "metadata": {},
   "outputs": [],
   "source": [
    "np.array(all_subwindowed_densitities_im_1).reshape(-1,1).shape"
   ]
  },
  {
   "cell_type": "code",
   "execution_count": null,
   "id": "f4934e6e-d189-4cfb-9349-a135aad08b55",
   "metadata": {},
   "outputs": [],
   "source": [
    "time_period_name = ['t_' + str(i) for i in range(1, len(block_0304_tassel_count_alt)+1)]\n",
    "# time_period_name"
   ]
  },
  {
   "cell_type": "code",
   "execution_count": null,
   "id": "126e5053-6826-4fb0-bf88-17e7bf575789",
   "metadata": {},
   "outputs": [],
   "source": [
    "true_densities_0304_df = pd.DataFrame(zip(time_period_name, block_0304_tassel_count_alt), columns = ['Time', \"True_density\"]) "
   ]
  },
  {
   "cell_type": "code",
   "execution_count": null,
   "id": "f5b1567c-94c3-4005-a1b4-7b47753e8e2d",
   "metadata": {},
   "outputs": [],
   "source": [
    "true_densities_0304_df.head()"
   ]
  },
  {
   "cell_type": "code",
   "execution_count": null,
   "id": "308802ad-4684-4a33-b82d-a25d9a464e06",
   "metadata": {},
   "outputs": [],
   "source": [
    "true_densities_0304_df.to_csv(\"data/test_block_true_counts/block_0304_true_counts.csv\", index = False)"
   ]
  },
  {
   "cell_type": "code",
   "execution_count": null,
   "id": "440c9c21-721a-4dba-aebd-b583d2e8525b",
   "metadata": {},
   "outputs": [],
   "source": [
    "# What other sanity checks can we perform to ensure the subwindowing is right?"
   ]
  },
  {
   "cell_type": "code",
   "execution_count": null,
   "id": "02e6c6af-b463-4f09-99f0-7eb7ed5d03ba",
   "metadata": {},
   "outputs": [],
   "source": [
    "# We have verified all written codes previously, so let's only verify that the stacking is indeed right"
   ]
  },
  {
   "cell_type": "code",
   "execution_count": null,
   "id": "21cf896c-ae31-456c-bbe8-2d88b8b4355e",
   "metadata": {},
   "outputs": [],
   "source": [
    "block_0304_all_density_stack.shape"
   ]
  },
  {
   "cell_type": "code",
   "execution_count": null,
   "id": "640d8fec-eafd-4463-865e-eb54813b55ad",
   "metadata": {},
   "outputs": [],
   "source": [
    "len(block_0304_density_list)"
   ]
  },
  {
   "cell_type": "code",
   "execution_count": null,
   "id": "dab8b146-797d-4514-aa87-d181b32fe628",
   "metadata": {},
   "outputs": [],
   "source": [
    "%%time\n",
    "for i in range(len(block_0304_density_list)):\n",
    "    print(np.mean(block_0304_density_list[i] == block_0304_all_density_stack[:, i, :]))   "
   ]
  },
  {
   "cell_type": "code",
   "execution_count": null,
   "id": "5a6ecb8e-1c9f-408c-bbb0-2dfde9606698",
   "metadata": {},
   "outputs": [],
   "source": [
    "# Stacking is corretly dine"
   ]
  },
  {
   "cell_type": "code",
   "execution_count": null,
   "id": "6186fd9b-6785-4298-9b88-d324bc4e5584",
   "metadata": {},
   "outputs": [],
   "source": [
    "# save the final stack as an np array?"
   ]
  },
  {
   "cell_type": "code",
   "execution_count": null,
   "id": "d0fe03d6-907c-4cf1-a4f9-2fedce5c65df",
   "metadata": {},
   "outputs": [],
   "source": [
    "block_0304_all_density_stack.shape"
   ]
  },
  {
   "cell_type": "code",
   "execution_count": null,
   "id": "fe12af19-d1d4-45f3-abb2-8f099da21653",
   "metadata": {},
   "outputs": [],
   "source": [
    "np.save(\"data/densities_overlapping/all_densities_block_0304.npy\", block_0304_all_density_stack)"
   ]
  },
  {
   "cell_type": "code",
   "execution_count": null,
   "id": "255d700b-50b0-4a07-b40d-63ecf461e080",
   "metadata": {},
   "outputs": [],
   "source": [
    "# sanity check\n",
    "loaded_density_blk_0304 = np.load(\"data/densities_overlapping/all_densities_block_0304.npy\")"
   ]
  },
  {
   "cell_type": "code",
   "execution_count": null,
   "id": "fa3ccb34-e417-41cf-ad81-cd7424c59f64",
   "metadata": {},
   "outputs": [],
   "source": [
    "np.mean(loaded_density_blk_0304 == block_0304_all_density_stack)"
   ]
  },
  {
   "cell_type": "code",
   "execution_count": null,
   "id": "99a93de4-d376-41dc-afca-8625e443e011",
   "metadata": {},
   "outputs": [],
   "source": [
    "# Block 0305"
   ]
  },
  {
   "cell_type": "code",
   "execution_count": null,
   "id": "faa0049e-ce33-4fff-987a-7185858bf596",
   "metadata": {},
   "outputs": [],
   "source": [
    "block_0305 = '../../../Spring_2024/S_lab_TasselNet/Block_17_TN/Block_17_images_and_xml'"
   ]
  },
  {
   "cell_type": "code",
   "execution_count": null,
   "id": "b7f92c27-cef7-4790-8876-d16a0791c498",
   "metadata": {},
   "outputs": [],
   "source": [
    "# get im and xml files\n",
    "block_0305_target_ims, block_0305_target_xmls, block_0305_mean = chose_xml_and_jpeg(block_0305)"
   ]
  },
  {
   "cell_type": "code",
   "execution_count": null,
   "id": "b358574d-0c67-45b2-8256-7ae8568aab78",
   "metadata": {},
   "outputs": [],
   "source": [
    "block_0305_target_ims"
   ]
  },
  {
   "cell_type": "code",
   "execution_count": null,
   "id": "8379c574-eb7b-472b-891b-0b72e3df0ed3",
   "metadata": {},
   "outputs": [],
   "source": [
    "block_0305_target_xmls"
   ]
  },
  {
   "cell_type": "code",
   "execution_count": null,
   "id": "07a25432-59f6-49d5-b563-48a6d2d9499b",
   "metadata": {},
   "outputs": [],
   "source": [
    "block_0305_mean"
   ]
  },
  {
   "cell_type": "code",
   "execution_count": null,
   "id": "8d9303d4-8970-447b-9b4e-c7021683ce6f",
   "metadata": {},
   "outputs": [],
   "source": [
    "# just file names\n",
    "block_0305_file_names = [file.split(\".\")[0] for file in block_0305_target_ims]"
   ]
  },
  {
   "cell_type": "code",
   "execution_count": null,
   "id": "7a1359c8-6df6-4ffc-9f68-beecd710b48b",
   "metadata": {},
   "outputs": [],
   "source": [
    "block_0305_file_names"
   ]
  },
  {
   "cell_type": "code",
   "execution_count": null,
   "id": "ed29134e-1a37-48f2-b754-73c2a648c824",
   "metadata": {
    "scrolled": true
   },
   "outputs": [],
   "source": [
    "%%time\n",
    "# Get the density maps\n",
    "block_0305_names = []\n",
    "block_0305_im_shapes = []\n",
    "block_0305_tassel_count = []\n",
    "block_0305_tassel_count_alt = []\n",
    "# capture the density maps here\n",
    "block_0305_convs = []\n",
    "for file in block_0305_file_names:\n",
    "    name, shape, no_tassels, no_tassel_alt, conv = get_density_maps_horizontal(file, block_0305, block_0305)\n",
    "    block_0305_names.append(name)\n",
    "    block_0305_im_shapes.append(shape)\n",
    "    block_0305_tassel_count.append(no_tassels)\n",
    "    block_0305_tassel_count_alt.append(no_tassel_alt)\n",
    "    block_0305_convs.append(conv)"
   ]
  },
  {
   "cell_type": "code",
   "execution_count": null,
   "id": "5eb14fbc-6a6b-4813-87f4-d2e1964fb538",
   "metadata": {},
   "outputs": [],
   "source": [
    "block_0305_names"
   ]
  },
  {
   "cell_type": "code",
   "execution_count": null,
   "id": "38ffc171-6222-47c5-952b-a53d15e48d80",
   "metadata": {},
   "outputs": [],
   "source": [
    "block_0305_im_shapes"
   ]
  },
  {
   "cell_type": "code",
   "execution_count": null,
   "id": "d9521f3c-0509-4061-b911-7c947a25629c",
   "metadata": {},
   "outputs": [],
   "source": [
    "block_0305_tassel_count, block_0305_tassel_count_alt"
   ]
  },
  {
   "cell_type": "code",
   "execution_count": null,
   "id": "4ca79509-74a2-4400-a560-97e25238a374",
   "metadata": {},
   "outputs": [],
   "source": [
    "np.mean(np.round(block_0305_tassel_count, 0) == np.round(block_0305_tassel_count_alt, 0))"
   ]
  },
  {
   "cell_type": "code",
   "execution_count": null,
   "id": "ffce8183-cc8d-4bca-a806-9e60e0d581d0",
   "metadata": {},
   "outputs": [],
   "source": [
    "# save these true counts in a df for future use"
   ]
  },
  {
   "cell_type": "code",
   "execution_count": null,
   "id": "8a1a767a-1554-4690-9861-f74e906decc8",
   "metadata": {},
   "outputs": [],
   "source": [
    "%%time\n",
    "# Get the stacks?\n",
    "block_0305_density_list = []\n",
    "for conv in block_0305_convs:\n",
    "    density_values = create_densities_for_subwindows(conv, 24, 300)\n",
    "    block_0305_density_list.append(density_values)"
   ]
  },
  {
   "cell_type": "code",
   "execution_count": null,
   "id": "4d9d556c-1037-4c89-a180-0da85632ac11",
   "metadata": {},
   "outputs": [],
   "source": [
    "len(block_0305_density_list)"
   ]
  },
  {
   "cell_type": "code",
   "execution_count": null,
   "id": "138dd99b-f457-46a4-9ed5-3ff152b84a20",
   "metadata": {},
   "outputs": [],
   "source": [
    "block_0305_density_list[0].shape"
   ]
  },
  {
   "cell_type": "code",
   "execution_count": null,
   "id": "333979a6-74e9-4a8e-8aa6-029c4232f571",
   "metadata": {},
   "outputs": [],
   "source": [
    "# need to stack this list\n",
    "block_0305_all_density_stack = np.stack(block_0305_density_list, axis = 1)"
   ]
  },
  {
   "cell_type": "code",
   "execution_count": null,
   "id": "da606d9a-f7db-4a46-870b-afa37a58ddb6",
   "metadata": {},
   "outputs": [],
   "source": [
    "block_0305_all_density_stack.shape"
   ]
  },
  {
   "cell_type": "code",
   "execution_count": null,
   "id": "68369a4f-6c0a-4db6-ba8a-6081d6e12773",
   "metadata": {},
   "outputs": [],
   "source": [
    "np.array(block_0305_tassel_count_alt)"
   ]
  },
  {
   "cell_type": "code",
   "execution_count": null,
   "id": "558487ac-4ebe-4051-a288-242fcb3c4970",
   "metadata": {},
   "outputs": [],
   "source": [
    "np.sum(block_0305_all_density_stack, axis = 0).reshape(1,-1)"
   ]
  },
  {
   "cell_type": "code",
   "execution_count": null,
   "id": "54276a74-60b3-4305-8376-d205d9905a46",
   "metadata": {},
   "outputs": [],
   "source": [
    "# Need to figure out a better sanity check"
   ]
  },
  {
   "cell_type": "code",
   "execution_count": null,
   "id": "35ee19e5-a7a7-415a-ac03-4ec4f49721da",
   "metadata": {},
   "outputs": [],
   "source": [
    "block_0305_convs[0].shape"
   ]
  },
  {
   "cell_type": "code",
   "execution_count": null,
   "id": "b2380804-ecf6-4a8c-860d-cf28c3d27642",
   "metadata": {},
   "outputs": [],
   "source": [
    "all_subwindowed_densitities_im_1 = create_densities_for_subwindows(block_0305_convs[0], stride = 24, kernel_size = 300)"
   ]
  },
  {
   "cell_type": "code",
   "execution_count": null,
   "id": "5509a059-4320-4f57-aeb9-db0220f27728",
   "metadata": {},
   "outputs": [],
   "source": [
    "np.array(all_subwindowed_densitities_im_1).shape"
   ]
  },
  {
   "cell_type": "code",
   "execution_count": null,
   "id": "050d93f3-b1a0-4bf3-a8f0-35ae4bfe8d20",
   "metadata": {},
   "outputs": [],
   "source": [
    "np.array(all_subwindowed_densitities_im_1).reshape(-1,1).shape"
   ]
  },
  {
   "cell_type": "code",
   "execution_count": null,
   "id": "4533b14e-e7dc-44af-a344-618707fbc66b",
   "metadata": {},
   "outputs": [],
   "source": [
    "time_period_name = ['t_' + str(i) for i in range(1, len(block_0305_tassel_count_alt)+1)]\n",
    "# time_period_name"
   ]
  },
  {
   "cell_type": "code",
   "execution_count": null,
   "id": "72b5bd70-7552-417d-b241-c6a271525549",
   "metadata": {},
   "outputs": [],
   "source": [
    "true_densities_0305_df = pd.DataFrame(zip(time_period_name, block_0305_tassel_count_alt), columns = ['Time', \"True_density\"]) "
   ]
  },
  {
   "cell_type": "code",
   "execution_count": null,
   "id": "389d8bde-8994-4588-97f0-fe8d68dba043",
   "metadata": {},
   "outputs": [],
   "source": [
    "true_densities_0305_df.head()"
   ]
  },
  {
   "cell_type": "code",
   "execution_count": null,
   "id": "c262b952-efdd-499e-a184-4f86e2f59b43",
   "metadata": {},
   "outputs": [],
   "source": [
    "true_densities_0305_df.to_csv(\"data/test_block_true_counts/block_0305_true_counts.csv\", index = False)"
   ]
  },
  {
   "cell_type": "code",
   "execution_count": null,
   "id": "cc93870e-3a21-46e2-8361-a393c0cfdf76",
   "metadata": {},
   "outputs": [],
   "source": [
    "# What other sanity checks can we perform to ensure the subwindowing is right?"
   ]
  },
  {
   "cell_type": "code",
   "execution_count": null,
   "id": "d3da90b2-a2f6-427e-86d3-6e851c80d54b",
   "metadata": {},
   "outputs": [],
   "source": [
    "# We have verified all written codes previously, so let's only verify that the stacking is indeed right"
   ]
  },
  {
   "cell_type": "code",
   "execution_count": null,
   "id": "317da035-de3b-495f-8809-1604e47b341d",
   "metadata": {},
   "outputs": [],
   "source": [
    "block_0305_all_density_stack.shape"
   ]
  },
  {
   "cell_type": "code",
   "execution_count": null,
   "id": "072b118a-64db-4207-b125-a5ad0918bec9",
   "metadata": {},
   "outputs": [],
   "source": [
    "len(block_0305_density_list)"
   ]
  },
  {
   "cell_type": "code",
   "execution_count": null,
   "id": "56e6234d-83d6-4b2c-a419-0e63419e130a",
   "metadata": {},
   "outputs": [],
   "source": [
    "%%time\n",
    "for i in range(len(block_0305_density_list)):\n",
    "    print(np.mean(block_0305_density_list[i] == block_0305_all_density_stack[:, i, :]))   "
   ]
  },
  {
   "cell_type": "code",
   "execution_count": null,
   "id": "ce3aa999-b0da-4dcc-9941-1d7ee15cfed2",
   "metadata": {},
   "outputs": [],
   "source": [
    "# Stacking is corretly dine"
   ]
  },
  {
   "cell_type": "code",
   "execution_count": null,
   "id": "737aedc4-9755-49b0-b3db-3d2736921412",
   "metadata": {},
   "outputs": [],
   "source": [
    "# save the final stack as an np array?"
   ]
  },
  {
   "cell_type": "code",
   "execution_count": null,
   "id": "c5e16ac5-bfb6-4bbc-8bbb-c7b78814b0bd",
   "metadata": {},
   "outputs": [],
   "source": [
    "block_0305_all_density_stack.shape"
   ]
  },
  {
   "cell_type": "code",
   "execution_count": null,
   "id": "e60fc389-f235-4447-be64-43c252cea7a4",
   "metadata": {},
   "outputs": [],
   "source": [
    "np.save(\"data/densities_overlapping/all_densities_block_0305.npy\", block_0305_all_density_stack)"
   ]
  },
  {
   "cell_type": "code",
   "execution_count": null,
   "id": "c09b5c0c-770d-413a-868d-c77da7cddc04",
   "metadata": {},
   "outputs": [],
   "source": [
    "# sanity check\n",
    "loaded_density_blk_0305 = np.load(\"data/densities_overlapping/all_densities_block_0305.npy\")"
   ]
  },
  {
   "cell_type": "code",
   "execution_count": null,
   "id": "24373e29-67fd-4cba-909d-fe94676c356f",
   "metadata": {},
   "outputs": [],
   "source": [
    "np.mean(loaded_density_blk_0305 == block_0305_all_density_stack)"
   ]
  },
  {
   "cell_type": "code",
   "execution_count": null,
   "id": "074de696-88f4-4079-8c3e-424b4ef98db8",
   "metadata": {},
   "outputs": [],
   "source": [
    "# Block 0306"
   ]
  },
  {
   "cell_type": "code",
   "execution_count": null,
   "id": "85ca9a19-96b4-40ee-b9cf-cd79e871d020",
   "metadata": {},
   "outputs": [],
   "source": [
    "block_0306 = '../../../Spring_2024/S_lab_TasselNet/Block_18_TN/Block_18_images_and_xml'"
   ]
  },
  {
   "cell_type": "code",
   "execution_count": null,
   "id": "1329cec0-e219-47bf-bb25-50eb41c7d02e",
   "metadata": {},
   "outputs": [],
   "source": [
    "# get im and xml files\n",
    "block_0306_target_ims, block_0306_target_xmls, block_0306_mean = chose_xml_and_jpeg(block_0306)"
   ]
  },
  {
   "cell_type": "code",
   "execution_count": null,
   "id": "35f132db-9067-4ff5-8e0a-250d8c11ddea",
   "metadata": {},
   "outputs": [],
   "source": [
    "block_0306_target_ims"
   ]
  },
  {
   "cell_type": "code",
   "execution_count": null,
   "id": "2aac48b7-3810-4d20-8e78-ce03a56bd70a",
   "metadata": {},
   "outputs": [],
   "source": [
    "block_0306_target_xmls"
   ]
  },
  {
   "cell_type": "code",
   "execution_count": null,
   "id": "30f34ded-2d02-46f0-a82b-54b7ae314718",
   "metadata": {},
   "outputs": [],
   "source": [
    "block_0306_mean"
   ]
  },
  {
   "cell_type": "code",
   "execution_count": null,
   "id": "7b5dbc7f-e63c-48a0-8192-0210b5242b7d",
   "metadata": {},
   "outputs": [],
   "source": [
    "# just file names\n",
    "block_0306_file_names = [file.split(\".\")[0] for file in block_0306_target_ims]"
   ]
  },
  {
   "cell_type": "code",
   "execution_count": null,
   "id": "cabe64a0-2dda-4bb2-b968-670ed76ff4e6",
   "metadata": {},
   "outputs": [],
   "source": [
    "block_0306_file_names"
   ]
  },
  {
   "cell_type": "code",
   "execution_count": null,
   "id": "bb5e4166-c087-48f5-9c1d-b2b6ffddb048",
   "metadata": {
    "scrolled": true
   },
   "outputs": [],
   "source": [
    "%%time\n",
    "# Get the density maps\n",
    "block_0306_names = []\n",
    "block_0306_im_shapes = []\n",
    "block_0306_tassel_count = []\n",
    "block_0306_tassel_count_alt = []\n",
    "# capture the density maps here\n",
    "block_0306_convs = []\n",
    "for file in block_0306_file_names:\n",
    "    name, shape, no_tassels, no_tassel_alt, conv = get_density_maps_horizontal(file, block_0306, block_0306)\n",
    "    block_0306_names.append(name)\n",
    "    block_0306_im_shapes.append(shape)\n",
    "    block_0306_tassel_count.append(no_tassels)\n",
    "    block_0306_tassel_count_alt.append(no_tassel_alt)\n",
    "    block_0306_convs.append(conv)"
   ]
  },
  {
   "cell_type": "code",
   "execution_count": null,
   "id": "6f160feb-38a4-4829-82c0-0b65ac41e194",
   "metadata": {},
   "outputs": [],
   "source": [
    "block_0306_names"
   ]
  },
  {
   "cell_type": "code",
   "execution_count": null,
   "id": "279bafd6-3e90-44f1-8428-0917e33de6d6",
   "metadata": {},
   "outputs": [],
   "source": [
    "block_0306_im_shapes"
   ]
  },
  {
   "cell_type": "code",
   "execution_count": null,
   "id": "a6ef2279-1778-4c78-8dfa-61ac03d2a932",
   "metadata": {},
   "outputs": [],
   "source": [
    "block_0306_tassel_count, block_0306_tassel_count_alt"
   ]
  },
  {
   "cell_type": "code",
   "execution_count": null,
   "id": "6c5b71d5-bb9b-48d3-8e44-a09e70a06901",
   "metadata": {},
   "outputs": [],
   "source": [
    "np.mean(np.round(block_0306_tassel_count, 0) == np.round(block_0306_tassel_count_alt, 0))"
   ]
  },
  {
   "cell_type": "code",
   "execution_count": null,
   "id": "b5573a5a-0511-4b3d-88b4-984539ac67f4",
   "metadata": {},
   "outputs": [],
   "source": [
    "# save these true counts in a df for future use"
   ]
  },
  {
   "cell_type": "code",
   "execution_count": null,
   "id": "0a34bfe3-579e-47cd-b575-f1f6d6ea6d5d",
   "metadata": {},
   "outputs": [],
   "source": [
    "%%time\n",
    "# Get the stacks?\n",
    "block_0306_density_list = []\n",
    "for conv in block_0306_convs:\n",
    "    density_values = create_densities_for_subwindows(conv, 24, 300)\n",
    "    block_0306_density_list.append(density_values)"
   ]
  },
  {
   "cell_type": "code",
   "execution_count": null,
   "id": "f35d31af-8a41-4e25-84f1-f368e03e3a3e",
   "metadata": {},
   "outputs": [],
   "source": [
    "len(block_0306_density_list)"
   ]
  },
  {
   "cell_type": "code",
   "execution_count": null,
   "id": "5e630c58-00d2-44e3-9de3-f1217e2ce7c8",
   "metadata": {},
   "outputs": [],
   "source": [
    "block_0306_density_list[0].shape"
   ]
  },
  {
   "cell_type": "code",
   "execution_count": null,
   "id": "7d4f6278-65be-4a3a-8c12-f1019c2e96d5",
   "metadata": {},
   "outputs": [],
   "source": [
    "# need to stack this list\n",
    "block_0306_all_density_stack = np.stack(block_0306_density_list, axis = 1)"
   ]
  },
  {
   "cell_type": "code",
   "execution_count": null,
   "id": "1cf23293-e4d8-4139-b6b1-d1399a88897a",
   "metadata": {},
   "outputs": [],
   "source": [
    "block_0306_all_density_stack.shape"
   ]
  },
  {
   "cell_type": "code",
   "execution_count": null,
   "id": "be39c635-8028-458d-b222-7c8d08d49684",
   "metadata": {},
   "outputs": [],
   "source": [
    "np.array(block_0306_tassel_count_alt)"
   ]
  },
  {
   "cell_type": "code",
   "execution_count": null,
   "id": "12ca503d-e035-4bf1-86fb-9bcf971897d4",
   "metadata": {},
   "outputs": [],
   "source": [
    "np.sum(block_0306_all_density_stack, axis = 0).reshape(1,-1)"
   ]
  },
  {
   "cell_type": "code",
   "execution_count": null,
   "id": "f4ed2d14-780e-4b10-9e8a-4c9ab6c245a3",
   "metadata": {},
   "outputs": [],
   "source": [
    "# Need to figure out a better sanity check"
   ]
  },
  {
   "cell_type": "code",
   "execution_count": null,
   "id": "5f324b51-6c11-4a54-a775-fe06fe42eaaa",
   "metadata": {},
   "outputs": [],
   "source": [
    "block_0306_convs[0].shape"
   ]
  },
  {
   "cell_type": "code",
   "execution_count": null,
   "id": "59d784fe-45fa-4dc5-a03e-4a8b95750493",
   "metadata": {},
   "outputs": [],
   "source": [
    "all_subwindowed_densitities_im_1 = create_densities_for_subwindows(block_0306_convs[0], stride = 24, kernel_size = 300)"
   ]
  },
  {
   "cell_type": "code",
   "execution_count": null,
   "id": "69bada11-7913-4861-a876-f3735ddd2a22",
   "metadata": {},
   "outputs": [],
   "source": [
    "np.array(all_subwindowed_densitities_im_1).shape"
   ]
  },
  {
   "cell_type": "code",
   "execution_count": null,
   "id": "d18de932-00d7-45b9-a785-3367651f16a1",
   "metadata": {},
   "outputs": [],
   "source": [
    "np.array(all_subwindowed_densitities_im_1).reshape(-1,1).shape"
   ]
  },
  {
   "cell_type": "code",
   "execution_count": null,
   "id": "7a8d7fe6-1c73-40b3-8c6f-eb424d2894dd",
   "metadata": {},
   "outputs": [],
   "source": [
    "time_period_name = ['t_' + str(i) for i in range(1, len(block_0306_tassel_count_alt)+1)]\n",
    "# time_period_name"
   ]
  },
  {
   "cell_type": "code",
   "execution_count": null,
   "id": "222de7ee-ad5c-4791-981e-fc7160b7e1e2",
   "metadata": {},
   "outputs": [],
   "source": [
    "true_densities_0306_df = pd.DataFrame(zip(time_period_name, block_0306_tassel_count_alt), columns = ['Time', \"True_density\"]) "
   ]
  },
  {
   "cell_type": "code",
   "execution_count": null,
   "id": "94850916-5a5a-40a4-985c-33686ec41c66",
   "metadata": {},
   "outputs": [],
   "source": [
    "true_densities_0306_df.head()"
   ]
  },
  {
   "cell_type": "code",
   "execution_count": null,
   "id": "8c547498-b7a3-48b1-8552-054d06ac7612",
   "metadata": {},
   "outputs": [],
   "source": [
    "true_densities_0306_df.to_csv(\"data/test_block_true_counts/block_0306_true_counts.csv\", index = False)"
   ]
  },
  {
   "cell_type": "code",
   "execution_count": null,
   "id": "ee3418cc-a04a-4d86-8902-00cf5843a54f",
   "metadata": {},
   "outputs": [],
   "source": [
    "# What other sanity checks can we perform to ensure the subwindowing is right?"
   ]
  },
  {
   "cell_type": "code",
   "execution_count": null,
   "id": "2fc1b131-1a11-49e8-b51e-3381eec5f56f",
   "metadata": {},
   "outputs": [],
   "source": [
    "# We have verified all written codes previously, so let's only verify that the stacking is indeed right"
   ]
  },
  {
   "cell_type": "code",
   "execution_count": null,
   "id": "89fac6c8-69b3-4116-88f2-c4390f522447",
   "metadata": {},
   "outputs": [],
   "source": [
    "block_0306_all_density_stack.shape"
   ]
  },
  {
   "cell_type": "code",
   "execution_count": null,
   "id": "dca9b6ac-911d-49b4-a75c-af6fef13a298",
   "metadata": {},
   "outputs": [],
   "source": [
    "len(block_0306_density_list)"
   ]
  },
  {
   "cell_type": "code",
   "execution_count": null,
   "id": "15cffebd-6f85-423e-a093-f2f5fb820fe9",
   "metadata": {},
   "outputs": [],
   "source": [
    "%%time\n",
    "for i in range(len(block_0306_density_list)):\n",
    "    print(np.mean(block_0306_density_list[i] == block_0306_all_density_stack[:, i, :]))   "
   ]
  },
  {
   "cell_type": "code",
   "execution_count": null,
   "id": "24ccd8ba-7d81-4dec-8ac2-f5a45eda9114",
   "metadata": {},
   "outputs": [],
   "source": [
    "# Stacking is corretly dine"
   ]
  },
  {
   "cell_type": "code",
   "execution_count": null,
   "id": "c3893c68-d8dd-4cf5-9133-d7eafd4846de",
   "metadata": {},
   "outputs": [],
   "source": [
    "# save the final stack as an np array?"
   ]
  },
  {
   "cell_type": "code",
   "execution_count": null,
   "id": "5aa33c56-9892-4c7d-b9ae-41dab46acfb2",
   "metadata": {},
   "outputs": [],
   "source": [
    "block_0306_all_density_stack.shape"
   ]
  },
  {
   "cell_type": "code",
   "execution_count": null,
   "id": "62f790ce-b174-4aa7-b1df-eb830b6b4f97",
   "metadata": {},
   "outputs": [],
   "source": [
    "np.save(\"data/densities_overlapping/all_densities_block_0306.npy\", block_0306_all_density_stack)"
   ]
  },
  {
   "cell_type": "code",
   "execution_count": null,
   "id": "ea1fc959-31b1-49da-b5a3-ca384053cd99",
   "metadata": {},
   "outputs": [],
   "source": [
    "# sanity check\n",
    "loaded_density_blk_0306 = np.load(\"data/densities_overlapping/all_densities_block_0306.npy\")"
   ]
  },
  {
   "cell_type": "code",
   "execution_count": null,
   "id": "774eeb0c-db75-47e1-bcaa-e79491b2994c",
   "metadata": {},
   "outputs": [],
   "source": [
    "np.mean(loaded_density_blk_0306 == block_0306_all_density_stack)"
   ]
  },
  {
   "cell_type": "code",
   "execution_count": null,
   "id": "8a1b49ac-8fcc-481d-9acf-19d993343d23",
   "metadata": {},
   "outputs": [],
   "source": [
    "# Let's paste from the original notebook, it'll be easier"
   ]
  }
 ],
 "metadata": {
  "kernelspec": {
   "display_name": "Python (nrdstor_tfp_for_TN)",
   "language": "python",
   "name": "nrdstor_tfp_for_tn"
  },
  "language_info": {
   "codemirror_mode": {
    "name": "ipython",
    "version": 3
   },
   "file_extension": ".py",
   "mimetype": "text/x-python",
   "name": "python",
   "nbconvert_exporter": "python",
   "pygments_lexer": "ipython3",
   "version": "3.10.14"
  }
 },
 "nbformat": 4,
 "nbformat_minor": 5
}
