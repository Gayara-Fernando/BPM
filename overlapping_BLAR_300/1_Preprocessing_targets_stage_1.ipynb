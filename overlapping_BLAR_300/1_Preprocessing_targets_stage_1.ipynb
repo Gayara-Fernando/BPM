{
 "cells": [
  {
   "cell_type": "code",
   "execution_count": 1,
   "id": "c4fbbb82-066d-42ba-99fb-fe6b7f00c559",
   "metadata": {},
   "outputs": [],
   "source": [
    "# We only need the features extracted for the final 7 images (sub-images) in the sequence"
   ]
  },
  {
   "cell_type": "code",
   "execution_count": 2,
   "id": "03f48f11-038b-4b65-a1c7-a7f6d4e12dcd",
   "metadata": {},
   "outputs": [
    {
     "name": "stderr",
     "output_type": "stream",
     "text": [
      "2025-09-08 21:09:27.701245: I tensorflow/core/util/port.cc:113] oneDNN custom operations are on. You may see slightly different numerical results due to floating-point round-off errors from different computation orders. To turn them off, set the environment variable `TF_ENABLE_ONEDNN_OPTS=0`.\n",
      "2025-09-08 21:09:27.737180: E external/local_xla/xla/stream_executor/cuda/cuda_dnn.cc:9261] Unable to register cuDNN factory: Attempting to register factory for plugin cuDNN when one has already been registered\n",
      "2025-09-08 21:09:27.737203: E external/local_xla/xla/stream_executor/cuda/cuda_fft.cc:607] Unable to register cuFFT factory: Attempting to register factory for plugin cuFFT when one has already been registered\n",
      "2025-09-08 21:09:27.738105: E external/local_xla/xla/stream_executor/cuda/cuda_blas.cc:1515] Unable to register cuBLAS factory: Attempting to register factory for plugin cuBLAS when one has already been registered\n",
      "2025-09-08 21:09:27.744044: I tensorflow/core/platform/cpu_feature_guard.cc:182] This TensorFlow binary is optimized to use available CPU instructions in performance-critical operations.\n",
      "To enable the following instructions: SSE4.1 SSE4.2 AVX AVX2 AVX512F AVX512_VNNI FMA, in other operations, rebuild TensorFlow with the appropriate compiler flags.\n"
     ]
    }
   ],
   "source": [
    "import tensorflow as tf\n",
    "import os\n",
    "import pandas as pd\n",
    "import numpy as np\n",
    "import matplotlib.pyplot as plt\n",
    "from scipy import ndimage\n",
    "from skimage.transform import resize"
   ]
  },
  {
   "cell_type": "code",
   "execution_count": 3,
   "id": "64586dc4-ba06-4cf4-8675-01af62134750",
   "metadata": {},
   "outputs": [
    {
     "name": "stderr",
     "output_type": "stream",
     "text": [
      "2025-09-08 21:10:57.411371: I tensorflow/core/common_runtime/gpu/gpu_device.cc:1929] Created device /job:localhost/replica:0/task:0/device:GPU:0 with 31134 MB memory:  -> device: 0, name: Tesla V100S-PCIE-32GB, pci bus id: 0000:06:00.0, compute capability: 7.0\n"
     ]
    }
   ],
   "source": [
    "# import the trained model\n",
    "\n",
    "model = tf.keras.models.load_model(\"../../../Spring_2024/Bayes_for_comps/TS_bayes_implementation_for_TN/models/trained_gmp_model_dense_32_new.h5\")\n",
    "\n",
    "# trained_gmp_model_dense_32_new\n",
    "# trained_gmp_model_dense_32_new"
   ]
  },
  {
   "cell_type": "code",
   "execution_count": 4,
   "id": "c7134c7a-f5a6-4b2c-8789-16ef587c3d9d",
   "metadata": {},
   "outputs": [
    {
     "name": "stdout",
     "output_type": "stream",
     "text": [
      "Model: \"model_1\"\n",
      "_________________________________________________________________\n",
      " Layer (type)                Output Shape              Param #   \n",
      "=================================================================\n",
      " input_1 (InputLayer)        [(None, None, None, 3)]   0         \n",
      "                                                                 \n",
      " conv2d (Conv2D)             (None, None, None, 32)    896       \n",
      "                                                                 \n",
      " activation (Activation)     (None, None, None, 32)    0         \n",
      "                                                                 \n",
      " conv2d_1 (Conv2D)           (None, None, None, 32)    9248      \n",
      "                                                                 \n",
      " activation_1 (Activation)   (None, None, None, 32)    0         \n",
      "                                                                 \n",
      " max_pooling2d (MaxPooling2  (None, None, None, 32)    0         \n",
      " D)                                                              \n",
      "                                                                 \n",
      " dropout (Dropout)           (None, None, None, 32)    0         \n",
      "                                                                 \n",
      " conv2d_2 (Conv2D)           (None, None, None, 64)    18496     \n",
      "                                                                 \n",
      " activation_2 (Activation)   (None, None, None, 64)    0         \n",
      "                                                                 \n",
      " conv2d_3 (Conv2D)           (None, None, None, 64)    36928     \n",
      "                                                                 \n",
      " activation_3 (Activation)   (None, None, None, 64)    0         \n",
      "                                                                 \n",
      " max_pooling2d_1 (MaxPoolin  (None, None, None, 64)    0         \n",
      " g2D)                                                            \n",
      "                                                                 \n",
      " New_dropout_0 (Dropout)     (None, None, None, 64)    0         \n",
      "                                                                 \n",
      " global_max_pooling2d (Glob  (None, 64)                0         \n",
      " alMaxPooling2D)                                                 \n",
      "                                                                 \n",
      " New_Dense_0 (Dense)         (None, 64)                4160      \n",
      "                                                                 \n",
      " New_Activation_0 (Activati  (None, 64)                0         \n",
      " on)                                                             \n",
      "                                                                 \n",
      " New_dropout_1 (Dropout)     (None, 64)                0         \n",
      "                                                                 \n",
      " New_Dense_1 (Dense)         (None, 32)                2080      \n",
      "                                                                 \n",
      " New_Activation_1 (Activati  (None, 32)                0         \n",
      " on)                                                             \n",
      "                                                                 \n",
      " New_dropout_2 (Dropout)     (None, 32)                0         \n",
      "                                                                 \n",
      " New_Dense_2 (Dense)         (None, 1)                 33        \n",
      "                                                                 \n",
      " New_Activation_2 (Activati  (None, 1)                 0         \n",
      " on)                                                             \n",
      "                                                                 \n",
      "=================================================================\n",
      "Total params: 71841 (280.63 KB)\n",
      "Trainable params: 43201 (168.75 KB)\n",
      "Non-trainable params: 28640 (111.88 KB)\n",
      "_________________________________________________________________\n"
     ]
    }
   ],
   "source": [
    "model.summary()"
   ]
  },
  {
   "cell_type": "code",
   "execution_count": 5,
   "id": "4a2fc431-1bcc-4116-b1b7-c9b34ff7efb1",
   "metadata": {},
   "outputs": [],
   "source": [
    "# Define the feature extractor model\n",
    "\n",
    "# feature extractor input\n",
    "feat_ext_input = model.input\n",
    "\n",
    "# feature extractor output - do this at the ReLu activation layer - as this will give the same features as the dropout layer (It does not matter if it is the dropout or the activation layer, the extracted features will be the same)\n",
    "feat_ext_output = model.layers[-4].output\n",
    "\n",
    "feature_extractor_model = tf.keras.models.Model(inputs = feat_ext_input, outputs = feat_ext_output)"
   ]
  },
  {
   "cell_type": "code",
   "execution_count": 6,
   "id": "25c4ac6a-dfcb-459a-8f81-1d9c4192957d",
   "metadata": {},
   "outputs": [
    {
     "name": "stdout",
     "output_type": "stream",
     "text": [
      "Model: \"model\"\n",
      "_________________________________________________________________\n",
      " Layer (type)                Output Shape              Param #   \n",
      "=================================================================\n",
      " input_1 (InputLayer)        [(None, None, None, 3)]   0         \n",
      "                                                                 \n",
      " conv2d (Conv2D)             (None, None, None, 32)    896       \n",
      "                                                                 \n",
      " activation (Activation)     (None, None, None, 32)    0         \n",
      "                                                                 \n",
      " conv2d_1 (Conv2D)           (None, None, None, 32)    9248      \n",
      "                                                                 \n",
      " activation_1 (Activation)   (None, None, None, 32)    0         \n",
      "                                                                 \n",
      " max_pooling2d (MaxPooling2  (None, None, None, 32)    0         \n",
      " D)                                                              \n",
      "                                                                 \n",
      " dropout (Dropout)           (None, None, None, 32)    0         \n",
      "                                                                 \n",
      " conv2d_2 (Conv2D)           (None, None, None, 64)    18496     \n",
      "                                                                 \n",
      " activation_2 (Activation)   (None, None, None, 64)    0         \n",
      "                                                                 \n",
      " conv2d_3 (Conv2D)           (None, None, None, 64)    36928     \n",
      "                                                                 \n",
      " activation_3 (Activation)   (None, None, None, 64)    0         \n",
      "                                                                 \n",
      " max_pooling2d_1 (MaxPoolin  (None, None, None, 64)    0         \n",
      " g2D)                                                            \n",
      "                                                                 \n",
      " New_dropout_0 (Dropout)     (None, None, None, 64)    0         \n",
      "                                                                 \n",
      " global_max_pooling2d (Glob  (None, 64)                0         \n",
      " alMaxPooling2D)                                                 \n",
      "                                                                 \n",
      " New_Dense_0 (Dense)         (None, 64)                4160      \n",
      "                                                                 \n",
      " New_Activation_0 (Activati  (None, 64)                0         \n",
      " on)                                                             \n",
      "                                                                 \n",
      " New_dropout_1 (Dropout)     (None, 64)                0         \n",
      "                                                                 \n",
      " New_Dense_1 (Dense)         (None, 32)                2080      \n",
      "                                                                 \n",
      " New_Activation_1 (Activati  (None, 32)                0         \n",
      " on)                                                             \n",
      "                                                                 \n",
      "=================================================================\n",
      "Total params: 71808 (280.50 KB)\n",
      "Trainable params: 43168 (168.62 KB)\n",
      "Non-trainable params: 28640 (111.88 KB)\n",
      "_________________________________________________________________\n"
     ]
    }
   ],
   "source": [
    "feature_extractor_model.summary()"
   ]
  },
  {
   "cell_type": "code",
   "execution_count": 7,
   "id": "30de30a8-09d6-4d7b-bb72-69da0c5f2cee",
   "metadata": {},
   "outputs": [],
   "source": [
    "# Okay, now let's worry about the data. We only need the features extracted for the last 7 images in teh sequence. Let's get these here? Also note that we do not have anything to do with the density maps for now, for the stage 1 implementaiton at least."
   ]
  },
  {
   "cell_type": "code",
   "execution_count": 8,
   "id": "c08b2de2-ccad-4b7c-9643-22f039a0e424",
   "metadata": {},
   "outputs": [],
   "source": [
    "# The following functions will help create all the required matrices"
   ]
  },
  {
   "cell_type": "code",
   "execution_count": 9,
   "id": "8998be90-762b-4ae8-9e4a-b7d44088542f",
   "metadata": {},
   "outputs": [],
   "source": [
    "def chose_xml_and_jpeg(file_location):\n",
    "    # list all files in location\n",
    "    list_of_all_files = os.listdir(file_location)\n",
    "    # sort files\n",
    "    list_of_all_files.sort()\n",
    "    # separate xml and jpeg files\n",
    "    all_xml_files = [file for file in list_of_all_files if file.split('.')[-1] == 'xml']\n",
    "    all_xml_files.sort()\n",
    "    all_jpeg_files = [file for file in list_of_all_files if file not in all_xml_files]\n",
    "    all_jpeg_files.sort()\n",
    "    # get the final 7 image files\n",
    "    chosen_jpeg_files = all_jpeg_files[-7:]\n",
    "    \n",
    "    return chosen_jpeg_files"
   ]
  },
  {
   "cell_type": "code",
   "execution_count": 10,
   "id": "5a2b2534-0ae9-4a79-ac79-b82a7644451d",
   "metadata": {},
   "outputs": [],
   "source": [
    "def create_sub_windows(folder_path, file, stride = 24, kernel_size = 300):\n",
    "    # joined image path\n",
    "    joined_im_path = os.path.join(folder_path, file)\n",
    "    # read the image\n",
    "    loaded_im_file = plt.imread(joined_im_path)\n",
    "    # create subwindows and get prediction\n",
    "    img_height = loaded_im_file.shape[0]\n",
    "    img_width = loaded_im_file.shape[1]\n",
    "\n",
    "    # catch all subwindows here\n",
    "    all_subwindows = []\n",
    "    # you can also keep track the subwindows here if required - but let's not worry about that for now\n",
    "    for i in  range(0, img_height, stride):\n",
    "        for j in range(0, img_width, stride):\n",
    "            sub_window = loaded_im_file[i: i + kernel_size, j : j + kernel_size,:]\n",
    "            # resize the subwindow - for 300*300\n",
    "            sub_window = resize(sub_window, (kernel_size, kernel_size,3))\n",
    "            # append these to the list\n",
    "            all_subwindows.append(sub_window)\n",
    "            \n",
    "    return all_subwindows  "
   ]
  },
  {
   "cell_type": "code",
   "execution_count": 11,
   "id": "21d92e59-dbfa-47b2-aa59-3113e0c5ab3b",
   "metadata": {},
   "outputs": [],
   "source": [
    "def extract_features(file_name, file_path):\n",
    "    # get the subwindows\n",
    "    subwindows = create_sub_windows(file_path, file_name, 24, 300)\n",
    "    # stack the subwindows\n",
    "    stacked_subwindows = np.stack(subwindows, axis = 0)\n",
    "    # print the shape of this\n",
    "    print(stacked_subwindows.shape)\n",
    "    # extract features\n",
    "    extracted_featrues = feature_extractor_model.predict(stacked_subwindows)\n",
    "    \n",
    "    return extracted_featrues"
   ]
  },
  {
   "cell_type": "code",
   "execution_count": 12,
   "id": "05d5ac18-6e60-415e-8406-71bcd91f3624",
   "metadata": {},
   "outputs": [],
   "source": [
    "# Let's first work on the train data blocks"
   ]
  },
  {
   "cell_type": "code",
   "execution_count": 13,
   "id": "7d839309-31e7-450e-952e-15d47a88013b",
   "metadata": {},
   "outputs": [],
   "source": [
    "# block 0101"
   ]
  },
  {
   "cell_type": "code",
   "execution_count": 14,
   "id": "ed81c146-2953-4254-b1a9-b4d5a42c32b2",
   "metadata": {},
   "outputs": [],
   "source": [
    "block_0101 = \"../../../Spring_2024/S_lab_TasselNet/Block_1_TN/Block_1_images_and_xml\""
   ]
  },
  {
   "cell_type": "code",
   "execution_count": 15,
   "id": "28afcad5-0565-42a7-aaae-9a61e0be1aff",
   "metadata": {},
   "outputs": [],
   "source": [
    "images_block_0101 = chose_xml_and_jpeg(block_0101)"
   ]
  },
  {
   "cell_type": "code",
   "execution_count": 16,
   "id": "abaebc80-f47e-4e3f-8000-a998684771e4",
   "metadata": {},
   "outputs": [
    {
     "data": {
      "text/plain": [
       "['Block0101_2020_08_26.jpeg',\n",
       " 'Block0101_2020_08_27.jpeg',\n",
       " 'Block0101_2020_08_28.jpeg',\n",
       " 'Block0101_2020_08_31.jpeg',\n",
       " 'Block0101_2020_09_02.jpeg',\n",
       " 'Block0101_2020_09_07.jpeg',\n",
       " 'Block0101_2020_09_16.jpeg']"
      ]
     },
     "execution_count": 16,
     "metadata": {},
     "output_type": "execute_result"
    }
   ],
   "source": [
    "images_block_0101"
   ]
  },
  {
   "cell_type": "code",
   "execution_count": 17,
   "id": "0bb8d6f0-cb96-4d86-a16f-d97788cb2d53",
   "metadata": {},
   "outputs": [
    {
     "name": "stdout",
     "output_type": "stream",
     "text": [
      "(1376, 300, 300, 3)\n"
     ]
    },
    {
     "name": "stderr",
     "output_type": "stream",
     "text": [
      "2025-09-08 19:43:36.052080: I external/local_xla/xla/stream_executor/cuda/cuda_dnn.cc:454] Loaded cuDNN version 8907\n"
     ]
    },
    {
     "name": "stdout",
     "output_type": "stream",
     "text": [
      "43/43 [==============================] - 4s 18ms/step\n",
      "(1376, 300, 300, 3)\n",
      "43/43 [==============================] - 1s 18ms/step\n",
      "(1376, 300, 300, 3)\n",
      "43/43 [==============================] - 1s 18ms/step\n",
      "(1376, 300, 300, 3)\n",
      "43/43 [==============================] - 1s 17ms/step\n",
      "(1376, 300, 300, 3)\n",
      "43/43 [==============================] - 1s 18ms/step\n",
      "(1376, 300, 300, 3)\n",
      "43/43 [==============================] - 1s 18ms/step\n",
      "(1376, 300, 300, 3)\n",
      "43/43 [==============================] - 1s 17ms/step\n",
      "CPU times: user 2min 34s, sys: 13.5 s, total: 2min 47s\n",
      "Wall time: 2min 46s\n"
     ]
    }
   ],
   "source": [
    "%%time\n",
    "# get the extracted input features\n",
    "\n",
    "blk_0101_all_features = []\n",
    "for file in images_block_0101:\n",
    "    extracted_features = extract_features(file, block_0101)\n",
    "    blk_0101_all_features.append(extracted_features)"
   ]
  },
  {
   "cell_type": "code",
   "execution_count": 18,
   "id": "69349e32-f07d-4570-ae00-b31af1fd3a5d",
   "metadata": {},
   "outputs": [],
   "source": [
    "# stack the extracted features\n",
    "blk_0101_stacked_extracted_features = np.stack(blk_0101_all_features, axis = 1)"
   ]
  },
  {
   "cell_type": "code",
   "execution_count": 19,
   "id": "3c423678-1e7f-4555-ada7-5998b27439f2",
   "metadata": {},
   "outputs": [
    {
     "data": {
      "text/plain": [
       "(1376, 7, 32)"
      ]
     },
     "execution_count": 19,
     "metadata": {},
     "output_type": "execute_result"
    }
   ],
   "source": [
    "blk_0101_stacked_extracted_features.shape"
   ]
  },
  {
   "cell_type": "code",
   "execution_count": 20,
   "id": "adf2df26-7f6d-4b1f-9d39-8d99e9f51fba",
   "metadata": {},
   "outputs": [
    {
     "data": {
      "text/plain": [
       "0.20483392"
      ]
     },
     "execution_count": 20,
     "metadata": {},
     "output_type": "execute_result"
    }
   ],
   "source": [
    "# see if the mean of the extracted features match to the ones earlier\n",
    "np.mean(blk_0101_stacked_extracted_features)"
   ]
  },
  {
   "cell_type": "code",
   "execution_count": 21,
   "id": "a411a014-d505-4fac-8c1e-cd4fa2c8e3ba",
   "metadata": {},
   "outputs": [],
   "source": [
    "# let's not save or stack this for now, let's stack all train data in order, and then save"
   ]
  },
  {
   "cell_type": "code",
   "execution_count": 22,
   "id": "e79d7fdf-0995-4b5e-9d1a-b2fd56414970",
   "metadata": {},
   "outputs": [],
   "source": [
    "# block 0102"
   ]
  },
  {
   "cell_type": "code",
   "execution_count": 23,
   "id": "aa51d29c-b2cd-42c4-88bb-9eca066dcbc7",
   "metadata": {},
   "outputs": [],
   "source": [
    "block_0102 = \"../../../Spring_2024/S_lab_TasselNet/Block_2_TN/Block_2_images_and_xml\""
   ]
  },
  {
   "cell_type": "code",
   "execution_count": 24,
   "id": "af4d45fd-84e4-40a9-adaa-da4b91b98d7b",
   "metadata": {},
   "outputs": [],
   "source": [
    "images_block_0102 = chose_xml_and_jpeg(block_0102)"
   ]
  },
  {
   "cell_type": "code",
   "execution_count": 25,
   "id": "d2852dd7-19ff-46b5-b079-c61264ecd2e8",
   "metadata": {},
   "outputs": [
    {
     "data": {
      "text/plain": [
       "['Block0102_2020_08_26.jpeg',\n",
       " 'Block0102_2020_08_27.jpeg',\n",
       " 'Block0102_2020_08_28.jpeg',\n",
       " 'Block0102_2020_08_31.jpeg',\n",
       " 'Block0102_2020_09_02.jpeg',\n",
       " 'Block0102_2020_09_07.jpeg',\n",
       " 'Block0102_2020_09_16.jpeg']"
      ]
     },
     "execution_count": 25,
     "metadata": {},
     "output_type": "execute_result"
    }
   ],
   "source": [
    "images_block_0102"
   ]
  },
  {
   "cell_type": "code",
   "execution_count": 26,
   "id": "1a9f2ca8-69a7-4338-9f87-a217f712f082",
   "metadata": {},
   "outputs": [
    {
     "name": "stdout",
     "output_type": "stream",
     "text": [
      "(1376, 300, 300, 3)\n",
      "43/43 [==============================] - 1s 17ms/step\n",
      "(1376, 300, 300, 3)\n",
      "43/43 [==============================] - 1s 18ms/step\n",
      "(1376, 300, 300, 3)\n",
      "43/43 [==============================] - 1s 18ms/step\n",
      "(1376, 300, 300, 3)\n",
      "43/43 [==============================] - 1s 16ms/step\n",
      "(1376, 300, 300, 3)\n",
      "43/43 [==============================] - 1s 17ms/step\n",
      "(1376, 300, 300, 3)\n",
      "43/43 [==============================] - 1s 18ms/step\n",
      "(1376, 300, 300, 3)\n",
      "43/43 [==============================] - 1s 18ms/step\n",
      "CPU times: user 2min 34s, sys: 12.2 s, total: 2min 46s\n",
      "Wall time: 2min 43s\n"
     ]
    }
   ],
   "source": [
    "%%time\n",
    "# get the extracted input features\n",
    "\n",
    "blk_0102_all_features = []\n",
    "for file in images_block_0102:\n",
    "    extracted_features = extract_features(file, block_0102)\n",
    "    blk_0102_all_features.append(extracted_features)"
   ]
  },
  {
   "cell_type": "code",
   "execution_count": 27,
   "id": "8a3d9a97-9e8a-4088-88e7-b2ef5b7ae00b",
   "metadata": {},
   "outputs": [],
   "source": [
    "# stack the extracted features\n",
    "blk_0102_stacked_extracted_features = np.stack(blk_0102_all_features, axis = 1)"
   ]
  },
  {
   "cell_type": "code",
   "execution_count": 28,
   "id": "38af989e-8945-4f02-8513-87c0b673f0c0",
   "metadata": {},
   "outputs": [
    {
     "data": {
      "text/plain": [
       "(1376, 7, 32)"
      ]
     },
     "execution_count": 28,
     "metadata": {},
     "output_type": "execute_result"
    }
   ],
   "source": [
    "blk_0102_stacked_extracted_features.shape"
   ]
  },
  {
   "cell_type": "code",
   "execution_count": 29,
   "id": "41fab8d0-f71d-4986-831a-bdc8397b137d",
   "metadata": {},
   "outputs": [
    {
     "data": {
      "text/plain": [
       "0.21673495"
      ]
     },
     "execution_count": 29,
     "metadata": {},
     "output_type": "execute_result"
    }
   ],
   "source": [
    "# see if the mean of the extracted features match to the ones earlier\n",
    "np.mean(blk_0102_stacked_extracted_features)"
   ]
  },
  {
   "cell_type": "code",
   "execution_count": 30,
   "id": "84208c1a-2559-4a5e-ac09-97b6d3d05150",
   "metadata": {},
   "outputs": [],
   "source": [
    "# block 0203"
   ]
  },
  {
   "cell_type": "code",
   "execution_count": 31,
   "id": "52f76b46-f1e5-4bb5-a5f5-8e41699a547e",
   "metadata": {},
   "outputs": [],
   "source": [
    "block_0203 = \"../../../Spring_2024/S_lab_TasselNet/Block_9_TN/Block_9_images_and_xml\""
   ]
  },
  {
   "cell_type": "code",
   "execution_count": 32,
   "id": "8c0e0e3b-5e97-4a3b-8032-4f2958d95272",
   "metadata": {},
   "outputs": [],
   "source": [
    "images_block_0203 = chose_xml_and_jpeg(block_0203)"
   ]
  },
  {
   "cell_type": "code",
   "execution_count": 33,
   "id": "82124eae-b663-460d-be69-7f4610d0b2dd",
   "metadata": {},
   "outputs": [
    {
     "data": {
      "text/plain": [
       "['Block0203_2020_08_26.jpeg',\n",
       " 'Block0203_2020_08_27.jpeg',\n",
       " 'Block0203_2020_08_28.jpeg',\n",
       " 'Block0203_2020_08_31.jpeg',\n",
       " 'Block0203_2020_09_02.jpeg',\n",
       " 'Block0203_2020_09_07.jpeg',\n",
       " 'Block0203_2020_09_16.jpeg']"
      ]
     },
     "execution_count": 33,
     "metadata": {},
     "output_type": "execute_result"
    }
   ],
   "source": [
    "images_block_0203"
   ]
  },
  {
   "cell_type": "code",
   "execution_count": 34,
   "id": "19695d7a-98c7-4e80-bbcf-a633687b08f9",
   "metadata": {},
   "outputs": [
    {
     "name": "stdout",
     "output_type": "stream",
     "text": [
      "(1376, 300, 300, 3)\n",
      "43/43 [==============================] - 1s 18ms/step\n",
      "(1376, 300, 300, 3)\n",
      "43/43 [==============================] - 1s 18ms/step\n",
      "(1376, 300, 300, 3)\n",
      "43/43 [==============================] - 1s 16ms/step\n",
      "(1376, 300, 300, 3)\n",
      "43/43 [==============================] - 1s 18ms/step\n",
      "(1376, 300, 300, 3)\n",
      "43/43 [==============================] - 1s 18ms/step\n",
      "(1376, 300, 300, 3)\n",
      "43/43 [==============================] - 1s 16ms/step\n",
      "(1376, 300, 300, 3)\n",
      "43/43 [==============================] - 1s 18ms/step\n",
      "CPU times: user 2min 35s, sys: 12.4 s, total: 2min 47s\n",
      "Wall time: 2min 45s\n"
     ]
    }
   ],
   "source": [
    "%%time\n",
    "# get the extracted input features\n",
    "\n",
    "blk_0203_all_features = []\n",
    "for file in images_block_0203:\n",
    "    extracted_features = extract_features(file, block_0203)\n",
    "    blk_0203_all_features.append(extracted_features)"
   ]
  },
  {
   "cell_type": "code",
   "execution_count": 35,
   "id": "74564faf-1b8b-4098-a6a6-171113dd76d5",
   "metadata": {},
   "outputs": [],
   "source": [
    "# stack the extracted features\n",
    "blk_0203_stacked_extracted_features = np.stack(blk_0203_all_features, axis = 1)"
   ]
  },
  {
   "cell_type": "code",
   "execution_count": 36,
   "id": "c2b4426c-4446-4784-909a-d97f93a2fdf8",
   "metadata": {},
   "outputs": [
    {
     "data": {
      "text/plain": [
       "(1376, 7, 32)"
      ]
     },
     "execution_count": 36,
     "metadata": {},
     "output_type": "execute_result"
    }
   ],
   "source": [
    "blk_0203_stacked_extracted_features.shape"
   ]
  },
  {
   "cell_type": "code",
   "execution_count": 37,
   "id": "934b3eaa-70c4-4856-b086-15552d3ab61b",
   "metadata": {},
   "outputs": [
    {
     "data": {
      "text/plain": [
       "0.28086844"
      ]
     },
     "execution_count": 37,
     "metadata": {},
     "output_type": "execute_result"
    }
   ],
   "source": [
    "# see if the mean of the extracted features match to the ones earlier\n",
    "np.mean(blk_0203_stacked_extracted_features)"
   ]
  },
  {
   "cell_type": "code",
   "execution_count": 38,
   "id": "3b706de4-a40b-4f0f-9a12-ac77f38a12ee",
   "metadata": {},
   "outputs": [],
   "source": [
    "# block 0301"
   ]
  },
  {
   "cell_type": "code",
   "execution_count": 39,
   "id": "523dfd95-d22c-4b17-8bd5-8f46a6417feb",
   "metadata": {},
   "outputs": [],
   "source": [
    "block_0301 = \"../../../Spring_2024/S_lab_TasselNet/Block_13_TN/Block_13_images_and_xml\""
   ]
  },
  {
   "cell_type": "code",
   "execution_count": 40,
   "id": "c9b2365e-ea10-407b-9386-851367cb80a2",
   "metadata": {},
   "outputs": [],
   "source": [
    "images_block_0301 = chose_xml_and_jpeg(block_0301)"
   ]
  },
  {
   "cell_type": "code",
   "execution_count": 41,
   "id": "dcb86f6c-6fc9-4714-8c8c-6f96c1ad940e",
   "metadata": {},
   "outputs": [
    {
     "data": {
      "text/plain": [
       "['Block0301_2020_08_26.jpeg',\n",
       " 'Block0301_2020_08_27.jpeg',\n",
       " 'Block0301_2020_08_28.jpeg',\n",
       " 'Block0301_2020_08_31.jpeg',\n",
       " 'Block0301_2020_09_02.jpeg',\n",
       " 'Block0301_2020_09_07.jpeg',\n",
       " 'Block0301_2020_09_16.jpeg']"
      ]
     },
     "execution_count": 41,
     "metadata": {},
     "output_type": "execute_result"
    }
   ],
   "source": [
    "images_block_0301"
   ]
  },
  {
   "cell_type": "code",
   "execution_count": 42,
   "id": "778f6999-2b6b-4fbc-93ba-5c8b4bbd1f7d",
   "metadata": {},
   "outputs": [
    {
     "name": "stdout",
     "output_type": "stream",
     "text": [
      "(1376, 300, 300, 3)\n",
      "43/43 [==============================] - 1s 18ms/step\n",
      "(1376, 300, 300, 3)\n",
      "43/43 [==============================] - 1s 18ms/step\n",
      "(1376, 300, 300, 3)\n",
      "43/43 [==============================] - 1s 18ms/step\n",
      "(1376, 300, 300, 3)\n",
      "43/43 [==============================] - 1s 19ms/step\n",
      "(1376, 300, 300, 3)\n",
      "43/43 [==============================] - 1s 18ms/step\n",
      "(1376, 300, 300, 3)\n",
      "43/43 [==============================] - 1s 19ms/step\n",
      "(1376, 300, 300, 3)\n",
      "43/43 [==============================] - 1s 18ms/step\n",
      "CPU times: user 2min 34s, sys: 11 s, total: 2min 45s\n",
      "Wall time: 2min 43s\n"
     ]
    }
   ],
   "source": [
    "%%time\n",
    "# get the extracted input features\n",
    "\n",
    "blk_0301_all_features = []\n",
    "for file in images_block_0301:\n",
    "    extracted_features = extract_features(file, block_0301)\n",
    "    blk_0301_all_features.append(extracted_features)"
   ]
  },
  {
   "cell_type": "code",
   "execution_count": 43,
   "id": "8d65548d-b36a-4e0e-9e8f-1c94901a1a3d",
   "metadata": {},
   "outputs": [],
   "source": [
    "# stack the extracted features\n",
    "blk_0301_stacked_extracted_features = np.stack(blk_0301_all_features, axis = 1)"
   ]
  },
  {
   "cell_type": "code",
   "execution_count": 44,
   "id": "ac5c101a-6db3-4bf6-8c17-0d64b01b6b3a",
   "metadata": {},
   "outputs": [
    {
     "data": {
      "text/plain": [
       "(1376, 7, 32)"
      ]
     },
     "execution_count": 44,
     "metadata": {},
     "output_type": "execute_result"
    }
   ],
   "source": [
    "blk_0301_stacked_extracted_features.shape"
   ]
  },
  {
   "cell_type": "code",
   "execution_count": 45,
   "id": "cf4740bf-a653-49cd-8fcf-ae9fa6f56d90",
   "metadata": {},
   "outputs": [
    {
     "data": {
      "text/plain": [
       "0.23826104"
      ]
     },
     "execution_count": 45,
     "metadata": {},
     "output_type": "execute_result"
    }
   ],
   "source": [
    "# see if the mean of the extracted features match to the ones earlier\n",
    "np.mean(blk_0301_stacked_extracted_features)"
   ]
  },
  {
   "cell_type": "code",
   "execution_count": 46,
   "id": "8d66f5b0-2a1a-4d3a-a6a1-a017367a3839",
   "metadata": {},
   "outputs": [],
   "source": [
    "# We can stack all these now and save?\n",
    "\n",
    "all_train_targets_list = [blk_0101_stacked_extracted_features, blk_0102_stacked_extracted_features, blk_0203_stacked_extracted_features, blk_0301_stacked_extracted_features]"
   ]
  },
  {
   "cell_type": "code",
   "execution_count": 47,
   "id": "7579e58a-ecbe-441e-81c4-eb196bb161f6",
   "metadata": {},
   "outputs": [],
   "source": [
    "# stack all these together?\n",
    "all_train_targets = np.vstack(all_train_targets_list)"
   ]
  },
  {
   "cell_type": "code",
   "execution_count": 48,
   "id": "a52d729a-80d4-4680-99e5-00d6eb5296d3",
   "metadata": {},
   "outputs": [
    {
     "data": {
      "text/plain": [
       "(5504, 7, 32)"
      ]
     },
     "execution_count": 48,
     "metadata": {},
     "output_type": "execute_result"
    }
   ],
   "source": [
    "all_train_targets.shape"
   ]
  },
  {
   "cell_type": "code",
   "execution_count": 49,
   "id": "a652551f-919b-443b-8756-f5bd9d644df6",
   "metadata": {},
   "outputs": [
    {
     "name": "stdout",
     "output_type": "stream",
     "text": [
      "1.0\n",
      "1.0\n",
      "1.0\n",
      "1.0\n"
     ]
    }
   ],
   "source": [
    "# sanity check\n",
    "print(np.mean(all_train_targets[1376*0:1376*1, :, :] == blk_0101_stacked_extracted_features))\n",
    "print(np.mean(all_train_targets[1376*1:1376*2, :, :] == blk_0102_stacked_extracted_features))\n",
    "print(np.mean(all_train_targets[1376*2:1376*3, :, :] == blk_0203_stacked_extracted_features))\n",
    "print(np.mean(all_train_targets[1376*3:1376*4, :, :] == blk_0301_stacked_extracted_features))"
   ]
  },
  {
   "cell_type": "code",
   "execution_count": 50,
   "id": "0848ce9d-2ebf-42e0-873f-122cbb8d53e5",
   "metadata": {},
   "outputs": [],
   "source": [
    "# save the stack\n",
    "np.save(\"data/train_out_targets/all_train_targets.npy\", all_train_targets)"
   ]
  },
  {
   "cell_type": "code",
   "execution_count": 51,
   "id": "03a1447a-3ddf-4ff3-94f2-33212b7cea04",
   "metadata": {},
   "outputs": [
    {
     "data": {
      "text/plain": [
       "1.0"
      ]
     },
     "execution_count": 51,
     "metadata": {},
     "output_type": "execute_result"
    }
   ],
   "source": [
    "# sanity check\n",
    "np.mean(all_train_targets == np.load(\"data/train_out_targets/all_train_targets.npy\"))"
   ]
  },
  {
   "cell_type": "code",
   "execution_count": 52,
   "id": "3e7b6c03-9ff2-4e4f-aa15-96ce77e476e1",
   "metadata": {},
   "outputs": [],
   "source": [
    "# Do this also for the validation data, and then stop for the day?"
   ]
  },
  {
   "cell_type": "code",
   "execution_count": 53,
   "id": "c9a018f3-9207-421b-aaea-a0a30346cb7e",
   "metadata": {},
   "outputs": [],
   "source": [
    "# block 0204"
   ]
  },
  {
   "cell_type": "code",
   "execution_count": 54,
   "id": "af56af8d-fc50-4392-878a-fd4dbf103f76",
   "metadata": {},
   "outputs": [],
   "source": [
    "block_0204 = \"../../../Spring_2024/S_lab_TasselNet/Block_10_TN/Block_10_images_and_xml\""
   ]
  },
  {
   "cell_type": "code",
   "execution_count": 55,
   "id": "e052acb1-5109-435c-8fb7-093bcd6625bb",
   "metadata": {},
   "outputs": [],
   "source": [
    "images_block_0204 = chose_xml_and_jpeg(block_0204)"
   ]
  },
  {
   "cell_type": "code",
   "execution_count": 56,
   "id": "1631cb82-a62d-4cee-994a-2f905c548178",
   "metadata": {},
   "outputs": [
    {
     "data": {
      "text/plain": [
       "['Block0204_2020_08_26.jpeg',\n",
       " 'Block0204_2020_08_27.jpeg',\n",
       " 'Block0204_2020_08_28.jpeg',\n",
       " 'Block0204_2020_08_31.jpeg',\n",
       " 'Block0204_2020_09_02.jpeg',\n",
       " 'Block0204_2020_09_07.jpeg',\n",
       " 'Block0204_2020_09_16.jpeg']"
      ]
     },
     "execution_count": 56,
     "metadata": {},
     "output_type": "execute_result"
    }
   ],
   "source": [
    "images_block_0204"
   ]
  },
  {
   "cell_type": "code",
   "execution_count": 57,
   "id": "b369a9af-3056-4bc8-b39e-23c3351a118a",
   "metadata": {},
   "outputs": [
    {
     "name": "stdout",
     "output_type": "stream",
     "text": [
      "(1376, 300, 300, 3)\n",
      "43/43 [==============================] - 1s 19ms/step\n",
      "(1376, 300, 300, 3)\n",
      "43/43 [==============================] - 1s 18ms/step\n",
      "(1376, 300, 300, 3)\n",
      "43/43 [==============================] - 1s 18ms/step\n",
      "(1376, 300, 300, 3)\n",
      "43/43 [==============================] - 1s 18ms/step\n",
      "(1376, 300, 300, 3)\n",
      "43/43 [==============================] - 1s 18ms/step\n",
      "(1376, 300, 300, 3)\n",
      "43/43 [==============================] - 1s 18ms/step\n",
      "(1376, 300, 300, 3)\n",
      "43/43 [==============================] - 1s 18ms/step\n",
      "CPU times: user 2min 35s, sys: 11.5 s, total: 2min 46s\n",
      "Wall time: 2min 44s\n"
     ]
    }
   ],
   "source": [
    "%%time\n",
    "# get the extracted input features\n",
    "\n",
    "blk_0204_all_features = []\n",
    "for file in images_block_0204:\n",
    "    extracted_features = extract_features(file, block_0204)\n",
    "    blk_0204_all_features.append(extracted_features)"
   ]
  },
  {
   "cell_type": "code",
   "execution_count": 58,
   "id": "ca4c3762-37eb-4ecb-aa9b-55ef8c8b294c",
   "metadata": {},
   "outputs": [],
   "source": [
    "# stack the extracted features\n",
    "blk_0204_stacked_extracted_features = np.stack(blk_0204_all_features, axis = 1)"
   ]
  },
  {
   "cell_type": "code",
   "execution_count": 59,
   "id": "57cb8ad6-01f3-491c-9763-a0c8a24b84d5",
   "metadata": {},
   "outputs": [
    {
     "data": {
      "text/plain": [
       "(1376, 7, 32)"
      ]
     },
     "execution_count": 59,
     "metadata": {},
     "output_type": "execute_result"
    }
   ],
   "source": [
    "blk_0204_stacked_extracted_features.shape"
   ]
  },
  {
   "cell_type": "code",
   "execution_count": 60,
   "id": "e06f92cc-b89c-4bc1-be7a-26a9d82057d3",
   "metadata": {},
   "outputs": [
    {
     "data": {
      "text/plain": [
       "0.24017075"
      ]
     },
     "execution_count": 60,
     "metadata": {},
     "output_type": "execute_result"
    }
   ],
   "source": [
    "# see if the mean of the extracted features match to the ones earlier\n",
    "np.mean(blk_0204_stacked_extracted_features)"
   ]
  },
  {
   "cell_type": "code",
   "execution_count": 61,
   "id": "d09d096b-d9e1-4822-85fa-b408a18e2371",
   "metadata": {},
   "outputs": [],
   "source": [
    "# save the data\n",
    "np.save(\"data/valid_out_targets/all_valid_targets.npy\", blk_0204_stacked_extracted_features)"
   ]
  },
  {
   "cell_type": "code",
   "execution_count": 62,
   "id": "e7b828a2-df2f-42b7-87b9-8e493949223c",
   "metadata": {},
   "outputs": [
    {
     "data": {
      "text/plain": [
       "1.0"
      ]
     },
     "execution_count": 62,
     "metadata": {},
     "output_type": "execute_result"
    }
   ],
   "source": [
    "# sanity check\n",
    "np.mean(blk_0204_stacked_extracted_features == np.load(\"data/valid_out_targets/all_valid_targets.npy\"))"
   ]
  },
  {
   "cell_type": "markdown",
   "id": "33a98d6d-034b-4908-b3be-a3de8c5fac24",
   "metadata": {},
   "source": [
    "Preprocessing for the test data"
   ]
  },
  {
   "cell_type": "code",
   "execution_count": 63,
   "id": "91c175a5-be85-4c69-a29f-6b204c984f04",
   "metadata": {},
   "outputs": [],
   "source": [
    "# Block 0103"
   ]
  },
  {
   "cell_type": "code",
   "execution_count": 64,
   "id": "3118d081-c3d5-45b7-9e6d-9fb4671a028b",
   "metadata": {},
   "outputs": [],
   "source": [
    "block_0103 = \"../../../Spring_2024/S_lab_TasselNet/Block_3_TN/Block_3_images_and_xml\""
   ]
  },
  {
   "cell_type": "code",
   "execution_count": 65,
   "id": "1833acea-2b8e-40f3-a69b-ac6e1e6b8928",
   "metadata": {},
   "outputs": [],
   "source": [
    "images_block_0103 = chose_xml_and_jpeg(block_0103)"
   ]
  },
  {
   "cell_type": "code",
   "execution_count": 66,
   "id": "ec13b425-d859-4c76-9b45-eac57fb98f20",
   "metadata": {},
   "outputs": [
    {
     "data": {
      "text/plain": [
       "['Block0103_2020_08_26.jpeg',\n",
       " 'Block0103_2020_08_27.jpeg',\n",
       " 'Block0103_2020_08_28.jpeg',\n",
       " 'Block0103_2020_08_31.jpeg',\n",
       " 'Block0103_2020_09_02.jpeg',\n",
       " 'Block0103_2020_09_07.jpeg',\n",
       " 'Block0103_2020_09_16.jpeg']"
      ]
     },
     "execution_count": 66,
     "metadata": {},
     "output_type": "execute_result"
    }
   ],
   "source": [
    "images_block_0103"
   ]
  },
  {
   "cell_type": "code",
   "execution_count": 67,
   "id": "40098b3d-278c-4592-bf9d-1badecb574c1",
   "metadata": {},
   "outputs": [
    {
     "name": "stdout",
     "output_type": "stream",
     "text": [
      "(1376, 300, 300, 3)\n",
      "43/43 [==============================] - 1s 18ms/step\n",
      "(1376, 300, 300, 3)\n",
      "43/43 [==============================] - 1s 18ms/step\n",
      "(1376, 300, 300, 3)\n",
      "43/43 [==============================] - 1s 18ms/step\n",
      "(1376, 300, 300, 3)\n",
      "43/43 [==============================] - 1s 18ms/step\n",
      "(1376, 300, 300, 3)\n",
      "43/43 [==============================] - 1s 18ms/step\n",
      "(1376, 300, 300, 3)\n",
      "43/43 [==============================] - 1s 18ms/step\n",
      "(1376, 300, 300, 3)\n",
      "43/43 [==============================] - 1s 18ms/step\n",
      "CPU times: user 2min 34s, sys: 11.6 s, total: 2min 46s\n",
      "Wall time: 2min 43s\n"
     ]
    }
   ],
   "source": [
    "%%time\n",
    "# get the extracted input features\n",
    "\n",
    "blk_0103_all_features = []\n",
    "for file in images_block_0103:\n",
    "    extracted_features = extract_features(file, block_0103)\n",
    "    blk_0103_all_features.append(extracted_features)"
   ]
  },
  {
   "cell_type": "code",
   "execution_count": 68,
   "id": "dd102f85-3a05-4898-ab2a-07e0f7f5f182",
   "metadata": {},
   "outputs": [],
   "source": [
    "# stack the extracted features\n",
    "blk_0103_stacked_extracted_features = np.stack(blk_0103_all_features, axis = 1)"
   ]
  },
  {
   "cell_type": "code",
   "execution_count": 69,
   "id": "31fd2d49-3370-4d1e-b796-6d413e03c322",
   "metadata": {},
   "outputs": [
    {
     "data": {
      "text/plain": [
       "(1376, 7, 32)"
      ]
     },
     "execution_count": 69,
     "metadata": {},
     "output_type": "execute_result"
    }
   ],
   "source": [
    "blk_0103_stacked_extracted_features.shape"
   ]
  },
  {
   "cell_type": "code",
   "execution_count": 70,
   "id": "93c98d01-e6a4-43a5-8483-b857058560b0",
   "metadata": {},
   "outputs": [
    {
     "data": {
      "text/plain": [
       "0.16587366"
      ]
     },
     "execution_count": 70,
     "metadata": {},
     "output_type": "execute_result"
    }
   ],
   "source": [
    "# see if the mean of the extracted features match to the ones earlier\n",
    "np.mean(blk_0103_stacked_extracted_features)"
   ]
  },
  {
   "cell_type": "code",
   "execution_count": 71,
   "id": "6a742720-f740-46fb-a264-7ca7aa0b140b",
   "metadata": {},
   "outputs": [],
   "source": [
    "# save the data\n",
    "np.save(\"data/test_out_targets/test_targets_blk_0103.npy\", blk_0103_stacked_extracted_features)"
   ]
  },
  {
   "cell_type": "code",
   "execution_count": 72,
   "id": "b77b6d06-df88-4cd9-9e92-2034e731f8da",
   "metadata": {},
   "outputs": [
    {
     "data": {
      "text/plain": [
       "1.0"
      ]
     },
     "execution_count": 72,
     "metadata": {},
     "output_type": "execute_result"
    }
   ],
   "source": [
    "# sanity check\n",
    "np.mean(blk_0103_stacked_extracted_features == np.load(\"data/test_out_targets/test_targets_blk_0103.npy\"))"
   ]
  },
  {
   "cell_type": "code",
   "execution_count": 73,
   "id": "8f622fa4-d526-422d-886f-3b11ef9f904f",
   "metadata": {},
   "outputs": [],
   "source": [
    "# Block 0104"
   ]
  },
  {
   "cell_type": "code",
   "execution_count": 74,
   "id": "e4a820a0-a211-43ef-ba86-39eb027843fb",
   "metadata": {},
   "outputs": [],
   "source": [
    "block_0104 = \"../../../Spring_2024/S_lab_TasselNet/Block_4_TN/Block_4_images_and_xml\""
   ]
  },
  {
   "cell_type": "code",
   "execution_count": 75,
   "id": "b715fca9-2fe6-4eec-9fe0-6acefae443b2",
   "metadata": {},
   "outputs": [],
   "source": [
    "images_block_0104 = chose_xml_and_jpeg(block_0104)"
   ]
  },
  {
   "cell_type": "code",
   "execution_count": 76,
   "id": "65e16e68-3259-420b-92c7-a98bb5ead887",
   "metadata": {},
   "outputs": [
    {
     "data": {
      "text/plain": [
       "['Block0104_2020_08_26.jpeg',\n",
       " 'Block0104_2020_08_27.jpeg',\n",
       " 'Block0104_2020_08_28.jpeg',\n",
       " 'Block0104_2020_08_31.jpeg',\n",
       " 'Block0104_2020_09_02.jpeg',\n",
       " 'Block0104_2020_09_07.jpeg',\n",
       " 'Block0104_2020_09_16.jpeg']"
      ]
     },
     "execution_count": 76,
     "metadata": {},
     "output_type": "execute_result"
    }
   ],
   "source": [
    "images_block_0104"
   ]
  },
  {
   "cell_type": "code",
   "execution_count": 77,
   "id": "7e58bd57-a188-4ab0-9311-3c3284226d14",
   "metadata": {},
   "outputs": [
    {
     "name": "stdout",
     "output_type": "stream",
     "text": [
      "(1376, 300, 300, 3)\n",
      "43/43 [==============================] - 1s 18ms/step\n",
      "(1376, 300, 300, 3)\n",
      "43/43 [==============================] - 1s 18ms/step\n",
      "(1376, 300, 300, 3)\n",
      "43/43 [==============================] - 1s 18ms/step\n",
      "(1376, 300, 300, 3)\n",
      "43/43 [==============================] - 1s 18ms/step\n",
      "(1376, 300, 300, 3)\n",
      "43/43 [==============================] - 1s 18ms/step\n",
      "(1376, 300, 300, 3)\n",
      "43/43 [==============================] - 1s 18ms/step\n",
      "(1376, 300, 300, 3)\n",
      "43/43 [==============================] - 1s 18ms/step\n",
      "CPU times: user 2min 35s, sys: 11.6 s, total: 2min 47s\n",
      "Wall time: 2min 44s\n"
     ]
    }
   ],
   "source": [
    "%%time\n",
    "# get the extracted input features\n",
    "\n",
    "blk_0104_all_features = []\n",
    "for file in images_block_0104:\n",
    "    extracted_features = extract_features(file, block_0104)\n",
    "    blk_0104_all_features.append(extracted_features)"
   ]
  },
  {
   "cell_type": "code",
   "execution_count": 78,
   "id": "1028309d-e358-478e-9f3e-a4d6ff692572",
   "metadata": {},
   "outputs": [],
   "source": [
    "# stack the extracted features\n",
    "blk_0104_stacked_extracted_features = np.stack(blk_0104_all_features, axis = 1)"
   ]
  },
  {
   "cell_type": "code",
   "execution_count": 79,
   "id": "496d15a9-7583-4703-a483-12c8204cc847",
   "metadata": {},
   "outputs": [
    {
     "data": {
      "text/plain": [
       "(1376, 7, 32)"
      ]
     },
     "execution_count": 79,
     "metadata": {},
     "output_type": "execute_result"
    }
   ],
   "source": [
    "blk_0104_stacked_extracted_features.shape"
   ]
  },
  {
   "cell_type": "code",
   "execution_count": 80,
   "id": "685c8965-e48a-4301-b44e-43afb30da959",
   "metadata": {},
   "outputs": [
    {
     "data": {
      "text/plain": [
       "0.23606355"
      ]
     },
     "execution_count": 80,
     "metadata": {},
     "output_type": "execute_result"
    }
   ],
   "source": [
    "# see if the mean of the extracted features match to the ones earlier\n",
    "np.mean(blk_0104_stacked_extracted_features)"
   ]
  },
  {
   "cell_type": "code",
   "execution_count": 81,
   "id": "c7cc50fd-9cd7-4bd5-8902-d9b29cb54780",
   "metadata": {},
   "outputs": [],
   "source": [
    "# save the data\n",
    "np.save(\"data/test_out_targets/test_targets_blk_0104.npy\", blk_0104_stacked_extracted_features)"
   ]
  },
  {
   "cell_type": "code",
   "execution_count": 82,
   "id": "93cef566-d76b-444b-a015-27cb7a510f92",
   "metadata": {},
   "outputs": [
    {
     "data": {
      "text/plain": [
       "1.0"
      ]
     },
     "execution_count": 82,
     "metadata": {},
     "output_type": "execute_result"
    }
   ],
   "source": [
    "# sanity check\n",
    "np.mean(blk_0104_stacked_extracted_features == np.load(\"data/test_out_targets/test_targets_blk_0104.npy\"))"
   ]
  },
  {
   "cell_type": "code",
   "execution_count": 83,
   "id": "b27a5cc8-63fa-4719-9215-369ce3716b13",
   "metadata": {},
   "outputs": [],
   "source": [
    "# Block 0105"
   ]
  },
  {
   "cell_type": "code",
   "execution_count": 84,
   "id": "d7aeda4f-881a-44ad-87df-75b34b5d5ea6",
   "metadata": {},
   "outputs": [],
   "source": [
    "block_0105 = \"../../../Spring_2024/S_lab_TasselNet/Block_5_TN/Block_5_images_and_xml\""
   ]
  },
  {
   "cell_type": "code",
   "execution_count": 85,
   "id": "7b448e9c-7764-4118-9d0e-405e3505b157",
   "metadata": {},
   "outputs": [],
   "source": [
    "images_block_0105 = chose_xml_and_jpeg(block_0105)"
   ]
  },
  {
   "cell_type": "code",
   "execution_count": 86,
   "id": "de2bf46e-0978-4ca6-8f22-98a89039cbd8",
   "metadata": {},
   "outputs": [
    {
     "data": {
      "text/plain": [
       "['Block0105_2020_08_26.jpeg',\n",
       " 'Block0105_2020_08_27.jpeg',\n",
       " 'Block0105_2020_08_28.jpeg',\n",
       " 'Block0105_2020_08_31.jpeg',\n",
       " 'Block0105_2020_09_02.jpeg',\n",
       " 'Block0105_2020_09_07.jpeg',\n",
       " 'Block0105_2020_09_16.jpeg']"
      ]
     },
     "execution_count": 86,
     "metadata": {},
     "output_type": "execute_result"
    }
   ],
   "source": [
    "images_block_0105"
   ]
  },
  {
   "cell_type": "code",
   "execution_count": 87,
   "id": "4640d508-f28b-49be-9d19-9cd7338c47a9",
   "metadata": {},
   "outputs": [
    {
     "name": "stdout",
     "output_type": "stream",
     "text": [
      "(1376, 300, 300, 3)\n",
      "43/43 [==============================] - 1s 18ms/step\n",
      "(1376, 300, 300, 3)\n",
      "43/43 [==============================] - 1s 18ms/step\n",
      "(1376, 300, 300, 3)\n",
      "43/43 [==============================] - 1s 18ms/step\n",
      "(1376, 300, 300, 3)\n",
      "43/43 [==============================] - 1s 18ms/step\n",
      "(1376, 300, 300, 3)\n",
      "43/43 [==============================] - 1s 18ms/step\n",
      "(1376, 300, 300, 3)\n",
      "43/43 [==============================] - 1s 18ms/step\n",
      "(1376, 300, 300, 3)\n",
      "43/43 [==============================] - 1s 18ms/step\n",
      "CPU times: user 2min 35s, sys: 12.1 s, total: 2min 47s\n",
      "Wall time: 2min 44s\n"
     ]
    }
   ],
   "source": [
    "%%time\n",
    "# get the extracted input features\n",
    "\n",
    "blk_0105_all_features = []\n",
    "for file in images_block_0105:\n",
    "    extracted_features = extract_features(file, block_0105)\n",
    "    blk_0105_all_features.append(extracted_features)"
   ]
  },
  {
   "cell_type": "code",
   "execution_count": 88,
   "id": "11cf650e-9dca-4953-a4db-a2d656276d01",
   "metadata": {},
   "outputs": [],
   "source": [
    "# stack the extracted features\n",
    "blk_0105_stacked_extracted_features = np.stack(blk_0105_all_features, axis = 1)"
   ]
  },
  {
   "cell_type": "code",
   "execution_count": 89,
   "id": "2c8ae331-7ac6-4bcd-b307-16a912a569b0",
   "metadata": {},
   "outputs": [
    {
     "data": {
      "text/plain": [
       "(1376, 7, 32)"
      ]
     },
     "execution_count": 89,
     "metadata": {},
     "output_type": "execute_result"
    }
   ],
   "source": [
    "blk_0105_stacked_extracted_features.shape"
   ]
  },
  {
   "cell_type": "code",
   "execution_count": 90,
   "id": "dcbeb3ca-ab15-4011-b6c5-13d345362928",
   "metadata": {},
   "outputs": [
    {
     "data": {
      "text/plain": [
       "0.25614625"
      ]
     },
     "execution_count": 90,
     "metadata": {},
     "output_type": "execute_result"
    }
   ],
   "source": [
    "# see if the mean of the extracted features match to the ones earlier\n",
    "np.mean(blk_0105_stacked_extracted_features)"
   ]
  },
  {
   "cell_type": "code",
   "execution_count": 91,
   "id": "f8c78fa1-6c6e-4d7e-8e78-3fec60dff3d5",
   "metadata": {},
   "outputs": [],
   "source": [
    "# save the data\n",
    "np.save(\"data/test_out_targets/test_targets_blk_0105.npy\", blk_0105_stacked_extracted_features)"
   ]
  },
  {
   "cell_type": "code",
   "execution_count": 92,
   "id": "87012371-38ab-4812-a730-dba63020f523",
   "metadata": {},
   "outputs": [
    {
     "data": {
      "text/plain": [
       "1.0"
      ]
     },
     "execution_count": 92,
     "metadata": {},
     "output_type": "execute_result"
    }
   ],
   "source": [
    "# sanity check\n",
    "np.mean(blk_0105_stacked_extracted_features == np.load(\"data/test_out_targets/test_targets_blk_0105.npy\"))"
   ]
  },
  {
   "cell_type": "code",
   "execution_count": 93,
   "id": "e63f8cb8-e686-4fbe-a4d1-a3507523d268",
   "metadata": {},
   "outputs": [],
   "source": [
    "# Block 0106"
   ]
  },
  {
   "cell_type": "code",
   "execution_count": 94,
   "id": "c2e05ce9-fa72-4d1e-9412-e2c4043dd0ce",
   "metadata": {},
   "outputs": [],
   "source": [
    "block_0106 = \"../../../Spring_2024/S_lab_TasselNet/Block_6_TN/Block_6_images_and_xml\""
   ]
  },
  {
   "cell_type": "code",
   "execution_count": 95,
   "id": "e7b76310-9277-429a-842e-162ba262dea9",
   "metadata": {},
   "outputs": [],
   "source": [
    "images_block_0106 = chose_xml_and_jpeg(block_0106)"
   ]
  },
  {
   "cell_type": "code",
   "execution_count": 96,
   "id": "45fe4dde-c30c-4564-976c-86ade2d96c7c",
   "metadata": {},
   "outputs": [
    {
     "data": {
      "text/plain": [
       "['Block0106_2020_08_26.jpeg',\n",
       " 'Block0106_2020_08_27.jpeg',\n",
       " 'Block0106_2020_08_28.jpeg',\n",
       " 'Block0106_2020_08_31.jpeg',\n",
       " 'Block0106_2020_09_02.jpeg',\n",
       " 'Block0106_2020_09_07.jpeg',\n",
       " 'Block0106_2020_09_16.jpeg']"
      ]
     },
     "execution_count": 96,
     "metadata": {},
     "output_type": "execute_result"
    }
   ],
   "source": [
    "images_block_0106"
   ]
  },
  {
   "cell_type": "code",
   "execution_count": 97,
   "id": "9b621779-4fa5-4783-aec0-263de52f37ec",
   "metadata": {},
   "outputs": [
    {
     "name": "stdout",
     "output_type": "stream",
     "text": [
      "(1376, 300, 300, 3)\n",
      "43/43 [==============================] - 1s 18ms/step\n",
      "(1376, 300, 300, 3)\n",
      "43/43 [==============================] - 1s 18ms/step\n",
      "(1376, 300, 300, 3)\n",
      "43/43 [==============================] - 1s 18ms/step\n",
      "(1376, 300, 300, 3)\n",
      "43/43 [==============================] - 1s 18ms/step\n",
      "(1376, 300, 300, 3)\n",
      "43/43 [==============================] - 1s 18ms/step\n",
      "(1376, 300, 300, 3)\n",
      "43/43 [==============================] - 1s 18ms/step\n",
      "(1376, 300, 300, 3)\n",
      "43/43 [==============================] - 1s 18ms/step\n",
      "CPU times: user 2min 35s, sys: 11.7 s, total: 2min 47s\n",
      "Wall time: 2min 44s\n"
     ]
    }
   ],
   "source": [
    "%%time\n",
    "# get the extracted input features\n",
    "\n",
    "blk_0106_all_features = []\n",
    "for file in images_block_0106:\n",
    "    extracted_features = extract_features(file, block_0106)\n",
    "    blk_0106_all_features.append(extracted_features)"
   ]
  },
  {
   "cell_type": "code",
   "execution_count": 98,
   "id": "35dbdb6a-67c3-4ea1-b69a-9c4765fb84fe",
   "metadata": {},
   "outputs": [],
   "source": [
    "# stack the extracted features\n",
    "blk_0106_stacked_extracted_features = np.stack(blk_0106_all_features, axis = 1)"
   ]
  },
  {
   "cell_type": "code",
   "execution_count": 99,
   "id": "fb751bc9-3151-4890-abd3-091cb7d70c27",
   "metadata": {},
   "outputs": [
    {
     "data": {
      "text/plain": [
       "(1376, 7, 32)"
      ]
     },
     "execution_count": 99,
     "metadata": {},
     "output_type": "execute_result"
    }
   ],
   "source": [
    "blk_0106_stacked_extracted_features.shape"
   ]
  },
  {
   "cell_type": "code",
   "execution_count": 100,
   "id": "ec28165b-5837-4840-a06c-22d9f3d73628",
   "metadata": {},
   "outputs": [
    {
     "data": {
      "text/plain": [
       "0.33636108"
      ]
     },
     "execution_count": 100,
     "metadata": {},
     "output_type": "execute_result"
    }
   ],
   "source": [
    "# see if the mean of the extracted features match to the ones earlier\n",
    "np.mean(blk_0106_stacked_extracted_features)"
   ]
  },
  {
   "cell_type": "code",
   "execution_count": 101,
   "id": "5283ae1e-8232-4077-80c1-1cf29c3cf1cb",
   "metadata": {},
   "outputs": [],
   "source": [
    "# save the data\n",
    "np.save(\"data/test_out_targets/test_targets_blk_0106.npy\", blk_0106_stacked_extracted_features)"
   ]
  },
  {
   "cell_type": "code",
   "execution_count": 102,
   "id": "6df81222-bef1-480c-a53c-e7ede9862201",
   "metadata": {},
   "outputs": [
    {
     "data": {
      "text/plain": [
       "1.0"
      ]
     },
     "execution_count": 102,
     "metadata": {},
     "output_type": "execute_result"
    }
   ],
   "source": [
    "# sanity check\n",
    "np.mean(blk_0106_stacked_extracted_features == np.load(\"data/test_out_targets/test_targets_blk_0106.npy\"))"
   ]
  },
  {
   "cell_type": "code",
   "execution_count": 103,
   "id": "c20eede4-18b9-4f98-b460-9085fe105ddb",
   "metadata": {},
   "outputs": [],
   "source": [
    "# Block 0201"
   ]
  },
  {
   "cell_type": "code",
   "execution_count": 104,
   "id": "a60a8d86-ab6a-4012-9f9b-e087e6ea51c3",
   "metadata": {},
   "outputs": [],
   "source": [
    "block_0201 = \"../../../Spring_2024/S_lab_TasselNet/Block_7_TN/Block_7_images_and_xml\""
   ]
  },
  {
   "cell_type": "code",
   "execution_count": 105,
   "id": "b17bfb60-6b8e-4756-8bb3-1f9e156374f1",
   "metadata": {},
   "outputs": [],
   "source": [
    "images_block_0201 = chose_xml_and_jpeg(block_0201)"
   ]
  },
  {
   "cell_type": "code",
   "execution_count": 106,
   "id": "cc03514b-4a21-4c25-90d3-b80175297c8f",
   "metadata": {},
   "outputs": [
    {
     "data": {
      "text/plain": [
       "['Block0201_2020_08_26.jpeg',\n",
       " 'Block0201_2020_08_27.jpeg',\n",
       " 'Block0201_2020_08_28.jpeg',\n",
       " 'Block0201_2020_08_31.jpeg',\n",
       " 'Block0201_2020_09_02.jpeg',\n",
       " 'Block0201_2020_09_07.jpeg',\n",
       " 'Block0201_2020_09_16.jpeg']"
      ]
     },
     "execution_count": 106,
     "metadata": {},
     "output_type": "execute_result"
    }
   ],
   "source": [
    "images_block_0201"
   ]
  },
  {
   "cell_type": "code",
   "execution_count": 107,
   "id": "1ac71e1c-15c0-4b41-b671-685028b2056c",
   "metadata": {},
   "outputs": [
    {
     "name": "stdout",
     "output_type": "stream",
     "text": [
      "(1376, 300, 300, 3)\n",
      "43/43 [==============================] - 1s 18ms/step\n",
      "(1376, 300, 300, 3)\n",
      "43/43 [==============================] - 1s 18ms/step\n",
      "(1376, 300, 300, 3)\n",
      "43/43 [==============================] - 1s 18ms/step\n",
      "(1376, 300, 300, 3)\n",
      "43/43 [==============================] - 1s 18ms/step\n",
      "(1376, 300, 300, 3)\n",
      "43/43 [==============================] - 1s 18ms/step\n",
      "(1376, 300, 300, 3)\n",
      "43/43 [==============================] - 1s 18ms/step\n",
      "(1376, 300, 300, 3)\n",
      "43/43 [==============================] - 1s 18ms/step\n",
      "CPU times: user 2min 36s, sys: 12.3 s, total: 2min 48s\n",
      "Wall time: 2min 45s\n"
     ]
    }
   ],
   "source": [
    "%%time\n",
    "# get the extracted input features\n",
    "\n",
    "blk_0201_all_features = []\n",
    "for file in images_block_0201:\n",
    "    extracted_features = extract_features(file, block_0201)\n",
    "    blk_0201_all_features.append(extracted_features)"
   ]
  },
  {
   "cell_type": "code",
   "execution_count": 108,
   "id": "a01604e1-8f4a-44c9-a825-e3266054b4d4",
   "metadata": {},
   "outputs": [],
   "source": [
    "# stack the extracted features\n",
    "blk_0201_stacked_extracted_features = np.stack(blk_0201_all_features, axis = 1)"
   ]
  },
  {
   "cell_type": "code",
   "execution_count": 109,
   "id": "9547381e-f68a-4db1-9249-016ab6bd09b9",
   "metadata": {},
   "outputs": [
    {
     "data": {
      "text/plain": [
       "(1376, 7, 32)"
      ]
     },
     "execution_count": 109,
     "metadata": {},
     "output_type": "execute_result"
    }
   ],
   "source": [
    "blk_0201_stacked_extracted_features.shape"
   ]
  },
  {
   "cell_type": "code",
   "execution_count": 110,
   "id": "6f3c22a5-2c65-4840-ac18-e2bffc61a401",
   "metadata": {},
   "outputs": [
    {
     "data": {
      "text/plain": [
       "0.24373145"
      ]
     },
     "execution_count": 110,
     "metadata": {},
     "output_type": "execute_result"
    }
   ],
   "source": [
    "# see if the mean of the extracted features match to the ones earlier\n",
    "np.mean(blk_0201_stacked_extracted_features)"
   ]
  },
  {
   "cell_type": "code",
   "execution_count": 111,
   "id": "6bc9cb6b-6ebd-499e-8726-57bf4b3bf036",
   "metadata": {},
   "outputs": [],
   "source": [
    "# save the data\n",
    "np.save(\"data/test_out_targets/test_targets_blk_0201.npy\", blk_0201_stacked_extracted_features)"
   ]
  },
  {
   "cell_type": "code",
   "execution_count": 112,
   "id": "867dfc67-84e5-4d67-a151-7f479e853bf3",
   "metadata": {},
   "outputs": [
    {
     "data": {
      "text/plain": [
       "1.0"
      ]
     },
     "execution_count": 112,
     "metadata": {},
     "output_type": "execute_result"
    }
   ],
   "source": [
    "# sanity check\n",
    "np.mean(blk_0201_stacked_extracted_features == np.load(\"data/test_out_targets/test_targets_blk_0201.npy\"))"
   ]
  },
  {
   "cell_type": "code",
   "execution_count": 113,
   "id": "af3f53c0-2d26-4bb3-a250-d70c1e863a3f",
   "metadata": {},
   "outputs": [],
   "source": [
    "# Block 0202"
   ]
  },
  {
   "cell_type": "code",
   "execution_count": 114,
   "id": "c5fe5e4e-18c7-4894-b95b-efe434cb8874",
   "metadata": {},
   "outputs": [],
   "source": [
    "block_0202 = \"../../../Spring_2024/S_lab_TasselNet/Block_8_TN/Block_8_images_and_xml\""
   ]
  },
  {
   "cell_type": "code",
   "execution_count": 115,
   "id": "e0bce7c3-fbbf-4300-806c-585701fc0656",
   "metadata": {},
   "outputs": [],
   "source": [
    "images_block_0202 = chose_xml_and_jpeg(block_0202)"
   ]
  },
  {
   "cell_type": "code",
   "execution_count": 116,
   "id": "2dbd353a-307e-431b-af25-39b1421aeab2",
   "metadata": {},
   "outputs": [
    {
     "data": {
      "text/plain": [
       "['Block0202_2020_08_26.jpeg',\n",
       " 'Block0202_2020_08_27.jpeg',\n",
       " 'Block0202_2020_08_28.jpeg',\n",
       " 'Block0202_2020_08_31.jpeg',\n",
       " 'Block0202_2020_09_02.jpeg',\n",
       " 'Block0202_2020_09_07.jpeg',\n",
       " 'Block0202_2020_09_16.jpeg']"
      ]
     },
     "execution_count": 116,
     "metadata": {},
     "output_type": "execute_result"
    }
   ],
   "source": [
    "images_block_0202"
   ]
  },
  {
   "cell_type": "code",
   "execution_count": 117,
   "id": "4b4d7576-97ab-49e5-9bb7-12ad1ffed1bd",
   "metadata": {},
   "outputs": [
    {
     "name": "stdout",
     "output_type": "stream",
     "text": [
      "(1376, 300, 300, 3)\n",
      "43/43 [==============================] - 1s 18ms/step\n",
      "(1376, 300, 300, 3)\n",
      "43/43 [==============================] - 1s 18ms/step\n",
      "(1376, 300, 300, 3)\n",
      "43/43 [==============================] - 1s 18ms/step\n",
      "(1376, 300, 300, 3)\n",
      "43/43 [==============================] - 1s 18ms/step\n",
      "(1376, 300, 300, 3)\n",
      "43/43 [==============================] - 1s 18ms/step\n",
      "(1376, 300, 300, 3)\n",
      "43/43 [==============================] - 1s 18ms/step\n",
      "(1376, 300, 300, 3)\n",
      "43/43 [==============================] - 1s 18ms/step\n",
      "CPU times: user 2min 36s, sys: 12.9 s, total: 2min 49s\n",
      "Wall time: 2min 46s\n"
     ]
    }
   ],
   "source": [
    "%%time\n",
    "# get the extracted input features\n",
    "\n",
    "blk_0202_all_features = []\n",
    "for file in images_block_0202:\n",
    "    extracted_features = extract_features(file, block_0202)\n",
    "    blk_0202_all_features.append(extracted_features)"
   ]
  },
  {
   "cell_type": "code",
   "execution_count": 118,
   "id": "d5585d76-53d5-43ce-a257-16ee968535e3",
   "metadata": {},
   "outputs": [],
   "source": [
    "# stack the extracted features\n",
    "blk_0202_stacked_extracted_features = np.stack(blk_0202_all_features, axis = 1)"
   ]
  },
  {
   "cell_type": "code",
   "execution_count": 119,
   "id": "3415c5eb-0790-4b03-b443-9b49ff79faa1",
   "metadata": {},
   "outputs": [
    {
     "data": {
      "text/plain": [
       "(1376, 7, 32)"
      ]
     },
     "execution_count": 119,
     "metadata": {},
     "output_type": "execute_result"
    }
   ],
   "source": [
    "blk_0202_stacked_extracted_features.shape"
   ]
  },
  {
   "cell_type": "code",
   "execution_count": 120,
   "id": "4797a949-ecc9-43b8-8ce0-1959d2d9fbbe",
   "metadata": {},
   "outputs": [
    {
     "data": {
      "text/plain": [
       "0.21695612"
      ]
     },
     "execution_count": 120,
     "metadata": {},
     "output_type": "execute_result"
    }
   ],
   "source": [
    "# see if the mean of the extracted features match to the ones earlier\n",
    "np.mean(blk_0202_stacked_extracted_features)"
   ]
  },
  {
   "cell_type": "code",
   "execution_count": 121,
   "id": "e6a5ded7-382b-4de8-bc75-c6c16aa080ab",
   "metadata": {},
   "outputs": [],
   "source": [
    "# save the data\n",
    "np.save(\"data/test_out_targets/test_targets_blk_0202.npy\", blk_0202_stacked_extracted_features)"
   ]
  },
  {
   "cell_type": "code",
   "execution_count": 122,
   "id": "92cf3669-b9a1-40f6-a616-fc9226b65cbc",
   "metadata": {},
   "outputs": [
    {
     "data": {
      "text/plain": [
       "1.0"
      ]
     },
     "execution_count": 122,
     "metadata": {},
     "output_type": "execute_result"
    }
   ],
   "source": [
    "# sanity check\n",
    "np.mean(blk_0202_stacked_extracted_features == np.load(\"data/test_out_targets/test_targets_blk_0202.npy\"))"
   ]
  },
  {
   "cell_type": "code",
   "execution_count": 123,
   "id": "8326e35f-d5da-4614-96f6-3ace65ec71c7",
   "metadata": {},
   "outputs": [],
   "source": [
    "# Block 0205"
   ]
  },
  {
   "cell_type": "code",
   "execution_count": 124,
   "id": "79bbcbc1-2b86-43c9-8e80-7501d041ed92",
   "metadata": {},
   "outputs": [],
   "source": [
    "block_0205 = \"../../../Spring_2024/S_lab_TasselNet/Block_11_TN/Block_11_images_and_xml\""
   ]
  },
  {
   "cell_type": "code",
   "execution_count": 125,
   "id": "ffcf2c1f-2ac6-4955-bd6a-4e561c3ddacd",
   "metadata": {},
   "outputs": [],
   "source": [
    "images_block_0205 = chose_xml_and_jpeg(block_0205)"
   ]
  },
  {
   "cell_type": "code",
   "execution_count": 126,
   "id": "d464b324-f265-4ab9-b11d-c9af166797a1",
   "metadata": {},
   "outputs": [
    {
     "data": {
      "text/plain": [
       "['Block0205_2020_08_26.jpeg',\n",
       " 'Block0205_2020_08_27.jpeg',\n",
       " 'Block0205_2020_08_28.jpeg',\n",
       " 'Block0205_2020_08_31.jpeg',\n",
       " 'Block0205_2020_09_02.jpeg',\n",
       " 'Block0205_2020_09_07.jpeg',\n",
       " 'Block0205_2020_09_16.jpeg']"
      ]
     },
     "execution_count": 126,
     "metadata": {},
     "output_type": "execute_result"
    }
   ],
   "source": [
    "images_block_0205"
   ]
  },
  {
   "cell_type": "code",
   "execution_count": 127,
   "id": "37d54c71-f991-4f7d-b52d-f010d9271aac",
   "metadata": {},
   "outputs": [
    {
     "name": "stdout",
     "output_type": "stream",
     "text": [
      "(1376, 300, 300, 3)\n",
      "43/43 [==============================] - 1s 18ms/step\n",
      "(1376, 300, 300, 3)\n",
      "43/43 [==============================] - 1s 18ms/step\n",
      "(1376, 300, 300, 3)\n",
      "43/43 [==============================] - 1s 17ms/step\n",
      "(1376, 300, 300, 3)\n",
      "43/43 [==============================] - 1s 18ms/step\n",
      "(1376, 300, 300, 3)\n",
      "43/43 [==============================] - 1s 18ms/step\n",
      "(1376, 300, 300, 3)\n",
      "43/43 [==============================] - 1s 18ms/step\n",
      "(1376, 300, 300, 3)\n",
      "43/43 [==============================] - 1s 18ms/step\n",
      "CPU times: user 2min 35s, sys: 12.3 s, total: 2min 47s\n",
      "Wall time: 2min 45s\n"
     ]
    }
   ],
   "source": [
    "%%time\n",
    "# get the extracted input features\n",
    "\n",
    "blk_0205_all_features = []\n",
    "for file in images_block_0205:\n",
    "    extracted_features = extract_features(file, block_0205)\n",
    "    blk_0205_all_features.append(extracted_features)"
   ]
  },
  {
   "cell_type": "code",
   "execution_count": 128,
   "id": "99c3aebb-dd78-4c75-a0eb-9b512b156858",
   "metadata": {},
   "outputs": [],
   "source": [
    "# stack the extracted features\n",
    "blk_0205_stacked_extracted_features = np.stack(blk_0205_all_features, axis = 1)"
   ]
  },
  {
   "cell_type": "code",
   "execution_count": 129,
   "id": "c593e7bb-c628-4799-803f-5cc17983c387",
   "metadata": {},
   "outputs": [
    {
     "data": {
      "text/plain": [
       "(1376, 7, 32)"
      ]
     },
     "execution_count": 129,
     "metadata": {},
     "output_type": "execute_result"
    }
   ],
   "source": [
    "blk_0205_stacked_extracted_features.shape"
   ]
  },
  {
   "cell_type": "code",
   "execution_count": 130,
   "id": "89bb535e-ce2b-4a6f-bd70-d7ece832c1c1",
   "metadata": {},
   "outputs": [
    {
     "data": {
      "text/plain": [
       "0.32147333"
      ]
     },
     "execution_count": 130,
     "metadata": {},
     "output_type": "execute_result"
    }
   ],
   "source": [
    "# see if the mean of the extracted features match to the ones earlier\n",
    "np.mean(blk_0205_stacked_extracted_features)"
   ]
  },
  {
   "cell_type": "code",
   "execution_count": 131,
   "id": "a7e3b0a2-fa60-451d-a7bc-b6c851002808",
   "metadata": {},
   "outputs": [],
   "source": [
    "# save the data\n",
    "np.save(\"data/test_out_targets/test_targets_blk_0205.npy\", blk_0205_stacked_extracted_features)"
   ]
  },
  {
   "cell_type": "code",
   "execution_count": 132,
   "id": "f6be404b-a9b4-4632-b66b-9d6f1075f6d7",
   "metadata": {},
   "outputs": [
    {
     "data": {
      "text/plain": [
       "1.0"
      ]
     },
     "execution_count": 132,
     "metadata": {},
     "output_type": "execute_result"
    }
   ],
   "source": [
    "# sanity check\n",
    "np.mean(blk_0205_stacked_extracted_features == np.load(\"data/test_out_targets/test_targets_blk_0205.npy\"))"
   ]
  },
  {
   "cell_type": "code",
   "execution_count": 133,
   "id": "ac1fd515-fd61-43f9-ae41-02609b545b38",
   "metadata": {},
   "outputs": [],
   "source": [
    "# Block 0206"
   ]
  },
  {
   "cell_type": "code",
   "execution_count": 134,
   "id": "ab107acc-91c3-4a21-998d-8593ee0ac05f",
   "metadata": {},
   "outputs": [],
   "source": [
    "block_0206 = \"../../../Spring_2024/S_lab_TasselNet/Block_12_TN/Block_12_images_and_xml\""
   ]
  },
  {
   "cell_type": "code",
   "execution_count": 135,
   "id": "e88145c3-ff5b-47ff-a284-aa2a0f2dc61a",
   "metadata": {},
   "outputs": [],
   "source": [
    "images_block_0206 = chose_xml_and_jpeg(block_0206)"
   ]
  },
  {
   "cell_type": "code",
   "execution_count": 136,
   "id": "8f9e5ac2-15ff-4842-8675-8b7abc4e38c0",
   "metadata": {},
   "outputs": [
    {
     "data": {
      "text/plain": [
       "['Block0206_2020_08_26.jpeg',\n",
       " 'Block0206_2020_08_27.jpeg',\n",
       " 'Block0206_2020_08_28.jpeg',\n",
       " 'Block0206_2020_08_31.jpeg',\n",
       " 'Block0206_2020_09_02.jpeg',\n",
       " 'Block0206_2020_09_07.jpeg',\n",
       " 'Block0206_2020_09_16.jpeg']"
      ]
     },
     "execution_count": 136,
     "metadata": {},
     "output_type": "execute_result"
    }
   ],
   "source": [
    "images_block_0206"
   ]
  },
  {
   "cell_type": "code",
   "execution_count": 137,
   "id": "08039d8f-43da-4370-a74a-230d8a506287",
   "metadata": {},
   "outputs": [
    {
     "name": "stdout",
     "output_type": "stream",
     "text": [
      "(1376, 300, 300, 3)\n",
      "43/43 [==============================] - 1s 18ms/step\n",
      "(1376, 300, 300, 3)\n",
      "43/43 [==============================] - 1s 18ms/step\n",
      "(1376, 300, 300, 3)\n",
      "43/43 [==============================] - 1s 18ms/step\n",
      "(1376, 300, 300, 3)\n",
      "43/43 [==============================] - 1s 18ms/step\n",
      "(1376, 300, 300, 3)\n",
      "43/43 [==============================] - 1s 18ms/step\n",
      "(1376, 300, 300, 3)\n",
      "43/43 [==============================] - 1s 18ms/step\n",
      "(1376, 300, 300, 3)\n",
      "43/43 [==============================] - 1s 18ms/step\n",
      "CPU times: user 2min 35s, sys: 12.4 s, total: 2min 47s\n",
      "Wall time: 2min 45s\n"
     ]
    }
   ],
   "source": [
    "%%time\n",
    "# get the extracted input features\n",
    "\n",
    "blk_0206_all_features = []\n",
    "for file in images_block_0206:\n",
    "    extracted_features = extract_features(file, block_0206)\n",
    "    blk_0206_all_features.append(extracted_features)"
   ]
  },
  {
   "cell_type": "code",
   "execution_count": 138,
   "id": "caa68285-634a-41f6-be6a-032e58233d23",
   "metadata": {},
   "outputs": [],
   "source": [
    "# stack the extracted features\n",
    "blk_0206_stacked_extracted_features = np.stack(blk_0206_all_features, axis = 1)"
   ]
  },
  {
   "cell_type": "code",
   "execution_count": 139,
   "id": "b1ae85eb-1687-4bb0-9e39-b821f6f0e40c",
   "metadata": {},
   "outputs": [
    {
     "data": {
      "text/plain": [
       "(1376, 7, 32)"
      ]
     },
     "execution_count": 139,
     "metadata": {},
     "output_type": "execute_result"
    }
   ],
   "source": [
    "blk_0206_stacked_extracted_features.shape"
   ]
  },
  {
   "cell_type": "code",
   "execution_count": 140,
   "id": "cecf454a-ed87-4ec8-a08b-00c2e49f3b3b",
   "metadata": {},
   "outputs": [
    {
     "data": {
      "text/plain": [
       "0.28877684"
      ]
     },
     "execution_count": 140,
     "metadata": {},
     "output_type": "execute_result"
    }
   ],
   "source": [
    "# see if the mean of the extracted features match to the ones earlier\n",
    "np.mean(blk_0206_stacked_extracted_features)"
   ]
  },
  {
   "cell_type": "code",
   "execution_count": 141,
   "id": "33d9aa38-291f-4901-9676-c49f365dec4e",
   "metadata": {},
   "outputs": [],
   "source": [
    "# save the data\n",
    "np.save(\"data/test_out_targets/test_targets_blk_0206.npy\", blk_0206_stacked_extracted_features)"
   ]
  },
  {
   "cell_type": "code",
   "execution_count": 142,
   "id": "f4475a3e-be57-487c-b318-504cb6b926a3",
   "metadata": {},
   "outputs": [
    {
     "data": {
      "text/plain": [
       "1.0"
      ]
     },
     "execution_count": 142,
     "metadata": {},
     "output_type": "execute_result"
    }
   ],
   "source": [
    "# sanity check\n",
    "np.mean(blk_0206_stacked_extracted_features == np.load(\"data/test_out_targets/test_targets_blk_0206.npy\"))"
   ]
  },
  {
   "cell_type": "code",
   "execution_count": 143,
   "id": "e69ed80d-0dc5-4739-a6dc-64d5e47d69ae",
   "metadata": {},
   "outputs": [],
   "source": [
    "# Block 0302"
   ]
  },
  {
   "cell_type": "code",
   "execution_count": 144,
   "id": "7c43309a-1943-41ef-b660-2a33ee36ecce",
   "metadata": {},
   "outputs": [],
   "source": [
    "block_0302 = \"../../../Spring_2024/S_lab_TasselNet/Block_14_TN/Block_14_images_and_xml\""
   ]
  },
  {
   "cell_type": "code",
   "execution_count": 145,
   "id": "a1478e18-1607-4eff-846f-8a702258ae0f",
   "metadata": {},
   "outputs": [],
   "source": [
    "images_block_0302 = chose_xml_and_jpeg(block_0302)"
   ]
  },
  {
   "cell_type": "code",
   "execution_count": 146,
   "id": "cf855ff3-34e1-4b30-ae94-2394a51f1ec6",
   "metadata": {},
   "outputs": [
    {
     "data": {
      "text/plain": [
       "['Block0302_2020_08_26.jpeg',\n",
       " 'Block0302_2020_08_27.jpeg',\n",
       " 'Block0302_2020_08_28.jpeg',\n",
       " 'Block0302_2020_08_31.jpeg',\n",
       " 'Block0302_2020_09_02.jpeg',\n",
       " 'Block0302_2020_09_07.jpeg',\n",
       " 'Block0302_2020_09_16.jpeg']"
      ]
     },
     "execution_count": 146,
     "metadata": {},
     "output_type": "execute_result"
    }
   ],
   "source": [
    "images_block_0302"
   ]
  },
  {
   "cell_type": "code",
   "execution_count": 147,
   "id": "14cde4d8-5ccb-4fae-8c82-799bffa80635",
   "metadata": {},
   "outputs": [
    {
     "name": "stdout",
     "output_type": "stream",
     "text": [
      "(1376, 300, 300, 3)\n",
      "43/43 [==============================] - 1s 18ms/step\n",
      "(1376, 300, 300, 3)\n",
      "43/43 [==============================] - 1s 18ms/step\n",
      "(1376, 300, 300, 3)\n",
      "43/43 [==============================] - 1s 18ms/step\n",
      "(1376, 300, 300, 3)\n",
      "43/43 [==============================] - 1s 18ms/step\n",
      "(1376, 300, 300, 3)\n",
      "43/43 [==============================] - 1s 18ms/step\n",
      "(1376, 300, 300, 3)\n",
      "43/43 [==============================] - 1s 18ms/step\n",
      "(1376, 300, 300, 3)\n",
      "43/43 [==============================] - 1s 18ms/step\n",
      "CPU times: user 2min 35s, sys: 12.3 s, total: 2min 48s\n",
      "Wall time: 2min 45s\n"
     ]
    }
   ],
   "source": [
    "%%time\n",
    "# get the extracted input features\n",
    "\n",
    "blk_0302_all_features = []\n",
    "for file in images_block_0302:\n",
    "    extracted_features = extract_features(file, block_0302)\n",
    "    blk_0302_all_features.append(extracted_features)"
   ]
  },
  {
   "cell_type": "code",
   "execution_count": 148,
   "id": "d8eb24a5-2bd1-4553-a9da-e3975489ff0f",
   "metadata": {},
   "outputs": [],
   "source": [
    "# stack the extracted features\n",
    "blk_0302_stacked_extracted_features = np.stack(blk_0302_all_features, axis = 1)"
   ]
  },
  {
   "cell_type": "code",
   "execution_count": 149,
   "id": "1b697430-62d5-426e-a7f6-bff53f9daf91",
   "metadata": {},
   "outputs": [
    {
     "data": {
      "text/plain": [
       "(1376, 7, 32)"
      ]
     },
     "execution_count": 149,
     "metadata": {},
     "output_type": "execute_result"
    }
   ],
   "source": [
    "blk_0302_stacked_extracted_features.shape"
   ]
  },
  {
   "cell_type": "code",
   "execution_count": 150,
   "id": "aa8200ba-f516-469e-9f62-31a4ca9b6e58",
   "metadata": {},
   "outputs": [
    {
     "data": {
      "text/plain": [
       "0.25968924"
      ]
     },
     "execution_count": 150,
     "metadata": {},
     "output_type": "execute_result"
    }
   ],
   "source": [
    "# see if the mean of the extracted features match to the ones earlier\n",
    "np.mean(blk_0302_stacked_extracted_features)"
   ]
  },
  {
   "cell_type": "code",
   "execution_count": 151,
   "id": "bf9b1f45-bfa1-4ec0-ae05-a4a85b6c53fb",
   "metadata": {},
   "outputs": [],
   "source": [
    "# save the data\n",
    "np.save(\"data/test_out_targets/test_targets_blk_0302.npy\", blk_0302_stacked_extracted_features)"
   ]
  },
  {
   "cell_type": "code",
   "execution_count": 152,
   "id": "35173161-041a-4f12-8d3e-8269f22c7fa7",
   "metadata": {},
   "outputs": [
    {
     "data": {
      "text/plain": [
       "1.0"
      ]
     },
     "execution_count": 152,
     "metadata": {},
     "output_type": "execute_result"
    }
   ],
   "source": [
    "# sanity check\n",
    "np.mean(blk_0302_stacked_extracted_features == np.load(\"data/test_out_targets/test_targets_blk_0302.npy\"))"
   ]
  },
  {
   "cell_type": "code",
   "execution_count": 153,
   "id": "4207c996-0c40-49f4-9746-e208d4677db8",
   "metadata": {},
   "outputs": [],
   "source": [
    "# Block 0303"
   ]
  },
  {
   "cell_type": "code",
   "execution_count": 154,
   "id": "5827b451-1ee7-4d26-857b-ee9f96b28207",
   "metadata": {},
   "outputs": [],
   "source": [
    "block_0303 = \"../../../Spring_2024/S_lab_TasselNet/Block_15_TN/Block_15_images_and_xml\""
   ]
  },
  {
   "cell_type": "code",
   "execution_count": 155,
   "id": "9197c85b-46c7-485f-9325-87f7f8f78b2b",
   "metadata": {},
   "outputs": [],
   "source": [
    "images_block_0303 = chose_xml_and_jpeg(block_0303)"
   ]
  },
  {
   "cell_type": "code",
   "execution_count": 156,
   "id": "278957ac-f412-4d60-9a4d-32ed37885cfd",
   "metadata": {},
   "outputs": [
    {
     "data": {
      "text/plain": [
       "['Block0303_2020_08_26.jpeg',\n",
       " 'Block0303_2020_08_27.jpeg',\n",
       " 'Block0303_2020_08_28.jpeg',\n",
       " 'Block0303_2020_08_31.jpeg',\n",
       " 'Block0303_2020_09_02.jpeg',\n",
       " 'Block0303_2020_09_07.jpeg',\n",
       " 'Block0303_2020_09_16.jpeg']"
      ]
     },
     "execution_count": 156,
     "metadata": {},
     "output_type": "execute_result"
    }
   ],
   "source": [
    "images_block_0303"
   ]
  },
  {
   "cell_type": "code",
   "execution_count": 157,
   "id": "78320cfa-8cbf-4c01-a2e6-1fa78730d5e1",
   "metadata": {},
   "outputs": [
    {
     "name": "stdout",
     "output_type": "stream",
     "text": [
      "(1376, 300, 300, 3)\n",
      "43/43 [==============================] - 1s 18ms/step\n",
      "(1376, 300, 300, 3)\n",
      "43/43 [==============================] - 1s 18ms/step\n",
      "(1376, 300, 300, 3)\n",
      "43/43 [==============================] - 1s 18ms/step\n",
      "(1376, 300, 300, 3)\n",
      "43/43 [==============================] - 1s 18ms/step\n",
      "(1376, 300, 300, 3)\n",
      "43/43 [==============================] - 1s 18ms/step\n",
      "(1376, 300, 300, 3)\n",
      "43/43 [==============================] - 1s 18ms/step\n",
      "(1376, 300, 300, 3)\n",
      "43/43 [==============================] - 1s 18ms/step\n",
      "CPU times: user 2min 35s, sys: 12.9 s, total: 2min 48s\n",
      "Wall time: 2min 46s\n"
     ]
    }
   ],
   "source": [
    "%%time\n",
    "# get the extracted input features\n",
    "\n",
    "blk_0303_all_features = []\n",
    "for file in images_block_0303:\n",
    "    extracted_features = extract_features(file, block_0303)\n",
    "    blk_0303_all_features.append(extracted_features)"
   ]
  },
  {
   "cell_type": "code",
   "execution_count": 158,
   "id": "e86f85a6-050d-4d9d-8766-f38ee19b99ab",
   "metadata": {},
   "outputs": [],
   "source": [
    "# stack the extracted features\n",
    "blk_0303_stacked_extracted_features = np.stack(blk_0303_all_features, axis = 1)"
   ]
  },
  {
   "cell_type": "code",
   "execution_count": 159,
   "id": "000e15dc-7673-4433-ac05-7d67ded17117",
   "metadata": {},
   "outputs": [
    {
     "data": {
      "text/plain": [
       "(1376, 7, 32)"
      ]
     },
     "execution_count": 159,
     "metadata": {},
     "output_type": "execute_result"
    }
   ],
   "source": [
    "blk_0303_stacked_extracted_features.shape"
   ]
  },
  {
   "cell_type": "code",
   "execution_count": 160,
   "id": "12055f0a-d048-491f-bbfd-56e80ea52c01",
   "metadata": {},
   "outputs": [
    {
     "data": {
      "text/plain": [
       "0.16399278"
      ]
     },
     "execution_count": 160,
     "metadata": {},
     "output_type": "execute_result"
    }
   ],
   "source": [
    "# see if the mean of the extracted features match to the ones earlier\n",
    "np.mean(blk_0303_stacked_extracted_features)"
   ]
  },
  {
   "cell_type": "code",
   "execution_count": 161,
   "id": "e4e7bc4a-b684-49bf-a17d-230a5edc5b5c",
   "metadata": {},
   "outputs": [],
   "source": [
    "# save the data\n",
    "np.save(\"data/test_out_targets/test_targets_blk_0303.npy\", blk_0303_stacked_extracted_features)"
   ]
  },
  {
   "cell_type": "code",
   "execution_count": 162,
   "id": "cbef6ff6-1f04-4574-b1c5-085ef555935b",
   "metadata": {},
   "outputs": [
    {
     "data": {
      "text/plain": [
       "1.0"
      ]
     },
     "execution_count": 162,
     "metadata": {},
     "output_type": "execute_result"
    }
   ],
   "source": [
    "# sanity check\n",
    "np.mean(blk_0303_stacked_extracted_features == np.load(\"data/test_out_targets/test_targets_blk_0303.npy\"))"
   ]
  },
  {
   "cell_type": "code",
   "execution_count": 163,
   "id": "fa932ff9-608b-4782-b380-cef5ee204d19",
   "metadata": {},
   "outputs": [],
   "source": [
    "# Block 0304"
   ]
  },
  {
   "cell_type": "code",
   "execution_count": 164,
   "id": "72365a52-f66c-4c62-8c46-2285dba31f63",
   "metadata": {},
   "outputs": [],
   "source": [
    "block_0304 = \"../../../Spring_2024/S_lab_TasselNet/Block_16_TN/Block_16_images_and_xml\""
   ]
  },
  {
   "cell_type": "code",
   "execution_count": 165,
   "id": "8a0c8519-376f-470b-8398-6a9c6965635f",
   "metadata": {},
   "outputs": [],
   "source": [
    "images_block_0304 = chose_xml_and_jpeg(block_0304)"
   ]
  },
  {
   "cell_type": "code",
   "execution_count": 166,
   "id": "e4b889ca-9cd1-49ce-8807-5485dce507ed",
   "metadata": {},
   "outputs": [
    {
     "data": {
      "text/plain": [
       "['Block0304_2020_08_26.jpeg',\n",
       " 'Block0304_2020_08_27.jpeg',\n",
       " 'Block0304_2020_08_28.jpeg',\n",
       " 'Block0304_2020_08_31.jpeg',\n",
       " 'Block0304_2020_09_02.jpeg',\n",
       " 'Block0304_2020_09_07.jpeg',\n",
       " 'Block0304_2020_09_16.jpeg']"
      ]
     },
     "execution_count": 166,
     "metadata": {},
     "output_type": "execute_result"
    }
   ],
   "source": [
    "images_block_0304"
   ]
  },
  {
   "cell_type": "code",
   "execution_count": 167,
   "id": "20b05607-32d0-44f1-a5f4-5120617fbae5",
   "metadata": {},
   "outputs": [
    {
     "name": "stdout",
     "output_type": "stream",
     "text": [
      "(1376, 300, 300, 3)\n",
      "43/43 [==============================] - 1s 18ms/step\n",
      "(1376, 300, 300, 3)\n",
      "43/43 [==============================] - 1s 18ms/step\n",
      "(1376, 300, 300, 3)\n",
      "43/43 [==============================] - 1s 18ms/step\n",
      "(1376, 300, 300, 3)\n",
      "43/43 [==============================] - 1s 18ms/step\n",
      "(1376, 300, 300, 3)\n",
      "43/43 [==============================] - 1s 18ms/step\n",
      "(1376, 300, 300, 3)\n",
      "43/43 [==============================] - 1s 18ms/step\n",
      "(1376, 300, 300, 3)\n",
      "43/43 [==============================] - 1s 18ms/step\n",
      "CPU times: user 2min 35s, sys: 12.1 s, total: 2min 48s\n",
      "Wall time: 2min 45s\n"
     ]
    }
   ],
   "source": [
    "%%time\n",
    "# get the extracted input features\n",
    "\n",
    "blk_0304_all_features = []\n",
    "for file in images_block_0304:\n",
    "    extracted_features = extract_features(file, block_0304)\n",
    "    blk_0304_all_features.append(extracted_features)"
   ]
  },
  {
   "cell_type": "code",
   "execution_count": 168,
   "id": "6e659286-14d6-418b-bbcb-69f7d8bab93e",
   "metadata": {},
   "outputs": [],
   "source": [
    "# stack the extracted features\n",
    "blk_0304_stacked_extracted_features = np.stack(blk_0304_all_features, axis = 1)"
   ]
  },
  {
   "cell_type": "code",
   "execution_count": 169,
   "id": "f43524d5-4997-43cc-86b8-fe49e19d9f82",
   "metadata": {},
   "outputs": [
    {
     "data": {
      "text/plain": [
       "(1376, 7, 32)"
      ]
     },
     "execution_count": 169,
     "metadata": {},
     "output_type": "execute_result"
    }
   ],
   "source": [
    "blk_0304_stacked_extracted_features.shape"
   ]
  },
  {
   "cell_type": "code",
   "execution_count": 170,
   "id": "729fcced-537b-46f5-ab84-577a5c52c851",
   "metadata": {},
   "outputs": [
    {
     "data": {
      "text/plain": [
       "0.22966018"
      ]
     },
     "execution_count": 170,
     "metadata": {},
     "output_type": "execute_result"
    }
   ],
   "source": [
    "# see if the mean of the extracted features match to the ones earlier\n",
    "np.mean(blk_0304_stacked_extracted_features)"
   ]
  },
  {
   "cell_type": "code",
   "execution_count": 171,
   "id": "08f21bfa-0a88-4db0-9466-bca07c6adc5f",
   "metadata": {},
   "outputs": [],
   "source": [
    "# save the data\n",
    "np.save(\"data/test_out_targets/test_targets_blk_0304.npy\", blk_0304_stacked_extracted_features)"
   ]
  },
  {
   "cell_type": "code",
   "execution_count": 172,
   "id": "402b3d45-9394-45a5-a783-34447a04b7d2",
   "metadata": {},
   "outputs": [
    {
     "data": {
      "text/plain": [
       "1.0"
      ]
     },
     "execution_count": 172,
     "metadata": {},
     "output_type": "execute_result"
    }
   ],
   "source": [
    "# sanity check\n",
    "np.mean(blk_0304_stacked_extracted_features == np.load(\"data/test_out_targets/test_targets_blk_0304.npy\"))"
   ]
  },
  {
   "cell_type": "code",
   "execution_count": 173,
   "id": "17c4f7ae-dd52-4d39-882a-7b070980c95f",
   "metadata": {},
   "outputs": [],
   "source": [
    "# Block 0305"
   ]
  },
  {
   "cell_type": "code",
   "execution_count": 174,
   "id": "a4b6299d-0469-4873-b7d0-e8d81ff1b14a",
   "metadata": {},
   "outputs": [],
   "source": [
    "block_0305 = \"../../../Spring_2024/S_lab_TasselNet/Block_17_TN/Block_17_images_and_xml\""
   ]
  },
  {
   "cell_type": "code",
   "execution_count": 175,
   "id": "0b47b158-f50b-47ef-9ec3-367eae6b96a8",
   "metadata": {},
   "outputs": [],
   "source": [
    "images_block_0305 = chose_xml_and_jpeg(block_0305)"
   ]
  },
  {
   "cell_type": "code",
   "execution_count": 176,
   "id": "7662237a-a011-469c-98fe-7a04ab6d16c3",
   "metadata": {},
   "outputs": [
    {
     "data": {
      "text/plain": [
       "['Block0305_2020_08_26.jpeg',\n",
       " 'Block0305_2020_08_27.jpeg',\n",
       " 'Block0305_2020_08_28.jpeg',\n",
       " 'Block0305_2020_08_31.jpeg',\n",
       " 'Block0305_2020_09_02.jpeg',\n",
       " 'Block0305_2020_09_07.jpeg',\n",
       " 'Block0305_2020_09_16.jpeg']"
      ]
     },
     "execution_count": 176,
     "metadata": {},
     "output_type": "execute_result"
    }
   ],
   "source": [
    "images_block_0305"
   ]
  },
  {
   "cell_type": "code",
   "execution_count": 177,
   "id": "52e39b5c-6955-48ff-9965-accb68022a73",
   "metadata": {},
   "outputs": [
    {
     "name": "stdout",
     "output_type": "stream",
     "text": [
      "(1376, 300, 300, 3)\n",
      "43/43 [==============================] - 1s 18ms/step\n",
      "(1376, 300, 300, 3)\n",
      "43/43 [==============================] - 1s 18ms/step\n",
      "(1376, 300, 300, 3)\n",
      "43/43 [==============================] - 1s 18ms/step\n",
      "(1376, 300, 300, 3)\n",
      "43/43 [==============================] - 1s 18ms/step\n",
      "(1376, 300, 300, 3)\n",
      "43/43 [==============================] - 1s 18ms/step\n",
      "(1376, 300, 300, 3)\n",
      "43/43 [==============================] - 1s 18ms/step\n",
      "(1376, 300, 300, 3)\n",
      "43/43 [==============================] - 1s 18ms/step\n",
      "CPU times: user 2min 35s, sys: 12.3 s, total: 2min 47s\n",
      "Wall time: 2min 44s\n"
     ]
    }
   ],
   "source": [
    "%%time\n",
    "# get the extracted input features\n",
    "\n",
    "blk_0305_all_features = []\n",
    "for file in images_block_0305:\n",
    "    extracted_features = extract_features(file, block_0305)\n",
    "    blk_0305_all_features.append(extracted_features)"
   ]
  },
  {
   "cell_type": "code",
   "execution_count": 178,
   "id": "94b3d318-1838-4ce4-af4f-638495030397",
   "metadata": {},
   "outputs": [],
   "source": [
    "# stack the extracted features\n",
    "blk_0305_stacked_extracted_features = np.stack(blk_0305_all_features, axis = 1)"
   ]
  },
  {
   "cell_type": "code",
   "execution_count": 179,
   "id": "e83cb3be-1544-43e3-8805-da831628a1f7",
   "metadata": {},
   "outputs": [
    {
     "data": {
      "text/plain": [
       "(1376, 7, 32)"
      ]
     },
     "execution_count": 179,
     "metadata": {},
     "output_type": "execute_result"
    }
   ],
   "source": [
    "blk_0305_stacked_extracted_features.shape"
   ]
  },
  {
   "cell_type": "code",
   "execution_count": 180,
   "id": "50ded350-da52-4d37-94ed-d1ec5e52ec2b",
   "metadata": {},
   "outputs": [
    {
     "data": {
      "text/plain": [
       "0.22754368"
      ]
     },
     "execution_count": 180,
     "metadata": {},
     "output_type": "execute_result"
    }
   ],
   "source": [
    "# see if the mean of the extracted features match to the ones earlier\n",
    "np.mean(blk_0305_stacked_extracted_features)"
   ]
  },
  {
   "cell_type": "code",
   "execution_count": 181,
   "id": "1c86740c-2787-427f-911b-31376fbf35dc",
   "metadata": {},
   "outputs": [],
   "source": [
    "# save the data\n",
    "np.save(\"data/test_out_targets/test_targets_blk_0305.npy\", blk_0305_stacked_extracted_features)"
   ]
  },
  {
   "cell_type": "code",
   "execution_count": 182,
   "id": "bbf8fb29-f132-4d76-940e-66f13a7653eb",
   "metadata": {},
   "outputs": [
    {
     "data": {
      "text/plain": [
       "1.0"
      ]
     },
     "execution_count": 182,
     "metadata": {},
     "output_type": "execute_result"
    }
   ],
   "source": [
    "# sanity check\n",
    "np.mean(blk_0305_stacked_extracted_features == np.load(\"data/test_out_targets/test_targets_blk_0305.npy\"))"
   ]
  },
  {
   "cell_type": "code",
   "execution_count": 13,
   "id": "493dfcfc-1d16-4db0-8d42-9ce0e04831f1",
   "metadata": {},
   "outputs": [],
   "source": [
    "# Block 0306"
   ]
  },
  {
   "cell_type": "code",
   "execution_count": 14,
   "id": "bee188d2-049b-4948-886e-5fecd80f69d9",
   "metadata": {},
   "outputs": [],
   "source": [
    "block_0306 = \"../../../Spring_2024/S_lab_TasselNet/Block_18_TN/Block_18_images_and_xml\""
   ]
  },
  {
   "cell_type": "code",
   "execution_count": 15,
   "id": "4f459932-0d2e-45a8-bb07-8be302ce746a",
   "metadata": {},
   "outputs": [],
   "source": [
    "images_block_0306 = chose_xml_and_jpeg(block_0306)"
   ]
  },
  {
   "cell_type": "code",
   "execution_count": 16,
   "id": "3641a97e-c2a1-462f-aaec-ea4a48b4a0b7",
   "metadata": {},
   "outputs": [
    {
     "data": {
      "text/plain": [
       "['Block0306_2020_08_26.jpeg',\n",
       " 'Block0306_2020_08_27.jpeg',\n",
       " 'Block0306_2020_08_28.jpeg',\n",
       " 'Block0306_2020_08_31.jpeg',\n",
       " 'Block0306_2020_09_02.jpeg',\n",
       " 'Block0306_2020_09_07.jpeg',\n",
       " 'Block0306_2020_09_16.jpeg']"
      ]
     },
     "execution_count": 16,
     "metadata": {},
     "output_type": "execute_result"
    }
   ],
   "source": [
    "images_block_0306"
   ]
  },
  {
   "cell_type": "code",
   "execution_count": 17,
   "id": "e21264fe-e093-40b0-9b20-e9a4b19a30f6",
   "metadata": {},
   "outputs": [
    {
     "name": "stdout",
     "output_type": "stream",
     "text": [
      "(1376, 300, 300, 3)\n"
     ]
    },
    {
     "name": "stderr",
     "output_type": "stream",
     "text": [
      "2025-09-08 21:11:21.472060: I external/local_xla/xla/stream_executor/cuda/cuda_dnn.cc:454] Loaded cuDNN version 8907\n"
     ]
    },
    {
     "name": "stdout",
     "output_type": "stream",
     "text": [
      "43/43 [==============================] - 4s 17ms/step\n",
      "(1376, 300, 300, 3)\n",
      "43/43 [==============================] - 1s 18ms/step\n",
      "(1376, 300, 300, 3)\n",
      "43/43 [==============================] - 1s 16ms/step\n",
      "(1376, 300, 300, 3)\n",
      "43/43 [==============================] - 1s 16ms/step\n",
      "(1376, 300, 300, 3)\n",
      "43/43 [==============================] - 1s 16ms/step\n",
      "(1376, 300, 300, 3)\n",
      "43/43 [==============================] - 1s 18ms/step\n",
      "(1376, 300, 300, 3)\n",
      "43/43 [==============================] - 1s 16ms/step\n",
      "CPU times: user 2min 33s, sys: 13.2 s, total: 2min 46s\n",
      "Wall time: 2min 46s\n"
     ]
    }
   ],
   "source": [
    "%%time\n",
    "# get the extracted input features\n",
    "\n",
    "blk_0306_all_features = []\n",
    "for file in images_block_0306:\n",
    "    extracted_features = extract_features(file, block_0306)\n",
    "    blk_0306_all_features.append(extracted_features)"
   ]
  },
  {
   "cell_type": "code",
   "execution_count": 18,
   "id": "78b28a31-4170-4ec4-850f-a2f52be95b69",
   "metadata": {},
   "outputs": [],
   "source": [
    "# stack the extracted features\n",
    "blk_0306_stacked_extracted_features = np.stack(blk_0306_all_features, axis = 1)"
   ]
  },
  {
   "cell_type": "code",
   "execution_count": 19,
   "id": "29f97d53-43fa-4b19-b3f1-211ab04bfc2f",
   "metadata": {},
   "outputs": [
    {
     "data": {
      "text/plain": [
       "(1376, 7, 32)"
      ]
     },
     "execution_count": 19,
     "metadata": {},
     "output_type": "execute_result"
    }
   ],
   "source": [
    "blk_0306_stacked_extracted_features.shape"
   ]
  },
  {
   "cell_type": "code",
   "execution_count": 20,
   "id": "ab247859-19f1-4917-93b4-be8a37e03bea",
   "metadata": {},
   "outputs": [
    {
     "data": {
      "text/plain": [
       "0.2732109"
      ]
     },
     "execution_count": 20,
     "metadata": {},
     "output_type": "execute_result"
    }
   ],
   "source": [
    "# see if the mean of the extracted features match to the ones earlier\n",
    "np.mean(blk_0306_stacked_extracted_features)"
   ]
  },
  {
   "cell_type": "code",
   "execution_count": 21,
   "id": "ab4bab5e-8842-49c6-8685-c976de87d5cb",
   "metadata": {},
   "outputs": [],
   "source": [
    "# save the data\n",
    "np.save(\"data/test_out_targets/test_targets_blk_0306.npy\", blk_0306_stacked_extracted_features)"
   ]
  },
  {
   "cell_type": "code",
   "execution_count": 22,
   "id": "d7c83615-b06a-4cd6-8c68-ffba1f7b5d16",
   "metadata": {},
   "outputs": [
    {
     "data": {
      "text/plain": [
       "1.0"
      ]
     },
     "execution_count": 22,
     "metadata": {},
     "output_type": "execute_result"
    }
   ],
   "source": [
    "# sanity check\n",
    "np.mean(blk_0306_stacked_extracted_features == np.load(\"data/test_out_targets/test_targets_blk_0306.npy\"))"
   ]
  }
 ],
 "metadata": {
  "kernelspec": {
   "display_name": "Python (nrdstor_tfp_for_TN)",
   "language": "python",
   "name": "nrdstor_tfp_for_tn"
  },
  "language_info": {
   "codemirror_mode": {
    "name": "ipython",
    "version": 3
   },
   "file_extension": ".py",
   "mimetype": "text/x-python",
   "name": "python",
   "nbconvert_exporter": "python",
   "pygments_lexer": "ipython3",
   "version": "3.10.14"
  }
 },
 "nbformat": 4,
 "nbformat_minor": 5
}
