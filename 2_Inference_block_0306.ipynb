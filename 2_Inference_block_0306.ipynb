{
 "cells": [
  {
   "cell_type": "code",
   "execution_count": 1,
   "id": "95479ff1-daa9-4a85-bee2-32d78b24506b",
   "metadata": {},
   "outputs": [],
   "source": [
    "import pandas as pd\n",
    "import numpy as np\n",
    "import matplotlib.pyplot as plt\n",
    "import os\n",
    "from sklearn.metrics import mean_absolute_error, mean_squared_error, r2_score\n",
    "from scipy.stats import pearsonr"
   ]
  },
  {
   "cell_type": "code",
   "execution_count": 2,
   "id": "d0c496d4-1b24-43dd-ab1b-b98d6eaef21b",
   "metadata": {},
   "outputs": [],
   "source": [
    "# path to dataframes\n",
    "path_to_dfs = \"data/BLAR_implementation/Block_0306/forecasted_counts/\""
   ]
  },
  {
   "cell_type": "code",
   "execution_count": 3,
   "id": "0c9c641d-4e5d-4c54-a235-c62cbdf13f8d",
   "metadata": {},
   "outputs": [],
   "source": [
    "# os.listdir(path_to_dfs)"
   ]
  },
  {
   "cell_type": "code",
   "execution_count": 4,
   "id": "5e5d1ebd-ac8c-4a2b-b33c-db3c4b477eae",
   "metadata": {},
   "outputs": [
    {
     "data": {
      "text/plain": [
       "6370"
      ]
     },
     "execution_count": 4,
     "metadata": {},
     "output_type": "execute_result"
    }
   ],
   "source": [
    "len(os.listdir(path_to_dfs))"
   ]
  },
  {
   "cell_type": "code",
   "execution_count": 5,
   "id": "3b80d752-5eb8-42c1-ad39-987ad3dbb001",
   "metadata": {},
   "outputs": [
    {
     "data": {
      "text/plain": [
       "7.0"
      ]
     },
     "execution_count": 5,
     "metadata": {},
     "output_type": "execute_result"
    }
   ],
   "source": [
    "6370/910"
   ]
  },
  {
   "cell_type": "code",
   "execution_count": 6,
   "id": "a0ac81e1-3049-44de-a2bf-4bf5a274ba45",
   "metadata": {},
   "outputs": [],
   "source": [
    "# seems each sub-window sequence have 7 things stored - what are all these?\n",
    "\n",
    "# the forecasted npy files\n",
    "# ar_sigma\n",
    "# noise_sigma\n",
    "# betas\n",
    "# rho\n",
    "# averaged forecasts\n",
    "# posterior parameter summaries - might need to pay a little attention here, the r_hat values are too high - think this should vary around 1? - but almost all the values are greater than 2."
   ]
  },
  {
   "cell_type": "code",
   "execution_count": 7,
   "id": "f9a4f497-2d9d-4b5c-9169-46b6ae6b9977",
   "metadata": {},
   "outputs": [],
   "source": [
    "averaged_forecasts_csvs = []\n",
    "for file in os.listdir(path_to_dfs):\n",
    "    if file[:8] =='averaged':\n",
    "        averaged_forecasts_csvs.append(file)"
   ]
  },
  {
   "cell_type": "code",
   "execution_count": 8,
   "id": "094e9614-b16f-45a2-aafc-d7884678eb44",
   "metadata": {},
   "outputs": [
    {
     "data": {
      "text/plain": [
       "910"
      ]
     },
     "execution_count": 8,
     "metadata": {},
     "output_type": "execute_result"
    }
   ],
   "source": [
    "# how many csv files do we have?\n",
    "len(averaged_forecasts_csvs)"
   ]
  },
  {
   "cell_type": "code",
   "execution_count": 9,
   "id": "7eca928b-bdbd-4d00-9eb1-8a808db7123e",
   "metadata": {},
   "outputs": [],
   "source": [
    "# averaged_forecasts_csvs - we probably need these in order for getting the respective predicted values"
   ]
  },
  {
   "cell_type": "code",
   "execution_count": 10,
   "id": "d0e11c68-824a-41ea-bf6b-65f53103343f",
   "metadata": {},
   "outputs": [
    {
     "data": {
      "text/plain": [
       "'averaged_forecasts_sub_653.csv'"
      ]
     },
     "execution_count": 10,
     "metadata": {},
     "output_type": "execute_result"
    }
   ],
   "source": [
    "averaged_forecasts_csvs[0]"
   ]
  },
  {
   "cell_type": "code",
   "execution_count": 11,
   "id": "f1f9e7be-53a6-4f38-b389-045d898b14ef",
   "metadata": {},
   "outputs": [],
   "source": [
    "# sorting them would not work as everything in the nomenclature of the files is a character - hence will not respect the numerical order"
   ]
  },
  {
   "cell_type": "code",
   "execution_count": 12,
   "id": "3cf616ee-4b4e-4ad9-ac1b-20aba081bfc5",
   "metadata": {},
   "outputs": [],
   "source": [
    "# let's create these names in the order of the subwindows\n",
    "ordered_csv_files = ['averaged_forecasts_sub_' + str(i) + '.csv' for i in range(910)]"
   ]
  },
  {
   "cell_type": "code",
   "execution_count": 13,
   "id": "7ac08389-4437-448b-b8a8-317cd0a9bf8e",
   "metadata": {},
   "outputs": [],
   "source": [
    "# ordered_csv_files"
   ]
  },
  {
   "cell_type": "code",
   "execution_count": 14,
   "id": "e74425d7-b613-44cf-96dd-df4298cef947",
   "metadata": {},
   "outputs": [],
   "source": [
    "# averaged_forecasts_csvs list is pointless at this time?"
   ]
  },
  {
   "cell_type": "code",
   "execution_count": 15,
   "id": "9a94c9ec-57cc-42fa-ad71-26639da44cb7",
   "metadata": {},
   "outputs": [
    {
     "name": "stdout",
     "output_type": "stream",
     "text": [
      "CPU times: user 1.49 s, sys: 322 ms, total: 1.82 s\n",
      "Wall time: 25.5 s\n"
     ]
    }
   ],
   "source": [
    "%%time\n",
    "all_dfs = []\n",
    "for file in ordered_csv_files:\n",
    "    read_df = pd.read_csv(path_to_dfs + '/' + file)\n",
    "    all_dfs.append(read_df)"
   ]
  },
  {
   "cell_type": "code",
   "execution_count": 16,
   "id": "c04b6062-8fc9-4f3e-87f2-2a8e9abac16f",
   "metadata": {},
   "outputs": [],
   "source": [
    "# make a single dataframe out of the many\n",
    "combined_df = pd.concat(all_dfs, axis = 1)"
   ]
  },
  {
   "cell_type": "code",
   "execution_count": 17,
   "id": "5671cc95-7ba6-47bc-8da8-47ba9d3f36e3",
   "metadata": {},
   "outputs": [
    {
     "data": {
      "text/html": [
       "<div>\n",
       "<style scoped>\n",
       "    .dataframe tbody tr th:only-of-type {\n",
       "        vertical-align: middle;\n",
       "    }\n",
       "\n",
       "    .dataframe tbody tr th {\n",
       "        vertical-align: top;\n",
       "    }\n",
       "\n",
       "    .dataframe thead th {\n",
       "        text-align: right;\n",
       "    }\n",
       "</style>\n",
       "<table border=\"1\" class=\"dataframe\">\n",
       "  <thead>\n",
       "    <tr style=\"text-align: right;\">\n",
       "      <th></th>\n",
       "      <th>True_value</th>\n",
       "      <th>Forecasted_value</th>\n",
       "      <th>True_value</th>\n",
       "      <th>Forecasted_value</th>\n",
       "      <th>True_value</th>\n",
       "      <th>Forecasted_value</th>\n",
       "      <th>True_value</th>\n",
       "      <th>Forecasted_value</th>\n",
       "      <th>True_value</th>\n",
       "      <th>Forecasted_value</th>\n",
       "      <th>...</th>\n",
       "      <th>True_value</th>\n",
       "      <th>Forecasted_value</th>\n",
       "      <th>True_value</th>\n",
       "      <th>Forecasted_value</th>\n",
       "      <th>True_value</th>\n",
       "      <th>Forecasted_value</th>\n",
       "      <th>True_value</th>\n",
       "      <th>Forecasted_value</th>\n",
       "      <th>True_value</th>\n",
       "      <th>Forecasted_value</th>\n",
       "    </tr>\n",
       "  </thead>\n",
       "  <tbody>\n",
       "    <tr>\n",
       "      <th>0</th>\n",
       "      <td>0.0</td>\n",
       "      <td>-0.009181</td>\n",
       "      <td>0.000000</td>\n",
       "      <td>-0.017935</td>\n",
       "      <td>0.079944</td>\n",
       "      <td>0.009551</td>\n",
       "      <td>4.965691e-01</td>\n",
       "      <td>0.012715</td>\n",
       "      <td>2.199685e-02</td>\n",
       "      <td>0.024707</td>\n",
       "      <td>...</td>\n",
       "      <td>0.0</td>\n",
       "      <td>-0.008778</td>\n",
       "      <td>0.0</td>\n",
       "      <td>-0.015795</td>\n",
       "      <td>0.0</td>\n",
       "      <td>-0.009725</td>\n",
       "      <td>0.0</td>\n",
       "      <td>0.007176</td>\n",
       "      <td>0.0</td>\n",
       "      <td>-0.006017</td>\n",
       "    </tr>\n",
       "    <tr>\n",
       "      <th>1</th>\n",
       "      <td>0.0</td>\n",
       "      <td>-0.004271</td>\n",
       "      <td>0.000000</td>\n",
       "      <td>-0.004557</td>\n",
       "      <td>0.000000</td>\n",
       "      <td>0.033439</td>\n",
       "      <td>3.283740e-10</td>\n",
       "      <td>0.087144</td>\n",
       "      <td>4.858496e-07</td>\n",
       "      <td>0.063389</td>\n",
       "      <td>...</td>\n",
       "      <td>0.0</td>\n",
       "      <td>-0.005281</td>\n",
       "      <td>0.0</td>\n",
       "      <td>-0.022703</td>\n",
       "      <td>0.0</td>\n",
       "      <td>-0.004794</td>\n",
       "      <td>0.0</td>\n",
       "      <td>0.010622</td>\n",
       "      <td>0.0</td>\n",
       "      <td>-0.005722</td>\n",
       "    </tr>\n",
       "    <tr>\n",
       "      <th>2</th>\n",
       "      <td>0.0</td>\n",
       "      <td>-0.010430</td>\n",
       "      <td>0.000000</td>\n",
       "      <td>-0.001658</td>\n",
       "      <td>0.000000</td>\n",
       "      <td>0.012973</td>\n",
       "      <td>3.668993e-05</td>\n",
       "      <td>0.157789</td>\n",
       "      <td>5.286380e-02</td>\n",
       "      <td>0.069661</td>\n",
       "      <td>...</td>\n",
       "      <td>0.0</td>\n",
       "      <td>-0.008369</td>\n",
       "      <td>0.0</td>\n",
       "      <td>-0.013511</td>\n",
       "      <td>0.0</td>\n",
       "      <td>-0.002541</td>\n",
       "      <td>0.0</td>\n",
       "      <td>0.005604</td>\n",
       "      <td>0.0</td>\n",
       "      <td>-0.004585</td>\n",
       "    </tr>\n",
       "    <tr>\n",
       "      <th>3</th>\n",
       "      <td>0.0</td>\n",
       "      <td>-0.002072</td>\n",
       "      <td>0.000000</td>\n",
       "      <td>0.002177</td>\n",
       "      <td>0.000008</td>\n",
       "      <td>0.006814</td>\n",
       "      <td>1.466245e-04</td>\n",
       "      <td>0.197636</td>\n",
       "      <td>7.683623e-10</td>\n",
       "      <td>0.039524</td>\n",
       "      <td>...</td>\n",
       "      <td>0.0</td>\n",
       "      <td>-0.001727</td>\n",
       "      <td>0.0</td>\n",
       "      <td>-0.009295</td>\n",
       "      <td>0.0</td>\n",
       "      <td>0.004205</td>\n",
       "      <td>0.0</td>\n",
       "      <td>0.010703</td>\n",
       "      <td>0.0</td>\n",
       "      <td>-0.004178</td>\n",
       "    </tr>\n",
       "    <tr>\n",
       "      <th>4</th>\n",
       "      <td>0.0</td>\n",
       "      <td>0.000132</td>\n",
       "      <td>0.055713</td>\n",
       "      <td>0.006024</td>\n",
       "      <td>0.055713</td>\n",
       "      <td>-0.005176</td>\n",
       "      <td>0.000000e+00</td>\n",
       "      <td>0.223642</td>\n",
       "      <td>0.000000e+00</td>\n",
       "      <td>0.042962</td>\n",
       "      <td>...</td>\n",
       "      <td>0.0</td>\n",
       "      <td>-0.005225</td>\n",
       "      <td>0.0</td>\n",
       "      <td>0.010862</td>\n",
       "      <td>0.0</td>\n",
       "      <td>0.008362</td>\n",
       "      <td>0.0</td>\n",
       "      <td>0.004749</td>\n",
       "      <td>0.0</td>\n",
       "      <td>-0.003000</td>\n",
       "    </tr>\n",
       "  </tbody>\n",
       "</table>\n",
       "<p>5 rows × 1820 columns</p>\n",
       "</div>"
      ],
      "text/plain": [
       "   True_value  Forecasted_value  True_value  Forecasted_value  True_value  \\\n",
       "0         0.0         -0.009181    0.000000         -0.017935    0.079944   \n",
       "1         0.0         -0.004271    0.000000         -0.004557    0.000000   \n",
       "2         0.0         -0.010430    0.000000         -0.001658    0.000000   \n",
       "3         0.0         -0.002072    0.000000          0.002177    0.000008   \n",
       "4         0.0          0.000132    0.055713          0.006024    0.055713   \n",
       "\n",
       "   Forecasted_value    True_value  Forecasted_value    True_value  \\\n",
       "0          0.009551  4.965691e-01          0.012715  2.199685e-02   \n",
       "1          0.033439  3.283740e-10          0.087144  4.858496e-07   \n",
       "2          0.012973  3.668993e-05          0.157789  5.286380e-02   \n",
       "3          0.006814  1.466245e-04          0.197636  7.683623e-10   \n",
       "4         -0.005176  0.000000e+00          0.223642  0.000000e+00   \n",
       "\n",
       "   Forecasted_value  ...  True_value  Forecasted_value  True_value  \\\n",
       "0          0.024707  ...         0.0         -0.008778         0.0   \n",
       "1          0.063389  ...         0.0         -0.005281         0.0   \n",
       "2          0.069661  ...         0.0         -0.008369         0.0   \n",
       "3          0.039524  ...         0.0         -0.001727         0.0   \n",
       "4          0.042962  ...         0.0         -0.005225         0.0   \n",
       "\n",
       "   Forecasted_value  True_value  Forecasted_value  True_value  \\\n",
       "0         -0.015795         0.0         -0.009725         0.0   \n",
       "1         -0.022703         0.0         -0.004794         0.0   \n",
       "2         -0.013511         0.0         -0.002541         0.0   \n",
       "3         -0.009295         0.0          0.004205         0.0   \n",
       "4          0.010862         0.0          0.008362         0.0   \n",
       "\n",
       "   Forecasted_value  True_value  Forecasted_value  \n",
       "0          0.007176         0.0         -0.006017  \n",
       "1          0.010622         0.0         -0.005722  \n",
       "2          0.005604         0.0         -0.004585  \n",
       "3          0.010703         0.0         -0.004178  \n",
       "4          0.004749         0.0         -0.003000  \n",
       "\n",
       "[5 rows x 1820 columns]"
      ]
     },
     "execution_count": 17,
     "metadata": {},
     "output_type": "execute_result"
    }
   ],
   "source": [
    "combined_df.head()"
   ]
  },
  {
   "cell_type": "code",
   "execution_count": 18,
   "id": "77ebc554-fe99-4cea-9cb3-2d2b8329b7b8",
   "metadata": {},
   "outputs": [
    {
     "data": {
      "text/plain": [
       "(7, 1820)"
      ]
     },
     "execution_count": 18,
     "metadata": {},
     "output_type": "execute_result"
    }
   ],
   "source": [
    "combined_df.shape"
   ]
  },
  {
   "cell_type": "code",
   "execution_count": 19,
   "id": "cd7bd824-8dac-4284-b286-aafcd8cd7d43",
   "metadata": {},
   "outputs": [],
   "source": [
    "# get the true values\n",
    "True_values_df = combined_df[['True_value']]"
   ]
  },
  {
   "cell_type": "code",
   "execution_count": 20,
   "id": "20d0decc-e09d-494a-9ff8-2139aac7254b",
   "metadata": {},
   "outputs": [
    {
     "data": {
      "text/html": [
       "<div>\n",
       "<style scoped>\n",
       "    .dataframe tbody tr th:only-of-type {\n",
       "        vertical-align: middle;\n",
       "    }\n",
       "\n",
       "    .dataframe tbody tr th {\n",
       "        vertical-align: top;\n",
       "    }\n",
       "\n",
       "    .dataframe thead th {\n",
       "        text-align: right;\n",
       "    }\n",
       "</style>\n",
       "<table border=\"1\" class=\"dataframe\">\n",
       "  <thead>\n",
       "    <tr style=\"text-align: right;\">\n",
       "      <th></th>\n",
       "      <th>True_value</th>\n",
       "      <th>True_value</th>\n",
       "      <th>True_value</th>\n",
       "      <th>True_value</th>\n",
       "      <th>True_value</th>\n",
       "      <th>True_value</th>\n",
       "      <th>True_value</th>\n",
       "      <th>True_value</th>\n",
       "      <th>True_value</th>\n",
       "      <th>True_value</th>\n",
       "      <th>...</th>\n",
       "      <th>True_value</th>\n",
       "      <th>True_value</th>\n",
       "      <th>True_value</th>\n",
       "      <th>True_value</th>\n",
       "      <th>True_value</th>\n",
       "      <th>True_value</th>\n",
       "      <th>True_value</th>\n",
       "      <th>True_value</th>\n",
       "      <th>True_value</th>\n",
       "      <th>True_value</th>\n",
       "    </tr>\n",
       "  </thead>\n",
       "  <tbody>\n",
       "    <tr>\n",
       "      <th>0</th>\n",
       "      <td>0.0</td>\n",
       "      <td>0.000000</td>\n",
       "      <td>0.079944</td>\n",
       "      <td>4.965691e-01</td>\n",
       "      <td>2.199685e-02</td>\n",
       "      <td>3.103245e-04</td>\n",
       "      <td>0.000000</td>\n",
       "      <td>0.00000</td>\n",
       "      <td>0.000000</td>\n",
       "      <td>0.0</td>\n",
       "      <td>...</td>\n",
       "      <td>0.000000</td>\n",
       "      <td>0.000000</td>\n",
       "      <td>0.000000</td>\n",
       "      <td>0.000000e+00</td>\n",
       "      <td>0.000000e+00</td>\n",
       "      <td>0.0</td>\n",
       "      <td>0.0</td>\n",
       "      <td>0.0</td>\n",
       "      <td>0.0</td>\n",
       "      <td>0.0</td>\n",
       "    </tr>\n",
       "    <tr>\n",
       "      <th>1</th>\n",
       "      <td>0.0</td>\n",
       "      <td>0.000000</td>\n",
       "      <td>0.000000</td>\n",
       "      <td>3.283740e-10</td>\n",
       "      <td>4.858496e-07</td>\n",
       "      <td>1.226370e-09</td>\n",
       "      <td>0.000000</td>\n",
       "      <td>0.00000</td>\n",
       "      <td>0.000000</td>\n",
       "      <td>0.0</td>\n",
       "      <td>...</td>\n",
       "      <td>0.000011</td>\n",
       "      <td>0.144915</td>\n",
       "      <td>0.002174</td>\n",
       "      <td>0.000000e+00</td>\n",
       "      <td>0.000000e+00</td>\n",
       "      <td>0.0</td>\n",
       "      <td>0.0</td>\n",
       "      <td>0.0</td>\n",
       "      <td>0.0</td>\n",
       "      <td>0.0</td>\n",
       "    </tr>\n",
       "    <tr>\n",
       "      <th>2</th>\n",
       "      <td>0.0</td>\n",
       "      <td>0.000000</td>\n",
       "      <td>0.000000</td>\n",
       "      <td>3.668993e-05</td>\n",
       "      <td>5.286380e-02</td>\n",
       "      <td>1.370182e-04</td>\n",
       "      <td>0.000000</td>\n",
       "      <td>0.00000</td>\n",
       "      <td>0.000000</td>\n",
       "      <td>0.0</td>\n",
       "      <td>...</td>\n",
       "      <td>0.000000</td>\n",
       "      <td>0.000000</td>\n",
       "      <td>0.000000</td>\n",
       "      <td>0.000000e+00</td>\n",
       "      <td>0.000000e+00</td>\n",
       "      <td>0.0</td>\n",
       "      <td>0.0</td>\n",
       "      <td>0.0</td>\n",
       "      <td>0.0</td>\n",
       "      <td>0.0</td>\n",
       "    </tr>\n",
       "    <tr>\n",
       "      <th>3</th>\n",
       "      <td>0.0</td>\n",
       "      <td>0.000000</td>\n",
       "      <td>0.000008</td>\n",
       "      <td>1.466245e-04</td>\n",
       "      <td>7.683623e-10</td>\n",
       "      <td>0.000000e+00</td>\n",
       "      <td>0.000672</td>\n",
       "      <td>0.69062</td>\n",
       "      <td>0.002508</td>\n",
       "      <td>0.0</td>\n",
       "      <td>...</td>\n",
       "      <td>0.000000</td>\n",
       "      <td>0.000000</td>\n",
       "      <td>0.000063</td>\n",
       "      <td>4.524791e-03</td>\n",
       "      <td>3.227940e-07</td>\n",
       "      <td>0.0</td>\n",
       "      <td>0.0</td>\n",
       "      <td>0.0</td>\n",
       "      <td>0.0</td>\n",
       "      <td>0.0</td>\n",
       "    </tr>\n",
       "    <tr>\n",
       "      <th>4</th>\n",
       "      <td>0.0</td>\n",
       "      <td>0.055713</td>\n",
       "      <td>0.055713</td>\n",
       "      <td>0.000000e+00</td>\n",
       "      <td>0.000000e+00</td>\n",
       "      <td>0.000000e+00</td>\n",
       "      <td>0.000000</td>\n",
       "      <td>0.00000</td>\n",
       "      <td>0.000000</td>\n",
       "      <td>0.0</td>\n",
       "      <td>...</td>\n",
       "      <td>0.000000</td>\n",
       "      <td>0.001227</td>\n",
       "      <td>0.021100</td>\n",
       "      <td>1.117361e-07</td>\n",
       "      <td>0.000000e+00</td>\n",
       "      <td>0.0</td>\n",
       "      <td>0.0</td>\n",
       "      <td>0.0</td>\n",
       "      <td>0.0</td>\n",
       "      <td>0.0</td>\n",
       "    </tr>\n",
       "  </tbody>\n",
       "</table>\n",
       "<p>5 rows × 910 columns</p>\n",
       "</div>"
      ],
      "text/plain": [
       "   True_value  True_value  True_value    True_value    True_value  \\\n",
       "0         0.0    0.000000    0.079944  4.965691e-01  2.199685e-02   \n",
       "1         0.0    0.000000    0.000000  3.283740e-10  4.858496e-07   \n",
       "2         0.0    0.000000    0.000000  3.668993e-05  5.286380e-02   \n",
       "3         0.0    0.000000    0.000008  1.466245e-04  7.683623e-10   \n",
       "4         0.0    0.055713    0.055713  0.000000e+00  0.000000e+00   \n",
       "\n",
       "     True_value  True_value  True_value  True_value  True_value  ...  \\\n",
       "0  3.103245e-04    0.000000     0.00000    0.000000         0.0  ...   \n",
       "1  1.226370e-09    0.000000     0.00000    0.000000         0.0  ...   \n",
       "2  1.370182e-04    0.000000     0.00000    0.000000         0.0  ...   \n",
       "3  0.000000e+00    0.000672     0.69062    0.002508         0.0  ...   \n",
       "4  0.000000e+00    0.000000     0.00000    0.000000         0.0  ...   \n",
       "\n",
       "   True_value  True_value  True_value    True_value    True_value  True_value  \\\n",
       "0    0.000000    0.000000    0.000000  0.000000e+00  0.000000e+00         0.0   \n",
       "1    0.000011    0.144915    0.002174  0.000000e+00  0.000000e+00         0.0   \n",
       "2    0.000000    0.000000    0.000000  0.000000e+00  0.000000e+00         0.0   \n",
       "3    0.000000    0.000000    0.000063  4.524791e-03  3.227940e-07         0.0   \n",
       "4    0.000000    0.001227    0.021100  1.117361e-07  0.000000e+00         0.0   \n",
       "\n",
       "   True_value  True_value  True_value  True_value  \n",
       "0         0.0         0.0         0.0         0.0  \n",
       "1         0.0         0.0         0.0         0.0  \n",
       "2         0.0         0.0         0.0         0.0  \n",
       "3         0.0         0.0         0.0         0.0  \n",
       "4         0.0         0.0         0.0         0.0  \n",
       "\n",
       "[5 rows x 910 columns]"
      ]
     },
     "execution_count": 20,
     "metadata": {},
     "output_type": "execute_result"
    }
   ],
   "source": [
    "True_values_df.head()"
   ]
  },
  {
   "cell_type": "code",
   "execution_count": 21,
   "id": "7bf2ce55-e613-440c-98df-b3137476fda8",
   "metadata": {},
   "outputs": [
    {
     "data": {
      "text/plain": [
       "(7, 910)"
      ]
     },
     "execution_count": 21,
     "metadata": {},
     "output_type": "execute_result"
    }
   ],
   "source": [
    "True_values_df.shape"
   ]
  },
  {
   "cell_type": "code",
   "execution_count": 22,
   "id": "18e0219e-ee9c-4e29-a372-2b6290708941",
   "metadata": {},
   "outputs": [],
   "source": [
    "# get the proper counts?\n",
    "exp_true = np.exp(True_values_df)-1"
   ]
  },
  {
   "cell_type": "code",
   "execution_count": 23,
   "id": "a7319ca1-7b28-41f3-8b38-11863c1835e5",
   "metadata": {},
   "outputs": [
    {
     "data": {
      "text/html": [
       "<div>\n",
       "<style scoped>\n",
       "    .dataframe tbody tr th:only-of-type {\n",
       "        vertical-align: middle;\n",
       "    }\n",
       "\n",
       "    .dataframe tbody tr th {\n",
       "        vertical-align: top;\n",
       "    }\n",
       "\n",
       "    .dataframe thead th {\n",
       "        text-align: right;\n",
       "    }\n",
       "</style>\n",
       "<table border=\"1\" class=\"dataframe\">\n",
       "  <thead>\n",
       "    <tr style=\"text-align: right;\">\n",
       "      <th></th>\n",
       "      <th>True_value</th>\n",
       "      <th>True_value</th>\n",
       "      <th>True_value</th>\n",
       "      <th>True_value</th>\n",
       "      <th>True_value</th>\n",
       "      <th>True_value</th>\n",
       "      <th>True_value</th>\n",
       "      <th>True_value</th>\n",
       "      <th>True_value</th>\n",
       "      <th>True_value</th>\n",
       "      <th>...</th>\n",
       "      <th>True_value</th>\n",
       "      <th>True_value</th>\n",
       "      <th>True_value</th>\n",
       "      <th>True_value</th>\n",
       "      <th>True_value</th>\n",
       "      <th>True_value</th>\n",
       "      <th>True_value</th>\n",
       "      <th>True_value</th>\n",
       "      <th>True_value</th>\n",
       "      <th>True_value</th>\n",
       "    </tr>\n",
       "  </thead>\n",
       "  <tbody>\n",
       "    <tr>\n",
       "      <th>0</th>\n",
       "      <td>0.0</td>\n",
       "      <td>0.000000</td>\n",
       "      <td>0.083226</td>\n",
       "      <td>6.430743e-01</td>\n",
       "      <td>2.224056e-02</td>\n",
       "      <td>3.103727e-04</td>\n",
       "      <td>0.000000</td>\n",
       "      <td>0.000000</td>\n",
       "      <td>0.000000</td>\n",
       "      <td>0.0</td>\n",
       "      <td>...</td>\n",
       "      <td>0.000000</td>\n",
       "      <td>0.000000</td>\n",
       "      <td>0.000000</td>\n",
       "      <td>0.000000e+00</td>\n",
       "      <td>0.000000e+00</td>\n",
       "      <td>0.0</td>\n",
       "      <td>0.0</td>\n",
       "      <td>0.0</td>\n",
       "      <td>0.0</td>\n",
       "      <td>0.0</td>\n",
       "    </tr>\n",
       "    <tr>\n",
       "      <th>1</th>\n",
       "      <td>0.0</td>\n",
       "      <td>0.000000</td>\n",
       "      <td>0.000000</td>\n",
       "      <td>3.283740e-10</td>\n",
       "      <td>4.858497e-07</td>\n",
       "      <td>1.226370e-09</td>\n",
       "      <td>0.000000</td>\n",
       "      <td>0.000000</td>\n",
       "      <td>0.000000</td>\n",
       "      <td>0.0</td>\n",
       "      <td>...</td>\n",
       "      <td>0.000011</td>\n",
       "      <td>0.155941</td>\n",
       "      <td>0.002176</td>\n",
       "      <td>0.000000e+00</td>\n",
       "      <td>0.000000e+00</td>\n",
       "      <td>0.0</td>\n",
       "      <td>0.0</td>\n",
       "      <td>0.0</td>\n",
       "      <td>0.0</td>\n",
       "      <td>0.0</td>\n",
       "    </tr>\n",
       "    <tr>\n",
       "      <th>2</th>\n",
       "      <td>0.0</td>\n",
       "      <td>0.000000</td>\n",
       "      <td>0.000000</td>\n",
       "      <td>3.669061e-05</td>\n",
       "      <td>5.428604e-02</td>\n",
       "      <td>1.370275e-04</td>\n",
       "      <td>0.000000</td>\n",
       "      <td>0.000000</td>\n",
       "      <td>0.000000</td>\n",
       "      <td>0.0</td>\n",
       "      <td>...</td>\n",
       "      <td>0.000000</td>\n",
       "      <td>0.000000</td>\n",
       "      <td>0.000000</td>\n",
       "      <td>0.000000e+00</td>\n",
       "      <td>0.000000e+00</td>\n",
       "      <td>0.0</td>\n",
       "      <td>0.0</td>\n",
       "      <td>0.0</td>\n",
       "      <td>0.0</td>\n",
       "      <td>0.0</td>\n",
       "    </tr>\n",
       "    <tr>\n",
       "      <th>3</th>\n",
       "      <td>0.0</td>\n",
       "      <td>0.000000</td>\n",
       "      <td>0.000008</td>\n",
       "      <td>1.466352e-04</td>\n",
       "      <td>7.683623e-10</td>\n",
       "      <td>0.000000e+00</td>\n",
       "      <td>0.000672</td>\n",
       "      <td>0.994953</td>\n",
       "      <td>0.002511</td>\n",
       "      <td>0.0</td>\n",
       "      <td>...</td>\n",
       "      <td>0.000000</td>\n",
       "      <td>0.000000</td>\n",
       "      <td>0.000063</td>\n",
       "      <td>4.535043e-03</td>\n",
       "      <td>3.227940e-07</td>\n",
       "      <td>0.0</td>\n",
       "      <td>0.0</td>\n",
       "      <td>0.0</td>\n",
       "      <td>0.0</td>\n",
       "      <td>0.0</td>\n",
       "    </tr>\n",
       "    <tr>\n",
       "      <th>4</th>\n",
       "      <td>0.0</td>\n",
       "      <td>0.057295</td>\n",
       "      <td>0.057295</td>\n",
       "      <td>0.000000e+00</td>\n",
       "      <td>0.000000e+00</td>\n",
       "      <td>0.000000e+00</td>\n",
       "      <td>0.000000</td>\n",
       "      <td>0.000000</td>\n",
       "      <td>0.000000</td>\n",
       "      <td>0.0</td>\n",
       "      <td>...</td>\n",
       "      <td>0.000000</td>\n",
       "      <td>0.001228</td>\n",
       "      <td>0.021324</td>\n",
       "      <td>1.117362e-07</td>\n",
       "      <td>0.000000e+00</td>\n",
       "      <td>0.0</td>\n",
       "      <td>0.0</td>\n",
       "      <td>0.0</td>\n",
       "      <td>0.0</td>\n",
       "      <td>0.0</td>\n",
       "    </tr>\n",
       "    <tr>\n",
       "      <th>5</th>\n",
       "      <td>0.0</td>\n",
       "      <td>0.000000</td>\n",
       "      <td>0.000000</td>\n",
       "      <td>0.000000e+00</td>\n",
       "      <td>0.000000e+00</td>\n",
       "      <td>0.000000e+00</td>\n",
       "      <td>0.000000</td>\n",
       "      <td>0.000000</td>\n",
       "      <td>0.000000</td>\n",
       "      <td>0.0</td>\n",
       "      <td>...</td>\n",
       "      <td>0.000000</td>\n",
       "      <td>0.000000</td>\n",
       "      <td>0.000000</td>\n",
       "      <td>0.000000e+00</td>\n",
       "      <td>0.000000e+00</td>\n",
       "      <td>0.0</td>\n",
       "      <td>0.0</td>\n",
       "      <td>0.0</td>\n",
       "      <td>0.0</td>\n",
       "      <td>0.0</td>\n",
       "    </tr>\n",
       "    <tr>\n",
       "      <th>6</th>\n",
       "      <td>0.0</td>\n",
       "      <td>0.000000</td>\n",
       "      <td>0.000000</td>\n",
       "      <td>0.000000e+00</td>\n",
       "      <td>0.000000e+00</td>\n",
       "      <td>0.000000e+00</td>\n",
       "      <td>0.000000</td>\n",
       "      <td>0.000000</td>\n",
       "      <td>0.000000</td>\n",
       "      <td>0.0</td>\n",
       "      <td>...</td>\n",
       "      <td>0.000000</td>\n",
       "      <td>0.000000</td>\n",
       "      <td>0.000000</td>\n",
       "      <td>0.000000e+00</td>\n",
       "      <td>0.000000e+00</td>\n",
       "      <td>0.0</td>\n",
       "      <td>0.0</td>\n",
       "      <td>0.0</td>\n",
       "      <td>0.0</td>\n",
       "      <td>0.0</td>\n",
       "    </tr>\n",
       "  </tbody>\n",
       "</table>\n",
       "<p>7 rows × 910 columns</p>\n",
       "</div>"
      ],
      "text/plain": [
       "   True_value  True_value  True_value    True_value    True_value  \\\n",
       "0         0.0    0.000000    0.083226  6.430743e-01  2.224056e-02   \n",
       "1         0.0    0.000000    0.000000  3.283740e-10  4.858497e-07   \n",
       "2         0.0    0.000000    0.000000  3.669061e-05  5.428604e-02   \n",
       "3         0.0    0.000000    0.000008  1.466352e-04  7.683623e-10   \n",
       "4         0.0    0.057295    0.057295  0.000000e+00  0.000000e+00   \n",
       "5         0.0    0.000000    0.000000  0.000000e+00  0.000000e+00   \n",
       "6         0.0    0.000000    0.000000  0.000000e+00  0.000000e+00   \n",
       "\n",
       "     True_value  True_value  True_value  True_value  True_value  ...  \\\n",
       "0  3.103727e-04    0.000000    0.000000    0.000000         0.0  ...   \n",
       "1  1.226370e-09    0.000000    0.000000    0.000000         0.0  ...   \n",
       "2  1.370275e-04    0.000000    0.000000    0.000000         0.0  ...   \n",
       "3  0.000000e+00    0.000672    0.994953    0.002511         0.0  ...   \n",
       "4  0.000000e+00    0.000000    0.000000    0.000000         0.0  ...   \n",
       "5  0.000000e+00    0.000000    0.000000    0.000000         0.0  ...   \n",
       "6  0.000000e+00    0.000000    0.000000    0.000000         0.0  ...   \n",
       "\n",
       "   True_value  True_value  True_value    True_value    True_value  True_value  \\\n",
       "0    0.000000    0.000000    0.000000  0.000000e+00  0.000000e+00         0.0   \n",
       "1    0.000011    0.155941    0.002176  0.000000e+00  0.000000e+00         0.0   \n",
       "2    0.000000    0.000000    0.000000  0.000000e+00  0.000000e+00         0.0   \n",
       "3    0.000000    0.000000    0.000063  4.535043e-03  3.227940e-07         0.0   \n",
       "4    0.000000    0.001228    0.021324  1.117362e-07  0.000000e+00         0.0   \n",
       "5    0.000000    0.000000    0.000000  0.000000e+00  0.000000e+00         0.0   \n",
       "6    0.000000    0.000000    0.000000  0.000000e+00  0.000000e+00         0.0   \n",
       "\n",
       "   True_value  True_value  True_value  True_value  \n",
       "0         0.0         0.0         0.0         0.0  \n",
       "1         0.0         0.0         0.0         0.0  \n",
       "2         0.0         0.0         0.0         0.0  \n",
       "3         0.0         0.0         0.0         0.0  \n",
       "4         0.0         0.0         0.0         0.0  \n",
       "5         0.0         0.0         0.0         0.0  \n",
       "6         0.0         0.0         0.0         0.0  \n",
       "\n",
       "[7 rows x 910 columns]"
      ]
     },
     "execution_count": 23,
     "metadata": {},
     "output_type": "execute_result"
    }
   ],
   "source": [
    "exp_true"
   ]
  },
  {
   "cell_type": "code",
   "execution_count": 24,
   "id": "fbc09b78-d34e-434e-8232-ee3be25766e9",
   "metadata": {},
   "outputs": [],
   "source": [
    "# sum the true values - since the sub images are not overlapping, we can get the sum across columns in the above dataframe\n",
    "sum_true_values = exp_true.sum(axis = 1)"
   ]
  },
  {
   "cell_type": "code",
   "execution_count": 25,
   "id": "6057a433-4dfb-4804-bbac-ea3dacce11e6",
   "metadata": {},
   "outputs": [
    {
     "data": {
      "text/plain": [
       "0    41.000009\n",
       "1    41.000003\n",
       "2    43.006851\n",
       "3    39.997605\n",
       "4    40.000000\n",
       "5    32.999982\n",
       "6    18.000000\n",
       "dtype: float64"
      ]
     },
     "execution_count": 25,
     "metadata": {},
     "output_type": "execute_result"
    }
   ],
   "source": [
    "sum_true_values"
   ]
  },
  {
   "cell_type": "code",
   "execution_count": 26,
   "id": "2fc2ac3e-59e7-4f27-91ab-31d30b4eeaa7",
   "metadata": {},
   "outputs": [],
   "source": [
    "# get the forecasted values\n",
    "Forecasted_values_df = combined_df[['Forecasted_value']]"
   ]
  },
  {
   "cell_type": "code",
   "execution_count": 27,
   "id": "4d4182a4-7ede-4ffc-b952-08aa47d424d0",
   "metadata": {},
   "outputs": [
    {
     "data": {
      "text/html": [
       "<div>\n",
       "<style scoped>\n",
       "    .dataframe tbody tr th:only-of-type {\n",
       "        vertical-align: middle;\n",
       "    }\n",
       "\n",
       "    .dataframe tbody tr th {\n",
       "        vertical-align: top;\n",
       "    }\n",
       "\n",
       "    .dataframe thead th {\n",
       "        text-align: right;\n",
       "    }\n",
       "</style>\n",
       "<table border=\"1\" class=\"dataframe\">\n",
       "  <thead>\n",
       "    <tr style=\"text-align: right;\">\n",
       "      <th></th>\n",
       "      <th>Forecasted_value</th>\n",
       "      <th>Forecasted_value</th>\n",
       "      <th>Forecasted_value</th>\n",
       "      <th>Forecasted_value</th>\n",
       "      <th>Forecasted_value</th>\n",
       "      <th>Forecasted_value</th>\n",
       "      <th>Forecasted_value</th>\n",
       "      <th>Forecasted_value</th>\n",
       "      <th>Forecasted_value</th>\n",
       "      <th>Forecasted_value</th>\n",
       "      <th>...</th>\n",
       "      <th>Forecasted_value</th>\n",
       "      <th>Forecasted_value</th>\n",
       "      <th>Forecasted_value</th>\n",
       "      <th>Forecasted_value</th>\n",
       "      <th>Forecasted_value</th>\n",
       "      <th>Forecasted_value</th>\n",
       "      <th>Forecasted_value</th>\n",
       "      <th>Forecasted_value</th>\n",
       "      <th>Forecasted_value</th>\n",
       "      <th>Forecasted_value</th>\n",
       "    </tr>\n",
       "  </thead>\n",
       "  <tbody>\n",
       "    <tr>\n",
       "      <th>0</th>\n",
       "      <td>-0.009181</td>\n",
       "      <td>-0.017935</td>\n",
       "      <td>0.009551</td>\n",
       "      <td>0.012715</td>\n",
       "      <td>0.024707</td>\n",
       "      <td>-0.021249</td>\n",
       "      <td>-0.021658</td>\n",
       "      <td>-0.029890</td>\n",
       "      <td>-0.011039</td>\n",
       "      <td>-0.018763</td>\n",
       "      <td>...</td>\n",
       "      <td>-0.000734</td>\n",
       "      <td>0.020506</td>\n",
       "      <td>-0.001409</td>\n",
       "      <td>0.019158</td>\n",
       "      <td>0.001326</td>\n",
       "      <td>-0.008778</td>\n",
       "      <td>-0.015795</td>\n",
       "      <td>-0.009725</td>\n",
       "      <td>0.007176</td>\n",
       "      <td>-0.006017</td>\n",
       "    </tr>\n",
       "    <tr>\n",
       "      <th>1</th>\n",
       "      <td>-0.004271</td>\n",
       "      <td>-0.004557</td>\n",
       "      <td>0.033439</td>\n",
       "      <td>0.087144</td>\n",
       "      <td>0.063389</td>\n",
       "      <td>-0.000301</td>\n",
       "      <td>-0.011662</td>\n",
       "      <td>-0.001794</td>\n",
       "      <td>-0.023140</td>\n",
       "      <td>-0.000736</td>\n",
       "      <td>...</td>\n",
       "      <td>0.000484</td>\n",
       "      <td>0.021851</td>\n",
       "      <td>-0.001209</td>\n",
       "      <td>0.010956</td>\n",
       "      <td>-0.006891</td>\n",
       "      <td>-0.005281</td>\n",
       "      <td>-0.022703</td>\n",
       "      <td>-0.004794</td>\n",
       "      <td>0.010622</td>\n",
       "      <td>-0.005722</td>\n",
       "    </tr>\n",
       "    <tr>\n",
       "      <th>2</th>\n",
       "      <td>-0.010430</td>\n",
       "      <td>-0.001658</td>\n",
       "      <td>0.012973</td>\n",
       "      <td>0.157789</td>\n",
       "      <td>0.069661</td>\n",
       "      <td>0.008858</td>\n",
       "      <td>-0.013995</td>\n",
       "      <td>-0.011126</td>\n",
       "      <td>-0.016285</td>\n",
       "      <td>-0.002481</td>\n",
       "      <td>...</td>\n",
       "      <td>-0.007954</td>\n",
       "      <td>0.031073</td>\n",
       "      <td>-0.001544</td>\n",
       "      <td>0.029941</td>\n",
       "      <td>-0.014686</td>\n",
       "      <td>-0.008369</td>\n",
       "      <td>-0.013511</td>\n",
       "      <td>-0.002541</td>\n",
       "      <td>0.005604</td>\n",
       "      <td>-0.004585</td>\n",
       "    </tr>\n",
       "    <tr>\n",
       "      <th>3</th>\n",
       "      <td>-0.002072</td>\n",
       "      <td>0.002177</td>\n",
       "      <td>0.006814</td>\n",
       "      <td>0.197636</td>\n",
       "      <td>0.039524</td>\n",
       "      <td>0.008847</td>\n",
       "      <td>0.002386</td>\n",
       "      <td>0.021851</td>\n",
       "      <td>-0.003564</td>\n",
       "      <td>0.008196</td>\n",
       "      <td>...</td>\n",
       "      <td>0.005047</td>\n",
       "      <td>-0.006246</td>\n",
       "      <td>0.005327</td>\n",
       "      <td>0.006892</td>\n",
       "      <td>0.013744</td>\n",
       "      <td>-0.001727</td>\n",
       "      <td>-0.009295</td>\n",
       "      <td>0.004205</td>\n",
       "      <td>0.010703</td>\n",
       "      <td>-0.004178</td>\n",
       "    </tr>\n",
       "    <tr>\n",
       "      <th>4</th>\n",
       "      <td>0.000132</td>\n",
       "      <td>0.006024</td>\n",
       "      <td>-0.005176</td>\n",
       "      <td>0.223642</td>\n",
       "      <td>0.042962</td>\n",
       "      <td>0.000923</td>\n",
       "      <td>-0.000541</td>\n",
       "      <td>0.009435</td>\n",
       "      <td>-0.006787</td>\n",
       "      <td>-0.005159</td>\n",
       "      <td>...</td>\n",
       "      <td>0.004289</td>\n",
       "      <td>-0.011496</td>\n",
       "      <td>-0.002101</td>\n",
       "      <td>-0.025211</td>\n",
       "      <td>0.012246</td>\n",
       "      <td>-0.005225</td>\n",
       "      <td>0.010862</td>\n",
       "      <td>0.008362</td>\n",
       "      <td>0.004749</td>\n",
       "      <td>-0.003000</td>\n",
       "    </tr>\n",
       "  </tbody>\n",
       "</table>\n",
       "<p>5 rows × 910 columns</p>\n",
       "</div>"
      ],
      "text/plain": [
       "   Forecasted_value  Forecasted_value  Forecasted_value  Forecasted_value  \\\n",
       "0         -0.009181         -0.017935          0.009551          0.012715   \n",
       "1         -0.004271         -0.004557          0.033439          0.087144   \n",
       "2         -0.010430         -0.001658          0.012973          0.157789   \n",
       "3         -0.002072          0.002177          0.006814          0.197636   \n",
       "4          0.000132          0.006024         -0.005176          0.223642   \n",
       "\n",
       "   Forecasted_value  Forecasted_value  Forecasted_value  Forecasted_value  \\\n",
       "0          0.024707         -0.021249         -0.021658         -0.029890   \n",
       "1          0.063389         -0.000301         -0.011662         -0.001794   \n",
       "2          0.069661          0.008858         -0.013995         -0.011126   \n",
       "3          0.039524          0.008847          0.002386          0.021851   \n",
       "4          0.042962          0.000923         -0.000541          0.009435   \n",
       "\n",
       "   Forecasted_value  Forecasted_value  ...  Forecasted_value  \\\n",
       "0         -0.011039         -0.018763  ...         -0.000734   \n",
       "1         -0.023140         -0.000736  ...          0.000484   \n",
       "2         -0.016285         -0.002481  ...         -0.007954   \n",
       "3         -0.003564          0.008196  ...          0.005047   \n",
       "4         -0.006787         -0.005159  ...          0.004289   \n",
       "\n",
       "   Forecasted_value  Forecasted_value  Forecasted_value  Forecasted_value  \\\n",
       "0          0.020506         -0.001409          0.019158          0.001326   \n",
       "1          0.021851         -0.001209          0.010956         -0.006891   \n",
       "2          0.031073         -0.001544          0.029941         -0.014686   \n",
       "3         -0.006246          0.005327          0.006892          0.013744   \n",
       "4         -0.011496         -0.002101         -0.025211          0.012246   \n",
       "\n",
       "   Forecasted_value  Forecasted_value  Forecasted_value  Forecasted_value  \\\n",
       "0         -0.008778         -0.015795         -0.009725          0.007176   \n",
       "1         -0.005281         -0.022703         -0.004794          0.010622   \n",
       "2         -0.008369         -0.013511         -0.002541          0.005604   \n",
       "3         -0.001727         -0.009295          0.004205          0.010703   \n",
       "4         -0.005225          0.010862          0.008362          0.004749   \n",
       "\n",
       "   Forecasted_value  \n",
       "0         -0.006017  \n",
       "1         -0.005722  \n",
       "2         -0.004585  \n",
       "3         -0.004178  \n",
       "4         -0.003000  \n",
       "\n",
       "[5 rows x 910 columns]"
      ]
     },
     "execution_count": 27,
     "metadata": {},
     "output_type": "execute_result"
    }
   ],
   "source": [
    "Forecasted_values_df.head()"
   ]
  },
  {
   "cell_type": "code",
   "execution_count": 28,
   "id": "c4e2130b-9b6b-40b7-9efe-4cd6cd30c107",
   "metadata": {},
   "outputs": [],
   "source": [
    "exp_forecasted = np.exp(Forecasted_values_df)-1"
   ]
  },
  {
   "cell_type": "code",
   "execution_count": 29,
   "id": "60cd0006-0367-436e-b3c8-282e12e01146",
   "metadata": {},
   "outputs": [
    {
     "data": {
      "text/html": [
       "<div>\n",
       "<style scoped>\n",
       "    .dataframe tbody tr th:only-of-type {\n",
       "        vertical-align: middle;\n",
       "    }\n",
       "\n",
       "    .dataframe tbody tr th {\n",
       "        vertical-align: top;\n",
       "    }\n",
       "\n",
       "    .dataframe thead th {\n",
       "        text-align: right;\n",
       "    }\n",
       "</style>\n",
       "<table border=\"1\" class=\"dataframe\">\n",
       "  <thead>\n",
       "    <tr style=\"text-align: right;\">\n",
       "      <th></th>\n",
       "      <th>Forecasted_value</th>\n",
       "      <th>Forecasted_value</th>\n",
       "      <th>Forecasted_value</th>\n",
       "      <th>Forecasted_value</th>\n",
       "      <th>Forecasted_value</th>\n",
       "      <th>Forecasted_value</th>\n",
       "      <th>Forecasted_value</th>\n",
       "      <th>Forecasted_value</th>\n",
       "      <th>Forecasted_value</th>\n",
       "      <th>Forecasted_value</th>\n",
       "      <th>...</th>\n",
       "      <th>Forecasted_value</th>\n",
       "      <th>Forecasted_value</th>\n",
       "      <th>Forecasted_value</th>\n",
       "      <th>Forecasted_value</th>\n",
       "      <th>Forecasted_value</th>\n",
       "      <th>Forecasted_value</th>\n",
       "      <th>Forecasted_value</th>\n",
       "      <th>Forecasted_value</th>\n",
       "      <th>Forecasted_value</th>\n",
       "      <th>Forecasted_value</th>\n",
       "    </tr>\n",
       "  </thead>\n",
       "  <tbody>\n",
       "    <tr>\n",
       "      <th>0</th>\n",
       "      <td>-0.009139</td>\n",
       "      <td>-0.017775</td>\n",
       "      <td>0.009597</td>\n",
       "      <td>0.012796</td>\n",
       "      <td>0.025015</td>\n",
       "      <td>-0.021025</td>\n",
       "      <td>-0.021425</td>\n",
       "      <td>-0.029448</td>\n",
       "      <td>-0.010978</td>\n",
       "      <td>-0.018588</td>\n",
       "      <td>...</td>\n",
       "      <td>-0.000733</td>\n",
       "      <td>0.020717</td>\n",
       "      <td>-0.001408</td>\n",
       "      <td>0.019342</td>\n",
       "      <td>0.001326</td>\n",
       "      <td>-0.008740</td>\n",
       "      <td>-0.015671</td>\n",
       "      <td>-0.009678</td>\n",
       "      <td>0.007202</td>\n",
       "      <td>-0.005998</td>\n",
       "    </tr>\n",
       "    <tr>\n",
       "      <th>1</th>\n",
       "      <td>-0.004262</td>\n",
       "      <td>-0.004546</td>\n",
       "      <td>0.034004</td>\n",
       "      <td>0.091054</td>\n",
       "      <td>0.065442</td>\n",
       "      <td>-0.000301</td>\n",
       "      <td>-0.011595</td>\n",
       "      <td>-0.001793</td>\n",
       "      <td>-0.022875</td>\n",
       "      <td>-0.000735</td>\n",
       "      <td>...</td>\n",
       "      <td>0.000484</td>\n",
       "      <td>0.022092</td>\n",
       "      <td>-0.001208</td>\n",
       "      <td>0.011016</td>\n",
       "      <td>-0.006867</td>\n",
       "      <td>-0.005267</td>\n",
       "      <td>-0.022447</td>\n",
       "      <td>-0.004783</td>\n",
       "      <td>0.010679</td>\n",
       "      <td>-0.005706</td>\n",
       "    </tr>\n",
       "    <tr>\n",
       "      <th>2</th>\n",
       "      <td>-0.010375</td>\n",
       "      <td>-0.001657</td>\n",
       "      <td>0.013057</td>\n",
       "      <td>0.170919</td>\n",
       "      <td>0.072144</td>\n",
       "      <td>0.008897</td>\n",
       "      <td>-0.013897</td>\n",
       "      <td>-0.011064</td>\n",
       "      <td>-0.016153</td>\n",
       "      <td>-0.002478</td>\n",
       "      <td>...</td>\n",
       "      <td>-0.007923</td>\n",
       "      <td>0.031561</td>\n",
       "      <td>-0.001543</td>\n",
       "      <td>0.030393</td>\n",
       "      <td>-0.014578</td>\n",
       "      <td>-0.008335</td>\n",
       "      <td>-0.013420</td>\n",
       "      <td>-0.002538</td>\n",
       "      <td>0.005619</td>\n",
       "      <td>-0.004575</td>\n",
       "    </tr>\n",
       "    <tr>\n",
       "      <th>3</th>\n",
       "      <td>-0.002070</td>\n",
       "      <td>0.002179</td>\n",
       "      <td>0.006838</td>\n",
       "      <td>0.218519</td>\n",
       "      <td>0.040316</td>\n",
       "      <td>0.008887</td>\n",
       "      <td>0.002389</td>\n",
       "      <td>0.022091</td>\n",
       "      <td>-0.003558</td>\n",
       "      <td>0.008230</td>\n",
       "      <td>...</td>\n",
       "      <td>0.005059</td>\n",
       "      <td>-0.006226</td>\n",
       "      <td>0.005341</td>\n",
       "      <td>0.006915</td>\n",
       "      <td>0.013839</td>\n",
       "      <td>-0.001725</td>\n",
       "      <td>-0.009252</td>\n",
       "      <td>0.004214</td>\n",
       "      <td>0.010761</td>\n",
       "      <td>-0.004169</td>\n",
       "    </tr>\n",
       "    <tr>\n",
       "      <th>4</th>\n",
       "      <td>0.000132</td>\n",
       "      <td>0.006042</td>\n",
       "      <td>-0.005163</td>\n",
       "      <td>0.250624</td>\n",
       "      <td>0.043899</td>\n",
       "      <td>0.000923</td>\n",
       "      <td>-0.000541</td>\n",
       "      <td>0.009479</td>\n",
       "      <td>-0.006764</td>\n",
       "      <td>-0.005146</td>\n",
       "      <td>...</td>\n",
       "      <td>0.004298</td>\n",
       "      <td>-0.011430</td>\n",
       "      <td>-0.002099</td>\n",
       "      <td>-0.024896</td>\n",
       "      <td>0.012321</td>\n",
       "      <td>-0.005211</td>\n",
       "      <td>0.010921</td>\n",
       "      <td>0.008397</td>\n",
       "      <td>0.004760</td>\n",
       "      <td>-0.002996</td>\n",
       "    </tr>\n",
       "    <tr>\n",
       "      <th>5</th>\n",
       "      <td>0.000650</td>\n",
       "      <td>0.013539</td>\n",
       "      <td>0.015556</td>\n",
       "      <td>0.238375</td>\n",
       "      <td>0.062003</td>\n",
       "      <td>0.006269</td>\n",
       "      <td>-0.002632</td>\n",
       "      <td>0.031747</td>\n",
       "      <td>0.001841</td>\n",
       "      <td>0.006202</td>\n",
       "      <td>...</td>\n",
       "      <td>0.003424</td>\n",
       "      <td>0.012808</td>\n",
       "      <td>0.003188</td>\n",
       "      <td>-0.005217</td>\n",
       "      <td>0.020649</td>\n",
       "      <td>-0.000916</td>\n",
       "      <td>0.002507</td>\n",
       "      <td>0.000863</td>\n",
       "      <td>0.006075</td>\n",
       "      <td>-0.002981</td>\n",
       "    </tr>\n",
       "    <tr>\n",
       "      <th>6</th>\n",
       "      <td>-0.001686</td>\n",
       "      <td>0.018366</td>\n",
       "      <td>0.005675</td>\n",
       "      <td>0.120843</td>\n",
       "      <td>0.059506</td>\n",
       "      <td>-0.003671</td>\n",
       "      <td>0.000312</td>\n",
       "      <td>0.017364</td>\n",
       "      <td>-0.012527</td>\n",
       "      <td>0.005806</td>\n",
       "      <td>...</td>\n",
       "      <td>-0.000193</td>\n",
       "      <td>0.005034</td>\n",
       "      <td>0.000114</td>\n",
       "      <td>-0.014118</td>\n",
       "      <td>0.011004</td>\n",
       "      <td>-0.007660</td>\n",
       "      <td>0.004449</td>\n",
       "      <td>0.000730</td>\n",
       "      <td>0.005198</td>\n",
       "      <td>-0.001369</td>\n",
       "    </tr>\n",
       "  </tbody>\n",
       "</table>\n",
       "<p>7 rows × 910 columns</p>\n",
       "</div>"
      ],
      "text/plain": [
       "   Forecasted_value  Forecasted_value  Forecasted_value  Forecasted_value  \\\n",
       "0         -0.009139         -0.017775          0.009597          0.012796   \n",
       "1         -0.004262         -0.004546          0.034004          0.091054   \n",
       "2         -0.010375         -0.001657          0.013057          0.170919   \n",
       "3         -0.002070          0.002179          0.006838          0.218519   \n",
       "4          0.000132          0.006042         -0.005163          0.250624   \n",
       "5          0.000650          0.013539          0.015556          0.238375   \n",
       "6         -0.001686          0.018366          0.005675          0.120843   \n",
       "\n",
       "   Forecasted_value  Forecasted_value  Forecasted_value  Forecasted_value  \\\n",
       "0          0.025015         -0.021025         -0.021425         -0.029448   \n",
       "1          0.065442         -0.000301         -0.011595         -0.001793   \n",
       "2          0.072144          0.008897         -0.013897         -0.011064   \n",
       "3          0.040316          0.008887          0.002389          0.022091   \n",
       "4          0.043899          0.000923         -0.000541          0.009479   \n",
       "5          0.062003          0.006269         -0.002632          0.031747   \n",
       "6          0.059506         -0.003671          0.000312          0.017364   \n",
       "\n",
       "   Forecasted_value  Forecasted_value  ...  Forecasted_value  \\\n",
       "0         -0.010978         -0.018588  ...         -0.000733   \n",
       "1         -0.022875         -0.000735  ...          0.000484   \n",
       "2         -0.016153         -0.002478  ...         -0.007923   \n",
       "3         -0.003558          0.008230  ...          0.005059   \n",
       "4         -0.006764         -0.005146  ...          0.004298   \n",
       "5          0.001841          0.006202  ...          0.003424   \n",
       "6         -0.012527          0.005806  ...         -0.000193   \n",
       "\n",
       "   Forecasted_value  Forecasted_value  Forecasted_value  Forecasted_value  \\\n",
       "0          0.020717         -0.001408          0.019342          0.001326   \n",
       "1          0.022092         -0.001208          0.011016         -0.006867   \n",
       "2          0.031561         -0.001543          0.030393         -0.014578   \n",
       "3         -0.006226          0.005341          0.006915          0.013839   \n",
       "4         -0.011430         -0.002099         -0.024896          0.012321   \n",
       "5          0.012808          0.003188         -0.005217          0.020649   \n",
       "6          0.005034          0.000114         -0.014118          0.011004   \n",
       "\n",
       "   Forecasted_value  Forecasted_value  Forecasted_value  Forecasted_value  \\\n",
       "0         -0.008740         -0.015671         -0.009678          0.007202   \n",
       "1         -0.005267         -0.022447         -0.004783          0.010679   \n",
       "2         -0.008335         -0.013420         -0.002538          0.005619   \n",
       "3         -0.001725         -0.009252          0.004214          0.010761   \n",
       "4         -0.005211          0.010921          0.008397          0.004760   \n",
       "5         -0.000916          0.002507          0.000863          0.006075   \n",
       "6         -0.007660          0.004449          0.000730          0.005198   \n",
       "\n",
       "   Forecasted_value  \n",
       "0         -0.005998  \n",
       "1         -0.005706  \n",
       "2         -0.004575  \n",
       "3         -0.004169  \n",
       "4         -0.002996  \n",
       "5         -0.002981  \n",
       "6         -0.001369  \n",
       "\n",
       "[7 rows x 910 columns]"
      ]
     },
     "execution_count": 29,
     "metadata": {},
     "output_type": "execute_result"
    }
   ],
   "source": [
    "exp_forecasted"
   ]
  },
  {
   "cell_type": "code",
   "execution_count": 30,
   "id": "cdc66bd6-b552-4dcd-9703-e07b035fb736",
   "metadata": {},
   "outputs": [],
   "source": [
    "# set the values to 0 if the forecasted count is negative?"
   ]
  },
  {
   "cell_type": "code",
   "execution_count": 31,
   "id": "56eddb77-a48e-409d-9684-10bb31132568",
   "metadata": {},
   "outputs": [],
   "source": [
    "exp_forecasted[exp_forecasted < 0] = 0"
   ]
  },
  {
   "cell_type": "code",
   "execution_count": 32,
   "id": "c96eedde-fcfa-4f54-b8cb-d5f5cb3d6493",
   "metadata": {},
   "outputs": [
    {
     "data": {
      "text/html": [
       "<div>\n",
       "<style scoped>\n",
       "    .dataframe tbody tr th:only-of-type {\n",
       "        vertical-align: middle;\n",
       "    }\n",
       "\n",
       "    .dataframe tbody tr th {\n",
       "        vertical-align: top;\n",
       "    }\n",
       "\n",
       "    .dataframe thead th {\n",
       "        text-align: right;\n",
       "    }\n",
       "</style>\n",
       "<table border=\"1\" class=\"dataframe\">\n",
       "  <thead>\n",
       "    <tr style=\"text-align: right;\">\n",
       "      <th></th>\n",
       "      <th>Forecasted_value</th>\n",
       "      <th>Forecasted_value</th>\n",
       "      <th>Forecasted_value</th>\n",
       "      <th>Forecasted_value</th>\n",
       "      <th>Forecasted_value</th>\n",
       "      <th>Forecasted_value</th>\n",
       "      <th>Forecasted_value</th>\n",
       "      <th>Forecasted_value</th>\n",
       "      <th>Forecasted_value</th>\n",
       "      <th>Forecasted_value</th>\n",
       "      <th>...</th>\n",
       "      <th>Forecasted_value</th>\n",
       "      <th>Forecasted_value</th>\n",
       "      <th>Forecasted_value</th>\n",
       "      <th>Forecasted_value</th>\n",
       "      <th>Forecasted_value</th>\n",
       "      <th>Forecasted_value</th>\n",
       "      <th>Forecasted_value</th>\n",
       "      <th>Forecasted_value</th>\n",
       "      <th>Forecasted_value</th>\n",
       "      <th>Forecasted_value</th>\n",
       "    </tr>\n",
       "  </thead>\n",
       "  <tbody>\n",
       "    <tr>\n",
       "      <th>0</th>\n",
       "      <td>0.000000</td>\n",
       "      <td>0.000000</td>\n",
       "      <td>0.009597</td>\n",
       "      <td>0.012796</td>\n",
       "      <td>0.025015</td>\n",
       "      <td>0.000000</td>\n",
       "      <td>0.000000</td>\n",
       "      <td>0.000000</td>\n",
       "      <td>0.0</td>\n",
       "      <td>0.00000</td>\n",
       "      <td>...</td>\n",
       "      <td>0.000000</td>\n",
       "      <td>0.020717</td>\n",
       "      <td>0.000000</td>\n",
       "      <td>0.019342</td>\n",
       "      <td>0.001326</td>\n",
       "      <td>0.0</td>\n",
       "      <td>0.000000</td>\n",
       "      <td>0.000000</td>\n",
       "      <td>0.007202</td>\n",
       "      <td>0.0</td>\n",
       "    </tr>\n",
       "    <tr>\n",
       "      <th>1</th>\n",
       "      <td>0.000000</td>\n",
       "      <td>0.000000</td>\n",
       "      <td>0.034004</td>\n",
       "      <td>0.091054</td>\n",
       "      <td>0.065442</td>\n",
       "      <td>0.000000</td>\n",
       "      <td>0.000000</td>\n",
       "      <td>0.000000</td>\n",
       "      <td>0.0</td>\n",
       "      <td>0.00000</td>\n",
       "      <td>...</td>\n",
       "      <td>0.000484</td>\n",
       "      <td>0.022092</td>\n",
       "      <td>0.000000</td>\n",
       "      <td>0.011016</td>\n",
       "      <td>0.000000</td>\n",
       "      <td>0.0</td>\n",
       "      <td>0.000000</td>\n",
       "      <td>0.000000</td>\n",
       "      <td>0.010679</td>\n",
       "      <td>0.0</td>\n",
       "    </tr>\n",
       "    <tr>\n",
       "      <th>2</th>\n",
       "      <td>0.000000</td>\n",
       "      <td>0.000000</td>\n",
       "      <td>0.013057</td>\n",
       "      <td>0.170919</td>\n",
       "      <td>0.072144</td>\n",
       "      <td>0.008897</td>\n",
       "      <td>0.000000</td>\n",
       "      <td>0.000000</td>\n",
       "      <td>0.0</td>\n",
       "      <td>0.00000</td>\n",
       "      <td>...</td>\n",
       "      <td>0.000000</td>\n",
       "      <td>0.031561</td>\n",
       "      <td>0.000000</td>\n",
       "      <td>0.030393</td>\n",
       "      <td>0.000000</td>\n",
       "      <td>0.0</td>\n",
       "      <td>0.000000</td>\n",
       "      <td>0.000000</td>\n",
       "      <td>0.005619</td>\n",
       "      <td>0.0</td>\n",
       "    </tr>\n",
       "    <tr>\n",
       "      <th>3</th>\n",
       "      <td>0.000000</td>\n",
       "      <td>0.002179</td>\n",
       "      <td>0.006838</td>\n",
       "      <td>0.218519</td>\n",
       "      <td>0.040316</td>\n",
       "      <td>0.008887</td>\n",
       "      <td>0.002389</td>\n",
       "      <td>0.022091</td>\n",
       "      <td>0.0</td>\n",
       "      <td>0.00823</td>\n",
       "      <td>...</td>\n",
       "      <td>0.005059</td>\n",
       "      <td>0.000000</td>\n",
       "      <td>0.005341</td>\n",
       "      <td>0.006915</td>\n",
       "      <td>0.013839</td>\n",
       "      <td>0.0</td>\n",
       "      <td>0.000000</td>\n",
       "      <td>0.004214</td>\n",
       "      <td>0.010761</td>\n",
       "      <td>0.0</td>\n",
       "    </tr>\n",
       "    <tr>\n",
       "      <th>4</th>\n",
       "      <td>0.000132</td>\n",
       "      <td>0.006042</td>\n",
       "      <td>0.000000</td>\n",
       "      <td>0.250624</td>\n",
       "      <td>0.043899</td>\n",
       "      <td>0.000923</td>\n",
       "      <td>0.000000</td>\n",
       "      <td>0.009479</td>\n",
       "      <td>0.0</td>\n",
       "      <td>0.00000</td>\n",
       "      <td>...</td>\n",
       "      <td>0.004298</td>\n",
       "      <td>0.000000</td>\n",
       "      <td>0.000000</td>\n",
       "      <td>0.000000</td>\n",
       "      <td>0.012321</td>\n",
       "      <td>0.0</td>\n",
       "      <td>0.010921</td>\n",
       "      <td>0.008397</td>\n",
       "      <td>0.004760</td>\n",
       "      <td>0.0</td>\n",
       "    </tr>\n",
       "  </tbody>\n",
       "</table>\n",
       "<p>5 rows × 910 columns</p>\n",
       "</div>"
      ],
      "text/plain": [
       "   Forecasted_value  Forecasted_value  Forecasted_value  Forecasted_value  \\\n",
       "0          0.000000          0.000000          0.009597          0.012796   \n",
       "1          0.000000          0.000000          0.034004          0.091054   \n",
       "2          0.000000          0.000000          0.013057          0.170919   \n",
       "3          0.000000          0.002179          0.006838          0.218519   \n",
       "4          0.000132          0.006042          0.000000          0.250624   \n",
       "\n",
       "   Forecasted_value  Forecasted_value  Forecasted_value  Forecasted_value  \\\n",
       "0          0.025015          0.000000          0.000000          0.000000   \n",
       "1          0.065442          0.000000          0.000000          0.000000   \n",
       "2          0.072144          0.008897          0.000000          0.000000   \n",
       "3          0.040316          0.008887          0.002389          0.022091   \n",
       "4          0.043899          0.000923          0.000000          0.009479   \n",
       "\n",
       "   Forecasted_value  Forecasted_value  ...  Forecasted_value  \\\n",
       "0               0.0           0.00000  ...          0.000000   \n",
       "1               0.0           0.00000  ...          0.000484   \n",
       "2               0.0           0.00000  ...          0.000000   \n",
       "3               0.0           0.00823  ...          0.005059   \n",
       "4               0.0           0.00000  ...          0.004298   \n",
       "\n",
       "   Forecasted_value  Forecasted_value  Forecasted_value  Forecasted_value  \\\n",
       "0          0.020717          0.000000          0.019342          0.001326   \n",
       "1          0.022092          0.000000          0.011016          0.000000   \n",
       "2          0.031561          0.000000          0.030393          0.000000   \n",
       "3          0.000000          0.005341          0.006915          0.013839   \n",
       "4          0.000000          0.000000          0.000000          0.012321   \n",
       "\n",
       "   Forecasted_value  Forecasted_value  Forecasted_value  Forecasted_value  \\\n",
       "0               0.0          0.000000          0.000000          0.007202   \n",
       "1               0.0          0.000000          0.000000          0.010679   \n",
       "2               0.0          0.000000          0.000000          0.005619   \n",
       "3               0.0          0.000000          0.004214          0.010761   \n",
       "4               0.0          0.010921          0.008397          0.004760   \n",
       "\n",
       "   Forecasted_value  \n",
       "0               0.0  \n",
       "1               0.0  \n",
       "2               0.0  \n",
       "3               0.0  \n",
       "4               0.0  \n",
       "\n",
       "[5 rows x 910 columns]"
      ]
     },
     "execution_count": 32,
     "metadata": {},
     "output_type": "execute_result"
    }
   ],
   "source": [
    "exp_forecasted.head()"
   ]
  },
  {
   "cell_type": "code",
   "execution_count": 33,
   "id": "92bcf82f-ca31-4b25-a919-c8d51d72cfa7",
   "metadata": {},
   "outputs": [],
   "source": [
    "sum_forecasted_values = exp_forecasted.sum(axis = 1)"
   ]
  },
  {
   "cell_type": "code",
   "execution_count": 34,
   "id": "7f0e1119-a3bd-4a52-ae36-afa2c2070e2b",
   "metadata": {},
   "outputs": [
    {
     "data": {
      "text/plain": [
       "0    24.037289\n",
       "1    25.737191\n",
       "2    28.013790\n",
       "3    25.620981\n",
       "4    22.790911\n",
       "5    26.799093\n",
       "6    23.854676\n",
       "dtype: float64"
      ]
     },
     "execution_count": 34,
     "metadata": {},
     "output_type": "execute_result"
    }
   ],
   "source": [
    "sum_forecasted_values"
   ]
  },
  {
   "cell_type": "code",
   "execution_count": 36,
   "id": "cbc06a7e-2dca-400d-9cea-d063c33a4442",
   "metadata": {},
   "outputs": [],
   "source": [
    "# concatenate the sum dataframes\n",
    "block_0306_true_and_forecasted_values_df = pd.concat((sum_true_values, sum_forecasted_values), axis = 1)"
   ]
  },
  {
   "cell_type": "code",
   "execution_count": 37,
   "id": "f667f3a6-d7f7-4e7c-a037-1e9541dd38bd",
   "metadata": {},
   "outputs": [],
   "source": [
    "block_0306_true_and_forecasted_values_df.columns = [\"True_count\", \"Forecasted_count\"]"
   ]
  },
  {
   "cell_type": "code",
   "execution_count": 38,
   "id": "d27b93db-c9e2-49ff-9003-9e4925de3179",
   "metadata": {},
   "outputs": [
    {
     "data": {
      "text/html": [
       "<div>\n",
       "<style scoped>\n",
       "    .dataframe tbody tr th:only-of-type {\n",
       "        vertical-align: middle;\n",
       "    }\n",
       "\n",
       "    .dataframe tbody tr th {\n",
       "        vertical-align: top;\n",
       "    }\n",
       "\n",
       "    .dataframe thead th {\n",
       "        text-align: right;\n",
       "    }\n",
       "</style>\n",
       "<table border=\"1\" class=\"dataframe\">\n",
       "  <thead>\n",
       "    <tr style=\"text-align: right;\">\n",
       "      <th></th>\n",
       "      <th>True_count</th>\n",
       "      <th>Forecasted_count</th>\n",
       "    </tr>\n",
       "  </thead>\n",
       "  <tbody>\n",
       "    <tr>\n",
       "      <th>0</th>\n",
       "      <td>41.000009</td>\n",
       "      <td>24.037289</td>\n",
       "    </tr>\n",
       "    <tr>\n",
       "      <th>1</th>\n",
       "      <td>41.000003</td>\n",
       "      <td>25.737191</td>\n",
       "    </tr>\n",
       "    <tr>\n",
       "      <th>2</th>\n",
       "      <td>43.006851</td>\n",
       "      <td>28.013790</td>\n",
       "    </tr>\n",
       "    <tr>\n",
       "      <th>3</th>\n",
       "      <td>39.997605</td>\n",
       "      <td>25.620981</td>\n",
       "    </tr>\n",
       "    <tr>\n",
       "      <th>4</th>\n",
       "      <td>40.000000</td>\n",
       "      <td>22.790911</td>\n",
       "    </tr>\n",
       "    <tr>\n",
       "      <th>5</th>\n",
       "      <td>32.999982</td>\n",
       "      <td>26.799093</td>\n",
       "    </tr>\n",
       "    <tr>\n",
       "      <th>6</th>\n",
       "      <td>18.000000</td>\n",
       "      <td>23.854676</td>\n",
       "    </tr>\n",
       "  </tbody>\n",
       "</table>\n",
       "</div>"
      ],
      "text/plain": [
       "   True_count  Forecasted_count\n",
       "0   41.000009         24.037289\n",
       "1   41.000003         25.737191\n",
       "2   43.006851         28.013790\n",
       "3   39.997605         25.620981\n",
       "4   40.000000         22.790911\n",
       "5   32.999982         26.799093\n",
       "6   18.000000         23.854676"
      ]
     },
     "execution_count": 38,
     "metadata": {},
     "output_type": "execute_result"
    }
   ],
   "source": [
    "block_0306_true_and_forecasted_values_df"
   ]
  },
  {
   "cell_type": "code",
   "execution_count": 39,
   "id": "636d512d-f76b-48dc-90f1-872dc6a32736",
   "metadata": {},
   "outputs": [
    {
     "data": {
      "text/plain": [
       "13.737579095160964"
      ]
     },
     "execution_count": 39,
     "metadata": {},
     "output_type": "execute_result"
    }
   ],
   "source": [
    "# blockwise mean squared error\n",
    "rmse = np.sqrt(mean_squared_error(sum_true_values, sum_forecasted_values))\n",
    "rmse"
   ]
  },
  {
   "cell_type": "code",
   "execution_count": 40,
   "id": "df568443-7d02-4ba8-ad0e-5d83f2576c8b",
   "metadata": {},
   "outputs": [
    {
     "data": {
      "text/plain": [
       "12.979981875776664"
      ]
     },
     "execution_count": 40,
     "metadata": {},
     "output_type": "execute_result"
    }
   ],
   "source": [
    "# blockwise mean absolute error\n",
    "mae = mean_absolute_error(sum_true_values, sum_forecasted_values)\n",
    "mae"
   ]
  },
  {
   "cell_type": "code",
   "execution_count": 41,
   "id": "24d1568b-1b0d-41db-a60b-cd864b46d6e7",
   "metadata": {},
   "outputs": [
    {
     "data": {
      "text/plain": [
       "PearsonRResult(statistic=0.2901053516778893, pvalue=0.5279621364183419)"
      ]
     },
     "execution_count": 41,
     "metadata": {},
     "output_type": "execute_result"
    }
   ],
   "source": [
    "corr = pearsonr(sum_true_values, sum_forecasted_values)\n",
    "corr"
   ]
  },
  {
   "cell_type": "code",
   "execution_count": 42,
   "id": "cf8101a2-be23-4216-afd7-f7783e56f62d",
   "metadata": {},
   "outputs": [
    {
     "data": {
      "text/plain": [
       "-1.8607338873753139"
      ]
     },
     "execution_count": 42,
     "metadata": {},
     "output_type": "execute_result"
    }
   ],
   "source": [
    "r2 = r2_score(sum_true_values, sum_forecasted_values)\n",
    "r2"
   ]
  },
  {
   "cell_type": "markdown",
   "id": "fa460e4d-2fdc-45fb-8f50-6a50b0a6ef13",
   "metadata": {},
   "source": [
    "##### Coverages and widths for the forecasted values?"
   ]
  },
  {
   "cell_type": "code",
   "execution_count": 43,
   "id": "eae4e334-d06f-4950-b09e-ec34cb4f3eba",
   "metadata": {},
   "outputs": [],
   "source": [
    "# for this we need the all_forecasts npy files"
   ]
  },
  {
   "cell_type": "code",
   "execution_count": 44,
   "id": "1ec4f3fa-b7b0-4064-9007-4230b0e64f72",
   "metadata": {},
   "outputs": [],
   "source": [
    "# content location is the same path as above"
   ]
  },
  {
   "cell_type": "code",
   "execution_count": 45,
   "id": "febb8655-c529-4099-b22e-ee36918188d5",
   "metadata": {},
   "outputs": [],
   "source": [
    "all_forecasts_npy_files = ['all_forecasts_sub_' + str(i) + '.npy' for i in range(910)]"
   ]
  },
  {
   "cell_type": "code",
   "execution_count": 46,
   "id": "11eba5f0-5a18-4d7d-a743-d57bc9cf93a4",
   "metadata": {},
   "outputs": [],
   "source": [
    "# all_forecasts_npy_files"
   ]
  },
  {
   "cell_type": "code",
   "execution_count": 47,
   "id": "7711dd37-fd3c-4ac8-b8ae-b4be59dff7fa",
   "metadata": {},
   "outputs": [],
   "source": [
    "# load the npy files"
   ]
  },
  {
   "cell_type": "code",
   "execution_count": 48,
   "id": "57f059e1-25b1-4e6d-b370-9ca0236848ea",
   "metadata": {},
   "outputs": [
    {
     "name": "stdout",
     "output_type": "stream",
     "text": [
      "CPU times: user 814 ms, sys: 466 ms, total: 1.28 s\n",
      "Wall time: 22 s\n"
     ]
    }
   ],
   "source": [
    "%%time\n",
    "loaded_npy_files = []\n",
    "for file in all_forecasts_npy_files:\n",
    "    joined_path = os.path.join(path_to_dfs, file)\n",
    "    load_file = np.load(joined_path)\n",
    "    # notice we are averaging the preds across the chains before exponentiation\n",
    "    mean_file = np.exp(np.mean(load_file, axis = 1)) - 1\n",
    "    loaded_npy_files.append(mean_file)"
   ]
  },
  {
   "cell_type": "code",
   "execution_count": 49,
   "id": "78d4c420-8e99-4103-881e-297bc81f909d",
   "metadata": {},
   "outputs": [
    {
     "data": {
      "text/plain": [
       "910"
      ]
     },
     "execution_count": 49,
     "metadata": {},
     "output_type": "execute_result"
    }
   ],
   "source": [
    "len(loaded_npy_files)"
   ]
  },
  {
   "cell_type": "code",
   "execution_count": 50,
   "id": "3cc8627a-822a-4c8e-898a-52957870ccde",
   "metadata": {},
   "outputs": [
    {
     "data": {
      "text/plain": [
       "(1000, 7)"
      ]
     },
     "execution_count": 50,
     "metadata": {},
     "output_type": "execute_result"
    }
   ],
   "source": [
    "loaded_npy_files[0].shape"
   ]
  },
  {
   "cell_type": "code",
   "execution_count": 51,
   "id": "ab72ca92-e8f1-4ce3-9cea-117b673d4529",
   "metadata": {},
   "outputs": [
    {
     "data": {
      "text/plain": [
       "array([[ 5.07593155e-04, -4.05150652e-03, -8.82911682e-03, ...,\n",
       "         3.08728218e-03,  7.93933868e-04, -2.32696533e-04],\n",
       "       [ 1.70612335e-03, -4.34660912e-03, -9.78672504e-03, ...,\n",
       "         3.05962563e-03, -3.36170197e-05, -1.06453896e-04],\n",
       "       [ 8.33153725e-04, -4.32235003e-03, -9.90134478e-03, ...,\n",
       "         3.28445435e-03,  4.62532043e-04, -9.14692879e-04],\n",
       "       ...,\n",
       "       [-1.61279440e-02, -3.67879868e-03, -8.44812393e-03, ...,\n",
       "        -3.17263603e-03,  3.81839275e-03, -7.42256641e-04],\n",
       "       [-1.75313950e-02, -4.27109003e-03, -9.45860147e-03, ...,\n",
       "        -9.99152660e-04,  3.06761265e-03, -2.09182501e-03],\n",
       "       [-1.62425637e-02, -5.38003445e-03, -9.69368219e-03, ...,\n",
       "        -2.63923407e-03,  3.17084789e-03, -2.01159716e-03]], dtype=float32)"
      ]
     },
     "execution_count": 51,
     "metadata": {},
     "output_type": "execute_result"
    }
   ],
   "source": [
    "loaded_npy_files[0]"
   ]
  },
  {
   "cell_type": "code",
   "execution_count": 52,
   "id": "53dd5c88-918c-46a0-b5ae-cb7c75895741",
   "metadata": {},
   "outputs": [
    {
     "name": "stdout",
     "output_type": "stream",
     "text": [
      "CPU times: user 24.2 ms, sys: 1.17 ms, total: 25.4 ms\n",
      "Wall time: 24.6 ms\n"
     ]
    }
   ],
   "source": [
    "%%time\n",
    "# convert less than 0 entries to 0 for all arrays\n",
    "for arr in loaded_npy_files:\n",
    "    arr[arr < 0] = 0"
   ]
  },
  {
   "cell_type": "code",
   "execution_count": 53,
   "id": "b20d4662-eefc-41bc-ac0a-25d0613fa00c",
   "metadata": {},
   "outputs": [
    {
     "data": {
      "text/plain": [
       "array([[0.00050759, 0.        , 0.        , ..., 0.00308728, 0.00079393,\n",
       "        0.        ],\n",
       "       [0.00170612, 0.        , 0.        , ..., 0.00305963, 0.        ,\n",
       "        0.        ],\n",
       "       [0.00083315, 0.        , 0.        , ..., 0.00328445, 0.00046253,\n",
       "        0.        ],\n",
       "       ...,\n",
       "       [0.        , 0.        , 0.        , ..., 0.        , 0.00381839,\n",
       "        0.        ],\n",
       "       [0.        , 0.        , 0.        , ..., 0.        , 0.00306761,\n",
       "        0.        ],\n",
       "       [0.        , 0.        , 0.        , ..., 0.        , 0.00317085,\n",
       "        0.        ]], dtype=float32)"
      ]
     },
     "execution_count": 53,
     "metadata": {},
     "output_type": "execute_result"
    }
   ],
   "source": [
    "loaded_npy_files[0]"
   ]
  },
  {
   "cell_type": "code",
   "execution_count": 54,
   "id": "f2474bdb-3a79-4436-83b1-2b3c3ac24a5c",
   "metadata": {},
   "outputs": [],
   "source": [
    "# Since we do not have overlapping sub-windows, we can sum the counts to get the final densities\n",
    "output = sum(loaded_npy_files)"
   ]
  },
  {
   "cell_type": "code",
   "execution_count": 55,
   "id": "d9038206-4f90-4001-9c3c-aee27d7d610c",
   "metadata": {},
   "outputs": [
    {
     "data": {
      "text/plain": [
       "(1000, 7)"
      ]
     },
     "execution_count": 55,
     "metadata": {},
     "output_type": "execute_result"
    }
   ],
   "source": [
    "output.shape"
   ]
  },
  {
   "cell_type": "code",
   "execution_count": 56,
   "id": "6116babf-18f2-4e39-9a72-150ccc4e6387",
   "metadata": {},
   "outputs": [
    {
     "data": {
      "text/plain": [
       "array([[33.887245, 35.215645, 34.625046, ..., 34.431786, 34.945633,\n",
       "        30.046806],\n",
       "       [31.463728, 27.260643, 33.005642, ..., 29.232225, 36.2809  ,\n",
       "        38.55387 ],\n",
       "       [36.743443, 35.45792 , 34.11486 , ..., 35.96478 , 38.098595,\n",
       "        32.14162 ],\n",
       "       ...,\n",
       "       [29.925514, 34.100742, 35.56485 , ..., 36.73385 , 38.80959 ,\n",
       "        43.942368],\n",
       "       [33.89668 , 34.098145, 44.11456 , ..., 41.56773 , 43.862247,\n",
       "        38.125443],\n",
       "       [27.98952 , 35.86396 , 43.477036, ..., 37.348103, 41.04962 ,\n",
       "        39.735405]], dtype=float32)"
      ]
     },
     "execution_count": 56,
     "metadata": {},
     "output_type": "execute_result"
    }
   ],
   "source": [
    "output"
   ]
  },
  {
   "cell_type": "code",
   "execution_count": 57,
   "id": "fbac31f0-215b-4e8b-8c13-2cd85e76a70f",
   "metadata": {},
   "outputs": [],
   "source": [
    "# is this sum correct? alternative method of computing the sums\n",
    "output_alt = np.sum(loaded_npy_files, axis = 0)"
   ]
  },
  {
   "cell_type": "code",
   "execution_count": 58,
   "id": "1198a1a0-14fc-4101-b4af-14a2c26dc0c5",
   "metadata": {},
   "outputs": [
    {
     "data": {
      "text/plain": [
       "(1000, 7)"
      ]
     },
     "execution_count": 58,
     "metadata": {},
     "output_type": "execute_result"
    }
   ],
   "source": [
    "output_alt.shape"
   ]
  },
  {
   "cell_type": "code",
   "execution_count": 59,
   "id": "23c6ebbe-2c27-47ff-8a5f-86491e58d899",
   "metadata": {},
   "outputs": [
    {
     "data": {
      "text/plain": [
       "array([[33.887245, 35.215645, 34.625046, ..., 34.431786, 34.945633,\n",
       "        30.046806],\n",
       "       [31.463728, 27.260643, 33.005642, ..., 29.232225, 36.2809  ,\n",
       "        38.55387 ],\n",
       "       [36.743443, 35.45792 , 34.11486 , ..., 35.96478 , 38.098595,\n",
       "        32.14162 ],\n",
       "       ...,\n",
       "       [29.925514, 34.100742, 35.56485 , ..., 36.73385 , 38.80959 ,\n",
       "        43.942368],\n",
       "       [33.89668 , 34.098145, 44.11456 , ..., 41.56773 , 43.862247,\n",
       "        38.125443],\n",
       "       [27.98952 , 35.86396 , 43.477036, ..., 37.348103, 41.04962 ,\n",
       "        39.735405]], dtype=float32)"
      ]
     },
     "execution_count": 59,
     "metadata": {},
     "output_type": "execute_result"
    }
   ],
   "source": [
    "output_alt"
   ]
  },
  {
   "cell_type": "code",
   "execution_count": 60,
   "id": "7b4a8d85-fe98-49c3-9a9f-51fbd90c5174",
   "metadata": {},
   "outputs": [
    {
     "data": {
      "text/plain": [
       "1.0"
      ]
     },
     "execution_count": 60,
     "metadata": {},
     "output_type": "execute_result"
    }
   ],
   "source": [
    "np.mean(output_alt == output)"
   ]
  },
  {
   "cell_type": "code",
   "execution_count": 61,
   "id": "ba6418a3-03f4-475a-b552-55a08048311f",
   "metadata": {},
   "outputs": [],
   "source": [
    "# verified the sum is correct, let's get the widths and the coverages - and also any essential plots"
   ]
  },
  {
   "cell_type": "code",
   "execution_count": 62,
   "id": "ca61eabc-63ed-4b74-b20a-61521b3751a6",
   "metadata": {},
   "outputs": [],
   "source": [
    "# now we can get the 2.5th abd the 97.5th percentiles - to get the coverage and the widths of the CIS\n",
    "li_train = np.percentile(output, axis = 0, q = (2.5, 97.5))[0,:].reshape(-1,1)    \n",
    "ui_train = np.percentile(output, axis = 0, q = (2.5, 97.5))[1,:].reshape(-1,1)"
   ]
  },
  {
   "cell_type": "code",
   "execution_count": 63,
   "id": "9cad5cca-320d-4e70-b204-e4dc52fb9d6d",
   "metadata": {},
   "outputs": [
    {
     "data": {
      "text/plain": [
       "array([[22.50752168],\n",
       "       [22.31606421],\n",
       "       [22.86141582],\n",
       "       [23.41199365],\n",
       "       [21.60777588],\n",
       "       [23.40833941],\n",
       "       [22.04813304]])"
      ]
     },
     "execution_count": 63,
     "metadata": {},
     "output_type": "execute_result"
    }
   ],
   "source": [
    "li_train"
   ]
  },
  {
   "cell_type": "code",
   "execution_count": 64,
   "id": "4e669c1d-0916-4e77-92e2-a1b1879834aa",
   "metadata": {},
   "outputs": [
    {
     "data": {
      "text/plain": [
       "array([[40.464814  ],\n",
       "       [40.77926407],\n",
       "       [43.92694111],\n",
       "       [45.8095953 ],\n",
       "       [42.21499987],\n",
       "       [44.63247185],\n",
       "       [44.50019484]])"
      ]
     },
     "execution_count": 64,
     "metadata": {},
     "output_type": "execute_result"
    }
   ],
   "source": [
    "ui_train"
   ]
  },
  {
   "cell_type": "code",
   "execution_count": 65,
   "id": "4d51a483-bfe5-4cc6-a31f-813cb83d5540",
   "metadata": {},
   "outputs": [],
   "source": [
    "width_train = ui_train - li_train\n",
    "avg_width_train = width_train.mean(0)[0]"
   ]
  },
  {
   "cell_type": "code",
   "execution_count": 66,
   "id": "37b163bb-b24c-4af2-8f2b-19c78eb24ff9",
   "metadata": {},
   "outputs": [
    {
     "data": {
      "text/plain": [
       "20.59529104913984"
      ]
     },
     "execution_count": 66,
     "metadata": {},
     "output_type": "execute_result"
    }
   ],
   "source": [
    "avg_width_train"
   ]
  },
  {
   "cell_type": "code",
   "execution_count": 67,
   "id": "46d652b2-05be-44f9-bf0d-3ff69ad25fed",
   "metadata": {},
   "outputs": [],
   "source": [
    "y_traina = block_0306_true_and_forecasted_values_df[[\"True_count\"]].values"
   ]
  },
  {
   "cell_type": "code",
   "execution_count": 68,
   "id": "053c0783-3289-4068-9999-948c0f985fa1",
   "metadata": {},
   "outputs": [
    {
     "data": {
      "text/plain": [
       "array([[41.00000903],\n",
       "       [41.00000334],\n",
       "       [43.00685138],\n",
       "       [39.99760478],\n",
       "       [40.00000026],\n",
       "       [32.99998226],\n",
       "       [17.99999986]])"
      ]
     },
     "execution_count": 68,
     "metadata": {},
     "output_type": "execute_result"
    }
   ],
   "source": [
    "y_traina"
   ]
  },
  {
   "cell_type": "code",
   "execution_count": 69,
   "id": "5f1ba54d-0aca-494d-b741-b2cd6d00fcb3",
   "metadata": {},
   "outputs": [],
   "source": [
    "ind_train = (y_traina >= li_train) & (y_traina <= ui_train)\n",
    "coverage_train= ind_train.mean(0)[0]"
   ]
  },
  {
   "cell_type": "code",
   "execution_count": 70,
   "id": "66d5a7c9-0400-4f6f-9221-9cb9c7860d3c",
   "metadata": {},
   "outputs": [
    {
     "data": {
      "text/plain": [
       "0.5714285714285714"
      ]
     },
     "execution_count": 70,
     "metadata": {},
     "output_type": "execute_result"
    }
   ],
   "source": [
    "coverage_train"
   ]
  },
  {
   "cell_type": "code",
   "execution_count": 71,
   "id": "ce86b870-01cf-4e10-904b-ef2396d2dc47",
   "metadata": {},
   "outputs": [
    {
     "data": {
      "text/plain": [
       "array([31.081625, 31.243902, 32.96424 , 33.749077, 30.53642 , 33.65258 ,\n",
       "       32.36548 ], dtype=float32)"
      ]
     },
     "execution_count": 71,
     "metadata": {},
     "output_type": "execute_result"
    }
   ],
   "source": [
    "np.mean(output, axis = 0)"
   ]
  },
  {
   "cell_type": "code",
   "execution_count": 72,
   "id": "311beb4f-6347-407c-af9b-bfe285361098",
   "metadata": {},
   "outputs": [
    {
     "data": {
      "text/plain": [
       "0    24.037289\n",
       "1    25.737191\n",
       "2    28.013790\n",
       "3    25.620981\n",
       "4    22.790911\n",
       "5    26.799093\n",
       "6    23.854676\n",
       "dtype: float64"
      ]
     },
     "execution_count": 72,
     "metadata": {},
     "output_type": "execute_result"
    }
   ],
   "source": [
    "sum_forecasted_values"
   ]
  },
  {
   "cell_type": "code",
   "execution_count": 73,
   "id": "0f94ff2b-6606-477b-a3a7-c3841f436c56",
   "metadata": {},
   "outputs": [
    {
     "data": {
      "image/png": "[encoded data removed]",
      "text/plain": [
       "<Figure size 640x480 with 1 Axes>"
      ]
     },
     "metadata": {},
     "output_type": "display_data"
    }
   ],
   "source": [
    "plt.scatter(block_0306_true_and_forecasted_values_df['True_count'], block_0306_true_and_forecasted_values_df['Forecasted_count'])\n",
    "plt.xlabel(\"True density\")\n",
    "plt.ylabel(\"Predicted density\")\n",
    "# Add the y = x line\n",
    "plt.plot([20, 46], [20, 46], color='green', label='y = x')\n",
    "plt.legend()\n",
    "plt.show()"
   ]
  },
  {
   "cell_type": "code",
   "execution_count": null,
   "id": "04aa778d-3203-493f-a8d5-6c42cd0c540a",
   "metadata": {},
   "outputs": [],
   "source": [
    "%%time\n",
    "# Create a 2x4 grid of subplots (total 8 plots, the last one will be left empty)\n",
    "fig, axes = plt.subplots(4, 2, figsize=(15,20))\n",
    "axes = axes.flatten() \n",
    "\n",
    "# widths plots\n",
    "for i in range(7):\n",
    "    timestep_i_subwindows = []\n",
    "    for y, file in enumerate(loaded_npy_files):\n",
    "        t_i_forecast = file[:,i]\n",
    "        # print the shape of the extracted array\n",
    "        # print(t_i_forecast.shape)\n",
    "        timestep_i_subwindows.append(t_i_forecast)\n",
    "    stacked_forecasts = np.stack(timestep_i_subwindows)\n",
    "    stacked_forecasts[stacked_forecasts<0] = 0\n",
    "    sorted_stacked_forecasts = np.sort(stacked_forecasts, axis = 1)\n",
    "    # get the values between the 2.5th and 97.5th percentile?\n",
    "    sorted_interval_data = sorted_stacked_forecasts[:,25:975]\n",
    "\n",
    "    # Plot for the current 2D array\n",
    "    for l, row in enumerate(sorted_interval_data):\n",
    "        axes[i].plot([l + 1] * len(row), row, 'o', markersize=1, color='teal', label='Distribution of forecasted values' if l == 0 else \"\")\n",
    "    \n",
    "    true_counts = exp_true.iloc[i,:].values\n",
    "\n",
    "    # # Overlay the 1D array values\n",
    "    axes[i].plot(np.arange(1, 911), true_counts, 'o', markersize=1, color='red', label='True density')\n",
    "    \n",
    "    # Customize x-ticks and labels\n",
    "    axes[i].set_xticks(np.arange(1, 911))\n",
    "    # axes[i].set_xticklabels([f'sub_window_{zz + 1}' for zz in range(910)], rotation=90, fontsize=13)\n",
    "    axes[i].set_xlabel(\"Sub windows\", fontsize=12, fontweight='bold')\n",
    "    axes[i].set_ylabel(\"Forecasted and true densities\", fontsize=12, fontweight='bold')\n",
    "    axes[i].set_title(f\"Test image {i + 1}\", fontsize=12, fontweight='bold')\n",
    "    axes[i].legend()\n",
    "\n",
    "\n",
    "# Hide the last (empty) subplot\n",
    "axes[-1].set_visible(False)\n",
    "\n",
    "# Adjust layout\n",
    "plt.tight_layout()\n",
    "\n",
    "# # Save the figure as a PDF file\n",
    "# plt.savefig(\"Previous_data/Forecasted_distributions_blk13.pdf\", format='pdf', bbox_inches='tight')\n",
    "plt.show()\n",
    "\n"
   ]
  },
  {
   "cell_type": "code",
   "execution_count": null,
   "id": "b51d6a01-5c7a-4e37-be12-776053974e4d",
   "metadata": {},
   "outputs": [],
   "source": [
    "# plots are going to be too over-crowded as we now have 910 subwindows - might beed to talk to Dr. Ghosh to figure out a better way to give these plots"
   ]
  },
  {
   "cell_type": "code",
   "execution_count": null,
   "id": "c278c7bc-eced-4cbb-ab5c-b5156fe33612",
   "metadata": {},
   "outputs": [],
   "source": [
    "# we may need to re-think about the way the average forecasts were computed. Maybe get the average after exponentiating than averaging all values to a single value and then exponentiating? this would be a few lines of codes - but may be a better way to get the forecated density values? "
   ]
  }
 ],
 "metadata": {
  "kernelspec": {
   "display_name": "Python (tfp_cpu_env)",
   "language": "python",
   "name": "tfp_cpu_env"
  },
  "language_info": {
   "codemirror_mode": {
    "name": "ipython",
    "version": 3
   },
   "file_extension": ".py",
   "mimetype": "text/x-python",
   "name": "python",
   "nbconvert_exporter": "python",
   "pygments_lexer": "ipython3",
   "version": "3.11.7"
  }
 },
 "nbformat": 4,
 "nbformat_minor": 5
}
