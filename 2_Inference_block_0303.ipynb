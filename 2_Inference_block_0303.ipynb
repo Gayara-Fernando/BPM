{
 "cells": [
  {
   "cell_type": "code",
   "execution_count": 1,
   "id": "95479ff1-daa9-4a85-bee2-32d78b24506b",
   "metadata": {},
   "outputs": [],
   "source": [
    "import pandas as pd\n",
    "import numpy as np\n",
    "import matplotlib.pyplot as plt\n",
    "import os\n",
    "from sklearn.metrics import mean_absolute_error, mean_squared_error, r2_score\n",
    "from scipy.stats import pearsonr"
   ]
  },
  {
   "cell_type": "code",
   "execution_count": 2,
   "id": "d0c496d4-1b24-43dd-ab1b-b98d6eaef21b",
   "metadata": {},
   "outputs": [],
   "source": [
    "# path to dataframes\n",
    "path_to_dfs = \"data/BLAR_implementation/Block_0303/forecasted_counts/\""
   ]
  },
  {
   "cell_type": "code",
   "execution_count": 3,
   "id": "0c9c641d-4e5d-4c54-a235-c62cbdf13f8d",
   "metadata": {},
   "outputs": [],
   "source": [
    "# os.listdir(path_to_dfs)"
   ]
  },
  {
   "cell_type": "code",
   "execution_count": 4,
   "id": "5e5d1ebd-ac8c-4a2b-b33c-db3c4b477eae",
   "metadata": {},
   "outputs": [
    {
     "data": {
      "text/plain": [
       "6370"
      ]
     },
     "execution_count": 4,
     "metadata": {},
     "output_type": "execute_result"
    }
   ],
   "source": [
    "len(os.listdir(path_to_dfs))"
   ]
  },
  {
   "cell_type": "code",
   "execution_count": 5,
   "id": "3b80d752-5eb8-42c1-ad39-987ad3dbb001",
   "metadata": {},
   "outputs": [
    {
     "data": {
      "text/plain": [
       "7.0"
      ]
     },
     "execution_count": 5,
     "metadata": {},
     "output_type": "execute_result"
    }
   ],
   "source": [
    "6370/910"
   ]
  },
  {
   "cell_type": "code",
   "execution_count": 6,
   "id": "a0ac81e1-3049-44de-a2bf-4bf5a274ba45",
   "metadata": {},
   "outputs": [],
   "source": [
    "# seems each sub-window sequence have 7 things stored - what are all these?\n",
    "\n",
    "# the forecasted npy files\n",
    "# ar_sigma\n",
    "# noise_sigma\n",
    "# betas\n",
    "# rho\n",
    "# averaged forecasts\n",
    "# posterior parameter summaries - might need to pay a little attention here, the r_hat values are too high - think this should vary around 1? - but almost all the values are greater than 2."
   ]
  },
  {
   "cell_type": "code",
   "execution_count": 7,
   "id": "f9a4f497-2d9d-4b5c-9169-46b6ae6b9977",
   "metadata": {},
   "outputs": [],
   "source": [
    "averaged_forecasts_csvs = []\n",
    "for file in os.listdir(path_to_dfs):\n",
    "    if file[:8] =='averaged':\n",
    "        averaged_forecasts_csvs.append(file)"
   ]
  },
  {
   "cell_type": "code",
   "execution_count": 8,
   "id": "094e9614-b16f-45a2-aafc-d7884678eb44",
   "metadata": {},
   "outputs": [
    {
     "data": {
      "text/plain": [
       "910"
      ]
     },
     "execution_count": 8,
     "metadata": {},
     "output_type": "execute_result"
    }
   ],
   "source": [
    "# how many csv files do we have?\n",
    "len(averaged_forecasts_csvs)"
   ]
  },
  {
   "cell_type": "code",
   "execution_count": 9,
   "id": "7eca928b-bdbd-4d00-9eb1-8a808db7123e",
   "metadata": {},
   "outputs": [],
   "source": [
    "# averaged_forecasts_csvs - we probably need these in order for getting the respective predicted values"
   ]
  },
  {
   "cell_type": "code",
   "execution_count": 10,
   "id": "d0e11c68-824a-41ea-bf6b-65f53103343f",
   "metadata": {},
   "outputs": [
    {
     "data": {
      "text/plain": [
       "'averaged_forecasts_sub_653.csv'"
      ]
     },
     "execution_count": 10,
     "metadata": {},
     "output_type": "execute_result"
    }
   ],
   "source": [
    "averaged_forecasts_csvs[0]"
   ]
  },
  {
   "cell_type": "code",
   "execution_count": 11,
   "id": "f1f9e7be-53a6-4f38-b389-045d898b14ef",
   "metadata": {},
   "outputs": [],
   "source": [
    "# sorting them would not work as everything in the nomenclature of the files is a character - hence will not respect the numerical order"
   ]
  },
  {
   "cell_type": "code",
   "execution_count": 12,
   "id": "3cf616ee-4b4e-4ad9-ac1b-20aba081bfc5",
   "metadata": {},
   "outputs": [],
   "source": [
    "# let's create these names in the order of the subwindows\n",
    "ordered_csv_files = ['averaged_forecasts_sub_' + str(i) + '.csv' for i in range(910)]"
   ]
  },
  {
   "cell_type": "code",
   "execution_count": 13,
   "id": "7ac08389-4437-448b-b8a8-317cd0a9bf8e",
   "metadata": {},
   "outputs": [],
   "source": [
    "# ordered_csv_files"
   ]
  },
  {
   "cell_type": "code",
   "execution_count": 14,
   "id": "e74425d7-b613-44cf-96dd-df4298cef947",
   "metadata": {},
   "outputs": [],
   "source": [
    "# averaged_forecasts_csvs list is pointless at this time?"
   ]
  },
  {
   "cell_type": "code",
   "execution_count": 15,
   "id": "9a94c9ec-57cc-42fa-ad71-26639da44cb7",
   "metadata": {},
   "outputs": [
    {
     "name": "stdout",
     "output_type": "stream",
     "text": [
      "CPU times: user 483 ms, sys: 12.2 ms, total: 495 ms\n",
      "Wall time: 497 ms\n"
     ]
    }
   ],
   "source": [
    "%%time\n",
    "all_dfs = []\n",
    "for file in ordered_csv_files:\n",
    "    read_df = pd.read_csv(path_to_dfs + '/' + file)\n",
    "    all_dfs.append(read_df)"
   ]
  },
  {
   "cell_type": "code",
   "execution_count": 16,
   "id": "c04b6062-8fc9-4f3e-87f2-2a8e9abac16f",
   "metadata": {},
   "outputs": [],
   "source": [
    "# make a single dataframe out of the many\n",
    "combined_df = pd.concat(all_dfs, axis = 1)"
   ]
  },
  {
   "cell_type": "code",
   "execution_count": 17,
   "id": "5671cc95-7ba6-47bc-8da8-47ba9d3f36e3",
   "metadata": {},
   "outputs": [
    {
     "data": {
      "text/html": [
       "<div>\n",
       "<style scoped>\n",
       "    .dataframe tbody tr th:only-of-type {\n",
       "        vertical-align: middle;\n",
       "    }\n",
       "\n",
       "    .dataframe tbody tr th {\n",
       "        vertical-align: top;\n",
       "    }\n",
       "\n",
       "    .dataframe thead th {\n",
       "        text-align: right;\n",
       "    }\n",
       "</style>\n",
       "<table border=\"1\" class=\"dataframe\">\n",
       "  <thead>\n",
       "    <tr style=\"text-align: right;\">\n",
       "      <th></th>\n",
       "      <th>True_value</th>\n",
       "      <th>Forecasted_value</th>\n",
       "      <th>True_value</th>\n",
       "      <th>Forecasted_value</th>\n",
       "      <th>True_value</th>\n",
       "      <th>Forecasted_value</th>\n",
       "      <th>True_value</th>\n",
       "      <th>Forecasted_value</th>\n",
       "      <th>True_value</th>\n",
       "      <th>Forecasted_value</th>\n",
       "      <th>...</th>\n",
       "      <th>True_value</th>\n",
       "      <th>Forecasted_value</th>\n",
       "      <th>True_value</th>\n",
       "      <th>Forecasted_value</th>\n",
       "      <th>True_value</th>\n",
       "      <th>Forecasted_value</th>\n",
       "      <th>True_value</th>\n",
       "      <th>Forecasted_value</th>\n",
       "      <th>True_value</th>\n",
       "      <th>Forecasted_value</th>\n",
       "    </tr>\n",
       "  </thead>\n",
       "  <tbody>\n",
       "    <tr>\n",
       "      <th>0</th>\n",
       "      <td>1.676954e-07</td>\n",
       "      <td>0.058860</td>\n",
       "      <td>3.197090e-07</td>\n",
       "      <td>0.092983</td>\n",
       "      <td>0.0</td>\n",
       "      <td>-0.006539</td>\n",
       "      <td>0.0</td>\n",
       "      <td>-0.015019</td>\n",
       "      <td>0.0</td>\n",
       "      <td>-0.014308</td>\n",
       "      <td>...</td>\n",
       "      <td>0.0</td>\n",
       "      <td>-0.005259</td>\n",
       "      <td>0.000001</td>\n",
       "      <td>-0.012214</td>\n",
       "      <td>0.000004</td>\n",
       "      <td>-0.021722</td>\n",
       "      <td>0.000000</td>\n",
       "      <td>0.058780</td>\n",
       "      <td>0.00000</td>\n",
       "      <td>-0.005636</td>\n",
       "    </tr>\n",
       "    <tr>\n",
       "      <th>1</th>\n",
       "      <td>2.699901e-05</td>\n",
       "      <td>0.054616</td>\n",
       "      <td>3.494233e-06</td>\n",
       "      <td>0.090213</td>\n",
       "      <td>0.0</td>\n",
       "      <td>0.004936</td>\n",
       "      <td>0.0</td>\n",
       "      <td>-0.011147</td>\n",
       "      <td>0.0</td>\n",
       "      <td>-0.020334</td>\n",
       "      <td>...</td>\n",
       "      <td>0.0</td>\n",
       "      <td>-0.009821</td>\n",
       "      <td>0.000000</td>\n",
       "      <td>-0.016946</td>\n",
       "      <td>0.000000</td>\n",
       "      <td>-0.003508</td>\n",
       "      <td>0.000000</td>\n",
       "      <td>0.008588</td>\n",
       "      <td>0.00000</td>\n",
       "      <td>-0.005234</td>\n",
       "    </tr>\n",
       "    <tr>\n",
       "      <th>2</th>\n",
       "      <td>1.515700e-04</td>\n",
       "      <td>0.063526</td>\n",
       "      <td>3.497421e-06</td>\n",
       "      <td>0.116874</td>\n",
       "      <td>0.0</td>\n",
       "      <td>0.004189</td>\n",
       "      <td>0.0</td>\n",
       "      <td>-0.009384</td>\n",
       "      <td>0.0</td>\n",
       "      <td>-0.014389</td>\n",
       "      <td>...</td>\n",
       "      <td>0.0</td>\n",
       "      <td>0.000697</td>\n",
       "      <td>0.000000</td>\n",
       "      <td>-0.011532</td>\n",
       "      <td>0.000000</td>\n",
       "      <td>-0.012429</td>\n",
       "      <td>0.000000</td>\n",
       "      <td>0.001048</td>\n",
       "      <td>0.00000</td>\n",
       "      <td>-0.006533</td>\n",
       "    </tr>\n",
       "    <tr>\n",
       "      <th>3</th>\n",
       "      <td>0.000000e+00</td>\n",
       "      <td>0.045173</td>\n",
       "      <td>0.000000e+00</td>\n",
       "      <td>0.070591</td>\n",
       "      <td>0.0</td>\n",
       "      <td>-0.004705</td>\n",
       "      <td>0.0</td>\n",
       "      <td>-0.009427</td>\n",
       "      <td>0.0</td>\n",
       "      <td>-0.004497</td>\n",
       "      <td>...</td>\n",
       "      <td>0.0</td>\n",
       "      <td>0.006897</td>\n",
       "      <td>0.000000</td>\n",
       "      <td>-0.005730</td>\n",
       "      <td>0.000000</td>\n",
       "      <td>-0.007305</td>\n",
       "      <td>0.000000</td>\n",
       "      <td>0.038403</td>\n",
       "      <td>0.00000</td>\n",
       "      <td>-0.004317</td>\n",
       "    </tr>\n",
       "    <tr>\n",
       "      <th>4</th>\n",
       "      <td>0.000000e+00</td>\n",
       "      <td>0.025561</td>\n",
       "      <td>0.000000e+00</td>\n",
       "      <td>0.014707</td>\n",
       "      <td>0.0</td>\n",
       "      <td>-0.009816</td>\n",
       "      <td>0.0</td>\n",
       "      <td>-0.008947</td>\n",
       "      <td>0.0</td>\n",
       "      <td>-0.005424</td>\n",
       "      <td>...</td>\n",
       "      <td>0.0</td>\n",
       "      <td>0.009345</td>\n",
       "      <td>0.000000</td>\n",
       "      <td>-0.001114</td>\n",
       "      <td>0.000000</td>\n",
       "      <td>-0.008729</td>\n",
       "      <td>0.087969</td>\n",
       "      <td>0.028426</td>\n",
       "      <td>0.02528</td>\n",
       "      <td>-0.001285</td>\n",
       "    </tr>\n",
       "  </tbody>\n",
       "</table>\n",
       "<p>5 rows × 1820 columns</p>\n",
       "</div>"
      ],
      "text/plain": [
       "     True_value  Forecasted_value    True_value  Forecasted_value  True_value  \\\n",
       "0  1.676954e-07          0.058860  3.197090e-07          0.092983         0.0   \n",
       "1  2.699901e-05          0.054616  3.494233e-06          0.090213         0.0   \n",
       "2  1.515700e-04          0.063526  3.497421e-06          0.116874         0.0   \n",
       "3  0.000000e+00          0.045173  0.000000e+00          0.070591         0.0   \n",
       "4  0.000000e+00          0.025561  0.000000e+00          0.014707         0.0   \n",
       "\n",
       "   Forecasted_value  True_value  Forecasted_value  True_value  \\\n",
       "0         -0.006539         0.0         -0.015019         0.0   \n",
       "1          0.004936         0.0         -0.011147         0.0   \n",
       "2          0.004189         0.0         -0.009384         0.0   \n",
       "3         -0.004705         0.0         -0.009427         0.0   \n",
       "4         -0.009816         0.0         -0.008947         0.0   \n",
       "\n",
       "   Forecasted_value  ...  True_value  Forecasted_value  True_value  \\\n",
       "0         -0.014308  ...         0.0         -0.005259    0.000001   \n",
       "1         -0.020334  ...         0.0         -0.009821    0.000000   \n",
       "2         -0.014389  ...         0.0          0.000697    0.000000   \n",
       "3         -0.004497  ...         0.0          0.006897    0.000000   \n",
       "4         -0.005424  ...         0.0          0.009345    0.000000   \n",
       "\n",
       "   Forecasted_value  True_value  Forecasted_value  True_value  \\\n",
       "0         -0.012214    0.000004         -0.021722    0.000000   \n",
       "1         -0.016946    0.000000         -0.003508    0.000000   \n",
       "2         -0.011532    0.000000         -0.012429    0.000000   \n",
       "3         -0.005730    0.000000         -0.007305    0.000000   \n",
       "4         -0.001114    0.000000         -0.008729    0.087969   \n",
       "\n",
       "   Forecasted_value  True_value  Forecasted_value  \n",
       "0          0.058780     0.00000         -0.005636  \n",
       "1          0.008588     0.00000         -0.005234  \n",
       "2          0.001048     0.00000         -0.006533  \n",
       "3          0.038403     0.00000         -0.004317  \n",
       "4          0.028426     0.02528         -0.001285  \n",
       "\n",
       "[5 rows x 1820 columns]"
      ]
     },
     "execution_count": 17,
     "metadata": {},
     "output_type": "execute_result"
    }
   ],
   "source": [
    "combined_df.head()"
   ]
  },
  {
   "cell_type": "code",
   "execution_count": 18,
   "id": "77ebc554-fe99-4cea-9cb3-2d2b8329b7b8",
   "metadata": {},
   "outputs": [
    {
     "data": {
      "text/plain": [
       "(7, 1820)"
      ]
     },
     "execution_count": 18,
     "metadata": {},
     "output_type": "execute_result"
    }
   ],
   "source": [
    "combined_df.shape"
   ]
  },
  {
   "cell_type": "code",
   "execution_count": 19,
   "id": "cd7bd824-8dac-4284-b286-aafcd8cd7d43",
   "metadata": {},
   "outputs": [],
   "source": [
    "# get the true values\n",
    "True_values_df = combined_df[['True_value']]"
   ]
  },
  {
   "cell_type": "code",
   "execution_count": 20,
   "id": "20d0decc-e09d-494a-9ff8-2139aac7254b",
   "metadata": {},
   "outputs": [
    {
     "data": {
      "text/html": [
       "<div>\n",
       "<style scoped>\n",
       "    .dataframe tbody tr th:only-of-type {\n",
       "        vertical-align: middle;\n",
       "    }\n",
       "\n",
       "    .dataframe tbody tr th {\n",
       "        vertical-align: top;\n",
       "    }\n",
       "\n",
       "    .dataframe thead th {\n",
       "        text-align: right;\n",
       "    }\n",
       "</style>\n",
       "<table border=\"1\" class=\"dataframe\">\n",
       "  <thead>\n",
       "    <tr style=\"text-align: right;\">\n",
       "      <th></th>\n",
       "      <th>True_value</th>\n",
       "      <th>True_value</th>\n",
       "      <th>True_value</th>\n",
       "      <th>True_value</th>\n",
       "      <th>True_value</th>\n",
       "      <th>True_value</th>\n",
       "      <th>True_value</th>\n",
       "      <th>True_value</th>\n",
       "      <th>True_value</th>\n",
       "      <th>True_value</th>\n",
       "      <th>...</th>\n",
       "      <th>True_value</th>\n",
       "      <th>True_value</th>\n",
       "      <th>True_value</th>\n",
       "      <th>True_value</th>\n",
       "      <th>True_value</th>\n",
       "      <th>True_value</th>\n",
       "      <th>True_value</th>\n",
       "      <th>True_value</th>\n",
       "      <th>True_value</th>\n",
       "      <th>True_value</th>\n",
       "    </tr>\n",
       "  </thead>\n",
       "  <tbody>\n",
       "    <tr>\n",
       "      <th>0</th>\n",
       "      <td>1.676954e-07</td>\n",
       "      <td>3.197090e-07</td>\n",
       "      <td>0.0</td>\n",
       "      <td>0.0</td>\n",
       "      <td>0.0</td>\n",
       "      <td>0.000000</td>\n",
       "      <td>0.000000</td>\n",
       "      <td>0.000000</td>\n",
       "      <td>0.0</td>\n",
       "      <td>0.0</td>\n",
       "      <td>...</td>\n",
       "      <td>0.0</td>\n",
       "      <td>0.0</td>\n",
       "      <td>0.0</td>\n",
       "      <td>0.0</td>\n",
       "      <td>0.0</td>\n",
       "      <td>0.0</td>\n",
       "      <td>0.000001</td>\n",
       "      <td>0.000004</td>\n",
       "      <td>0.000000</td>\n",
       "      <td>0.00000</td>\n",
       "    </tr>\n",
       "    <tr>\n",
       "      <th>1</th>\n",
       "      <td>2.699901e-05</td>\n",
       "      <td>3.494233e-06</td>\n",
       "      <td>0.0</td>\n",
       "      <td>0.0</td>\n",
       "      <td>0.0</td>\n",
       "      <td>0.000000</td>\n",
       "      <td>0.000078</td>\n",
       "      <td>0.000078</td>\n",
       "      <td>0.0</td>\n",
       "      <td>0.0</td>\n",
       "      <td>...</td>\n",
       "      <td>0.0</td>\n",
       "      <td>0.0</td>\n",
       "      <td>0.0</td>\n",
       "      <td>0.0</td>\n",
       "      <td>0.0</td>\n",
       "      <td>0.0</td>\n",
       "      <td>0.000000</td>\n",
       "      <td>0.000000</td>\n",
       "      <td>0.000000</td>\n",
       "      <td>0.00000</td>\n",
       "    </tr>\n",
       "    <tr>\n",
       "      <th>2</th>\n",
       "      <td>1.515700e-04</td>\n",
       "      <td>3.497421e-06</td>\n",
       "      <td>0.0</td>\n",
       "      <td>0.0</td>\n",
       "      <td>0.0</td>\n",
       "      <td>0.000000</td>\n",
       "      <td>0.000000</td>\n",
       "      <td>0.000000</td>\n",
       "      <td>0.0</td>\n",
       "      <td>0.0</td>\n",
       "      <td>...</td>\n",
       "      <td>0.0</td>\n",
       "      <td>0.0</td>\n",
       "      <td>0.0</td>\n",
       "      <td>0.0</td>\n",
       "      <td>0.0</td>\n",
       "      <td>0.0</td>\n",
       "      <td>0.000000</td>\n",
       "      <td>0.000000</td>\n",
       "      <td>0.000000</td>\n",
       "      <td>0.00000</td>\n",
       "    </tr>\n",
       "    <tr>\n",
       "      <th>3</th>\n",
       "      <td>0.000000e+00</td>\n",
       "      <td>0.000000e+00</td>\n",
       "      <td>0.0</td>\n",
       "      <td>0.0</td>\n",
       "      <td>0.0</td>\n",
       "      <td>0.000029</td>\n",
       "      <td>0.654502</td>\n",
       "      <td>0.021100</td>\n",
       "      <td>0.0</td>\n",
       "      <td>0.0</td>\n",
       "      <td>...</td>\n",
       "      <td>0.0</td>\n",
       "      <td>0.0</td>\n",
       "      <td>0.0</td>\n",
       "      <td>0.0</td>\n",
       "      <td>0.0</td>\n",
       "      <td>0.0</td>\n",
       "      <td>0.000000</td>\n",
       "      <td>0.000000</td>\n",
       "      <td>0.000000</td>\n",
       "      <td>0.00000</td>\n",
       "    </tr>\n",
       "    <tr>\n",
       "      <th>4</th>\n",
       "      <td>0.000000e+00</td>\n",
       "      <td>0.000000e+00</td>\n",
       "      <td>0.0</td>\n",
       "      <td>0.0</td>\n",
       "      <td>0.0</td>\n",
       "      <td>0.000000</td>\n",
       "      <td>0.000000</td>\n",
       "      <td>0.000000</td>\n",
       "      <td>0.0</td>\n",
       "      <td>0.0</td>\n",
       "      <td>...</td>\n",
       "      <td>0.0</td>\n",
       "      <td>0.0</td>\n",
       "      <td>0.0</td>\n",
       "      <td>0.0</td>\n",
       "      <td>0.0</td>\n",
       "      <td>0.0</td>\n",
       "      <td>0.000000</td>\n",
       "      <td>0.000000</td>\n",
       "      <td>0.087969</td>\n",
       "      <td>0.02528</td>\n",
       "    </tr>\n",
       "  </tbody>\n",
       "</table>\n",
       "<p>5 rows × 910 columns</p>\n",
       "</div>"
      ],
      "text/plain": [
       "     True_value    True_value  True_value  True_value  True_value  True_value  \\\n",
       "0  1.676954e-07  3.197090e-07         0.0         0.0         0.0    0.000000   \n",
       "1  2.699901e-05  3.494233e-06         0.0         0.0         0.0    0.000000   \n",
       "2  1.515700e-04  3.497421e-06         0.0         0.0         0.0    0.000000   \n",
       "3  0.000000e+00  0.000000e+00         0.0         0.0         0.0    0.000029   \n",
       "4  0.000000e+00  0.000000e+00         0.0         0.0         0.0    0.000000   \n",
       "\n",
       "   True_value  True_value  True_value  True_value  ...  True_value  \\\n",
       "0    0.000000    0.000000         0.0         0.0  ...         0.0   \n",
       "1    0.000078    0.000078         0.0         0.0  ...         0.0   \n",
       "2    0.000000    0.000000         0.0         0.0  ...         0.0   \n",
       "3    0.654502    0.021100         0.0         0.0  ...         0.0   \n",
       "4    0.000000    0.000000         0.0         0.0  ...         0.0   \n",
       "\n",
       "   True_value  True_value  True_value  True_value  True_value  True_value  \\\n",
       "0         0.0         0.0         0.0         0.0         0.0    0.000001   \n",
       "1         0.0         0.0         0.0         0.0         0.0    0.000000   \n",
       "2         0.0         0.0         0.0         0.0         0.0    0.000000   \n",
       "3         0.0         0.0         0.0         0.0         0.0    0.000000   \n",
       "4         0.0         0.0         0.0         0.0         0.0    0.000000   \n",
       "\n",
       "   True_value  True_value  True_value  \n",
       "0    0.000004    0.000000     0.00000  \n",
       "1    0.000000    0.000000     0.00000  \n",
       "2    0.000000    0.000000     0.00000  \n",
       "3    0.000000    0.000000     0.00000  \n",
       "4    0.000000    0.087969     0.02528  \n",
       "\n",
       "[5 rows x 910 columns]"
      ]
     },
     "execution_count": 20,
     "metadata": {},
     "output_type": "execute_result"
    }
   ],
   "source": [
    "True_values_df.head()"
   ]
  },
  {
   "cell_type": "code",
   "execution_count": 21,
   "id": "7bf2ce55-e613-440c-98df-b3137476fda8",
   "metadata": {},
   "outputs": [
    {
     "data": {
      "text/plain": [
       "(7, 910)"
      ]
     },
     "execution_count": 21,
     "metadata": {},
     "output_type": "execute_result"
    }
   ],
   "source": [
    "True_values_df.shape"
   ]
  },
  {
   "cell_type": "code",
   "execution_count": 22,
   "id": "18e0219e-ee9c-4e29-a372-2b6290708941",
   "metadata": {},
   "outputs": [],
   "source": [
    "# get the proper counts?\n",
    "exp_true = np.exp(True_values_df)-1"
   ]
  },
  {
   "cell_type": "code",
   "execution_count": 23,
   "id": "a7319ca1-7b28-41f3-8b38-11863c1835e5",
   "metadata": {},
   "outputs": [
    {
     "data": {
      "text/html": [
       "<div>\n",
       "<style scoped>\n",
       "    .dataframe tbody tr th:only-of-type {\n",
       "        vertical-align: middle;\n",
       "    }\n",
       "\n",
       "    .dataframe tbody tr th {\n",
       "        vertical-align: top;\n",
       "    }\n",
       "\n",
       "    .dataframe thead th {\n",
       "        text-align: right;\n",
       "    }\n",
       "</style>\n",
       "<table border=\"1\" class=\"dataframe\">\n",
       "  <thead>\n",
       "    <tr style=\"text-align: right;\">\n",
       "      <th></th>\n",
       "      <th>True_value</th>\n",
       "      <th>True_value</th>\n",
       "      <th>True_value</th>\n",
       "      <th>True_value</th>\n",
       "      <th>True_value</th>\n",
       "      <th>True_value</th>\n",
       "      <th>True_value</th>\n",
       "      <th>True_value</th>\n",
       "      <th>True_value</th>\n",
       "      <th>True_value</th>\n",
       "      <th>...</th>\n",
       "      <th>True_value</th>\n",
       "      <th>True_value</th>\n",
       "      <th>True_value</th>\n",
       "      <th>True_value</th>\n",
       "      <th>True_value</th>\n",
       "      <th>True_value</th>\n",
       "      <th>True_value</th>\n",
       "      <th>True_value</th>\n",
       "      <th>True_value</th>\n",
       "      <th>True_value</th>\n",
       "    </tr>\n",
       "  </thead>\n",
       "  <tbody>\n",
       "    <tr>\n",
       "      <th>0</th>\n",
       "      <td>1.676954e-07</td>\n",
       "      <td>3.197091e-07</td>\n",
       "      <td>0.0</td>\n",
       "      <td>0.000000e+00</td>\n",
       "      <td>0.000000</td>\n",
       "      <td>0.000000</td>\n",
       "      <td>0.000000</td>\n",
       "      <td>0.000000</td>\n",
       "      <td>0.0</td>\n",
       "      <td>0.0</td>\n",
       "      <td>...</td>\n",
       "      <td>0.0</td>\n",
       "      <td>0.0</td>\n",
       "      <td>0.000000e+00</td>\n",
       "      <td>0.000000</td>\n",
       "      <td>0.000000e+00</td>\n",
       "      <td>0.0</td>\n",
       "      <td>0.000001</td>\n",
       "      <td>0.000004</td>\n",
       "      <td>0.000000</td>\n",
       "      <td>0.000000</td>\n",
       "    </tr>\n",
       "    <tr>\n",
       "      <th>1</th>\n",
       "      <td>2.699937e-05</td>\n",
       "      <td>3.494239e-06</td>\n",
       "      <td>0.0</td>\n",
       "      <td>0.000000e+00</td>\n",
       "      <td>0.000000</td>\n",
       "      <td>0.000000</td>\n",
       "      <td>0.000078</td>\n",
       "      <td>0.000078</td>\n",
       "      <td>0.0</td>\n",
       "      <td>0.0</td>\n",
       "      <td>...</td>\n",
       "      <td>0.0</td>\n",
       "      <td>0.0</td>\n",
       "      <td>0.000000e+00</td>\n",
       "      <td>0.000000</td>\n",
       "      <td>0.000000e+00</td>\n",
       "      <td>0.0</td>\n",
       "      <td>0.000000</td>\n",
       "      <td>0.000000</td>\n",
       "      <td>0.000000</td>\n",
       "      <td>0.000000</td>\n",
       "    </tr>\n",
       "    <tr>\n",
       "      <th>2</th>\n",
       "      <td>1.515815e-04</td>\n",
       "      <td>3.497427e-06</td>\n",
       "      <td>0.0</td>\n",
       "      <td>0.000000e+00</td>\n",
       "      <td>0.000000</td>\n",
       "      <td>0.000000</td>\n",
       "      <td>0.000000</td>\n",
       "      <td>0.000000</td>\n",
       "      <td>0.0</td>\n",
       "      <td>0.0</td>\n",
       "      <td>...</td>\n",
       "      <td>0.0</td>\n",
       "      <td>0.0</td>\n",
       "      <td>0.000000e+00</td>\n",
       "      <td>0.000000</td>\n",
       "      <td>0.000000e+00</td>\n",
       "      <td>0.0</td>\n",
       "      <td>0.000000</td>\n",
       "      <td>0.000000</td>\n",
       "      <td>0.000000</td>\n",
       "      <td>0.000000</td>\n",
       "    </tr>\n",
       "    <tr>\n",
       "      <th>3</th>\n",
       "      <td>0.000000e+00</td>\n",
       "      <td>0.000000e+00</td>\n",
       "      <td>0.0</td>\n",
       "      <td>0.000000e+00</td>\n",
       "      <td>0.000000</td>\n",
       "      <td>0.000029</td>\n",
       "      <td>0.924184</td>\n",
       "      <td>0.021324</td>\n",
       "      <td>0.0</td>\n",
       "      <td>0.0</td>\n",
       "      <td>...</td>\n",
       "      <td>0.0</td>\n",
       "      <td>0.0</td>\n",
       "      <td>0.000000e+00</td>\n",
       "      <td>0.000000</td>\n",
       "      <td>0.000000e+00</td>\n",
       "      <td>0.0</td>\n",
       "      <td>0.000000</td>\n",
       "      <td>0.000000</td>\n",
       "      <td>0.000000</td>\n",
       "      <td>0.000000</td>\n",
       "    </tr>\n",
       "    <tr>\n",
       "      <th>4</th>\n",
       "      <td>0.000000e+00</td>\n",
       "      <td>0.000000e+00</td>\n",
       "      <td>0.0</td>\n",
       "      <td>0.000000e+00</td>\n",
       "      <td>0.000000</td>\n",
       "      <td>0.000000</td>\n",
       "      <td>0.000000</td>\n",
       "      <td>0.000000</td>\n",
       "      <td>0.0</td>\n",
       "      <td>0.0</td>\n",
       "      <td>...</td>\n",
       "      <td>0.0</td>\n",
       "      <td>0.0</td>\n",
       "      <td>0.000000e+00</td>\n",
       "      <td>0.000000</td>\n",
       "      <td>0.000000e+00</td>\n",
       "      <td>0.0</td>\n",
       "      <td>0.000000</td>\n",
       "      <td>0.000000</td>\n",
       "      <td>0.091955</td>\n",
       "      <td>0.025602</td>\n",
       "    </tr>\n",
       "    <tr>\n",
       "      <th>5</th>\n",
       "      <td>0.000000e+00</td>\n",
       "      <td>0.000000e+00</td>\n",
       "      <td>0.0</td>\n",
       "      <td>3.197091e-07</td>\n",
       "      <td>0.580778</td>\n",
       "      <td>0.075164</td>\n",
       "      <td>0.000000</td>\n",
       "      <td>0.000000</td>\n",
       "      <td>0.0</td>\n",
       "      <td>0.0</td>\n",
       "      <td>...</td>\n",
       "      <td>0.0</td>\n",
       "      <td>0.0</td>\n",
       "      <td>5.677395e-07</td>\n",
       "      <td>0.000004</td>\n",
       "      <td>2.414957e-12</td>\n",
       "      <td>0.0</td>\n",
       "      <td>0.000000</td>\n",
       "      <td>0.000000</td>\n",
       "      <td>0.000000</td>\n",
       "      <td>0.000000</td>\n",
       "    </tr>\n",
       "    <tr>\n",
       "      <th>6</th>\n",
       "      <td>0.000000e+00</td>\n",
       "      <td>0.000000e+00</td>\n",
       "      <td>0.0</td>\n",
       "      <td>0.000000e+00</td>\n",
       "      <td>0.000000</td>\n",
       "      <td>0.179532</td>\n",
       "      <td>0.476410</td>\n",
       "      <td>0.000000</td>\n",
       "      <td>0.0</td>\n",
       "      <td>0.0</td>\n",
       "      <td>...</td>\n",
       "      <td>0.0</td>\n",
       "      <td>0.0</td>\n",
       "      <td>0.000000e+00</td>\n",
       "      <td>0.000000</td>\n",
       "      <td>0.000000e+00</td>\n",
       "      <td>0.0</td>\n",
       "      <td>0.000000</td>\n",
       "      <td>0.000000</td>\n",
       "      <td>0.000000</td>\n",
       "      <td>0.000000</td>\n",
       "    </tr>\n",
       "  </tbody>\n",
       "</table>\n",
       "<p>7 rows × 910 columns</p>\n",
       "</div>"
      ],
      "text/plain": [
       "     True_value    True_value  True_value    True_value  True_value  \\\n",
       "0  1.676954e-07  3.197091e-07         0.0  0.000000e+00    0.000000   \n",
       "1  2.699937e-05  3.494239e-06         0.0  0.000000e+00    0.000000   \n",
       "2  1.515815e-04  3.497427e-06         0.0  0.000000e+00    0.000000   \n",
       "3  0.000000e+00  0.000000e+00         0.0  0.000000e+00    0.000000   \n",
       "4  0.000000e+00  0.000000e+00         0.0  0.000000e+00    0.000000   \n",
       "5  0.000000e+00  0.000000e+00         0.0  3.197091e-07    0.580778   \n",
       "6  0.000000e+00  0.000000e+00         0.0  0.000000e+00    0.000000   \n",
       "\n",
       "   True_value  True_value  True_value  True_value  True_value  ...  \\\n",
       "0    0.000000    0.000000    0.000000         0.0         0.0  ...   \n",
       "1    0.000000    0.000078    0.000078         0.0         0.0  ...   \n",
       "2    0.000000    0.000000    0.000000         0.0         0.0  ...   \n",
       "3    0.000029    0.924184    0.021324         0.0         0.0  ...   \n",
       "4    0.000000    0.000000    0.000000         0.0         0.0  ...   \n",
       "5    0.075164    0.000000    0.000000         0.0         0.0  ...   \n",
       "6    0.179532    0.476410    0.000000         0.0         0.0  ...   \n",
       "\n",
       "   True_value  True_value    True_value  True_value    True_value  True_value  \\\n",
       "0         0.0         0.0  0.000000e+00    0.000000  0.000000e+00         0.0   \n",
       "1         0.0         0.0  0.000000e+00    0.000000  0.000000e+00         0.0   \n",
       "2         0.0         0.0  0.000000e+00    0.000000  0.000000e+00         0.0   \n",
       "3         0.0         0.0  0.000000e+00    0.000000  0.000000e+00         0.0   \n",
       "4         0.0         0.0  0.000000e+00    0.000000  0.000000e+00         0.0   \n",
       "5         0.0         0.0  5.677395e-07    0.000004  2.414957e-12         0.0   \n",
       "6         0.0         0.0  0.000000e+00    0.000000  0.000000e+00         0.0   \n",
       "\n",
       "   True_value  True_value  True_value  True_value  \n",
       "0    0.000001    0.000004    0.000000    0.000000  \n",
       "1    0.000000    0.000000    0.000000    0.000000  \n",
       "2    0.000000    0.000000    0.000000    0.000000  \n",
       "3    0.000000    0.000000    0.000000    0.000000  \n",
       "4    0.000000    0.000000    0.091955    0.025602  \n",
       "5    0.000000    0.000000    0.000000    0.000000  \n",
       "6    0.000000    0.000000    0.000000    0.000000  \n",
       "\n",
       "[7 rows x 910 columns]"
      ]
     },
     "execution_count": 23,
     "metadata": {},
     "output_type": "execute_result"
    }
   ],
   "source": [
    "exp_true"
   ]
  },
  {
   "cell_type": "code",
   "execution_count": 24,
   "id": "fbc09b78-d34e-434e-8232-ee3be25766e9",
   "metadata": {},
   "outputs": [],
   "source": [
    "# sum the true values - since the sub images are not overlapping, we can get the sum across columns in the above dataframe\n",
    "sum_true_values = exp_true.sum(axis = 1)"
   ]
  },
  {
   "cell_type": "code",
   "execution_count": 25,
   "id": "6057a433-4dfb-4804-bbac-ea3dacce11e6",
   "metadata": {},
   "outputs": [
    {
     "data": {
      "text/plain": [
       "0    49.000171\n",
       "1    46.000007\n",
       "2    42.999983\n",
       "3    38.999993\n",
       "4    36.025885\n",
       "5    36.000000\n",
       "6    23.000000\n",
       "dtype: float64"
      ]
     },
     "execution_count": 25,
     "metadata": {},
     "output_type": "execute_result"
    }
   ],
   "source": [
    "sum_true_values"
   ]
  },
  {
   "cell_type": "code",
   "execution_count": 26,
   "id": "2fc2ac3e-59e7-4f27-91ab-31d30b4eeaa7",
   "metadata": {},
   "outputs": [],
   "source": [
    "# get the forecasted values\n",
    "Forecasted_values_df = combined_df[['Forecasted_value']]"
   ]
  },
  {
   "cell_type": "code",
   "execution_count": 27,
   "id": "4d4182a4-7ede-4ffc-b952-08aa47d424d0",
   "metadata": {},
   "outputs": [
    {
     "data": {
      "text/html": [
       "<div>\n",
       "<style scoped>\n",
       "    .dataframe tbody tr th:only-of-type {\n",
       "        vertical-align: middle;\n",
       "    }\n",
       "\n",
       "    .dataframe tbody tr th {\n",
       "        vertical-align: top;\n",
       "    }\n",
       "\n",
       "    .dataframe thead th {\n",
       "        text-align: right;\n",
       "    }\n",
       "</style>\n",
       "<table border=\"1\" class=\"dataframe\">\n",
       "  <thead>\n",
       "    <tr style=\"text-align: right;\">\n",
       "      <th></th>\n",
       "      <th>Forecasted_value</th>\n",
       "      <th>Forecasted_value</th>\n",
       "      <th>Forecasted_value</th>\n",
       "      <th>Forecasted_value</th>\n",
       "      <th>Forecasted_value</th>\n",
       "      <th>Forecasted_value</th>\n",
       "      <th>Forecasted_value</th>\n",
       "      <th>Forecasted_value</th>\n",
       "      <th>Forecasted_value</th>\n",
       "      <th>Forecasted_value</th>\n",
       "      <th>...</th>\n",
       "      <th>Forecasted_value</th>\n",
       "      <th>Forecasted_value</th>\n",
       "      <th>Forecasted_value</th>\n",
       "      <th>Forecasted_value</th>\n",
       "      <th>Forecasted_value</th>\n",
       "      <th>Forecasted_value</th>\n",
       "      <th>Forecasted_value</th>\n",
       "      <th>Forecasted_value</th>\n",
       "      <th>Forecasted_value</th>\n",
       "      <th>Forecasted_value</th>\n",
       "    </tr>\n",
       "  </thead>\n",
       "  <tbody>\n",
       "    <tr>\n",
       "      <th>0</th>\n",
       "      <td>0.058860</td>\n",
       "      <td>0.092983</td>\n",
       "      <td>-0.006539</td>\n",
       "      <td>-0.015019</td>\n",
       "      <td>-0.014308</td>\n",
       "      <td>-0.002579</td>\n",
       "      <td>0.035343</td>\n",
       "      <td>0.038368</td>\n",
       "      <td>0.050802</td>\n",
       "      <td>-0.004955</td>\n",
       "      <td>...</td>\n",
       "      <td>-0.007189</td>\n",
       "      <td>-0.005670</td>\n",
       "      <td>-0.001301</td>\n",
       "      <td>0.017092</td>\n",
       "      <td>-0.011707</td>\n",
       "      <td>-0.005259</td>\n",
       "      <td>-0.012214</td>\n",
       "      <td>-0.021722</td>\n",
       "      <td>0.058780</td>\n",
       "      <td>-0.005636</td>\n",
       "    </tr>\n",
       "    <tr>\n",
       "      <th>1</th>\n",
       "      <td>0.054616</td>\n",
       "      <td>0.090213</td>\n",
       "      <td>0.004936</td>\n",
       "      <td>-0.011147</td>\n",
       "      <td>-0.020334</td>\n",
       "      <td>-0.004608</td>\n",
       "      <td>0.044637</td>\n",
       "      <td>0.014050</td>\n",
       "      <td>0.075036</td>\n",
       "      <td>-0.000688</td>\n",
       "      <td>...</td>\n",
       "      <td>-0.011763</td>\n",
       "      <td>-0.009912</td>\n",
       "      <td>-0.009435</td>\n",
       "      <td>-0.003846</td>\n",
       "      <td>-0.006927</td>\n",
       "      <td>-0.009821</td>\n",
       "      <td>-0.016946</td>\n",
       "      <td>-0.003508</td>\n",
       "      <td>0.008588</td>\n",
       "      <td>-0.005234</td>\n",
       "    </tr>\n",
       "    <tr>\n",
       "      <th>2</th>\n",
       "      <td>0.063526</td>\n",
       "      <td>0.116874</td>\n",
       "      <td>0.004189</td>\n",
       "      <td>-0.009384</td>\n",
       "      <td>-0.014389</td>\n",
       "      <td>-0.004058</td>\n",
       "      <td>0.032398</td>\n",
       "      <td>0.023997</td>\n",
       "      <td>0.072848</td>\n",
       "      <td>-0.002941</td>\n",
       "      <td>...</td>\n",
       "      <td>-0.005614</td>\n",
       "      <td>-0.005767</td>\n",
       "      <td>-0.010256</td>\n",
       "      <td>0.003531</td>\n",
       "      <td>-0.008438</td>\n",
       "      <td>0.000697</td>\n",
       "      <td>-0.011532</td>\n",
       "      <td>-0.012429</td>\n",
       "      <td>0.001048</td>\n",
       "      <td>-0.006533</td>\n",
       "    </tr>\n",
       "    <tr>\n",
       "      <th>3</th>\n",
       "      <td>0.045173</td>\n",
       "      <td>0.070591</td>\n",
       "      <td>-0.004705</td>\n",
       "      <td>-0.009427</td>\n",
       "      <td>-0.004497</td>\n",
       "      <td>0.003352</td>\n",
       "      <td>0.029348</td>\n",
       "      <td>0.032262</td>\n",
       "      <td>0.052902</td>\n",
       "      <td>0.008536</td>\n",
       "      <td>...</td>\n",
       "      <td>0.009398</td>\n",
       "      <td>0.009778</td>\n",
       "      <td>-0.009252</td>\n",
       "      <td>0.023051</td>\n",
       "      <td>0.006018</td>\n",
       "      <td>0.006897</td>\n",
       "      <td>-0.005730</td>\n",
       "      <td>-0.007305</td>\n",
       "      <td>0.038403</td>\n",
       "      <td>-0.004317</td>\n",
       "    </tr>\n",
       "    <tr>\n",
       "      <th>4</th>\n",
       "      <td>0.025561</td>\n",
       "      <td>0.014707</td>\n",
       "      <td>-0.009816</td>\n",
       "      <td>-0.008947</td>\n",
       "      <td>-0.005424</td>\n",
       "      <td>-0.002382</td>\n",
       "      <td>0.017887</td>\n",
       "      <td>0.021164</td>\n",
       "      <td>0.038526</td>\n",
       "      <td>-0.005492</td>\n",
       "      <td>...</td>\n",
       "      <td>0.000404</td>\n",
       "      <td>-0.000133</td>\n",
       "      <td>-0.009075</td>\n",
       "      <td>0.007355</td>\n",
       "      <td>-0.000793</td>\n",
       "      <td>0.009345</td>\n",
       "      <td>-0.001114</td>\n",
       "      <td>-0.008729</td>\n",
       "      <td>0.028426</td>\n",
       "      <td>-0.001285</td>\n",
       "    </tr>\n",
       "  </tbody>\n",
       "</table>\n",
       "<p>5 rows × 910 columns</p>\n",
       "</div>"
      ],
      "text/plain": [
       "   Forecasted_value  Forecasted_value  Forecasted_value  Forecasted_value  \\\n",
       "0          0.058860          0.092983         -0.006539         -0.015019   \n",
       "1          0.054616          0.090213          0.004936         -0.011147   \n",
       "2          0.063526          0.116874          0.004189         -0.009384   \n",
       "3          0.045173          0.070591         -0.004705         -0.009427   \n",
       "4          0.025561          0.014707         -0.009816         -0.008947   \n",
       "\n",
       "   Forecasted_value  Forecasted_value  Forecasted_value  Forecasted_value  \\\n",
       "0         -0.014308         -0.002579          0.035343          0.038368   \n",
       "1         -0.020334         -0.004608          0.044637          0.014050   \n",
       "2         -0.014389         -0.004058          0.032398          0.023997   \n",
       "3         -0.004497          0.003352          0.029348          0.032262   \n",
       "4         -0.005424         -0.002382          0.017887          0.021164   \n",
       "\n",
       "   Forecasted_value  Forecasted_value  ...  Forecasted_value  \\\n",
       "0          0.050802         -0.004955  ...         -0.007189   \n",
       "1          0.075036         -0.000688  ...         -0.011763   \n",
       "2          0.072848         -0.002941  ...         -0.005614   \n",
       "3          0.052902          0.008536  ...          0.009398   \n",
       "4          0.038526         -0.005492  ...          0.000404   \n",
       "\n",
       "   Forecasted_value  Forecasted_value  Forecasted_value  Forecasted_value  \\\n",
       "0         -0.005670         -0.001301          0.017092         -0.011707   \n",
       "1         -0.009912         -0.009435         -0.003846         -0.006927   \n",
       "2         -0.005767         -0.010256          0.003531         -0.008438   \n",
       "3          0.009778         -0.009252          0.023051          0.006018   \n",
       "4         -0.000133         -0.009075          0.007355         -0.000793   \n",
       "\n",
       "   Forecasted_value  Forecasted_value  Forecasted_value  Forecasted_value  \\\n",
       "0         -0.005259         -0.012214         -0.021722          0.058780   \n",
       "1         -0.009821         -0.016946         -0.003508          0.008588   \n",
       "2          0.000697         -0.011532         -0.012429          0.001048   \n",
       "3          0.006897         -0.005730         -0.007305          0.038403   \n",
       "4          0.009345         -0.001114         -0.008729          0.028426   \n",
       "\n",
       "   Forecasted_value  \n",
       "0         -0.005636  \n",
       "1         -0.005234  \n",
       "2         -0.006533  \n",
       "3         -0.004317  \n",
       "4         -0.001285  \n",
       "\n",
       "[5 rows x 910 columns]"
      ]
     },
     "execution_count": 27,
     "metadata": {},
     "output_type": "execute_result"
    }
   ],
   "source": [
    "Forecasted_values_df.head()"
   ]
  },
  {
   "cell_type": "code",
   "execution_count": 28,
   "id": "c4e2130b-9b6b-40b7-9efe-4cd6cd30c107",
   "metadata": {},
   "outputs": [],
   "source": [
    "exp_forecasted = np.exp(Forecasted_values_df)-1"
   ]
  },
  {
   "cell_type": "code",
   "execution_count": 29,
   "id": "60cd0006-0367-436e-b3c8-282e12e01146",
   "metadata": {},
   "outputs": [
    {
     "data": {
      "text/html": [
       "<div>\n",
       "<style scoped>\n",
       "    .dataframe tbody tr th:only-of-type {\n",
       "        vertical-align: middle;\n",
       "    }\n",
       "\n",
       "    .dataframe tbody tr th {\n",
       "        vertical-align: top;\n",
       "    }\n",
       "\n",
       "    .dataframe thead th {\n",
       "        text-align: right;\n",
       "    }\n",
       "</style>\n",
       "<table border=\"1\" class=\"dataframe\">\n",
       "  <thead>\n",
       "    <tr style=\"text-align: right;\">\n",
       "      <th></th>\n",
       "      <th>Forecasted_value</th>\n",
       "      <th>Forecasted_value</th>\n",
       "      <th>Forecasted_value</th>\n",
       "      <th>Forecasted_value</th>\n",
       "      <th>Forecasted_value</th>\n",
       "      <th>Forecasted_value</th>\n",
       "      <th>Forecasted_value</th>\n",
       "      <th>Forecasted_value</th>\n",
       "      <th>Forecasted_value</th>\n",
       "      <th>Forecasted_value</th>\n",
       "      <th>...</th>\n",
       "      <th>Forecasted_value</th>\n",
       "      <th>Forecasted_value</th>\n",
       "      <th>Forecasted_value</th>\n",
       "      <th>Forecasted_value</th>\n",
       "      <th>Forecasted_value</th>\n",
       "      <th>Forecasted_value</th>\n",
       "      <th>Forecasted_value</th>\n",
       "      <th>Forecasted_value</th>\n",
       "      <th>Forecasted_value</th>\n",
       "      <th>Forecasted_value</th>\n",
       "    </tr>\n",
       "  </thead>\n",
       "  <tbody>\n",
       "    <tr>\n",
       "      <th>0</th>\n",
       "      <td>0.060627</td>\n",
       "      <td>0.097443</td>\n",
       "      <td>-0.006518</td>\n",
       "      <td>-0.014907</td>\n",
       "      <td>-0.014206</td>\n",
       "      <td>-0.002575</td>\n",
       "      <td>0.035975</td>\n",
       "      <td>0.039113</td>\n",
       "      <td>0.052114</td>\n",
       "      <td>-0.004943</td>\n",
       "      <td>...</td>\n",
       "      <td>-0.007163</td>\n",
       "      <td>-0.005654</td>\n",
       "      <td>-0.001300</td>\n",
       "      <td>0.017239</td>\n",
       "      <td>-0.011639</td>\n",
       "      <td>-0.005245</td>\n",
       "      <td>-0.012140</td>\n",
       "      <td>-0.021488</td>\n",
       "      <td>0.060541</td>\n",
       "      <td>-0.005620</td>\n",
       "    </tr>\n",
       "    <tr>\n",
       "      <th>1</th>\n",
       "      <td>0.056135</td>\n",
       "      <td>0.094408</td>\n",
       "      <td>0.004949</td>\n",
       "      <td>-0.011085</td>\n",
       "      <td>-0.020128</td>\n",
       "      <td>-0.004598</td>\n",
       "      <td>0.045648</td>\n",
       "      <td>0.014149</td>\n",
       "      <td>0.077923</td>\n",
       "      <td>-0.000688</td>\n",
       "      <td>...</td>\n",
       "      <td>-0.011694</td>\n",
       "      <td>-0.009863</td>\n",
       "      <td>-0.009391</td>\n",
       "      <td>-0.003839</td>\n",
       "      <td>-0.006903</td>\n",
       "      <td>-0.009773</td>\n",
       "      <td>-0.016803</td>\n",
       "      <td>-0.003502</td>\n",
       "      <td>0.008625</td>\n",
       "      <td>-0.005221</td>\n",
       "    </tr>\n",
       "    <tr>\n",
       "      <th>2</th>\n",
       "      <td>0.065587</td>\n",
       "      <td>0.123978</td>\n",
       "      <td>0.004198</td>\n",
       "      <td>-0.009340</td>\n",
       "      <td>-0.014286</td>\n",
       "      <td>-0.004049</td>\n",
       "      <td>0.032929</td>\n",
       "      <td>0.024287</td>\n",
       "      <td>0.075567</td>\n",
       "      <td>-0.002937</td>\n",
       "      <td>...</td>\n",
       "      <td>-0.005598</td>\n",
       "      <td>-0.005750</td>\n",
       "      <td>-0.010204</td>\n",
       "      <td>0.003537</td>\n",
       "      <td>-0.008403</td>\n",
       "      <td>0.000697</td>\n",
       "      <td>-0.011465</td>\n",
       "      <td>-0.012352</td>\n",
       "      <td>0.001048</td>\n",
       "      <td>-0.006512</td>\n",
       "    </tr>\n",
       "    <tr>\n",
       "      <th>3</th>\n",
       "      <td>0.046209</td>\n",
       "      <td>0.073142</td>\n",
       "      <td>-0.004694</td>\n",
       "      <td>-0.009383</td>\n",
       "      <td>-0.004487</td>\n",
       "      <td>0.003358</td>\n",
       "      <td>0.029783</td>\n",
       "      <td>0.032788</td>\n",
       "      <td>0.054326</td>\n",
       "      <td>0.008572</td>\n",
       "      <td>...</td>\n",
       "      <td>0.009443</td>\n",
       "      <td>0.009826</td>\n",
       "      <td>-0.009210</td>\n",
       "      <td>0.023319</td>\n",
       "      <td>0.006036</td>\n",
       "      <td>0.006921</td>\n",
       "      <td>-0.005713</td>\n",
       "      <td>-0.007279</td>\n",
       "      <td>0.039150</td>\n",
       "      <td>-0.004307</td>\n",
       "    </tr>\n",
       "    <tr>\n",
       "      <th>4</th>\n",
       "      <td>0.025890</td>\n",
       "      <td>0.014815</td>\n",
       "      <td>-0.009768</td>\n",
       "      <td>-0.008907</td>\n",
       "      <td>-0.005409</td>\n",
       "      <td>-0.002379</td>\n",
       "      <td>0.018047</td>\n",
       "      <td>0.021390</td>\n",
       "      <td>0.039278</td>\n",
       "      <td>-0.005477</td>\n",
       "      <td>...</td>\n",
       "      <td>0.000404</td>\n",
       "      <td>-0.000133</td>\n",
       "      <td>-0.009034</td>\n",
       "      <td>0.007382</td>\n",
       "      <td>-0.000793</td>\n",
       "      <td>0.009389</td>\n",
       "      <td>-0.001113</td>\n",
       "      <td>-0.008691</td>\n",
       "      <td>0.028833</td>\n",
       "      <td>-0.001285</td>\n",
       "    </tr>\n",
       "    <tr>\n",
       "      <th>5</th>\n",
       "      <td>0.049962</td>\n",
       "      <td>0.109012</td>\n",
       "      <td>-0.012570</td>\n",
       "      <td>0.002946</td>\n",
       "      <td>-0.002689</td>\n",
       "      <td>0.003619</td>\n",
       "      <td>0.035852</td>\n",
       "      <td>0.016117</td>\n",
       "      <td>0.065162</td>\n",
       "      <td>0.005068</td>\n",
       "      <td>...</td>\n",
       "      <td>0.007165</td>\n",
       "      <td>-0.000281</td>\n",
       "      <td>0.002762</td>\n",
       "      <td>0.010340</td>\n",
       "      <td>0.005678</td>\n",
       "      <td>0.009232</td>\n",
       "      <td>-0.006227</td>\n",
       "      <td>-0.006474</td>\n",
       "      <td>0.014423</td>\n",
       "      <td>-0.001331</td>\n",
       "    </tr>\n",
       "    <tr>\n",
       "      <th>6</th>\n",
       "      <td>0.046229</td>\n",
       "      <td>0.110465</td>\n",
       "      <td>-0.017785</td>\n",
       "      <td>-0.003955</td>\n",
       "      <td>-0.007256</td>\n",
       "      <td>0.001394</td>\n",
       "      <td>0.021688</td>\n",
       "      <td>0.005388</td>\n",
       "      <td>0.068052</td>\n",
       "      <td>0.000010</td>\n",
       "      <td>...</td>\n",
       "      <td>-0.000376</td>\n",
       "      <td>-0.003909</td>\n",
       "      <td>-0.006676</td>\n",
       "      <td>0.001835</td>\n",
       "      <td>0.003097</td>\n",
       "      <td>0.009811</td>\n",
       "      <td>-0.001258</td>\n",
       "      <td>-0.014275</td>\n",
       "      <td>0.015440</td>\n",
       "      <td>-0.003884</td>\n",
       "    </tr>\n",
       "  </tbody>\n",
       "</table>\n",
       "<p>7 rows × 910 columns</p>\n",
       "</div>"
      ],
      "text/plain": [
       "   Forecasted_value  Forecasted_value  Forecasted_value  Forecasted_value  \\\n",
       "0          0.060627          0.097443         -0.006518         -0.014907   \n",
       "1          0.056135          0.094408          0.004949         -0.011085   \n",
       "2          0.065587          0.123978          0.004198         -0.009340   \n",
       "3          0.046209          0.073142         -0.004694         -0.009383   \n",
       "4          0.025890          0.014815         -0.009768         -0.008907   \n",
       "5          0.049962          0.109012         -0.012570          0.002946   \n",
       "6          0.046229          0.110465         -0.017785         -0.003955   \n",
       "\n",
       "   Forecasted_value  Forecasted_value  Forecasted_value  Forecasted_value  \\\n",
       "0         -0.014206         -0.002575          0.035975          0.039113   \n",
       "1         -0.020128         -0.004598          0.045648          0.014149   \n",
       "2         -0.014286         -0.004049          0.032929          0.024287   \n",
       "3         -0.004487          0.003358          0.029783          0.032788   \n",
       "4         -0.005409         -0.002379          0.018047          0.021390   \n",
       "5         -0.002689          0.003619          0.035852          0.016117   \n",
       "6         -0.007256          0.001394          0.021688          0.005388   \n",
       "\n",
       "   Forecasted_value  Forecasted_value  ...  Forecasted_value  \\\n",
       "0          0.052114         -0.004943  ...         -0.007163   \n",
       "1          0.077923         -0.000688  ...         -0.011694   \n",
       "2          0.075567         -0.002937  ...         -0.005598   \n",
       "3          0.054326          0.008572  ...          0.009443   \n",
       "4          0.039278         -0.005477  ...          0.000404   \n",
       "5          0.065162          0.005068  ...          0.007165   \n",
       "6          0.068052          0.000010  ...         -0.000376   \n",
       "\n",
       "   Forecasted_value  Forecasted_value  Forecasted_value  Forecasted_value  \\\n",
       "0         -0.005654         -0.001300          0.017239         -0.011639   \n",
       "1         -0.009863         -0.009391         -0.003839         -0.006903   \n",
       "2         -0.005750         -0.010204          0.003537         -0.008403   \n",
       "3          0.009826         -0.009210          0.023319          0.006036   \n",
       "4         -0.000133         -0.009034          0.007382         -0.000793   \n",
       "5         -0.000281          0.002762          0.010340          0.005678   \n",
       "6         -0.003909         -0.006676          0.001835          0.003097   \n",
       "\n",
       "   Forecasted_value  Forecasted_value  Forecasted_value  Forecasted_value  \\\n",
       "0         -0.005245         -0.012140         -0.021488          0.060541   \n",
       "1         -0.009773         -0.016803         -0.003502          0.008625   \n",
       "2          0.000697         -0.011465         -0.012352          0.001048   \n",
       "3          0.006921         -0.005713         -0.007279          0.039150   \n",
       "4          0.009389         -0.001113         -0.008691          0.028833   \n",
       "5          0.009232         -0.006227         -0.006474          0.014423   \n",
       "6          0.009811         -0.001258         -0.014275          0.015440   \n",
       "\n",
       "   Forecasted_value  \n",
       "0         -0.005620  \n",
       "1         -0.005221  \n",
       "2         -0.006512  \n",
       "3         -0.004307  \n",
       "4         -0.001285  \n",
       "5         -0.001331  \n",
       "6         -0.003884  \n",
       "\n",
       "[7 rows x 910 columns]"
      ]
     },
     "execution_count": 29,
     "metadata": {},
     "output_type": "execute_result"
    }
   ],
   "source": [
    "exp_forecasted"
   ]
  },
  {
   "cell_type": "code",
   "execution_count": 30,
   "id": "cdc66bd6-b552-4dcd-9703-e07b035fb736",
   "metadata": {},
   "outputs": [],
   "source": [
    "# set the values to 0 if the forecasted count is negative?"
   ]
  },
  {
   "cell_type": "code",
   "execution_count": 31,
   "id": "56eddb77-a48e-409d-9684-10bb31132568",
   "metadata": {},
   "outputs": [],
   "source": [
    "exp_forecasted[exp_forecasted < 0] = 0"
   ]
  },
  {
   "cell_type": "code",
   "execution_count": 32,
   "id": "c96eedde-fcfa-4f54-b8cb-d5f5cb3d6493",
   "metadata": {},
   "outputs": [
    {
     "data": {
      "text/html": [
       "<div>\n",
       "<style scoped>\n",
       "    .dataframe tbody tr th:only-of-type {\n",
       "        vertical-align: middle;\n",
       "    }\n",
       "\n",
       "    .dataframe tbody tr th {\n",
       "        vertical-align: top;\n",
       "    }\n",
       "\n",
       "    .dataframe thead th {\n",
       "        text-align: right;\n",
       "    }\n",
       "</style>\n",
       "<table border=\"1\" class=\"dataframe\">\n",
       "  <thead>\n",
       "    <tr style=\"text-align: right;\">\n",
       "      <th></th>\n",
       "      <th>Forecasted_value</th>\n",
       "      <th>Forecasted_value</th>\n",
       "      <th>Forecasted_value</th>\n",
       "      <th>Forecasted_value</th>\n",
       "      <th>Forecasted_value</th>\n",
       "      <th>Forecasted_value</th>\n",
       "      <th>Forecasted_value</th>\n",
       "      <th>Forecasted_value</th>\n",
       "      <th>Forecasted_value</th>\n",
       "      <th>Forecasted_value</th>\n",
       "      <th>...</th>\n",
       "      <th>Forecasted_value</th>\n",
       "      <th>Forecasted_value</th>\n",
       "      <th>Forecasted_value</th>\n",
       "      <th>Forecasted_value</th>\n",
       "      <th>Forecasted_value</th>\n",
       "      <th>Forecasted_value</th>\n",
       "      <th>Forecasted_value</th>\n",
       "      <th>Forecasted_value</th>\n",
       "      <th>Forecasted_value</th>\n",
       "      <th>Forecasted_value</th>\n",
       "    </tr>\n",
       "  </thead>\n",
       "  <tbody>\n",
       "    <tr>\n",
       "      <th>0</th>\n",
       "      <td>0.060627</td>\n",
       "      <td>0.097443</td>\n",
       "      <td>0.000000</td>\n",
       "      <td>0.0</td>\n",
       "      <td>0.0</td>\n",
       "      <td>0.000000</td>\n",
       "      <td>0.035975</td>\n",
       "      <td>0.039113</td>\n",
       "      <td>0.052114</td>\n",
       "      <td>0.000000</td>\n",
       "      <td>...</td>\n",
       "      <td>0.000000</td>\n",
       "      <td>0.000000</td>\n",
       "      <td>0.0</td>\n",
       "      <td>0.017239</td>\n",
       "      <td>0.000000</td>\n",
       "      <td>0.000000</td>\n",
       "      <td>0.0</td>\n",
       "      <td>0.0</td>\n",
       "      <td>0.060541</td>\n",
       "      <td>0.0</td>\n",
       "    </tr>\n",
       "    <tr>\n",
       "      <th>1</th>\n",
       "      <td>0.056135</td>\n",
       "      <td>0.094408</td>\n",
       "      <td>0.004949</td>\n",
       "      <td>0.0</td>\n",
       "      <td>0.0</td>\n",
       "      <td>0.000000</td>\n",
       "      <td>0.045648</td>\n",
       "      <td>0.014149</td>\n",
       "      <td>0.077923</td>\n",
       "      <td>0.000000</td>\n",
       "      <td>...</td>\n",
       "      <td>0.000000</td>\n",
       "      <td>0.000000</td>\n",
       "      <td>0.0</td>\n",
       "      <td>0.000000</td>\n",
       "      <td>0.000000</td>\n",
       "      <td>0.000000</td>\n",
       "      <td>0.0</td>\n",
       "      <td>0.0</td>\n",
       "      <td>0.008625</td>\n",
       "      <td>0.0</td>\n",
       "    </tr>\n",
       "    <tr>\n",
       "      <th>2</th>\n",
       "      <td>0.065587</td>\n",
       "      <td>0.123978</td>\n",
       "      <td>0.004198</td>\n",
       "      <td>0.0</td>\n",
       "      <td>0.0</td>\n",
       "      <td>0.000000</td>\n",
       "      <td>0.032929</td>\n",
       "      <td>0.024287</td>\n",
       "      <td>0.075567</td>\n",
       "      <td>0.000000</td>\n",
       "      <td>...</td>\n",
       "      <td>0.000000</td>\n",
       "      <td>0.000000</td>\n",
       "      <td>0.0</td>\n",
       "      <td>0.003537</td>\n",
       "      <td>0.000000</td>\n",
       "      <td>0.000697</td>\n",
       "      <td>0.0</td>\n",
       "      <td>0.0</td>\n",
       "      <td>0.001048</td>\n",
       "      <td>0.0</td>\n",
       "    </tr>\n",
       "    <tr>\n",
       "      <th>3</th>\n",
       "      <td>0.046209</td>\n",
       "      <td>0.073142</td>\n",
       "      <td>0.000000</td>\n",
       "      <td>0.0</td>\n",
       "      <td>0.0</td>\n",
       "      <td>0.003358</td>\n",
       "      <td>0.029783</td>\n",
       "      <td>0.032788</td>\n",
       "      <td>0.054326</td>\n",
       "      <td>0.008572</td>\n",
       "      <td>...</td>\n",
       "      <td>0.009443</td>\n",
       "      <td>0.009826</td>\n",
       "      <td>0.0</td>\n",
       "      <td>0.023319</td>\n",
       "      <td>0.006036</td>\n",
       "      <td>0.006921</td>\n",
       "      <td>0.0</td>\n",
       "      <td>0.0</td>\n",
       "      <td>0.039150</td>\n",
       "      <td>0.0</td>\n",
       "    </tr>\n",
       "    <tr>\n",
       "      <th>4</th>\n",
       "      <td>0.025890</td>\n",
       "      <td>0.014815</td>\n",
       "      <td>0.000000</td>\n",
       "      <td>0.0</td>\n",
       "      <td>0.0</td>\n",
       "      <td>0.000000</td>\n",
       "      <td>0.018047</td>\n",
       "      <td>0.021390</td>\n",
       "      <td>0.039278</td>\n",
       "      <td>0.000000</td>\n",
       "      <td>...</td>\n",
       "      <td>0.000404</td>\n",
       "      <td>0.000000</td>\n",
       "      <td>0.0</td>\n",
       "      <td>0.007382</td>\n",
       "      <td>0.000000</td>\n",
       "      <td>0.009389</td>\n",
       "      <td>0.0</td>\n",
       "      <td>0.0</td>\n",
       "      <td>0.028833</td>\n",
       "      <td>0.0</td>\n",
       "    </tr>\n",
       "  </tbody>\n",
       "</table>\n",
       "<p>5 rows × 910 columns</p>\n",
       "</div>"
      ],
      "text/plain": [
       "   Forecasted_value  Forecasted_value  Forecasted_value  Forecasted_value  \\\n",
       "0          0.060627          0.097443          0.000000               0.0   \n",
       "1          0.056135          0.094408          0.004949               0.0   \n",
       "2          0.065587          0.123978          0.004198               0.0   \n",
       "3          0.046209          0.073142          0.000000               0.0   \n",
       "4          0.025890          0.014815          0.000000               0.0   \n",
       "\n",
       "   Forecasted_value  Forecasted_value  Forecasted_value  Forecasted_value  \\\n",
       "0               0.0          0.000000          0.035975          0.039113   \n",
       "1               0.0          0.000000          0.045648          0.014149   \n",
       "2               0.0          0.000000          0.032929          0.024287   \n",
       "3               0.0          0.003358          0.029783          0.032788   \n",
       "4               0.0          0.000000          0.018047          0.021390   \n",
       "\n",
       "   Forecasted_value  Forecasted_value  ...  Forecasted_value  \\\n",
       "0          0.052114          0.000000  ...          0.000000   \n",
       "1          0.077923          0.000000  ...          0.000000   \n",
       "2          0.075567          0.000000  ...          0.000000   \n",
       "3          0.054326          0.008572  ...          0.009443   \n",
       "4          0.039278          0.000000  ...          0.000404   \n",
       "\n",
       "   Forecasted_value  Forecasted_value  Forecasted_value  Forecasted_value  \\\n",
       "0          0.000000               0.0          0.017239          0.000000   \n",
       "1          0.000000               0.0          0.000000          0.000000   \n",
       "2          0.000000               0.0          0.003537          0.000000   \n",
       "3          0.009826               0.0          0.023319          0.006036   \n",
       "4          0.000000               0.0          0.007382          0.000000   \n",
       "\n",
       "   Forecasted_value  Forecasted_value  Forecasted_value  Forecasted_value  \\\n",
       "0          0.000000               0.0               0.0          0.060541   \n",
       "1          0.000000               0.0               0.0          0.008625   \n",
       "2          0.000697               0.0               0.0          0.001048   \n",
       "3          0.006921               0.0               0.0          0.039150   \n",
       "4          0.009389               0.0               0.0          0.028833   \n",
       "\n",
       "   Forecasted_value  \n",
       "0               0.0  \n",
       "1               0.0  \n",
       "2               0.0  \n",
       "3               0.0  \n",
       "4               0.0  \n",
       "\n",
       "[5 rows x 910 columns]"
      ]
     },
     "execution_count": 32,
     "metadata": {},
     "output_type": "execute_result"
    }
   ],
   "source": [
    "exp_forecasted.head()"
   ]
  },
  {
   "cell_type": "code",
   "execution_count": 33,
   "id": "92bcf82f-ca31-4b25-a919-c8d51d72cfa7",
   "metadata": {},
   "outputs": [],
   "source": [
    "sum_forecasted_values = exp_forecasted.sum(axis = 1)"
   ]
  },
  {
   "cell_type": "code",
   "execution_count": 34,
   "id": "7f0e1119-a3bd-4a52-ae36-afa2c2070e2b",
   "metadata": {},
   "outputs": [
    {
     "data": {
      "text/plain": [
       "0    28.548427\n",
       "1    30.070154\n",
       "2    32.664055\n",
       "3    26.517632\n",
       "4    22.795690\n",
       "5    29.441529\n",
       "6    26.397361\n",
       "dtype: float64"
      ]
     },
     "execution_count": 34,
     "metadata": {},
     "output_type": "execute_result"
    }
   ],
   "source": [
    "sum_forecasted_values"
   ]
  },
  {
   "cell_type": "code",
   "execution_count": 35,
   "id": "cbc06a7e-2dca-400d-9cea-d063c33a4442",
   "metadata": {},
   "outputs": [],
   "source": [
    "# concatenate the sum dataframes\n",
    "block_0303_true_and_forecasted_values_df = pd.concat((sum_true_values, sum_forecasted_values), axis = 1)"
   ]
  },
  {
   "cell_type": "code",
   "execution_count": 36,
   "id": "f667f3a6-d7f7-4e7c-a037-1e9541dd38bd",
   "metadata": {},
   "outputs": [],
   "source": [
    "block_0303_true_and_forecasted_values_df.columns = [\"True_count\", \"Forecasted_count\"]"
   ]
  },
  {
   "cell_type": "code",
   "execution_count": 37,
   "id": "d27b93db-c9e2-49ff-9003-9e4925de3179",
   "metadata": {},
   "outputs": [
    {
     "data": {
      "text/html": [
       "<div>\n",
       "<style scoped>\n",
       "    .dataframe tbody tr th:only-of-type {\n",
       "        vertical-align: middle;\n",
       "    }\n",
       "\n",
       "    .dataframe tbody tr th {\n",
       "        vertical-align: top;\n",
       "    }\n",
       "\n",
       "    .dataframe thead th {\n",
       "        text-align: right;\n",
       "    }\n",
       "</style>\n",
       "<table border=\"1\" class=\"dataframe\">\n",
       "  <thead>\n",
       "    <tr style=\"text-align: right;\">\n",
       "      <th></th>\n",
       "      <th>True_count</th>\n",
       "      <th>Forecasted_count</th>\n",
       "    </tr>\n",
       "  </thead>\n",
       "  <tbody>\n",
       "    <tr>\n",
       "      <th>0</th>\n",
       "      <td>49.000171</td>\n",
       "      <td>28.548427</td>\n",
       "    </tr>\n",
       "    <tr>\n",
       "      <th>1</th>\n",
       "      <td>46.000007</td>\n",
       "      <td>30.070154</td>\n",
       "    </tr>\n",
       "    <tr>\n",
       "      <th>2</th>\n",
       "      <td>42.999983</td>\n",
       "      <td>32.664055</td>\n",
       "    </tr>\n",
       "    <tr>\n",
       "      <th>3</th>\n",
       "      <td>38.999993</td>\n",
       "      <td>26.517632</td>\n",
       "    </tr>\n",
       "    <tr>\n",
       "      <th>4</th>\n",
       "      <td>36.025885</td>\n",
       "      <td>22.795690</td>\n",
       "    </tr>\n",
       "    <tr>\n",
       "      <th>5</th>\n",
       "      <td>36.000000</td>\n",
       "      <td>29.441529</td>\n",
       "    </tr>\n",
       "    <tr>\n",
       "      <th>6</th>\n",
       "      <td>23.000000</td>\n",
       "      <td>26.397361</td>\n",
       "    </tr>\n",
       "  </tbody>\n",
       "</table>\n",
       "</div>"
      ],
      "text/plain": [
       "   True_count  Forecasted_count\n",
       "0   49.000171         28.548427\n",
       "1   46.000007         30.070154\n",
       "2   42.999983         32.664055\n",
       "3   38.999993         26.517632\n",
       "4   36.025885         22.795690\n",
       "5   36.000000         29.441529\n",
       "6   23.000000         26.397361"
      ]
     },
     "execution_count": 37,
     "metadata": {},
     "output_type": "execute_result"
    }
   ],
   "source": [
    "block_0303_true_and_forecasted_values_df"
   ]
  },
  {
   "cell_type": "code",
   "execution_count": 38,
   "id": "636d512d-f76b-48dc-90f1-872dc6a32736",
   "metadata": {},
   "outputs": [
    {
     "data": {
      "text/plain": [
       "12.896668730914742"
      ]
     },
     "execution_count": 38,
     "metadata": {},
     "output_type": "execute_result"
    }
   ],
   "source": [
    "# blockwise mean squared error\n",
    "rmse = np.sqrt(mean_squared_error(sum_true_values, sum_forecasted_values))\n",
    "rmse"
   ]
  },
  {
   "cell_type": "code",
   "execution_count": 39,
   "id": "df568443-7d02-4ba8-ad0e-5d83f2576c8b",
   "metadata": {},
   "outputs": [
    {
     "data": {
      "text/plain": [
       "11.769416201963399"
      ]
     },
     "execution_count": 39,
     "metadata": {},
     "output_type": "execute_result"
    }
   ],
   "source": [
    "# blockwise mean absolute error\n",
    "mae = mean_absolute_error(sum_true_values, sum_forecasted_values)\n",
    "mae"
   ]
  },
  {
   "cell_type": "code",
   "execution_count": 40,
   "id": "24d1568b-1b0d-41db-a60b-cd864b46d6e7",
   "metadata": {},
   "outputs": [
    {
     "data": {
      "text/plain": [
       "PearsonRResult(statistic=0.46434388614612415, pvalue=0.2938654990949901)"
      ]
     },
     "execution_count": 40,
     "metadata": {},
     "output_type": "execute_result"
    }
   ],
   "source": [
    "corr = pearsonr(sum_true_values, sum_forecasted_values)\n",
    "corr"
   ]
  },
  {
   "cell_type": "code",
   "execution_count": 41,
   "id": "cf8101a2-be23-4216-afd7-f7783e56f62d",
   "metadata": {},
   "outputs": [
    {
     "data": {
      "text/plain": [
       "-1.6538256604989159"
      ]
     },
     "execution_count": 41,
     "metadata": {},
     "output_type": "execute_result"
    }
   ],
   "source": [
    "r2 = r2_score(sum_true_values, sum_forecasted_values)\n",
    "r2"
   ]
  },
  {
   "cell_type": "markdown",
   "id": "fa460e4d-2fdc-45fb-8f50-6a50b0a6ef13",
   "metadata": {},
   "source": [
    "##### Coverages and widths for the forecasted values?"
   ]
  },
  {
   "cell_type": "code",
   "execution_count": 42,
   "id": "eae4e334-d06f-4950-b09e-ec34cb4f3eba",
   "metadata": {},
   "outputs": [],
   "source": [
    "# for this we need the all_forecasts npy files"
   ]
  },
  {
   "cell_type": "code",
   "execution_count": 43,
   "id": "1ec4f3fa-b7b0-4064-9007-4230b0e64f72",
   "metadata": {},
   "outputs": [],
   "source": [
    "# content location is the same path as above"
   ]
  },
  {
   "cell_type": "code",
   "execution_count": 44,
   "id": "febb8655-c529-4099-b22e-ee36918188d5",
   "metadata": {},
   "outputs": [],
   "source": [
    "all_forecasts_npy_files = ['all_forecasts_sub_' + str(i) + '.npy' for i in range(910)]"
   ]
  },
  {
   "cell_type": "code",
   "execution_count": 45,
   "id": "11eba5f0-5a18-4d7d-a743-d57bc9cf93a4",
   "metadata": {},
   "outputs": [],
   "source": [
    "# all_forecasts_npy_files"
   ]
  },
  {
   "cell_type": "code",
   "execution_count": 46,
   "id": "7711dd37-fd3c-4ac8-b8ae-b4be59dff7fa",
   "metadata": {},
   "outputs": [],
   "source": [
    "# load the npy files"
   ]
  },
  {
   "cell_type": "code",
   "execution_count": 47,
   "id": "57f059e1-25b1-4e6d-b370-9ca0236848ea",
   "metadata": {},
   "outputs": [
    {
     "name": "stdout",
     "output_type": "stream",
     "text": [
      "CPU times: user 285 ms, sys: 54.5 ms, total: 339 ms\n",
      "Wall time: 341 ms\n"
     ]
    }
   ],
   "source": [
    "%%time\n",
    "loaded_npy_files = []\n",
    "for file in all_forecasts_npy_files:\n",
    "    joined_path = os.path.join(path_to_dfs, file)\n",
    "    load_file = np.load(joined_path)\n",
    "    # notice we are averaging the preds across the chains before exponentiation\n",
    "    mean_file = np.exp(np.mean(load_file, axis = 1)) - 1\n",
    "    loaded_npy_files.append(mean_file)"
   ]
  },
  {
   "cell_type": "code",
   "execution_count": 48,
   "id": "78d4c420-8e99-4103-881e-297bc81f909d",
   "metadata": {},
   "outputs": [
    {
     "data": {
      "text/plain": [
       "910"
      ]
     },
     "execution_count": 48,
     "metadata": {},
     "output_type": "execute_result"
    }
   ],
   "source": [
    "len(loaded_npy_files)"
   ]
  },
  {
   "cell_type": "code",
   "execution_count": 49,
   "id": "3cc8627a-822a-4c8e-898a-52957870ccde",
   "metadata": {},
   "outputs": [
    {
     "data": {
      "text/plain": [
       "(1000, 7)"
      ]
     },
     "execution_count": 49,
     "metadata": {},
     "output_type": "execute_result"
    }
   ],
   "source": [
    "loaded_npy_files[0].shape"
   ]
  },
  {
   "cell_type": "code",
   "execution_count": 50,
   "id": "ab72ca92-e8f1-4ce3-9cea-117b673d4529",
   "metadata": {},
   "outputs": [
    {
     "data": {
      "text/plain": [
       "array([[ 0.05036592,  0.06007195, -0.02029973, ...,  0.06387424,\n",
       "         0.16223657,  0.3496107 ],\n",
       "       [ 0.01663446,  0.0471046 ,  0.05481458, ...,  0.05247152,\n",
       "        -0.0522595 ,  0.10185099],\n",
       "       [-0.03021371, -0.00114805,  0.13588464, ..., -0.13302153,\n",
       "        -0.00639081,  0.07431591],\n",
       "       ...,\n",
       "       [ 0.04781938,  0.00088286,  0.18810058, ..., -0.04671836,\n",
       "         0.12725925,  0.1162703 ],\n",
       "       [-0.01095998,  0.09830081, -0.01850146, ..., -0.08506775,\n",
       "        -0.09696454, -0.04966176],\n",
       "       [-0.04713827,  0.18091547,  0.00814879, ...,  0.05910623,\n",
       "        -0.06240427,  0.03611815]], dtype=float32)"
      ]
     },
     "execution_count": 50,
     "metadata": {},
     "output_type": "execute_result"
    }
   ],
   "source": [
    "loaded_npy_files[0]"
   ]
  },
  {
   "cell_type": "code",
   "execution_count": 51,
   "id": "53dd5c88-918c-46a0-b5ae-cb7c75895741",
   "metadata": {},
   "outputs": [
    {
     "name": "stdout",
     "output_type": "stream",
     "text": [
      "CPU times: user 21.6 ms, sys: 387 µs, total: 22 ms\n",
      "Wall time: 21.2 ms\n"
     ]
    }
   ],
   "source": [
    "%%time\n",
    "# convert less than 0 entries to 0 for all arrays\n",
    "for arr in loaded_npy_files:\n",
    "    arr[arr < 0] = 0"
   ]
  },
  {
   "cell_type": "code",
   "execution_count": 52,
   "id": "b20d4662-eefc-41bc-ac0a-25d0613fa00c",
   "metadata": {},
   "outputs": [
    {
     "data": {
      "text/plain": [
       "array([[0.05036592, 0.06007195, 0.        , ..., 0.06387424, 0.16223657,\n",
       "        0.3496107 ],\n",
       "       [0.01663446, 0.0471046 , 0.05481458, ..., 0.05247152, 0.        ,\n",
       "        0.10185099],\n",
       "       [0.        , 0.        , 0.13588464, ..., 0.        , 0.        ,\n",
       "        0.07431591],\n",
       "       ...,\n",
       "       [0.04781938, 0.00088286, 0.18810058, ..., 0.        , 0.12725925,\n",
       "        0.1162703 ],\n",
       "       [0.        , 0.09830081, 0.        , ..., 0.        , 0.        ,\n",
       "        0.        ],\n",
       "       [0.        , 0.18091547, 0.00814879, ..., 0.05910623, 0.        ,\n",
       "        0.03611815]], dtype=float32)"
      ]
     },
     "execution_count": 52,
     "metadata": {},
     "output_type": "execute_result"
    }
   ],
   "source": [
    "loaded_npy_files[0]"
   ]
  },
  {
   "cell_type": "code",
   "execution_count": 53,
   "id": "f2474bdb-3a79-4436-83b1-2b3c3ac24a5c",
   "metadata": {},
   "outputs": [],
   "source": [
    "# Since we do not have overlapping sub-windows, we can sum the counts to get the final densities\n",
    "output = sum(loaded_npy_files)"
   ]
  },
  {
   "cell_type": "code",
   "execution_count": 54,
   "id": "d9038206-4f90-4001-9c3c-aee27d7d610c",
   "metadata": {},
   "outputs": [
    {
     "data": {
      "text/plain": [
       "(1000, 7)"
      ]
     },
     "execution_count": 54,
     "metadata": {},
     "output_type": "execute_result"
    }
   ],
   "source": [
    "output.shape"
   ]
  },
  {
   "cell_type": "code",
   "execution_count": 55,
   "id": "6116babf-18f2-4e39-9a72-150ccc4e6387",
   "metadata": {},
   "outputs": [
    {
     "data": {
      "text/plain": [
       "array([[41.887875, 37.591854, 41.34084 , ..., 31.044338, 31.4644  ,\n",
       "        29.088406],\n",
       "       [33.11368 , 30.520773, 36.679913, ..., 25.038378, 37.210457,\n",
       "        37.972076],\n",
       "       [40.8266  , 37.38029 , 40.950558, ..., 31.464483, 39.518734,\n",
       "        35.883865],\n",
       "       ...,\n",
       "       [34.35221 , 37.634117, 42.051853, ..., 39.16575 , 42.027534,\n",
       "        46.028595],\n",
       "       [39.08241 , 37.355553, 48.81173 , ..., 47.233604, 46.369965,\n",
       "        41.535286],\n",
       "       [34.78288 , 40.39996 , 48.24418 , ..., 39.531143, 46.441826,\n",
       "        44.33457 ]], dtype=float32)"
      ]
     },
     "execution_count": 55,
     "metadata": {},
     "output_type": "execute_result"
    }
   ],
   "source": [
    "output"
   ]
  },
  {
   "cell_type": "code",
   "execution_count": 56,
   "id": "fbac31f0-215b-4e8b-8c13-2cd85e76a70f",
   "metadata": {},
   "outputs": [],
   "source": [
    "# is this sum correct? alternative method of computing the sums\n",
    "output_alt = np.sum(loaded_npy_files, axis = 0)"
   ]
  },
  {
   "cell_type": "code",
   "execution_count": 57,
   "id": "1198a1a0-14fc-4101-b4af-14a2c26dc0c5",
   "metadata": {},
   "outputs": [
    {
     "data": {
      "text/plain": [
       "(1000, 7)"
      ]
     },
     "execution_count": 57,
     "metadata": {},
     "output_type": "execute_result"
    }
   ],
   "source": [
    "output_alt.shape"
   ]
  },
  {
   "cell_type": "code",
   "execution_count": 58,
   "id": "23c6ebbe-2c27-47ff-8a5f-86491e58d899",
   "metadata": {},
   "outputs": [
    {
     "data": {
      "text/plain": [
       "array([[41.887875, 37.591854, 41.34084 , ..., 31.044338, 31.4644  ,\n",
       "        29.088406],\n",
       "       [33.11368 , 30.520773, 36.679913, ..., 25.038378, 37.210457,\n",
       "        37.972076],\n",
       "       [40.8266  , 37.38029 , 40.950558, ..., 31.464483, 39.518734,\n",
       "        35.883865],\n",
       "       ...,\n",
       "       [34.35221 , 37.634117, 42.051853, ..., 39.16575 , 42.027534,\n",
       "        46.028595],\n",
       "       [39.08241 , 37.355553, 48.81173 , ..., 47.233604, 46.369965,\n",
       "        41.535286],\n",
       "       [34.78288 , 40.39996 , 48.24418 , ..., 39.531143, 46.441826,\n",
       "        44.33457 ]], dtype=float32)"
      ]
     },
     "execution_count": 58,
     "metadata": {},
     "output_type": "execute_result"
    }
   ],
   "source": [
    "output_alt"
   ]
  },
  {
   "cell_type": "code",
   "execution_count": 59,
   "id": "7b4a8d85-fe98-49c3-9a9f-51fbd90c5174",
   "metadata": {},
   "outputs": [
    {
     "data": {
      "text/plain": [
       "1.0"
      ]
     },
     "execution_count": 59,
     "metadata": {},
     "output_type": "execute_result"
    }
   ],
   "source": [
    "np.mean(output_alt == output)"
   ]
  },
  {
   "cell_type": "code",
   "execution_count": 60,
   "id": "ba6418a3-03f4-475a-b552-55a08048311f",
   "metadata": {},
   "outputs": [],
   "source": [
    "# verified the sum is correct, let's get the widths and the coverages - and also any essential plots"
   ]
  },
  {
   "cell_type": "code",
   "execution_count": 61,
   "id": "ca61eabc-63ed-4b74-b20a-61521b3751a6",
   "metadata": {},
   "outputs": [],
   "source": [
    "# now we can get the 2.5th abd the 97.5th percentiles - to get the coverage and the widths of the CIS\n",
    "li_train = np.percentile(output, axis = 0, q = (2.5, 97.5))[0,:].reshape(-1,1)    \n",
    "ui_train = np.percentile(output, axis = 0, q = (2.5, 97.5))[1,:].reshape(-1,1)"
   ]
  },
  {
   "cell_type": "code",
   "execution_count": 62,
   "id": "9cad5cca-320d-4e70-b204-e4dc52fb9d6d",
   "metadata": {},
   "outputs": [
    {
     "data": {
      "text/plain": [
       "array([[25.10149899],\n",
       "       [25.59461761],\n",
       "       [25.85227118],\n",
       "       [22.44229727],\n",
       "       [20.57850618],\n",
       "       [24.2786932 ],\n",
       "       [23.49193025]])"
      ]
     },
     "execution_count": 62,
     "metadata": {},
     "output_type": "execute_result"
    }
   ],
   "source": [
    "li_train"
   ]
  },
  {
   "cell_type": "code",
   "execution_count": 63,
   "id": "4e669c1d-0916-4e77-92e2-a1b1879834aa",
   "metadata": {},
   "outputs": [
    {
     "data": {
      "text/plain": [
       "array([[46.47285423],\n",
       "       [46.21793108],\n",
       "       [49.54896574],\n",
       "       [45.50323544],\n",
       "       [42.73424101],\n",
       "       [48.40914936],\n",
       "       [45.68003674]])"
      ]
     },
     "execution_count": 63,
     "metadata": {},
     "output_type": "execute_result"
    }
   ],
   "source": [
    "ui_train"
   ]
  },
  {
   "cell_type": "code",
   "execution_count": 64,
   "id": "4d51a483-bfe5-4cc6-a31f-813cb83d5540",
   "metadata": {},
   "outputs": [],
   "source": [
    "width_train = ui_train - li_train\n",
    "avg_width_train = width_train.mean(0)[0]"
   ]
  },
  {
   "cell_type": "code",
   "execution_count": 65,
   "id": "37b163bb-b24c-4af2-8f2b-19c78eb24ff9",
   "metadata": {},
   "outputs": [
    {
     "data": {
      "text/plain": [
       "22.46094270433698"
      ]
     },
     "execution_count": 65,
     "metadata": {},
     "output_type": "execute_result"
    }
   ],
   "source": [
    "avg_width_train"
   ]
  },
  {
   "cell_type": "code",
   "execution_count": 66,
   "id": "46d652b2-05be-44f9-bf0d-3ff69ad25fed",
   "metadata": {},
   "outputs": [],
   "source": [
    "y_traina = block_0303_true_and_forecasted_values_df[[\"True_count\"]].values"
   ]
  },
  {
   "cell_type": "code",
   "execution_count": 67,
   "id": "053c0783-3289-4068-9999-948c0f985fa1",
   "metadata": {},
   "outputs": [
    {
     "data": {
      "text/plain": [
       "array([[49.00017137],\n",
       "       [46.00000671],\n",
       "       [42.99998287],\n",
       "       [38.99999281],\n",
       "       [36.02588457],\n",
       "       [36.00000019],\n",
       "       [22.99999976]])"
      ]
     },
     "execution_count": 67,
     "metadata": {},
     "output_type": "execute_result"
    }
   ],
   "source": [
    "y_traina"
   ]
  },
  {
   "cell_type": "code",
   "execution_count": 68,
   "id": "5f1ba54d-0aca-494d-b741-b2cd6d00fcb3",
   "metadata": {},
   "outputs": [],
   "source": [
    "ind_train = (y_traina >= li_train) & (y_traina <= ui_train)\n",
    "coverage_train= ind_train.mean(0)[0]"
   ]
  },
  {
   "cell_type": "code",
   "execution_count": 69,
   "id": "66d5a7c9-0400-4f6f-9221-9cb9c7860d3c",
   "metadata": {},
   "outputs": [
    {
     "data": {
      "text/plain": [
       "0.7142857142857143"
      ]
     },
     "execution_count": 69,
     "metadata": {},
     "output_type": "execute_result"
    }
   ],
   "source": [
    "coverage_train"
   ]
  },
  {
   "cell_type": "code",
   "execution_count": 70,
   "id": "ce86b870-01cf-4e10-904b-ef2396d2dc47",
   "metadata": {},
   "outputs": [
    {
     "data": {
      "text/plain": [
       "array([34.9136  , 35.400986, 37.60032 , 33.406986, 30.20285 , 35.454716,\n",
       "       33.23756 ], dtype=float32)"
      ]
     },
     "execution_count": 70,
     "metadata": {},
     "output_type": "execute_result"
    }
   ],
   "source": [
    "np.mean(output, axis = 0)"
   ]
  },
  {
   "cell_type": "code",
   "execution_count": 71,
   "id": "311beb4f-6347-407c-af9b-bfe285361098",
   "metadata": {},
   "outputs": [
    {
     "data": {
      "text/plain": [
       "0    28.548427\n",
       "1    30.070154\n",
       "2    32.664055\n",
       "3    26.517632\n",
       "4    22.795690\n",
       "5    29.441529\n",
       "6    26.397361\n",
       "dtype: float64"
      ]
     },
     "execution_count": 71,
     "metadata": {},
     "output_type": "execute_result"
    }
   ],
   "source": [
    "sum_forecasted_values"
   ]
  },
  {
   "cell_type": "code",
   "execution_count": 72,
   "id": "0f94ff2b-6606-477b-a3a7-c3841f436c56",
   "metadata": {},
   "outputs": [
    {
     "data": {
      "image/png": "[encoded data removed]",
      "text/plain": [
       "<Figure size 640x480 with 1 Axes>"
      ]
     },
     "metadata": {},
     "output_type": "display_data"
    }
   ],
   "source": [
    "plt.scatter(block_0303_true_and_forecasted_values_df['True_count'], block_0303_true_and_forecasted_values_df['Forecasted_count'])\n",
    "plt.xlabel(\"True density\")\n",
    "plt.ylabel(\"Predicted density\")\n",
    "# Add the y = x line\n",
    "plt.plot([22, 50], [22, 50], color='green', label='y = x')\n",
    "plt.legend()\n",
    "plt.show()"
   ]
  },
  {
   "cell_type": "code",
   "execution_count": 73,
   "id": "04aa778d-3203-493f-a8d5-6c42cd0c540a",
   "metadata": {},
   "outputs": [
    {
     "data": {
      "image/png": "[encoded data removed]",
      "text/plain": [
       "<Figure size 1500x2000 with 8 Axes>"
      ]
     },
     "metadata": {},
     "output_type": "display_data"
    },
    {
     "name": "stdout",
     "output_type": "stream",
     "text": [
      "CPU times: user 27.7 s, sys: 828 ms, total: 28.6 s\n",
      "Wall time: 28.2 s\n"
     ]
    }
   ],
   "source": [
    "%%time\n",
    "# Create a 2x4 grid of subplots (total 8 plots, the last one will be left empty)\n",
    "fig, axes = plt.subplots(4, 2, figsize=(15,20))\n",
    "axes = axes.flatten() \n",
    "\n",
    "# widths plots\n",
    "for i in range(7):\n",
    "    timestep_i_subwindows = []\n",
    "    for y, file in enumerate(loaded_npy_files):\n",
    "        t_i_forecast = file[:,i]\n",
    "        # print the shape of the extracted array\n",
    "        # print(t_i_forecast.shape)\n",
    "        timestep_i_subwindows.append(t_i_forecast)\n",
    "    stacked_forecasts = np.stack(timestep_i_subwindows)\n",
    "    stacked_forecasts[stacked_forecasts<0] = 0\n",
    "    sorted_stacked_forecasts = np.sort(stacked_forecasts, axis = 1)\n",
    "    # get the values between the 2.5th and 97.5th percentile?\n",
    "    sorted_interval_data = sorted_stacked_forecasts[:,25:975]\n",
    "\n",
    "    # Plot for the current 2D array\n",
    "    for l, row in enumerate(sorted_interval_data):\n",
    "        axes[i].plot([l + 1] * len(row), row, 'o', markersize=1, color='teal', label='Distribution of forecasted values' if l == 0 else \"\")\n",
    "    \n",
    "    true_counts = exp_true.iloc[i,:].values\n",
    "\n",
    "    # # Overlay the 1D array values\n",
    "    axes[i].plot(np.arange(1, 911), true_counts, 'o', markersize=1, color='red', label='True density')\n",
    "    \n",
    "    # Customize x-ticks and labels\n",
    "    axes[i].set_xticks(np.arange(1, 911))\n",
    "    # axes[i].set_xticklabels([f'sub_window_{zz + 1}' for zz in range(910)], rotation=90, fontsize=13)\n",
    "    axes[i].set_xlabel(\"Sub windows\", fontsize=12, fontweight='bold')\n",
    "    axes[i].set_ylabel(\"Forecasted and true densities\", fontsize=12, fontweight='bold')\n",
    "    axes[i].set_title(f\"Test image {i + 1}\", fontsize=12, fontweight='bold')\n",
    "    axes[i].legend()\n",
    "\n",
    "\n",
    "# Hide the last (empty) subplot\n",
    "axes[-1].set_visible(False)\n",
    "\n",
    "# Adjust layout\n",
    "plt.tight_layout()\n",
    "\n",
    "# # Save the figure as a PDF file\n",
    "# plt.savefig(\"Previous_data/Forecasted_distributions_blk13.pdf\", format='pdf', bbox_inches='tight')\n",
    "plt.show()\n",
    "\n"
   ]
  },
  {
   "cell_type": "code",
   "execution_count": 74,
   "id": "b51d6a01-5c7a-4e37-be12-776053974e4d",
   "metadata": {},
   "outputs": [],
   "source": [
    "# plots are going to be too over-crowded as we now have 910 subwindows - might beed to talk to Dr. Ghosh to figure out a better way to give these plots"
   ]
  },
  {
   "cell_type": "code",
   "execution_count": 75,
   "id": "c278c7bc-eced-4cbb-ab5c-b5156fe33612",
   "metadata": {},
   "outputs": [],
   "source": [
    "# we may need to re-think about the way the average forecasts were computed. Maybe get the average after exponentiating than averaging all values to a single value and then exponentiating? this would be a few lines of codes - but may be a better way to get the forecated density values? "
   ]
  }
 ],
 "metadata": {
  "kernelspec": {
   "display_name": "Python (tfp_cpu_env)",
   "language": "python",
   "name": "tfp_cpu_env"
  },
  "language_info": {
   "codemirror_mode": {
    "name": "ipython",
    "version": 3
   },
   "file_extension": ".py",
   "mimetype": "text/x-python",
   "name": "python",
   "nbconvert_exporter": "python",
   "pygments_lexer": "ipython3",
   "version": "3.11.7"
  }
 },
 "nbformat": 4,
 "nbformat_minor": 5
}
