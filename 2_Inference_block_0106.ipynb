{
 "cells": [
  {
   "cell_type": "code",
   "execution_count": 1,
   "id": "95479ff1-daa9-4a85-bee2-32d78b24506b",
   "metadata": {},
   "outputs": [],
   "source": [
    "import pandas as pd\n",
    "import numpy as np\n",
    "import matplotlib.pyplot as plt\n",
    "import os\n",
    "from sklearn.metrics import mean_absolute_error, mean_squared_error, r2_score\n",
    "from scipy.stats import pearsonr"
   ]
  },
  {
   "cell_type": "code",
   "execution_count": 2,
   "id": "d0c496d4-1b24-43dd-ab1b-b98d6eaef21b",
   "metadata": {},
   "outputs": [],
   "source": [
    "# path to dataframes\n",
    "path_to_dfs = \"data/BLAR_implementation/Block_0106/forecasted_counts/\""
   ]
  },
  {
   "cell_type": "code",
   "execution_count": 3,
   "id": "0c9c641d-4e5d-4c54-a235-c62cbdf13f8d",
   "metadata": {},
   "outputs": [],
   "source": [
    "# os.listdir(path_to_dfs)"
   ]
  },
  {
   "cell_type": "code",
   "execution_count": 4,
   "id": "5e5d1ebd-ac8c-4a2b-b33c-db3c4b477eae",
   "metadata": {},
   "outputs": [
    {
     "data": {
      "text/plain": [
       "6370"
      ]
     },
     "execution_count": 4,
     "metadata": {},
     "output_type": "execute_result"
    }
   ],
   "source": [
    "len(os.listdir(path_to_dfs))"
   ]
  },
  {
   "cell_type": "code",
   "execution_count": 5,
   "id": "3b80d752-5eb8-42c1-ad39-987ad3dbb001",
   "metadata": {},
   "outputs": [
    {
     "data": {
      "text/plain": [
       "7.0"
      ]
     },
     "execution_count": 5,
     "metadata": {},
     "output_type": "execute_result"
    }
   ],
   "source": [
    "6370/910"
   ]
  },
  {
   "cell_type": "code",
   "execution_count": 6,
   "id": "a0ac81e1-3049-44de-a2bf-4bf5a274ba45",
   "metadata": {},
   "outputs": [],
   "source": [
    "# seems each sub-window sequence have 7 things stored - what are all these?\n",
    "\n",
    "# the forecasted npy files\n",
    "# ar_sigma\n",
    "# noise_sigma\n",
    "# betas\n",
    "# rho\n",
    "# averaged forecasts\n",
    "# posterior parameter summaries - might need to pay a little attention here, the r_hat values are too high - think this should vary around 1? - but almost all the values are greater than 2."
   ]
  },
  {
   "cell_type": "code",
   "execution_count": 7,
   "id": "f9a4f497-2d9d-4b5c-9169-46b6ae6b9977",
   "metadata": {},
   "outputs": [],
   "source": [
    "averaged_forecasts_csvs = []\n",
    "for file in os.listdir(path_to_dfs):\n",
    "    if file[:8] =='averaged':\n",
    "        averaged_forecasts_csvs.append(file)"
   ]
  },
  {
   "cell_type": "code",
   "execution_count": 8,
   "id": "094e9614-b16f-45a2-aafc-d7884678eb44",
   "metadata": {},
   "outputs": [
    {
     "data": {
      "text/plain": [
       "910"
      ]
     },
     "execution_count": 8,
     "metadata": {},
     "output_type": "execute_result"
    }
   ],
   "source": [
    "# how many csv files do we have?\n",
    "len(averaged_forecasts_csvs)"
   ]
  },
  {
   "cell_type": "code",
   "execution_count": 9,
   "id": "7eca928b-bdbd-4d00-9eb1-8a808db7123e",
   "metadata": {},
   "outputs": [],
   "source": [
    "# averaged_forecasts_csvs - we probably need these in order for getting the respective predicted values"
   ]
  },
  {
   "cell_type": "code",
   "execution_count": 10,
   "id": "d0e11c68-824a-41ea-bf6b-65f53103343f",
   "metadata": {},
   "outputs": [
    {
     "data": {
      "text/plain": [
       "'averaged_forecasts_sub_653.csv'"
      ]
     },
     "execution_count": 10,
     "metadata": {},
     "output_type": "execute_result"
    }
   ],
   "source": [
    "averaged_forecasts_csvs[0]"
   ]
  },
  {
   "cell_type": "code",
   "execution_count": 11,
   "id": "f1f9e7be-53a6-4f38-b389-045d898b14ef",
   "metadata": {},
   "outputs": [],
   "source": [
    "# sorting them would not work as everything in the nomenclature of the files is a character - hence will not respect the numerical order"
   ]
  },
  {
   "cell_type": "code",
   "execution_count": 12,
   "id": "3cf616ee-4b4e-4ad9-ac1b-20aba081bfc5",
   "metadata": {},
   "outputs": [],
   "source": [
    "# let's create these names in the order of the subwindows\n",
    "ordered_csv_files = ['averaged_forecasts_sub_' + str(i) + '.csv' for i in range(910)]"
   ]
  },
  {
   "cell_type": "code",
   "execution_count": 13,
   "id": "7ac08389-4437-448b-b8a8-317cd0a9bf8e",
   "metadata": {},
   "outputs": [],
   "source": [
    "# ordered_csv_files"
   ]
  },
  {
   "cell_type": "code",
   "execution_count": 14,
   "id": "e74425d7-b613-44cf-96dd-df4298cef947",
   "metadata": {},
   "outputs": [],
   "source": [
    "# averaged_forecasts_csvs list is pointless at this time?"
   ]
  },
  {
   "cell_type": "code",
   "execution_count": 15,
   "id": "9a94c9ec-57cc-42fa-ad71-26639da44cb7",
   "metadata": {},
   "outputs": [
    {
     "name": "stdout",
     "output_type": "stream",
     "text": [
      "CPU times: user 467 ms, sys: 19.2 ms, total: 486 ms\n",
      "Wall time: 488 ms\n"
     ]
    }
   ],
   "source": [
    "%%time\n",
    "all_dfs = []\n",
    "for file in ordered_csv_files:\n",
    "    read_df = pd.read_csv(path_to_dfs + '/' + file)\n",
    "    all_dfs.append(read_df)"
   ]
  },
  {
   "cell_type": "code",
   "execution_count": 16,
   "id": "c04b6062-8fc9-4f3e-87f2-2a8e9abac16f",
   "metadata": {},
   "outputs": [],
   "source": [
    "# make a single dataframe out of the many\n",
    "combined_df = pd.concat(all_dfs, axis = 1)"
   ]
  },
  {
   "cell_type": "code",
   "execution_count": 17,
   "id": "5671cc95-7ba6-47bc-8da8-47ba9d3f36e3",
   "metadata": {},
   "outputs": [
    {
     "data": {
      "text/html": [
       "<div>\n",
       "<style scoped>\n",
       "    .dataframe tbody tr th:only-of-type {\n",
       "        vertical-align: middle;\n",
       "    }\n",
       "\n",
       "    .dataframe tbody tr th {\n",
       "        vertical-align: top;\n",
       "    }\n",
       "\n",
       "    .dataframe thead th {\n",
       "        text-align: right;\n",
       "    }\n",
       "</style>\n",
       "<table border=\"1\" class=\"dataframe\">\n",
       "  <thead>\n",
       "    <tr style=\"text-align: right;\">\n",
       "      <th></th>\n",
       "      <th>True_value</th>\n",
       "      <th>Forecasted_value</th>\n",
       "      <th>True_value</th>\n",
       "      <th>Forecasted_value</th>\n",
       "      <th>True_value</th>\n",
       "      <th>Forecasted_value</th>\n",
       "      <th>True_value</th>\n",
       "      <th>Forecasted_value</th>\n",
       "      <th>True_value</th>\n",
       "      <th>Forecasted_value</th>\n",
       "      <th>...</th>\n",
       "      <th>True_value</th>\n",
       "      <th>Forecasted_value</th>\n",
       "      <th>True_value</th>\n",
       "      <th>Forecasted_value</th>\n",
       "      <th>True_value</th>\n",
       "      <th>Forecasted_value</th>\n",
       "      <th>True_value</th>\n",
       "      <th>Forecasted_value</th>\n",
       "      <th>True_value</th>\n",
       "      <th>Forecasted_value</th>\n",
       "    </tr>\n",
       "  </thead>\n",
       "  <tbody>\n",
       "    <tr>\n",
       "      <th>0</th>\n",
       "      <td>0.0</td>\n",
       "      <td>-0.011059</td>\n",
       "      <td>0.0</td>\n",
       "      <td>-0.011711</td>\n",
       "      <td>0.000000</td>\n",
       "      <td>-0.006434</td>\n",
       "      <td>0.013630</td>\n",
       "      <td>0.023057</td>\n",
       "      <td>0.684786</td>\n",
       "      <td>0.307315</td>\n",
       "      <td>...</td>\n",
       "      <td>0.0</td>\n",
       "      <td>-0.006937</td>\n",
       "      <td>0.0</td>\n",
       "      <td>-0.012997</td>\n",
       "      <td>2.686574e-02</td>\n",
       "      <td>-0.003969</td>\n",
       "      <td>2.686574e-02</td>\n",
       "      <td>0.003821</td>\n",
       "      <td>0.0</td>\n",
       "      <td>0.041906</td>\n",
       "    </tr>\n",
       "    <tr>\n",
       "      <th>1</th>\n",
       "      <td>0.0</td>\n",
       "      <td>-0.000721</td>\n",
       "      <td>0.0</td>\n",
       "      <td>-0.023931</td>\n",
       "      <td>0.000000</td>\n",
       "      <td>-0.009816</td>\n",
       "      <td>0.013184</td>\n",
       "      <td>0.034139</td>\n",
       "      <td>0.668336</td>\n",
       "      <td>0.282799</td>\n",
       "      <td>...</td>\n",
       "      <td>0.0</td>\n",
       "      <td>0.004067</td>\n",
       "      <td>0.0</td>\n",
       "      <td>-0.003655</td>\n",
       "      <td>0.000000e+00</td>\n",
       "      <td>-0.001443</td>\n",
       "      <td>0.000000e+00</td>\n",
       "      <td>0.005188</td>\n",
       "      <td>0.0</td>\n",
       "      <td>-0.029113</td>\n",
       "    </tr>\n",
       "    <tr>\n",
       "      <th>2</th>\n",
       "      <td>0.0</td>\n",
       "      <td>-0.011211</td>\n",
       "      <td>0.0</td>\n",
       "      <td>-0.010141</td>\n",
       "      <td>0.000000</td>\n",
       "      <td>-0.004349</td>\n",
       "      <td>0.000004</td>\n",
       "      <td>0.012422</td>\n",
       "      <td>0.557181</td>\n",
       "      <td>0.243788</td>\n",
       "      <td>...</td>\n",
       "      <td>0.0</td>\n",
       "      <td>0.001726</td>\n",
       "      <td>0.0</td>\n",
       "      <td>-0.006297</td>\n",
       "      <td>0.000000e+00</td>\n",
       "      <td>-0.007833</td>\n",
       "      <td>0.000000e+00</td>\n",
       "      <td>-0.010131</td>\n",
       "      <td>0.0</td>\n",
       "      <td>-0.018714</td>\n",
       "    </tr>\n",
       "    <tr>\n",
       "      <th>3</th>\n",
       "      <td>0.0</td>\n",
       "      <td>0.002511</td>\n",
       "      <td>0.0</td>\n",
       "      <td>0.000202</td>\n",
       "      <td>0.000000</td>\n",
       "      <td>-0.000347</td>\n",
       "      <td>0.007963</td>\n",
       "      <td>0.004623</td>\n",
       "      <td>0.682453</td>\n",
       "      <td>0.410303</td>\n",
       "      <td>...</td>\n",
       "      <td>0.0</td>\n",
       "      <td>-0.002479</td>\n",
       "      <td>0.0</td>\n",
       "      <td>-0.004772</td>\n",
       "      <td>3.540014e-07</td>\n",
       "      <td>-0.000397</td>\n",
       "      <td>1.334030e-07</td>\n",
       "      <td>0.002856</td>\n",
       "      <td>0.0</td>\n",
       "      <td>-0.011333</td>\n",
       "    </tr>\n",
       "    <tr>\n",
       "      <th>4</th>\n",
       "      <td>0.0</td>\n",
       "      <td>0.002829</td>\n",
       "      <td>0.0</td>\n",
       "      <td>-0.004357</td>\n",
       "      <td>0.000637</td>\n",
       "      <td>-0.000890</td>\n",
       "      <td>0.663987</td>\n",
       "      <td>0.018957</td>\n",
       "      <td>0.002376</td>\n",
       "      <td>0.436213</td>\n",
       "      <td>...</td>\n",
       "      <td>0.0</td>\n",
       "      <td>0.000529</td>\n",
       "      <td>0.0</td>\n",
       "      <td>-0.004696</td>\n",
       "      <td>0.000000e+00</td>\n",
       "      <td>0.003811</td>\n",
       "      <td>0.000000e+00</td>\n",
       "      <td>-0.005399</td>\n",
       "      <td>0.0</td>\n",
       "      <td>-0.002852</td>\n",
       "    </tr>\n",
       "  </tbody>\n",
       "</table>\n",
       "<p>5 rows × 1820 columns</p>\n",
       "</div>"
      ],
      "text/plain": [
       "   True_value  Forecasted_value  True_value  Forecasted_value  True_value  \\\n",
       "0         0.0         -0.011059         0.0         -0.011711    0.000000   \n",
       "1         0.0         -0.000721         0.0         -0.023931    0.000000   \n",
       "2         0.0         -0.011211         0.0         -0.010141    0.000000   \n",
       "3         0.0          0.002511         0.0          0.000202    0.000000   \n",
       "4         0.0          0.002829         0.0         -0.004357    0.000637   \n",
       "\n",
       "   Forecasted_value  True_value  Forecasted_value  True_value  \\\n",
       "0         -0.006434    0.013630          0.023057    0.684786   \n",
       "1         -0.009816    0.013184          0.034139    0.668336   \n",
       "2         -0.004349    0.000004          0.012422    0.557181   \n",
       "3         -0.000347    0.007963          0.004623    0.682453   \n",
       "4         -0.000890    0.663987          0.018957    0.002376   \n",
       "\n",
       "   Forecasted_value  ...  True_value  Forecasted_value  True_value  \\\n",
       "0          0.307315  ...         0.0         -0.006937         0.0   \n",
       "1          0.282799  ...         0.0          0.004067         0.0   \n",
       "2          0.243788  ...         0.0          0.001726         0.0   \n",
       "3          0.410303  ...         0.0         -0.002479         0.0   \n",
       "4          0.436213  ...         0.0          0.000529         0.0   \n",
       "\n",
       "   Forecasted_value    True_value  Forecasted_value    True_value  \\\n",
       "0         -0.012997  2.686574e-02         -0.003969  2.686574e-02   \n",
       "1         -0.003655  0.000000e+00         -0.001443  0.000000e+00   \n",
       "2         -0.006297  0.000000e+00         -0.007833  0.000000e+00   \n",
       "3         -0.004772  3.540014e-07         -0.000397  1.334030e-07   \n",
       "4         -0.004696  0.000000e+00          0.003811  0.000000e+00   \n",
       "\n",
       "   Forecasted_value  True_value  Forecasted_value  \n",
       "0          0.003821         0.0          0.041906  \n",
       "1          0.005188         0.0         -0.029113  \n",
       "2         -0.010131         0.0         -0.018714  \n",
       "3          0.002856         0.0         -0.011333  \n",
       "4         -0.005399         0.0         -0.002852  \n",
       "\n",
       "[5 rows x 1820 columns]"
      ]
     },
     "execution_count": 17,
     "metadata": {},
     "output_type": "execute_result"
    }
   ],
   "source": [
    "combined_df.head()"
   ]
  },
  {
   "cell_type": "code",
   "execution_count": 18,
   "id": "77ebc554-fe99-4cea-9cb3-2d2b8329b7b8",
   "metadata": {},
   "outputs": [
    {
     "data": {
      "text/plain": [
       "(7, 1820)"
      ]
     },
     "execution_count": 18,
     "metadata": {},
     "output_type": "execute_result"
    }
   ],
   "source": [
    "combined_df.shape"
   ]
  },
  {
   "cell_type": "code",
   "execution_count": 19,
   "id": "cd7bd824-8dac-4284-b286-aafcd8cd7d43",
   "metadata": {},
   "outputs": [],
   "source": [
    "# get the true values\n",
    "True_values_df = combined_df[['True_value']]"
   ]
  },
  {
   "cell_type": "code",
   "execution_count": 20,
   "id": "20d0decc-e09d-494a-9ff8-2139aac7254b",
   "metadata": {},
   "outputs": [
    {
     "data": {
      "text/html": [
       "<div>\n",
       "<style scoped>\n",
       "    .dataframe tbody tr th:only-of-type {\n",
       "        vertical-align: middle;\n",
       "    }\n",
       "\n",
       "    .dataframe tbody tr th {\n",
       "        vertical-align: top;\n",
       "    }\n",
       "\n",
       "    .dataframe thead th {\n",
       "        text-align: right;\n",
       "    }\n",
       "</style>\n",
       "<table border=\"1\" class=\"dataframe\">\n",
       "  <thead>\n",
       "    <tr style=\"text-align: right;\">\n",
       "      <th></th>\n",
       "      <th>True_value</th>\n",
       "      <th>True_value</th>\n",
       "      <th>True_value</th>\n",
       "      <th>True_value</th>\n",
       "      <th>True_value</th>\n",
       "      <th>True_value</th>\n",
       "      <th>True_value</th>\n",
       "      <th>True_value</th>\n",
       "      <th>True_value</th>\n",
       "      <th>True_value</th>\n",
       "      <th>...</th>\n",
       "      <th>True_value</th>\n",
       "      <th>True_value</th>\n",
       "      <th>True_value</th>\n",
       "      <th>True_value</th>\n",
       "      <th>True_value</th>\n",
       "      <th>True_value</th>\n",
       "      <th>True_value</th>\n",
       "      <th>True_value</th>\n",
       "      <th>True_value</th>\n",
       "      <th>True_value</th>\n",
       "    </tr>\n",
       "  </thead>\n",
       "  <tbody>\n",
       "    <tr>\n",
       "      <th>0</th>\n",
       "      <td>0.0</td>\n",
       "      <td>0.0</td>\n",
       "      <td>0.000000</td>\n",
       "      <td>0.013630</td>\n",
       "      <td>0.684786</td>\n",
       "      <td>0.000070</td>\n",
       "      <td>0.0</td>\n",
       "      <td>0.0</td>\n",
       "      <td>0.0</td>\n",
       "      <td>0.000000e+00</td>\n",
       "      <td>...</td>\n",
       "      <td>0.0</td>\n",
       "      <td>3.421241e-11</td>\n",
       "      <td>4.806623e-07</td>\n",
       "      <td>6.707872e-09</td>\n",
       "      <td>0.0</td>\n",
       "      <td>0.0</td>\n",
       "      <td>0.0</td>\n",
       "      <td>2.686574e-02</td>\n",
       "      <td>2.686574e-02</td>\n",
       "      <td>0.0</td>\n",
       "    </tr>\n",
       "    <tr>\n",
       "      <th>1</th>\n",
       "      <td>0.0</td>\n",
       "      <td>0.0</td>\n",
       "      <td>0.000000</td>\n",
       "      <td>0.013184</td>\n",
       "      <td>0.668336</td>\n",
       "      <td>0.000068</td>\n",
       "      <td>0.0</td>\n",
       "      <td>0.0</td>\n",
       "      <td>0.0</td>\n",
       "      <td>0.000000e+00</td>\n",
       "      <td>...</td>\n",
       "      <td>0.0</td>\n",
       "      <td>0.000000e+00</td>\n",
       "      <td>0.000000e+00</td>\n",
       "      <td>0.000000e+00</td>\n",
       "      <td>0.0</td>\n",
       "      <td>0.0</td>\n",
       "      <td>0.0</td>\n",
       "      <td>0.000000e+00</td>\n",
       "      <td>0.000000e+00</td>\n",
       "      <td>0.0</td>\n",
       "    </tr>\n",
       "    <tr>\n",
       "      <th>2</th>\n",
       "      <td>0.0</td>\n",
       "      <td>0.0</td>\n",
       "      <td>0.000000</td>\n",
       "      <td>0.000004</td>\n",
       "      <td>0.557181</td>\n",
       "      <td>0.042056</td>\n",
       "      <td>0.0</td>\n",
       "      <td>0.0</td>\n",
       "      <td>0.0</td>\n",
       "      <td>0.000000e+00</td>\n",
       "      <td>...</td>\n",
       "      <td>0.0</td>\n",
       "      <td>0.000000e+00</td>\n",
       "      <td>0.000000e+00</td>\n",
       "      <td>0.000000e+00</td>\n",
       "      <td>0.0</td>\n",
       "      <td>0.0</td>\n",
       "      <td>0.0</td>\n",
       "      <td>0.000000e+00</td>\n",
       "      <td>0.000000e+00</td>\n",
       "      <td>0.0</td>\n",
       "    </tr>\n",
       "    <tr>\n",
       "      <th>3</th>\n",
       "      <td>0.0</td>\n",
       "      <td>0.0</td>\n",
       "      <td>0.000000</td>\n",
       "      <td>0.007963</td>\n",
       "      <td>0.682453</td>\n",
       "      <td>0.000153</td>\n",
       "      <td>0.0</td>\n",
       "      <td>0.0</td>\n",
       "      <td>0.0</td>\n",
       "      <td>0.000000e+00</td>\n",
       "      <td>...</td>\n",
       "      <td>0.0</td>\n",
       "      <td>2.882791e-04</td>\n",
       "      <td>2.225325e-03</td>\n",
       "      <td>1.226370e-09</td>\n",
       "      <td>0.0</td>\n",
       "      <td>0.0</td>\n",
       "      <td>0.0</td>\n",
       "      <td>3.540014e-07</td>\n",
       "      <td>1.334030e-07</td>\n",
       "      <td>0.0</td>\n",
       "    </tr>\n",
       "    <tr>\n",
       "      <th>4</th>\n",
       "      <td>0.0</td>\n",
       "      <td>0.0</td>\n",
       "      <td>0.000637</td>\n",
       "      <td>0.663987</td>\n",
       "      <td>0.002376</td>\n",
       "      <td>0.000000</td>\n",
       "      <td>0.0</td>\n",
       "      <td>0.0</td>\n",
       "      <td>0.0</td>\n",
       "      <td>3.902047e-07</td>\n",
       "      <td>...</td>\n",
       "      <td>0.0</td>\n",
       "      <td>1.660674e-06</td>\n",
       "      <td>5.186155e-02</td>\n",
       "      <td>1.227432e-03</td>\n",
       "      <td>0.0</td>\n",
       "      <td>0.0</td>\n",
       "      <td>0.0</td>\n",
       "      <td>0.000000e+00</td>\n",
       "      <td>0.000000e+00</td>\n",
       "      <td>0.0</td>\n",
       "    </tr>\n",
       "  </tbody>\n",
       "</table>\n",
       "<p>5 rows × 910 columns</p>\n",
       "</div>"
      ],
      "text/plain": [
       "   True_value  True_value  True_value  True_value  True_value  True_value  \\\n",
       "0         0.0         0.0    0.000000    0.013630    0.684786    0.000070   \n",
       "1         0.0         0.0    0.000000    0.013184    0.668336    0.000068   \n",
       "2         0.0         0.0    0.000000    0.000004    0.557181    0.042056   \n",
       "3         0.0         0.0    0.000000    0.007963    0.682453    0.000153   \n",
       "4         0.0         0.0    0.000637    0.663987    0.002376    0.000000   \n",
       "\n",
       "   True_value  True_value  True_value    True_value  ...  True_value  \\\n",
       "0         0.0         0.0         0.0  0.000000e+00  ...         0.0   \n",
       "1         0.0         0.0         0.0  0.000000e+00  ...         0.0   \n",
       "2         0.0         0.0         0.0  0.000000e+00  ...         0.0   \n",
       "3         0.0         0.0         0.0  0.000000e+00  ...         0.0   \n",
       "4         0.0         0.0         0.0  3.902047e-07  ...         0.0   \n",
       "\n",
       "     True_value    True_value    True_value  True_value  True_value  \\\n",
       "0  3.421241e-11  4.806623e-07  6.707872e-09         0.0         0.0   \n",
       "1  0.000000e+00  0.000000e+00  0.000000e+00         0.0         0.0   \n",
       "2  0.000000e+00  0.000000e+00  0.000000e+00         0.0         0.0   \n",
       "3  2.882791e-04  2.225325e-03  1.226370e-09         0.0         0.0   \n",
       "4  1.660674e-06  5.186155e-02  1.227432e-03         0.0         0.0   \n",
       "\n",
       "   True_value    True_value    True_value  True_value  \n",
       "0         0.0  2.686574e-02  2.686574e-02         0.0  \n",
       "1         0.0  0.000000e+00  0.000000e+00         0.0  \n",
       "2         0.0  0.000000e+00  0.000000e+00         0.0  \n",
       "3         0.0  3.540014e-07  1.334030e-07         0.0  \n",
       "4         0.0  0.000000e+00  0.000000e+00         0.0  \n",
       "\n",
       "[5 rows x 910 columns]"
      ]
     },
     "execution_count": 20,
     "metadata": {},
     "output_type": "execute_result"
    }
   ],
   "source": [
    "True_values_df.head()"
   ]
  },
  {
   "cell_type": "code",
   "execution_count": 21,
   "id": "7bf2ce55-e613-440c-98df-b3137476fda8",
   "metadata": {},
   "outputs": [
    {
     "data": {
      "text/plain": [
       "(7, 910)"
      ]
     },
     "execution_count": 21,
     "metadata": {},
     "output_type": "execute_result"
    }
   ],
   "source": [
    "True_values_df.shape"
   ]
  },
  {
   "cell_type": "code",
   "execution_count": 22,
   "id": "18e0219e-ee9c-4e29-a372-2b6290708941",
   "metadata": {},
   "outputs": [],
   "source": [
    "# get the proper counts?\n",
    "exp_true = np.exp(True_values_df)-1"
   ]
  },
  {
   "cell_type": "code",
   "execution_count": 23,
   "id": "a7319ca1-7b28-41f3-8b38-11863c1835e5",
   "metadata": {},
   "outputs": [
    {
     "data": {
      "text/html": [
       "<div>\n",
       "<style scoped>\n",
       "    .dataframe tbody tr th:only-of-type {\n",
       "        vertical-align: middle;\n",
       "    }\n",
       "\n",
       "    .dataframe tbody tr th {\n",
       "        vertical-align: top;\n",
       "    }\n",
       "\n",
       "    .dataframe thead th {\n",
       "        text-align: right;\n",
       "    }\n",
       "</style>\n",
       "<table border=\"1\" class=\"dataframe\">\n",
       "  <thead>\n",
       "    <tr style=\"text-align: right;\">\n",
       "      <th></th>\n",
       "      <th>True_value</th>\n",
       "      <th>True_value</th>\n",
       "      <th>True_value</th>\n",
       "      <th>True_value</th>\n",
       "      <th>True_value</th>\n",
       "      <th>True_value</th>\n",
       "      <th>True_value</th>\n",
       "      <th>True_value</th>\n",
       "      <th>True_value</th>\n",
       "      <th>True_value</th>\n",
       "      <th>...</th>\n",
       "      <th>True_value</th>\n",
       "      <th>True_value</th>\n",
       "      <th>True_value</th>\n",
       "      <th>True_value</th>\n",
       "      <th>True_value</th>\n",
       "      <th>True_value</th>\n",
       "      <th>True_value</th>\n",
       "      <th>True_value</th>\n",
       "      <th>True_value</th>\n",
       "      <th>True_value</th>\n",
       "    </tr>\n",
       "  </thead>\n",
       "  <tbody>\n",
       "    <tr>\n",
       "      <th>0</th>\n",
       "      <td>0.0</td>\n",
       "      <td>0.0</td>\n",
       "      <td>0.000000</td>\n",
       "      <td>0.013723</td>\n",
       "      <td>0.983347</td>\n",
       "      <td>0.000070</td>\n",
       "      <td>0.0</td>\n",
       "      <td>0.0</td>\n",
       "      <td>0.0</td>\n",
       "      <td>0.000000e+00</td>\n",
       "      <td>...</td>\n",
       "      <td>0.0</td>\n",
       "      <td>3.421241e-11</td>\n",
       "      <td>4.806624e-07</td>\n",
       "      <td>6.707872e-09</td>\n",
       "      <td>0.0</td>\n",
       "      <td>0.0</td>\n",
       "      <td>0.0</td>\n",
       "      <td>2.722988e-02</td>\n",
       "      <td>2.722988e-02</td>\n",
       "      <td>0.000000e+00</td>\n",
       "    </tr>\n",
       "    <tr>\n",
       "      <th>1</th>\n",
       "      <td>0.0</td>\n",
       "      <td>0.0</td>\n",
       "      <td>0.000000</td>\n",
       "      <td>0.013271</td>\n",
       "      <td>0.950988</td>\n",
       "      <td>0.000068</td>\n",
       "      <td>0.0</td>\n",
       "      <td>0.0</td>\n",
       "      <td>0.0</td>\n",
       "      <td>0.000000e+00</td>\n",
       "      <td>...</td>\n",
       "      <td>0.0</td>\n",
       "      <td>0.000000e+00</td>\n",
       "      <td>0.000000e+00</td>\n",
       "      <td>0.000000e+00</td>\n",
       "      <td>0.0</td>\n",
       "      <td>0.0</td>\n",
       "      <td>0.0</td>\n",
       "      <td>0.000000e+00</td>\n",
       "      <td>0.000000e+00</td>\n",
       "      <td>0.000000e+00</td>\n",
       "    </tr>\n",
       "    <tr>\n",
       "      <th>2</th>\n",
       "      <td>0.0</td>\n",
       "      <td>0.0</td>\n",
       "      <td>0.000000</td>\n",
       "      <td>0.000004</td>\n",
       "      <td>0.745744</td>\n",
       "      <td>0.042952</td>\n",
       "      <td>0.0</td>\n",
       "      <td>0.0</td>\n",
       "      <td>0.0</td>\n",
       "      <td>0.000000e+00</td>\n",
       "      <td>...</td>\n",
       "      <td>0.0</td>\n",
       "      <td>0.000000e+00</td>\n",
       "      <td>0.000000e+00</td>\n",
       "      <td>0.000000e+00</td>\n",
       "      <td>0.0</td>\n",
       "      <td>0.0</td>\n",
       "      <td>0.0</td>\n",
       "      <td>0.000000e+00</td>\n",
       "      <td>0.000000e+00</td>\n",
       "      <td>0.000000e+00</td>\n",
       "    </tr>\n",
       "    <tr>\n",
       "      <th>3</th>\n",
       "      <td>0.0</td>\n",
       "      <td>0.0</td>\n",
       "      <td>0.000000</td>\n",
       "      <td>0.007995</td>\n",
       "      <td>0.978726</td>\n",
       "      <td>0.000153</td>\n",
       "      <td>0.0</td>\n",
       "      <td>0.0</td>\n",
       "      <td>0.0</td>\n",
       "      <td>0.000000e+00</td>\n",
       "      <td>...</td>\n",
       "      <td>0.0</td>\n",
       "      <td>2.883206e-04</td>\n",
       "      <td>2.227803e-03</td>\n",
       "      <td>1.226370e-09</td>\n",
       "      <td>0.0</td>\n",
       "      <td>0.0</td>\n",
       "      <td>0.0</td>\n",
       "      <td>3.540014e-07</td>\n",
       "      <td>1.334030e-07</td>\n",
       "      <td>0.000000e+00</td>\n",
       "    </tr>\n",
       "    <tr>\n",
       "      <th>4</th>\n",
       "      <td>0.0</td>\n",
       "      <td>0.0</td>\n",
       "      <td>0.000637</td>\n",
       "      <td>0.942521</td>\n",
       "      <td>0.002379</td>\n",
       "      <td>0.000000</td>\n",
       "      <td>0.0</td>\n",
       "      <td>0.0</td>\n",
       "      <td>0.0</td>\n",
       "      <td>3.902048e-07</td>\n",
       "      <td>...</td>\n",
       "      <td>0.0</td>\n",
       "      <td>1.660675e-06</td>\n",
       "      <td>5.322992e-02</td>\n",
       "      <td>1.228185e-03</td>\n",
       "      <td>0.0</td>\n",
       "      <td>0.0</td>\n",
       "      <td>0.0</td>\n",
       "      <td>0.000000e+00</td>\n",
       "      <td>0.000000e+00</td>\n",
       "      <td>0.000000e+00</td>\n",
       "    </tr>\n",
       "    <tr>\n",
       "      <th>5</th>\n",
       "      <td>0.0</td>\n",
       "      <td>0.0</td>\n",
       "      <td>0.000000</td>\n",
       "      <td>0.472769</td>\n",
       "      <td>0.472769</td>\n",
       "      <td>0.000000</td>\n",
       "      <td>0.0</td>\n",
       "      <td>0.0</td>\n",
       "      <td>0.0</td>\n",
       "      <td>3.276872e-05</td>\n",
       "      <td>...</td>\n",
       "      <td>0.0</td>\n",
       "      <td>2.422680e-08</td>\n",
       "      <td>1.736007e-06</td>\n",
       "      <td>1.235649e-10</td>\n",
       "      <td>0.0</td>\n",
       "      <td>0.0</td>\n",
       "      <td>0.0</td>\n",
       "      <td>1.074720e-05</td>\n",
       "      <td>1.315611e-03</td>\n",
       "      <td>2.159415e-07</td>\n",
       "    </tr>\n",
       "    <tr>\n",
       "      <th>6</th>\n",
       "      <td>0.0</td>\n",
       "      <td>0.0</td>\n",
       "      <td>0.000000</td>\n",
       "      <td>0.000142</td>\n",
       "      <td>0.210626</td>\n",
       "      <td>0.000532</td>\n",
       "      <td>0.0</td>\n",
       "      <td>0.0</td>\n",
       "      <td>0.0</td>\n",
       "      <td>1.711851e-03</td>\n",
       "      <td>...</td>\n",
       "      <td>0.0</td>\n",
       "      <td>0.000000e+00</td>\n",
       "      <td>4.419209e-04</td>\n",
       "      <td>2.317986e-04</td>\n",
       "      <td>0.0</td>\n",
       "      <td>0.0</td>\n",
       "      <td>0.0</td>\n",
       "      <td>2.415051e-05</td>\n",
       "      <td>4.604263e-05</td>\n",
       "      <td>0.000000e+00</td>\n",
       "    </tr>\n",
       "  </tbody>\n",
       "</table>\n",
       "<p>7 rows × 910 columns</p>\n",
       "</div>"
      ],
      "text/plain": [
       "   True_value  True_value  True_value  True_value  True_value  True_value  \\\n",
       "0         0.0         0.0    0.000000    0.013723    0.983347    0.000070   \n",
       "1         0.0         0.0    0.000000    0.013271    0.950988    0.000068   \n",
       "2         0.0         0.0    0.000000    0.000004    0.745744    0.042952   \n",
       "3         0.0         0.0    0.000000    0.007995    0.978726    0.000153   \n",
       "4         0.0         0.0    0.000637    0.942521    0.002379    0.000000   \n",
       "5         0.0         0.0    0.000000    0.472769    0.472769    0.000000   \n",
       "6         0.0         0.0    0.000000    0.000142    0.210626    0.000532   \n",
       "\n",
       "   True_value  True_value  True_value    True_value  ...  True_value  \\\n",
       "0         0.0         0.0         0.0  0.000000e+00  ...         0.0   \n",
       "1         0.0         0.0         0.0  0.000000e+00  ...         0.0   \n",
       "2         0.0         0.0         0.0  0.000000e+00  ...         0.0   \n",
       "3         0.0         0.0         0.0  0.000000e+00  ...         0.0   \n",
       "4         0.0         0.0         0.0  3.902048e-07  ...         0.0   \n",
       "5         0.0         0.0         0.0  3.276872e-05  ...         0.0   \n",
       "6         0.0         0.0         0.0  1.711851e-03  ...         0.0   \n",
       "\n",
       "     True_value    True_value    True_value  True_value  True_value  \\\n",
       "0  3.421241e-11  4.806624e-07  6.707872e-09         0.0         0.0   \n",
       "1  0.000000e+00  0.000000e+00  0.000000e+00         0.0         0.0   \n",
       "2  0.000000e+00  0.000000e+00  0.000000e+00         0.0         0.0   \n",
       "3  2.883206e-04  2.227803e-03  1.226370e-09         0.0         0.0   \n",
       "4  1.660675e-06  5.322992e-02  1.228185e-03         0.0         0.0   \n",
       "5  2.422680e-08  1.736007e-06  1.235649e-10         0.0         0.0   \n",
       "6  0.000000e+00  4.419209e-04  2.317986e-04         0.0         0.0   \n",
       "\n",
       "   True_value    True_value    True_value    True_value  \n",
       "0         0.0  2.722988e-02  2.722988e-02  0.000000e+00  \n",
       "1         0.0  0.000000e+00  0.000000e+00  0.000000e+00  \n",
       "2         0.0  0.000000e+00  0.000000e+00  0.000000e+00  \n",
       "3         0.0  3.540014e-07  1.334030e-07  0.000000e+00  \n",
       "4         0.0  0.000000e+00  0.000000e+00  0.000000e+00  \n",
       "5         0.0  1.074720e-05  1.315611e-03  2.159415e-07  \n",
       "6         0.0  2.415051e-05  4.604263e-05  0.000000e+00  \n",
       "\n",
       "[7 rows x 910 columns]"
      ]
     },
     "execution_count": 23,
     "metadata": {},
     "output_type": "execute_result"
    }
   ],
   "source": [
    "exp_true"
   ]
  },
  {
   "cell_type": "code",
   "execution_count": 24,
   "id": "fbc09b78-d34e-434e-8232-ee3be25766e9",
   "metadata": {},
   "outputs": [],
   "source": [
    "# sum the true values - since the sub images are not overlapping, we can get the sum across columns in the above dataframe\n",
    "sum_true_values = exp_true.sum(axis = 1)"
   ]
  },
  {
   "cell_type": "code",
   "execution_count": 25,
   "id": "6057a433-4dfb-4804-bbac-ea3dacce11e6",
   "metadata": {},
   "outputs": [
    {
     "data": {
      "text/plain": [
       "0    38.999667\n",
       "1    38.999989\n",
       "2    45.000000\n",
       "3    39.986887\n",
       "4    42.999997\n",
       "5    47.996502\n",
       "6    38.000000\n",
       "dtype: float64"
      ]
     },
     "execution_count": 25,
     "metadata": {},
     "output_type": "execute_result"
    }
   ],
   "source": [
    "sum_true_values"
   ]
  },
  {
   "cell_type": "code",
   "execution_count": 26,
   "id": "2fc2ac3e-59e7-4f27-91ab-31d30b4eeaa7",
   "metadata": {},
   "outputs": [],
   "source": [
    "# get the forecasted values\n",
    "Forecasted_values_df = combined_df[['Forecasted_value']]"
   ]
  },
  {
   "cell_type": "code",
   "execution_count": 27,
   "id": "4d4182a4-7ede-4ffc-b952-08aa47d424d0",
   "metadata": {},
   "outputs": [
    {
     "data": {
      "text/html": [
       "<div>\n",
       "<style scoped>\n",
       "    .dataframe tbody tr th:only-of-type {\n",
       "        vertical-align: middle;\n",
       "    }\n",
       "\n",
       "    .dataframe tbody tr th {\n",
       "        vertical-align: top;\n",
       "    }\n",
       "\n",
       "    .dataframe thead th {\n",
       "        text-align: right;\n",
       "    }\n",
       "</style>\n",
       "<table border=\"1\" class=\"dataframe\">\n",
       "  <thead>\n",
       "    <tr style=\"text-align: right;\">\n",
       "      <th></th>\n",
       "      <th>Forecasted_value</th>\n",
       "      <th>Forecasted_value</th>\n",
       "      <th>Forecasted_value</th>\n",
       "      <th>Forecasted_value</th>\n",
       "      <th>Forecasted_value</th>\n",
       "      <th>Forecasted_value</th>\n",
       "      <th>Forecasted_value</th>\n",
       "      <th>Forecasted_value</th>\n",
       "      <th>Forecasted_value</th>\n",
       "      <th>Forecasted_value</th>\n",
       "      <th>...</th>\n",
       "      <th>Forecasted_value</th>\n",
       "      <th>Forecasted_value</th>\n",
       "      <th>Forecasted_value</th>\n",
       "      <th>Forecasted_value</th>\n",
       "      <th>Forecasted_value</th>\n",
       "      <th>Forecasted_value</th>\n",
       "      <th>Forecasted_value</th>\n",
       "      <th>Forecasted_value</th>\n",
       "      <th>Forecasted_value</th>\n",
       "      <th>Forecasted_value</th>\n",
       "    </tr>\n",
       "  </thead>\n",
       "  <tbody>\n",
       "    <tr>\n",
       "      <th>0</th>\n",
       "      <td>-0.011059</td>\n",
       "      <td>-0.011711</td>\n",
       "      <td>-0.006434</td>\n",
       "      <td>0.023057</td>\n",
       "      <td>0.307315</td>\n",
       "      <td>0.082303</td>\n",
       "      <td>-0.003458</td>\n",
       "      <td>-0.009384</td>\n",
       "      <td>-0.005043</td>\n",
       "      <td>-0.006397</td>\n",
       "      <td>...</td>\n",
       "      <td>0.015116</td>\n",
       "      <td>0.081970</td>\n",
       "      <td>0.061933</td>\n",
       "      <td>-0.019810</td>\n",
       "      <td>0.053991</td>\n",
       "      <td>-0.006937</td>\n",
       "      <td>-0.012997</td>\n",
       "      <td>-0.003969</td>\n",
       "      <td>0.003821</td>\n",
       "      <td>0.041906</td>\n",
       "    </tr>\n",
       "    <tr>\n",
       "      <th>1</th>\n",
       "      <td>-0.000721</td>\n",
       "      <td>-0.023931</td>\n",
       "      <td>-0.009816</td>\n",
       "      <td>0.034139</td>\n",
       "      <td>0.282799</td>\n",
       "      <td>0.074472</td>\n",
       "      <td>0.024351</td>\n",
       "      <td>-0.003330</td>\n",
       "      <td>-0.001869</td>\n",
       "      <td>-0.007852</td>\n",
       "      <td>...</td>\n",
       "      <td>0.005411</td>\n",
       "      <td>0.050315</td>\n",
       "      <td>0.019649</td>\n",
       "      <td>0.000503</td>\n",
       "      <td>0.017850</td>\n",
       "      <td>0.004067</td>\n",
       "      <td>-0.003655</td>\n",
       "      <td>-0.001443</td>\n",
       "      <td>0.005188</td>\n",
       "      <td>-0.029113</td>\n",
       "    </tr>\n",
       "    <tr>\n",
       "      <th>2</th>\n",
       "      <td>-0.011211</td>\n",
       "      <td>-0.010141</td>\n",
       "      <td>-0.004349</td>\n",
       "      <td>0.012422</td>\n",
       "      <td>0.243788</td>\n",
       "      <td>0.091486</td>\n",
       "      <td>0.003216</td>\n",
       "      <td>-0.003914</td>\n",
       "      <td>-0.002781</td>\n",
       "      <td>-0.005782</td>\n",
       "      <td>...</td>\n",
       "      <td>0.017729</td>\n",
       "      <td>0.049813</td>\n",
       "      <td>0.020205</td>\n",
       "      <td>-0.012574</td>\n",
       "      <td>-0.001859</td>\n",
       "      <td>0.001726</td>\n",
       "      <td>-0.006297</td>\n",
       "      <td>-0.007833</td>\n",
       "      <td>-0.010131</td>\n",
       "      <td>-0.018714</td>\n",
       "    </tr>\n",
       "    <tr>\n",
       "      <th>3</th>\n",
       "      <td>0.002511</td>\n",
       "      <td>0.000202</td>\n",
       "      <td>-0.000347</td>\n",
       "      <td>0.004623</td>\n",
       "      <td>0.410303</td>\n",
       "      <td>0.015683</td>\n",
       "      <td>0.015710</td>\n",
       "      <td>0.012163</td>\n",
       "      <td>0.010706</td>\n",
       "      <td>-0.007935</td>\n",
       "      <td>...</td>\n",
       "      <td>0.029888</td>\n",
       "      <td>0.064319</td>\n",
       "      <td>0.141913</td>\n",
       "      <td>-0.011042</td>\n",
       "      <td>-0.003328</td>\n",
       "      <td>-0.002479</td>\n",
       "      <td>-0.004772</td>\n",
       "      <td>-0.000397</td>\n",
       "      <td>0.002856</td>\n",
       "      <td>-0.011333</td>\n",
       "    </tr>\n",
       "    <tr>\n",
       "      <th>4</th>\n",
       "      <td>0.002829</td>\n",
       "      <td>-0.004357</td>\n",
       "      <td>-0.000890</td>\n",
       "      <td>0.018957</td>\n",
       "      <td>0.436213</td>\n",
       "      <td>-0.037028</td>\n",
       "      <td>0.018005</td>\n",
       "      <td>0.005821</td>\n",
       "      <td>-0.000167</td>\n",
       "      <td>-0.006525</td>\n",
       "      <td>...</td>\n",
       "      <td>0.020627</td>\n",
       "      <td>0.042633</td>\n",
       "      <td>0.153664</td>\n",
       "      <td>-0.012509</td>\n",
       "      <td>0.008382</td>\n",
       "      <td>0.000529</td>\n",
       "      <td>-0.004696</td>\n",
       "      <td>0.003811</td>\n",
       "      <td>-0.005399</td>\n",
       "      <td>-0.002852</td>\n",
       "    </tr>\n",
       "  </tbody>\n",
       "</table>\n",
       "<p>5 rows × 910 columns</p>\n",
       "</div>"
      ],
      "text/plain": [
       "   Forecasted_value  Forecasted_value  Forecasted_value  Forecasted_value  \\\n",
       "0         -0.011059         -0.011711         -0.006434          0.023057   \n",
       "1         -0.000721         -0.023931         -0.009816          0.034139   \n",
       "2         -0.011211         -0.010141         -0.004349          0.012422   \n",
       "3          0.002511          0.000202         -0.000347          0.004623   \n",
       "4          0.002829         -0.004357         -0.000890          0.018957   \n",
       "\n",
       "   Forecasted_value  Forecasted_value  Forecasted_value  Forecasted_value  \\\n",
       "0          0.307315          0.082303         -0.003458         -0.009384   \n",
       "1          0.282799          0.074472          0.024351         -0.003330   \n",
       "2          0.243788          0.091486          0.003216         -0.003914   \n",
       "3          0.410303          0.015683          0.015710          0.012163   \n",
       "4          0.436213         -0.037028          0.018005          0.005821   \n",
       "\n",
       "   Forecasted_value  Forecasted_value  ...  Forecasted_value  \\\n",
       "0         -0.005043         -0.006397  ...          0.015116   \n",
       "1         -0.001869         -0.007852  ...          0.005411   \n",
       "2         -0.002781         -0.005782  ...          0.017729   \n",
       "3          0.010706         -0.007935  ...          0.029888   \n",
       "4         -0.000167         -0.006525  ...          0.020627   \n",
       "\n",
       "   Forecasted_value  Forecasted_value  Forecasted_value  Forecasted_value  \\\n",
       "0          0.081970          0.061933         -0.019810          0.053991   \n",
       "1          0.050315          0.019649          0.000503          0.017850   \n",
       "2          0.049813          0.020205         -0.012574         -0.001859   \n",
       "3          0.064319          0.141913         -0.011042         -0.003328   \n",
       "4          0.042633          0.153664         -0.012509          0.008382   \n",
       "\n",
       "   Forecasted_value  Forecasted_value  Forecasted_value  Forecasted_value  \\\n",
       "0         -0.006937         -0.012997         -0.003969          0.003821   \n",
       "1          0.004067         -0.003655         -0.001443          0.005188   \n",
       "2          0.001726         -0.006297         -0.007833         -0.010131   \n",
       "3         -0.002479         -0.004772         -0.000397          0.002856   \n",
       "4          0.000529         -0.004696          0.003811         -0.005399   \n",
       "\n",
       "   Forecasted_value  \n",
       "0          0.041906  \n",
       "1         -0.029113  \n",
       "2         -0.018714  \n",
       "3         -0.011333  \n",
       "4         -0.002852  \n",
       "\n",
       "[5 rows x 910 columns]"
      ]
     },
     "execution_count": 27,
     "metadata": {},
     "output_type": "execute_result"
    }
   ],
   "source": [
    "Forecasted_values_df.head()"
   ]
  },
  {
   "cell_type": "code",
   "execution_count": 28,
   "id": "c4e2130b-9b6b-40b7-9efe-4cd6cd30c107",
   "metadata": {},
   "outputs": [],
   "source": [
    "exp_forecasted = np.exp(Forecasted_values_df)-1"
   ]
  },
  {
   "cell_type": "code",
   "execution_count": 29,
   "id": "60cd0006-0367-436e-b3c8-282e12e01146",
   "metadata": {},
   "outputs": [
    {
     "data": {
      "text/html": [
       "<div>\n",
       "<style scoped>\n",
       "    .dataframe tbody tr th:only-of-type {\n",
       "        vertical-align: middle;\n",
       "    }\n",
       "\n",
       "    .dataframe tbody tr th {\n",
       "        vertical-align: top;\n",
       "    }\n",
       "\n",
       "    .dataframe thead th {\n",
       "        text-align: right;\n",
       "    }\n",
       "</style>\n",
       "<table border=\"1\" class=\"dataframe\">\n",
       "  <thead>\n",
       "    <tr style=\"text-align: right;\">\n",
       "      <th></th>\n",
       "      <th>Forecasted_value</th>\n",
       "      <th>Forecasted_value</th>\n",
       "      <th>Forecasted_value</th>\n",
       "      <th>Forecasted_value</th>\n",
       "      <th>Forecasted_value</th>\n",
       "      <th>Forecasted_value</th>\n",
       "      <th>Forecasted_value</th>\n",
       "      <th>Forecasted_value</th>\n",
       "      <th>Forecasted_value</th>\n",
       "      <th>Forecasted_value</th>\n",
       "      <th>...</th>\n",
       "      <th>Forecasted_value</th>\n",
       "      <th>Forecasted_value</th>\n",
       "      <th>Forecasted_value</th>\n",
       "      <th>Forecasted_value</th>\n",
       "      <th>Forecasted_value</th>\n",
       "      <th>Forecasted_value</th>\n",
       "      <th>Forecasted_value</th>\n",
       "      <th>Forecasted_value</th>\n",
       "      <th>Forecasted_value</th>\n",
       "      <th>Forecasted_value</th>\n",
       "    </tr>\n",
       "  </thead>\n",
       "  <tbody>\n",
       "    <tr>\n",
       "      <th>0</th>\n",
       "      <td>-0.010998</td>\n",
       "      <td>-0.011643</td>\n",
       "      <td>-0.006414</td>\n",
       "      <td>0.023325</td>\n",
       "      <td>0.359769</td>\n",
       "      <td>0.085784</td>\n",
       "      <td>-0.003452</td>\n",
       "      <td>-0.009340</td>\n",
       "      <td>-0.005030</td>\n",
       "      <td>-0.006376</td>\n",
       "      <td>...</td>\n",
       "      <td>0.015231</td>\n",
       "      <td>0.085423</td>\n",
       "      <td>0.063891</td>\n",
       "      <td>-0.019615</td>\n",
       "      <td>0.055475</td>\n",
       "      <td>-0.006913</td>\n",
       "      <td>-0.012913</td>\n",
       "      <td>-0.003962</td>\n",
       "      <td>0.003828</td>\n",
       "      <td>0.042796</td>\n",
       "    </tr>\n",
       "    <tr>\n",
       "      <th>1</th>\n",
       "      <td>-0.000721</td>\n",
       "      <td>-0.023647</td>\n",
       "      <td>-0.009768</td>\n",
       "      <td>0.034729</td>\n",
       "      <td>0.326838</td>\n",
       "      <td>0.077315</td>\n",
       "      <td>0.024649</td>\n",
       "      <td>-0.003325</td>\n",
       "      <td>-0.001867</td>\n",
       "      <td>-0.007821</td>\n",
       "      <td>...</td>\n",
       "      <td>0.005426</td>\n",
       "      <td>0.051603</td>\n",
       "      <td>0.019843</td>\n",
       "      <td>0.000503</td>\n",
       "      <td>0.018011</td>\n",
       "      <td>0.004075</td>\n",
       "      <td>-0.003649</td>\n",
       "      <td>-0.001442</td>\n",
       "      <td>0.005202</td>\n",
       "      <td>-0.028693</td>\n",
       "    </tr>\n",
       "    <tr>\n",
       "      <th>2</th>\n",
       "      <td>-0.011149</td>\n",
       "      <td>-0.010090</td>\n",
       "      <td>-0.004340</td>\n",
       "      <td>0.012499</td>\n",
       "      <td>0.276074</td>\n",
       "      <td>0.095802</td>\n",
       "      <td>0.003221</td>\n",
       "      <td>-0.003906</td>\n",
       "      <td>-0.002777</td>\n",
       "      <td>-0.005765</td>\n",
       "      <td>...</td>\n",
       "      <td>0.017887</td>\n",
       "      <td>0.051075</td>\n",
       "      <td>0.020410</td>\n",
       "      <td>-0.012496</td>\n",
       "      <td>-0.001857</td>\n",
       "      <td>0.001727</td>\n",
       "      <td>-0.006277</td>\n",
       "      <td>-0.007802</td>\n",
       "      <td>-0.010080</td>\n",
       "      <td>-0.018540</td>\n",
       "    </tr>\n",
       "    <tr>\n",
       "      <th>3</th>\n",
       "      <td>0.002515</td>\n",
       "      <td>0.000202</td>\n",
       "      <td>-0.000347</td>\n",
       "      <td>0.004633</td>\n",
       "      <td>0.507274</td>\n",
       "      <td>0.015806</td>\n",
       "      <td>0.015834</td>\n",
       "      <td>0.012237</td>\n",
       "      <td>0.010763</td>\n",
       "      <td>-0.007904</td>\n",
       "      <td>...</td>\n",
       "      <td>0.030339</td>\n",
       "      <td>0.066432</td>\n",
       "      <td>0.152476</td>\n",
       "      <td>-0.010982</td>\n",
       "      <td>-0.003323</td>\n",
       "      <td>-0.002476</td>\n",
       "      <td>-0.004761</td>\n",
       "      <td>-0.000397</td>\n",
       "      <td>0.002860</td>\n",
       "      <td>-0.011269</td>\n",
       "    </tr>\n",
       "    <tr>\n",
       "      <th>4</th>\n",
       "      <td>0.002833</td>\n",
       "      <td>-0.004347</td>\n",
       "      <td>-0.000890</td>\n",
       "      <td>0.019138</td>\n",
       "      <td>0.546838</td>\n",
       "      <td>-0.036351</td>\n",
       "      <td>0.018168</td>\n",
       "      <td>0.005838</td>\n",
       "      <td>-0.000167</td>\n",
       "      <td>-0.006504</td>\n",
       "      <td>...</td>\n",
       "      <td>0.020841</td>\n",
       "      <td>0.043555</td>\n",
       "      <td>0.166098</td>\n",
       "      <td>-0.012431</td>\n",
       "      <td>0.008417</td>\n",
       "      <td>0.000529</td>\n",
       "      <td>-0.004685</td>\n",
       "      <td>0.003818</td>\n",
       "      <td>-0.005385</td>\n",
       "      <td>-0.002848</td>\n",
       "    </tr>\n",
       "    <tr>\n",
       "      <th>5</th>\n",
       "      <td>0.003625</td>\n",
       "      <td>0.002313</td>\n",
       "      <td>0.005589</td>\n",
       "      <td>0.000649</td>\n",
       "      <td>0.461176</td>\n",
       "      <td>0.052071</td>\n",
       "      <td>0.017792</td>\n",
       "      <td>0.011990</td>\n",
       "      <td>0.006949</td>\n",
       "      <td>-0.002351</td>\n",
       "      <td>...</td>\n",
       "      <td>0.018577</td>\n",
       "      <td>0.045580</td>\n",
       "      <td>0.093939</td>\n",
       "      <td>0.003351</td>\n",
       "      <td>-0.004479</td>\n",
       "      <td>0.006212</td>\n",
       "      <td>-0.001131</td>\n",
       "      <td>0.000810</td>\n",
       "      <td>0.003888</td>\n",
       "      <td>0.004258</td>\n",
       "    </tr>\n",
       "    <tr>\n",
       "      <th>6</th>\n",
       "      <td>-0.003240</td>\n",
       "      <td>-0.006353</td>\n",
       "      <td>-0.003254</td>\n",
       "      <td>-0.009379</td>\n",
       "      <td>0.530947</td>\n",
       "      <td>0.051836</td>\n",
       "      <td>0.012774</td>\n",
       "      <td>0.004388</td>\n",
       "      <td>0.002253</td>\n",
       "      <td>-0.007793</td>\n",
       "      <td>...</td>\n",
       "      <td>0.020490</td>\n",
       "      <td>0.022085</td>\n",
       "      <td>0.092230</td>\n",
       "      <td>0.002235</td>\n",
       "      <td>-0.013549</td>\n",
       "      <td>-0.000399</td>\n",
       "      <td>-0.003655</td>\n",
       "      <td>-0.003343</td>\n",
       "      <td>-0.001818</td>\n",
       "      <td>-0.007762</td>\n",
       "    </tr>\n",
       "  </tbody>\n",
       "</table>\n",
       "<p>7 rows × 910 columns</p>\n",
       "</div>"
      ],
      "text/plain": [
       "   Forecasted_value  Forecasted_value  Forecasted_value  Forecasted_value  \\\n",
       "0         -0.010998         -0.011643         -0.006414          0.023325   \n",
       "1         -0.000721         -0.023647         -0.009768          0.034729   \n",
       "2         -0.011149         -0.010090         -0.004340          0.012499   \n",
       "3          0.002515          0.000202         -0.000347          0.004633   \n",
       "4          0.002833         -0.004347         -0.000890          0.019138   \n",
       "5          0.003625          0.002313          0.005589          0.000649   \n",
       "6         -0.003240         -0.006353         -0.003254         -0.009379   \n",
       "\n",
       "   Forecasted_value  Forecasted_value  Forecasted_value  Forecasted_value  \\\n",
       "0          0.359769          0.085784         -0.003452         -0.009340   \n",
       "1          0.326838          0.077315          0.024649         -0.003325   \n",
       "2          0.276074          0.095802          0.003221         -0.003906   \n",
       "3          0.507274          0.015806          0.015834          0.012237   \n",
       "4          0.546838         -0.036351          0.018168          0.005838   \n",
       "5          0.461176          0.052071          0.017792          0.011990   \n",
       "6          0.530947          0.051836          0.012774          0.004388   \n",
       "\n",
       "   Forecasted_value  Forecasted_value  ...  Forecasted_value  \\\n",
       "0         -0.005030         -0.006376  ...          0.015231   \n",
       "1         -0.001867         -0.007821  ...          0.005426   \n",
       "2         -0.002777         -0.005765  ...          0.017887   \n",
       "3          0.010763         -0.007904  ...          0.030339   \n",
       "4         -0.000167         -0.006504  ...          0.020841   \n",
       "5          0.006949         -0.002351  ...          0.018577   \n",
       "6          0.002253         -0.007793  ...          0.020490   \n",
       "\n",
       "   Forecasted_value  Forecasted_value  Forecasted_value  Forecasted_value  \\\n",
       "0          0.085423          0.063891         -0.019615          0.055475   \n",
       "1          0.051603          0.019843          0.000503          0.018011   \n",
       "2          0.051075          0.020410         -0.012496         -0.001857   \n",
       "3          0.066432          0.152476         -0.010982         -0.003323   \n",
       "4          0.043555          0.166098         -0.012431          0.008417   \n",
       "5          0.045580          0.093939          0.003351         -0.004479   \n",
       "6          0.022085          0.092230          0.002235         -0.013549   \n",
       "\n",
       "   Forecasted_value  Forecasted_value  Forecasted_value  Forecasted_value  \\\n",
       "0         -0.006913         -0.012913         -0.003962          0.003828   \n",
       "1          0.004075         -0.003649         -0.001442          0.005202   \n",
       "2          0.001727         -0.006277         -0.007802         -0.010080   \n",
       "3         -0.002476         -0.004761         -0.000397          0.002860   \n",
       "4          0.000529         -0.004685          0.003818         -0.005385   \n",
       "5          0.006212         -0.001131          0.000810          0.003888   \n",
       "6         -0.000399         -0.003655         -0.003343         -0.001818   \n",
       "\n",
       "   Forecasted_value  \n",
       "0          0.042796  \n",
       "1         -0.028693  \n",
       "2         -0.018540  \n",
       "3         -0.011269  \n",
       "4         -0.002848  \n",
       "5          0.004258  \n",
       "6         -0.007762  \n",
       "\n",
       "[7 rows x 910 columns]"
      ]
     },
     "execution_count": 29,
     "metadata": {},
     "output_type": "execute_result"
    }
   ],
   "source": [
    "exp_forecasted"
   ]
  },
  {
   "cell_type": "code",
   "execution_count": 30,
   "id": "cdc66bd6-b552-4dcd-9703-e07b035fb736",
   "metadata": {},
   "outputs": [],
   "source": [
    "# set the values to 0 if the forecasted count is negative?"
   ]
  },
  {
   "cell_type": "code",
   "execution_count": 31,
   "id": "56eddb77-a48e-409d-9684-10bb31132568",
   "metadata": {},
   "outputs": [],
   "source": [
    "exp_forecasted[exp_forecasted < 0] = 0"
   ]
  },
  {
   "cell_type": "code",
   "execution_count": 32,
   "id": "c96eedde-fcfa-4f54-b8cb-d5f5cb3d6493",
   "metadata": {},
   "outputs": [
    {
     "data": {
      "text/html": [
       "<div>\n",
       "<style scoped>\n",
       "    .dataframe tbody tr th:only-of-type {\n",
       "        vertical-align: middle;\n",
       "    }\n",
       "\n",
       "    .dataframe tbody tr th {\n",
       "        vertical-align: top;\n",
       "    }\n",
       "\n",
       "    .dataframe thead th {\n",
       "        text-align: right;\n",
       "    }\n",
       "</style>\n",
       "<table border=\"1\" class=\"dataframe\">\n",
       "  <thead>\n",
       "    <tr style=\"text-align: right;\">\n",
       "      <th></th>\n",
       "      <th>Forecasted_value</th>\n",
       "      <th>Forecasted_value</th>\n",
       "      <th>Forecasted_value</th>\n",
       "      <th>Forecasted_value</th>\n",
       "      <th>Forecasted_value</th>\n",
       "      <th>Forecasted_value</th>\n",
       "      <th>Forecasted_value</th>\n",
       "      <th>Forecasted_value</th>\n",
       "      <th>Forecasted_value</th>\n",
       "      <th>Forecasted_value</th>\n",
       "      <th>...</th>\n",
       "      <th>Forecasted_value</th>\n",
       "      <th>Forecasted_value</th>\n",
       "      <th>Forecasted_value</th>\n",
       "      <th>Forecasted_value</th>\n",
       "      <th>Forecasted_value</th>\n",
       "      <th>Forecasted_value</th>\n",
       "      <th>Forecasted_value</th>\n",
       "      <th>Forecasted_value</th>\n",
       "      <th>Forecasted_value</th>\n",
       "      <th>Forecasted_value</th>\n",
       "    </tr>\n",
       "  </thead>\n",
       "  <tbody>\n",
       "    <tr>\n",
       "      <th>0</th>\n",
       "      <td>0.000000</td>\n",
       "      <td>0.000000</td>\n",
       "      <td>0.0</td>\n",
       "      <td>0.023325</td>\n",
       "      <td>0.359769</td>\n",
       "      <td>0.085784</td>\n",
       "      <td>0.000000</td>\n",
       "      <td>0.000000</td>\n",
       "      <td>0.000000</td>\n",
       "      <td>0.0</td>\n",
       "      <td>...</td>\n",
       "      <td>0.015231</td>\n",
       "      <td>0.085423</td>\n",
       "      <td>0.063891</td>\n",
       "      <td>0.000000</td>\n",
       "      <td>0.055475</td>\n",
       "      <td>0.000000</td>\n",
       "      <td>0.0</td>\n",
       "      <td>0.000000</td>\n",
       "      <td>0.003828</td>\n",
       "      <td>0.042796</td>\n",
       "    </tr>\n",
       "    <tr>\n",
       "      <th>1</th>\n",
       "      <td>0.000000</td>\n",
       "      <td>0.000000</td>\n",
       "      <td>0.0</td>\n",
       "      <td>0.034729</td>\n",
       "      <td>0.326838</td>\n",
       "      <td>0.077315</td>\n",
       "      <td>0.024649</td>\n",
       "      <td>0.000000</td>\n",
       "      <td>0.000000</td>\n",
       "      <td>0.0</td>\n",
       "      <td>...</td>\n",
       "      <td>0.005426</td>\n",
       "      <td>0.051603</td>\n",
       "      <td>0.019843</td>\n",
       "      <td>0.000503</td>\n",
       "      <td>0.018011</td>\n",
       "      <td>0.004075</td>\n",
       "      <td>0.0</td>\n",
       "      <td>0.000000</td>\n",
       "      <td>0.005202</td>\n",
       "      <td>0.000000</td>\n",
       "    </tr>\n",
       "    <tr>\n",
       "      <th>2</th>\n",
       "      <td>0.000000</td>\n",
       "      <td>0.000000</td>\n",
       "      <td>0.0</td>\n",
       "      <td>0.012499</td>\n",
       "      <td>0.276074</td>\n",
       "      <td>0.095802</td>\n",
       "      <td>0.003221</td>\n",
       "      <td>0.000000</td>\n",
       "      <td>0.000000</td>\n",
       "      <td>0.0</td>\n",
       "      <td>...</td>\n",
       "      <td>0.017887</td>\n",
       "      <td>0.051075</td>\n",
       "      <td>0.020410</td>\n",
       "      <td>0.000000</td>\n",
       "      <td>0.000000</td>\n",
       "      <td>0.001727</td>\n",
       "      <td>0.0</td>\n",
       "      <td>0.000000</td>\n",
       "      <td>0.000000</td>\n",
       "      <td>0.000000</td>\n",
       "    </tr>\n",
       "    <tr>\n",
       "      <th>3</th>\n",
       "      <td>0.002515</td>\n",
       "      <td>0.000202</td>\n",
       "      <td>0.0</td>\n",
       "      <td>0.004633</td>\n",
       "      <td>0.507274</td>\n",
       "      <td>0.015806</td>\n",
       "      <td>0.015834</td>\n",
       "      <td>0.012237</td>\n",
       "      <td>0.010763</td>\n",
       "      <td>0.0</td>\n",
       "      <td>...</td>\n",
       "      <td>0.030339</td>\n",
       "      <td>0.066432</td>\n",
       "      <td>0.152476</td>\n",
       "      <td>0.000000</td>\n",
       "      <td>0.000000</td>\n",
       "      <td>0.000000</td>\n",
       "      <td>0.0</td>\n",
       "      <td>0.000000</td>\n",
       "      <td>0.002860</td>\n",
       "      <td>0.000000</td>\n",
       "    </tr>\n",
       "    <tr>\n",
       "      <th>4</th>\n",
       "      <td>0.002833</td>\n",
       "      <td>0.000000</td>\n",
       "      <td>0.0</td>\n",
       "      <td>0.019138</td>\n",
       "      <td>0.546838</td>\n",
       "      <td>0.000000</td>\n",
       "      <td>0.018168</td>\n",
       "      <td>0.005838</td>\n",
       "      <td>0.000000</td>\n",
       "      <td>0.0</td>\n",
       "      <td>...</td>\n",
       "      <td>0.020841</td>\n",
       "      <td>0.043555</td>\n",
       "      <td>0.166098</td>\n",
       "      <td>0.000000</td>\n",
       "      <td>0.008417</td>\n",
       "      <td>0.000529</td>\n",
       "      <td>0.0</td>\n",
       "      <td>0.003818</td>\n",
       "      <td>0.000000</td>\n",
       "      <td>0.000000</td>\n",
       "    </tr>\n",
       "  </tbody>\n",
       "</table>\n",
       "<p>5 rows × 910 columns</p>\n",
       "</div>"
      ],
      "text/plain": [
       "   Forecasted_value  Forecasted_value  Forecasted_value  Forecasted_value  \\\n",
       "0          0.000000          0.000000               0.0          0.023325   \n",
       "1          0.000000          0.000000               0.0          0.034729   \n",
       "2          0.000000          0.000000               0.0          0.012499   \n",
       "3          0.002515          0.000202               0.0          0.004633   \n",
       "4          0.002833          0.000000               0.0          0.019138   \n",
       "\n",
       "   Forecasted_value  Forecasted_value  Forecasted_value  Forecasted_value  \\\n",
       "0          0.359769          0.085784          0.000000          0.000000   \n",
       "1          0.326838          0.077315          0.024649          0.000000   \n",
       "2          0.276074          0.095802          0.003221          0.000000   \n",
       "3          0.507274          0.015806          0.015834          0.012237   \n",
       "4          0.546838          0.000000          0.018168          0.005838   \n",
       "\n",
       "   Forecasted_value  Forecasted_value  ...  Forecasted_value  \\\n",
       "0          0.000000               0.0  ...          0.015231   \n",
       "1          0.000000               0.0  ...          0.005426   \n",
       "2          0.000000               0.0  ...          0.017887   \n",
       "3          0.010763               0.0  ...          0.030339   \n",
       "4          0.000000               0.0  ...          0.020841   \n",
       "\n",
       "   Forecasted_value  Forecasted_value  Forecasted_value  Forecasted_value  \\\n",
       "0          0.085423          0.063891          0.000000          0.055475   \n",
       "1          0.051603          0.019843          0.000503          0.018011   \n",
       "2          0.051075          0.020410          0.000000          0.000000   \n",
       "3          0.066432          0.152476          0.000000          0.000000   \n",
       "4          0.043555          0.166098          0.000000          0.008417   \n",
       "\n",
       "   Forecasted_value  Forecasted_value  Forecasted_value  Forecasted_value  \\\n",
       "0          0.000000               0.0          0.000000          0.003828   \n",
       "1          0.004075               0.0          0.000000          0.005202   \n",
       "2          0.001727               0.0          0.000000          0.000000   \n",
       "3          0.000000               0.0          0.000000          0.002860   \n",
       "4          0.000529               0.0          0.003818          0.000000   \n",
       "\n",
       "   Forecasted_value  \n",
       "0          0.042796  \n",
       "1          0.000000  \n",
       "2          0.000000  \n",
       "3          0.000000  \n",
       "4          0.000000  \n",
       "\n",
       "[5 rows x 910 columns]"
      ]
     },
     "execution_count": 32,
     "metadata": {},
     "output_type": "execute_result"
    }
   ],
   "source": [
    "exp_forecasted.head()"
   ]
  },
  {
   "cell_type": "code",
   "execution_count": 33,
   "id": "92bcf82f-ca31-4b25-a919-c8d51d72cfa7",
   "metadata": {},
   "outputs": [],
   "source": [
    "sum_forecasted_values = exp_forecasted.sum(axis = 1)"
   ]
  },
  {
   "cell_type": "code",
   "execution_count": 34,
   "id": "7f0e1119-a3bd-4a52-ae36-afa2c2070e2b",
   "metadata": {},
   "outputs": [
    {
     "data": {
      "text/plain": [
       "0    26.563293\n",
       "1    26.964180\n",
       "2    28.537070\n",
       "3    25.175956\n",
       "4    22.574472\n",
       "5    28.233648\n",
       "6    26.180245\n",
       "dtype: float64"
      ]
     },
     "execution_count": 34,
     "metadata": {},
     "output_type": "execute_result"
    }
   ],
   "source": [
    "sum_forecasted_values"
   ]
  },
  {
   "cell_type": "code",
   "execution_count": 35,
   "id": "cbc06a7e-2dca-400d-9cea-d063c33a4442",
   "metadata": {},
   "outputs": [],
   "source": [
    "# concatenate the sum dataframes\n",
    "block_0106_true_and_forecasted_values_df = pd.concat((sum_true_values, sum_forecasted_values), axis = 1)"
   ]
  },
  {
   "cell_type": "code",
   "execution_count": 36,
   "id": "f667f3a6-d7f7-4e7c-a037-1e9541dd38bd",
   "metadata": {},
   "outputs": [],
   "source": [
    "block_0106_true_and_forecasted_values_df.columns = [\"True_count\", \"Forecasted_count\"]"
   ]
  },
  {
   "cell_type": "code",
   "execution_count": 37,
   "id": "d27b93db-c9e2-49ff-9003-9e4925de3179",
   "metadata": {},
   "outputs": [
    {
     "data": {
      "text/html": [
       "<div>\n",
       "<style scoped>\n",
       "    .dataframe tbody tr th:only-of-type {\n",
       "        vertical-align: middle;\n",
       "    }\n",
       "\n",
       "    .dataframe tbody tr th {\n",
       "        vertical-align: top;\n",
       "    }\n",
       "\n",
       "    .dataframe thead th {\n",
       "        text-align: right;\n",
       "    }\n",
       "</style>\n",
       "<table border=\"1\" class=\"dataframe\">\n",
       "  <thead>\n",
       "    <tr style=\"text-align: right;\">\n",
       "      <th></th>\n",
       "      <th>True_count</th>\n",
       "      <th>Forecasted_count</th>\n",
       "    </tr>\n",
       "  </thead>\n",
       "  <tbody>\n",
       "    <tr>\n",
       "      <th>0</th>\n",
       "      <td>38.999667</td>\n",
       "      <td>26.563293</td>\n",
       "    </tr>\n",
       "    <tr>\n",
       "      <th>1</th>\n",
       "      <td>38.999989</td>\n",
       "      <td>26.964180</td>\n",
       "    </tr>\n",
       "    <tr>\n",
       "      <th>2</th>\n",
       "      <td>45.000000</td>\n",
       "      <td>28.537070</td>\n",
       "    </tr>\n",
       "    <tr>\n",
       "      <th>3</th>\n",
       "      <td>39.986887</td>\n",
       "      <td>25.175956</td>\n",
       "    </tr>\n",
       "    <tr>\n",
       "      <th>4</th>\n",
       "      <td>42.999997</td>\n",
       "      <td>22.574472</td>\n",
       "    </tr>\n",
       "    <tr>\n",
       "      <th>5</th>\n",
       "      <td>47.996502</td>\n",
       "      <td>28.233648</td>\n",
       "    </tr>\n",
       "    <tr>\n",
       "      <th>6</th>\n",
       "      <td>38.000000</td>\n",
       "      <td>26.180245</td>\n",
       "    </tr>\n",
       "  </tbody>\n",
       "</table>\n",
       "</div>"
      ],
      "text/plain": [
       "   True_count  Forecasted_count\n",
       "0   38.999667         26.563293\n",
       "1   38.999989         26.964180\n",
       "2   45.000000         28.537070\n",
       "3   39.986887         25.175956\n",
       "4   42.999997         22.574472\n",
       "5   47.996502         28.233648\n",
       "6   38.000000         26.180245"
      ]
     },
     "execution_count": 37,
     "metadata": {},
     "output_type": "execute_result"
    }
   ],
   "source": [
    "block_0106_true_and_forecasted_values_df"
   ]
  },
  {
   "cell_type": "code",
   "execution_count": 38,
   "id": "636d512d-f76b-48dc-90f1-872dc6a32736",
   "metadata": {},
   "outputs": [
    {
     "data": {
      "text/plain": [
       "15.75434136125097"
      ]
     },
     "execution_count": 38,
     "metadata": {},
     "output_type": "execute_result"
    }
   ],
   "source": [
    "# blockwise mean squared error\n",
    "rmse = np.sqrt(mean_squared_error(sum_true_values, sum_forecasted_values))\n",
    "rmse"
   ]
  },
  {
   "cell_type": "code",
   "execution_count": 39,
   "id": "df568443-7d02-4ba8-ad0e-5d83f2576c8b",
   "metadata": {},
   "outputs": [
    {
     "data": {
      "text/plain": [
       "15.393453908270635"
      ]
     },
     "execution_count": 39,
     "metadata": {},
     "output_type": "execute_result"
    }
   ],
   "source": [
    "# blockwise mean absolute error\n",
    "mae = mean_absolute_error(sum_true_values, sum_forecasted_values)\n",
    "mae"
   ]
  },
  {
   "cell_type": "code",
   "execution_count": 40,
   "id": "24d1568b-1b0d-41db-a60b-cd864b46d6e7",
   "metadata": {},
   "outputs": [
    {
     "data": {
      "text/plain": [
       "PearsonRResult(statistic=0.3230254820884732, pvalue=0.4797721075793765)"
      ]
     },
     "execution_count": 40,
     "metadata": {},
     "output_type": "execute_result"
    }
   ],
   "source": [
    "corr = pearsonr(sum_true_values, sum_forecasted_values)\n",
    "corr"
   ]
  },
  {
   "cell_type": "code",
   "execution_count": 41,
   "id": "cf8101a2-be23-4216-afd7-f7783e56f62d",
   "metadata": {},
   "outputs": [
    {
     "data": {
      "text/plain": [
       "-19.824194709613256"
      ]
     },
     "execution_count": 41,
     "metadata": {},
     "output_type": "execute_result"
    }
   ],
   "source": [
    "r2 = r2_score(sum_true_values, sum_forecasted_values)\n",
    "r2"
   ]
  },
  {
   "cell_type": "markdown",
   "id": "fa460e4d-2fdc-45fb-8f50-6a50b0a6ef13",
   "metadata": {},
   "source": [
    "##### Coverages and widths for the forecasted values?"
   ]
  },
  {
   "cell_type": "code",
   "execution_count": 42,
   "id": "eae4e334-d06f-4950-b09e-ec34cb4f3eba",
   "metadata": {},
   "outputs": [],
   "source": [
    "# for this we need the all_forecasts npy files"
   ]
  },
  {
   "cell_type": "code",
   "execution_count": 43,
   "id": "1ec4f3fa-b7b0-4064-9007-4230b0e64f72",
   "metadata": {},
   "outputs": [],
   "source": [
    "# content location is the same path as above"
   ]
  },
  {
   "cell_type": "code",
   "execution_count": 44,
   "id": "febb8655-c529-4099-b22e-ee36918188d5",
   "metadata": {},
   "outputs": [],
   "source": [
    "all_forecasts_npy_files = ['all_forecasts_sub_' + str(i) + '.npy' for i in range(910)]"
   ]
  },
  {
   "cell_type": "code",
   "execution_count": 45,
   "id": "11eba5f0-5a18-4d7d-a743-d57bc9cf93a4",
   "metadata": {},
   "outputs": [],
   "source": [
    "# all_forecasts_npy_files"
   ]
  },
  {
   "cell_type": "code",
   "execution_count": 46,
   "id": "7711dd37-fd3c-4ac8-b8ae-b4be59dff7fa",
   "metadata": {},
   "outputs": [],
   "source": [
    "# load the npy files"
   ]
  },
  {
   "cell_type": "code",
   "execution_count": 47,
   "id": "57f059e1-25b1-4e6d-b370-9ca0236848ea",
   "metadata": {},
   "outputs": [
    {
     "name": "stdout",
     "output_type": "stream",
     "text": [
      "CPU times: user 256 ms, sys: 74.8 ms, total: 331 ms\n",
      "Wall time: 332 ms\n"
     ]
    }
   ],
   "source": [
    "%%time\n",
    "loaded_npy_files = []\n",
    "for file in all_forecasts_npy_files:\n",
    "    joined_path = os.path.join(path_to_dfs, file)\n",
    "    load_file = np.load(joined_path)\n",
    "    # notice we are averaging the preds across the chains before exponentiation\n",
    "    mean_file = np.exp(np.mean(load_file, axis = 1)) - 1\n",
    "    loaded_npy_files.append(mean_file)"
   ]
  },
  {
   "cell_type": "code",
   "execution_count": 48,
   "id": "78d4c420-8e99-4103-881e-297bc81f909d",
   "metadata": {},
   "outputs": [
    {
     "data": {
      "text/plain": [
       "910"
      ]
     },
     "execution_count": 48,
     "metadata": {},
     "output_type": "execute_result"
    }
   ],
   "source": [
    "len(loaded_npy_files)"
   ]
  },
  {
   "cell_type": "code",
   "execution_count": 49,
   "id": "3cc8627a-822a-4c8e-898a-52957870ccde",
   "metadata": {},
   "outputs": [
    {
     "data": {
      "text/plain": [
       "(1000, 7)"
      ]
     },
     "execution_count": 49,
     "metadata": {},
     "output_type": "execute_result"
    }
   ],
   "source": [
    "loaded_npy_files[0].shape"
   ]
  },
  {
   "cell_type": "code",
   "execution_count": 50,
   "id": "ab72ca92-e8f1-4ce3-9cea-117b673d4529",
   "metadata": {},
   "outputs": [
    {
     "data": {
      "text/plain": [
       "array([[-0.01343334,  0.00224161, -0.01063454, ...,  0.0073663 ,\n",
       "         0.00793016, -0.00362611],\n",
       "       [-0.01031202,  0.00549102, -0.0115692 , ...,  0.00695002,\n",
       "         0.00533545, -0.00388336],\n",
       "       [-0.01039678,  0.00322199, -0.01261729, ...,  0.00754476,\n",
       "         0.00687826, -0.00493443],\n",
       "       ...,\n",
       "       [-0.01406413,  0.00082791, -0.0073514 , ...,  0.00721633,\n",
       "         0.00339031, -0.0020467 ],\n",
       "       [-0.01400518, -0.00017965, -0.00706047, ...,  0.00456023,\n",
       "         0.00338924, -0.0017727 ],\n",
       "       [-0.01382124,  0.00109005, -0.0083766 , ...,  0.00450182,\n",
       "         0.00357795, -0.00063652]], dtype=float32)"
      ]
     },
     "execution_count": 50,
     "metadata": {},
     "output_type": "execute_result"
    }
   ],
   "source": [
    "loaded_npy_files[0]"
   ]
  },
  {
   "cell_type": "code",
   "execution_count": 51,
   "id": "53dd5c88-918c-46a0-b5ae-cb7c75895741",
   "metadata": {},
   "outputs": [
    {
     "name": "stdout",
     "output_type": "stream",
     "text": [
      "CPU times: user 19.9 ms, sys: 608 µs, total: 20.5 ms\n",
      "Wall time: 19.9 ms\n"
     ]
    }
   ],
   "source": [
    "%%time\n",
    "# convert less than 0 entries to 0 for all arrays\n",
    "for arr in loaded_npy_files:\n",
    "    arr[arr < 0] = 0"
   ]
  },
  {
   "cell_type": "code",
   "execution_count": 52,
   "id": "b20d4662-eefc-41bc-ac0a-25d0613fa00c",
   "metadata": {},
   "outputs": [
    {
     "data": {
      "text/plain": [
       "array([[0.        , 0.00224161, 0.        , ..., 0.0073663 , 0.00793016,\n",
       "        0.        ],\n",
       "       [0.        , 0.00549102, 0.        , ..., 0.00695002, 0.00533545,\n",
       "        0.        ],\n",
       "       [0.        , 0.00322199, 0.        , ..., 0.00754476, 0.00687826,\n",
       "        0.        ],\n",
       "       ...,\n",
       "       [0.        , 0.00082791, 0.        , ..., 0.00721633, 0.00339031,\n",
       "        0.        ],\n",
       "       [0.        , 0.        , 0.        , ..., 0.00456023, 0.00338924,\n",
       "        0.        ],\n",
       "       [0.        , 0.00109005, 0.        , ..., 0.00450182, 0.00357795,\n",
       "        0.        ]], dtype=float32)"
      ]
     },
     "execution_count": 52,
     "metadata": {},
     "output_type": "execute_result"
    }
   ],
   "source": [
    "loaded_npy_files[0]"
   ]
  },
  {
   "cell_type": "code",
   "execution_count": 53,
   "id": "f2474bdb-3a79-4436-83b1-2b3c3ac24a5c",
   "metadata": {},
   "outputs": [],
   "source": [
    "# Since we do not have overlapping sub-windows, we can sum the counts to get the final densities\n",
    "output = sum(loaded_npy_files)"
   ]
  },
  {
   "cell_type": "code",
   "execution_count": 54,
   "id": "d9038206-4f90-4001-9c3c-aee27d7d610c",
   "metadata": {},
   "outputs": [
    {
     "data": {
      "text/plain": [
       "(1000, 7)"
      ]
     },
     "execution_count": 54,
     "metadata": {},
     "output_type": "execute_result"
    }
   ],
   "source": [
    "output.shape"
   ]
  },
  {
   "cell_type": "code",
   "execution_count": 55,
   "id": "6116babf-18f2-4e39-9a72-150ccc4e6387",
   "metadata": {},
   "outputs": [
    {
     "data": {
      "text/plain": [
       "array([[40.016663, 34.550472, 39.47803 , ..., 32.684345, 31.135914,\n",
       "        31.416279],\n",
       "       [32.425053, 31.903494, 33.925835, ..., 26.952904, 34.897423,\n",
       "        35.78412 ],\n",
       "       [45.302105, 40.62773 , 39.823013, ..., 44.87191 , 45.56542 ,\n",
       "        47.354824],\n",
       "       ...,\n",
       "       [31.899052, 34.374157, 37.110634, ..., 34.725193, 39.132458,\n",
       "        38.73843 ],\n",
       "       [33.069088, 34.854965, 45.563114, ..., 41.892334, 40.361828,\n",
       "        36.61063 ],\n",
       "       [32.969246, 39.508392, 44.03366 , ..., 36.912334, 47.145447,\n",
       "        42.88328 ]], dtype=float32)"
      ]
     },
     "execution_count": 55,
     "metadata": {},
     "output_type": "execute_result"
    }
   ],
   "source": [
    "output"
   ]
  },
  {
   "cell_type": "code",
   "execution_count": 56,
   "id": "fbac31f0-215b-4e8b-8c13-2cd85e76a70f",
   "metadata": {},
   "outputs": [],
   "source": [
    "# is this sum correct? alternative method of computing the sums\n",
    "output_alt = np.sum(loaded_npy_files, axis = 0)"
   ]
  },
  {
   "cell_type": "code",
   "execution_count": 57,
   "id": "1198a1a0-14fc-4101-b4af-14a2c26dc0c5",
   "metadata": {},
   "outputs": [
    {
     "data": {
      "text/plain": [
       "(1000, 7)"
      ]
     },
     "execution_count": 57,
     "metadata": {},
     "output_type": "execute_result"
    }
   ],
   "source": [
    "output_alt.shape"
   ]
  },
  {
   "cell_type": "code",
   "execution_count": 58,
   "id": "23c6ebbe-2c27-47ff-8a5f-86491e58d899",
   "metadata": {},
   "outputs": [
    {
     "data": {
      "text/plain": [
       "array([[40.016663, 34.550472, 39.47803 , ..., 32.684345, 31.135914,\n",
       "        31.416279],\n",
       "       [32.425053, 31.903494, 33.925835, ..., 26.952904, 34.897423,\n",
       "        35.78412 ],\n",
       "       [45.302105, 40.62773 , 39.823013, ..., 44.87191 , 45.56542 ,\n",
       "        47.354824],\n",
       "       ...,\n",
       "       [31.899052, 34.374157, 37.110634, ..., 34.725193, 39.132458,\n",
       "        38.73843 ],\n",
       "       [33.069088, 34.854965, 45.563114, ..., 41.892334, 40.361828,\n",
       "        36.61063 ],\n",
       "       [32.969246, 39.508392, 44.03366 , ..., 36.912334, 47.145447,\n",
       "        42.88328 ]], dtype=float32)"
      ]
     },
     "execution_count": 58,
     "metadata": {},
     "output_type": "execute_result"
    }
   ],
   "source": [
    "output_alt"
   ]
  },
  {
   "cell_type": "code",
   "execution_count": 59,
   "id": "7b4a8d85-fe98-49c3-9a9f-51fbd90c5174",
   "metadata": {},
   "outputs": [
    {
     "data": {
      "text/plain": [
       "1.0"
      ]
     },
     "execution_count": 59,
     "metadata": {},
     "output_type": "execute_result"
    }
   ],
   "source": [
    "np.mean(output_alt == output)"
   ]
  },
  {
   "cell_type": "code",
   "execution_count": 60,
   "id": "ba6418a3-03f4-475a-b552-55a08048311f",
   "metadata": {},
   "outputs": [],
   "source": [
    "# verified the sum is correct, let's get the widths and the coverages - and also any essential plots"
   ]
  },
  {
   "cell_type": "code",
   "execution_count": 61,
   "id": "ca61eabc-63ed-4b74-b20a-61521b3751a6",
   "metadata": {},
   "outputs": [],
   "source": [
    "# now we can get the 2.5th abd the 97.5th percentiles - to get the coverage and the widths of the CIS\n",
    "li_train = np.percentile(output, axis = 0, q = (2.5, 97.5))[0,:].reshape(-1,1)    \n",
    "ui_train = np.percentile(output, axis = 0, q = (2.5, 97.5))[1,:].reshape(-1,1)"
   ]
  },
  {
   "cell_type": "code",
   "execution_count": 62,
   "id": "9cad5cca-320d-4e70-b204-e4dc52fb9d6d",
   "metadata": {},
   "outputs": [
    {
     "data": {
      "text/plain": [
       "array([[23.84508204],\n",
       "       [23.1618804 ],\n",
       "       [22.67097864],\n",
       "       [21.89112988],\n",
       "       [20.60313721],\n",
       "       [23.91471844],\n",
       "       [22.78670325]])"
      ]
     },
     "execution_count": 62,
     "metadata": {},
     "output_type": "execute_result"
    }
   ],
   "source": [
    "li_train"
   ]
  },
  {
   "cell_type": "code",
   "execution_count": 63,
   "id": "4e669c1d-0916-4e77-92e2-a1b1879834aa",
   "metadata": {},
   "outputs": [
    {
     "data": {
      "text/plain": [
       "array([[43.65846605],\n",
       "       [42.32140617],\n",
       "       [45.11602736],\n",
       "       [44.53522472],\n",
       "       [42.8288785 ],\n",
       "       [46.74450102],\n",
       "       [48.86002026]])"
      ]
     },
     "execution_count": 63,
     "metadata": {},
     "output_type": "execute_result"
    }
   ],
   "source": [
    "ui_train"
   ]
  },
  {
   "cell_type": "code",
   "execution_count": 64,
   "id": "4d51a483-bfe5-4cc6-a31f-813cb83d5540",
   "metadata": {},
   "outputs": [],
   "source": [
    "width_train = ui_train - li_train\n",
    "avg_width_train = width_train.mean(0)[0]"
   ]
  },
  {
   "cell_type": "code",
   "execution_count": 65,
   "id": "37b163bb-b24c-4af2-8f2b-19c78eb24ff9",
   "metadata": {},
   "outputs": [
    {
     "data": {
      "text/plain": [
       "22.17012774603707"
      ]
     },
     "execution_count": 65,
     "metadata": {},
     "output_type": "execute_result"
    }
   ],
   "source": [
    "avg_width_train"
   ]
  },
  {
   "cell_type": "code",
   "execution_count": 66,
   "id": "46d652b2-05be-44f9-bf0d-3ff69ad25fed",
   "metadata": {},
   "outputs": [],
   "source": [
    "y_traina = block_0106_true_and_forecasted_values_df[[\"True_count\"]].values"
   ]
  },
  {
   "cell_type": "code",
   "execution_count": 67,
   "id": "053c0783-3289-4068-9999-948c0f985fa1",
   "metadata": {},
   "outputs": [
    {
     "data": {
      "text/plain": [
       "array([[38.99966683],\n",
       "       [38.99998931],\n",
       "       [44.99999976],\n",
       "       [39.98688736],\n",
       "       [42.99999732],\n",
       "       [47.99650174],\n",
       "       [37.99999993]])"
      ]
     },
     "execution_count": 67,
     "metadata": {},
     "output_type": "execute_result"
    }
   ],
   "source": [
    "y_traina"
   ]
  },
  {
   "cell_type": "code",
   "execution_count": 68,
   "id": "5f1ba54d-0aca-494d-b741-b2cd6d00fcb3",
   "metadata": {},
   "outputs": [],
   "source": [
    "ind_train = (y_traina >= li_train) & (y_traina <= ui_train)\n",
    "coverage_train= ind_train.mean(0)[0]"
   ]
  },
  {
   "cell_type": "code",
   "execution_count": 69,
   "id": "66d5a7c9-0400-4f6f-9221-9cb9c7860d3c",
   "metadata": {},
   "outputs": [
    {
     "data": {
      "text/plain": [
       "0.7142857142857143"
      ]
     },
     "execution_count": 69,
     "metadata": {},
     "output_type": "execute_result"
    }
   ],
   "source": [
    "coverage_train"
   ]
  },
  {
   "cell_type": "code",
   "execution_count": 70,
   "id": "ce86b870-01cf-4e10-904b-ef2396d2dc47",
   "metadata": {},
   "outputs": [
    {
     "data": {
      "text/plain": [
       "array([32.940754, 32.42305 , 33.468445, 32.748714, 30.592524, 34.72128 ,\n",
       "       33.96844 ], dtype=float32)"
      ]
     },
     "execution_count": 70,
     "metadata": {},
     "output_type": "execute_result"
    }
   ],
   "source": [
    "np.mean(output, axis = 0)"
   ]
  },
  {
   "cell_type": "code",
   "execution_count": 71,
   "id": "311beb4f-6347-407c-af9b-bfe285361098",
   "metadata": {},
   "outputs": [
    {
     "data": {
      "text/plain": [
       "0    26.563293\n",
       "1    26.964180\n",
       "2    28.537070\n",
       "3    25.175956\n",
       "4    22.574472\n",
       "5    28.233648\n",
       "6    26.180245\n",
       "dtype: float64"
      ]
     },
     "execution_count": 71,
     "metadata": {},
     "output_type": "execute_result"
    }
   ],
   "source": [
    "sum_forecasted_values"
   ]
  },
  {
   "cell_type": "code",
   "execution_count": 72,
   "id": "0f94ff2b-6606-477b-a3a7-c3841f436c56",
   "metadata": {},
   "outputs": [
    {
     "data": {
      "image/png": "[encoded data removed]",
      "text/plain": [
       "<Figure size 640x480 with 1 Axes>"
      ]
     },
     "metadata": {},
     "output_type": "display_data"
    }
   ],
   "source": [
    "plt.scatter(block_0106_true_and_forecasted_values_df['True_count'], block_0106_true_and_forecasted_values_df['Forecasted_count'])\n",
    "plt.xlabel(\"True density\")\n",
    "plt.ylabel(\"Predicted density\")\n",
    "# Add the y = x line\n",
    "plt.plot([25, 47], [25, 47], color='green', label='y = x')\n",
    "plt.legend()\n",
    "plt.show()"
   ]
  },
  {
   "cell_type": "code",
   "execution_count": 73,
   "id": "04aa778d-3203-493f-a8d5-6c42cd0c540a",
   "metadata": {},
   "outputs": [
    {
     "data": {
      "image/png": "[encoded data removed]",
      "text/plain": [
       "<Figure size 1500x2000 with 8 Axes>"
      ]
     },
     "metadata": {},
     "output_type": "display_data"
    },
    {
     "name": "stdout",
     "output_type": "stream",
     "text": [
      "CPU times: user 30.3 s, sys: 892 ms, total: 31.2 s\n",
      "Wall time: 30.8 s\n"
     ]
    }
   ],
   "source": [
    "%%time\n",
    "# Create a 2x4 grid of subplots (total 8 plots, the last one will be left empty)\n",
    "fig, axes = plt.subplots(4, 2, figsize=(15,20))\n",
    "axes = axes.flatten() \n",
    "\n",
    "# widths plots\n",
    "for i in range(7):\n",
    "    timestep_i_subwindows = []\n",
    "    for y, file in enumerate(loaded_npy_files):\n",
    "        t_i_forecast = file[:,i]\n",
    "        # print the shape of the extracted array\n",
    "        # print(t_i_forecast.shape)\n",
    "        timestep_i_subwindows.append(t_i_forecast)\n",
    "    stacked_forecasts = np.stack(timestep_i_subwindows)\n",
    "    stacked_forecasts[stacked_forecasts<0] = 0\n",
    "    sorted_stacked_forecasts = np.sort(stacked_forecasts, axis = 1)\n",
    "    # get the values between the 2.5th and 97.5th percentile?\n",
    "    sorted_interval_data = sorted_stacked_forecasts[:,25:975]\n",
    "\n",
    "    # Plot for the current 2D array\n",
    "    for l, row in enumerate(sorted_interval_data):\n",
    "        axes[i].plot([l + 1] * len(row), row, 'o', markersize=1, color='teal', label='Distribution of forecasted values' if l == 0 else \"\")\n",
    "    \n",
    "    true_counts = exp_true.iloc[i,:].values\n",
    "\n",
    "    # # Overlay the 1D array values\n",
    "    axes[i].plot(np.arange(1, 911), true_counts, 'o', markersize=1, color='red', label='True density')\n",
    "    \n",
    "    # Customize x-ticks and labels\n",
    "    axes[i].set_xticks(np.arange(1, 911))\n",
    "    # axes[i].set_xticklabels([f'sub_window_{zz + 1}' for zz in range(910)], rotation=90, fontsize=13)\n",
    "    axes[i].set_xlabel(\"Sub windows\", fontsize=12, fontweight='bold')\n",
    "    axes[i].set_ylabel(\"Forecasted and true densities\", fontsize=12, fontweight='bold')\n",
    "    axes[i].set_title(f\"Test image {i + 1}\", fontsize=12, fontweight='bold')\n",
    "    axes[i].legend()\n",
    "\n",
    "\n",
    "# Hide the last (empty) subplot\n",
    "axes[-1].set_visible(False)\n",
    "\n",
    "# Adjust layout\n",
    "plt.tight_layout()\n",
    "\n",
    "# # Save the figure as a PDF file\n",
    "# plt.savefig(\"Previous_data/Forecasted_distributions_blk13.pdf\", format='pdf', bbox_inches='tight')\n",
    "plt.show()\n",
    "\n"
   ]
  },
  {
   "cell_type": "code",
   "execution_count": 74,
   "id": "b51d6a01-5c7a-4e37-be12-776053974e4d",
   "metadata": {},
   "outputs": [],
   "source": [
    "# plots are going to be too over-crowded as we now have 910 subwindows - might beed to talk to Dr. Ghosh to figure out a better way to give these plots"
   ]
  },
  {
   "cell_type": "code",
   "execution_count": 75,
   "id": "c278c7bc-eced-4cbb-ab5c-b5156fe33612",
   "metadata": {},
   "outputs": [],
   "source": [
    "# we may need to re-think about the way the average forecasts were computed. Maybe get the average after exponentiating than averaging all values to a single value and then exponentiating? this would be a few lines of codes - but may be a better way to get the forecated density values? "
   ]
  }
 ],
 "metadata": {
  "kernelspec": {
   "display_name": "Python (tfp_cpu_env)",
   "language": "python",
   "name": "tfp_cpu_env"
  },
  "language_info": {
   "codemirror_mode": {
    "name": "ipython",
    "version": 3
   },
   "file_extension": ".py",
   "mimetype": "text/x-python",
   "name": "python",
   "nbconvert_exporter": "python",
   "pygments_lexer": "ipython3",
   "version": "3.11.7"
  }
 },
 "nbformat": 4,
 "nbformat_minor": 5
}
