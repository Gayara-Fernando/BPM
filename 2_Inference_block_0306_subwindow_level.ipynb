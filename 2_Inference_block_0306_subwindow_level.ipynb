{
 "cells": [
  {
   "cell_type": "code",
   "execution_count": 1,
   "id": "658db0bc-89f4-467b-831b-554c08cb3eeb",
   "metadata": {},
   "outputs": [],
   "source": [
    "# Okay, let's get the proper transformations, and also get all the predictions on a subwindow scale - Later as a proof of concept, we will separate the sequences with densities all zero and see how the predicted densities look like."
   ]
  },
  {
   "cell_type": "code",
   "execution_count": 2,
   "id": "53cabc2a-d2b8-4e33-84a0-6c8f552caf3f",
   "metadata": {},
   "outputs": [],
   "source": [
    "import pandas as pd\n",
    "import numpy as np\n",
    "import matplotlib.pyplot as plt \n",
    "import os\n",
    "from sklearn.metrics import mean_absolute_error, mean_squared_error, r2_score\n",
    "from scipy.stats import pearsonr"
   ]
  },
  {
   "cell_type": "code",
   "execution_count": 3,
   "id": "60a1f5b1-2e15-471d-a379-057566c05ccc",
   "metadata": {},
   "outputs": [],
   "source": [
    "# path to dataframes\n",
    "path_to_dfs = \"suggestion_2/forecasted_counts/block_0306\""
   ]
  },
  {
   "cell_type": "code",
   "execution_count": 4,
   "id": "ae71026b-360c-485d-8741-1766c956efd6",
   "metadata": {},
   "outputs": [
    {
     "data": {
      "text/plain": [
       "6370"
      ]
     },
     "execution_count": 4,
     "metadata": {},
     "output_type": "execute_result"
    }
   ],
   "source": [
    "len(os.listdir(path_to_dfs))"
   ]
  },
  {
   "cell_type": "code",
   "execution_count": 5,
   "id": "3b23384f-6325-4bc2-9700-240572b13745",
   "metadata": {},
   "outputs": [
    {
     "data": {
      "text/plain": [
       "7.0"
      ]
     },
     "execution_count": 5,
     "metadata": {},
     "output_type": "execute_result"
    }
   ],
   "source": [
    "len(os.listdir(path_to_dfs)) / 910"
   ]
  },
  {
   "cell_type": "code",
   "execution_count": 6,
   "id": "90d27344-d686-4672-9b01-ded72e5f24a8",
   "metadata": {},
   "outputs": [],
   "source": [
    "averaged_forecasts_csvs = []\n",
    "for file in os.listdir(path_to_dfs):\n",
    "    if file[:8] =='averaged':\n",
    "        averaged_forecasts_csvs.append(file)"
   ]
  },
  {
   "cell_type": "code",
   "execution_count": 7,
   "id": "fabd37ca-e1da-430a-b23a-4905d0247f9b",
   "metadata": {},
   "outputs": [
    {
     "data": {
      "text/plain": [
       "910"
      ]
     },
     "execution_count": 7,
     "metadata": {},
     "output_type": "execute_result"
    }
   ],
   "source": [
    "# how many csv files do we have?\n",
    "len(averaged_forecasts_csvs)"
   ]
  },
  {
   "cell_type": "code",
   "execution_count": 8,
   "id": "8c0af51f-8022-4186-b027-75dcbac9ab4c",
   "metadata": {},
   "outputs": [
    {
     "data": {
      "text/plain": [
       "'averaged_forecasts_sub_653.csv'"
      ]
     },
     "execution_count": 8,
     "metadata": {},
     "output_type": "execute_result"
    }
   ],
   "source": [
    "averaged_forecasts_csvs[0]"
   ]
  },
  {
   "cell_type": "code",
   "execution_count": 9,
   "id": "cf8d93c8-36d8-49d2-a213-2259381d61c0",
   "metadata": {},
   "outputs": [],
   "source": [
    "# let's create these names in the order of the subwindows\n",
    "ordered_csv_files = ['averaged_forecasts_sub_' + str(i) + '.csv' for i in range(910)]"
   ]
  },
  {
   "cell_type": "code",
   "execution_count": 10,
   "id": "3d7f4c02-45fa-4004-ae11-fdb0ebeb01ab",
   "metadata": {},
   "outputs": [],
   "source": [
    "# ordered_csv_files"
   ]
  },
  {
   "cell_type": "code",
   "execution_count": 11,
   "id": "bbdf82b7-cc66-4bc5-9a7a-a7c0bbe72881",
   "metadata": {},
   "outputs": [
    {
     "name": "stdout",
     "output_type": "stream",
     "text": [
      "CPU times: user 1.5 s, sys: 287 ms, total: 1.78 s\n",
      "Wall time: 24.6 s\n"
     ]
    }
   ],
   "source": [
    "%%time\n",
    "all_dfs = []\n",
    "for file in ordered_csv_files:\n",
    "    read_df = pd.read_csv(path_to_dfs + '/' + file)\n",
    "    all_dfs.append(read_df)"
   ]
  },
  {
   "cell_type": "code",
   "execution_count": 12,
   "id": "21c0f3b6-00be-4459-a845-b536a3b5999e",
   "metadata": {},
   "outputs": [],
   "source": [
    "# make a single dataframe out of the many\n",
    "combined_df = pd.concat(all_dfs, axis = 1)"
   ]
  },
  {
   "cell_type": "code",
   "execution_count": 13,
   "id": "c827d724-6545-4056-a577-c1714a322ed6",
   "metadata": {},
   "outputs": [
    {
     "data": {
      "text/html": [
       "<div>\n",
       "<style scoped>\n",
       "    .dataframe tbody tr th:only-of-type {\n",
       "        vertical-align: middle;\n",
       "    }\n",
       "\n",
       "    .dataframe tbody tr th {\n",
       "        vertical-align: top;\n",
       "    }\n",
       "\n",
       "    .dataframe thead th {\n",
       "        text-align: right;\n",
       "    }\n",
       "</style>\n",
       "<table border=\"1\" class=\"dataframe\">\n",
       "  <thead>\n",
       "    <tr style=\"text-align: right;\">\n",
       "      <th></th>\n",
       "      <th>True_value</th>\n",
       "      <th>Forecasted_value</th>\n",
       "      <th>True_value</th>\n",
       "      <th>Forecasted_value</th>\n",
       "      <th>True_value</th>\n",
       "      <th>Forecasted_value</th>\n",
       "      <th>True_value</th>\n",
       "      <th>Forecasted_value</th>\n",
       "      <th>True_value</th>\n",
       "      <th>Forecasted_value</th>\n",
       "      <th>...</th>\n",
       "      <th>True_value</th>\n",
       "      <th>Forecasted_value</th>\n",
       "      <th>True_value</th>\n",
       "      <th>Forecasted_value</th>\n",
       "      <th>True_value</th>\n",
       "      <th>Forecasted_value</th>\n",
       "      <th>True_value</th>\n",
       "      <th>Forecasted_value</th>\n",
       "      <th>True_value</th>\n",
       "      <th>Forecasted_value</th>\n",
       "    </tr>\n",
       "  </thead>\n",
       "  <tbody>\n",
       "    <tr>\n",
       "      <th>0</th>\n",
       "      <td>0.0</td>\n",
       "      <td>-0.002104</td>\n",
       "      <td>0.000000</td>\n",
       "      <td>-0.014936</td>\n",
       "      <td>0.079944</td>\n",
       "      <td>0.009612</td>\n",
       "      <td>4.965691e-01</td>\n",
       "      <td>0.017083</td>\n",
       "      <td>2.199685e-02</td>\n",
       "      <td>0.021788</td>\n",
       "      <td>...</td>\n",
       "      <td>0.0</td>\n",
       "      <td>-0.020438</td>\n",
       "      <td>0.0</td>\n",
       "      <td>-0.013717</td>\n",
       "      <td>0.0</td>\n",
       "      <td>-0.007816</td>\n",
       "      <td>0.0</td>\n",
       "      <td>0.010991</td>\n",
       "      <td>0.0</td>\n",
       "      <td>-0.003916</td>\n",
       "    </tr>\n",
       "    <tr>\n",
       "      <th>1</th>\n",
       "      <td>0.0</td>\n",
       "      <td>-0.001771</td>\n",
       "      <td>0.000000</td>\n",
       "      <td>-0.010660</td>\n",
       "      <td>0.000000</td>\n",
       "      <td>0.028674</td>\n",
       "      <td>3.283740e-10</td>\n",
       "      <td>0.098732</td>\n",
       "      <td>4.858496e-07</td>\n",
       "      <td>0.058199</td>\n",
       "      <td>...</td>\n",
       "      <td>0.0</td>\n",
       "      <td>-0.008659</td>\n",
       "      <td>0.0</td>\n",
       "      <td>-0.020182</td>\n",
       "      <td>0.0</td>\n",
       "      <td>-0.003206</td>\n",
       "      <td>0.0</td>\n",
       "      <td>0.008419</td>\n",
       "      <td>0.0</td>\n",
       "      <td>-0.001530</td>\n",
       "    </tr>\n",
       "    <tr>\n",
       "      <th>2</th>\n",
       "      <td>0.0</td>\n",
       "      <td>-0.004049</td>\n",
       "      <td>0.000000</td>\n",
       "      <td>-0.007311</td>\n",
       "      <td>0.000000</td>\n",
       "      <td>0.011491</td>\n",
       "      <td>3.668993e-05</td>\n",
       "      <td>0.160295</td>\n",
       "      <td>5.286380e-02</td>\n",
       "      <td>0.069989</td>\n",
       "      <td>...</td>\n",
       "      <td>0.0</td>\n",
       "      <td>-0.011963</td>\n",
       "      <td>0.0</td>\n",
       "      <td>-0.011995</td>\n",
       "      <td>0.0</td>\n",
       "      <td>-0.002446</td>\n",
       "      <td>0.0</td>\n",
       "      <td>0.004253</td>\n",
       "      <td>0.0</td>\n",
       "      <td>-0.001241</td>\n",
       "    </tr>\n",
       "    <tr>\n",
       "      <th>3</th>\n",
       "      <td>0.0</td>\n",
       "      <td>-0.000431</td>\n",
       "      <td>0.000000</td>\n",
       "      <td>-0.001807</td>\n",
       "      <td>0.000008</td>\n",
       "      <td>0.003084</td>\n",
       "      <td>1.466245e-04</td>\n",
       "      <td>0.198136</td>\n",
       "      <td>7.683623e-10</td>\n",
       "      <td>0.039466</td>\n",
       "      <td>...</td>\n",
       "      <td>0.0</td>\n",
       "      <td>0.001483</td>\n",
       "      <td>0.0</td>\n",
       "      <td>-0.007379</td>\n",
       "      <td>0.0</td>\n",
       "      <td>0.002746</td>\n",
       "      <td>0.0</td>\n",
       "      <td>0.011055</td>\n",
       "      <td>0.0</td>\n",
       "      <td>-0.002687</td>\n",
       "    </tr>\n",
       "    <tr>\n",
       "      <th>4</th>\n",
       "      <td>0.0</td>\n",
       "      <td>-0.000024</td>\n",
       "      <td>0.055713</td>\n",
       "      <td>0.005855</td>\n",
       "      <td>0.055713</td>\n",
       "      <td>-0.003860</td>\n",
       "      <td>0.000000e+00</td>\n",
       "      <td>0.221533</td>\n",
       "      <td>0.000000e+00</td>\n",
       "      <td>0.038212</td>\n",
       "      <td>...</td>\n",
       "      <td>0.0</td>\n",
       "      <td>-0.002251</td>\n",
       "      <td>0.0</td>\n",
       "      <td>0.007855</td>\n",
       "      <td>0.0</td>\n",
       "      <td>0.004489</td>\n",
       "      <td>0.0</td>\n",
       "      <td>0.005249</td>\n",
       "      <td>0.0</td>\n",
       "      <td>-0.001691</td>\n",
       "    </tr>\n",
       "  </tbody>\n",
       "</table>\n",
       "<p>5 rows × 1820 columns</p>\n",
       "</div>"
      ],
      "text/plain": [
       "   True_value  Forecasted_value  True_value  Forecasted_value  True_value  \\\n",
       "0         0.0         -0.002104    0.000000         -0.014936    0.079944   \n",
       "1         0.0         -0.001771    0.000000         -0.010660    0.000000   \n",
       "2         0.0         -0.004049    0.000000         -0.007311    0.000000   \n",
       "3         0.0         -0.000431    0.000000         -0.001807    0.000008   \n",
       "4         0.0         -0.000024    0.055713          0.005855    0.055713   \n",
       "\n",
       "   Forecasted_value    True_value  Forecasted_value    True_value  \\\n",
       "0          0.009612  4.965691e-01          0.017083  2.199685e-02   \n",
       "1          0.028674  3.283740e-10          0.098732  4.858496e-07   \n",
       "2          0.011491  3.668993e-05          0.160295  5.286380e-02   \n",
       "3          0.003084  1.466245e-04          0.198136  7.683623e-10   \n",
       "4         -0.003860  0.000000e+00          0.221533  0.000000e+00   \n",
       "\n",
       "   Forecasted_value  ...  True_value  Forecasted_value  True_value  \\\n",
       "0          0.021788  ...         0.0         -0.020438         0.0   \n",
       "1          0.058199  ...         0.0         -0.008659         0.0   \n",
       "2          0.069989  ...         0.0         -0.011963         0.0   \n",
       "3          0.039466  ...         0.0          0.001483         0.0   \n",
       "4          0.038212  ...         0.0         -0.002251         0.0   \n",
       "\n",
       "   Forecasted_value  True_value  Forecasted_value  True_value  \\\n",
       "0         -0.013717         0.0         -0.007816         0.0   \n",
       "1         -0.020182         0.0         -0.003206         0.0   \n",
       "2         -0.011995         0.0         -0.002446         0.0   \n",
       "3         -0.007379         0.0          0.002746         0.0   \n",
       "4          0.007855         0.0          0.004489         0.0   \n",
       "\n",
       "   Forecasted_value  True_value  Forecasted_value  \n",
       "0          0.010991         0.0         -0.003916  \n",
       "1          0.008419         0.0         -0.001530  \n",
       "2          0.004253         0.0         -0.001241  \n",
       "3          0.011055         0.0         -0.002687  \n",
       "4          0.005249         0.0         -0.001691  \n",
       "\n",
       "[5 rows x 1820 columns]"
      ]
     },
     "execution_count": 13,
     "metadata": {},
     "output_type": "execute_result"
    }
   ],
   "source": [
    "combined_df.head()"
   ]
  },
  {
   "cell_type": "code",
   "execution_count": 14,
   "id": "be1c39bd-5454-46e6-a8fe-128a599ac086",
   "metadata": {},
   "outputs": [
    {
     "data": {
      "text/plain": [
       "(7, 1820)"
      ]
     },
     "execution_count": 14,
     "metadata": {},
     "output_type": "execute_result"
    }
   ],
   "source": [
    "combined_df.shape"
   ]
  },
  {
   "cell_type": "code",
   "execution_count": 15,
   "id": "f04174fe-3b90-4194-b682-57d3cd98b188",
   "metadata": {},
   "outputs": [],
   "source": [
    "# get the true values\n",
    "True_values_df = combined_df[['True_value']]"
   ]
  },
  {
   "cell_type": "code",
   "execution_count": 16,
   "id": "5e749e0d-ac2f-46ac-93a2-cfaa1a32f4e0",
   "metadata": {},
   "outputs": [
    {
     "data": {
      "text/html": [
       "<div>\n",
       "<style scoped>\n",
       "    .dataframe tbody tr th:only-of-type {\n",
       "        vertical-align: middle;\n",
       "    }\n",
       "\n",
       "    .dataframe tbody tr th {\n",
       "        vertical-align: top;\n",
       "    }\n",
       "\n",
       "    .dataframe thead th {\n",
       "        text-align: right;\n",
       "    }\n",
       "</style>\n",
       "<table border=\"1\" class=\"dataframe\">\n",
       "  <thead>\n",
       "    <tr style=\"text-align: right;\">\n",
       "      <th></th>\n",
       "      <th>True_value</th>\n",
       "      <th>True_value</th>\n",
       "      <th>True_value</th>\n",
       "      <th>True_value</th>\n",
       "      <th>True_value</th>\n",
       "      <th>True_value</th>\n",
       "      <th>True_value</th>\n",
       "      <th>True_value</th>\n",
       "      <th>True_value</th>\n",
       "      <th>True_value</th>\n",
       "      <th>...</th>\n",
       "      <th>True_value</th>\n",
       "      <th>True_value</th>\n",
       "      <th>True_value</th>\n",
       "      <th>True_value</th>\n",
       "      <th>True_value</th>\n",
       "      <th>True_value</th>\n",
       "      <th>True_value</th>\n",
       "      <th>True_value</th>\n",
       "      <th>True_value</th>\n",
       "      <th>True_value</th>\n",
       "    </tr>\n",
       "  </thead>\n",
       "  <tbody>\n",
       "    <tr>\n",
       "      <th>0</th>\n",
       "      <td>0.0</td>\n",
       "      <td>0.000000</td>\n",
       "      <td>0.079944</td>\n",
       "      <td>4.965691e-01</td>\n",
       "      <td>2.199685e-02</td>\n",
       "      <td>3.103245e-04</td>\n",
       "      <td>0.000000</td>\n",
       "      <td>0.00000</td>\n",
       "      <td>0.000000</td>\n",
       "      <td>0.0</td>\n",
       "      <td>...</td>\n",
       "      <td>0.000000</td>\n",
       "      <td>0.000000</td>\n",
       "      <td>0.000000</td>\n",
       "      <td>0.000000e+00</td>\n",
       "      <td>0.000000e+00</td>\n",
       "      <td>0.0</td>\n",
       "      <td>0.0</td>\n",
       "      <td>0.0</td>\n",
       "      <td>0.0</td>\n",
       "      <td>0.0</td>\n",
       "    </tr>\n",
       "    <tr>\n",
       "      <th>1</th>\n",
       "      <td>0.0</td>\n",
       "      <td>0.000000</td>\n",
       "      <td>0.000000</td>\n",
       "      <td>3.283740e-10</td>\n",
       "      <td>4.858496e-07</td>\n",
       "      <td>1.226370e-09</td>\n",
       "      <td>0.000000</td>\n",
       "      <td>0.00000</td>\n",
       "      <td>0.000000</td>\n",
       "      <td>0.0</td>\n",
       "      <td>...</td>\n",
       "      <td>0.000011</td>\n",
       "      <td>0.144915</td>\n",
       "      <td>0.002174</td>\n",
       "      <td>0.000000e+00</td>\n",
       "      <td>0.000000e+00</td>\n",
       "      <td>0.0</td>\n",
       "      <td>0.0</td>\n",
       "      <td>0.0</td>\n",
       "      <td>0.0</td>\n",
       "      <td>0.0</td>\n",
       "    </tr>\n",
       "    <tr>\n",
       "      <th>2</th>\n",
       "      <td>0.0</td>\n",
       "      <td>0.000000</td>\n",
       "      <td>0.000000</td>\n",
       "      <td>3.668993e-05</td>\n",
       "      <td>5.286380e-02</td>\n",
       "      <td>1.370182e-04</td>\n",
       "      <td>0.000000</td>\n",
       "      <td>0.00000</td>\n",
       "      <td>0.000000</td>\n",
       "      <td>0.0</td>\n",
       "      <td>...</td>\n",
       "      <td>0.000000</td>\n",
       "      <td>0.000000</td>\n",
       "      <td>0.000000</td>\n",
       "      <td>0.000000e+00</td>\n",
       "      <td>0.000000e+00</td>\n",
       "      <td>0.0</td>\n",
       "      <td>0.0</td>\n",
       "      <td>0.0</td>\n",
       "      <td>0.0</td>\n",
       "      <td>0.0</td>\n",
       "    </tr>\n",
       "    <tr>\n",
       "      <th>3</th>\n",
       "      <td>0.0</td>\n",
       "      <td>0.000000</td>\n",
       "      <td>0.000008</td>\n",
       "      <td>1.466245e-04</td>\n",
       "      <td>7.683623e-10</td>\n",
       "      <td>0.000000e+00</td>\n",
       "      <td>0.000672</td>\n",
       "      <td>0.69062</td>\n",
       "      <td>0.002508</td>\n",
       "      <td>0.0</td>\n",
       "      <td>...</td>\n",
       "      <td>0.000000</td>\n",
       "      <td>0.000000</td>\n",
       "      <td>0.000063</td>\n",
       "      <td>4.524791e-03</td>\n",
       "      <td>3.227940e-07</td>\n",
       "      <td>0.0</td>\n",
       "      <td>0.0</td>\n",
       "      <td>0.0</td>\n",
       "      <td>0.0</td>\n",
       "      <td>0.0</td>\n",
       "    </tr>\n",
       "    <tr>\n",
       "      <th>4</th>\n",
       "      <td>0.0</td>\n",
       "      <td>0.055713</td>\n",
       "      <td>0.055713</td>\n",
       "      <td>0.000000e+00</td>\n",
       "      <td>0.000000e+00</td>\n",
       "      <td>0.000000e+00</td>\n",
       "      <td>0.000000</td>\n",
       "      <td>0.00000</td>\n",
       "      <td>0.000000</td>\n",
       "      <td>0.0</td>\n",
       "      <td>...</td>\n",
       "      <td>0.000000</td>\n",
       "      <td>0.001227</td>\n",
       "      <td>0.021100</td>\n",
       "      <td>1.117361e-07</td>\n",
       "      <td>0.000000e+00</td>\n",
       "      <td>0.0</td>\n",
       "      <td>0.0</td>\n",
       "      <td>0.0</td>\n",
       "      <td>0.0</td>\n",
       "      <td>0.0</td>\n",
       "    </tr>\n",
       "  </tbody>\n",
       "</table>\n",
       "<p>5 rows × 910 columns</p>\n",
       "</div>"
      ],
      "text/plain": [
       "   True_value  True_value  True_value    True_value    True_value  \\\n",
       "0         0.0    0.000000    0.079944  4.965691e-01  2.199685e-02   \n",
       "1         0.0    0.000000    0.000000  3.283740e-10  4.858496e-07   \n",
       "2         0.0    0.000000    0.000000  3.668993e-05  5.286380e-02   \n",
       "3         0.0    0.000000    0.000008  1.466245e-04  7.683623e-10   \n",
       "4         0.0    0.055713    0.055713  0.000000e+00  0.000000e+00   \n",
       "\n",
       "     True_value  True_value  True_value  True_value  True_value  ...  \\\n",
       "0  3.103245e-04    0.000000     0.00000    0.000000         0.0  ...   \n",
       "1  1.226370e-09    0.000000     0.00000    0.000000         0.0  ...   \n",
       "2  1.370182e-04    0.000000     0.00000    0.000000         0.0  ...   \n",
       "3  0.000000e+00    0.000672     0.69062    0.002508         0.0  ...   \n",
       "4  0.000000e+00    0.000000     0.00000    0.000000         0.0  ...   \n",
       "\n",
       "   True_value  True_value  True_value    True_value    True_value  True_value  \\\n",
       "0    0.000000    0.000000    0.000000  0.000000e+00  0.000000e+00         0.0   \n",
       "1    0.000011    0.144915    0.002174  0.000000e+00  0.000000e+00         0.0   \n",
       "2    0.000000    0.000000    0.000000  0.000000e+00  0.000000e+00         0.0   \n",
       "3    0.000000    0.000000    0.000063  4.524791e-03  3.227940e-07         0.0   \n",
       "4    0.000000    0.001227    0.021100  1.117361e-07  0.000000e+00         0.0   \n",
       "\n",
       "   True_value  True_value  True_value  True_value  \n",
       "0         0.0         0.0         0.0         0.0  \n",
       "1         0.0         0.0         0.0         0.0  \n",
       "2         0.0         0.0         0.0         0.0  \n",
       "3         0.0         0.0         0.0         0.0  \n",
       "4         0.0         0.0         0.0         0.0  \n",
       "\n",
       "[5 rows x 910 columns]"
      ]
     },
     "execution_count": 16,
     "metadata": {},
     "output_type": "execute_result"
    }
   ],
   "source": [
    "True_values_df.head()"
   ]
  },
  {
   "cell_type": "code",
   "execution_count": 17,
   "id": "eaac93e8-5497-4d9e-ba82-6e7b92f5f0bc",
   "metadata": {},
   "outputs": [
    {
     "data": {
      "text/plain": [
       "(7, 910)"
      ]
     },
     "execution_count": 17,
     "metadata": {},
     "output_type": "execute_result"
    }
   ],
   "source": [
    "True_values_df.shape"
   ]
  },
  {
   "cell_type": "code",
   "execution_count": 18,
   "id": "cfdd6a93-1047-4acb-a8b4-091d15dbae98",
   "metadata": {},
   "outputs": [],
   "source": [
    "# get the proper counts? - Do the transformation\n",
    "exp_true = np.exp(True_values_df)-1"
   ]
  },
  {
   "cell_type": "code",
   "execution_count": 19,
   "id": "0ae1b7a4-0bff-487e-93df-24df360917e0",
   "metadata": {},
   "outputs": [
    {
     "data": {
      "text/html": [
       "<div>\n",
       "<style scoped>\n",
       "    .dataframe tbody tr th:only-of-type {\n",
       "        vertical-align: middle;\n",
       "    }\n",
       "\n",
       "    .dataframe tbody tr th {\n",
       "        vertical-align: top;\n",
       "    }\n",
       "\n",
       "    .dataframe thead th {\n",
       "        text-align: right;\n",
       "    }\n",
       "</style>\n",
       "<table border=\"1\" class=\"dataframe\">\n",
       "  <thead>\n",
       "    <tr style=\"text-align: right;\">\n",
       "      <th></th>\n",
       "      <th>True_value</th>\n",
       "      <th>True_value</th>\n",
       "      <th>True_value</th>\n",
       "      <th>True_value</th>\n",
       "      <th>True_value</th>\n",
       "      <th>True_value</th>\n",
       "      <th>True_value</th>\n",
       "      <th>True_value</th>\n",
       "      <th>True_value</th>\n",
       "      <th>True_value</th>\n",
       "      <th>...</th>\n",
       "      <th>True_value</th>\n",
       "      <th>True_value</th>\n",
       "      <th>True_value</th>\n",
       "      <th>True_value</th>\n",
       "      <th>True_value</th>\n",
       "      <th>True_value</th>\n",
       "      <th>True_value</th>\n",
       "      <th>True_value</th>\n",
       "      <th>True_value</th>\n",
       "      <th>True_value</th>\n",
       "    </tr>\n",
       "  </thead>\n",
       "  <tbody>\n",
       "    <tr>\n",
       "      <th>0</th>\n",
       "      <td>0.0</td>\n",
       "      <td>0.000000</td>\n",
       "      <td>0.083226</td>\n",
       "      <td>6.430743e-01</td>\n",
       "      <td>2.224056e-02</td>\n",
       "      <td>3.103727e-04</td>\n",
       "      <td>0.000000</td>\n",
       "      <td>0.000000</td>\n",
       "      <td>0.000000</td>\n",
       "      <td>0.0</td>\n",
       "      <td>...</td>\n",
       "      <td>0.000000</td>\n",
       "      <td>0.000000</td>\n",
       "      <td>0.000000</td>\n",
       "      <td>0.000000e+00</td>\n",
       "      <td>0.000000e+00</td>\n",
       "      <td>0.0</td>\n",
       "      <td>0.0</td>\n",
       "      <td>0.0</td>\n",
       "      <td>0.0</td>\n",
       "      <td>0.0</td>\n",
       "    </tr>\n",
       "    <tr>\n",
       "      <th>1</th>\n",
       "      <td>0.0</td>\n",
       "      <td>0.000000</td>\n",
       "      <td>0.000000</td>\n",
       "      <td>3.283740e-10</td>\n",
       "      <td>4.858497e-07</td>\n",
       "      <td>1.226370e-09</td>\n",
       "      <td>0.000000</td>\n",
       "      <td>0.000000</td>\n",
       "      <td>0.000000</td>\n",
       "      <td>0.0</td>\n",
       "      <td>...</td>\n",
       "      <td>0.000011</td>\n",
       "      <td>0.155941</td>\n",
       "      <td>0.002176</td>\n",
       "      <td>0.000000e+00</td>\n",
       "      <td>0.000000e+00</td>\n",
       "      <td>0.0</td>\n",
       "      <td>0.0</td>\n",
       "      <td>0.0</td>\n",
       "      <td>0.0</td>\n",
       "      <td>0.0</td>\n",
       "    </tr>\n",
       "    <tr>\n",
       "      <th>2</th>\n",
       "      <td>0.0</td>\n",
       "      <td>0.000000</td>\n",
       "      <td>0.000000</td>\n",
       "      <td>3.669061e-05</td>\n",
       "      <td>5.428604e-02</td>\n",
       "      <td>1.370275e-04</td>\n",
       "      <td>0.000000</td>\n",
       "      <td>0.000000</td>\n",
       "      <td>0.000000</td>\n",
       "      <td>0.0</td>\n",
       "      <td>...</td>\n",
       "      <td>0.000000</td>\n",
       "      <td>0.000000</td>\n",
       "      <td>0.000000</td>\n",
       "      <td>0.000000e+00</td>\n",
       "      <td>0.000000e+00</td>\n",
       "      <td>0.0</td>\n",
       "      <td>0.0</td>\n",
       "      <td>0.0</td>\n",
       "      <td>0.0</td>\n",
       "      <td>0.0</td>\n",
       "    </tr>\n",
       "    <tr>\n",
       "      <th>3</th>\n",
       "      <td>0.0</td>\n",
       "      <td>0.000000</td>\n",
       "      <td>0.000008</td>\n",
       "      <td>1.466352e-04</td>\n",
       "      <td>7.683623e-10</td>\n",
       "      <td>0.000000e+00</td>\n",
       "      <td>0.000672</td>\n",
       "      <td>0.994953</td>\n",
       "      <td>0.002511</td>\n",
       "      <td>0.0</td>\n",
       "      <td>...</td>\n",
       "      <td>0.000000</td>\n",
       "      <td>0.000000</td>\n",
       "      <td>0.000063</td>\n",
       "      <td>4.535043e-03</td>\n",
       "      <td>3.227940e-07</td>\n",
       "      <td>0.0</td>\n",
       "      <td>0.0</td>\n",
       "      <td>0.0</td>\n",
       "      <td>0.0</td>\n",
       "      <td>0.0</td>\n",
       "    </tr>\n",
       "    <tr>\n",
       "      <th>4</th>\n",
       "      <td>0.0</td>\n",
       "      <td>0.057295</td>\n",
       "      <td>0.057295</td>\n",
       "      <td>0.000000e+00</td>\n",
       "      <td>0.000000e+00</td>\n",
       "      <td>0.000000e+00</td>\n",
       "      <td>0.000000</td>\n",
       "      <td>0.000000</td>\n",
       "      <td>0.000000</td>\n",
       "      <td>0.0</td>\n",
       "      <td>...</td>\n",
       "      <td>0.000000</td>\n",
       "      <td>0.001228</td>\n",
       "      <td>0.021324</td>\n",
       "      <td>1.117362e-07</td>\n",
       "      <td>0.000000e+00</td>\n",
       "      <td>0.0</td>\n",
       "      <td>0.0</td>\n",
       "      <td>0.0</td>\n",
       "      <td>0.0</td>\n",
       "      <td>0.0</td>\n",
       "    </tr>\n",
       "    <tr>\n",
       "      <th>5</th>\n",
       "      <td>0.0</td>\n",
       "      <td>0.000000</td>\n",
       "      <td>0.000000</td>\n",
       "      <td>0.000000e+00</td>\n",
       "      <td>0.000000e+00</td>\n",
       "      <td>0.000000e+00</td>\n",
       "      <td>0.000000</td>\n",
       "      <td>0.000000</td>\n",
       "      <td>0.000000</td>\n",
       "      <td>0.0</td>\n",
       "      <td>...</td>\n",
       "      <td>0.000000</td>\n",
       "      <td>0.000000</td>\n",
       "      <td>0.000000</td>\n",
       "      <td>0.000000e+00</td>\n",
       "      <td>0.000000e+00</td>\n",
       "      <td>0.0</td>\n",
       "      <td>0.0</td>\n",
       "      <td>0.0</td>\n",
       "      <td>0.0</td>\n",
       "      <td>0.0</td>\n",
       "    </tr>\n",
       "    <tr>\n",
       "      <th>6</th>\n",
       "      <td>0.0</td>\n",
       "      <td>0.000000</td>\n",
       "      <td>0.000000</td>\n",
       "      <td>0.000000e+00</td>\n",
       "      <td>0.000000e+00</td>\n",
       "      <td>0.000000e+00</td>\n",
       "      <td>0.000000</td>\n",
       "      <td>0.000000</td>\n",
       "      <td>0.000000</td>\n",
       "      <td>0.0</td>\n",
       "      <td>...</td>\n",
       "      <td>0.000000</td>\n",
       "      <td>0.000000</td>\n",
       "      <td>0.000000</td>\n",
       "      <td>0.000000e+00</td>\n",
       "      <td>0.000000e+00</td>\n",
       "      <td>0.0</td>\n",
       "      <td>0.0</td>\n",
       "      <td>0.0</td>\n",
       "      <td>0.0</td>\n",
       "      <td>0.0</td>\n",
       "    </tr>\n",
       "  </tbody>\n",
       "</table>\n",
       "<p>7 rows × 910 columns</p>\n",
       "</div>"
      ],
      "text/plain": [
       "   True_value  True_value  True_value    True_value    True_value  \\\n",
       "0         0.0    0.000000    0.083226  6.430743e-01  2.224056e-02   \n",
       "1         0.0    0.000000    0.000000  3.283740e-10  4.858497e-07   \n",
       "2         0.0    0.000000    0.000000  3.669061e-05  5.428604e-02   \n",
       "3         0.0    0.000000    0.000008  1.466352e-04  7.683623e-10   \n",
       "4         0.0    0.057295    0.057295  0.000000e+00  0.000000e+00   \n",
       "5         0.0    0.000000    0.000000  0.000000e+00  0.000000e+00   \n",
       "6         0.0    0.000000    0.000000  0.000000e+00  0.000000e+00   \n",
       "\n",
       "     True_value  True_value  True_value  True_value  True_value  ...  \\\n",
       "0  3.103727e-04    0.000000    0.000000    0.000000         0.0  ...   \n",
       "1  1.226370e-09    0.000000    0.000000    0.000000         0.0  ...   \n",
       "2  1.370275e-04    0.000000    0.000000    0.000000         0.0  ...   \n",
       "3  0.000000e+00    0.000672    0.994953    0.002511         0.0  ...   \n",
       "4  0.000000e+00    0.000000    0.000000    0.000000         0.0  ...   \n",
       "5  0.000000e+00    0.000000    0.000000    0.000000         0.0  ...   \n",
       "6  0.000000e+00    0.000000    0.000000    0.000000         0.0  ...   \n",
       "\n",
       "   True_value  True_value  True_value    True_value    True_value  True_value  \\\n",
       "0    0.000000    0.000000    0.000000  0.000000e+00  0.000000e+00         0.0   \n",
       "1    0.000011    0.155941    0.002176  0.000000e+00  0.000000e+00         0.0   \n",
       "2    0.000000    0.000000    0.000000  0.000000e+00  0.000000e+00         0.0   \n",
       "3    0.000000    0.000000    0.000063  4.535043e-03  3.227940e-07         0.0   \n",
       "4    0.000000    0.001228    0.021324  1.117362e-07  0.000000e+00         0.0   \n",
       "5    0.000000    0.000000    0.000000  0.000000e+00  0.000000e+00         0.0   \n",
       "6    0.000000    0.000000    0.000000  0.000000e+00  0.000000e+00         0.0   \n",
       "\n",
       "   True_value  True_value  True_value  True_value  \n",
       "0         0.0         0.0         0.0         0.0  \n",
       "1         0.0         0.0         0.0         0.0  \n",
       "2         0.0         0.0         0.0         0.0  \n",
       "3         0.0         0.0         0.0         0.0  \n",
       "4         0.0         0.0         0.0         0.0  \n",
       "5         0.0         0.0         0.0         0.0  \n",
       "6         0.0         0.0         0.0         0.0  \n",
       "\n",
       "[7 rows x 910 columns]"
      ]
     },
     "execution_count": 19,
     "metadata": {},
     "output_type": "execute_result"
    }
   ],
   "source": [
    "exp_true"
   ]
  },
  {
   "cell_type": "code",
   "execution_count": 20,
   "id": "221848d3-34b9-47e2-bbb4-c9b6a9736925",
   "metadata": {},
   "outputs": [],
   "source": [
    "# not sure if the aggregation is necessary at this point - but let's do it anyway?\n",
    "sum_true_values = exp_true.sum(axis = 1)"
   ]
  },
  {
   "cell_type": "code",
   "execution_count": 21,
   "id": "17020899-b537-49ff-b157-21664e956621",
   "metadata": {},
   "outputs": [
    {
     "data": {
      "text/plain": [
       "0    41.000009\n",
       "1    41.000003\n",
       "2    43.006851\n",
       "3    39.997605\n",
       "4    40.000000\n",
       "5    32.999982\n",
       "6    18.000000\n",
       "dtype: float64"
      ]
     },
     "execution_count": 21,
     "metadata": {},
     "output_type": "execute_result"
    }
   ],
   "source": [
    "sum_true_values"
   ]
  },
  {
   "cell_type": "code",
   "execution_count": 22,
   "id": "26e52d6c-9a21-4843-9af2-09779db4f4ae",
   "metadata": {},
   "outputs": [],
   "source": [
    "# now what about the predicted values? we have stored these in terms of npy files, let's see how we can figure out to get the predicted values"
   ]
  },
  {
   "cell_type": "code",
   "execution_count": 23,
   "id": "058030bc-64d1-494e-bf09-e18d96501f21",
   "metadata": {},
   "outputs": [],
   "source": [
    "# Okay, question here, not sure how the forecasted values were computed, hopefully we figure out what exatctly we need by the end of this script"
   ]
  },
  {
   "cell_type": "code",
   "execution_count": 24,
   "id": "68791706-80d1-417c-97b5-1219d5d3ba5c",
   "metadata": {},
   "outputs": [],
   "source": [
    "all_forecasts_npy_files = []\n",
    "for file in os.listdir(path_to_dfs):\n",
    "    if file[:13] == 'all_forecasts':\n",
    "        all_forecasts_npy_files.append(file)"
   ]
  },
  {
   "cell_type": "code",
   "execution_count": 25,
   "id": "510a3a60-6b0f-4ba1-b628-1eea63adbf3a",
   "metadata": {},
   "outputs": [
    {
     "data": {
      "text/plain": [
       "910"
      ]
     },
     "execution_count": 25,
     "metadata": {},
     "output_type": "execute_result"
    }
   ],
   "source": [
    "len(all_forecasts_npy_files)"
   ]
  },
  {
   "cell_type": "code",
   "execution_count": 26,
   "id": "db8bb24c-710c-4b1e-bf69-48e65e03628d",
   "metadata": {},
   "outputs": [
    {
     "data": {
      "text/plain": [
       "'suggestion_2/forecasted_counts/block_0306'"
      ]
     },
     "execution_count": 26,
     "metadata": {},
     "output_type": "execute_result"
    }
   ],
   "source": [
    "path_to_dfs"
   ]
  },
  {
   "cell_type": "code",
   "execution_count": 27,
   "id": "926db1ce-530e-43a7-b8de-d68e54465a3b",
   "metadata": {},
   "outputs": [
    {
     "data": {
      "text/plain": [
       "'all_forecasts_sub_273.npy'"
      ]
     },
     "execution_count": 27,
     "metadata": {},
     "output_type": "execute_result"
    }
   ],
   "source": [
    "all_forecasts_npy_files[0]"
   ]
  },
  {
   "cell_type": "code",
   "execution_count": 28,
   "id": "5ae1ee6d-7957-416d-8f76-b1c0f4f74048",
   "metadata": {},
   "outputs": [],
   "source": [
    "# load just the first file\n",
    "sub_273_forecasts = np.load(os.path.join(path_to_dfs, all_forecasts_npy_files[0]))"
   ]
  },
  {
   "cell_type": "code",
   "execution_count": 29,
   "id": "b18192a3-ea14-4ff3-af61-572f491fcce5",
   "metadata": {},
   "outputs": [
    {
     "data": {
      "text/plain": [
       "(1000, 4, 7)"
      ]
     },
     "execution_count": 29,
     "metadata": {},
     "output_type": "execute_result"
    }
   ],
   "source": [
    "sub_273_forecasts.shape"
   ]
  },
  {
   "cell_type": "code",
   "execution_count": 30,
   "id": "68634f79-5fe1-4326-821c-f88fd6358121",
   "metadata": {},
   "outputs": [],
   "source": [
    "# Okay, so for the subwindow 273 -  this file seem to have all the 1000 values in the 4 chains for all the test time points in the sequence"
   ]
  },
  {
   "cell_type": "code",
   "execution_count": 31,
   "id": "2beec9ec-bc5b-48ed-94bf-708dc1c323c5",
   "metadata": {},
   "outputs": [],
   "source": [
    "# transform these values?\n",
    "sub_273_forecasts = np.exp(sub_273_forecasts) - 1"
   ]
  },
  {
   "cell_type": "code",
   "execution_count": 32,
   "id": "139479a7-fd4e-4c9e-b125-b456aabcc33e",
   "metadata": {},
   "outputs": [
    {
     "data": {
      "text/plain": [
       "(-0.9907616, 18.78003)"
      ]
     },
     "execution_count": 32,
     "metadata": {},
     "output_type": "execute_result"
    }
   ],
   "source": [
    "sub_273_forecasts.min(), sub_273_forecasts.max()"
   ]
  },
  {
   "cell_type": "code",
   "execution_count": 33,
   "id": "eeea39fb-d9b6-4e75-b4f4-a48db2a78dda",
   "metadata": {},
   "outputs": [],
   "source": [
    "# get rid of anything below zero?\n",
    "sub_273_forecasts[sub_273_forecasts < 0] = 0"
   ]
  },
  {
   "cell_type": "code",
   "execution_count": 34,
   "id": "a3b048ca-2362-4521-a082-1e2a59ab8063",
   "metadata": {},
   "outputs": [
    {
     "data": {
      "text/plain": [
       "(0.0, 18.78003)"
      ]
     },
     "execution_count": 34,
     "metadata": {},
     "output_type": "execute_result"
    }
   ],
   "source": [
    "sub_273_forecasts.min(), sub_273_forecasts.max()"
   ]
  },
  {
   "cell_type": "code",
   "execution_count": 35,
   "id": "71918f6c-61fa-4666-bbae-05df60d1b050",
   "metadata": {},
   "outputs": [],
   "source": [
    "# cool -  what does these values mean?"
   ]
  },
  {
   "cell_type": "code",
   "execution_count": 36,
   "id": "91c6f8c0-cd40-4b9d-ba4f-279bc3073022",
   "metadata": {},
   "outputs": [],
   "source": [
    "# try averaging the forecasted values along the 0th and 1st axis?"
   ]
  },
  {
   "cell_type": "code",
   "execution_count": 37,
   "id": "47faa528-5199-4bab-b505-26087b378584",
   "metadata": {},
   "outputs": [],
   "source": [
    "sub_273_forecasts_averged = np.mean(sub_273_forecasts, axis = (0,1))"
   ]
  },
  {
   "cell_type": "code",
   "execution_count": 38,
   "id": "64d024db-bb14-4910-a061-3e0afe1c88ac",
   "metadata": {},
   "outputs": [
    {
     "data": {
      "text/plain": [
       "array([0.44879913, 0.23957895, 0.23793305, 0.83938056, 0.5028069 ,\n",
       "       0.3142642 , 0.634341  ], dtype=float32)"
      ]
     },
     "execution_count": 38,
     "metadata": {},
     "output_type": "execute_result"
    }
   ],
   "source": [
    "sub_273_forecasts_averged"
   ]
  },
  {
   "cell_type": "code",
   "execution_count": 39,
   "id": "9872bc2e-ed4a-4a8c-ae6b-3b63e640c0bb",
   "metadata": {},
   "outputs": [
    {
     "data": {
      "text/plain": [
       "(7,)"
      ]
     },
     "execution_count": 39,
     "metadata": {},
     "output_type": "execute_result"
    }
   ],
   "source": [
    "sub_273_forecasts_averged.shape"
   ]
  },
  {
   "cell_type": "code",
   "execution_count": 40,
   "id": "40d19bd4-5f92-4cba-a0ba-d2cef1985fba",
   "metadata": {},
   "outputs": [],
   "source": [
    "# sanity check"
   ]
  },
  {
   "cell_type": "code",
   "execution_count": 41,
   "id": "43d050cf-9337-4500-8a46-e51683b39f30",
   "metadata": {},
   "outputs": [
    {
     "name": "stdout",
     "output_type": "stream",
     "text": [
      "0.44879925\n",
      "0.23957916\n",
      "0.23793305\n",
      "0.8393798\n",
      "0.5028071\n",
      "0.314264\n",
      "0.63434166\n"
     ]
    }
   ],
   "source": [
    "# sanity check\n",
    "for i in range(sub_273_forecasts.shape[-1]):\n",
    "    track = sub_273_forecasts[:,:,i]\n",
    "    print(np.mean(track))"
   ]
  },
  {
   "cell_type": "code",
   "execution_count": 42,
   "id": "9404b3fc-7f26-4620-a1c7-816a12ccc1e7",
   "metadata": {},
   "outputs": [],
   "source": [
    "# Verify the shape of the true values - these are at a subwindow level, and we can use these as they are for getting the metrics, and the scatterplots?"
   ]
  },
  {
   "cell_type": "code",
   "execution_count": 43,
   "id": "81d84191-828a-4853-9765-f72b944f6e43",
   "metadata": {},
   "outputs": [
    {
     "data": {
      "text/plain": [
       "(7, 910)"
      ]
     },
     "execution_count": 43,
     "metadata": {},
     "output_type": "execute_result"
    }
   ],
   "source": [
    "exp_true.shape"
   ]
  },
  {
   "cell_type": "code",
   "execution_count": 44,
   "id": "50e3210d-b649-4e19-b372-53c48aa7134e",
   "metadata": {},
   "outputs": [],
   "source": [
    "# Okay, we need the predictions for the subwindows in the same shape? - but before that, we need to do the transformation for all the npy files. We can do this in a loop - we have done this before, use the code as it is."
   ]
  },
  {
   "cell_type": "code",
   "execution_count": 45,
   "id": "cacb4a51-039b-4621-936f-3992c72137db",
   "metadata": {},
   "outputs": [
    {
     "name": "stdout",
     "output_type": "stream",
     "text": [
      "CPU times: user 864 ms, sys: 400 ms, total: 1.26 s\n",
      "Wall time: 26 s\n"
     ]
    }
   ],
   "source": [
    "%%time\n",
    "catch_all_averaged_preds = []\n",
    "for i in range(910):\n",
    "    file_name = \"all_forecasts_sub_\" + str(i) + '.npy'\n",
    "    al_forecasts_npy_file = np.load(os.path.join(path_to_dfs, file_name))\n",
    "    # make the conversion\n",
    "    sub_window_forecasts = np.exp(al_forecasts_npy_file) - 1\n",
    "    # get rid of anything below zero?\n",
    "    sub_window_forecasts[sub_window_forecasts < 0] = 0\n",
    "    # get averages over time \n",
    "    sub_window_forecasts_averaged = np.mean(sub_window_forecasts, axis = (0,1))\n",
    "    catch_all_averaged_preds.append(sub_window_forecasts_averaged)    "
   ]
  },
  {
   "cell_type": "code",
   "execution_count": 46,
   "id": "d84417a1-e8f2-428d-9170-bf95909115df",
   "metadata": {},
   "outputs": [
    {
     "data": {
      "text/plain": [
       "910"
      ]
     },
     "execution_count": 46,
     "metadata": {},
     "output_type": "execute_result"
    }
   ],
   "source": [
    "len(catch_all_averaged_preds)"
   ]
  },
  {
   "cell_type": "code",
   "execution_count": 47,
   "id": "b64849c3-b140-420b-b618-624d3ba45d03",
   "metadata": {},
   "outputs": [
    {
     "data": {
      "text/plain": [
       "array([0.00288163, 0.00861169, 0.00496788, 0.00320991, 0.00244431,\n",
       "       0.002332  , 0.00218525], dtype=float32)"
      ]
     },
     "execution_count": 47,
     "metadata": {},
     "output_type": "execute_result"
    }
   ],
   "source": [
    "catch_all_averaged_preds[0]"
   ]
  },
  {
   "cell_type": "code",
   "execution_count": 48,
   "id": "ef6c25a0-0f7f-4434-8d5c-b3443659d436",
   "metadata": {},
   "outputs": [],
   "source": [
    "Forecasted_values_df = pd.DataFrame(catch_all_averaged_preds).T"
   ]
  },
  {
   "cell_type": "code",
   "execution_count": 49,
   "id": "b26d17a8-7f02-403f-a02a-18d2d8d12854",
   "metadata": {},
   "outputs": [
    {
     "data": {
      "text/plain": [
       "(7, 910)"
      ]
     },
     "execution_count": 49,
     "metadata": {},
     "output_type": "execute_result"
    }
   ],
   "source": [
    "Forecasted_values_df.shape"
   ]
  },
  {
   "cell_type": "code",
   "execution_count": 50,
   "id": "a630e79d-0c18-492a-a414-40d6e51d5584",
   "metadata": {},
   "outputs": [
    {
     "data": {
      "text/html": [
       "<div>\n",
       "<style scoped>\n",
       "    .dataframe tbody tr th:only-of-type {\n",
       "        vertical-align: middle;\n",
       "    }\n",
       "\n",
       "    .dataframe tbody tr th {\n",
       "        vertical-align: top;\n",
       "    }\n",
       "\n",
       "    .dataframe thead th {\n",
       "        text-align: right;\n",
       "    }\n",
       "</style>\n",
       "<table border=\"1\" class=\"dataframe\">\n",
       "  <thead>\n",
       "    <tr style=\"text-align: right;\">\n",
       "      <th></th>\n",
       "      <th>0</th>\n",
       "      <th>1</th>\n",
       "      <th>2</th>\n",
       "      <th>3</th>\n",
       "      <th>4</th>\n",
       "      <th>5</th>\n",
       "      <th>6</th>\n",
       "      <th>7</th>\n",
       "      <th>8</th>\n",
       "      <th>9</th>\n",
       "      <th>...</th>\n",
       "      <th>900</th>\n",
       "      <th>901</th>\n",
       "      <th>902</th>\n",
       "      <th>903</th>\n",
       "      <th>904</th>\n",
       "      <th>905</th>\n",
       "      <th>906</th>\n",
       "      <th>907</th>\n",
       "      <th>908</th>\n",
       "      <th>909</th>\n",
       "    </tr>\n",
       "  </thead>\n",
       "  <tbody>\n",
       "    <tr>\n",
       "      <th>0</th>\n",
       "      <td>0.002882</td>\n",
       "      <td>0.012408</td>\n",
       "      <td>0.051926</td>\n",
       "      <td>0.172211</td>\n",
       "      <td>0.101459</td>\n",
       "      <td>0.002605</td>\n",
       "      <td>0.000548</td>\n",
       "      <td>0.001960</td>\n",
       "      <td>0.000974</td>\n",
       "      <td>0.005174</td>\n",
       "      <td>...</td>\n",
       "      <td>0.015051</td>\n",
       "      <td>0.053039</td>\n",
       "      <td>0.014204</td>\n",
       "      <td>0.084579</td>\n",
       "      <td>0.015373</td>\n",
       "      <td>0.001826</td>\n",
       "      <td>0.002414</td>\n",
       "      <td>0.001741</td>\n",
       "      <td>0.014163</td>\n",
       "      <td>0.003959</td>\n",
       "    </tr>\n",
       "    <tr>\n",
       "      <th>1</th>\n",
       "      <td>0.008612</td>\n",
       "      <td>0.007826</td>\n",
       "      <td>0.053914</td>\n",
       "      <td>0.233666</td>\n",
       "      <td>0.122992</td>\n",
       "      <td>0.006381</td>\n",
       "      <td>0.000249</td>\n",
       "      <td>0.001938</td>\n",
       "      <td>0.000040</td>\n",
       "      <td>0.002123</td>\n",
       "      <td>...</td>\n",
       "      <td>0.010127</td>\n",
       "      <td>0.046833</td>\n",
       "      <td>0.006209</td>\n",
       "      <td>0.085592</td>\n",
       "      <td>0.009666</td>\n",
       "      <td>0.001936</td>\n",
       "      <td>0.004027</td>\n",
       "      <td>0.005502</td>\n",
       "      <td>0.013708</td>\n",
       "      <td>0.002696</td>\n",
       "    </tr>\n",
       "    <tr>\n",
       "      <th>2</th>\n",
       "      <td>0.004968</td>\n",
       "      <td>0.006987</td>\n",
       "      <td>0.039530</td>\n",
       "      <td>0.286396</td>\n",
       "      <td>0.132997</td>\n",
       "      <td>0.015365</td>\n",
       "      <td>0.000981</td>\n",
       "      <td>0.001121</td>\n",
       "      <td>0.000025</td>\n",
       "      <td>0.006660</td>\n",
       "      <td>...</td>\n",
       "      <td>0.006071</td>\n",
       "      <td>0.048259</td>\n",
       "      <td>0.011164</td>\n",
       "      <td>0.095910</td>\n",
       "      <td>0.001448</td>\n",
       "      <td>0.000569</td>\n",
       "      <td>0.001707</td>\n",
       "      <td>0.002219</td>\n",
       "      <td>0.009539</td>\n",
       "      <td>0.001500</td>\n",
       "    </tr>\n",
       "    <tr>\n",
       "      <th>3</th>\n",
       "      <td>0.003210</td>\n",
       "      <td>0.005878</td>\n",
       "      <td>0.030910</td>\n",
       "      <td>0.329143</td>\n",
       "      <td>0.112222</td>\n",
       "      <td>0.011637</td>\n",
       "      <td>0.009511</td>\n",
       "      <td>0.020356</td>\n",
       "      <td>0.006432</td>\n",
       "      <td>0.016366</td>\n",
       "      <td>...</td>\n",
       "      <td>0.018548</td>\n",
       "      <td>0.022053</td>\n",
       "      <td>0.009271</td>\n",
       "      <td>0.094747</td>\n",
       "      <td>0.019429</td>\n",
       "      <td>0.004178</td>\n",
       "      <td>0.002453</td>\n",
       "      <td>0.006051</td>\n",
       "      <td>0.014859</td>\n",
       "      <td>0.004834</td>\n",
       "    </tr>\n",
       "    <tr>\n",
       "      <th>4</th>\n",
       "      <td>0.002444</td>\n",
       "      <td>0.011041</td>\n",
       "      <td>0.031790</td>\n",
       "      <td>0.358981</td>\n",
       "      <td>0.112071</td>\n",
       "      <td>0.004451</td>\n",
       "      <td>0.003653</td>\n",
       "      <td>0.014860</td>\n",
       "      <td>0.000629</td>\n",
       "      <td>0.001040</td>\n",
       "      <td>...</td>\n",
       "      <td>0.015798</td>\n",
       "      <td>0.021122</td>\n",
       "      <td>0.006078</td>\n",
       "      <td>0.076389</td>\n",
       "      <td>0.018372</td>\n",
       "      <td>0.002772</td>\n",
       "      <td>0.012903</td>\n",
       "      <td>0.012130</td>\n",
       "      <td>0.007683</td>\n",
       "      <td>0.006220</td>\n",
       "    </tr>\n",
       "  </tbody>\n",
       "</table>\n",
       "<p>5 rows × 910 columns</p>\n",
       "</div>"
      ],
      "text/plain": [
       "        0         1         2         3         4         5         6    \\\n",
       "0  0.002882  0.012408  0.051926  0.172211  0.101459  0.002605  0.000548   \n",
       "1  0.008612  0.007826  0.053914  0.233666  0.122992  0.006381  0.000249   \n",
       "2  0.004968  0.006987  0.039530  0.286396  0.132997  0.015365  0.000981   \n",
       "3  0.003210  0.005878  0.030910  0.329143  0.112222  0.011637  0.009511   \n",
       "4  0.002444  0.011041  0.031790  0.358981  0.112071  0.004451  0.003653   \n",
       "\n",
       "        7         8         9    ...       900       901       902       903  \\\n",
       "0  0.001960  0.000974  0.005174  ...  0.015051  0.053039  0.014204  0.084579   \n",
       "1  0.001938  0.000040  0.002123  ...  0.010127  0.046833  0.006209  0.085592   \n",
       "2  0.001121  0.000025  0.006660  ...  0.006071  0.048259  0.011164  0.095910   \n",
       "3  0.020356  0.006432  0.016366  ...  0.018548  0.022053  0.009271  0.094747   \n",
       "4  0.014860  0.000629  0.001040  ...  0.015798  0.021122  0.006078  0.076389   \n",
       "\n",
       "        904       905       906       907       908       909  \n",
       "0  0.015373  0.001826  0.002414  0.001741  0.014163  0.003959  \n",
       "1  0.009666  0.001936  0.004027  0.005502  0.013708  0.002696  \n",
       "2  0.001448  0.000569  0.001707  0.002219  0.009539  0.001500  \n",
       "3  0.019429  0.004178  0.002453  0.006051  0.014859  0.004834  \n",
       "4  0.018372  0.002772  0.012903  0.012130  0.007683  0.006220  \n",
       "\n",
       "[5 rows x 910 columns]"
      ]
     },
     "execution_count": 50,
     "metadata": {},
     "output_type": "execute_result"
    }
   ],
   "source": [
    "Forecasted_values_df.head()"
   ]
  },
  {
   "cell_type": "code",
   "execution_count": 51,
   "id": "68c7bc01-af52-4664-8745-99c3f70ed793",
   "metadata": {},
   "outputs": [],
   "source": [
    "# give column names here\n",
    "Forecasted_values_df.columns = ['forecaster_val_' + str(i) for i in range(910)]"
   ]
  },
  {
   "cell_type": "code",
   "execution_count": 52,
   "id": "5753e902-47ea-4455-a177-ccb6cd4b16ff",
   "metadata": {},
   "outputs": [
    {
     "data": {
      "text/html": [
       "<div>\n",
       "<style scoped>\n",
       "    .dataframe tbody tr th:only-of-type {\n",
       "        vertical-align: middle;\n",
       "    }\n",
       "\n",
       "    .dataframe tbody tr th {\n",
       "        vertical-align: top;\n",
       "    }\n",
       "\n",
       "    .dataframe thead th {\n",
       "        text-align: right;\n",
       "    }\n",
       "</style>\n",
       "<table border=\"1\" class=\"dataframe\">\n",
       "  <thead>\n",
       "    <tr style=\"text-align: right;\">\n",
       "      <th></th>\n",
       "      <th>forecaster_val_0</th>\n",
       "      <th>forecaster_val_1</th>\n",
       "      <th>forecaster_val_2</th>\n",
       "      <th>forecaster_val_3</th>\n",
       "      <th>forecaster_val_4</th>\n",
       "      <th>forecaster_val_5</th>\n",
       "      <th>forecaster_val_6</th>\n",
       "      <th>forecaster_val_7</th>\n",
       "      <th>forecaster_val_8</th>\n",
       "      <th>forecaster_val_9</th>\n",
       "      <th>...</th>\n",
       "      <th>forecaster_val_900</th>\n",
       "      <th>forecaster_val_901</th>\n",
       "      <th>forecaster_val_902</th>\n",
       "      <th>forecaster_val_903</th>\n",
       "      <th>forecaster_val_904</th>\n",
       "      <th>forecaster_val_905</th>\n",
       "      <th>forecaster_val_906</th>\n",
       "      <th>forecaster_val_907</th>\n",
       "      <th>forecaster_val_908</th>\n",
       "      <th>forecaster_val_909</th>\n",
       "    </tr>\n",
       "  </thead>\n",
       "  <tbody>\n",
       "    <tr>\n",
       "      <th>0</th>\n",
       "      <td>0.002882</td>\n",
       "      <td>0.012408</td>\n",
       "      <td>0.051926</td>\n",
       "      <td>0.172211</td>\n",
       "      <td>0.101459</td>\n",
       "      <td>0.002605</td>\n",
       "      <td>0.000548</td>\n",
       "      <td>0.001960</td>\n",
       "      <td>0.000974</td>\n",
       "      <td>0.005174</td>\n",
       "      <td>...</td>\n",
       "      <td>0.015051</td>\n",
       "      <td>0.053039</td>\n",
       "      <td>0.014204</td>\n",
       "      <td>0.084579</td>\n",
       "      <td>0.015373</td>\n",
       "      <td>0.001826</td>\n",
       "      <td>0.002414</td>\n",
       "      <td>0.001741</td>\n",
       "      <td>0.014163</td>\n",
       "      <td>0.003959</td>\n",
       "    </tr>\n",
       "    <tr>\n",
       "      <th>1</th>\n",
       "      <td>0.008612</td>\n",
       "      <td>0.007826</td>\n",
       "      <td>0.053914</td>\n",
       "      <td>0.233666</td>\n",
       "      <td>0.122992</td>\n",
       "      <td>0.006381</td>\n",
       "      <td>0.000249</td>\n",
       "      <td>0.001938</td>\n",
       "      <td>0.000040</td>\n",
       "      <td>0.002123</td>\n",
       "      <td>...</td>\n",
       "      <td>0.010127</td>\n",
       "      <td>0.046833</td>\n",
       "      <td>0.006209</td>\n",
       "      <td>0.085592</td>\n",
       "      <td>0.009666</td>\n",
       "      <td>0.001936</td>\n",
       "      <td>0.004027</td>\n",
       "      <td>0.005502</td>\n",
       "      <td>0.013708</td>\n",
       "      <td>0.002696</td>\n",
       "    </tr>\n",
       "    <tr>\n",
       "      <th>2</th>\n",
       "      <td>0.004968</td>\n",
       "      <td>0.006987</td>\n",
       "      <td>0.039530</td>\n",
       "      <td>0.286396</td>\n",
       "      <td>0.132997</td>\n",
       "      <td>0.015365</td>\n",
       "      <td>0.000981</td>\n",
       "      <td>0.001121</td>\n",
       "      <td>0.000025</td>\n",
       "      <td>0.006660</td>\n",
       "      <td>...</td>\n",
       "      <td>0.006071</td>\n",
       "      <td>0.048259</td>\n",
       "      <td>0.011164</td>\n",
       "      <td>0.095910</td>\n",
       "      <td>0.001448</td>\n",
       "      <td>0.000569</td>\n",
       "      <td>0.001707</td>\n",
       "      <td>0.002219</td>\n",
       "      <td>0.009539</td>\n",
       "      <td>0.001500</td>\n",
       "    </tr>\n",
       "    <tr>\n",
       "      <th>3</th>\n",
       "      <td>0.003210</td>\n",
       "      <td>0.005878</td>\n",
       "      <td>0.030910</td>\n",
       "      <td>0.329143</td>\n",
       "      <td>0.112222</td>\n",
       "      <td>0.011637</td>\n",
       "      <td>0.009511</td>\n",
       "      <td>0.020356</td>\n",
       "      <td>0.006432</td>\n",
       "      <td>0.016366</td>\n",
       "      <td>...</td>\n",
       "      <td>0.018548</td>\n",
       "      <td>0.022053</td>\n",
       "      <td>0.009271</td>\n",
       "      <td>0.094747</td>\n",
       "      <td>0.019429</td>\n",
       "      <td>0.004178</td>\n",
       "      <td>0.002453</td>\n",
       "      <td>0.006051</td>\n",
       "      <td>0.014859</td>\n",
       "      <td>0.004834</td>\n",
       "    </tr>\n",
       "    <tr>\n",
       "      <th>4</th>\n",
       "      <td>0.002444</td>\n",
       "      <td>0.011041</td>\n",
       "      <td>0.031790</td>\n",
       "      <td>0.358981</td>\n",
       "      <td>0.112071</td>\n",
       "      <td>0.004451</td>\n",
       "      <td>0.003653</td>\n",
       "      <td>0.014860</td>\n",
       "      <td>0.000629</td>\n",
       "      <td>0.001040</td>\n",
       "      <td>...</td>\n",
       "      <td>0.015798</td>\n",
       "      <td>0.021122</td>\n",
       "      <td>0.006078</td>\n",
       "      <td>0.076389</td>\n",
       "      <td>0.018372</td>\n",
       "      <td>0.002772</td>\n",
       "      <td>0.012903</td>\n",
       "      <td>0.012130</td>\n",
       "      <td>0.007683</td>\n",
       "      <td>0.006220</td>\n",
       "    </tr>\n",
       "  </tbody>\n",
       "</table>\n",
       "<p>5 rows × 910 columns</p>\n",
       "</div>"
      ],
      "text/plain": [
       "   forecaster_val_0  forecaster_val_1  forecaster_val_2  forecaster_val_3  \\\n",
       "0          0.002882          0.012408          0.051926          0.172211   \n",
       "1          0.008612          0.007826          0.053914          0.233666   \n",
       "2          0.004968          0.006987          0.039530          0.286396   \n",
       "3          0.003210          0.005878          0.030910          0.329143   \n",
       "4          0.002444          0.011041          0.031790          0.358981   \n",
       "\n",
       "   forecaster_val_4  forecaster_val_5  forecaster_val_6  forecaster_val_7  \\\n",
       "0          0.101459          0.002605          0.000548          0.001960   \n",
       "1          0.122992          0.006381          0.000249          0.001938   \n",
       "2          0.132997          0.015365          0.000981          0.001121   \n",
       "3          0.112222          0.011637          0.009511          0.020356   \n",
       "4          0.112071          0.004451          0.003653          0.014860   \n",
       "\n",
       "   forecaster_val_8  forecaster_val_9  ...  forecaster_val_900  \\\n",
       "0          0.000974          0.005174  ...            0.015051   \n",
       "1          0.000040          0.002123  ...            0.010127   \n",
       "2          0.000025          0.006660  ...            0.006071   \n",
       "3          0.006432          0.016366  ...            0.018548   \n",
       "4          0.000629          0.001040  ...            0.015798   \n",
       "\n",
       "   forecaster_val_901  forecaster_val_902  forecaster_val_903  \\\n",
       "0            0.053039            0.014204            0.084579   \n",
       "1            0.046833            0.006209            0.085592   \n",
       "2            0.048259            0.011164            0.095910   \n",
       "3            0.022053            0.009271            0.094747   \n",
       "4            0.021122            0.006078            0.076389   \n",
       "\n",
       "   forecaster_val_904  forecaster_val_905  forecaster_val_906  \\\n",
       "0            0.015373            0.001826            0.002414   \n",
       "1            0.009666            0.001936            0.004027   \n",
       "2            0.001448            0.000569            0.001707   \n",
       "3            0.019429            0.004178            0.002453   \n",
       "4            0.018372            0.002772            0.012903   \n",
       "\n",
       "   forecaster_val_907  forecaster_val_908  forecaster_val_909  \n",
       "0            0.001741            0.014163            0.003959  \n",
       "1            0.005502            0.013708            0.002696  \n",
       "2            0.002219            0.009539            0.001500  \n",
       "3            0.006051            0.014859            0.004834  \n",
       "4            0.012130            0.007683            0.006220  \n",
       "\n",
       "[5 rows x 910 columns]"
      ]
     },
     "execution_count": 52,
     "metadata": {},
     "output_type": "execute_result"
    }
   ],
   "source": [
    "Forecasted_values_df.head()"
   ]
  },
  {
   "cell_type": "code",
   "execution_count": 53,
   "id": "3c856c12-7001-43c1-a186-08b242074808",
   "metadata": {},
   "outputs": [],
   "source": [
    "exp_true.columns = ['True_val_' + str(i) for i in range(910)]"
   ]
  },
  {
   "cell_type": "code",
   "execution_count": 54,
   "id": "067be61e-3f40-487d-9d29-2aca3375cbe9",
   "metadata": {},
   "outputs": [
    {
     "data": {
      "text/html": [
       "<div>\n",
       "<style scoped>\n",
       "    .dataframe tbody tr th:only-of-type {\n",
       "        vertical-align: middle;\n",
       "    }\n",
       "\n",
       "    .dataframe tbody tr th {\n",
       "        vertical-align: top;\n",
       "    }\n",
       "\n",
       "    .dataframe thead th {\n",
       "        text-align: right;\n",
       "    }\n",
       "</style>\n",
       "<table border=\"1\" class=\"dataframe\">\n",
       "  <thead>\n",
       "    <tr style=\"text-align: right;\">\n",
       "      <th></th>\n",
       "      <th>True_val_0</th>\n",
       "      <th>True_val_1</th>\n",
       "      <th>True_val_2</th>\n",
       "      <th>True_val_3</th>\n",
       "      <th>True_val_4</th>\n",
       "      <th>True_val_5</th>\n",
       "      <th>True_val_6</th>\n",
       "      <th>True_val_7</th>\n",
       "      <th>True_val_8</th>\n",
       "      <th>True_val_9</th>\n",
       "      <th>...</th>\n",
       "      <th>True_val_900</th>\n",
       "      <th>True_val_901</th>\n",
       "      <th>True_val_902</th>\n",
       "      <th>True_val_903</th>\n",
       "      <th>True_val_904</th>\n",
       "      <th>True_val_905</th>\n",
       "      <th>True_val_906</th>\n",
       "      <th>True_val_907</th>\n",
       "      <th>True_val_908</th>\n",
       "      <th>True_val_909</th>\n",
       "    </tr>\n",
       "  </thead>\n",
       "  <tbody>\n",
       "    <tr>\n",
       "      <th>0</th>\n",
       "      <td>0.0</td>\n",
       "      <td>0.000000</td>\n",
       "      <td>0.083226</td>\n",
       "      <td>6.430743e-01</td>\n",
       "      <td>2.224056e-02</td>\n",
       "      <td>3.103727e-04</td>\n",
       "      <td>0.000000</td>\n",
       "      <td>0.000000</td>\n",
       "      <td>0.000000</td>\n",
       "      <td>0.0</td>\n",
       "      <td>...</td>\n",
       "      <td>0.000000</td>\n",
       "      <td>0.000000</td>\n",
       "      <td>0.000000</td>\n",
       "      <td>0.000000e+00</td>\n",
       "      <td>0.000000e+00</td>\n",
       "      <td>0.0</td>\n",
       "      <td>0.0</td>\n",
       "      <td>0.0</td>\n",
       "      <td>0.0</td>\n",
       "      <td>0.0</td>\n",
       "    </tr>\n",
       "    <tr>\n",
       "      <th>1</th>\n",
       "      <td>0.0</td>\n",
       "      <td>0.000000</td>\n",
       "      <td>0.000000</td>\n",
       "      <td>3.283740e-10</td>\n",
       "      <td>4.858497e-07</td>\n",
       "      <td>1.226370e-09</td>\n",
       "      <td>0.000000</td>\n",
       "      <td>0.000000</td>\n",
       "      <td>0.000000</td>\n",
       "      <td>0.0</td>\n",
       "      <td>...</td>\n",
       "      <td>0.000011</td>\n",
       "      <td>0.155941</td>\n",
       "      <td>0.002176</td>\n",
       "      <td>0.000000e+00</td>\n",
       "      <td>0.000000e+00</td>\n",
       "      <td>0.0</td>\n",
       "      <td>0.0</td>\n",
       "      <td>0.0</td>\n",
       "      <td>0.0</td>\n",
       "      <td>0.0</td>\n",
       "    </tr>\n",
       "    <tr>\n",
       "      <th>2</th>\n",
       "      <td>0.0</td>\n",
       "      <td>0.000000</td>\n",
       "      <td>0.000000</td>\n",
       "      <td>3.669061e-05</td>\n",
       "      <td>5.428604e-02</td>\n",
       "      <td>1.370275e-04</td>\n",
       "      <td>0.000000</td>\n",
       "      <td>0.000000</td>\n",
       "      <td>0.000000</td>\n",
       "      <td>0.0</td>\n",
       "      <td>...</td>\n",
       "      <td>0.000000</td>\n",
       "      <td>0.000000</td>\n",
       "      <td>0.000000</td>\n",
       "      <td>0.000000e+00</td>\n",
       "      <td>0.000000e+00</td>\n",
       "      <td>0.0</td>\n",
       "      <td>0.0</td>\n",
       "      <td>0.0</td>\n",
       "      <td>0.0</td>\n",
       "      <td>0.0</td>\n",
       "    </tr>\n",
       "    <tr>\n",
       "      <th>3</th>\n",
       "      <td>0.0</td>\n",
       "      <td>0.000000</td>\n",
       "      <td>0.000008</td>\n",
       "      <td>1.466352e-04</td>\n",
       "      <td>7.683623e-10</td>\n",
       "      <td>0.000000e+00</td>\n",
       "      <td>0.000672</td>\n",
       "      <td>0.994953</td>\n",
       "      <td>0.002511</td>\n",
       "      <td>0.0</td>\n",
       "      <td>...</td>\n",
       "      <td>0.000000</td>\n",
       "      <td>0.000000</td>\n",
       "      <td>0.000063</td>\n",
       "      <td>4.535043e-03</td>\n",
       "      <td>3.227940e-07</td>\n",
       "      <td>0.0</td>\n",
       "      <td>0.0</td>\n",
       "      <td>0.0</td>\n",
       "      <td>0.0</td>\n",
       "      <td>0.0</td>\n",
       "    </tr>\n",
       "    <tr>\n",
       "      <th>4</th>\n",
       "      <td>0.0</td>\n",
       "      <td>0.057295</td>\n",
       "      <td>0.057295</td>\n",
       "      <td>0.000000e+00</td>\n",
       "      <td>0.000000e+00</td>\n",
       "      <td>0.000000e+00</td>\n",
       "      <td>0.000000</td>\n",
       "      <td>0.000000</td>\n",
       "      <td>0.000000</td>\n",
       "      <td>0.0</td>\n",
       "      <td>...</td>\n",
       "      <td>0.000000</td>\n",
       "      <td>0.001228</td>\n",
       "      <td>0.021324</td>\n",
       "      <td>1.117362e-07</td>\n",
       "      <td>0.000000e+00</td>\n",
       "      <td>0.0</td>\n",
       "      <td>0.0</td>\n",
       "      <td>0.0</td>\n",
       "      <td>0.0</td>\n",
       "      <td>0.0</td>\n",
       "    </tr>\n",
       "  </tbody>\n",
       "</table>\n",
       "<p>5 rows × 910 columns</p>\n",
       "</div>"
      ],
      "text/plain": [
       "   True_val_0  True_val_1  True_val_2    True_val_3    True_val_4  \\\n",
       "0         0.0    0.000000    0.083226  6.430743e-01  2.224056e-02   \n",
       "1         0.0    0.000000    0.000000  3.283740e-10  4.858497e-07   \n",
       "2         0.0    0.000000    0.000000  3.669061e-05  5.428604e-02   \n",
       "3         0.0    0.000000    0.000008  1.466352e-04  7.683623e-10   \n",
       "4         0.0    0.057295    0.057295  0.000000e+00  0.000000e+00   \n",
       "\n",
       "     True_val_5  True_val_6  True_val_7  True_val_8  True_val_9  ...  \\\n",
       "0  3.103727e-04    0.000000    0.000000    0.000000         0.0  ...   \n",
       "1  1.226370e-09    0.000000    0.000000    0.000000         0.0  ...   \n",
       "2  1.370275e-04    0.000000    0.000000    0.000000         0.0  ...   \n",
       "3  0.000000e+00    0.000672    0.994953    0.002511         0.0  ...   \n",
       "4  0.000000e+00    0.000000    0.000000    0.000000         0.0  ...   \n",
       "\n",
       "   True_val_900  True_val_901  True_val_902  True_val_903  True_val_904  \\\n",
       "0      0.000000      0.000000      0.000000  0.000000e+00  0.000000e+00   \n",
       "1      0.000011      0.155941      0.002176  0.000000e+00  0.000000e+00   \n",
       "2      0.000000      0.000000      0.000000  0.000000e+00  0.000000e+00   \n",
       "3      0.000000      0.000000      0.000063  4.535043e-03  3.227940e-07   \n",
       "4      0.000000      0.001228      0.021324  1.117362e-07  0.000000e+00   \n",
       "\n",
       "   True_val_905  True_val_906  True_val_907  True_val_908  True_val_909  \n",
       "0           0.0           0.0           0.0           0.0           0.0  \n",
       "1           0.0           0.0           0.0           0.0           0.0  \n",
       "2           0.0           0.0           0.0           0.0           0.0  \n",
       "3           0.0           0.0           0.0           0.0           0.0  \n",
       "4           0.0           0.0           0.0           0.0           0.0  \n",
       "\n",
       "[5 rows x 910 columns]"
      ]
     },
     "execution_count": 54,
     "metadata": {},
     "output_type": "execute_result"
    }
   ],
   "source": [
    "exp_true.head()"
   ]
  },
  {
   "cell_type": "code",
   "execution_count": 55,
   "id": "2c45773b-0ea1-46be-8779-6c94e5c2d2e8",
   "metadata": {},
   "outputs": [],
   "source": [
    "# I think at this point we can go ahead and get the metrics for inference computed?"
   ]
  },
  {
   "cell_type": "code",
   "execution_count": 56,
   "id": "74578441-3c54-4eb3-8f75-e489c3c9494f",
   "metadata": {},
   "outputs": [],
   "source": [
    "# exp_true.keys()"
   ]
  },
  {
   "cell_type": "code",
   "execution_count": 57,
   "id": "eb0a136a-9fe1-498f-9bb8-84162b73a942",
   "metadata": {},
   "outputs": [],
   "source": [
    "# exp_true.values.shape"
   ]
  },
  {
   "cell_type": "code",
   "execution_count": 58,
   "id": "a3ca5525-f6e8-441d-ace6-0f00448a200a",
   "metadata": {},
   "outputs": [],
   "source": [
    "# use one column for both dataframes? that way it will be easier to compute the metrics?"
   ]
  },
  {
   "cell_type": "code",
   "execution_count": 59,
   "id": "1c43c82e-2df6-4005-9459-528fa4b1f3cb",
   "metadata": {},
   "outputs": [],
   "source": [
    "# Also something to keep in mind here is that the subwindow sizes are very small - 30*30 - this was intentional as we had to do the seq-2-seq model and they are data hungry - therefore having a 300*300 window size was not feasible"
   ]
  },
  {
   "cell_type": "code",
   "execution_count": 60,
   "id": "c622e1cf-a163-4edb-8ed3-d73a716466e1",
   "metadata": {},
   "outputs": [],
   "source": [
    "exp_true_onecol = pd.DataFrame(exp_true.to_numpy().ravel(order = 'F'), columns=[\"True_values\"])"
   ]
  },
  {
   "cell_type": "code",
   "execution_count": 61,
   "id": "97949b77-22b4-4b7a-82a4-32668f520ab0",
   "metadata": {},
   "outputs": [
    {
     "data": {
      "text/html": [
       "<div>\n",
       "<style scoped>\n",
       "    .dataframe tbody tr th:only-of-type {\n",
       "        vertical-align: middle;\n",
       "    }\n",
       "\n",
       "    .dataframe tbody tr th {\n",
       "        vertical-align: top;\n",
       "    }\n",
       "\n",
       "    .dataframe thead th {\n",
       "        text-align: right;\n",
       "    }\n",
       "</style>\n",
       "<table border=\"1\" class=\"dataframe\">\n",
       "  <thead>\n",
       "    <tr style=\"text-align: right;\">\n",
       "      <th></th>\n",
       "      <th>True_values</th>\n",
       "    </tr>\n",
       "  </thead>\n",
       "  <tbody>\n",
       "    <tr>\n",
       "      <th>0</th>\n",
       "      <td>0.0</td>\n",
       "    </tr>\n",
       "    <tr>\n",
       "      <th>1</th>\n",
       "      <td>0.0</td>\n",
       "    </tr>\n",
       "    <tr>\n",
       "      <th>2</th>\n",
       "      <td>0.0</td>\n",
       "    </tr>\n",
       "    <tr>\n",
       "      <th>3</th>\n",
       "      <td>0.0</td>\n",
       "    </tr>\n",
       "    <tr>\n",
       "      <th>4</th>\n",
       "      <td>0.0</td>\n",
       "    </tr>\n",
       "  </tbody>\n",
       "</table>\n",
       "</div>"
      ],
      "text/plain": [
       "   True_values\n",
       "0          0.0\n",
       "1          0.0\n",
       "2          0.0\n",
       "3          0.0\n",
       "4          0.0"
      ]
     },
     "execution_count": 61,
     "metadata": {},
     "output_type": "execute_result"
    }
   ],
   "source": [
    "exp_true_onecol.head()"
   ]
  },
  {
   "cell_type": "code",
   "execution_count": 62,
   "id": "770f4ad1-2c71-4a62-b2fd-0f052eba9088",
   "metadata": {},
   "outputs": [
    {
     "data": {
      "text/plain": [
       "(6370, 1)"
      ]
     },
     "execution_count": 62,
     "metadata": {},
     "output_type": "execute_result"
    }
   ],
   "source": [
    "exp_true_onecol.shape"
   ]
  },
  {
   "cell_type": "code",
   "execution_count": 63,
   "id": "1de30f69-827a-4566-bb47-006090eb5f73",
   "metadata": {},
   "outputs": [],
   "source": [
    "exp_predicted_onecol = pd.DataFrame(Forecasted_values_df.to_numpy().ravel(order = 'F'), columns=[\"Forecasted_values\"])"
   ]
  },
  {
   "cell_type": "code",
   "execution_count": 64,
   "id": "8342aa85-97d4-4c5a-a021-81ef1edb027a",
   "metadata": {},
   "outputs": [
    {
     "data": {
      "text/html": [
       "<div>\n",
       "<style scoped>\n",
       "    .dataframe tbody tr th:only-of-type {\n",
       "        vertical-align: middle;\n",
       "    }\n",
       "\n",
       "    .dataframe tbody tr th {\n",
       "        vertical-align: top;\n",
       "    }\n",
       "\n",
       "    .dataframe thead th {\n",
       "        text-align: right;\n",
       "    }\n",
       "</style>\n",
       "<table border=\"1\" class=\"dataframe\">\n",
       "  <thead>\n",
       "    <tr style=\"text-align: right;\">\n",
       "      <th></th>\n",
       "      <th>Forecasted_values</th>\n",
       "    </tr>\n",
       "  </thead>\n",
       "  <tbody>\n",
       "    <tr>\n",
       "      <th>0</th>\n",
       "      <td>0.002882</td>\n",
       "    </tr>\n",
       "    <tr>\n",
       "      <th>1</th>\n",
       "      <td>0.008612</td>\n",
       "    </tr>\n",
       "    <tr>\n",
       "      <th>2</th>\n",
       "      <td>0.004968</td>\n",
       "    </tr>\n",
       "    <tr>\n",
       "      <th>3</th>\n",
       "      <td>0.003210</td>\n",
       "    </tr>\n",
       "    <tr>\n",
       "      <th>4</th>\n",
       "      <td>0.002444</td>\n",
       "    </tr>\n",
       "  </tbody>\n",
       "</table>\n",
       "</div>"
      ],
      "text/plain": [
       "   Forecasted_values\n",
       "0           0.002882\n",
       "1           0.008612\n",
       "2           0.004968\n",
       "3           0.003210\n",
       "4           0.002444"
      ]
     },
     "execution_count": 64,
     "metadata": {},
     "output_type": "execute_result"
    }
   ],
   "source": [
    "exp_predicted_onecol.head()"
   ]
  },
  {
   "cell_type": "code",
   "execution_count": 65,
   "id": "8e28b95a-89e0-43c5-a9c3-e2cc1d432c89",
   "metadata": {},
   "outputs": [
    {
     "data": {
      "text/plain": [
       "(6370, 1)"
      ]
     },
     "execution_count": 65,
     "metadata": {},
     "output_type": "execute_result"
    }
   ],
   "source": [
    "exp_predicted_onecol.shape"
   ]
  },
  {
   "cell_type": "code",
   "execution_count": 66,
   "id": "1e39fe2f-d205-4c7a-918a-22250ddf1694",
   "metadata": {},
   "outputs": [],
   "source": [
    "# compute the metrics - these would look really small as the values we have are really small"
   ]
  },
  {
   "cell_type": "code",
   "execution_count": 67,
   "id": "576837f9-1f0f-47e2-8959-4774323b2ead",
   "metadata": {},
   "outputs": [
    {
     "data": {
      "text/plain": [
       "0.22571655578840202"
      ]
     },
     "execution_count": 67,
     "metadata": {},
     "output_type": "execute_result"
    }
   ],
   "source": [
    "# blockwise mean squared error\n",
    "rmse = np.sqrt(mean_squared_error(exp_true_onecol['True_values'], exp_predicted_onecol['Forecasted_values']))\n",
    "rmse"
   ]
  },
  {
   "cell_type": "code",
   "execution_count": 68,
   "id": "656c6ac0-86a7-4fde-b57a-24f5f5883080",
   "metadata": {},
   "outputs": [
    {
     "data": {
      "text/plain": [
       "0.08064589258155686"
      ]
     },
     "execution_count": 68,
     "metadata": {},
     "output_type": "execute_result"
    }
   ],
   "source": [
    "mae = mean_absolute_error(exp_true_onecol['True_values'], exp_predicted_onecol['Forecasted_values'])\n",
    "mae"
   ]
  },
  {
   "cell_type": "code",
   "execution_count": 69,
   "id": "93072881-3eac-4c5e-916c-5fe8f59eb24f",
   "metadata": {},
   "outputs": [
    {
     "data": {
      "text/plain": [
       "0.18347451986242452"
      ]
     },
     "execution_count": 69,
     "metadata": {},
     "output_type": "execute_result"
    }
   ],
   "source": [
    "corr = pearsonr(exp_true_onecol['True_values'], exp_predicted_onecol['Forecasted_values'])\n",
    "corr[0]"
   ]
  },
  {
   "cell_type": "code",
   "execution_count": 70,
   "id": "601575da-140c-4069-ac87-868f310aeb54",
   "metadata": {},
   "outputs": [
    {
     "data": {
      "text/plain": [
       "-1.0583670950692015"
      ]
     },
     "execution_count": 70,
     "metadata": {},
     "output_type": "execute_result"
    }
   ],
   "source": [
    "r2 = r2_score(exp_true_onecol['True_values'], exp_predicted_onecol['Forecasted_values'])\n",
    "r2"
   ]
  },
  {
   "cell_type": "code",
   "execution_count": 71,
   "id": "efe29cef-f6ed-4b8c-a115-fe17bfb0c2fb",
   "metadata": {},
   "outputs": [
    {
     "data": {
      "image/png": "[encoded data removed]",
      "text/plain": [
       "<Figure size 800x800 with 1 Axes>"
      ]
     },
     "metadata": {},
     "output_type": "display_data"
    }
   ],
   "source": [
    "plt.figure(figsize = (8,8))\n",
    "plt.scatter(exp_true_onecol['True_values'], exp_predicted_onecol['Forecasted_values'], s = 10)\n",
    "plt.xlabel(\"True density\")\n",
    "plt.ylabel(\"Predicted density\")\n",
    "# Add the y = x line\n",
    "plt.plot([0, 5], [0, 5], color='green', label='y = x')\n",
    "plt.legend()\n",
    "plt.show()"
   ]
  },
  {
   "cell_type": "code",
   "execution_count": 72,
   "id": "5b6bc4f5-948f-4ffd-94bf-67b6132b9586",
   "metadata": {},
   "outputs": [
    {
     "data": {
      "image/png": "[encoded data removed]",
      "text/plain": [
       "<Figure size 640x480 with 1 Axes>"
      ]
     },
     "metadata": {},
     "output_type": "display_data"
    }
   ],
   "source": [
    "# At this point let's look at the true and predicted value distributions - overlay the histograms\n",
    "\n",
    "# Plot histogram of two columns\n",
    "plt.hist(exp_true_onecol['True_values'], \n",
    "         bins=30, \n",
    "         label=[' True values'], \n",
    "         alpha=0.5, color = 'blue')  # alpha = transparency\n",
    "plt.hist(exp_predicted_onecol['Forecasted_values'], \n",
    "         bins=30, \n",
    "         label=['Predicted values'], \n",
    "         alpha=0.5, color = 'red') \n",
    "plt.xlabel(\"Value\")\n",
    "plt.ylabel(\"Frequency\")\n",
    "plt.title(\"Histogram of Two Columns\")\n",
    "plt.legend()\n",
    "plt.show()"
   ]
  },
  {
   "cell_type": "code",
   "execution_count": 73,
   "id": "d86e03d3-9dc9-438c-9442-82da8bdfe8ce",
   "metadata": {},
   "outputs": [],
   "source": [
    "# Should we try to get the values separated by 0s?"
   ]
  },
  {
   "cell_type": "code",
   "execution_count": 74,
   "id": "abe3c42d-1d1d-46c0-a6a8-9324236f0943",
   "metadata": {},
   "outputs": [],
   "source": [
    "# how to do this? Maybe we need to take the indices from the true values df, and subset accordingly?"
   ]
  },
  {
   "cell_type": "code",
   "execution_count": 75,
   "id": "b24b7cda-ac98-492c-a939-5c31a1a32046",
   "metadata": {},
   "outputs": [],
   "source": [
    "# so create a mask 0 with the true values 0s - we need the indices of this"
   ]
  },
  {
   "cell_type": "code",
   "execution_count": 76,
   "id": "1a6f9210-233b-4394-8573-bf9c8b943a61",
   "metadata": {},
   "outputs": [],
   "source": [
    "mask_zero = exp_true_onecol['True_values'].eq(0)"
   ]
  },
  {
   "cell_type": "code",
   "execution_count": 77,
   "id": "d471dc76-ee06-4aea-96fd-718fcd304a30",
   "metadata": {},
   "outputs": [],
   "source": [
    "# separate the zero and non-zero indices\n",
    "idx_zero = exp_true_onecol.index[mask_zero]\n",
    "idx_nonzero = exp_true_onecol.index[-mask_zero]"
   ]
  },
  {
   "cell_type": "code",
   "execution_count": 78,
   "id": "00c74624-2b63-4a24-964f-7d51f22ac673",
   "metadata": {},
   "outputs": [
    {
     "data": {
      "text/plain": [
       "(4815,)"
      ]
     },
     "execution_count": 78,
     "metadata": {},
     "output_type": "execute_result"
    }
   ],
   "source": [
    "# how many zero values?\n",
    "idx_zero.shape"
   ]
  },
  {
   "cell_type": "code",
   "execution_count": 79,
   "id": "7739f884-380a-49fe-b849-fe0f8ea4fe88",
   "metadata": {},
   "outputs": [
    {
     "data": {
      "text/plain": [
       "6370"
      ]
     },
     "execution_count": 79,
     "metadata": {},
     "output_type": "execute_result"
    }
   ],
   "source": [
    "910*7"
   ]
  },
  {
   "cell_type": "code",
   "execution_count": 80,
   "id": "f44c0120-4b6b-4ba9-8a64-d1261a00dcd0",
   "metadata": {},
   "outputs": [
    {
     "data": {
      "text/plain": [
       "(1555,)"
      ]
     },
     "execution_count": 80,
     "metadata": {},
     "output_type": "execute_result"
    }
   ],
   "source": [
    "# how many non-zeor values\n",
    "idx_nonzero.shape"
   ]
  },
  {
   "cell_type": "code",
   "execution_count": 81,
   "id": "63de6cf0-cc99-45e8-aa2c-30a7547da434",
   "metadata": {},
   "outputs": [
    {
     "data": {
      "text/plain": [
       "6370"
      ]
     },
     "execution_count": 81,
     "metadata": {},
     "output_type": "execute_result"
    }
   ],
   "source": [
    "# sanity check\n",
    "idx_nonzero.shape[0] + idx_zero.shape[0]"
   ]
  },
  {
   "cell_type": "code",
   "execution_count": 82,
   "id": "4a256064-8c76-431c-bc76-e721a1b7282a",
   "metadata": {},
   "outputs": [],
   "source": [
    "# Subset both dataframes with the same indices\n",
    "df_true_zero  = exp_true_onecol.loc[idx_zero]\n",
    "df_pred_zero  = exp_predicted_onecol.loc[idx_zero]\n",
    "df_true_nz    = exp_true_onecol.loc[idx_nonzero]\n",
    "df_pred_nz    = exp_predicted_onecol.loc[idx_nonzero]"
   ]
  },
  {
   "cell_type": "code",
   "execution_count": 83,
   "id": "3df123ca-fe8d-4482-8736-34c3b5128668",
   "metadata": {},
   "outputs": [
    {
     "data": {
      "text/plain": [
       "((4815, 1), (4815, 1))"
      ]
     },
     "execution_count": 83,
     "metadata": {},
     "output_type": "execute_result"
    }
   ],
   "source": [
    "df_true_zero.shape, df_pred_zero.shape"
   ]
  },
  {
   "cell_type": "code",
   "execution_count": 84,
   "id": "c3841a59-219e-4015-aef1-0c88dc839328",
   "metadata": {},
   "outputs": [
    {
     "data": {
      "text/html": [
       "<div>\n",
       "<style scoped>\n",
       "    .dataframe tbody tr th:only-of-type {\n",
       "        vertical-align: middle;\n",
       "    }\n",
       "\n",
       "    .dataframe tbody tr th {\n",
       "        vertical-align: top;\n",
       "    }\n",
       "\n",
       "    .dataframe thead th {\n",
       "        text-align: right;\n",
       "    }\n",
       "</style>\n",
       "<table border=\"1\" class=\"dataframe\">\n",
       "  <thead>\n",
       "    <tr style=\"text-align: right;\">\n",
       "      <th></th>\n",
       "      <th>True_values</th>\n",
       "    </tr>\n",
       "  </thead>\n",
       "  <tbody>\n",
       "    <tr>\n",
       "      <th>0</th>\n",
       "      <td>0.0</td>\n",
       "    </tr>\n",
       "    <tr>\n",
       "      <th>1</th>\n",
       "      <td>0.0</td>\n",
       "    </tr>\n",
       "    <tr>\n",
       "      <th>2</th>\n",
       "      <td>0.0</td>\n",
       "    </tr>\n",
       "    <tr>\n",
       "      <th>3</th>\n",
       "      <td>0.0</td>\n",
       "    </tr>\n",
       "    <tr>\n",
       "      <th>4</th>\n",
       "      <td>0.0</td>\n",
       "    </tr>\n",
       "  </tbody>\n",
       "</table>\n",
       "</div>"
      ],
      "text/plain": [
       "   True_values\n",
       "0          0.0\n",
       "1          0.0\n",
       "2          0.0\n",
       "3          0.0\n",
       "4          0.0"
      ]
     },
     "execution_count": 84,
     "metadata": {},
     "output_type": "execute_result"
    }
   ],
   "source": [
    "df_true_zero.head()"
   ]
  },
  {
   "cell_type": "code",
   "execution_count": 85,
   "id": "1713c839-a187-4043-9d24-0935778a2cc3",
   "metadata": {},
   "outputs": [
    {
     "data": {
      "text/html": [
       "<div>\n",
       "<style scoped>\n",
       "    .dataframe tbody tr th:only-of-type {\n",
       "        vertical-align: middle;\n",
       "    }\n",
       "\n",
       "    .dataframe tbody tr th {\n",
       "        vertical-align: top;\n",
       "    }\n",
       "\n",
       "    .dataframe thead th {\n",
       "        text-align: right;\n",
       "    }\n",
       "</style>\n",
       "<table border=\"1\" class=\"dataframe\">\n",
       "  <thead>\n",
       "    <tr style=\"text-align: right;\">\n",
       "      <th></th>\n",
       "      <th>Forecasted_values</th>\n",
       "    </tr>\n",
       "  </thead>\n",
       "  <tbody>\n",
       "    <tr>\n",
       "      <th>0</th>\n",
       "      <td>0.002882</td>\n",
       "    </tr>\n",
       "    <tr>\n",
       "      <th>1</th>\n",
       "      <td>0.008612</td>\n",
       "    </tr>\n",
       "    <tr>\n",
       "      <th>2</th>\n",
       "      <td>0.004968</td>\n",
       "    </tr>\n",
       "    <tr>\n",
       "      <th>3</th>\n",
       "      <td>0.003210</td>\n",
       "    </tr>\n",
       "    <tr>\n",
       "      <th>4</th>\n",
       "      <td>0.002444</td>\n",
       "    </tr>\n",
       "  </tbody>\n",
       "</table>\n",
       "</div>"
      ],
      "text/plain": [
       "   Forecasted_values\n",
       "0           0.002882\n",
       "1           0.008612\n",
       "2           0.004968\n",
       "3           0.003210\n",
       "4           0.002444"
      ]
     },
     "execution_count": 85,
     "metadata": {},
     "output_type": "execute_result"
    }
   ],
   "source": [
    "df_pred_zero.head()"
   ]
  },
  {
   "cell_type": "code",
   "execution_count": 86,
   "id": "7cb5d3a4-a298-457a-99ff-d39149186ad7",
   "metadata": {},
   "outputs": [
    {
     "data": {
      "text/html": [
       "<div>\n",
       "<style scoped>\n",
       "    .dataframe tbody tr th:only-of-type {\n",
       "        vertical-align: middle;\n",
       "    }\n",
       "\n",
       "    .dataframe tbody tr th {\n",
       "        vertical-align: top;\n",
       "    }\n",
       "\n",
       "    .dataframe thead th {\n",
       "        text-align: right;\n",
       "    }\n",
       "</style>\n",
       "<table border=\"1\" class=\"dataframe\">\n",
       "  <thead>\n",
       "    <tr style=\"text-align: right;\">\n",
       "      <th></th>\n",
       "      <th>True_values</th>\n",
       "    </tr>\n",
       "  </thead>\n",
       "  <tbody>\n",
       "    <tr>\n",
       "      <th>11</th>\n",
       "      <td>0.057295</td>\n",
       "    </tr>\n",
       "    <tr>\n",
       "      <th>14</th>\n",
       "      <td>0.083226</td>\n",
       "    </tr>\n",
       "    <tr>\n",
       "      <th>17</th>\n",
       "      <td>0.000008</td>\n",
       "    </tr>\n",
       "    <tr>\n",
       "      <th>18</th>\n",
       "      <td>0.057295</td>\n",
       "    </tr>\n",
       "    <tr>\n",
       "      <th>21</th>\n",
       "      <td>0.643074</td>\n",
       "    </tr>\n",
       "  </tbody>\n",
       "</table>\n",
       "</div>"
      ],
      "text/plain": [
       "    True_values\n",
       "11     0.057295\n",
       "14     0.083226\n",
       "17     0.000008\n",
       "18     0.057295\n",
       "21     0.643074"
      ]
     },
     "execution_count": 86,
     "metadata": {},
     "output_type": "execute_result"
    }
   ],
   "source": [
    "df_true_nz.head()"
   ]
  },
  {
   "cell_type": "code",
   "execution_count": 87,
   "id": "4d6ceb8e-f387-49c4-937f-23c284c6158d",
   "metadata": {},
   "outputs": [
    {
     "data": {
      "text/html": [
       "<div>\n",
       "<style scoped>\n",
       "    .dataframe tbody tr th:only-of-type {\n",
       "        vertical-align: middle;\n",
       "    }\n",
       "\n",
       "    .dataframe tbody tr th {\n",
       "        vertical-align: top;\n",
       "    }\n",
       "\n",
       "    .dataframe thead th {\n",
       "        text-align: right;\n",
       "    }\n",
       "</style>\n",
       "<table border=\"1\" class=\"dataframe\">\n",
       "  <thead>\n",
       "    <tr style=\"text-align: right;\">\n",
       "      <th></th>\n",
       "      <th>Forecasted_values</th>\n",
       "    </tr>\n",
       "  </thead>\n",
       "  <tbody>\n",
       "    <tr>\n",
       "      <th>11</th>\n",
       "      <td>0.011041</td>\n",
       "    </tr>\n",
       "    <tr>\n",
       "      <th>14</th>\n",
       "      <td>0.051926</td>\n",
       "    </tr>\n",
       "    <tr>\n",
       "      <th>17</th>\n",
       "      <td>0.030910</td>\n",
       "    </tr>\n",
       "    <tr>\n",
       "      <th>18</th>\n",
       "      <td>0.031790</td>\n",
       "    </tr>\n",
       "    <tr>\n",
       "      <th>21</th>\n",
       "      <td>0.172211</td>\n",
       "    </tr>\n",
       "  </tbody>\n",
       "</table>\n",
       "</div>"
      ],
      "text/plain": [
       "    Forecasted_values\n",
       "11           0.011041\n",
       "14           0.051926\n",
       "17           0.030910\n",
       "18           0.031790\n",
       "21           0.172211"
      ]
     },
     "execution_count": 87,
     "metadata": {},
     "output_type": "execute_result"
    }
   ],
   "source": [
    "df_pred_nz.head()"
   ]
  },
  {
   "cell_type": "code",
   "execution_count": 88,
   "id": "fa6515be-c487-4d90-a7f7-7ae9aac98be8",
   "metadata": {},
   "outputs": [],
   "source": [
    "# create the separate scatterplots for these"
   ]
  },
  {
   "cell_type": "code",
   "execution_count": 89,
   "id": "5b1be166-8641-4ef5-af70-386326b2c989",
   "metadata": {},
   "outputs": [
    {
     "data": {
      "image/png": "[encoded data removed]",
      "text/plain": [
       "<Figure size 800x800 with 1 Axes>"
      ]
     },
     "metadata": {},
     "output_type": "display_data"
    }
   ],
   "source": [
    "# For zero-data\n",
    "plt.figure(figsize = (8,8))\n",
    "plt.scatter(df_true_zero['True_values'], df_pred_zero['Forecasted_values'], s = 10)\n",
    "plt.title(\"Scatter plot when the True densities are zeros\")\n",
    "plt.xlabel(\"True densities\")\n",
    "plt.ylabel(\"Forecasted densities\")\n",
    "plt.show()"
   ]
  },
  {
   "cell_type": "code",
   "execution_count": 90,
   "id": "81177e50-319f-41e7-bded-f0cb4194812b",
   "metadata": {},
   "outputs": [
    {
     "data": {
      "image/png": "[encoded data removed]",
      "text/plain": [
       "<Figure size 640x480 with 1 Axes>"
      ]
     },
     "metadata": {},
     "output_type": "display_data"
    }
   ],
   "source": [
    "# Plot histogram of two columns\n",
    "plt.hist(df_true_zero['True_values'], \n",
    "         bins=30, \n",
    "         label=[' True values'], \n",
    "         alpha=0.5, color = 'blue')  # alpha = transparency\n",
    "plt.hist(df_pred_zero['Forecasted_values'], \n",
    "         bins=30, \n",
    "         label=['Predicted values'], \n",
    "         alpha=0.5, color = 'red') \n",
    "plt.xlabel(\"Value\")\n",
    "plt.ylabel(\"Frequency\")\n",
    "plt.title(\"Histogram of Two Columns\")\n",
    "plt.legend()\n",
    "plt.show()"
   ]
  },
  {
   "cell_type": "code",
   "execution_count": 91,
   "id": "1fb0724b-bfa0-40fc-ac2b-f249f807788a",
   "metadata": {},
   "outputs": [
    {
     "data": {
      "image/png": "[encoded data removed]",
      "text/plain": [
       "<Figure size 800x800 with 1 Axes>"
      ]
     },
     "metadata": {},
     "output_type": "display_data"
    }
   ],
   "source": [
    "# For non-zero data\n",
    "plt.figure(figsize = (8,8))\n",
    "plt.scatter(df_true_nz['True_values'], df_pred_nz['Forecasted_values'], s = 10)\n",
    "plt.title(\"Scatter plot when the True densities are non-zeros\")\n",
    "# also plot the y = x line?\n",
    "plt.plot([0, 3], [0, 3], color='green', label='y = x')\n",
    "plt.xlabel(\"True densities\")\n",
    "plt.ylabel(\"Forecasted densities\")\n",
    "plt.show()"
   ]
  },
  {
   "cell_type": "code",
   "execution_count": 92,
   "id": "667b1664-b6e7-433c-97c4-a6f52fd02dea",
   "metadata": {},
   "outputs": [
    {
     "data": {
      "image/png": "[encoded data removed]",
      "text/plain": [
       "<Figure size 640x480 with 1 Axes>"
      ]
     },
     "metadata": {},
     "output_type": "display_data"
    }
   ],
   "source": [
    "# Plot histogram of two columns\n",
    "plt.hist(df_true_nz['True_values'], \n",
    "         bins=30, \n",
    "         label=[' True values'], \n",
    "         alpha=0.5, color = 'blue')  # alpha = transparency\n",
    "plt.hist(df_pred_nz['Forecasted_values'], \n",
    "         bins=30, \n",
    "         label=['Predicted values'], \n",
    "         alpha=0.5, color = 'red') \n",
    "plt.xlabel(\"Value\")\n",
    "plt.ylabel(\"Frequency\")\n",
    "plt.title(\"Histogram of Two Columns\")\n",
    "plt.legend()\n",
    "plt.show()"
   ]
  },
  {
   "cell_type": "code",
   "execution_count": 93,
   "id": "7f15c23f-13fa-4a4c-8f9e-91a286fe3ecb",
   "metadata": {},
   "outputs": [],
   "source": [
    "# not that great - but maybe the model is not doing as well as we need due to the number of zeros we had considered during the model training phase?"
   ]
  },
  {
   "cell_type": "code",
   "execution_count": 94,
   "id": "09b5a98a-8355-4906-9dc6-6c04080878d5",
   "metadata": {},
   "outputs": [],
   "source": [
    "# Maybe get the metrics for teh reduced subsets of data as well"
   ]
  },
  {
   "cell_type": "code",
   "execution_count": 95,
   "id": "daf790da-d6e2-4b26-ba0f-c4bba44003a5",
   "metadata": {},
   "outputs": [],
   "source": [
    "# All zeros"
   ]
  },
  {
   "cell_type": "code",
   "execution_count": 96,
   "id": "8f00c90b-e894-4fe5-a5a1-59bc88819f8f",
   "metadata": {},
   "outputs": [
    {
     "data": {
      "text/plain": [
       "0.16499908332840982"
      ]
     },
     "execution_count": 96,
     "metadata": {},
     "output_type": "execute_result"
    }
   ],
   "source": [
    "rmse_zero =  np.sqrt(mean_squared_error(df_true_zero['True_values'], df_pred_zero['Forecasted_values']))\n",
    "rmse_zero"
   ]
  },
  {
   "cell_type": "code",
   "execution_count": 97,
   "id": "3d662c70-2756-4907-8a23-5230d48df1f1",
   "metadata": {},
   "outputs": [
    {
     "data": {
      "text/plain": [
       "0.039494719643679684"
      ]
     },
     "execution_count": 97,
     "metadata": {},
     "output_type": "execute_result"
    }
   ],
   "source": [
    "mae_zero = mean_absolute_error(df_true_zero['True_values'], df_pred_zero['Forecasted_values'])\n",
    "mae_zero"
   ]
  },
  {
   "cell_type": "code",
   "execution_count": 98,
   "id": "1aba16bc-daa8-477e-b2d8-9f7c0ebe6cb5",
   "metadata": {},
   "outputs": [
    {
     "name": "stderr",
     "output_type": "stream",
     "text": [
      "/mnt/nrdstor/statsgeneral/gayara/tfp_cpu_env/lib/python3.11/site-packages/scipy/stats/_stats_py.py:4781: ConstantInputWarning: An input array is constant; the correlation coefficient is not defined.\n",
      "  warnings.warn(stats.ConstantInputWarning(msg))\n"
     ]
    }
   ],
   "source": [
    "corr_zero = pearsonr(df_true_zero['True_values'], df_pred_zero['Forecasted_values'])"
   ]
  },
  {
   "cell_type": "code",
   "execution_count": 99,
   "id": "8dc223f6-3ef1-4e38-bdfa-17b7d3355b65",
   "metadata": {},
   "outputs": [
    {
     "data": {
      "text/plain": [
       "PearsonRResult(statistic=nan, pvalue=nan)"
      ]
     },
     "execution_count": 99,
     "metadata": {},
     "output_type": "execute_result"
    }
   ],
   "source": [
    "corr_zero"
   ]
  },
  {
   "cell_type": "code",
   "execution_count": 100,
   "id": "0fbe3d09-1068-4c48-8b75-ec1a0528b271",
   "metadata": {},
   "outputs": [
    {
     "data": {
      "text/plain": [
       "-0.5376521567281618"
      ]
     },
     "execution_count": 100,
     "metadata": {},
     "output_type": "execute_result"
    }
   ],
   "source": [
    "r2_zero = r2_score(df_true_nz['True_values'], df_pred_nz['Forecasted_values'])\n",
    "r2_zero"
   ]
  },
  {
   "cell_type": "code",
   "execution_count": 101,
   "id": "ce72776f-ad77-4356-a433-85f9d97b7813",
   "metadata": {},
   "outputs": [],
   "source": [
    "# non zeros"
   ]
  },
  {
   "cell_type": "code",
   "execution_count": 102,
   "id": "e61c34f7-e6bc-4aab-bee8-a42fff986316",
   "metadata": {},
   "outputs": [
    {
     "data": {
      "text/plain": [
       "0.3527126020968954"
      ]
     },
     "execution_count": 102,
     "metadata": {},
     "output_type": "execute_result"
    }
   ],
   "source": [
    "rmse_nzero =  np.sqrt(mean_squared_error(df_true_nz['True_values'], df_pred_nz['Forecasted_values']))\n",
    "rmse_nzero"
   ]
  },
  {
   "cell_type": "code",
   "execution_count": 103,
   "id": "e49def21-cecd-42cc-b893-dcde7152f111",
   "metadata": {},
   "outputs": [
    {
     "data": {
      "text/plain": [
       "0.20806897791652698"
      ]
     },
     "execution_count": 103,
     "metadata": {},
     "output_type": "execute_result"
    }
   ],
   "source": [
    "mae_nzero = mean_absolute_error(df_true_nz['True_values'], df_pred_nz['Forecasted_values'])\n",
    "mae_nzero"
   ]
  },
  {
   "cell_type": "code",
   "execution_count": 104,
   "id": "50b9cafd-40de-48ca-836c-61cdbf218ff2",
   "metadata": {},
   "outputs": [],
   "source": [
    "corr_nzero = pearsonr(df_true_nz['True_values'], df_pred_nz['Forecasted_values'])"
   ]
  },
  {
   "cell_type": "code",
   "execution_count": 105,
   "id": "7ad869be-4d69-4476-a3ed-9f58856d7b4c",
   "metadata": {},
   "outputs": [
    {
     "data": {
      "text/plain": [
       "PearsonRResult(statistic=0.12584863734878188, pvalue=6.409052770301406e-07)"
      ]
     },
     "execution_count": 105,
     "metadata": {},
     "output_type": "execute_result"
    }
   ],
   "source": [
    "corr_nzero"
   ]
  },
  {
   "cell_type": "code",
   "execution_count": 106,
   "id": "9f381cc1-4d60-4cff-9186-51c402041846",
   "metadata": {},
   "outputs": [
    {
     "data": {
      "text/plain": [
       "-0.5376521567281618"
      ]
     },
     "execution_count": 106,
     "metadata": {},
     "output_type": "execute_result"
    }
   ],
   "source": [
    "r2_nzero = r2_score(df_true_nz['True_values'], df_pred_nz['Forecasted_values'])\n",
    "r2_nzero"
   ]
  },
  {
   "cell_type": "markdown",
   "id": "3e6d46d1-da3f-4e0b-85e4-07d9150143c3",
   "metadata": {},
   "source": [
    "Credible Intervals"
   ]
  },
  {
   "cell_type": "code",
   "execution_count": 107,
   "id": "d1283353-ccf4-4640-9443-060c86a177c9",
   "metadata": {},
   "outputs": [],
   "source": [
    "all_forecasts_npy_files = ['all_forecasts_sub_' + str(i) + '.npy' for i in range(910)]"
   ]
  },
  {
   "cell_type": "code",
   "execution_count": 108,
   "id": "46efa0a7-a942-431d-8540-cc8f57a8fe0e",
   "metadata": {},
   "outputs": [
    {
     "name": "stdout",
     "output_type": "stream",
     "text": [
      "CPU times: user 543 ms, sys: 263 ms, total: 806 ms\n",
      "Wall time: 2.9 s\n"
     ]
    }
   ],
   "source": [
    "%%time\n",
    "loaded_npy_files = []\n",
    "for file in all_forecasts_npy_files:\n",
    "    joined_path = os.path.join(path_to_dfs, file)\n",
    "    load_file = np.load(joined_path)\n",
    "    # notice we are averaging the preds across the chains before exponentiation\n",
    "    mean_file = np.mean(np.exp(load_file)-1, axis = 1)\n",
    "    loaded_npy_files.append(mean_file)"
   ]
  },
  {
   "cell_type": "code",
   "execution_count": 109,
   "id": "95532003-d9ec-4003-b0cc-050441d4bc64",
   "metadata": {},
   "outputs": [
    {
     "data": {
      "text/plain": [
       "910"
      ]
     },
     "execution_count": 109,
     "metadata": {},
     "output_type": "execute_result"
    }
   ],
   "source": [
    "len(loaded_npy_files)"
   ]
  },
  {
   "cell_type": "code",
   "execution_count": 110,
   "id": "8852a620-9f09-4a6a-9abc-261e466b7100",
   "metadata": {},
   "outputs": [
    {
     "data": {
      "text/plain": [
       "(1000, 7)"
      ]
     },
     "execution_count": 110,
     "metadata": {},
     "output_type": "execute_result"
    }
   ],
   "source": [
    "loaded_npy_files[0].shape"
   ]
  },
  {
   "cell_type": "code",
   "execution_count": 111,
   "id": "1a8bf2d5-72e2-4e66-842b-f740bc32d6c4",
   "metadata": {},
   "outputs": [],
   "source": [
    "# Maybe we should not get rid of the negatives? - As for the percentiles we will else never capture the true values of zeros?"
   ]
  },
  {
   "cell_type": "code",
   "execution_count": 112,
   "id": "0568b502-103f-4a04-8242-7031d19cc3ca",
   "metadata": {},
   "outputs": [],
   "source": [
    "# yeah, let's proceed with these"
   ]
  },
  {
   "cell_type": "code",
   "execution_count": 113,
   "id": "891cf483-19f4-4201-93c3-d5c089a68273",
   "metadata": {},
   "outputs": [],
   "source": [
    "# how to arrange these though? - might need to think this through a little"
   ]
  },
  {
   "cell_type": "code",
   "execution_count": 114,
   "id": "c671730f-2a6b-4387-9429-ffe7c02fa813",
   "metadata": {},
   "outputs": [
    {
     "data": {
      "text/plain": [
       "(7, 910)"
      ]
     },
     "execution_count": 114,
     "metadata": {},
     "output_type": "execute_result"
    }
   ],
   "source": [
    "exp_true.shape"
   ]
  },
  {
   "cell_type": "code",
   "execution_count": 115,
   "id": "2a8f28f9-a6da-48e2-bb39-df328db746a5",
   "metadata": {},
   "outputs": [],
   "source": [
    "# where is the lsit of the forecasted range of values? - loaded_npy_files"
   ]
  },
  {
   "cell_type": "code",
   "execution_count": 116,
   "id": "9f0f8a25-8d35-4208-b291-268acdd6f166",
   "metadata": {},
   "outputs": [
    {
     "data": {
      "text/plain": [
       "910"
      ]
     },
     "execution_count": 116,
     "metadata": {},
     "output_type": "execute_result"
    }
   ],
   "source": [
    "len(loaded_npy_files)"
   ]
  },
  {
   "cell_type": "code",
   "execution_count": 117,
   "id": "926e5ada-5d73-4773-84d0-9dda13f0013b",
   "metadata": {},
   "outputs": [
    {
     "data": {
      "text/plain": [
       "(1000, 7)"
      ]
     },
     "execution_count": 117,
     "metadata": {},
     "output_type": "execute_result"
    }
   ],
   "source": [
    "loaded_npy_files[0].shape"
   ]
  },
  {
   "cell_type": "code",
   "execution_count": 118,
   "id": "491757f8-1e87-44dc-b6b6-a3064d5b59d5",
   "metadata": {},
   "outputs": [],
   "source": [
    "# Okay, I think we need to move along the loaded file and also its axis 1 to get the percentile values in order."
   ]
  },
  {
   "cell_type": "code",
   "execution_count": 119,
   "id": "af429823-492f-462a-b26d-d41fbae4ad01",
   "metadata": {},
   "outputs": [],
   "source": [
    "# create a for loop for this? - and later maybe even a function so we do not need to repeat everything for each block separately"
   ]
  },
  {
   "cell_type": "code",
   "execution_count": 120,
   "id": "22caf338-e41f-409a-b915-bfb50a007f97",
   "metadata": {},
   "outputs": [],
   "source": [
    "# I think we also need to catch the percentiles?"
   ]
  },
  {
   "cell_type": "code",
   "execution_count": 121,
   "id": "1437bde4-4fd9-4ec0-b08d-a11325b900d6",
   "metadata": {},
   "outputs": [],
   "source": [
    "# Let's try all these?"
   ]
  },
  {
   "cell_type": "code",
   "execution_count": 122,
   "id": "66e12086-ceec-4e68-8d58-17dc6840293e",
   "metadata": {},
   "outputs": [],
   "source": [
    "trial_0 = loaded_npy_files[0][:,0]"
   ]
  },
  {
   "cell_type": "code",
   "execution_count": 123,
   "id": "a5991ee6-71f2-4aa9-816d-9f4790a62863",
   "metadata": {},
   "outputs": [
    {
     "data": {
      "text/plain": [
       "(1000,)"
      ]
     },
     "execution_count": 123,
     "metadata": {},
     "output_type": "execute_result"
    }
   ],
   "source": [
    "trial_0.shape"
   ]
  },
  {
   "cell_type": "code",
   "execution_count": 124,
   "id": "9b5136d7-ccfe-4112-bca5-e84c6a6245d7",
   "metadata": {},
   "outputs": [],
   "source": [
    "trial_li = np.percentile(trial_0, axis = 0, q = (2.5, 97.5))"
   ]
  },
  {
   "cell_type": "code",
   "execution_count": 125,
   "id": "f929943f-8c47-4318-a753-d5c1a537d1a1",
   "metadata": {},
   "outputs": [],
   "source": [
    "# trial_0.min(), trial_0.max()"
   ]
  },
  {
   "cell_type": "code",
   "execution_count": 126,
   "id": "74a56faa-f47f-42ed-a93e-de996cd92268",
   "metadata": {},
   "outputs": [
    {
     "data": {
      "text/plain": [
       "array([-0.00968397,  0.01031859])"
      ]
     },
     "execution_count": 126,
     "metadata": {},
     "output_type": "execute_result"
    }
   ],
   "source": [
    "trial_li"
   ]
  },
  {
   "cell_type": "code",
   "execution_count": 127,
   "id": "ac802cff-8d84-49de-b0fb-3200b79f7317",
   "metadata": {},
   "outputs": [
    {
     "data": {
      "text/plain": [
       "(-0.009683974832296372, 0.010318586975336075)"
      ]
     },
     "execution_count": 127,
     "metadata": {},
     "output_type": "execute_result"
    }
   ],
   "source": [
    "trial_li[0], trial_li[1]"
   ]
  },
  {
   "cell_type": "code",
   "execution_count": 128,
   "id": "43327cdf-ac00-461a-9fee-51233f414f2b",
   "metadata": {},
   "outputs": [],
   "source": [
    "lower_and_upper_limits = [] \n",
    "for j in range(loaded_npy_files[0].shape[1]):\n",
    "    values = loaded_npy_files[0][:,j]\n",
    "    # compute the lower and upper bounds?\n",
    "    li = np.percentile(values, axis = 0, q = (2.5, 97.5))[0]    \n",
    "    ui = np.percentile(values, axis = 0, q = (2.5, 97.5))[1]\n",
    "    lower_and_upper_limits.append((li, ui))"
   ]
  },
  {
   "cell_type": "code",
   "execution_count": 129,
   "id": "0593dae1-4d70-48b3-88f1-9a0964be600e",
   "metadata": {},
   "outputs": [
    {
     "data": {
      "text/plain": [
       "[(-0.009683974832296372, 0.010318586975336075),\n",
       " (-0.006658805906772614, 0.005869914963841436),\n",
       " (-0.007768503576517105, 0.0013098135590553259),\n",
       " (-0.0055918339639902115, 0.01101570427417755),\n",
       " (-0.0037611529231071474, 0.007177750766277313),\n",
       " (-0.002605832740664482, 0.002979985997080802),\n",
       " (-0.004100502654910088, -0.0004055678844451906)]"
      ]
     },
     "execution_count": 129,
     "metadata": {},
     "output_type": "execute_result"
    }
   ],
   "source": [
    "lower_and_upper_limits"
   ]
  },
  {
   "cell_type": "code",
   "execution_count": 130,
   "id": "46213b78-ec25-4f81-add5-42a6d15bfcfe",
   "metadata": {},
   "outputs": [
    {
     "name": "stdout",
     "output_type": "stream",
     "text": [
      "CPU times: user 853 ms, sys: 1.71 ms, total: 855 ms\n",
      "Wall time: 856 ms\n"
     ]
    }
   ],
   "source": [
    "%%time\n",
    "# Do this for all files?\n",
    "catch_all_percentiles = []\n",
    "for i in range(len(loaded_npy_files)):\n",
    "    all_lower_and_upper_limits = [] \n",
    "    for j in range(loaded_npy_files[i].shape[1]):\n",
    "        values = loaded_npy_files[i][:,j]\n",
    "        # compute the lower and upper bounds?\n",
    "        li = np.percentile(values, axis = 0, q = (2.5, 97.5))[0]    \n",
    "        ui = np.percentile(values, axis = 0, q = (2.5, 97.5))[1]\n",
    "        all_lower_and_upper_limits.append((li, ui))\n",
    "    catch_all_percentiles.append(all_lower_and_upper_limits)\n",
    "    "
   ]
  },
  {
   "cell_type": "code",
   "execution_count": 131,
   "id": "ff1bf688-0f0a-4703-9056-471c60e793b7",
   "metadata": {},
   "outputs": [
    {
     "data": {
      "text/plain": [
       "910"
      ]
     },
     "execution_count": 131,
     "metadata": {},
     "output_type": "execute_result"
    }
   ],
   "source": [
    "len(catch_all_percentiles)"
   ]
  },
  {
   "cell_type": "code",
   "execution_count": 132,
   "id": "02db8873-f844-4dc6-b6ae-c04aca24099d",
   "metadata": {},
   "outputs": [],
   "source": [
    "catch_inside_length = []\n",
    "for limit_values in catch_all_percentiles:\n",
    "    length = len(limit_values)\n",
    "    catch_inside_length.append(length)"
   ]
  },
  {
   "cell_type": "code",
   "execution_count": 133,
   "id": "e6d08eb0-1132-465d-8e8d-cb39b675da4e",
   "metadata": {},
   "outputs": [
    {
     "data": {
      "text/plain": [
       "7.0"
      ]
     },
     "execution_count": 133,
     "metadata": {},
     "output_type": "execute_result"
    }
   ],
   "source": [
    "np.mean(catch_inside_length)"
   ]
  },
  {
   "cell_type": "code",
   "execution_count": 134,
   "id": "ee051bb6-0d20-44c2-bba4-aed93879566e",
   "metadata": {},
   "outputs": [],
   "source": [
    "# We may need a multitude of sanity checks to make sure we are correctly computing the coverages and widths. Now at this point, we can go ahead and compute the CI widths using the credible intervals? As this computation seems fairly simple?"
   ]
  },
  {
   "cell_type": "code",
   "execution_count": 135,
   "id": "0e25abcb-7754-4f52-b879-6fefe82dca8a",
   "metadata": {},
   "outputs": [
    {
     "data": {
      "text/plain": [
       "7"
      ]
     },
     "execution_count": 135,
     "metadata": {},
     "output_type": "execute_result"
    }
   ],
   "source": [
    "len(catch_all_percentiles[0])"
   ]
  },
  {
   "cell_type": "code",
   "execution_count": 136,
   "id": "503f2147-13d7-40b2-8920-ee4ccc007aeb",
   "metadata": {},
   "outputs": [],
   "source": [
    "all_percentiles_for_widths = [item for limit_values in catch_all_percentiles for item in limit_values]"
   ]
  },
  {
   "cell_type": "code",
   "execution_count": 137,
   "id": "767da887-164b-4d35-ae5d-9928181abc1a",
   "metadata": {},
   "outputs": [
    {
     "data": {
      "text/plain": [
       "6370"
      ]
     },
     "execution_count": 137,
     "metadata": {},
     "output_type": "execute_result"
    }
   ],
   "source": [
    "len(all_percentiles_for_widths)"
   ]
  },
  {
   "cell_type": "code",
   "execution_count": 138,
   "id": "9cb5f303-b818-4dc1-beb1-427c50c411c3",
   "metadata": {},
   "outputs": [],
   "source": [
    "# do some sanity check?"
   ]
  },
  {
   "cell_type": "code",
   "execution_count": 139,
   "id": "8472812a-8ded-468a-b778-8cee8f86a68c",
   "metadata": {},
   "outputs": [
    {
     "data": {
      "text/plain": [
       "[(-0.025769570842385292, -0.0017697088420391158),\n",
       " (-0.01740301102399826, -0.0016904819756746303),\n",
       " (-0.013345100358128548, -0.00020719952881336282),\n",
       " (-0.008005287870764733, 0.005115627869963645),\n",
       " (0.00081821046769619, 0.013662023097276687),\n",
       " (0.007326826453208923, 0.019049600511789323),\n",
       " (0.010794104263186454, 0.022255174815654755)]"
      ]
     },
     "execution_count": 139,
     "metadata": {},
     "output_type": "execute_result"
    }
   ],
   "source": [
    "catch_all_percentiles[1]"
   ]
  },
  {
   "cell_type": "code",
   "execution_count": 140,
   "id": "becf777c-14a3-4bbd-9e66-a208d7c91298",
   "metadata": {},
   "outputs": [
    {
     "data": {
      "text/plain": [
       "[(-0.025769570842385292, -0.0017697088420391158),\n",
       " (-0.01740301102399826, -0.0016904819756746303),\n",
       " (-0.013345100358128548, -0.00020719952881336282),\n",
       " (-0.008005287870764733, 0.005115627869963645),\n",
       " (0.00081821046769619, 0.013662023097276687),\n",
       " (0.007326826453208923, 0.019049600511789323),\n",
       " (0.010794104263186454, 0.022255174815654755)]"
      ]
     },
     "execution_count": 140,
     "metadata": {},
     "output_type": "execute_result"
    }
   ],
   "source": [
    "all_percentiles_for_widths[7:14]"
   ]
  },
  {
   "cell_type": "code",
   "execution_count": 141,
   "id": "7cd4c952-1194-4eb4-9b2a-b18bed651de7",
   "metadata": {},
   "outputs": [],
   "source": [
    "# seems this is right, let's move forward with the computation of the CI widths?"
   ]
  },
  {
   "cell_type": "code",
   "execution_count": 142,
   "id": "9e7d3cfe-96de-4650-8797-46ecba615862",
   "metadata": {},
   "outputs": [],
   "source": [
    "catch_wdths = []\n",
    "for values in all_percentiles_for_widths:\n",
    "    width = values[1] - values[0]\n",
    "    catch_wdths.append(width)"
   ]
  },
  {
   "cell_type": "code",
   "execution_count": 143,
   "id": "13b70b3e-2a3d-4a46-b0bd-c5837cc55588",
   "metadata": {},
   "outputs": [
    {
     "data": {
      "text/plain": [
       "0.2289312568803433"
      ]
     },
     "execution_count": 143,
     "metadata": {},
     "output_type": "execute_result"
    }
   ],
   "source": [
    "# average CI width\n",
    "Average_CI_width = np.mean(catch_wdths)\n",
    "Average_CI_width"
   ]
  },
  {
   "cell_type": "code",
   "execution_count": 144,
   "id": "91d4f750-ced3-4a77-8d90-1c5d7c6ea281",
   "metadata": {},
   "outputs": [],
   "source": [
    "# do a few sanity checks  before we proceed?"
   ]
  },
  {
   "cell_type": "code",
   "execution_count": 145,
   "id": "9107c4fd-a1f0-4f25-b0c1-1a2c74a2c910",
   "metadata": {},
   "outputs": [
    {
     "data": {
      "text/plain": [
       "[0.02000256180763245,\n",
       " 0.01252872087061405,\n",
       " 0.00907831713557243,\n",
       " 0.01660753823816776,\n",
       " 0.01093890368938446,\n",
       " 0.005585818737745284,\n",
       " 0.003694934770464897]"
      ]
     },
     "execution_count": 145,
     "metadata": {},
     "output_type": "execute_result"
    }
   ],
   "source": [
    "catch_wdths[0:7]"
   ]
  },
  {
   "cell_type": "code",
   "execution_count": 146,
   "id": "60f9d8eb-9b91-464c-bb0c-590abba2362f",
   "metadata": {},
   "outputs": [
    {
     "name": "stdout",
     "output_type": "stream",
     "text": [
      "0.02000256180763245\n",
      "0.01252872087061405\n",
      "0.00907831713557243\n",
      "0.01660753823816776\n",
      "0.01093890368938446\n",
      "0.005585818737745284\n",
      "0.003694934770464897\n"
     ]
    }
   ],
   "source": [
    "print(catch_all_percentiles[0][0][1] - catch_all_percentiles[0][0][0])\n",
    "print(catch_all_percentiles[0][1][1] - catch_all_percentiles[0][1][0])\n",
    "print(catch_all_percentiles[0][2][1] - catch_all_percentiles[0][2][0])\n",
    "print(catch_all_percentiles[0][3][1] - catch_all_percentiles[0][3][0])\n",
    "print(catch_all_percentiles[0][4][1] - catch_all_percentiles[0][4][0])\n",
    "print(catch_all_percentiles[0][5][1] - catch_all_percentiles[0][5][0])\n",
    "print(catch_all_percentiles[0][6][1] - catch_all_percentiles[0][6][0])"
   ]
  },
  {
   "cell_type": "code",
   "execution_count": 147,
   "id": "f466fcea-eff8-4b63-9540-767821406287",
   "metadata": {},
   "outputs": [],
   "source": [
    "# Okay, we can move on now"
   ]
  },
  {
   "cell_type": "code",
   "execution_count": 148,
   "id": "b5a8d271-ed68-49e9-8ddf-56eeb7b8b118",
   "metadata": {},
   "outputs": [],
   "source": [
    "# What about the coverage?\n",
    "# Now this list - all_percentiles_for_widths - this is in the oder of the subwindows - but before proceeding to the next subwindow, it also tracks across the 7 time periods.\n",
    "# so now, we have the true values in a dataframe in the shape (7,910), we can stack these ina single column  - and basically then have to track if this value is inbetween the two upper and lower limits in the list all_percentiles_for_widths."
   ]
  },
  {
   "cell_type": "code",
   "execution_count": 149,
   "id": "7eabdb5c-e122-47b3-99c3-1802837f8d2b",
   "metadata": {},
   "outputs": [],
   "source": [
    "# cool, so let's get this true values dataset arranged  in one single column?"
   ]
  },
  {
   "cell_type": "code",
   "execution_count": 150,
   "id": "d3260a19-4371-4ac3-b2fa-f3e1f309e0f2",
   "metadata": {},
   "outputs": [],
   "source": [
    "# actually, we have already done that"
   ]
  },
  {
   "cell_type": "code",
   "execution_count": 151,
   "id": "18e5cf5d-b982-4aa8-b0d1-75b33359c8d4",
   "metadata": {},
   "outputs": [
    {
     "data": {
      "text/plain": [
       "(6370, 1)"
      ]
     },
     "execution_count": 151,
     "metadata": {},
     "output_type": "execute_result"
    }
   ],
   "source": [
    "exp_true_onecol.shape"
   ]
  },
  {
   "cell_type": "code",
   "execution_count": 152,
   "id": "9fd666d6-a90c-4c85-8fa1-b973843c31d2",
   "metadata": {},
   "outputs": [
    {
     "data": {
      "text/html": [
       "<div>\n",
       "<style scoped>\n",
       "    .dataframe tbody tr th:only-of-type {\n",
       "        vertical-align: middle;\n",
       "    }\n",
       "\n",
       "    .dataframe tbody tr th {\n",
       "        vertical-align: top;\n",
       "    }\n",
       "\n",
       "    .dataframe thead th {\n",
       "        text-align: right;\n",
       "    }\n",
       "</style>\n",
       "<table border=\"1\" class=\"dataframe\">\n",
       "  <thead>\n",
       "    <tr style=\"text-align: right;\">\n",
       "      <th></th>\n",
       "      <th>True_values</th>\n",
       "    </tr>\n",
       "  </thead>\n",
       "  <tbody>\n",
       "    <tr>\n",
       "      <th>0</th>\n",
       "      <td>0.0</td>\n",
       "    </tr>\n",
       "    <tr>\n",
       "      <th>1</th>\n",
       "      <td>0.0</td>\n",
       "    </tr>\n",
       "    <tr>\n",
       "      <th>2</th>\n",
       "      <td>0.0</td>\n",
       "    </tr>\n",
       "    <tr>\n",
       "      <th>3</th>\n",
       "      <td>0.0</td>\n",
       "    </tr>\n",
       "    <tr>\n",
       "      <th>4</th>\n",
       "      <td>0.0</td>\n",
       "    </tr>\n",
       "  </tbody>\n",
       "</table>\n",
       "</div>"
      ],
      "text/plain": [
       "   True_values\n",
       "0          0.0\n",
       "1          0.0\n",
       "2          0.0\n",
       "3          0.0\n",
       "4          0.0"
      ]
     },
     "execution_count": 152,
     "metadata": {},
     "output_type": "execute_result"
    }
   ],
   "source": [
    "exp_true_onecol.head()"
   ]
  },
  {
   "cell_type": "code",
   "execution_count": 153,
   "id": "ce2b14ca-1704-4051-9cdc-eb450c820c49",
   "metadata": {},
   "outputs": [],
   "source": [
    "All_exp_true_vals_array = exp_true_onecol.values.reshape(-1)"
   ]
  },
  {
   "cell_type": "code",
   "execution_count": 154,
   "id": "b85bdec1-fe7e-4d47-845e-156fbb923423",
   "metadata": {},
   "outputs": [
    {
     "data": {
      "text/plain": [
       "(6370,)"
      ]
     },
     "execution_count": 154,
     "metadata": {},
     "output_type": "execute_result"
    }
   ],
   "source": [
    "All_exp_true_vals_array.shape"
   ]
  },
  {
   "cell_type": "code",
   "execution_count": 155,
   "id": "1c0ac8a1-b72a-44e8-8e9b-d9cab757acb0",
   "metadata": {},
   "outputs": [
    {
     "data": {
      "text/plain": [
       "(0.0, 1.0051383145915733)"
      ]
     },
     "execution_count": 155,
     "metadata": {},
     "output_type": "execute_result"
    }
   ],
   "source": [
    "All_exp_true_vals_array.min(), All_exp_true_vals_array.max()"
   ]
  },
  {
   "cell_type": "code",
   "execution_count": 156,
   "id": "4e49562c-7f70-4578-91e5-1a8916504fdc",
   "metadata": {},
   "outputs": [],
   "source": [
    "# cool, now check if this value is inbetween the upper and the lower limits contained in the list - all_percentiles_for_widths"
   ]
  },
  {
   "cell_type": "code",
   "execution_count": 157,
   "id": "8de7beae-6ecd-44ce-8dc4-4dd8d7a1a93a",
   "metadata": {},
   "outputs": [],
   "source": [
    "Catch_all_indicators = []\n",
    "for i in range(All_exp_true_vals_array.shape[0]):\n",
    "    true_value = All_exp_true_vals_array[i]\n",
    "    li_val = all_percentiles_for_widths[i][0]\n",
    "    ui_val = all_percentiles_for_widths[i][1]\n",
    "    ind_train = (true_value >= li_val) & (true_value <= ui_val)\n",
    "    Catch_all_indicators.append(ind_train)"
   ]
  },
  {
   "cell_type": "code",
   "execution_count": 158,
   "id": "85ab4671-0c07-4499-9dd4-60b4a433f516",
   "metadata": {},
   "outputs": [
    {
     "data": {
      "text/plain": [
       "0.6728414442700157"
      ]
     },
     "execution_count": 158,
     "metadata": {},
     "output_type": "execute_result"
    }
   ],
   "source": [
    "coverage_val = np.mean(Catch_all_indicators)\n",
    "coverage_val"
   ]
  },
  {
   "cell_type": "code",
   "execution_count": 159,
   "id": "cb369b20-1fd5-4746-a6bb-ac663ff346af",
   "metadata": {},
   "outputs": [],
   "source": [
    "# I think we are ready to replicate this for the rest of the blocks? Let's push the recent work to GitHub"
   ]
  }
 ],
 "metadata": {
  "kernelspec": {
   "display_name": "Python (tfp_cpu_env)",
   "language": "python",
   "name": "tfp_cpu_env"
  },
  "language_info": {
   "codemirror_mode": {
    "name": "ipython",
    "version": 3
   },
   "file_extension": ".py",
   "mimetype": "text/x-python",
   "name": "python",
   "nbconvert_exporter": "python",
   "pygments_lexer": "ipython3",
   "version": "3.11.7"
  }
 },
 "nbformat": 4,
 "nbformat_minor": 5
}
