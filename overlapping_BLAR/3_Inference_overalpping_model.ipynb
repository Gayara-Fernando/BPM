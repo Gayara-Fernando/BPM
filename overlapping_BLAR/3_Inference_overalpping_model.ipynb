{
 "cells": [
  {
   "cell_type": "code",
   "execution_count": 1,
   "id": "99454c17-5452-464f-b4d3-12e7dd7abeb8",
   "metadata": {},
   "outputs": [],
   "source": [
    "# Okay, in this work, we will still not be storing the extracted features that we will be using in the stage 2 model, but rather focus on the model performnace, incase we need to report this somewhere."
   ]
  },
  {
   "cell_type": "code",
   "execution_count": null,
   "id": "59fbe3d2-c29f-4cc0-9333-a278b0956d8c",
   "metadata": {},
   "outputs": [
    {
     "name": "stderr",
     "output_type": "stream",
     "text": [
      "2025-08-28 10:26:30.386517: I tensorflow/core/util/port.cc:113] oneDNN custom operations are on. You may see slightly different numerical results due to floating-point round-off errors from different computation orders. To turn them off, set the environment variable `TF_ENABLE_ONEDNN_OPTS=0`.\n",
      "2025-08-28 10:26:30.423562: E external/local_xla/xla/stream_executor/cuda/cuda_dnn.cc:9261] Unable to register cuDNN factory: Attempting to register factory for plugin cuDNN when one has already been registered\n",
      "2025-08-28 10:26:30.423586: E external/local_xla/xla/stream_executor/cuda/cuda_fft.cc:607] Unable to register cuFFT factory: Attempting to register factory for plugin cuFFT when one has already been registered\n",
      "2025-08-28 10:26:30.424481: E external/local_xla/xla/stream_executor/cuda/cuda_blas.cc:1515] Unable to register cuBLAS factory: Attempting to register factory for plugin cuBLAS when one has already been registered\n",
      "2025-08-28 10:26:30.430311: I tensorflow/core/platform/cpu_feature_guard.cc:182] This TensorFlow binary is optimized to use available CPU instructions in performance-critical operations.\n",
      "To enable the following instructions: SSE4.1 SSE4.2 AVX AVX2 AVX512F AVX512_VNNI FMA, in other operations, rebuild TensorFlow with the appropriate compiler flags.\n"
     ]
    }
   ],
   "source": [
    "import tensorflow as tf\n",
    "import numpy as np\n",
    "import os\n",
    "import pandas as pd\n",
    "import matplotlib.pyplot as plt"
   ]
  },
  {
   "cell_type": "code",
   "execution_count": null,
   "id": "6de9fdae-ed8e-4612-8b62-b214653a16bd",
   "metadata": {},
   "outputs": [],
   "source": [
    "# import the model here?"
   ]
  },
  {
   "cell_type": "code",
   "execution_count": null,
   "id": "14563aad-2c1b-44d4-b384-8a0a67ccb6dd",
   "metadata": {},
   "outputs": [],
   "source": [
    "model = tf.keras.models.load_model(\"models/CNN_seq2seq_overlapping.keras\")"
   ]
  },
  {
   "cell_type": "code",
   "execution_count": null,
   "id": "433a24f1-2aba-4298-b276-3dd56c8748dd",
   "metadata": {},
   "outputs": [],
   "source": [
    "model.summary()"
   ]
  },
  {
   "cell_type": "code",
   "execution_count": null,
   "id": "2ebb417a-ecf7-4c00-9f9a-806d117aa105",
   "metadata": {},
   "outputs": [],
   "source": [
    "# we might even need the data generator for the predictions - hold on to this thought for now"
   ]
  },
  {
   "cell_type": "code",
   "execution_count": null,
   "id": "9e3c25f1-3723-42e0-b32c-4b6408615474",
   "metadata": {},
   "outputs": [],
   "source": []
  },
  {
   "cell_type": "code",
   "execution_count": null,
   "id": "4b2b93ea-5b4c-41ad-81e2-eabb6acaf08a",
   "metadata": {},
   "outputs": [],
   "source": []
  },
  {
   "cell_type": "code",
   "execution_count": null,
   "id": "8d94d977-0b9c-4f9d-a944-59e831a07fad",
   "metadata": {},
   "outputs": [],
   "source": []
  }
 ],
 "metadata": {
  "kernelspec": {
   "display_name": "Python (nrdstor_tfp_for_TN)",
   "language": "python",
   "name": "nrdstor_tfp_for_tn"
  },
  "language_info": {
   "codemirror_mode": {
    "name": "ipython",
    "version": 3
   },
   "file_extension": ".py",
   "mimetype": "text/x-python",
   "name": "python",
   "nbconvert_exporter": "python",
   "pygments_lexer": "ipython3",
   "version": "3.10.14"
  }
 },
 "nbformat": 4,
 "nbformat_minor": 5
}
