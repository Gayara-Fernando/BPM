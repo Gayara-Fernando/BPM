{
 "cells": [
  {
   "cell_type": "code",
   "execution_count": 1,
   "id": "99454c17-5452-464f-b4d3-12e7dd7abeb8",
   "metadata": {},
   "outputs": [],
   "source": [
    "# Okay, in this work, we will still not be storing the extracted features that we will be using in the stage 2 model, but rather focus on the model performnace, incase we need to report this somewhere."
   ]
  },
  {
   "cell_type": "code",
   "execution_count": 2,
   "id": "59fbe3d2-c29f-4cc0-9333-a278b0956d8c",
   "metadata": {},
   "outputs": [
    {
     "name": "stderr",
     "output_type": "stream",
     "text": [
      "2025-08-28 11:35:53.361851: I tensorflow/core/util/port.cc:113] oneDNN custom operations are on. You may see slightly different numerical results due to floating-point round-off errors from different computation orders. To turn them off, set the environment variable `TF_ENABLE_ONEDNN_OPTS=0`.\n",
      "2025-08-28 11:35:53.477957: E external/local_xla/xla/stream_executor/cuda/cuda_dnn.cc:9261] Unable to register cuDNN factory: Attempting to register factory for plugin cuDNN when one has already been registered\n",
      "2025-08-28 11:35:53.477984: E external/local_xla/xla/stream_executor/cuda/cuda_fft.cc:607] Unable to register cuFFT factory: Attempting to register factory for plugin cuFFT when one has already been registered\n",
      "2025-08-28 11:35:53.478910: E external/local_xla/xla/stream_executor/cuda/cuda_blas.cc:1515] Unable to register cuBLAS factory: Attempting to register factory for plugin cuBLAS when one has already been registered\n",
      "2025-08-28 11:35:53.484816: I tensorflow/core/platform/cpu_feature_guard.cc:182] This TensorFlow binary is optimized to use available CPU instructions in performance-critical operations.\n",
      "To enable the following instructions: SSE4.1 SSE4.2 AVX AVX2 AVX512F AVX512_VNNI FMA, in other operations, rebuild TensorFlow with the appropriate compiler flags.\n"
     ]
    }
   ],
   "source": [
    "import tensorflow as tf\n",
    "import pandas as pd\n",
    "import numpy as np\n",
    "import os\n",
    "from sklearn.metrics import mean_squared_error, mean_absolute_error, r2_score\n",
    "from scipy.stats import pearsonr\n",
    "from data_generator import DataGenerator, batch_predict"
   ]
  },
  {
   "cell_type": "code",
   "execution_count": 3,
   "id": "6de9fdae-ed8e-4612-8b62-b214653a16bd",
   "metadata": {},
   "outputs": [],
   "source": [
    "# import the model here?"
   ]
  },
  {
   "cell_type": "code",
   "execution_count": 4,
   "id": "14563aad-2c1b-44d4-b384-8a0a67ccb6dd",
   "metadata": {},
   "outputs": [
    {
     "name": "stdout",
     "output_type": "stream",
     "text": [
      "WARNING:tensorflow:Layer lstm will not use cuDNN kernels since it doesn't meet the criteria. It will use a generic GPU kernel as fallback when running on GPU.\n",
      "WARNING:tensorflow:Layer lstm_1 will not use cuDNN kernels since it doesn't meet the criteria. It will use a generic GPU kernel as fallback when running on GPU.\n"
     ]
    },
    {
     "name": "stderr",
     "output_type": "stream",
     "text": [
      "2025-08-28 11:36:30.715767: I tensorflow/core/common_runtime/gpu/gpu_device.cc:1929] Created device /job:localhost/replica:0/task:0/device:GPU:0 with 31134 MB memory:  -> device: 0, name: Tesla V100S-PCIE-32GB, pci bus id: 0000:06:00.0, compute capability: 7.0\n"
     ]
    }
   ],
   "source": [
    "model = tf.keras.models.load_model(\"models/CNN_seq2seq_overlapping.keras\")"
   ]
  },
  {
   "cell_type": "code",
   "execution_count": 5,
   "id": "433a24f1-2aba-4298-b276-3dd56c8748dd",
   "metadata": {},
   "outputs": [
    {
     "name": "stdout",
     "output_type": "stream",
     "text": [
      "Model: \"model_2\"\n",
      "__________________________________________________________________________________________________\n",
      " Layer (type)                Output Shape                 Param #   Connected to                  \n",
      "==================================================================================================\n",
      " input_1 (InputLayer)        [(None, 13, None, None, 3)   0         []                            \n",
      "                             ]                                                                    \n",
      "                                                                                                  \n",
      " time_distributed (TimeDist  (None, 13, 32)               71808     ['input_1[0][0]']             \n",
      " ributed)                                                                                         \n",
      "                                                                                                  \n",
      " lstm (LSTM)                 [(None, 64),                 24832     ['time_distributed[0][0]']    \n",
      "                              (None, 64),                                                         \n",
      "                              (None, 64)]                                                         \n",
      "                                                                                                  \n",
      " repeat_vector (RepeatVecto  (None, 7, 64)                0         ['lstm[0][0]']                \n",
      " r)                                                                                               \n",
      "                                                                                                  \n",
      " lstm_1 (LSTM)               (None, 7, 64)                33024     ['repeat_vector[0][0]',       \n",
      "                                                                     'lstm[0][1]',                \n",
      "                                                                     'lstm[0][2]']                \n",
      "                                                                                                  \n",
      " time_distributed_1 (TimeDi  (None, 7, 32)                2080      ['lstm_1[0][0]']              \n",
      " stributed)                                                                                       \n",
      "                                                                                                  \n",
      "==================================================================================================\n",
      "Total params: 131744 (514.62 KB)\n",
      "Trainable params: 103104 (402.75 KB)\n",
      "Non-trainable params: 28640 (111.88 KB)\n",
      "__________________________________________________________________________________________________\n"
     ]
    }
   ],
   "source": [
    "model.summary()"
   ]
  },
  {
   "cell_type": "code",
   "execution_count": 6,
   "id": "2ebb417a-ecf7-4c00-9f9a-806d117aa105",
   "metadata": {},
   "outputs": [],
   "source": [
    "# we might even need the data generator for the predictions - hold on to this thought for now"
   ]
  },
  {
   "cell_type": "code",
   "execution_count": 7,
   "id": "9e3c25f1-3723-42e0-b32c-4b6408615474",
   "metadata": {},
   "outputs": [],
   "source": [
    "# locate the test data"
   ]
  },
  {
   "cell_type": "code",
   "execution_count": 8,
   "id": "4b2b93ea-5b4c-41ad-81e2-eabb6acaf08a",
   "metadata": {},
   "outputs": [],
   "source": [
    "# input features\n",
    "input_features_loc = 'data/test_input_sub_images'\n",
    "input_contents = os.listdir(input_features_loc)\n",
    "input_contents.sort()"
   ]
  },
  {
   "cell_type": "code",
   "execution_count": 9,
   "id": "8d94d977-0b9c-4f9d-a944-59e831a07fad",
   "metadata": {},
   "outputs": [
    {
     "data": {
      "text/plain": [
       "['test_data_blk_0103.npy',\n",
       " 'test_data_blk_0104.npy',\n",
       " 'test_data_blk_0105.npy',\n",
       " 'test_data_blk_0106.npy',\n",
       " 'test_data_blk_0201.npy',\n",
       " 'test_data_blk_0202.npy',\n",
       " 'test_data_blk_0205.npy',\n",
       " 'test_data_blk_0206.npy',\n",
       " 'test_data_blk_0302.npy',\n",
       " 'test_data_blk_0303.npy',\n",
       " 'test_data_blk_0304.npy',\n",
       " 'test_data_blk_0305.npy',\n",
       " 'test_data_blk_0306.npy']"
      ]
     },
     "execution_count": 9,
     "metadata": {},
     "output_type": "execute_result"
    }
   ],
   "source": [
    "input_contents"
   ]
  },
  {
   "cell_type": "code",
   "execution_count": 10,
   "id": "67795a38-ff9e-41a2-95c5-ea5ddd71bf3a",
   "metadata": {},
   "outputs": [],
   "source": [
    "# test targets\n",
    "out_targets_loc = 'data/test_out_targets'\n",
    "out_contents = os.listdir(out_targets_loc)\n",
    "out_contents.sort()"
   ]
  },
  {
   "cell_type": "code",
   "execution_count": 11,
   "id": "65958593-d397-403d-8fc8-7e1a5d9eb5b4",
   "metadata": {},
   "outputs": [
    {
     "data": {
      "text/plain": [
       "['test_targets_blk_0103.npy',\n",
       " 'test_targets_blk_0104.npy',\n",
       " 'test_targets_blk_0105.npy',\n",
       " 'test_targets_blk_0106.npy',\n",
       " 'test_targets_blk_0201.npy',\n",
       " 'test_targets_blk_0202.npy',\n",
       " 'test_targets_blk_0205.npy',\n",
       " 'test_targets_blk_0206.npy',\n",
       " 'test_targets_blk_0302.npy',\n",
       " 'test_targets_blk_0303.npy',\n",
       " 'test_targets_blk_0304.npy',\n",
       " 'test_targets_blk_0305.npy',\n",
       " 'test_targets_blk_0306.npy']"
      ]
     },
     "execution_count": 11,
     "metadata": {},
     "output_type": "execute_result"
    }
   ],
   "source": [
    "out_contents"
   ]
  },
  {
   "cell_type": "code",
   "execution_count": 12,
   "id": "c8a778e8-86c1-4872-8017-a81c056c7796",
   "metadata": {},
   "outputs": [],
   "source": [
    "trial_test_features = np.load(os.path.join(input_features_loc, input_contents[0]))"
   ]
  },
  {
   "cell_type": "code",
   "execution_count": 13,
   "id": "722b4fd1-ce88-43ac-b5ed-4bf7bba0672a",
   "metadata": {},
   "outputs": [
    {
     "data": {
      "text/plain": [
       "(3072, 13, 100, 100, 3)"
      ]
     },
     "execution_count": 13,
     "metadata": {},
     "output_type": "execute_result"
    }
   ],
   "source": [
    "trial_test_features.shape"
   ]
  },
  {
   "cell_type": "code",
   "execution_count": 14,
   "id": "e50b0904-9f17-46d8-9a8a-62ea7ed70953",
   "metadata": {},
   "outputs": [],
   "source": [
    "trial_test_targets = np.load(os.path.join(out_targets_loc, out_contents[0]))"
   ]
  },
  {
   "cell_type": "code",
   "execution_count": 15,
   "id": "88dc038e-4c87-4d22-84ce-66278a9768d3",
   "metadata": {},
   "outputs": [
    {
     "data": {
      "text/plain": [
       "(3072, 7, 32)"
      ]
     },
     "execution_count": 15,
     "metadata": {},
     "output_type": "execute_result"
    }
   ],
   "source": [
    "trial_test_targets.shape"
   ]
  },
  {
   "cell_type": "code",
   "execution_count": 18,
   "id": "9586ce99-24fc-43bb-819e-6dcd8244904f",
   "metadata": {
    "scrolled": true
   },
   "outputs": [
    {
     "name": "stdout",
     "output_type": "stream",
     "text": [
      "Predictions: 3072\n",
      "True: 3072\n",
      "1.0\n",
      "Predictions: 3072\n",
      "True: 3072\n",
      "1.0\n",
      "Predictions: 3072\n",
      "True: 3072\n",
      "1.0\n",
      "Predictions: 3072\n",
      "True: 3072\n",
      "1.0\n",
      "Predictions: 3072\n",
      "True: 3072\n",
      "1.0\n",
      "Predictions: 3072\n",
      "True: 3072\n",
      "1.0\n",
      "Predictions: 3072\n",
      "True: 3072\n",
      "1.0\n",
      "Predictions: 3072\n",
      "True: 3072\n",
      "1.0\n",
      "Predictions: 3072\n",
      "True: 3072\n",
      "1.0\n",
      "Predictions: 3072\n",
      "True: 3072\n",
      "1.0\n",
      "Predictions: 3072\n",
      "True: 3072\n",
      "1.0\n",
      "Predictions: 3072\n",
      "True: 3072\n",
      "1.0\n",
      "Predictions: 3072\n",
      "True: 3072\n",
      "1.0\n",
      "CPU times: user 3min 7s, sys: 2min 27s, total: 5min 34s\n",
      "Wall time: 6min 26s\n"
     ]
    }
   ],
   "source": [
    "%%time\n",
    "# Get preds in a loop\n",
    "# now how to proceed? We may need to do a batch predict now using the generator \n",
    "\n",
    "batch_size = 32\n",
    "test_rmse = []\n",
    "test_mae = []\n",
    "test_r2 = []\n",
    "test_pearsonr = []\n",
    "preds = []\n",
    "for i in range(len(input_contents)):\n",
    "    # load the features\n",
    "    test_features = np.load(os.path.join(input_features_loc, input_contents[i]))\n",
    "    # load targets\n",
    "    test_targets = np.load(os.path.join(out_targets_loc, out_contents[i]))\n",
    "    test_data_gen = DataGenerator(test_features, test_targets, batch_size, shuffle=False)\n",
    "    # Use the batch predictions to generate the predictions\n",
    "    test_preds, test_targets_alt = batch_predict(model, test_data_gen, flatten=True, verbose=True)\n",
    "    preds.append(test_preds)\n",
    "    print(np.mean(test_targets == test_targets_alt))\n",
    "    # compute the test scores, I think we need to flatten these before computing the scores - or can use tf, but the answers are going to be the same\n",
    "    test_preds_flatten = test_preds.flatten()\n",
    "    test_targets_flatten = test_targets_alt.flatten()\n",
    "    mae = mean_absolute_error(test_targets_flatten, test_preds_flatten)\n",
    "    test_mae.append(mae)\n",
    "    rmse = np.sqrt(mean_squared_error(test_targets_flatten, test_preds_flatten))\n",
    "    test_rmse.append(rmse)\n",
    "    rsquare = r2_score(test_targets_flatten, test_preds_flatten)\n",
    "    test_r2.append(rsquare)\n",
    "    pearsonr_score = pearsonr(test_targets_flatten, test_preds_flatten)[0]\n",
    "    test_pearsonr.append(pearsonr_score)"
   ]
  },
  {
   "cell_type": "code",
   "execution_count": 19,
   "id": "e8b78d5b-5749-49d6-b150-2a5013fc672e",
   "metadata": {},
   "outputs": [
    {
     "data": {
      "text/plain": [
       "[0.31747225,\n",
       " 0.33733016,\n",
       " 0.32803968,\n",
       " 0.38530892,\n",
       " 0.33115408,\n",
       " 0.33046874,\n",
       " 0.3833809,\n",
       " 0.36769372,\n",
       " 0.31380218,\n",
       " 0.3293048,\n",
       " 0.3241302,\n",
       " 0.35331967,\n",
       " 0.35684893]"
      ]
     },
     "execution_count": 19,
     "metadata": {},
     "output_type": "execute_result"
    }
   ],
   "source": [
    "test_rmse"
   ]
  },
  {
   "cell_type": "code",
   "execution_count": 20,
   "id": "ff53bb61-d7bd-44ad-8329-6b6ecc441e8d",
   "metadata": {},
   "outputs": [
    {
     "data": {
      "text/plain": [
       "[0.1478077,\n",
       " 0.15567987,\n",
       " 0.14954916,\n",
       " 0.17246297,\n",
       " 0.15214655,\n",
       " 0.1489777,\n",
       " 0.17234473,\n",
       " 0.1662072,\n",
       " 0.14160922,\n",
       " 0.15481646,\n",
       " 0.15099059,\n",
       " 0.16074558,\n",
       " 0.1618812]"
      ]
     },
     "execution_count": 20,
     "metadata": {},
     "output_type": "execute_result"
    }
   ],
   "source": [
    "test_mae"
   ]
  },
  {
   "cell_type": "code",
   "execution_count": 21,
   "id": "65a472e6-db07-4097-84c2-75fcb7ec4edf",
   "metadata": {},
   "outputs": [
    {
     "data": {
      "text/plain": [
       "[0.6998363846105589,\n",
       " 0.7643457803414436,\n",
       " 0.776506259636776,\n",
       " 0.7460724804232809,\n",
       " 0.7202018945241722,\n",
       " 0.7035406125648127,\n",
       " 0.7557951187434061,\n",
       " 0.6993896240142365,\n",
       " 0.7433063749618761,\n",
       " 0.6689548479563204,\n",
       " 0.7321527900747793,\n",
       " 0.7004014576007314,\n",
       " 0.7160688919291099]"
      ]
     },
     "execution_count": 21,
     "metadata": {},
     "output_type": "execute_result"
    }
   ],
   "source": [
    "test_r2"
   ]
  },
  {
   "cell_type": "code",
   "execution_count": 22,
   "id": "fdb876a3-f3ff-4972-9b0d-7cb448f8fb30",
   "metadata": {},
   "outputs": [
    {
     "data": {
      "text/plain": [
       "[0.839462761676179,\n",
       " 0.8774650611564724,\n",
       " 0.8874691152933466,\n",
       " 0.8793896738958116,\n",
       " 0.8496702982731692,\n",
       " 0.8389333598933931,\n",
       " 0.8851703662613105,\n",
       " 0.8366626935649869,\n",
       " 0.8622048473942682,\n",
       " 0.8249389151331212,\n",
       " 0.8557162281517302,\n",
       " 0.8372823024306557,\n",
       " 0.8467733920404934]"
      ]
     },
     "execution_count": 22,
     "metadata": {},
     "output_type": "execute_result"
    }
   ],
   "source": [
    "test_pearsonr"
   ]
  },
  {
   "cell_type": "code",
   "execution_count": 24,
   "id": "7ee978ef-934d-4473-a78f-7b3ef46f17b1",
   "metadata": {},
   "outputs": [],
   "source": [
    "# We have reported the metrics considering the entire test dataset together as well, let's work on that. Pretty sure we will not be able to get it done in a notebook, let's move to a py script."
   ]
  }
 ],
 "metadata": {
  "kernelspec": {
   "display_name": "Python (nrdstor_tfp_for_TN)",
   "language": "python",
   "name": "nrdstor_tfp_for_tn"
  },
  "language_info": {
   "codemirror_mode": {
    "name": "ipython",
    "version": 3
   },
   "file_extension": ".py",
   "mimetype": "text/x-python",
   "name": "python",
   "nbconvert_exporter": "python",
   "pygments_lexer": "ipython3",
   "version": "3.10.14"
  }
 },
 "nbformat": 4,
 "nbformat_minor": 5
}
