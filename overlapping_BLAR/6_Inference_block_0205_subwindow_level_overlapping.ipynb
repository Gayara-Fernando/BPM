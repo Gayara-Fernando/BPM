{
 "cells": [
  {
   "cell_type": "code",
   "execution_count": 1,
   "id": "658db0bc-89f4-467b-831b-554c08cb3eeb",
   "metadata": {},
   "outputs": [],
   "source": [
    "# Okay, let's get the proper transformations, and also get all the predictions on a subwindow scale - Later as a proof of concept, we will separate the sequences with densities all zero and see how the predicted densities look like."
   ]
  },
  {
   "cell_type": "code",
   "execution_count": 2,
   "id": "53cabc2a-d2b8-4e33-84a0-6c8f552caf3f",
   "metadata": {},
   "outputs": [],
   "source": [
    "import pandas as pd\n",
    "import numpy as np\n",
    "import matplotlib.pyplot as plt \n",
    "import os\n",
    "from sklearn.metrics import mean_absolute_error, mean_squared_error, r2_score\n",
    "from scipy.stats import pearsonr"
   ]
  },
  {
   "cell_type": "code",
   "execution_count": 3,
   "id": "60a1f5b1-2e15-471d-a379-057566c05ccc",
   "metadata": {},
   "outputs": [],
   "source": [
    "# path to dataframes\n",
    "path_to_dfs = \"data/BLAR_implementation/Block_0205/forecasted_counts\""
   ]
  },
  {
   "cell_type": "code",
   "execution_count": 4,
   "id": "ae71026b-360c-485d-8741-1766c956efd6",
   "metadata": {},
   "outputs": [
    {
     "data": {
      "text/plain": [
       "21504"
      ]
     },
     "execution_count": 4,
     "metadata": {},
     "output_type": "execute_result"
    }
   ],
   "source": [
    "len(os.listdir(path_to_dfs))"
   ]
  },
  {
   "cell_type": "code",
   "execution_count": 5,
   "id": "3b23384f-6325-4bc2-9700-240572b13745",
   "metadata": {},
   "outputs": [
    {
     "data": {
      "text/plain": [
       "7.0"
      ]
     },
     "execution_count": 5,
     "metadata": {},
     "output_type": "execute_result"
    }
   ],
   "source": [
    "len(os.listdir(path_to_dfs)) / 3072"
   ]
  },
  {
   "cell_type": "code",
   "execution_count": 6,
   "id": "90d27344-d686-4672-9b01-ded72e5f24a8",
   "metadata": {},
   "outputs": [],
   "source": [
    "averaged_forecasts_csvs = []\n",
    "for file in os.listdir(path_to_dfs):\n",
    "    if file[:8] =='averaged':\n",
    "        averaged_forecasts_csvs.append(file)"
   ]
  },
  {
   "cell_type": "code",
   "execution_count": 7,
   "id": "fabd37ca-e1da-430a-b23a-4905d0247f9b",
   "metadata": {},
   "outputs": [
    {
     "data": {
      "text/plain": [
       "3072"
      ]
     },
     "execution_count": 7,
     "metadata": {},
     "output_type": "execute_result"
    }
   ],
   "source": [
    "# how many csv files do we have?\n",
    "len(averaged_forecasts_csvs)"
   ]
  },
  {
   "cell_type": "code",
   "execution_count": 8,
   "id": "8c0af51f-8022-4186-b027-75dcbac9ab4c",
   "metadata": {},
   "outputs": [
    {
     "data": {
      "text/plain": [
       "'averaged_forecasts_sub_986.csv'"
      ]
     },
     "execution_count": 8,
     "metadata": {},
     "output_type": "execute_result"
    }
   ],
   "source": [
    "averaged_forecasts_csvs[0]"
   ]
  },
  {
   "cell_type": "code",
   "execution_count": 9,
   "id": "cf8d93c8-36d8-49d2-a213-2259381d61c0",
   "metadata": {},
   "outputs": [],
   "source": [
    "# let's create these names in the order of the subwindows\n",
    "ordered_csv_files = ['averaged_forecasts_sub_' + str(i) + '.csv' for i in range(3072)]"
   ]
  },
  {
   "cell_type": "code",
   "execution_count": 10,
   "id": "3d7f4c02-45fa-4004-ae11-fdb0ebeb01ab",
   "metadata": {},
   "outputs": [],
   "source": [
    "# ordered_csv_files"
   ]
  },
  {
   "cell_type": "code",
   "execution_count": 11,
   "id": "bbdf82b7-cc66-4bc5-9a7a-a7c0bbe72881",
   "metadata": {},
   "outputs": [
    {
     "name": "stdout",
     "output_type": "stream",
     "text": [
      "CPU times: user 5.54 s, sys: 1.03 s, total: 6.57 s\n",
      "Wall time: 2min 8s\n"
     ]
    }
   ],
   "source": [
    "%%time\n",
    "all_dfs = []\n",
    "for file in ordered_csv_files:\n",
    "    read_df = pd.read_csv(path_to_dfs + '/' + file)\n",
    "    all_dfs.append(read_df)"
   ]
  },
  {
   "cell_type": "code",
   "execution_count": 12,
   "id": "21c0f3b6-00be-4459-a845-b536a3b5999e",
   "metadata": {},
   "outputs": [],
   "source": [
    "# make a single dataframe out of the many\n",
    "combined_df = pd.concat(all_dfs, axis = 1)"
   ]
  },
  {
   "cell_type": "code",
   "execution_count": 13,
   "id": "c827d724-6545-4056-a577-c1714a322ed6",
   "metadata": {},
   "outputs": [
    {
     "data": {
      "text/html": [
       "<div>\n",
       "<style scoped>\n",
       "    .dataframe tbody tr th:only-of-type {\n",
       "        vertical-align: middle;\n",
       "    }\n",
       "\n",
       "    .dataframe tbody tr th {\n",
       "        vertical-align: top;\n",
       "    }\n",
       "\n",
       "    .dataframe thead th {\n",
       "        text-align: right;\n",
       "    }\n",
       "</style>\n",
       "<table border=\"1\" class=\"dataframe\">\n",
       "  <thead>\n",
       "    <tr style=\"text-align: right;\">\n",
       "      <th></th>\n",
       "      <th>True_value</th>\n",
       "      <th>Forecasted_value</th>\n",
       "      <th>True_value</th>\n",
       "      <th>Forecasted_value</th>\n",
       "      <th>True_value</th>\n",
       "      <th>Forecasted_value</th>\n",
       "      <th>True_value</th>\n",
       "      <th>Forecasted_value</th>\n",
       "      <th>True_value</th>\n",
       "      <th>Forecasted_value</th>\n",
       "      <th>...</th>\n",
       "      <th>True_value</th>\n",
       "      <th>Forecasted_value</th>\n",
       "      <th>True_value</th>\n",
       "      <th>Forecasted_value</th>\n",
       "      <th>True_value</th>\n",
       "      <th>Forecasted_value</th>\n",
       "      <th>True_value</th>\n",
       "      <th>Forecasted_value</th>\n",
       "      <th>True_value</th>\n",
       "      <th>Forecasted_value</th>\n",
       "    </tr>\n",
       "  </thead>\n",
       "  <tbody>\n",
       "    <tr>\n",
       "      <th>0</th>\n",
       "      <td>0.000000e+00</td>\n",
       "      <td>0.367906</td>\n",
       "      <td>0.000000e+00</td>\n",
       "      <td>0.130726</td>\n",
       "      <td>0.000000</td>\n",
       "      <td>0.129446</td>\n",
       "      <td>0.000000</td>\n",
       "      <td>0.052957</td>\n",
       "      <td>0.000000</td>\n",
       "      <td>0.196842</td>\n",
       "      <td>...</td>\n",
       "      <td>0.0</td>\n",
       "      <td>-0.012631</td>\n",
       "      <td>0.0</td>\n",
       "      <td>-0.144009</td>\n",
       "      <td>0.0</td>\n",
       "      <td>-0.068414</td>\n",
       "      <td>0.0</td>\n",
       "      <td>-0.058111</td>\n",
       "      <td>0.0</td>\n",
       "      <td>0.016475</td>\n",
       "    </tr>\n",
       "    <tr>\n",
       "      <th>1</th>\n",
       "      <td>0.000000e+00</td>\n",
       "      <td>0.315288</td>\n",
       "      <td>0.000000e+00</td>\n",
       "      <td>0.361114</td>\n",
       "      <td>0.000030</td>\n",
       "      <td>0.143554</td>\n",
       "      <td>0.191693</td>\n",
       "      <td>0.085586</td>\n",
       "      <td>0.689086</td>\n",
       "      <td>0.166895</td>\n",
       "      <td>...</td>\n",
       "      <td>0.0</td>\n",
       "      <td>0.034275</td>\n",
       "      <td>0.0</td>\n",
       "      <td>0.090023</td>\n",
       "      <td>0.0</td>\n",
       "      <td>0.038015</td>\n",
       "      <td>0.0</td>\n",
       "      <td>0.092894</td>\n",
       "      <td>0.0</td>\n",
       "      <td>0.036945</td>\n",
       "    </tr>\n",
       "    <tr>\n",
       "      <th>2</th>\n",
       "      <td>0.000000e+00</td>\n",
       "      <td>0.430038</td>\n",
       "      <td>0.000000e+00</td>\n",
       "      <td>0.542471</td>\n",
       "      <td>0.000672</td>\n",
       "      <td>0.099534</td>\n",
       "      <td>0.404626</td>\n",
       "      <td>0.014983</td>\n",
       "      <td>0.691552</td>\n",
       "      <td>0.146101</td>\n",
       "      <td>...</td>\n",
       "      <td>0.0</td>\n",
       "      <td>0.019151</td>\n",
       "      <td>0.0</td>\n",
       "      <td>0.065518</td>\n",
       "      <td>0.0</td>\n",
       "      <td>0.040724</td>\n",
       "      <td>0.0</td>\n",
       "      <td>0.084835</td>\n",
       "      <td>0.0</td>\n",
       "      <td>0.035208</td>\n",
       "    </tr>\n",
       "    <tr>\n",
       "      <th>3</th>\n",
       "      <td>2.227818e-11</td>\n",
       "      <td>0.300301</td>\n",
       "      <td>2.783564e-07</td>\n",
       "      <td>0.422051</td>\n",
       "      <td>0.000002</td>\n",
       "      <td>0.193425</td>\n",
       "      <td>0.000002</td>\n",
       "      <td>-0.054769</td>\n",
       "      <td>0.000002</td>\n",
       "      <td>0.104043</td>\n",
       "      <td>...</td>\n",
       "      <td>0.0</td>\n",
       "      <td>0.013206</td>\n",
       "      <td>0.0</td>\n",
       "      <td>0.066870</td>\n",
       "      <td>0.0</td>\n",
       "      <td>0.010186</td>\n",
       "      <td>0.0</td>\n",
       "      <td>0.048718</td>\n",
       "      <td>0.0</td>\n",
       "      <td>0.022213</td>\n",
       "    </tr>\n",
       "    <tr>\n",
       "      <th>4</th>\n",
       "      <td>2.140443e-09</td>\n",
       "      <td>0.267278</td>\n",
       "      <td>8.346097e-06</td>\n",
       "      <td>0.537305</td>\n",
       "      <td>0.000030</td>\n",
       "      <td>0.207476</td>\n",
       "      <td>0.000030</td>\n",
       "      <td>-0.034874</td>\n",
       "      <td>0.000030</td>\n",
       "      <td>0.105053</td>\n",
       "      <td>...</td>\n",
       "      <td>0.0</td>\n",
       "      <td>0.008097</td>\n",
       "      <td>0.0</td>\n",
       "      <td>0.047481</td>\n",
       "      <td>0.0</td>\n",
       "      <td>-0.000490</td>\n",
       "      <td>0.0</td>\n",
       "      <td>0.043720</td>\n",
       "      <td>0.0</td>\n",
       "      <td>0.006521</td>\n",
       "    </tr>\n",
       "  </tbody>\n",
       "</table>\n",
       "<p>5 rows × 6144 columns</p>\n",
       "</div>"
      ],
      "text/plain": [
       "     True_value  Forecasted_value    True_value  Forecasted_value  True_value  \\\n",
       "0  0.000000e+00          0.367906  0.000000e+00          0.130726    0.000000   \n",
       "1  0.000000e+00          0.315288  0.000000e+00          0.361114    0.000030   \n",
       "2  0.000000e+00          0.430038  0.000000e+00          0.542471    0.000672   \n",
       "3  2.227818e-11          0.300301  2.783564e-07          0.422051    0.000002   \n",
       "4  2.140443e-09          0.267278  8.346097e-06          0.537305    0.000030   \n",
       "\n",
       "   Forecasted_value  True_value  Forecasted_value  True_value  \\\n",
       "0          0.129446    0.000000          0.052957    0.000000   \n",
       "1          0.143554    0.191693          0.085586    0.689086   \n",
       "2          0.099534    0.404626          0.014983    0.691552   \n",
       "3          0.193425    0.000002         -0.054769    0.000002   \n",
       "4          0.207476    0.000030         -0.034874    0.000030   \n",
       "\n",
       "   Forecasted_value  ...  True_value  Forecasted_value  True_value  \\\n",
       "0          0.196842  ...         0.0         -0.012631         0.0   \n",
       "1          0.166895  ...         0.0          0.034275         0.0   \n",
       "2          0.146101  ...         0.0          0.019151         0.0   \n",
       "3          0.104043  ...         0.0          0.013206         0.0   \n",
       "4          0.105053  ...         0.0          0.008097         0.0   \n",
       "\n",
       "   Forecasted_value  True_value  Forecasted_value  True_value  \\\n",
       "0         -0.144009         0.0         -0.068414         0.0   \n",
       "1          0.090023         0.0          0.038015         0.0   \n",
       "2          0.065518         0.0          0.040724         0.0   \n",
       "3          0.066870         0.0          0.010186         0.0   \n",
       "4          0.047481         0.0         -0.000490         0.0   \n",
       "\n",
       "   Forecasted_value  True_value  Forecasted_value  \n",
       "0         -0.058111         0.0          0.016475  \n",
       "1          0.092894         0.0          0.036945  \n",
       "2          0.084835         0.0          0.035208  \n",
       "3          0.048718         0.0          0.022213  \n",
       "4          0.043720         0.0          0.006521  \n",
       "\n",
       "[5 rows x 6144 columns]"
      ]
     },
     "execution_count": 13,
     "metadata": {},
     "output_type": "execute_result"
    }
   ],
   "source": [
    "combined_df.head()"
   ]
  },
  {
   "cell_type": "code",
   "execution_count": 14,
   "id": "be1c39bd-5454-46e6-a8fe-128a599ac086",
   "metadata": {},
   "outputs": [
    {
     "data": {
      "text/plain": [
       "(7, 6144)"
      ]
     },
     "execution_count": 14,
     "metadata": {},
     "output_type": "execute_result"
    }
   ],
   "source": [
    "combined_df.shape"
   ]
  },
  {
   "cell_type": "code",
   "execution_count": 15,
   "id": "f04174fe-3b90-4194-b682-57d3cd98b188",
   "metadata": {},
   "outputs": [],
   "source": [
    "# get the true values\n",
    "True_values_df = combined_df[['True_value']]"
   ]
  },
  {
   "cell_type": "code",
   "execution_count": 16,
   "id": "5e749e0d-ac2f-46ac-93a2-cfaa1a32f4e0",
   "metadata": {},
   "outputs": [
    {
     "data": {
      "text/html": [
       "<div>\n",
       "<style scoped>\n",
       "    .dataframe tbody tr th:only-of-type {\n",
       "        vertical-align: middle;\n",
       "    }\n",
       "\n",
       "    .dataframe tbody tr th {\n",
       "        vertical-align: top;\n",
       "    }\n",
       "\n",
       "    .dataframe thead th {\n",
       "        text-align: right;\n",
       "    }\n",
       "</style>\n",
       "<table border=\"1\" class=\"dataframe\">\n",
       "  <thead>\n",
       "    <tr style=\"text-align: right;\">\n",
       "      <th></th>\n",
       "      <th>True_value</th>\n",
       "      <th>True_value</th>\n",
       "      <th>True_value</th>\n",
       "      <th>True_value</th>\n",
       "      <th>True_value</th>\n",
       "      <th>True_value</th>\n",
       "      <th>True_value</th>\n",
       "      <th>True_value</th>\n",
       "      <th>True_value</th>\n",
       "      <th>True_value</th>\n",
       "      <th>...</th>\n",
       "      <th>True_value</th>\n",
       "      <th>True_value</th>\n",
       "      <th>True_value</th>\n",
       "      <th>True_value</th>\n",
       "      <th>True_value</th>\n",
       "      <th>True_value</th>\n",
       "      <th>True_value</th>\n",
       "      <th>True_value</th>\n",
       "      <th>True_value</th>\n",
       "      <th>True_value</th>\n",
       "    </tr>\n",
       "  </thead>\n",
       "  <tbody>\n",
       "    <tr>\n",
       "      <th>0</th>\n",
       "      <td>0.000000e+00</td>\n",
       "      <td>0.000000e+00</td>\n",
       "      <td>0.000000</td>\n",
       "      <td>0.000000</td>\n",
       "      <td>0.000000</td>\n",
       "      <td>0.008069</td>\n",
       "      <td>0.581490</td>\n",
       "      <td>0.693134</td>\n",
       "      <td>6.931497e-01</td>\n",
       "      <td>6.931497e-01</td>\n",
       "      <td>...</td>\n",
       "      <td>0.000102</td>\n",
       "      <td>3.902047e-07</td>\n",
       "      <td>0.0</td>\n",
       "      <td>0.0</td>\n",
       "      <td>0.0</td>\n",
       "      <td>0.0</td>\n",
       "      <td>0.0</td>\n",
       "      <td>0.0</td>\n",
       "      <td>0.0</td>\n",
       "      <td>0.0</td>\n",
       "    </tr>\n",
       "    <tr>\n",
       "      <th>1</th>\n",
       "      <td>0.000000e+00</td>\n",
       "      <td>0.000000e+00</td>\n",
       "      <td>0.000030</td>\n",
       "      <td>0.191693</td>\n",
       "      <td>0.689086</td>\n",
       "      <td>0.693145</td>\n",
       "      <td>0.693145</td>\n",
       "      <td>0.693145</td>\n",
       "      <td>6.931444e-01</td>\n",
       "      <td>6.655373e-01</td>\n",
       "      <td>...</td>\n",
       "      <td>0.000008</td>\n",
       "      <td>0.000000e+00</td>\n",
       "      <td>0.0</td>\n",
       "      <td>0.0</td>\n",
       "      <td>0.0</td>\n",
       "      <td>0.0</td>\n",
       "      <td>0.0</td>\n",
       "      <td>0.0</td>\n",
       "      <td>0.0</td>\n",
       "      <td>0.0</td>\n",
       "    </tr>\n",
       "    <tr>\n",
       "      <th>2</th>\n",
       "      <td>0.000000e+00</td>\n",
       "      <td>0.000000e+00</td>\n",
       "      <td>0.000672</td>\n",
       "      <td>0.404626</td>\n",
       "      <td>0.691552</td>\n",
       "      <td>0.691888</td>\n",
       "      <td>0.691888</td>\n",
       "      <td>0.691888</td>\n",
       "      <td>6.918731e-01</td>\n",
       "      <td>5.803792e-01</td>\n",
       "      <td>...</td>\n",
       "      <td>0.000000</td>\n",
       "      <td>0.000000e+00</td>\n",
       "      <td>0.0</td>\n",
       "      <td>0.0</td>\n",
       "      <td>0.0</td>\n",
       "      <td>0.0</td>\n",
       "      <td>0.0</td>\n",
       "      <td>0.0</td>\n",
       "      <td>0.0</td>\n",
       "      <td>0.0</td>\n",
       "    </tr>\n",
       "    <tr>\n",
       "      <th>3</th>\n",
       "      <td>2.227818e-11</td>\n",
       "      <td>2.783564e-07</td>\n",
       "      <td>0.000002</td>\n",
       "      <td>0.000002</td>\n",
       "      <td>0.000002</td>\n",
       "      <td>0.000002</td>\n",
       "      <td>0.000002</td>\n",
       "      <td>0.000002</td>\n",
       "      <td>1.414318e-07</td>\n",
       "      <td>3.098855e-12</td>\n",
       "      <td>...</td>\n",
       "      <td>0.000000</td>\n",
       "      <td>0.000000e+00</td>\n",
       "      <td>0.0</td>\n",
       "      <td>0.0</td>\n",
       "      <td>0.0</td>\n",
       "      <td>0.0</td>\n",
       "      <td>0.0</td>\n",
       "      <td>0.0</td>\n",
       "      <td>0.0</td>\n",
       "      <td>0.0</td>\n",
       "    </tr>\n",
       "    <tr>\n",
       "      <th>4</th>\n",
       "      <td>2.140443e-09</td>\n",
       "      <td>8.346097e-06</td>\n",
       "      <td>0.000030</td>\n",
       "      <td>0.000030</td>\n",
       "      <td>0.000030</td>\n",
       "      <td>0.000030</td>\n",
       "      <td>0.000030</td>\n",
       "      <td>0.000028</td>\n",
       "      <td>1.087551e-06</td>\n",
       "      <td>0.000000e+00</td>\n",
       "      <td>...</td>\n",
       "      <td>0.000000</td>\n",
       "      <td>0.000000e+00</td>\n",
       "      <td>0.0</td>\n",
       "      <td>0.0</td>\n",
       "      <td>0.0</td>\n",
       "      <td>0.0</td>\n",
       "      <td>0.0</td>\n",
       "      <td>0.0</td>\n",
       "      <td>0.0</td>\n",
       "      <td>0.0</td>\n",
       "    </tr>\n",
       "  </tbody>\n",
       "</table>\n",
       "<p>5 rows × 3072 columns</p>\n",
       "</div>"
      ],
      "text/plain": [
       "     True_value    True_value  True_value  True_value  True_value  True_value  \\\n",
       "0  0.000000e+00  0.000000e+00    0.000000    0.000000    0.000000    0.008069   \n",
       "1  0.000000e+00  0.000000e+00    0.000030    0.191693    0.689086    0.693145   \n",
       "2  0.000000e+00  0.000000e+00    0.000672    0.404626    0.691552    0.691888   \n",
       "3  2.227818e-11  2.783564e-07    0.000002    0.000002    0.000002    0.000002   \n",
       "4  2.140443e-09  8.346097e-06    0.000030    0.000030    0.000030    0.000030   \n",
       "\n",
       "   True_value  True_value    True_value    True_value  ...  True_value  \\\n",
       "0    0.581490    0.693134  6.931497e-01  6.931497e-01  ...    0.000102   \n",
       "1    0.693145    0.693145  6.931444e-01  6.655373e-01  ...    0.000008   \n",
       "2    0.691888    0.691888  6.918731e-01  5.803792e-01  ...    0.000000   \n",
       "3    0.000002    0.000002  1.414318e-07  3.098855e-12  ...    0.000000   \n",
       "4    0.000030    0.000028  1.087551e-06  0.000000e+00  ...    0.000000   \n",
       "\n",
       "     True_value  True_value  True_value  True_value  True_value  True_value  \\\n",
       "0  3.902047e-07         0.0         0.0         0.0         0.0         0.0   \n",
       "1  0.000000e+00         0.0         0.0         0.0         0.0         0.0   \n",
       "2  0.000000e+00         0.0         0.0         0.0         0.0         0.0   \n",
       "3  0.000000e+00         0.0         0.0         0.0         0.0         0.0   \n",
       "4  0.000000e+00         0.0         0.0         0.0         0.0         0.0   \n",
       "\n",
       "   True_value  True_value  True_value  \n",
       "0         0.0         0.0         0.0  \n",
       "1         0.0         0.0         0.0  \n",
       "2         0.0         0.0         0.0  \n",
       "3         0.0         0.0         0.0  \n",
       "4         0.0         0.0         0.0  \n",
       "\n",
       "[5 rows x 3072 columns]"
      ]
     },
     "execution_count": 16,
     "metadata": {},
     "output_type": "execute_result"
    }
   ],
   "source": [
    "True_values_df.head()"
   ]
  },
  {
   "cell_type": "code",
   "execution_count": 17,
   "id": "eaac93e8-5497-4d9e-ba82-6e7b92f5f0bc",
   "metadata": {},
   "outputs": [
    {
     "data": {
      "text/plain": [
       "(7, 3072)"
      ]
     },
     "execution_count": 17,
     "metadata": {},
     "output_type": "execute_result"
    }
   ],
   "source": [
    "True_values_df.shape"
   ]
  },
  {
   "cell_type": "code",
   "execution_count": 18,
   "id": "cfdd6a93-1047-4acb-a8b4-091d15dbae98",
   "metadata": {},
   "outputs": [],
   "source": [
    "# get the proper counts? - Do the transformation\n",
    "exp_true = np.exp(True_values_df)-1"
   ]
  },
  {
   "cell_type": "code",
   "execution_count": 19,
   "id": "0ae1b7a4-0bff-487e-93df-24df360917e0",
   "metadata": {},
   "outputs": [
    {
     "data": {
      "text/html": [
       "<div>\n",
       "<style scoped>\n",
       "    .dataframe tbody tr th:only-of-type {\n",
       "        vertical-align: middle;\n",
       "    }\n",
       "\n",
       "    .dataframe tbody tr th {\n",
       "        vertical-align: top;\n",
       "    }\n",
       "\n",
       "    .dataframe thead th {\n",
       "        text-align: right;\n",
       "    }\n",
       "</style>\n",
       "<table border=\"1\" class=\"dataframe\">\n",
       "  <thead>\n",
       "    <tr style=\"text-align: right;\">\n",
       "      <th></th>\n",
       "      <th>True_value</th>\n",
       "      <th>True_value</th>\n",
       "      <th>True_value</th>\n",
       "      <th>True_value</th>\n",
       "      <th>True_value</th>\n",
       "      <th>True_value</th>\n",
       "      <th>True_value</th>\n",
       "      <th>True_value</th>\n",
       "      <th>True_value</th>\n",
       "      <th>True_value</th>\n",
       "      <th>...</th>\n",
       "      <th>True_value</th>\n",
       "      <th>True_value</th>\n",
       "      <th>True_value</th>\n",
       "      <th>True_value</th>\n",
       "      <th>True_value</th>\n",
       "      <th>True_value</th>\n",
       "      <th>True_value</th>\n",
       "      <th>True_value</th>\n",
       "      <th>True_value</th>\n",
       "      <th>True_value</th>\n",
       "    </tr>\n",
       "  </thead>\n",
       "  <tbody>\n",
       "    <tr>\n",
       "      <th>0</th>\n",
       "      <td>0.000000e+00</td>\n",
       "      <td>0.000000e+00</td>\n",
       "      <td>0.000000</td>\n",
       "      <td>0.000000</td>\n",
       "      <td>0.000000</td>\n",
       "      <td>0.008102</td>\n",
       "      <td>0.788701</td>\n",
       "      <td>0.999974</td>\n",
       "      <td>1.000005e+00</td>\n",
       "      <td>1.000005e+00</td>\n",
       "      <td>...</td>\n",
       "      <td>0.000102</td>\n",
       "      <td>3.902048e-07</td>\n",
       "      <td>0.0</td>\n",
       "      <td>0.0</td>\n",
       "      <td>0.0</td>\n",
       "      <td>0.0</td>\n",
       "      <td>0.0</td>\n",
       "      <td>0.0</td>\n",
       "      <td>0.0</td>\n",
       "      <td>0.0</td>\n",
       "    </tr>\n",
       "    <tr>\n",
       "      <th>1</th>\n",
       "      <td>0.000000e+00</td>\n",
       "      <td>0.000000e+00</td>\n",
       "      <td>0.000030</td>\n",
       "      <td>0.211299</td>\n",
       "      <td>0.991894</td>\n",
       "      <td>0.999995</td>\n",
       "      <td>0.999995</td>\n",
       "      <td>0.999995</td>\n",
       "      <td>9.999945e-01</td>\n",
       "      <td>9.455356e-01</td>\n",
       "      <td>...</td>\n",
       "      <td>0.000008</td>\n",
       "      <td>0.000000e+00</td>\n",
       "      <td>0.0</td>\n",
       "      <td>0.0</td>\n",
       "      <td>0.0</td>\n",
       "      <td>0.0</td>\n",
       "      <td>0.0</td>\n",
       "      <td>0.0</td>\n",
       "      <td>0.0</td>\n",
       "      <td>0.0</td>\n",
       "    </tr>\n",
       "    <tr>\n",
       "      <th>2</th>\n",
       "      <td>0.000000e+00</td>\n",
       "      <td>0.000000e+00</td>\n",
       "      <td>0.000672</td>\n",
       "      <td>0.498742</td>\n",
       "      <td>0.996812</td>\n",
       "      <td>0.997484</td>\n",
       "      <td>0.997484</td>\n",
       "      <td>0.997484</td>\n",
       "      <td>9.974534e-01</td>\n",
       "      <td>7.867158e-01</td>\n",
       "      <td>...</td>\n",
       "      <td>0.000000</td>\n",
       "      <td>0.000000e+00</td>\n",
       "      <td>0.0</td>\n",
       "      <td>0.0</td>\n",
       "      <td>0.0</td>\n",
       "      <td>0.0</td>\n",
       "      <td>0.0</td>\n",
       "      <td>0.0</td>\n",
       "      <td>0.0</td>\n",
       "      <td>0.0</td>\n",
       "    </tr>\n",
       "    <tr>\n",
       "      <th>3</th>\n",
       "      <td>2.227818e-11</td>\n",
       "      <td>2.783564e-07</td>\n",
       "      <td>0.000002</td>\n",
       "      <td>0.000002</td>\n",
       "      <td>0.000002</td>\n",
       "      <td>0.000002</td>\n",
       "      <td>0.000002</td>\n",
       "      <td>0.000002</td>\n",
       "      <td>1.414318e-07</td>\n",
       "      <td>3.098855e-12</td>\n",
       "      <td>...</td>\n",
       "      <td>0.000000</td>\n",
       "      <td>0.000000e+00</td>\n",
       "      <td>0.0</td>\n",
       "      <td>0.0</td>\n",
       "      <td>0.0</td>\n",
       "      <td>0.0</td>\n",
       "      <td>0.0</td>\n",
       "      <td>0.0</td>\n",
       "      <td>0.0</td>\n",
       "      <td>0.0</td>\n",
       "    </tr>\n",
       "    <tr>\n",
       "      <th>4</th>\n",
       "      <td>2.140443e-09</td>\n",
       "      <td>8.346132e-06</td>\n",
       "      <td>0.000030</td>\n",
       "      <td>0.000030</td>\n",
       "      <td>0.000030</td>\n",
       "      <td>0.000030</td>\n",
       "      <td>0.000030</td>\n",
       "      <td>0.000028</td>\n",
       "      <td>1.087552e-06</td>\n",
       "      <td>0.000000e+00</td>\n",
       "      <td>...</td>\n",
       "      <td>0.000000</td>\n",
       "      <td>0.000000e+00</td>\n",
       "      <td>0.0</td>\n",
       "      <td>0.0</td>\n",
       "      <td>0.0</td>\n",
       "      <td>0.0</td>\n",
       "      <td>0.0</td>\n",
       "      <td>0.0</td>\n",
       "      <td>0.0</td>\n",
       "      <td>0.0</td>\n",
       "    </tr>\n",
       "    <tr>\n",
       "      <th>5</th>\n",
       "      <td>1.246630e-08</td>\n",
       "      <td>2.883206e-04</td>\n",
       "      <td>0.002459</td>\n",
       "      <td>0.002516</td>\n",
       "      <td>0.002516</td>\n",
       "      <td>0.002516</td>\n",
       "      <td>0.002516</td>\n",
       "      <td>0.002459</td>\n",
       "      <td>2.883206e-04</td>\n",
       "      <td>1.246630e-08</td>\n",
       "      <td>...</td>\n",
       "      <td>0.000000</td>\n",
       "      <td>0.000000e+00</td>\n",
       "      <td>0.0</td>\n",
       "      <td>0.0</td>\n",
       "      <td>0.0</td>\n",
       "      <td>0.0</td>\n",
       "      <td>0.0</td>\n",
       "      <td>0.0</td>\n",
       "      <td>0.0</td>\n",
       "      <td>0.0</td>\n",
       "    </tr>\n",
       "    <tr>\n",
       "      <th>6</th>\n",
       "      <td>0.000000e+00</td>\n",
       "      <td>0.000000e+00</td>\n",
       "      <td>0.000000</td>\n",
       "      <td>0.000000</td>\n",
       "      <td>0.000000</td>\n",
       "      <td>0.000000</td>\n",
       "      <td>0.000000</td>\n",
       "      <td>0.000000</td>\n",
       "      <td>0.000000e+00</td>\n",
       "      <td>0.000000e+00</td>\n",
       "      <td>...</td>\n",
       "      <td>0.000000</td>\n",
       "      <td>0.000000e+00</td>\n",
       "      <td>0.0</td>\n",
       "      <td>0.0</td>\n",
       "      <td>0.0</td>\n",
       "      <td>0.0</td>\n",
       "      <td>0.0</td>\n",
       "      <td>0.0</td>\n",
       "      <td>0.0</td>\n",
       "      <td>0.0</td>\n",
       "    </tr>\n",
       "  </tbody>\n",
       "</table>\n",
       "<p>7 rows × 3072 columns</p>\n",
       "</div>"
      ],
      "text/plain": [
       "     True_value    True_value  True_value  True_value  True_value  True_value  \\\n",
       "0  0.000000e+00  0.000000e+00    0.000000    0.000000    0.000000    0.008102   \n",
       "1  0.000000e+00  0.000000e+00    0.000030    0.211299    0.991894    0.999995   \n",
       "2  0.000000e+00  0.000000e+00    0.000672    0.498742    0.996812    0.997484   \n",
       "3  2.227818e-11  2.783564e-07    0.000002    0.000002    0.000002    0.000002   \n",
       "4  2.140443e-09  8.346132e-06    0.000030    0.000030    0.000030    0.000030   \n",
       "5  1.246630e-08  2.883206e-04    0.002459    0.002516    0.002516    0.002516   \n",
       "6  0.000000e+00  0.000000e+00    0.000000    0.000000    0.000000    0.000000   \n",
       "\n",
       "   True_value  True_value    True_value    True_value  ...  True_value  \\\n",
       "0    0.788701    0.999974  1.000005e+00  1.000005e+00  ...    0.000102   \n",
       "1    0.999995    0.999995  9.999945e-01  9.455356e-01  ...    0.000008   \n",
       "2    0.997484    0.997484  9.974534e-01  7.867158e-01  ...    0.000000   \n",
       "3    0.000002    0.000002  1.414318e-07  3.098855e-12  ...    0.000000   \n",
       "4    0.000030    0.000028  1.087552e-06  0.000000e+00  ...    0.000000   \n",
       "5    0.002516    0.002459  2.883206e-04  1.246630e-08  ...    0.000000   \n",
       "6    0.000000    0.000000  0.000000e+00  0.000000e+00  ...    0.000000   \n",
       "\n",
       "     True_value  True_value  True_value  True_value  True_value  True_value  \\\n",
       "0  3.902048e-07         0.0         0.0         0.0         0.0         0.0   \n",
       "1  0.000000e+00         0.0         0.0         0.0         0.0         0.0   \n",
       "2  0.000000e+00         0.0         0.0         0.0         0.0         0.0   \n",
       "3  0.000000e+00         0.0         0.0         0.0         0.0         0.0   \n",
       "4  0.000000e+00         0.0         0.0         0.0         0.0         0.0   \n",
       "5  0.000000e+00         0.0         0.0         0.0         0.0         0.0   \n",
       "6  0.000000e+00         0.0         0.0         0.0         0.0         0.0   \n",
       "\n",
       "   True_value  True_value  True_value  \n",
       "0         0.0         0.0         0.0  \n",
       "1         0.0         0.0         0.0  \n",
       "2         0.0         0.0         0.0  \n",
       "3         0.0         0.0         0.0  \n",
       "4         0.0         0.0         0.0  \n",
       "5         0.0         0.0         0.0  \n",
       "6         0.0         0.0         0.0  \n",
       "\n",
       "[7 rows x 3072 columns]"
      ]
     },
     "execution_count": 19,
     "metadata": {},
     "output_type": "execute_result"
    }
   ],
   "source": [
    "exp_true"
   ]
  },
  {
   "cell_type": "code",
   "execution_count": 20,
   "id": "e3ea73ab-34ac-4af8-b9bb-bf9c859bd59e",
   "metadata": {},
   "outputs": [],
   "source": [
    "# Identify the maximum and the minimum true values we have for the test data"
   ]
  },
  {
   "cell_type": "code",
   "execution_count": 21,
   "id": "0c0af4a8-5a75-4e0a-b1d7-ac0240faa7db",
   "metadata": {},
   "outputs": [
    {
     "data": {
      "text/plain": [
       "(0.0, 3.1511746490796444)"
      ]
     },
     "execution_count": 21,
     "metadata": {},
     "output_type": "execute_result"
    }
   ],
   "source": [
    "exp_true.values.min(), exp_true.values.max()"
   ]
  },
  {
   "cell_type": "code",
   "execution_count": 22,
   "id": "c8a91a31-659e-42cb-a715-2fbc8dcd1125",
   "metadata": {},
   "outputs": [],
   "source": [
    "# Okay, so the highest true value we have is ~3. let's get teh min and max values for the predicted exponentiated values also"
   ]
  },
  {
   "cell_type": "code",
   "execution_count": 23,
   "id": "68791706-80d1-417c-97b5-1219d5d3ba5c",
   "metadata": {},
   "outputs": [],
   "source": [
    "all_forecasts_npy_files = []\n",
    "for file in os.listdir(path_to_dfs):\n",
    "    if file[:13] == 'all_forecasts':\n",
    "        all_forecasts_npy_files.append(file)"
   ]
  },
  {
   "cell_type": "code",
   "execution_count": 24,
   "id": "510a3a60-6b0f-4ba1-b628-1eea63adbf3a",
   "metadata": {},
   "outputs": [
    {
     "data": {
      "text/plain": [
       "3072"
      ]
     },
     "execution_count": 24,
     "metadata": {},
     "output_type": "execute_result"
    }
   ],
   "source": [
    "len(all_forecasts_npy_files)"
   ]
  },
  {
   "cell_type": "code",
   "execution_count": 25,
   "id": "926db1ce-530e-43a7-b8de-d68e54465a3b",
   "metadata": {},
   "outputs": [
    {
     "data": {
      "text/plain": [
       "'all_forecasts_sub_1104.npy'"
      ]
     },
     "execution_count": 25,
     "metadata": {},
     "output_type": "execute_result"
    }
   ],
   "source": [
    "all_forecasts_npy_files[0]"
   ]
  },
  {
   "cell_type": "code",
   "execution_count": 26,
   "id": "5ae1ee6d-7957-416d-8f76-b1c0f4f74048",
   "metadata": {},
   "outputs": [],
   "source": [
    "# load just the first file\n",
    "sub_273_forecasts = np.load(os.path.join(path_to_dfs, all_forecasts_npy_files[0]))"
   ]
  },
  {
   "cell_type": "code",
   "execution_count": 27,
   "id": "b18192a3-ea14-4ff3-af61-572f491fcce5",
   "metadata": {},
   "outputs": [
    {
     "data": {
      "text/plain": [
       "(1000, 4, 7)"
      ]
     },
     "execution_count": 27,
     "metadata": {},
     "output_type": "execute_result"
    }
   ],
   "source": [
    "sub_273_forecasts.shape"
   ]
  },
  {
   "cell_type": "code",
   "execution_count": 28,
   "id": "68634f79-5fe1-4326-821c-f88fd6358121",
   "metadata": {},
   "outputs": [],
   "source": [
    "# Okay, so for the subwindow 273 -  this file seem to have all the 1000 values in the 4 chains for all the test time points in the sequence"
   ]
  },
  {
   "cell_type": "code",
   "execution_count": 29,
   "id": "2beec9ec-bc5b-48ed-94bf-708dc1c323c5",
   "metadata": {},
   "outputs": [],
   "source": [
    "# transform these values?\n",
    "sub_273_forecasts = np.exp(sub_273_forecasts) - 1"
   ]
  },
  {
   "cell_type": "code",
   "execution_count": 30,
   "id": "139479a7-fd4e-4c9e-b125-b456aabcc33e",
   "metadata": {},
   "outputs": [
    {
     "data": {
      "text/plain": [
       "(-0.6636753, 1.9596281)"
      ]
     },
     "execution_count": 30,
     "metadata": {},
     "output_type": "execute_result"
    }
   ],
   "source": [
    "sub_273_forecasts.min(), sub_273_forecasts.max()"
   ]
  },
  {
   "cell_type": "code",
   "execution_count": 31,
   "id": "eeea39fb-d9b6-4e75-b4f4-a48db2a78dda",
   "metadata": {},
   "outputs": [],
   "source": [
    "# get rid of anything below zero?\n",
    "sub_273_forecasts[sub_273_forecasts < 0] = 0"
   ]
  },
  {
   "cell_type": "code",
   "execution_count": 32,
   "id": "a3b048ca-2362-4521-a082-1e2a59ab8063",
   "metadata": {},
   "outputs": [
    {
     "data": {
      "text/plain": [
       "(0.0, 1.9596281)"
      ]
     },
     "execution_count": 32,
     "metadata": {},
     "output_type": "execute_result"
    }
   ],
   "source": [
    "sub_273_forecasts.min(), sub_273_forecasts.max()"
   ]
  },
  {
   "cell_type": "code",
   "execution_count": 33,
   "id": "71918f6c-61fa-4666-bbae-05df60d1b050",
   "metadata": {},
   "outputs": [],
   "source": [
    "# cool -  what does these values mean?"
   ]
  },
  {
   "cell_type": "code",
   "execution_count": 34,
   "id": "91c6f8c0-cd40-4b9d-ba4f-279bc3073022",
   "metadata": {},
   "outputs": [],
   "source": [
    "# try averaging the forecasted values along the 0th and 1st axis?"
   ]
  },
  {
   "cell_type": "code",
   "execution_count": 35,
   "id": "47faa528-5199-4bab-b505-26087b378584",
   "metadata": {},
   "outputs": [],
   "source": [
    "sub_273_forecasts_averged = np.mean(sub_273_forecasts, axis = (0,1))"
   ]
  },
  {
   "cell_type": "code",
   "execution_count": 36,
   "id": "64d024db-bb14-4910-a061-3e0afe1c88ac",
   "metadata": {},
   "outputs": [
    {
     "data": {
      "text/plain": [
       "array([0.12935948, 0.15069437, 0.16866696, 0.15256147, 0.14265217,\n",
       "       0.17663088, 0.18497364], dtype=float32)"
      ]
     },
     "execution_count": 36,
     "metadata": {},
     "output_type": "execute_result"
    }
   ],
   "source": [
    "sub_273_forecasts_averged"
   ]
  },
  {
   "cell_type": "code",
   "execution_count": 37,
   "id": "9872bc2e-ed4a-4a8c-ae6b-3b63e640c0bb",
   "metadata": {},
   "outputs": [
    {
     "data": {
      "text/plain": [
       "(7,)"
      ]
     },
     "execution_count": 37,
     "metadata": {},
     "output_type": "execute_result"
    }
   ],
   "source": [
    "sub_273_forecasts_averged.shape"
   ]
  },
  {
   "cell_type": "code",
   "execution_count": 38,
   "id": "40d19bd4-5f92-4cba-a0ba-d2cef1985fba",
   "metadata": {},
   "outputs": [],
   "source": [
    "# sanity check"
   ]
  },
  {
   "cell_type": "code",
   "execution_count": 39,
   "id": "43d050cf-9337-4500-8a46-e51683b39f30",
   "metadata": {},
   "outputs": [
    {
     "name": "stdout",
     "output_type": "stream",
     "text": [
      "0.1293595\n",
      "0.1506944\n",
      "0.16866717\n",
      "0.15256143\n",
      "0.14265221\n",
      "0.1766311\n",
      "0.1849736\n"
     ]
    }
   ],
   "source": [
    "# sanity check\n",
    "for i in range(sub_273_forecasts.shape[-1]):\n",
    "    track = sub_273_forecasts[:,:,i]\n",
    "    print(np.mean(track))"
   ]
  },
  {
   "cell_type": "code",
   "execution_count": 40,
   "id": "9404b3fc-7f26-4620-a1c7-816a12ccc1e7",
   "metadata": {},
   "outputs": [],
   "source": [
    "# Verify the shape of the true values - these are at a subwindow level, and we can use these as they are for getting the metrics, and the scatterplots?"
   ]
  },
  {
   "cell_type": "code",
   "execution_count": 41,
   "id": "81d84191-828a-4853-9765-f72b944f6e43",
   "metadata": {},
   "outputs": [
    {
     "data": {
      "text/plain": [
       "(7, 3072)"
      ]
     },
     "execution_count": 41,
     "metadata": {},
     "output_type": "execute_result"
    }
   ],
   "source": [
    "exp_true.shape"
   ]
  },
  {
   "cell_type": "code",
   "execution_count": 42,
   "id": "50e3210d-b649-4e19-b372-53c48aa7134e",
   "metadata": {},
   "outputs": [],
   "source": [
    "# Okay, we need the predictions for the subwindows in the same shape? - but before that, we need to do the transformation for all the npy files. We can do this in a loop - we have done this before, use the code as it is."
   ]
  },
  {
   "cell_type": "code",
   "execution_count": 43,
   "id": "cacb4a51-039b-4621-936f-3992c72137db",
   "metadata": {},
   "outputs": [
    {
     "name": "stdout",
     "output_type": "stream",
     "text": [
      "CPU times: user 2.98 s, sys: 1.42 s, total: 4.4 s\n",
      "Wall time: 2min 13s\n"
     ]
    }
   ],
   "source": [
    "%%time\n",
    "catch_all_averaged_preds = []\n",
    "for i in range(exp_true.shape[1]):\n",
    "    file_name = \"all_forecasts_sub_\" + str(i) + '.npy'\n",
    "    al_forecasts_npy_file = np.load(os.path.join(path_to_dfs, file_name))\n",
    "    # make the conversion\n",
    "    sub_window_forecasts = np.exp(al_forecasts_npy_file) - 1\n",
    "    # get rid of anything below zero?\n",
    "    sub_window_forecasts[sub_window_forecasts < 0] = 0\n",
    "    # get averages over time \n",
    "    sub_window_forecasts_averaged = np.mean(sub_window_forecasts, axis = (0,1))\n",
    "    catch_all_averaged_preds.append(sub_window_forecasts_averaged)    "
   ]
  },
  {
   "cell_type": "code",
   "execution_count": 44,
   "id": "d84417a1-e8f2-428d-9170-bf95909115df",
   "metadata": {},
   "outputs": [
    {
     "data": {
      "text/plain": [
       "3072"
      ]
     },
     "execution_count": 44,
     "metadata": {},
     "output_type": "execute_result"
    }
   ],
   "source": [
    "len(catch_all_averaged_preds)"
   ]
  },
  {
   "cell_type": "code",
   "execution_count": 45,
   "id": "b64849c3-b140-420b-b618-624d3ba45d03",
   "metadata": {},
   "outputs": [
    {
     "data": {
      "text/plain": [
       "array([0.5392351 , 0.4698931 , 0.6335333 , 0.46400484, 0.4264345 ,\n",
       "       0.53314036, 0.5029139 ], dtype=float32)"
      ]
     },
     "execution_count": 45,
     "metadata": {},
     "output_type": "execute_result"
    }
   ],
   "source": [
    "catch_all_averaged_preds[0]"
   ]
  },
  {
   "cell_type": "code",
   "execution_count": 46,
   "id": "ef6c25a0-0f7f-4434-8d5c-b3443659d436",
   "metadata": {},
   "outputs": [],
   "source": [
    "Forecasted_values_df = pd.DataFrame(catch_all_averaged_preds).T"
   ]
  },
  {
   "cell_type": "code",
   "execution_count": 47,
   "id": "b26d17a8-7f02-403f-a02a-18d2d8d12854",
   "metadata": {},
   "outputs": [
    {
     "data": {
      "text/plain": [
       "(7, 3072)"
      ]
     },
     "execution_count": 47,
     "metadata": {},
     "output_type": "execute_result"
    }
   ],
   "source": [
    "Forecasted_values_df.shape"
   ]
  },
  {
   "cell_type": "code",
   "execution_count": 48,
   "id": "a630e79d-0c18-492a-a414-40d6e51d5584",
   "metadata": {},
   "outputs": [
    {
     "data": {
      "text/html": [
       "<div>\n",
       "<style scoped>\n",
       "    .dataframe tbody tr th:only-of-type {\n",
       "        vertical-align: middle;\n",
       "    }\n",
       "\n",
       "    .dataframe tbody tr th {\n",
       "        vertical-align: top;\n",
       "    }\n",
       "\n",
       "    .dataframe thead th {\n",
       "        text-align: right;\n",
       "    }\n",
       "</style>\n",
       "<table border=\"1\" class=\"dataframe\">\n",
       "  <thead>\n",
       "    <tr style=\"text-align: right;\">\n",
       "      <th></th>\n",
       "      <th>0</th>\n",
       "      <th>1</th>\n",
       "      <th>2</th>\n",
       "      <th>3</th>\n",
       "      <th>4</th>\n",
       "      <th>5</th>\n",
       "      <th>6</th>\n",
       "      <th>7</th>\n",
       "      <th>8</th>\n",
       "      <th>9</th>\n",
       "      <th>...</th>\n",
       "      <th>3062</th>\n",
       "      <th>3063</th>\n",
       "      <th>3064</th>\n",
       "      <th>3065</th>\n",
       "      <th>3066</th>\n",
       "      <th>3067</th>\n",
       "      <th>3068</th>\n",
       "      <th>3069</th>\n",
       "      <th>3070</th>\n",
       "      <th>3071</th>\n",
       "    </tr>\n",
       "  </thead>\n",
       "  <tbody>\n",
       "    <tr>\n",
       "      <th>0</th>\n",
       "      <td>0.539235</td>\n",
       "      <td>0.259969</td>\n",
       "      <td>0.215011</td>\n",
       "      <td>0.070111</td>\n",
       "      <td>0.283708</td>\n",
       "      <td>0.401324</td>\n",
       "      <td>0.472763</td>\n",
       "      <td>0.466279</td>\n",
       "      <td>0.397933</td>\n",
       "      <td>0.336204</td>\n",
       "      <td>...</td>\n",
       "      <td>0.005262</td>\n",
       "      <td>0.039134</td>\n",
       "      <td>0.004008</td>\n",
       "      <td>0.043957</td>\n",
       "      <td>0.033686</td>\n",
       "      <td>0.012488</td>\n",
       "      <td>0.000000</td>\n",
       "      <td>0.007719</td>\n",
       "      <td>0.000276</td>\n",
       "      <td>0.021683</td>\n",
       "    </tr>\n",
       "    <tr>\n",
       "      <th>1</th>\n",
       "      <td>0.469893</td>\n",
       "      <td>0.536260</td>\n",
       "      <td>0.227749</td>\n",
       "      <td>0.105157</td>\n",
       "      <td>0.252310</td>\n",
       "      <td>0.375051</td>\n",
       "      <td>0.457941</td>\n",
       "      <td>0.450986</td>\n",
       "      <td>0.357854</td>\n",
       "      <td>0.314285</td>\n",
       "      <td>...</td>\n",
       "      <td>0.010541</td>\n",
       "      <td>0.028984</td>\n",
       "      <td>0.028685</td>\n",
       "      <td>0.110384</td>\n",
       "      <td>0.171021</td>\n",
       "      <td>0.049496</td>\n",
       "      <td>0.100237</td>\n",
       "      <td>0.040870</td>\n",
       "      <td>0.098182</td>\n",
       "      <td>0.046779</td>\n",
       "    </tr>\n",
       "    <tr>\n",
       "      <th>2</th>\n",
       "      <td>0.633533</td>\n",
       "      <td>1.033116</td>\n",
       "      <td>0.181166</td>\n",
       "      <td>0.027985</td>\n",
       "      <td>0.218488</td>\n",
       "      <td>0.333038</td>\n",
       "      <td>0.433656</td>\n",
       "      <td>0.450529</td>\n",
       "      <td>0.392528</td>\n",
       "      <td>0.394438</td>\n",
       "      <td>...</td>\n",
       "      <td>0.023673</td>\n",
       "      <td>0.034022</td>\n",
       "      <td>0.012497</td>\n",
       "      <td>0.078195</td>\n",
       "      <td>0.088591</td>\n",
       "      <td>0.028324</td>\n",
       "      <td>0.071175</td>\n",
       "      <td>0.042785</td>\n",
       "      <td>0.089030</td>\n",
       "      <td>0.041232</td>\n",
       "    </tr>\n",
       "    <tr>\n",
       "      <th>3</th>\n",
       "      <td>0.464005</td>\n",
       "      <td>0.639352</td>\n",
       "      <td>0.277252</td>\n",
       "      <td>0.009392</td>\n",
       "      <td>0.195634</td>\n",
       "      <td>0.380259</td>\n",
       "      <td>0.479440</td>\n",
       "      <td>0.454213</td>\n",
       "      <td>0.358372</td>\n",
       "      <td>0.276831</td>\n",
       "      <td>...</td>\n",
       "      <td>0.027499</td>\n",
       "      <td>0.013372</td>\n",
       "      <td>0.009248</td>\n",
       "      <td>0.037449</td>\n",
       "      <td>0.054717</td>\n",
       "      <td>0.021057</td>\n",
       "      <td>0.069745</td>\n",
       "      <td>0.014242</td>\n",
       "      <td>0.051977</td>\n",
       "      <td>0.030506</td>\n",
       "    </tr>\n",
       "    <tr>\n",
       "      <th>4</th>\n",
       "      <td>0.426434</td>\n",
       "      <td>0.855561</td>\n",
       "      <td>0.297763</td>\n",
       "      <td>0.022122</td>\n",
       "      <td>0.209945</td>\n",
       "      <td>0.419736</td>\n",
       "      <td>0.541591</td>\n",
       "      <td>0.492065</td>\n",
       "      <td>0.335281</td>\n",
       "      <td>0.221502</td>\n",
       "      <td>...</td>\n",
       "      <td>0.014838</td>\n",
       "      <td>0.028274</td>\n",
       "      <td>0.008838</td>\n",
       "      <td>0.038515</td>\n",
       "      <td>0.046158</td>\n",
       "      <td>0.017609</td>\n",
       "      <td>0.049608</td>\n",
       "      <td>0.009199</td>\n",
       "      <td>0.047448</td>\n",
       "      <td>0.015799</td>\n",
       "    </tr>\n",
       "  </tbody>\n",
       "</table>\n",
       "<p>5 rows × 3072 columns</p>\n",
       "</div>"
      ],
      "text/plain": [
       "       0         1         2         3         4         5         6     \\\n",
       "0  0.539235  0.259969  0.215011  0.070111  0.283708  0.401324  0.472763   \n",
       "1  0.469893  0.536260  0.227749  0.105157  0.252310  0.375051  0.457941   \n",
       "2  0.633533  1.033116  0.181166  0.027985  0.218488  0.333038  0.433656   \n",
       "3  0.464005  0.639352  0.277252  0.009392  0.195634  0.380259  0.479440   \n",
       "4  0.426434  0.855561  0.297763  0.022122  0.209945  0.419736  0.541591   \n",
       "\n",
       "       7         8         9     ...      3062      3063      3064      3065  \\\n",
       "0  0.466279  0.397933  0.336204  ...  0.005262  0.039134  0.004008  0.043957   \n",
       "1  0.450986  0.357854  0.314285  ...  0.010541  0.028984  0.028685  0.110384   \n",
       "2  0.450529  0.392528  0.394438  ...  0.023673  0.034022  0.012497  0.078195   \n",
       "3  0.454213  0.358372  0.276831  ...  0.027499  0.013372  0.009248  0.037449   \n",
       "4  0.492065  0.335281  0.221502  ...  0.014838  0.028274  0.008838  0.038515   \n",
       "\n",
       "       3066      3067      3068      3069      3070      3071  \n",
       "0  0.033686  0.012488  0.000000  0.007719  0.000276  0.021683  \n",
       "1  0.171021  0.049496  0.100237  0.040870  0.098182  0.046779  \n",
       "2  0.088591  0.028324  0.071175  0.042785  0.089030  0.041232  \n",
       "3  0.054717  0.021057  0.069745  0.014242  0.051977  0.030506  \n",
       "4  0.046158  0.017609  0.049608  0.009199  0.047448  0.015799  \n",
       "\n",
       "[5 rows x 3072 columns]"
      ]
     },
     "execution_count": 48,
     "metadata": {},
     "output_type": "execute_result"
    }
   ],
   "source": [
    "Forecasted_values_df.head()"
   ]
  },
  {
   "cell_type": "code",
   "execution_count": 49,
   "id": "68c7bc01-af52-4664-8745-99c3f70ed793",
   "metadata": {},
   "outputs": [],
   "source": [
    "# give column names here\n",
    "Forecasted_values_df.columns = ['forecaster_val_' + str(i) for i in range(3072)]"
   ]
  },
  {
   "cell_type": "code",
   "execution_count": 50,
   "id": "5753e902-47ea-4455-a177-ccb6cd4b16ff",
   "metadata": {},
   "outputs": [
    {
     "data": {
      "text/html": [
       "<div>\n",
       "<style scoped>\n",
       "    .dataframe tbody tr th:only-of-type {\n",
       "        vertical-align: middle;\n",
       "    }\n",
       "\n",
       "    .dataframe tbody tr th {\n",
       "        vertical-align: top;\n",
       "    }\n",
       "\n",
       "    .dataframe thead th {\n",
       "        text-align: right;\n",
       "    }\n",
       "</style>\n",
       "<table border=\"1\" class=\"dataframe\">\n",
       "  <thead>\n",
       "    <tr style=\"text-align: right;\">\n",
       "      <th></th>\n",
       "      <th>forecaster_val_0</th>\n",
       "      <th>forecaster_val_1</th>\n",
       "      <th>forecaster_val_2</th>\n",
       "      <th>forecaster_val_3</th>\n",
       "      <th>forecaster_val_4</th>\n",
       "      <th>forecaster_val_5</th>\n",
       "      <th>forecaster_val_6</th>\n",
       "      <th>forecaster_val_7</th>\n",
       "      <th>forecaster_val_8</th>\n",
       "      <th>forecaster_val_9</th>\n",
       "      <th>...</th>\n",
       "      <th>forecaster_val_3062</th>\n",
       "      <th>forecaster_val_3063</th>\n",
       "      <th>forecaster_val_3064</th>\n",
       "      <th>forecaster_val_3065</th>\n",
       "      <th>forecaster_val_3066</th>\n",
       "      <th>forecaster_val_3067</th>\n",
       "      <th>forecaster_val_3068</th>\n",
       "      <th>forecaster_val_3069</th>\n",
       "      <th>forecaster_val_3070</th>\n",
       "      <th>forecaster_val_3071</th>\n",
       "    </tr>\n",
       "  </thead>\n",
       "  <tbody>\n",
       "    <tr>\n",
       "      <th>0</th>\n",
       "      <td>0.539235</td>\n",
       "      <td>0.259969</td>\n",
       "      <td>0.215011</td>\n",
       "      <td>0.070111</td>\n",
       "      <td>0.283708</td>\n",
       "      <td>0.401324</td>\n",
       "      <td>0.472763</td>\n",
       "      <td>0.466279</td>\n",
       "      <td>0.397933</td>\n",
       "      <td>0.336204</td>\n",
       "      <td>...</td>\n",
       "      <td>0.005262</td>\n",
       "      <td>0.039134</td>\n",
       "      <td>0.004008</td>\n",
       "      <td>0.043957</td>\n",
       "      <td>0.033686</td>\n",
       "      <td>0.012488</td>\n",
       "      <td>0.000000</td>\n",
       "      <td>0.007719</td>\n",
       "      <td>0.000276</td>\n",
       "      <td>0.021683</td>\n",
       "    </tr>\n",
       "    <tr>\n",
       "      <th>1</th>\n",
       "      <td>0.469893</td>\n",
       "      <td>0.536260</td>\n",
       "      <td>0.227749</td>\n",
       "      <td>0.105157</td>\n",
       "      <td>0.252310</td>\n",
       "      <td>0.375051</td>\n",
       "      <td>0.457941</td>\n",
       "      <td>0.450986</td>\n",
       "      <td>0.357854</td>\n",
       "      <td>0.314285</td>\n",
       "      <td>...</td>\n",
       "      <td>0.010541</td>\n",
       "      <td>0.028984</td>\n",
       "      <td>0.028685</td>\n",
       "      <td>0.110384</td>\n",
       "      <td>0.171021</td>\n",
       "      <td>0.049496</td>\n",
       "      <td>0.100237</td>\n",
       "      <td>0.040870</td>\n",
       "      <td>0.098182</td>\n",
       "      <td>0.046779</td>\n",
       "    </tr>\n",
       "    <tr>\n",
       "      <th>2</th>\n",
       "      <td>0.633533</td>\n",
       "      <td>1.033116</td>\n",
       "      <td>0.181166</td>\n",
       "      <td>0.027985</td>\n",
       "      <td>0.218488</td>\n",
       "      <td>0.333038</td>\n",
       "      <td>0.433656</td>\n",
       "      <td>0.450529</td>\n",
       "      <td>0.392528</td>\n",
       "      <td>0.394438</td>\n",
       "      <td>...</td>\n",
       "      <td>0.023673</td>\n",
       "      <td>0.034022</td>\n",
       "      <td>0.012497</td>\n",
       "      <td>0.078195</td>\n",
       "      <td>0.088591</td>\n",
       "      <td>0.028324</td>\n",
       "      <td>0.071175</td>\n",
       "      <td>0.042785</td>\n",
       "      <td>0.089030</td>\n",
       "      <td>0.041232</td>\n",
       "    </tr>\n",
       "    <tr>\n",
       "      <th>3</th>\n",
       "      <td>0.464005</td>\n",
       "      <td>0.639352</td>\n",
       "      <td>0.277252</td>\n",
       "      <td>0.009392</td>\n",
       "      <td>0.195634</td>\n",
       "      <td>0.380259</td>\n",
       "      <td>0.479440</td>\n",
       "      <td>0.454213</td>\n",
       "      <td>0.358372</td>\n",
       "      <td>0.276831</td>\n",
       "      <td>...</td>\n",
       "      <td>0.027499</td>\n",
       "      <td>0.013372</td>\n",
       "      <td>0.009248</td>\n",
       "      <td>0.037449</td>\n",
       "      <td>0.054717</td>\n",
       "      <td>0.021057</td>\n",
       "      <td>0.069745</td>\n",
       "      <td>0.014242</td>\n",
       "      <td>0.051977</td>\n",
       "      <td>0.030506</td>\n",
       "    </tr>\n",
       "    <tr>\n",
       "      <th>4</th>\n",
       "      <td>0.426434</td>\n",
       "      <td>0.855561</td>\n",
       "      <td>0.297763</td>\n",
       "      <td>0.022122</td>\n",
       "      <td>0.209945</td>\n",
       "      <td>0.419736</td>\n",
       "      <td>0.541591</td>\n",
       "      <td>0.492065</td>\n",
       "      <td>0.335281</td>\n",
       "      <td>0.221502</td>\n",
       "      <td>...</td>\n",
       "      <td>0.014838</td>\n",
       "      <td>0.028274</td>\n",
       "      <td>0.008838</td>\n",
       "      <td>0.038515</td>\n",
       "      <td>0.046158</td>\n",
       "      <td>0.017609</td>\n",
       "      <td>0.049608</td>\n",
       "      <td>0.009199</td>\n",
       "      <td>0.047448</td>\n",
       "      <td>0.015799</td>\n",
       "    </tr>\n",
       "  </tbody>\n",
       "</table>\n",
       "<p>5 rows × 3072 columns</p>\n",
       "</div>"
      ],
      "text/plain": [
       "   forecaster_val_0  forecaster_val_1  forecaster_val_2  forecaster_val_3  \\\n",
       "0          0.539235          0.259969          0.215011          0.070111   \n",
       "1          0.469893          0.536260          0.227749          0.105157   \n",
       "2          0.633533          1.033116          0.181166          0.027985   \n",
       "3          0.464005          0.639352          0.277252          0.009392   \n",
       "4          0.426434          0.855561          0.297763          0.022122   \n",
       "\n",
       "   forecaster_val_4  forecaster_val_5  forecaster_val_6  forecaster_val_7  \\\n",
       "0          0.283708          0.401324          0.472763          0.466279   \n",
       "1          0.252310          0.375051          0.457941          0.450986   \n",
       "2          0.218488          0.333038          0.433656          0.450529   \n",
       "3          0.195634          0.380259          0.479440          0.454213   \n",
       "4          0.209945          0.419736          0.541591          0.492065   \n",
       "\n",
       "   forecaster_val_8  forecaster_val_9  ...  forecaster_val_3062  \\\n",
       "0          0.397933          0.336204  ...             0.005262   \n",
       "1          0.357854          0.314285  ...             0.010541   \n",
       "2          0.392528          0.394438  ...             0.023673   \n",
       "3          0.358372          0.276831  ...             0.027499   \n",
       "4          0.335281          0.221502  ...             0.014838   \n",
       "\n",
       "   forecaster_val_3063  forecaster_val_3064  forecaster_val_3065  \\\n",
       "0             0.039134             0.004008             0.043957   \n",
       "1             0.028984             0.028685             0.110384   \n",
       "2             0.034022             0.012497             0.078195   \n",
       "3             0.013372             0.009248             0.037449   \n",
       "4             0.028274             0.008838             0.038515   \n",
       "\n",
       "   forecaster_val_3066  forecaster_val_3067  forecaster_val_3068  \\\n",
       "0             0.033686             0.012488             0.000000   \n",
       "1             0.171021             0.049496             0.100237   \n",
       "2             0.088591             0.028324             0.071175   \n",
       "3             0.054717             0.021057             0.069745   \n",
       "4             0.046158             0.017609             0.049608   \n",
       "\n",
       "   forecaster_val_3069  forecaster_val_3070  forecaster_val_3071  \n",
       "0             0.007719             0.000276             0.021683  \n",
       "1             0.040870             0.098182             0.046779  \n",
       "2             0.042785             0.089030             0.041232  \n",
       "3             0.014242             0.051977             0.030506  \n",
       "4             0.009199             0.047448             0.015799  \n",
       "\n",
       "[5 rows x 3072 columns]"
      ]
     },
     "execution_count": 50,
     "metadata": {},
     "output_type": "execute_result"
    }
   ],
   "source": [
    "Forecasted_values_df.head()"
   ]
  },
  {
   "cell_type": "code",
   "execution_count": 51,
   "id": "8b5404a5-79f0-4045-a156-69eea2eb2081",
   "metadata": {},
   "outputs": [],
   "source": [
    "# get the min and max values here?"
   ]
  },
  {
   "cell_type": "code",
   "execution_count": 52,
   "id": "3f78b24b-0f2a-41c7-8ded-8d8158b0da98",
   "metadata": {},
   "outputs": [
    {
     "data": {
      "text/plain": [
       "(0.0, 2334007.0)"
      ]
     },
     "execution_count": 52,
     "metadata": {},
     "output_type": "execute_result"
    }
   ],
   "source": [
    "Forecasted_values_df.values.min(), Forecasted_values_df.values.max()"
   ]
  },
  {
   "cell_type": "code",
   "execution_count": 53,
   "id": "25bb623d-9523-4752-ac13-af99cbff5c27",
   "metadata": {},
   "outputs": [],
   "source": [
    "# The maximmum is an absurd amount - where is this coming from ? Do we need to manually fix it? Let's see\n",
    "# how many of teh values in the above dataframe are more than 10?"
   ]
  },
  {
   "cell_type": "code",
   "execution_count": 54,
   "id": "074e601a-f118-47e2-af47-32731c30bdc4",
   "metadata": {},
   "outputs": [],
   "source": [
    "# Maybe see to this once all columns are arranged in a single column?"
   ]
  },
  {
   "cell_type": "code",
   "execution_count": 55,
   "id": "3c856c12-7001-43c1-a186-08b242074808",
   "metadata": {},
   "outputs": [],
   "source": [
    "exp_true.columns = ['True_val_' + str(i) for i in range(3072)]"
   ]
  },
  {
   "cell_type": "code",
   "execution_count": 56,
   "id": "067be61e-3f40-487d-9d29-2aca3375cbe9",
   "metadata": {},
   "outputs": [
    {
     "data": {
      "text/html": [
       "<div>\n",
       "<style scoped>\n",
       "    .dataframe tbody tr th:only-of-type {\n",
       "        vertical-align: middle;\n",
       "    }\n",
       "\n",
       "    .dataframe tbody tr th {\n",
       "        vertical-align: top;\n",
       "    }\n",
       "\n",
       "    .dataframe thead th {\n",
       "        text-align: right;\n",
       "    }\n",
       "</style>\n",
       "<table border=\"1\" class=\"dataframe\">\n",
       "  <thead>\n",
       "    <tr style=\"text-align: right;\">\n",
       "      <th></th>\n",
       "      <th>True_val_0</th>\n",
       "      <th>True_val_1</th>\n",
       "      <th>True_val_2</th>\n",
       "      <th>True_val_3</th>\n",
       "      <th>True_val_4</th>\n",
       "      <th>True_val_5</th>\n",
       "      <th>True_val_6</th>\n",
       "      <th>True_val_7</th>\n",
       "      <th>True_val_8</th>\n",
       "      <th>True_val_9</th>\n",
       "      <th>...</th>\n",
       "      <th>True_val_3062</th>\n",
       "      <th>True_val_3063</th>\n",
       "      <th>True_val_3064</th>\n",
       "      <th>True_val_3065</th>\n",
       "      <th>True_val_3066</th>\n",
       "      <th>True_val_3067</th>\n",
       "      <th>True_val_3068</th>\n",
       "      <th>True_val_3069</th>\n",
       "      <th>True_val_3070</th>\n",
       "      <th>True_val_3071</th>\n",
       "    </tr>\n",
       "  </thead>\n",
       "  <tbody>\n",
       "    <tr>\n",
       "      <th>0</th>\n",
       "      <td>0.000000e+00</td>\n",
       "      <td>0.000000e+00</td>\n",
       "      <td>0.000000</td>\n",
       "      <td>0.000000</td>\n",
       "      <td>0.000000</td>\n",
       "      <td>0.008102</td>\n",
       "      <td>0.788701</td>\n",
       "      <td>0.999974</td>\n",
       "      <td>1.000005e+00</td>\n",
       "      <td>1.000005e+00</td>\n",
       "      <td>...</td>\n",
       "      <td>0.000102</td>\n",
       "      <td>3.902048e-07</td>\n",
       "      <td>0.0</td>\n",
       "      <td>0.0</td>\n",
       "      <td>0.0</td>\n",
       "      <td>0.0</td>\n",
       "      <td>0.0</td>\n",
       "      <td>0.0</td>\n",
       "      <td>0.0</td>\n",
       "      <td>0.0</td>\n",
       "    </tr>\n",
       "    <tr>\n",
       "      <th>1</th>\n",
       "      <td>0.000000e+00</td>\n",
       "      <td>0.000000e+00</td>\n",
       "      <td>0.000030</td>\n",
       "      <td>0.211299</td>\n",
       "      <td>0.991894</td>\n",
       "      <td>0.999995</td>\n",
       "      <td>0.999995</td>\n",
       "      <td>0.999995</td>\n",
       "      <td>9.999945e-01</td>\n",
       "      <td>9.455356e-01</td>\n",
       "      <td>...</td>\n",
       "      <td>0.000008</td>\n",
       "      <td>0.000000e+00</td>\n",
       "      <td>0.0</td>\n",
       "      <td>0.0</td>\n",
       "      <td>0.0</td>\n",
       "      <td>0.0</td>\n",
       "      <td>0.0</td>\n",
       "      <td>0.0</td>\n",
       "      <td>0.0</td>\n",
       "      <td>0.0</td>\n",
       "    </tr>\n",
       "    <tr>\n",
       "      <th>2</th>\n",
       "      <td>0.000000e+00</td>\n",
       "      <td>0.000000e+00</td>\n",
       "      <td>0.000672</td>\n",
       "      <td>0.498742</td>\n",
       "      <td>0.996812</td>\n",
       "      <td>0.997484</td>\n",
       "      <td>0.997484</td>\n",
       "      <td>0.997484</td>\n",
       "      <td>9.974534e-01</td>\n",
       "      <td>7.867158e-01</td>\n",
       "      <td>...</td>\n",
       "      <td>0.000000</td>\n",
       "      <td>0.000000e+00</td>\n",
       "      <td>0.0</td>\n",
       "      <td>0.0</td>\n",
       "      <td>0.0</td>\n",
       "      <td>0.0</td>\n",
       "      <td>0.0</td>\n",
       "      <td>0.0</td>\n",
       "      <td>0.0</td>\n",
       "      <td>0.0</td>\n",
       "    </tr>\n",
       "    <tr>\n",
       "      <th>3</th>\n",
       "      <td>2.227818e-11</td>\n",
       "      <td>2.783564e-07</td>\n",
       "      <td>0.000002</td>\n",
       "      <td>0.000002</td>\n",
       "      <td>0.000002</td>\n",
       "      <td>0.000002</td>\n",
       "      <td>0.000002</td>\n",
       "      <td>0.000002</td>\n",
       "      <td>1.414318e-07</td>\n",
       "      <td>3.098855e-12</td>\n",
       "      <td>...</td>\n",
       "      <td>0.000000</td>\n",
       "      <td>0.000000e+00</td>\n",
       "      <td>0.0</td>\n",
       "      <td>0.0</td>\n",
       "      <td>0.0</td>\n",
       "      <td>0.0</td>\n",
       "      <td>0.0</td>\n",
       "      <td>0.0</td>\n",
       "      <td>0.0</td>\n",
       "      <td>0.0</td>\n",
       "    </tr>\n",
       "    <tr>\n",
       "      <th>4</th>\n",
       "      <td>2.140443e-09</td>\n",
       "      <td>8.346132e-06</td>\n",
       "      <td>0.000030</td>\n",
       "      <td>0.000030</td>\n",
       "      <td>0.000030</td>\n",
       "      <td>0.000030</td>\n",
       "      <td>0.000030</td>\n",
       "      <td>0.000028</td>\n",
       "      <td>1.087552e-06</td>\n",
       "      <td>0.000000e+00</td>\n",
       "      <td>...</td>\n",
       "      <td>0.000000</td>\n",
       "      <td>0.000000e+00</td>\n",
       "      <td>0.0</td>\n",
       "      <td>0.0</td>\n",
       "      <td>0.0</td>\n",
       "      <td>0.0</td>\n",
       "      <td>0.0</td>\n",
       "      <td>0.0</td>\n",
       "      <td>0.0</td>\n",
       "      <td>0.0</td>\n",
       "    </tr>\n",
       "  </tbody>\n",
       "</table>\n",
       "<p>5 rows × 3072 columns</p>\n",
       "</div>"
      ],
      "text/plain": [
       "     True_val_0    True_val_1  True_val_2  True_val_3  True_val_4  True_val_5  \\\n",
       "0  0.000000e+00  0.000000e+00    0.000000    0.000000    0.000000    0.008102   \n",
       "1  0.000000e+00  0.000000e+00    0.000030    0.211299    0.991894    0.999995   \n",
       "2  0.000000e+00  0.000000e+00    0.000672    0.498742    0.996812    0.997484   \n",
       "3  2.227818e-11  2.783564e-07    0.000002    0.000002    0.000002    0.000002   \n",
       "4  2.140443e-09  8.346132e-06    0.000030    0.000030    0.000030    0.000030   \n",
       "\n",
       "   True_val_6  True_val_7    True_val_8    True_val_9  ...  True_val_3062  \\\n",
       "0    0.788701    0.999974  1.000005e+00  1.000005e+00  ...       0.000102   \n",
       "1    0.999995    0.999995  9.999945e-01  9.455356e-01  ...       0.000008   \n",
       "2    0.997484    0.997484  9.974534e-01  7.867158e-01  ...       0.000000   \n",
       "3    0.000002    0.000002  1.414318e-07  3.098855e-12  ...       0.000000   \n",
       "4    0.000030    0.000028  1.087552e-06  0.000000e+00  ...       0.000000   \n",
       "\n",
       "   True_val_3063  True_val_3064  True_val_3065  True_val_3066  True_val_3067  \\\n",
       "0   3.902048e-07            0.0            0.0            0.0            0.0   \n",
       "1   0.000000e+00            0.0            0.0            0.0            0.0   \n",
       "2   0.000000e+00            0.0            0.0            0.0            0.0   \n",
       "3   0.000000e+00            0.0            0.0            0.0            0.0   \n",
       "4   0.000000e+00            0.0            0.0            0.0            0.0   \n",
       "\n",
       "   True_val_3068  True_val_3069  True_val_3070  True_val_3071  \n",
       "0            0.0            0.0            0.0            0.0  \n",
       "1            0.0            0.0            0.0            0.0  \n",
       "2            0.0            0.0            0.0            0.0  \n",
       "3            0.0            0.0            0.0            0.0  \n",
       "4            0.0            0.0            0.0            0.0  \n",
       "\n",
       "[5 rows x 3072 columns]"
      ]
     },
     "execution_count": 56,
     "metadata": {},
     "output_type": "execute_result"
    }
   ],
   "source": [
    "exp_true.head()"
   ]
  },
  {
   "cell_type": "code",
   "execution_count": 57,
   "id": "2c45773b-0ea1-46be-8779-6c94e5c2d2e8",
   "metadata": {},
   "outputs": [],
   "source": [
    "# I think at this point we can go ahead and get the metrics for inference computed?"
   ]
  },
  {
   "cell_type": "code",
   "execution_count": 58,
   "id": "74578441-3c54-4eb3-8f75-e489c3c9494f",
   "metadata": {},
   "outputs": [],
   "source": [
    "# exp_true.keys()"
   ]
  },
  {
   "cell_type": "code",
   "execution_count": 59,
   "id": "eb0a136a-9fe1-498f-9bb8-84162b73a942",
   "metadata": {},
   "outputs": [],
   "source": [
    "# exp_true.values.shape"
   ]
  },
  {
   "cell_type": "code",
   "execution_count": 60,
   "id": "a3ca5525-f6e8-441d-ace6-0f00448a200a",
   "metadata": {},
   "outputs": [],
   "source": [
    "# use one column for both dataframes? that way it will be easier to compute the metrics?"
   ]
  },
  {
   "cell_type": "code",
   "execution_count": 61,
   "id": "1c43c82e-2df6-4005-9459-528fa4b1f3cb",
   "metadata": {},
   "outputs": [],
   "source": [
    "# Also something to keep in mind here is that the subwindow sizes are very small - 30*30 - this was intentional as we had to do the seq-2-seq model and they are data hungry - therefore having a 300*300 window size was not feasible"
   ]
  },
  {
   "cell_type": "code",
   "execution_count": 62,
   "id": "c622e1cf-a163-4edb-8ed3-d73a716466e1",
   "metadata": {},
   "outputs": [],
   "source": [
    "exp_true_onecol = pd.DataFrame(exp_true.to_numpy().ravel(order = 'F'), columns=[\"True_values\"])"
   ]
  },
  {
   "cell_type": "code",
   "execution_count": 63,
   "id": "97949b77-22b4-4b7a-82a4-32668f520ab0",
   "metadata": {},
   "outputs": [
    {
     "data": {
      "text/html": [
       "<div>\n",
       "<style scoped>\n",
       "    .dataframe tbody tr th:only-of-type {\n",
       "        vertical-align: middle;\n",
       "    }\n",
       "\n",
       "    .dataframe tbody tr th {\n",
       "        vertical-align: top;\n",
       "    }\n",
       "\n",
       "    .dataframe thead th {\n",
       "        text-align: right;\n",
       "    }\n",
       "</style>\n",
       "<table border=\"1\" class=\"dataframe\">\n",
       "  <thead>\n",
       "    <tr style=\"text-align: right;\">\n",
       "      <th></th>\n",
       "      <th>True_values</th>\n",
       "    </tr>\n",
       "  </thead>\n",
       "  <tbody>\n",
       "    <tr>\n",
       "      <th>0</th>\n",
       "      <td>0.000000e+00</td>\n",
       "    </tr>\n",
       "    <tr>\n",
       "      <th>1</th>\n",
       "      <td>0.000000e+00</td>\n",
       "    </tr>\n",
       "    <tr>\n",
       "      <th>2</th>\n",
       "      <td>0.000000e+00</td>\n",
       "    </tr>\n",
       "    <tr>\n",
       "      <th>3</th>\n",
       "      <td>2.227818e-11</td>\n",
       "    </tr>\n",
       "    <tr>\n",
       "      <th>4</th>\n",
       "      <td>2.140443e-09</td>\n",
       "    </tr>\n",
       "  </tbody>\n",
       "</table>\n",
       "</div>"
      ],
      "text/plain": [
       "    True_values\n",
       "0  0.000000e+00\n",
       "1  0.000000e+00\n",
       "2  0.000000e+00\n",
       "3  2.227818e-11\n",
       "4  2.140443e-09"
      ]
     },
     "execution_count": 63,
     "metadata": {},
     "output_type": "execute_result"
    }
   ],
   "source": [
    "exp_true_onecol.head()"
   ]
  },
  {
   "cell_type": "code",
   "execution_count": 64,
   "id": "770f4ad1-2c71-4a62-b2fd-0f052eba9088",
   "metadata": {},
   "outputs": [
    {
     "data": {
      "text/plain": [
       "(21504, 1)"
      ]
     },
     "execution_count": 64,
     "metadata": {},
     "output_type": "execute_result"
    }
   ],
   "source": [
    "exp_true_onecol.shape"
   ]
  },
  {
   "cell_type": "code",
   "execution_count": 65,
   "id": "59a01283-1e4e-45cf-bbc6-9330c5863f96",
   "metadata": {},
   "outputs": [
    {
     "data": {
      "text/plain": [
       "21504"
      ]
     },
     "execution_count": 65,
     "metadata": {},
     "output_type": "execute_result"
    }
   ],
   "source": [
    "3072*7"
   ]
  },
  {
   "cell_type": "code",
   "execution_count": 66,
   "id": "1de30f69-827a-4566-bb47-006090eb5f73",
   "metadata": {},
   "outputs": [],
   "source": [
    "exp_predicted_onecol = pd.DataFrame(Forecasted_values_df.to_numpy().ravel(order = 'F'), columns=[\"Forecasted_values\"])"
   ]
  },
  {
   "cell_type": "code",
   "execution_count": 67,
   "id": "8342aa85-97d4-4c5a-a021-81ef1edb027a",
   "metadata": {
    "scrolled": true
   },
   "outputs": [
    {
     "data": {
      "text/html": [
       "<div>\n",
       "<style scoped>\n",
       "    .dataframe tbody tr th:only-of-type {\n",
       "        vertical-align: middle;\n",
       "    }\n",
       "\n",
       "    .dataframe tbody tr th {\n",
       "        vertical-align: top;\n",
       "    }\n",
       "\n",
       "    .dataframe thead th {\n",
       "        text-align: right;\n",
       "    }\n",
       "</style>\n",
       "<table border=\"1\" class=\"dataframe\">\n",
       "  <thead>\n",
       "    <tr style=\"text-align: right;\">\n",
       "      <th></th>\n",
       "      <th>Forecasted_values</th>\n",
       "    </tr>\n",
       "  </thead>\n",
       "  <tbody>\n",
       "    <tr>\n",
       "      <th>0</th>\n",
       "      <td>0.539235</td>\n",
       "    </tr>\n",
       "    <tr>\n",
       "      <th>1</th>\n",
       "      <td>0.469893</td>\n",
       "    </tr>\n",
       "    <tr>\n",
       "      <th>2</th>\n",
       "      <td>0.633533</td>\n",
       "    </tr>\n",
       "    <tr>\n",
       "      <th>3</th>\n",
       "      <td>0.464005</td>\n",
       "    </tr>\n",
       "    <tr>\n",
       "      <th>4</th>\n",
       "      <td>0.426434</td>\n",
       "    </tr>\n",
       "  </tbody>\n",
       "</table>\n",
       "</div>"
      ],
      "text/plain": [
       "   Forecasted_values\n",
       "0           0.539235\n",
       "1           0.469893\n",
       "2           0.633533\n",
       "3           0.464005\n",
       "4           0.426434"
      ]
     },
     "execution_count": 67,
     "metadata": {},
     "output_type": "execute_result"
    }
   ],
   "source": [
    "exp_predicted_onecol.head()"
   ]
  },
  {
   "cell_type": "code",
   "execution_count": 68,
   "id": "a069bf97-37be-4353-a829-842b4eae8ef0",
   "metadata": {},
   "outputs": [
    {
     "data": {
      "text/html": [
       "<div>\n",
       "<style scoped>\n",
       "    .dataframe tbody tr th:only-of-type {\n",
       "        vertical-align: middle;\n",
       "    }\n",
       "\n",
       "    .dataframe tbody tr th {\n",
       "        vertical-align: top;\n",
       "    }\n",
       "\n",
       "    .dataframe thead th {\n",
       "        text-align: right;\n",
       "    }\n",
       "</style>\n",
       "<table border=\"1\" class=\"dataframe\">\n",
       "  <thead>\n",
       "    <tr style=\"text-align: right;\">\n",
       "      <th></th>\n",
       "      <th>Forecasted_values</th>\n",
       "    </tr>\n",
       "  </thead>\n",
       "  <tbody>\n",
       "    <tr>\n",
       "      <th>21499</th>\n",
       "      <td>0.041232</td>\n",
       "    </tr>\n",
       "    <tr>\n",
       "      <th>21500</th>\n",
       "      <td>0.030506</td>\n",
       "    </tr>\n",
       "    <tr>\n",
       "      <th>21501</th>\n",
       "      <td>0.015799</td>\n",
       "    </tr>\n",
       "    <tr>\n",
       "      <th>21502</th>\n",
       "      <td>0.019758</td>\n",
       "    </tr>\n",
       "    <tr>\n",
       "      <th>21503</th>\n",
       "      <td>0.024740</td>\n",
       "    </tr>\n",
       "  </tbody>\n",
       "</table>\n",
       "</div>"
      ],
      "text/plain": [
       "       Forecasted_values\n",
       "21499           0.041232\n",
       "21500           0.030506\n",
       "21501           0.015799\n",
       "21502           0.019758\n",
       "21503           0.024740"
      ]
     },
     "execution_count": 68,
     "metadata": {},
     "output_type": "execute_result"
    }
   ],
   "source": [
    "exp_predicted_onecol.tail()"
   ]
  },
  {
   "cell_type": "code",
   "execution_count": 69,
   "id": "8e28b95a-89e0-43c5-a9c3-e2cc1d432c89",
   "metadata": {},
   "outputs": [
    {
     "data": {
      "text/plain": [
       "(21504, 1)"
      ]
     },
     "execution_count": 69,
     "metadata": {},
     "output_type": "execute_result"
    }
   ],
   "source": [
    "exp_predicted_onecol.shape"
   ]
  },
  {
   "cell_type": "code",
   "execution_count": 74,
   "id": "f9ec5122-f42e-4c52-9318-d84cbf8df103",
   "metadata": {},
   "outputs": [],
   "source": [
    "# how many values are > 10? - 573 - This still feels like an absolutely high value. Should we change the priors? Need to look into this. \n",
    "# how many values are > 100? - 153\n",
    "# how many values are > 1000? - 51\n",
    "# how many values are > 10000? - 21\n",
    "# how many values are > 100000? - 5\n",
    "# how many values are > 1000000? - 1"
   ]
  },
  {
   "cell_type": "code",
   "execution_count": 85,
   "id": "da79a573-6833-429f-af4d-7a5c14e35319",
   "metadata": {},
   "outputs": [],
   "source": [
    "values_greater_than_10 = []\n",
    "greater_than_10_df_index = []\n",
    "for i, val in enumerate(range(exp_predicted_onecol.shape[0])):\n",
    "    value = exp_predicted_onecol['Forecasted_values'][val]\n",
    "    if value >= 10:\n",
    "        values_greater_than_10.append(value)\n",
    "        greater_than_10_df_index.append(i)"
   ]
  },
  {
   "cell_type": "code",
   "execution_count": 86,
   "id": "8cf6bcb1-c3c9-40a8-95eb-00154b199eff",
   "metadata": {},
   "outputs": [
    {
     "data": {
      "text/plain": [
       "573"
      ]
     },
     "execution_count": 86,
     "metadata": {},
     "output_type": "execute_result"
    }
   ],
   "source": [
    "len(values_greater_than_10)"
   ]
  },
  {
   "cell_type": "code",
   "execution_count": 73,
   "id": "cc87cd9c-ab8d-44ef-a1a2-c47dce057068",
   "metadata": {},
   "outputs": [],
   "source": [
    "# values_greater_than_10"
   ]
  },
  {
   "cell_type": "code",
   "execution_count": 87,
   "id": "e6047afe-9129-4d9f-8a97-d9ee1d1fad09",
   "metadata": {},
   "outputs": [],
   "source": [
    "# greater_than_10_df_index"
   ]
  },
  {
   "cell_type": "code",
   "execution_count": 88,
   "id": "1830abf8-7086-4dca-8a38-2098f66574be",
   "metadata": {},
   "outputs": [],
   "source": [
    "# enumerate(exp_predicted_onecol['Forecasted_values'][0])"
   ]
  },
  {
   "cell_type": "code",
   "execution_count": 89,
   "id": "bfe30c60-3a4d-4a60-9d05-d305681fc9f2",
   "metadata": {},
   "outputs": [],
   "source": [
    "# I think at this point, we should be looking inot other blocks too, to see if we see weird results like this?"
   ]
  },
  {
   "cell_type": "code",
   "execution_count": 90,
   "id": "1e39fe2f-d205-4c7a-918a-22250ddf1694",
   "metadata": {},
   "outputs": [],
   "source": [
    "# compute the metrics - these would look really small as the values we have are really small"
   ]
  },
  {
   "cell_type": "code",
   "execution_count": 91,
   "id": "576837f9-1f0f-47e2-8959-4774323b2ead",
   "metadata": {},
   "outputs": [
    {
     "data": {
      "text/plain": [
       "16092.893852986463"
      ]
     },
     "execution_count": 91,
     "metadata": {},
     "output_type": "execute_result"
    }
   ],
   "source": [
    "# blockwise mean squared error\n",
    "rmse = np.sqrt(mean_squared_error(exp_true_onecol['True_values'], exp_predicted_onecol['Forecasted_values']))\n",
    "rmse"
   ]
  },
  {
   "cell_type": "code",
   "execution_count": 92,
   "id": "656c6ac0-86a7-4fde-b57a-24f5f5883080",
   "metadata": {},
   "outputs": [
    {
     "data": {
      "text/plain": [
       "161.42699116825602"
      ]
     },
     "execution_count": 92,
     "metadata": {},
     "output_type": "execute_result"
    }
   ],
   "source": [
    "mae = mean_absolute_error(exp_true_onecol['True_values'], exp_predicted_onecol['Forecasted_values'])\n",
    "mae"
   ]
  },
  {
   "cell_type": "code",
   "execution_count": 93,
   "id": "93072881-3eac-4c5e-916c-5fe8f59eb24f",
   "metadata": {},
   "outputs": [
    {
     "data": {
      "text/plain": [
       "0.020212201599448906"
      ]
     },
     "execution_count": 93,
     "metadata": {},
     "output_type": "execute_result"
    }
   ],
   "source": [
    "corr = pearsonr(exp_true_onecol['True_values'], exp_predicted_onecol['Forecasted_values'])\n",
    "corr[0]"
   ]
  },
  {
   "cell_type": "code",
   "execution_count": 94,
   "id": "601575da-140c-4069-ac87-868f310aeb54",
   "metadata": {},
   "outputs": [
    {
     "data": {
      "text/plain": [
       "-562699235.4880878"
      ]
     },
     "execution_count": 94,
     "metadata": {},
     "output_type": "execute_result"
    }
   ],
   "source": [
    "r2 = r2_score(exp_true_onecol['True_values'], exp_predicted_onecol['Forecasted_values'])\n",
    "r2"
   ]
  },
  {
   "cell_type": "code",
   "execution_count": 95,
   "id": "efe29cef-f6ed-4b8c-a115-fe17bfb0c2fb",
   "metadata": {},
   "outputs": [
    {
     "data": {
      "image/png": "[encoded data removed]",
      "text/plain": [
       "<Figure size 800x800 with 1 Axes>"
      ]
     },
     "metadata": {},
     "output_type": "display_data"
    }
   ],
   "source": [
    "plt.figure(figsize = (8,8))\n",
    "plt.scatter(exp_true_onecol['True_values'], exp_predicted_onecol['Forecasted_values'], s = 10)\n",
    "plt.xlabel(\"True density\")\n",
    "plt.ylabel(\"Predicted density\")\n",
    "# Add the y = x line\n",
    "plt.plot([0, 3], [0, 3], color='green', label='y = x')\n",
    "plt.legend()\n",
    "plt.show()"
   ]
  },
  {
   "cell_type": "code",
   "execution_count": 96,
   "id": "5b6bc4f5-948f-4ffd-94bf-67b6132b9586",
   "metadata": {},
   "outputs": [
    {
     "data": {
      "image/png": "[encoded data removed]",
      "text/plain": [
       "<Figure size 640x480 with 1 Axes>"
      ]
     },
     "metadata": {},
     "output_type": "display_data"
    }
   ],
   "source": [
    "# At this point let's look at the true and predicted value distributions - overlay the histograms\n",
    "\n",
    "# Plot histogram of two columns\n",
    "plt.hist(exp_true_onecol['True_values'], \n",
    "         bins=30, \n",
    "         label=[' True values'], \n",
    "         alpha=0.5, color = 'blue')  # alpha = transparency\n",
    "plt.hist(exp_predicted_onecol['Forecasted_values'], \n",
    "         bins=30, \n",
    "         label=['Predicted values'], \n",
    "         alpha=0.5, color = 'red') \n",
    "plt.xlabel(\"Value\")\n",
    "plt.ylabel(\"Frequency\")\n",
    "plt.title(\"Histogram of Two Columns\")\n",
    "plt.legend()\n",
    "plt.show()"
   ]
  },
  {
   "cell_type": "code",
   "execution_count": 97,
   "id": "d86e03d3-9dc9-438c-9442-82da8bdfe8ce",
   "metadata": {},
   "outputs": [],
   "source": [
    "# Should we try to get the values separated by 0s?"
   ]
  },
  {
   "cell_type": "code",
   "execution_count": 98,
   "id": "abe3c42d-1d1d-46c0-a6a8-9324236f0943",
   "metadata": {},
   "outputs": [],
   "source": [
    "# how to do this? Maybe we need to take the indices from the true values df, and subset accordingly?"
   ]
  },
  {
   "cell_type": "code",
   "execution_count": 99,
   "id": "b24b7cda-ac98-492c-a939-5c31a1a32046",
   "metadata": {},
   "outputs": [],
   "source": [
    "# so create a mask 0 with the true values 0s - we need the indices of this"
   ]
  },
  {
   "cell_type": "code",
   "execution_count": 100,
   "id": "1a6f9210-233b-4394-8573-bf9c8b943a61",
   "metadata": {},
   "outputs": [],
   "source": [
    "mask_zero = exp_true_onecol['True_values'].eq(0)"
   ]
  },
  {
   "cell_type": "code",
   "execution_count": 101,
   "id": "d471dc76-ee06-4aea-96fd-718fcd304a30",
   "metadata": {},
   "outputs": [],
   "source": [
    "# separate the zero and non-zero indices\n",
    "idx_zero = exp_true_onecol.index[mask_zero]\n",
    "idx_nonzero = exp_true_onecol.index[-mask_zero]"
   ]
  },
  {
   "cell_type": "code",
   "execution_count": 102,
   "id": "00c74624-2b63-4a24-964f-7d51f22ac673",
   "metadata": {},
   "outputs": [
    {
     "data": {
      "text/plain": [
       "(7965,)"
      ]
     },
     "execution_count": 102,
     "metadata": {},
     "output_type": "execute_result"
    }
   ],
   "source": [
    "# how many zero values?\n",
    "idx_zero.shape"
   ]
  },
  {
   "cell_type": "code",
   "execution_count": 103,
   "id": "7739f884-380a-49fe-b849-fe0f8ea4fe88",
   "metadata": {},
   "outputs": [
    {
     "data": {
      "text/plain": [
       "6370"
      ]
     },
     "execution_count": 103,
     "metadata": {},
     "output_type": "execute_result"
    }
   ],
   "source": [
    "910*7"
   ]
  },
  {
   "cell_type": "code",
   "execution_count": 104,
   "id": "f44c0120-4b6b-4ba9-8a64-d1261a00dcd0",
   "metadata": {},
   "outputs": [
    {
     "data": {
      "text/plain": [
       "(13539,)"
      ]
     },
     "execution_count": 104,
     "metadata": {},
     "output_type": "execute_result"
    }
   ],
   "source": [
    "# how many non-zeor values\n",
    "idx_nonzero.shape"
   ]
  },
  {
   "cell_type": "code",
   "execution_count": 105,
   "id": "63de6cf0-cc99-45e8-aa2c-30a7547da434",
   "metadata": {},
   "outputs": [
    {
     "data": {
      "text/plain": [
       "21504"
      ]
     },
     "execution_count": 105,
     "metadata": {},
     "output_type": "execute_result"
    }
   ],
   "source": [
    "# sanity check\n",
    "idx_nonzero.shape[0] + idx_zero.shape[0]"
   ]
  },
  {
   "cell_type": "code",
   "execution_count": 106,
   "id": "4a256064-8c76-431c-bc76-e721a1b7282a",
   "metadata": {},
   "outputs": [],
   "source": [
    "# Subset both dataframes with the same indices\n",
    "df_true_zero  = exp_true_onecol.loc[idx_zero]\n",
    "df_pred_zero  = exp_predicted_onecol.loc[idx_zero]\n",
    "df_true_nz    = exp_true_onecol.loc[idx_nonzero]\n",
    "df_pred_nz    = exp_predicted_onecol.loc[idx_nonzero]"
   ]
  },
  {
   "cell_type": "code",
   "execution_count": 107,
   "id": "3df123ca-fe8d-4482-8736-34c3b5128668",
   "metadata": {},
   "outputs": [
    {
     "data": {
      "text/plain": [
       "((7965, 1), (7965, 1))"
      ]
     },
     "execution_count": 107,
     "metadata": {},
     "output_type": "execute_result"
    }
   ],
   "source": [
    "df_true_zero.shape, df_pred_zero.shape"
   ]
  },
  {
   "cell_type": "code",
   "execution_count": 108,
   "id": "c3841a59-219e-4015-aef1-0c88dc839328",
   "metadata": {},
   "outputs": [
    {
     "data": {
      "text/html": [
       "<div>\n",
       "<style scoped>\n",
       "    .dataframe tbody tr th:only-of-type {\n",
       "        vertical-align: middle;\n",
       "    }\n",
       "\n",
       "    .dataframe tbody tr th {\n",
       "        vertical-align: top;\n",
       "    }\n",
       "\n",
       "    .dataframe thead th {\n",
       "        text-align: right;\n",
       "    }\n",
       "</style>\n",
       "<table border=\"1\" class=\"dataframe\">\n",
       "  <thead>\n",
       "    <tr style=\"text-align: right;\">\n",
       "      <th></th>\n",
       "      <th>True_values</th>\n",
       "    </tr>\n",
       "  </thead>\n",
       "  <tbody>\n",
       "    <tr>\n",
       "      <th>0</th>\n",
       "      <td>0.0</td>\n",
       "    </tr>\n",
       "    <tr>\n",
       "      <th>1</th>\n",
       "      <td>0.0</td>\n",
       "    </tr>\n",
       "    <tr>\n",
       "      <th>2</th>\n",
       "      <td>0.0</td>\n",
       "    </tr>\n",
       "    <tr>\n",
       "      <th>6</th>\n",
       "      <td>0.0</td>\n",
       "    </tr>\n",
       "    <tr>\n",
       "      <th>7</th>\n",
       "      <td>0.0</td>\n",
       "    </tr>\n",
       "  </tbody>\n",
       "</table>\n",
       "</div>"
      ],
      "text/plain": [
       "   True_values\n",
       "0          0.0\n",
       "1          0.0\n",
       "2          0.0\n",
       "6          0.0\n",
       "7          0.0"
      ]
     },
     "execution_count": 108,
     "metadata": {},
     "output_type": "execute_result"
    }
   ],
   "source": [
    "df_true_zero.head()"
   ]
  },
  {
   "cell_type": "code",
   "execution_count": 109,
   "id": "1713c839-a187-4043-9d24-0935778a2cc3",
   "metadata": {},
   "outputs": [
    {
     "data": {
      "text/html": [
       "<div>\n",
       "<style scoped>\n",
       "    .dataframe tbody tr th:only-of-type {\n",
       "        vertical-align: middle;\n",
       "    }\n",
       "\n",
       "    .dataframe tbody tr th {\n",
       "        vertical-align: top;\n",
       "    }\n",
       "\n",
       "    .dataframe thead th {\n",
       "        text-align: right;\n",
       "    }\n",
       "</style>\n",
       "<table border=\"1\" class=\"dataframe\">\n",
       "  <thead>\n",
       "    <tr style=\"text-align: right;\">\n",
       "      <th></th>\n",
       "      <th>Forecasted_values</th>\n",
       "    </tr>\n",
       "  </thead>\n",
       "  <tbody>\n",
       "    <tr>\n",
       "      <th>0</th>\n",
       "      <td>0.539235</td>\n",
       "    </tr>\n",
       "    <tr>\n",
       "      <th>1</th>\n",
       "      <td>0.469893</td>\n",
       "    </tr>\n",
       "    <tr>\n",
       "      <th>2</th>\n",
       "      <td>0.633533</td>\n",
       "    </tr>\n",
       "    <tr>\n",
       "      <th>6</th>\n",
       "      <td>0.502914</td>\n",
       "    </tr>\n",
       "    <tr>\n",
       "      <th>7</th>\n",
       "      <td>0.259969</td>\n",
       "    </tr>\n",
       "  </tbody>\n",
       "</table>\n",
       "</div>"
      ],
      "text/plain": [
       "   Forecasted_values\n",
       "0           0.539235\n",
       "1           0.469893\n",
       "2           0.633533\n",
       "6           0.502914\n",
       "7           0.259969"
      ]
     },
     "execution_count": 109,
     "metadata": {},
     "output_type": "execute_result"
    }
   ],
   "source": [
    "df_pred_zero.head()"
   ]
  },
  {
   "cell_type": "code",
   "execution_count": 110,
   "id": "7cb5d3a4-a298-457a-99ff-d39149186ad7",
   "metadata": {},
   "outputs": [
    {
     "data": {
      "text/html": [
       "<div>\n",
       "<style scoped>\n",
       "    .dataframe tbody tr th:only-of-type {\n",
       "        vertical-align: middle;\n",
       "    }\n",
       "\n",
       "    .dataframe tbody tr th {\n",
       "        vertical-align: top;\n",
       "    }\n",
       "\n",
       "    .dataframe thead th {\n",
       "        text-align: right;\n",
       "    }\n",
       "</style>\n",
       "<table border=\"1\" class=\"dataframe\">\n",
       "  <thead>\n",
       "    <tr style=\"text-align: right;\">\n",
       "      <th></th>\n",
       "      <th>True_values</th>\n",
       "    </tr>\n",
       "  </thead>\n",
       "  <tbody>\n",
       "    <tr>\n",
       "      <th>3</th>\n",
       "      <td>2.227818e-11</td>\n",
       "    </tr>\n",
       "    <tr>\n",
       "      <th>4</th>\n",
       "      <td>2.140443e-09</td>\n",
       "    </tr>\n",
       "    <tr>\n",
       "      <th>5</th>\n",
       "      <td>1.246630e-08</td>\n",
       "    </tr>\n",
       "    <tr>\n",
       "      <th>10</th>\n",
       "      <td>2.783564e-07</td>\n",
       "    </tr>\n",
       "    <tr>\n",
       "      <th>11</th>\n",
       "      <td>8.346132e-06</td>\n",
       "    </tr>\n",
       "  </tbody>\n",
       "</table>\n",
       "</div>"
      ],
      "text/plain": [
       "     True_values\n",
       "3   2.227818e-11\n",
       "4   2.140443e-09\n",
       "5   1.246630e-08\n",
       "10  2.783564e-07\n",
       "11  8.346132e-06"
      ]
     },
     "execution_count": 110,
     "metadata": {},
     "output_type": "execute_result"
    }
   ],
   "source": [
    "df_true_nz.head()"
   ]
  },
  {
   "cell_type": "code",
   "execution_count": 111,
   "id": "4d6ceb8e-f387-49c4-937f-23c284c6158d",
   "metadata": {},
   "outputs": [
    {
     "data": {
      "text/html": [
       "<div>\n",
       "<style scoped>\n",
       "    .dataframe tbody tr th:only-of-type {\n",
       "        vertical-align: middle;\n",
       "    }\n",
       "\n",
       "    .dataframe tbody tr th {\n",
       "        vertical-align: top;\n",
       "    }\n",
       "\n",
       "    .dataframe thead th {\n",
       "        text-align: right;\n",
       "    }\n",
       "</style>\n",
       "<table border=\"1\" class=\"dataframe\">\n",
       "  <thead>\n",
       "    <tr style=\"text-align: right;\">\n",
       "      <th></th>\n",
       "      <th>Forecasted_values</th>\n",
       "    </tr>\n",
       "  </thead>\n",
       "  <tbody>\n",
       "    <tr>\n",
       "      <th>3</th>\n",
       "      <td>0.464005</td>\n",
       "    </tr>\n",
       "    <tr>\n",
       "      <th>4</th>\n",
       "      <td>0.426434</td>\n",
       "    </tr>\n",
       "    <tr>\n",
       "      <th>5</th>\n",
       "      <td>0.533140</td>\n",
       "    </tr>\n",
       "    <tr>\n",
       "      <th>10</th>\n",
       "      <td>0.639352</td>\n",
       "    </tr>\n",
       "    <tr>\n",
       "      <th>11</th>\n",
       "      <td>0.855561</td>\n",
       "    </tr>\n",
       "  </tbody>\n",
       "</table>\n",
       "</div>"
      ],
      "text/plain": [
       "    Forecasted_values\n",
       "3            0.464005\n",
       "4            0.426434\n",
       "5            0.533140\n",
       "10           0.639352\n",
       "11           0.855561"
      ]
     },
     "execution_count": 111,
     "metadata": {},
     "output_type": "execute_result"
    }
   ],
   "source": [
    "df_pred_nz.head()"
   ]
  },
  {
   "cell_type": "code",
   "execution_count": 112,
   "id": "fa6515be-c487-4d90-a7f7-7ae9aac98be8",
   "metadata": {},
   "outputs": [],
   "source": [
    "# create the separate scatterplots for these"
   ]
  },
  {
   "cell_type": "code",
   "execution_count": 113,
   "id": "5b1be166-8641-4ef5-af70-386326b2c989",
   "metadata": {},
   "outputs": [
    {
     "data": {
      "image/png": "[encoded data removed]",
      "text/plain": [
       "<Figure size 800x800 with 1 Axes>"
      ]
     },
     "metadata": {},
     "output_type": "display_data"
    }
   ],
   "source": [
    "# For zero-data\n",
    "plt.figure(figsize = (8,8))\n",
    "plt.scatter(df_true_zero['True_values'], df_pred_zero['Forecasted_values'], s = 10)\n",
    "plt.title(\"Scatter plot when the True densities are zeros\")\n",
    "plt.xlabel(\"True densities\")\n",
    "plt.ylabel(\"Forecasted densities\")\n",
    "plt.show()"
   ]
  },
  {
   "cell_type": "code",
   "execution_count": 114,
   "id": "81177e50-319f-41e7-bded-f0cb4194812b",
   "metadata": {},
   "outputs": [
    {
     "data": {
      "image/png": "[encoded data removed]",
      "text/plain": [
       "<Figure size 640x480 with 1 Axes>"
      ]
     },
     "metadata": {},
     "output_type": "display_data"
    }
   ],
   "source": [
    "# Plot histogram of two columns\n",
    "plt.hist(df_true_zero['True_values'], \n",
    "         bins=30, \n",
    "         label=[' True values'], \n",
    "         alpha=0.5, color = 'blue')  # alpha = transparency\n",
    "plt.hist(df_pred_zero['Forecasted_values'], \n",
    "         bins=30, \n",
    "         label=['Predicted values'], \n",
    "         alpha=0.5, color = 'red') \n",
    "plt.xlabel(\"Value\")\n",
    "plt.ylabel(\"Frequency\")\n",
    "plt.title(\"Histogram of Two Columns\")\n",
    "plt.legend()\n",
    "plt.show()"
   ]
  },
  {
   "cell_type": "code",
   "execution_count": 115,
   "id": "1fb0724b-bfa0-40fc-ac2b-f249f807788a",
   "metadata": {},
   "outputs": [
    {
     "data": {
      "image/png": "[encoded data removed]",
      "text/plain": [
       "<Figure size 800x800 with 1 Axes>"
      ]
     },
     "metadata": {},
     "output_type": "display_data"
    }
   ],
   "source": [
    "# For non-zero data\n",
    "plt.figure(figsize = (8,8))\n",
    "plt.scatter(df_true_nz['True_values'], df_pred_nz['Forecasted_values'], s = 10)\n",
    "plt.title(\"Scatter plot when the True densities are non-zeros\")\n",
    "# also plot the y = x line?\n",
    "plt.plot([0, 3], [0, 3], color='green', label='y = x')\n",
    "plt.xlabel(\"True densities\")\n",
    "plt.ylabel(\"Forecasted densities\")\n",
    "plt.show()"
   ]
  },
  {
   "cell_type": "code",
   "execution_count": 116,
   "id": "667b1664-b6e7-433c-97c4-a6f52fd02dea",
   "metadata": {},
   "outputs": [
    {
     "data": {
      "image/png": "[encoded data removed]",
      "text/plain": [
       "<Figure size 640x480 with 1 Axes>"
      ]
     },
     "metadata": {},
     "output_type": "display_data"
    }
   ],
   "source": [
    "# Plot histogram of two columns\n",
    "plt.hist(df_true_nz['True_values'], \n",
    "         bins=30, \n",
    "         label=[' True values'], \n",
    "         alpha=0.5, color = 'blue')  # alpha = transparency\n",
    "plt.hist(df_pred_nz['Forecasted_values'], \n",
    "         bins=30, \n",
    "         label=['Predicted values'], \n",
    "         alpha=0.5, color = 'red') \n",
    "plt.xlabel(\"Value\")\n",
    "plt.ylabel(\"Frequency\")\n",
    "plt.title(\"Histogram of Two Columns\")\n",
    "plt.legend()\n",
    "plt.show()"
   ]
  },
  {
   "cell_type": "code",
   "execution_count": 117,
   "id": "7f15c23f-13fa-4a4c-8f9e-91a286fe3ecb",
   "metadata": {},
   "outputs": [],
   "source": [
    "# not that great - but maybe the model is not doing as well as we need due to the number of zeros we had considered during the model training phase?"
   ]
  },
  {
   "cell_type": "code",
   "execution_count": 118,
   "id": "09b5a98a-8355-4906-9dc6-6c04080878d5",
   "metadata": {},
   "outputs": [],
   "source": [
    "# Maybe get the metrics for teh reduced subsets of data as well"
   ]
  },
  {
   "cell_type": "code",
   "execution_count": 119,
   "id": "daf790da-d6e2-4b26-ba0f-c4bba44003a5",
   "metadata": {},
   "outputs": [],
   "source": [
    "# All zeros"
   ]
  },
  {
   "cell_type": "code",
   "execution_count": 120,
   "id": "8f00c90b-e894-4fe5-a5a1-59bc88819f8f",
   "metadata": {},
   "outputs": [
    {
     "data": {
      "text/plain": [
       "21.988822827198376"
      ]
     },
     "execution_count": 120,
     "metadata": {},
     "output_type": "execute_result"
    }
   ],
   "source": [
    "rmse_zero =  np.sqrt(mean_squared_error(df_true_zero['True_values'], df_pred_zero['Forecasted_values']))\n",
    "rmse_zero"
   ]
  },
  {
   "cell_type": "code",
   "execution_count": 121,
   "id": "3d662c70-2756-4907-8a23-5230d48df1f1",
   "metadata": {},
   "outputs": [
    {
     "data": {
      "text/plain": [
       "0.7550092652572891"
      ]
     },
     "execution_count": 121,
     "metadata": {},
     "output_type": "execute_result"
    }
   ],
   "source": [
    "mae_zero = mean_absolute_error(df_true_zero['True_values'], df_pred_zero['Forecasted_values'])\n",
    "mae_zero"
   ]
  },
  {
   "cell_type": "code",
   "execution_count": 122,
   "id": "1aba16bc-daa8-477e-b2d8-9f7c0ebe6cb5",
   "metadata": {},
   "outputs": [
    {
     "name": "stderr",
     "output_type": "stream",
     "text": [
      "/mnt/nrdstor/statsgeneral/gayara/tfp_cpu_env/lib/python3.11/site-packages/scipy/stats/_stats_py.py:4781: ConstantInputWarning: An input array is constant; the correlation coefficient is not defined.\n",
      "  warnings.warn(stats.ConstantInputWarning(msg))\n"
     ]
    }
   ],
   "source": [
    "corr_zero = pearsonr(df_true_zero['True_values'], df_pred_zero['Forecasted_values'])"
   ]
  },
  {
   "cell_type": "code",
   "execution_count": 123,
   "id": "8dc223f6-3ef1-4e38-bdfa-17b7d3355b65",
   "metadata": {},
   "outputs": [
    {
     "data": {
      "text/plain": [
       "PearsonRResult(statistic=nan, pvalue=nan)"
      ]
     },
     "execution_count": 123,
     "metadata": {},
     "output_type": "execute_result"
    }
   ],
   "source": [
    "corr_zero"
   ]
  },
  {
   "cell_type": "code",
   "execution_count": 124,
   "id": "0fbe3d09-1068-4c48-8b75-ec1a0528b271",
   "metadata": {},
   "outputs": [
    {
     "data": {
      "text/plain": [
       "-825219804.5129057"
      ]
     },
     "execution_count": 124,
     "metadata": {},
     "output_type": "execute_result"
    }
   ],
   "source": [
    "r2_zero = r2_score(df_true_nz['True_values'], df_pred_nz['Forecasted_values'])\n",
    "r2_zero"
   ]
  },
  {
   "cell_type": "code",
   "execution_count": 125,
   "id": "ce72776f-ad77-4356-a433-85f9d97b7813",
   "metadata": {},
   "outputs": [],
   "source": [
    "# non zeros"
   ]
  },
  {
   "cell_type": "code",
   "execution_count": 126,
   "id": "e61c34f7-e6bc-4aab-bee8-a42fff986316",
   "metadata": {},
   "outputs": [
    {
     "data": {
      "text/plain": [
       "20281.51196883961"
      ]
     },
     "execution_count": 126,
     "metadata": {},
     "output_type": "execute_result"
    }
   ],
   "source": [
    "rmse_nzero =  np.sqrt(mean_squared_error(df_true_nz['True_values'], df_pred_nz['Forecasted_values']))\n",
    "rmse_nzero"
   ]
  },
  {
   "cell_type": "code",
   "execution_count": 127,
   "id": "e49def21-cecd-42cc-b893-dcde7152f111",
   "metadata": {},
   "outputs": [
    {
     "data": {
      "text/plain": [
       "255.9503928860628"
      ]
     },
     "execution_count": 127,
     "metadata": {},
     "output_type": "execute_result"
    }
   ],
   "source": [
    "mae_nzero = mean_absolute_error(df_true_nz['True_values'], df_pred_nz['Forecasted_values'])\n",
    "mae_nzero"
   ]
  },
  {
   "cell_type": "code",
   "execution_count": 128,
   "id": "50b9cafd-40de-48ca-836c-61cdbf218ff2",
   "metadata": {},
   "outputs": [],
   "source": [
    "corr_nzero = pearsonr(df_true_nz['True_values'], df_pred_nz['Forecasted_values'])"
   ]
  },
  {
   "cell_type": "code",
   "execution_count": 129,
   "id": "7ad869be-4d69-4476-a3ed-9f58856d7b4c",
   "metadata": {},
   "outputs": [
    {
     "data": {
      "text/plain": [
       "PearsonRResult(statistic=0.019241625294937677, pvalue=0.025162270685141312)"
      ]
     },
     "execution_count": 129,
     "metadata": {},
     "output_type": "execute_result"
    }
   ],
   "source": [
    "corr_nzero"
   ]
  },
  {
   "cell_type": "code",
   "execution_count": 130,
   "id": "9f381cc1-4d60-4cff-9186-51c402041846",
   "metadata": {},
   "outputs": [
    {
     "data": {
      "text/plain": [
       "-825219804.5129057"
      ]
     },
     "execution_count": 130,
     "metadata": {},
     "output_type": "execute_result"
    }
   ],
   "source": [
    "r2_nzero = r2_score(df_true_nz['True_values'], df_pred_nz['Forecasted_values'])\n",
    "r2_nzero"
   ]
  },
  {
   "cell_type": "markdown",
   "id": "3e6d46d1-da3f-4e0b-85e4-07d9150143c3",
   "metadata": {},
   "source": [
    "Credible Intervals"
   ]
  },
  {
   "cell_type": "code",
   "execution_count": 131,
   "id": "d1283353-ccf4-4640-9443-060c86a177c9",
   "metadata": {},
   "outputs": [],
   "source": [
    "all_forecasts_npy_files = ['all_forecasts_sub_' + str(i) + '.npy' for i in range(3072)]"
   ]
  },
  {
   "cell_type": "code",
   "execution_count": 132,
   "id": "46efa0a7-a942-431d-8540-cc8f57a8fe0e",
   "metadata": {},
   "outputs": [
    {
     "name": "stdout",
     "output_type": "stream",
     "text": [
      "CPU times: user 827 ms, sys: 219 ms, total: 1.05 s\n",
      "Wall time: 1.05 s\n"
     ]
    }
   ],
   "source": [
    "%%time\n",
    "loaded_npy_files = []\n",
    "for file in all_forecasts_npy_files:\n",
    "    joined_path = os.path.join(path_to_dfs, file)\n",
    "    load_file = np.load(joined_path)\n",
    "    # notice we are averaging the preds across the chains before exponentiation\n",
    "    mean_file = np.mean(np.exp(load_file)-1, axis = 1)\n",
    "    loaded_npy_files.append(mean_file)"
   ]
  },
  {
   "cell_type": "code",
   "execution_count": 133,
   "id": "95532003-d9ec-4003-b0cc-050441d4bc64",
   "metadata": {},
   "outputs": [
    {
     "data": {
      "text/plain": [
       "3072"
      ]
     },
     "execution_count": 133,
     "metadata": {},
     "output_type": "execute_result"
    }
   ],
   "source": [
    "len(loaded_npy_files)"
   ]
  },
  {
   "cell_type": "code",
   "execution_count": 134,
   "id": "8852a620-9f09-4a6a-9abc-261e466b7100",
   "metadata": {},
   "outputs": [
    {
     "data": {
      "text/plain": [
       "(1000, 7)"
      ]
     },
     "execution_count": 134,
     "metadata": {},
     "output_type": "execute_result"
    }
   ],
   "source": [
    "loaded_npy_files[0].shape"
   ]
  },
  {
   "cell_type": "code",
   "execution_count": 135,
   "id": "1a8bf2d5-72e2-4e66-842b-f740bc32d6c4",
   "metadata": {},
   "outputs": [],
   "source": [
    "# Maybe we should not get rid of the negatives? - As for the percentiles we will else never capture the true values of zeros?"
   ]
  },
  {
   "cell_type": "code",
   "execution_count": 136,
   "id": "0568b502-103f-4a04-8242-7031d19cc3ca",
   "metadata": {},
   "outputs": [],
   "source": [
    "# yeah, let's proceed with these"
   ]
  },
  {
   "cell_type": "code",
   "execution_count": 137,
   "id": "891cf483-19f4-4201-93c3-d5c089a68273",
   "metadata": {},
   "outputs": [],
   "source": [
    "# how to arrange these though? - might need to think this through a little"
   ]
  },
  {
   "cell_type": "code",
   "execution_count": 138,
   "id": "c671730f-2a6b-4387-9429-ffe7c02fa813",
   "metadata": {},
   "outputs": [
    {
     "data": {
      "text/plain": [
       "(7, 3072)"
      ]
     },
     "execution_count": 138,
     "metadata": {},
     "output_type": "execute_result"
    }
   ],
   "source": [
    "exp_true.shape"
   ]
  },
  {
   "cell_type": "code",
   "execution_count": 139,
   "id": "2a8f28f9-a6da-48e2-bb39-df328db746a5",
   "metadata": {},
   "outputs": [],
   "source": [
    "# where is the lsit of the forecasted range of values? - loaded_npy_files"
   ]
  },
  {
   "cell_type": "code",
   "execution_count": 140,
   "id": "9f0f8a25-8d35-4208-b291-268acdd6f166",
   "metadata": {},
   "outputs": [
    {
     "data": {
      "text/plain": [
       "3072"
      ]
     },
     "execution_count": 140,
     "metadata": {},
     "output_type": "execute_result"
    }
   ],
   "source": [
    "len(loaded_npy_files)"
   ]
  },
  {
   "cell_type": "code",
   "execution_count": 141,
   "id": "926e5ada-5d73-4773-84d0-9dda13f0013b",
   "metadata": {},
   "outputs": [
    {
     "data": {
      "text/plain": [
       "(1000, 7)"
      ]
     },
     "execution_count": 141,
     "metadata": {},
     "output_type": "execute_result"
    }
   ],
   "source": [
    "loaded_npy_files[0].shape"
   ]
  },
  {
   "cell_type": "code",
   "execution_count": 142,
   "id": "491757f8-1e87-44dc-b6b6-a3064d5b59d5",
   "metadata": {},
   "outputs": [],
   "source": [
    "# Okay, I think we need to move along the loaded file and also its axis 1 to get the percentile values in order."
   ]
  },
  {
   "cell_type": "code",
   "execution_count": 143,
   "id": "af429823-492f-462a-b26d-d41fbae4ad01",
   "metadata": {},
   "outputs": [],
   "source": [
    "# create a for loop for this? - and later maybe even a function so we do not need to repeat everything for each block separately"
   ]
  },
  {
   "cell_type": "code",
   "execution_count": 144,
   "id": "22caf338-e41f-409a-b915-bfb50a007f97",
   "metadata": {},
   "outputs": [],
   "source": [
    "# I think we also need to catch the percentiles?"
   ]
  },
  {
   "cell_type": "code",
   "execution_count": 145,
   "id": "1437bde4-4fd9-4ec0-b08d-a11325b900d6",
   "metadata": {},
   "outputs": [],
   "source": [
    "# Let's try all these?"
   ]
  },
  {
   "cell_type": "code",
   "execution_count": 146,
   "id": "66e12086-ceec-4e68-8d58-17dc6840293e",
   "metadata": {},
   "outputs": [],
   "source": [
    "trial_0 = loaded_npy_files[0][:,0]"
   ]
  },
  {
   "cell_type": "code",
   "execution_count": 147,
   "id": "a5991ee6-71f2-4aa9-816d-9f4790a62863",
   "metadata": {},
   "outputs": [
    {
     "data": {
      "text/plain": [
       "(1000,)"
      ]
     },
     "execution_count": 147,
     "metadata": {},
     "output_type": "execute_result"
    }
   ],
   "source": [
    "trial_0.shape"
   ]
  },
  {
   "cell_type": "code",
   "execution_count": 148,
   "id": "9b5136d7-ccfe-4112-bca5-e84c6a6245d7",
   "metadata": {},
   "outputs": [],
   "source": [
    "trial_li = np.percentile(trial_0, axis = 0, q = (2.5, 97.5))"
   ]
  },
  {
   "cell_type": "code",
   "execution_count": 149,
   "id": "f929943f-8c47-4318-a753-d5c1a537d1a1",
   "metadata": {},
   "outputs": [],
   "source": [
    "# trial_0.min(), trial_0.max()"
   ]
  },
  {
   "cell_type": "code",
   "execution_count": 150,
   "id": "74a56faa-f47f-42ed-a93e-de996cd92268",
   "metadata": {},
   "outputs": [
    {
     "data": {
      "text/plain": [
       "array([0.08348388, 1.04950463])"
      ]
     },
     "execution_count": 150,
     "metadata": {},
     "output_type": "execute_result"
    }
   ],
   "source": [
    "trial_li"
   ]
  },
  {
   "cell_type": "code",
   "execution_count": 151,
   "id": "ac802cff-8d84-49de-b0fb-3200b79f7317",
   "metadata": {},
   "outputs": [
    {
     "data": {
      "text/plain": [
       "(0.08348387964069844, 1.0495046257972716)"
      ]
     },
     "execution_count": 151,
     "metadata": {},
     "output_type": "execute_result"
    }
   ],
   "source": [
    "trial_li[0], trial_li[1]"
   ]
  },
  {
   "cell_type": "code",
   "execution_count": 152,
   "id": "43327cdf-ac00-461a-9fee-51233f414f2b",
   "metadata": {},
   "outputs": [],
   "source": [
    "lower_and_upper_limits = [] \n",
    "for j in range(loaded_npy_files[0].shape[1]):\n",
    "    values = loaded_npy_files[0][:,j]\n",
    "    # compute the lower and upper bounds?\n",
    "    li = np.percentile(values, axis = 0, q = (2.5, 97.5))[0]    \n",
    "    ui = np.percentile(values, axis = 0, q = (2.5, 97.5))[1]\n",
    "    lower_and_upper_limits.append((li, ui))"
   ]
  },
  {
   "cell_type": "code",
   "execution_count": 153,
   "id": "0593dae1-4d70-48b3-88f1-9a0964be600e",
   "metadata": {},
   "outputs": [
    {
     "data": {
      "text/plain": [
       "[(0.08348387964069844, 1.0495046257972716),\n",
       " (0.03173624388873577, 0.9698182165622711),\n",
       " (0.1486015196889639, 1.1670577913522717),\n",
       " (0.007139290124177937, 0.9438672170042991),\n",
       " (-0.03670923262834549, 0.9768417671322822),\n",
       " (0.06368822753429414, 1.092498081922531),\n",
       " (0.029799747094511986, 1.1294973999261855)]"
      ]
     },
     "execution_count": 153,
     "metadata": {},
     "output_type": "execute_result"
    }
   ],
   "source": [
    "lower_and_upper_limits"
   ]
  },
  {
   "cell_type": "code",
   "execution_count": 154,
   "id": "46213b78-ec25-4f81-add5-42a6d15bfcfe",
   "metadata": {},
   "outputs": [
    {
     "name": "stdout",
     "output_type": "stream",
     "text": [
      "CPU times: user 2.9 s, sys: 0 ns, total: 2.9 s\n",
      "Wall time: 2.9 s\n"
     ]
    }
   ],
   "source": [
    "%%time\n",
    "# Do this for all files?\n",
    "catch_all_percentiles = []\n",
    "for i in range(len(loaded_npy_files)):\n",
    "    all_lower_and_upper_limits = [] \n",
    "    for j in range(loaded_npy_files[i].shape[1]):\n",
    "        values = loaded_npy_files[i][:,j]\n",
    "        # compute the lower and upper bounds?\n",
    "        li = np.percentile(values, axis = 0, q = (2.5, 97.5))[0]    \n",
    "        ui = np.percentile(values, axis = 0, q = (2.5, 97.5))[1]\n",
    "        all_lower_and_upper_limits.append((li, ui))\n",
    "    catch_all_percentiles.append(all_lower_and_upper_limits)\n",
    "    "
   ]
  },
  {
   "cell_type": "code",
   "execution_count": 155,
   "id": "ff1bf688-0f0a-4703-9056-471c60e793b7",
   "metadata": {},
   "outputs": [
    {
     "data": {
      "text/plain": [
       "3072"
      ]
     },
     "execution_count": 155,
     "metadata": {},
     "output_type": "execute_result"
    }
   ],
   "source": [
    "len(catch_all_percentiles)"
   ]
  },
  {
   "cell_type": "code",
   "execution_count": 156,
   "id": "02db8873-f844-4dc6-b6ae-c04aca24099d",
   "metadata": {},
   "outputs": [],
   "source": [
    "catch_inside_length = []\n",
    "for limit_values in catch_all_percentiles:\n",
    "    length = len(limit_values)\n",
    "    catch_inside_length.append(length)"
   ]
  },
  {
   "cell_type": "code",
   "execution_count": 157,
   "id": "e6d08eb0-1132-465d-8e8d-cb39b675da4e",
   "metadata": {},
   "outputs": [
    {
     "data": {
      "text/plain": [
       "7.0"
      ]
     },
     "execution_count": 157,
     "metadata": {},
     "output_type": "execute_result"
    }
   ],
   "source": [
    "np.mean(catch_inside_length)"
   ]
  },
  {
   "cell_type": "code",
   "execution_count": 158,
   "id": "ee051bb6-0d20-44c2-bba4-aed93879566e",
   "metadata": {},
   "outputs": [],
   "source": [
    "# We may need a multitude of sanity checks to make sure we are correctly computing the coverages and widths. Now at this point, we can go ahead and compute the CI widths using the credible intervals? As this computation seems fairly simple?"
   ]
  },
  {
   "cell_type": "code",
   "execution_count": 159,
   "id": "0e25abcb-7754-4f52-b879-6fefe82dca8a",
   "metadata": {},
   "outputs": [
    {
     "data": {
      "text/plain": [
       "7"
      ]
     },
     "execution_count": 159,
     "metadata": {},
     "output_type": "execute_result"
    }
   ],
   "source": [
    "len(catch_all_percentiles[0])"
   ]
  },
  {
   "cell_type": "code",
   "execution_count": 160,
   "id": "503f2147-13d7-40b2-8920-ee4ccc007aeb",
   "metadata": {},
   "outputs": [],
   "source": [
    "all_percentiles_for_widths = [item for limit_values in catch_all_percentiles for item in limit_values]"
   ]
  },
  {
   "cell_type": "code",
   "execution_count": 161,
   "id": "767da887-164b-4d35-ae5d-9928181abc1a",
   "metadata": {},
   "outputs": [
    {
     "data": {
      "text/plain": [
       "21504"
      ]
     },
     "execution_count": 161,
     "metadata": {},
     "output_type": "execute_result"
    }
   ],
   "source": [
    "len(all_percentiles_for_widths)"
   ]
  },
  {
   "cell_type": "code",
   "execution_count": 162,
   "id": "9cb5f303-b818-4dc1-beb1-427c50c411c3",
   "metadata": {},
   "outputs": [],
   "source": [
    "# do some sanity check?"
   ]
  },
  {
   "cell_type": "code",
   "execution_count": 163,
   "id": "8472812a-8ded-468a-b778-8cee8f86a68c",
   "metadata": {},
   "outputs": [
    {
     "data": {
      "text/plain": [
       "[(-0.11494296453893185, 0.7120243325829505),\n",
       " (0.12695653066039086, 1.0411379486322403),\n",
       " (0.6051334321498871, 1.494474935531616),\n",
       " (0.18141584806144237, 1.2854703605175017),\n",
       " (0.34957733154296877, 1.4842439651489256),\n",
       " (0.4394777894020081, 1.6118622779846188),\n",
       " (0.7943064510822296, 1.9543699741363525)]"
      ]
     },
     "execution_count": 163,
     "metadata": {},
     "output_type": "execute_result"
    }
   ],
   "source": [
    "catch_all_percentiles[1]"
   ]
  },
  {
   "cell_type": "code",
   "execution_count": 164,
   "id": "becf777c-14a3-4bbd-9e66-a208d7c91298",
   "metadata": {},
   "outputs": [
    {
     "data": {
      "text/plain": [
       "[(-0.11494296453893185, 0.7120243325829505),\n",
       " (0.12695653066039086, 1.0411379486322403),\n",
       " (0.6051334321498871, 1.494474935531616),\n",
       " (0.18141584806144237, 1.2854703605175017),\n",
       " (0.34957733154296877, 1.4842439651489256),\n",
       " (0.4394777894020081, 1.6118622779846188),\n",
       " (0.7943064510822296, 1.9543699741363525)]"
      ]
     },
     "execution_count": 164,
     "metadata": {},
     "output_type": "execute_result"
    }
   ],
   "source": [
    "all_percentiles_for_widths[7:14]"
   ]
  },
  {
   "cell_type": "code",
   "execution_count": 165,
   "id": "7cd4c952-1194-4eb4-9b2a-b18bed651de7",
   "metadata": {},
   "outputs": [],
   "source": [
    "# seems this is right, let's move forward with the computation of the CI widths?"
   ]
  },
  {
   "cell_type": "code",
   "execution_count": 166,
   "id": "9e7d3cfe-96de-4650-8797-46ecba615862",
   "metadata": {},
   "outputs": [],
   "source": [
    "catch_wdths = []\n",
    "for values in all_percentiles_for_widths:\n",
    "    width = values[1] - values[0]\n",
    "    catch_wdths.append(width)"
   ]
  },
  {
   "cell_type": "code",
   "execution_count": 167,
   "id": "13b70b3e-2a3d-4a46-b0bd-c5837cc55588",
   "metadata": {},
   "outputs": [
    {
     "data": {
      "text/plain": [
       "160.4255315036402"
      ]
     },
     "execution_count": 167,
     "metadata": {},
     "output_type": "execute_result"
    }
   ],
   "source": [
    "# average CI width\n",
    "Average_CI_width = np.mean(catch_wdths)\n",
    "Average_CI_width"
   ]
  },
  {
   "cell_type": "code",
   "execution_count": 168,
   "id": "91d4f750-ced3-4a77-8d90-1c5d7c6ea281",
   "metadata": {},
   "outputs": [],
   "source": [
    "# do a few sanity checks  before we proceed?"
   ]
  },
  {
   "cell_type": "code",
   "execution_count": 169,
   "id": "9107c4fd-a1f0-4f25-b0c1-1a2c74a2c910",
   "metadata": {},
   "outputs": [
    {
     "data": {
      "text/plain": [
       "[0.9660207461565731,\n",
       " 0.9380819726735353,\n",
       " 1.0184562716633079,\n",
       " 0.9367279268801212,\n",
       " 1.0135509997606278,\n",
       " 1.028809854388237,\n",
       " 1.0996976528316735]"
      ]
     },
     "execution_count": 169,
     "metadata": {},
     "output_type": "execute_result"
    }
   ],
   "source": [
    "catch_wdths[0:7]"
   ]
  },
  {
   "cell_type": "code",
   "execution_count": 170,
   "id": "60f9d8eb-9b91-464c-bb0c-590abba2362f",
   "metadata": {},
   "outputs": [
    {
     "name": "stdout",
     "output_type": "stream",
     "text": [
      "0.9660207461565731\n",
      "0.9380819726735353\n",
      "1.0184562716633079\n",
      "0.9367279268801212\n",
      "1.0135509997606278\n",
      "1.028809854388237\n",
      "1.0996976528316735\n"
     ]
    }
   ],
   "source": [
    "print(catch_all_percentiles[0][0][1] - catch_all_percentiles[0][0][0])\n",
    "print(catch_all_percentiles[0][1][1] - catch_all_percentiles[0][1][0])\n",
    "print(catch_all_percentiles[0][2][1] - catch_all_percentiles[0][2][0])\n",
    "print(catch_all_percentiles[0][3][1] - catch_all_percentiles[0][3][0])\n",
    "print(catch_all_percentiles[0][4][1] - catch_all_percentiles[0][4][0])\n",
    "print(catch_all_percentiles[0][5][1] - catch_all_percentiles[0][5][0])\n",
    "print(catch_all_percentiles[0][6][1] - catch_all_percentiles[0][6][0])"
   ]
  },
  {
   "cell_type": "code",
   "execution_count": 171,
   "id": "f466fcea-eff8-4b63-9540-767821406287",
   "metadata": {},
   "outputs": [],
   "source": [
    "# Okay, we can move on now"
   ]
  },
  {
   "cell_type": "code",
   "execution_count": 172,
   "id": "b5a8d271-ed68-49e9-8ddf-56eeb7b8b118",
   "metadata": {},
   "outputs": [],
   "source": [
    "# What about the coverage?\n",
    "# Now this list - all_percentiles_for_widths - this is in the oder of the subwindows - but before proceeding to the next subwindow, it also tracks across the 7 time periods.\n",
    "# so now, we have the true values in a dataframe in the shape (7,910), we can stack these ina single column  - and basically then have to track if this value is inbetween the two upper and lower limits in the list all_percentiles_for_widths."
   ]
  },
  {
   "cell_type": "code",
   "execution_count": 173,
   "id": "7eabdb5c-e122-47b3-99c3-1802837f8d2b",
   "metadata": {},
   "outputs": [],
   "source": [
    "# cool, so let's get this true values dataset arranged  in one single column?"
   ]
  },
  {
   "cell_type": "code",
   "execution_count": 174,
   "id": "d3260a19-4371-4ac3-b2fa-f3e1f309e0f2",
   "metadata": {},
   "outputs": [],
   "source": [
    "# actually, we have already done that"
   ]
  },
  {
   "cell_type": "code",
   "execution_count": 175,
   "id": "18e5cf5d-b982-4aa8-b0d1-75b33359c8d4",
   "metadata": {},
   "outputs": [
    {
     "data": {
      "text/plain": [
       "(21504, 1)"
      ]
     },
     "execution_count": 175,
     "metadata": {},
     "output_type": "execute_result"
    }
   ],
   "source": [
    "exp_true_onecol.shape"
   ]
  },
  {
   "cell_type": "code",
   "execution_count": 176,
   "id": "9fd666d6-a90c-4c85-8fa1-b973843c31d2",
   "metadata": {},
   "outputs": [
    {
     "data": {
      "text/html": [
       "<div>\n",
       "<style scoped>\n",
       "    .dataframe tbody tr th:only-of-type {\n",
       "        vertical-align: middle;\n",
       "    }\n",
       "\n",
       "    .dataframe tbody tr th {\n",
       "        vertical-align: top;\n",
       "    }\n",
       "\n",
       "    .dataframe thead th {\n",
       "        text-align: right;\n",
       "    }\n",
       "</style>\n",
       "<table border=\"1\" class=\"dataframe\">\n",
       "  <thead>\n",
       "    <tr style=\"text-align: right;\">\n",
       "      <th></th>\n",
       "      <th>True_values</th>\n",
       "    </tr>\n",
       "  </thead>\n",
       "  <tbody>\n",
       "    <tr>\n",
       "      <th>0</th>\n",
       "      <td>0.000000e+00</td>\n",
       "    </tr>\n",
       "    <tr>\n",
       "      <th>1</th>\n",
       "      <td>0.000000e+00</td>\n",
       "    </tr>\n",
       "    <tr>\n",
       "      <th>2</th>\n",
       "      <td>0.000000e+00</td>\n",
       "    </tr>\n",
       "    <tr>\n",
       "      <th>3</th>\n",
       "      <td>2.227818e-11</td>\n",
       "    </tr>\n",
       "    <tr>\n",
       "      <th>4</th>\n",
       "      <td>2.140443e-09</td>\n",
       "    </tr>\n",
       "  </tbody>\n",
       "</table>\n",
       "</div>"
      ],
      "text/plain": [
       "    True_values\n",
       "0  0.000000e+00\n",
       "1  0.000000e+00\n",
       "2  0.000000e+00\n",
       "3  2.227818e-11\n",
       "4  2.140443e-09"
      ]
     },
     "execution_count": 176,
     "metadata": {},
     "output_type": "execute_result"
    }
   ],
   "source": [
    "exp_true_onecol.head()"
   ]
  },
  {
   "cell_type": "code",
   "execution_count": 177,
   "id": "ce2b14ca-1704-4051-9cdc-eb450c820c49",
   "metadata": {},
   "outputs": [],
   "source": [
    "All_exp_true_vals_array = exp_true_onecol.values.reshape(-1)"
   ]
  },
  {
   "cell_type": "code",
   "execution_count": 178,
   "id": "b85bdec1-fe7e-4d47-845e-156fbb923423",
   "metadata": {},
   "outputs": [
    {
     "data": {
      "text/plain": [
       "(21504,)"
      ]
     },
     "execution_count": 178,
     "metadata": {},
     "output_type": "execute_result"
    }
   ],
   "source": [
    "All_exp_true_vals_array.shape"
   ]
  },
  {
   "cell_type": "code",
   "execution_count": 179,
   "id": "1c0ac8a1-b72a-44e8-8e9b-d9cab757acb0",
   "metadata": {},
   "outputs": [
    {
     "data": {
      "text/plain": [
       "(0.0, 3.1511746490796444)"
      ]
     },
     "execution_count": 179,
     "metadata": {},
     "output_type": "execute_result"
    }
   ],
   "source": [
    "All_exp_true_vals_array.min(), All_exp_true_vals_array.max()"
   ]
  },
  {
   "cell_type": "code",
   "execution_count": 180,
   "id": "4e49562c-7f70-4578-91e5-1a8916504fdc",
   "metadata": {},
   "outputs": [],
   "source": [
    "# cool, now check if this value is inbetween the upper and the lower limits contained in the list - all_percentiles_for_widths"
   ]
  },
  {
   "cell_type": "code",
   "execution_count": 181,
   "id": "8de7beae-6ecd-44ce-8dc4-4dd8d7a1a93a",
   "metadata": {},
   "outputs": [],
   "source": [
    "Catch_all_indicators = []\n",
    "for i in range(All_exp_true_vals_array.shape[0]):\n",
    "    true_value = All_exp_true_vals_array[i]\n",
    "    li_val = all_percentiles_for_widths[i][0]\n",
    "    ui_val = all_percentiles_for_widths[i][1]\n",
    "    ind_train = (true_value >= li_val) & (true_value <= ui_val)\n",
    "    Catch_all_indicators.append(ind_train)"
   ]
  },
  {
   "cell_type": "code",
   "execution_count": 182,
   "id": "85ab4671-0c07-4499-9dd4-60b4a433f516",
   "metadata": {},
   "outputs": [
    {
     "data": {
      "text/plain": [
       "0.6672712053571429"
      ]
     },
     "execution_count": 182,
     "metadata": {},
     "output_type": "execute_result"
    }
   ],
   "source": [
    "coverage_val = np.mean(Catch_all_indicators)\n",
    "coverage_val"
   ]
  },
  {
   "cell_type": "code",
   "execution_count": 183,
   "id": "cb369b20-1fd5-4746-a6bb-ac663ff346af",
   "metadata": {},
   "outputs": [],
   "source": [
    "# I think we are ready to replicate this for the rest of the blocks? Let's push the recent work to GitHub"
   ]
  }
 ],
 "metadata": {
  "kernelspec": {
   "display_name": "Python (tfp_cpu_env)",
   "language": "python",
   "name": "tfp_cpu_env"
  },
  "language_info": {
   "codemirror_mode": {
    "name": "ipython",
    "version": 3
   },
   "file_extension": ".py",
   "mimetype": "text/x-python",
   "name": "python",
   "nbconvert_exporter": "python",
   "pygments_lexer": "ipython3",
   "version": "3.11.7"
  }
 },
 "nbformat": 4,
 "nbformat_minor": 5
}
