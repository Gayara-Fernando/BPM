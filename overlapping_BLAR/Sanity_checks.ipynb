{
 "cells": [
  {
   "cell_type": "code",
   "execution_count": 1,
   "id": "33eb26f5-b9ba-4878-8ef1-61d87e6ba72f",
   "metadata": {},
   "outputs": [],
   "source": [
    "import numpy as np\n",
    "import os"
   ]
  },
  {
   "cell_type": "code",
   "execution_count": 2,
   "id": "ee2e7782-da98-4931-b859-0cf99e0df027",
   "metadata": {},
   "outputs": [],
   "source": [
    "# Need to verify we have the figures for all the subwindow sequnces - we can chech the error files, but that's annoying. So let's just code it up."
   ]
  },
  {
   "cell_type": "code",
   "execution_count": 3,
   "id": "98a126ef-f40a-4478-9ff9-b7e73ebb3987",
   "metadata": {},
   "outputs": [],
   "source": [
    "# Where is the data we need?"
   ]
  },
  {
   "cell_type": "markdown",
   "id": "06e835c2-9172-44aa-8a6b-2fc91faf4277",
   "metadata": {},
   "source": [
    "Block 0103"
   ]
  },
  {
   "cell_type": "code",
   "execution_count": 4,
   "id": "a0ad27b6-9393-40af-b329-23a66f3dd238",
   "metadata": {},
   "outputs": [],
   "source": [
    "block_0103_figs = \"data/BLAR_implementation/Block_0103/figures\""
   ]
  },
  {
   "cell_type": "code",
   "execution_count": 5,
   "id": "1e213103-6cd5-4433-b15a-6ac549e88448",
   "metadata": {},
   "outputs": [],
   "source": [
    "contents_0103 = os.listdir(block_0103_figs)"
   ]
  },
  {
   "cell_type": "code",
   "execution_count": 6,
   "id": "709b1989-ae22-46f5-bb34-dbdf5c8ff360",
   "metadata": {},
   "outputs": [],
   "source": [
    "contents_0103.sort()"
   ]
  },
  {
   "cell_type": "code",
   "execution_count": 7,
   "id": "135d1ae4-71d0-4b3d-9ae5-cc7d18b4a5b1",
   "metadata": {},
   "outputs": [
    {
     "data": {
      "text/plain": [
       "3072"
      ]
     },
     "execution_count": 7,
     "metadata": {},
     "output_type": "execute_result"
    }
   ],
   "source": [
    "len(contents_0103)"
   ]
  },
  {
   "cell_type": "code",
   "execution_count": 8,
   "id": "a1fa47ff-fd94-4841-9178-5ded5a5c203e",
   "metadata": {},
   "outputs": [],
   "source": [
    "# seems like we have the 3072 figures for all sub-windows, but let's make sure?"
   ]
  },
  {
   "cell_type": "code",
   "execution_count": 9,
   "id": "9c9f8e7c-a569-4048-ae3d-70a50a2b2091",
   "metadata": {},
   "outputs": [],
   "source": [
    "catch_all_available_files_0103 = []\n",
    "catch_all_unavailable_files_0103 = []\n",
    "for i in range(3072):\n",
    "    file_name = 'all_trace_plots_sub_' + str(i) + '.png'\n",
    "    if file_name in contents_0103:\n",
    "        catch_all_available_files_0103.append(file_name)\n",
    "    else:\n",
    "        catch_all_unavailable_files_0103.append(file_name)\n",
    "    "
   ]
  },
  {
   "cell_type": "code",
   "execution_count": 10,
   "id": "580e8adf-a589-46c9-b661-982175f0ad89",
   "metadata": {},
   "outputs": [
    {
     "data": {
      "text/plain": [
       "(3072, 0)"
      ]
     },
     "execution_count": 10,
     "metadata": {},
     "output_type": "execute_result"
    }
   ],
   "source": [
    "len(catch_all_available_files_0103), len(catch_all_unavailable_files_0103)"
   ]
  },
  {
   "cell_type": "code",
   "execution_count": 11,
   "id": "44501057-1c56-4c47-a7f1-4216b5748260",
   "metadata": {},
   "outputs": [],
   "source": [
    "# Okay, we have all the subwindows"
   ]
  }
 ],
 "metadata": {
  "kernelspec": {
   "display_name": "Python 3 (ipykernel)",
   "language": "python",
   "name": "python3"
  },
  "language_info": {
   "codemirror_mode": {
    "name": "ipython",
    "version": 3
   },
   "file_extension": ".py",
   "mimetype": "text/x-python",
   "name": "python",
   "nbconvert_exporter": "python",
   "pygments_lexer": "ipython3",
   "version": "3.9.22"
  }
 },
 "nbformat": 4,
 "nbformat_minor": 5
}
