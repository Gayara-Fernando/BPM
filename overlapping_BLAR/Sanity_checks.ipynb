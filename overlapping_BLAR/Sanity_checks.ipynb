{
 "cells": [
  {
   "cell_type": "code",
   "execution_count": 12,
   "id": "33eb26f5-b9ba-4878-8ef1-61d87e6ba72f",
   "metadata": {},
   "outputs": [],
   "source": [
    "import numpy as np\n",
    "import os"
   ]
  },
  {
   "cell_type": "code",
   "execution_count": 13,
   "id": "ee2e7782-da98-4931-b859-0cf99e0df027",
   "metadata": {},
   "outputs": [],
   "source": [
    "# Need to verify we have the figures for all the subwindow sequnces - we can chech the error files, but that's annoying. So let's just code it up."
   ]
  },
  {
   "cell_type": "code",
   "execution_count": 14,
   "id": "98a126ef-f40a-4478-9ff9-b7e73ebb3987",
   "metadata": {},
   "outputs": [],
   "source": [
    "# Where is the data we need?"
   ]
  },
  {
   "cell_type": "markdown",
   "id": "06e835c2-9172-44aa-8a6b-2fc91faf4277",
   "metadata": {},
   "source": [
    "Block 0103"
   ]
  },
  {
   "cell_type": "code",
   "execution_count": 15,
   "id": "a0ad27b6-9393-40af-b329-23a66f3dd238",
   "metadata": {},
   "outputs": [],
   "source": [
    "block_0103_figs = \"data/BLAR_implementation/Block_0103/figures\""
   ]
  },
  {
   "cell_type": "code",
   "execution_count": 16,
   "id": "1e213103-6cd5-4433-b15a-6ac549e88448",
   "metadata": {},
   "outputs": [],
   "source": [
    "contents_0103 = os.listdir(block_0103_figs)"
   ]
  },
  {
   "cell_type": "code",
   "execution_count": 17,
   "id": "709b1989-ae22-46f5-bb34-dbdf5c8ff360",
   "metadata": {},
   "outputs": [],
   "source": [
    "contents_0103.sort()"
   ]
  },
  {
   "cell_type": "code",
   "execution_count": 18,
   "id": "135d1ae4-71d0-4b3d-9ae5-cc7d18b4a5b1",
   "metadata": {},
   "outputs": [
    {
     "data": {
      "text/plain": [
       "3072"
      ]
     },
     "execution_count": 18,
     "metadata": {},
     "output_type": "execute_result"
    }
   ],
   "source": [
    "len(contents_0103)"
   ]
  },
  {
   "cell_type": "code",
   "execution_count": 19,
   "id": "a1fa47ff-fd94-4841-9178-5ded5a5c203e",
   "metadata": {},
   "outputs": [],
   "source": [
    "# seems like we have the 3072 figures for all sub-windows, but let's make sure?"
   ]
  },
  {
   "cell_type": "code",
   "execution_count": 20,
   "id": "9c9f8e7c-a569-4048-ae3d-70a50a2b2091",
   "metadata": {},
   "outputs": [],
   "source": [
    "catch_all_available_files_0103 = []\n",
    "catch_all_unavailable_files_0103 = []\n",
    "for i in range(3072):\n",
    "    file_name = 'all_trace_plots_sub_' + str(i) + '.png'\n",
    "    if file_name in contents_0103:\n",
    "        catch_all_available_files_0103.append(file_name)\n",
    "    else:\n",
    "        catch_all_unavailable_files_0103.append(file_name)\n",
    "    "
   ]
  },
  {
   "cell_type": "code",
   "execution_count": 21,
   "id": "580e8adf-a589-46c9-b661-982175f0ad89",
   "metadata": {},
   "outputs": [
    {
     "data": {
      "text/plain": [
       "(3072, 0)"
      ]
     },
     "execution_count": 21,
     "metadata": {},
     "output_type": "execute_result"
    }
   ],
   "source": [
    "len(catch_all_available_files_0103), len(catch_all_unavailable_files_0103)"
   ]
  },
  {
   "cell_type": "code",
   "execution_count": 22,
   "id": "44501057-1c56-4c47-a7f1-4216b5748260",
   "metadata": {},
   "outputs": [],
   "source": [
    "# Okay, we have all the subwindows"
   ]
  },
  {
   "cell_type": "markdown",
   "id": "59de0e77-4b8c-4301-ab1f-dc40a83d8b91",
   "metadata": {},
   "source": [
    "Block 0104"
   ]
  },
  {
   "cell_type": "code",
   "execution_count": 23,
   "id": "6b46b76b-d5f6-40fa-8c74-c45599800f1a",
   "metadata": {},
   "outputs": [],
   "source": [
    "block_0104_figs = \"data/BLAR_implementation/Block_0104/figures\""
   ]
  },
  {
   "cell_type": "code",
   "execution_count": 24,
   "id": "da752a58-1490-4754-8bee-68fd4b446eab",
   "metadata": {},
   "outputs": [],
   "source": [
    "contents_0104 = os.listdir(block_0104_figs)"
   ]
  },
  {
   "cell_type": "code",
   "execution_count": 25,
   "id": "968ca0f1-ca98-4b0f-b12a-b1822a8d01b6",
   "metadata": {},
   "outputs": [],
   "source": [
    "contents_0104.sort()"
   ]
  },
  {
   "cell_type": "code",
   "execution_count": 26,
   "id": "421935ee-9748-4339-b277-a7f85793b06b",
   "metadata": {},
   "outputs": [
    {
     "data": {
      "text/plain": [
       "3072"
      ]
     },
     "execution_count": 26,
     "metadata": {},
     "output_type": "execute_result"
    }
   ],
   "source": [
    "len(contents_0104)"
   ]
  },
  {
   "cell_type": "code",
   "execution_count": 27,
   "id": "e7456571-f38f-4c4e-bb36-6187f00f6cb7",
   "metadata": {},
   "outputs": [],
   "source": [
    "# seems like we have the 3072 figures for all sub-windows, but let's make sure?"
   ]
  },
  {
   "cell_type": "code",
   "execution_count": 28,
   "id": "b9612a34-e22a-440d-b3b9-f510e6537bff",
   "metadata": {},
   "outputs": [],
   "source": [
    "catch_all_available_files_0104 = []\n",
    "catch_all_unavailable_files_0104 = []\n",
    "for i in range(3072):\n",
    "    file_name = 'all_trace_plots_sub_' + str(i) + '.png'\n",
    "    if file_name in contents_0104:\n",
    "        catch_all_available_files_0104.append(file_name)\n",
    "    else:\n",
    "        catch_all_unavailable_files_0104.append(file_name)\n",
    "    "
   ]
  },
  {
   "cell_type": "code",
   "execution_count": 29,
   "id": "00bdcec0-a140-4799-9c37-909dcb88104e",
   "metadata": {},
   "outputs": [
    {
     "data": {
      "text/plain": [
       "(3072, 0)"
      ]
     },
     "execution_count": 29,
     "metadata": {},
     "output_type": "execute_result"
    }
   ],
   "source": [
    "len(catch_all_available_files_0104), len(catch_all_unavailable_files_0104)"
   ]
  },
  {
   "cell_type": "code",
   "execution_count": 30,
   "id": "ac475864-5a77-437c-8fa8-a9979df700cb",
   "metadata": {},
   "outputs": [],
   "source": [
    "# Okay, we have all the subwindows"
   ]
  },
  {
   "cell_type": "code",
   "execution_count": null,
   "id": "e9cd73a3-60cb-4d9c-a050-60b9c6f0912a",
   "metadata": {},
   "outputs": [],
   "source": []
  }
 ],
 "metadata": {
  "kernelspec": {
   "display_name": "Python 3 (ipykernel)",
   "language": "python",
   "name": "python3"
  },
  "language_info": {
   "codemirror_mode": {
    "name": "ipython",
    "version": 3
   },
   "file_extension": ".py",
   "mimetype": "text/x-python",
   "name": "python",
   "nbconvert_exporter": "python",
   "pygments_lexer": "ipython3",
   "version": "3.9.22"
  }
 },
 "nbformat": 4,
 "nbformat_minor": 5
}
