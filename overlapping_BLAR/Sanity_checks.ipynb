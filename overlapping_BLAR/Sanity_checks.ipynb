{
 "cells": [
  {
   "cell_type": "code",
   "execution_count": 1,
   "id": "33eb26f5-b9ba-4878-8ef1-61d87e6ba72f",
   "metadata": {},
   "outputs": [],
   "source": [
    "import numpy as np\n",
    "import os"
   ]
  },
  {
   "cell_type": "code",
   "execution_count": 2,
   "id": "ee2e7782-da98-4931-b859-0cf99e0df027",
   "metadata": {},
   "outputs": [],
   "source": [
    "# Need to verify we have the figures for all the subwindow sequnces - we can chech the error files, but that's annoying. So let's just code it up."
   ]
  },
  {
   "cell_type": "code",
   "execution_count": 3,
   "id": "98a126ef-f40a-4478-9ff9-b7e73ebb3987",
   "metadata": {},
   "outputs": [],
   "source": [
    "# Where is the data we need?"
   ]
  },
  {
   "cell_type": "markdown",
   "id": "06e835c2-9172-44aa-8a6b-2fc91faf4277",
   "metadata": {},
   "source": [
    "Block 0103"
   ]
  },
  {
   "cell_type": "code",
   "execution_count": 4,
   "id": "a0ad27b6-9393-40af-b329-23a66f3dd238",
   "metadata": {},
   "outputs": [],
   "source": [
    "block_0103_figs = \"data/BLAR_implementation/Block_0103/figures\""
   ]
  },
  {
   "cell_type": "code",
   "execution_count": 5,
   "id": "1e213103-6cd5-4433-b15a-6ac549e88448",
   "metadata": {},
   "outputs": [],
   "source": [
    "contents_0103 = os.listdir(block_0103_figs)"
   ]
  },
  {
   "cell_type": "code",
   "execution_count": 6,
   "id": "709b1989-ae22-46f5-bb34-dbdf5c8ff360",
   "metadata": {},
   "outputs": [],
   "source": [
    "contents_0103.sort()"
   ]
  },
  {
   "cell_type": "code",
   "execution_count": 7,
   "id": "135d1ae4-71d0-4b3d-9ae5-cc7d18b4a5b1",
   "metadata": {},
   "outputs": [
    {
     "data": {
      "text/plain": [
       "3072"
      ]
     },
     "execution_count": 7,
     "metadata": {},
     "output_type": "execute_result"
    }
   ],
   "source": [
    "len(contents_0103)"
   ]
  },
  {
   "cell_type": "code",
   "execution_count": 8,
   "id": "a1fa47ff-fd94-4841-9178-5ded5a5c203e",
   "metadata": {},
   "outputs": [],
   "source": [
    "# seems like we have the 3072 figures for all sub-windows, but let's make sure?"
   ]
  },
  {
   "cell_type": "code",
   "execution_count": 9,
   "id": "9c9f8e7c-a569-4048-ae3d-70a50a2b2091",
   "metadata": {},
   "outputs": [],
   "source": [
    "catch_all_available_files_0103 = []\n",
    "catch_all_unavailable_files_0103 = []\n",
    "for i in range(3072):\n",
    "    file_name = 'all_trace_plots_sub_' + str(i) + '.png'\n",
    "    if file_name in contents_0103:\n",
    "        catch_all_available_files_0103.append(file_name)\n",
    "    else:\n",
    "        catch_all_unavailable_files_0103.append(file_name)\n",
    "    "
   ]
  },
  {
   "cell_type": "code",
   "execution_count": 10,
   "id": "580e8adf-a589-46c9-b661-982175f0ad89",
   "metadata": {},
   "outputs": [
    {
     "data": {
      "text/plain": [
       "(3072, 0)"
      ]
     },
     "execution_count": 10,
     "metadata": {},
     "output_type": "execute_result"
    }
   ],
   "source": [
    "len(catch_all_available_files_0103), len(catch_all_unavailable_files_0103)"
   ]
  },
  {
   "cell_type": "code",
   "execution_count": 11,
   "id": "44501057-1c56-4c47-a7f1-4216b5748260",
   "metadata": {},
   "outputs": [],
   "source": [
    "# Okay, we have all the subwindows"
   ]
  },
  {
   "cell_type": "markdown",
   "id": "59de0e77-4b8c-4301-ab1f-dc40a83d8b91",
   "metadata": {},
   "source": [
    "Block 0104"
   ]
  },
  {
   "cell_type": "code",
   "execution_count": 12,
   "id": "6b46b76b-d5f6-40fa-8c74-c45599800f1a",
   "metadata": {},
   "outputs": [],
   "source": [
    "block_0104_figs = \"data/BLAR_implementation/Block_0104/figures\""
   ]
  },
  {
   "cell_type": "code",
   "execution_count": 13,
   "id": "da752a58-1490-4754-8bee-68fd4b446eab",
   "metadata": {},
   "outputs": [],
   "source": [
    "contents_0104 = os.listdir(block_0104_figs)"
   ]
  },
  {
   "cell_type": "code",
   "execution_count": 14,
   "id": "968ca0f1-ca98-4b0f-b12a-b1822a8d01b6",
   "metadata": {},
   "outputs": [],
   "source": [
    "contents_0104.sort()"
   ]
  },
  {
   "cell_type": "code",
   "execution_count": 15,
   "id": "421935ee-9748-4339-b277-a7f85793b06b",
   "metadata": {},
   "outputs": [
    {
     "data": {
      "text/plain": [
       "3072"
      ]
     },
     "execution_count": 15,
     "metadata": {},
     "output_type": "execute_result"
    }
   ],
   "source": [
    "len(contents_0104)"
   ]
  },
  {
   "cell_type": "code",
   "execution_count": 16,
   "id": "e7456571-f38f-4c4e-bb36-6187f00f6cb7",
   "metadata": {},
   "outputs": [],
   "source": [
    "# seems like we have the 3072 figures for all sub-windows, but let's make sure?"
   ]
  },
  {
   "cell_type": "code",
   "execution_count": 17,
   "id": "b9612a34-e22a-440d-b3b9-f510e6537bff",
   "metadata": {},
   "outputs": [],
   "source": [
    "catch_all_available_files_0104 = []\n",
    "catch_all_unavailable_files_0104 = []\n",
    "for i in range(3072):\n",
    "    file_name = 'all_trace_plots_sub_' + str(i) + '.png'\n",
    "    if file_name in contents_0104:\n",
    "        catch_all_available_files_0104.append(file_name)\n",
    "    else:\n",
    "        catch_all_unavailable_files_0104.append(file_name)\n",
    "    "
   ]
  },
  {
   "cell_type": "code",
   "execution_count": 18,
   "id": "00bdcec0-a140-4799-9c37-909dcb88104e",
   "metadata": {},
   "outputs": [
    {
     "data": {
      "text/plain": [
       "(3072, 0)"
      ]
     },
     "execution_count": 18,
     "metadata": {},
     "output_type": "execute_result"
    }
   ],
   "source": [
    "len(catch_all_available_files_0104), len(catch_all_unavailable_files_0104)"
   ]
  },
  {
   "cell_type": "code",
   "execution_count": 19,
   "id": "ac475864-5a77-437c-8fa8-a9979df700cb",
   "metadata": {},
   "outputs": [],
   "source": [
    "# Okay, we have all the subwindows"
   ]
  },
  {
   "cell_type": "markdown",
   "id": "c159bff7-f6c3-4ed2-b377-1fa61ebecc1e",
   "metadata": {},
   "source": [
    "Block 0105"
   ]
  },
  {
   "cell_type": "code",
   "execution_count": 20,
   "id": "cff8ad4b-c1cf-46fb-b1e5-64fd4bb42f41",
   "metadata": {},
   "outputs": [],
   "source": [
    "block_0105_figs = \"data/BLAR_implementation/Block_0105/figures\""
   ]
  },
  {
   "cell_type": "code",
   "execution_count": 21,
   "id": "9fe1b725-cba0-4514-a370-3daab1a7f054",
   "metadata": {},
   "outputs": [],
   "source": [
    "contents_0105 = os.listdir(block_0105_figs)"
   ]
  },
  {
   "cell_type": "code",
   "execution_count": 22,
   "id": "882cdd54-1725-4b97-9549-d061d3944c45",
   "metadata": {},
   "outputs": [],
   "source": [
    "contents_0105.sort()"
   ]
  },
  {
   "cell_type": "code",
   "execution_count": 23,
   "id": "5cd5b4a3-98c5-477f-b5c0-2da572452d5c",
   "metadata": {},
   "outputs": [
    {
     "data": {
      "text/plain": [
       "3072"
      ]
     },
     "execution_count": 23,
     "metadata": {},
     "output_type": "execute_result"
    }
   ],
   "source": [
    "len(contents_0105)"
   ]
  },
  {
   "cell_type": "code",
   "execution_count": 24,
   "id": "ab80d390-2776-475f-944b-ccd0d69f121d",
   "metadata": {},
   "outputs": [],
   "source": [
    "# seems like we have the 3072 figures for all sub-windows, but let's make sure?"
   ]
  },
  {
   "cell_type": "code",
   "execution_count": 25,
   "id": "54a8634b-b876-4a1e-b8b2-a33a90b9f3fd",
   "metadata": {},
   "outputs": [],
   "source": [
    "catch_all_available_files_0105 = []\n",
    "catch_all_unavailable_files_0105 = []\n",
    "for i in range(3072):\n",
    "    file_name = 'all_trace_plots_sub_' + str(i) + '.png'\n",
    "    if file_name in contents_0105:\n",
    "        catch_all_available_files_0105.append(file_name)\n",
    "    else:\n",
    "        catch_all_unavailable_files_0105.append(file_name)\n",
    "    "
   ]
  },
  {
   "cell_type": "code",
   "execution_count": 26,
   "id": "db5e42a6-9811-43a1-b235-725c164ca717",
   "metadata": {},
   "outputs": [
    {
     "data": {
      "text/plain": [
       "(3072, 0)"
      ]
     },
     "execution_count": 26,
     "metadata": {},
     "output_type": "execute_result"
    }
   ],
   "source": [
    "len(catch_all_available_files_0105), len(catch_all_unavailable_files_0105)"
   ]
  },
  {
   "cell_type": "code",
   "execution_count": 27,
   "id": "caca4c70-232e-4f9f-a0bf-1c656d4583c4",
   "metadata": {},
   "outputs": [],
   "source": [
    "# Okay, we have all the subwindows"
   ]
  },
  {
   "cell_type": "markdown",
   "id": "b02891e5-b769-4b53-a734-0767719140fe",
   "metadata": {},
   "source": [
    "Block 0106"
   ]
  },
  {
   "cell_type": "code",
   "execution_count": 28,
   "id": "89de922b-9eeb-4a2a-a8be-2757fff6c232",
   "metadata": {},
   "outputs": [],
   "source": [
    "block_0106_figs = \"data/BLAR_implementation/Block_0106/figures\""
   ]
  },
  {
   "cell_type": "code",
   "execution_count": 29,
   "id": "fceb8223-1b03-41da-87d1-5914ae8a024a",
   "metadata": {},
   "outputs": [],
   "source": [
    "contents_0106 = os.listdir(block_0106_figs)"
   ]
  },
  {
   "cell_type": "code",
   "execution_count": 30,
   "id": "38a1300f-5187-44c2-b98e-4d9dd678d865",
   "metadata": {},
   "outputs": [],
   "source": [
    "contents_0106.sort()"
   ]
  },
  {
   "cell_type": "code",
   "execution_count": 31,
   "id": "421c85bb-88df-4d35-b66c-7213e3e7f024",
   "metadata": {},
   "outputs": [
    {
     "data": {
      "text/plain": [
       "3072"
      ]
     },
     "execution_count": 31,
     "metadata": {},
     "output_type": "execute_result"
    }
   ],
   "source": [
    "len(contents_0106)"
   ]
  },
  {
   "cell_type": "code",
   "execution_count": 32,
   "id": "a2751205-c386-4717-a659-87fafb2853da",
   "metadata": {},
   "outputs": [],
   "source": [
    "# seems like we have the 3072 figures for all sub-windows, but let's make sure?"
   ]
  },
  {
   "cell_type": "code",
   "execution_count": 33,
   "id": "0ff1309e-ea24-4bb2-8b6c-45078c43480e",
   "metadata": {},
   "outputs": [],
   "source": [
    "catch_all_available_files_0106 = []\n",
    "catch_all_unavailable_files_0106 = []\n",
    "for i in range(3072):\n",
    "    file_name = 'all_trace_plots_sub_' + str(i) + '.png'\n",
    "    if file_name in contents_0106:\n",
    "        catch_all_available_files_0106.append(file_name)\n",
    "    else:\n",
    "        catch_all_unavailable_files_0106.append(file_name)\n",
    "    "
   ]
  },
  {
   "cell_type": "code",
   "execution_count": 34,
   "id": "e8c1004e-9ca8-41b3-9736-cbaac2741e0d",
   "metadata": {},
   "outputs": [
    {
     "data": {
      "text/plain": [
       "(3072, 0)"
      ]
     },
     "execution_count": 34,
     "metadata": {},
     "output_type": "execute_result"
    }
   ],
   "source": [
    "len(catch_all_available_files_0106), len(catch_all_unavailable_files_0106)"
   ]
  },
  {
   "cell_type": "code",
   "execution_count": 35,
   "id": "725be2b9-490e-4f4b-8390-f790fc9ca0dd",
   "metadata": {},
   "outputs": [],
   "source": [
    "# Okay, we have all the subwindows"
   ]
  },
  {
   "cell_type": "code",
   "execution_count": null,
   "id": "e9cd73a3-60cb-4d9c-a050-60b9c6f0912a",
   "metadata": {},
   "outputs": [],
   "source": []
  }
 ],
 "metadata": {
  "kernelspec": {
   "display_name": "Python 3 (ipykernel)",
   "language": "python",
   "name": "python3"
  },
  "language_info": {
   "codemirror_mode": {
    "name": "ipython",
    "version": 3
   },
   "file_extension": ".py",
   "mimetype": "text/x-python",
   "name": "python",
   "nbconvert_exporter": "python",
   "pygments_lexer": "ipython3",
   "version": "3.9.22"
  }
 },
 "nbformat": 4,
 "nbformat_minor": 5
}
