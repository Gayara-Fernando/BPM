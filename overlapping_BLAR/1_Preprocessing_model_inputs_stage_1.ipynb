{
 "cells": [
  {
   "cell_type": "code",
   "execution_count": 4,
   "id": "09cbabc9-c7c3-47a4-a467-82d448ed3132",
   "metadata": {},
   "outputs": [],
   "source": [
    "import numpy as np\n",
    "import pandas as pd\n",
    "import cv2\n",
    "import matplotlib.pyplot as plt\n",
    "import os\n",
    "import tensorflow as tf\n",
    "from skimage.transform import resize\n",
    "import xml\n",
    "import xml.etree.ElementTree as ET\n",
    "import warnings\n",
    "import math\n",
    "from scipy import ndimage"
   ]
  },
  {
   "cell_type": "code",
   "execution_count": 5,
   "id": "f2c9dbf2-df33-4fc7-806e-2f9317eb06d6",
   "metadata": {},
   "outputs": [],
   "source": [
    "# We may need to go through the entire framework again, but hopefully it will be worth it - let's get back to this in some time"
   ]
  },
  {
   "cell_type": "code",
   "execution_count": 6,
   "id": "04e4a4e3-38b7-4f61-9817-288f5e234def",
   "metadata": {},
   "outputs": [],
   "source": [
    "# We need to prerpocess the train and validation data also I believe? - To match window size"
   ]
  },
  {
   "cell_type": "code",
   "execution_count": 7,
   "id": "40135698-a950-4d6f-bf33-0f0ebcb72d87",
   "metadata": {},
   "outputs": [],
   "source": [
    "# Locate the train and validation images and the xml files? - We also only  need the horizontal images for our task\n",
    "\n",
    "# Train data locations\n",
    "block_0101 = '../../Spring_2024/S_lab_TasselNet/Block_1_TN/Block_1_images_and_xml'\n",
    "block_0102 = '../../Spring_2024/S_lab_TasselNet/Block_2_TN/Block_2_images_and_xml'\n",
    "block_0203 = '../../Spring_2024/S_lab_TasselNet/Block_9_TN/Block_9_images_and_xml'\n",
    "block_0301 = '../../Spring_2024/S_lab_TasselNet/Block_13_TN/Block_13_images_and_xml'\n",
    "\n",
    "# train_blocks = [block_0101, block_0102, block_0203, block_0301]\n",
    "\n",
    "# valid data location\n",
    "block_0204 = '../../Spring_2024/S_lab_TasselNet/Block_10_TN/Block_10_images_and_xml'\n",
    "\n",
    "# valid_blocks = [block_0204]"
   ]
  },
  {
   "cell_type": "code",
   "execution_count": null,
   "id": "4ff727c9-09b1-4f63-8776-b132f455caca",
   "metadata": {},
   "outputs": [],
   "source": []
  },
  {
   "cell_type": "code",
   "execution_count": null,
   "id": "1e18172c-9bcb-4a79-ac4b-5343b3fc455b",
   "metadata": {},
   "outputs": [],
   "source": []
  },
  {
   "cell_type": "code",
   "execution_count": null,
   "id": "09a541ec-6621-45e0-b5d8-a7f8dfcb1f75",
   "metadata": {},
   "outputs": [],
   "source": []
  },
  {
   "cell_type": "code",
   "execution_count": null,
   "id": "6eefdf4b-1623-448d-bf67-4aca8f19d903",
   "metadata": {},
   "outputs": [],
   "source": []
  }
 ],
 "metadata": {
  "kernelspec": {
   "display_name": "Python (nrdstor_tfp_for_TN)",
   "language": "python",
   "name": "nrdstor_tfp_for_tn"
  },
  "language_info": {
   "codemirror_mode": {
    "name": "ipython",
    "version": 3
   },
   "file_extension": ".py",
   "mimetype": "text/x-python",
   "name": "python",
   "nbconvert_exporter": "python",
   "pygments_lexer": "ipython3",
   "version": "3.10.14"
  }
 },
 "nbformat": 4,
 "nbformat_minor": 5
}
