{
 "cells": [
  {
   "cell_type": "markdown",
   "id": "8bba94f6-e4c8-4087-a460-ac9b44398580",
   "metadata": {},
   "source": [
    "We will now do overlapping subwindows  instead of the small non-overlapping ones as the signal seem to be lost when working with tiny non-overlapping subwindows. Let's use the original size we used for the BLAR initally, and also the same stride size we used (that is 100*100 size, with a stride of 8 - how many windows will we have for the data?). We need to run this from the feature extraction framework. We will need preprocessing for both stage 1 and stage 2, but since the codes written are generic, this should not take a longer time. We can probably change the stride size to keep things manageable. This is going to produce 9744 subwindows per image, hence have to track all of them over time and fit 9744 separate models."
   ]
  },
  {
   "cell_type": "markdown",
   "id": "5185941f-433d-4f31-9d7b-d67c4ef66243",
   "metadata": {},
   "source": [
    "Let's start with data preprocessing. "
   ]
  },
  {
   "cell_type": "markdown",
   "id": "f5781c89-6939-4b55-86c4-f572506d738f",
   "metadata": {},
   "source": [
    "What do we first have to do? "
   ]
  },
  {
   "cell_type": "markdown",
   "id": "9e732f03-23c7-4f90-a10c-61c8976fc318",
   "metadata": {},
   "source": [
    "We start with the stage 1 model. Where we will first create missing features for the later part of the image sequence. Which codes do we need to refer in order to get this done?"
   ]
  }
 ],
 "metadata": {
  "kernelspec": {
   "display_name": "Python 3 (ipykernel)",
   "language": "python",
   "name": "python3"
  },
  "language_info": {
   "codemirror_mode": {
    "name": "ipython",
    "version": 3
   },
   "file_extension": ".py",
   "mimetype": "text/x-python",
   "name": "python",
   "nbconvert_exporter": "python",
   "pygments_lexer": "ipython3",
   "version": "3.9.22"
  }
 },
 "nbformat": 4,
 "nbformat_minor": 5
}
