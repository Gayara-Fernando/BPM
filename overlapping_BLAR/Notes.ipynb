{
 "cells": [
  {
   "cell_type": "markdown",
   "id": "8bba94f6-e4c8-4087-a460-ac9b44398580",
   "metadata": {},
   "source": [
    "We will now do overlapping subwindows  instead of the small non-overlapping ones as the signal seem to be lost when working with tiny non-overlapping subwindows. Let's use the original size we used for the BLAR initally, and also the same stride size we used (that is 300*300 size, with a stride of 8 - how many windows will we have for teh data?). We need to run this from the feature extraction framework. We will need preprocessing for both stage 1 and stage 2, but since rge codes written are generic, this should not take a longer time."
   ]
  }
 ],
 "metadata": {
  "kernelspec": {
   "display_name": "Python 3 (ipykernel)",
   "language": "python",
   "name": "python3"
  },
  "language_info": {
   "codemirror_mode": {
    "name": "ipython",
    "version": 3
   },
   "file_extension": ".py",
   "mimetype": "text/x-python",
   "name": "python",
   "nbconvert_exporter": "python",
   "pygments_lexer": "ipython3",
   "version": "3.9.22"
  }
 },
 "nbformat": 4,
 "nbformat_minor": 5
}
