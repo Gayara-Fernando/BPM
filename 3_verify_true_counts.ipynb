{
 "cells": [
  {
   "cell_type": "code",
   "execution_count": 1,
   "id": "63342420-540f-4ed9-9f24-a7928a5cc23d",
   "metadata": {},
   "outputs": [],
   "source": [
    "import pandas as pd\n",
    "import numpy as np\n",
    "import os"
   ]
  },
  {
   "cell_type": "code",
   "execution_count": 2,
   "id": "ca6e18c3-84c3-4abd-81d7-bc58f49e07e2",
   "metadata": {},
   "outputs": [],
   "source": [
    "# location to the true test counts - blockwise\n",
    "csv_path = 'data/test_block_true_counts'"
   ]
  },
  {
   "cell_type": "code",
   "execution_count": 3,
   "id": "e02f8cbc-b7b5-4278-83bc-2523be3b9c40",
   "metadata": {},
   "outputs": [],
   "source": [
    "csv_contents = os.listdir(csv_path)"
   ]
  },
  {
   "cell_type": "code",
   "execution_count": 4,
   "id": "9bb026e9-fc16-47f7-bfc5-c5a08755fd74",
   "metadata": {},
   "outputs": [],
   "source": [
    "# remove the checkpointing folder\n",
    "csv_contents = [file for file in csv_contents if file.split(\".\")[-1] == 'csv']"
   ]
  },
  {
   "cell_type": "code",
   "execution_count": 5,
   "id": "f173b828-bd09-43a4-ae80-aeddc11e46f3",
   "metadata": {},
   "outputs": [
    {
     "data": {
      "text/plain": [
       "['block_0103_true_counts.csv',\n",
       " 'block_0104_true_counts.csv',\n",
       " 'block_0105_true_counts.csv',\n",
       " 'block_0106_true_counts.csv',\n",
       " 'block_0201_true_counts.csv',\n",
       " 'block_0202_true_counts.csv',\n",
       " 'block_0205_true_counts.csv',\n",
       " 'block_0206_true_counts.csv',\n",
       " 'block_0302_true_counts.csv',\n",
       " 'block_0303_true_counts.csv',\n",
       " 'block_0304_true_counts.csv',\n",
       " 'block_0305_true_counts.csv',\n",
       " 'block_0306_true_counts.csv']"
      ]
     },
     "execution_count": 5,
     "metadata": {},
     "output_type": "execute_result"
    }
   ],
   "source": [
    "csv_contents.sort()\n",
    "csv_contents"
   ]
  },
  {
   "cell_type": "code",
   "execution_count": 6,
   "id": "5a0b06df-4095-427c-a565-a23b27e868b1",
   "metadata": {},
   "outputs": [],
   "source": [
    "def true_counts_from_df(file_path, file):\n",
    "    df = pd.read_csv(os.path.join(file_path, file))\n",
    "    # we only need the true counts for test data\n",
    "    test_df = df.iloc[-7:, :]\n",
    "    return test_df.values[:, -1]"
   ]
  },
  {
   "cell_type": "code",
   "execution_count": 7,
   "id": "d590c9e0-ba70-4fab-916f-bcd349909ab8",
   "metadata": {},
   "outputs": [],
   "source": [
    "# block 0103"
   ]
  },
  {
   "cell_type": "code",
   "execution_count": 8,
   "id": "556b9467-0b89-4a3e-a622-5fb84e923ede",
   "metadata": {},
   "outputs": [],
   "source": [
    "# from previously stored\n",
    "test_true_blk_0103 = true_counts_from_df(csv_path, csv_contents[0])"
   ]
  },
  {
   "cell_type": "code",
   "execution_count": 9,
   "id": "29b4345a-ec28-498f-9ae6-1d65fbee4676",
   "metadata": {},
   "outputs": [
    {
     "data": {
      "text/plain": [
       "array([40.00066054548968, 39.00000127295261, 41.00000000000001,\n",
       "       31.00000000000001, 31.99999951259551, 40.00208572484232,\n",
       "       27.000175670785342], dtype=object)"
      ]
     },
     "execution_count": 9,
     "metadata": {},
     "output_type": "execute_result"
    }
   ],
   "source": [
    "test_true_blk_0103"
   ]
  },
  {
   "cell_type": "code",
   "execution_count": 10,
   "id": "23fd719e-5d69-4f50-b35a-43947680bb1e",
   "metadata": {},
   "outputs": [],
   "source": [
    "# values copied from the inference scripts"
   ]
  },
  {
   "cell_type": "code",
   "execution_count": 11,
   "id": "782780df-90c9-4625-aa26-080490f93a0c",
   "metadata": {},
   "outputs": [],
   "source": [
    "# 0    40.000661\n",
    "# 1    39.000002\n",
    "# 2    41.000000\n",
    "# 3    31.000000\n",
    "# 4    32.000000\n",
    "# 5    40.002086\n",
    "# 6    27.000176"
   ]
  },
  {
   "cell_type": "code",
   "execution_count": 12,
   "id": "3e0fe67d-f03a-4003-9a64-a5bb040e864f",
   "metadata": {},
   "outputs": [],
   "source": [
    "# values match"
   ]
  },
  {
   "cell_type": "code",
   "execution_count": 13,
   "id": "2e675b0b-4c8a-4c91-bf53-8c83dc9b774a",
   "metadata": {},
   "outputs": [],
   "source": [
    "# block 0104"
   ]
  },
  {
   "cell_type": "code",
   "execution_count": 14,
   "id": "8eaab388-39fc-4702-b4cf-28063dce527c",
   "metadata": {},
   "outputs": [],
   "source": [
    "# from previously stored\n",
    "test_true_blk_0104 = true_counts_from_df(csv_path, csv_contents[1])"
   ]
  },
  {
   "cell_type": "code",
   "execution_count": 15,
   "id": "fad8344b-5ef6-420f-9297-ea1e5dd47825",
   "metadata": {},
   "outputs": [
    {
     "data": {
      "text/plain": [
       "array([32.999999999999986, 30.00000000000001, 39.00000127295262, 40.0,\n",
       "       40.99881043962579, 42.169008804753545, 30.005316665182622],\n",
       "      dtype=object)"
      ]
     },
     "execution_count": 15,
     "metadata": {},
     "output_type": "execute_result"
    }
   ],
   "source": [
    "test_true_blk_0104"
   ]
  },
  {
   "cell_type": "code",
   "execution_count": 16,
   "id": "e2d4c640-991e-43a5-89a9-9a27f38f5a1b",
   "metadata": {},
   "outputs": [],
   "source": [
    "# values copied from the inference scripts"
   ]
  },
  {
   "cell_type": "code",
   "execution_count": 17,
   "id": "1e33e37d-c8c0-49e9-b52f-ffcace0e3107",
   "metadata": {},
   "outputs": [],
   "source": [
    "# 0    33.000000\n",
    "# 1    30.000000\n",
    "# 2    39.000001\n",
    "# 3    40.000000\n",
    "# 4    40.998810\n",
    "# 5    42.169009\n",
    "# 6    30.005317"
   ]
  },
  {
   "cell_type": "code",
   "execution_count": 18,
   "id": "9a81b457-80a9-4503-bcf6-bedbd11b987d",
   "metadata": {},
   "outputs": [],
   "source": [
    "# values match"
   ]
  },
  {
   "cell_type": "code",
   "execution_count": 19,
   "id": "8250ae1f-5b9e-4c80-bbef-3c3dc4145f47",
   "metadata": {},
   "outputs": [],
   "source": [
    "# block 0105"
   ]
  },
  {
   "cell_type": "code",
   "execution_count": 20,
   "id": "aabaf47f-3283-443d-8eb8-4e3c896de9b2",
   "metadata": {},
   "outputs": [],
   "source": [
    "# from previously stored\n",
    "test_true_blk_0105 = true_counts_from_df(csv_path, csv_contents[2])"
   ]
  },
  {
   "cell_type": "code",
   "execution_count": 21,
   "id": "c6c3cfa1-9095-4685-bae3-e72c6f705a99",
   "metadata": {},
   "outputs": [
    {
     "data": {
      "text/plain": [
       "array([40.0000012729526, 46.00274307612427, 58.00069611233912,\n",
       "       41.00003199860504, 41.00118956037423, 36.00002186137552,\n",
       "       23.000000487404503], dtype=object)"
      ]
     },
     "execution_count": 21,
     "metadata": {},
     "output_type": "execute_result"
    }
   ],
   "source": [
    "test_true_blk_0105"
   ]
  },
  {
   "cell_type": "code",
   "execution_count": 22,
   "id": "d718dbbe-9b7a-404e-86fa-8109212c9e1a",
   "metadata": {},
   "outputs": [],
   "source": [
    "# values copied from the inference scripts"
   ]
  },
  {
   "cell_type": "code",
   "execution_count": 23,
   "id": "70f8ae24-c0f6-4aeb-99d2-73488f217877",
   "metadata": {},
   "outputs": [],
   "source": [
    "# 0    40.000001\n",
    "# 1    46.002743\n",
    "# 2    58.000696\n",
    "# 3    41.000032\n",
    "# 4    41.001190\n",
    "# 5    36.000022\n",
    "# 6    23.000001"
   ]
  },
  {
   "cell_type": "code",
   "execution_count": 24,
   "id": "decc4fdc-e431-49f8-a153-691bd5bec8d2",
   "metadata": {},
   "outputs": [],
   "source": [
    "# values match"
   ]
  },
  {
   "cell_type": "code",
   "execution_count": 25,
   "id": "58a73cb1-e2fa-4710-85ce-2ce62ad5af66",
   "metadata": {},
   "outputs": [],
   "source": [
    "# block 0106"
   ]
  },
  {
   "cell_type": "code",
   "execution_count": 26,
   "id": "79f26ad8-8d2c-4497-92e6-9ca2e0167250",
   "metadata": {},
   "outputs": [],
   "source": [
    "# from previously stored\n",
    "test_true_blk_0106 = true_counts_from_df(csv_path, csv_contents[3])"
   ]
  },
  {
   "cell_type": "code",
   "execution_count": 27,
   "id": "8433cab3-437b-4e47-ab32-91deb7ff4a55",
   "metadata": {},
   "outputs": [
    {
     "data": {
      "text/plain": [
       "array([38.999666655123626, 38.9999891048778, 45.0, 39.98688726617951,\n",
       "       42.99999680579228, 47.99650163259803, 38.00000000000001],\n",
       "      dtype=object)"
      ]
     },
     "execution_count": 27,
     "metadata": {},
     "output_type": "execute_result"
    }
   ],
   "source": [
    "test_true_blk_0106"
   ]
  },
  {
   "cell_type": "code",
   "execution_count": 28,
   "id": "56b08c50-54de-4cf2-a90a-9a48b5dca75d",
   "metadata": {},
   "outputs": [],
   "source": [
    "# values copied from the inference scripts"
   ]
  },
  {
   "cell_type": "code",
   "execution_count": 29,
   "id": "9ec8b434-a153-4ccd-b996-7441c48d97e9",
   "metadata": {},
   "outputs": [],
   "source": [
    "# 0    38.999667\n",
    "# 1    38.999989\n",
    "# 2    45.000000\n",
    "# 3    39.986887\n",
    "# 4    42.999997\n",
    "# 5    47.996502\n",
    "# 6    38.000000"
   ]
  },
  {
   "cell_type": "code",
   "execution_count": 30,
   "id": "29232ff4-a7ab-457c-93ed-1f5bcad9c7a2",
   "metadata": {},
   "outputs": [],
   "source": [
    "# values match"
   ]
  },
  {
   "cell_type": "code",
   "execution_count": 31,
   "id": "eb583f94-dd0a-44bb-906a-30bc711d80e9",
   "metadata": {},
   "outputs": [],
   "source": [
    "# block 0201"
   ]
  },
  {
   "cell_type": "code",
   "execution_count": 32,
   "id": "877b216a-6d1c-4b55-b0d3-c47406d317fb",
   "metadata": {},
   "outputs": [],
   "source": [
    "# from previously stored\n",
    "test_true_blk_0201 = true_counts_from_df(csv_path, csv_contents[4])"
   ]
  },
  {
   "cell_type": "code",
   "execution_count": 33,
   "id": "a38725b8-9fb0-46dc-8a47-59420b7a5ad3",
   "metadata": {},
   "outputs": [
    {
     "data": {
      "text/plain": [
       "array([45.00021729155998, 45.00003969951952, 47.00000127295259,\n",
       "       37.99999951259552, 42.00004097247213, 35.00000000000001,\n",
       "       29.000000000000004], dtype=object)"
      ]
     },
     "execution_count": 33,
     "metadata": {},
     "output_type": "execute_result"
    }
   ],
   "source": [
    "test_true_blk_0201"
   ]
  },
  {
   "cell_type": "code",
   "execution_count": 34,
   "id": "77d1a84f-958b-48d9-9797-52f942d99900",
   "metadata": {},
   "outputs": [],
   "source": [
    "# values copied from the inference scripts"
   ]
  },
  {
   "cell_type": "code",
   "execution_count": 35,
   "id": "0e6a9558-d273-4529-a08d-958eb127b3c4",
   "metadata": {},
   "outputs": [],
   "source": [
    "# 0    45.000217\n",
    "# 1    45.000040\n",
    "# 2    47.000001\n",
    "# 3    37.999999\n",
    "# 4    42.000041\n",
    "# 5    35.000000\n",
    "# 6    29.000000"
   ]
  },
  {
   "cell_type": "code",
   "execution_count": 36,
   "id": "5560c11a-43c5-49c0-a9d9-6edb1230c043",
   "metadata": {},
   "outputs": [],
   "source": [
    "# values match"
   ]
  },
  {
   "cell_type": "code",
   "execution_count": 37,
   "id": "6c2e5903-fe5d-4591-8142-c27e72efc7c8",
   "metadata": {},
   "outputs": [],
   "source": [
    "# block 0202"
   ]
  },
  {
   "cell_type": "code",
   "execution_count": 38,
   "id": "b4a30ec5-9d6e-4537-a012-1d31ba6daed1",
   "metadata": {},
   "outputs": [],
   "source": [
    "# from previously stored\n",
    "test_true_blk_0202 = true_counts_from_df(csv_path, csv_contents[5])"
   ]
  },
  {
   "cell_type": "code",
   "execution_count": 39,
   "id": "29bb4322-d505-4ac3-92cc-a3d97775e67f",
   "metadata": {},
   "outputs": [
    {
     "data": {
      "text/plain": [
       "array([17.9999603004805, 21.0, 22.999999512595508, 20.99998216185602,\n",
       "       21.000000000000007, 18.000000000000004, 18.000000000000007],\n",
       "      dtype=object)"
      ]
     },
     "execution_count": 39,
     "metadata": {},
     "output_type": "execute_result"
    }
   ],
   "source": [
    "test_true_blk_0202"
   ]
  },
  {
   "cell_type": "code",
   "execution_count": 40,
   "id": "4e4ed5cf-5ca3-40e8-a173-d8d459bff247",
   "metadata": {},
   "outputs": [],
   "source": [
    "# values copied from the inference scripts"
   ]
  },
  {
   "cell_type": "code",
   "execution_count": 41,
   "id": "9e258470-e04e-4560-87eb-668c879db9ea",
   "metadata": {},
   "outputs": [],
   "source": [
    "# 0    17.999960\n",
    "# 1    21.000000\n",
    "# 2    23.000000\n",
    "# 3    20.999982\n",
    "# 4    21.000000\n",
    "# 5    18.000000\n",
    "# 6    18.000000"
   ]
  },
  {
   "cell_type": "code",
   "execution_count": 42,
   "id": "7ddffaa0-d87a-4ff0-b5f3-831b01bda152",
   "metadata": {},
   "outputs": [],
   "source": [
    "# values match"
   ]
  },
  {
   "cell_type": "code",
   "execution_count": 43,
   "id": "1ac16398-03d0-4d4d-9f3a-ff48c32b071a",
   "metadata": {},
   "outputs": [],
   "source": [
    "# block 0205"
   ]
  },
  {
   "cell_type": "code",
   "execution_count": 44,
   "id": "75eac4d3-3d59-4da7-b034-19e4f6041db8",
   "metadata": {},
   "outputs": [],
   "source": [
    "# from previously stored\n",
    "test_true_blk_0205 = true_counts_from_df(csv_path, csv_contents[6])"
   ]
  },
  {
   "cell_type": "code",
   "execution_count": 45,
   "id": "fb81a51a-a55c-4ca7-9cd6-4c7b1eb43085",
   "metadata": {},
   "outputs": [
    {
     "data": {
      "text/plain": [
       "array([44.000000000000014, 42.0000012729526, 44.99999999999998,\n",
       "       43.00000000000001, 38.99999999999999, 40.99991511146148,\n",
       "       31.999655760001424], dtype=object)"
      ]
     },
     "execution_count": 45,
     "metadata": {},
     "output_type": "execute_result"
    }
   ],
   "source": [
    "test_true_blk_0205"
   ]
  },
  {
   "cell_type": "code",
   "execution_count": 46,
   "id": "4893dea9-fc01-441d-a398-da7a0569ba0e",
   "metadata": {},
   "outputs": [],
   "source": [
    "# values copied from the inference scripts"
   ]
  },
  {
   "cell_type": "code",
   "execution_count": 47,
   "id": "6a56c7db-368f-46ee-8c3c-04b190b394d6",
   "metadata": {},
   "outputs": [],
   "source": [
    "# 0    44.000000\n",
    "# 1    42.000001\n",
    "# 2    45.000000\n",
    "# 3    43.000000\n",
    "# 4    39.000000\n",
    "# 5    40.999915\n",
    "# 6    31.999656"
   ]
  },
  {
   "cell_type": "code",
   "execution_count": 48,
   "id": "df007476-0533-4924-8e9e-b2f138c0821e",
   "metadata": {},
   "outputs": [],
   "source": [
    "# values match"
   ]
  },
  {
   "cell_type": "code",
   "execution_count": 49,
   "id": "5b827e59-ca50-4fc9-9165-be48a918d32a",
   "metadata": {},
   "outputs": [],
   "source": [
    "# block 0206"
   ]
  },
  {
   "cell_type": "code",
   "execution_count": 50,
   "id": "627da9c6-4df2-401d-9428-220824a830a0",
   "metadata": {},
   "outputs": [],
   "source": [
    "# from previously stored\n",
    "test_true_blk_0206 = true_counts_from_df(csv_path, csv_contents[7])"
   ]
  },
  {
   "cell_type": "code",
   "execution_count": 51,
   "id": "410765f4-113f-4054-8bd9-38beebe6310b",
   "metadata": {},
   "outputs": [
    {
     "data": {
      "text/plain": [
       "array([40.99983792383744, 41.99881043962578, 39.00006705039453,\n",
       "       32.00000319420774, 25.00035194091306, 23.00003969951952,\n",
       "       17.999999512595505], dtype=object)"
      ]
     },
     "execution_count": 51,
     "metadata": {},
     "output_type": "execute_result"
    }
   ],
   "source": [
    "test_true_blk_0206"
   ]
  },
  {
   "cell_type": "code",
   "execution_count": 52,
   "id": "c9181cef-a2cb-47a0-bb0e-116da8984107",
   "metadata": {},
   "outputs": [],
   "source": [
    "# values copied from the inference scripts"
   ]
  },
  {
   "cell_type": "code",
   "execution_count": 53,
   "id": "d0f74846-2982-4635-8755-9191f0f86d52",
   "metadata": {},
   "outputs": [],
   "source": [
    "# 0    40.999838\n",
    "# 1    41.998811\n",
    "# 2    39.000067\n",
    "# 3    32.000003\n",
    "# 4    25.000352\n",
    "# 5    23.000040\n",
    "# 6    18.000000"
   ]
  },
  {
   "cell_type": "code",
   "execution_count": 54,
   "id": "af7e57cd-6126-4033-859f-1cf7eccbe31f",
   "metadata": {},
   "outputs": [],
   "source": [
    "# values match"
   ]
  },
  {
   "cell_type": "code",
   "execution_count": 55,
   "id": "dd2ecdc8-1d3d-4c7e-9abb-8fd327117818",
   "metadata": {},
   "outputs": [],
   "source": [
    "# block 0302"
   ]
  },
  {
   "cell_type": "code",
   "execution_count": 56,
   "id": "14bb203e-7a58-43ce-a370-54311d83c1d0",
   "metadata": {},
   "outputs": [],
   "source": [
    "# from previously stored\n",
    "test_true_blk_0302 = true_counts_from_df(csv_path, csv_contents[8])"
   ]
  },
  {
   "cell_type": "code",
   "execution_count": 57,
   "id": "8602f23c-2e9f-4eab-9163-0549e3dd22fc",
   "metadata": {},
   "outputs": [
    {
     "data": {
      "text/plain": [
       "array([49.0, 49.00000499411124, 53.99956959851029, 50.04234944329424,\n",
       "       43.00000897386708, 48.00057246274347, 36.99999902519102],\n",
       "      dtype=object)"
      ]
     },
     "execution_count": 57,
     "metadata": {},
     "output_type": "execute_result"
    }
   ],
   "source": [
    "test_true_blk_0302"
   ]
  },
  {
   "cell_type": "code",
   "execution_count": 58,
   "id": "d2f27a26-f698-46c8-9370-a2b124690dff",
   "metadata": {},
   "outputs": [],
   "source": [
    "# values copied from the inference scripts"
   ]
  },
  {
   "cell_type": "code",
   "execution_count": 59,
   "id": "e1f40c4f-c928-4cf4-95a2-0f2169808d5d",
   "metadata": {},
   "outputs": [],
   "source": [
    "# 0    49.000000\n",
    "# 1    49.000005\n",
    "# 2    53.999570\n",
    "# 3    50.042349\n",
    "# 4    43.000009\n",
    "# 5    48.000573\n",
    "# 6    36.999999"
   ]
  },
  {
   "cell_type": "code",
   "execution_count": 60,
   "id": "091a25e0-c939-4c97-92c7-d5efaa31835e",
   "metadata": {},
   "outputs": [],
   "source": [
    "# values match"
   ]
  },
  {
   "cell_type": "code",
   "execution_count": 61,
   "id": "c3d4621e-479b-4bee-abbb-e85f5867e83a",
   "metadata": {},
   "outputs": [],
   "source": [
    "# block 0303"
   ]
  },
  {
   "cell_type": "code",
   "execution_count": 62,
   "id": "6157bac1-0212-4c14-9e6f-d47390e92432",
   "metadata": {},
   "outputs": [],
   "source": [
    "# from previously stored\n",
    "test_true_blk_0303 = true_counts_from_df(csv_path, csv_contents[9])"
   ]
  },
  {
   "cell_type": "code",
   "execution_count": 63,
   "id": "fea46e10-c107-4443-bc00-ed5e7b886c15",
   "metadata": {},
   "outputs": [
    {
     "data": {
      "text/plain": [
       "array([49.00017120362504, 46.00000672610549, 42.999982161856025,\n",
       "       38.99999312418006, 36.0258842391973, 36.0, 22.999999999999996],\n",
       "      dtype=object)"
      ]
     },
     "execution_count": 63,
     "metadata": {},
     "output_type": "execute_result"
    }
   ],
   "source": [
    "test_true_blk_0303"
   ]
  },
  {
   "cell_type": "code",
   "execution_count": 64,
   "id": "6e5b4b37-ccdc-4bc8-8718-54fe2ca87416",
   "metadata": {},
   "outputs": [],
   "source": [
    "# values copied from the inference scripts"
   ]
  },
  {
   "cell_type": "code",
   "execution_count": 65,
   "id": "2e2537a6-0bc5-4c4a-9468-cc5ff9a5a08d",
   "metadata": {},
   "outputs": [],
   "source": [
    "# 0    49.000171\n",
    "# 1    46.000007\n",
    "# 2    42.999983\n",
    "# 3    38.999993\n",
    "# 4    36.025885\n",
    "# 5    36.000000\n",
    "# 6    23.000000"
   ]
  },
  {
   "cell_type": "code",
   "execution_count": 66,
   "id": "2eed0a51-16e8-420d-bf32-23c8ce989b42",
   "metadata": {},
   "outputs": [],
   "source": [
    "# values match"
   ]
  },
  {
   "cell_type": "code",
   "execution_count": 67,
   "id": "a29147db-a4fe-4a38-9781-8b78d99191ac",
   "metadata": {},
   "outputs": [],
   "source": [
    "# block 0304"
   ]
  },
  {
   "cell_type": "code",
   "execution_count": 68,
   "id": "5132953d-7759-4b7d-857e-ce46de09f8fb",
   "metadata": {},
   "outputs": [],
   "source": [
    "# from previously stored\n",
    "test_true_blk_0304 = true_counts_from_df(csv_path, csv_contents[10])"
   ]
  },
  {
   "cell_type": "code",
   "execution_count": 69,
   "id": "2c2eefb5-ae55-4c03-b271-0c80e8e2eb68",
   "metadata": {},
   "outputs": [
    {
     "data": {
      "text/plain": [
       "array([37.000000000000014, 41.00205747505135, 42.99999807874491,\n",
       "       41.999954810980974, 37.9999995125955, 34.00000000000002, 24.0],\n",
       "      dtype=object)"
      ]
     },
     "execution_count": 69,
     "metadata": {},
     "output_type": "execute_result"
    }
   ],
   "source": [
    "test_true_blk_0304"
   ]
  },
  {
   "cell_type": "code",
   "execution_count": 70,
   "id": "2ef6d829-576f-4472-b0f4-44d31d482313",
   "metadata": {},
   "outputs": [],
   "source": [
    "# values copied from the inference scripts"
   ]
  },
  {
   "cell_type": "code",
   "execution_count": 71,
   "id": "6a43239e-72fa-487d-99ce-04347b9e8b6b",
   "metadata": {},
   "outputs": [],
   "source": [
    "# 0    37.000000\n",
    "# 1    41.002058\n",
    "# 2    42.999998\n",
    "# 3    41.999955\n",
    "# 4    37.999999\n",
    "# 5    34.000000\n",
    "# 6    24.000000"
   ]
  },
  {
   "cell_type": "code",
   "execution_count": 72,
   "id": "b955b2ba-ff2a-4218-81ea-73c23111a256",
   "metadata": {},
   "outputs": [],
   "source": [
    "# values match"
   ]
  },
  {
   "cell_type": "code",
   "execution_count": 73,
   "id": "2da38e50-6a56-466d-9946-6c7fca83e6d1",
   "metadata": {},
   "outputs": [],
   "source": [
    "# block 0305"
   ]
  },
  {
   "cell_type": "code",
   "execution_count": 74,
   "id": "350fec65-59ee-43d7-a5a8-54e7c49c6609",
   "metadata": {},
   "outputs": [],
   "source": [
    "# from previously stored\n",
    "test_true_blk_0305 = true_counts_from_df(csv_path, csv_contents[11])"
   ]
  },
  {
   "cell_type": "code",
   "execution_count": 75,
   "id": "d57604f1-1952-4313-9ab4-fb19ffa7b8f6",
   "metadata": {},
   "outputs": [
    {
     "data": {
      "text/plain": [
       "array([45.99999999999999, 35.000000000000014, 37.00000000000001,\n",
       "       30.000651571622612, 35.00118956037424, 28.999993572038143,\n",
       "       20.00001783814397], dtype=object)"
      ]
     },
     "execution_count": 75,
     "metadata": {},
     "output_type": "execute_result"
    }
   ],
   "source": [
    "test_true_blk_0305"
   ]
  },
  {
   "cell_type": "code",
   "execution_count": 76,
   "id": "e98d0bca-ffbc-4510-b8f5-6aa5bf041101",
   "metadata": {},
   "outputs": [],
   "source": [
    "# values copied from the inference scripts"
   ]
  },
  {
   "cell_type": "code",
   "execution_count": 77,
   "id": "750cf189-0185-4617-b365-2bbb8c4bc001",
   "metadata": {},
   "outputs": [],
   "source": [
    "# 0    46.000000\n",
    "# 1    35.000000\n",
    "# 2    37.000000\n",
    "# 3    30.000651\n",
    "# 4    35.001190\n",
    "# 5    28.999994\n",
    "# 6    20.000018"
   ]
  },
  {
   "cell_type": "code",
   "execution_count": 78,
   "id": "26eb4655-8fe5-4240-a417-1b205913de70",
   "metadata": {},
   "outputs": [],
   "source": [
    "# values match"
   ]
  },
  {
   "cell_type": "code",
   "execution_count": 79,
   "id": "54d9717f-cb0d-4de1-86b6-42fe8435c85e",
   "metadata": {},
   "outputs": [],
   "source": [
    "# block 0306"
   ]
  },
  {
   "cell_type": "code",
   "execution_count": 80,
   "id": "d5b2f797-440a-4c3e-82fa-e793329a3688",
   "metadata": {},
   "outputs": [],
   "source": [
    "# from previously stored\n",
    "test_true_blk_0306 = true_counts_from_df(csv_path, csv_contents[12])"
   ]
  },
  {
   "cell_type": "code",
   "execution_count": 81,
   "id": "e7948ef3-4f63-4c5c-864b-fd69a4803f7c",
   "metadata": {},
   "outputs": [
    {
     "data": {
      "text/plain": [
       "array([41.0000089738671, 41.00000319420772, 43.00685125110357,\n",
       "       39.99760431406018, 40.0, 32.999982161856046, 18.0], dtype=object)"
      ]
     },
     "execution_count": 81,
     "metadata": {},
     "output_type": "execute_result"
    }
   ],
   "source": [
    "test_true_blk_0306"
   ]
  },
  {
   "cell_type": "code",
   "execution_count": 82,
   "id": "53f63306-eeba-4d16-a9b3-96881e2b527c",
   "metadata": {},
   "outputs": [],
   "source": [
    "# values copied from the inference scripts"
   ]
  },
  {
   "cell_type": "code",
   "execution_count": 83,
   "id": "421c607e-74e7-4300-9966-894d078ec764",
   "metadata": {},
   "outputs": [],
   "source": [
    "# 0    41.000009\n",
    "# 1    41.000003\n",
    "# 2    43.006851\n",
    "# 3    39.997605\n",
    "# 4    40.000000\n",
    "# 5    32.999982\n",
    "# 6    18.000000"
   ]
  },
  {
   "cell_type": "code",
   "execution_count": 84,
   "id": "2fa45339-3f7b-4cf0-bcec-f6a89067d9d4",
   "metadata": {},
   "outputs": [],
   "source": [
    "# values match"
   ]
  }
 ],
 "metadata": {
  "kernelspec": {
   "display_name": "Python (tfp_cpu_env)",
   "language": "python",
   "name": "tfp_cpu_env"
  },
  "language_info": {
   "codemirror_mode": {
    "name": "ipython",
    "version": 3
   },
   "file_extension": ".py",
   "mimetype": "text/x-python",
   "name": "python",
   "nbconvert_exporter": "python",
   "pygments_lexer": "ipython3",
   "version": "3.11.7"
  }
 },
 "nbformat": 4,
 "nbformat_minor": 5
}
