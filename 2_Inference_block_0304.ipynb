{
 "cells": [
  {
   "cell_type": "code",
   "execution_count": 1,
   "id": "95479ff1-daa9-4a85-bee2-32d78b24506b",
   "metadata": {},
   "outputs": [],
   "source": [
    "import pandas as pd\n",
    "import numpy as np\n",
    "import matplotlib.pyplot as plt\n",
    "import os\n",
    "from sklearn.metrics import mean_absolute_error, mean_squared_error, r2_score\n",
    "from scipy.stats import pearsonr"
   ]
  },
  {
   "cell_type": "code",
   "execution_count": 2,
   "id": "d0c496d4-1b24-43dd-ab1b-b98d6eaef21b",
   "metadata": {},
   "outputs": [],
   "source": [
    "# path to dataframes\n",
    "path_to_dfs = \"data/BLAR_implementation/Block_0304/forecasted_counts/\""
   ]
  },
  {
   "cell_type": "code",
   "execution_count": 3,
   "id": "0c9c641d-4e5d-4c54-a235-c62cbdf13f8d",
   "metadata": {},
   "outputs": [],
   "source": [
    "# os.listdir(path_to_dfs)"
   ]
  },
  {
   "cell_type": "code",
   "execution_count": 4,
   "id": "5e5d1ebd-ac8c-4a2b-b33c-db3c4b477eae",
   "metadata": {},
   "outputs": [
    {
     "data": {
      "text/plain": [
       "6370"
      ]
     },
     "execution_count": 4,
     "metadata": {},
     "output_type": "execute_result"
    }
   ],
   "source": [
    "len(os.listdir(path_to_dfs))"
   ]
  },
  {
   "cell_type": "code",
   "execution_count": 5,
   "id": "3b80d752-5eb8-42c1-ad39-987ad3dbb001",
   "metadata": {},
   "outputs": [
    {
     "data": {
      "text/plain": [
       "7.0"
      ]
     },
     "execution_count": 5,
     "metadata": {},
     "output_type": "execute_result"
    }
   ],
   "source": [
    "6370/910"
   ]
  },
  {
   "cell_type": "code",
   "execution_count": 6,
   "id": "a0ac81e1-3049-44de-a2bf-4bf5a274ba45",
   "metadata": {},
   "outputs": [],
   "source": [
    "# seems each sub-window sequence have 7 things stored - what are all these?\n",
    "\n",
    "# the forecasted npy files\n",
    "# ar_sigma\n",
    "# noise_sigma\n",
    "# betas\n",
    "# rho\n",
    "# averaged forecasts\n",
    "# posterior parameter summaries - might need to pay a little attention here, the r_hat values are too high - think this should vary around 1? - but almost all the values are greater than 2."
   ]
  },
  {
   "cell_type": "code",
   "execution_count": 7,
   "id": "f9a4f497-2d9d-4b5c-9169-46b6ae6b9977",
   "metadata": {},
   "outputs": [],
   "source": [
    "averaged_forecasts_csvs = []\n",
    "for file in os.listdir(path_to_dfs):\n",
    "    if file[:8] =='averaged':\n",
    "        averaged_forecasts_csvs.append(file)"
   ]
  },
  {
   "cell_type": "code",
   "execution_count": 8,
   "id": "094e9614-b16f-45a2-aafc-d7884678eb44",
   "metadata": {},
   "outputs": [
    {
     "data": {
      "text/plain": [
       "910"
      ]
     },
     "execution_count": 8,
     "metadata": {},
     "output_type": "execute_result"
    }
   ],
   "source": [
    "# how many csv files do we have?\n",
    "len(averaged_forecasts_csvs)"
   ]
  },
  {
   "cell_type": "code",
   "execution_count": 9,
   "id": "7eca928b-bdbd-4d00-9eb1-8a808db7123e",
   "metadata": {},
   "outputs": [],
   "source": [
    "# averaged_forecasts_csvs - we probably need these in order for getting the respective predicted values"
   ]
  },
  {
   "cell_type": "code",
   "execution_count": 10,
   "id": "d0e11c68-824a-41ea-bf6b-65f53103343f",
   "metadata": {},
   "outputs": [
    {
     "data": {
      "text/plain": [
       "'averaged_forecasts_sub_653.csv'"
      ]
     },
     "execution_count": 10,
     "metadata": {},
     "output_type": "execute_result"
    }
   ],
   "source": [
    "averaged_forecasts_csvs[0]"
   ]
  },
  {
   "cell_type": "code",
   "execution_count": 11,
   "id": "f1f9e7be-53a6-4f38-b389-045d898b14ef",
   "metadata": {},
   "outputs": [],
   "source": [
    "# sorting them would not work as everything in the nomenclature of the files is a character - hence will not respect the numerical order"
   ]
  },
  {
   "cell_type": "code",
   "execution_count": 12,
   "id": "3cf616ee-4b4e-4ad9-ac1b-20aba081bfc5",
   "metadata": {},
   "outputs": [],
   "source": [
    "# let's create these names in the order of the subwindows\n",
    "ordered_csv_files = ['averaged_forecasts_sub_' + str(i) + '.csv' for i in range(910)]"
   ]
  },
  {
   "cell_type": "code",
   "execution_count": 13,
   "id": "7ac08389-4437-448b-b8a8-317cd0a9bf8e",
   "metadata": {},
   "outputs": [],
   "source": [
    "# ordered_csv_files"
   ]
  },
  {
   "cell_type": "code",
   "execution_count": 14,
   "id": "e74425d7-b613-44cf-96dd-df4298cef947",
   "metadata": {},
   "outputs": [],
   "source": [
    "# averaged_forecasts_csvs list is pointless at this time?"
   ]
  },
  {
   "cell_type": "code",
   "execution_count": 15,
   "id": "9a94c9ec-57cc-42fa-ad71-26639da44cb7",
   "metadata": {},
   "outputs": [
    {
     "name": "stdout",
     "output_type": "stream",
     "text": [
      "CPU times: user 479 ms, sys: 11.5 ms, total: 491 ms\n",
      "Wall time: 492 ms\n"
     ]
    }
   ],
   "source": [
    "%%time\n",
    "all_dfs = []\n",
    "for file in ordered_csv_files:\n",
    "    read_df = pd.read_csv(path_to_dfs + '/' + file)\n",
    "    all_dfs.append(read_df)"
   ]
  },
  {
   "cell_type": "code",
   "execution_count": 16,
   "id": "c04b6062-8fc9-4f3e-87f2-2a8e9abac16f",
   "metadata": {},
   "outputs": [],
   "source": [
    "# make a single dataframe out of the many\n",
    "combined_df = pd.concat(all_dfs, axis = 1)"
   ]
  },
  {
   "cell_type": "code",
   "execution_count": 17,
   "id": "5671cc95-7ba6-47bc-8da8-47ba9d3f36e3",
   "metadata": {},
   "outputs": [
    {
     "data": {
      "text/html": [
       "<div>\n",
       "<style scoped>\n",
       "    .dataframe tbody tr th:only-of-type {\n",
       "        vertical-align: middle;\n",
       "    }\n",
       "\n",
       "    .dataframe tbody tr th {\n",
       "        vertical-align: top;\n",
       "    }\n",
       "\n",
       "    .dataframe thead th {\n",
       "        text-align: right;\n",
       "    }\n",
       "</style>\n",
       "<table border=\"1\" class=\"dataframe\">\n",
       "  <thead>\n",
       "    <tr style=\"text-align: right;\">\n",
       "      <th></th>\n",
       "      <th>True_value</th>\n",
       "      <th>Forecasted_value</th>\n",
       "      <th>True_value</th>\n",
       "      <th>Forecasted_value</th>\n",
       "      <th>True_value</th>\n",
       "      <th>Forecasted_value</th>\n",
       "      <th>True_value</th>\n",
       "      <th>Forecasted_value</th>\n",
       "      <th>True_value</th>\n",
       "      <th>Forecasted_value</th>\n",
       "      <th>...</th>\n",
       "      <th>True_value</th>\n",
       "      <th>Forecasted_value</th>\n",
       "      <th>True_value</th>\n",
       "      <th>Forecasted_value</th>\n",
       "      <th>True_value</th>\n",
       "      <th>Forecasted_value</th>\n",
       "      <th>True_value</th>\n",
       "      <th>Forecasted_value</th>\n",
       "      <th>True_value</th>\n",
       "      <th>Forecasted_value</th>\n",
       "    </tr>\n",
       "  </thead>\n",
       "  <tbody>\n",
       "    <tr>\n",
       "      <th>0</th>\n",
       "      <td>0.0</td>\n",
       "      <td>-0.003918</td>\n",
       "      <td>0.0</td>\n",
       "      <td>-0.006743</td>\n",
       "      <td>0.0</td>\n",
       "      <td>-0.005412</td>\n",
       "      <td>0.00000</td>\n",
       "      <td>-0.005279</td>\n",
       "      <td>0.098687</td>\n",
       "      <td>0.019572</td>\n",
       "      <td>...</td>\n",
       "      <td>0.0</td>\n",
       "      <td>-0.000748</td>\n",
       "      <td>0.0</td>\n",
       "      <td>-0.001173</td>\n",
       "      <td>0.0</td>\n",
       "      <td>-0.019170</td>\n",
       "      <td>0.0</td>\n",
       "      <td>-0.008012</td>\n",
       "      <td>0.0</td>\n",
       "      <td>-0.013050</td>\n",
       "    </tr>\n",
       "    <tr>\n",
       "      <th>1</th>\n",
       "      <td>0.0</td>\n",
       "      <td>0.000806</td>\n",
       "      <td>0.0</td>\n",
       "      <td>0.000342</td>\n",
       "      <td>0.0</td>\n",
       "      <td>-0.003876</td>\n",
       "      <td>0.00000</td>\n",
       "      <td>-0.001987</td>\n",
       "      <td>0.000280</td>\n",
       "      <td>0.065125</td>\n",
       "      <td>...</td>\n",
       "      <td>0.0</td>\n",
       "      <td>0.002310</td>\n",
       "      <td>0.0</td>\n",
       "      <td>-0.002744</td>\n",
       "      <td>0.0</td>\n",
       "      <td>-0.016716</td>\n",
       "      <td>0.0</td>\n",
       "      <td>-0.009038</td>\n",
       "      <td>0.0</td>\n",
       "      <td>-0.017697</td>\n",
       "    </tr>\n",
       "    <tr>\n",
       "      <th>2</th>\n",
       "      <td>0.0</td>\n",
       "      <td>-0.000525</td>\n",
       "      <td>0.0</td>\n",
       "      <td>-0.007092</td>\n",
       "      <td>0.0</td>\n",
       "      <td>-0.006806</td>\n",
       "      <td>0.00000</td>\n",
       "      <td>-0.010131</td>\n",
       "      <td>0.017957</td>\n",
       "      <td>0.027200</td>\n",
       "      <td>...</td>\n",
       "      <td>0.0</td>\n",
       "      <td>-0.004447</td>\n",
       "      <td>0.0</td>\n",
       "      <td>-0.001238</td>\n",
       "      <td>0.0</td>\n",
       "      <td>-0.021435</td>\n",
       "      <td>0.0</td>\n",
       "      <td>-0.009584</td>\n",
       "      <td>0.0</td>\n",
       "      <td>-0.015251</td>\n",
       "    </tr>\n",
       "    <tr>\n",
       "      <th>3</th>\n",
       "      <td>0.0</td>\n",
       "      <td>-0.001494</td>\n",
       "      <td>0.0</td>\n",
       "      <td>0.001550</td>\n",
       "      <td>0.0</td>\n",
       "      <td>-0.006382</td>\n",
       "      <td>0.00000</td>\n",
       "      <td>-0.003422</td>\n",
       "      <td>0.000000</td>\n",
       "      <td>0.011647</td>\n",
       "      <td>...</td>\n",
       "      <td>0.0</td>\n",
       "      <td>0.008786</td>\n",
       "      <td>0.0</td>\n",
       "      <td>-0.000404</td>\n",
       "      <td>0.0</td>\n",
       "      <td>-0.028629</td>\n",
       "      <td>0.0</td>\n",
       "      <td>-0.006577</td>\n",
       "      <td>0.0</td>\n",
       "      <td>-0.010325</td>\n",
       "    </tr>\n",
       "    <tr>\n",
       "      <th>4</th>\n",
       "      <td>0.0</td>\n",
       "      <td>-0.004485</td>\n",
       "      <td>0.0</td>\n",
       "      <td>0.000729</td>\n",
       "      <td>0.0</td>\n",
       "      <td>-0.004547</td>\n",
       "      <td>0.00025</td>\n",
       "      <td>0.001520</td>\n",
       "      <td>0.052774</td>\n",
       "      <td>0.051450</td>\n",
       "      <td>...</td>\n",
       "      <td>0.0</td>\n",
       "      <td>0.003943</td>\n",
       "      <td>0.0</td>\n",
       "      <td>-0.001827</td>\n",
       "      <td>0.0</td>\n",
       "      <td>-0.012863</td>\n",
       "      <td>0.0</td>\n",
       "      <td>0.001267</td>\n",
       "      <td>0.0</td>\n",
       "      <td>-0.000991</td>\n",
       "    </tr>\n",
       "  </tbody>\n",
       "</table>\n",
       "<p>5 rows × 1820 columns</p>\n",
       "</div>"
      ],
      "text/plain": [
       "   True_value  Forecasted_value  True_value  Forecasted_value  True_value  \\\n",
       "0         0.0         -0.003918         0.0         -0.006743         0.0   \n",
       "1         0.0          0.000806         0.0          0.000342         0.0   \n",
       "2         0.0         -0.000525         0.0         -0.007092         0.0   \n",
       "3         0.0         -0.001494         0.0          0.001550         0.0   \n",
       "4         0.0         -0.004485         0.0          0.000729         0.0   \n",
       "\n",
       "   Forecasted_value  True_value  Forecasted_value  True_value  \\\n",
       "0         -0.005412     0.00000         -0.005279    0.098687   \n",
       "1         -0.003876     0.00000         -0.001987    0.000280   \n",
       "2         -0.006806     0.00000         -0.010131    0.017957   \n",
       "3         -0.006382     0.00000         -0.003422    0.000000   \n",
       "4         -0.004547     0.00025          0.001520    0.052774   \n",
       "\n",
       "   Forecasted_value  ...  True_value  Forecasted_value  True_value  \\\n",
       "0          0.019572  ...         0.0         -0.000748         0.0   \n",
       "1          0.065125  ...         0.0          0.002310         0.0   \n",
       "2          0.027200  ...         0.0         -0.004447         0.0   \n",
       "3          0.011647  ...         0.0          0.008786         0.0   \n",
       "4          0.051450  ...         0.0          0.003943         0.0   \n",
       "\n",
       "   Forecasted_value  True_value  Forecasted_value  True_value  \\\n",
       "0         -0.001173         0.0         -0.019170         0.0   \n",
       "1         -0.002744         0.0         -0.016716         0.0   \n",
       "2         -0.001238         0.0         -0.021435         0.0   \n",
       "3         -0.000404         0.0         -0.028629         0.0   \n",
       "4         -0.001827         0.0         -0.012863         0.0   \n",
       "\n",
       "   Forecasted_value  True_value  Forecasted_value  \n",
       "0         -0.008012         0.0         -0.013050  \n",
       "1         -0.009038         0.0         -0.017697  \n",
       "2         -0.009584         0.0         -0.015251  \n",
       "3         -0.006577         0.0         -0.010325  \n",
       "4          0.001267         0.0         -0.000991  \n",
       "\n",
       "[5 rows x 1820 columns]"
      ]
     },
     "execution_count": 17,
     "metadata": {},
     "output_type": "execute_result"
    }
   ],
   "source": [
    "combined_df.head()"
   ]
  },
  {
   "cell_type": "code",
   "execution_count": 18,
   "id": "77ebc554-fe99-4cea-9cb3-2d2b8329b7b8",
   "metadata": {},
   "outputs": [
    {
     "data": {
      "text/plain": [
       "(7, 1820)"
      ]
     },
     "execution_count": 18,
     "metadata": {},
     "output_type": "execute_result"
    }
   ],
   "source": [
    "combined_df.shape"
   ]
  },
  {
   "cell_type": "code",
   "execution_count": 19,
   "id": "cd7bd824-8dac-4284-b286-aafcd8cd7d43",
   "metadata": {},
   "outputs": [],
   "source": [
    "# get the true values\n",
    "True_values_df = combined_df[['True_value']]"
   ]
  },
  {
   "cell_type": "code",
   "execution_count": 20,
   "id": "20d0decc-e09d-494a-9ff8-2139aac7254b",
   "metadata": {},
   "outputs": [
    {
     "data": {
      "text/html": [
       "<div>\n",
       "<style scoped>\n",
       "    .dataframe tbody tr th:only-of-type {\n",
       "        vertical-align: middle;\n",
       "    }\n",
       "\n",
       "    .dataframe tbody tr th {\n",
       "        vertical-align: top;\n",
       "    }\n",
       "\n",
       "    .dataframe thead th {\n",
       "        text-align: right;\n",
       "    }\n",
       "</style>\n",
       "<table border=\"1\" class=\"dataframe\">\n",
       "  <thead>\n",
       "    <tr style=\"text-align: right;\">\n",
       "      <th></th>\n",
       "      <th>True_value</th>\n",
       "      <th>True_value</th>\n",
       "      <th>True_value</th>\n",
       "      <th>True_value</th>\n",
       "      <th>True_value</th>\n",
       "      <th>True_value</th>\n",
       "      <th>True_value</th>\n",
       "      <th>True_value</th>\n",
       "      <th>True_value</th>\n",
       "      <th>True_value</th>\n",
       "      <th>...</th>\n",
       "      <th>True_value</th>\n",
       "      <th>True_value</th>\n",
       "      <th>True_value</th>\n",
       "      <th>True_value</th>\n",
       "      <th>True_value</th>\n",
       "      <th>True_value</th>\n",
       "      <th>True_value</th>\n",
       "      <th>True_value</th>\n",
       "      <th>True_value</th>\n",
       "      <th>True_value</th>\n",
       "    </tr>\n",
       "  </thead>\n",
       "  <tbody>\n",
       "    <tr>\n",
       "      <th>0</th>\n",
       "      <td>0.0</td>\n",
       "      <td>0.0</td>\n",
       "      <td>0.0</td>\n",
       "      <td>0.00000</td>\n",
       "      <td>0.098687</td>\n",
       "      <td>0.439687</td>\n",
       "      <td>0.00000</td>\n",
       "      <td>0.0</td>\n",
       "      <td>0.0</td>\n",
       "      <td>0.0</td>\n",
       "      <td>...</td>\n",
       "      <td>0.000000e+00</td>\n",
       "      <td>0.000000</td>\n",
       "      <td>0.000000</td>\n",
       "      <td>0.000000e+00</td>\n",
       "      <td>0.00000</td>\n",
       "      <td>0.0</td>\n",
       "      <td>0.0</td>\n",
       "      <td>0.0</td>\n",
       "      <td>0.0</td>\n",
       "      <td>0.0</td>\n",
       "    </tr>\n",
       "    <tr>\n",
       "      <th>1</th>\n",
       "      <td>0.0</td>\n",
       "      <td>0.0</td>\n",
       "      <td>0.0</td>\n",
       "      <td>0.00000</td>\n",
       "      <td>0.000280</td>\n",
       "      <td>0.191231</td>\n",
       "      <td>0.00028</td>\n",
       "      <td>0.0</td>\n",
       "      <td>0.0</td>\n",
       "      <td>0.0</td>\n",
       "      <td>...</td>\n",
       "      <td>0.000000e+00</td>\n",
       "      <td>0.000000</td>\n",
       "      <td>0.000000</td>\n",
       "      <td>2.406495e-01</td>\n",
       "      <td>0.41786</td>\n",
       "      <td>0.0</td>\n",
       "      <td>0.0</td>\n",
       "      <td>0.0</td>\n",
       "      <td>0.0</td>\n",
       "      <td>0.0</td>\n",
       "    </tr>\n",
       "    <tr>\n",
       "      <th>2</th>\n",
       "      <td>0.0</td>\n",
       "      <td>0.0</td>\n",
       "      <td>0.0</td>\n",
       "      <td>0.00000</td>\n",
       "      <td>0.017957</td>\n",
       "      <td>0.092096</td>\n",
       "      <td>0.00000</td>\n",
       "      <td>0.0</td>\n",
       "      <td>0.0</td>\n",
       "      <td>0.0</td>\n",
       "      <td>...</td>\n",
       "      <td>0.000000e+00</td>\n",
       "      <td>0.000000</td>\n",
       "      <td>0.000000</td>\n",
       "      <td>0.000000e+00</td>\n",
       "      <td>0.00000</td>\n",
       "      <td>0.0</td>\n",
       "      <td>0.0</td>\n",
       "      <td>0.0</td>\n",
       "      <td>0.0</td>\n",
       "      <td>0.0</td>\n",
       "    </tr>\n",
       "    <tr>\n",
       "      <th>3</th>\n",
       "      <td>0.0</td>\n",
       "      <td>0.0</td>\n",
       "      <td>0.0</td>\n",
       "      <td>0.00000</td>\n",
       "      <td>0.000000</td>\n",
       "      <td>0.000000</td>\n",
       "      <td>0.00000</td>\n",
       "      <td>0.0</td>\n",
       "      <td>0.0</td>\n",
       "      <td>0.0</td>\n",
       "      <td>...</td>\n",
       "      <td>4.513563e-07</td>\n",
       "      <td>0.033814</td>\n",
       "      <td>0.001271</td>\n",
       "      <td>0.000000e+00</td>\n",
       "      <td>0.00000</td>\n",
       "      <td>0.0</td>\n",
       "      <td>0.0</td>\n",
       "      <td>0.0</td>\n",
       "      <td>0.0</td>\n",
       "      <td>0.0</td>\n",
       "    </tr>\n",
       "    <tr>\n",
       "      <th>4</th>\n",
       "      <td>0.0</td>\n",
       "      <td>0.0</td>\n",
       "      <td>0.0</td>\n",
       "      <td>0.00025</td>\n",
       "      <td>0.052774</td>\n",
       "      <td>0.000018</td>\n",
       "      <td>0.00000</td>\n",
       "      <td>0.0</td>\n",
       "      <td>0.0</td>\n",
       "      <td>0.0</td>\n",
       "      <td>...</td>\n",
       "      <td>0.000000e+00</td>\n",
       "      <td>0.000020</td>\n",
       "      <td>0.002492</td>\n",
       "      <td>3.902047e-07</td>\n",
       "      <td>0.00000</td>\n",
       "      <td>0.0</td>\n",
       "      <td>0.0</td>\n",
       "      <td>0.0</td>\n",
       "      <td>0.0</td>\n",
       "      <td>0.0</td>\n",
       "    </tr>\n",
       "  </tbody>\n",
       "</table>\n",
       "<p>5 rows × 910 columns</p>\n",
       "</div>"
      ],
      "text/plain": [
       "   True_value  True_value  True_value  True_value  True_value  True_value  \\\n",
       "0         0.0         0.0         0.0     0.00000    0.098687    0.439687   \n",
       "1         0.0         0.0         0.0     0.00000    0.000280    0.191231   \n",
       "2         0.0         0.0         0.0     0.00000    0.017957    0.092096   \n",
       "3         0.0         0.0         0.0     0.00000    0.000000    0.000000   \n",
       "4         0.0         0.0         0.0     0.00025    0.052774    0.000018   \n",
       "\n",
       "   True_value  True_value  True_value  True_value  ...    True_value  \\\n",
       "0     0.00000         0.0         0.0         0.0  ...  0.000000e+00   \n",
       "1     0.00028         0.0         0.0         0.0  ...  0.000000e+00   \n",
       "2     0.00000         0.0         0.0         0.0  ...  0.000000e+00   \n",
       "3     0.00000         0.0         0.0         0.0  ...  4.513563e-07   \n",
       "4     0.00000         0.0         0.0         0.0  ...  0.000000e+00   \n",
       "\n",
       "   True_value  True_value    True_value  True_value  True_value  True_value  \\\n",
       "0    0.000000    0.000000  0.000000e+00     0.00000         0.0         0.0   \n",
       "1    0.000000    0.000000  2.406495e-01     0.41786         0.0         0.0   \n",
       "2    0.000000    0.000000  0.000000e+00     0.00000         0.0         0.0   \n",
       "3    0.033814    0.001271  0.000000e+00     0.00000         0.0         0.0   \n",
       "4    0.000020    0.002492  3.902047e-07     0.00000         0.0         0.0   \n",
       "\n",
       "   True_value  True_value  True_value  \n",
       "0         0.0         0.0         0.0  \n",
       "1         0.0         0.0         0.0  \n",
       "2         0.0         0.0         0.0  \n",
       "3         0.0         0.0         0.0  \n",
       "4         0.0         0.0         0.0  \n",
       "\n",
       "[5 rows x 910 columns]"
      ]
     },
     "execution_count": 20,
     "metadata": {},
     "output_type": "execute_result"
    }
   ],
   "source": [
    "True_values_df.head()"
   ]
  },
  {
   "cell_type": "code",
   "execution_count": 21,
   "id": "7bf2ce55-e613-440c-98df-b3137476fda8",
   "metadata": {},
   "outputs": [
    {
     "data": {
      "text/plain": [
       "(7, 910)"
      ]
     },
     "execution_count": 21,
     "metadata": {},
     "output_type": "execute_result"
    }
   ],
   "source": [
    "True_values_df.shape"
   ]
  },
  {
   "cell_type": "code",
   "execution_count": 22,
   "id": "18e0219e-ee9c-4e29-a372-2b6290708941",
   "metadata": {},
   "outputs": [],
   "source": [
    "# get the proper counts?\n",
    "exp_true = np.exp(True_values_df)-1"
   ]
  },
  {
   "cell_type": "code",
   "execution_count": 23,
   "id": "a7319ca1-7b28-41f3-8b38-11863c1835e5",
   "metadata": {},
   "outputs": [
    {
     "data": {
      "text/html": [
       "<div>\n",
       "<style scoped>\n",
       "    .dataframe tbody tr th:only-of-type {\n",
       "        vertical-align: middle;\n",
       "    }\n",
       "\n",
       "    .dataframe tbody tr th {\n",
       "        vertical-align: top;\n",
       "    }\n",
       "\n",
       "    .dataframe thead th {\n",
       "        text-align: right;\n",
       "    }\n",
       "</style>\n",
       "<table border=\"1\" class=\"dataframe\">\n",
       "  <thead>\n",
       "    <tr style=\"text-align: right;\">\n",
       "      <th></th>\n",
       "      <th>True_value</th>\n",
       "      <th>True_value</th>\n",
       "      <th>True_value</th>\n",
       "      <th>True_value</th>\n",
       "      <th>True_value</th>\n",
       "      <th>True_value</th>\n",
       "      <th>True_value</th>\n",
       "      <th>True_value</th>\n",
       "      <th>True_value</th>\n",
       "      <th>True_value</th>\n",
       "      <th>...</th>\n",
       "      <th>True_value</th>\n",
       "      <th>True_value</th>\n",
       "      <th>True_value</th>\n",
       "      <th>True_value</th>\n",
       "      <th>True_value</th>\n",
       "      <th>True_value</th>\n",
       "      <th>True_value</th>\n",
       "      <th>True_value</th>\n",
       "      <th>True_value</th>\n",
       "      <th>True_value</th>\n",
       "    </tr>\n",
       "  </thead>\n",
       "  <tbody>\n",
       "    <tr>\n",
       "      <th>0</th>\n",
       "      <td>0.0</td>\n",
       "      <td>0.0</td>\n",
       "      <td>0.0</td>\n",
       "      <td>0.000000e+00</td>\n",
       "      <td>0.103721</td>\n",
       "      <td>0.552221</td>\n",
       "      <td>0.00000</td>\n",
       "      <td>0.0</td>\n",
       "      <td>0.0</td>\n",
       "      <td>0.0</td>\n",
       "      <td>...</td>\n",
       "      <td>0.000000e+00</td>\n",
       "      <td>0.000000e+00</td>\n",
       "      <td>0.000000</td>\n",
       "      <td>0.000000e+00</td>\n",
       "      <td>0.000000</td>\n",
       "      <td>0.0</td>\n",
       "      <td>0.0</td>\n",
       "      <td>0.0</td>\n",
       "      <td>0.0</td>\n",
       "      <td>0.0</td>\n",
       "    </tr>\n",
       "    <tr>\n",
       "      <th>1</th>\n",
       "      <td>0.0</td>\n",
       "      <td>0.0</td>\n",
       "      <td>0.0</td>\n",
       "      <td>0.000000e+00</td>\n",
       "      <td>0.000280</td>\n",
       "      <td>0.210739</td>\n",
       "      <td>0.00028</td>\n",
       "      <td>0.0</td>\n",
       "      <td>0.0</td>\n",
       "      <td>0.0</td>\n",
       "      <td>...</td>\n",
       "      <td>0.000000e+00</td>\n",
       "      <td>0.000000e+00</td>\n",
       "      <td>0.000000</td>\n",
       "      <td>2.720751e-01</td>\n",
       "      <td>0.518708</td>\n",
       "      <td>0.0</td>\n",
       "      <td>0.0</td>\n",
       "      <td>0.0</td>\n",
       "      <td>0.0</td>\n",
       "      <td>0.0</td>\n",
       "    </tr>\n",
       "    <tr>\n",
       "      <th>2</th>\n",
       "      <td>0.0</td>\n",
       "      <td>0.0</td>\n",
       "      <td>0.0</td>\n",
       "      <td>0.000000e+00</td>\n",
       "      <td>0.018119</td>\n",
       "      <td>0.096470</td>\n",
       "      <td>0.00000</td>\n",
       "      <td>0.0</td>\n",
       "      <td>0.0</td>\n",
       "      <td>0.0</td>\n",
       "      <td>...</td>\n",
       "      <td>0.000000e+00</td>\n",
       "      <td>0.000000e+00</td>\n",
       "      <td>0.000000</td>\n",
       "      <td>0.000000e+00</td>\n",
       "      <td>0.000000</td>\n",
       "      <td>0.0</td>\n",
       "      <td>0.0</td>\n",
       "      <td>0.0</td>\n",
       "      <td>0.0</td>\n",
       "      <td>0.0</td>\n",
       "    </tr>\n",
       "    <tr>\n",
       "      <th>3</th>\n",
       "      <td>0.0</td>\n",
       "      <td>0.0</td>\n",
       "      <td>0.0</td>\n",
       "      <td>0.000000e+00</td>\n",
       "      <td>0.000000</td>\n",
       "      <td>0.000000</td>\n",
       "      <td>0.00000</td>\n",
       "      <td>0.0</td>\n",
       "      <td>0.0</td>\n",
       "      <td>0.0</td>\n",
       "      <td>...</td>\n",
       "      <td>4.513564e-07</td>\n",
       "      <td>3.439246e-02</td>\n",
       "      <td>0.001272</td>\n",
       "      <td>0.000000e+00</td>\n",
       "      <td>0.000000</td>\n",
       "      <td>0.0</td>\n",
       "      <td>0.0</td>\n",
       "      <td>0.0</td>\n",
       "      <td>0.0</td>\n",
       "      <td>0.0</td>\n",
       "    </tr>\n",
       "    <tr>\n",
       "      <th>4</th>\n",
       "      <td>0.0</td>\n",
       "      <td>0.0</td>\n",
       "      <td>0.0</td>\n",
       "      <td>2.504417e-04</td>\n",
       "      <td>0.054191</td>\n",
       "      <td>0.000018</td>\n",
       "      <td>0.00000</td>\n",
       "      <td>0.0</td>\n",
       "      <td>0.0</td>\n",
       "      <td>0.0</td>\n",
       "      <td>...</td>\n",
       "      <td>0.000000e+00</td>\n",
       "      <td>2.038446e-05</td>\n",
       "      <td>0.002495</td>\n",
       "      <td>3.902048e-07</td>\n",
       "      <td>0.000000</td>\n",
       "      <td>0.0</td>\n",
       "      <td>0.0</td>\n",
       "      <td>0.0</td>\n",
       "      <td>0.0</td>\n",
       "      <td>0.0</td>\n",
       "    </tr>\n",
       "    <tr>\n",
       "      <th>5</th>\n",
       "      <td>0.0</td>\n",
       "      <td>0.0</td>\n",
       "      <td>0.0</td>\n",
       "      <td>2.405033e-08</td>\n",
       "      <td>0.000154</td>\n",
       "      <td>0.000001</td>\n",
       "      <td>0.00000</td>\n",
       "      <td>0.0</td>\n",
       "      <td>0.0</td>\n",
       "      <td>0.0</td>\n",
       "      <td>...</td>\n",
       "      <td>0.000000e+00</td>\n",
       "      <td>0.000000e+00</td>\n",
       "      <td>0.000000</td>\n",
       "      <td>0.000000e+00</td>\n",
       "      <td>0.000000</td>\n",
       "      <td>0.0</td>\n",
       "      <td>0.0</td>\n",
       "      <td>0.0</td>\n",
       "      <td>0.0</td>\n",
       "      <td>0.0</td>\n",
       "    </tr>\n",
       "    <tr>\n",
       "      <th>6</th>\n",
       "      <td>0.0</td>\n",
       "      <td>0.0</td>\n",
       "      <td>0.0</td>\n",
       "      <td>0.000000e+00</td>\n",
       "      <td>0.000000</td>\n",
       "      <td>0.000000</td>\n",
       "      <td>0.00000</td>\n",
       "      <td>0.0</td>\n",
       "      <td>0.0</td>\n",
       "      <td>0.0</td>\n",
       "      <td>...</td>\n",
       "      <td>0.000000e+00</td>\n",
       "      <td>8.526243e-09</td>\n",
       "      <td>0.000650</td>\n",
       "      <td>2.402814e-05</td>\n",
       "      <td>0.000000</td>\n",
       "      <td>0.0</td>\n",
       "      <td>0.0</td>\n",
       "      <td>0.0</td>\n",
       "      <td>0.0</td>\n",
       "      <td>0.0</td>\n",
       "    </tr>\n",
       "  </tbody>\n",
       "</table>\n",
       "<p>7 rows × 910 columns</p>\n",
       "</div>"
      ],
      "text/plain": [
       "   True_value  True_value  True_value    True_value  True_value  True_value  \\\n",
       "0         0.0         0.0         0.0  0.000000e+00    0.103721    0.552221   \n",
       "1         0.0         0.0         0.0  0.000000e+00    0.000280    0.210739   \n",
       "2         0.0         0.0         0.0  0.000000e+00    0.018119    0.096470   \n",
       "3         0.0         0.0         0.0  0.000000e+00    0.000000    0.000000   \n",
       "4         0.0         0.0         0.0  2.504417e-04    0.054191    0.000018   \n",
       "5         0.0         0.0         0.0  2.405033e-08    0.000154    0.000001   \n",
       "6         0.0         0.0         0.0  0.000000e+00    0.000000    0.000000   \n",
       "\n",
       "   True_value  True_value  True_value  True_value  ...    True_value  \\\n",
       "0     0.00000         0.0         0.0         0.0  ...  0.000000e+00   \n",
       "1     0.00028         0.0         0.0         0.0  ...  0.000000e+00   \n",
       "2     0.00000         0.0         0.0         0.0  ...  0.000000e+00   \n",
       "3     0.00000         0.0         0.0         0.0  ...  4.513564e-07   \n",
       "4     0.00000         0.0         0.0         0.0  ...  0.000000e+00   \n",
       "5     0.00000         0.0         0.0         0.0  ...  0.000000e+00   \n",
       "6     0.00000         0.0         0.0         0.0  ...  0.000000e+00   \n",
       "\n",
       "     True_value  True_value    True_value  True_value  True_value  True_value  \\\n",
       "0  0.000000e+00    0.000000  0.000000e+00    0.000000         0.0         0.0   \n",
       "1  0.000000e+00    0.000000  2.720751e-01    0.518708         0.0         0.0   \n",
       "2  0.000000e+00    0.000000  0.000000e+00    0.000000         0.0         0.0   \n",
       "3  3.439246e-02    0.001272  0.000000e+00    0.000000         0.0         0.0   \n",
       "4  2.038446e-05    0.002495  3.902048e-07    0.000000         0.0         0.0   \n",
       "5  0.000000e+00    0.000000  0.000000e+00    0.000000         0.0         0.0   \n",
       "6  8.526243e-09    0.000650  2.402814e-05    0.000000         0.0         0.0   \n",
       "\n",
       "   True_value  True_value  True_value  \n",
       "0         0.0         0.0         0.0  \n",
       "1         0.0         0.0         0.0  \n",
       "2         0.0         0.0         0.0  \n",
       "3         0.0         0.0         0.0  \n",
       "4         0.0         0.0         0.0  \n",
       "5         0.0         0.0         0.0  \n",
       "6         0.0         0.0         0.0  \n",
       "\n",
       "[7 rows x 910 columns]"
      ]
     },
     "execution_count": 23,
     "metadata": {},
     "output_type": "execute_result"
    }
   ],
   "source": [
    "exp_true"
   ]
  },
  {
   "cell_type": "code",
   "execution_count": 24,
   "id": "fbc09b78-d34e-434e-8232-ee3be25766e9",
   "metadata": {},
   "outputs": [],
   "source": [
    "# sum the true values - since the sub images are not overlapping, we can get the sum across columns in the above dataframe\n",
    "sum_true_values = exp_true.sum(axis = 1)"
   ]
  },
  {
   "cell_type": "code",
   "execution_count": 25,
   "id": "6057a433-4dfb-4804-bbac-ea3dacce11e6",
   "metadata": {},
   "outputs": [
    {
     "data": {
      "text/plain": [
       "0    37.000000\n",
       "1    41.002058\n",
       "2    42.999998\n",
       "3    41.999955\n",
       "4    37.999999\n",
       "5    34.000000\n",
       "6    24.000000\n",
       "dtype: float64"
      ]
     },
     "execution_count": 25,
     "metadata": {},
     "output_type": "execute_result"
    }
   ],
   "source": [
    "sum_true_values"
   ]
  },
  {
   "cell_type": "code",
   "execution_count": 26,
   "id": "2fc2ac3e-59e7-4f27-91ab-31d30b4eeaa7",
   "metadata": {},
   "outputs": [],
   "source": [
    "# get the forecasted values\n",
    "Forecasted_values_df = combined_df[['Forecasted_value']]"
   ]
  },
  {
   "cell_type": "code",
   "execution_count": 27,
   "id": "4d4182a4-7ede-4ffc-b952-08aa47d424d0",
   "metadata": {},
   "outputs": [
    {
     "data": {
      "text/html": [
       "<div>\n",
       "<style scoped>\n",
       "    .dataframe tbody tr th:only-of-type {\n",
       "        vertical-align: middle;\n",
       "    }\n",
       "\n",
       "    .dataframe tbody tr th {\n",
       "        vertical-align: top;\n",
       "    }\n",
       "\n",
       "    .dataframe thead th {\n",
       "        text-align: right;\n",
       "    }\n",
       "</style>\n",
       "<table border=\"1\" class=\"dataframe\">\n",
       "  <thead>\n",
       "    <tr style=\"text-align: right;\">\n",
       "      <th></th>\n",
       "      <th>Forecasted_value</th>\n",
       "      <th>Forecasted_value</th>\n",
       "      <th>Forecasted_value</th>\n",
       "      <th>Forecasted_value</th>\n",
       "      <th>Forecasted_value</th>\n",
       "      <th>Forecasted_value</th>\n",
       "      <th>Forecasted_value</th>\n",
       "      <th>Forecasted_value</th>\n",
       "      <th>Forecasted_value</th>\n",
       "      <th>Forecasted_value</th>\n",
       "      <th>...</th>\n",
       "      <th>Forecasted_value</th>\n",
       "      <th>Forecasted_value</th>\n",
       "      <th>Forecasted_value</th>\n",
       "      <th>Forecasted_value</th>\n",
       "      <th>Forecasted_value</th>\n",
       "      <th>Forecasted_value</th>\n",
       "      <th>Forecasted_value</th>\n",
       "      <th>Forecasted_value</th>\n",
       "      <th>Forecasted_value</th>\n",
       "      <th>Forecasted_value</th>\n",
       "    </tr>\n",
       "  </thead>\n",
       "  <tbody>\n",
       "    <tr>\n",
       "      <th>0</th>\n",
       "      <td>-0.003918</td>\n",
       "      <td>-0.006743</td>\n",
       "      <td>-0.005412</td>\n",
       "      <td>-0.005279</td>\n",
       "      <td>0.019572</td>\n",
       "      <td>0.129428</td>\n",
       "      <td>0.100599</td>\n",
       "      <td>0.013736</td>\n",
       "      <td>-0.020370</td>\n",
       "      <td>-0.018660</td>\n",
       "      <td>...</td>\n",
       "      <td>-0.020659</td>\n",
       "      <td>0.007434</td>\n",
       "      <td>0.007388</td>\n",
       "      <td>-0.005319</td>\n",
       "      <td>-0.016101</td>\n",
       "      <td>-0.000748</td>\n",
       "      <td>-0.001173</td>\n",
       "      <td>-0.019170</td>\n",
       "      <td>-0.008012</td>\n",
       "      <td>-0.013050</td>\n",
       "    </tr>\n",
       "    <tr>\n",
       "      <th>1</th>\n",
       "      <td>0.000806</td>\n",
       "      <td>0.000342</td>\n",
       "      <td>-0.003876</td>\n",
       "      <td>-0.001987</td>\n",
       "      <td>0.065125</td>\n",
       "      <td>0.214281</td>\n",
       "      <td>0.134596</td>\n",
       "      <td>0.005965</td>\n",
       "      <td>-0.003301</td>\n",
       "      <td>0.005783</td>\n",
       "      <td>...</td>\n",
       "      <td>-0.014122</td>\n",
       "      <td>-0.026177</td>\n",
       "      <td>0.040500</td>\n",
       "      <td>-0.000953</td>\n",
       "      <td>-0.003309</td>\n",
       "      <td>0.002310</td>\n",
       "      <td>-0.002744</td>\n",
       "      <td>-0.016716</td>\n",
       "      <td>-0.009038</td>\n",
       "      <td>-0.017697</td>\n",
       "    </tr>\n",
       "    <tr>\n",
       "      <th>2</th>\n",
       "      <td>-0.000525</td>\n",
       "      <td>-0.007092</td>\n",
       "      <td>-0.006806</td>\n",
       "      <td>-0.010131</td>\n",
       "      <td>0.027200</td>\n",
       "      <td>0.257693</td>\n",
       "      <td>0.105670</td>\n",
       "      <td>0.013493</td>\n",
       "      <td>-0.006314</td>\n",
       "      <td>-0.002554</td>\n",
       "      <td>...</td>\n",
       "      <td>-0.010022</td>\n",
       "      <td>-0.018330</td>\n",
       "      <td>0.036326</td>\n",
       "      <td>-0.004063</td>\n",
       "      <td>-0.006094</td>\n",
       "      <td>-0.004447</td>\n",
       "      <td>-0.001238</td>\n",
       "      <td>-0.021435</td>\n",
       "      <td>-0.009584</td>\n",
       "      <td>-0.015251</td>\n",
       "    </tr>\n",
       "    <tr>\n",
       "      <th>3</th>\n",
       "      <td>-0.001494</td>\n",
       "      <td>0.001550</td>\n",
       "      <td>-0.006382</td>\n",
       "      <td>-0.003422</td>\n",
       "      <td>0.011647</td>\n",
       "      <td>-0.031428</td>\n",
       "      <td>0.016921</td>\n",
       "      <td>0.003104</td>\n",
       "      <td>-0.003398</td>\n",
       "      <td>0.023509</td>\n",
       "      <td>...</td>\n",
       "      <td>-0.005032</td>\n",
       "      <td>-0.023763</td>\n",
       "      <td>0.066993</td>\n",
       "      <td>-0.001629</td>\n",
       "      <td>0.000725</td>\n",
       "      <td>0.008786</td>\n",
       "      <td>-0.000404</td>\n",
       "      <td>-0.028629</td>\n",
       "      <td>-0.006577</td>\n",
       "      <td>-0.010325</td>\n",
       "    </tr>\n",
       "    <tr>\n",
       "      <th>4</th>\n",
       "      <td>-0.004485</td>\n",
       "      <td>0.000729</td>\n",
       "      <td>-0.004547</td>\n",
       "      <td>0.001520</td>\n",
       "      <td>0.051450</td>\n",
       "      <td>-0.068192</td>\n",
       "      <td>-0.022758</td>\n",
       "      <td>0.006454</td>\n",
       "      <td>-0.006448</td>\n",
       "      <td>0.008779</td>\n",
       "      <td>...</td>\n",
       "      <td>0.009325</td>\n",
       "      <td>0.000105</td>\n",
       "      <td>0.047923</td>\n",
       "      <td>-0.007696</td>\n",
       "      <td>-0.001269</td>\n",
       "      <td>0.003943</td>\n",
       "      <td>-0.001827</td>\n",
       "      <td>-0.012863</td>\n",
       "      <td>0.001267</td>\n",
       "      <td>-0.000991</td>\n",
       "    </tr>\n",
       "  </tbody>\n",
       "</table>\n",
       "<p>5 rows × 910 columns</p>\n",
       "</div>"
      ],
      "text/plain": [
       "   Forecasted_value  Forecasted_value  Forecasted_value  Forecasted_value  \\\n",
       "0         -0.003918         -0.006743         -0.005412         -0.005279   \n",
       "1          0.000806          0.000342         -0.003876         -0.001987   \n",
       "2         -0.000525         -0.007092         -0.006806         -0.010131   \n",
       "3         -0.001494          0.001550         -0.006382         -0.003422   \n",
       "4         -0.004485          0.000729         -0.004547          0.001520   \n",
       "\n",
       "   Forecasted_value  Forecasted_value  Forecasted_value  Forecasted_value  \\\n",
       "0          0.019572          0.129428          0.100599          0.013736   \n",
       "1          0.065125          0.214281          0.134596          0.005965   \n",
       "2          0.027200          0.257693          0.105670          0.013493   \n",
       "3          0.011647         -0.031428          0.016921          0.003104   \n",
       "4          0.051450         -0.068192         -0.022758          0.006454   \n",
       "\n",
       "   Forecasted_value  Forecasted_value  ...  Forecasted_value  \\\n",
       "0         -0.020370         -0.018660  ...         -0.020659   \n",
       "1         -0.003301          0.005783  ...         -0.014122   \n",
       "2         -0.006314         -0.002554  ...         -0.010022   \n",
       "3         -0.003398          0.023509  ...         -0.005032   \n",
       "4         -0.006448          0.008779  ...          0.009325   \n",
       "\n",
       "   Forecasted_value  Forecasted_value  Forecasted_value  Forecasted_value  \\\n",
       "0          0.007434          0.007388         -0.005319         -0.016101   \n",
       "1         -0.026177          0.040500         -0.000953         -0.003309   \n",
       "2         -0.018330          0.036326         -0.004063         -0.006094   \n",
       "3         -0.023763          0.066993         -0.001629          0.000725   \n",
       "4          0.000105          0.047923         -0.007696         -0.001269   \n",
       "\n",
       "   Forecasted_value  Forecasted_value  Forecasted_value  Forecasted_value  \\\n",
       "0         -0.000748         -0.001173         -0.019170         -0.008012   \n",
       "1          0.002310         -0.002744         -0.016716         -0.009038   \n",
       "2         -0.004447         -0.001238         -0.021435         -0.009584   \n",
       "3          0.008786         -0.000404         -0.028629         -0.006577   \n",
       "4          0.003943         -0.001827         -0.012863          0.001267   \n",
       "\n",
       "   Forecasted_value  \n",
       "0         -0.013050  \n",
       "1         -0.017697  \n",
       "2         -0.015251  \n",
       "3         -0.010325  \n",
       "4         -0.000991  \n",
       "\n",
       "[5 rows x 910 columns]"
      ]
     },
     "execution_count": 27,
     "metadata": {},
     "output_type": "execute_result"
    }
   ],
   "source": [
    "Forecasted_values_df.head()"
   ]
  },
  {
   "cell_type": "code",
   "execution_count": 28,
   "id": "c4e2130b-9b6b-40b7-9efe-4cd6cd30c107",
   "metadata": {},
   "outputs": [],
   "source": [
    "exp_forecasted = np.exp(Forecasted_values_df)-1"
   ]
  },
  {
   "cell_type": "code",
   "execution_count": 29,
   "id": "60cd0006-0367-436e-b3c8-282e12e01146",
   "metadata": {},
   "outputs": [
    {
     "data": {
      "text/html": [
       "<div>\n",
       "<style scoped>\n",
       "    .dataframe tbody tr th:only-of-type {\n",
       "        vertical-align: middle;\n",
       "    }\n",
       "\n",
       "    .dataframe tbody tr th {\n",
       "        vertical-align: top;\n",
       "    }\n",
       "\n",
       "    .dataframe thead th {\n",
       "        text-align: right;\n",
       "    }\n",
       "</style>\n",
       "<table border=\"1\" class=\"dataframe\">\n",
       "  <thead>\n",
       "    <tr style=\"text-align: right;\">\n",
       "      <th></th>\n",
       "      <th>Forecasted_value</th>\n",
       "      <th>Forecasted_value</th>\n",
       "      <th>Forecasted_value</th>\n",
       "      <th>Forecasted_value</th>\n",
       "      <th>Forecasted_value</th>\n",
       "      <th>Forecasted_value</th>\n",
       "      <th>Forecasted_value</th>\n",
       "      <th>Forecasted_value</th>\n",
       "      <th>Forecasted_value</th>\n",
       "      <th>Forecasted_value</th>\n",
       "      <th>...</th>\n",
       "      <th>Forecasted_value</th>\n",
       "      <th>Forecasted_value</th>\n",
       "      <th>Forecasted_value</th>\n",
       "      <th>Forecasted_value</th>\n",
       "      <th>Forecasted_value</th>\n",
       "      <th>Forecasted_value</th>\n",
       "      <th>Forecasted_value</th>\n",
       "      <th>Forecasted_value</th>\n",
       "      <th>Forecasted_value</th>\n",
       "      <th>Forecasted_value</th>\n",
       "    </tr>\n",
       "  </thead>\n",
       "  <tbody>\n",
       "    <tr>\n",
       "      <th>0</th>\n",
       "      <td>-0.003910</td>\n",
       "      <td>-0.006721</td>\n",
       "      <td>-0.005397</td>\n",
       "      <td>-0.005265</td>\n",
       "      <td>0.019765</td>\n",
       "      <td>0.138177</td>\n",
       "      <td>0.105834</td>\n",
       "      <td>0.013831</td>\n",
       "      <td>-0.020164</td>\n",
       "      <td>-0.018487</td>\n",
       "      <td>...</td>\n",
       "      <td>-0.020447</td>\n",
       "      <td>0.007461</td>\n",
       "      <td>0.007415</td>\n",
       "      <td>-0.005305</td>\n",
       "      <td>-0.015972</td>\n",
       "      <td>-0.000747</td>\n",
       "      <td>-0.001173</td>\n",
       "      <td>-0.018987</td>\n",
       "      <td>-0.007980</td>\n",
       "      <td>-0.012965</td>\n",
       "    </tr>\n",
       "    <tr>\n",
       "      <th>1</th>\n",
       "      <td>0.000806</td>\n",
       "      <td>0.000342</td>\n",
       "      <td>-0.003868</td>\n",
       "      <td>-0.001985</td>\n",
       "      <td>0.067292</td>\n",
       "      <td>0.238970</td>\n",
       "      <td>0.144074</td>\n",
       "      <td>0.005983</td>\n",
       "      <td>-0.003295</td>\n",
       "      <td>0.005800</td>\n",
       "      <td>...</td>\n",
       "      <td>-0.014023</td>\n",
       "      <td>-0.025837</td>\n",
       "      <td>0.041331</td>\n",
       "      <td>-0.000953</td>\n",
       "      <td>-0.003304</td>\n",
       "      <td>0.002313</td>\n",
       "      <td>-0.002740</td>\n",
       "      <td>-0.016577</td>\n",
       "      <td>-0.008997</td>\n",
       "      <td>-0.017542</td>\n",
       "    </tr>\n",
       "    <tr>\n",
       "      <th>2</th>\n",
       "      <td>-0.000525</td>\n",
       "      <td>-0.007066</td>\n",
       "      <td>-0.006783</td>\n",
       "      <td>-0.010080</td>\n",
       "      <td>0.027574</td>\n",
       "      <td>0.293941</td>\n",
       "      <td>0.111455</td>\n",
       "      <td>0.013584</td>\n",
       "      <td>-0.006294</td>\n",
       "      <td>-0.002550</td>\n",
       "      <td>...</td>\n",
       "      <td>-0.009972</td>\n",
       "      <td>-0.018163</td>\n",
       "      <td>0.036994</td>\n",
       "      <td>-0.004055</td>\n",
       "      <td>-0.006075</td>\n",
       "      <td>-0.004437</td>\n",
       "      <td>-0.001238</td>\n",
       "      <td>-0.021207</td>\n",
       "      <td>-0.009538</td>\n",
       "      <td>-0.015135</td>\n",
       "    </tr>\n",
       "    <tr>\n",
       "      <th>3</th>\n",
       "      <td>-0.001492</td>\n",
       "      <td>0.001551</td>\n",
       "      <td>-0.006361</td>\n",
       "      <td>-0.003417</td>\n",
       "      <td>0.011715</td>\n",
       "      <td>-0.030939</td>\n",
       "      <td>0.017065</td>\n",
       "      <td>0.003109</td>\n",
       "      <td>-0.003392</td>\n",
       "      <td>0.023787</td>\n",
       "      <td>...</td>\n",
       "      <td>-0.005020</td>\n",
       "      <td>-0.023482</td>\n",
       "      <td>0.069288</td>\n",
       "      <td>-0.001628</td>\n",
       "      <td>0.000725</td>\n",
       "      <td>0.008825</td>\n",
       "      <td>-0.000404</td>\n",
       "      <td>-0.028223</td>\n",
       "      <td>-0.006555</td>\n",
       "      <td>-0.010272</td>\n",
       "    </tr>\n",
       "    <tr>\n",
       "      <th>4</th>\n",
       "      <td>-0.004475</td>\n",
       "      <td>0.000730</td>\n",
       "      <td>-0.004536</td>\n",
       "      <td>0.001521</td>\n",
       "      <td>0.052797</td>\n",
       "      <td>-0.065919</td>\n",
       "      <td>-0.022501</td>\n",
       "      <td>0.006475</td>\n",
       "      <td>-0.006427</td>\n",
       "      <td>0.008817</td>\n",
       "      <td>...</td>\n",
       "      <td>0.009368</td>\n",
       "      <td>0.000105</td>\n",
       "      <td>0.049090</td>\n",
       "      <td>-0.007666</td>\n",
       "      <td>-0.001269</td>\n",
       "      <td>0.003950</td>\n",
       "      <td>-0.001826</td>\n",
       "      <td>-0.012781</td>\n",
       "      <td>0.001268</td>\n",
       "      <td>-0.000991</td>\n",
       "    </tr>\n",
       "    <tr>\n",
       "      <th>5</th>\n",
       "      <td>0.004617</td>\n",
       "      <td>0.004025</td>\n",
       "      <td>-0.002989</td>\n",
       "      <td>0.001887</td>\n",
       "      <td>0.024650</td>\n",
       "      <td>0.015965</td>\n",
       "      <td>0.037950</td>\n",
       "      <td>0.009713</td>\n",
       "      <td>-0.002971</td>\n",
       "      <td>0.026487</td>\n",
       "      <td>...</td>\n",
       "      <td>0.004013</td>\n",
       "      <td>0.006050</td>\n",
       "      <td>0.053588</td>\n",
       "      <td>-0.008403</td>\n",
       "      <td>0.004798</td>\n",
       "      <td>0.008904</td>\n",
       "      <td>-0.002674</td>\n",
       "      <td>0.000109</td>\n",
       "      <td>0.001148</td>\n",
       "      <td>-0.001968</td>\n",
       "    </tr>\n",
       "    <tr>\n",
       "      <th>6</th>\n",
       "      <td>0.001702</td>\n",
       "      <td>0.001989</td>\n",
       "      <td>-0.003055</td>\n",
       "      <td>-0.001877</td>\n",
       "      <td>0.019591</td>\n",
       "      <td>-0.030519</td>\n",
       "      <td>0.067686</td>\n",
       "      <td>0.013043</td>\n",
       "      <td>0.001303</td>\n",
       "      <td>0.022938</td>\n",
       "      <td>...</td>\n",
       "      <td>-0.000124</td>\n",
       "      <td>0.007552</td>\n",
       "      <td>0.041745</td>\n",
       "      <td>-0.000967</td>\n",
       "      <td>0.004252</td>\n",
       "      <td>0.000864</td>\n",
       "      <td>-0.004048</td>\n",
       "      <td>-0.004882</td>\n",
       "      <td>0.000541</td>\n",
       "      <td>-0.000194</td>\n",
       "    </tr>\n",
       "  </tbody>\n",
       "</table>\n",
       "<p>7 rows × 910 columns</p>\n",
       "</div>"
      ],
      "text/plain": [
       "   Forecasted_value  Forecasted_value  Forecasted_value  Forecasted_value  \\\n",
       "0         -0.003910         -0.006721         -0.005397         -0.005265   \n",
       "1          0.000806          0.000342         -0.003868         -0.001985   \n",
       "2         -0.000525         -0.007066         -0.006783         -0.010080   \n",
       "3         -0.001492          0.001551         -0.006361         -0.003417   \n",
       "4         -0.004475          0.000730         -0.004536          0.001521   \n",
       "5          0.004617          0.004025         -0.002989          0.001887   \n",
       "6          0.001702          0.001989         -0.003055         -0.001877   \n",
       "\n",
       "   Forecasted_value  Forecasted_value  Forecasted_value  Forecasted_value  \\\n",
       "0          0.019765          0.138177          0.105834          0.013831   \n",
       "1          0.067292          0.238970          0.144074          0.005983   \n",
       "2          0.027574          0.293941          0.111455          0.013584   \n",
       "3          0.011715         -0.030939          0.017065          0.003109   \n",
       "4          0.052797         -0.065919         -0.022501          0.006475   \n",
       "5          0.024650          0.015965          0.037950          0.009713   \n",
       "6          0.019591         -0.030519          0.067686          0.013043   \n",
       "\n",
       "   Forecasted_value  Forecasted_value  ...  Forecasted_value  \\\n",
       "0         -0.020164         -0.018487  ...         -0.020447   \n",
       "1         -0.003295          0.005800  ...         -0.014023   \n",
       "2         -0.006294         -0.002550  ...         -0.009972   \n",
       "3         -0.003392          0.023787  ...         -0.005020   \n",
       "4         -0.006427          0.008817  ...          0.009368   \n",
       "5         -0.002971          0.026487  ...          0.004013   \n",
       "6          0.001303          0.022938  ...         -0.000124   \n",
       "\n",
       "   Forecasted_value  Forecasted_value  Forecasted_value  Forecasted_value  \\\n",
       "0          0.007461          0.007415         -0.005305         -0.015972   \n",
       "1         -0.025837          0.041331         -0.000953         -0.003304   \n",
       "2         -0.018163          0.036994         -0.004055         -0.006075   \n",
       "3         -0.023482          0.069288         -0.001628          0.000725   \n",
       "4          0.000105          0.049090         -0.007666         -0.001269   \n",
       "5          0.006050          0.053588         -0.008403          0.004798   \n",
       "6          0.007552          0.041745         -0.000967          0.004252   \n",
       "\n",
       "   Forecasted_value  Forecasted_value  Forecasted_value  Forecasted_value  \\\n",
       "0         -0.000747         -0.001173         -0.018987         -0.007980   \n",
       "1          0.002313         -0.002740         -0.016577         -0.008997   \n",
       "2         -0.004437         -0.001238         -0.021207         -0.009538   \n",
       "3          0.008825         -0.000404         -0.028223         -0.006555   \n",
       "4          0.003950         -0.001826         -0.012781          0.001268   \n",
       "5          0.008904         -0.002674          0.000109          0.001148   \n",
       "6          0.000864         -0.004048         -0.004882          0.000541   \n",
       "\n",
       "   Forecasted_value  \n",
       "0         -0.012965  \n",
       "1         -0.017542  \n",
       "2         -0.015135  \n",
       "3         -0.010272  \n",
       "4         -0.000991  \n",
       "5         -0.001968  \n",
       "6         -0.000194  \n",
       "\n",
       "[7 rows x 910 columns]"
      ]
     },
     "execution_count": 29,
     "metadata": {},
     "output_type": "execute_result"
    }
   ],
   "source": [
    "exp_forecasted"
   ]
  },
  {
   "cell_type": "code",
   "execution_count": 30,
   "id": "cdc66bd6-b552-4dcd-9703-e07b035fb736",
   "metadata": {},
   "outputs": [],
   "source": [
    "# set the values to 0 if the forecasted count is negative?"
   ]
  },
  {
   "cell_type": "code",
   "execution_count": 31,
   "id": "56eddb77-a48e-409d-9684-10bb31132568",
   "metadata": {},
   "outputs": [],
   "source": [
    "exp_forecasted[exp_forecasted < 0] = 0"
   ]
  },
  {
   "cell_type": "code",
   "execution_count": 32,
   "id": "c96eedde-fcfa-4f54-b8cb-d5f5cb3d6493",
   "metadata": {},
   "outputs": [
    {
     "data": {
      "text/html": [
       "<div>\n",
       "<style scoped>\n",
       "    .dataframe tbody tr th:only-of-type {\n",
       "        vertical-align: middle;\n",
       "    }\n",
       "\n",
       "    .dataframe tbody tr th {\n",
       "        vertical-align: top;\n",
       "    }\n",
       "\n",
       "    .dataframe thead th {\n",
       "        text-align: right;\n",
       "    }\n",
       "</style>\n",
       "<table border=\"1\" class=\"dataframe\">\n",
       "  <thead>\n",
       "    <tr style=\"text-align: right;\">\n",
       "      <th></th>\n",
       "      <th>Forecasted_value</th>\n",
       "      <th>Forecasted_value</th>\n",
       "      <th>Forecasted_value</th>\n",
       "      <th>Forecasted_value</th>\n",
       "      <th>Forecasted_value</th>\n",
       "      <th>Forecasted_value</th>\n",
       "      <th>Forecasted_value</th>\n",
       "      <th>Forecasted_value</th>\n",
       "      <th>Forecasted_value</th>\n",
       "      <th>Forecasted_value</th>\n",
       "      <th>...</th>\n",
       "      <th>Forecasted_value</th>\n",
       "      <th>Forecasted_value</th>\n",
       "      <th>Forecasted_value</th>\n",
       "      <th>Forecasted_value</th>\n",
       "      <th>Forecasted_value</th>\n",
       "      <th>Forecasted_value</th>\n",
       "      <th>Forecasted_value</th>\n",
       "      <th>Forecasted_value</th>\n",
       "      <th>Forecasted_value</th>\n",
       "      <th>Forecasted_value</th>\n",
       "    </tr>\n",
       "  </thead>\n",
       "  <tbody>\n",
       "    <tr>\n",
       "      <th>0</th>\n",
       "      <td>0.000000</td>\n",
       "      <td>0.000000</td>\n",
       "      <td>0.0</td>\n",
       "      <td>0.000000</td>\n",
       "      <td>0.019765</td>\n",
       "      <td>0.138177</td>\n",
       "      <td>0.105834</td>\n",
       "      <td>0.013831</td>\n",
       "      <td>0.0</td>\n",
       "      <td>0.000000</td>\n",
       "      <td>...</td>\n",
       "      <td>0.000000</td>\n",
       "      <td>0.007461</td>\n",
       "      <td>0.007415</td>\n",
       "      <td>0.0</td>\n",
       "      <td>0.000000</td>\n",
       "      <td>0.000000</td>\n",
       "      <td>0.0</td>\n",
       "      <td>0.0</td>\n",
       "      <td>0.000000</td>\n",
       "      <td>0.0</td>\n",
       "    </tr>\n",
       "    <tr>\n",
       "      <th>1</th>\n",
       "      <td>0.000806</td>\n",
       "      <td>0.000342</td>\n",
       "      <td>0.0</td>\n",
       "      <td>0.000000</td>\n",
       "      <td>0.067292</td>\n",
       "      <td>0.238970</td>\n",
       "      <td>0.144074</td>\n",
       "      <td>0.005983</td>\n",
       "      <td>0.0</td>\n",
       "      <td>0.005800</td>\n",
       "      <td>...</td>\n",
       "      <td>0.000000</td>\n",
       "      <td>0.000000</td>\n",
       "      <td>0.041331</td>\n",
       "      <td>0.0</td>\n",
       "      <td>0.000000</td>\n",
       "      <td>0.002313</td>\n",
       "      <td>0.0</td>\n",
       "      <td>0.0</td>\n",
       "      <td>0.000000</td>\n",
       "      <td>0.0</td>\n",
       "    </tr>\n",
       "    <tr>\n",
       "      <th>2</th>\n",
       "      <td>0.000000</td>\n",
       "      <td>0.000000</td>\n",
       "      <td>0.0</td>\n",
       "      <td>0.000000</td>\n",
       "      <td>0.027574</td>\n",
       "      <td>0.293941</td>\n",
       "      <td>0.111455</td>\n",
       "      <td>0.013584</td>\n",
       "      <td>0.0</td>\n",
       "      <td>0.000000</td>\n",
       "      <td>...</td>\n",
       "      <td>0.000000</td>\n",
       "      <td>0.000000</td>\n",
       "      <td>0.036994</td>\n",
       "      <td>0.0</td>\n",
       "      <td>0.000000</td>\n",
       "      <td>0.000000</td>\n",
       "      <td>0.0</td>\n",
       "      <td>0.0</td>\n",
       "      <td>0.000000</td>\n",
       "      <td>0.0</td>\n",
       "    </tr>\n",
       "    <tr>\n",
       "      <th>3</th>\n",
       "      <td>0.000000</td>\n",
       "      <td>0.001551</td>\n",
       "      <td>0.0</td>\n",
       "      <td>0.000000</td>\n",
       "      <td>0.011715</td>\n",
       "      <td>0.000000</td>\n",
       "      <td>0.017065</td>\n",
       "      <td>0.003109</td>\n",
       "      <td>0.0</td>\n",
       "      <td>0.023787</td>\n",
       "      <td>...</td>\n",
       "      <td>0.000000</td>\n",
       "      <td>0.000000</td>\n",
       "      <td>0.069288</td>\n",
       "      <td>0.0</td>\n",
       "      <td>0.000725</td>\n",
       "      <td>0.008825</td>\n",
       "      <td>0.0</td>\n",
       "      <td>0.0</td>\n",
       "      <td>0.000000</td>\n",
       "      <td>0.0</td>\n",
       "    </tr>\n",
       "    <tr>\n",
       "      <th>4</th>\n",
       "      <td>0.000000</td>\n",
       "      <td>0.000730</td>\n",
       "      <td>0.0</td>\n",
       "      <td>0.001521</td>\n",
       "      <td>0.052797</td>\n",
       "      <td>0.000000</td>\n",
       "      <td>0.000000</td>\n",
       "      <td>0.006475</td>\n",
       "      <td>0.0</td>\n",
       "      <td>0.008817</td>\n",
       "      <td>...</td>\n",
       "      <td>0.009368</td>\n",
       "      <td>0.000105</td>\n",
       "      <td>0.049090</td>\n",
       "      <td>0.0</td>\n",
       "      <td>0.000000</td>\n",
       "      <td>0.003950</td>\n",
       "      <td>0.0</td>\n",
       "      <td>0.0</td>\n",
       "      <td>0.001268</td>\n",
       "      <td>0.0</td>\n",
       "    </tr>\n",
       "  </tbody>\n",
       "</table>\n",
       "<p>5 rows × 910 columns</p>\n",
       "</div>"
      ],
      "text/plain": [
       "   Forecasted_value  Forecasted_value  Forecasted_value  Forecasted_value  \\\n",
       "0          0.000000          0.000000               0.0          0.000000   \n",
       "1          0.000806          0.000342               0.0          0.000000   \n",
       "2          0.000000          0.000000               0.0          0.000000   \n",
       "3          0.000000          0.001551               0.0          0.000000   \n",
       "4          0.000000          0.000730               0.0          0.001521   \n",
       "\n",
       "   Forecasted_value  Forecasted_value  Forecasted_value  Forecasted_value  \\\n",
       "0          0.019765          0.138177          0.105834          0.013831   \n",
       "1          0.067292          0.238970          0.144074          0.005983   \n",
       "2          0.027574          0.293941          0.111455          0.013584   \n",
       "3          0.011715          0.000000          0.017065          0.003109   \n",
       "4          0.052797          0.000000          0.000000          0.006475   \n",
       "\n",
       "   Forecasted_value  Forecasted_value  ...  Forecasted_value  \\\n",
       "0               0.0          0.000000  ...          0.000000   \n",
       "1               0.0          0.005800  ...          0.000000   \n",
       "2               0.0          0.000000  ...          0.000000   \n",
       "3               0.0          0.023787  ...          0.000000   \n",
       "4               0.0          0.008817  ...          0.009368   \n",
       "\n",
       "   Forecasted_value  Forecasted_value  Forecasted_value  Forecasted_value  \\\n",
       "0          0.007461          0.007415               0.0          0.000000   \n",
       "1          0.000000          0.041331               0.0          0.000000   \n",
       "2          0.000000          0.036994               0.0          0.000000   \n",
       "3          0.000000          0.069288               0.0          0.000725   \n",
       "4          0.000105          0.049090               0.0          0.000000   \n",
       "\n",
       "   Forecasted_value  Forecasted_value  Forecasted_value  Forecasted_value  \\\n",
       "0          0.000000               0.0               0.0          0.000000   \n",
       "1          0.002313               0.0               0.0          0.000000   \n",
       "2          0.000000               0.0               0.0          0.000000   \n",
       "3          0.008825               0.0               0.0          0.000000   \n",
       "4          0.003950               0.0               0.0          0.001268   \n",
       "\n",
       "   Forecasted_value  \n",
       "0               0.0  \n",
       "1               0.0  \n",
       "2               0.0  \n",
       "3               0.0  \n",
       "4               0.0  \n",
       "\n",
       "[5 rows x 910 columns]"
      ]
     },
     "execution_count": 32,
     "metadata": {},
     "output_type": "execute_result"
    }
   ],
   "source": [
    "exp_forecasted.head()"
   ]
  },
  {
   "cell_type": "code",
   "execution_count": 33,
   "id": "92bcf82f-ca31-4b25-a919-c8d51d72cfa7",
   "metadata": {},
   "outputs": [],
   "source": [
    "sum_forecasted_values = exp_forecasted.sum(axis = 1)"
   ]
  },
  {
   "cell_type": "code",
   "execution_count": 34,
   "id": "7f0e1119-a3bd-4a52-ae36-afa2c2070e2b",
   "metadata": {},
   "outputs": [
    {
     "data": {
      "text/plain": [
       "0    28.112008\n",
       "1    28.192115\n",
       "2    30.449810\n",
       "3    26.434259\n",
       "4    22.404861\n",
       "5    28.054868\n",
       "6    26.720194\n",
       "dtype: float64"
      ]
     },
     "execution_count": 34,
     "metadata": {},
     "output_type": "execute_result"
    }
   ],
   "source": [
    "sum_forecasted_values"
   ]
  },
  {
   "cell_type": "code",
   "execution_count": 35,
   "id": "cbc06a7e-2dca-400d-9cea-d063c33a4442",
   "metadata": {},
   "outputs": [],
   "source": [
    "# concatenate the sum dataframes\n",
    "block_0304_true_and_forecasted_values_df = pd.concat((sum_true_values, sum_forecasted_values), axis = 1)"
   ]
  },
  {
   "cell_type": "code",
   "execution_count": 36,
   "id": "f667f3a6-d7f7-4e7c-a037-1e9541dd38bd",
   "metadata": {},
   "outputs": [],
   "source": [
    "block_0304_true_and_forecasted_values_df.columns = [\"True_count\", \"Forecasted_count\"]"
   ]
  },
  {
   "cell_type": "code",
   "execution_count": 37,
   "id": "d27b93db-c9e2-49ff-9003-9e4925de3179",
   "metadata": {},
   "outputs": [
    {
     "data": {
      "text/html": [
       "<div>\n",
       "<style scoped>\n",
       "    .dataframe tbody tr th:only-of-type {\n",
       "        vertical-align: middle;\n",
       "    }\n",
       "\n",
       "    .dataframe tbody tr th {\n",
       "        vertical-align: top;\n",
       "    }\n",
       "\n",
       "    .dataframe thead th {\n",
       "        text-align: right;\n",
       "    }\n",
       "</style>\n",
       "<table border=\"1\" class=\"dataframe\">\n",
       "  <thead>\n",
       "    <tr style=\"text-align: right;\">\n",
       "      <th></th>\n",
       "      <th>True_count</th>\n",
       "      <th>Forecasted_count</th>\n",
       "    </tr>\n",
       "  </thead>\n",
       "  <tbody>\n",
       "    <tr>\n",
       "      <th>0</th>\n",
       "      <td>37.000000</td>\n",
       "      <td>28.112008</td>\n",
       "    </tr>\n",
       "    <tr>\n",
       "      <th>1</th>\n",
       "      <td>41.002058</td>\n",
       "      <td>28.192115</td>\n",
       "    </tr>\n",
       "    <tr>\n",
       "      <th>2</th>\n",
       "      <td>42.999998</td>\n",
       "      <td>30.449810</td>\n",
       "    </tr>\n",
       "    <tr>\n",
       "      <th>3</th>\n",
       "      <td>41.999955</td>\n",
       "      <td>26.434259</td>\n",
       "    </tr>\n",
       "    <tr>\n",
       "      <th>4</th>\n",
       "      <td>37.999999</td>\n",
       "      <td>22.404861</td>\n",
       "    </tr>\n",
       "    <tr>\n",
       "      <th>5</th>\n",
       "      <td>34.000000</td>\n",
       "      <td>28.054868</td>\n",
       "    </tr>\n",
       "    <tr>\n",
       "      <th>6</th>\n",
       "      <td>24.000000</td>\n",
       "      <td>26.720194</td>\n",
       "    </tr>\n",
       "  </tbody>\n",
       "</table>\n",
       "</div>"
      ],
      "text/plain": [
       "   True_count  Forecasted_count\n",
       "0   37.000000         28.112008\n",
       "1   41.002058         28.192115\n",
       "2   42.999998         30.449810\n",
       "3   41.999955         26.434259\n",
       "4   37.999999         22.404861\n",
       "5   34.000000         28.054868\n",
       "6   24.000000         26.720194"
      ]
     },
     "execution_count": 37,
     "metadata": {},
     "output_type": "execute_result"
    }
   ],
   "source": [
    "block_0304_true_and_forecasted_values_df"
   ]
  },
  {
   "cell_type": "code",
   "execution_count": 38,
   "id": "636d512d-f76b-48dc-90f1-872dc6a32736",
   "metadata": {},
   "outputs": [
    {
     "data": {
      "text/plain": [
       "11.51918609052945"
      ]
     },
     "execution_count": 38,
     "metadata": {},
     "output_type": "execute_result"
    }
   ],
   "source": [
    "# blockwise mean squared error\n",
    "rmse = np.sqrt(mean_squared_error(sum_true_values, sum_forecasted_values))\n",
    "rmse"
   ]
  },
  {
   "cell_type": "code",
   "execution_count": 39,
   "id": "df568443-7d02-4ba8-ad0e-5d83f2576c8b",
   "metadata": {},
   "outputs": [
    {
     "data": {
      "text/plain": [
       "10.582040429676159"
      ]
     },
     "execution_count": 39,
     "metadata": {},
     "output_type": "execute_result"
    }
   ],
   "source": [
    "# blockwise mean absolute error\n",
    "mae = mean_absolute_error(sum_true_values, sum_forecasted_values)\n",
    "mae"
   ]
  },
  {
   "cell_type": "code",
   "execution_count": 40,
   "id": "24d1568b-1b0d-41db-a60b-cd864b46d6e7",
   "metadata": {},
   "outputs": [
    {
     "data": {
      "text/plain": [
       "PearsonRResult(statistic=0.19048122974219953, pvalue=0.682463404277226)"
      ]
     },
     "execution_count": 40,
     "metadata": {},
     "output_type": "execute_result"
    }
   ],
   "source": [
    "corr = pearsonr(sum_true_values, sum_forecasted_values)\n",
    "corr"
   ]
  },
  {
   "cell_type": "code",
   "execution_count": 41,
   "id": "cf8101a2-be23-4216-afd7-f7783e56f62d",
   "metadata": {},
   "outputs": [
    {
     "data": {
      "text/plain": [
       "-2.6280606707608727"
      ]
     },
     "execution_count": 41,
     "metadata": {},
     "output_type": "execute_result"
    }
   ],
   "source": [
    "r2 = r2_score(sum_true_values, sum_forecasted_values)\n",
    "r2"
   ]
  },
  {
   "cell_type": "markdown",
   "id": "fa460e4d-2fdc-45fb-8f50-6a50b0a6ef13",
   "metadata": {},
   "source": [
    "##### Coverages and widths for the forecasted values?"
   ]
  },
  {
   "cell_type": "code",
   "execution_count": 42,
   "id": "eae4e334-d06f-4950-b09e-ec34cb4f3eba",
   "metadata": {},
   "outputs": [],
   "source": [
    "# for this we need the all_forecasts npy files"
   ]
  },
  {
   "cell_type": "code",
   "execution_count": 43,
   "id": "1ec4f3fa-b7b0-4064-9007-4230b0e64f72",
   "metadata": {},
   "outputs": [],
   "source": [
    "# content location is the same path as above"
   ]
  },
  {
   "cell_type": "code",
   "execution_count": 44,
   "id": "febb8655-c529-4099-b22e-ee36918188d5",
   "metadata": {},
   "outputs": [],
   "source": [
    "all_forecasts_npy_files = ['all_forecasts_sub_' + str(i) + '.npy' for i in range(910)]"
   ]
  },
  {
   "cell_type": "code",
   "execution_count": 45,
   "id": "11eba5f0-5a18-4d7d-a743-d57bc9cf93a4",
   "metadata": {},
   "outputs": [],
   "source": [
    "# all_forecasts_npy_files"
   ]
  },
  {
   "cell_type": "code",
   "execution_count": 46,
   "id": "7711dd37-fd3c-4ac8-b8ae-b4be59dff7fa",
   "metadata": {},
   "outputs": [],
   "source": [
    "# load the npy files"
   ]
  },
  {
   "cell_type": "code",
   "execution_count": 47,
   "id": "57f059e1-25b1-4e6d-b370-9ca0236848ea",
   "metadata": {},
   "outputs": [
    {
     "name": "stdout",
     "output_type": "stream",
     "text": [
      "CPU times: user 263 ms, sys: 66.9 ms, total: 330 ms\n",
      "Wall time: 331 ms\n"
     ]
    }
   ],
   "source": [
    "%%time\n",
    "loaded_npy_files = []\n",
    "for file in all_forecasts_npy_files:\n",
    "    joined_path = os.path.join(path_to_dfs, file)\n",
    "    load_file = np.load(joined_path)\n",
    "    # notice we are averaging the preds across the chains before exponentiation\n",
    "    mean_file = np.exp(np.mean(load_file, axis = 1)) - 1\n",
    "    loaded_npy_files.append(mean_file)"
   ]
  },
  {
   "cell_type": "code",
   "execution_count": 48,
   "id": "78d4c420-8e99-4103-881e-297bc81f909d",
   "metadata": {},
   "outputs": [
    {
     "data": {
      "text/plain": [
       "910"
      ]
     },
     "execution_count": 48,
     "metadata": {},
     "output_type": "execute_result"
    }
   ],
   "source": [
    "len(loaded_npy_files)"
   ]
  },
  {
   "cell_type": "code",
   "execution_count": 49,
   "id": "3cc8627a-822a-4c8e-898a-52957870ccde",
   "metadata": {},
   "outputs": [
    {
     "data": {
      "text/plain": [
       "(1000, 7)"
      ]
     },
     "execution_count": 49,
     "metadata": {},
     "output_type": "execute_result"
    }
   ],
   "source": [
    "loaded_npy_files[0].shape"
   ]
  },
  {
   "cell_type": "code",
   "execution_count": 50,
   "id": "ab72ca92-e8f1-4ce3-9cea-117b673d4529",
   "metadata": {},
   "outputs": [
    {
     "data": {
      "text/plain": [
       "array([[-0.0082767 ,  0.00249529, -0.00760478, ..., -0.00506544,\n",
       "         0.00376976,  0.00653112],\n",
       "       [-0.00447482,  0.00145793, -0.00651479, ..., -0.0029071 ,\n",
       "         0.00468612,  0.0044322 ],\n",
       "       [-0.00565422,  0.00113809, -0.00724798, ..., -0.00422609,\n",
       "         0.00418723,  0.00569487],\n",
       "       ...,\n",
       "       [ 0.0050441 ,  0.00062704,  0.00420499, ..., -0.00478667,\n",
       "         0.01126373,  0.00197065],\n",
       "       [ 0.00042331,  0.00454569,  0.00433338, ..., -0.00623542,\n",
       "         0.00775123,  0.00153434],\n",
       "       [ 0.00463653,  0.00355673,  0.00139046, ..., -0.00433946,\n",
       "         0.01302254,  0.00155818]], dtype=float32)"
      ]
     },
     "execution_count": 50,
     "metadata": {},
     "output_type": "execute_result"
    }
   ],
   "source": [
    "loaded_npy_files[0]"
   ]
  },
  {
   "cell_type": "code",
   "execution_count": 51,
   "id": "53dd5c88-918c-46a0-b5ae-cb7c75895741",
   "metadata": {},
   "outputs": [
    {
     "name": "stdout",
     "output_type": "stream",
     "text": [
      "CPU times: user 21.4 ms, sys: 187 µs, total: 21.6 ms\n",
      "Wall time: 20.7 ms\n"
     ]
    }
   ],
   "source": [
    "%%time\n",
    "# convert less than 0 entries to 0 for all arrays\n",
    "for arr in loaded_npy_files:\n",
    "    arr[arr < 0] = 0"
   ]
  },
  {
   "cell_type": "code",
   "execution_count": 52,
   "id": "b20d4662-eefc-41bc-ac0a-25d0613fa00c",
   "metadata": {},
   "outputs": [
    {
     "data": {
      "text/plain": [
       "array([[0.        , 0.00249529, 0.        , ..., 0.        , 0.00376976,\n",
       "        0.00653112],\n",
       "       [0.        , 0.00145793, 0.        , ..., 0.        , 0.00468612,\n",
       "        0.0044322 ],\n",
       "       [0.        , 0.00113809, 0.        , ..., 0.        , 0.00418723,\n",
       "        0.00569487],\n",
       "       ...,\n",
       "       [0.0050441 , 0.00062704, 0.00420499, ..., 0.        , 0.01126373,\n",
       "        0.00197065],\n",
       "       [0.00042331, 0.00454569, 0.00433338, ..., 0.        , 0.00775123,\n",
       "        0.00153434],\n",
       "       [0.00463653, 0.00355673, 0.00139046, ..., 0.        , 0.01302254,\n",
       "        0.00155818]], dtype=float32)"
      ]
     },
     "execution_count": 52,
     "metadata": {},
     "output_type": "execute_result"
    }
   ],
   "source": [
    "loaded_npy_files[0]"
   ]
  },
  {
   "cell_type": "code",
   "execution_count": 53,
   "id": "f2474bdb-3a79-4436-83b1-2b3c3ac24a5c",
   "metadata": {},
   "outputs": [],
   "source": [
    "# Since we do not have overlapping sub-windows, we can sum the counts to get the final densities\n",
    "output = sum(loaded_npy_files)"
   ]
  },
  {
   "cell_type": "code",
   "execution_count": 54,
   "id": "d9038206-4f90-4001-9c3c-aee27d7d610c",
   "metadata": {},
   "outputs": [
    {
     "data": {
      "text/plain": [
       "(1000, 7)"
      ]
     },
     "execution_count": 54,
     "metadata": {},
     "output_type": "execute_result"
    }
   ],
   "source": [
    "output.shape"
   ]
  },
  {
   "cell_type": "code",
   "execution_count": 55,
   "id": "6116babf-18f2-4e39-9a72-150ccc4e6387",
   "metadata": {},
   "outputs": [
    {
     "data": {
      "text/plain": [
       "array([[39.55188 , 39.111507, 38.337597, ..., 32.095528, 32.913937,\n",
       "        31.076149],\n",
       "       [34.98513 , 32.240627, 37.051434, ..., 28.290043, 36.04046 ,\n",
       "        37.28688 ],\n",
       "       [37.423405, 37.27757 , 37.879116, ..., 28.40493 , 35.63922 ,\n",
       "        29.015818],\n",
       "       ...,\n",
       "       [36.29843 , 38.674   , 38.595062, ..., 39.575237, 41.422966,\n",
       "        46.697975],\n",
       "       [40.535675, 37.490578, 51.87737 , ..., 49.384483, 46.332237,\n",
       "        46.223392],\n",
       "       [34.19114 , 41.63202 , 50.512527, ..., 40.022263, 45.10713 ,\n",
       "        40.39373 ]], dtype=float32)"
      ]
     },
     "execution_count": 55,
     "metadata": {},
     "output_type": "execute_result"
    }
   ],
   "source": [
    "output"
   ]
  },
  {
   "cell_type": "code",
   "execution_count": 56,
   "id": "fbac31f0-215b-4e8b-8c13-2cd85e76a70f",
   "metadata": {},
   "outputs": [],
   "source": [
    "# is this sum correct? alternative method of computing the sums\n",
    "output_alt = np.sum(loaded_npy_files, axis = 0)"
   ]
  },
  {
   "cell_type": "code",
   "execution_count": 57,
   "id": "1198a1a0-14fc-4101-b4af-14a2c26dc0c5",
   "metadata": {},
   "outputs": [
    {
     "data": {
      "text/plain": [
       "(1000, 7)"
      ]
     },
     "execution_count": 57,
     "metadata": {},
     "output_type": "execute_result"
    }
   ],
   "source": [
    "output_alt.shape"
   ]
  },
  {
   "cell_type": "code",
   "execution_count": 58,
   "id": "23c6ebbe-2c27-47ff-8a5f-86491e58d899",
   "metadata": {},
   "outputs": [
    {
     "data": {
      "text/plain": [
       "array([[39.55188 , 39.111507, 38.337597, ..., 32.095528, 32.913937,\n",
       "        31.076149],\n",
       "       [34.98513 , 32.240627, 37.051434, ..., 28.290043, 36.04046 ,\n",
       "        37.28688 ],\n",
       "       [37.423405, 37.27757 , 37.879116, ..., 28.40493 , 35.63922 ,\n",
       "        29.015818],\n",
       "       ...,\n",
       "       [36.29843 , 38.674   , 38.595062, ..., 39.575237, 41.422966,\n",
       "        46.697975],\n",
       "       [40.535675, 37.490578, 51.87737 , ..., 49.384483, 46.332237,\n",
       "        46.223392],\n",
       "       [34.19114 , 41.63202 , 50.512527, ..., 40.022263, 45.10713 ,\n",
       "        40.39373 ]], dtype=float32)"
      ]
     },
     "execution_count": 58,
     "metadata": {},
     "output_type": "execute_result"
    }
   ],
   "source": [
    "output_alt"
   ]
  },
  {
   "cell_type": "code",
   "execution_count": 59,
   "id": "7b4a8d85-fe98-49c3-9a9f-51fbd90c5174",
   "metadata": {},
   "outputs": [
    {
     "data": {
      "text/plain": [
       "1.0"
      ]
     },
     "execution_count": 59,
     "metadata": {},
     "output_type": "execute_result"
    }
   ],
   "source": [
    "np.mean(output_alt == output)"
   ]
  },
  {
   "cell_type": "code",
   "execution_count": 60,
   "id": "ba6418a3-03f4-475a-b552-55a08048311f",
   "metadata": {},
   "outputs": [],
   "source": [
    "# verified the sum is correct, let's get the widths and the coverages - and also any essential plots"
   ]
  },
  {
   "cell_type": "code",
   "execution_count": 61,
   "id": "ca61eabc-63ed-4b74-b20a-61521b3751a6",
   "metadata": {},
   "outputs": [],
   "source": [
    "# now we can get the 2.5th abd the 97.5th percentiles - to get the coverage and the widths of the CIS\n",
    "li_train = np.percentile(output, axis = 0, q = (2.5, 97.5))[0,:].reshape(-1,1)    \n",
    "ui_train = np.percentile(output, axis = 0, q = (2.5, 97.5))[1,:].reshape(-1,1)"
   ]
  },
  {
   "cell_type": "code",
   "execution_count": 62,
   "id": "9cad5cca-320d-4e70-b204-e4dc52fb9d6d",
   "metadata": {},
   "outputs": [
    {
     "data": {
      "text/plain": [
       "array([[24.93893566],\n",
       "       [24.08101912],\n",
       "       [24.46120744],\n",
       "       [22.01342525],\n",
       "       [19.89144797],\n",
       "       [24.42917786],\n",
       "       [23.03888502]])"
      ]
     },
     "execution_count": 62,
     "metadata": {},
     "output_type": "execute_result"
    }
   ],
   "source": [
    "li_train"
   ]
  },
  {
   "cell_type": "code",
   "execution_count": 63,
   "id": "4e669c1d-0916-4e77-92e2-a1b1879834aa",
   "metadata": {},
   "outputs": [
    {
     "data": {
      "text/plain": [
       "array([[46.35133715],\n",
       "       [43.24156723],\n",
       "       [47.26127291],\n",
       "       [59.31909904],\n",
       "       [48.27215014],\n",
       "       [49.90798311],\n",
       "       [60.88781347]])"
      ]
     },
     "execution_count": 63,
     "metadata": {},
     "output_type": "execute_result"
    }
   ],
   "source": [
    "ui_train"
   ]
  },
  {
   "cell_type": "code",
   "execution_count": 64,
   "id": "4d51a483-bfe5-4cc6-a31f-813cb83d5540",
   "metadata": {},
   "outputs": [],
   "source": [
    "width_train = ui_train - li_train\n",
    "avg_width_train = width_train.mean(0)[0]"
   ]
  },
  {
   "cell_type": "code",
   "execution_count": 65,
   "id": "37b163bb-b24c-4af2-8f2b-19c78eb24ff9",
   "metadata": {},
   "outputs": [
    {
     "data": {
      "text/plain": [
       "27.483874961308068"
      ]
     },
     "execution_count": 65,
     "metadata": {},
     "output_type": "execute_result"
    }
   ],
   "source": [
    "avg_width_train"
   ]
  },
  {
   "cell_type": "code",
   "execution_count": 66,
   "id": "46d652b2-05be-44f9-bf0d-3ff69ad25fed",
   "metadata": {},
   "outputs": [],
   "source": [
    "y_traina = block_0304_true_and_forecasted_values_df[[\"True_count\"]].values"
   ]
  },
  {
   "cell_type": "code",
   "execution_count": 67,
   "id": "053c0783-3289-4068-9999-948c0f985fa1",
   "metadata": {},
   "outputs": [
    {
     "data": {
      "text/plain": [
       "array([[37.00000004],\n",
       "       [41.00205788],\n",
       "       [42.99999831],\n",
       "       [41.99995472],\n",
       "       [37.99999945],\n",
       "       [34.00000014],\n",
       "       [24.00000014]])"
      ]
     },
     "execution_count": 67,
     "metadata": {},
     "output_type": "execute_result"
    }
   ],
   "source": [
    "y_traina"
   ]
  },
  {
   "cell_type": "code",
   "execution_count": 68,
   "id": "5f1ba54d-0aca-494d-b741-b2cd6d00fcb3",
   "metadata": {},
   "outputs": [],
   "source": [
    "ind_train = (y_traina >= li_train) & (y_traina <= ui_train)\n",
    "coverage_train= ind_train.mean(0)[0]"
   ]
  },
  {
   "cell_type": "code",
   "execution_count": 69,
   "id": "66d5a7c9-0400-4f6f-9221-9cb9c7860d3c",
   "metadata": {},
   "outputs": [
    {
     "data": {
      "text/plain": [
       "1.0"
      ]
     },
     "execution_count": 69,
     "metadata": {},
     "output_type": "execute_result"
    }
   ],
   "source": [
    "coverage_train"
   ]
  },
  {
   "cell_type": "code",
   "execution_count": 70,
   "id": "ce86b870-01cf-4e10-904b-ef2396d2dc47",
   "metadata": {},
   "outputs": [
    {
     "data": {
      "text/plain": [
       "array([35.26827 , 33.268917, 35.26429 , 36.467262, 31.473557, 35.28134 ,\n",
       "       36.817566], dtype=float32)"
      ]
     },
     "execution_count": 70,
     "metadata": {},
     "output_type": "execute_result"
    }
   ],
   "source": [
    "np.mean(output, axis = 0)"
   ]
  },
  {
   "cell_type": "code",
   "execution_count": 71,
   "id": "311beb4f-6347-407c-af9b-bfe285361098",
   "metadata": {},
   "outputs": [
    {
     "data": {
      "text/plain": [
       "0    28.112008\n",
       "1    28.192115\n",
       "2    30.449810\n",
       "3    26.434259\n",
       "4    22.404861\n",
       "5    28.054868\n",
       "6    26.720194\n",
       "dtype: float64"
      ]
     },
     "execution_count": 71,
     "metadata": {},
     "output_type": "execute_result"
    }
   ],
   "source": [
    "sum_forecasted_values"
   ]
  },
  {
   "cell_type": "code",
   "execution_count": 72,
   "id": "0f94ff2b-6606-477b-a3a7-c3841f436c56",
   "metadata": {},
   "outputs": [
    {
     "data": {
      "image/png": "[encoded data removed]",
      "text/plain": [
       "<Figure size 640x480 with 1 Axes>"
      ]
     },
     "metadata": {},
     "output_type": "display_data"
    }
   ],
   "source": [
    "plt.scatter(block_0304_true_and_forecasted_values_df['True_count'], block_0304_true_and_forecasted_values_df['Forecasted_count'])\n",
    "plt.xlabel(\"True density\")\n",
    "plt.ylabel(\"Predicted density\")\n",
    "# Add the y = x line\n",
    "plt.plot([22, 43], [22, 43], color='green', label='y = x')\n",
    "plt.legend()\n",
    "plt.show()"
   ]
  },
  {
   "cell_type": "code",
   "execution_count": 73,
   "id": "04aa778d-3203-493f-a8d5-6c42cd0c540a",
   "metadata": {},
   "outputs": [
    {
     "data": {
      "image/png": "[encoded data removed]",
      "text/plain": [
       "<Figure size 1500x2000 with 8 Axes>"
      ]
     },
     "metadata": {},
     "output_type": "display_data"
    },
    {
     "name": "stdout",
     "output_type": "stream",
     "text": [
      "CPU times: user 26.7 s, sys: 810 ms, total: 27.5 s\n",
      "Wall time: 27.1 s\n"
     ]
    }
   ],
   "source": [
    "%%time\n",
    "# Create a 2x4 grid of subplots (total 8 plots, the last one will be left empty)\n",
    "fig, axes = plt.subplots(4, 2, figsize=(15,20))\n",
    "axes = axes.flatten() \n",
    "\n",
    "# widths plots\n",
    "for i in range(7):\n",
    "    timestep_i_subwindows = []\n",
    "    for y, file in enumerate(loaded_npy_files):\n",
    "        t_i_forecast = file[:,i]\n",
    "        # print the shape of the extracted array\n",
    "        # print(t_i_forecast.shape)\n",
    "        timestep_i_subwindows.append(t_i_forecast)\n",
    "    stacked_forecasts = np.stack(timestep_i_subwindows)\n",
    "    stacked_forecasts[stacked_forecasts<0] = 0\n",
    "    sorted_stacked_forecasts = np.sort(stacked_forecasts, axis = 1)\n",
    "    # get the values between the 2.5th and 97.5th percentile?\n",
    "    sorted_interval_data = sorted_stacked_forecasts[:,25:975]\n",
    "\n",
    "    # Plot for the current 2D array\n",
    "    for l, row in enumerate(sorted_interval_data):\n",
    "        axes[i].plot([l + 1] * len(row), row, 'o', markersize=1, color='teal', label='Distribution of forecasted values' if l == 0 else \"\")\n",
    "    \n",
    "    true_counts = exp_true.iloc[i,:].values\n",
    "\n",
    "    # # Overlay the 1D array values\n",
    "    axes[i].plot(np.arange(1, 911), true_counts, 'o', markersize=1, color='red', label='True density')\n",
    "    \n",
    "    # Customize x-ticks and labels\n",
    "    axes[i].set_xticks(np.arange(1, 911))\n",
    "    # axes[i].set_xticklabels([f'sub_window_{zz + 1}' for zz in range(910)], rotation=90, fontsize=13)\n",
    "    axes[i].set_xlabel(\"Sub windows\", fontsize=12, fontweight='bold')\n",
    "    axes[i].set_ylabel(\"Forecasted and true densities\", fontsize=12, fontweight='bold')\n",
    "    axes[i].set_title(f\"Test image {i + 1}\", fontsize=12, fontweight='bold')\n",
    "    axes[i].legend()\n",
    "\n",
    "\n",
    "# Hide the last (empty) subplot\n",
    "axes[-1].set_visible(False)\n",
    "\n",
    "# Adjust layout\n",
    "plt.tight_layout()\n",
    "\n",
    "# # Save the figure as a PDF file\n",
    "# plt.savefig(\"Previous_data/Forecasted_distributions_blk13.pdf\", format='pdf', bbox_inches='tight')\n",
    "plt.show()\n",
    "\n"
   ]
  },
  {
   "cell_type": "code",
   "execution_count": 74,
   "id": "b51d6a01-5c7a-4e37-be12-776053974e4d",
   "metadata": {},
   "outputs": [],
   "source": [
    "# plots are going to be too over-crowded as we now have 910 subwindows - might beed to talk to Dr. Ghosh to figure out a better way to give these plots"
   ]
  },
  {
   "cell_type": "code",
   "execution_count": 75,
   "id": "c278c7bc-eced-4cbb-ab5c-b5156fe33612",
   "metadata": {},
   "outputs": [],
   "source": [
    "# we may need to re-think about the way the average forecasts were computed. Maybe get the average after exponentiating than averaging all values to a single value and then exponentiating? this would be a few lines of codes - but may be a better way to get the forecated density values? "
   ]
  }
 ],
 "metadata": {
  "kernelspec": {
   "display_name": "Python (tfp_cpu_env)",
   "language": "python",
   "name": "tfp_cpu_env"
  },
  "language_info": {
   "codemirror_mode": {
    "name": "ipython",
    "version": 3
   },
   "file_extension": ".py",
   "mimetype": "text/x-python",
   "name": "python",
   "nbconvert_exporter": "python",
   "pygments_lexer": "ipython3",
   "version": "3.11.7"
  }
 },
 "nbformat": 4,
 "nbformat_minor": 5
}
