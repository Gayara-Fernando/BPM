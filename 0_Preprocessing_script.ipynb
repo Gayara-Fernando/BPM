{
 "cells": [
  {
   "cell_type": "code",
   "execution_count": 1,
   "id": "c56d1b35-225b-4e03-8ff2-55ff6d78f612",
   "metadata": {},
   "outputs": [],
   "source": [
    "# We will extract the predicted values from the trained models. Something to note here, with the relu activation and the current architecture of the model, this model gives 21 predicted features out of the 32 to be 0. We need to keep this in mind, and we may need to train better models in stage 1 as inputs in stage two needs to be precise inorder for the BLAR model to give accurate predictions. It might also make sense to look at the actual values to see if the problem is there"
   ]
  },
  {
   "cell_type": "code",
   "execution_count": 3,
   "id": "c0a490ba-1f76-4809-b566-184b0c1f545b",
   "metadata": {},
   "outputs": [],
   "source": [
    "import tensorflow as tf\n",
    "import numpy as np\n",
    "import os\n",
    "import pandas as pd\n",
    "import matplotlib.pyplot as plt"
   ]
  },
  {
   "cell_type": "markdown",
   "id": "9aa5bddb-494e-43a4-9034-d11fc5293314",
   "metadata": {},
   "source": [
    "Get predcited test features"
   ]
  },
  {
   "cell_type": "code",
   "execution_count": 7,
   "id": "dfb9307b-03c5-4932-8406-34b1f8af2d55",
   "metadata": {},
   "outputs": [],
   "source": [
    "# Locate the model\n",
    "model_1_non_overlapping = tf.keras.models.load_model('../CNN_seq2seq_model/models/CNN_seq2seq_non_overlapping.keras')"
   ]
  },
  {
   "cell_type": "code",
   "execution_count": 8,
   "id": "7f8b223a-d956-46c9-b3ab-8ed5f4fd9186",
   "metadata": {},
   "outputs": [
    {
     "name": "stdout",
     "output_type": "stream",
     "text": [
      "Model: \"model_2\"\n",
      "__________________________________________________________________________________________________\n",
      " Layer (type)                Output Shape                 Param #   Connected to                  \n",
      "==================================================================================================\n",
      " input_1 (InputLayer)        [(None, 13, None, None, 3)   0         []                            \n",
      "                             ]                                                                    \n",
      "                                                                                                  \n",
      " time_distributed (TimeDist  (None, 13, 32)               71808     ['input_1[0][0]']             \n",
      " ributed)                                                                                         \n",
      "                                                                                                  \n",
      " lstm (LSTM)                 [(None, 64),                 24832     ['time_distributed[0][0]']    \n",
      "                              (None, 64),                                                         \n",
      "                              (None, 64)]                                                         \n",
      "                                                                                                  \n",
      " repeat_vector (RepeatVecto  (None, 7, 64)                0         ['lstm[0][0]']                \n",
      " r)                                                                                               \n",
      "                                                                                                  \n",
      " lstm_1 (LSTM)               (None, 7, 64)                33024     ['repeat_vector[0][0]',       \n",
      "                                                                     'lstm[0][1]',                \n",
      "                                                                     'lstm[0][2]']                \n",
      "                                                                                                  \n",
      " time_distributed_1 (TimeDi  (None, 7, 32)                2080      ['lstm_1[0][0]']              \n",
      " stributed)                                                                                       \n",
      "                                                                                                  \n",
      "==================================================================================================\n",
      "Total params: 131744 (514.62 KB)\n",
      "Trainable params: 103104 (402.75 KB)\n",
      "Non-trainable params: 28640 (111.88 KB)\n",
      "__________________________________________________________________________________________________\n"
     ]
    }
   ],
   "source": [
    "model_1_non_overlapping.summary()"
   ]
  },
  {
   "cell_type": "code",
   "execution_count": 9,
   "id": "6e515249-c5de-464a-abe4-d7c65ae2087f",
   "metadata": {},
   "outputs": [],
   "source": [
    "# Where's the data that goes into the model?\n",
    "# input features\n",
    "input_features_loc = '../CNN_seq2seq_model/data/test_input_sub_images'\n",
    "input_contents = os.listdir(input_features_loc)\n",
    "input_contents.sort()"
   ]
  },
  {
   "cell_type": "code",
   "execution_count": 10,
   "id": "fbe5e46a-1962-49d6-9302-948bd100cdf0",
   "metadata": {},
   "outputs": [
    {
     "data": {
      "text/plain": [
       "['test_data_blk_0103.npy',\n",
       " 'test_data_blk_0104.npy',\n",
       " 'test_data_blk_0105.npy',\n",
       " 'test_data_blk_0106.npy',\n",
       " 'test_data_blk_0201.npy',\n",
       " 'test_data_blk_0202.npy',\n",
       " 'test_data_blk_0205.npy',\n",
       " 'test_data_blk_0206.npy',\n",
       " 'test_data_blk_0302.npy',\n",
       " 'test_data_blk_0303.npy',\n",
       " 'test_data_blk_0304.npy',\n",
       " 'test_data_blk_0305.npy',\n",
       " 'test_data_blk_0306.npy']"
      ]
     },
     "execution_count": 10,
     "metadata": {},
     "output_type": "execute_result"
    }
   ],
   "source": [
    "input_contents"
   ]
  },
  {
   "cell_type": "code",
   "execution_count": 11,
   "id": "7f8bf832-046a-46a6-b4bd-7b7fbb6e9b73",
   "metadata": {},
   "outputs": [],
   "source": [
    "# we need to first load the npy files, use the trained model to extract features, and store these so that can be used later along with the train features and the corresponding densities to train the BLAR model"
   ]
  },
  {
   "cell_type": "code",
   "execution_count": 14,
   "id": "a7137019-d606-4e0a-934a-e5ae3cf83ccf",
   "metadata": {},
   "outputs": [
    {
     "name": "stdout",
     "output_type": "stream",
     "text": [
      "(910, 13, 30, 30, 3)\n",
      "29/29 [==============================] - 0s 16ms/step\n",
      "(910, 7, 32)\n",
      "(910, 13, 30, 30, 3)\n",
      "29/29 [==============================] - 0s 16ms/step\n",
      "(910, 7, 32)\n",
      "(910, 13, 30, 30, 3)\n",
      "29/29 [==============================] - 0s 15ms/step\n",
      "(910, 7, 32)\n",
      "(910, 13, 30, 30, 3)\n",
      "29/29 [==============================] - 0s 16ms/step\n",
      "(910, 7, 32)\n",
      "(910, 13, 30, 30, 3)\n",
      "29/29 [==============================] - 0s 16ms/step\n",
      "(910, 7, 32)\n",
      "(910, 13, 30, 30, 3)\n",
      "29/29 [==============================] - 1s 16ms/step\n",
      "(910, 7, 32)\n",
      "(910, 13, 30, 30, 3)\n",
      "29/29 [==============================] - 1s 18ms/step\n",
      "(910, 7, 32)\n",
      "(910, 13, 30, 30, 3)\n",
      "29/29 [==============================] - 0s 16ms/step\n",
      "(910, 7, 32)\n",
      "(910, 13, 30, 30, 3)\n",
      "29/29 [==============================] - 1s 17ms/step\n",
      "(910, 7, 32)\n",
      "(910, 13, 30, 30, 3)\n",
      "29/29 [==============================] - 0s 15ms/step\n",
      "(910, 7, 32)\n",
      "(910, 13, 30, 30, 3)\n",
      "29/29 [==============================] - 0s 16ms/step\n",
      "(910, 7, 32)\n",
      "(910, 13, 30, 30, 3)\n",
      "29/29 [==============================] - 0s 16ms/step\n",
      "(910, 7, 32)\n",
      "(910, 13, 30, 30, 3)\n",
      "29/29 [==============================] - 1s 18ms/step\n",
      "(910, 7, 32)\n",
      "CPU times: user 53.9 s, sys: 3.05 s, total: 57 s\n",
      "Wall time: 10.4 s\n"
     ]
    }
   ],
   "source": [
    "%%time\n",
    "for_sanity_check = []\n",
    "for i in range(len(input_contents)):\n",
    "    # load the np file\n",
    "    load_np_file = np.load(os.path.join(input_features_loc, input_contents[i]))\n",
    "    # print shape of the loaded file\n",
    "    print(load_np_file.shape)\n",
    "    # predicted_values\n",
    "    predicted_values = model_1_non_overlapping.predict(load_np_file)\n",
    "    print(predicted_values.shape)\n",
    "    for_sanity_check.append(predicted_values)\n",
    "    # save these values?\n",
    "    # name\n",
    "    loc_name = 'data/predicted_sequences_from_stage_1/model_1/' + 'pred_values_blk_' + input_contents[i].split('.')[0][-4:] + '.npy'\n",
    "    np.save(loc_name, predicted_values)"
   ]
  },
  {
   "cell_type": "code",
   "execution_count": 15,
   "id": "3bb3a34a-1450-40be-aa46-b329bfe38ff1",
   "metadata": {},
   "outputs": [],
   "source": [
    "# perform a sanity check\n",
    "loc_path = 'data/predicted_sequences_from_stage_1/model_1/'"
   ]
  },
  {
   "cell_type": "code",
   "execution_count": 17,
   "id": "b50c6852-3ebc-46b5-9d04-85a2fc481579",
   "metadata": {},
   "outputs": [],
   "source": [
    "loc_contents = os.listdir(loc_path)\n",
    "loc_contents.sort()"
   ]
  },
  {
   "cell_type": "code",
   "execution_count": 18,
   "id": "25ff4975-e5ae-46d9-8f80-7b2eb4560178",
   "metadata": {},
   "outputs": [
    {
     "data": {
      "text/plain": [
       "['pred_values_blk_0103.npy',\n",
       " 'pred_values_blk_0104.npy',\n",
       " 'pred_values_blk_0105.npy',\n",
       " 'pred_values_blk_0106.npy',\n",
       " 'pred_values_blk_0201.npy',\n",
       " 'pred_values_blk_0202.npy',\n",
       " 'pred_values_blk_0205.npy',\n",
       " 'pred_values_blk_0206.npy',\n",
       " 'pred_values_blk_0302.npy',\n",
       " 'pred_values_blk_0303.npy',\n",
       " 'pred_values_blk_0304.npy',\n",
       " 'pred_values_blk_0305.npy',\n",
       " 'pred_values_blk_0306.npy']"
      ]
     },
     "execution_count": 18,
     "metadata": {},
     "output_type": "execute_result"
    }
   ],
   "source": [
    "loc_contents"
   ]
  },
  {
   "cell_type": "code",
   "execution_count": 20,
   "id": "f2e552c7-f7d5-41d2-aa11-b22ea96ab77c",
   "metadata": {},
   "outputs": [
    {
     "name": "stdout",
     "output_type": "stream",
     "text": [
      "1.0\n",
      "1.0\n",
      "1.0\n",
      "1.0\n",
      "1.0\n",
      "1.0\n",
      "1.0\n",
      "1.0\n",
      "1.0\n",
      "1.0\n",
      "1.0\n",
      "1.0\n",
      "1.0\n",
      "CPU times: user 13.9 ms, sys: 5.98 ms, total: 19.9 ms\n",
      "Wall time: 20.1 ms\n"
     ]
    }
   ],
   "source": [
    "%%time\n",
    "for i in range(len(loc_contents)):\n",
    "    load_stored_preds = np.load(os.path.join(loc_path, loc_contents[i]))\n",
    "    print(np.mean(load_stored_preds == for_sanity_check[i]))"
   ]
  },
  {
   "cell_type": "code",
   "execution_count": 21,
   "id": "bf0dca5f-203f-4d05-b280-5fa10fede244",
   "metadata": {},
   "outputs": [],
   "source": [
    "# We have correctly stored the predictions"
   ]
  },
  {
   "cell_type": "code",
   "execution_count": 22,
   "id": "1f25f478-006d-4fe6-8277-8bc889ea2715",
   "metadata": {},
   "outputs": [],
   "source": [
    "# now what about the actual targets? Should we take a look? Where are the targets?"
   ]
  },
  {
   "cell_type": "code",
   "execution_count": 23,
   "id": "a79d1a07-7ded-4cae-909f-c1627a39145f",
   "metadata": {},
   "outputs": [],
   "source": [
    "# test targets\n",
    "out_targets_loc = '../CNN_seq2seq_model/data/test_out_targets'\n",
    "out_contents = os.listdir(out_targets_loc)\n",
    "out_contents.sort()"
   ]
  },
  {
   "cell_type": "code",
   "execution_count": 24,
   "id": "64a66d66-5386-4694-96ba-753647168ecc",
   "metadata": {},
   "outputs": [
    {
     "data": {
      "text/plain": [
       "['test_targets_blk_0103.npy',\n",
       " 'test_targets_blk_0104.npy',\n",
       " 'test_targets_blk_0105.npy',\n",
       " 'test_targets_blk_0106.npy',\n",
       " 'test_targets_blk_0201.npy',\n",
       " 'test_targets_blk_0202.npy',\n",
       " 'test_targets_blk_0205.npy',\n",
       " 'test_targets_blk_0206.npy',\n",
       " 'test_targets_blk_0302.npy',\n",
       " 'test_targets_blk_0303.npy',\n",
       " 'test_targets_blk_0304.npy',\n",
       " 'test_targets_blk_0305.npy',\n",
       " 'test_targets_blk_0306.npy']"
      ]
     },
     "execution_count": 24,
     "metadata": {},
     "output_type": "execute_result"
    }
   ],
   "source": [
    "out_contents"
   ]
  },
  {
   "cell_type": "code",
   "execution_count": 25,
   "id": "c3567939-ad0b-40df-aa0b-0fa4a94176a4",
   "metadata": {},
   "outputs": [],
   "source": [
    "# just do this to one npy file\n",
    "true_targets_blk_0103 = np.load(os.path.join(out_targets_loc, out_contents[0]))"
   ]
  },
  {
   "cell_type": "code",
   "execution_count": 26,
   "id": "fa33cd42-70b8-4299-8cab-10f38239116e",
   "metadata": {},
   "outputs": [
    {
     "data": {
      "text/plain": [
       "(910, 7, 32)"
      ]
     },
     "execution_count": 26,
     "metadata": {},
     "output_type": "execute_result"
    }
   ],
   "source": [
    "true_targets_blk_0103.shape"
   ]
  },
  {
   "cell_type": "code",
   "execution_count": 27,
   "id": "e4d1d13a-feb1-4060-b5a3-ac396cf4164b",
   "metadata": {},
   "outputs": [],
   "source": [
    "test_in_0_true = true_targets_blk_0103[0,:,:]"
   ]
  },
  {
   "cell_type": "code",
   "execution_count": 28,
   "id": "a865ff13-2072-4585-b9a7-6098bcdd961f",
   "metadata": {},
   "outputs": [
    {
     "data": {
      "text/plain": [
       "(7, 32)"
      ]
     },
     "execution_count": 28,
     "metadata": {},
     "output_type": "execute_result"
    }
   ],
   "source": [
    "test_in_0_true.shape"
   ]
  },
  {
   "cell_type": "code",
   "execution_count": 33,
   "id": "64230e29-720f-4210-876c-a0529b867dec",
   "metadata": {},
   "outputs": [],
   "source": [
    "# Doesn't seem the true values are that different from the target values\n",
    "test_in_0_true_df = pd.DataFrame(test_in_0_true)"
   ]
  },
  {
   "cell_type": "code",
   "execution_count": 34,
   "id": "cfcd05ac-a035-4b48-9349-30f5cdc1f783",
   "metadata": {},
   "outputs": [
    {
     "data": {
      "text/html": [
       "<div>\n",
       "<style scoped>\n",
       "    .dataframe tbody tr th:only-of-type {\n",
       "        vertical-align: middle;\n",
       "    }\n",
       "\n",
       "    .dataframe tbody tr th {\n",
       "        vertical-align: top;\n",
       "    }\n",
       "\n",
       "    .dataframe thead th {\n",
       "        text-align: right;\n",
       "    }\n",
       "</style>\n",
       "<table border=\"1\" class=\"dataframe\">\n",
       "  <thead>\n",
       "    <tr style=\"text-align: right;\">\n",
       "      <th></th>\n",
       "      <th>0</th>\n",
       "      <th>1</th>\n",
       "      <th>2</th>\n",
       "      <th>3</th>\n",
       "      <th>4</th>\n",
       "      <th>5</th>\n",
       "      <th>6</th>\n",
       "      <th>7</th>\n",
       "      <th>8</th>\n",
       "      <th>9</th>\n",
       "      <th>10</th>\n",
       "      <th>11</th>\n",
       "      <th>12</th>\n",
       "      <th>13</th>\n",
       "      <th>14</th>\n",
       "      <th>15</th>\n",
       "      <th>16</th>\n",
       "      <th>17</th>\n",
       "      <th>18</th>\n",
       "      <th>19</th>\n",
       "      <th>20</th>\n",
       "      <th>21</th>\n",
       "      <th>22</th>\n",
       "      <th>23</th>\n",
       "      <th>24</th>\n",
       "      <th>25</th>\n",
       "      <th>26</th>\n",
       "      <th>27</th>\n",
       "      <th>28</th>\n",
       "      <th>29</th>\n",
       "      <th>30</th>\n",
       "      <th>31</th>\n",
       "    </tr>\n",
       "  </thead>\n",
       "  <tbody>\n",
       "    <tr>\n",
       "      <th>0</th>\n",
       "      <td>0.0</td>\n",
       "      <td>0.0</td>\n",
       "      <td>0.0</td>\n",
       "      <td>0.0</td>\n",
       "      <td>0.0</td>\n",
       "      <td>1.363772</td>\n",
       "      <td>0.0</td>\n",
       "      <td>1.245406</td>\n",
       "      <td>0.0</td>\n",
       "      <td>0.0</td>\n",
       "      <td>0.588365</td>\n",
       "      <td>0.0</td>\n",
       "      <td>0.0</td>\n",
       "      <td>1.617440</td>\n",
       "      <td>0.0</td>\n",
       "      <td>0.0</td>\n",
       "      <td>0.0</td>\n",
       "      <td>1.680196</td>\n",
       "      <td>0.0</td>\n",
       "      <td>1.591130</td>\n",
       "      <td>1.439219</td>\n",
       "      <td>0.0</td>\n",
       "      <td>0.0</td>\n",
       "      <td>0.0</td>\n",
       "      <td>1.391284</td>\n",
       "      <td>0.0</td>\n",
       "      <td>1.454950</td>\n",
       "      <td>0.0</td>\n",
       "      <td>0.0</td>\n",
       "      <td>1.398869</td>\n",
       "      <td>1.337006</td>\n",
       "      <td>0.0</td>\n",
       "    </tr>\n",
       "    <tr>\n",
       "      <th>1</th>\n",
       "      <td>0.0</td>\n",
       "      <td>0.0</td>\n",
       "      <td>0.0</td>\n",
       "      <td>0.0</td>\n",
       "      <td>0.0</td>\n",
       "      <td>1.441939</td>\n",
       "      <td>0.0</td>\n",
       "      <td>1.331630</td>\n",
       "      <td>0.0</td>\n",
       "      <td>0.0</td>\n",
       "      <td>0.619210</td>\n",
       "      <td>0.0</td>\n",
       "      <td>0.0</td>\n",
       "      <td>1.706845</td>\n",
       "      <td>0.0</td>\n",
       "      <td>0.0</td>\n",
       "      <td>0.0</td>\n",
       "      <td>1.776458</td>\n",
       "      <td>0.0</td>\n",
       "      <td>1.680459</td>\n",
       "      <td>1.531679</td>\n",
       "      <td>0.0</td>\n",
       "      <td>0.0</td>\n",
       "      <td>0.0</td>\n",
       "      <td>1.479376</td>\n",
       "      <td>0.0</td>\n",
       "      <td>1.534767</td>\n",
       "      <td>0.0</td>\n",
       "      <td>0.0</td>\n",
       "      <td>1.499093</td>\n",
       "      <td>1.433885</td>\n",
       "      <td>0.0</td>\n",
       "    </tr>\n",
       "    <tr>\n",
       "      <th>2</th>\n",
       "      <td>0.0</td>\n",
       "      <td>0.0</td>\n",
       "      <td>0.0</td>\n",
       "      <td>0.0</td>\n",
       "      <td>0.0</td>\n",
       "      <td>0.808372</td>\n",
       "      <td>0.0</td>\n",
       "      <td>0.736820</td>\n",
       "      <td>0.0</td>\n",
       "      <td>0.0</td>\n",
       "      <td>0.281132</td>\n",
       "      <td>0.0</td>\n",
       "      <td>0.0</td>\n",
       "      <td>0.956608</td>\n",
       "      <td>0.0</td>\n",
       "      <td>0.0</td>\n",
       "      <td>0.0</td>\n",
       "      <td>1.003784</td>\n",
       "      <td>0.0</td>\n",
       "      <td>0.946936</td>\n",
       "      <td>0.858345</td>\n",
       "      <td>0.0</td>\n",
       "      <td>0.0</td>\n",
       "      <td>0.0</td>\n",
       "      <td>0.834624</td>\n",
       "      <td>0.0</td>\n",
       "      <td>0.881518</td>\n",
       "      <td>0.0</td>\n",
       "      <td>0.0</td>\n",
       "      <td>0.832148</td>\n",
       "      <td>0.786650</td>\n",
       "      <td>0.0</td>\n",
       "    </tr>\n",
       "    <tr>\n",
       "      <th>3</th>\n",
       "      <td>0.0</td>\n",
       "      <td>0.0</td>\n",
       "      <td>0.0</td>\n",
       "      <td>0.0</td>\n",
       "      <td>0.0</td>\n",
       "      <td>1.388119</td>\n",
       "      <td>0.0</td>\n",
       "      <td>1.282966</td>\n",
       "      <td>0.0</td>\n",
       "      <td>0.0</td>\n",
       "      <td>0.592222</td>\n",
       "      <td>0.0</td>\n",
       "      <td>0.0</td>\n",
       "      <td>1.649319</td>\n",
       "      <td>0.0</td>\n",
       "      <td>0.0</td>\n",
       "      <td>0.0</td>\n",
       "      <td>1.724459</td>\n",
       "      <td>0.0</td>\n",
       "      <td>1.632454</td>\n",
       "      <td>1.477105</td>\n",
       "      <td>0.0</td>\n",
       "      <td>0.0</td>\n",
       "      <td>0.0</td>\n",
       "      <td>1.420537</td>\n",
       "      <td>0.0</td>\n",
       "      <td>1.487596</td>\n",
       "      <td>0.0</td>\n",
       "      <td>0.0</td>\n",
       "      <td>1.432754</td>\n",
       "      <td>1.372558</td>\n",
       "      <td>0.0</td>\n",
       "    </tr>\n",
       "    <tr>\n",
       "      <th>4</th>\n",
       "      <td>0.0</td>\n",
       "      <td>0.0</td>\n",
       "      <td>0.0</td>\n",
       "      <td>0.0</td>\n",
       "      <td>0.0</td>\n",
       "      <td>1.551632</td>\n",
       "      <td>0.0</td>\n",
       "      <td>1.410785</td>\n",
       "      <td>0.0</td>\n",
       "      <td>0.0</td>\n",
       "      <td>0.687335</td>\n",
       "      <td>0.0</td>\n",
       "      <td>0.0</td>\n",
       "      <td>1.841874</td>\n",
       "      <td>0.0</td>\n",
       "      <td>0.0</td>\n",
       "      <td>0.0</td>\n",
       "      <td>1.902592</td>\n",
       "      <td>0.0</td>\n",
       "      <td>1.817208</td>\n",
       "      <td>1.645934</td>\n",
       "      <td>0.0</td>\n",
       "      <td>0.0</td>\n",
       "      <td>0.0</td>\n",
       "      <td>1.588776</td>\n",
       "      <td>0.0</td>\n",
       "      <td>1.652073</td>\n",
       "      <td>0.0</td>\n",
       "      <td>0.0</td>\n",
       "      <td>1.603272</td>\n",
       "      <td>1.535132</td>\n",
       "      <td>0.0</td>\n",
       "    </tr>\n",
       "    <tr>\n",
       "      <th>5</th>\n",
       "      <td>0.0</td>\n",
       "      <td>0.0</td>\n",
       "      <td>0.0</td>\n",
       "      <td>0.0</td>\n",
       "      <td>0.0</td>\n",
       "      <td>0.964820</td>\n",
       "      <td>0.0</td>\n",
       "      <td>0.883131</td>\n",
       "      <td>0.0</td>\n",
       "      <td>0.0</td>\n",
       "      <td>0.364582</td>\n",
       "      <td>0.0</td>\n",
       "      <td>0.0</td>\n",
       "      <td>1.145905</td>\n",
       "      <td>0.0</td>\n",
       "      <td>0.0</td>\n",
       "      <td>0.0</td>\n",
       "      <td>1.191485</td>\n",
       "      <td>0.0</td>\n",
       "      <td>1.123184</td>\n",
       "      <td>1.018102</td>\n",
       "      <td>0.0</td>\n",
       "      <td>0.0</td>\n",
       "      <td>0.0</td>\n",
       "      <td>0.990711</td>\n",
       "      <td>0.0</td>\n",
       "      <td>1.039380</td>\n",
       "      <td>0.0</td>\n",
       "      <td>0.0</td>\n",
       "      <td>0.986390</td>\n",
       "      <td>0.937631</td>\n",
       "      <td>0.0</td>\n",
       "    </tr>\n",
       "    <tr>\n",
       "      <th>6</th>\n",
       "      <td>0.0</td>\n",
       "      <td>0.0</td>\n",
       "      <td>0.0</td>\n",
       "      <td>0.0</td>\n",
       "      <td>0.0</td>\n",
       "      <td>0.800389</td>\n",
       "      <td>0.0</td>\n",
       "      <td>0.752234</td>\n",
       "      <td>0.0</td>\n",
       "      <td>0.0</td>\n",
       "      <td>0.311395</td>\n",
       "      <td>0.0</td>\n",
       "      <td>0.0</td>\n",
       "      <td>0.974476</td>\n",
       "      <td>0.0</td>\n",
       "      <td>0.0</td>\n",
       "      <td>0.0</td>\n",
       "      <td>1.019076</td>\n",
       "      <td>0.0</td>\n",
       "      <td>0.967141</td>\n",
       "      <td>0.873649</td>\n",
       "      <td>0.0</td>\n",
       "      <td>0.0</td>\n",
       "      <td>0.0</td>\n",
       "      <td>0.829445</td>\n",
       "      <td>0.0</td>\n",
       "      <td>0.843752</td>\n",
       "      <td>0.0</td>\n",
       "      <td>0.0</td>\n",
       "      <td>0.841774</td>\n",
       "      <td>0.811647</td>\n",
       "      <td>0.0</td>\n",
       "    </tr>\n",
       "  </tbody>\n",
       "</table>\n",
       "</div>"
      ],
      "text/plain": [
       "    0    1    2    3    4         5    6         7    8    9         10   11  \\\n",
       "0  0.0  0.0  0.0  0.0  0.0  1.363772  0.0  1.245406  0.0  0.0  0.588365  0.0   \n",
       "1  0.0  0.0  0.0  0.0  0.0  1.441939  0.0  1.331630  0.0  0.0  0.619210  0.0   \n",
       "2  0.0  0.0  0.0  0.0  0.0  0.808372  0.0  0.736820  0.0  0.0  0.281132  0.0   \n",
       "3  0.0  0.0  0.0  0.0  0.0  1.388119  0.0  1.282966  0.0  0.0  0.592222  0.0   \n",
       "4  0.0  0.0  0.0  0.0  0.0  1.551632  0.0  1.410785  0.0  0.0  0.687335  0.0   \n",
       "5  0.0  0.0  0.0  0.0  0.0  0.964820  0.0  0.883131  0.0  0.0  0.364582  0.0   \n",
       "6  0.0  0.0  0.0  0.0  0.0  0.800389  0.0  0.752234  0.0  0.0  0.311395  0.0   \n",
       "\n",
       "    12        13   14   15   16        17   18        19        20   21   22  \\\n",
       "0  0.0  1.617440  0.0  0.0  0.0  1.680196  0.0  1.591130  1.439219  0.0  0.0   \n",
       "1  0.0  1.706845  0.0  0.0  0.0  1.776458  0.0  1.680459  1.531679  0.0  0.0   \n",
       "2  0.0  0.956608  0.0  0.0  0.0  1.003784  0.0  0.946936  0.858345  0.0  0.0   \n",
       "3  0.0  1.649319  0.0  0.0  0.0  1.724459  0.0  1.632454  1.477105  0.0  0.0   \n",
       "4  0.0  1.841874  0.0  0.0  0.0  1.902592  0.0  1.817208  1.645934  0.0  0.0   \n",
       "5  0.0  1.145905  0.0  0.0  0.0  1.191485  0.0  1.123184  1.018102  0.0  0.0   \n",
       "6  0.0  0.974476  0.0  0.0  0.0  1.019076  0.0  0.967141  0.873649  0.0  0.0   \n",
       "\n",
       "    23        24   25        26   27   28        29        30   31  \n",
       "0  0.0  1.391284  0.0  1.454950  0.0  0.0  1.398869  1.337006  0.0  \n",
       "1  0.0  1.479376  0.0  1.534767  0.0  0.0  1.499093  1.433885  0.0  \n",
       "2  0.0  0.834624  0.0  0.881518  0.0  0.0  0.832148  0.786650  0.0  \n",
       "3  0.0  1.420537  0.0  1.487596  0.0  0.0  1.432754  1.372558  0.0  \n",
       "4  0.0  1.588776  0.0  1.652073  0.0  0.0  1.603272  1.535132  0.0  \n",
       "5  0.0  0.990711  0.0  1.039380  0.0  0.0  0.986390  0.937631  0.0  \n",
       "6  0.0  0.829445  0.0  0.843752  0.0  0.0  0.841774  0.811647  0.0  "
      ]
     },
     "metadata": {},
     "output_type": "display_data"
    }
   ],
   "source": [
    "# display all coumns\n",
    "with pd.option_context('display.max_columns', None):\n",
    "    display(test_in_0_true_df)"
   ]
  },
  {
   "cell_type": "code",
   "execution_count": 35,
   "id": "2ae22699-4093-4a84-9465-9fd2736f7202",
   "metadata": {},
   "outputs": [
    {
     "name": "stdout",
     "output_type": "stream",
     "text": [
      "Number of all-zero columns: 21\n"
     ]
    }
   ],
   "source": [
    "zero_cols = (test_in_0_true_df == 0).all()\n",
    "num_zero_cols = zero_cols.sum()\n",
    "print(f\"Number of all-zero columns: {num_zero_cols}\")"
   ]
  },
  {
   "cell_type": "markdown",
   "id": "f8ec3a7f-b418-4aa5-bfec-049c7044e8a1",
   "metadata": {},
   "source": [
    "So both train and test data columns seem to have 21 zero columns - at the exact features. but how is this so different from our previous data? We may need to take a look at the earlier preprocessed data for this."
   ]
  }
 ],
 "metadata": {
  "kernelspec": {
   "display_name": "Python (tfp_cpu_env)",
   "language": "python",
   "name": "tfp_cpu_env"
  },
  "language_info": {
   "codemirror_mode": {
    "name": "ipython",
    "version": 3
   },
   "file_extension": ".py",
   "mimetype": "text/x-python",
   "name": "python",
   "nbconvert_exporter": "python",
   "pygments_lexer": "ipython3",
   "version": "3.11.7"
  }
 },
 "nbformat": 4,
 "nbformat_minor": 5
}
