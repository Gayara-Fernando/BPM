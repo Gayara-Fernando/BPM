{
 "cells": [
  {
   "cell_type": "code",
   "execution_count": 1,
   "id": "95479ff1-daa9-4a85-bee2-32d78b24506b",
   "metadata": {},
   "outputs": [],
   "source": [
    "import pandas as pd\n",
    "import numpy as np\n",
    "import matplotlib.pyplot as plt\n",
    "import os\n",
    "from sklearn.metrics import mean_absolute_error, mean_squared_error, r2_score\n",
    "from scipy.stats import pearsonr"
   ]
  },
  {
   "cell_type": "code",
   "execution_count": 2,
   "id": "d0c496d4-1b24-43dd-ab1b-b98d6eaef21b",
   "metadata": {},
   "outputs": [],
   "source": [
    "# path to dataframes\n",
    "path_to_dfs = \"data/BLAR_implementation/Block_0206/forecasted_counts/\""
   ]
  },
  {
   "cell_type": "code",
   "execution_count": 3,
   "id": "0c9c641d-4e5d-4c54-a235-c62cbdf13f8d",
   "metadata": {},
   "outputs": [],
   "source": [
    "# os.listdir(path_to_dfs)"
   ]
  },
  {
   "cell_type": "code",
   "execution_count": 4,
   "id": "5e5d1ebd-ac8c-4a2b-b33c-db3c4b477eae",
   "metadata": {},
   "outputs": [
    {
     "data": {
      "text/plain": [
       "6370"
      ]
     },
     "execution_count": 4,
     "metadata": {},
     "output_type": "execute_result"
    }
   ],
   "source": [
    "len(os.listdir(path_to_dfs))"
   ]
  },
  {
   "cell_type": "code",
   "execution_count": 5,
   "id": "ee1ecb73-f0a8-4c11-8030-f28f85cba5f1",
   "metadata": {},
   "outputs": [],
   "source": [
    "# work for files 604, and 659 were missing from the submitted jobs - these were later re-run again individually. 659 worked fine. for 604, it worked when the seed was changed"
   ]
  },
  {
   "cell_type": "code",
   "execution_count": 6,
   "id": "a0ac81e1-3049-44de-a2bf-4bf5a274ba45",
   "metadata": {},
   "outputs": [],
   "source": [
    "# seems each sub-window sequence have 7 things stored - what are all these?\n",
    "\n",
    "# the forecasted npy files\n",
    "# ar_sigma\n",
    "# noise_sigma\n",
    "# betas\n",
    "# rho\n",
    "# averaged forecasts\n",
    "# posterior parameter summaries - might need to pay a little attention here, the r_hat values are too high - think this should vary around 1? - but almost all the values are greater than 2."
   ]
  },
  {
   "cell_type": "code",
   "execution_count": 7,
   "id": "f9a4f497-2d9d-4b5c-9169-46b6ae6b9977",
   "metadata": {},
   "outputs": [],
   "source": [
    "averaged_forecasts_csvs = []\n",
    "for file in os.listdir(path_to_dfs):\n",
    "    if file[:8] =='averaged':\n",
    "        averaged_forecasts_csvs.append(file)"
   ]
  },
  {
   "cell_type": "code",
   "execution_count": 8,
   "id": "094e9614-b16f-45a2-aafc-d7884678eb44",
   "metadata": {},
   "outputs": [
    {
     "data": {
      "text/plain": [
       "910"
      ]
     },
     "execution_count": 8,
     "metadata": {},
     "output_type": "execute_result"
    }
   ],
   "source": [
    "# how many csv files do we have?\n",
    "len(averaged_forecasts_csvs)"
   ]
  },
  {
   "cell_type": "code",
   "execution_count": 9,
   "id": "7eca928b-bdbd-4d00-9eb1-8a808db7123e",
   "metadata": {},
   "outputs": [],
   "source": [
    "# averaged_forecasts_csvs - we probably need these in order for getting the respective predicted values"
   ]
  },
  {
   "cell_type": "code",
   "execution_count": 10,
   "id": "d0e11c68-824a-41ea-bf6b-65f53103343f",
   "metadata": {},
   "outputs": [
    {
     "data": {
      "text/plain": [
       "'averaged_forecasts_sub_653.csv'"
      ]
     },
     "execution_count": 10,
     "metadata": {},
     "output_type": "execute_result"
    }
   ],
   "source": [
    "averaged_forecasts_csvs[0]"
   ]
  },
  {
   "cell_type": "code",
   "execution_count": 11,
   "id": "f1f9e7be-53a6-4f38-b389-045d898b14ef",
   "metadata": {},
   "outputs": [],
   "source": [
    "# sorting them would not work as everything in the nomenclature of the files is a character - hence will not respect the numerical order"
   ]
  },
  {
   "cell_type": "code",
   "execution_count": 12,
   "id": "3cf616ee-4b4e-4ad9-ac1b-20aba081bfc5",
   "metadata": {},
   "outputs": [],
   "source": [
    "# let's create these names in the order of the subwindows\n",
    "ordered_csv_files = ['averaged_forecasts_sub_' + str(i) + '.csv' for i in range(910)]"
   ]
  },
  {
   "cell_type": "code",
   "execution_count": 13,
   "id": "7ac08389-4437-448b-b8a8-317cd0a9bf8e",
   "metadata": {},
   "outputs": [],
   "source": [
    "# ordered_csv_files"
   ]
  },
  {
   "cell_type": "code",
   "execution_count": 14,
   "id": "e74425d7-b613-44cf-96dd-df4298cef947",
   "metadata": {},
   "outputs": [],
   "source": [
    "# averaged_forecasts_csvs list is pointless at this time?"
   ]
  },
  {
   "cell_type": "code",
   "execution_count": 15,
   "id": "9a94c9ec-57cc-42fa-ad71-26639da44cb7",
   "metadata": {},
   "outputs": [
    {
     "name": "stdout",
     "output_type": "stream",
     "text": [
      "CPU times: user 452 ms, sys: 8.51 ms, total: 460 ms\n",
      "Wall time: 462 ms\n"
     ]
    }
   ],
   "source": [
    "%%time\n",
    "all_dfs = []\n",
    "for file in ordered_csv_files:\n",
    "    read_df = pd.read_csv(path_to_dfs + '/' + file)\n",
    "    all_dfs.append(read_df)"
   ]
  },
  {
   "cell_type": "code",
   "execution_count": 16,
   "id": "c04b6062-8fc9-4f3e-87f2-2a8e9abac16f",
   "metadata": {},
   "outputs": [],
   "source": [
    "# make a single dataframe out of the many\n",
    "combined_df = pd.concat(all_dfs, axis = 1)"
   ]
  },
  {
   "cell_type": "code",
   "execution_count": 17,
   "id": "5671cc95-7ba6-47bc-8da8-47ba9d3f36e3",
   "metadata": {},
   "outputs": [
    {
     "data": {
      "text/html": [
       "<div>\n",
       "<style scoped>\n",
       "    .dataframe tbody tr th:only-of-type {\n",
       "        vertical-align: middle;\n",
       "    }\n",
       "\n",
       "    .dataframe tbody tr th {\n",
       "        vertical-align: top;\n",
       "    }\n",
       "\n",
       "    .dataframe thead th {\n",
       "        text-align: right;\n",
       "    }\n",
       "</style>\n",
       "<table border=\"1\" class=\"dataframe\">\n",
       "  <thead>\n",
       "    <tr style=\"text-align: right;\">\n",
       "      <th></th>\n",
       "      <th>True_value</th>\n",
       "      <th>Forecasted_value</th>\n",
       "      <th>True_value</th>\n",
       "      <th>Forecasted_value</th>\n",
       "      <th>True_value</th>\n",
       "      <th>Forecasted_value</th>\n",
       "      <th>True_value</th>\n",
       "      <th>Forecasted_value</th>\n",
       "      <th>True_value</th>\n",
       "      <th>Forecasted_value</th>\n",
       "      <th>...</th>\n",
       "      <th>True_value</th>\n",
       "      <th>Forecasted_value</th>\n",
       "      <th>True_value</th>\n",
       "      <th>Forecasted_value</th>\n",
       "      <th>True_value</th>\n",
       "      <th>Forecasted_value</th>\n",
       "      <th>True_value</th>\n",
       "      <th>Forecasted_value</th>\n",
       "      <th>True_value</th>\n",
       "      <th>Forecasted_value</th>\n",
       "    </tr>\n",
       "  </thead>\n",
       "  <tbody>\n",
       "    <tr>\n",
       "      <th>0</th>\n",
       "      <td>0.000668</td>\n",
       "      <td>-0.007574</td>\n",
       "      <td>0.687456</td>\n",
       "      <td>0.004151</td>\n",
       "      <td>0.002492</td>\n",
       "      <td>0.062060</td>\n",
       "      <td>0.026866</td>\n",
       "      <td>-0.034676</td>\n",
       "      <td>0.387143</td>\n",
       "      <td>0.094574</td>\n",
       "      <td>...</td>\n",
       "      <td>0.0</td>\n",
       "      <td>-0.002634</td>\n",
       "      <td>0.0</td>\n",
       "      <td>0.004338</td>\n",
       "      <td>0.0</td>\n",
       "      <td>-0.007307</td>\n",
       "      <td>0.0</td>\n",
       "      <td>0.000937</td>\n",
       "      <td>0.0</td>\n",
       "      <td>-0.004733</td>\n",
       "    </tr>\n",
       "    <tr>\n",
       "      <th>1</th>\n",
       "      <td>0.000000</td>\n",
       "      <td>-0.013780</td>\n",
       "      <td>0.000078</td>\n",
       "      <td>-0.008567</td>\n",
       "      <td>0.402709</td>\n",
       "      <td>0.063646</td>\n",
       "      <td>0.004043</td>\n",
       "      <td>-0.010617</td>\n",
       "      <td>0.000066</td>\n",
       "      <td>0.094666</td>\n",
       "      <td>...</td>\n",
       "      <td>0.0</td>\n",
       "      <td>-0.006704</td>\n",
       "      <td>0.0</td>\n",
       "      <td>0.000421</td>\n",
       "      <td>0.0</td>\n",
       "      <td>-0.007599</td>\n",
       "      <td>0.0</td>\n",
       "      <td>0.020952</td>\n",
       "      <td>0.0</td>\n",
       "      <td>-0.000377</td>\n",
       "    </tr>\n",
       "    <tr>\n",
       "      <th>2</th>\n",
       "      <td>0.000000</td>\n",
       "      <td>-0.008464</td>\n",
       "      <td>0.000322</td>\n",
       "      <td>-0.009581</td>\n",
       "      <td>0.679359</td>\n",
       "      <td>0.051287</td>\n",
       "      <td>0.004485</td>\n",
       "      <td>-0.011375</td>\n",
       "      <td>0.000000</td>\n",
       "      <td>0.103627</td>\n",
       "      <td>...</td>\n",
       "      <td>0.0</td>\n",
       "      <td>-0.004567</td>\n",
       "      <td>0.0</td>\n",
       "      <td>-0.006995</td>\n",
       "      <td>0.0</td>\n",
       "      <td>-0.012070</td>\n",
       "      <td>0.0</td>\n",
       "      <td>0.006679</td>\n",
       "      <td>0.0</td>\n",
       "      <td>-0.002858</td>\n",
       "    </tr>\n",
       "    <tr>\n",
       "      <th>3</th>\n",
       "      <td>0.000000</td>\n",
       "      <td>0.000206</td>\n",
       "      <td>0.007729</td>\n",
       "      <td>-0.007301</td>\n",
       "      <td>0.014685</td>\n",
       "      <td>0.036077</td>\n",
       "      <td>0.000000</td>\n",
       "      <td>0.004675</td>\n",
       "      <td>0.000000</td>\n",
       "      <td>0.109277</td>\n",
       "      <td>...</td>\n",
       "      <td>0.0</td>\n",
       "      <td>0.001867</td>\n",
       "      <td>0.0</td>\n",
       "      <td>0.002079</td>\n",
       "      <td>0.0</td>\n",
       "      <td>-0.000253</td>\n",
       "      <td>0.0</td>\n",
       "      <td>0.010190</td>\n",
       "      <td>0.0</td>\n",
       "      <td>-0.000558</td>\n",
       "    </tr>\n",
       "    <tr>\n",
       "      <th>4</th>\n",
       "      <td>0.000000</td>\n",
       "      <td>-0.004801</td>\n",
       "      <td>0.000000</td>\n",
       "      <td>-0.010896</td>\n",
       "      <td>0.000000</td>\n",
       "      <td>0.070642</td>\n",
       "      <td>0.000000</td>\n",
       "      <td>0.007973</td>\n",
       "      <td>0.000000</td>\n",
       "      <td>0.100701</td>\n",
       "      <td>...</td>\n",
       "      <td>0.0</td>\n",
       "      <td>0.006470</td>\n",
       "      <td>0.0</td>\n",
       "      <td>-0.001759</td>\n",
       "      <td>0.0</td>\n",
       "      <td>0.002579</td>\n",
       "      <td>0.0</td>\n",
       "      <td>-0.002977</td>\n",
       "      <td>0.0</td>\n",
       "      <td>0.000461</td>\n",
       "    </tr>\n",
       "  </tbody>\n",
       "</table>\n",
       "<p>5 rows × 1820 columns</p>\n",
       "</div>"
      ],
      "text/plain": [
       "   True_value  Forecasted_value  True_value  Forecasted_value  True_value  \\\n",
       "0    0.000668         -0.007574    0.687456          0.004151    0.002492   \n",
       "1    0.000000         -0.013780    0.000078         -0.008567    0.402709   \n",
       "2    0.000000         -0.008464    0.000322         -0.009581    0.679359   \n",
       "3    0.000000          0.000206    0.007729         -0.007301    0.014685   \n",
       "4    0.000000         -0.004801    0.000000         -0.010896    0.000000   \n",
       "\n",
       "   Forecasted_value  True_value  Forecasted_value  True_value  \\\n",
       "0          0.062060    0.026866         -0.034676    0.387143   \n",
       "1          0.063646    0.004043         -0.010617    0.000066   \n",
       "2          0.051287    0.004485         -0.011375    0.000000   \n",
       "3          0.036077    0.000000          0.004675    0.000000   \n",
       "4          0.070642    0.000000          0.007973    0.000000   \n",
       "\n",
       "   Forecasted_value  ...  True_value  Forecasted_value  True_value  \\\n",
       "0          0.094574  ...         0.0         -0.002634         0.0   \n",
       "1          0.094666  ...         0.0         -0.006704         0.0   \n",
       "2          0.103627  ...         0.0         -0.004567         0.0   \n",
       "3          0.109277  ...         0.0          0.001867         0.0   \n",
       "4          0.100701  ...         0.0          0.006470         0.0   \n",
       "\n",
       "   Forecasted_value  True_value  Forecasted_value  True_value  \\\n",
       "0          0.004338         0.0         -0.007307         0.0   \n",
       "1          0.000421         0.0         -0.007599         0.0   \n",
       "2         -0.006995         0.0         -0.012070         0.0   \n",
       "3          0.002079         0.0         -0.000253         0.0   \n",
       "4         -0.001759         0.0          0.002579         0.0   \n",
       "\n",
       "   Forecasted_value  True_value  Forecasted_value  \n",
       "0          0.000937         0.0         -0.004733  \n",
       "1          0.020952         0.0         -0.000377  \n",
       "2          0.006679         0.0         -0.002858  \n",
       "3          0.010190         0.0         -0.000558  \n",
       "4         -0.002977         0.0          0.000461  \n",
       "\n",
       "[5 rows x 1820 columns]"
      ]
     },
     "execution_count": 17,
     "metadata": {},
     "output_type": "execute_result"
    }
   ],
   "source": [
    "combined_df.head()"
   ]
  },
  {
   "cell_type": "code",
   "execution_count": 18,
   "id": "77ebc554-fe99-4cea-9cb3-2d2b8329b7b8",
   "metadata": {},
   "outputs": [
    {
     "data": {
      "text/plain": [
       "(7, 1820)"
      ]
     },
     "execution_count": 18,
     "metadata": {},
     "output_type": "execute_result"
    }
   ],
   "source": [
    "combined_df.shape"
   ]
  },
  {
   "cell_type": "code",
   "execution_count": 19,
   "id": "cd7bd824-8dac-4284-b286-aafcd8cd7d43",
   "metadata": {},
   "outputs": [],
   "source": [
    "# get the true values\n",
    "True_values_df = combined_df[['True_value']]"
   ]
  },
  {
   "cell_type": "code",
   "execution_count": 20,
   "id": "20d0decc-e09d-494a-9ff8-2139aac7254b",
   "metadata": {},
   "outputs": [
    {
     "data": {
      "text/html": [
       "<div>\n",
       "<style scoped>\n",
       "    .dataframe tbody tr th:only-of-type {\n",
       "        vertical-align: middle;\n",
       "    }\n",
       "\n",
       "    .dataframe tbody tr th {\n",
       "        vertical-align: top;\n",
       "    }\n",
       "\n",
       "    .dataframe thead th {\n",
       "        text-align: right;\n",
       "    }\n",
       "</style>\n",
       "<table border=\"1\" class=\"dataframe\">\n",
       "  <thead>\n",
       "    <tr style=\"text-align: right;\">\n",
       "      <th></th>\n",
       "      <th>True_value</th>\n",
       "      <th>True_value</th>\n",
       "      <th>True_value</th>\n",
       "      <th>True_value</th>\n",
       "      <th>True_value</th>\n",
       "      <th>True_value</th>\n",
       "      <th>True_value</th>\n",
       "      <th>True_value</th>\n",
       "      <th>True_value</th>\n",
       "      <th>True_value</th>\n",
       "      <th>...</th>\n",
       "      <th>True_value</th>\n",
       "      <th>True_value</th>\n",
       "      <th>True_value</th>\n",
       "      <th>True_value</th>\n",
       "      <th>True_value</th>\n",
       "      <th>True_value</th>\n",
       "      <th>True_value</th>\n",
       "      <th>True_value</th>\n",
       "      <th>True_value</th>\n",
       "      <th>True_value</th>\n",
       "    </tr>\n",
       "  </thead>\n",
       "  <tbody>\n",
       "    <tr>\n",
       "      <th>0</th>\n",
       "      <td>0.000668</td>\n",
       "      <td>0.687456</td>\n",
       "      <td>0.002492</td>\n",
       "      <td>0.026866</td>\n",
       "      <td>0.387143</td>\n",
       "      <td>0.000002</td>\n",
       "      <td>0.000000</td>\n",
       "      <td>0.0</td>\n",
       "      <td>0.0</td>\n",
       "      <td>0.0</td>\n",
       "      <td>...</td>\n",
       "      <td>0.000000</td>\n",
       "      <td>1.226370e-09</td>\n",
       "      <td>0.002225</td>\n",
       "      <td>0.000288</td>\n",
       "      <td>0.000000</td>\n",
       "      <td>0.0</td>\n",
       "      <td>0.0</td>\n",
       "      <td>0.0</td>\n",
       "      <td>0.0</td>\n",
       "      <td>0.0</td>\n",
       "    </tr>\n",
       "    <tr>\n",
       "      <th>1</th>\n",
       "      <td>0.000000</td>\n",
       "      <td>0.000078</td>\n",
       "      <td>0.402709</td>\n",
       "      <td>0.004043</td>\n",
       "      <td>0.000066</td>\n",
       "      <td>0.008003</td>\n",
       "      <td>0.000001</td>\n",
       "      <td>0.0</td>\n",
       "      <td>0.0</td>\n",
       "      <td>0.0</td>\n",
       "      <td>...</td>\n",
       "      <td>0.000037</td>\n",
       "      <td>5.286380e-02</td>\n",
       "      <td>0.000137</td>\n",
       "      <td>0.000000</td>\n",
       "      <td>0.000000</td>\n",
       "      <td>0.0</td>\n",
       "      <td>0.0</td>\n",
       "      <td>0.0</td>\n",
       "      <td>0.0</td>\n",
       "      <td>0.0</td>\n",
       "    </tr>\n",
       "    <tr>\n",
       "      <th>2</th>\n",
       "      <td>0.000000</td>\n",
       "      <td>0.000322</td>\n",
       "      <td>0.679359</td>\n",
       "      <td>0.004485</td>\n",
       "      <td>0.000000</td>\n",
       "      <td>0.000000</td>\n",
       "      <td>0.000000</td>\n",
       "      <td>0.0</td>\n",
       "      <td>0.0</td>\n",
       "      <td>0.0</td>\n",
       "      <td>...</td>\n",
       "      <td>0.000000</td>\n",
       "      <td>0.000000e+00</td>\n",
       "      <td>0.000000</td>\n",
       "      <td>0.000000</td>\n",
       "      <td>0.000000</td>\n",
       "      <td>0.0</td>\n",
       "      <td>0.0</td>\n",
       "      <td>0.0</td>\n",
       "      <td>0.0</td>\n",
       "      <td>0.0</td>\n",
       "    </tr>\n",
       "    <tr>\n",
       "      <th>3</th>\n",
       "      <td>0.000000</td>\n",
       "      <td>0.007729</td>\n",
       "      <td>0.014685</td>\n",
       "      <td>0.000000</td>\n",
       "      <td>0.000000</td>\n",
       "      <td>0.000000</td>\n",
       "      <td>0.000000</td>\n",
       "      <td>0.0</td>\n",
       "      <td>0.0</td>\n",
       "      <td>0.0</td>\n",
       "      <td>...</td>\n",
       "      <td>0.000000</td>\n",
       "      <td>7.707239e-08</td>\n",
       "      <td>0.131036</td>\n",
       "      <td>0.017958</td>\n",
       "      <td>0.000000</td>\n",
       "      <td>0.0</td>\n",
       "      <td>0.0</td>\n",
       "      <td>0.0</td>\n",
       "      <td>0.0</td>\n",
       "      <td>0.0</td>\n",
       "    </tr>\n",
       "    <tr>\n",
       "      <th>4</th>\n",
       "      <td>0.000000</td>\n",
       "      <td>0.000000</td>\n",
       "      <td>0.000000</td>\n",
       "      <td>0.000000</td>\n",
       "      <td>0.000000</td>\n",
       "      <td>0.000000</td>\n",
       "      <td>0.000000</td>\n",
       "      <td>0.0</td>\n",
       "      <td>0.0</td>\n",
       "      <td>0.0</td>\n",
       "      <td>...</td>\n",
       "      <td>0.000000</td>\n",
       "      <td>0.000000e+00</td>\n",
       "      <td>0.031102</td>\n",
       "      <td>0.437271</td>\n",
       "      <td>0.000003</td>\n",
       "      <td>0.0</td>\n",
       "      <td>0.0</td>\n",
       "      <td>0.0</td>\n",
       "      <td>0.0</td>\n",
       "      <td>0.0</td>\n",
       "    </tr>\n",
       "  </tbody>\n",
       "</table>\n",
       "<p>5 rows × 910 columns</p>\n",
       "</div>"
      ],
      "text/plain": [
       "   True_value  True_value  True_value  True_value  True_value  True_value  \\\n",
       "0    0.000668    0.687456    0.002492    0.026866    0.387143    0.000002   \n",
       "1    0.000000    0.000078    0.402709    0.004043    0.000066    0.008003   \n",
       "2    0.000000    0.000322    0.679359    0.004485    0.000000    0.000000   \n",
       "3    0.000000    0.007729    0.014685    0.000000    0.000000    0.000000   \n",
       "4    0.000000    0.000000    0.000000    0.000000    0.000000    0.000000   \n",
       "\n",
       "   True_value  True_value  True_value  True_value  ...  True_value  \\\n",
       "0    0.000000         0.0         0.0         0.0  ...    0.000000   \n",
       "1    0.000001         0.0         0.0         0.0  ...    0.000037   \n",
       "2    0.000000         0.0         0.0         0.0  ...    0.000000   \n",
       "3    0.000000         0.0         0.0         0.0  ...    0.000000   \n",
       "4    0.000000         0.0         0.0         0.0  ...    0.000000   \n",
       "\n",
       "     True_value  True_value  True_value  True_value  True_value  True_value  \\\n",
       "0  1.226370e-09    0.002225    0.000288    0.000000         0.0         0.0   \n",
       "1  5.286380e-02    0.000137    0.000000    0.000000         0.0         0.0   \n",
       "2  0.000000e+00    0.000000    0.000000    0.000000         0.0         0.0   \n",
       "3  7.707239e-08    0.131036    0.017958    0.000000         0.0         0.0   \n",
       "4  0.000000e+00    0.031102    0.437271    0.000003         0.0         0.0   \n",
       "\n",
       "   True_value  True_value  True_value  \n",
       "0         0.0         0.0         0.0  \n",
       "1         0.0         0.0         0.0  \n",
       "2         0.0         0.0         0.0  \n",
       "3         0.0         0.0         0.0  \n",
       "4         0.0         0.0         0.0  \n",
       "\n",
       "[5 rows x 910 columns]"
      ]
     },
     "execution_count": 20,
     "metadata": {},
     "output_type": "execute_result"
    }
   ],
   "source": [
    "True_values_df.head()"
   ]
  },
  {
   "cell_type": "code",
   "execution_count": 21,
   "id": "7bf2ce55-e613-440c-98df-b3137476fda8",
   "metadata": {},
   "outputs": [
    {
     "data": {
      "text/plain": [
       "(7, 910)"
      ]
     },
     "execution_count": 21,
     "metadata": {},
     "output_type": "execute_result"
    }
   ],
   "source": [
    "True_values_df.shape"
   ]
  },
  {
   "cell_type": "code",
   "execution_count": 22,
   "id": "18e0219e-ee9c-4e29-a372-2b6290708941",
   "metadata": {},
   "outputs": [],
   "source": [
    "# get the proper counts?\n",
    "exp_true = np.exp(True_values_df)-1"
   ]
  },
  {
   "cell_type": "code",
   "execution_count": 23,
   "id": "a7319ca1-7b28-41f3-8b38-11863c1835e5",
   "metadata": {},
   "outputs": [
    {
     "data": {
      "text/html": [
       "<div>\n",
       "<style scoped>\n",
       "    .dataframe tbody tr th:only-of-type {\n",
       "        vertical-align: middle;\n",
       "    }\n",
       "\n",
       "    .dataframe tbody tr th {\n",
       "        vertical-align: top;\n",
       "    }\n",
       "\n",
       "    .dataframe thead th {\n",
       "        text-align: right;\n",
       "    }\n",
       "</style>\n",
       "<table border=\"1\" class=\"dataframe\">\n",
       "  <thead>\n",
       "    <tr style=\"text-align: right;\">\n",
       "      <th></th>\n",
       "      <th>True_value</th>\n",
       "      <th>True_value</th>\n",
       "      <th>True_value</th>\n",
       "      <th>True_value</th>\n",
       "      <th>True_value</th>\n",
       "      <th>True_value</th>\n",
       "      <th>True_value</th>\n",
       "      <th>True_value</th>\n",
       "      <th>True_value</th>\n",
       "      <th>True_value</th>\n",
       "      <th>...</th>\n",
       "      <th>True_value</th>\n",
       "      <th>True_value</th>\n",
       "      <th>True_value</th>\n",
       "      <th>True_value</th>\n",
       "      <th>True_value</th>\n",
       "      <th>True_value</th>\n",
       "      <th>True_value</th>\n",
       "      <th>True_value</th>\n",
       "      <th>True_value</th>\n",
       "      <th>True_value</th>\n",
       "    </tr>\n",
       "  </thead>\n",
       "  <tbody>\n",
       "    <tr>\n",
       "      <th>0</th>\n",
       "      <td>6.682041e-04</td>\n",
       "      <td>0.988650</td>\n",
       "      <td>2.495526e-03</td>\n",
       "      <td>0.027230</td>\n",
       "      <td>0.472768</td>\n",
       "      <td>0.000002</td>\n",
       "      <td>0.000000</td>\n",
       "      <td>0.0</td>\n",
       "      <td>0.0</td>\n",
       "      <td>0.0</td>\n",
       "      <td>...</td>\n",
       "      <td>0.000000</td>\n",
       "      <td>1.226370e-09</td>\n",
       "      <td>2.227803e-03</td>\n",
       "      <td>2.883206e-04</td>\n",
       "      <td>0.000000e+00</td>\n",
       "      <td>0.000000e+00</td>\n",
       "      <td>0.0</td>\n",
       "      <td>0.0</td>\n",
       "      <td>0.0</td>\n",
       "      <td>0.0</td>\n",
       "    </tr>\n",
       "    <tr>\n",
       "      <th>1</th>\n",
       "      <td>0.000000e+00</td>\n",
       "      <td>0.000078</td>\n",
       "      <td>4.958717e-01</td>\n",
       "      <td>0.004051</td>\n",
       "      <td>0.000066</td>\n",
       "      <td>0.008035</td>\n",
       "      <td>0.000001</td>\n",
       "      <td>0.0</td>\n",
       "      <td>0.0</td>\n",
       "      <td>0.0</td>\n",
       "      <td>...</td>\n",
       "      <td>0.000037</td>\n",
       "      <td>5.428604e-02</td>\n",
       "      <td>1.370275e-04</td>\n",
       "      <td>0.000000e+00</td>\n",
       "      <td>0.000000e+00</td>\n",
       "      <td>0.000000e+00</td>\n",
       "      <td>0.0</td>\n",
       "      <td>0.0</td>\n",
       "      <td>0.0</td>\n",
       "      <td>0.0</td>\n",
       "    </tr>\n",
       "    <tr>\n",
       "      <th>2</th>\n",
       "      <td>0.000000e+00</td>\n",
       "      <td>0.000322</td>\n",
       "      <td>9.726130e-01</td>\n",
       "      <td>0.004495</td>\n",
       "      <td>0.000000</td>\n",
       "      <td>0.000000</td>\n",
       "      <td>0.000000</td>\n",
       "      <td>0.0</td>\n",
       "      <td>0.0</td>\n",
       "      <td>0.0</td>\n",
       "      <td>...</td>\n",
       "      <td>0.000000</td>\n",
       "      <td>0.000000e+00</td>\n",
       "      <td>0.000000e+00</td>\n",
       "      <td>0.000000e+00</td>\n",
       "      <td>0.000000e+00</td>\n",
       "      <td>0.000000e+00</td>\n",
       "      <td>0.0</td>\n",
       "      <td>0.0</td>\n",
       "      <td>0.0</td>\n",
       "      <td>0.0</td>\n",
       "    </tr>\n",
       "    <tr>\n",
       "      <th>3</th>\n",
       "      <td>0.000000e+00</td>\n",
       "      <td>0.007759</td>\n",
       "      <td>1.479291e-02</td>\n",
       "      <td>0.000000</td>\n",
       "      <td>0.000000</td>\n",
       "      <td>0.000000</td>\n",
       "      <td>0.000000</td>\n",
       "      <td>0.0</td>\n",
       "      <td>0.0</td>\n",
       "      <td>0.0</td>\n",
       "      <td>...</td>\n",
       "      <td>0.000000</td>\n",
       "      <td>7.707239e-08</td>\n",
       "      <td>1.400083e-01</td>\n",
       "      <td>1.811978e-02</td>\n",
       "      <td>0.000000e+00</td>\n",
       "      <td>0.000000e+00</td>\n",
       "      <td>0.0</td>\n",
       "      <td>0.0</td>\n",
       "      <td>0.0</td>\n",
       "      <td>0.0</td>\n",
       "    </tr>\n",
       "    <tr>\n",
       "      <th>4</th>\n",
       "      <td>0.000000e+00</td>\n",
       "      <td>0.000000</td>\n",
       "      <td>0.000000e+00</td>\n",
       "      <td>0.000000</td>\n",
       "      <td>0.000000</td>\n",
       "      <td>0.000000</td>\n",
       "      <td>0.000000</td>\n",
       "      <td>0.0</td>\n",
       "      <td>0.0</td>\n",
       "      <td>0.0</td>\n",
       "      <td>...</td>\n",
       "      <td>0.000000</td>\n",
       "      <td>0.000000e+00</td>\n",
       "      <td>3.159044e-02</td>\n",
       "      <td>5.484760e-01</td>\n",
       "      <td>2.873991e-06</td>\n",
       "      <td>0.000000e+00</td>\n",
       "      <td>0.0</td>\n",
       "      <td>0.0</td>\n",
       "      <td>0.0</td>\n",
       "      <td>0.0</td>\n",
       "    </tr>\n",
       "    <tr>\n",
       "      <th>5</th>\n",
       "      <td>1.246630e-08</td>\n",
       "      <td>0.000005</td>\n",
       "      <td>3.337987e-09</td>\n",
       "      <td>0.000000</td>\n",
       "      <td>0.000000</td>\n",
       "      <td>0.000000</td>\n",
       "      <td>0.000000</td>\n",
       "      <td>0.0</td>\n",
       "      <td>0.0</td>\n",
       "      <td>0.0</td>\n",
       "      <td>...</td>\n",
       "      <td>0.000000</td>\n",
       "      <td>0.000000e+00</td>\n",
       "      <td>0.000000e+00</td>\n",
       "      <td>3.859115e-10</td>\n",
       "      <td>1.236968e-05</td>\n",
       "      <td>2.854084e-07</td>\n",
       "      <td>0.0</td>\n",
       "      <td>0.0</td>\n",
       "      <td>0.0</td>\n",
       "      <td>0.0</td>\n",
       "    </tr>\n",
       "    <tr>\n",
       "      <th>6</th>\n",
       "      <td>0.000000e+00</td>\n",
       "      <td>0.000000</td>\n",
       "      <td>0.000000e+00</td>\n",
       "      <td>0.000000</td>\n",
       "      <td>0.000000</td>\n",
       "      <td>0.000000</td>\n",
       "      <td>0.000000</td>\n",
       "      <td>0.0</td>\n",
       "      <td>0.0</td>\n",
       "      <td>0.0</td>\n",
       "      <td>...</td>\n",
       "      <td>0.000000</td>\n",
       "      <td>0.000000e+00</td>\n",
       "      <td>2.219768e-07</td>\n",
       "      <td>3.284285e-04</td>\n",
       "      <td>8.290115e-07</td>\n",
       "      <td>0.000000e+00</td>\n",
       "      <td>0.0</td>\n",
       "      <td>0.0</td>\n",
       "      <td>0.0</td>\n",
       "      <td>0.0</td>\n",
       "    </tr>\n",
       "  </tbody>\n",
       "</table>\n",
       "<p>7 rows × 910 columns</p>\n",
       "</div>"
      ],
      "text/plain": [
       "     True_value  True_value    True_value  True_value  True_value  True_value  \\\n",
       "0  6.682041e-04    0.988650  2.495526e-03    0.027230    0.472768    0.000002   \n",
       "1  0.000000e+00    0.000078  4.958717e-01    0.004051    0.000066    0.008035   \n",
       "2  0.000000e+00    0.000322  9.726130e-01    0.004495    0.000000    0.000000   \n",
       "3  0.000000e+00    0.007759  1.479291e-02    0.000000    0.000000    0.000000   \n",
       "4  0.000000e+00    0.000000  0.000000e+00    0.000000    0.000000    0.000000   \n",
       "5  1.246630e-08    0.000005  3.337987e-09    0.000000    0.000000    0.000000   \n",
       "6  0.000000e+00    0.000000  0.000000e+00    0.000000    0.000000    0.000000   \n",
       "\n",
       "   True_value  True_value  True_value  True_value  ...  True_value  \\\n",
       "0    0.000000         0.0         0.0         0.0  ...    0.000000   \n",
       "1    0.000001         0.0         0.0         0.0  ...    0.000037   \n",
       "2    0.000000         0.0         0.0         0.0  ...    0.000000   \n",
       "3    0.000000         0.0         0.0         0.0  ...    0.000000   \n",
       "4    0.000000         0.0         0.0         0.0  ...    0.000000   \n",
       "5    0.000000         0.0         0.0         0.0  ...    0.000000   \n",
       "6    0.000000         0.0         0.0         0.0  ...    0.000000   \n",
       "\n",
       "     True_value    True_value    True_value    True_value    True_value  \\\n",
       "0  1.226370e-09  2.227803e-03  2.883206e-04  0.000000e+00  0.000000e+00   \n",
       "1  5.428604e-02  1.370275e-04  0.000000e+00  0.000000e+00  0.000000e+00   \n",
       "2  0.000000e+00  0.000000e+00  0.000000e+00  0.000000e+00  0.000000e+00   \n",
       "3  7.707239e-08  1.400083e-01  1.811978e-02  0.000000e+00  0.000000e+00   \n",
       "4  0.000000e+00  3.159044e-02  5.484760e-01  2.873991e-06  0.000000e+00   \n",
       "5  0.000000e+00  0.000000e+00  3.859115e-10  1.236968e-05  2.854084e-07   \n",
       "6  0.000000e+00  2.219768e-07  3.284285e-04  8.290115e-07  0.000000e+00   \n",
       "\n",
       "   True_value  True_value  True_value  True_value  \n",
       "0         0.0         0.0         0.0         0.0  \n",
       "1         0.0         0.0         0.0         0.0  \n",
       "2         0.0         0.0         0.0         0.0  \n",
       "3         0.0         0.0         0.0         0.0  \n",
       "4         0.0         0.0         0.0         0.0  \n",
       "5         0.0         0.0         0.0         0.0  \n",
       "6         0.0         0.0         0.0         0.0  \n",
       "\n",
       "[7 rows x 910 columns]"
      ]
     },
     "execution_count": 23,
     "metadata": {},
     "output_type": "execute_result"
    }
   ],
   "source": [
    "exp_true"
   ]
  },
  {
   "cell_type": "code",
   "execution_count": 24,
   "id": "fbc09b78-d34e-434e-8232-ee3be25766e9",
   "metadata": {},
   "outputs": [],
   "source": [
    "# sum the true values - since the sub images are not overlapping, we can get the sum across columns in the above dataframe\n",
    "sum_true_values = exp_true.sum(axis = 1)"
   ]
  },
  {
   "cell_type": "code",
   "execution_count": 25,
   "id": "6057a433-4dfb-4804-bbac-ea3dacce11e6",
   "metadata": {},
   "outputs": [
    {
     "data": {
      "text/plain": [
       "0    40.999838\n",
       "1    41.998811\n",
       "2    39.000067\n",
       "3    32.000003\n",
       "4    25.000352\n",
       "5    23.000040\n",
       "6    18.000000\n",
       "dtype: float64"
      ]
     },
     "execution_count": 25,
     "metadata": {},
     "output_type": "execute_result"
    }
   ],
   "source": [
    "sum_true_values"
   ]
  },
  {
   "cell_type": "code",
   "execution_count": 26,
   "id": "2fc2ac3e-59e7-4f27-91ab-31d30b4eeaa7",
   "metadata": {},
   "outputs": [],
   "source": [
    "# get the forecasted values\n",
    "Forecasted_values_df = combined_df[['Forecasted_value']]"
   ]
  },
  {
   "cell_type": "code",
   "execution_count": 27,
   "id": "4d4182a4-7ede-4ffc-b952-08aa47d424d0",
   "metadata": {},
   "outputs": [
    {
     "data": {
      "text/html": [
       "<div>\n",
       "<style scoped>\n",
       "    .dataframe tbody tr th:only-of-type {\n",
       "        vertical-align: middle;\n",
       "    }\n",
       "\n",
       "    .dataframe tbody tr th {\n",
       "        vertical-align: top;\n",
       "    }\n",
       "\n",
       "    .dataframe thead th {\n",
       "        text-align: right;\n",
       "    }\n",
       "</style>\n",
       "<table border=\"1\" class=\"dataframe\">\n",
       "  <thead>\n",
       "    <tr style=\"text-align: right;\">\n",
       "      <th></th>\n",
       "      <th>Forecasted_value</th>\n",
       "      <th>Forecasted_value</th>\n",
       "      <th>Forecasted_value</th>\n",
       "      <th>Forecasted_value</th>\n",
       "      <th>Forecasted_value</th>\n",
       "      <th>Forecasted_value</th>\n",
       "      <th>Forecasted_value</th>\n",
       "      <th>Forecasted_value</th>\n",
       "      <th>Forecasted_value</th>\n",
       "      <th>Forecasted_value</th>\n",
       "      <th>...</th>\n",
       "      <th>Forecasted_value</th>\n",
       "      <th>Forecasted_value</th>\n",
       "      <th>Forecasted_value</th>\n",
       "      <th>Forecasted_value</th>\n",
       "      <th>Forecasted_value</th>\n",
       "      <th>Forecasted_value</th>\n",
       "      <th>Forecasted_value</th>\n",
       "      <th>Forecasted_value</th>\n",
       "      <th>Forecasted_value</th>\n",
       "      <th>Forecasted_value</th>\n",
       "    </tr>\n",
       "  </thead>\n",
       "  <tbody>\n",
       "    <tr>\n",
       "      <th>0</th>\n",
       "      <td>-0.007574</td>\n",
       "      <td>0.004151</td>\n",
       "      <td>0.062060</td>\n",
       "      <td>-0.034676</td>\n",
       "      <td>0.094574</td>\n",
       "      <td>-0.012034</td>\n",
       "      <td>-0.002228</td>\n",
       "      <td>-0.005934</td>\n",
       "      <td>-0.018346</td>\n",
       "      <td>-0.013046</td>\n",
       "      <td>...</td>\n",
       "      <td>-0.004336</td>\n",
       "      <td>0.001925</td>\n",
       "      <td>0.005354</td>\n",
       "      <td>0.002663</td>\n",
       "      <td>-0.007736</td>\n",
       "      <td>-0.002634</td>\n",
       "      <td>0.004338</td>\n",
       "      <td>-0.007307</td>\n",
       "      <td>0.000937</td>\n",
       "      <td>-0.004733</td>\n",
       "    </tr>\n",
       "    <tr>\n",
       "      <th>1</th>\n",
       "      <td>-0.013780</td>\n",
       "      <td>-0.008567</td>\n",
       "      <td>0.063646</td>\n",
       "      <td>-0.010617</td>\n",
       "      <td>0.094666</td>\n",
       "      <td>0.004181</td>\n",
       "      <td>-0.001706</td>\n",
       "      <td>-0.007860</td>\n",
       "      <td>-0.006998</td>\n",
       "      <td>-0.010125</td>\n",
       "      <td>...</td>\n",
       "      <td>-0.003137</td>\n",
       "      <td>0.001819</td>\n",
       "      <td>-0.000406</td>\n",
       "      <td>0.002858</td>\n",
       "      <td>0.002857</td>\n",
       "      <td>-0.006704</td>\n",
       "      <td>0.000421</td>\n",
       "      <td>-0.007599</td>\n",
       "      <td>0.020952</td>\n",
       "      <td>-0.000377</td>\n",
       "    </tr>\n",
       "    <tr>\n",
       "      <th>2</th>\n",
       "      <td>-0.008464</td>\n",
       "      <td>-0.009581</td>\n",
       "      <td>0.051287</td>\n",
       "      <td>-0.011375</td>\n",
       "      <td>0.103627</td>\n",
       "      <td>-0.008406</td>\n",
       "      <td>-0.012697</td>\n",
       "      <td>-0.008994</td>\n",
       "      <td>-0.012523</td>\n",
       "      <td>-0.009179</td>\n",
       "      <td>...</td>\n",
       "      <td>-0.002878</td>\n",
       "      <td>0.000619</td>\n",
       "      <td>-0.010805</td>\n",
       "      <td>-0.001698</td>\n",
       "      <td>-0.000793</td>\n",
       "      <td>-0.004567</td>\n",
       "      <td>-0.006995</td>\n",
       "      <td>-0.012070</td>\n",
       "      <td>0.006679</td>\n",
       "      <td>-0.002858</td>\n",
       "    </tr>\n",
       "    <tr>\n",
       "      <th>3</th>\n",
       "      <td>0.000206</td>\n",
       "      <td>-0.007301</td>\n",
       "      <td>0.036077</td>\n",
       "      <td>0.004675</td>\n",
       "      <td>0.109277</td>\n",
       "      <td>-0.014677</td>\n",
       "      <td>0.005662</td>\n",
       "      <td>-0.001533</td>\n",
       "      <td>-0.003669</td>\n",
       "      <td>-0.005245</td>\n",
       "      <td>...</td>\n",
       "      <td>-0.002682</td>\n",
       "      <td>0.006668</td>\n",
       "      <td>-0.001003</td>\n",
       "      <td>0.001622</td>\n",
       "      <td>0.002225</td>\n",
       "      <td>0.001867</td>\n",
       "      <td>0.002079</td>\n",
       "      <td>-0.000253</td>\n",
       "      <td>0.010190</td>\n",
       "      <td>-0.000558</td>\n",
       "    </tr>\n",
       "    <tr>\n",
       "      <th>4</th>\n",
       "      <td>-0.004801</td>\n",
       "      <td>-0.010896</td>\n",
       "      <td>0.070642</td>\n",
       "      <td>0.007973</td>\n",
       "      <td>0.100701</td>\n",
       "      <td>0.007871</td>\n",
       "      <td>-0.001349</td>\n",
       "      <td>-0.006894</td>\n",
       "      <td>-0.005810</td>\n",
       "      <td>-0.002040</td>\n",
       "      <td>...</td>\n",
       "      <td>-0.002793</td>\n",
       "      <td>0.005592</td>\n",
       "      <td>0.000219</td>\n",
       "      <td>0.005202</td>\n",
       "      <td>0.005432</td>\n",
       "      <td>0.006470</td>\n",
       "      <td>-0.001759</td>\n",
       "      <td>0.002579</td>\n",
       "      <td>-0.002977</td>\n",
       "      <td>0.000461</td>\n",
       "    </tr>\n",
       "  </tbody>\n",
       "</table>\n",
       "<p>5 rows × 910 columns</p>\n",
       "</div>"
      ],
      "text/plain": [
       "   Forecasted_value  Forecasted_value  Forecasted_value  Forecasted_value  \\\n",
       "0         -0.007574          0.004151          0.062060         -0.034676   \n",
       "1         -0.013780         -0.008567          0.063646         -0.010617   \n",
       "2         -0.008464         -0.009581          0.051287         -0.011375   \n",
       "3          0.000206         -0.007301          0.036077          0.004675   \n",
       "4         -0.004801         -0.010896          0.070642          0.007973   \n",
       "\n",
       "   Forecasted_value  Forecasted_value  Forecasted_value  Forecasted_value  \\\n",
       "0          0.094574         -0.012034         -0.002228         -0.005934   \n",
       "1          0.094666          0.004181         -0.001706         -0.007860   \n",
       "2          0.103627         -0.008406         -0.012697         -0.008994   \n",
       "3          0.109277         -0.014677          0.005662         -0.001533   \n",
       "4          0.100701          0.007871         -0.001349         -0.006894   \n",
       "\n",
       "   Forecasted_value  Forecasted_value  ...  Forecasted_value  \\\n",
       "0         -0.018346         -0.013046  ...         -0.004336   \n",
       "1         -0.006998         -0.010125  ...         -0.003137   \n",
       "2         -0.012523         -0.009179  ...         -0.002878   \n",
       "3         -0.003669         -0.005245  ...         -0.002682   \n",
       "4         -0.005810         -0.002040  ...         -0.002793   \n",
       "\n",
       "   Forecasted_value  Forecasted_value  Forecasted_value  Forecasted_value  \\\n",
       "0          0.001925          0.005354          0.002663         -0.007736   \n",
       "1          0.001819         -0.000406          0.002858          0.002857   \n",
       "2          0.000619         -0.010805         -0.001698         -0.000793   \n",
       "3          0.006668         -0.001003          0.001622          0.002225   \n",
       "4          0.005592          0.000219          0.005202          0.005432   \n",
       "\n",
       "   Forecasted_value  Forecasted_value  Forecasted_value  Forecasted_value  \\\n",
       "0         -0.002634          0.004338         -0.007307          0.000937   \n",
       "1         -0.006704          0.000421         -0.007599          0.020952   \n",
       "2         -0.004567         -0.006995         -0.012070          0.006679   \n",
       "3          0.001867          0.002079         -0.000253          0.010190   \n",
       "4          0.006470         -0.001759          0.002579         -0.002977   \n",
       "\n",
       "   Forecasted_value  \n",
       "0         -0.004733  \n",
       "1         -0.000377  \n",
       "2         -0.002858  \n",
       "3         -0.000558  \n",
       "4          0.000461  \n",
       "\n",
       "[5 rows x 910 columns]"
      ]
     },
     "execution_count": 27,
     "metadata": {},
     "output_type": "execute_result"
    }
   ],
   "source": [
    "Forecasted_values_df.head()"
   ]
  },
  {
   "cell_type": "code",
   "execution_count": 28,
   "id": "c4e2130b-9b6b-40b7-9efe-4cd6cd30c107",
   "metadata": {},
   "outputs": [],
   "source": [
    "exp_forecasted = np.exp(Forecasted_values_df)-1"
   ]
  },
  {
   "cell_type": "code",
   "execution_count": 29,
   "id": "60cd0006-0367-436e-b3c8-282e12e01146",
   "metadata": {},
   "outputs": [
    {
     "data": {
      "text/html": [
       "<div>\n",
       "<style scoped>\n",
       "    .dataframe tbody tr th:only-of-type {\n",
       "        vertical-align: middle;\n",
       "    }\n",
       "\n",
       "    .dataframe tbody tr th {\n",
       "        vertical-align: top;\n",
       "    }\n",
       "\n",
       "    .dataframe thead th {\n",
       "        text-align: right;\n",
       "    }\n",
       "</style>\n",
       "<table border=\"1\" class=\"dataframe\">\n",
       "  <thead>\n",
       "    <tr style=\"text-align: right;\">\n",
       "      <th></th>\n",
       "      <th>Forecasted_value</th>\n",
       "      <th>Forecasted_value</th>\n",
       "      <th>Forecasted_value</th>\n",
       "      <th>Forecasted_value</th>\n",
       "      <th>Forecasted_value</th>\n",
       "      <th>Forecasted_value</th>\n",
       "      <th>Forecasted_value</th>\n",
       "      <th>Forecasted_value</th>\n",
       "      <th>Forecasted_value</th>\n",
       "      <th>Forecasted_value</th>\n",
       "      <th>...</th>\n",
       "      <th>Forecasted_value</th>\n",
       "      <th>Forecasted_value</th>\n",
       "      <th>Forecasted_value</th>\n",
       "      <th>Forecasted_value</th>\n",
       "      <th>Forecasted_value</th>\n",
       "      <th>Forecasted_value</th>\n",
       "      <th>Forecasted_value</th>\n",
       "      <th>Forecasted_value</th>\n",
       "      <th>Forecasted_value</th>\n",
       "      <th>Forecasted_value</th>\n",
       "    </tr>\n",
       "  </thead>\n",
       "  <tbody>\n",
       "    <tr>\n",
       "      <th>0</th>\n",
       "      <td>-0.007545</td>\n",
       "      <td>0.004160</td>\n",
       "      <td>0.064026</td>\n",
       "      <td>-0.034082</td>\n",
       "      <td>0.099191</td>\n",
       "      <td>-0.011961</td>\n",
       "      <td>-0.002226</td>\n",
       "      <td>-0.005917</td>\n",
       "      <td>-0.018178</td>\n",
       "      <td>-0.012962</td>\n",
       "      <td>...</td>\n",
       "      <td>-0.004327</td>\n",
       "      <td>0.001927</td>\n",
       "      <td>0.005369</td>\n",
       "      <td>0.002667</td>\n",
       "      <td>-0.007706</td>\n",
       "      <td>-0.002630</td>\n",
       "      <td>0.004348</td>\n",
       "      <td>-0.007280</td>\n",
       "      <td>0.000937</td>\n",
       "      <td>-0.004721</td>\n",
       "    </tr>\n",
       "    <tr>\n",
       "      <th>1</th>\n",
       "      <td>-0.013685</td>\n",
       "      <td>-0.008530</td>\n",
       "      <td>0.065716</td>\n",
       "      <td>-0.010561</td>\n",
       "      <td>0.099292</td>\n",
       "      <td>0.004190</td>\n",
       "      <td>-0.001704</td>\n",
       "      <td>-0.007829</td>\n",
       "      <td>-0.006974</td>\n",
       "      <td>-0.010074</td>\n",
       "      <td>...</td>\n",
       "      <td>-0.003132</td>\n",
       "      <td>0.001821</td>\n",
       "      <td>-0.000406</td>\n",
       "      <td>0.002862</td>\n",
       "      <td>0.002861</td>\n",
       "      <td>-0.006681</td>\n",
       "      <td>0.000421</td>\n",
       "      <td>-0.007570</td>\n",
       "      <td>0.021173</td>\n",
       "      <td>-0.000377</td>\n",
       "    </tr>\n",
       "    <tr>\n",
       "      <th>2</th>\n",
       "      <td>-0.008428</td>\n",
       "      <td>-0.009535</td>\n",
       "      <td>0.052625</td>\n",
       "      <td>-0.011310</td>\n",
       "      <td>0.109187</td>\n",
       "      <td>-0.008371</td>\n",
       "      <td>-0.012617</td>\n",
       "      <td>-0.008954</td>\n",
       "      <td>-0.012444</td>\n",
       "      <td>-0.009137</td>\n",
       "      <td>...</td>\n",
       "      <td>-0.002874</td>\n",
       "      <td>0.000619</td>\n",
       "      <td>-0.010747</td>\n",
       "      <td>-0.001696</td>\n",
       "      <td>-0.000793</td>\n",
       "      <td>-0.004556</td>\n",
       "      <td>-0.006970</td>\n",
       "      <td>-0.011998</td>\n",
       "      <td>0.006701</td>\n",
       "      <td>-0.002854</td>\n",
       "    </tr>\n",
       "    <tr>\n",
       "      <th>3</th>\n",
       "      <td>0.000206</td>\n",
       "      <td>-0.007274</td>\n",
       "      <td>0.036736</td>\n",
       "      <td>0.004686</td>\n",
       "      <td>0.115471</td>\n",
       "      <td>-0.014570</td>\n",
       "      <td>0.005678</td>\n",
       "      <td>-0.001532</td>\n",
       "      <td>-0.003662</td>\n",
       "      <td>-0.005231</td>\n",
       "      <td>...</td>\n",
       "      <td>-0.002679</td>\n",
       "      <td>0.006691</td>\n",
       "      <td>-0.001003</td>\n",
       "      <td>0.001623</td>\n",
       "      <td>0.002227</td>\n",
       "      <td>0.001869</td>\n",
       "      <td>0.002081</td>\n",
       "      <td>-0.000253</td>\n",
       "      <td>0.010243</td>\n",
       "      <td>-0.000558</td>\n",
       "    </tr>\n",
       "    <tr>\n",
       "      <th>4</th>\n",
       "      <td>-0.004790</td>\n",
       "      <td>-0.010837</td>\n",
       "      <td>0.073197</td>\n",
       "      <td>0.008005</td>\n",
       "      <td>0.105945</td>\n",
       "      <td>0.007903</td>\n",
       "      <td>-0.001348</td>\n",
       "      <td>-0.006871</td>\n",
       "      <td>-0.005793</td>\n",
       "      <td>-0.002038</td>\n",
       "      <td>...</td>\n",
       "      <td>-0.002789</td>\n",
       "      <td>0.005608</td>\n",
       "      <td>0.000219</td>\n",
       "      <td>0.005215</td>\n",
       "      <td>0.005447</td>\n",
       "      <td>0.006491</td>\n",
       "      <td>-0.001758</td>\n",
       "      <td>0.002582</td>\n",
       "      <td>-0.002973</td>\n",
       "      <td>0.000461</td>\n",
       "    </tr>\n",
       "    <tr>\n",
       "      <th>5</th>\n",
       "      <td>0.004711</td>\n",
       "      <td>0.008070</td>\n",
       "      <td>0.110982</td>\n",
       "      <td>0.002257</td>\n",
       "      <td>0.104043</td>\n",
       "      <td>0.007100</td>\n",
       "      <td>0.003412</td>\n",
       "      <td>0.000536</td>\n",
       "      <td>-0.002503</td>\n",
       "      <td>-0.001950</td>\n",
       "      <td>...</td>\n",
       "      <td>-0.000228</td>\n",
       "      <td>0.000615</td>\n",
       "      <td>-0.003364</td>\n",
       "      <td>-0.001031</td>\n",
       "      <td>0.003472</td>\n",
       "      <td>0.005115</td>\n",
       "      <td>0.005045</td>\n",
       "      <td>0.008548</td>\n",
       "      <td>-0.002728</td>\n",
       "      <td>0.002075</td>\n",
       "    </tr>\n",
       "    <tr>\n",
       "      <th>6</th>\n",
       "      <td>0.003873</td>\n",
       "      <td>0.002899</td>\n",
       "      <td>0.096012</td>\n",
       "      <td>0.011276</td>\n",
       "      <td>0.101891</td>\n",
       "      <td>0.005980</td>\n",
       "      <td>-0.006528</td>\n",
       "      <td>-0.001603</td>\n",
       "      <td>-0.003721</td>\n",
       "      <td>0.000562</td>\n",
       "      <td>...</td>\n",
       "      <td>-0.000977</td>\n",
       "      <td>-0.001202</td>\n",
       "      <td>-0.003948</td>\n",
       "      <td>-0.000569</td>\n",
       "      <td>0.002364</td>\n",
       "      <td>0.004816</td>\n",
       "      <td>-0.005626</td>\n",
       "      <td>-0.001238</td>\n",
       "      <td>0.009783</td>\n",
       "      <td>0.000267</td>\n",
       "    </tr>\n",
       "  </tbody>\n",
       "</table>\n",
       "<p>7 rows × 910 columns</p>\n",
       "</div>"
      ],
      "text/plain": [
       "   Forecasted_value  Forecasted_value  Forecasted_value  Forecasted_value  \\\n",
       "0         -0.007545          0.004160          0.064026         -0.034082   \n",
       "1         -0.013685         -0.008530          0.065716         -0.010561   \n",
       "2         -0.008428         -0.009535          0.052625         -0.011310   \n",
       "3          0.000206         -0.007274          0.036736          0.004686   \n",
       "4         -0.004790         -0.010837          0.073197          0.008005   \n",
       "5          0.004711          0.008070          0.110982          0.002257   \n",
       "6          0.003873          0.002899          0.096012          0.011276   \n",
       "\n",
       "   Forecasted_value  Forecasted_value  Forecasted_value  Forecasted_value  \\\n",
       "0          0.099191         -0.011961         -0.002226         -0.005917   \n",
       "1          0.099292          0.004190         -0.001704         -0.007829   \n",
       "2          0.109187         -0.008371         -0.012617         -0.008954   \n",
       "3          0.115471         -0.014570          0.005678         -0.001532   \n",
       "4          0.105945          0.007903         -0.001348         -0.006871   \n",
       "5          0.104043          0.007100          0.003412          0.000536   \n",
       "6          0.101891          0.005980         -0.006528         -0.001603   \n",
       "\n",
       "   Forecasted_value  Forecasted_value  ...  Forecasted_value  \\\n",
       "0         -0.018178         -0.012962  ...         -0.004327   \n",
       "1         -0.006974         -0.010074  ...         -0.003132   \n",
       "2         -0.012444         -0.009137  ...         -0.002874   \n",
       "3         -0.003662         -0.005231  ...         -0.002679   \n",
       "4         -0.005793         -0.002038  ...         -0.002789   \n",
       "5         -0.002503         -0.001950  ...         -0.000228   \n",
       "6         -0.003721          0.000562  ...         -0.000977   \n",
       "\n",
       "   Forecasted_value  Forecasted_value  Forecasted_value  Forecasted_value  \\\n",
       "0          0.001927          0.005369          0.002667         -0.007706   \n",
       "1          0.001821         -0.000406          0.002862          0.002861   \n",
       "2          0.000619         -0.010747         -0.001696         -0.000793   \n",
       "3          0.006691         -0.001003          0.001623          0.002227   \n",
       "4          0.005608          0.000219          0.005215          0.005447   \n",
       "5          0.000615         -0.003364         -0.001031          0.003472   \n",
       "6         -0.001202         -0.003948         -0.000569          0.002364   \n",
       "\n",
       "   Forecasted_value  Forecasted_value  Forecasted_value  Forecasted_value  \\\n",
       "0         -0.002630          0.004348         -0.007280          0.000937   \n",
       "1         -0.006681          0.000421         -0.007570          0.021173   \n",
       "2         -0.004556         -0.006970         -0.011998          0.006701   \n",
       "3          0.001869          0.002081         -0.000253          0.010243   \n",
       "4          0.006491         -0.001758          0.002582         -0.002973   \n",
       "5          0.005115          0.005045          0.008548         -0.002728   \n",
       "6          0.004816         -0.005626         -0.001238          0.009783   \n",
       "\n",
       "   Forecasted_value  \n",
       "0         -0.004721  \n",
       "1         -0.000377  \n",
       "2         -0.002854  \n",
       "3         -0.000558  \n",
       "4          0.000461  \n",
       "5          0.002075  \n",
       "6          0.000267  \n",
       "\n",
       "[7 rows x 910 columns]"
      ]
     },
     "execution_count": 29,
     "metadata": {},
     "output_type": "execute_result"
    }
   ],
   "source": [
    "exp_forecasted"
   ]
  },
  {
   "cell_type": "code",
   "execution_count": 30,
   "id": "cdc66bd6-b552-4dcd-9703-e07b035fb736",
   "metadata": {},
   "outputs": [],
   "source": [
    "# set the values to 0 if the forecasted count is negative?"
   ]
  },
  {
   "cell_type": "code",
   "execution_count": 31,
   "id": "56eddb77-a48e-409d-9684-10bb31132568",
   "metadata": {},
   "outputs": [],
   "source": [
    "exp_forecasted[exp_forecasted < 0] = 0"
   ]
  },
  {
   "cell_type": "code",
   "execution_count": 32,
   "id": "c96eedde-fcfa-4f54-b8cb-d5f5cb3d6493",
   "metadata": {},
   "outputs": [
    {
     "data": {
      "text/html": [
       "<div>\n",
       "<style scoped>\n",
       "    .dataframe tbody tr th:only-of-type {\n",
       "        vertical-align: middle;\n",
       "    }\n",
       "\n",
       "    .dataframe tbody tr th {\n",
       "        vertical-align: top;\n",
       "    }\n",
       "\n",
       "    .dataframe thead th {\n",
       "        text-align: right;\n",
       "    }\n",
       "</style>\n",
       "<table border=\"1\" class=\"dataframe\">\n",
       "  <thead>\n",
       "    <tr style=\"text-align: right;\">\n",
       "      <th></th>\n",
       "      <th>Forecasted_value</th>\n",
       "      <th>Forecasted_value</th>\n",
       "      <th>Forecasted_value</th>\n",
       "      <th>Forecasted_value</th>\n",
       "      <th>Forecasted_value</th>\n",
       "      <th>Forecasted_value</th>\n",
       "      <th>Forecasted_value</th>\n",
       "      <th>Forecasted_value</th>\n",
       "      <th>Forecasted_value</th>\n",
       "      <th>Forecasted_value</th>\n",
       "      <th>...</th>\n",
       "      <th>Forecasted_value</th>\n",
       "      <th>Forecasted_value</th>\n",
       "      <th>Forecasted_value</th>\n",
       "      <th>Forecasted_value</th>\n",
       "      <th>Forecasted_value</th>\n",
       "      <th>Forecasted_value</th>\n",
       "      <th>Forecasted_value</th>\n",
       "      <th>Forecasted_value</th>\n",
       "      <th>Forecasted_value</th>\n",
       "      <th>Forecasted_value</th>\n",
       "    </tr>\n",
       "  </thead>\n",
       "  <tbody>\n",
       "    <tr>\n",
       "      <th>0</th>\n",
       "      <td>0.000000</td>\n",
       "      <td>0.00416</td>\n",
       "      <td>0.064026</td>\n",
       "      <td>0.000000</td>\n",
       "      <td>0.099191</td>\n",
       "      <td>0.000000</td>\n",
       "      <td>0.000000</td>\n",
       "      <td>0.0</td>\n",
       "      <td>0.0</td>\n",
       "      <td>0.0</td>\n",
       "      <td>...</td>\n",
       "      <td>0.0</td>\n",
       "      <td>0.001927</td>\n",
       "      <td>0.005369</td>\n",
       "      <td>0.002667</td>\n",
       "      <td>0.000000</td>\n",
       "      <td>0.000000</td>\n",
       "      <td>0.004348</td>\n",
       "      <td>0.000000</td>\n",
       "      <td>0.000937</td>\n",
       "      <td>0.000000</td>\n",
       "    </tr>\n",
       "    <tr>\n",
       "      <th>1</th>\n",
       "      <td>0.000000</td>\n",
       "      <td>0.00000</td>\n",
       "      <td>0.065716</td>\n",
       "      <td>0.000000</td>\n",
       "      <td>0.099292</td>\n",
       "      <td>0.004190</td>\n",
       "      <td>0.000000</td>\n",
       "      <td>0.0</td>\n",
       "      <td>0.0</td>\n",
       "      <td>0.0</td>\n",
       "      <td>...</td>\n",
       "      <td>0.0</td>\n",
       "      <td>0.001821</td>\n",
       "      <td>0.000000</td>\n",
       "      <td>0.002862</td>\n",
       "      <td>0.002861</td>\n",
       "      <td>0.000000</td>\n",
       "      <td>0.000421</td>\n",
       "      <td>0.000000</td>\n",
       "      <td>0.021173</td>\n",
       "      <td>0.000000</td>\n",
       "    </tr>\n",
       "    <tr>\n",
       "      <th>2</th>\n",
       "      <td>0.000000</td>\n",
       "      <td>0.00000</td>\n",
       "      <td>0.052625</td>\n",
       "      <td>0.000000</td>\n",
       "      <td>0.109187</td>\n",
       "      <td>0.000000</td>\n",
       "      <td>0.000000</td>\n",
       "      <td>0.0</td>\n",
       "      <td>0.0</td>\n",
       "      <td>0.0</td>\n",
       "      <td>...</td>\n",
       "      <td>0.0</td>\n",
       "      <td>0.000619</td>\n",
       "      <td>0.000000</td>\n",
       "      <td>0.000000</td>\n",
       "      <td>0.000000</td>\n",
       "      <td>0.000000</td>\n",
       "      <td>0.000000</td>\n",
       "      <td>0.000000</td>\n",
       "      <td>0.006701</td>\n",
       "      <td>0.000000</td>\n",
       "    </tr>\n",
       "    <tr>\n",
       "      <th>3</th>\n",
       "      <td>0.000206</td>\n",
       "      <td>0.00000</td>\n",
       "      <td>0.036736</td>\n",
       "      <td>0.004686</td>\n",
       "      <td>0.115471</td>\n",
       "      <td>0.000000</td>\n",
       "      <td>0.005678</td>\n",
       "      <td>0.0</td>\n",
       "      <td>0.0</td>\n",
       "      <td>0.0</td>\n",
       "      <td>...</td>\n",
       "      <td>0.0</td>\n",
       "      <td>0.006691</td>\n",
       "      <td>0.000000</td>\n",
       "      <td>0.001623</td>\n",
       "      <td>0.002227</td>\n",
       "      <td>0.001869</td>\n",
       "      <td>0.002081</td>\n",
       "      <td>0.000000</td>\n",
       "      <td>0.010243</td>\n",
       "      <td>0.000000</td>\n",
       "    </tr>\n",
       "    <tr>\n",
       "      <th>4</th>\n",
       "      <td>0.000000</td>\n",
       "      <td>0.00000</td>\n",
       "      <td>0.073197</td>\n",
       "      <td>0.008005</td>\n",
       "      <td>0.105945</td>\n",
       "      <td>0.007903</td>\n",
       "      <td>0.000000</td>\n",
       "      <td>0.0</td>\n",
       "      <td>0.0</td>\n",
       "      <td>0.0</td>\n",
       "      <td>...</td>\n",
       "      <td>0.0</td>\n",
       "      <td>0.005608</td>\n",
       "      <td>0.000219</td>\n",
       "      <td>0.005215</td>\n",
       "      <td>0.005447</td>\n",
       "      <td>0.006491</td>\n",
       "      <td>0.000000</td>\n",
       "      <td>0.002582</td>\n",
       "      <td>0.000000</td>\n",
       "      <td>0.000461</td>\n",
       "    </tr>\n",
       "  </tbody>\n",
       "</table>\n",
       "<p>5 rows × 910 columns</p>\n",
       "</div>"
      ],
      "text/plain": [
       "   Forecasted_value  Forecasted_value  Forecasted_value  Forecasted_value  \\\n",
       "0          0.000000           0.00416          0.064026          0.000000   \n",
       "1          0.000000           0.00000          0.065716          0.000000   \n",
       "2          0.000000           0.00000          0.052625          0.000000   \n",
       "3          0.000206           0.00000          0.036736          0.004686   \n",
       "4          0.000000           0.00000          0.073197          0.008005   \n",
       "\n",
       "   Forecasted_value  Forecasted_value  Forecasted_value  Forecasted_value  \\\n",
       "0          0.099191          0.000000          0.000000               0.0   \n",
       "1          0.099292          0.004190          0.000000               0.0   \n",
       "2          0.109187          0.000000          0.000000               0.0   \n",
       "3          0.115471          0.000000          0.005678               0.0   \n",
       "4          0.105945          0.007903          0.000000               0.0   \n",
       "\n",
       "   Forecasted_value  Forecasted_value  ...  Forecasted_value  \\\n",
       "0               0.0               0.0  ...               0.0   \n",
       "1               0.0               0.0  ...               0.0   \n",
       "2               0.0               0.0  ...               0.0   \n",
       "3               0.0               0.0  ...               0.0   \n",
       "4               0.0               0.0  ...               0.0   \n",
       "\n",
       "   Forecasted_value  Forecasted_value  Forecasted_value  Forecasted_value  \\\n",
       "0          0.001927          0.005369          0.002667          0.000000   \n",
       "1          0.001821          0.000000          0.002862          0.002861   \n",
       "2          0.000619          0.000000          0.000000          0.000000   \n",
       "3          0.006691          0.000000          0.001623          0.002227   \n",
       "4          0.005608          0.000219          0.005215          0.005447   \n",
       "\n",
       "   Forecasted_value  Forecasted_value  Forecasted_value  Forecasted_value  \\\n",
       "0          0.000000          0.004348          0.000000          0.000937   \n",
       "1          0.000000          0.000421          0.000000          0.021173   \n",
       "2          0.000000          0.000000          0.000000          0.006701   \n",
       "3          0.001869          0.002081          0.000000          0.010243   \n",
       "4          0.006491          0.000000          0.002582          0.000000   \n",
       "\n",
       "   Forecasted_value  \n",
       "0          0.000000  \n",
       "1          0.000000  \n",
       "2          0.000000  \n",
       "3          0.000000  \n",
       "4          0.000461  \n",
       "\n",
       "[5 rows x 910 columns]"
      ]
     },
     "execution_count": 32,
     "metadata": {},
     "output_type": "execute_result"
    }
   ],
   "source": [
    "exp_forecasted.head()"
   ]
  },
  {
   "cell_type": "code",
   "execution_count": 33,
   "id": "92bcf82f-ca31-4b25-a919-c8d51d72cfa7",
   "metadata": {},
   "outputs": [],
   "source": [
    "sum_forecasted_values = exp_forecasted.sum(axis = 1)"
   ]
  },
  {
   "cell_type": "code",
   "execution_count": 34,
   "id": "7f0e1119-a3bd-4a52-ae36-afa2c2070e2b",
   "metadata": {},
   "outputs": [
    {
     "data": {
      "text/plain": [
       "0    23.503550\n",
       "1    24.115131\n",
       "2    26.528568\n",
       "3    20.815900\n",
       "4    18.023487\n",
       "5    22.598980\n",
       "6    19.973688\n",
       "dtype: float64"
      ]
     },
     "execution_count": 34,
     "metadata": {},
     "output_type": "execute_result"
    }
   ],
   "source": [
    "sum_forecasted_values"
   ]
  },
  {
   "cell_type": "code",
   "execution_count": 35,
   "id": "cbc06a7e-2dca-400d-9cea-d063c33a4442",
   "metadata": {},
   "outputs": [],
   "source": [
    "# concatenate the sum dataframes\n",
    "block_0206_true_and_forecasted_values_df = pd.concat((sum_true_values, sum_forecasted_values), axis = 1)"
   ]
  },
  {
   "cell_type": "code",
   "execution_count": 36,
   "id": "f667f3a6-d7f7-4e7c-a037-1e9541dd38bd",
   "metadata": {},
   "outputs": [],
   "source": [
    "block_0206_true_and_forecasted_values_df.columns = [\"True_count\", \"Forecasted_count\"]"
   ]
  },
  {
   "cell_type": "code",
   "execution_count": 37,
   "id": "d27b93db-c9e2-49ff-9003-9e4925de3179",
   "metadata": {},
   "outputs": [
    {
     "data": {
      "text/html": [
       "<div>\n",
       "<style scoped>\n",
       "    .dataframe tbody tr th:only-of-type {\n",
       "        vertical-align: middle;\n",
       "    }\n",
       "\n",
       "    .dataframe tbody tr th {\n",
       "        vertical-align: top;\n",
       "    }\n",
       "\n",
       "    .dataframe thead th {\n",
       "        text-align: right;\n",
       "    }\n",
       "</style>\n",
       "<table border=\"1\" class=\"dataframe\">\n",
       "  <thead>\n",
       "    <tr style=\"text-align: right;\">\n",
       "      <th></th>\n",
       "      <th>True_count</th>\n",
       "      <th>Forecasted_count</th>\n",
       "    </tr>\n",
       "  </thead>\n",
       "  <tbody>\n",
       "    <tr>\n",
       "      <th>0</th>\n",
       "      <td>40.999838</td>\n",
       "      <td>23.503550</td>\n",
       "    </tr>\n",
       "    <tr>\n",
       "      <th>1</th>\n",
       "      <td>41.998811</td>\n",
       "      <td>24.115131</td>\n",
       "    </tr>\n",
       "    <tr>\n",
       "      <th>2</th>\n",
       "      <td>39.000067</td>\n",
       "      <td>26.528568</td>\n",
       "    </tr>\n",
       "    <tr>\n",
       "      <th>3</th>\n",
       "      <td>32.000003</td>\n",
       "      <td>20.815900</td>\n",
       "    </tr>\n",
       "    <tr>\n",
       "      <th>4</th>\n",
       "      <td>25.000352</td>\n",
       "      <td>18.023487</td>\n",
       "    </tr>\n",
       "    <tr>\n",
       "      <th>5</th>\n",
       "      <td>23.000040</td>\n",
       "      <td>22.598980</td>\n",
       "    </tr>\n",
       "    <tr>\n",
       "      <th>6</th>\n",
       "      <td>18.000000</td>\n",
       "      <td>19.973688</td>\n",
       "    </tr>\n",
       "  </tbody>\n",
       "</table>\n",
       "</div>"
      ],
      "text/plain": [
       "   True_count  Forecasted_count\n",
       "0   40.999838         23.503550\n",
       "1   41.998811         24.115131\n",
       "2   39.000067         26.528568\n",
       "3   32.000003         20.815900\n",
       "4   25.000352         18.023487\n",
       "5   23.000040         22.598980\n",
       "6   18.000000         19.973688"
      ]
     },
     "execution_count": 37,
     "metadata": {},
     "output_type": "execute_result"
    }
   ],
   "source": [
    "block_0206_true_and_forecasted_values_df"
   ]
  },
  {
   "cell_type": "code",
   "execution_count": 38,
   "id": "636d512d-f76b-48dc-90f1-872dc6a32736",
   "metadata": {},
   "outputs": [
    {
     "data": {
      "text/plain": [
       "11.70653949616125"
      ]
     },
     "execution_count": 38,
     "metadata": {},
     "output_type": "execute_result"
    }
   ],
   "source": [
    "# blockwise mean squared error\n",
    "rmse = np.sqrt(mean_squared_error(sum_true_values, sum_forecasted_values))\n",
    "rmse"
   ]
  },
  {
   "cell_type": "code",
   "execution_count": 39,
   "id": "df568443-7d02-4ba8-ad0e-5d83f2576c8b",
   "metadata": {},
   "outputs": [
    {
     "data": {
      "text/plain": [
       "9.769597593175812"
      ]
     },
     "execution_count": 39,
     "metadata": {},
     "output_type": "execute_result"
    }
   ],
   "source": [
    "# blockwise mean absolute error\n",
    "mae = mean_absolute_error(sum_true_values, sum_forecasted_values)\n",
    "mae"
   ]
  },
  {
   "cell_type": "code",
   "execution_count": 40,
   "id": "24d1568b-1b0d-41db-a60b-cd864b46d6e7",
   "metadata": {},
   "outputs": [
    {
     "data": {
      "text/plain": [
       "PearsonRResult(statistic=0.7200388900748441, pvalue=0.06803773786205065)"
      ]
     },
     "execution_count": 40,
     "metadata": {},
     "output_type": "execute_result"
    }
   ],
   "source": [
    "corr = pearsonr(sum_true_values, sum_forecasted_values)\n",
    "corr"
   ]
  },
  {
   "cell_type": "code",
   "execution_count": 41,
   "id": "cf8101a2-be23-4216-afd7-f7783e56f62d",
   "metadata": {},
   "outputs": [
    {
     "data": {
      "text/plain": [
       "-0.7325860074919468"
      ]
     },
     "execution_count": 41,
     "metadata": {},
     "output_type": "execute_result"
    }
   ],
   "source": [
    "r2 = r2_score(sum_true_values, sum_forecasted_values)\n",
    "r2"
   ]
  },
  {
   "cell_type": "markdown",
   "id": "fa460e4d-2fdc-45fb-8f50-6a50b0a6ef13",
   "metadata": {},
   "source": [
    "##### Coverages and widths for the forecasted values?"
   ]
  },
  {
   "cell_type": "code",
   "execution_count": 42,
   "id": "eae4e334-d06f-4950-b09e-ec34cb4f3eba",
   "metadata": {},
   "outputs": [],
   "source": [
    "# for this we need the all_forecasts npy files"
   ]
  },
  {
   "cell_type": "code",
   "execution_count": 43,
   "id": "1ec4f3fa-b7b0-4064-9007-4230b0e64f72",
   "metadata": {},
   "outputs": [],
   "source": [
    "# content location is the same path as above"
   ]
  },
  {
   "cell_type": "code",
   "execution_count": 44,
   "id": "febb8655-c529-4099-b22e-ee36918188d5",
   "metadata": {},
   "outputs": [],
   "source": [
    "all_forecasts_npy_files = ['all_forecasts_sub_' + str(i) + '.npy' for i in range(910)]"
   ]
  },
  {
   "cell_type": "code",
   "execution_count": 45,
   "id": "11eba5f0-5a18-4d7d-a743-d57bc9cf93a4",
   "metadata": {},
   "outputs": [],
   "source": [
    "# all_forecasts_npy_files"
   ]
  },
  {
   "cell_type": "code",
   "execution_count": 46,
   "id": "7711dd37-fd3c-4ac8-b8ae-b4be59dff7fa",
   "metadata": {},
   "outputs": [],
   "source": [
    "# load the npy files"
   ]
  },
  {
   "cell_type": "code",
   "execution_count": 47,
   "id": "57f059e1-25b1-4e6d-b370-9ca0236848ea",
   "metadata": {},
   "outputs": [
    {
     "name": "stdout",
     "output_type": "stream",
     "text": [
      "CPU times: user 259 ms, sys: 73.8 ms, total: 333 ms\n",
      "Wall time: 334 ms\n"
     ]
    }
   ],
   "source": [
    "%%time\n",
    "loaded_npy_files = []\n",
    "for file in all_forecasts_npy_files:\n",
    "    joined_path = os.path.join(path_to_dfs, file)\n",
    "    load_file = np.load(joined_path)\n",
    "    # notice we are averaging the preds across the chains before exponentiation\n",
    "    mean_file = np.exp(np.mean(load_file, axis = 1)) - 1\n",
    "    loaded_npy_files.append(mean_file)"
   ]
  },
  {
   "cell_type": "code",
   "execution_count": 48,
   "id": "78d4c420-8e99-4103-881e-297bc81f909d",
   "metadata": {},
   "outputs": [
    {
     "data": {
      "text/plain": [
       "910"
      ]
     },
     "execution_count": 48,
     "metadata": {},
     "output_type": "execute_result"
    }
   ],
   "source": [
    "len(loaded_npy_files)"
   ]
  },
  {
   "cell_type": "code",
   "execution_count": 49,
   "id": "3cc8627a-822a-4c8e-898a-52957870ccde",
   "metadata": {},
   "outputs": [
    {
     "data": {
      "text/plain": [
       "(1000, 7)"
      ]
     },
     "execution_count": 49,
     "metadata": {},
     "output_type": "execute_result"
    }
   ],
   "source": [
    "loaded_npy_files[0].shape"
   ]
  },
  {
   "cell_type": "code",
   "execution_count": 50,
   "id": "ab72ca92-e8f1-4ce3-9cea-117b673d4529",
   "metadata": {},
   "outputs": [
    {
     "data": {
      "text/plain": [
       "array([[-2.17640400e-03, -4.56237793e-03, -1.55866146e-03, ...,\n",
       "        -3.78268957e-03,  2.81322002e-03,  1.95062160e-03],\n",
       "       [-4.18424606e-04, -5.13511896e-03, -2.41535902e-03, ...,\n",
       "        -4.20236588e-03,  4.58407402e-03,  1.57392025e-03],\n",
       "       [ 8.95261765e-05, -5.77729940e-03, -2.36159563e-03, ...,\n",
       "        -3.91417742e-03,  3.89742851e-03,  1.41870975e-03],\n",
       "       ...,\n",
       "       [-1.21746659e-02, -1.35495663e-02, -9.44626331e-03, ...,\n",
       "        -3.47536802e-03,  8.90791416e-03,  5.87797165e-03],\n",
       "       [-1.20910406e-02, -1.24719143e-02, -8.36259127e-03, ...,\n",
       "        -3.56328487e-03,  7.95912743e-03,  5.69224358e-03],\n",
       "       [-1.20280385e-02, -1.16259456e-02, -9.05787945e-03, ...,\n",
       "        -4.35346365e-03,  7.16817379e-03,  6.10864162e-03]], dtype=float32)"
      ]
     },
     "execution_count": 50,
     "metadata": {},
     "output_type": "execute_result"
    }
   ],
   "source": [
    "loaded_npy_files[0]"
   ]
  },
  {
   "cell_type": "code",
   "execution_count": 51,
   "id": "53dd5c88-918c-46a0-b5ae-cb7c75895741",
   "metadata": {},
   "outputs": [
    {
     "name": "stdout",
     "output_type": "stream",
     "text": [
      "CPU times: user 20.5 ms, sys: 349 µs, total: 20.9 ms\n",
      "Wall time: 20.1 ms\n"
     ]
    }
   ],
   "source": [
    "%%time\n",
    "# convert less than 0 entries to 0 for all arrays\n",
    "for arr in loaded_npy_files:\n",
    "    arr[arr < 0] = 0"
   ]
  },
  {
   "cell_type": "code",
   "execution_count": 52,
   "id": "b20d4662-eefc-41bc-ac0a-25d0613fa00c",
   "metadata": {},
   "outputs": [
    {
     "data": {
      "text/plain": [
       "array([[0.0000000e+00, 0.0000000e+00, 0.0000000e+00, ..., 0.0000000e+00,\n",
       "        2.8132200e-03, 1.9506216e-03],\n",
       "       [0.0000000e+00, 0.0000000e+00, 0.0000000e+00, ..., 0.0000000e+00,\n",
       "        4.5840740e-03, 1.5739202e-03],\n",
       "       [8.9526176e-05, 0.0000000e+00, 0.0000000e+00, ..., 0.0000000e+00,\n",
       "        3.8974285e-03, 1.4187098e-03],\n",
       "       ...,\n",
       "       [0.0000000e+00, 0.0000000e+00, 0.0000000e+00, ..., 0.0000000e+00,\n",
       "        8.9079142e-03, 5.8779716e-03],\n",
       "       [0.0000000e+00, 0.0000000e+00, 0.0000000e+00, ..., 0.0000000e+00,\n",
       "        7.9591274e-03, 5.6922436e-03],\n",
       "       [0.0000000e+00, 0.0000000e+00, 0.0000000e+00, ..., 0.0000000e+00,\n",
       "        7.1681738e-03, 6.1086416e-03]], dtype=float32)"
      ]
     },
     "execution_count": 52,
     "metadata": {},
     "output_type": "execute_result"
    }
   ],
   "source": [
    "loaded_npy_files[0]"
   ]
  },
  {
   "cell_type": "code",
   "execution_count": 53,
   "id": "f2474bdb-3a79-4436-83b1-2b3c3ac24a5c",
   "metadata": {},
   "outputs": [],
   "source": [
    "# Since we do not have overlapping sub-windows, we can sum the counts to get the final densities\n",
    "output = sum(loaded_npy_files)"
   ]
  },
  {
   "cell_type": "code",
   "execution_count": 54,
   "id": "d9038206-4f90-4001-9c3c-aee27d7d610c",
   "metadata": {},
   "outputs": [
    {
     "data": {
      "text/plain": [
       "(1000, 7)"
      ]
     },
     "execution_count": 54,
     "metadata": {},
     "output_type": "execute_result"
    }
   ],
   "source": [
    "output.shape"
   ]
  },
  {
   "cell_type": "code",
   "execution_count": 55,
   "id": "6116babf-18f2-4e39-9a72-150ccc4e6387",
   "metadata": {},
   "outputs": [
    {
     "data": {
      "text/plain": [
       "array([[33.28402 , 32.028732, 33.72515 , ..., 26.595327, 27.456772,\n",
       "        25.290445],\n",
       "       [31.023026, 28.558743, 32.03168 , ..., 25.479044, 31.304142,\n",
       "        33.112522],\n",
       "       [33.427483, 35.498737, 36.50292 , ..., 28.930113, 31.59935 ,\n",
       "        26.597963],\n",
       "       ...,\n",
       "       [26.606936, 33.08623 , 32.982944, ..., 31.690863, 35.11505 ,\n",
       "        34.318546],\n",
       "       [32.902695, 30.927944, 41.59997 , ..., 34.592503, 32.627274,\n",
       "        30.122444],\n",
       "       [27.344997, 30.200788, 41.170826, ..., 32.27638 , 38.80031 ,\n",
       "        33.889378]], dtype=float32)"
      ]
     },
     "execution_count": 55,
     "metadata": {},
     "output_type": "execute_result"
    }
   ],
   "source": [
    "output"
   ]
  },
  {
   "cell_type": "code",
   "execution_count": 56,
   "id": "fbac31f0-215b-4e8b-8c13-2cd85e76a70f",
   "metadata": {},
   "outputs": [],
   "source": [
    "# is this sum correct? alternative method of computing the sums\n",
    "output_alt = np.sum(loaded_npy_files, axis = 0)"
   ]
  },
  {
   "cell_type": "code",
   "execution_count": 57,
   "id": "1198a1a0-14fc-4101-b4af-14a2c26dc0c5",
   "metadata": {},
   "outputs": [
    {
     "data": {
      "text/plain": [
       "(1000, 7)"
      ]
     },
     "execution_count": 57,
     "metadata": {},
     "output_type": "execute_result"
    }
   ],
   "source": [
    "output_alt.shape"
   ]
  },
  {
   "cell_type": "code",
   "execution_count": 58,
   "id": "23c6ebbe-2c27-47ff-8a5f-86491e58d899",
   "metadata": {},
   "outputs": [
    {
     "data": {
      "text/plain": [
       "array([[33.28402 , 32.028732, 33.72515 , ..., 26.595327, 27.456772,\n",
       "        25.290445],\n",
       "       [31.023026, 28.558743, 32.03168 , ..., 25.479044, 31.304142,\n",
       "        33.112522],\n",
       "       [33.427483, 35.498737, 36.50292 , ..., 28.930113, 31.59935 ,\n",
       "        26.597963],\n",
       "       ...,\n",
       "       [26.606936, 33.08623 , 32.982944, ..., 31.690863, 35.11505 ,\n",
       "        34.318546],\n",
       "       [32.902695, 30.927944, 41.59997 , ..., 34.592503, 32.627274,\n",
       "        30.122444],\n",
       "       [27.344997, 30.200788, 41.170826, ..., 32.27638 , 38.80031 ,\n",
       "        33.889378]], dtype=float32)"
      ]
     },
     "execution_count": 58,
     "metadata": {},
     "output_type": "execute_result"
    }
   ],
   "source": [
    "output_alt"
   ]
  },
  {
   "cell_type": "code",
   "execution_count": 59,
   "id": "7b4a8d85-fe98-49c3-9a9f-51fbd90c5174",
   "metadata": {},
   "outputs": [
    {
     "data": {
      "text/plain": [
       "1.0"
      ]
     },
     "execution_count": 59,
     "metadata": {},
     "output_type": "execute_result"
    }
   ],
   "source": [
    "np.mean(output_alt == output)"
   ]
  },
  {
   "cell_type": "code",
   "execution_count": 60,
   "id": "ba6418a3-03f4-475a-b552-55a08048311f",
   "metadata": {},
   "outputs": [],
   "source": [
    "# verified the sum is correct, let's get the widths and the coverages - and also any essential plots"
   ]
  },
  {
   "cell_type": "code",
   "execution_count": 61,
   "id": "ca61eabc-63ed-4b74-b20a-61521b3751a6",
   "metadata": {},
   "outputs": [],
   "source": [
    "# now we can get the 2.5th abd the 97.5th percentiles - to get the coverage and the widths of the CIS\n",
    "li_train = np.percentile(output, axis = 0, q = (2.5, 97.5))[0,:].reshape(-1,1)    \n",
    "ui_train = np.percentile(output, axis = 0, q = (2.5, 97.5))[1,:].reshape(-1,1)"
   ]
  },
  {
   "cell_type": "code",
   "execution_count": 62,
   "id": "9cad5cca-320d-4e70-b204-e4dc52fb9d6d",
   "metadata": {},
   "outputs": [
    {
     "data": {
      "text/plain": [
       "array([[21.37004342],\n",
       "       [20.42549167],\n",
       "       [21.44559546],\n",
       "       [18.68900976],\n",
       "       [16.8740592 ],\n",
       "       [19.76955652],\n",
       "       [18.60988598]])"
      ]
     },
     "execution_count": 62,
     "metadata": {},
     "output_type": "execute_result"
    }
   ],
   "source": [
    "li_train"
   ]
  },
  {
   "cell_type": "code",
   "execution_count": 63,
   "id": "4e669c1d-0916-4e77-92e2-a1b1879834aa",
   "metadata": {},
   "outputs": [
    {
     "data": {
      "text/plain": [
       "array([[39.03762932],\n",
       "       [39.42178612],\n",
       "       [41.60063419],\n",
       "       [37.65876884],\n",
       "       [35.12280054],\n",
       "       [39.52673798],\n",
       "       [36.3031786 ]])"
      ]
     },
     "execution_count": 63,
     "metadata": {},
     "output_type": "execute_result"
    }
   ],
   "source": [
    "ui_train"
   ]
  },
  {
   "cell_type": "code",
   "execution_count": 64,
   "id": "4d51a483-bfe5-4cc6-a31f-813cb83d5540",
   "metadata": {},
   "outputs": [],
   "source": [
    "width_train = ui_train - li_train\n",
    "avg_width_train = width_train.mean(0)[0]"
   ]
  },
  {
   "cell_type": "code",
   "execution_count": 65,
   "id": "37b163bb-b24c-4af2-8f2b-19c78eb24ff9",
   "metadata": {},
   "outputs": [
    {
     "data": {
      "text/plain": [
       "18.78398479734148"
      ]
     },
     "execution_count": 65,
     "metadata": {},
     "output_type": "execute_result"
    }
   ],
   "source": [
    "avg_width_train"
   ]
  },
  {
   "cell_type": "code",
   "execution_count": 66,
   "id": "46d652b2-05be-44f9-bf0d-3ff69ad25fed",
   "metadata": {},
   "outputs": [],
   "source": [
    "y_traina = block_0206_true_and_forecasted_values_df[[\"True_count\"]].values"
   ]
  },
  {
   "cell_type": "code",
   "execution_count": 67,
   "id": "053c0783-3289-4068-9999-948c0f985fa1",
   "metadata": {},
   "outputs": [
    {
     "data": {
      "text/plain": [
       "array([[40.99983801],\n",
       "       [41.99881064],\n",
       "       [39.00006729],\n",
       "       [32.00000348],\n",
       "       [25.000352  ],\n",
       "       [23.00003994],\n",
       "       [17.99999959]])"
      ]
     },
     "execution_count": 67,
     "metadata": {},
     "output_type": "execute_result"
    }
   ],
   "source": [
    "y_traina"
   ]
  },
  {
   "cell_type": "code",
   "execution_count": 68,
   "id": "5f1ba54d-0aca-494d-b741-b2cd6d00fcb3",
   "metadata": {},
   "outputs": [],
   "source": [
    "ind_train = (y_traina >= li_train) & (y_traina <= ui_train)\n",
    "coverage_train= ind_train.mean(0)[0]"
   ]
  },
  {
   "cell_type": "code",
   "execution_count": 69,
   "id": "66d5a7c9-0400-4f6f-9221-9cb9c7860d3c",
   "metadata": {},
   "outputs": [
    {
     "data": {
      "text/plain": [
       "0.5714285714285714"
      ]
     },
     "execution_count": 69,
     "metadata": {},
     "output_type": "execute_result"
    }
   ],
   "source": [
    "coverage_train"
   ]
  },
  {
   "cell_type": "code",
   "execution_count": 70,
   "id": "ce86b870-01cf-4e10-904b-ef2396d2dc47",
   "metadata": {},
   "outputs": [
    {
     "data": {
      "text/plain": [
       "array([29.553679, 29.300364, 31.124756, 27.388336, 24.61196 , 28.40015 ,\n",
       "       26.713676], dtype=float32)"
      ]
     },
     "execution_count": 70,
     "metadata": {},
     "output_type": "execute_result"
    }
   ],
   "source": [
    "np.mean(output, axis = 0)"
   ]
  },
  {
   "cell_type": "code",
   "execution_count": 71,
   "id": "311beb4f-6347-407c-af9b-bfe285361098",
   "metadata": {},
   "outputs": [
    {
     "data": {
      "text/plain": [
       "0    23.503550\n",
       "1    24.115131\n",
       "2    26.528568\n",
       "3    20.815900\n",
       "4    18.023487\n",
       "5    22.598980\n",
       "6    19.973688\n",
       "dtype: float64"
      ]
     },
     "execution_count": 71,
     "metadata": {},
     "output_type": "execute_result"
    }
   ],
   "source": [
    "sum_forecasted_values"
   ]
  },
  {
   "cell_type": "code",
   "execution_count": 72,
   "id": "0f94ff2b-6606-477b-a3a7-c3841f436c56",
   "metadata": {},
   "outputs": [
    {
     "data": {
      "image/png": "[encoded data removed]",
      "text/plain": [
       "<Figure size 640x480 with 1 Axes>"
      ]
     },
     "metadata": {},
     "output_type": "display_data"
    }
   ],
   "source": [
    "plt.scatter(block_0206_true_and_forecasted_values_df['True_count'], block_0206_true_and_forecasted_values_df['Forecasted_count'])\n",
    "plt.xlabel(\"True density\")\n",
    "plt.ylabel(\"Predicted density\")\n",
    "# Add the y = x line\n",
    "plt.plot([16, 42], [16, 42], color='green', label='y = x')\n",
    "plt.legend()\n",
    "plt.show()"
   ]
  },
  {
   "cell_type": "code",
   "execution_count": 73,
   "id": "04aa778d-3203-493f-a8d5-6c42cd0c540a",
   "metadata": {},
   "outputs": [
    {
     "data": {
      "image/png": "[encoded data removed]",
      "text/plain": [
       "<Figure size 1500x2000 with 8 Axes>"
      ]
     },
     "metadata": {},
     "output_type": "display_data"
    },
    {
     "name": "stdout",
     "output_type": "stream",
     "text": [
      "CPU times: user 27.4 s, sys: 868 ms, total: 28.2 s\n",
      "Wall time: 27.9 s\n"
     ]
    }
   ],
   "source": [
    "%%time\n",
    "# Create a 2x4 grid of subplots (total 8 plots, the last one will be left empty)\n",
    "fig, axes = plt.subplots(4, 2, figsize=(15,20))\n",
    "axes = axes.flatten() \n",
    "\n",
    "# widths plots\n",
    "for i in range(7):\n",
    "    timestep_i_subwindows = []\n",
    "    for y, file in enumerate(loaded_npy_files):\n",
    "        t_i_forecast = file[:,i]\n",
    "        # print the shape of the extracted array\n",
    "        # print(t_i_forecast.shape)\n",
    "        timestep_i_subwindows.append(t_i_forecast)\n",
    "    stacked_forecasts = np.stack(timestep_i_subwindows)\n",
    "    stacked_forecasts[stacked_forecasts<0] = 0\n",
    "    sorted_stacked_forecasts = np.sort(stacked_forecasts, axis = 1)\n",
    "    # get the values between the 2.5th and 97.5th percentile?\n",
    "    sorted_interval_data = sorted_stacked_forecasts[:,25:975]\n",
    "\n",
    "    # Plot for the current 2D array\n",
    "    for l, row in enumerate(sorted_interval_data):\n",
    "        axes[i].plot([l + 1] * len(row), row, 'o', markersize=1, color='teal', label='Distribution of forecasted values' if l == 0 else \"\")\n",
    "    \n",
    "    true_counts = exp_true.iloc[i,:].values\n",
    "\n",
    "    # # Overlay the 1D array values\n",
    "    axes[i].plot(np.arange(1, 911), true_counts, 'o', markersize=1, color='red', label='True density')\n",
    "    \n",
    "    # Customize x-ticks and labels\n",
    "    axes[i].set_xticks(np.arange(1, 911))\n",
    "    # axes[i].set_xticklabels([f'sub_window_{zz + 1}' for zz in range(910)], rotation=90, fontsize=13)\n",
    "    axes[i].set_xlabel(\"Sub windows\", fontsize=12, fontweight='bold')\n",
    "    axes[i].set_ylabel(\"Forecasted and true densities\", fontsize=12, fontweight='bold')\n",
    "    axes[i].set_title(f\"Test image {i + 1}\", fontsize=12, fontweight='bold')\n",
    "    axes[i].legend()\n",
    "\n",
    "\n",
    "# Hide the last (empty) subplot\n",
    "axes[-1].set_visible(False)\n",
    "\n",
    "# Adjust layout\n",
    "plt.tight_layout()\n",
    "\n",
    "# # Save the figure as a PDF file\n",
    "# plt.savefig(\"Previous_data/Forecasted_distributions_blk13.pdf\", format='pdf', bbox_inches='tight')\n",
    "plt.show()\n",
    "\n"
   ]
  },
  {
   "cell_type": "code",
   "execution_count": 74,
   "id": "b51d6a01-5c7a-4e37-be12-776053974e4d",
   "metadata": {},
   "outputs": [],
   "source": [
    "# plots are going to be too over-crowded as we now have 910 subwindows - might beed to talk to Dr. Ghosh to figure out a better way to give these plots"
   ]
  },
  {
   "cell_type": "code",
   "execution_count": 75,
   "id": "c278c7bc-eced-4cbb-ab5c-b5156fe33612",
   "metadata": {},
   "outputs": [],
   "source": [
    "# we may need to re-think about the way the average forecasts were computed. Maybe get the average after exponentiating than averaging all values to a single value and then exponentiating? this would be a few lines of codes - but may be a better way to get the forecated density values? "
   ]
  }
 ],
 "metadata": {
  "kernelspec": {
   "display_name": "Python (tfp_cpu_env)",
   "language": "python",
   "name": "tfp_cpu_env"
  },
  "language_info": {
   "codemirror_mode": {
    "name": "ipython",
    "version": 3
   },
   "file_extension": ".py",
   "mimetype": "text/x-python",
   "name": "python",
   "nbconvert_exporter": "python",
   "pygments_lexer": "ipython3",
   "version": "3.11.7"
  }
 },
 "nbformat": 4,
 "nbformat_minor": 5
}
