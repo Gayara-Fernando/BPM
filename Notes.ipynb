{
 "cells": [
  {
   "cell_type": "markdown",
   "id": "c516008d-35e0-40bc-9482-1fac7fb49836",
   "metadata": {},
   "source": [
    "In this notebook, we will document what each of the functions do in our Bayesian modeling framework. We will also document how the data has been used for both model training and inference. This might take some time, but it is worth taking time to document the entire process so we have it written incase we need to look at it later on."
   ]
  },
  {
   "cell_type": "markdown",
   "id": "19f79723-f72f-4ddf-b468-f4cd24d926b5",
   "metadata": {},
   "source": [
    "Let's copy the notebook where all the previous Bayesian latent AR process code is at. And let's write on the notebook it self what the code is doing, so that we don't lose it later."
   ]
  },
  {
   "cell_type": "markdown",
   "id": "de1ebb81-eb03-49fc-844b-8617c7830e6e",
   "metadata": {},
   "source": [
    "Let's also copy the input data we ned here into a folder, so that we can properly parallelize the for loop we write. We may also need to keep track of the time the for loop will take with and without parallelizing to see if we are seeing any improvement on the parallel code."
   ]
  },
  {
   "cell_type": "markdown",
   "id": "defea281-e388-48fb-8f3f-1e366356d028",
   "metadata": {},
   "source": [
    "Also, play attention to what all is done in the inference script"
   ]
  },
  {
   "cell_type": "code",
   "execution_count": null,
   "id": "811300ab-3480-4833-852e-b4c8b4e39b8a",
   "metadata": {},
   "outputs": [],
   "source": []
  },
  {
   "cell_type": "code",
   "execution_count": null,
   "id": "f3dd8bfd-30d2-45de-84ab-a8058a245067",
   "metadata": {},
   "outputs": [],
   "source": []
  },
  {
   "cell_type": "code",
   "execution_count": null,
   "id": "9ac9d072-3365-4936-88ea-ac701086b575",
   "metadata": {},
   "outputs": [],
   "source": []
  }
 ],
 "metadata": {
  "kernelspec": {
   "display_name": "Python (tfp_cpu_env)",
   "language": "python",
   "name": "tfp_cpu_env"
  },
  "language_info": {
   "codemirror_mode": {
    "name": "ipython",
    "version": 3
   },
   "file_extension": ".py",
   "mimetype": "text/x-python",
   "name": "python",
   "nbconvert_exporter": "python",
   "pygments_lexer": "ipython3",
   "version": "3.11.7"
  }
 },
 "nbformat": 4,
 "nbformat_minor": 5
}
