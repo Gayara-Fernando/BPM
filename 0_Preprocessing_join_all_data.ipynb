{
 "cells": [
  {
   "cell_type": "code",
   "execution_count": 1,
   "id": "819585ed-5569-4b86-9b0c-7aff24217f62",
   "metadata": {},
   "outputs": [],
   "source": [
    "# Okay, let's preprocess all data"
   ]
  },
  {
   "cell_type": "code",
   "execution_count": 2,
   "id": "8d3d1948-41b2-48a8-a489-ff4670865457",
   "metadata": {},
   "outputs": [
    {
     "name": "stderr",
     "output_type": "stream",
     "text": [
      "2025-07-28 10:05:04.306829: I tensorflow/core/util/port.cc:113] oneDNN custom operations are on. You may see slightly different numerical results due to floating-point round-off errors from different computation orders. To turn them off, set the environment variable `TF_ENABLE_ONEDNN_OPTS=0`.\n",
      "2025-07-28 10:05:04.343736: E external/local_xla/xla/stream_executor/cuda/cuda_dnn.cc:9261] Unable to register cuDNN factory: Attempting to register factory for plugin cuDNN when one has already been registered\n",
      "2025-07-28 10:05:04.343762: E external/local_xla/xla/stream_executor/cuda/cuda_fft.cc:607] Unable to register cuFFT factory: Attempting to register factory for plugin cuFFT when one has already been registered\n",
      "2025-07-28 10:05:04.344673: E external/local_xla/xla/stream_executor/cuda/cuda_blas.cc:1515] Unable to register cuBLAS factory: Attempting to register factory for plugin cuBLAS when one has already been registered\n",
      "2025-07-28 10:05:04.350773: I tensorflow/core/platform/cpu_feature_guard.cc:182] This TensorFlow binary is optimized to use available CPU instructions in performance-critical operations.\n",
      "To enable the following instructions: SSE4.1 SSE4.2 AVX AVX2 AVX512F AVX512_VNNI FMA, in other operations, rebuild TensorFlow with the appropriate compiler flags.\n"
     ]
    }
   ],
   "source": [
    "import numpy as np\n",
    "import pandas as pd\n",
    "import os\n",
    "import tensorflow as tf"
   ]
  },
  {
   "cell_type": "code",
   "execution_count": 3,
   "id": "25c0d29e-25ee-4838-814f-7031f04c7763",
   "metadata": {},
   "outputs": [],
   "source": [
    "# What all do we have? We have the geenrated features, and the densities defined for all the test blocks."
   ]
  },
  {
   "cell_type": "code",
   "execution_count": 4,
   "id": "348de4db-0da6-403d-9775-6f9931df82db",
   "metadata": {},
   "outputs": [],
   "source": [
    "# Do the data prep for one block, and define a function for the rest"
   ]
  },
  {
   "cell_type": "code",
   "execution_count": 5,
   "id": "6ea899d7-8b39-4cc2-8246-5375ccf04ff7",
   "metadata": {},
   "outputs": [],
   "source": [
    "# densities are here\n",
    "block_0103_density_file = np.load(os.path.join(\"data/densities_non_overlapping/\", \"all_densities_block_0103.npy\"))"
   ]
  },
  {
   "cell_type": "code",
   "execution_count": 6,
   "id": "e741a336-a6d0-4ef6-844e-e3a81078026c",
   "metadata": {},
   "outputs": [
    {
     "data": {
      "text/plain": [
       "(910, 20, 1)"
      ]
     },
     "execution_count": 6,
     "metadata": {},
     "output_type": "execute_result"
    }
   ],
   "source": [
    "block_0103_density_file.shape"
   ]
  },
  {
   "cell_type": "code",
   "execution_count": 7,
   "id": "da06ab38-4551-4a32-8166-96d0f4223415",
   "metadata": {},
   "outputs": [],
   "source": [
    "# Where are the feature files?"
   ]
  },
  {
   "cell_type": "code",
   "execution_count": 8,
   "id": "49350e46-74c6-4b8a-84ee-494487ca5d01",
   "metadata": {},
   "outputs": [],
   "source": [
    "# for test time points\n",
    "block_0103_feature_file_test_points = np.load(os.path.join(\"data/predicted_sequences_from_stage_1_non_overlapping/model_1/\", \"pred_values_blk_0103.npy\"))"
   ]
  },
  {
   "cell_type": "code",
   "execution_count": 9,
   "id": "18f1855f-fc7e-4cb6-bcd4-fad8a9c2bff1",
   "metadata": {},
   "outputs": [
    {
     "data": {
      "text/plain": [
       "(910, 7, 32)"
      ]
     },
     "execution_count": 9,
     "metadata": {},
     "output_type": "execute_result"
    }
   ],
   "source": [
    "block_0103_feature_file_test_points.shape"
   ]
  },
  {
   "cell_type": "code",
   "execution_count": 10,
   "id": "25c672d8-5898-40b0-84b8-57b4212a14fa",
   "metadata": {},
   "outputs": [],
   "source": [
    "# for train time points\n",
    "block_0103_feature_file_train_points = np.load(os.path.join(\"data/train_features_non_overlapping/\", \"train_features_block_0103.npy\"))"
   ]
  },
  {
   "cell_type": "code",
   "execution_count": 11,
   "id": "fca717a8-33be-49f8-9c1f-2f4e8a1e49a5",
   "metadata": {},
   "outputs": [
    {
     "data": {
      "text/plain": [
       "(910, 13, 32)"
      ]
     },
     "execution_count": 11,
     "metadata": {},
     "output_type": "execute_result"
    }
   ],
   "source": [
    "block_0103_feature_file_train_points.shape"
   ]
  },
  {
   "cell_type": "code",
   "execution_count": 12,
   "id": "288f8893-9194-452c-a527-bef6656cbfdb",
   "metadata": {},
   "outputs": [],
   "source": [
    "# Stack the featrue files together?"
   ]
  },
  {
   "cell_type": "code",
   "execution_count": 13,
   "id": "77b273af-4605-4fba-a2f7-b8b390e858db",
   "metadata": {},
   "outputs": [],
   "source": [
    "block_0103_features = np.hstack((block_0103_feature_file_train_points, block_0103_feature_file_test_points))"
   ]
  },
  {
   "cell_type": "code",
   "execution_count": 14,
   "id": "17f75e4e-5f42-45d1-9f34-0f3115152a08",
   "metadata": {},
   "outputs": [
    {
     "data": {
      "text/plain": [
       "(910, 20, 32)"
      ]
     },
     "execution_count": 14,
     "metadata": {},
     "output_type": "execute_result"
    }
   ],
   "source": [
    "block_0103_features.shape"
   ]
  },
  {
   "cell_type": "code",
   "execution_count": 15,
   "id": "6848ff63-af36-40ed-98f3-820351a85fe2",
   "metadata": {},
   "outputs": [],
   "source": [
    "# alternative way\n",
    "block_0103_features_alt = np.concatenate((block_0103_feature_file_train_points, block_0103_feature_file_test_points), axis = 1)"
   ]
  },
  {
   "cell_type": "code",
   "execution_count": 16,
   "id": "f213652a-b61a-44f1-b90d-561c5dfac62b",
   "metadata": {},
   "outputs": [
    {
     "data": {
      "text/plain": [
       "(910, 20, 32)"
      ]
     },
     "execution_count": 16,
     "metadata": {},
     "output_type": "execute_result"
    }
   ],
   "source": [
    "block_0103_features_alt.shape"
   ]
  },
  {
   "cell_type": "code",
   "execution_count": 17,
   "id": "f07b6a97-e6e4-4510-900d-6557df5a3ae6",
   "metadata": {},
   "outputs": [
    {
     "data": {
      "text/plain": [
       "1.0"
      ]
     },
     "execution_count": 17,
     "metadata": {},
     "output_type": "execute_result"
    }
   ],
   "source": [
    "# sanity check\n",
    "np.mean(block_0103_features == block_0103_features_alt)"
   ]
  },
  {
   "cell_type": "code",
   "execution_count": 18,
   "id": "cc9f288c-f2a5-4cdb-9b9f-24ea54e231cf",
   "metadata": {},
   "outputs": [],
   "source": [
    "# now stack this with the response?"
   ]
  },
  {
   "cell_type": "code",
   "execution_count": 19,
   "id": "f3af1271-303b-47c3-93fd-3fc8382e9495",
   "metadata": {},
   "outputs": [],
   "source": [
    "block_0103_all_data = np.concatenate((block_0103_features, block_0103_density_file), axis = 2)"
   ]
  },
  {
   "cell_type": "code",
   "execution_count": 20,
   "id": "54956dab-4dee-448e-845a-52eb70264237",
   "metadata": {},
   "outputs": [
    {
     "data": {
      "text/plain": [
       "(910, 20, 33)"
      ]
     },
     "execution_count": 20,
     "metadata": {},
     "output_type": "execute_result"
    }
   ],
   "source": [
    "block_0103_all_data.shape"
   ]
  },
  {
   "cell_type": "code",
   "execution_count": 21,
   "id": "ec8cb3ac-5a66-433f-813c-128370632047",
   "metadata": {},
   "outputs": [],
   "source": [
    "block_0103_all_data_alt = np.dstack((block_0103_features, block_0103_density_file))"
   ]
  },
  {
   "cell_type": "code",
   "execution_count": 22,
   "id": "cc7ce810-ce1b-4221-bc3d-250644c92ae5",
   "metadata": {},
   "outputs": [
    {
     "data": {
      "text/plain": [
       "(910, 20, 33)"
      ]
     },
     "execution_count": 22,
     "metadata": {},
     "output_type": "execute_result"
    }
   ],
   "source": [
    "block_0103_all_data_alt.shape"
   ]
  },
  {
   "cell_type": "code",
   "execution_count": 23,
   "id": "858f61a4-aba2-4c98-aba2-354ac2a29582",
   "metadata": {},
   "outputs": [
    {
     "data": {
      "text/plain": [
       "1.0"
      ]
     },
     "execution_count": 23,
     "metadata": {},
     "output_type": "execute_result"
    }
   ],
   "source": [
    "# sanity check\n",
    "np.mean(block_0103_all_data_alt == block_0103_all_data)"
   ]
  },
  {
   "cell_type": "code",
   "execution_count": 24,
   "id": "14b8415b-4a30-4de4-b8e6-61813e6c3839",
   "metadata": {},
   "outputs": [],
   "source": [
    "# Okay, now need to create dfs, and store so these can be later used for the BLAR model"
   ]
  },
  {
   "cell_type": "code",
   "execution_count": 25,
   "id": "d207b066-e843-4cfa-a60b-d8d061a09b3f",
   "metadata": {},
   "outputs": [],
   "source": [
    "block_0103_all_data_df_100 = pd.DataFrame(block_0103_all_data[100,:,:], columns = ['feature_' + str(i) for i in range(32)] + ['density'])"
   ]
  },
  {
   "cell_type": "code",
   "execution_count": 26,
   "id": "7fc41680-7e15-4ba6-8483-b2efc9868d46",
   "metadata": {},
   "outputs": [
    {
     "name": "stdout",
     "output_type": "stream",
     "text": [
      "CPU times: user 1.54 s, sys: 113 ms, total: 1.66 s\n",
      "Wall time: 5.56 s\n"
     ]
    }
   ],
   "source": [
    "%%time\n",
    "counter = 0\n",
    "for row in range(block_0103_all_data.shape[0]):\n",
    "    # create the df\n",
    "    current_df = pd.DataFrame(block_0103_all_data[row,:,:], columns = ['feature_' + str(i) for i in range(32)] + ['density'])\n",
    "    # name the df\n",
    "    df_name = 'block_0103_df_' + str(counter) + '.csv'\n",
    "    # df path\n",
    "    df_path = \"data/BLAR_ready_dfs/model_1\"\n",
    "    # save the df\n",
    "    current_df.to_csv(os.path.join(df_path, df_name), index = False)\n",
    "    counter = counter + 1"
   ]
  },
  {
   "cell_type": "code",
   "execution_count": 27,
   "id": "4b0d2dea-3f3d-4e65-b339-1e6947e2a4dc",
   "metadata": {},
   "outputs": [],
   "source": [
    "# block_0103_all_data_df_100"
   ]
  },
  {
   "cell_type": "code",
   "execution_count": 28,
   "id": "c9caff7a-e679-4e57-a6fc-760cef5bd111",
   "metadata": {},
   "outputs": [],
   "source": [
    "# Seems this is what we need, but do sanity checks"
   ]
  }
 ],
 "metadata": {
  "kernelspec": {
   "display_name": "Python (nrdstor_tfp_for_TN)",
   "language": "python",
   "name": "nrdstor_tfp_for_tn"
  },
  "language_info": {
   "codemirror_mode": {
    "name": "ipython",
    "version": 3
   },
   "file_extension": ".py",
   "mimetype": "text/x-python",
   "name": "python",
   "nbconvert_exporter": "python",
   "pygments_lexer": "ipython3",
   "version": "3.10.14"
  }
 },
 "nbformat": 4,
 "nbformat_minor": 5
}
