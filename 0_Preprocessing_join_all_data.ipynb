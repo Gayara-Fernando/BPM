{
 "cells": [
  {
   "cell_type": "code",
   "execution_count": 1,
   "id": "819585ed-5569-4b86-9b0c-7aff24217f62",
   "metadata": {},
   "outputs": [],
   "source": [
    "# Okay, let's preprocess all data"
   ]
  },
  {
   "cell_type": "code",
   "execution_count": 2,
   "id": "8d3d1948-41b2-48a8-a489-ff4670865457",
   "metadata": {},
   "outputs": [
    {
     "name": "stderr",
     "output_type": "stream",
     "text": [
      "2025-07-28 09:11:57.053459: I tensorflow/core/util/port.cc:113] oneDNN custom operations are on. You may see slightly different numerical results due to floating-point round-off errors from different computation orders. To turn them off, set the environment variable `TF_ENABLE_ONEDNN_OPTS=0`.\n",
      "2025-07-28 09:11:58.668720: E external/local_xla/xla/stream_executor/cuda/cuda_dnn.cc:9261] Unable to register cuDNN factory: Attempting to register factory for plugin cuDNN when one has already been registered\n",
      "2025-07-28 09:11:58.668783: E external/local_xla/xla/stream_executor/cuda/cuda_fft.cc:607] Unable to register cuFFT factory: Attempting to register factory for plugin cuFFT when one has already been registered\n",
      "2025-07-28 09:11:58.810916: E external/local_xla/xla/stream_executor/cuda/cuda_blas.cc:1515] Unable to register cuBLAS factory: Attempting to register factory for plugin cuBLAS when one has already been registered\n",
      "2025-07-28 09:11:59.070096: I tensorflow/core/platform/cpu_feature_guard.cc:182] This TensorFlow binary is optimized to use available CPU instructions in performance-critical operations.\n",
      "To enable the following instructions: SSE4.1 SSE4.2 AVX AVX2 AVX512F AVX512_VNNI FMA, in other operations, rebuild TensorFlow with the appropriate compiler flags.\n"
     ]
    }
   ],
   "source": [
    "import numpy as np\n",
    "import pandas as pd\n",
    "import os\n",
    "import tensorflow as tf"
   ]
  },
  {
   "cell_type": "code",
   "execution_count": null,
   "id": "25c0d29e-25ee-4838-814f-7031f04c7763",
   "metadata": {},
   "outputs": [],
   "source": [
    "# What all do we have? We have the geenrated features, and the densities defined for all the test blocks."
   ]
  },
  {
   "cell_type": "code",
   "execution_count": 3,
   "id": "348de4db-0da6-403d-9775-6f9931df82db",
   "metadata": {},
   "outputs": [],
   "source": [
    "# Do the data prep for one block, and define a function for the rest"
   ]
  },
  {
   "cell_type": "code",
   "execution_count": 4,
   "id": "6ea899d7-8b39-4cc2-8246-5375ccf04ff7",
   "metadata": {},
   "outputs": [],
   "source": [
    "# densities are here\n",
    "block_0103_density_file = np.load(os.path.join(\"data/densities_non_overlapping/\", \"all_densities_block_0103.npy\"))"
   ]
  },
  {
   "cell_type": "code",
   "execution_count": 5,
   "id": "e741a336-a6d0-4ef6-844e-e3a81078026c",
   "metadata": {},
   "outputs": [
    {
     "data": {
      "text/plain": [
       "(910, 20, 1)"
      ]
     },
     "execution_count": 5,
     "metadata": {},
     "output_type": "execute_result"
    }
   ],
   "source": [
    "block_0103_density_file.shape"
   ]
  },
  {
   "cell_type": "code",
   "execution_count": 6,
   "id": "da06ab38-4551-4a32-8166-96d0f4223415",
   "metadata": {},
   "outputs": [],
   "source": [
    "# Where are the feature files?"
   ]
  },
  {
   "cell_type": "code",
   "execution_count": 10,
   "id": "49350e46-74c6-4b8a-84ee-494487ca5d01",
   "metadata": {},
   "outputs": [],
   "source": [
    "# for test time points\n",
    "block_0103_feature_file_test_points = np.load(os.path.join(\"data/predicted_sequences_from_stage_1_non_overlapping/model_1/\", \"pred_values_blk_0103.npy\"))"
   ]
  },
  {
   "cell_type": "code",
   "execution_count": 11,
   "id": "18f1855f-fc7e-4cb6-bcd4-fad8a9c2bff1",
   "metadata": {},
   "outputs": [
    {
     "data": {
      "text/plain": [
       "(910, 7, 32)"
      ]
     },
     "execution_count": 11,
     "metadata": {},
     "output_type": "execute_result"
    }
   ],
   "source": [
    "block_0103_feature_file_test_points.shape"
   ]
  },
  {
   "cell_type": "code",
   "execution_count": 12,
   "id": "25c672d8-5898-40b0-84b8-57b4212a14fa",
   "metadata": {},
   "outputs": [],
   "source": [
    "# for train time points\n",
    "block_0103_feature_file_train_points = np.load(os.path.join(\"data/train_features_non_overlapping/\", \"train_features_block_0103.npy\"))"
   ]
  },
  {
   "cell_type": "code",
   "execution_count": 13,
   "id": "fca717a8-33be-49f8-9c1f-2f4e8a1e49a5",
   "metadata": {},
   "outputs": [
    {
     "data": {
      "text/plain": [
       "(910, 13, 32)"
      ]
     },
     "execution_count": 13,
     "metadata": {},
     "output_type": "execute_result"
    }
   ],
   "source": [
    "block_0103_feature_file_train_points.shape"
   ]
  },
  {
   "cell_type": "code",
   "execution_count": 14,
   "id": "288f8893-9194-452c-a527-bef6656cbfdb",
   "metadata": {},
   "outputs": [],
   "source": [
    "# Stack the featrue files together?"
   ]
  },
  {
   "cell_type": "code",
   "execution_count": null,
   "id": "77b273af-4605-4fba-a2f7-b8b390e858db",
   "metadata": {},
   "outputs": [],
   "source": []
  }
 ],
 "metadata": {
  "kernelspec": {
   "display_name": "Python (nrdstor_tfp_for_TN)",
   "language": "python",
   "name": "nrdstor_tfp_for_tn"
  },
  "language_info": {
   "codemirror_mode": {
    "name": "ipython",
    "version": 3
   },
   "file_extension": ".py",
   "mimetype": "text/x-python",
   "name": "python",
   "nbconvert_exporter": "python",
   "pygments_lexer": "ipython3",
   "version": "3.10.14"
  }
 },
 "nbformat": 4,
 "nbformat_minor": 5
}
