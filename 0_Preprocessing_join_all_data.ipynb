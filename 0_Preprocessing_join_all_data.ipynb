{
 "cells": [
  {
   "cell_type": "code",
   "execution_count": 1,
   "id": "819585ed-5569-4b86-9b0c-7aff24217f62",
   "metadata": {},
   "outputs": [],
   "source": [
    "# Okay, let's preprocess all data"
   ]
  },
  {
   "cell_type": "code",
   "execution_count": 2,
   "id": "8d3d1948-41b2-48a8-a489-ff4670865457",
   "metadata": {},
   "outputs": [
    {
     "name": "stderr",
     "output_type": "stream",
     "text": [
      "2025-07-28 10:59:35.565284: I tensorflow/core/util/port.cc:113] oneDNN custom operations are on. You may see slightly different numerical results due to floating-point round-off errors from different computation orders. To turn them off, set the environment variable `TF_ENABLE_ONEDNN_OPTS=0`.\n",
      "2025-07-28 10:59:35.600735: E external/local_xla/xla/stream_executor/cuda/cuda_dnn.cc:9261] Unable to register cuDNN factory: Attempting to register factory for plugin cuDNN when one has already been registered\n",
      "2025-07-28 10:59:35.600762: E external/local_xla/xla/stream_executor/cuda/cuda_fft.cc:607] Unable to register cuFFT factory: Attempting to register factory for plugin cuFFT when one has already been registered\n",
      "2025-07-28 10:59:35.601590: E external/local_xla/xla/stream_executor/cuda/cuda_blas.cc:1515] Unable to register cuBLAS factory: Attempting to register factory for plugin cuBLAS when one has already been registered\n",
      "2025-07-28 10:59:35.607248: I tensorflow/core/platform/cpu_feature_guard.cc:182] This TensorFlow binary is optimized to use available CPU instructions in performance-critical operations.\n",
      "To enable the following instructions: SSE4.1 SSE4.2 AVX AVX2 AVX512F AVX512_VNNI FMA, in other operations, rebuild TensorFlow with the appropriate compiler flags.\n"
     ]
    }
   ],
   "source": [
    "import numpy as np\n",
    "import pandas as pd\n",
    "import os\n",
    "import tensorflow as tf"
   ]
  },
  {
   "cell_type": "code",
   "execution_count": 3,
   "id": "25c0d29e-25ee-4838-814f-7031f04c7763",
   "metadata": {},
   "outputs": [],
   "source": [
    "# What all do we have? We have the geenrated features, and the densities defined for all the test blocks."
   ]
  },
  {
   "cell_type": "code",
   "execution_count": 4,
   "id": "348de4db-0da6-403d-9775-6f9931df82db",
   "metadata": {},
   "outputs": [],
   "source": [
    "# Do the data prep for one block, and define a function for the rest"
   ]
  },
  {
   "cell_type": "code",
   "execution_count": 5,
   "id": "6ea899d7-8b39-4cc2-8246-5375ccf04ff7",
   "metadata": {},
   "outputs": [],
   "source": [
    "# densities are here\n",
    "block_0103_density_file = np.load(os.path.join(\"data/densities_non_overlapping/\", \"all_densities_block_0103.npy\"))"
   ]
  },
  {
   "cell_type": "code",
   "execution_count": 6,
   "id": "e741a336-a6d0-4ef6-844e-e3a81078026c",
   "metadata": {},
   "outputs": [
    {
     "data": {
      "text/plain": [
       "(910, 20, 1)"
      ]
     },
     "execution_count": 6,
     "metadata": {},
     "output_type": "execute_result"
    }
   ],
   "source": [
    "block_0103_density_file.shape"
   ]
  },
  {
   "cell_type": "code",
   "execution_count": 7,
   "id": "da06ab38-4551-4a32-8166-96d0f4223415",
   "metadata": {},
   "outputs": [],
   "source": [
    "# Where are the feature files?"
   ]
  },
  {
   "cell_type": "code",
   "execution_count": 8,
   "id": "49350e46-74c6-4b8a-84ee-494487ca5d01",
   "metadata": {},
   "outputs": [],
   "source": [
    "# for test time points\n",
    "block_0103_feature_file_test_points = np.load(os.path.join(\"data/predicted_sequences_from_stage_1_non_overlapping/model_1/\", \"pred_values_blk_0103.npy\"))"
   ]
  },
  {
   "cell_type": "code",
   "execution_count": 9,
   "id": "18f1855f-fc7e-4cb6-bcd4-fad8a9c2bff1",
   "metadata": {},
   "outputs": [
    {
     "data": {
      "text/plain": [
       "(910, 7, 32)"
      ]
     },
     "execution_count": 9,
     "metadata": {},
     "output_type": "execute_result"
    }
   ],
   "source": [
    "block_0103_feature_file_test_points.shape"
   ]
  },
  {
   "cell_type": "code",
   "execution_count": 10,
   "id": "25c672d8-5898-40b0-84b8-57b4212a14fa",
   "metadata": {},
   "outputs": [],
   "source": [
    "# for train time points\n",
    "block_0103_feature_file_train_points = np.load(os.path.join(\"data/train_features_non_overlapping/\", \"train_features_block_0103.npy\"))"
   ]
  },
  {
   "cell_type": "code",
   "execution_count": 11,
   "id": "fca717a8-33be-49f8-9c1f-2f4e8a1e49a5",
   "metadata": {},
   "outputs": [
    {
     "data": {
      "text/plain": [
       "(910, 13, 32)"
      ]
     },
     "execution_count": 11,
     "metadata": {},
     "output_type": "execute_result"
    }
   ],
   "source": [
    "block_0103_feature_file_train_points.shape"
   ]
  },
  {
   "cell_type": "code",
   "execution_count": 12,
   "id": "288f8893-9194-452c-a527-bef6656cbfdb",
   "metadata": {},
   "outputs": [],
   "source": [
    "# Stack the featrue files together?"
   ]
  },
  {
   "cell_type": "code",
   "execution_count": 13,
   "id": "77b273af-4605-4fba-a2f7-b8b390e858db",
   "metadata": {},
   "outputs": [],
   "source": [
    "block_0103_features = np.hstack((block_0103_feature_file_train_points, block_0103_feature_file_test_points))"
   ]
  },
  {
   "cell_type": "code",
   "execution_count": 14,
   "id": "17f75e4e-5f42-45d1-9f34-0f3115152a08",
   "metadata": {},
   "outputs": [
    {
     "data": {
      "text/plain": [
       "(910, 20, 32)"
      ]
     },
     "execution_count": 14,
     "metadata": {},
     "output_type": "execute_result"
    }
   ],
   "source": [
    "block_0103_features.shape"
   ]
  },
  {
   "cell_type": "code",
   "execution_count": 15,
   "id": "6848ff63-af36-40ed-98f3-820351a85fe2",
   "metadata": {},
   "outputs": [],
   "source": [
    "# alternative way\n",
    "block_0103_features_alt = np.concatenate((block_0103_feature_file_train_points, block_0103_feature_file_test_points), axis = 1)"
   ]
  },
  {
   "cell_type": "code",
   "execution_count": 16,
   "id": "f213652a-b61a-44f1-b90d-561c5dfac62b",
   "metadata": {},
   "outputs": [
    {
     "data": {
      "text/plain": [
       "(910, 20, 32)"
      ]
     },
     "execution_count": 16,
     "metadata": {},
     "output_type": "execute_result"
    }
   ],
   "source": [
    "block_0103_features_alt.shape"
   ]
  },
  {
   "cell_type": "code",
   "execution_count": 17,
   "id": "f07b6a97-e6e4-4510-900d-6557df5a3ae6",
   "metadata": {},
   "outputs": [
    {
     "data": {
      "text/plain": [
       "1.0"
      ]
     },
     "execution_count": 17,
     "metadata": {},
     "output_type": "execute_result"
    }
   ],
   "source": [
    "# sanity check\n",
    "np.mean(block_0103_features == block_0103_features_alt)"
   ]
  },
  {
   "cell_type": "code",
   "execution_count": 18,
   "id": "cc9f288c-f2a5-4cdb-9b9f-24ea54e231cf",
   "metadata": {},
   "outputs": [],
   "source": [
    "# now stack this with the response?"
   ]
  },
  {
   "cell_type": "code",
   "execution_count": 19,
   "id": "f3af1271-303b-47c3-93fd-3fc8382e9495",
   "metadata": {},
   "outputs": [],
   "source": [
    "block_0103_all_data = np.concatenate((block_0103_features, block_0103_density_file), axis = 2)"
   ]
  },
  {
   "cell_type": "code",
   "execution_count": 20,
   "id": "54956dab-4dee-448e-845a-52eb70264237",
   "metadata": {},
   "outputs": [
    {
     "data": {
      "text/plain": [
       "(910, 20, 33)"
      ]
     },
     "execution_count": 20,
     "metadata": {},
     "output_type": "execute_result"
    }
   ],
   "source": [
    "block_0103_all_data.shape"
   ]
  },
  {
   "cell_type": "code",
   "execution_count": 21,
   "id": "ec8cb3ac-5a66-433f-813c-128370632047",
   "metadata": {},
   "outputs": [],
   "source": [
    "block_0103_all_data_alt = np.dstack((block_0103_features, block_0103_density_file))"
   ]
  },
  {
   "cell_type": "code",
   "execution_count": 22,
   "id": "cc7ce810-ce1b-4221-bc3d-250644c92ae5",
   "metadata": {},
   "outputs": [
    {
     "data": {
      "text/plain": [
       "(910, 20, 33)"
      ]
     },
     "execution_count": 22,
     "metadata": {},
     "output_type": "execute_result"
    }
   ],
   "source": [
    "block_0103_all_data_alt.shape"
   ]
  },
  {
   "cell_type": "code",
   "execution_count": 23,
   "id": "858f61a4-aba2-4c98-aba2-354ac2a29582",
   "metadata": {},
   "outputs": [
    {
     "data": {
      "text/plain": [
       "1.0"
      ]
     },
     "execution_count": 23,
     "metadata": {},
     "output_type": "execute_result"
    }
   ],
   "source": [
    "# sanity check\n",
    "np.mean(block_0103_all_data_alt == block_0103_all_data)"
   ]
  },
  {
   "cell_type": "code",
   "execution_count": 24,
   "id": "14b8415b-4a30-4de4-b8e6-61813e6c3839",
   "metadata": {},
   "outputs": [],
   "source": [
    "# Okay, now need to create dfs, and store so these can be later used for the BLAR model"
   ]
  },
  {
   "cell_type": "code",
   "execution_count": 25,
   "id": "d207b066-e843-4cfa-a60b-d8d061a09b3f",
   "metadata": {},
   "outputs": [],
   "source": [
    "block_0103_all_data_df_100 = pd.DataFrame(block_0103_all_data[100,:,:], columns = ['feature_' + str(i) for i in range(32)] + ['density'])"
   ]
  },
  {
   "cell_type": "code",
   "execution_count": 26,
   "id": "7fc41680-7e15-4ba6-8483-b2efc9868d46",
   "metadata": {},
   "outputs": [
    {
     "name": "stdout",
     "output_type": "stream",
     "text": [
      "CPU times: user 1.66 s, sys: 109 ms, total: 1.76 s\n",
      "Wall time: 6.67 s\n"
     ]
    }
   ],
   "source": [
    "%%time\n",
    "counter = 0\n",
    "for row in range(block_0103_all_data.shape[0]):\n",
    "    # create the df\n",
    "    current_df = pd.DataFrame(block_0103_all_data[row,:,:], columns = ['feature_' + str(i) for i in range(32)] + ['density'])\n",
    "    # name the df\n",
    "    df_name = 'block_0103_df_' + str(counter) + '.csv'\n",
    "    # df path\n",
    "    df_path = \"data/BLAR_ready_dfs/model_1\"\n",
    "    # save the df\n",
    "    current_df.to_csv(os.path.join(df_path, df_name), index = False)\n",
    "    counter = counter + 1"
   ]
  },
  {
   "cell_type": "code",
   "execution_count": 27,
   "id": "4b0d2dea-3f3d-4e65-b339-1e6947e2a4dc",
   "metadata": {},
   "outputs": [],
   "source": [
    "# block_0103_all_data_df_100"
   ]
  },
  {
   "cell_type": "code",
   "execution_count": 28,
   "id": "c9caff7a-e679-4e57-a6fc-760cef5bd111",
   "metadata": {},
   "outputs": [],
   "source": [
    "# Seems this is what we need, but do sanity checks"
   ]
  },
  {
   "cell_type": "code",
   "execution_count": 29,
   "id": "44906765-96f5-4662-8dd2-4bf2e9ab5b22",
   "metadata": {},
   "outputs": [],
   "source": [
    "# Okay, how do we ensure we have done this correct"
   ]
  },
  {
   "cell_type": "code",
   "execution_count": 30,
   "id": "6b7d3eaf-267a-4598-bc19-5ebbf8451480",
   "metadata": {},
   "outputs": [
    {
     "data": {
      "text/plain": [
       "(910, 20, 32)"
      ]
     },
     "execution_count": 30,
     "metadata": {},
     "output_type": "execute_result"
    }
   ],
   "source": [
    "block_0103_features.shape"
   ]
  },
  {
   "cell_type": "code",
   "execution_count": 31,
   "id": "0d3c9858-1ad3-4065-8fa0-48ec9bd5ce72",
   "metadata": {},
   "outputs": [
    {
     "name": "stdout",
     "output_type": "stream",
     "text": [
      "1.0\n",
      "1.0\n"
     ]
    }
   ],
   "source": [
    "# sanity check for features\n",
    "# train tps\n",
    "print(np.mean(block_0103_features[:,:13,:] == block_0103_feature_file_train_points))\n",
    "# test tps\n",
    "print(np.mean(block_0103_features[:,13:,:] == block_0103_feature_file_test_points))"
   ]
  },
  {
   "cell_type": "code",
   "execution_count": 32,
   "id": "f9e2f8a7-1f4c-48fa-8d22-0dcf59f2901e",
   "metadata": {},
   "outputs": [],
   "source": [
    "# Also check a few random dfs\n",
    "block_0103_all_data_df_100 = pd.DataFrame(block_0103_all_data[100,:,:], columns = ['feature_' + str(i) for i in range(32)] + ['density']) # matches with the stored df\n",
    "block_0103_all_data_df_500 = pd.DataFrame(block_0103_all_data[500,:,:], columns = ['feature_' + str(i) for i in range(32)] + ['density']) # matches with the stored df\n",
    "block_0103_all_data_df_785 = pd.DataFrame(block_0103_all_data[785,:,:], columns = ['feature_' + str(i) for i in range(32)] + ['density']) # matches with the stored df\n",
    "block_0103_all_data_df_91 = pd.DataFrame(block_0103_all_data[91,:,:], columns = ['feature_' + str(i) for i in range(32)] + ['density']) # matches with the stored df"
   ]
  },
  {
   "cell_type": "code",
   "execution_count": 33,
   "id": "51006267-b86c-4695-8380-fa2bd4df9a2d",
   "metadata": {},
   "outputs": [],
   "source": [
    "# block_0103_all_data_df_91"
   ]
  },
  {
   "cell_type": "code",
   "execution_count": 34,
   "id": "7e20cc23-c4d5-41cd-a6f4-f5f1ba4f9949",
   "metadata": {},
   "outputs": [],
   "source": [
    "# Okay, define a function to be used for the rest of the blocks"
   ]
  },
  {
   "cell_type": "code",
   "execution_count": 35,
   "id": "4c9cc70e-a1bd-4218-bcbc-f38c4d961a43",
   "metadata": {},
   "outputs": [],
   "source": [
    "# What all do we need for the function?\n",
    "\n",
    "# density_file_loc\n",
    "# feature_file_loc_train\n",
    "# feature_file_loc_test\n"
   ]
  },
  {
   "cell_type": "code",
   "execution_count": 36,
   "id": "205421f2-099c-4edd-adfc-9ca0d5089adc",
   "metadata": {},
   "outputs": [],
   "source": [
    "def store_BLAR_ready_dfs(density_file_loc, feature_file_loc_train, feature_file_loc_test, block_name_for_df, save_df_path):\n",
    "    # load density file\n",
    "    density_array = np.load(density_file_loc)\n",
    "    # load train features\n",
    "    train_features = np.load(feature_file_loc_train)\n",
    "    # load test featrues\n",
    "    test_features = np.load(feature_file_loc_test)\n",
    "    # stack features files\n",
    "    stacked_features = np.hstack((train_features, test_features))\n",
    "    # do sanity check\n",
    "    stacked_features_alt = np.concatenate((train_features, test_features), axis = 1)\n",
    "    print(np.mean(stacked_features == stacked_features_alt))\n",
    "    # print shape\n",
    "    print(stacked_features.shape)\n",
    "    # stack features and density\n",
    "    all_data_array = np.concatenate((stacked_features, density_array), axis = 2)\n",
    "    # let's also do teh sanity checks\n",
    "    all_data_alt = np.dstack((stacked_features, density_array))\n",
    "    print(np.mean(all_data_array == all_data_alt))\n",
    "    print(all_data_array.shape)\n",
    "    # do the for loop and store the dfs\n",
    "\n",
    "    catch_dfs = []\n",
    "    counter = 0\n",
    "    for row in range(all_data_array.shape[0]):\n",
    "        # create the df\n",
    "        current_df = pd.DataFrame(all_data_array[row,:,:], columns = ['feature_' + str(i) for i in range(32)] + ['density'])\n",
    "        catch_dfs.append(current_df)\n",
    "        # name the df\n",
    "        df_name = block_name_for_df + str(counter) + '.csv'\n",
    "        # save the df\n",
    "        current_df.to_csv(os.path.join(save_df_path, df_name), index = False)\n",
    "        counter = counter + 1\n",
    "\n",
    "    return catch_dfs"
   ]
  },
  {
   "cell_type": "code",
   "execution_count": 37,
   "id": "a6e9fa63-7711-40ce-95f0-c34c824fd5c0",
   "metadata": {},
   "outputs": [],
   "source": [
    "# Try this for block 0103 - we need to create an additional folder for the block names"
   ]
  },
  {
   "cell_type": "code",
   "execution_count": 38,
   "id": "8b90f083-20d7-4f59-90e7-417f826a5b35",
   "metadata": {},
   "outputs": [],
   "source": [
    "# argument values\n",
    "dense_file_loc = \"data/densities_non_overlapping/all_densities_block_0103.npy\"\n",
    "train_features_loc = \"data/train_features_non_overlapping/train_features_block_0103.npy\"\n",
    "test_features_loc = \"data/predicted_sequences_from_stage_1_non_overlapping/model_1/pred_values_blk_0103.npy\"\n",
    "blk_name = \"block_0103_df_\"\n",
    "save_df_loc = \"data/BLAR_ready_dfs/model_1/block_0103\""
   ]
  },
  {
   "cell_type": "code",
   "execution_count": 39,
   "id": "e2728a17-db94-4383-83ad-9990e9bd2aca",
   "metadata": {},
   "outputs": [
    {
     "name": "stdout",
     "output_type": "stream",
     "text": [
      "1.0\n",
      "(910, 20, 32)\n",
      "1.0\n",
      "(910, 20, 33)\n"
     ]
    }
   ],
   "source": [
    "try_0103 = store_BLAR_ready_dfs(dense_file_loc, train_features_loc, test_features_loc, blk_name, save_df_loc)"
   ]
  },
  {
   "cell_type": "code",
   "execution_count": 40,
   "id": "d081e138-99f1-4bd2-bb27-3b7c89c1c9c3",
   "metadata": {},
   "outputs": [],
   "source": [
    "# are the all the same?\n",
    "\n",
    "# list files in \"data/BLAR_ready_dfs/model_1\" for block 0103"
   ]
  },
  {
   "cell_type": "code",
   "execution_count": 41,
   "id": "f2ad7175-20f2-4d56-a615-adbe1c17568f",
   "metadata": {},
   "outputs": [],
   "source": [
    "all_files_here = [file for file in os.listdir(\"data/BLAR_ready_dfs/model_1\")]"
   ]
  },
  {
   "cell_type": "code",
   "execution_count": 42,
   "id": "bde3d92d-667f-4576-87db-5582db885f14",
   "metadata": {},
   "outputs": [
    {
     "data": {
      "text/plain": [
       "912"
      ]
     },
     "execution_count": 42,
     "metadata": {},
     "output_type": "execute_result"
    }
   ],
   "source": [
    "len(all_files_here)"
   ]
  },
  {
   "cell_type": "code",
   "execution_count": 43,
   "id": "bf57b99d-18e2-4aef-a5b6-b876d2633349",
   "metadata": {},
   "outputs": [],
   "source": [
    "only_csv  = [file for file in os.listdir(\"data/BLAR_ready_dfs/model_1\") if file.split(\".\")[-1] == 'csv']"
   ]
  },
  {
   "cell_type": "code",
   "execution_count": 44,
   "id": "5d2f99a4-eeec-4283-8a12-295bc3766134",
   "metadata": {},
   "outputs": [],
   "source": [
    "# only_csv"
   ]
  },
  {
   "cell_type": "code",
   "execution_count": 45,
   "id": "10c0334e-be79-44d3-a1f8-13b8d69033dd",
   "metadata": {},
   "outputs": [
    {
     "data": {
      "text/plain": [
       "910"
      ]
     },
     "execution_count": 45,
     "metadata": {},
     "output_type": "execute_result"
    }
   ],
   "source": [
    "len(only_csv)"
   ]
  },
  {
   "cell_type": "code",
   "execution_count": 46,
   "id": "d2ec4768-7b31-4b97-b75f-e40c739bba10",
   "metadata": {},
   "outputs": [],
   "source": [
    "# files inside the block_0103 folder\n",
    "only_csv_block_0103 = [file for file in os.listdir(save_df_loc)]"
   ]
  },
  {
   "cell_type": "code",
   "execution_count": 47,
   "id": "1c6478d9-c3c0-4f8e-9ab9-940ffe636fd8",
   "metadata": {},
   "outputs": [
    {
     "data": {
      "text/plain": [
       "911"
      ]
     },
     "execution_count": 47,
     "metadata": {},
     "output_type": "execute_result"
    }
   ],
   "source": [
    "len(only_csv_block_0103)"
   ]
  },
  {
   "cell_type": "code",
   "execution_count": 48,
   "id": "40123c8c-5b85-4d8c-ad09-8e794d43be16",
   "metadata": {},
   "outputs": [],
   "source": [
    "csv_files = ['block_0103_df_' + str(i) + '.csv' for i in range(910)]"
   ]
  },
  {
   "cell_type": "code",
   "execution_count": 49,
   "id": "211f3c8d-2969-414c-8c74-a73c272ab9f9",
   "metadata": {},
   "outputs": [],
   "source": [
    "# csv_files"
   ]
  },
  {
   "cell_type": "code",
   "execution_count": 50,
   "id": "17802cbb-5e31-426e-9d13-402a46118485",
   "metadata": {},
   "outputs": [
    {
     "name": "stdout",
     "output_type": "stream",
     "text": [
      "CPU times: user 1.82 s, sys: 32.2 ms, total: 1.86 s\n",
      "Wall time: 1.88 s\n"
     ]
    }
   ],
   "source": [
    "%%time\n",
    "catch_true = []\n",
    "for file in csv_files:\n",
    "    load_from_loc1 = pd.read_csv(os.path.join(\"data/BLAR_ready_dfs/model_1\", file))\n",
    "    load_from_loc2 = pd.read_csv(os.path.join(save_df_loc, file))\n",
    "    is_true = load_from_loc1.equals(load_from_loc2)\n",
    "    catch_true.append(is_true)"
   ]
  },
  {
   "cell_type": "code",
   "execution_count": 51,
   "id": "4c1d4cab-85fd-47ee-9277-680671cdb667",
   "metadata": {},
   "outputs": [
    {
     "data": {
      "text/plain": [
       "1.0"
      ]
     },
     "execution_count": 51,
     "metadata": {},
     "output_type": "execute_result"
    }
   ],
   "source": [
    "np.mean(catch_true)"
   ]
  },
  {
   "cell_type": "code",
   "execution_count": 52,
   "id": "7e1ff9fa-4bc2-4f0e-9dfa-5ccb48518fd3",
   "metadata": {},
   "outputs": [],
   "source": [
    "# Okay, should we delete the dfs outside of the blocked folders? - maybe let's leave them be for now"
   ]
  },
  {
   "cell_type": "code",
   "execution_count": 53,
   "id": "40d9521f-3591-403e-a8e6-ca9da38a37b1",
   "metadata": {},
   "outputs": [],
   "source": [
    "# Let's preprocess data for teh rest of the blocks"
   ]
  }
 ],
 "metadata": {
  "kernelspec": {
   "display_name": "Python (nrdstor_tfp_for_TN)",
   "language": "python",
   "name": "nrdstor_tfp_for_tn"
  },
  "language_info": {
   "codemirror_mode": {
    "name": "ipython",
    "version": 3
   },
   "file_extension": ".py",
   "mimetype": "text/x-python",
   "name": "python",
   "nbconvert_exporter": "python",
   "pygments_lexer": "ipython3",
   "version": "3.10.14"
  }
 },
 "nbformat": 4,
 "nbformat_minor": 5
}
