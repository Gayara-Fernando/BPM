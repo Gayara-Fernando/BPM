{
 "cells": [
  {
   "cell_type": "code",
   "execution_count": 1,
   "id": "95479ff1-daa9-4a85-bee2-32d78b24506b",
   "metadata": {},
   "outputs": [],
   "source": [
    "import pandas as pd\n",
    "import numpy as np\n",
    "import matplotlib.pyplot as plt\n",
    "import os\n",
    "from sklearn.metrics import mean_absolute_error, mean_squared_error, r2_score\n",
    "from scipy.stats import pearsonr"
   ]
  },
  {
   "cell_type": "code",
   "execution_count": 2,
   "id": "d0c496d4-1b24-43dd-ab1b-b98d6eaef21b",
   "metadata": {},
   "outputs": [],
   "source": [
    "# path to dataframes\n",
    "path_to_dfs = \"suggestion_2/forecasted_counts/block_0305\""
   ]
  },
  {
   "cell_type": "code",
   "execution_count": 3,
   "id": "0c9c641d-4e5d-4c54-a235-c62cbdf13f8d",
   "metadata": {},
   "outputs": [],
   "source": [
    "# os.listdir(path_to_dfs)"
   ]
  },
  {
   "cell_type": "code",
   "execution_count": 4,
   "id": "5e5d1ebd-ac8c-4a2b-b33c-db3c4b477eae",
   "metadata": {},
   "outputs": [
    {
     "data": {
      "text/plain": [
       "6370"
      ]
     },
     "execution_count": 4,
     "metadata": {},
     "output_type": "execute_result"
    }
   ],
   "source": [
    "len(os.listdir(path_to_dfs))"
   ]
  },
  {
   "cell_type": "code",
   "execution_count": 5,
   "id": "3b80d752-5eb8-42c1-ad39-987ad3dbb001",
   "metadata": {},
   "outputs": [
    {
     "data": {
      "text/plain": [
       "7.0"
      ]
     },
     "execution_count": 5,
     "metadata": {},
     "output_type": "execute_result"
    }
   ],
   "source": [
    "6370/910"
   ]
  },
  {
   "cell_type": "code",
   "execution_count": 6,
   "id": "a0ac81e1-3049-44de-a2bf-4bf5a274ba45",
   "metadata": {},
   "outputs": [],
   "source": [
    "# seems each sub-window sequence have 7 things stored - what are all these?\n",
    "\n",
    "# the forecasted npy files\n",
    "# ar_sigma\n",
    "# noise_sigma\n",
    "# betas\n",
    "# rho\n",
    "# averaged forecasts\n",
    "# posterior parameter summaries - might need to pay a little attention here, the r_hat values are too high - think this should vary around 1? - but almost all the values are greater than 2."
   ]
  },
  {
   "cell_type": "code",
   "execution_count": 7,
   "id": "f9a4f497-2d9d-4b5c-9169-46b6ae6b9977",
   "metadata": {},
   "outputs": [],
   "source": [
    "averaged_forecasts_csvs = []\n",
    "for file in os.listdir(path_to_dfs):\n",
    "    if file[:8] =='averaged':\n",
    "        averaged_forecasts_csvs.append(file)"
   ]
  },
  {
   "cell_type": "code",
   "execution_count": 8,
   "id": "094e9614-b16f-45a2-aafc-d7884678eb44",
   "metadata": {},
   "outputs": [
    {
     "data": {
      "text/plain": [
       "910"
      ]
     },
     "execution_count": 8,
     "metadata": {},
     "output_type": "execute_result"
    }
   ],
   "source": [
    "# how many csv files do we have?\n",
    "len(averaged_forecasts_csvs)"
   ]
  },
  {
   "cell_type": "code",
   "execution_count": 9,
   "id": "7eca928b-bdbd-4d00-9eb1-8a808db7123e",
   "metadata": {},
   "outputs": [],
   "source": [
    "# averaged_forecasts_csvs - we probably need these in order for getting the respective predicted values"
   ]
  },
  {
   "cell_type": "code",
   "execution_count": 10,
   "id": "d0e11c68-824a-41ea-bf6b-65f53103343f",
   "metadata": {},
   "outputs": [
    {
     "data": {
      "text/plain": [
       "'averaged_forecasts_sub_653.csv'"
      ]
     },
     "execution_count": 10,
     "metadata": {},
     "output_type": "execute_result"
    }
   ],
   "source": [
    "averaged_forecasts_csvs[0]"
   ]
  },
  {
   "cell_type": "code",
   "execution_count": 11,
   "id": "f1f9e7be-53a6-4f38-b389-045d898b14ef",
   "metadata": {},
   "outputs": [],
   "source": [
    "# sorting them would not work as everything in the nomenclature of the files is a character - hence will not respect the numerical order"
   ]
  },
  {
   "cell_type": "code",
   "execution_count": 12,
   "id": "3cf616ee-4b4e-4ad9-ac1b-20aba081bfc5",
   "metadata": {},
   "outputs": [],
   "source": [
    "# let's create these names in the order of the subwindows\n",
    "ordered_csv_files = ['averaged_forecasts_sub_' + str(i) + '.csv' for i in range(910)]"
   ]
  },
  {
   "cell_type": "code",
   "execution_count": 13,
   "id": "7ac08389-4437-448b-b8a8-317cd0a9bf8e",
   "metadata": {},
   "outputs": [],
   "source": [
    "# ordered_csv_files"
   ]
  },
  {
   "cell_type": "code",
   "execution_count": 14,
   "id": "e74425d7-b613-44cf-96dd-df4298cef947",
   "metadata": {},
   "outputs": [],
   "source": [
    "# averaged_forecasts_csvs list is pointless at this time?"
   ]
  },
  {
   "cell_type": "code",
   "execution_count": 15,
   "id": "9a94c9ec-57cc-42fa-ad71-26639da44cb7",
   "metadata": {},
   "outputs": [
    {
     "name": "stdout",
     "output_type": "stream",
     "text": [
      "CPU times: user 1.59 s, sys: 330 ms, total: 1.92 s\n",
      "Wall time: 22.8 s\n"
     ]
    }
   ],
   "source": [
    "%%time\n",
    "all_dfs = []\n",
    "for file in ordered_csv_files:\n",
    "    read_df = pd.read_csv(path_to_dfs + '/' + file)\n",
    "    all_dfs.append(read_df)"
   ]
  },
  {
   "cell_type": "code",
   "execution_count": 16,
   "id": "c04b6062-8fc9-4f3e-87f2-2a8e9abac16f",
   "metadata": {},
   "outputs": [],
   "source": [
    "# make a single dataframe out of the many\n",
    "combined_df = pd.concat(all_dfs, axis = 1)"
   ]
  },
  {
   "cell_type": "code",
   "execution_count": 17,
   "id": "5671cc95-7ba6-47bc-8da8-47ba9d3f36e3",
   "metadata": {},
   "outputs": [
    {
     "data": {
      "text/html": [
       "<div>\n",
       "<style scoped>\n",
       "    .dataframe tbody tr th:only-of-type {\n",
       "        vertical-align: middle;\n",
       "    }\n",
       "\n",
       "    .dataframe tbody tr th {\n",
       "        vertical-align: top;\n",
       "    }\n",
       "\n",
       "    .dataframe thead th {\n",
       "        text-align: right;\n",
       "    }\n",
       "</style>\n",
       "<table border=\"1\" class=\"dataframe\">\n",
       "  <thead>\n",
       "    <tr style=\"text-align: right;\">\n",
       "      <th></th>\n",
       "      <th>True_value</th>\n",
       "      <th>Forecasted_value</th>\n",
       "      <th>True_value</th>\n",
       "      <th>Forecasted_value</th>\n",
       "      <th>True_value</th>\n",
       "      <th>Forecasted_value</th>\n",
       "      <th>True_value</th>\n",
       "      <th>Forecasted_value</th>\n",
       "      <th>True_value</th>\n",
       "      <th>Forecasted_value</th>\n",
       "      <th>...</th>\n",
       "      <th>True_value</th>\n",
       "      <th>Forecasted_value</th>\n",
       "      <th>True_value</th>\n",
       "      <th>Forecasted_value</th>\n",
       "      <th>True_value</th>\n",
       "      <th>Forecasted_value</th>\n",
       "      <th>True_value</th>\n",
       "      <th>Forecasted_value</th>\n",
       "      <th>True_value</th>\n",
       "      <th>Forecasted_value</th>\n",
       "    </tr>\n",
       "  </thead>\n",
       "  <tbody>\n",
       "    <tr>\n",
       "      <th>0</th>\n",
       "      <td>0.0</td>\n",
       "      <td>0.022377</td>\n",
       "      <td>0.0</td>\n",
       "      <td>0.111342</td>\n",
       "      <td>0.0</td>\n",
       "      <td>-0.003584</td>\n",
       "      <td>0.0</td>\n",
       "      <td>-0.015458</td>\n",
       "      <td>0.0</td>\n",
       "      <td>-0.005285</td>\n",
       "      <td>...</td>\n",
       "      <td>0.001227</td>\n",
       "      <td>0.022794</td>\n",
       "      <td>0.0</td>\n",
       "      <td>-0.009001</td>\n",
       "      <td>0.0</td>\n",
       "      <td>0.000110</td>\n",
       "      <td>0.0</td>\n",
       "      <td>-0.004812</td>\n",
       "      <td>0.0</td>\n",
       "      <td>-0.002890</td>\n",
       "    </tr>\n",
       "    <tr>\n",
       "      <th>1</th>\n",
       "      <td>0.0</td>\n",
       "      <td>0.040042</td>\n",
       "      <td>0.0</td>\n",
       "      <td>0.125553</td>\n",
       "      <td>0.0</td>\n",
       "      <td>-0.003096</td>\n",
       "      <td>0.0</td>\n",
       "      <td>-0.011442</td>\n",
       "      <td>0.0</td>\n",
       "      <td>0.000485</td>\n",
       "      <td>...</td>\n",
       "      <td>0.000000</td>\n",
       "      <td>0.018921</td>\n",
       "      <td>0.0</td>\n",
       "      <td>-0.004415</td>\n",
       "      <td>0.0</td>\n",
       "      <td>0.000547</td>\n",
       "      <td>0.0</td>\n",
       "      <td>0.000067</td>\n",
       "      <td>0.0</td>\n",
       "      <td>0.002000</td>\n",
       "    </tr>\n",
       "    <tr>\n",
       "      <th>2</th>\n",
       "      <td>0.0</td>\n",
       "      <td>0.061551</td>\n",
       "      <td>0.0</td>\n",
       "      <td>0.140317</td>\n",
       "      <td>0.0</td>\n",
       "      <td>-0.004850</td>\n",
       "      <td>0.0</td>\n",
       "      <td>-0.009881</td>\n",
       "      <td>0.0</td>\n",
       "      <td>-0.001483</td>\n",
       "      <td>...</td>\n",
       "      <td>0.000000</td>\n",
       "      <td>0.017992</td>\n",
       "      <td>0.0</td>\n",
       "      <td>-0.007550</td>\n",
       "      <td>0.0</td>\n",
       "      <td>-0.006405</td>\n",
       "      <td>0.0</td>\n",
       "      <td>-0.003053</td>\n",
       "      <td>0.0</td>\n",
       "      <td>-0.002898</td>\n",
       "    </tr>\n",
       "    <tr>\n",
       "      <th>3</th>\n",
       "      <td>0.0</td>\n",
       "      <td>0.017736</td>\n",
       "      <td>0.0</td>\n",
       "      <td>0.095010</td>\n",
       "      <td>0.0</td>\n",
       "      <td>-0.003239</td>\n",
       "      <td>0.0</td>\n",
       "      <td>-0.003062</td>\n",
       "      <td>0.0</td>\n",
       "      <td>0.002408</td>\n",
       "      <td>...</td>\n",
       "      <td>0.000000</td>\n",
       "      <td>0.003142</td>\n",
       "      <td>0.0</td>\n",
       "      <td>0.001871</td>\n",
       "      <td>0.0</td>\n",
       "      <td>0.006522</td>\n",
       "      <td>0.0</td>\n",
       "      <td>0.002938</td>\n",
       "      <td>0.0</td>\n",
       "      <td>0.000630</td>\n",
       "    </tr>\n",
       "    <tr>\n",
       "      <th>4</th>\n",
       "      <td>0.0</td>\n",
       "      <td>0.027167</td>\n",
       "      <td>0.0</td>\n",
       "      <td>0.099828</td>\n",
       "      <td>0.0</td>\n",
       "      <td>-0.000568</td>\n",
       "      <td>0.0</td>\n",
       "      <td>-0.004652</td>\n",
       "      <td>0.0</td>\n",
       "      <td>-0.001031</td>\n",
       "      <td>...</td>\n",
       "      <td>0.000000</td>\n",
       "      <td>-0.000648</td>\n",
       "      <td>0.0</td>\n",
       "      <td>-0.001749</td>\n",
       "      <td>0.0</td>\n",
       "      <td>0.003234</td>\n",
       "      <td>0.0</td>\n",
       "      <td>-0.000545</td>\n",
       "      <td>0.0</td>\n",
       "      <td>0.002186</td>\n",
       "    </tr>\n",
       "  </tbody>\n",
       "</table>\n",
       "<p>5 rows × 1820 columns</p>\n",
       "</div>"
      ],
      "text/plain": [
       "   True_value  Forecasted_value  True_value  Forecasted_value  True_value  \\\n",
       "0         0.0          0.022377         0.0          0.111342         0.0   \n",
       "1         0.0          0.040042         0.0          0.125553         0.0   \n",
       "2         0.0          0.061551         0.0          0.140317         0.0   \n",
       "3         0.0          0.017736         0.0          0.095010         0.0   \n",
       "4         0.0          0.027167         0.0          0.099828         0.0   \n",
       "\n",
       "   Forecasted_value  True_value  Forecasted_value  True_value  \\\n",
       "0         -0.003584         0.0         -0.015458         0.0   \n",
       "1         -0.003096         0.0         -0.011442         0.0   \n",
       "2         -0.004850         0.0         -0.009881         0.0   \n",
       "3         -0.003239         0.0         -0.003062         0.0   \n",
       "4         -0.000568         0.0         -0.004652         0.0   \n",
       "\n",
       "   Forecasted_value  ...  True_value  Forecasted_value  True_value  \\\n",
       "0         -0.005285  ...    0.001227          0.022794         0.0   \n",
       "1          0.000485  ...    0.000000          0.018921         0.0   \n",
       "2         -0.001483  ...    0.000000          0.017992         0.0   \n",
       "3          0.002408  ...    0.000000          0.003142         0.0   \n",
       "4         -0.001031  ...    0.000000         -0.000648         0.0   \n",
       "\n",
       "   Forecasted_value  True_value  Forecasted_value  True_value  \\\n",
       "0         -0.009001         0.0          0.000110         0.0   \n",
       "1         -0.004415         0.0          0.000547         0.0   \n",
       "2         -0.007550         0.0         -0.006405         0.0   \n",
       "3          0.001871         0.0          0.006522         0.0   \n",
       "4         -0.001749         0.0          0.003234         0.0   \n",
       "\n",
       "   Forecasted_value  True_value  Forecasted_value  \n",
       "0         -0.004812         0.0         -0.002890  \n",
       "1          0.000067         0.0          0.002000  \n",
       "2         -0.003053         0.0         -0.002898  \n",
       "3          0.002938         0.0          0.000630  \n",
       "4         -0.000545         0.0          0.002186  \n",
       "\n",
       "[5 rows x 1820 columns]"
      ]
     },
     "execution_count": 17,
     "metadata": {},
     "output_type": "execute_result"
    }
   ],
   "source": [
    "combined_df.head()"
   ]
  },
  {
   "cell_type": "code",
   "execution_count": 18,
   "id": "77ebc554-fe99-4cea-9cb3-2d2b8329b7b8",
   "metadata": {},
   "outputs": [
    {
     "data": {
      "text/plain": [
       "(7, 1820)"
      ]
     },
     "execution_count": 18,
     "metadata": {},
     "output_type": "execute_result"
    }
   ],
   "source": [
    "combined_df.shape"
   ]
  },
  {
   "cell_type": "code",
   "execution_count": 19,
   "id": "cd7bd824-8dac-4284-b286-aafcd8cd7d43",
   "metadata": {},
   "outputs": [],
   "source": [
    "# get the true values\n",
    "True_values_df = combined_df[['True_value']]"
   ]
  },
  {
   "cell_type": "code",
   "execution_count": 20,
   "id": "20d0decc-e09d-494a-9ff8-2139aac7254b",
   "metadata": {},
   "outputs": [
    {
     "data": {
      "text/html": [
       "<div>\n",
       "<style scoped>\n",
       "    .dataframe tbody tr th:only-of-type {\n",
       "        vertical-align: middle;\n",
       "    }\n",
       "\n",
       "    .dataframe tbody tr th {\n",
       "        vertical-align: top;\n",
       "    }\n",
       "\n",
       "    .dataframe thead th {\n",
       "        text-align: right;\n",
       "    }\n",
       "</style>\n",
       "<table border=\"1\" class=\"dataframe\">\n",
       "  <thead>\n",
       "    <tr style=\"text-align: right;\">\n",
       "      <th></th>\n",
       "      <th>True_value</th>\n",
       "      <th>True_value</th>\n",
       "      <th>True_value</th>\n",
       "      <th>True_value</th>\n",
       "      <th>True_value</th>\n",
       "      <th>True_value</th>\n",
       "      <th>True_value</th>\n",
       "      <th>True_value</th>\n",
       "      <th>True_value</th>\n",
       "      <th>True_value</th>\n",
       "      <th>...</th>\n",
       "      <th>True_value</th>\n",
       "      <th>True_value</th>\n",
       "      <th>True_value</th>\n",
       "      <th>True_value</th>\n",
       "      <th>True_value</th>\n",
       "      <th>True_value</th>\n",
       "      <th>True_value</th>\n",
       "      <th>True_value</th>\n",
       "      <th>True_value</th>\n",
       "      <th>True_value</th>\n",
       "    </tr>\n",
       "  </thead>\n",
       "  <tbody>\n",
       "    <tr>\n",
       "      <th>0</th>\n",
       "      <td>0.0</td>\n",
       "      <td>0.0</td>\n",
       "      <td>0.0</td>\n",
       "      <td>0.0</td>\n",
       "      <td>0.0</td>\n",
       "      <td>0.0</td>\n",
       "      <td>0.000000</td>\n",
       "      <td>0.000000</td>\n",
       "      <td>0.000000</td>\n",
       "      <td>0.000000</td>\n",
       "      <td>...</td>\n",
       "      <td>0.000000e+00</td>\n",
       "      <td>0.000000</td>\n",
       "      <td>0.000000</td>\n",
       "      <td>0.000002</td>\n",
       "      <td>0.051862</td>\n",
       "      <td>0.001227</td>\n",
       "      <td>0.0</td>\n",
       "      <td>0.0</td>\n",
       "      <td>0.0</td>\n",
       "      <td>0.0</td>\n",
       "    </tr>\n",
       "    <tr>\n",
       "      <th>1</th>\n",
       "      <td>0.0</td>\n",
       "      <td>0.0</td>\n",
       "      <td>0.0</td>\n",
       "      <td>0.0</td>\n",
       "      <td>0.0</td>\n",
       "      <td>0.0</td>\n",
       "      <td>0.000000</td>\n",
       "      <td>0.000000</td>\n",
       "      <td>0.000000</td>\n",
       "      <td>0.000006</td>\n",
       "      <td>...</td>\n",
       "      <td>0.000000e+00</td>\n",
       "      <td>0.000000</td>\n",
       "      <td>0.000000</td>\n",
       "      <td>0.000000</td>\n",
       "      <td>0.000000</td>\n",
       "      <td>0.000000</td>\n",
       "      <td>0.0</td>\n",
       "      <td>0.0</td>\n",
       "      <td>0.0</td>\n",
       "      <td>0.0</td>\n",
       "    </tr>\n",
       "    <tr>\n",
       "      <th>2</th>\n",
       "      <td>0.0</td>\n",
       "      <td>0.0</td>\n",
       "      <td>0.0</td>\n",
       "      <td>0.0</td>\n",
       "      <td>0.0</td>\n",
       "      <td>0.0</td>\n",
       "      <td>0.000000</td>\n",
       "      <td>0.000000</td>\n",
       "      <td>0.000000</td>\n",
       "      <td>0.000000</td>\n",
       "      <td>...</td>\n",
       "      <td>2.054415e-08</td>\n",
       "      <td>0.000658</td>\n",
       "      <td>0.000015</td>\n",
       "      <td>0.000000</td>\n",
       "      <td>0.000000</td>\n",
       "      <td>0.000000</td>\n",
       "      <td>0.0</td>\n",
       "      <td>0.0</td>\n",
       "      <td>0.0</td>\n",
       "      <td>0.0</td>\n",
       "    </tr>\n",
       "    <tr>\n",
       "      <th>3</th>\n",
       "      <td>0.0</td>\n",
       "      <td>0.0</td>\n",
       "      <td>0.0</td>\n",
       "      <td>0.0</td>\n",
       "      <td>0.0</td>\n",
       "      <td>0.0</td>\n",
       "      <td>0.004724</td>\n",
       "      <td>0.008987</td>\n",
       "      <td>0.000000</td>\n",
       "      <td>0.000000</td>\n",
       "      <td>...</td>\n",
       "      <td>0.000000e+00</td>\n",
       "      <td>0.000000</td>\n",
       "      <td>0.000000</td>\n",
       "      <td>0.000000</td>\n",
       "      <td>0.000000</td>\n",
       "      <td>0.000000</td>\n",
       "      <td>0.0</td>\n",
       "      <td>0.0</td>\n",
       "      <td>0.0</td>\n",
       "      <td>0.0</td>\n",
       "    </tr>\n",
       "    <tr>\n",
       "      <th>4</th>\n",
       "      <td>0.0</td>\n",
       "      <td>0.0</td>\n",
       "      <td>0.0</td>\n",
       "      <td>0.0</td>\n",
       "      <td>0.0</td>\n",
       "      <td>0.0</td>\n",
       "      <td>0.000000</td>\n",
       "      <td>0.000000</td>\n",
       "      <td>0.017631</td>\n",
       "      <td>0.004754</td>\n",
       "      <td>...</td>\n",
       "      <td>0.000000e+00</td>\n",
       "      <td>0.000000</td>\n",
       "      <td>0.000000</td>\n",
       "      <td>0.000000</td>\n",
       "      <td>0.000000</td>\n",
       "      <td>0.000000</td>\n",
       "      <td>0.0</td>\n",
       "      <td>0.0</td>\n",
       "      <td>0.0</td>\n",
       "      <td>0.0</td>\n",
       "    </tr>\n",
       "  </tbody>\n",
       "</table>\n",
       "<p>5 rows × 910 columns</p>\n",
       "</div>"
      ],
      "text/plain": [
       "   True_value  True_value  True_value  True_value  True_value  True_value  \\\n",
       "0         0.0         0.0         0.0         0.0         0.0         0.0   \n",
       "1         0.0         0.0         0.0         0.0         0.0         0.0   \n",
       "2         0.0         0.0         0.0         0.0         0.0         0.0   \n",
       "3         0.0         0.0         0.0         0.0         0.0         0.0   \n",
       "4         0.0         0.0         0.0         0.0         0.0         0.0   \n",
       "\n",
       "   True_value  True_value  True_value  True_value  ...    True_value  \\\n",
       "0    0.000000    0.000000    0.000000    0.000000  ...  0.000000e+00   \n",
       "1    0.000000    0.000000    0.000000    0.000006  ...  0.000000e+00   \n",
       "2    0.000000    0.000000    0.000000    0.000000  ...  2.054415e-08   \n",
       "3    0.004724    0.008987    0.000000    0.000000  ...  0.000000e+00   \n",
       "4    0.000000    0.000000    0.017631    0.004754  ...  0.000000e+00   \n",
       "\n",
       "   True_value  True_value  True_value  True_value  True_value  True_value  \\\n",
       "0    0.000000    0.000000    0.000002    0.051862    0.001227         0.0   \n",
       "1    0.000000    0.000000    0.000000    0.000000    0.000000         0.0   \n",
       "2    0.000658    0.000015    0.000000    0.000000    0.000000         0.0   \n",
       "3    0.000000    0.000000    0.000000    0.000000    0.000000         0.0   \n",
       "4    0.000000    0.000000    0.000000    0.000000    0.000000         0.0   \n",
       "\n",
       "   True_value  True_value  True_value  \n",
       "0         0.0         0.0         0.0  \n",
       "1         0.0         0.0         0.0  \n",
       "2         0.0         0.0         0.0  \n",
       "3         0.0         0.0         0.0  \n",
       "4         0.0         0.0         0.0  \n",
       "\n",
       "[5 rows x 910 columns]"
      ]
     },
     "execution_count": 20,
     "metadata": {},
     "output_type": "execute_result"
    }
   ],
   "source": [
    "True_values_df.head()"
   ]
  },
  {
   "cell_type": "code",
   "execution_count": 21,
   "id": "7bf2ce55-e613-440c-98df-b3137476fda8",
   "metadata": {},
   "outputs": [
    {
     "data": {
      "text/plain": [
       "(7, 910)"
      ]
     },
     "execution_count": 21,
     "metadata": {},
     "output_type": "execute_result"
    }
   ],
   "source": [
    "True_values_df.shape"
   ]
  },
  {
   "cell_type": "code",
   "execution_count": 22,
   "id": "18e0219e-ee9c-4e29-a372-2b6290708941",
   "metadata": {},
   "outputs": [],
   "source": [
    "# get the proper counts?\n",
    "exp_true = np.exp(True_values_df)-1"
   ]
  },
  {
   "cell_type": "code",
   "execution_count": 23,
   "id": "a7319ca1-7b28-41f3-8b38-11863c1835e5",
   "metadata": {},
   "outputs": [
    {
     "data": {
      "text/html": [
       "<div>\n",
       "<style scoped>\n",
       "    .dataframe tbody tr th:only-of-type {\n",
       "        vertical-align: middle;\n",
       "    }\n",
       "\n",
       "    .dataframe tbody tr th {\n",
       "        vertical-align: top;\n",
       "    }\n",
       "\n",
       "    .dataframe thead th {\n",
       "        text-align: right;\n",
       "    }\n",
       "</style>\n",
       "<table border=\"1\" class=\"dataframe\">\n",
       "  <thead>\n",
       "    <tr style=\"text-align: right;\">\n",
       "      <th></th>\n",
       "      <th>True_value</th>\n",
       "      <th>True_value</th>\n",
       "      <th>True_value</th>\n",
       "      <th>True_value</th>\n",
       "      <th>True_value</th>\n",
       "      <th>True_value</th>\n",
       "      <th>True_value</th>\n",
       "      <th>True_value</th>\n",
       "      <th>True_value</th>\n",
       "      <th>True_value</th>\n",
       "      <th>...</th>\n",
       "      <th>True_value</th>\n",
       "      <th>True_value</th>\n",
       "      <th>True_value</th>\n",
       "      <th>True_value</th>\n",
       "      <th>True_value</th>\n",
       "      <th>True_value</th>\n",
       "      <th>True_value</th>\n",
       "      <th>True_value</th>\n",
       "      <th>True_value</th>\n",
       "      <th>True_value</th>\n",
       "    </tr>\n",
       "  </thead>\n",
       "  <tbody>\n",
       "    <tr>\n",
       "      <th>0</th>\n",
       "      <td>0.0</td>\n",
       "      <td>0.0</td>\n",
       "      <td>0.0</td>\n",
       "      <td>0.0</td>\n",
       "      <td>0.0</td>\n",
       "      <td>0.000000</td>\n",
       "      <td>0.000000</td>\n",
       "      <td>0.000000e+00</td>\n",
       "      <td>0.000000</td>\n",
       "      <td>0.000000</td>\n",
       "      <td>...</td>\n",
       "      <td>0.000000e+00</td>\n",
       "      <td>0.000000</td>\n",
       "      <td>0.000000</td>\n",
       "      <td>0.000002</td>\n",
       "      <td>0.053230</td>\n",
       "      <td>0.001228</td>\n",
       "      <td>0.0</td>\n",
       "      <td>0.0</td>\n",
       "      <td>0.0</td>\n",
       "      <td>0.0</td>\n",
       "    </tr>\n",
       "    <tr>\n",
       "      <th>1</th>\n",
       "      <td>0.0</td>\n",
       "      <td>0.0</td>\n",
       "      <td>0.0</td>\n",
       "      <td>0.0</td>\n",
       "      <td>0.0</td>\n",
       "      <td>0.000000</td>\n",
       "      <td>0.000000</td>\n",
       "      <td>0.000000e+00</td>\n",
       "      <td>0.000000</td>\n",
       "      <td>0.000006</td>\n",
       "      <td>...</td>\n",
       "      <td>0.000000e+00</td>\n",
       "      <td>0.000000</td>\n",
       "      <td>0.000000</td>\n",
       "      <td>0.000000</td>\n",
       "      <td>0.000000</td>\n",
       "      <td>0.000000</td>\n",
       "      <td>0.0</td>\n",
       "      <td>0.0</td>\n",
       "      <td>0.0</td>\n",
       "      <td>0.0</td>\n",
       "    </tr>\n",
       "    <tr>\n",
       "      <th>2</th>\n",
       "      <td>0.0</td>\n",
       "      <td>0.0</td>\n",
       "      <td>0.0</td>\n",
       "      <td>0.0</td>\n",
       "      <td>0.0</td>\n",
       "      <td>0.000000</td>\n",
       "      <td>0.000000</td>\n",
       "      <td>0.000000e+00</td>\n",
       "      <td>0.000000</td>\n",
       "      <td>0.000000</td>\n",
       "      <td>...</td>\n",
       "      <td>2.054415e-08</td>\n",
       "      <td>0.000659</td>\n",
       "      <td>0.000015</td>\n",
       "      <td>0.000000</td>\n",
       "      <td>0.000000</td>\n",
       "      <td>0.000000</td>\n",
       "      <td>0.0</td>\n",
       "      <td>0.0</td>\n",
       "      <td>0.0</td>\n",
       "      <td>0.0</td>\n",
       "    </tr>\n",
       "    <tr>\n",
       "      <th>3</th>\n",
       "      <td>0.0</td>\n",
       "      <td>0.0</td>\n",
       "      <td>0.0</td>\n",
       "      <td>0.0</td>\n",
       "      <td>0.0</td>\n",
       "      <td>0.000000</td>\n",
       "      <td>0.004735</td>\n",
       "      <td>9.027359e-03</td>\n",
       "      <td>0.000000</td>\n",
       "      <td>0.000000</td>\n",
       "      <td>...</td>\n",
       "      <td>0.000000e+00</td>\n",
       "      <td>0.000000</td>\n",
       "      <td>0.000000</td>\n",
       "      <td>0.000000</td>\n",
       "      <td>0.000000</td>\n",
       "      <td>0.000000</td>\n",
       "      <td>0.0</td>\n",
       "      <td>0.0</td>\n",
       "      <td>0.0</td>\n",
       "      <td>0.0</td>\n",
       "    </tr>\n",
       "    <tr>\n",
       "      <th>4</th>\n",
       "      <td>0.0</td>\n",
       "      <td>0.0</td>\n",
       "      <td>0.0</td>\n",
       "      <td>0.0</td>\n",
       "      <td>0.0</td>\n",
       "      <td>0.000000</td>\n",
       "      <td>0.000000</td>\n",
       "      <td>0.000000e+00</td>\n",
       "      <td>0.017787</td>\n",
       "      <td>0.004765</td>\n",
       "      <td>...</td>\n",
       "      <td>0.000000e+00</td>\n",
       "      <td>0.000000</td>\n",
       "      <td>0.000000</td>\n",
       "      <td>0.000000</td>\n",
       "      <td>0.000000</td>\n",
       "      <td>0.000000</td>\n",
       "      <td>0.0</td>\n",
       "      <td>0.0</td>\n",
       "      <td>0.0</td>\n",
       "      <td>0.0</td>\n",
       "    </tr>\n",
       "    <tr>\n",
       "      <th>5</th>\n",
       "      <td>0.0</td>\n",
       "      <td>0.0</td>\n",
       "      <td>0.0</td>\n",
       "      <td>0.0</td>\n",
       "      <td>0.0</td>\n",
       "      <td>0.110501</td>\n",
       "      <td>0.853825</td>\n",
       "      <td>4.700175e-07</td>\n",
       "      <td>0.000000</td>\n",
       "      <td>0.000000</td>\n",
       "      <td>...</td>\n",
       "      <td>0.000000e+00</td>\n",
       "      <td>0.000000</td>\n",
       "      <td>0.000000</td>\n",
       "      <td>0.000000</td>\n",
       "      <td>0.000337</td>\n",
       "      <td>0.000337</td>\n",
       "      <td>0.0</td>\n",
       "      <td>0.0</td>\n",
       "      <td>0.0</td>\n",
       "      <td>0.0</td>\n",
       "    </tr>\n",
       "    <tr>\n",
       "      <th>6</th>\n",
       "      <td>0.0</td>\n",
       "      <td>0.0</td>\n",
       "      <td>0.0</td>\n",
       "      <td>0.0</td>\n",
       "      <td>0.0</td>\n",
       "      <td>0.000000</td>\n",
       "      <td>0.000000</td>\n",
       "      <td>0.000000e+00</td>\n",
       "      <td>0.000000</td>\n",
       "      <td>0.000000</td>\n",
       "      <td>...</td>\n",
       "      <td>0.000000e+00</td>\n",
       "      <td>0.000000</td>\n",
       "      <td>0.000000</td>\n",
       "      <td>0.000000</td>\n",
       "      <td>0.000000</td>\n",
       "      <td>0.000000</td>\n",
       "      <td>0.0</td>\n",
       "      <td>0.0</td>\n",
       "      <td>0.0</td>\n",
       "      <td>0.0</td>\n",
       "    </tr>\n",
       "  </tbody>\n",
       "</table>\n",
       "<p>7 rows × 910 columns</p>\n",
       "</div>"
      ],
      "text/plain": [
       "   True_value  True_value  True_value  True_value  True_value  True_value  \\\n",
       "0         0.0         0.0         0.0         0.0         0.0    0.000000   \n",
       "1         0.0         0.0         0.0         0.0         0.0    0.000000   \n",
       "2         0.0         0.0         0.0         0.0         0.0    0.000000   \n",
       "3         0.0         0.0         0.0         0.0         0.0    0.000000   \n",
       "4         0.0         0.0         0.0         0.0         0.0    0.000000   \n",
       "5         0.0         0.0         0.0         0.0         0.0    0.110501   \n",
       "6         0.0         0.0         0.0         0.0         0.0    0.000000   \n",
       "\n",
       "   True_value    True_value  True_value  True_value  ...    True_value  \\\n",
       "0    0.000000  0.000000e+00    0.000000    0.000000  ...  0.000000e+00   \n",
       "1    0.000000  0.000000e+00    0.000000    0.000006  ...  0.000000e+00   \n",
       "2    0.000000  0.000000e+00    0.000000    0.000000  ...  2.054415e-08   \n",
       "3    0.004735  9.027359e-03    0.000000    0.000000  ...  0.000000e+00   \n",
       "4    0.000000  0.000000e+00    0.017787    0.004765  ...  0.000000e+00   \n",
       "5    0.853825  4.700175e-07    0.000000    0.000000  ...  0.000000e+00   \n",
       "6    0.000000  0.000000e+00    0.000000    0.000000  ...  0.000000e+00   \n",
       "\n",
       "   True_value  True_value  True_value  True_value  True_value  True_value  \\\n",
       "0    0.000000    0.000000    0.000002    0.053230    0.001228         0.0   \n",
       "1    0.000000    0.000000    0.000000    0.000000    0.000000         0.0   \n",
       "2    0.000659    0.000015    0.000000    0.000000    0.000000         0.0   \n",
       "3    0.000000    0.000000    0.000000    0.000000    0.000000         0.0   \n",
       "4    0.000000    0.000000    0.000000    0.000000    0.000000         0.0   \n",
       "5    0.000000    0.000000    0.000000    0.000337    0.000337         0.0   \n",
       "6    0.000000    0.000000    0.000000    0.000000    0.000000         0.0   \n",
       "\n",
       "   True_value  True_value  True_value  \n",
       "0         0.0         0.0         0.0  \n",
       "1         0.0         0.0         0.0  \n",
       "2         0.0         0.0         0.0  \n",
       "3         0.0         0.0         0.0  \n",
       "4         0.0         0.0         0.0  \n",
       "5         0.0         0.0         0.0  \n",
       "6         0.0         0.0         0.0  \n",
       "\n",
       "[7 rows x 910 columns]"
      ]
     },
     "execution_count": 23,
     "metadata": {},
     "output_type": "execute_result"
    }
   ],
   "source": [
    "exp_true"
   ]
  },
  {
   "cell_type": "code",
   "execution_count": 24,
   "id": "fbc09b78-d34e-434e-8232-ee3be25766e9",
   "metadata": {},
   "outputs": [],
   "source": [
    "# sum the true values - since the sub images are not overlapping, we can get the sum across columns in the above dataframe\n",
    "sum_true_values = exp_true.sum(axis = 1)"
   ]
  },
  {
   "cell_type": "code",
   "execution_count": 25,
   "id": "6057a433-4dfb-4804-bbac-ea3dacce11e6",
   "metadata": {},
   "outputs": [
    {
     "data": {
      "text/plain": [
       "0    46.000000\n",
       "1    35.000000\n",
       "2    37.000000\n",
       "3    30.000651\n",
       "4    35.001190\n",
       "5    28.999994\n",
       "6    20.000018\n",
       "dtype: float64"
      ]
     },
     "execution_count": 25,
     "metadata": {},
     "output_type": "execute_result"
    }
   ],
   "source": [
    "sum_true_values"
   ]
  },
  {
   "cell_type": "code",
   "execution_count": 26,
   "id": "2fc2ac3e-59e7-4f27-91ab-31d30b4eeaa7",
   "metadata": {},
   "outputs": [],
   "source": [
    "# get the forecasted values\n",
    "Forecasted_values_df = combined_df[['Forecasted_value']]"
   ]
  },
  {
   "cell_type": "code",
   "execution_count": 27,
   "id": "4d4182a4-7ede-4ffc-b952-08aa47d424d0",
   "metadata": {},
   "outputs": [
    {
     "data": {
      "text/html": [
       "<div>\n",
       "<style scoped>\n",
       "    .dataframe tbody tr th:only-of-type {\n",
       "        vertical-align: middle;\n",
       "    }\n",
       "\n",
       "    .dataframe tbody tr th {\n",
       "        vertical-align: top;\n",
       "    }\n",
       "\n",
       "    .dataframe thead th {\n",
       "        text-align: right;\n",
       "    }\n",
       "</style>\n",
       "<table border=\"1\" class=\"dataframe\">\n",
       "  <thead>\n",
       "    <tr style=\"text-align: right;\">\n",
       "      <th></th>\n",
       "      <th>Forecasted_value</th>\n",
       "      <th>Forecasted_value</th>\n",
       "      <th>Forecasted_value</th>\n",
       "      <th>Forecasted_value</th>\n",
       "      <th>Forecasted_value</th>\n",
       "      <th>Forecasted_value</th>\n",
       "      <th>Forecasted_value</th>\n",
       "      <th>Forecasted_value</th>\n",
       "      <th>Forecasted_value</th>\n",
       "      <th>Forecasted_value</th>\n",
       "      <th>...</th>\n",
       "      <th>Forecasted_value</th>\n",
       "      <th>Forecasted_value</th>\n",
       "      <th>Forecasted_value</th>\n",
       "      <th>Forecasted_value</th>\n",
       "      <th>Forecasted_value</th>\n",
       "      <th>Forecasted_value</th>\n",
       "      <th>Forecasted_value</th>\n",
       "      <th>Forecasted_value</th>\n",
       "      <th>Forecasted_value</th>\n",
       "      <th>Forecasted_value</th>\n",
       "    </tr>\n",
       "  </thead>\n",
       "  <tbody>\n",
       "    <tr>\n",
       "      <th>0</th>\n",
       "      <td>0.022377</td>\n",
       "      <td>0.111342</td>\n",
       "      <td>-0.003584</td>\n",
       "      <td>-0.015458</td>\n",
       "      <td>-0.005285</td>\n",
       "      <td>-0.042351</td>\n",
       "      <td>0.048726</td>\n",
       "      <td>-0.010356</td>\n",
       "      <td>-0.015625</td>\n",
       "      <td>-0.009148</td>\n",
       "      <td>...</td>\n",
       "      <td>-0.002573</td>\n",
       "      <td>0.019844</td>\n",
       "      <td>0.035085</td>\n",
       "      <td>0.005781</td>\n",
       "      <td>0.059170</td>\n",
       "      <td>0.022794</td>\n",
       "      <td>-0.009001</td>\n",
       "      <td>0.000110</td>\n",
       "      <td>-0.004812</td>\n",
       "      <td>-0.002890</td>\n",
       "    </tr>\n",
       "    <tr>\n",
       "      <th>1</th>\n",
       "      <td>0.040042</td>\n",
       "      <td>0.125553</td>\n",
       "      <td>-0.003096</td>\n",
       "      <td>-0.011442</td>\n",
       "      <td>0.000485</td>\n",
       "      <td>-0.015819</td>\n",
       "      <td>0.079428</td>\n",
       "      <td>-0.007361</td>\n",
       "      <td>-0.012169</td>\n",
       "      <td>-0.005436</td>\n",
       "      <td>...</td>\n",
       "      <td>-0.004346</td>\n",
       "      <td>0.011584</td>\n",
       "      <td>0.048174</td>\n",
       "      <td>0.008333</td>\n",
       "      <td>0.070808</td>\n",
       "      <td>0.018921</td>\n",
       "      <td>-0.004415</td>\n",
       "      <td>0.000547</td>\n",
       "      <td>0.000067</td>\n",
       "      <td>0.002000</td>\n",
       "    </tr>\n",
       "    <tr>\n",
       "      <th>2</th>\n",
       "      <td>0.061551</td>\n",
       "      <td>0.140317</td>\n",
       "      <td>-0.004850</td>\n",
       "      <td>-0.009881</td>\n",
       "      <td>-0.001483</td>\n",
       "      <td>-0.001324</td>\n",
       "      <td>0.117396</td>\n",
       "      <td>-0.009356</td>\n",
       "      <td>-0.005519</td>\n",
       "      <td>-0.004402</td>\n",
       "      <td>...</td>\n",
       "      <td>-0.003887</td>\n",
       "      <td>0.017621</td>\n",
       "      <td>0.057804</td>\n",
       "      <td>0.006897</td>\n",
       "      <td>0.081901</td>\n",
       "      <td>0.017992</td>\n",
       "      <td>-0.007550</td>\n",
       "      <td>-0.006405</td>\n",
       "      <td>-0.003053</td>\n",
       "      <td>-0.002898</td>\n",
       "    </tr>\n",
       "    <tr>\n",
       "      <th>3</th>\n",
       "      <td>0.017736</td>\n",
       "      <td>0.095010</td>\n",
       "      <td>-0.003239</td>\n",
       "      <td>-0.003062</td>\n",
       "      <td>0.002408</td>\n",
       "      <td>0.007450</td>\n",
       "      <td>0.086876</td>\n",
       "      <td>-0.004402</td>\n",
       "      <td>0.011643</td>\n",
       "      <td>-0.000367</td>\n",
       "      <td>...</td>\n",
       "      <td>0.003483</td>\n",
       "      <td>0.000495</td>\n",
       "      <td>0.048335</td>\n",
       "      <td>0.005704</td>\n",
       "      <td>0.027361</td>\n",
       "      <td>0.003142</td>\n",
       "      <td>0.001871</td>\n",
       "      <td>0.006522</td>\n",
       "      <td>0.002938</td>\n",
       "      <td>0.000630</td>\n",
       "    </tr>\n",
       "    <tr>\n",
       "      <th>4</th>\n",
       "      <td>0.027167</td>\n",
       "      <td>0.099828</td>\n",
       "      <td>-0.000568</td>\n",
       "      <td>-0.004652</td>\n",
       "      <td>-0.001031</td>\n",
       "      <td>-0.003376</td>\n",
       "      <td>0.093934</td>\n",
       "      <td>-0.002295</td>\n",
       "      <td>-0.005365</td>\n",
       "      <td>-0.002804</td>\n",
       "      <td>...</td>\n",
       "      <td>0.003721</td>\n",
       "      <td>0.002135</td>\n",
       "      <td>0.052189</td>\n",
       "      <td>0.003754</td>\n",
       "      <td>-0.000598</td>\n",
       "      <td>-0.000648</td>\n",
       "      <td>-0.001749</td>\n",
       "      <td>0.003234</td>\n",
       "      <td>-0.000545</td>\n",
       "      <td>0.002186</td>\n",
       "    </tr>\n",
       "  </tbody>\n",
       "</table>\n",
       "<p>5 rows × 910 columns</p>\n",
       "</div>"
      ],
      "text/plain": [
       "   Forecasted_value  Forecasted_value  Forecasted_value  Forecasted_value  \\\n",
       "0          0.022377          0.111342         -0.003584         -0.015458   \n",
       "1          0.040042          0.125553         -0.003096         -0.011442   \n",
       "2          0.061551          0.140317         -0.004850         -0.009881   \n",
       "3          0.017736          0.095010         -0.003239         -0.003062   \n",
       "4          0.027167          0.099828         -0.000568         -0.004652   \n",
       "\n",
       "   Forecasted_value  Forecasted_value  Forecasted_value  Forecasted_value  \\\n",
       "0         -0.005285         -0.042351          0.048726         -0.010356   \n",
       "1          0.000485         -0.015819          0.079428         -0.007361   \n",
       "2         -0.001483         -0.001324          0.117396         -0.009356   \n",
       "3          0.002408          0.007450          0.086876         -0.004402   \n",
       "4         -0.001031         -0.003376          0.093934         -0.002295   \n",
       "\n",
       "   Forecasted_value  Forecasted_value  ...  Forecasted_value  \\\n",
       "0         -0.015625         -0.009148  ...         -0.002573   \n",
       "1         -0.012169         -0.005436  ...         -0.004346   \n",
       "2         -0.005519         -0.004402  ...         -0.003887   \n",
       "3          0.011643         -0.000367  ...          0.003483   \n",
       "4         -0.005365         -0.002804  ...          0.003721   \n",
       "\n",
       "   Forecasted_value  Forecasted_value  Forecasted_value  Forecasted_value  \\\n",
       "0          0.019844          0.035085          0.005781          0.059170   \n",
       "1          0.011584          0.048174          0.008333          0.070808   \n",
       "2          0.017621          0.057804          0.006897          0.081901   \n",
       "3          0.000495          0.048335          0.005704          0.027361   \n",
       "4          0.002135          0.052189          0.003754         -0.000598   \n",
       "\n",
       "   Forecasted_value  Forecasted_value  Forecasted_value  Forecasted_value  \\\n",
       "0          0.022794         -0.009001          0.000110         -0.004812   \n",
       "1          0.018921         -0.004415          0.000547          0.000067   \n",
       "2          0.017992         -0.007550         -0.006405         -0.003053   \n",
       "3          0.003142          0.001871          0.006522          0.002938   \n",
       "4         -0.000648         -0.001749          0.003234         -0.000545   \n",
       "\n",
       "   Forecasted_value  \n",
       "0         -0.002890  \n",
       "1          0.002000  \n",
       "2         -0.002898  \n",
       "3          0.000630  \n",
       "4          0.002186  \n",
       "\n",
       "[5 rows x 910 columns]"
      ]
     },
     "execution_count": 27,
     "metadata": {},
     "output_type": "execute_result"
    }
   ],
   "source": [
    "Forecasted_values_df.head()"
   ]
  },
  {
   "cell_type": "code",
   "execution_count": 28,
   "id": "c4e2130b-9b6b-40b7-9efe-4cd6cd30c107",
   "metadata": {},
   "outputs": [],
   "source": [
    "exp_forecasted = np.exp(Forecasted_values_df)-1"
   ]
  },
  {
   "cell_type": "code",
   "execution_count": 29,
   "id": "60cd0006-0367-436e-b3c8-282e12e01146",
   "metadata": {},
   "outputs": [
    {
     "data": {
      "text/html": [
       "<div>\n",
       "<style scoped>\n",
       "    .dataframe tbody tr th:only-of-type {\n",
       "        vertical-align: middle;\n",
       "    }\n",
       "\n",
       "    .dataframe tbody tr th {\n",
       "        vertical-align: top;\n",
       "    }\n",
       "\n",
       "    .dataframe thead th {\n",
       "        text-align: right;\n",
       "    }\n",
       "</style>\n",
       "<table border=\"1\" class=\"dataframe\">\n",
       "  <thead>\n",
       "    <tr style=\"text-align: right;\">\n",
       "      <th></th>\n",
       "      <th>Forecasted_value</th>\n",
       "      <th>Forecasted_value</th>\n",
       "      <th>Forecasted_value</th>\n",
       "      <th>Forecasted_value</th>\n",
       "      <th>Forecasted_value</th>\n",
       "      <th>Forecasted_value</th>\n",
       "      <th>Forecasted_value</th>\n",
       "      <th>Forecasted_value</th>\n",
       "      <th>Forecasted_value</th>\n",
       "      <th>Forecasted_value</th>\n",
       "      <th>...</th>\n",
       "      <th>Forecasted_value</th>\n",
       "      <th>Forecasted_value</th>\n",
       "      <th>Forecasted_value</th>\n",
       "      <th>Forecasted_value</th>\n",
       "      <th>Forecasted_value</th>\n",
       "      <th>Forecasted_value</th>\n",
       "      <th>Forecasted_value</th>\n",
       "      <th>Forecasted_value</th>\n",
       "      <th>Forecasted_value</th>\n",
       "      <th>Forecasted_value</th>\n",
       "    </tr>\n",
       "  </thead>\n",
       "  <tbody>\n",
       "    <tr>\n",
       "      <th>0</th>\n",
       "      <td>0.022629</td>\n",
       "      <td>0.117777</td>\n",
       "      <td>-0.003577</td>\n",
       "      <td>-0.015339</td>\n",
       "      <td>-0.005271</td>\n",
       "      <td>-0.041466</td>\n",
       "      <td>0.049932</td>\n",
       "      <td>-0.010303</td>\n",
       "      <td>-0.015504</td>\n",
       "      <td>-0.009106</td>\n",
       "      <td>...</td>\n",
       "      <td>-0.002569</td>\n",
       "      <td>0.020042</td>\n",
       "      <td>0.035708</td>\n",
       "      <td>0.005798</td>\n",
       "      <td>0.060955</td>\n",
       "      <td>0.023055</td>\n",
       "      <td>-0.008961</td>\n",
       "      <td>0.000110</td>\n",
       "      <td>-0.004800</td>\n",
       "      <td>-0.002886</td>\n",
       "    </tr>\n",
       "    <tr>\n",
       "      <th>1</th>\n",
       "      <td>0.040854</td>\n",
       "      <td>0.133776</td>\n",
       "      <td>-0.003091</td>\n",
       "      <td>-0.011376</td>\n",
       "      <td>0.000485</td>\n",
       "      <td>-0.015694</td>\n",
       "      <td>0.082668</td>\n",
       "      <td>-0.007334</td>\n",
       "      <td>-0.012095</td>\n",
       "      <td>-0.005421</td>\n",
       "      <td>...</td>\n",
       "      <td>-0.004337</td>\n",
       "      <td>0.011652</td>\n",
       "      <td>0.049353</td>\n",
       "      <td>0.008368</td>\n",
       "      <td>0.073375</td>\n",
       "      <td>0.019101</td>\n",
       "      <td>-0.004405</td>\n",
       "      <td>0.000547</td>\n",
       "      <td>0.000067</td>\n",
       "      <td>0.002002</td>\n",
       "    </tr>\n",
       "    <tr>\n",
       "      <th>2</th>\n",
       "      <td>0.063485</td>\n",
       "      <td>0.150639</td>\n",
       "      <td>-0.004838</td>\n",
       "      <td>-0.009833</td>\n",
       "      <td>-0.001482</td>\n",
       "      <td>-0.001323</td>\n",
       "      <td>0.124565</td>\n",
       "      <td>-0.009312</td>\n",
       "      <td>-0.005504</td>\n",
       "      <td>-0.004393</td>\n",
       "      <td>...</td>\n",
       "      <td>-0.003880</td>\n",
       "      <td>0.017777</td>\n",
       "      <td>0.059507</td>\n",
       "      <td>0.006921</td>\n",
       "      <td>0.085348</td>\n",
       "      <td>0.018155</td>\n",
       "      <td>-0.007521</td>\n",
       "      <td>-0.006385</td>\n",
       "      <td>-0.003049</td>\n",
       "      <td>-0.002893</td>\n",
       "    </tr>\n",
       "    <tr>\n",
       "      <th>3</th>\n",
       "      <td>0.017894</td>\n",
       "      <td>0.099670</td>\n",
       "      <td>-0.003234</td>\n",
       "      <td>-0.003057</td>\n",
       "      <td>0.002411</td>\n",
       "      <td>0.007478</td>\n",
       "      <td>0.090762</td>\n",
       "      <td>-0.004392</td>\n",
       "      <td>0.011711</td>\n",
       "      <td>-0.000367</td>\n",
       "      <td>...</td>\n",
       "      <td>0.003489</td>\n",
       "      <td>0.000495</td>\n",
       "      <td>0.049522</td>\n",
       "      <td>0.005720</td>\n",
       "      <td>0.027739</td>\n",
       "      <td>0.003147</td>\n",
       "      <td>0.001873</td>\n",
       "      <td>0.006543</td>\n",
       "      <td>0.002942</td>\n",
       "      <td>0.000630</td>\n",
       "    </tr>\n",
       "    <tr>\n",
       "      <th>4</th>\n",
       "      <td>0.027540</td>\n",
       "      <td>0.104981</td>\n",
       "      <td>-0.000568</td>\n",
       "      <td>-0.004642</td>\n",
       "      <td>-0.001030</td>\n",
       "      <td>-0.003371</td>\n",
       "      <td>0.098487</td>\n",
       "      <td>-0.002293</td>\n",
       "      <td>-0.005350</td>\n",
       "      <td>-0.002800</td>\n",
       "      <td>...</td>\n",
       "      <td>0.003728</td>\n",
       "      <td>0.002138</td>\n",
       "      <td>0.053575</td>\n",
       "      <td>0.003761</td>\n",
       "      <td>-0.000598</td>\n",
       "      <td>-0.000647</td>\n",
       "      <td>-0.001747</td>\n",
       "      <td>0.003239</td>\n",
       "      <td>-0.000545</td>\n",
       "      <td>0.002188</td>\n",
       "    </tr>\n",
       "    <tr>\n",
       "      <th>5</th>\n",
       "      <td>0.049867</td>\n",
       "      <td>0.134163</td>\n",
       "      <td>-0.002466</td>\n",
       "      <td>0.000847</td>\n",
       "      <td>-0.000377</td>\n",
       "      <td>0.011914</td>\n",
       "      <td>0.104423</td>\n",
       "      <td>0.000462</td>\n",
       "      <td>0.007250</td>\n",
       "      <td>0.001217</td>\n",
       "      <td>...</td>\n",
       "      <td>0.000864</td>\n",
       "      <td>0.008498</td>\n",
       "      <td>0.055894</td>\n",
       "      <td>0.006470</td>\n",
       "      <td>0.029461</td>\n",
       "      <td>0.009542</td>\n",
       "      <td>0.005046</td>\n",
       "      <td>0.004890</td>\n",
       "      <td>0.002907</td>\n",
       "      <td>0.005947</td>\n",
       "    </tr>\n",
       "    <tr>\n",
       "      <th>6</th>\n",
       "      <td>0.029646</td>\n",
       "      <td>0.120482</td>\n",
       "      <td>-0.001777</td>\n",
       "      <td>0.003941</td>\n",
       "      <td>-0.001422</td>\n",
       "      <td>0.008031</td>\n",
       "      <td>0.129039</td>\n",
       "      <td>0.003203</td>\n",
       "      <td>-0.001801</td>\n",
       "      <td>-0.000288</td>\n",
       "      <td>...</td>\n",
       "      <td>-0.000271</td>\n",
       "      <td>0.009249</td>\n",
       "      <td>0.050754</td>\n",
       "      <td>0.005770</td>\n",
       "      <td>0.024775</td>\n",
       "      <td>0.010563</td>\n",
       "      <td>0.003422</td>\n",
       "      <td>0.001206</td>\n",
       "      <td>0.000856</td>\n",
       "      <td>0.002143</td>\n",
       "    </tr>\n",
       "  </tbody>\n",
       "</table>\n",
       "<p>7 rows × 910 columns</p>\n",
       "</div>"
      ],
      "text/plain": [
       "   Forecasted_value  Forecasted_value  Forecasted_value  Forecasted_value  \\\n",
       "0          0.022629          0.117777         -0.003577         -0.015339   \n",
       "1          0.040854          0.133776         -0.003091         -0.011376   \n",
       "2          0.063485          0.150639         -0.004838         -0.009833   \n",
       "3          0.017894          0.099670         -0.003234         -0.003057   \n",
       "4          0.027540          0.104981         -0.000568         -0.004642   \n",
       "5          0.049867          0.134163         -0.002466          0.000847   \n",
       "6          0.029646          0.120482         -0.001777          0.003941   \n",
       "\n",
       "   Forecasted_value  Forecasted_value  Forecasted_value  Forecasted_value  \\\n",
       "0         -0.005271         -0.041466          0.049932         -0.010303   \n",
       "1          0.000485         -0.015694          0.082668         -0.007334   \n",
       "2         -0.001482         -0.001323          0.124565         -0.009312   \n",
       "3          0.002411          0.007478          0.090762         -0.004392   \n",
       "4         -0.001030         -0.003371          0.098487         -0.002293   \n",
       "5         -0.000377          0.011914          0.104423          0.000462   \n",
       "6         -0.001422          0.008031          0.129039          0.003203   \n",
       "\n",
       "   Forecasted_value  Forecasted_value  ...  Forecasted_value  \\\n",
       "0         -0.015504         -0.009106  ...         -0.002569   \n",
       "1         -0.012095         -0.005421  ...         -0.004337   \n",
       "2         -0.005504         -0.004393  ...         -0.003880   \n",
       "3          0.011711         -0.000367  ...          0.003489   \n",
       "4         -0.005350         -0.002800  ...          0.003728   \n",
       "5          0.007250          0.001217  ...          0.000864   \n",
       "6         -0.001801         -0.000288  ...         -0.000271   \n",
       "\n",
       "   Forecasted_value  Forecasted_value  Forecasted_value  Forecasted_value  \\\n",
       "0          0.020042          0.035708          0.005798          0.060955   \n",
       "1          0.011652          0.049353          0.008368          0.073375   \n",
       "2          0.017777          0.059507          0.006921          0.085348   \n",
       "3          0.000495          0.049522          0.005720          0.027739   \n",
       "4          0.002138          0.053575          0.003761         -0.000598   \n",
       "5          0.008498          0.055894          0.006470          0.029461   \n",
       "6          0.009249          0.050754          0.005770          0.024775   \n",
       "\n",
       "   Forecasted_value  Forecasted_value  Forecasted_value  Forecasted_value  \\\n",
       "0          0.023055         -0.008961          0.000110         -0.004800   \n",
       "1          0.019101         -0.004405          0.000547          0.000067   \n",
       "2          0.018155         -0.007521         -0.006385         -0.003049   \n",
       "3          0.003147          0.001873          0.006543          0.002942   \n",
       "4         -0.000647         -0.001747          0.003239         -0.000545   \n",
       "5          0.009542          0.005046          0.004890          0.002907   \n",
       "6          0.010563          0.003422          0.001206          0.000856   \n",
       "\n",
       "   Forecasted_value  \n",
       "0         -0.002886  \n",
       "1          0.002002  \n",
       "2         -0.002893  \n",
       "3          0.000630  \n",
       "4          0.002188  \n",
       "5          0.005947  \n",
       "6          0.002143  \n",
       "\n",
       "[7 rows x 910 columns]"
      ]
     },
     "execution_count": 29,
     "metadata": {},
     "output_type": "execute_result"
    }
   ],
   "source": [
    "exp_forecasted"
   ]
  },
  {
   "cell_type": "code",
   "execution_count": 30,
   "id": "cdc66bd6-b552-4dcd-9703-e07b035fb736",
   "metadata": {},
   "outputs": [],
   "source": [
    "# set the values to 0 if the forecasted count is negative?"
   ]
  },
  {
   "cell_type": "code",
   "execution_count": 31,
   "id": "56eddb77-a48e-409d-9684-10bb31132568",
   "metadata": {},
   "outputs": [],
   "source": [
    "exp_forecasted[exp_forecasted < 0] = 0"
   ]
  },
  {
   "cell_type": "code",
   "execution_count": 32,
   "id": "c96eedde-fcfa-4f54-b8cb-d5f5cb3d6493",
   "metadata": {},
   "outputs": [
    {
     "data": {
      "text/html": [
       "<div>\n",
       "<style scoped>\n",
       "    .dataframe tbody tr th:only-of-type {\n",
       "        vertical-align: middle;\n",
       "    }\n",
       "\n",
       "    .dataframe tbody tr th {\n",
       "        vertical-align: top;\n",
       "    }\n",
       "\n",
       "    .dataframe thead th {\n",
       "        text-align: right;\n",
       "    }\n",
       "</style>\n",
       "<table border=\"1\" class=\"dataframe\">\n",
       "  <thead>\n",
       "    <tr style=\"text-align: right;\">\n",
       "      <th></th>\n",
       "      <th>Forecasted_value</th>\n",
       "      <th>Forecasted_value</th>\n",
       "      <th>Forecasted_value</th>\n",
       "      <th>Forecasted_value</th>\n",
       "      <th>Forecasted_value</th>\n",
       "      <th>Forecasted_value</th>\n",
       "      <th>Forecasted_value</th>\n",
       "      <th>Forecasted_value</th>\n",
       "      <th>Forecasted_value</th>\n",
       "      <th>Forecasted_value</th>\n",
       "      <th>...</th>\n",
       "      <th>Forecasted_value</th>\n",
       "      <th>Forecasted_value</th>\n",
       "      <th>Forecasted_value</th>\n",
       "      <th>Forecasted_value</th>\n",
       "      <th>Forecasted_value</th>\n",
       "      <th>Forecasted_value</th>\n",
       "      <th>Forecasted_value</th>\n",
       "      <th>Forecasted_value</th>\n",
       "      <th>Forecasted_value</th>\n",
       "      <th>Forecasted_value</th>\n",
       "    </tr>\n",
       "  </thead>\n",
       "  <tbody>\n",
       "    <tr>\n",
       "      <th>0</th>\n",
       "      <td>0.022629</td>\n",
       "      <td>0.117777</td>\n",
       "      <td>0.0</td>\n",
       "      <td>0.0</td>\n",
       "      <td>0.000000</td>\n",
       "      <td>0.000000</td>\n",
       "      <td>0.049932</td>\n",
       "      <td>0.0</td>\n",
       "      <td>0.000000</td>\n",
       "      <td>0.0</td>\n",
       "      <td>...</td>\n",
       "      <td>0.000000</td>\n",
       "      <td>0.020042</td>\n",
       "      <td>0.035708</td>\n",
       "      <td>0.005798</td>\n",
       "      <td>0.060955</td>\n",
       "      <td>0.023055</td>\n",
       "      <td>0.000000</td>\n",
       "      <td>0.000110</td>\n",
       "      <td>0.000000</td>\n",
       "      <td>0.000000</td>\n",
       "    </tr>\n",
       "    <tr>\n",
       "      <th>1</th>\n",
       "      <td>0.040854</td>\n",
       "      <td>0.133776</td>\n",
       "      <td>0.0</td>\n",
       "      <td>0.0</td>\n",
       "      <td>0.000485</td>\n",
       "      <td>0.000000</td>\n",
       "      <td>0.082668</td>\n",
       "      <td>0.0</td>\n",
       "      <td>0.000000</td>\n",
       "      <td>0.0</td>\n",
       "      <td>...</td>\n",
       "      <td>0.000000</td>\n",
       "      <td>0.011652</td>\n",
       "      <td>0.049353</td>\n",
       "      <td>0.008368</td>\n",
       "      <td>0.073375</td>\n",
       "      <td>0.019101</td>\n",
       "      <td>0.000000</td>\n",
       "      <td>0.000547</td>\n",
       "      <td>0.000067</td>\n",
       "      <td>0.002002</td>\n",
       "    </tr>\n",
       "    <tr>\n",
       "      <th>2</th>\n",
       "      <td>0.063485</td>\n",
       "      <td>0.150639</td>\n",
       "      <td>0.0</td>\n",
       "      <td>0.0</td>\n",
       "      <td>0.000000</td>\n",
       "      <td>0.000000</td>\n",
       "      <td>0.124565</td>\n",
       "      <td>0.0</td>\n",
       "      <td>0.000000</td>\n",
       "      <td>0.0</td>\n",
       "      <td>...</td>\n",
       "      <td>0.000000</td>\n",
       "      <td>0.017777</td>\n",
       "      <td>0.059507</td>\n",
       "      <td>0.006921</td>\n",
       "      <td>0.085348</td>\n",
       "      <td>0.018155</td>\n",
       "      <td>0.000000</td>\n",
       "      <td>0.000000</td>\n",
       "      <td>0.000000</td>\n",
       "      <td>0.000000</td>\n",
       "    </tr>\n",
       "    <tr>\n",
       "      <th>3</th>\n",
       "      <td>0.017894</td>\n",
       "      <td>0.099670</td>\n",
       "      <td>0.0</td>\n",
       "      <td>0.0</td>\n",
       "      <td>0.002411</td>\n",
       "      <td>0.007478</td>\n",
       "      <td>0.090762</td>\n",
       "      <td>0.0</td>\n",
       "      <td>0.011711</td>\n",
       "      <td>0.0</td>\n",
       "      <td>...</td>\n",
       "      <td>0.003489</td>\n",
       "      <td>0.000495</td>\n",
       "      <td>0.049522</td>\n",
       "      <td>0.005720</td>\n",
       "      <td>0.027739</td>\n",
       "      <td>0.003147</td>\n",
       "      <td>0.001873</td>\n",
       "      <td>0.006543</td>\n",
       "      <td>0.002942</td>\n",
       "      <td>0.000630</td>\n",
       "    </tr>\n",
       "    <tr>\n",
       "      <th>4</th>\n",
       "      <td>0.027540</td>\n",
       "      <td>0.104981</td>\n",
       "      <td>0.0</td>\n",
       "      <td>0.0</td>\n",
       "      <td>0.000000</td>\n",
       "      <td>0.000000</td>\n",
       "      <td>0.098487</td>\n",
       "      <td>0.0</td>\n",
       "      <td>0.000000</td>\n",
       "      <td>0.0</td>\n",
       "      <td>...</td>\n",
       "      <td>0.003728</td>\n",
       "      <td>0.002138</td>\n",
       "      <td>0.053575</td>\n",
       "      <td>0.003761</td>\n",
       "      <td>0.000000</td>\n",
       "      <td>0.000000</td>\n",
       "      <td>0.000000</td>\n",
       "      <td>0.003239</td>\n",
       "      <td>0.000000</td>\n",
       "      <td>0.002188</td>\n",
       "    </tr>\n",
       "  </tbody>\n",
       "</table>\n",
       "<p>5 rows × 910 columns</p>\n",
       "</div>"
      ],
      "text/plain": [
       "   Forecasted_value  Forecasted_value  Forecasted_value  Forecasted_value  \\\n",
       "0          0.022629          0.117777               0.0               0.0   \n",
       "1          0.040854          0.133776               0.0               0.0   \n",
       "2          0.063485          0.150639               0.0               0.0   \n",
       "3          0.017894          0.099670               0.0               0.0   \n",
       "4          0.027540          0.104981               0.0               0.0   \n",
       "\n",
       "   Forecasted_value  Forecasted_value  Forecasted_value  Forecasted_value  \\\n",
       "0          0.000000          0.000000          0.049932               0.0   \n",
       "1          0.000485          0.000000          0.082668               0.0   \n",
       "2          0.000000          0.000000          0.124565               0.0   \n",
       "3          0.002411          0.007478          0.090762               0.0   \n",
       "4          0.000000          0.000000          0.098487               0.0   \n",
       "\n",
       "   Forecasted_value  Forecasted_value  ...  Forecasted_value  \\\n",
       "0          0.000000               0.0  ...          0.000000   \n",
       "1          0.000000               0.0  ...          0.000000   \n",
       "2          0.000000               0.0  ...          0.000000   \n",
       "3          0.011711               0.0  ...          0.003489   \n",
       "4          0.000000               0.0  ...          0.003728   \n",
       "\n",
       "   Forecasted_value  Forecasted_value  Forecasted_value  Forecasted_value  \\\n",
       "0          0.020042          0.035708          0.005798          0.060955   \n",
       "1          0.011652          0.049353          0.008368          0.073375   \n",
       "2          0.017777          0.059507          0.006921          0.085348   \n",
       "3          0.000495          0.049522          0.005720          0.027739   \n",
       "4          0.002138          0.053575          0.003761          0.000000   \n",
       "\n",
       "   Forecasted_value  Forecasted_value  Forecasted_value  Forecasted_value  \\\n",
       "0          0.023055          0.000000          0.000110          0.000000   \n",
       "1          0.019101          0.000000          0.000547          0.000067   \n",
       "2          0.018155          0.000000          0.000000          0.000000   \n",
       "3          0.003147          0.001873          0.006543          0.002942   \n",
       "4          0.000000          0.000000          0.003239          0.000000   \n",
       "\n",
       "   Forecasted_value  \n",
       "0          0.000000  \n",
       "1          0.002002  \n",
       "2          0.000000  \n",
       "3          0.000630  \n",
       "4          0.002188  \n",
       "\n",
       "[5 rows x 910 columns]"
      ]
     },
     "execution_count": 32,
     "metadata": {},
     "output_type": "execute_result"
    }
   ],
   "source": [
    "exp_forecasted.head()"
   ]
  },
  {
   "cell_type": "code",
   "execution_count": 33,
   "id": "92bcf82f-ca31-4b25-a919-c8d51d72cfa7",
   "metadata": {},
   "outputs": [],
   "source": [
    "sum_forecasted_values = exp_forecasted.sum(axis = 1)"
   ]
  },
  {
   "cell_type": "code",
   "execution_count": 34,
   "id": "7f0e1119-a3bd-4a52-ae36-afa2c2070e2b",
   "metadata": {},
   "outputs": [
    {
     "data": {
      "text/plain": [
       "0    26.718926\n",
       "1    28.275555\n",
       "2    30.813805\n",
       "3    25.152693\n",
       "4    23.212625\n",
       "5    29.180186\n",
       "6    27.849117\n",
       "dtype: float64"
      ]
     },
     "execution_count": 34,
     "metadata": {},
     "output_type": "execute_result"
    }
   ],
   "source": [
    "sum_forecasted_values"
   ]
  },
  {
   "cell_type": "code",
   "execution_count": 35,
   "id": "cbc06a7e-2dca-400d-9cea-d063c33a4442",
   "metadata": {},
   "outputs": [],
   "source": [
    "# concatenate the sum dataframes\n",
    "block_0103_true_and_forecasted_values_df = pd.concat((sum_true_values, sum_forecasted_values), axis = 1)"
   ]
  },
  {
   "cell_type": "code",
   "execution_count": 36,
   "id": "f667f3a6-d7f7-4e7c-a037-1e9541dd38bd",
   "metadata": {},
   "outputs": [],
   "source": [
    "block_0103_true_and_forecasted_values_df.columns = [\"True_count\", \"Forecasted_count\"]"
   ]
  },
  {
   "cell_type": "code",
   "execution_count": 37,
   "id": "d27b93db-c9e2-49ff-9003-9e4925de3179",
   "metadata": {},
   "outputs": [
    {
     "data": {
      "text/html": [
       "<div>\n",
       "<style scoped>\n",
       "    .dataframe tbody tr th:only-of-type {\n",
       "        vertical-align: middle;\n",
       "    }\n",
       "\n",
       "    .dataframe tbody tr th {\n",
       "        vertical-align: top;\n",
       "    }\n",
       "\n",
       "    .dataframe thead th {\n",
       "        text-align: right;\n",
       "    }\n",
       "</style>\n",
       "<table border=\"1\" class=\"dataframe\">\n",
       "  <thead>\n",
       "    <tr style=\"text-align: right;\">\n",
       "      <th></th>\n",
       "      <th>True_count</th>\n",
       "      <th>Forecasted_count</th>\n",
       "    </tr>\n",
       "  </thead>\n",
       "  <tbody>\n",
       "    <tr>\n",
       "      <th>0</th>\n",
       "      <td>46.000000</td>\n",
       "      <td>26.718926</td>\n",
       "    </tr>\n",
       "    <tr>\n",
       "      <th>1</th>\n",
       "      <td>35.000000</td>\n",
       "      <td>28.275555</td>\n",
       "    </tr>\n",
       "    <tr>\n",
       "      <th>2</th>\n",
       "      <td>37.000000</td>\n",
       "      <td>30.813805</td>\n",
       "    </tr>\n",
       "    <tr>\n",
       "      <th>3</th>\n",
       "      <td>30.000651</td>\n",
       "      <td>25.152693</td>\n",
       "    </tr>\n",
       "    <tr>\n",
       "      <th>4</th>\n",
       "      <td>35.001190</td>\n",
       "      <td>23.212625</td>\n",
       "    </tr>\n",
       "    <tr>\n",
       "      <th>5</th>\n",
       "      <td>28.999994</td>\n",
       "      <td>29.180186</td>\n",
       "    </tr>\n",
       "    <tr>\n",
       "      <th>6</th>\n",
       "      <td>20.000018</td>\n",
       "      <td>27.849117</td>\n",
       "    </tr>\n",
       "  </tbody>\n",
       "</table>\n",
       "</div>"
      ],
      "text/plain": [
       "   True_count  Forecasted_count\n",
       "0   46.000000         26.718926\n",
       "1   35.000000         28.275555\n",
       "2   37.000000         30.813805\n",
       "3   30.000651         25.152693\n",
       "4   35.001190         23.212625\n",
       "5   28.999994         29.180186\n",
       "6   20.000018         27.849117"
      ]
     },
     "execution_count": 37,
     "metadata": {},
     "output_type": "execute_result"
    }
   ],
   "source": [
    "block_0103_true_and_forecasted_values_df"
   ]
  },
  {
   "cell_type": "code",
   "execution_count": 38,
   "id": "636d512d-f76b-48dc-90f1-872dc6a32736",
   "metadata": {},
   "outputs": [
    {
     "data": {
      "text/plain": [
       "9.85147380785539"
      ]
     },
     "execution_count": 38,
     "metadata": {},
     "output_type": "execute_result"
    }
   ],
   "source": [
    "# blockwise mean squared error\n",
    "rmse = np.sqrt(mean_squared_error(sum_true_values, sum_forecasted_values))\n",
    "rmse"
   ]
  },
  {
   "cell_type": "code",
   "execution_count": 39,
   "id": "df568443-7d02-4ba8-ad0e-5d83f2576c8b",
   "metadata": {},
   "outputs": [
    {
     "data": {
      "text/plain": [
       "8.122503965828605"
      ]
     },
     "execution_count": 39,
     "metadata": {},
     "output_type": "execute_result"
    }
   ],
   "source": [
    "# blockwise mean absolute error\n",
    "mae = mean_absolute_error(sum_true_values, sum_forecasted_values)\n",
    "mae"
   ]
  },
  {
   "cell_type": "code",
   "execution_count": 40,
   "id": "24d1568b-1b0d-41db-a60b-cd864b46d6e7",
   "metadata": {},
   "outputs": [
    {
     "data": {
      "text/plain": [
       "PearsonRResult(statistic=-0.06498654274241045, pvalue=0.889908235070455)"
      ]
     },
     "execution_count": 40,
     "metadata": {},
     "output_type": "execute_result"
    }
   ],
   "source": [
    "corr = pearsonr(sum_true_values, sum_forecasted_values)\n",
    "corr"
   ]
  },
  {
   "cell_type": "code",
   "execution_count": 41,
   "id": "cf8101a2-be23-4216-afd7-f7783e56f62d",
   "metadata": {},
   "outputs": [
    {
     "data": {
      "text/plain": [
       "-0.7561028664517258"
      ]
     },
     "execution_count": 41,
     "metadata": {},
     "output_type": "execute_result"
    }
   ],
   "source": [
    "r2 = r2_score(sum_true_values, sum_forecasted_values)\n",
    "r2"
   ]
  },
  {
   "cell_type": "markdown",
   "id": "fa460e4d-2fdc-45fb-8f50-6a50b0a6ef13",
   "metadata": {},
   "source": [
    "##### Coverages and widths for the forecasted values?"
   ]
  },
  {
   "cell_type": "code",
   "execution_count": 42,
   "id": "ab169e66-e011-4b49-aff9-a0bbc6ed682a",
   "metadata": {},
   "outputs": [],
   "source": [
    "# Should we get the interval preds in the same thinking way too?"
   ]
  },
  {
   "cell_type": "code",
   "execution_count": 43,
   "id": "68096274-41ee-4d50-aa90-600dfa7aebbd",
   "metadata": {},
   "outputs": [],
   "source": [
    "# maybe we should - so first convert to data scale before avearging, and see if the measures differ a lot"
   ]
  },
  {
   "cell_type": "code",
   "execution_count": null,
   "id": "dd89055b-d2da-4de1-8f26-aeca49b1b2e7",
   "metadata": {},
   "outputs": [],
   "source": []
  },
  {
   "cell_type": "code",
   "execution_count": null,
   "id": "b7832620-0685-4c21-9c6e-19df746f71fb",
   "metadata": {},
   "outputs": [],
   "source": []
  },
  {
   "cell_type": "code",
   "execution_count": 44,
   "id": "eae4e334-d06f-4950-b09e-ec34cb4f3eba",
   "metadata": {},
   "outputs": [],
   "source": [
    "# for this we need the all_forecasts npy files"
   ]
  },
  {
   "cell_type": "code",
   "execution_count": 45,
   "id": "1ec4f3fa-b7b0-4064-9007-4230b0e64f72",
   "metadata": {},
   "outputs": [],
   "source": [
    "# content location is the same path as above"
   ]
  },
  {
   "cell_type": "code",
   "execution_count": 46,
   "id": "febb8655-c529-4099-b22e-ee36918188d5",
   "metadata": {},
   "outputs": [],
   "source": [
    "all_forecasts_npy_files = ['all_forecasts_sub_' + str(i) + '.npy' for i in range(910)]"
   ]
  },
  {
   "cell_type": "code",
   "execution_count": 47,
   "id": "11eba5f0-5a18-4d7d-a743-d57bc9cf93a4",
   "metadata": {},
   "outputs": [],
   "source": [
    "# all_forecasts_npy_files"
   ]
  },
  {
   "cell_type": "code",
   "execution_count": 48,
   "id": "7711dd37-fd3c-4ac8-b8ae-b4be59dff7fa",
   "metadata": {},
   "outputs": [],
   "source": [
    "# load the npy files"
   ]
  },
  {
   "cell_type": "code",
   "execution_count": 49,
   "id": "57f059e1-25b1-4e6d-b370-9ca0236848ea",
   "metadata": {},
   "outputs": [
    {
     "name": "stdout",
     "output_type": "stream",
     "text": [
      "CPU times: user 856 ms, sys: 516 ms, total: 1.37 s\n",
      "Wall time: 19.8 s\n"
     ]
    }
   ],
   "source": [
    "%%time\n",
    "loaded_npy_files = []\n",
    "for file in all_forecasts_npy_files:\n",
    "    joined_path = os.path.join(path_to_dfs, file)\n",
    "    load_file = np.load(joined_path)\n",
    "    # notice we are averaging the preds across the chains before exponentiation\n",
    "    mean_file = np.exp(np.mean(load_file, axis = 1)) - 1\n",
    "    loaded_npy_files.append(mean_file)"
   ]
  },
  {
   "cell_type": "code",
   "execution_count": 50,
   "id": "78d4c420-8e99-4103-881e-297bc81f909d",
   "metadata": {},
   "outputs": [
    {
     "data": {
      "text/plain": [
       "910"
      ]
     },
     "execution_count": 50,
     "metadata": {},
     "output_type": "execute_result"
    }
   ],
   "source": [
    "len(loaded_npy_files)"
   ]
  },
  {
   "cell_type": "code",
   "execution_count": 51,
   "id": "3cc8627a-822a-4c8e-898a-52957870ccde",
   "metadata": {},
   "outputs": [
    {
     "data": {
      "text/plain": [
       "(1000, 7)"
      ]
     },
     "execution_count": 51,
     "metadata": {},
     "output_type": "execute_result"
    }
   ],
   "source": [
    "loaded_npy_files[0].shape"
   ]
  },
  {
   "cell_type": "code",
   "execution_count": 52,
   "id": "ab72ca92-e8f1-4ce3-9cea-117b673d4529",
   "metadata": {},
   "outputs": [
    {
     "data": {
      "text/plain": [
       "array([[ 0.03243577,  0.02564561,  0.17621529, ..., -0.00962448,\n",
       "         0.10803008,  0.02618682],\n",
       "       [-0.00560647, -0.11560047, -0.06393147, ...,  0.01154518,\n",
       "         0.04079854,  0.01973271],\n",
       "       [ 0.00025105,  0.12381065,  0.03084064, ...,  0.07478344,\n",
       "        -0.04000747,  0.05453575],\n",
       "       ...,\n",
       "       [ 0.09717298,  0.01331568,  0.13177133, ...,  0.10315907,\n",
       "         0.09119439,  0.08018959],\n",
       "       [-0.20280188, -0.08756191, -0.03557825, ...,  0.15995514,\n",
       "         0.15359616,  0.02171361],\n",
       "       [-0.05132073,  0.05662143,  0.04738522, ...,  0.07831979,\n",
       "        -0.04553998,  0.01742315]], dtype=float32)"
      ]
     },
     "execution_count": 52,
     "metadata": {},
     "output_type": "execute_result"
    }
   ],
   "source": [
    "loaded_npy_files[0]"
   ]
  },
  {
   "cell_type": "code",
   "execution_count": 53,
   "id": "53dd5c88-918c-46a0-b5ae-cb7c75895741",
   "metadata": {},
   "outputs": [
    {
     "name": "stdout",
     "output_type": "stream",
     "text": [
      "CPU times: user 24.7 ms, sys: 835 µs, total: 25.6 ms\n",
      "Wall time: 24.6 ms\n"
     ]
    }
   ],
   "source": [
    "%%time\n",
    "# convert less than 0 entries to 0 for all arrays\n",
    "for arr in loaded_npy_files:\n",
    "    arr[arr < 0] = 0"
   ]
  },
  {
   "cell_type": "code",
   "execution_count": 54,
   "id": "b20d4662-eefc-41bc-ac0a-25d0613fa00c",
   "metadata": {},
   "outputs": [
    {
     "data": {
      "text/plain": [
       "array([[0.03243577, 0.02564561, 0.17621529, ..., 0.        , 0.10803008,\n",
       "        0.02618682],\n",
       "       [0.        , 0.        , 0.        , ..., 0.01154518, 0.04079854,\n",
       "        0.01973271],\n",
       "       [0.00025105, 0.12381065, 0.03084064, ..., 0.07478344, 0.        ,\n",
       "        0.05453575],\n",
       "       ...,\n",
       "       [0.09717298, 0.01331568, 0.13177133, ..., 0.10315907, 0.09119439,\n",
       "        0.08018959],\n",
       "       [0.        , 0.        , 0.        , ..., 0.15995514, 0.15359616,\n",
       "        0.02171361],\n",
       "       [0.        , 0.05662143, 0.04738522, ..., 0.07831979, 0.        ,\n",
       "        0.01742315]], dtype=float32)"
      ]
     },
     "execution_count": 54,
     "metadata": {},
     "output_type": "execute_result"
    }
   ],
   "source": [
    "loaded_npy_files[0]"
   ]
  },
  {
   "cell_type": "code",
   "execution_count": 55,
   "id": "f2474bdb-3a79-4436-83b1-2b3c3ac24a5c",
   "metadata": {},
   "outputs": [],
   "source": [
    "# Since we do not have overlapping sub-windows, we can sum the counts to get the final densities\n",
    "output = sum(loaded_npy_files)"
   ]
  },
  {
   "cell_type": "code",
   "execution_count": 56,
   "id": "d9038206-4f90-4001-9c3c-aee27d7d610c",
   "metadata": {},
   "outputs": [
    {
     "data": {
      "text/plain": [
       "(1000, 7)"
      ]
     },
     "execution_count": 56,
     "metadata": {},
     "output_type": "execute_result"
    }
   ],
   "source": [
    "output.shape"
   ]
  },
  {
   "cell_type": "code",
   "execution_count": 57,
   "id": "6116babf-18f2-4e39-9a72-150ccc4e6387",
   "metadata": {},
   "outputs": [
    {
     "data": {
      "text/plain": [
       "array([[35.658997, 34.705727, 38.169353, ..., 32.060146, 35.77192 ,\n",
       "        35.433987],\n",
       "       [32.25731 , 31.83317 , 34.75501 , ..., 31.095993, 37.789967,\n",
       "        41.196617],\n",
       "       [41.167717, 34.97648 , 38.79303 , ..., 38.741302, 46.585396,\n",
       "        42.2242  ],\n",
       "       ...,\n",
       "       [35.955704, 36.692837, 38.810375, ..., 38.930668, 44.835453,\n",
       "        50.843716],\n",
       "       [34.069008, 31.839312, 41.94303 , ..., 40.23046 , 39.70108 ,\n",
       "        37.64736 ],\n",
       "       [32.497765, 38.548805, 41.64372 , ..., 37.28365 , 43.163605,\n",
       "        42.34832 ]], dtype=float32)"
      ]
     },
     "execution_count": 57,
     "metadata": {},
     "output_type": "execute_result"
    }
   ],
   "source": [
    "output"
   ]
  },
  {
   "cell_type": "code",
   "execution_count": 58,
   "id": "fbac31f0-215b-4e8b-8c13-2cd85e76a70f",
   "metadata": {},
   "outputs": [],
   "source": [
    "# is this sum correct? alternative method of computing the sums\n",
    "output_alt = np.sum(loaded_npy_files, axis = 0)"
   ]
  },
  {
   "cell_type": "code",
   "execution_count": 59,
   "id": "1198a1a0-14fc-4101-b4af-14a2c26dc0c5",
   "metadata": {},
   "outputs": [
    {
     "data": {
      "text/plain": [
       "(1000, 7)"
      ]
     },
     "execution_count": 59,
     "metadata": {},
     "output_type": "execute_result"
    }
   ],
   "source": [
    "output_alt.shape"
   ]
  },
  {
   "cell_type": "code",
   "execution_count": 60,
   "id": "23c6ebbe-2c27-47ff-8a5f-86491e58d899",
   "metadata": {},
   "outputs": [
    {
     "data": {
      "text/plain": [
       "array([[35.658997, 34.705727, 38.169353, ..., 32.060146, 35.77192 ,\n",
       "        35.433987],\n",
       "       [32.25731 , 31.83317 , 34.75501 , ..., 31.095993, 37.789967,\n",
       "        41.196617],\n",
       "       [41.167717, 34.97648 , 38.79303 , ..., 38.741302, 46.585396,\n",
       "        42.2242  ],\n",
       "       ...,\n",
       "       [35.955704, 36.692837, 38.810375, ..., 38.930668, 44.835453,\n",
       "        50.843716],\n",
       "       [34.069008, 31.839312, 41.94303 , ..., 40.23046 , 39.70108 ,\n",
       "        37.64736 ],\n",
       "       [32.497765, 38.548805, 41.64372 , ..., 37.28365 , 43.163605,\n",
       "        42.34832 ]], dtype=float32)"
      ]
     },
     "execution_count": 60,
     "metadata": {},
     "output_type": "execute_result"
    }
   ],
   "source": [
    "output_alt"
   ]
  },
  {
   "cell_type": "code",
   "execution_count": 61,
   "id": "7b4a8d85-fe98-49c3-9a9f-51fbd90c5174",
   "metadata": {},
   "outputs": [
    {
     "data": {
      "text/plain": [
       "1.0"
      ]
     },
     "execution_count": 61,
     "metadata": {},
     "output_type": "execute_result"
    }
   ],
   "source": [
    "np.mean(output_alt == output)"
   ]
  },
  {
   "cell_type": "code",
   "execution_count": 62,
   "id": "ba6418a3-03f4-475a-b552-55a08048311f",
   "metadata": {},
   "outputs": [],
   "source": [
    "# verified the sum is correct, let's get the widths and the coverages - and also any essential plots"
   ]
  },
  {
   "cell_type": "code",
   "execution_count": 63,
   "id": "ca61eabc-63ed-4b74-b20a-61521b3751a6",
   "metadata": {},
   "outputs": [],
   "source": [
    "# now we can get the 2.5th abd the 97.5th percentiles - to get the coverage and the widths of the CIS\n",
    "li_train = np.percentile(output, axis = 0, q = (2.5, 97.5))[0,:].reshape(-1,1)    \n",
    "ui_train = np.percentile(output, axis = 0, q = (2.5, 97.5))[1,:].reshape(-1,1)"
   ]
  },
  {
   "cell_type": "code",
   "execution_count": 64,
   "id": "9cad5cca-320d-4e70-b204-e4dc52fb9d6d",
   "metadata": {},
   "outputs": [
    {
     "data": {
      "text/plain": [
       "array([[24.77422462],\n",
       "       [24.12009773],\n",
       "       [25.03096209],\n",
       "       [22.16408   ],\n",
       "       [21.25888152],\n",
       "       [24.94836593],\n",
       "       [24.96951656]])"
      ]
     },
     "execution_count": 64,
     "metadata": {},
     "output_type": "execute_result"
    }
   ],
   "source": [
    "li_train"
   ]
  },
  {
   "cell_type": "code",
   "execution_count": 65,
   "id": "4e669c1d-0916-4e77-92e2-a1b1879834aa",
   "metadata": {},
   "outputs": [
    {
     "data": {
      "text/plain": [
       "array([[43.19900665],\n",
       "       [44.95613756],\n",
       "       [48.1515893 ],\n",
       "       [45.78649139],\n",
       "       [43.91576166],\n",
       "       [49.77379589],\n",
       "       [48.95420818]])"
      ]
     },
     "execution_count": 65,
     "metadata": {},
     "output_type": "execute_result"
    }
   ],
   "source": [
    "ui_train"
   ]
  },
  {
   "cell_type": "code",
   "execution_count": 66,
   "id": "4d51a483-bfe5-4cc6-a31f-813cb83d5540",
   "metadata": {},
   "outputs": [],
   "source": [
    "width_train = ui_train - li_train\n",
    "avg_width_train = width_train.mean(0)[0]"
   ]
  },
  {
   "cell_type": "code",
   "execution_count": 67,
   "id": "37b163bb-b24c-4af2-8f2b-19c78eb24ff9",
   "metadata": {},
   "outputs": [
    {
     "data": {
      "text/plain": [
       "22.495837456839418"
      ]
     },
     "execution_count": 67,
     "metadata": {},
     "output_type": "execute_result"
    }
   ],
   "source": [
    "avg_width_train"
   ]
  },
  {
   "cell_type": "code",
   "execution_count": 68,
   "id": "46d652b2-05be-44f9-bf0d-3ff69ad25fed",
   "metadata": {},
   "outputs": [],
   "source": [
    "y_traina = block_0103_true_and_forecasted_values_df[[\"True_count\"]].values"
   ]
  },
  {
   "cell_type": "code",
   "execution_count": 69,
   "id": "5f1ba54d-0aca-494d-b741-b2cd6d00fcb3",
   "metadata": {},
   "outputs": [],
   "source": [
    "ind_train = (y_traina >= li_train) & (y_traina <= ui_train)\n",
    "coverage_train= ind_train.mean(0)[0]"
   ]
  },
  {
   "cell_type": "code",
   "execution_count": 70,
   "id": "66d5a7c9-0400-4f6f-9221-9cb9c7860d3c",
   "metadata": {},
   "outputs": [
    {
     "data": {
      "text/plain": [
       "0.7142857142857143"
      ]
     },
     "execution_count": 70,
     "metadata": {},
     "output_type": "execute_result"
    }
   ],
   "source": [
    "coverage_train"
   ]
  },
  {
   "cell_type": "code",
   "execution_count": 71,
   "id": "ce86b870-01cf-4e10-904b-ef2396d2dc47",
   "metadata": {},
   "outputs": [
    {
     "data": {
      "text/plain": [
       "array([33.186283, 33.941063, 36.157364, 33.29761 , 31.143066, 36.131493,\n",
       "       35.864628], dtype=float32)"
      ]
     },
     "execution_count": 71,
     "metadata": {},
     "output_type": "execute_result"
    }
   ],
   "source": [
    "np.mean(output, axis = 0)"
   ]
  },
  {
   "cell_type": "code",
   "execution_count": 72,
   "id": "311beb4f-6347-407c-af9b-bfe285361098",
   "metadata": {},
   "outputs": [],
   "source": [
    "# sum_forecasted_values"
   ]
  },
  {
   "cell_type": "code",
   "execution_count": 76,
   "id": "0f94ff2b-6606-477b-a3a7-c3841f436c56",
   "metadata": {},
   "outputs": [
    {
     "data": {
      "image/png": "[encoded data removed]",
      "text/plain": [
       "<Figure size 640x480 with 1 Axes>"
      ]
     },
     "metadata": {},
     "output_type": "display_data"
    }
   ],
   "source": [
    "plt.scatter(block_0103_true_and_forecasted_values_df['True_count'], block_0103_true_and_forecasted_values_df['Forecasted_count'])\n",
    "plt.xlabel(\"True density\")\n",
    "plt.ylabel(\"Predicted density\")\n",
    "# Add the y = x line\n",
    "plt.plot([20, 45], [20, 45], color='green', label='y = x')\n",
    "plt.legend()\n",
    "plt.show()"
   ]
  },
  {
   "cell_type": "code",
   "execution_count": 74,
   "id": "04aa778d-3203-493f-a8d5-6c42cd0c540a",
   "metadata": {},
   "outputs": [
    {
     "data": {
      "image/png": "[encoded data removed]",
      "text/plain": [
       "<Figure size 1500x2000 with 8 Axes>"
      ]
     },
     "metadata": {},
     "output_type": "display_data"
    },
    {
     "name": "stdout",
     "output_type": "stream",
     "text": [
      "CPU times: user 33.2 s, sys: 803 ms, total: 34 s\n",
      "Wall time: 33.6 s\n"
     ]
    }
   ],
   "source": [
    "%%time\n",
    "# Create a 2x4 grid of subplots (total 8 plots, the last one will be left empty)\n",
    "fig, axes = plt.subplots(4, 2, figsize=(15,20))\n",
    "axes = axes.flatten() \n",
    "\n",
    "# widths plots\n",
    "for i in range(7):\n",
    "    timestep_i_subwindows = []\n",
    "    for y, file in enumerate(loaded_npy_files):\n",
    "        t_i_forecast = file[:,i]\n",
    "        # print the shape of the extracted array\n",
    "        # print(t_i_forecast.shape)\n",
    "        timestep_i_subwindows.append(t_i_forecast)\n",
    "    stacked_forecasts = np.stack(timestep_i_subwindows)\n",
    "    stacked_forecasts[stacked_forecasts<0] = 0\n",
    "    sorted_stacked_forecasts = np.sort(stacked_forecasts, axis = 1)\n",
    "    # get the values between the 2.5th and 97.5th percentile?\n",
    "    sorted_interval_data = sorted_stacked_forecasts[:,25:975]\n",
    "\n",
    "    # Plot for the current 2D array\n",
    "    for l, row in enumerate(sorted_interval_data):\n",
    "        axes[i].plot([l + 1] * len(row), row, 'o', markersize=1, color='teal', label='Distribution of forecasted values' if l == 0 else \"\")\n",
    "    \n",
    "    true_counts = exp_true.iloc[i,:].values\n",
    "\n",
    "    # # Overlay the 1D array values\n",
    "    axes[i].plot(np.arange(1, 911), true_counts, 'o', markersize=1, color='red', label='True density')\n",
    "    \n",
    "    # Customize x-ticks and labels\n",
    "    axes[i].set_xticks(np.arange(1, 911))\n",
    "    # axes[i].set_xticklabels([f'sub_window_{zz + 1}' for zz in range(910)], rotation=90, fontsize=13)\n",
    "    axes[i].set_xlabel(\"Sub windows\", fontsize=12, fontweight='bold')\n",
    "    axes[i].set_ylabel(\"Forecasted and true densities\", fontsize=12, fontweight='bold')\n",
    "    axes[i].set_title(f\"Test image {i + 1}\", fontsize=12, fontweight='bold')\n",
    "    axes[i].legend()\n",
    "\n",
    "\n",
    "# Hide the last (empty) subplot\n",
    "axes[-1].set_visible(False)\n",
    "\n",
    "# Adjust layout\n",
    "plt.tight_layout()\n",
    "\n",
    "# # Save the figure as a PDF file\n",
    "# plt.savefig(\"Previous_data/Forecasted_distributions_blk13.pdf\", format='pdf', bbox_inches='tight')\n",
    "plt.show()\n",
    "\n"
   ]
  },
  {
   "cell_type": "code",
   "execution_count": 75,
   "id": "b51d6a01-5c7a-4e37-be12-776053974e4d",
   "metadata": {},
   "outputs": [],
   "source": [
    "# plots are going to be too over-crowded as we now have 910 subwindows - might beed to talk to Dr. Ghosh to figure out a better way to give these plots"
   ]
  }
 ],
 "metadata": {
  "kernelspec": {
   "display_name": "Python (tfp_cpu_env)",
   "language": "python",
   "name": "tfp_cpu_env"
  },
  "language_info": {
   "codemirror_mode": {
    "name": "ipython",
    "version": 3
   },
   "file_extension": ".py",
   "mimetype": "text/x-python",
   "name": "python",
   "nbconvert_exporter": "python",
   "pygments_lexer": "ipython3",
   "version": "3.11.7"
  }
 },
 "nbformat": 4,
 "nbformat_minor": 5
}
