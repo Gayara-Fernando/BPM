{
 "cells": [
  {
   "cell_type": "code",
   "execution_count": 1,
   "id": "95479ff1-daa9-4a85-bee2-32d78b24506b",
   "metadata": {},
   "outputs": [],
   "source": [
    "import pandas as pd\n",
    "import numpy as np\n",
    "import matplotlib.pyplot as plt\n",
    "import os\n",
    "from sklearn.metrics import mean_absolute_error, mean_squared_error, r2_score\n",
    "from scipy.stats import pearsonr"
   ]
  },
  {
   "cell_type": "code",
   "execution_count": 2,
   "id": "d0c496d4-1b24-43dd-ab1b-b98d6eaef21b",
   "metadata": {},
   "outputs": [],
   "source": [
    "# path to dataframes\n",
    "path_to_dfs = \"suggestion_2/forecasted_counts/block_0201\""
   ]
  },
  {
   "cell_type": "code",
   "execution_count": 3,
   "id": "0c9c641d-4e5d-4c54-a235-c62cbdf13f8d",
   "metadata": {},
   "outputs": [],
   "source": [
    "# os.listdir(path_to_dfs)"
   ]
  },
  {
   "cell_type": "code",
   "execution_count": 4,
   "id": "5e5d1ebd-ac8c-4a2b-b33c-db3c4b477eae",
   "metadata": {},
   "outputs": [
    {
     "data": {
      "text/plain": [
       "6370"
      ]
     },
     "execution_count": 4,
     "metadata": {},
     "output_type": "execute_result"
    }
   ],
   "source": [
    "len(os.listdir(path_to_dfs))"
   ]
  },
  {
   "cell_type": "code",
   "execution_count": 5,
   "id": "3b80d752-5eb8-42c1-ad39-987ad3dbb001",
   "metadata": {},
   "outputs": [
    {
     "data": {
      "text/plain": [
       "7.0"
      ]
     },
     "execution_count": 5,
     "metadata": {},
     "output_type": "execute_result"
    }
   ],
   "source": [
    "6370/910"
   ]
  },
  {
   "cell_type": "code",
   "execution_count": 6,
   "id": "a0ac81e1-3049-44de-a2bf-4bf5a274ba45",
   "metadata": {},
   "outputs": [],
   "source": [
    "# seems each sub-window sequence have 7 things stored - what are all these?\n",
    "\n",
    "# the forecasted npy files\n",
    "# ar_sigma\n",
    "# noise_sigma\n",
    "# betas\n",
    "# rho\n",
    "# averaged forecasts\n",
    "# posterior parameter summaries - might need to pay a little attention here, the r_hat values are too high - think this should vary around 1? - but almost all the values are greater than 2."
   ]
  },
  {
   "cell_type": "code",
   "execution_count": 7,
   "id": "f9a4f497-2d9d-4b5c-9169-46b6ae6b9977",
   "metadata": {},
   "outputs": [],
   "source": [
    "averaged_forecasts_csvs = []\n",
    "for file in os.listdir(path_to_dfs):\n",
    "    if file[:8] =='averaged':\n",
    "        averaged_forecasts_csvs.append(file)"
   ]
  },
  {
   "cell_type": "code",
   "execution_count": 8,
   "id": "094e9614-b16f-45a2-aafc-d7884678eb44",
   "metadata": {},
   "outputs": [
    {
     "data": {
      "text/plain": [
       "910"
      ]
     },
     "execution_count": 8,
     "metadata": {},
     "output_type": "execute_result"
    }
   ],
   "source": [
    "# how many csv files do we have?\n",
    "len(averaged_forecasts_csvs)"
   ]
  },
  {
   "cell_type": "code",
   "execution_count": 9,
   "id": "7eca928b-bdbd-4d00-9eb1-8a808db7123e",
   "metadata": {},
   "outputs": [],
   "source": [
    "# averaged_forecasts_csvs - we probably need these in order for getting the respective predicted values"
   ]
  },
  {
   "cell_type": "code",
   "execution_count": 10,
   "id": "d0e11c68-824a-41ea-bf6b-65f53103343f",
   "metadata": {},
   "outputs": [
    {
     "data": {
      "text/plain": [
       "'averaged_forecasts_sub_653.csv'"
      ]
     },
     "execution_count": 10,
     "metadata": {},
     "output_type": "execute_result"
    }
   ],
   "source": [
    "averaged_forecasts_csvs[0]"
   ]
  },
  {
   "cell_type": "code",
   "execution_count": 11,
   "id": "f1f9e7be-53a6-4f38-b389-045d898b14ef",
   "metadata": {},
   "outputs": [],
   "source": [
    "# sorting them would not work as everything in the nomenclature of the files is a character - hence will not respect the numerical order"
   ]
  },
  {
   "cell_type": "code",
   "execution_count": 12,
   "id": "3cf616ee-4b4e-4ad9-ac1b-20aba081bfc5",
   "metadata": {},
   "outputs": [],
   "source": [
    "# let's create these names in the order of the subwindows\n",
    "ordered_csv_files = ['averaged_forecasts_sub_' + str(i) + '.csv' for i in range(910)]"
   ]
  },
  {
   "cell_type": "code",
   "execution_count": 13,
   "id": "7ac08389-4437-448b-b8a8-317cd0a9bf8e",
   "metadata": {},
   "outputs": [],
   "source": [
    "# ordered_csv_files"
   ]
  },
  {
   "cell_type": "code",
   "execution_count": 14,
   "id": "e74425d7-b613-44cf-96dd-df4298cef947",
   "metadata": {},
   "outputs": [],
   "source": [
    "# averaged_forecasts_csvs list is pointless at this time?"
   ]
  },
  {
   "cell_type": "code",
   "execution_count": 15,
   "id": "9a94c9ec-57cc-42fa-ad71-26639da44cb7",
   "metadata": {},
   "outputs": [
    {
     "name": "stdout",
     "output_type": "stream",
     "text": [
      "CPU times: user 450 ms, sys: 25.4 ms, total: 475 ms\n",
      "Wall time: 477 ms\n"
     ]
    }
   ],
   "source": [
    "%%time\n",
    "all_dfs = []\n",
    "for file in ordered_csv_files:\n",
    "    read_df = pd.read_csv(path_to_dfs + '/' + file)\n",
    "    all_dfs.append(read_df)"
   ]
  },
  {
   "cell_type": "code",
   "execution_count": 16,
   "id": "c04b6062-8fc9-4f3e-87f2-2a8e9abac16f",
   "metadata": {},
   "outputs": [],
   "source": [
    "# make a single dataframe out of the many\n",
    "combined_df = pd.concat(all_dfs, axis = 1)"
   ]
  },
  {
   "cell_type": "code",
   "execution_count": 17,
   "id": "5671cc95-7ba6-47bc-8da8-47ba9d3f36e3",
   "metadata": {},
   "outputs": [
    {
     "data": {
      "text/html": [
       "<div>\n",
       "<style scoped>\n",
       "    .dataframe tbody tr th:only-of-type {\n",
       "        vertical-align: middle;\n",
       "    }\n",
       "\n",
       "    .dataframe tbody tr th {\n",
       "        vertical-align: top;\n",
       "    }\n",
       "\n",
       "    .dataframe thead th {\n",
       "        text-align: right;\n",
       "    }\n",
       "</style>\n",
       "<table border=\"1\" class=\"dataframe\">\n",
       "  <thead>\n",
       "    <tr style=\"text-align: right;\">\n",
       "      <th></th>\n",
       "      <th>True_value</th>\n",
       "      <th>Forecasted_value</th>\n",
       "      <th>True_value</th>\n",
       "      <th>Forecasted_value</th>\n",
       "      <th>True_value</th>\n",
       "      <th>Forecasted_value</th>\n",
       "      <th>True_value</th>\n",
       "      <th>Forecasted_value</th>\n",
       "      <th>True_value</th>\n",
       "      <th>Forecasted_value</th>\n",
       "      <th>...</th>\n",
       "      <th>True_value</th>\n",
       "      <th>Forecasted_value</th>\n",
       "      <th>True_value</th>\n",
       "      <th>Forecasted_value</th>\n",
       "      <th>True_value</th>\n",
       "      <th>Forecasted_value</th>\n",
       "      <th>True_value</th>\n",
       "      <th>Forecasted_value</th>\n",
       "      <th>True_value</th>\n",
       "      <th>Forecasted_value</th>\n",
       "    </tr>\n",
       "  </thead>\n",
       "  <tbody>\n",
       "    <tr>\n",
       "      <th>0</th>\n",
       "      <td>0.0</td>\n",
       "      <td>-0.005777</td>\n",
       "      <td>0.0</td>\n",
       "      <td>-0.008793</td>\n",
       "      <td>0.0</td>\n",
       "      <td>-0.006146</td>\n",
       "      <td>0.0</td>\n",
       "      <td>0.004816</td>\n",
       "      <td>0.0</td>\n",
       "      <td>-0.014672</td>\n",
       "      <td>...</td>\n",
       "      <td>0.000000e+00</td>\n",
       "      <td>-0.002431</td>\n",
       "      <td>0.0</td>\n",
       "      <td>-0.001711</td>\n",
       "      <td>0.0</td>\n",
       "      <td>-0.002284</td>\n",
       "      <td>0.0</td>\n",
       "      <td>-0.005224</td>\n",
       "      <td>0.0</td>\n",
       "      <td>0.005208</td>\n",
       "    </tr>\n",
       "    <tr>\n",
       "      <th>1</th>\n",
       "      <td>0.0</td>\n",
       "      <td>0.001021</td>\n",
       "      <td>0.0</td>\n",
       "      <td>0.003633</td>\n",
       "      <td>0.0</td>\n",
       "      <td>-0.003488</td>\n",
       "      <td>0.0</td>\n",
       "      <td>0.003368</td>\n",
       "      <td>0.0</td>\n",
       "      <td>-0.005259</td>\n",
       "      <td>...</td>\n",
       "      <td>2.317985e-04</td>\n",
       "      <td>-0.004177</td>\n",
       "      <td>0.0</td>\n",
       "      <td>0.002753</td>\n",
       "      <td>0.0</td>\n",
       "      <td>-0.004188</td>\n",
       "      <td>0.0</td>\n",
       "      <td>-0.000814</td>\n",
       "      <td>0.0</td>\n",
       "      <td>0.004201</td>\n",
       "    </tr>\n",
       "    <tr>\n",
       "      <th>2</th>\n",
       "      <td>0.0</td>\n",
       "      <td>-0.001544</td>\n",
       "      <td>0.0</td>\n",
       "      <td>-0.000695</td>\n",
       "      <td>0.0</td>\n",
       "      <td>-0.008081</td>\n",
       "      <td>0.0</td>\n",
       "      <td>0.000438</td>\n",
       "      <td>0.0</td>\n",
       "      <td>-0.004590</td>\n",
       "      <td>...</td>\n",
       "      <td>1.185987e-09</td>\n",
       "      <td>-0.007599</td>\n",
       "      <td>0.0</td>\n",
       "      <td>-0.002196</td>\n",
       "      <td>0.0</td>\n",
       "      <td>-0.002343</td>\n",
       "      <td>0.0</td>\n",
       "      <td>-0.003754</td>\n",
       "      <td>0.0</td>\n",
       "      <td>0.001391</td>\n",
       "    </tr>\n",
       "    <tr>\n",
       "      <th>3</th>\n",
       "      <td>0.0</td>\n",
       "      <td>0.003831</td>\n",
       "      <td>0.0</td>\n",
       "      <td>0.006051</td>\n",
       "      <td>0.0</td>\n",
       "      <td>-0.002398</td>\n",
       "      <td>0.0</td>\n",
       "      <td>-0.003274</td>\n",
       "      <td>0.0</td>\n",
       "      <td>-0.003589</td>\n",
       "      <td>...</td>\n",
       "      <td>0.000000e+00</td>\n",
       "      <td>-0.007457</td>\n",
       "      <td>0.0</td>\n",
       "      <td>0.004806</td>\n",
       "      <td>0.0</td>\n",
       "      <td>-0.000121</td>\n",
       "      <td>0.0</td>\n",
       "      <td>0.001489</td>\n",
       "      <td>0.0</td>\n",
       "      <td>0.001759</td>\n",
       "    </tr>\n",
       "    <tr>\n",
       "      <th>4</th>\n",
       "      <td>0.0</td>\n",
       "      <td>0.001369</td>\n",
       "      <td>0.0</td>\n",
       "      <td>-0.003473</td>\n",
       "      <td>0.0</td>\n",
       "      <td>-0.004376</td>\n",
       "      <td>0.0</td>\n",
       "      <td>-0.000324</td>\n",
       "      <td>0.0</td>\n",
       "      <td>-0.002456</td>\n",
       "      <td>...</td>\n",
       "      <td>0.000000e+00</td>\n",
       "      <td>-0.002928</td>\n",
       "      <td>0.0</td>\n",
       "      <td>-0.000295</td>\n",
       "      <td>0.0</td>\n",
       "      <td>0.005174</td>\n",
       "      <td>0.0</td>\n",
       "      <td>-0.000559</td>\n",
       "      <td>0.0</td>\n",
       "      <td>0.001616</td>\n",
       "    </tr>\n",
       "  </tbody>\n",
       "</table>\n",
       "<p>5 rows × 1820 columns</p>\n",
       "</div>"
      ],
      "text/plain": [
       "   True_value  Forecasted_value  True_value  Forecasted_value  True_value  \\\n",
       "0         0.0         -0.005777         0.0         -0.008793         0.0   \n",
       "1         0.0          0.001021         0.0          0.003633         0.0   \n",
       "2         0.0         -0.001544         0.0         -0.000695         0.0   \n",
       "3         0.0          0.003831         0.0          0.006051         0.0   \n",
       "4         0.0          0.001369         0.0         -0.003473         0.0   \n",
       "\n",
       "   Forecasted_value  True_value  Forecasted_value  True_value  \\\n",
       "0         -0.006146         0.0          0.004816         0.0   \n",
       "1         -0.003488         0.0          0.003368         0.0   \n",
       "2         -0.008081         0.0          0.000438         0.0   \n",
       "3         -0.002398         0.0         -0.003274         0.0   \n",
       "4         -0.004376         0.0         -0.000324         0.0   \n",
       "\n",
       "   Forecasted_value  ...    True_value  Forecasted_value  True_value  \\\n",
       "0         -0.014672  ...  0.000000e+00         -0.002431         0.0   \n",
       "1         -0.005259  ...  2.317985e-04         -0.004177         0.0   \n",
       "2         -0.004590  ...  1.185987e-09         -0.007599         0.0   \n",
       "3         -0.003589  ...  0.000000e+00         -0.007457         0.0   \n",
       "4         -0.002456  ...  0.000000e+00         -0.002928         0.0   \n",
       "\n",
       "   Forecasted_value  True_value  Forecasted_value  True_value  \\\n",
       "0         -0.001711         0.0         -0.002284         0.0   \n",
       "1          0.002753         0.0         -0.004188         0.0   \n",
       "2         -0.002196         0.0         -0.002343         0.0   \n",
       "3          0.004806         0.0         -0.000121         0.0   \n",
       "4         -0.000295         0.0          0.005174         0.0   \n",
       "\n",
       "   Forecasted_value  True_value  Forecasted_value  \n",
       "0         -0.005224         0.0          0.005208  \n",
       "1         -0.000814         0.0          0.004201  \n",
       "2         -0.003754         0.0          0.001391  \n",
       "3          0.001489         0.0          0.001759  \n",
       "4         -0.000559         0.0          0.001616  \n",
       "\n",
       "[5 rows x 1820 columns]"
      ]
     },
     "execution_count": 17,
     "metadata": {},
     "output_type": "execute_result"
    }
   ],
   "source": [
    "combined_df.head()"
   ]
  },
  {
   "cell_type": "code",
   "execution_count": 18,
   "id": "77ebc554-fe99-4cea-9cb3-2d2b8329b7b8",
   "metadata": {},
   "outputs": [
    {
     "data": {
      "text/plain": [
       "(7, 1820)"
      ]
     },
     "execution_count": 18,
     "metadata": {},
     "output_type": "execute_result"
    }
   ],
   "source": [
    "combined_df.shape"
   ]
  },
  {
   "cell_type": "code",
   "execution_count": 19,
   "id": "cd7bd824-8dac-4284-b286-aafcd8cd7d43",
   "metadata": {},
   "outputs": [],
   "source": [
    "# get the true values\n",
    "True_values_df = combined_df[['True_value']]"
   ]
  },
  {
   "cell_type": "code",
   "execution_count": 20,
   "id": "20d0decc-e09d-494a-9ff8-2139aac7254b",
   "metadata": {},
   "outputs": [
    {
     "data": {
      "text/html": [
       "<div>\n",
       "<style scoped>\n",
       "    .dataframe tbody tr th:only-of-type {\n",
       "        vertical-align: middle;\n",
       "    }\n",
       "\n",
       "    .dataframe tbody tr th {\n",
       "        vertical-align: top;\n",
       "    }\n",
       "\n",
       "    .dataframe thead th {\n",
       "        text-align: right;\n",
       "    }\n",
       "</style>\n",
       "<table border=\"1\" class=\"dataframe\">\n",
       "  <thead>\n",
       "    <tr style=\"text-align: right;\">\n",
       "      <th></th>\n",
       "      <th>True_value</th>\n",
       "      <th>True_value</th>\n",
       "      <th>True_value</th>\n",
       "      <th>True_value</th>\n",
       "      <th>True_value</th>\n",
       "      <th>True_value</th>\n",
       "      <th>True_value</th>\n",
       "      <th>True_value</th>\n",
       "      <th>True_value</th>\n",
       "      <th>True_value</th>\n",
       "      <th>...</th>\n",
       "      <th>True_value</th>\n",
       "      <th>True_value</th>\n",
       "      <th>True_value</th>\n",
       "      <th>True_value</th>\n",
       "      <th>True_value</th>\n",
       "      <th>True_value</th>\n",
       "      <th>True_value</th>\n",
       "      <th>True_value</th>\n",
       "      <th>True_value</th>\n",
       "      <th>True_value</th>\n",
       "    </tr>\n",
       "  </thead>\n",
       "  <tbody>\n",
       "    <tr>\n",
       "      <th>0</th>\n",
       "      <td>0.0</td>\n",
       "      <td>0.0</td>\n",
       "      <td>0.0</td>\n",
       "      <td>0.0</td>\n",
       "      <td>0.0</td>\n",
       "      <td>0.0</td>\n",
       "      <td>7.834402e-07</td>\n",
       "      <td>0.000004</td>\n",
       "      <td>0.0</td>\n",
       "      <td>0.0</td>\n",
       "      <td>...</td>\n",
       "      <td>0.0</td>\n",
       "      <td>0.0</td>\n",
       "      <td>0.000002</td>\n",
       "      <td>0.387255</td>\n",
       "      <td>0.026875</td>\n",
       "      <td>0.000000e+00</td>\n",
       "      <td>0.0</td>\n",
       "      <td>0.0</td>\n",
       "      <td>0.0</td>\n",
       "      <td>0.0</td>\n",
       "    </tr>\n",
       "    <tr>\n",
       "      <th>1</th>\n",
       "      <td>0.0</td>\n",
       "      <td>0.0</td>\n",
       "      <td>0.0</td>\n",
       "      <td>0.0</td>\n",
       "      <td>0.0</td>\n",
       "      <td>0.0</td>\n",
       "      <td>0.000000e+00</td>\n",
       "      <td>0.000000</td>\n",
       "      <td>0.0</td>\n",
       "      <td>0.0</td>\n",
       "      <td>...</td>\n",
       "      <td>0.0</td>\n",
       "      <td>0.0</td>\n",
       "      <td>0.000000</td>\n",
       "      <td>0.000865</td>\n",
       "      <td>0.294906</td>\n",
       "      <td>2.317985e-04</td>\n",
       "      <td>0.0</td>\n",
       "      <td>0.0</td>\n",
       "      <td>0.0</td>\n",
       "      <td>0.0</td>\n",
       "    </tr>\n",
       "    <tr>\n",
       "      <th>2</th>\n",
       "      <td>0.0</td>\n",
       "      <td>0.0</td>\n",
       "      <td>0.0</td>\n",
       "      <td>0.0</td>\n",
       "      <td>0.0</td>\n",
       "      <td>0.0</td>\n",
       "      <td>0.000000e+00</td>\n",
       "      <td>0.000000</td>\n",
       "      <td>0.0</td>\n",
       "      <td>0.0</td>\n",
       "      <td>...</td>\n",
       "      <td>0.0</td>\n",
       "      <td>0.0</td>\n",
       "      <td>0.000000</td>\n",
       "      <td>0.000054</td>\n",
       "      <td>0.000619</td>\n",
       "      <td>1.185987e-09</td>\n",
       "      <td>0.0</td>\n",
       "      <td>0.0</td>\n",
       "      <td>0.0</td>\n",
       "      <td>0.0</td>\n",
       "    </tr>\n",
       "    <tr>\n",
       "      <th>3</th>\n",
       "      <td>0.0</td>\n",
       "      <td>0.0</td>\n",
       "      <td>0.0</td>\n",
       "      <td>0.0</td>\n",
       "      <td>0.0</td>\n",
       "      <td>0.0</td>\n",
       "      <td>0.000000e+00</td>\n",
       "      <td>0.000000</td>\n",
       "      <td>0.0</td>\n",
       "      <td>0.0</td>\n",
       "      <td>...</td>\n",
       "      <td>0.0</td>\n",
       "      <td>0.0</td>\n",
       "      <td>0.000567</td>\n",
       "      <td>0.000107</td>\n",
       "      <td>0.000000</td>\n",
       "      <td>0.000000e+00</td>\n",
       "      <td>0.0</td>\n",
       "      <td>0.0</td>\n",
       "      <td>0.0</td>\n",
       "      <td>0.0</td>\n",
       "    </tr>\n",
       "    <tr>\n",
       "      <th>4</th>\n",
       "      <td>0.0</td>\n",
       "      <td>0.0</td>\n",
       "      <td>0.0</td>\n",
       "      <td>0.0</td>\n",
       "      <td>0.0</td>\n",
       "      <td>0.0</td>\n",
       "      <td>0.000000e+00</td>\n",
       "      <td>0.000000</td>\n",
       "      <td>0.0</td>\n",
       "      <td>0.0</td>\n",
       "      <td>...</td>\n",
       "      <td>0.0</td>\n",
       "      <td>0.0</td>\n",
       "      <td>0.000000</td>\n",
       "      <td>0.000000</td>\n",
       "      <td>0.000000</td>\n",
       "      <td>0.000000e+00</td>\n",
       "      <td>0.0</td>\n",
       "      <td>0.0</td>\n",
       "      <td>0.0</td>\n",
       "      <td>0.0</td>\n",
       "    </tr>\n",
       "  </tbody>\n",
       "</table>\n",
       "<p>5 rows × 910 columns</p>\n",
       "</div>"
      ],
      "text/plain": [
       "   True_value  True_value  True_value  True_value  True_value  True_value  \\\n",
       "0         0.0         0.0         0.0         0.0         0.0         0.0   \n",
       "1         0.0         0.0         0.0         0.0         0.0         0.0   \n",
       "2         0.0         0.0         0.0         0.0         0.0         0.0   \n",
       "3         0.0         0.0         0.0         0.0         0.0         0.0   \n",
       "4         0.0         0.0         0.0         0.0         0.0         0.0   \n",
       "\n",
       "     True_value  True_value  True_value  True_value  ...  True_value  \\\n",
       "0  7.834402e-07    0.000004         0.0         0.0  ...         0.0   \n",
       "1  0.000000e+00    0.000000         0.0         0.0  ...         0.0   \n",
       "2  0.000000e+00    0.000000         0.0         0.0  ...         0.0   \n",
       "3  0.000000e+00    0.000000         0.0         0.0  ...         0.0   \n",
       "4  0.000000e+00    0.000000         0.0         0.0  ...         0.0   \n",
       "\n",
       "   True_value  True_value  True_value  True_value    True_value  True_value  \\\n",
       "0         0.0    0.000002    0.387255    0.026875  0.000000e+00         0.0   \n",
       "1         0.0    0.000000    0.000865    0.294906  2.317985e-04         0.0   \n",
       "2         0.0    0.000000    0.000054    0.000619  1.185987e-09         0.0   \n",
       "3         0.0    0.000567    0.000107    0.000000  0.000000e+00         0.0   \n",
       "4         0.0    0.000000    0.000000    0.000000  0.000000e+00         0.0   \n",
       "\n",
       "   True_value  True_value  True_value  \n",
       "0         0.0         0.0         0.0  \n",
       "1         0.0         0.0         0.0  \n",
       "2         0.0         0.0         0.0  \n",
       "3         0.0         0.0         0.0  \n",
       "4         0.0         0.0         0.0  \n",
       "\n",
       "[5 rows x 910 columns]"
      ]
     },
     "execution_count": 20,
     "metadata": {},
     "output_type": "execute_result"
    }
   ],
   "source": [
    "True_values_df.head()"
   ]
  },
  {
   "cell_type": "code",
   "execution_count": 21,
   "id": "7bf2ce55-e613-440c-98df-b3137476fda8",
   "metadata": {},
   "outputs": [
    {
     "data": {
      "text/plain": [
       "(7, 910)"
      ]
     },
     "execution_count": 21,
     "metadata": {},
     "output_type": "execute_result"
    }
   ],
   "source": [
    "True_values_df.shape"
   ]
  },
  {
   "cell_type": "code",
   "execution_count": 22,
   "id": "18e0219e-ee9c-4e29-a372-2b6290708941",
   "metadata": {},
   "outputs": [],
   "source": [
    "# get the proper counts?\n",
    "exp_true = np.exp(True_values_df)-1"
   ]
  },
  {
   "cell_type": "code",
   "execution_count": 23,
   "id": "a7319ca1-7b28-41f3-8b38-11863c1835e5",
   "metadata": {},
   "outputs": [
    {
     "data": {
      "text/html": [
       "<div>\n",
       "<style scoped>\n",
       "    .dataframe tbody tr th:only-of-type {\n",
       "        vertical-align: middle;\n",
       "    }\n",
       "\n",
       "    .dataframe tbody tr th {\n",
       "        vertical-align: top;\n",
       "    }\n",
       "\n",
       "    .dataframe thead th {\n",
       "        text-align: right;\n",
       "    }\n",
       "</style>\n",
       "<table border=\"1\" class=\"dataframe\">\n",
       "  <thead>\n",
       "    <tr style=\"text-align: right;\">\n",
       "      <th></th>\n",
       "      <th>True_value</th>\n",
       "      <th>True_value</th>\n",
       "      <th>True_value</th>\n",
       "      <th>True_value</th>\n",
       "      <th>True_value</th>\n",
       "      <th>True_value</th>\n",
       "      <th>True_value</th>\n",
       "      <th>True_value</th>\n",
       "      <th>True_value</th>\n",
       "      <th>True_value</th>\n",
       "      <th>...</th>\n",
       "      <th>True_value</th>\n",
       "      <th>True_value</th>\n",
       "      <th>True_value</th>\n",
       "      <th>True_value</th>\n",
       "      <th>True_value</th>\n",
       "      <th>True_value</th>\n",
       "      <th>True_value</th>\n",
       "      <th>True_value</th>\n",
       "      <th>True_value</th>\n",
       "      <th>True_value</th>\n",
       "    </tr>\n",
       "  </thead>\n",
       "  <tbody>\n",
       "    <tr>\n",
       "      <th>0</th>\n",
       "      <td>0.0</td>\n",
       "      <td>0.0</td>\n",
       "      <td>0.0</td>\n",
       "      <td>0.0</td>\n",
       "      <td>0.0</td>\n",
       "      <td>0.0</td>\n",
       "      <td>7.834405e-07</td>\n",
       "      <td>0.000004</td>\n",
       "      <td>0.0</td>\n",
       "      <td>0.0</td>\n",
       "      <td>...</td>\n",
       "      <td>0.0</td>\n",
       "      <td>0.0</td>\n",
       "      <td>2.478146e-06</td>\n",
       "      <td>0.472933</td>\n",
       "      <td>0.027239</td>\n",
       "      <td>0.000000e+00</td>\n",
       "      <td>0.0</td>\n",
       "      <td>0.0</td>\n",
       "      <td>0.0</td>\n",
       "      <td>0.0</td>\n",
       "    </tr>\n",
       "    <tr>\n",
       "      <th>1</th>\n",
       "      <td>0.0</td>\n",
       "      <td>0.0</td>\n",
       "      <td>0.0</td>\n",
       "      <td>0.0</td>\n",
       "      <td>0.0</td>\n",
       "      <td>0.0</td>\n",
       "      <td>0.000000e+00</td>\n",
       "      <td>0.000000</td>\n",
       "      <td>0.0</td>\n",
       "      <td>0.0</td>\n",
       "      <td>...</td>\n",
       "      <td>0.0</td>\n",
       "      <td>0.0</td>\n",
       "      <td>0.000000e+00</td>\n",
       "      <td>0.000866</td>\n",
       "      <td>0.343000</td>\n",
       "      <td>2.318253e-04</td>\n",
       "      <td>0.0</td>\n",
       "      <td>0.0</td>\n",
       "      <td>0.0</td>\n",
       "      <td>0.0</td>\n",
       "    </tr>\n",
       "    <tr>\n",
       "      <th>2</th>\n",
       "      <td>0.0</td>\n",
       "      <td>0.0</td>\n",
       "      <td>0.0</td>\n",
       "      <td>0.0</td>\n",
       "      <td>0.0</td>\n",
       "      <td>0.0</td>\n",
       "      <td>0.000000e+00</td>\n",
       "      <td>0.000000</td>\n",
       "      <td>0.0</td>\n",
       "      <td>0.0</td>\n",
       "      <td>...</td>\n",
       "      <td>0.0</td>\n",
       "      <td>0.0</td>\n",
       "      <td>0.000000e+00</td>\n",
       "      <td>0.000054</td>\n",
       "      <td>0.000620</td>\n",
       "      <td>1.185987e-09</td>\n",
       "      <td>0.0</td>\n",
       "      <td>0.0</td>\n",
       "      <td>0.0</td>\n",
       "      <td>0.0</td>\n",
       "    </tr>\n",
       "    <tr>\n",
       "      <th>3</th>\n",
       "      <td>0.0</td>\n",
       "      <td>0.0</td>\n",
       "      <td>0.0</td>\n",
       "      <td>0.0</td>\n",
       "      <td>0.0</td>\n",
       "      <td>0.0</td>\n",
       "      <td>0.000000e+00</td>\n",
       "      <td>0.000000</td>\n",
       "      <td>0.0</td>\n",
       "      <td>0.0</td>\n",
       "      <td>...</td>\n",
       "      <td>0.0</td>\n",
       "      <td>0.0</td>\n",
       "      <td>5.671876e-04</td>\n",
       "      <td>0.000107</td>\n",
       "      <td>0.000000</td>\n",
       "      <td>0.000000e+00</td>\n",
       "      <td>0.0</td>\n",
       "      <td>0.0</td>\n",
       "      <td>0.0</td>\n",
       "      <td>0.0</td>\n",
       "    </tr>\n",
       "    <tr>\n",
       "      <th>4</th>\n",
       "      <td>0.0</td>\n",
       "      <td>0.0</td>\n",
       "      <td>0.0</td>\n",
       "      <td>0.0</td>\n",
       "      <td>0.0</td>\n",
       "      <td>0.0</td>\n",
       "      <td>0.000000e+00</td>\n",
       "      <td>0.000000</td>\n",
       "      <td>0.0</td>\n",
       "      <td>0.0</td>\n",
       "      <td>...</td>\n",
       "      <td>0.0</td>\n",
       "      <td>0.0</td>\n",
       "      <td>0.000000e+00</td>\n",
       "      <td>0.000000</td>\n",
       "      <td>0.000000</td>\n",
       "      <td>0.000000e+00</td>\n",
       "      <td>0.0</td>\n",
       "      <td>0.0</td>\n",
       "      <td>0.0</td>\n",
       "      <td>0.0</td>\n",
       "    </tr>\n",
       "    <tr>\n",
       "      <th>5</th>\n",
       "      <td>0.0</td>\n",
       "      <td>0.0</td>\n",
       "      <td>0.0</td>\n",
       "      <td>0.0</td>\n",
       "      <td>0.0</td>\n",
       "      <td>0.0</td>\n",
       "      <td>0.000000e+00</td>\n",
       "      <td>0.000000</td>\n",
       "      <td>0.0</td>\n",
       "      <td>0.0</td>\n",
       "      <td>...</td>\n",
       "      <td>0.0</td>\n",
       "      <td>0.0</td>\n",
       "      <td>0.000000e+00</td>\n",
       "      <td>0.000000</td>\n",
       "      <td>0.000000</td>\n",
       "      <td>0.000000e+00</td>\n",
       "      <td>0.0</td>\n",
       "      <td>0.0</td>\n",
       "      <td>0.0</td>\n",
       "      <td>0.0</td>\n",
       "    </tr>\n",
       "    <tr>\n",
       "      <th>6</th>\n",
       "      <td>0.0</td>\n",
       "      <td>0.0</td>\n",
       "      <td>0.0</td>\n",
       "      <td>0.0</td>\n",
       "      <td>0.0</td>\n",
       "      <td>0.0</td>\n",
       "      <td>0.000000e+00</td>\n",
       "      <td>0.000000</td>\n",
       "      <td>0.0</td>\n",
       "      <td>0.0</td>\n",
       "      <td>...</td>\n",
       "      <td>0.0</td>\n",
       "      <td>0.0</td>\n",
       "      <td>2.057258e-07</td>\n",
       "      <td>0.001316</td>\n",
       "      <td>0.000011</td>\n",
       "      <td>0.000000e+00</td>\n",
       "      <td>0.0</td>\n",
       "      <td>0.0</td>\n",
       "      <td>0.0</td>\n",
       "      <td>0.0</td>\n",
       "    </tr>\n",
       "  </tbody>\n",
       "</table>\n",
       "<p>7 rows × 910 columns</p>\n",
       "</div>"
      ],
      "text/plain": [
       "   True_value  True_value  True_value  True_value  True_value  True_value  \\\n",
       "0         0.0         0.0         0.0         0.0         0.0         0.0   \n",
       "1         0.0         0.0         0.0         0.0         0.0         0.0   \n",
       "2         0.0         0.0         0.0         0.0         0.0         0.0   \n",
       "3         0.0         0.0         0.0         0.0         0.0         0.0   \n",
       "4         0.0         0.0         0.0         0.0         0.0         0.0   \n",
       "5         0.0         0.0         0.0         0.0         0.0         0.0   \n",
       "6         0.0         0.0         0.0         0.0         0.0         0.0   \n",
       "\n",
       "     True_value  True_value  True_value  True_value  ...  True_value  \\\n",
       "0  7.834405e-07    0.000004         0.0         0.0  ...         0.0   \n",
       "1  0.000000e+00    0.000000         0.0         0.0  ...         0.0   \n",
       "2  0.000000e+00    0.000000         0.0         0.0  ...         0.0   \n",
       "3  0.000000e+00    0.000000         0.0         0.0  ...         0.0   \n",
       "4  0.000000e+00    0.000000         0.0         0.0  ...         0.0   \n",
       "5  0.000000e+00    0.000000         0.0         0.0  ...         0.0   \n",
       "6  0.000000e+00    0.000000         0.0         0.0  ...         0.0   \n",
       "\n",
       "   True_value    True_value  True_value  True_value    True_value  True_value  \\\n",
       "0         0.0  2.478146e-06    0.472933    0.027239  0.000000e+00         0.0   \n",
       "1         0.0  0.000000e+00    0.000866    0.343000  2.318253e-04         0.0   \n",
       "2         0.0  0.000000e+00    0.000054    0.000620  1.185987e-09         0.0   \n",
       "3         0.0  5.671876e-04    0.000107    0.000000  0.000000e+00         0.0   \n",
       "4         0.0  0.000000e+00    0.000000    0.000000  0.000000e+00         0.0   \n",
       "5         0.0  0.000000e+00    0.000000    0.000000  0.000000e+00         0.0   \n",
       "6         0.0  2.057258e-07    0.001316    0.000011  0.000000e+00         0.0   \n",
       "\n",
       "   True_value  True_value  True_value  \n",
       "0         0.0         0.0         0.0  \n",
       "1         0.0         0.0         0.0  \n",
       "2         0.0         0.0         0.0  \n",
       "3         0.0         0.0         0.0  \n",
       "4         0.0         0.0         0.0  \n",
       "5         0.0         0.0         0.0  \n",
       "6         0.0         0.0         0.0  \n",
       "\n",
       "[7 rows x 910 columns]"
      ]
     },
     "execution_count": 23,
     "metadata": {},
     "output_type": "execute_result"
    }
   ],
   "source": [
    "exp_true"
   ]
  },
  {
   "cell_type": "code",
   "execution_count": 24,
   "id": "fbc09b78-d34e-434e-8232-ee3be25766e9",
   "metadata": {},
   "outputs": [],
   "source": [
    "# sum the true values - since the sub images are not overlapping, we can get the sum across columns in the above dataframe\n",
    "sum_true_values = exp_true.sum(axis = 1)"
   ]
  },
  {
   "cell_type": "code",
   "execution_count": 25,
   "id": "6057a433-4dfb-4804-bbac-ea3dacce11e6",
   "metadata": {},
   "outputs": [
    {
     "data": {
      "text/plain": [
       "0    45.000217\n",
       "1    45.000040\n",
       "2    47.000001\n",
       "3    37.999999\n",
       "4    42.000041\n",
       "5    35.000000\n",
       "6    29.000000\n",
       "dtype: float64"
      ]
     },
     "execution_count": 25,
     "metadata": {},
     "output_type": "execute_result"
    }
   ],
   "source": [
    "sum_true_values"
   ]
  },
  {
   "cell_type": "code",
   "execution_count": 26,
   "id": "2fc2ac3e-59e7-4f27-91ab-31d30b4eeaa7",
   "metadata": {},
   "outputs": [],
   "source": [
    "# get the forecasted values\n",
    "Forecasted_values_df = combined_df[['Forecasted_value']]"
   ]
  },
  {
   "cell_type": "code",
   "execution_count": 27,
   "id": "4d4182a4-7ede-4ffc-b952-08aa47d424d0",
   "metadata": {},
   "outputs": [
    {
     "data": {
      "text/html": [
       "<div>\n",
       "<style scoped>\n",
       "    .dataframe tbody tr th:only-of-type {\n",
       "        vertical-align: middle;\n",
       "    }\n",
       "\n",
       "    .dataframe tbody tr th {\n",
       "        vertical-align: top;\n",
       "    }\n",
       "\n",
       "    .dataframe thead th {\n",
       "        text-align: right;\n",
       "    }\n",
       "</style>\n",
       "<table border=\"1\" class=\"dataframe\">\n",
       "  <thead>\n",
       "    <tr style=\"text-align: right;\">\n",
       "      <th></th>\n",
       "      <th>Forecasted_value</th>\n",
       "      <th>Forecasted_value</th>\n",
       "      <th>Forecasted_value</th>\n",
       "      <th>Forecasted_value</th>\n",
       "      <th>Forecasted_value</th>\n",
       "      <th>Forecasted_value</th>\n",
       "      <th>Forecasted_value</th>\n",
       "      <th>Forecasted_value</th>\n",
       "      <th>Forecasted_value</th>\n",
       "      <th>Forecasted_value</th>\n",
       "      <th>...</th>\n",
       "      <th>Forecasted_value</th>\n",
       "      <th>Forecasted_value</th>\n",
       "      <th>Forecasted_value</th>\n",
       "      <th>Forecasted_value</th>\n",
       "      <th>Forecasted_value</th>\n",
       "      <th>Forecasted_value</th>\n",
       "      <th>Forecasted_value</th>\n",
       "      <th>Forecasted_value</th>\n",
       "      <th>Forecasted_value</th>\n",
       "      <th>Forecasted_value</th>\n",
       "    </tr>\n",
       "  </thead>\n",
       "  <tbody>\n",
       "    <tr>\n",
       "      <th>0</th>\n",
       "      <td>-0.005777</td>\n",
       "      <td>-0.008793</td>\n",
       "      <td>-0.006146</td>\n",
       "      <td>0.004816</td>\n",
       "      <td>-0.014672</td>\n",
       "      <td>0.000748</td>\n",
       "      <td>-0.009469</td>\n",
       "      <td>-0.007004</td>\n",
       "      <td>-0.027035</td>\n",
       "      <td>0.039585</td>\n",
       "      <td>...</td>\n",
       "      <td>0.008673</td>\n",
       "      <td>-0.002227</td>\n",
       "      <td>-0.026121</td>\n",
       "      <td>0.024252</td>\n",
       "      <td>0.026794</td>\n",
       "      <td>-0.002431</td>\n",
       "      <td>-0.001711</td>\n",
       "      <td>-0.002284</td>\n",
       "      <td>-0.005224</td>\n",
       "      <td>0.005208</td>\n",
       "    </tr>\n",
       "    <tr>\n",
       "      <th>1</th>\n",
       "      <td>0.001021</td>\n",
       "      <td>0.003633</td>\n",
       "      <td>-0.003488</td>\n",
       "      <td>0.003368</td>\n",
       "      <td>-0.005259</td>\n",
       "      <td>-0.000532</td>\n",
       "      <td>-0.003823</td>\n",
       "      <td>-0.006308</td>\n",
       "      <td>-0.016170</td>\n",
       "      <td>0.033266</td>\n",
       "      <td>...</td>\n",
       "      <td>-0.000024</td>\n",
       "      <td>-0.005004</td>\n",
       "      <td>-0.002140</td>\n",
       "      <td>0.023740</td>\n",
       "      <td>0.003958</td>\n",
       "      <td>-0.004177</td>\n",
       "      <td>0.002753</td>\n",
       "      <td>-0.004188</td>\n",
       "      <td>-0.000814</td>\n",
       "      <td>0.004201</td>\n",
       "    </tr>\n",
       "    <tr>\n",
       "      <th>2</th>\n",
       "      <td>-0.001544</td>\n",
       "      <td>-0.000695</td>\n",
       "      <td>-0.008081</td>\n",
       "      <td>0.000438</td>\n",
       "      <td>-0.004590</td>\n",
       "      <td>-0.002605</td>\n",
       "      <td>-0.007003</td>\n",
       "      <td>-0.004563</td>\n",
       "      <td>-0.007796</td>\n",
       "      <td>0.036625</td>\n",
       "      <td>...</td>\n",
       "      <td>-0.004210</td>\n",
       "      <td>-0.001544</td>\n",
       "      <td>0.008659</td>\n",
       "      <td>0.012724</td>\n",
       "      <td>0.013672</td>\n",
       "      <td>-0.007599</td>\n",
       "      <td>-0.002196</td>\n",
       "      <td>-0.002343</td>\n",
       "      <td>-0.003754</td>\n",
       "      <td>0.001391</td>\n",
       "    </tr>\n",
       "    <tr>\n",
       "      <th>3</th>\n",
       "      <td>0.003831</td>\n",
       "      <td>0.006051</td>\n",
       "      <td>-0.002398</td>\n",
       "      <td>-0.003274</td>\n",
       "      <td>-0.003589</td>\n",
       "      <td>0.001504</td>\n",
       "      <td>-0.005258</td>\n",
       "      <td>-0.001873</td>\n",
       "      <td>0.002374</td>\n",
       "      <td>0.034539</td>\n",
       "      <td>...</td>\n",
       "      <td>-0.001725</td>\n",
       "      <td>-0.001441</td>\n",
       "      <td>0.004502</td>\n",
       "      <td>0.024218</td>\n",
       "      <td>0.005065</td>\n",
       "      <td>-0.007457</td>\n",
       "      <td>0.004806</td>\n",
       "      <td>-0.000121</td>\n",
       "      <td>0.001489</td>\n",
       "      <td>0.001759</td>\n",
       "    </tr>\n",
       "    <tr>\n",
       "      <th>4</th>\n",
       "      <td>0.001369</td>\n",
       "      <td>-0.003473</td>\n",
       "      <td>-0.004376</td>\n",
       "      <td>-0.000324</td>\n",
       "      <td>-0.002456</td>\n",
       "      <td>-0.002084</td>\n",
       "      <td>0.002928</td>\n",
       "      <td>-0.002089</td>\n",
       "      <td>-0.000305</td>\n",
       "      <td>0.024476</td>\n",
       "      <td>...</td>\n",
       "      <td>0.000920</td>\n",
       "      <td>0.003627</td>\n",
       "      <td>0.010481</td>\n",
       "      <td>0.023036</td>\n",
       "      <td>0.015444</td>\n",
       "      <td>-0.002928</td>\n",
       "      <td>-0.000295</td>\n",
       "      <td>0.005174</td>\n",
       "      <td>-0.000559</td>\n",
       "      <td>0.001616</td>\n",
       "    </tr>\n",
       "  </tbody>\n",
       "</table>\n",
       "<p>5 rows × 910 columns</p>\n",
       "</div>"
      ],
      "text/plain": [
       "   Forecasted_value  Forecasted_value  Forecasted_value  Forecasted_value  \\\n",
       "0         -0.005777         -0.008793         -0.006146          0.004816   \n",
       "1          0.001021          0.003633         -0.003488          0.003368   \n",
       "2         -0.001544         -0.000695         -0.008081          0.000438   \n",
       "3          0.003831          0.006051         -0.002398         -0.003274   \n",
       "4          0.001369         -0.003473         -0.004376         -0.000324   \n",
       "\n",
       "   Forecasted_value  Forecasted_value  Forecasted_value  Forecasted_value  \\\n",
       "0         -0.014672          0.000748         -0.009469         -0.007004   \n",
       "1         -0.005259         -0.000532         -0.003823         -0.006308   \n",
       "2         -0.004590         -0.002605         -0.007003         -0.004563   \n",
       "3         -0.003589          0.001504         -0.005258         -0.001873   \n",
       "4         -0.002456         -0.002084          0.002928         -0.002089   \n",
       "\n",
       "   Forecasted_value  Forecasted_value  ...  Forecasted_value  \\\n",
       "0         -0.027035          0.039585  ...          0.008673   \n",
       "1         -0.016170          0.033266  ...         -0.000024   \n",
       "2         -0.007796          0.036625  ...         -0.004210   \n",
       "3          0.002374          0.034539  ...         -0.001725   \n",
       "4         -0.000305          0.024476  ...          0.000920   \n",
       "\n",
       "   Forecasted_value  Forecasted_value  Forecasted_value  Forecasted_value  \\\n",
       "0         -0.002227         -0.026121          0.024252          0.026794   \n",
       "1         -0.005004         -0.002140          0.023740          0.003958   \n",
       "2         -0.001544          0.008659          0.012724          0.013672   \n",
       "3         -0.001441          0.004502          0.024218          0.005065   \n",
       "4          0.003627          0.010481          0.023036          0.015444   \n",
       "\n",
       "   Forecasted_value  Forecasted_value  Forecasted_value  Forecasted_value  \\\n",
       "0         -0.002431         -0.001711         -0.002284         -0.005224   \n",
       "1         -0.004177          0.002753         -0.004188         -0.000814   \n",
       "2         -0.007599         -0.002196         -0.002343         -0.003754   \n",
       "3         -0.007457          0.004806         -0.000121          0.001489   \n",
       "4         -0.002928         -0.000295          0.005174         -0.000559   \n",
       "\n",
       "   Forecasted_value  \n",
       "0          0.005208  \n",
       "1          0.004201  \n",
       "2          0.001391  \n",
       "3          0.001759  \n",
       "4          0.001616  \n",
       "\n",
       "[5 rows x 910 columns]"
      ]
     },
     "execution_count": 27,
     "metadata": {},
     "output_type": "execute_result"
    }
   ],
   "source": [
    "Forecasted_values_df.head()"
   ]
  },
  {
   "cell_type": "code",
   "execution_count": 28,
   "id": "c4e2130b-9b6b-40b7-9efe-4cd6cd30c107",
   "metadata": {},
   "outputs": [],
   "source": [
    "exp_forecasted = np.exp(Forecasted_values_df)-1"
   ]
  },
  {
   "cell_type": "code",
   "execution_count": 29,
   "id": "60cd0006-0367-436e-b3c8-282e12e01146",
   "metadata": {},
   "outputs": [
    {
     "data": {
      "text/html": [
       "<div>\n",
       "<style scoped>\n",
       "    .dataframe tbody tr th:only-of-type {\n",
       "        vertical-align: middle;\n",
       "    }\n",
       "\n",
       "    .dataframe tbody tr th {\n",
       "        vertical-align: top;\n",
       "    }\n",
       "\n",
       "    .dataframe thead th {\n",
       "        text-align: right;\n",
       "    }\n",
       "</style>\n",
       "<table border=\"1\" class=\"dataframe\">\n",
       "  <thead>\n",
       "    <tr style=\"text-align: right;\">\n",
       "      <th></th>\n",
       "      <th>Forecasted_value</th>\n",
       "      <th>Forecasted_value</th>\n",
       "      <th>Forecasted_value</th>\n",
       "      <th>Forecasted_value</th>\n",
       "      <th>Forecasted_value</th>\n",
       "      <th>Forecasted_value</th>\n",
       "      <th>Forecasted_value</th>\n",
       "      <th>Forecasted_value</th>\n",
       "      <th>Forecasted_value</th>\n",
       "      <th>Forecasted_value</th>\n",
       "      <th>...</th>\n",
       "      <th>Forecasted_value</th>\n",
       "      <th>Forecasted_value</th>\n",
       "      <th>Forecasted_value</th>\n",
       "      <th>Forecasted_value</th>\n",
       "      <th>Forecasted_value</th>\n",
       "      <th>Forecasted_value</th>\n",
       "      <th>Forecasted_value</th>\n",
       "      <th>Forecasted_value</th>\n",
       "      <th>Forecasted_value</th>\n",
       "      <th>Forecasted_value</th>\n",
       "    </tr>\n",
       "  </thead>\n",
       "  <tbody>\n",
       "    <tr>\n",
       "      <th>0</th>\n",
       "      <td>-0.005760</td>\n",
       "      <td>-0.008755</td>\n",
       "      <td>-0.006127</td>\n",
       "      <td>0.004827</td>\n",
       "      <td>-0.014565</td>\n",
       "      <td>0.000748</td>\n",
       "      <td>-0.009424</td>\n",
       "      <td>-0.006980</td>\n",
       "      <td>-0.026673</td>\n",
       "      <td>0.040379</td>\n",
       "      <td>...</td>\n",
       "      <td>0.008710</td>\n",
       "      <td>-0.002225</td>\n",
       "      <td>-0.025783</td>\n",
       "      <td>0.024548</td>\n",
       "      <td>0.027156</td>\n",
       "      <td>-0.002428</td>\n",
       "      <td>-0.001709</td>\n",
       "      <td>-0.002282</td>\n",
       "      <td>-0.005210</td>\n",
       "      <td>0.005222</td>\n",
       "    </tr>\n",
       "    <tr>\n",
       "      <th>1</th>\n",
       "      <td>0.001021</td>\n",
       "      <td>0.003640</td>\n",
       "      <td>-0.003482</td>\n",
       "      <td>0.003374</td>\n",
       "      <td>-0.005245</td>\n",
       "      <td>-0.000532</td>\n",
       "      <td>-0.003815</td>\n",
       "      <td>-0.006288</td>\n",
       "      <td>-0.016040</td>\n",
       "      <td>0.033825</td>\n",
       "      <td>...</td>\n",
       "      <td>-0.000024</td>\n",
       "      <td>-0.004992</td>\n",
       "      <td>-0.002138</td>\n",
       "      <td>0.024024</td>\n",
       "      <td>0.003966</td>\n",
       "      <td>-0.004168</td>\n",
       "      <td>0.002757</td>\n",
       "      <td>-0.004179</td>\n",
       "      <td>-0.000814</td>\n",
       "      <td>0.004210</td>\n",
       "    </tr>\n",
       "    <tr>\n",
       "      <th>2</th>\n",
       "      <td>-0.001542</td>\n",
       "      <td>-0.000695</td>\n",
       "      <td>-0.008048</td>\n",
       "      <td>0.000438</td>\n",
       "      <td>-0.004579</td>\n",
       "      <td>-0.002602</td>\n",
       "      <td>-0.006978</td>\n",
       "      <td>-0.004552</td>\n",
       "      <td>-0.007765</td>\n",
       "      <td>0.037304</td>\n",
       "      <td>...</td>\n",
       "      <td>-0.004201</td>\n",
       "      <td>-0.001543</td>\n",
       "      <td>0.008697</td>\n",
       "      <td>0.012805</td>\n",
       "      <td>0.013766</td>\n",
       "      <td>-0.007570</td>\n",
       "      <td>-0.002193</td>\n",
       "      <td>-0.002340</td>\n",
       "      <td>-0.003747</td>\n",
       "      <td>0.001392</td>\n",
       "    </tr>\n",
       "    <tr>\n",
       "      <th>3</th>\n",
       "      <td>0.003838</td>\n",
       "      <td>0.006069</td>\n",
       "      <td>-0.002395</td>\n",
       "      <td>-0.003268</td>\n",
       "      <td>-0.003582</td>\n",
       "      <td>0.001505</td>\n",
       "      <td>-0.005244</td>\n",
       "      <td>-0.001871</td>\n",
       "      <td>0.002377</td>\n",
       "      <td>0.035143</td>\n",
       "      <td>...</td>\n",
       "      <td>-0.001723</td>\n",
       "      <td>-0.001440</td>\n",
       "      <td>0.004512</td>\n",
       "      <td>0.024513</td>\n",
       "      <td>0.005078</td>\n",
       "      <td>-0.007430</td>\n",
       "      <td>0.004818</td>\n",
       "      <td>-0.000121</td>\n",
       "      <td>0.001490</td>\n",
       "      <td>0.001761</td>\n",
       "    </tr>\n",
       "    <tr>\n",
       "      <th>4</th>\n",
       "      <td>0.001370</td>\n",
       "      <td>-0.003467</td>\n",
       "      <td>-0.004366</td>\n",
       "      <td>-0.000324</td>\n",
       "      <td>-0.002453</td>\n",
       "      <td>-0.002082</td>\n",
       "      <td>0.002932</td>\n",
       "      <td>-0.002087</td>\n",
       "      <td>-0.000305</td>\n",
       "      <td>0.024778</td>\n",
       "      <td>...</td>\n",
       "      <td>0.000920</td>\n",
       "      <td>0.003634</td>\n",
       "      <td>0.010536</td>\n",
       "      <td>0.023303</td>\n",
       "      <td>0.015564</td>\n",
       "      <td>-0.002924</td>\n",
       "      <td>-0.000295</td>\n",
       "      <td>0.005187</td>\n",
       "      <td>-0.000559</td>\n",
       "      <td>0.001617</td>\n",
       "    </tr>\n",
       "    <tr>\n",
       "      <th>5</th>\n",
       "      <td>0.002364</td>\n",
       "      <td>-0.000322</td>\n",
       "      <td>-0.001335</td>\n",
       "      <td>0.000408</td>\n",
       "      <td>-0.000238</td>\n",
       "      <td>-0.000925</td>\n",
       "      <td>0.002789</td>\n",
       "      <td>0.000209</td>\n",
       "      <td>0.008850</td>\n",
       "      <td>0.028356</td>\n",
       "      <td>...</td>\n",
       "      <td>0.009831</td>\n",
       "      <td>0.001298</td>\n",
       "      <td>0.002877</td>\n",
       "      <td>0.015533</td>\n",
       "      <td>0.012557</td>\n",
       "      <td>0.002736</td>\n",
       "      <td>0.006667</td>\n",
       "      <td>0.003184</td>\n",
       "      <td>-0.000493</td>\n",
       "      <td>0.001709</td>\n",
       "    </tr>\n",
       "    <tr>\n",
       "      <th>6</th>\n",
       "      <td>0.001453</td>\n",
       "      <td>-0.005336</td>\n",
       "      <td>-0.002197</td>\n",
       "      <td>-0.003882</td>\n",
       "      <td>0.000296</td>\n",
       "      <td>0.004595</td>\n",
       "      <td>0.006170</td>\n",
       "      <td>-0.001084</td>\n",
       "      <td>0.005981</td>\n",
       "      <td>0.019175</td>\n",
       "      <td>...</td>\n",
       "      <td>0.003326</td>\n",
       "      <td>-0.000799</td>\n",
       "      <td>0.008327</td>\n",
       "      <td>0.007792</td>\n",
       "      <td>0.014401</td>\n",
       "      <td>-0.001635</td>\n",
       "      <td>0.000539</td>\n",
       "      <td>0.005729</td>\n",
       "      <td>-0.000836</td>\n",
       "      <td>0.000697</td>\n",
       "    </tr>\n",
       "  </tbody>\n",
       "</table>\n",
       "<p>7 rows × 910 columns</p>\n",
       "</div>"
      ],
      "text/plain": [
       "   Forecasted_value  Forecasted_value  Forecasted_value  Forecasted_value  \\\n",
       "0         -0.005760         -0.008755         -0.006127          0.004827   \n",
       "1          0.001021          0.003640         -0.003482          0.003374   \n",
       "2         -0.001542         -0.000695         -0.008048          0.000438   \n",
       "3          0.003838          0.006069         -0.002395         -0.003268   \n",
       "4          0.001370         -0.003467         -0.004366         -0.000324   \n",
       "5          0.002364         -0.000322         -0.001335          0.000408   \n",
       "6          0.001453         -0.005336         -0.002197         -0.003882   \n",
       "\n",
       "   Forecasted_value  Forecasted_value  Forecasted_value  Forecasted_value  \\\n",
       "0         -0.014565          0.000748         -0.009424         -0.006980   \n",
       "1         -0.005245         -0.000532         -0.003815         -0.006288   \n",
       "2         -0.004579         -0.002602         -0.006978         -0.004552   \n",
       "3         -0.003582          0.001505         -0.005244         -0.001871   \n",
       "4         -0.002453         -0.002082          0.002932         -0.002087   \n",
       "5         -0.000238         -0.000925          0.002789          0.000209   \n",
       "6          0.000296          0.004595          0.006170         -0.001084   \n",
       "\n",
       "   Forecasted_value  Forecasted_value  ...  Forecasted_value  \\\n",
       "0         -0.026673          0.040379  ...          0.008710   \n",
       "1         -0.016040          0.033825  ...         -0.000024   \n",
       "2         -0.007765          0.037304  ...         -0.004201   \n",
       "3          0.002377          0.035143  ...         -0.001723   \n",
       "4         -0.000305          0.024778  ...          0.000920   \n",
       "5          0.008850          0.028356  ...          0.009831   \n",
       "6          0.005981          0.019175  ...          0.003326   \n",
       "\n",
       "   Forecasted_value  Forecasted_value  Forecasted_value  Forecasted_value  \\\n",
       "0         -0.002225         -0.025783          0.024548          0.027156   \n",
       "1         -0.004992         -0.002138          0.024024          0.003966   \n",
       "2         -0.001543          0.008697          0.012805          0.013766   \n",
       "3         -0.001440          0.004512          0.024513          0.005078   \n",
       "4          0.003634          0.010536          0.023303          0.015564   \n",
       "5          0.001298          0.002877          0.015533          0.012557   \n",
       "6         -0.000799          0.008327          0.007792          0.014401   \n",
       "\n",
       "   Forecasted_value  Forecasted_value  Forecasted_value  Forecasted_value  \\\n",
       "0         -0.002428         -0.001709         -0.002282         -0.005210   \n",
       "1         -0.004168          0.002757         -0.004179         -0.000814   \n",
       "2         -0.007570         -0.002193         -0.002340         -0.003747   \n",
       "3         -0.007430          0.004818         -0.000121          0.001490   \n",
       "4         -0.002924         -0.000295          0.005187         -0.000559   \n",
       "5          0.002736          0.006667          0.003184         -0.000493   \n",
       "6         -0.001635          0.000539          0.005729         -0.000836   \n",
       "\n",
       "   Forecasted_value  \n",
       "0          0.005222  \n",
       "1          0.004210  \n",
       "2          0.001392  \n",
       "3          0.001761  \n",
       "4          0.001617  \n",
       "5          0.001709  \n",
       "6          0.000697  \n",
       "\n",
       "[7 rows x 910 columns]"
      ]
     },
     "execution_count": 29,
     "metadata": {},
     "output_type": "execute_result"
    }
   ],
   "source": [
    "exp_forecasted"
   ]
  },
  {
   "cell_type": "code",
   "execution_count": 30,
   "id": "cdc66bd6-b552-4dcd-9703-e07b035fb736",
   "metadata": {},
   "outputs": [],
   "source": [
    "# set the values to 0 if the forecasted count is negative?"
   ]
  },
  {
   "cell_type": "code",
   "execution_count": 31,
   "id": "56eddb77-a48e-409d-9684-10bb31132568",
   "metadata": {},
   "outputs": [],
   "source": [
    "exp_forecasted[exp_forecasted < 0] = 0"
   ]
  },
  {
   "cell_type": "code",
   "execution_count": 32,
   "id": "c96eedde-fcfa-4f54-b8cb-d5f5cb3d6493",
   "metadata": {},
   "outputs": [
    {
     "data": {
      "text/html": [
       "<div>\n",
       "<style scoped>\n",
       "    .dataframe tbody tr th:only-of-type {\n",
       "        vertical-align: middle;\n",
       "    }\n",
       "\n",
       "    .dataframe tbody tr th {\n",
       "        vertical-align: top;\n",
       "    }\n",
       "\n",
       "    .dataframe thead th {\n",
       "        text-align: right;\n",
       "    }\n",
       "</style>\n",
       "<table border=\"1\" class=\"dataframe\">\n",
       "  <thead>\n",
       "    <tr style=\"text-align: right;\">\n",
       "      <th></th>\n",
       "      <th>Forecasted_value</th>\n",
       "      <th>Forecasted_value</th>\n",
       "      <th>Forecasted_value</th>\n",
       "      <th>Forecasted_value</th>\n",
       "      <th>Forecasted_value</th>\n",
       "      <th>Forecasted_value</th>\n",
       "      <th>Forecasted_value</th>\n",
       "      <th>Forecasted_value</th>\n",
       "      <th>Forecasted_value</th>\n",
       "      <th>Forecasted_value</th>\n",
       "      <th>...</th>\n",
       "      <th>Forecasted_value</th>\n",
       "      <th>Forecasted_value</th>\n",
       "      <th>Forecasted_value</th>\n",
       "      <th>Forecasted_value</th>\n",
       "      <th>Forecasted_value</th>\n",
       "      <th>Forecasted_value</th>\n",
       "      <th>Forecasted_value</th>\n",
       "      <th>Forecasted_value</th>\n",
       "      <th>Forecasted_value</th>\n",
       "      <th>Forecasted_value</th>\n",
       "    </tr>\n",
       "  </thead>\n",
       "  <tbody>\n",
       "    <tr>\n",
       "      <th>0</th>\n",
       "      <td>0.000000</td>\n",
       "      <td>0.000000</td>\n",
       "      <td>0.0</td>\n",
       "      <td>0.004827</td>\n",
       "      <td>0.0</td>\n",
       "      <td>0.000748</td>\n",
       "      <td>0.000000</td>\n",
       "      <td>0.0</td>\n",
       "      <td>0.000000</td>\n",
       "      <td>0.040379</td>\n",
       "      <td>...</td>\n",
       "      <td>0.00871</td>\n",
       "      <td>0.000000</td>\n",
       "      <td>0.000000</td>\n",
       "      <td>0.024548</td>\n",
       "      <td>0.027156</td>\n",
       "      <td>0.0</td>\n",
       "      <td>0.000000</td>\n",
       "      <td>0.000000</td>\n",
       "      <td>0.00000</td>\n",
       "      <td>0.005222</td>\n",
       "    </tr>\n",
       "    <tr>\n",
       "      <th>1</th>\n",
       "      <td>0.001021</td>\n",
       "      <td>0.003640</td>\n",
       "      <td>0.0</td>\n",
       "      <td>0.003374</td>\n",
       "      <td>0.0</td>\n",
       "      <td>0.000000</td>\n",
       "      <td>0.000000</td>\n",
       "      <td>0.0</td>\n",
       "      <td>0.000000</td>\n",
       "      <td>0.033825</td>\n",
       "      <td>...</td>\n",
       "      <td>0.00000</td>\n",
       "      <td>0.000000</td>\n",
       "      <td>0.000000</td>\n",
       "      <td>0.024024</td>\n",
       "      <td>0.003966</td>\n",
       "      <td>0.0</td>\n",
       "      <td>0.002757</td>\n",
       "      <td>0.000000</td>\n",
       "      <td>0.00000</td>\n",
       "      <td>0.004210</td>\n",
       "    </tr>\n",
       "    <tr>\n",
       "      <th>2</th>\n",
       "      <td>0.000000</td>\n",
       "      <td>0.000000</td>\n",
       "      <td>0.0</td>\n",
       "      <td>0.000438</td>\n",
       "      <td>0.0</td>\n",
       "      <td>0.000000</td>\n",
       "      <td>0.000000</td>\n",
       "      <td>0.0</td>\n",
       "      <td>0.000000</td>\n",
       "      <td>0.037304</td>\n",
       "      <td>...</td>\n",
       "      <td>0.00000</td>\n",
       "      <td>0.000000</td>\n",
       "      <td>0.008697</td>\n",
       "      <td>0.012805</td>\n",
       "      <td>0.013766</td>\n",
       "      <td>0.0</td>\n",
       "      <td>0.000000</td>\n",
       "      <td>0.000000</td>\n",
       "      <td>0.00000</td>\n",
       "      <td>0.001392</td>\n",
       "    </tr>\n",
       "    <tr>\n",
       "      <th>3</th>\n",
       "      <td>0.003838</td>\n",
       "      <td>0.006069</td>\n",
       "      <td>0.0</td>\n",
       "      <td>0.000000</td>\n",
       "      <td>0.0</td>\n",
       "      <td>0.001505</td>\n",
       "      <td>0.000000</td>\n",
       "      <td>0.0</td>\n",
       "      <td>0.002377</td>\n",
       "      <td>0.035143</td>\n",
       "      <td>...</td>\n",
       "      <td>0.00000</td>\n",
       "      <td>0.000000</td>\n",
       "      <td>0.004512</td>\n",
       "      <td>0.024513</td>\n",
       "      <td>0.005078</td>\n",
       "      <td>0.0</td>\n",
       "      <td>0.004818</td>\n",
       "      <td>0.000000</td>\n",
       "      <td>0.00149</td>\n",
       "      <td>0.001761</td>\n",
       "    </tr>\n",
       "    <tr>\n",
       "      <th>4</th>\n",
       "      <td>0.001370</td>\n",
       "      <td>0.000000</td>\n",
       "      <td>0.0</td>\n",
       "      <td>0.000000</td>\n",
       "      <td>0.0</td>\n",
       "      <td>0.000000</td>\n",
       "      <td>0.002932</td>\n",
       "      <td>0.0</td>\n",
       "      <td>0.000000</td>\n",
       "      <td>0.024778</td>\n",
       "      <td>...</td>\n",
       "      <td>0.00092</td>\n",
       "      <td>0.003634</td>\n",
       "      <td>0.010536</td>\n",
       "      <td>0.023303</td>\n",
       "      <td>0.015564</td>\n",
       "      <td>0.0</td>\n",
       "      <td>0.000000</td>\n",
       "      <td>0.005187</td>\n",
       "      <td>0.00000</td>\n",
       "      <td>0.001617</td>\n",
       "    </tr>\n",
       "  </tbody>\n",
       "</table>\n",
       "<p>5 rows × 910 columns</p>\n",
       "</div>"
      ],
      "text/plain": [
       "   Forecasted_value  Forecasted_value  Forecasted_value  Forecasted_value  \\\n",
       "0          0.000000          0.000000               0.0          0.004827   \n",
       "1          0.001021          0.003640               0.0          0.003374   \n",
       "2          0.000000          0.000000               0.0          0.000438   \n",
       "3          0.003838          0.006069               0.0          0.000000   \n",
       "4          0.001370          0.000000               0.0          0.000000   \n",
       "\n",
       "   Forecasted_value  Forecasted_value  Forecasted_value  Forecasted_value  \\\n",
       "0               0.0          0.000748          0.000000               0.0   \n",
       "1               0.0          0.000000          0.000000               0.0   \n",
       "2               0.0          0.000000          0.000000               0.0   \n",
       "3               0.0          0.001505          0.000000               0.0   \n",
       "4               0.0          0.000000          0.002932               0.0   \n",
       "\n",
       "   Forecasted_value  Forecasted_value  ...  Forecasted_value  \\\n",
       "0          0.000000          0.040379  ...           0.00871   \n",
       "1          0.000000          0.033825  ...           0.00000   \n",
       "2          0.000000          0.037304  ...           0.00000   \n",
       "3          0.002377          0.035143  ...           0.00000   \n",
       "4          0.000000          0.024778  ...           0.00092   \n",
       "\n",
       "   Forecasted_value  Forecasted_value  Forecasted_value  Forecasted_value  \\\n",
       "0          0.000000          0.000000          0.024548          0.027156   \n",
       "1          0.000000          0.000000          0.024024          0.003966   \n",
       "2          0.000000          0.008697          0.012805          0.013766   \n",
       "3          0.000000          0.004512          0.024513          0.005078   \n",
       "4          0.003634          0.010536          0.023303          0.015564   \n",
       "\n",
       "   Forecasted_value  Forecasted_value  Forecasted_value  Forecasted_value  \\\n",
       "0               0.0          0.000000          0.000000           0.00000   \n",
       "1               0.0          0.002757          0.000000           0.00000   \n",
       "2               0.0          0.000000          0.000000           0.00000   \n",
       "3               0.0          0.004818          0.000000           0.00149   \n",
       "4               0.0          0.000000          0.005187           0.00000   \n",
       "\n",
       "   Forecasted_value  \n",
       "0          0.005222  \n",
       "1          0.004210  \n",
       "2          0.001392  \n",
       "3          0.001761  \n",
       "4          0.001617  \n",
       "\n",
       "[5 rows x 910 columns]"
      ]
     },
     "execution_count": 32,
     "metadata": {},
     "output_type": "execute_result"
    }
   ],
   "source": [
    "exp_forecasted.head()"
   ]
  },
  {
   "cell_type": "code",
   "execution_count": 33,
   "id": "92bcf82f-ca31-4b25-a919-c8d51d72cfa7",
   "metadata": {},
   "outputs": [],
   "source": [
    "sum_forecasted_values = exp_forecasted.sum(axis = 1)"
   ]
  },
  {
   "cell_type": "code",
   "execution_count": 34,
   "id": "7f0e1119-a3bd-4a52-ae36-afa2c2070e2b",
   "metadata": {},
   "outputs": [
    {
     "data": {
      "text/plain": [
       "0    26.795742\n",
       "1    28.917707\n",
       "2    32.399346\n",
       "3    26.510882\n",
       "4    22.492894\n",
       "5    27.585801\n",
       "6    25.248212\n",
       "dtype: float64"
      ]
     },
     "execution_count": 34,
     "metadata": {},
     "output_type": "execute_result"
    }
   ],
   "source": [
    "sum_forecasted_values"
   ]
  },
  {
   "cell_type": "code",
   "execution_count": 35,
   "id": "cbc06a7e-2dca-400d-9cea-d063c33a4442",
   "metadata": {},
   "outputs": [],
   "source": [
    "# concatenate the sum dataframes\n",
    "block_0103_true_and_forecasted_values_df = pd.concat((sum_true_values, sum_forecasted_values), axis = 1)"
   ]
  },
  {
   "cell_type": "code",
   "execution_count": 36,
   "id": "f667f3a6-d7f7-4e7c-a037-1e9541dd38bd",
   "metadata": {},
   "outputs": [],
   "source": [
    "block_0103_true_and_forecasted_values_df.columns = [\"True_count\", \"Forecasted_count\"]"
   ]
  },
  {
   "cell_type": "code",
   "execution_count": 37,
   "id": "d27b93db-c9e2-49ff-9003-9e4925de3179",
   "metadata": {},
   "outputs": [
    {
     "data": {
      "text/html": [
       "<div>\n",
       "<style scoped>\n",
       "    .dataframe tbody tr th:only-of-type {\n",
       "        vertical-align: middle;\n",
       "    }\n",
       "\n",
       "    .dataframe tbody tr th {\n",
       "        vertical-align: top;\n",
       "    }\n",
       "\n",
       "    .dataframe thead th {\n",
       "        text-align: right;\n",
       "    }\n",
       "</style>\n",
       "<table border=\"1\" class=\"dataframe\">\n",
       "  <thead>\n",
       "    <tr style=\"text-align: right;\">\n",
       "      <th></th>\n",
       "      <th>True_count</th>\n",
       "      <th>Forecasted_count</th>\n",
       "    </tr>\n",
       "  </thead>\n",
       "  <tbody>\n",
       "    <tr>\n",
       "      <th>0</th>\n",
       "      <td>45.000217</td>\n",
       "      <td>26.795742</td>\n",
       "    </tr>\n",
       "    <tr>\n",
       "      <th>1</th>\n",
       "      <td>45.000040</td>\n",
       "      <td>28.917707</td>\n",
       "    </tr>\n",
       "    <tr>\n",
       "      <th>2</th>\n",
       "      <td>47.000001</td>\n",
       "      <td>32.399346</td>\n",
       "    </tr>\n",
       "    <tr>\n",
       "      <th>3</th>\n",
       "      <td>37.999999</td>\n",
       "      <td>26.510882</td>\n",
       "    </tr>\n",
       "    <tr>\n",
       "      <th>4</th>\n",
       "      <td>42.000041</td>\n",
       "      <td>22.492894</td>\n",
       "    </tr>\n",
       "    <tr>\n",
       "      <th>5</th>\n",
       "      <td>35.000000</td>\n",
       "      <td>27.585801</td>\n",
       "    </tr>\n",
       "    <tr>\n",
       "      <th>6</th>\n",
       "      <td>29.000000</td>\n",
       "      <td>25.248212</td>\n",
       "    </tr>\n",
       "  </tbody>\n",
       "</table>\n",
       "</div>"
      ],
      "text/plain": [
       "   True_count  Forecasted_count\n",
       "0   45.000217         26.795742\n",
       "1   45.000040         28.917707\n",
       "2   47.000001         32.399346\n",
       "3   37.999999         26.510882\n",
       "4   42.000041         22.492894\n",
       "5   35.000000         27.585801\n",
       "6   29.000000         25.248212"
      ]
     },
     "execution_count": 37,
     "metadata": {},
     "output_type": "execute_result"
    }
   ],
   "source": [
    "block_0103_true_and_forecasted_values_df"
   ]
  },
  {
   "cell_type": "code",
   "execution_count": 38,
   "id": "636d512d-f76b-48dc-90f1-872dc6a32736",
   "metadata": {},
   "outputs": [
    {
     "data": {
      "text/plain": [
       "14.065145997607761"
      ]
     },
     "execution_count": 38,
     "metadata": {},
     "output_type": "execute_result"
    }
   ],
   "source": [
    "# blockwise mean squared error\n",
    "rmse = np.sqrt(mean_squared_error(sum_true_values, sum_forecasted_values))\n",
    "rmse"
   ]
  },
  {
   "cell_type": "code",
   "execution_count": 39,
   "id": "df568443-7d02-4ba8-ad0e-5d83f2576c8b",
   "metadata": {},
   "outputs": [
    {
     "data": {
      "text/plain": [
       "13.007102028417052"
      ]
     },
     "execution_count": 39,
     "metadata": {},
     "output_type": "execute_result"
    }
   ],
   "source": [
    "# blockwise mean absolute error\n",
    "mae = mean_absolute_error(sum_true_values, sum_forecasted_values)\n",
    "mae"
   ]
  },
  {
   "cell_type": "code",
   "execution_count": 40,
   "id": "24d1568b-1b0d-41db-a60b-cd864b46d6e7",
   "metadata": {},
   "outputs": [
    {
     "data": {
      "text/plain": [
       "PearsonRResult(statistic=0.4553895753683057, pvalue=0.3045093354444368)"
      ]
     },
     "execution_count": 40,
     "metadata": {},
     "output_type": "execute_result"
    }
   ],
   "source": [
    "corr = pearsonr(sum_true_values, sum_forecasted_values)\n",
    "corr"
   ]
  },
  {
   "cell_type": "code",
   "execution_count": 41,
   "id": "cf8101a2-be23-4216-afd7-f7783e56f62d",
   "metadata": {},
   "outputs": [
    {
     "data": {
      "text/plain": [
       "-4.476545688624541"
      ]
     },
     "execution_count": 41,
     "metadata": {},
     "output_type": "execute_result"
    }
   ],
   "source": [
    "r2 = r2_score(sum_true_values, sum_forecasted_values)\n",
    "r2"
   ]
  },
  {
   "cell_type": "markdown",
   "id": "fa460e4d-2fdc-45fb-8f50-6a50b0a6ef13",
   "metadata": {},
   "source": [
    "##### Coverages and widths for the forecasted values?"
   ]
  },
  {
   "cell_type": "code",
   "execution_count": 42,
   "id": "ab169e66-e011-4b49-aff9-a0bbc6ed682a",
   "metadata": {},
   "outputs": [],
   "source": [
    "# Should we get the interval preds in the same thinking way too?"
   ]
  },
  {
   "cell_type": "code",
   "execution_count": 43,
   "id": "68096274-41ee-4d50-aa90-600dfa7aebbd",
   "metadata": {},
   "outputs": [],
   "source": [
    "# maybe we should - so first convert to data scale before avearging, and see if the measures differ a lot"
   ]
  },
  {
   "cell_type": "code",
   "execution_count": null,
   "id": "dd89055b-d2da-4de1-8f26-aeca49b1b2e7",
   "metadata": {},
   "outputs": [],
   "source": []
  },
  {
   "cell_type": "code",
   "execution_count": null,
   "id": "b7832620-0685-4c21-9c6e-19df746f71fb",
   "metadata": {},
   "outputs": [],
   "source": []
  },
  {
   "cell_type": "code",
   "execution_count": 44,
   "id": "eae4e334-d06f-4950-b09e-ec34cb4f3eba",
   "metadata": {},
   "outputs": [],
   "source": [
    "# for this we need the all_forecasts npy files"
   ]
  },
  {
   "cell_type": "code",
   "execution_count": 45,
   "id": "1ec4f3fa-b7b0-4064-9007-4230b0e64f72",
   "metadata": {},
   "outputs": [],
   "source": [
    "# content location is the same path as above"
   ]
  },
  {
   "cell_type": "code",
   "execution_count": 46,
   "id": "febb8655-c529-4099-b22e-ee36918188d5",
   "metadata": {},
   "outputs": [],
   "source": [
    "all_forecasts_npy_files = ['all_forecasts_sub_' + str(i) + '.npy' for i in range(910)]"
   ]
  },
  {
   "cell_type": "code",
   "execution_count": 47,
   "id": "11eba5f0-5a18-4d7d-a743-d57bc9cf93a4",
   "metadata": {},
   "outputs": [],
   "source": [
    "# all_forecasts_npy_files"
   ]
  },
  {
   "cell_type": "code",
   "execution_count": 48,
   "id": "7711dd37-fd3c-4ac8-b8ae-b4be59dff7fa",
   "metadata": {},
   "outputs": [],
   "source": [
    "# load the npy files"
   ]
  },
  {
   "cell_type": "code",
   "execution_count": 49,
   "id": "57f059e1-25b1-4e6d-b370-9ca0236848ea",
   "metadata": {},
   "outputs": [
    {
     "name": "stdout",
     "output_type": "stream",
     "text": [
      "CPU times: user 262 ms, sys: 74.5 ms, total: 337 ms\n",
      "Wall time: 338 ms\n"
     ]
    }
   ],
   "source": [
    "%%time\n",
    "loaded_npy_files = []\n",
    "for file in all_forecasts_npy_files:\n",
    "    joined_path = os.path.join(path_to_dfs, file)\n",
    "    load_file = np.load(joined_path)\n",
    "    # notice we are averaging the preds across the chains before exponentiation\n",
    "    mean_file = np.exp(np.mean(load_file, axis = 1)) - 1\n",
    "    loaded_npy_files.append(mean_file)"
   ]
  },
  {
   "cell_type": "code",
   "execution_count": 50,
   "id": "78d4c420-8e99-4103-881e-297bc81f909d",
   "metadata": {},
   "outputs": [
    {
     "data": {
      "text/plain": [
       "910"
      ]
     },
     "execution_count": 50,
     "metadata": {},
     "output_type": "execute_result"
    }
   ],
   "source": [
    "len(loaded_npy_files)"
   ]
  },
  {
   "cell_type": "code",
   "execution_count": 51,
   "id": "3cc8627a-822a-4c8e-898a-52957870ccde",
   "metadata": {},
   "outputs": [
    {
     "data": {
      "text/plain": [
       "(1000, 7)"
      ]
     },
     "execution_count": 51,
     "metadata": {},
     "output_type": "execute_result"
    }
   ],
   "source": [
    "loaded_npy_files[0].shape"
   ]
  },
  {
   "cell_type": "code",
   "execution_count": 52,
   "id": "ab72ca92-e8f1-4ce3-9cea-117b673d4529",
   "metadata": {},
   "outputs": [
    {
     "data": {
      "text/plain": [
       "array([[-1.48826838e-03,  6.77466393e-03, -1.53064728e-04, ...,\n",
       "         2.13027000e-03,  4.36413288e-03,  1.99723244e-03],\n",
       "       [-1.47795677e-03,  7.29763508e-03, -7.20620155e-05, ...,\n",
       "         2.82752514e-03,  3.59630585e-03,  3.23522091e-03],\n",
       "       [-3.28898430e-04,  7.18247890e-03,  4.41312790e-04, ...,\n",
       "         2.73549557e-03,  4.34124470e-03,  3.05283070e-03],\n",
       "       ...,\n",
       "       [-3.00472975e-03, -9.10282135e-04,  1.19578838e-03, ...,\n",
       "         1.14154816e-03,  2.86734104e-03,  1.38473511e-03],\n",
       "       [-4.05603647e-03, -6.66916370e-04,  1.04784966e-04, ...,\n",
       "         1.91915035e-03,  2.69937515e-03,  1.09505653e-03],\n",
       "       [-2.15131044e-03, -1.76072121e-04, -1.72138214e-04, ...,\n",
       "         3.01229954e-03,  2.97093391e-03,  1.07336044e-03]], dtype=float32)"
      ]
     },
     "execution_count": 52,
     "metadata": {},
     "output_type": "execute_result"
    }
   ],
   "source": [
    "loaded_npy_files[0]"
   ]
  },
  {
   "cell_type": "code",
   "execution_count": 53,
   "id": "53dd5c88-918c-46a0-b5ae-cb7c75895741",
   "metadata": {},
   "outputs": [
    {
     "name": "stdout",
     "output_type": "stream",
     "text": [
      "CPU times: user 20.8 ms, sys: 921 µs, total: 21.8 ms\n",
      "Wall time: 21 ms\n"
     ]
    }
   ],
   "source": [
    "%%time\n",
    "# convert less than 0 entries to 0 for all arrays\n",
    "for arr in loaded_npy_files:\n",
    "    arr[arr < 0] = 0"
   ]
  },
  {
   "cell_type": "code",
   "execution_count": 54,
   "id": "b20d4662-eefc-41bc-ac0a-25d0613fa00c",
   "metadata": {},
   "outputs": [
    {
     "data": {
      "text/plain": [
       "array([[0.        , 0.00677466, 0.        , ..., 0.00213027, 0.00436413,\n",
       "        0.00199723],\n",
       "       [0.        , 0.00729764, 0.        , ..., 0.00282753, 0.00359631,\n",
       "        0.00323522],\n",
       "       [0.        , 0.00718248, 0.00044131, ..., 0.0027355 , 0.00434124,\n",
       "        0.00305283],\n",
       "       ...,\n",
       "       [0.        , 0.        , 0.00119579, ..., 0.00114155, 0.00286734,\n",
       "        0.00138474],\n",
       "       [0.        , 0.        , 0.00010478, ..., 0.00191915, 0.00269938,\n",
       "        0.00109506],\n",
       "       [0.        , 0.        , 0.        , ..., 0.0030123 , 0.00297093,\n",
       "        0.00107336]], dtype=float32)"
      ]
     },
     "execution_count": 54,
     "metadata": {},
     "output_type": "execute_result"
    }
   ],
   "source": [
    "loaded_npy_files[0]"
   ]
  },
  {
   "cell_type": "code",
   "execution_count": 55,
   "id": "f2474bdb-3a79-4436-83b1-2b3c3ac24a5c",
   "metadata": {},
   "outputs": [],
   "source": [
    "# Since we do not have overlapping sub-windows, we can sum the counts to get the final densities\n",
    "output = sum(loaded_npy_files)"
   ]
  },
  {
   "cell_type": "code",
   "execution_count": 56,
   "id": "d9038206-4f90-4001-9c3c-aee27d7d610c",
   "metadata": {},
   "outputs": [
    {
     "data": {
      "text/plain": [
       "(1000, 7)"
      ]
     },
     "execution_count": 56,
     "metadata": {},
     "output_type": "execute_result"
    }
   ],
   "source": [
    "output.shape"
   ]
  },
  {
   "cell_type": "code",
   "execution_count": 57,
   "id": "6116babf-18f2-4e39-9a72-150ccc4e6387",
   "metadata": {},
   "outputs": [
    {
     "data": {
      "text/plain": [
       "array([[37.50211 , 37.614037, 42.83846 , ..., 34.2522  , 39.365135,\n",
       "        34.137955],\n",
       "       [33.67325 , 34.477875, 37.788948, ..., 30.666382, 38.568363,\n",
       "        40.86204 ],\n",
       "       [37.925667, 40.891014, 41.77998 , ..., 36.21237 , 46.06561 ,\n",
       "        42.478775],\n",
       "       ...,\n",
       "       [31.4337  , 34.947765, 39.791534, ..., 34.19396 , 39.41924 ,\n",
       "        44.96911 ],\n",
       "       [31.180832, 33.303596, 43.094395, ..., 39.315292, 38.94195 ,\n",
       "        39.34959 ],\n",
       "       [29.985376, 35.93759 , 37.800037, ..., 29.97045 , 36.24132 ,\n",
       "        35.39157 ]], dtype=float32)"
      ]
     },
     "execution_count": 57,
     "metadata": {},
     "output_type": "execute_result"
    }
   ],
   "source": [
    "output"
   ]
  },
  {
   "cell_type": "code",
   "execution_count": 58,
   "id": "fbac31f0-215b-4e8b-8c13-2cd85e76a70f",
   "metadata": {},
   "outputs": [],
   "source": [
    "# is this sum correct? alternative method of computing the sums\n",
    "output_alt = np.sum(loaded_npy_files, axis = 0)"
   ]
  },
  {
   "cell_type": "code",
   "execution_count": 59,
   "id": "1198a1a0-14fc-4101-b4af-14a2c26dc0c5",
   "metadata": {},
   "outputs": [
    {
     "data": {
      "text/plain": [
       "(1000, 7)"
      ]
     },
     "execution_count": 59,
     "metadata": {},
     "output_type": "execute_result"
    }
   ],
   "source": [
    "output_alt.shape"
   ]
  },
  {
   "cell_type": "code",
   "execution_count": 60,
   "id": "23c6ebbe-2c27-47ff-8a5f-86491e58d899",
   "metadata": {},
   "outputs": [
    {
     "data": {
      "text/plain": [
       "array([[37.50211 , 37.614037, 42.83846 , ..., 34.2522  , 39.365135,\n",
       "        34.137955],\n",
       "       [33.67325 , 34.477875, 37.788948, ..., 30.666382, 38.568363,\n",
       "        40.86204 ],\n",
       "       [37.925667, 40.891014, 41.77998 , ..., 36.21237 , 46.06561 ,\n",
       "        42.478775],\n",
       "       ...,\n",
       "       [31.4337  , 34.947765, 39.791534, ..., 34.19396 , 39.41924 ,\n",
       "        44.96911 ],\n",
       "       [31.180832, 33.303596, 43.094395, ..., 39.315292, 38.94195 ,\n",
       "        39.34959 ],\n",
       "       [29.985376, 35.93759 , 37.800037, ..., 29.97045 , 36.24132 ,\n",
       "        35.39157 ]], dtype=float32)"
      ]
     },
     "execution_count": 60,
     "metadata": {},
     "output_type": "execute_result"
    }
   ],
   "source": [
    "output_alt"
   ]
  },
  {
   "cell_type": "code",
   "execution_count": 61,
   "id": "7b4a8d85-fe98-49c3-9a9f-51fbd90c5174",
   "metadata": {},
   "outputs": [
    {
     "data": {
      "text/plain": [
       "1.0"
      ]
     },
     "execution_count": 61,
     "metadata": {},
     "output_type": "execute_result"
    }
   ],
   "source": [
    "np.mean(output_alt == output)"
   ]
  },
  {
   "cell_type": "code",
   "execution_count": 62,
   "id": "ba6418a3-03f4-475a-b552-55a08048311f",
   "metadata": {},
   "outputs": [],
   "source": [
    "# verified the sum is correct, let's get the widths and the coverages - and also any essential plots"
   ]
  },
  {
   "cell_type": "code",
   "execution_count": 63,
   "id": "ca61eabc-63ed-4b74-b20a-61521b3751a6",
   "metadata": {},
   "outputs": [],
   "source": [
    "# now we can get the 2.5th abd the 97.5th percentiles - to get the coverage and the widths of the CIS\n",
    "li_train = np.percentile(output, axis = 0, q = (2.5, 97.5))[0,:].reshape(-1,1)    \n",
    "ui_train = np.percentile(output, axis = 0, q = (2.5, 97.5))[1,:].reshape(-1,1)"
   ]
  },
  {
   "cell_type": "code",
   "execution_count": 64,
   "id": "9cad5cca-320d-4e70-b204-e4dc52fb9d6d",
   "metadata": {},
   "outputs": [
    {
     "data": {
      "text/plain": [
       "array([[24.80686741],\n",
       "       [25.35188231],\n",
       "       [26.72654157],\n",
       "       [23.80777059],\n",
       "       [20.75789733],\n",
       "       [23.91302953],\n",
       "       [23.16749382]])"
      ]
     },
     "execution_count": 64,
     "metadata": {},
     "output_type": "execute_result"
    }
   ],
   "source": [
    "li_train"
   ]
  },
  {
   "cell_type": "code",
   "execution_count": 65,
   "id": "4e669c1d-0916-4e77-92e2-a1b1879834aa",
   "metadata": {},
   "outputs": [
    {
     "data": {
      "text/plain": [
       "array([[41.51867123],\n",
       "       [43.97774925],\n",
       "       [48.7353137 ],\n",
       "       [44.93095055],\n",
       "       [39.87523537],\n",
       "       [46.06579943],\n",
       "       [44.16026154]])"
      ]
     },
     "execution_count": 65,
     "metadata": {},
     "output_type": "execute_result"
    }
   ],
   "source": [
    "ui_train"
   ]
  },
  {
   "cell_type": "code",
   "execution_count": 66,
   "id": "4d51a483-bfe5-4cc6-a31f-813cb83d5540",
   "metadata": {},
   "outputs": [],
   "source": [
    "width_train = ui_train - li_train\n",
    "avg_width_train = width_train.mean(0)[0]"
   ]
  },
  {
   "cell_type": "code",
   "execution_count": 67,
   "id": "37b163bb-b24c-4af2-8f2b-19c78eb24ff9",
   "metadata": {},
   "outputs": [
    {
     "data": {
      "text/plain": [
       "20.10464264324733"
      ]
     },
     "execution_count": 67,
     "metadata": {},
     "output_type": "execute_result"
    }
   ],
   "source": [
    "avg_width_train"
   ]
  },
  {
   "cell_type": "code",
   "execution_count": 68,
   "id": "46d652b2-05be-44f9-bf0d-3ff69ad25fed",
   "metadata": {},
   "outputs": [],
   "source": [
    "y_traina = block_0103_true_and_forecasted_values_df[[\"True_count\"]].values"
   ]
  },
  {
   "cell_type": "code",
   "execution_count": 69,
   "id": "5f1ba54d-0aca-494d-b741-b2cd6d00fcb3",
   "metadata": {},
   "outputs": [],
   "source": [
    "ind_train = (y_traina >= li_train) & (y_traina <= ui_train)\n",
    "coverage_train= ind_train.mean(0)[0]"
   ]
  },
  {
   "cell_type": "code",
   "execution_count": 70,
   "id": "66d5a7c9-0400-4f6f-9221-9cb9c7860d3c",
   "metadata": {},
   "outputs": [
    {
     "data": {
      "text/plain": [
       "0.5714285714285714"
      ]
     },
     "execution_count": 70,
     "metadata": {},
     "output_type": "execute_result"
    }
   ],
   "source": [
    "coverage_train"
   ]
  },
  {
   "cell_type": "code",
   "execution_count": 71,
   "id": "ce86b870-01cf-4e10-904b-ef2396d2dc47",
   "metadata": {},
   "outputs": [
    {
     "data": {
      "text/plain": [
       "array([32.830585, 34.339993, 37.383022, 33.922714, 29.873075, 34.318356,\n",
       "       33.2258  ], dtype=float32)"
      ]
     },
     "execution_count": 71,
     "metadata": {},
     "output_type": "execute_result"
    }
   ],
   "source": [
    "np.mean(output, axis = 0)"
   ]
  },
  {
   "cell_type": "code",
   "execution_count": 72,
   "id": "311beb4f-6347-407c-af9b-bfe285361098",
   "metadata": {},
   "outputs": [],
   "source": [
    "# sum_forecasted_values"
   ]
  },
  {
   "cell_type": "code",
   "execution_count": 73,
   "id": "0f94ff2b-6606-477b-a3a7-c3841f436c56",
   "metadata": {},
   "outputs": [
    {
     "data": {
      "image/png": "[encoded data removed]",
      "text/plain": [
       "<Figure size 640x480 with 1 Axes>"
      ]
     },
     "metadata": {},
     "output_type": "display_data"
    }
   ],
   "source": [
    "plt.scatter(block_0103_true_and_forecasted_values_df['True_count'], block_0103_true_and_forecasted_values_df['Forecasted_count'])\n",
    "plt.xlabel(\"True density\")\n",
    "plt.ylabel(\"Predicted density\")\n",
    "# Add the y = x line\n",
    "plt.plot([20, 47], [20, 47], color='green', label='y = x')\n",
    "plt.legend()\n",
    "plt.show()"
   ]
  },
  {
   "cell_type": "code",
   "execution_count": 74,
   "id": "04aa778d-3203-493f-a8d5-6c42cd0c540a",
   "metadata": {},
   "outputs": [
    {
     "data": {
      "image/png": "[encoded data removed]",
      "text/plain": [
       "<Figure size 1500x2000 with 8 Axes>"
      ]
     },
     "metadata": {},
     "output_type": "display_data"
    },
    {
     "name": "stdout",
     "output_type": "stream",
     "text": [
      "CPU times: user 27.5 s, sys: 725 ms, total: 28.2 s\n",
      "Wall time: 27.9 s\n"
     ]
    }
   ],
   "source": [
    "%%time\n",
    "# Create a 2x4 grid of subplots (total 8 plots, the last one will be left empty)\n",
    "fig, axes = plt.subplots(4, 2, figsize=(15,20))\n",
    "axes = axes.flatten() \n",
    "\n",
    "# widths plots\n",
    "for i in range(7):\n",
    "    timestep_i_subwindows = []\n",
    "    for y, file in enumerate(loaded_npy_files):\n",
    "        t_i_forecast = file[:,i]\n",
    "        # print the shape of the extracted array\n",
    "        # print(t_i_forecast.shape)\n",
    "        timestep_i_subwindows.append(t_i_forecast)\n",
    "    stacked_forecasts = np.stack(timestep_i_subwindows)\n",
    "    stacked_forecasts[stacked_forecasts<0] = 0\n",
    "    sorted_stacked_forecasts = np.sort(stacked_forecasts, axis = 1)\n",
    "    # get the values between the 2.5th and 97.5th percentile?\n",
    "    sorted_interval_data = sorted_stacked_forecasts[:,25:975]\n",
    "\n",
    "    # Plot for the current 2D array\n",
    "    for l, row in enumerate(sorted_interval_data):\n",
    "        axes[i].plot([l + 1] * len(row), row, 'o', markersize=1, color='teal', label='Distribution of forecasted values' if l == 0 else \"\")\n",
    "    \n",
    "    true_counts = exp_true.iloc[i,:].values\n",
    "\n",
    "    # # Overlay the 1D array values\n",
    "    axes[i].plot(np.arange(1, 911), true_counts, 'o', markersize=1, color='red', label='True density')\n",
    "    \n",
    "    # Customize x-ticks and labels\n",
    "    axes[i].set_xticks(np.arange(1, 911))\n",
    "    # axes[i].set_xticklabels([f'sub_window_{zz + 1}' for zz in range(910)], rotation=90, fontsize=13)\n",
    "    axes[i].set_xlabel(\"Sub windows\", fontsize=12, fontweight='bold')\n",
    "    axes[i].set_ylabel(\"Forecasted and true densities\", fontsize=12, fontweight='bold')\n",
    "    axes[i].set_title(f\"Test image {i + 1}\", fontsize=12, fontweight='bold')\n",
    "    axes[i].legend()\n",
    "\n",
    "\n",
    "# Hide the last (empty) subplot\n",
    "axes[-1].set_visible(False)\n",
    "\n",
    "# Adjust layout\n",
    "plt.tight_layout()\n",
    "\n",
    "# # Save the figure as a PDF file\n",
    "# plt.savefig(\"Previous_data/Forecasted_distributions_blk13.pdf\", format='pdf', bbox_inches='tight')\n",
    "plt.show()\n",
    "\n"
   ]
  },
  {
   "cell_type": "code",
   "execution_count": 75,
   "id": "b51d6a01-5c7a-4e37-be12-776053974e4d",
   "metadata": {},
   "outputs": [],
   "source": [
    "# plots are going to be too over-crowded as we now have 910 subwindows - might beed to talk to Dr. Ghosh to figure out a better way to give these plots"
   ]
  }
 ],
 "metadata": {
  "kernelspec": {
   "display_name": "Python (tfp_cpu_env)",
   "language": "python",
   "name": "tfp_cpu_env"
  },
  "language_info": {
   "codemirror_mode": {
    "name": "ipython",
    "version": 3
   },
   "file_extension": ".py",
   "mimetype": "text/x-python",
   "name": "python",
   "nbconvert_exporter": "python",
   "pygments_lexer": "ipython3",
   "version": "3.11.7"
  }
 },
 "nbformat": 4,
 "nbformat_minor": 5
}
