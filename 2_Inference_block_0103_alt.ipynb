{
 "cells": [
  {
   "cell_type": "code",
   "execution_count": 1,
   "id": "73b8d30b-7d0c-4b42-8885-60a4175ea97c",
   "metadata": {},
   "outputs": [],
   "source": [
    "# We need to think of a better way to compute the forecasted values - the average"
   ]
  },
  {
   "cell_type": "code",
   "execution_count": 2,
   "id": "4097f937-19bd-4463-b297-4d3824e6da6b",
   "metadata": {},
   "outputs": [],
   "source": [
    "# What happense currently?\n",
    "\n",
    "# We average out the predicted values before transformation, which is not the best thing to do, we need to first do the transformation - and then average things out, let's try computing the metrics this way"
   ]
  },
  {
   "cell_type": "code",
   "execution_count": 3,
   "id": "95479ff1-daa9-4a85-bee2-32d78b24506b",
   "metadata": {},
   "outputs": [],
   "source": [
    "import pandas as pd\n",
    "import numpy as np\n",
    "import matplotlib.pyplot as plt\n",
    "import os\n",
    "from sklearn.metrics import mean_absolute_error, mean_squared_error, r2_score\n",
    "from scipy.stats import pearsonr"
   ]
  },
  {
   "cell_type": "code",
   "execution_count": 4,
   "id": "99b02741-2ca4-42ff-b121-798532b19c5b",
   "metadata": {},
   "outputs": [],
   "source": [
    "# We still need the true counts, so we need the nest few steps, let's leave things as they are"
   ]
  },
  {
   "cell_type": "code",
   "execution_count": 5,
   "id": "d0c496d4-1b24-43dd-ab1b-b98d6eaef21b",
   "metadata": {},
   "outputs": [],
   "source": [
    "# path to dataframes\n",
    "path_to_dfs = \"suggestion_2/forecasted_counts/block_0103\""
   ]
  },
  {
   "cell_type": "code",
   "execution_count": 6,
   "id": "0c9c641d-4e5d-4c54-a235-c62cbdf13f8d",
   "metadata": {},
   "outputs": [],
   "source": [
    "# os.listdir(path_to_dfs)"
   ]
  },
  {
   "cell_type": "code",
   "execution_count": 7,
   "id": "5e5d1ebd-ac8c-4a2b-b33c-db3c4b477eae",
   "metadata": {},
   "outputs": [
    {
     "data": {
      "text/plain": [
       "6370"
      ]
     },
     "execution_count": 7,
     "metadata": {},
     "output_type": "execute_result"
    }
   ],
   "source": [
    "len(os.listdir(path_to_dfs))"
   ]
  },
  {
   "cell_type": "code",
   "execution_count": 8,
   "id": "3b80d752-5eb8-42c1-ad39-987ad3dbb001",
   "metadata": {},
   "outputs": [
    {
     "data": {
      "text/plain": [
       "7.0"
      ]
     },
     "execution_count": 8,
     "metadata": {},
     "output_type": "execute_result"
    }
   ],
   "source": [
    "6370/910"
   ]
  },
  {
   "cell_type": "code",
   "execution_count": 9,
   "id": "a0ac81e1-3049-44de-a2bf-4bf5a274ba45",
   "metadata": {},
   "outputs": [],
   "source": [
    "# seems each sub-window sequence have 7 things stored - what are all these?\n",
    "\n",
    "# the forecasted npy files\n",
    "# ar_sigma\n",
    "# noise_sigma\n",
    "# betas\n",
    "# rho\n",
    "# averaged forecasts\n",
    "# posterior parameter summaries - might need to pay a little attention here, the r_hat values are too high - think this should vary around 1? - but almost all the values are greater than 2."
   ]
  },
  {
   "cell_type": "code",
   "execution_count": 10,
   "id": "f9a4f497-2d9d-4b5c-9169-46b6ae6b9977",
   "metadata": {},
   "outputs": [],
   "source": [
    "averaged_forecasts_csvs = []\n",
    "for file in os.listdir(path_to_dfs):\n",
    "    if file[:8] =='averaged':\n",
    "        averaged_forecasts_csvs.append(file)"
   ]
  },
  {
   "cell_type": "code",
   "execution_count": 11,
   "id": "094e9614-b16f-45a2-aafc-d7884678eb44",
   "metadata": {},
   "outputs": [
    {
     "data": {
      "text/plain": [
       "910"
      ]
     },
     "execution_count": 11,
     "metadata": {},
     "output_type": "execute_result"
    }
   ],
   "source": [
    "# how many csv files do we have?\n",
    "len(averaged_forecasts_csvs)"
   ]
  },
  {
   "cell_type": "code",
   "execution_count": 12,
   "id": "7eca928b-bdbd-4d00-9eb1-8a808db7123e",
   "metadata": {},
   "outputs": [],
   "source": [
    "# averaged_forecasts_csvs - we probably need these in order for getting the respective predicted values"
   ]
  },
  {
   "cell_type": "code",
   "execution_count": 13,
   "id": "d0e11c68-824a-41ea-bf6b-65f53103343f",
   "metadata": {},
   "outputs": [
    {
     "data": {
      "text/plain": [
       "'averaged_forecasts_sub_653.csv'"
      ]
     },
     "execution_count": 13,
     "metadata": {},
     "output_type": "execute_result"
    }
   ],
   "source": [
    "averaged_forecasts_csvs[0]"
   ]
  },
  {
   "cell_type": "code",
   "execution_count": 14,
   "id": "f1f9e7be-53a6-4f38-b389-045d898b14ef",
   "metadata": {},
   "outputs": [],
   "source": [
    "# sorting them would not work as everything in the nomenclature of the files is a character - hence will not respect the numerical order"
   ]
  },
  {
   "cell_type": "code",
   "execution_count": 15,
   "id": "3cf616ee-4b4e-4ad9-ac1b-20aba081bfc5",
   "metadata": {},
   "outputs": [],
   "source": [
    "# let's create these names in the order of the subwindows\n",
    "ordered_csv_files = ['averaged_forecasts_sub_' + str(i) + '.csv' for i in range(910)]"
   ]
  },
  {
   "cell_type": "code",
   "execution_count": 16,
   "id": "7ac08389-4437-448b-b8a8-317cd0a9bf8e",
   "metadata": {},
   "outputs": [],
   "source": [
    "# ordered_csv_files"
   ]
  },
  {
   "cell_type": "code",
   "execution_count": 17,
   "id": "e74425d7-b613-44cf-96dd-df4298cef947",
   "metadata": {},
   "outputs": [],
   "source": [
    "# averaged_forecasts_csvs list is pointless at this time?"
   ]
  },
  {
   "cell_type": "code",
   "execution_count": 18,
   "id": "9a94c9ec-57cc-42fa-ad71-26639da44cb7",
   "metadata": {},
   "outputs": [
    {
     "name": "stdout",
     "output_type": "stream",
     "text": [
      "CPU times: user 1.51 s, sys: 298 ms, total: 1.81 s\n",
      "Wall time: 22.5 s\n"
     ]
    }
   ],
   "source": [
    "%%time\n",
    "all_dfs = []\n",
    "for file in ordered_csv_files:\n",
    "    read_df = pd.read_csv(path_to_dfs + '/' + file)\n",
    "    all_dfs.append(read_df)"
   ]
  },
  {
   "cell_type": "code",
   "execution_count": 19,
   "id": "c04b6062-8fc9-4f3e-87f2-2a8e9abac16f",
   "metadata": {},
   "outputs": [],
   "source": [
    "# make a single dataframe out of the many\n",
    "combined_df = pd.concat(all_dfs, axis = 1)"
   ]
  },
  {
   "cell_type": "code",
   "execution_count": 20,
   "id": "5671cc95-7ba6-47bc-8da8-47ba9d3f36e3",
   "metadata": {},
   "outputs": [
    {
     "data": {
      "text/html": [
       "<div>\n",
       "<style scoped>\n",
       "    .dataframe tbody tr th:only-of-type {\n",
       "        vertical-align: middle;\n",
       "    }\n",
       "\n",
       "    .dataframe tbody tr th {\n",
       "        vertical-align: top;\n",
       "    }\n",
       "\n",
       "    .dataframe thead th {\n",
       "        text-align: right;\n",
       "    }\n",
       "</style>\n",
       "<table border=\"1\" class=\"dataframe\">\n",
       "  <thead>\n",
       "    <tr style=\"text-align: right;\">\n",
       "      <th></th>\n",
       "      <th>True_value</th>\n",
       "      <th>Forecasted_value</th>\n",
       "      <th>True_value</th>\n",
       "      <th>Forecasted_value</th>\n",
       "      <th>True_value</th>\n",
       "      <th>Forecasted_value</th>\n",
       "      <th>True_value</th>\n",
       "      <th>Forecasted_value</th>\n",
       "      <th>True_value</th>\n",
       "      <th>Forecasted_value</th>\n",
       "      <th>...</th>\n",
       "      <th>True_value</th>\n",
       "      <th>Forecasted_value</th>\n",
       "      <th>True_value</th>\n",
       "      <th>Forecasted_value</th>\n",
       "      <th>True_value</th>\n",
       "      <th>Forecasted_value</th>\n",
       "      <th>True_value</th>\n",
       "      <th>Forecasted_value</th>\n",
       "      <th>True_value</th>\n",
       "      <th>Forecasted_value</th>\n",
       "    </tr>\n",
       "  </thead>\n",
       "  <tbody>\n",
       "    <tr>\n",
       "      <th>0</th>\n",
       "      <td>0.0</td>\n",
       "      <td>-0.008622</td>\n",
       "      <td>0.0</td>\n",
       "      <td>-0.004020</td>\n",
       "      <td>0.0</td>\n",
       "      <td>-0.013600</td>\n",
       "      <td>0.0</td>\n",
       "      <td>-0.016808</td>\n",
       "      <td>0.000005</td>\n",
       "      <td>-0.003117</td>\n",
       "      <td>...</td>\n",
       "      <td>0.0</td>\n",
       "      <td>-0.007105</td>\n",
       "      <td>0.0</td>\n",
       "      <td>-0.012972</td>\n",
       "      <td>0.0</td>\n",
       "      <td>-0.008735</td>\n",
       "      <td>0.0</td>\n",
       "      <td>0.002620</td>\n",
       "      <td>0.0</td>\n",
       "      <td>0.005498</td>\n",
       "    </tr>\n",
       "    <tr>\n",
       "      <th>1</th>\n",
       "      <td>0.0</td>\n",
       "      <td>-0.003352</td>\n",
       "      <td>0.0</td>\n",
       "      <td>-0.001749</td>\n",
       "      <td>0.0</td>\n",
       "      <td>-0.005783</td>\n",
       "      <td>0.0</td>\n",
       "      <td>0.007102</td>\n",
       "      <td>0.064341</td>\n",
       "      <td>0.000372</td>\n",
       "      <td>...</td>\n",
       "      <td>0.0</td>\n",
       "      <td>0.000033</td>\n",
       "      <td>0.0</td>\n",
       "      <td>-0.001411</td>\n",
       "      <td>0.0</td>\n",
       "      <td>0.000213</td>\n",
       "      <td>0.0</td>\n",
       "      <td>0.000874</td>\n",
       "      <td>0.0</td>\n",
       "      <td>0.001592</td>\n",
       "    </tr>\n",
       "    <tr>\n",
       "      <th>2</th>\n",
       "      <td>0.0</td>\n",
       "      <td>-0.003265</td>\n",
       "      <td>0.0</td>\n",
       "      <td>-0.003800</td>\n",
       "      <td>0.0</td>\n",
       "      <td>-0.001575</td>\n",
       "      <td>0.0</td>\n",
       "      <td>0.001654</td>\n",
       "      <td>0.000000</td>\n",
       "      <td>-0.000544</td>\n",
       "      <td>...</td>\n",
       "      <td>0.0</td>\n",
       "      <td>-0.004479</td>\n",
       "      <td>0.0</td>\n",
       "      <td>-0.006052</td>\n",
       "      <td>0.0</td>\n",
       "      <td>-0.002207</td>\n",
       "      <td>0.0</td>\n",
       "      <td>-0.006147</td>\n",
       "      <td>0.0</td>\n",
       "      <td>-0.003249</td>\n",
       "    </tr>\n",
       "    <tr>\n",
       "      <th>3</th>\n",
       "      <td>0.0</td>\n",
       "      <td>-0.002662</td>\n",
       "      <td>0.0</td>\n",
       "      <td>-0.003518</td>\n",
       "      <td>0.0</td>\n",
       "      <td>0.004136</td>\n",
       "      <td>0.0</td>\n",
       "      <td>0.011356</td>\n",
       "      <td>0.000000</td>\n",
       "      <td>0.001134</td>\n",
       "      <td>...</td>\n",
       "      <td>0.0</td>\n",
       "      <td>-0.001618</td>\n",
       "      <td>0.0</td>\n",
       "      <td>0.006355</td>\n",
       "      <td>0.0</td>\n",
       "      <td>0.001497</td>\n",
       "      <td>0.0</td>\n",
       "      <td>-0.000994</td>\n",
       "      <td>0.0</td>\n",
       "      <td>0.003673</td>\n",
       "    </tr>\n",
       "    <tr>\n",
       "      <th>4</th>\n",
       "      <td>0.0</td>\n",
       "      <td>-0.003706</td>\n",
       "      <td>0.0</td>\n",
       "      <td>-0.004616</td>\n",
       "      <td>0.0</td>\n",
       "      <td>-0.001090</td>\n",
       "      <td>0.0</td>\n",
       "      <td>-0.006067</td>\n",
       "      <td>0.000000</td>\n",
       "      <td>0.001924</td>\n",
       "      <td>...</td>\n",
       "      <td>0.0</td>\n",
       "      <td>-0.002414</td>\n",
       "      <td>0.0</td>\n",
       "      <td>0.002233</td>\n",
       "      <td>0.0</td>\n",
       "      <td>0.002590</td>\n",
       "      <td>0.0</td>\n",
       "      <td>-0.004778</td>\n",
       "      <td>0.0</td>\n",
       "      <td>0.003327</td>\n",
       "    </tr>\n",
       "  </tbody>\n",
       "</table>\n",
       "<p>5 rows × 1820 columns</p>\n",
       "</div>"
      ],
      "text/plain": [
       "   True_value  Forecasted_value  True_value  Forecasted_value  True_value  \\\n",
       "0         0.0         -0.008622         0.0         -0.004020         0.0   \n",
       "1         0.0         -0.003352         0.0         -0.001749         0.0   \n",
       "2         0.0         -0.003265         0.0         -0.003800         0.0   \n",
       "3         0.0         -0.002662         0.0         -0.003518         0.0   \n",
       "4         0.0         -0.003706         0.0         -0.004616         0.0   \n",
       "\n",
       "   Forecasted_value  True_value  Forecasted_value  True_value  \\\n",
       "0         -0.013600         0.0         -0.016808    0.000005   \n",
       "1         -0.005783         0.0          0.007102    0.064341   \n",
       "2         -0.001575         0.0          0.001654    0.000000   \n",
       "3          0.004136         0.0          0.011356    0.000000   \n",
       "4         -0.001090         0.0         -0.006067    0.000000   \n",
       "\n",
       "   Forecasted_value  ...  True_value  Forecasted_value  True_value  \\\n",
       "0         -0.003117  ...         0.0         -0.007105         0.0   \n",
       "1          0.000372  ...         0.0          0.000033         0.0   \n",
       "2         -0.000544  ...         0.0         -0.004479         0.0   \n",
       "3          0.001134  ...         0.0         -0.001618         0.0   \n",
       "4          0.001924  ...         0.0         -0.002414         0.0   \n",
       "\n",
       "   Forecasted_value  True_value  Forecasted_value  True_value  \\\n",
       "0         -0.012972         0.0         -0.008735         0.0   \n",
       "1         -0.001411         0.0          0.000213         0.0   \n",
       "2         -0.006052         0.0         -0.002207         0.0   \n",
       "3          0.006355         0.0          0.001497         0.0   \n",
       "4          0.002233         0.0          0.002590         0.0   \n",
       "\n",
       "   Forecasted_value  True_value  Forecasted_value  \n",
       "0          0.002620         0.0          0.005498  \n",
       "1          0.000874         0.0          0.001592  \n",
       "2         -0.006147         0.0         -0.003249  \n",
       "3         -0.000994         0.0          0.003673  \n",
       "4         -0.004778         0.0          0.003327  \n",
       "\n",
       "[5 rows x 1820 columns]"
      ]
     },
     "execution_count": 20,
     "metadata": {},
     "output_type": "execute_result"
    }
   ],
   "source": [
    "combined_df.head()"
   ]
  },
  {
   "cell_type": "code",
   "execution_count": 21,
   "id": "77ebc554-fe99-4cea-9cb3-2d2b8329b7b8",
   "metadata": {},
   "outputs": [
    {
     "data": {
      "text/plain": [
       "(7, 1820)"
      ]
     },
     "execution_count": 21,
     "metadata": {},
     "output_type": "execute_result"
    }
   ],
   "source": [
    "combined_df.shape"
   ]
  },
  {
   "cell_type": "code",
   "execution_count": 22,
   "id": "cd7bd824-8dac-4284-b286-aafcd8cd7d43",
   "metadata": {},
   "outputs": [],
   "source": [
    "# get the true values\n",
    "True_values_df = combined_df[['True_value']]"
   ]
  },
  {
   "cell_type": "code",
   "execution_count": 23,
   "id": "20d0decc-e09d-494a-9ff8-2139aac7254b",
   "metadata": {},
   "outputs": [
    {
     "data": {
      "text/html": [
       "<div>\n",
       "<style scoped>\n",
       "    .dataframe tbody tr th:only-of-type {\n",
       "        vertical-align: middle;\n",
       "    }\n",
       "\n",
       "    .dataframe tbody tr th {\n",
       "        vertical-align: top;\n",
       "    }\n",
       "\n",
       "    .dataframe thead th {\n",
       "        text-align: right;\n",
       "    }\n",
       "</style>\n",
       "<table border=\"1\" class=\"dataframe\">\n",
       "  <thead>\n",
       "    <tr style=\"text-align: right;\">\n",
       "      <th></th>\n",
       "      <th>True_value</th>\n",
       "      <th>True_value</th>\n",
       "      <th>True_value</th>\n",
       "      <th>True_value</th>\n",
       "      <th>True_value</th>\n",
       "      <th>True_value</th>\n",
       "      <th>True_value</th>\n",
       "      <th>True_value</th>\n",
       "      <th>True_value</th>\n",
       "      <th>True_value</th>\n",
       "      <th>...</th>\n",
       "      <th>True_value</th>\n",
       "      <th>True_value</th>\n",
       "      <th>True_value</th>\n",
       "      <th>True_value</th>\n",
       "      <th>True_value</th>\n",
       "      <th>True_value</th>\n",
       "      <th>True_value</th>\n",
       "      <th>True_value</th>\n",
       "      <th>True_value</th>\n",
       "      <th>True_value</th>\n",
       "    </tr>\n",
       "  </thead>\n",
       "  <tbody>\n",
       "    <tr>\n",
       "      <th>0</th>\n",
       "      <td>0.0</td>\n",
       "      <td>0.0</td>\n",
       "      <td>0.0</td>\n",
       "      <td>0.0</td>\n",
       "      <td>0.000005</td>\n",
       "      <td>0.000668</td>\n",
       "      <td>1.044816e-07</td>\n",
       "      <td>0.0</td>\n",
       "      <td>0.0</td>\n",
       "      <td>0.0</td>\n",
       "      <td>...</td>\n",
       "      <td>0.0</td>\n",
       "      <td>0.000000e+00</td>\n",
       "      <td>0.000000</td>\n",
       "      <td>0.000000e+00</td>\n",
       "      <td>0.0</td>\n",
       "      <td>0.0</td>\n",
       "      <td>0.0</td>\n",
       "      <td>0.0</td>\n",
       "      <td>0.0</td>\n",
       "      <td>0.0</td>\n",
       "    </tr>\n",
       "    <tr>\n",
       "      <th>1</th>\n",
       "      <td>0.0</td>\n",
       "      <td>0.0</td>\n",
       "      <td>0.0</td>\n",
       "      <td>0.0</td>\n",
       "      <td>0.064341</td>\n",
       "      <td>0.087708</td>\n",
       "      <td>0.000000e+00</td>\n",
       "      <td>0.0</td>\n",
       "      <td>0.0</td>\n",
       "      <td>0.0</td>\n",
       "      <td>...</td>\n",
       "      <td>0.0</td>\n",
       "      <td>0.000000e+00</td>\n",
       "      <td>0.000000</td>\n",
       "      <td>0.000000e+00</td>\n",
       "      <td>0.0</td>\n",
       "      <td>0.0</td>\n",
       "      <td>0.0</td>\n",
       "      <td>0.0</td>\n",
       "      <td>0.0</td>\n",
       "      <td>0.0</td>\n",
       "    </tr>\n",
       "    <tr>\n",
       "      <th>2</th>\n",
       "      <td>0.0</td>\n",
       "      <td>0.0</td>\n",
       "      <td>0.0</td>\n",
       "      <td>0.0</td>\n",
       "      <td>0.000000</td>\n",
       "      <td>0.042056</td>\n",
       "      <td>1.144163e-02</td>\n",
       "      <td>0.0</td>\n",
       "      <td>0.0</td>\n",
       "      <td>0.0</td>\n",
       "      <td>...</td>\n",
       "      <td>0.0</td>\n",
       "      <td>7.683623e-10</td>\n",
       "      <td>0.000005</td>\n",
       "      <td>4.013955e-08</td>\n",
       "      <td>0.0</td>\n",
       "      <td>0.0</td>\n",
       "      <td>0.0</td>\n",
       "      <td>0.0</td>\n",
       "      <td>0.0</td>\n",
       "      <td>0.0</td>\n",
       "    </tr>\n",
       "    <tr>\n",
       "      <th>3</th>\n",
       "      <td>0.0</td>\n",
       "      <td>0.0</td>\n",
       "      <td>0.0</td>\n",
       "      <td>0.0</td>\n",
       "      <td>0.000000</td>\n",
       "      <td>0.000000</td>\n",
       "      <td>0.000000e+00</td>\n",
       "      <td>0.0</td>\n",
       "      <td>0.0</td>\n",
       "      <td>0.0</td>\n",
       "      <td>...</td>\n",
       "      <td>0.0</td>\n",
       "      <td>2.402785e-05</td>\n",
       "      <td>0.000649</td>\n",
       "      <td>8.526243e-09</td>\n",
       "      <td>0.0</td>\n",
       "      <td>0.0</td>\n",
       "      <td>0.0</td>\n",
       "      <td>0.0</td>\n",
       "      <td>0.0</td>\n",
       "      <td>0.0</td>\n",
       "    </tr>\n",
       "    <tr>\n",
       "      <th>4</th>\n",
       "      <td>0.0</td>\n",
       "      <td>0.0</td>\n",
       "      <td>0.0</td>\n",
       "      <td>0.0</td>\n",
       "      <td>0.000000</td>\n",
       "      <td>0.000000</td>\n",
       "      <td>0.000000e+00</td>\n",
       "      <td>0.0</td>\n",
       "      <td>0.0</td>\n",
       "      <td>0.0</td>\n",
       "      <td>...</td>\n",
       "      <td>0.0</td>\n",
       "      <td>7.268980e-04</td>\n",
       "      <td>0.003864</td>\n",
       "      <td>0.000000e+00</td>\n",
       "      <td>0.0</td>\n",
       "      <td>0.0</td>\n",
       "      <td>0.0</td>\n",
       "      <td>0.0</td>\n",
       "      <td>0.0</td>\n",
       "      <td>0.0</td>\n",
       "    </tr>\n",
       "  </tbody>\n",
       "</table>\n",
       "<p>5 rows × 910 columns</p>\n",
       "</div>"
      ],
      "text/plain": [
       "   True_value  True_value  True_value  True_value  True_value  True_value  \\\n",
       "0         0.0         0.0         0.0         0.0    0.000005    0.000668   \n",
       "1         0.0         0.0         0.0         0.0    0.064341    0.087708   \n",
       "2         0.0         0.0         0.0         0.0    0.000000    0.042056   \n",
       "3         0.0         0.0         0.0         0.0    0.000000    0.000000   \n",
       "4         0.0         0.0         0.0         0.0    0.000000    0.000000   \n",
       "\n",
       "     True_value  True_value  True_value  True_value  ...  True_value  \\\n",
       "0  1.044816e-07         0.0         0.0         0.0  ...         0.0   \n",
       "1  0.000000e+00         0.0         0.0         0.0  ...         0.0   \n",
       "2  1.144163e-02         0.0         0.0         0.0  ...         0.0   \n",
       "3  0.000000e+00         0.0         0.0         0.0  ...         0.0   \n",
       "4  0.000000e+00         0.0         0.0         0.0  ...         0.0   \n",
       "\n",
       "     True_value  True_value    True_value  True_value  True_value  True_value  \\\n",
       "0  0.000000e+00    0.000000  0.000000e+00         0.0         0.0         0.0   \n",
       "1  0.000000e+00    0.000000  0.000000e+00         0.0         0.0         0.0   \n",
       "2  7.683623e-10    0.000005  4.013955e-08         0.0         0.0         0.0   \n",
       "3  2.402785e-05    0.000649  8.526243e-09         0.0         0.0         0.0   \n",
       "4  7.268980e-04    0.003864  0.000000e+00         0.0         0.0         0.0   \n",
       "\n",
       "   True_value  True_value  True_value  \n",
       "0         0.0         0.0         0.0  \n",
       "1         0.0         0.0         0.0  \n",
       "2         0.0         0.0         0.0  \n",
       "3         0.0         0.0         0.0  \n",
       "4         0.0         0.0         0.0  \n",
       "\n",
       "[5 rows x 910 columns]"
      ]
     },
     "execution_count": 23,
     "metadata": {},
     "output_type": "execute_result"
    }
   ],
   "source": [
    "True_values_df.head()"
   ]
  },
  {
   "cell_type": "code",
   "execution_count": 24,
   "id": "7bf2ce55-e613-440c-98df-b3137476fda8",
   "metadata": {},
   "outputs": [
    {
     "data": {
      "text/plain": [
       "(7, 910)"
      ]
     },
     "execution_count": 24,
     "metadata": {},
     "output_type": "execute_result"
    }
   ],
   "source": [
    "True_values_df.shape"
   ]
  },
  {
   "cell_type": "code",
   "execution_count": 25,
   "id": "18e0219e-ee9c-4e29-a372-2b6290708941",
   "metadata": {},
   "outputs": [],
   "source": [
    "# get the proper counts?\n",
    "exp_true = np.exp(True_values_df)-1"
   ]
  },
  {
   "cell_type": "code",
   "execution_count": 26,
   "id": "a7319ca1-7b28-41f3-8b38-11863c1835e5",
   "metadata": {},
   "outputs": [
    {
     "data": {
      "text/html": [
       "<div>\n",
       "<style scoped>\n",
       "    .dataframe tbody tr th:only-of-type {\n",
       "        vertical-align: middle;\n",
       "    }\n",
       "\n",
       "    .dataframe tbody tr th {\n",
       "        vertical-align: top;\n",
       "    }\n",
       "\n",
       "    .dataframe thead th {\n",
       "        text-align: right;\n",
       "    }\n",
       "</style>\n",
       "<table border=\"1\" class=\"dataframe\">\n",
       "  <thead>\n",
       "    <tr style=\"text-align: right;\">\n",
       "      <th></th>\n",
       "      <th>True_value</th>\n",
       "      <th>True_value</th>\n",
       "      <th>True_value</th>\n",
       "      <th>True_value</th>\n",
       "      <th>True_value</th>\n",
       "      <th>True_value</th>\n",
       "      <th>True_value</th>\n",
       "      <th>True_value</th>\n",
       "      <th>True_value</th>\n",
       "      <th>True_value</th>\n",
       "      <th>...</th>\n",
       "      <th>True_value</th>\n",
       "      <th>True_value</th>\n",
       "      <th>True_value</th>\n",
       "      <th>True_value</th>\n",
       "      <th>True_value</th>\n",
       "      <th>True_value</th>\n",
       "      <th>True_value</th>\n",
       "      <th>True_value</th>\n",
       "      <th>True_value</th>\n",
       "      <th>True_value</th>\n",
       "    </tr>\n",
       "  </thead>\n",
       "  <tbody>\n",
       "    <tr>\n",
       "      <th>0</th>\n",
       "      <td>0.0</td>\n",
       "      <td>0.0</td>\n",
       "      <td>0.0</td>\n",
       "      <td>0.0</td>\n",
       "      <td>5.458158e-06</td>\n",
       "      <td>0.000668</td>\n",
       "      <td>1.044816e-07</td>\n",
       "      <td>0.0</td>\n",
       "      <td>0.0</td>\n",
       "      <td>0.0</td>\n",
       "      <td>...</td>\n",
       "      <td>0.000000</td>\n",
       "      <td>0.000000e+00</td>\n",
       "      <td>0.000000</td>\n",
       "      <td>0.000000e+00</td>\n",
       "      <td>0.0</td>\n",
       "      <td>0.0</td>\n",
       "      <td>0.0</td>\n",
       "      <td>0.0</td>\n",
       "      <td>0.0</td>\n",
       "      <td>0.0</td>\n",
       "    </tr>\n",
       "    <tr>\n",
       "      <th>1</th>\n",
       "      <td>0.0</td>\n",
       "      <td>0.0</td>\n",
       "      <td>0.0</td>\n",
       "      <td>0.0</td>\n",
       "      <td>6.645597e-02</td>\n",
       "      <td>0.091669</td>\n",
       "      <td>0.000000e+00</td>\n",
       "      <td>0.0</td>\n",
       "      <td>0.0</td>\n",
       "      <td>0.0</td>\n",
       "      <td>...</td>\n",
       "      <td>0.000000</td>\n",
       "      <td>0.000000e+00</td>\n",
       "      <td>0.000000</td>\n",
       "      <td>0.000000e+00</td>\n",
       "      <td>0.0</td>\n",
       "      <td>0.0</td>\n",
       "      <td>0.0</td>\n",
       "      <td>0.0</td>\n",
       "      <td>0.0</td>\n",
       "      <td>0.0</td>\n",
       "    </tr>\n",
       "    <tr>\n",
       "      <th>2</th>\n",
       "      <td>0.0</td>\n",
       "      <td>0.0</td>\n",
       "      <td>0.0</td>\n",
       "      <td>0.0</td>\n",
       "      <td>0.000000e+00</td>\n",
       "      <td>0.042952</td>\n",
       "      <td>1.150733e-02</td>\n",
       "      <td>0.0</td>\n",
       "      <td>0.0</td>\n",
       "      <td>0.0</td>\n",
       "      <td>...</td>\n",
       "      <td>0.000000</td>\n",
       "      <td>7.683623e-10</td>\n",
       "      <td>0.000005</td>\n",
       "      <td>4.013955e-08</td>\n",
       "      <td>0.0</td>\n",
       "      <td>0.0</td>\n",
       "      <td>0.0</td>\n",
       "      <td>0.0</td>\n",
       "      <td>0.0</td>\n",
       "      <td>0.0</td>\n",
       "    </tr>\n",
       "    <tr>\n",
       "      <th>3</th>\n",
       "      <td>0.0</td>\n",
       "      <td>0.0</td>\n",
       "      <td>0.0</td>\n",
       "      <td>0.0</td>\n",
       "      <td>0.000000e+00</td>\n",
       "      <td>0.000000</td>\n",
       "      <td>0.000000e+00</td>\n",
       "      <td>0.0</td>\n",
       "      <td>0.0</td>\n",
       "      <td>0.0</td>\n",
       "      <td>...</td>\n",
       "      <td>0.000000</td>\n",
       "      <td>2.402814e-05</td>\n",
       "      <td>0.000650</td>\n",
       "      <td>8.526243e-09</td>\n",
       "      <td>0.0</td>\n",
       "      <td>0.0</td>\n",
       "      <td>0.0</td>\n",
       "      <td>0.0</td>\n",
       "      <td>0.0</td>\n",
       "      <td>0.0</td>\n",
       "    </tr>\n",
       "    <tr>\n",
       "      <th>4</th>\n",
       "      <td>0.0</td>\n",
       "      <td>0.0</td>\n",
       "      <td>0.0</td>\n",
       "      <td>0.0</td>\n",
       "      <td>0.000000e+00</td>\n",
       "      <td>0.000000</td>\n",
       "      <td>0.000000e+00</td>\n",
       "      <td>0.0</td>\n",
       "      <td>0.0</td>\n",
       "      <td>0.0</td>\n",
       "      <td>...</td>\n",
       "      <td>0.000000</td>\n",
       "      <td>7.271623e-04</td>\n",
       "      <td>0.003871</td>\n",
       "      <td>0.000000e+00</td>\n",
       "      <td>0.0</td>\n",
       "      <td>0.0</td>\n",
       "      <td>0.0</td>\n",
       "      <td>0.0</td>\n",
       "      <td>0.0</td>\n",
       "      <td>0.0</td>\n",
       "    </tr>\n",
       "    <tr>\n",
       "      <th>5</th>\n",
       "      <td>0.0</td>\n",
       "      <td>0.0</td>\n",
       "      <td>0.0</td>\n",
       "      <td>0.0</td>\n",
       "      <td>6.876971e-07</td>\n",
       "      <td>0.022043</td>\n",
       "      <td>5.086000e-04</td>\n",
       "      <td>0.0</td>\n",
       "      <td>0.0</td>\n",
       "      <td>0.0</td>\n",
       "      <td>...</td>\n",
       "      <td>0.000000</td>\n",
       "      <td>2.217396e-03</td>\n",
       "      <td>0.005884</td>\n",
       "      <td>0.000000e+00</td>\n",
       "      <td>0.0</td>\n",
       "      <td>0.0</td>\n",
       "      <td>0.0</td>\n",
       "      <td>0.0</td>\n",
       "      <td>0.0</td>\n",
       "      <td>0.0</td>\n",
       "    </tr>\n",
       "    <tr>\n",
       "      <th>6</th>\n",
       "      <td>0.0</td>\n",
       "      <td>0.0</td>\n",
       "      <td>0.0</td>\n",
       "      <td>0.0</td>\n",
       "      <td>0.000000e+00</td>\n",
       "      <td>0.000000</td>\n",
       "      <td>0.000000e+00</td>\n",
       "      <td>0.0</td>\n",
       "      <td>0.0</td>\n",
       "      <td>0.0</td>\n",
       "      <td>...</td>\n",
       "      <td>0.022043</td>\n",
       "      <td>9.133409e-06</td>\n",
       "      <td>0.054010</td>\n",
       "      <td>4.412074e-04</td>\n",
       "      <td>0.0</td>\n",
       "      <td>0.0</td>\n",
       "      <td>0.0</td>\n",
       "      <td>0.0</td>\n",
       "      <td>0.0</td>\n",
       "      <td>0.0</td>\n",
       "    </tr>\n",
       "  </tbody>\n",
       "</table>\n",
       "<p>7 rows × 910 columns</p>\n",
       "</div>"
      ],
      "text/plain": [
       "   True_value  True_value  True_value  True_value    True_value  True_value  \\\n",
       "0         0.0         0.0         0.0         0.0  5.458158e-06    0.000668   \n",
       "1         0.0         0.0         0.0         0.0  6.645597e-02    0.091669   \n",
       "2         0.0         0.0         0.0         0.0  0.000000e+00    0.042952   \n",
       "3         0.0         0.0         0.0         0.0  0.000000e+00    0.000000   \n",
       "4         0.0         0.0         0.0         0.0  0.000000e+00    0.000000   \n",
       "5         0.0         0.0         0.0         0.0  6.876971e-07    0.022043   \n",
       "6         0.0         0.0         0.0         0.0  0.000000e+00    0.000000   \n",
       "\n",
       "     True_value  True_value  True_value  True_value  ...  True_value  \\\n",
       "0  1.044816e-07         0.0         0.0         0.0  ...    0.000000   \n",
       "1  0.000000e+00         0.0         0.0         0.0  ...    0.000000   \n",
       "2  1.150733e-02         0.0         0.0         0.0  ...    0.000000   \n",
       "3  0.000000e+00         0.0         0.0         0.0  ...    0.000000   \n",
       "4  0.000000e+00         0.0         0.0         0.0  ...    0.000000   \n",
       "5  5.086000e-04         0.0         0.0         0.0  ...    0.000000   \n",
       "6  0.000000e+00         0.0         0.0         0.0  ...    0.022043   \n",
       "\n",
       "     True_value  True_value    True_value  True_value  True_value  True_value  \\\n",
       "0  0.000000e+00    0.000000  0.000000e+00         0.0         0.0         0.0   \n",
       "1  0.000000e+00    0.000000  0.000000e+00         0.0         0.0         0.0   \n",
       "2  7.683623e-10    0.000005  4.013955e-08         0.0         0.0         0.0   \n",
       "3  2.402814e-05    0.000650  8.526243e-09         0.0         0.0         0.0   \n",
       "4  7.271623e-04    0.003871  0.000000e+00         0.0         0.0         0.0   \n",
       "5  2.217396e-03    0.005884  0.000000e+00         0.0         0.0         0.0   \n",
       "6  9.133409e-06    0.054010  4.412074e-04         0.0         0.0         0.0   \n",
       "\n",
       "   True_value  True_value  True_value  \n",
       "0         0.0         0.0         0.0  \n",
       "1         0.0         0.0         0.0  \n",
       "2         0.0         0.0         0.0  \n",
       "3         0.0         0.0         0.0  \n",
       "4         0.0         0.0         0.0  \n",
       "5         0.0         0.0         0.0  \n",
       "6         0.0         0.0         0.0  \n",
       "\n",
       "[7 rows x 910 columns]"
      ]
     },
     "execution_count": 26,
     "metadata": {},
     "output_type": "execute_result"
    }
   ],
   "source": [
    "exp_true"
   ]
  },
  {
   "cell_type": "code",
   "execution_count": 27,
   "id": "fbc09b78-d34e-434e-8232-ee3be25766e9",
   "metadata": {},
   "outputs": [],
   "source": [
    "# sum the true values - since the sub images are not overlapping, we can get the sum across columns in the above dataframe\n",
    "sum_true_values = exp_true.sum(axis = 1)"
   ]
  },
  {
   "cell_type": "code",
   "execution_count": 28,
   "id": "6057a433-4dfb-4804-bbac-ea3dacce11e6",
   "metadata": {},
   "outputs": [
    {
     "data": {
      "text/plain": [
       "0    40.000661\n",
       "1    39.000002\n",
       "2    41.000000\n",
       "3    31.000000\n",
       "4    32.000000\n",
       "5    40.002086\n",
       "6    27.000176\n",
       "dtype: float64"
      ]
     },
     "execution_count": 28,
     "metadata": {},
     "output_type": "execute_result"
    }
   ],
   "source": [
    "sum_true_values"
   ]
  },
  {
   "cell_type": "code",
   "execution_count": 29,
   "id": "2fc2ac3e-59e7-4f27-91ab-31d30b4eeaa7",
   "metadata": {},
   "outputs": [],
   "source": [
    "# # get the forecasted values\n",
    "# Forecasted_values_df = combined_df[['Forecasted_value']]"
   ]
  },
  {
   "cell_type": "code",
   "execution_count": 30,
   "id": "4d4182a4-7ede-4ffc-b952-08aa47d424d0",
   "metadata": {},
   "outputs": [],
   "source": [
    "# Forecasted_values_df.head()"
   ]
  },
  {
   "cell_type": "code",
   "execution_count": 31,
   "id": "c4e2130b-9b6b-40b7-9efe-4cd6cd30c107",
   "metadata": {},
   "outputs": [],
   "source": [
    "# exp_forecasted = np.exp(Forecasted_values_df)-1"
   ]
  },
  {
   "cell_type": "code",
   "execution_count": 32,
   "id": "60cd0006-0367-436e-b3c8-282e12e01146",
   "metadata": {},
   "outputs": [],
   "source": [
    "# exp_forecasted"
   ]
  },
  {
   "cell_type": "code",
   "execution_count": 33,
   "id": "cdc66bd6-b552-4dcd-9703-e07b035fb736",
   "metadata": {},
   "outputs": [],
   "source": [
    "# set the values to 0 if the forecasted count is negative?"
   ]
  },
  {
   "cell_type": "code",
   "execution_count": 34,
   "id": "56eddb77-a48e-409d-9684-10bb31132568",
   "metadata": {},
   "outputs": [],
   "source": [
    "# exp_forecasted[exp_forecasted < 0] = 0"
   ]
  },
  {
   "cell_type": "code",
   "execution_count": 35,
   "id": "c96eedde-fcfa-4f54-b8cb-d5f5cb3d6493",
   "metadata": {},
   "outputs": [],
   "source": [
    "# exp_forecasted.head()"
   ]
  },
  {
   "cell_type": "code",
   "execution_count": 36,
   "id": "92bcf82f-ca31-4b25-a919-c8d51d72cfa7",
   "metadata": {},
   "outputs": [],
   "source": [
    "# sum_forecasted_values = exp_forecasted.sum(axis = 1)"
   ]
  },
  {
   "cell_type": "code",
   "execution_count": 37,
   "id": "7f0e1119-a3bd-4a52-ae36-afa2c2070e2b",
   "metadata": {},
   "outputs": [],
   "source": [
    "# sum_forecasted_values"
   ]
  },
  {
   "cell_type": "code",
   "execution_count": 38,
   "id": "f87a1ac0-4ec0-4821-b28a-3a4e3b50b532",
   "metadata": {},
   "outputs": [],
   "source": [
    "# now what about the predicted values? we have stored these in terms of npy files, let's see how we can figure out to get the predicted values"
   ]
  },
  {
   "cell_type": "code",
   "execution_count": 39,
   "id": "45499dfd-3219-48cb-907e-d54e405f9405",
   "metadata": {},
   "outputs": [],
   "source": [
    "all_forecasts_npy_files = []\n",
    "for file in os.listdir(path_to_dfs):\n",
    "    if file[:13] == 'all_forecasts':\n",
    "        all_forecasts_npy_files.append(file)"
   ]
  },
  {
   "cell_type": "code",
   "execution_count": 40,
   "id": "e3e9d1a4-845e-4dd8-927d-9ab43f257ce7",
   "metadata": {},
   "outputs": [
    {
     "data": {
      "text/plain": [
       "910"
      ]
     },
     "execution_count": 40,
     "metadata": {},
     "output_type": "execute_result"
    }
   ],
   "source": [
    "len(all_forecasts_npy_files)"
   ]
  },
  {
   "cell_type": "code",
   "execution_count": 41,
   "id": "ebec3737-5f88-4d6f-9863-76599d76de65",
   "metadata": {},
   "outputs": [
    {
     "data": {
      "text/plain": [
       "'all_forecasts_sub_273.npy'"
      ]
     },
     "execution_count": 41,
     "metadata": {},
     "output_type": "execute_result"
    }
   ],
   "source": [
    "all_forecasts_npy_files[0]"
   ]
  },
  {
   "cell_type": "code",
   "execution_count": 42,
   "id": "94eb2acf-77f2-4a02-8564-ca79c5e00a8f",
   "metadata": {},
   "outputs": [],
   "source": [
    "sub_273_forecasts = np.load(os.path.join(path_to_dfs, all_forecasts_npy_files[0]))"
   ]
  },
  {
   "cell_type": "code",
   "execution_count": 43,
   "id": "15a9483c-06f1-4cc9-9b63-b1234b8000a8",
   "metadata": {},
   "outputs": [
    {
     "data": {
      "text/plain": [
       "(1000, 4, 7)"
      ]
     },
     "execution_count": 43,
     "metadata": {},
     "output_type": "execute_result"
    }
   ],
   "source": [
    "sub_273_forecasts.shape"
   ]
  },
  {
   "cell_type": "code",
   "execution_count": 44,
   "id": "2646851d-c0f9-404e-a1c5-96aa502c4918",
   "metadata": {},
   "outputs": [],
   "source": [
    "# Okay, we have the values for the 7 test periods corresponding to the subwindow 273"
   ]
  },
  {
   "cell_type": "code",
   "execution_count": 45,
   "id": "6b56cab4-b9ea-4cc8-9220-5d5cc7dcfeb5",
   "metadata": {},
   "outputs": [],
   "source": [
    "# we need to first transform the values?"
   ]
  },
  {
   "cell_type": "code",
   "execution_count": 46,
   "id": "e23b964f-c3c6-424c-ab65-f73c682046df",
   "metadata": {},
   "outputs": [],
   "source": [
    "sub_273_forecasts = np.exp(sub_273_forecasts) - 1"
   ]
  },
  {
   "cell_type": "code",
   "execution_count": 47,
   "id": "449098bb-b14a-474e-b7fa-f01326e1acbb",
   "metadata": {},
   "outputs": [
    {
     "data": {
      "text/plain": [
       "(-0.5817418, 1.3388767)"
      ]
     },
     "execution_count": 47,
     "metadata": {},
     "output_type": "execute_result"
    }
   ],
   "source": [
    "sub_273_forecasts.min(), sub_273_forecasts.max()"
   ]
  },
  {
   "cell_type": "code",
   "execution_count": 48,
   "id": "1730efce-14c0-4879-9fa0-66ff31f0e64e",
   "metadata": {},
   "outputs": [],
   "source": [
    "# get rid of anything below zero?\n",
    "sub_273_forecasts[sub_273_forecasts < 0] = 0"
   ]
  },
  {
   "cell_type": "code",
   "execution_count": 49,
   "id": "6b52d382-5391-4c7e-907e-a84d6c5f12bb",
   "metadata": {},
   "outputs": [],
   "source": [
    "# sub_273_forecasts"
   ]
  },
  {
   "cell_type": "code",
   "execution_count": 50,
   "id": "37338940-47af-4b66-aca4-dacf0b81814b",
   "metadata": {},
   "outputs": [],
   "source": [
    "# We can now take the average?"
   ]
  },
  {
   "cell_type": "code",
   "execution_count": 51,
   "id": "38e1ee86-b790-4672-8d70-4e2f6c1147a5",
   "metadata": {},
   "outputs": [],
   "source": [
    "sub_273_forecasts_averged = np.mean(sub_273_forecasts, axis = (0,1))"
   ]
  },
  {
   "cell_type": "code",
   "execution_count": 52,
   "id": "212a629f-3021-4247-ad24-d24b9eba098f",
   "metadata": {},
   "outputs": [
    {
     "data": {
      "text/plain": [
       "(7,)"
      ]
     },
     "execution_count": 52,
     "metadata": {},
     "output_type": "execute_result"
    }
   ],
   "source": [
    "sub_273_forecasts_averged.shape"
   ]
  },
  {
   "cell_type": "code",
   "execution_count": 53,
   "id": "1b31c1bd-620e-4bdd-ba7a-678c3fb3f781",
   "metadata": {},
   "outputs": [
    {
     "data": {
      "text/plain": [
       "array([0.08164553, 0.0923226 , 0.10251123, 0.08284499, 0.07603387,\n",
       "       0.08263696, 0.07563087], dtype=float32)"
      ]
     },
     "execution_count": 53,
     "metadata": {},
     "output_type": "execute_result"
    }
   ],
   "source": [
    "sub_273_forecasts_averged"
   ]
  },
  {
   "cell_type": "code",
   "execution_count": 54,
   "id": "4d6eb049-d766-4eab-8825-77d8b580ca35",
   "metadata": {},
   "outputs": [
    {
     "data": {
      "text/plain": [
       "72.8"
      ]
     },
     "execution_count": 54,
     "metadata": {},
     "output_type": "execute_result"
    }
   ],
   "source": [
    "0.08*910"
   ]
  },
  {
   "cell_type": "code",
   "execution_count": 55,
   "id": "5589a744-5545-42dc-a842-d51804cb84f7",
   "metadata": {},
   "outputs": [
    {
     "data": {
      "text/plain": [
       "(1000, 4, 7)"
      ]
     },
     "execution_count": 55,
     "metadata": {},
     "output_type": "execute_result"
    }
   ],
   "source": [
    "sub_273_forecasts.shape"
   ]
  },
  {
   "cell_type": "code",
   "execution_count": 56,
   "id": "a80a8317-3500-4dee-b61f-b43e32be1de8",
   "metadata": {},
   "outputs": [
    {
     "name": "stdout",
     "output_type": "stream",
     "text": [
      "0.08164551\n",
      "0.092322685\n",
      "0.10251129\n",
      "0.08284498\n",
      "0.07603386\n",
      "0.08263696\n",
      "0.075630836\n"
     ]
    }
   ],
   "source": [
    "# sanity check\n",
    "for i in range(sub_273_forecasts.shape[-1]):\n",
    "    track = sub_273_forecasts[:,:,i]\n",
    "    print(np.mean(track))"
   ]
  },
  {
   "cell_type": "code",
   "execution_count": 57,
   "id": "b2827984-1ff1-430a-b7c6-6db8ab9e63f6",
   "metadata": {},
   "outputs": [],
   "source": [
    "# Okay, this is what we need, but what do we need at the end? we need this to happen to all the 910 subwindows and get the means - collect these in a list first?"
   ]
  },
  {
   "cell_type": "code",
   "execution_count": 58,
   "id": "6d961eb3-3bf9-4a61-895f-265de2c0fd61",
   "metadata": {},
   "outputs": [],
   "source": [
    "# all_forecasts_sub_273"
   ]
  },
  {
   "cell_type": "code",
   "execution_count": 59,
   "id": "d94f71ba-1c70-4b67-b433-37934206f229",
   "metadata": {},
   "outputs": [
    {
     "name": "stdout",
     "output_type": "stream",
     "text": [
      "CPU times: user 838 ms, sys: 400 ms, total: 1.24 s\n",
      "Wall time: 19 s\n"
     ]
    }
   ],
   "source": [
    "%%time\n",
    "catch_all_averaged_preds = []\n",
    "for i in range(910):\n",
    "    file_name = \"all_forecasts_sub_\" + str(i) + '.npy'\n",
    "    al_forecasts_npy_file = np.load(os.path.join(path_to_dfs, file_name))\n",
    "    # make the conversion\n",
    "    sub_window_forecasts = np.exp(al_forecasts_npy_file) - 1\n",
    "    # get rid of anything below zero?\n",
    "    sub_window_forecasts[sub_window_forecasts < 0] = 0\n",
    "    # get averages over time \n",
    "    sub_window_forecasts_averaged = np.mean(sub_window_forecasts, axis = (0,1))\n",
    "    catch_all_averaged_preds.append(sub_window_forecasts_averaged)    "
   ]
  },
  {
   "cell_type": "code",
   "execution_count": 60,
   "id": "0c93822f-fab1-4dfc-96c4-d549d89f87df",
   "metadata": {},
   "outputs": [
    {
     "data": {
      "text/plain": [
       "910"
      ]
     },
     "execution_count": 60,
     "metadata": {},
     "output_type": "execute_result"
    }
   ],
   "source": [
    "len(catch_all_averaged_preds)"
   ]
  },
  {
   "cell_type": "code",
   "execution_count": 61,
   "id": "fd5e546a-89db-4e54-bba2-3d8b3da398af",
   "metadata": {},
   "outputs": [
    {
     "data": {
      "text/plain": [
       "array([0.00169627, 0.00161518, 0.00126217, 0.0022443 , 0.00151563,\n",
       "       0.00195062, 0.00083114], dtype=float32)"
      ]
     },
     "execution_count": 61,
     "metadata": {},
     "output_type": "execute_result"
    }
   ],
   "source": [
    "catch_all_averaged_preds[0]"
   ]
  },
  {
   "cell_type": "code",
   "execution_count": 62,
   "id": "777a0ef1-ce0b-4363-8c6a-a0e3813476e3",
   "metadata": {},
   "outputs": [],
   "source": [
    "# make this a dataframe"
   ]
  },
  {
   "cell_type": "code",
   "execution_count": 63,
   "id": "92388442-7a7b-4900-8a47-7ccdef9857f7",
   "metadata": {},
   "outputs": [],
   "source": [
    "Forecasted_values_df = pd.DataFrame(catch_all_averaged_preds).T"
   ]
  },
  {
   "cell_type": "code",
   "execution_count": 64,
   "id": "c5a88a1f-108a-4d40-a91a-55fe7fcf2156",
   "metadata": {},
   "outputs": [
    {
     "data": {
      "text/plain": [
       "(7, 910)"
      ]
     },
     "execution_count": 64,
     "metadata": {},
     "output_type": "execute_result"
    }
   ],
   "source": [
    "Forecasted_values_df.shape"
   ]
  },
  {
   "cell_type": "code",
   "execution_count": 65,
   "id": "20f51f39-4940-43a7-bcdb-0579acbd623d",
   "metadata": {},
   "outputs": [],
   "source": [
    "sum_forecasted_values = Forecasted_values_df.sum(axis = 1)"
   ]
  },
  {
   "cell_type": "code",
   "execution_count": 66,
   "id": "25ed654d-e833-441c-acda-46be67efc5b2",
   "metadata": {},
   "outputs": [
    {
     "data": {
      "text/plain": [
       "0    43.733818\n",
       "1    44.922043\n",
       "2    45.957558\n",
       "3    45.613464\n",
       "4    42.409554\n",
       "5    45.361618\n",
       "6    46.526291\n",
       "dtype: float32"
      ]
     },
     "execution_count": 66,
     "metadata": {},
     "output_type": "execute_result"
    }
   ],
   "source": [
    "sum_forecasted_values"
   ]
  },
  {
   "cell_type": "code",
   "execution_count": 67,
   "id": "815cd8c5-b5ce-493e-b85e-6e6cb9fceca8",
   "metadata": {},
   "outputs": [],
   "source": [
    "# These results are absurd, let's stick to what we had done before, we can justify that, this is what we did for comps as well"
   ]
  },
  {
   "cell_type": "code",
   "execution_count": 68,
   "id": "cbc06a7e-2dca-400d-9cea-d063c33a4442",
   "metadata": {},
   "outputs": [],
   "source": [
    "# concatenate the sum dataframes\n",
    "block_0103_true_and_forecasted_values_df = pd.concat((sum_true_values, sum_forecasted_values), axis = 1)"
   ]
  },
  {
   "cell_type": "code",
   "execution_count": 69,
   "id": "f667f3a6-d7f7-4e7c-a037-1e9541dd38bd",
   "metadata": {},
   "outputs": [],
   "source": [
    "block_0103_true_and_forecasted_values_df.columns = [\"True_count\", \"Forecasted_count\"]"
   ]
  },
  {
   "cell_type": "code",
   "execution_count": 70,
   "id": "d27b93db-c9e2-49ff-9003-9e4925de3179",
   "metadata": {},
   "outputs": [
    {
     "data": {
      "text/html": [
       "<div>\n",
       "<style scoped>\n",
       "    .dataframe tbody tr th:only-of-type {\n",
       "        vertical-align: middle;\n",
       "    }\n",
       "\n",
       "    .dataframe tbody tr th {\n",
       "        vertical-align: top;\n",
       "    }\n",
       "\n",
       "    .dataframe thead th {\n",
       "        text-align: right;\n",
       "    }\n",
       "</style>\n",
       "<table border=\"1\" class=\"dataframe\">\n",
       "  <thead>\n",
       "    <tr style=\"text-align: right;\">\n",
       "      <th></th>\n",
       "      <th>True_count</th>\n",
       "      <th>Forecasted_count</th>\n",
       "    </tr>\n",
       "  </thead>\n",
       "  <tbody>\n",
       "    <tr>\n",
       "      <th>0</th>\n",
       "      <td>40.000661</td>\n",
       "      <td>43.733818</td>\n",
       "    </tr>\n",
       "    <tr>\n",
       "      <th>1</th>\n",
       "      <td>39.000002</td>\n",
       "      <td>44.922043</td>\n",
       "    </tr>\n",
       "    <tr>\n",
       "      <th>2</th>\n",
       "      <td>41.000000</td>\n",
       "      <td>45.957558</td>\n",
       "    </tr>\n",
       "    <tr>\n",
       "      <th>3</th>\n",
       "      <td>31.000000</td>\n",
       "      <td>45.613464</td>\n",
       "    </tr>\n",
       "    <tr>\n",
       "      <th>4</th>\n",
       "      <td>32.000000</td>\n",
       "      <td>42.409554</td>\n",
       "    </tr>\n",
       "    <tr>\n",
       "      <th>5</th>\n",
       "      <td>40.002086</td>\n",
       "      <td>45.361618</td>\n",
       "    </tr>\n",
       "    <tr>\n",
       "      <th>6</th>\n",
       "      <td>27.000176</td>\n",
       "      <td>46.526291</td>\n",
       "    </tr>\n",
       "  </tbody>\n",
       "</table>\n",
       "</div>"
      ],
      "text/plain": [
       "   True_count  Forecasted_count\n",
       "0   40.000661         43.733818\n",
       "1   39.000002         44.922043\n",
       "2   41.000000         45.957558\n",
       "3   31.000000         45.613464\n",
       "4   32.000000         42.409554\n",
       "5   40.002086         45.361618\n",
       "6   27.000176         46.526291"
      ]
     },
     "execution_count": 70,
     "metadata": {},
     "output_type": "execute_result"
    }
   ],
   "source": [
    "block_0103_true_and_forecasted_values_df"
   ]
  },
  {
   "cell_type": "code",
   "execution_count": 71,
   "id": "636d512d-f76b-48dc-90f1-872dc6a32736",
   "metadata": {},
   "outputs": [
    {
     "data": {
      "text/plain": [
       "10.727070647707581"
      ]
     },
     "execution_count": 71,
     "metadata": {},
     "output_type": "execute_result"
    }
   ],
   "source": [
    "# blockwise mean squared error\n",
    "rmse = np.sqrt(mean_squared_error(sum_true_values, sum_forecasted_values))\n",
    "rmse"
   ]
  },
  {
   "cell_type": "code",
   "execution_count": 72,
   "id": "df568443-7d02-4ba8-ad0e-5d83f2576c8b",
   "metadata": {},
   "outputs": [
    {
     "data": {
      "text/plain": [
       "9.217345912796526"
      ]
     },
     "execution_count": 72,
     "metadata": {},
     "output_type": "execute_result"
    }
   ],
   "source": [
    "# blockwise mean absolute error\n",
    "mae = mean_absolute_error(sum_true_values, sum_forecasted_values)\n",
    "mae"
   ]
  },
  {
   "cell_type": "code",
   "execution_count": 73,
   "id": "24d1568b-1b0d-41db-a60b-cd864b46d6e7",
   "metadata": {},
   "outputs": [
    {
     "data": {
      "text/plain": [
       "PearsonRResult(statistic=-0.11875755281992463, pvalue=0.7998095864133132)"
      ]
     },
     "execution_count": 73,
     "metadata": {},
     "output_type": "execute_result"
    }
   ],
   "source": [
    "corr = pearsonr(sum_true_values, sum_forecasted_values)\n",
    "corr"
   ]
  },
  {
   "cell_type": "code",
   "execution_count": 74,
   "id": "cf8101a2-be23-4216-afd7-f7783e56f62d",
   "metadata": {},
   "outputs": [
    {
     "data": {
      "text/plain": [
       "-3.2971156545436866"
      ]
     },
     "execution_count": 74,
     "metadata": {},
     "output_type": "execute_result"
    }
   ],
   "source": [
    "r2 = r2_score(sum_true_values, sum_forecasted_values)\n",
    "r2"
   ]
  },
  {
   "cell_type": "markdown",
   "id": "fa460e4d-2fdc-45fb-8f50-6a50b0a6ef13",
   "metadata": {},
   "source": [
    "##### Coverages and widths for the forecasted values?"
   ]
  },
  {
   "cell_type": "code",
   "execution_count": 75,
   "id": "eae4e334-d06f-4950-b09e-ec34cb4f3eba",
   "metadata": {},
   "outputs": [],
   "source": [
    "# for this we need the all_forecasts npy files"
   ]
  },
  {
   "cell_type": "code",
   "execution_count": 76,
   "id": "1ec4f3fa-b7b0-4064-9007-4230b0e64f72",
   "metadata": {},
   "outputs": [],
   "source": [
    "# content location is the same path as above"
   ]
  },
  {
   "cell_type": "code",
   "execution_count": 77,
   "id": "febb8655-c529-4099-b22e-ee36918188d5",
   "metadata": {},
   "outputs": [],
   "source": [
    "all_forecasts_npy_files = ['all_forecasts_sub_' + str(i) + '.npy' for i in range(910)]"
   ]
  },
  {
   "cell_type": "code",
   "execution_count": 78,
   "id": "11eba5f0-5a18-4d7d-a743-d57bc9cf93a4",
   "metadata": {},
   "outputs": [],
   "source": [
    "# all_forecasts_npy_files"
   ]
  },
  {
   "cell_type": "code",
   "execution_count": 79,
   "id": "7711dd37-fd3c-4ac8-b8ae-b4be59dff7fa",
   "metadata": {},
   "outputs": [],
   "source": [
    "# load the npy files"
   ]
  },
  {
   "cell_type": "code",
   "execution_count": 80,
   "id": "57f059e1-25b1-4e6d-b370-9ca0236848ea",
   "metadata": {},
   "outputs": [
    {
     "name": "stdout",
     "output_type": "stream",
     "text": [
      "CPU times: user 226 ms, sys: 68.6 ms, total: 295 ms\n",
      "Wall time: 296 ms\n"
     ]
    }
   ],
   "source": [
    "%%time\n",
    "loaded_npy_files = []\n",
    "for file in all_forecasts_npy_files:\n",
    "    joined_path = os.path.join(path_to_dfs, file)\n",
    "    load_file = np.load(joined_path)\n",
    "    # notice we are averaging the preds across the chains before exponentiation\n",
    "    mean_file = np.mean(np.exp(load_file)-1, axis = 1)\n",
    "    loaded_npy_files.append(mean_file)"
   ]
  },
  {
   "cell_type": "code",
   "execution_count": 81,
   "id": "78d4c420-8e99-4103-881e-297bc81f909d",
   "metadata": {},
   "outputs": [
    {
     "data": {
      "text/plain": [
       "910"
      ]
     },
     "execution_count": 81,
     "metadata": {},
     "output_type": "execute_result"
    }
   ],
   "source": [
    "len(loaded_npy_files)"
   ]
  },
  {
   "cell_type": "code",
   "execution_count": 82,
   "id": "3cc8627a-822a-4c8e-898a-52957870ccde",
   "metadata": {},
   "outputs": [
    {
     "data": {
      "text/plain": [
       "(1000, 7)"
      ]
     },
     "execution_count": 82,
     "metadata": {},
     "output_type": "execute_result"
    }
   ],
   "source": [
    "loaded_npy_files[0].shape"
   ]
  },
  {
   "cell_type": "code",
   "execution_count": 83,
   "id": "ab72ca92-e8f1-4ce3-9cea-117b673d4529",
   "metadata": {},
   "outputs": [
    {
     "data": {
      "text/plain": [
       "array([[-0.00876924, -0.00061992, -0.00194126, ..., -0.00091828,\n",
       "         0.00088531,  0.00243217],\n",
       "       [-0.00797768,  0.00034763, -0.00131817, ..., -0.00030068,\n",
       "         0.00065526,  0.00162242],\n",
       "       [-0.00839591, -0.00028192, -0.00119868, ..., -0.00135809,\n",
       "         0.00037268,  0.00127789],\n",
       "       ...,\n",
       "       [-0.00631392, -0.00240481, -0.00290792, ..., -0.00231236,\n",
       "        -0.00023603, -0.0013926 ],\n",
       "       [-0.00607492, -0.0027983 , -0.00271569, ..., -0.00195439,\n",
       "        -0.00183576, -0.00111689],\n",
       "       [-0.00458051, -0.00143459, -0.00271823, ..., -0.00073634,\n",
       "         0.00019646, -0.00154836]], dtype=float32)"
      ]
     },
     "execution_count": 83,
     "metadata": {},
     "output_type": "execute_result"
    }
   ],
   "source": [
    "loaded_npy_files[0]"
   ]
  },
  {
   "cell_type": "code",
   "execution_count": 84,
   "id": "53dd5c88-918c-46a0-b5ae-cb7c75895741",
   "metadata": {},
   "outputs": [
    {
     "name": "stdout",
     "output_type": "stream",
     "text": [
      "CPU times: user 20.7 ms, sys: 469 µs, total: 21.2 ms\n",
      "Wall time: 20.5 ms\n"
     ]
    }
   ],
   "source": [
    "%%time\n",
    "# convert less than 0 entries to 0 for all arrays\n",
    "for arr in loaded_npy_files:\n",
    "    arr[arr < 0] = 0"
   ]
  },
  {
   "cell_type": "code",
   "execution_count": 85,
   "id": "b20d4662-eefc-41bc-ac0a-25d0613fa00c",
   "metadata": {},
   "outputs": [
    {
     "data": {
      "text/plain": [
       "array([[0.        , 0.        , 0.        , ..., 0.        , 0.00088531,\n",
       "        0.00243217],\n",
       "       [0.        , 0.00034763, 0.        , ..., 0.        , 0.00065526,\n",
       "        0.00162242],\n",
       "       [0.        , 0.        , 0.        , ..., 0.        , 0.00037268,\n",
       "        0.00127789],\n",
       "       ...,\n",
       "       [0.        , 0.        , 0.        , ..., 0.        , 0.        ,\n",
       "        0.        ],\n",
       "       [0.        , 0.        , 0.        , ..., 0.        , 0.        ,\n",
       "        0.        ],\n",
       "       [0.        , 0.        , 0.        , ..., 0.        , 0.00019646,\n",
       "        0.        ]], dtype=float32)"
      ]
     },
     "execution_count": 85,
     "metadata": {},
     "output_type": "execute_result"
    }
   ],
   "source": [
    "loaded_npy_files[0]"
   ]
  },
  {
   "cell_type": "code",
   "execution_count": 86,
   "id": "f2474bdb-3a79-4436-83b1-2b3c3ac24a5c",
   "metadata": {},
   "outputs": [],
   "source": [
    "# Since we do not have overlapping sub-windows, we can sum the counts to get the final densities\n",
    "output = sum(loaded_npy_files)"
   ]
  },
  {
   "cell_type": "code",
   "execution_count": 87,
   "id": "d9038206-4f90-4001-9c3c-aee27d7d610c",
   "metadata": {},
   "outputs": [
    {
     "data": {
      "text/plain": [
       "(1000, 7)"
      ]
     },
     "execution_count": 87,
     "metadata": {},
     "output_type": "execute_result"
    }
   ],
   "source": [
    "output.shape"
   ]
  },
  {
   "cell_type": "code",
   "execution_count": 88,
   "id": "6116babf-18f2-4e39-9a72-150ccc4e6387",
   "metadata": {},
   "outputs": [
    {
     "data": {
      "text/plain": [
       "array([[36.170033, 35.09473 , 41.479733, ..., 35.22434 , 40.315983,\n",
       "        39.531998],\n",
       "       [29.426046, 35.537834, 40.204376, ..., 28.80155 , 36.37031 ,\n",
       "        37.905968],\n",
       "       [38.790268, 38.581387, 41.294716, ..., 35.183037, 44.163937,\n",
       "        40.650425],\n",
       "       ...,\n",
       "       [36.021954, 35.935085, 39.306652, ..., 37.015182, 43.76191 ,\n",
       "        55.611115],\n",
       "       [35.327427, 34.70806 , 41.858982, ..., 46.76209 , 42.03935 ,\n",
       "        51.225815],\n",
       "       [35.62523 , 36.48005 , 39.935177, ..., 35.175346, 41.8648  ,\n",
       "        44.085682]], dtype=float32)"
      ]
     },
     "execution_count": 88,
     "metadata": {},
     "output_type": "execute_result"
    }
   ],
   "source": [
    "output"
   ]
  },
  {
   "cell_type": "code",
   "execution_count": 89,
   "id": "fbac31f0-215b-4e8b-8c13-2cd85e76a70f",
   "metadata": {},
   "outputs": [],
   "source": [
    "# is this sum correct? alternative method of computing the sums\n",
    "output_alt = np.sum(loaded_npy_files, axis = 0)"
   ]
  },
  {
   "cell_type": "code",
   "execution_count": 90,
   "id": "1198a1a0-14fc-4101-b4af-14a2c26dc0c5",
   "metadata": {},
   "outputs": [
    {
     "data": {
      "text/plain": [
       "(1000, 7)"
      ]
     },
     "execution_count": 90,
     "metadata": {},
     "output_type": "execute_result"
    }
   ],
   "source": [
    "output_alt.shape"
   ]
  },
  {
   "cell_type": "code",
   "execution_count": 91,
   "id": "23c6ebbe-2c27-47ff-8a5f-86491e58d899",
   "metadata": {},
   "outputs": [
    {
     "data": {
      "text/plain": [
       "array([[36.170033, 35.09473 , 41.479733, ..., 35.22434 , 40.315983,\n",
       "        39.531998],\n",
       "       [29.426046, 35.537834, 40.204376, ..., 28.80155 , 36.37031 ,\n",
       "        37.905968],\n",
       "       [38.790268, 38.581387, 41.294716, ..., 35.183037, 44.163937,\n",
       "        40.650425],\n",
       "       ...,\n",
       "       [36.021954, 35.935085, 39.306652, ..., 37.015182, 43.76191 ,\n",
       "        55.611115],\n",
       "       [35.327427, 34.70806 , 41.858982, ..., 46.76209 , 42.03935 ,\n",
       "        51.225815],\n",
       "       [35.62523 , 36.48005 , 39.935177, ..., 35.175346, 41.8648  ,\n",
       "        44.085682]], dtype=float32)"
      ]
     },
     "execution_count": 91,
     "metadata": {},
     "output_type": "execute_result"
    }
   ],
   "source": [
    "output_alt"
   ]
  },
  {
   "cell_type": "code",
   "execution_count": 92,
   "id": "7b4a8d85-fe98-49c3-9a9f-51fbd90c5174",
   "metadata": {},
   "outputs": [
    {
     "data": {
      "text/plain": [
       "1.0"
      ]
     },
     "execution_count": 92,
     "metadata": {},
     "output_type": "execute_result"
    }
   ],
   "source": [
    "np.mean(output_alt == output)"
   ]
  },
  {
   "cell_type": "code",
   "execution_count": 93,
   "id": "ba6418a3-03f4-475a-b552-55a08048311f",
   "metadata": {},
   "outputs": [],
   "source": [
    "# verified the sum is correct, let's get the widths and the coverages - and also any essential plots"
   ]
  },
  {
   "cell_type": "code",
   "execution_count": 94,
   "id": "ca61eabc-63ed-4b74-b20a-61521b3751a6",
   "metadata": {},
   "outputs": [],
   "source": [
    "# now we can get the 2.5th abd the 97.5th percentiles - to get the coverage and the widths of the CIS\n",
    "li_train = np.percentile(output, axis = 0, q = (2.5, 97.5))[0,:].reshape(-1,1)    \n",
    "ui_train = np.percentile(output, axis = 0, q = (2.5, 97.5))[1,:].reshape(-1,1)"
   ]
  },
  {
   "cell_type": "code",
   "execution_count": 95,
   "id": "9cad5cca-320d-4e70-b204-e4dc52fb9d6d",
   "metadata": {},
   "outputs": [
    {
     "data": {
      "text/plain": [
       "array([[24.52577586],\n",
       "       [26.28485403],\n",
       "       [26.40830731],\n",
       "       [23.12304401],\n",
       "       [21.9777564 ],\n",
       "       [23.43797007],\n",
       "       [23.55978279]])"
      ]
     },
     "execution_count": 95,
     "metadata": {},
     "output_type": "execute_result"
    }
   ],
   "source": [
    "li_train"
   ]
  },
  {
   "cell_type": "code",
   "execution_count": 96,
   "id": "4e669c1d-0916-4e77-92e2-a1b1879834aa",
   "metadata": {},
   "outputs": [
    {
     "data": {
      "text/plain": [
       "array([[43.16204624],\n",
       "       [46.75854492],\n",
       "       [50.34642677],\n",
       "       [50.30541849],\n",
       "       [47.22667408],\n",
       "       [50.39683132],\n",
       "       [53.35977144]])"
      ]
     },
     "execution_count": 96,
     "metadata": {},
     "output_type": "execute_result"
    }
   ],
   "source": [
    "ui_train"
   ]
  },
  {
   "cell_type": "code",
   "execution_count": 97,
   "id": "4d51a483-bfe5-4cc6-a31f-813cb83d5540",
   "metadata": {},
   "outputs": [],
   "source": [
    "width_train = ui_train - li_train\n",
    "avg_width_train = width_train.mean(0)[0]"
   ]
  },
  {
   "cell_type": "code",
   "execution_count": 98,
   "id": "37b163bb-b24c-4af2-8f2b-19c78eb24ff9",
   "metadata": {},
   "outputs": [
    {
     "data": {
      "text/plain": [
       "24.60546039853777"
      ]
     },
     "execution_count": 98,
     "metadata": {},
     "output_type": "execute_result"
    }
   ],
   "source": [
    "avg_width_train"
   ]
  },
  {
   "cell_type": "code",
   "execution_count": 99,
   "id": "46d652b2-05be-44f9-bf0d-3ff69ad25fed",
   "metadata": {},
   "outputs": [],
   "source": [
    "y_traina = block_0103_true_and_forecasted_values_df[[\"True_count\"]].values"
   ]
  },
  {
   "cell_type": "code",
   "execution_count": 100,
   "id": "5f1ba54d-0aca-494d-b741-b2cd6d00fcb3",
   "metadata": {},
   "outputs": [],
   "source": [
    "ind_train = (y_traina >= li_train) & (y_traina <= ui_train)\n",
    "coverage_train= ind_train.mean(0)[0]"
   ]
  },
  {
   "cell_type": "code",
   "execution_count": 101,
   "id": "66d5a7c9-0400-4f6f-9221-9cb9c7860d3c",
   "metadata": {},
   "outputs": [
    {
     "data": {
      "text/plain": [
       "1.0"
      ]
     },
     "execution_count": 101,
     "metadata": {},
     "output_type": "execute_result"
    }
   ],
   "source": [
    "coverage_train"
   ]
  },
  {
   "cell_type": "code",
   "execution_count": 102,
   "id": "20de2680-8cfd-46f7-8230-9c5b0f9a3bef",
   "metadata": {},
   "outputs": [
    {
     "data": {
      "text/plain": [
       "array([[40.00066073],\n",
       "       [39.0000016 ],\n",
       "       [41.00000005],\n",
       "       [30.99999992],\n",
       "       [31.99999951],\n",
       "       [40.00208609],\n",
       "       [27.00017611]])"
      ]
     },
     "execution_count": 102,
     "metadata": {},
     "output_type": "execute_result"
    }
   ],
   "source": [
    "y_traina"
   ]
  },
  {
   "cell_type": "code",
   "execution_count": 103,
   "id": "ce86b870-01cf-4e10-904b-ef2396d2dc47",
   "metadata": {},
   "outputs": [
    {
     "data": {
      "text/plain": [
       "array([33.047493, 35.232513, 36.8881  , 34.425915, 31.439775, 34.844475,\n",
       "       35.17559 ], dtype=float32)"
      ]
     },
     "execution_count": 103,
     "metadata": {},
     "output_type": "execute_result"
    }
   ],
   "source": [
    "np.mean(output, axis = 0)"
   ]
  },
  {
   "cell_type": "code",
   "execution_count": 104,
   "id": "311beb4f-6347-407c-af9b-bfe285361098",
   "metadata": {},
   "outputs": [
    {
     "data": {
      "text/plain": [
       "0    43.733818\n",
       "1    44.922043\n",
       "2    45.957558\n",
       "3    45.613464\n",
       "4    42.409554\n",
       "5    45.361618\n",
       "6    46.526291\n",
       "dtype: float32"
      ]
     },
     "execution_count": 104,
     "metadata": {},
     "output_type": "execute_result"
    }
   ],
   "source": [
    "sum_forecasted_values"
   ]
  },
  {
   "cell_type": "code",
   "execution_count": 105,
   "id": "0f94ff2b-6606-477b-a3a7-c3841f436c56",
   "metadata": {},
   "outputs": [
    {
     "data": {
      "image/png": "[encoded data removed]",
      "text/plain": [
       "<Figure size 640x480 with 1 Axes>"
      ]
     },
     "metadata": {},
     "output_type": "display_data"
    }
   ],
   "source": [
    "plt.scatter(block_0103_true_and_forecasted_values_df['True_count'], block_0103_true_and_forecasted_values_df['Forecasted_count'])\n",
    "plt.xlabel(\"True density\")\n",
    "plt.ylabel(\"Predicted density\")\n",
    "# Add the y = x line\n",
    "plt.plot([25, 50], [25, 50], color='green', label='y = x')\n",
    "plt.legend()\n",
    "plt.show()"
   ]
  },
  {
   "cell_type": "code",
   "execution_count": 106,
   "id": "04aa778d-3203-493f-a8d5-6c42cd0c540a",
   "metadata": {},
   "outputs": [
    {
     "data": {
      "image/png": "[encoded data removed]",
      "text/plain": [
       "<Figure size 1500x2000 with 8 Axes>"
      ]
     },
     "metadata": {},
     "output_type": "display_data"
    },
    {
     "name": "stdout",
     "output_type": "stream",
     "text": [
      "CPU times: user 26.8 s, sys: 811 ms, total: 27.6 s\n",
      "Wall time: 27.3 s\n"
     ]
    }
   ],
   "source": [
    "%%time\n",
    "# Create a 2x4 grid of subplots (total 8 plots, the last one will be left empty)\n",
    "fig, axes = plt.subplots(4, 2, figsize=(15,20))\n",
    "axes = axes.flatten() \n",
    "\n",
    "# widths plots\n",
    "for i in range(7):\n",
    "    timestep_i_subwindows = []\n",
    "    for y, file in enumerate(loaded_npy_files):\n",
    "        t_i_forecast = file[:,i]\n",
    "        # print the shape of the extracted array\n",
    "        # print(t_i_forecast.shape)\n",
    "        timestep_i_subwindows.append(t_i_forecast)\n",
    "    stacked_forecasts = np.stack(timestep_i_subwindows)\n",
    "    stacked_forecasts[stacked_forecasts<0] = 0\n",
    "    sorted_stacked_forecasts = np.sort(stacked_forecasts, axis = 1)\n",
    "    # get the values between the 2.5th and 97.5th percentile?\n",
    "    sorted_interval_data = sorted_stacked_forecasts[:,25:975]\n",
    "\n",
    "    # Plot for the current 2D array\n",
    "    for l, row in enumerate(sorted_interval_data):\n",
    "        axes[i].plot([l + 1] * len(row), row, 'o', markersize=1, color='teal', label='Distribution of forecasted values' if l == 0 else \"\")\n",
    "    \n",
    "    true_counts = exp_true.iloc[i,:].values\n",
    "\n",
    "    # # Overlay the 1D array values\n",
    "    axes[i].plot(np.arange(1, 911), true_counts, 'o', markersize=1, color='red', label='True density')\n",
    "    \n",
    "    # Customize x-ticks and labels\n",
    "    axes[i].set_xticks(np.arange(1, 911))\n",
    "    # axes[i].set_xticklabels([f'sub_window_{zz + 1}' for zz in range(910)], rotation=90, fontsize=13)\n",
    "    axes[i].set_xlabel(\"Sub windows\", fontsize=12, fontweight='bold')\n",
    "    axes[i].set_ylabel(\"Forecasted and true densities\", fontsize=12, fontweight='bold')\n",
    "    axes[i].set_title(f\"Test image {i + 1}\", fontsize=12, fontweight='bold')\n",
    "    axes[i].legend()\n",
    "\n",
    "\n",
    "# Hide the last (empty) subplot\n",
    "axes[-1].set_visible(False)\n",
    "\n",
    "# Adjust layout\n",
    "plt.tight_layout()\n",
    "\n",
    "# # Save the figure as a PDF file\n",
    "# plt.savefig(\"Previous_data/Forecasted_distributions_blk13.pdf\", format='pdf', bbox_inches='tight')\n",
    "plt.show()\n",
    "\n"
   ]
  },
  {
   "cell_type": "code",
   "execution_count": 107,
   "id": "b51d6a01-5c7a-4e37-be12-776053974e4d",
   "metadata": {},
   "outputs": [],
   "source": [
    "# plots are going to be too over-crowded as we now have 910 subwindows - might beed to talk to Dr. Ghosh to figure out a better way to give these plots"
   ]
  }
 ],
 "metadata": {
  "kernelspec": {
   "display_name": "Python (tfp_cpu_env)",
   "language": "python",
   "name": "tfp_cpu_env"
  },
  "language_info": {
   "codemirror_mode": {
    "name": "ipython",
    "version": 3
   },
   "file_extension": ".py",
   "mimetype": "text/x-python",
   "name": "python",
   "nbconvert_exporter": "python",
   "pygments_lexer": "ipython3",
   "version": "3.11.7"
  }
 },
 "nbformat": 4,
 "nbformat_minor": 5
}
