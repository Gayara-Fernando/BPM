{
 "cells": [
  {
   "cell_type": "code",
   "execution_count": 1,
   "id": "95479ff1-daa9-4a85-bee2-32d78b24506b",
   "metadata": {},
   "outputs": [],
   "source": [
    "import pandas as pd\n",
    "import numpy as np\n",
    "import matplotlib.pyplot as plt\n",
    "import os\n",
    "from sklearn.metrics import mean_absolute_error, mean_squared_error, r2_score\n",
    "from scipy.stats import pearsonr"
   ]
  },
  {
   "cell_type": "code",
   "execution_count": 2,
   "id": "d0c496d4-1b24-43dd-ab1b-b98d6eaef21b",
   "metadata": {},
   "outputs": [],
   "source": [
    "# path to dataframes\n",
    "path_to_dfs = \"data/BLAR_implementation/Block_0103/forecasted_counts/\""
   ]
  },
  {
   "cell_type": "code",
   "execution_count": 3,
   "id": "0c9c641d-4e5d-4c54-a235-c62cbdf13f8d",
   "metadata": {},
   "outputs": [],
   "source": [
    "# os.listdir(path_to_dfs)"
   ]
  },
  {
   "cell_type": "code",
   "execution_count": 4,
   "id": "5e5d1ebd-ac8c-4a2b-b33c-db3c4b477eae",
   "metadata": {},
   "outputs": [
    {
     "data": {
      "text/plain": [
       "6371"
      ]
     },
     "execution_count": 4,
     "metadata": {},
     "output_type": "execute_result"
    }
   ],
   "source": [
    "len(os.listdir(path_to_dfs))"
   ]
  },
  {
   "cell_type": "code",
   "execution_count": 5,
   "id": "3b80d752-5eb8-42c1-ad39-987ad3dbb001",
   "metadata": {},
   "outputs": [
    {
     "data": {
      "text/plain": [
       "7.0"
      ]
     },
     "execution_count": 5,
     "metadata": {},
     "output_type": "execute_result"
    }
   ],
   "source": [
    "6370/910"
   ]
  },
  {
   "cell_type": "code",
   "execution_count": 6,
   "id": "a0ac81e1-3049-44de-a2bf-4bf5a274ba45",
   "metadata": {},
   "outputs": [],
   "source": [
    "# seems each sub-window sequence have 7 things stored - what are all these?\n",
    "\n",
    "# the forecasted npy files\n",
    "# ar_sigma\n",
    "# noise_sigma\n",
    "# betas\n",
    "# rho\n",
    "# averaged forecasts\n",
    "# posterior parameter summaries - might need to pay a little attention here, the r_hat values are too high - think this should vary around 1? - but almost all the values are greater than 2."
   ]
  },
  {
   "cell_type": "code",
   "execution_count": 7,
   "id": "f9a4f497-2d9d-4b5c-9169-46b6ae6b9977",
   "metadata": {},
   "outputs": [],
   "source": [
    "averaged_forecasts_csvs = []\n",
    "for file in os.listdir(path_to_dfs):\n",
    "    if file[:8] =='averaged':\n",
    "        averaged_forecasts_csvs.append(file)"
   ]
  },
  {
   "cell_type": "code",
   "execution_count": 8,
   "id": "094e9614-b16f-45a2-aafc-d7884678eb44",
   "metadata": {},
   "outputs": [
    {
     "data": {
      "text/plain": [
       "910"
      ]
     },
     "execution_count": 8,
     "metadata": {},
     "output_type": "execute_result"
    }
   ],
   "source": [
    "# how many csv files do we have?\n",
    "len(averaged_forecasts_csvs)"
   ]
  },
  {
   "cell_type": "code",
   "execution_count": 9,
   "id": "7eca928b-bdbd-4d00-9eb1-8a808db7123e",
   "metadata": {},
   "outputs": [],
   "source": [
    "# averaged_forecasts_csvs - we probably need these in order for getting the respective predicted values"
   ]
  },
  {
   "cell_type": "code",
   "execution_count": 10,
   "id": "d0e11c68-824a-41ea-bf6b-65f53103343f",
   "metadata": {},
   "outputs": [
    {
     "data": {
      "text/plain": [
       "'averaged_forecasts_sub_653.csv'"
      ]
     },
     "execution_count": 10,
     "metadata": {},
     "output_type": "execute_result"
    }
   ],
   "source": [
    "averaged_forecasts_csvs[0]"
   ]
  },
  {
   "cell_type": "code",
   "execution_count": 11,
   "id": "f1f9e7be-53a6-4f38-b389-045d898b14ef",
   "metadata": {},
   "outputs": [],
   "source": [
    "# sorting them would not work as everything in the nomenclature of the files is a character - hence will not respect the numerical order"
   ]
  },
  {
   "cell_type": "code",
   "execution_count": 12,
   "id": "3cf616ee-4b4e-4ad9-ac1b-20aba081bfc5",
   "metadata": {},
   "outputs": [],
   "source": [
    "# let's create these names in the order of the subwindows\n",
    "ordered_csv_files = ['averaged_forecasts_sub_' + str(i) + '.csv' for i in range(910)]"
   ]
  },
  {
   "cell_type": "code",
   "execution_count": 13,
   "id": "7ac08389-4437-448b-b8a8-317cd0a9bf8e",
   "metadata": {},
   "outputs": [],
   "source": [
    "# ordered_csv_files"
   ]
  },
  {
   "cell_type": "code",
   "execution_count": 14,
   "id": "e74425d7-b613-44cf-96dd-df4298cef947",
   "metadata": {},
   "outputs": [],
   "source": [
    "# averaged_forecasts_csvs list is pointless at this time?"
   ]
  },
  {
   "cell_type": "code",
   "execution_count": 15,
   "id": "9a94c9ec-57cc-42fa-ad71-26639da44cb7",
   "metadata": {},
   "outputs": [
    {
     "name": "stdout",
     "output_type": "stream",
     "text": [
      "CPU times: user 473 ms, sys: 11.4 ms, total: 484 ms\n",
      "Wall time: 486 ms\n"
     ]
    }
   ],
   "source": [
    "%%time\n",
    "all_dfs = []\n",
    "for file in ordered_csv_files:\n",
    "    read_df = pd.read_csv(path_to_dfs + '/' + file)\n",
    "    all_dfs.append(read_df)"
   ]
  },
  {
   "cell_type": "code",
   "execution_count": 16,
   "id": "c04b6062-8fc9-4f3e-87f2-2a8e9abac16f",
   "metadata": {},
   "outputs": [],
   "source": [
    "# make a single dataframe out of the many\n",
    "combined_df = pd.concat(all_dfs, axis = 1)"
   ]
  },
  {
   "cell_type": "code",
   "execution_count": 17,
   "id": "5671cc95-7ba6-47bc-8da8-47ba9d3f36e3",
   "metadata": {},
   "outputs": [
    {
     "data": {
      "text/html": [
       "<div>\n",
       "<style scoped>\n",
       "    .dataframe tbody tr th:only-of-type {\n",
       "        vertical-align: middle;\n",
       "    }\n",
       "\n",
       "    .dataframe tbody tr th {\n",
       "        vertical-align: top;\n",
       "    }\n",
       "\n",
       "    .dataframe thead th {\n",
       "        text-align: right;\n",
       "    }\n",
       "</style>\n",
       "<table border=\"1\" class=\"dataframe\">\n",
       "  <thead>\n",
       "    <tr style=\"text-align: right;\">\n",
       "      <th></th>\n",
       "      <th>True_value</th>\n",
       "      <th>Forecasted_value</th>\n",
       "      <th>True_value</th>\n",
       "      <th>Forecasted_value</th>\n",
       "      <th>True_value</th>\n",
       "      <th>Forecasted_value</th>\n",
       "      <th>True_value</th>\n",
       "      <th>Forecasted_value</th>\n",
       "      <th>True_value</th>\n",
       "      <th>Forecasted_value</th>\n",
       "      <th>...</th>\n",
       "      <th>True_value</th>\n",
       "      <th>Forecasted_value</th>\n",
       "      <th>True_value</th>\n",
       "      <th>Forecasted_value</th>\n",
       "      <th>True_value</th>\n",
       "      <th>Forecasted_value</th>\n",
       "      <th>True_value</th>\n",
       "      <th>Forecasted_value</th>\n",
       "      <th>True_value</th>\n",
       "      <th>Forecasted_value</th>\n",
       "    </tr>\n",
       "  </thead>\n",
       "  <tbody>\n",
       "    <tr>\n",
       "      <th>0</th>\n",
       "      <td>0.0</td>\n",
       "      <td>-0.007279</td>\n",
       "      <td>0.0</td>\n",
       "      <td>0.001342</td>\n",
       "      <td>0.0</td>\n",
       "      <td>-0.014463</td>\n",
       "      <td>0.0</td>\n",
       "      <td>-0.006619</td>\n",
       "      <td>0.000005</td>\n",
       "      <td>-0.006840</td>\n",
       "      <td>...</td>\n",
       "      <td>0.0</td>\n",
       "      <td>-0.009194</td>\n",
       "      <td>0.0</td>\n",
       "      <td>-0.024609</td>\n",
       "      <td>0.0</td>\n",
       "      <td>-0.013291</td>\n",
       "      <td>0.0</td>\n",
       "      <td>0.006175</td>\n",
       "      <td>0.0</td>\n",
       "      <td>0.015136</td>\n",
       "    </tr>\n",
       "    <tr>\n",
       "      <th>1</th>\n",
       "      <td>0.0</td>\n",
       "      <td>-0.007449</td>\n",
       "      <td>0.0</td>\n",
       "      <td>-0.004507</td>\n",
       "      <td>0.0</td>\n",
       "      <td>-0.004461</td>\n",
       "      <td>0.0</td>\n",
       "      <td>0.010723</td>\n",
       "      <td>0.064341</td>\n",
       "      <td>0.000068</td>\n",
       "      <td>...</td>\n",
       "      <td>0.0</td>\n",
       "      <td>-0.003731</td>\n",
       "      <td>0.0</td>\n",
       "      <td>-0.000618</td>\n",
       "      <td>0.0</td>\n",
       "      <td>-0.000924</td>\n",
       "      <td>0.0</td>\n",
       "      <td>0.003867</td>\n",
       "      <td>0.0</td>\n",
       "      <td>0.005072</td>\n",
       "    </tr>\n",
       "    <tr>\n",
       "      <th>2</th>\n",
       "      <td>0.0</td>\n",
       "      <td>-0.005981</td>\n",
       "      <td>0.0</td>\n",
       "      <td>-0.007174</td>\n",
       "      <td>0.0</td>\n",
       "      <td>-0.000400</td>\n",
       "      <td>0.0</td>\n",
       "      <td>0.004464</td>\n",
       "      <td>0.000000</td>\n",
       "      <td>-0.001827</td>\n",
       "      <td>...</td>\n",
       "      <td>0.0</td>\n",
       "      <td>-0.008060</td>\n",
       "      <td>0.0</td>\n",
       "      <td>-0.010582</td>\n",
       "      <td>0.0</td>\n",
       "      <td>-0.002664</td>\n",
       "      <td>0.0</td>\n",
       "      <td>-0.015471</td>\n",
       "      <td>0.0</td>\n",
       "      <td>-0.003901</td>\n",
       "    </tr>\n",
       "    <tr>\n",
       "      <th>3</th>\n",
       "      <td>0.0</td>\n",
       "      <td>-0.005447</td>\n",
       "      <td>0.0</td>\n",
       "      <td>-0.006824</td>\n",
       "      <td>0.0</td>\n",
       "      <td>0.011465</td>\n",
       "      <td>0.0</td>\n",
       "      <td>0.021764</td>\n",
       "      <td>0.000000</td>\n",
       "      <td>0.001272</td>\n",
       "      <td>...</td>\n",
       "      <td>0.0</td>\n",
       "      <td>-0.004274</td>\n",
       "      <td>0.0</td>\n",
       "      <td>0.013196</td>\n",
       "      <td>0.0</td>\n",
       "      <td>0.003368</td>\n",
       "      <td>0.0</td>\n",
       "      <td>-0.002275</td>\n",
       "      <td>0.0</td>\n",
       "      <td>0.011471</td>\n",
       "    </tr>\n",
       "    <tr>\n",
       "      <th>4</th>\n",
       "      <td>0.0</td>\n",
       "      <td>-0.006981</td>\n",
       "      <td>0.0</td>\n",
       "      <td>-0.006054</td>\n",
       "      <td>0.0</td>\n",
       "      <td>0.004548</td>\n",
       "      <td>0.0</td>\n",
       "      <td>-0.011085</td>\n",
       "      <td>0.000000</td>\n",
       "      <td>0.002165</td>\n",
       "      <td>...</td>\n",
       "      <td>0.0</td>\n",
       "      <td>-0.001649</td>\n",
       "      <td>0.0</td>\n",
       "      <td>0.007829</td>\n",
       "      <td>0.0</td>\n",
       "      <td>0.003785</td>\n",
       "      <td>0.0</td>\n",
       "      <td>-0.009859</td>\n",
       "      <td>0.0</td>\n",
       "      <td>0.004498</td>\n",
       "    </tr>\n",
       "  </tbody>\n",
       "</table>\n",
       "<p>5 rows × 1820 columns</p>\n",
       "</div>"
      ],
      "text/plain": [
       "   True_value  Forecasted_value  True_value  Forecasted_value  True_value  \\\n",
       "0         0.0         -0.007279         0.0          0.001342         0.0   \n",
       "1         0.0         -0.007449         0.0         -0.004507         0.0   \n",
       "2         0.0         -0.005981         0.0         -0.007174         0.0   \n",
       "3         0.0         -0.005447         0.0         -0.006824         0.0   \n",
       "4         0.0         -0.006981         0.0         -0.006054         0.0   \n",
       "\n",
       "   Forecasted_value  True_value  Forecasted_value  True_value  \\\n",
       "0         -0.014463         0.0         -0.006619    0.000005   \n",
       "1         -0.004461         0.0          0.010723    0.064341   \n",
       "2         -0.000400         0.0          0.004464    0.000000   \n",
       "3          0.011465         0.0          0.021764    0.000000   \n",
       "4          0.004548         0.0         -0.011085    0.000000   \n",
       "\n",
       "   Forecasted_value  ...  True_value  Forecasted_value  True_value  \\\n",
       "0         -0.006840  ...         0.0         -0.009194         0.0   \n",
       "1          0.000068  ...         0.0         -0.003731         0.0   \n",
       "2         -0.001827  ...         0.0         -0.008060         0.0   \n",
       "3          0.001272  ...         0.0         -0.004274         0.0   \n",
       "4          0.002165  ...         0.0         -0.001649         0.0   \n",
       "\n",
       "   Forecasted_value  True_value  Forecasted_value  True_value  \\\n",
       "0         -0.024609         0.0         -0.013291         0.0   \n",
       "1         -0.000618         0.0         -0.000924         0.0   \n",
       "2         -0.010582         0.0         -0.002664         0.0   \n",
       "3          0.013196         0.0          0.003368         0.0   \n",
       "4          0.007829         0.0          0.003785         0.0   \n",
       "\n",
       "   Forecasted_value  True_value  Forecasted_value  \n",
       "0          0.006175         0.0          0.015136  \n",
       "1          0.003867         0.0          0.005072  \n",
       "2         -0.015471         0.0         -0.003901  \n",
       "3         -0.002275         0.0          0.011471  \n",
       "4         -0.009859         0.0          0.004498  \n",
       "\n",
       "[5 rows x 1820 columns]"
      ]
     },
     "execution_count": 17,
     "metadata": {},
     "output_type": "execute_result"
    }
   ],
   "source": [
    "combined_df.head()"
   ]
  },
  {
   "cell_type": "code",
   "execution_count": 18,
   "id": "77ebc554-fe99-4cea-9cb3-2d2b8329b7b8",
   "metadata": {},
   "outputs": [
    {
     "data": {
      "text/plain": [
       "(7, 1820)"
      ]
     },
     "execution_count": 18,
     "metadata": {},
     "output_type": "execute_result"
    }
   ],
   "source": [
    "combined_df.shape"
   ]
  },
  {
   "cell_type": "code",
   "execution_count": 19,
   "id": "cd7bd824-8dac-4284-b286-aafcd8cd7d43",
   "metadata": {},
   "outputs": [],
   "source": [
    "# get the true values\n",
    "True_values_df = combined_df[['True_value']]"
   ]
  },
  {
   "cell_type": "code",
   "execution_count": 20,
   "id": "20d0decc-e09d-494a-9ff8-2139aac7254b",
   "metadata": {},
   "outputs": [
    {
     "data": {
      "text/html": [
       "<div>\n",
       "<style scoped>\n",
       "    .dataframe tbody tr th:only-of-type {\n",
       "        vertical-align: middle;\n",
       "    }\n",
       "\n",
       "    .dataframe tbody tr th {\n",
       "        vertical-align: top;\n",
       "    }\n",
       "\n",
       "    .dataframe thead th {\n",
       "        text-align: right;\n",
       "    }\n",
       "</style>\n",
       "<table border=\"1\" class=\"dataframe\">\n",
       "  <thead>\n",
       "    <tr style=\"text-align: right;\">\n",
       "      <th></th>\n",
       "      <th>True_value</th>\n",
       "      <th>True_value</th>\n",
       "      <th>True_value</th>\n",
       "      <th>True_value</th>\n",
       "      <th>True_value</th>\n",
       "      <th>True_value</th>\n",
       "      <th>True_value</th>\n",
       "      <th>True_value</th>\n",
       "      <th>True_value</th>\n",
       "      <th>True_value</th>\n",
       "      <th>...</th>\n",
       "      <th>True_value</th>\n",
       "      <th>True_value</th>\n",
       "      <th>True_value</th>\n",
       "      <th>True_value</th>\n",
       "      <th>True_value</th>\n",
       "      <th>True_value</th>\n",
       "      <th>True_value</th>\n",
       "      <th>True_value</th>\n",
       "      <th>True_value</th>\n",
       "      <th>True_value</th>\n",
       "    </tr>\n",
       "  </thead>\n",
       "  <tbody>\n",
       "    <tr>\n",
       "      <th>0</th>\n",
       "      <td>0.0</td>\n",
       "      <td>0.0</td>\n",
       "      <td>0.0</td>\n",
       "      <td>0.0</td>\n",
       "      <td>0.000005</td>\n",
       "      <td>0.000668</td>\n",
       "      <td>1.044816e-07</td>\n",
       "      <td>0.0</td>\n",
       "      <td>0.0</td>\n",
       "      <td>0.0</td>\n",
       "      <td>...</td>\n",
       "      <td>0.0</td>\n",
       "      <td>0.000000e+00</td>\n",
       "      <td>0.000000</td>\n",
       "      <td>0.000000e+00</td>\n",
       "      <td>0.0</td>\n",
       "      <td>0.0</td>\n",
       "      <td>0.0</td>\n",
       "      <td>0.0</td>\n",
       "      <td>0.0</td>\n",
       "      <td>0.0</td>\n",
       "    </tr>\n",
       "    <tr>\n",
       "      <th>1</th>\n",
       "      <td>0.0</td>\n",
       "      <td>0.0</td>\n",
       "      <td>0.0</td>\n",
       "      <td>0.0</td>\n",
       "      <td>0.064341</td>\n",
       "      <td>0.087708</td>\n",
       "      <td>0.000000e+00</td>\n",
       "      <td>0.0</td>\n",
       "      <td>0.0</td>\n",
       "      <td>0.0</td>\n",
       "      <td>...</td>\n",
       "      <td>0.0</td>\n",
       "      <td>0.000000e+00</td>\n",
       "      <td>0.000000</td>\n",
       "      <td>0.000000e+00</td>\n",
       "      <td>0.0</td>\n",
       "      <td>0.0</td>\n",
       "      <td>0.0</td>\n",
       "      <td>0.0</td>\n",
       "      <td>0.0</td>\n",
       "      <td>0.0</td>\n",
       "    </tr>\n",
       "    <tr>\n",
       "      <th>2</th>\n",
       "      <td>0.0</td>\n",
       "      <td>0.0</td>\n",
       "      <td>0.0</td>\n",
       "      <td>0.0</td>\n",
       "      <td>0.000000</td>\n",
       "      <td>0.042056</td>\n",
       "      <td>1.144163e-02</td>\n",
       "      <td>0.0</td>\n",
       "      <td>0.0</td>\n",
       "      <td>0.0</td>\n",
       "      <td>...</td>\n",
       "      <td>0.0</td>\n",
       "      <td>7.683623e-10</td>\n",
       "      <td>0.000005</td>\n",
       "      <td>4.013955e-08</td>\n",
       "      <td>0.0</td>\n",
       "      <td>0.0</td>\n",
       "      <td>0.0</td>\n",
       "      <td>0.0</td>\n",
       "      <td>0.0</td>\n",
       "      <td>0.0</td>\n",
       "    </tr>\n",
       "    <tr>\n",
       "      <th>3</th>\n",
       "      <td>0.0</td>\n",
       "      <td>0.0</td>\n",
       "      <td>0.0</td>\n",
       "      <td>0.0</td>\n",
       "      <td>0.000000</td>\n",
       "      <td>0.000000</td>\n",
       "      <td>0.000000e+00</td>\n",
       "      <td>0.0</td>\n",
       "      <td>0.0</td>\n",
       "      <td>0.0</td>\n",
       "      <td>...</td>\n",
       "      <td>0.0</td>\n",
       "      <td>2.402785e-05</td>\n",
       "      <td>0.000649</td>\n",
       "      <td>8.526243e-09</td>\n",
       "      <td>0.0</td>\n",
       "      <td>0.0</td>\n",
       "      <td>0.0</td>\n",
       "      <td>0.0</td>\n",
       "      <td>0.0</td>\n",
       "      <td>0.0</td>\n",
       "    </tr>\n",
       "    <tr>\n",
       "      <th>4</th>\n",
       "      <td>0.0</td>\n",
       "      <td>0.0</td>\n",
       "      <td>0.0</td>\n",
       "      <td>0.0</td>\n",
       "      <td>0.000000</td>\n",
       "      <td>0.000000</td>\n",
       "      <td>0.000000e+00</td>\n",
       "      <td>0.0</td>\n",
       "      <td>0.0</td>\n",
       "      <td>0.0</td>\n",
       "      <td>...</td>\n",
       "      <td>0.0</td>\n",
       "      <td>7.268980e-04</td>\n",
       "      <td>0.003864</td>\n",
       "      <td>0.000000e+00</td>\n",
       "      <td>0.0</td>\n",
       "      <td>0.0</td>\n",
       "      <td>0.0</td>\n",
       "      <td>0.0</td>\n",
       "      <td>0.0</td>\n",
       "      <td>0.0</td>\n",
       "    </tr>\n",
       "  </tbody>\n",
       "</table>\n",
       "<p>5 rows × 910 columns</p>\n",
       "</div>"
      ],
      "text/plain": [
       "   True_value  True_value  True_value  True_value  True_value  True_value  \\\n",
       "0         0.0         0.0         0.0         0.0    0.000005    0.000668   \n",
       "1         0.0         0.0         0.0         0.0    0.064341    0.087708   \n",
       "2         0.0         0.0         0.0         0.0    0.000000    0.042056   \n",
       "3         0.0         0.0         0.0         0.0    0.000000    0.000000   \n",
       "4         0.0         0.0         0.0         0.0    0.000000    0.000000   \n",
       "\n",
       "     True_value  True_value  True_value  True_value  ...  True_value  \\\n",
       "0  1.044816e-07         0.0         0.0         0.0  ...         0.0   \n",
       "1  0.000000e+00         0.0         0.0         0.0  ...         0.0   \n",
       "2  1.144163e-02         0.0         0.0         0.0  ...         0.0   \n",
       "3  0.000000e+00         0.0         0.0         0.0  ...         0.0   \n",
       "4  0.000000e+00         0.0         0.0         0.0  ...         0.0   \n",
       "\n",
       "     True_value  True_value    True_value  True_value  True_value  True_value  \\\n",
       "0  0.000000e+00    0.000000  0.000000e+00         0.0         0.0         0.0   \n",
       "1  0.000000e+00    0.000000  0.000000e+00         0.0         0.0         0.0   \n",
       "2  7.683623e-10    0.000005  4.013955e-08         0.0         0.0         0.0   \n",
       "3  2.402785e-05    0.000649  8.526243e-09         0.0         0.0         0.0   \n",
       "4  7.268980e-04    0.003864  0.000000e+00         0.0         0.0         0.0   \n",
       "\n",
       "   True_value  True_value  True_value  \n",
       "0         0.0         0.0         0.0  \n",
       "1         0.0         0.0         0.0  \n",
       "2         0.0         0.0         0.0  \n",
       "3         0.0         0.0         0.0  \n",
       "4         0.0         0.0         0.0  \n",
       "\n",
       "[5 rows x 910 columns]"
      ]
     },
     "execution_count": 20,
     "metadata": {},
     "output_type": "execute_result"
    }
   ],
   "source": [
    "True_values_df.head()"
   ]
  },
  {
   "cell_type": "code",
   "execution_count": 21,
   "id": "7bf2ce55-e613-440c-98df-b3137476fda8",
   "metadata": {},
   "outputs": [
    {
     "data": {
      "text/plain": [
       "(7, 910)"
      ]
     },
     "execution_count": 21,
     "metadata": {},
     "output_type": "execute_result"
    }
   ],
   "source": [
    "True_values_df.shape"
   ]
  },
  {
   "cell_type": "code",
   "execution_count": 22,
   "id": "18e0219e-ee9c-4e29-a372-2b6290708941",
   "metadata": {},
   "outputs": [],
   "source": [
    "# get the proper counts?\n",
    "exp_true = np.exp(True_values_df)-1"
   ]
  },
  {
   "cell_type": "code",
   "execution_count": 23,
   "id": "a7319ca1-7b28-41f3-8b38-11863c1835e5",
   "metadata": {},
   "outputs": [
    {
     "data": {
      "text/html": [
       "<div>\n",
       "<style scoped>\n",
       "    .dataframe tbody tr th:only-of-type {\n",
       "        vertical-align: middle;\n",
       "    }\n",
       "\n",
       "    .dataframe tbody tr th {\n",
       "        vertical-align: top;\n",
       "    }\n",
       "\n",
       "    .dataframe thead th {\n",
       "        text-align: right;\n",
       "    }\n",
       "</style>\n",
       "<table border=\"1\" class=\"dataframe\">\n",
       "  <thead>\n",
       "    <tr style=\"text-align: right;\">\n",
       "      <th></th>\n",
       "      <th>True_value</th>\n",
       "      <th>True_value</th>\n",
       "      <th>True_value</th>\n",
       "      <th>True_value</th>\n",
       "      <th>True_value</th>\n",
       "      <th>True_value</th>\n",
       "      <th>True_value</th>\n",
       "      <th>True_value</th>\n",
       "      <th>True_value</th>\n",
       "      <th>True_value</th>\n",
       "      <th>...</th>\n",
       "      <th>True_value</th>\n",
       "      <th>True_value</th>\n",
       "      <th>True_value</th>\n",
       "      <th>True_value</th>\n",
       "      <th>True_value</th>\n",
       "      <th>True_value</th>\n",
       "      <th>True_value</th>\n",
       "      <th>True_value</th>\n",
       "      <th>True_value</th>\n",
       "      <th>True_value</th>\n",
       "    </tr>\n",
       "  </thead>\n",
       "  <tbody>\n",
       "    <tr>\n",
       "      <th>0</th>\n",
       "      <td>0.0</td>\n",
       "      <td>0.0</td>\n",
       "      <td>0.0</td>\n",
       "      <td>0.0</td>\n",
       "      <td>5.458158e-06</td>\n",
       "      <td>0.000668</td>\n",
       "      <td>1.044816e-07</td>\n",
       "      <td>0.0</td>\n",
       "      <td>0.0</td>\n",
       "      <td>0.0</td>\n",
       "      <td>...</td>\n",
       "      <td>0.000000</td>\n",
       "      <td>0.000000e+00</td>\n",
       "      <td>0.000000</td>\n",
       "      <td>0.000000e+00</td>\n",
       "      <td>0.0</td>\n",
       "      <td>0.0</td>\n",
       "      <td>0.0</td>\n",
       "      <td>0.0</td>\n",
       "      <td>0.0</td>\n",
       "      <td>0.0</td>\n",
       "    </tr>\n",
       "    <tr>\n",
       "      <th>1</th>\n",
       "      <td>0.0</td>\n",
       "      <td>0.0</td>\n",
       "      <td>0.0</td>\n",
       "      <td>0.0</td>\n",
       "      <td>6.645597e-02</td>\n",
       "      <td>0.091669</td>\n",
       "      <td>0.000000e+00</td>\n",
       "      <td>0.0</td>\n",
       "      <td>0.0</td>\n",
       "      <td>0.0</td>\n",
       "      <td>...</td>\n",
       "      <td>0.000000</td>\n",
       "      <td>0.000000e+00</td>\n",
       "      <td>0.000000</td>\n",
       "      <td>0.000000e+00</td>\n",
       "      <td>0.0</td>\n",
       "      <td>0.0</td>\n",
       "      <td>0.0</td>\n",
       "      <td>0.0</td>\n",
       "      <td>0.0</td>\n",
       "      <td>0.0</td>\n",
       "    </tr>\n",
       "    <tr>\n",
       "      <th>2</th>\n",
       "      <td>0.0</td>\n",
       "      <td>0.0</td>\n",
       "      <td>0.0</td>\n",
       "      <td>0.0</td>\n",
       "      <td>0.000000e+00</td>\n",
       "      <td>0.042952</td>\n",
       "      <td>1.150733e-02</td>\n",
       "      <td>0.0</td>\n",
       "      <td>0.0</td>\n",
       "      <td>0.0</td>\n",
       "      <td>...</td>\n",
       "      <td>0.000000</td>\n",
       "      <td>7.683623e-10</td>\n",
       "      <td>0.000005</td>\n",
       "      <td>4.013955e-08</td>\n",
       "      <td>0.0</td>\n",
       "      <td>0.0</td>\n",
       "      <td>0.0</td>\n",
       "      <td>0.0</td>\n",
       "      <td>0.0</td>\n",
       "      <td>0.0</td>\n",
       "    </tr>\n",
       "    <tr>\n",
       "      <th>3</th>\n",
       "      <td>0.0</td>\n",
       "      <td>0.0</td>\n",
       "      <td>0.0</td>\n",
       "      <td>0.0</td>\n",
       "      <td>0.000000e+00</td>\n",
       "      <td>0.000000</td>\n",
       "      <td>0.000000e+00</td>\n",
       "      <td>0.0</td>\n",
       "      <td>0.0</td>\n",
       "      <td>0.0</td>\n",
       "      <td>...</td>\n",
       "      <td>0.000000</td>\n",
       "      <td>2.402814e-05</td>\n",
       "      <td>0.000650</td>\n",
       "      <td>8.526243e-09</td>\n",
       "      <td>0.0</td>\n",
       "      <td>0.0</td>\n",
       "      <td>0.0</td>\n",
       "      <td>0.0</td>\n",
       "      <td>0.0</td>\n",
       "      <td>0.0</td>\n",
       "    </tr>\n",
       "    <tr>\n",
       "      <th>4</th>\n",
       "      <td>0.0</td>\n",
       "      <td>0.0</td>\n",
       "      <td>0.0</td>\n",
       "      <td>0.0</td>\n",
       "      <td>0.000000e+00</td>\n",
       "      <td>0.000000</td>\n",
       "      <td>0.000000e+00</td>\n",
       "      <td>0.0</td>\n",
       "      <td>0.0</td>\n",
       "      <td>0.0</td>\n",
       "      <td>...</td>\n",
       "      <td>0.000000</td>\n",
       "      <td>7.271623e-04</td>\n",
       "      <td>0.003871</td>\n",
       "      <td>0.000000e+00</td>\n",
       "      <td>0.0</td>\n",
       "      <td>0.0</td>\n",
       "      <td>0.0</td>\n",
       "      <td>0.0</td>\n",
       "      <td>0.0</td>\n",
       "      <td>0.0</td>\n",
       "    </tr>\n",
       "    <tr>\n",
       "      <th>5</th>\n",
       "      <td>0.0</td>\n",
       "      <td>0.0</td>\n",
       "      <td>0.0</td>\n",
       "      <td>0.0</td>\n",
       "      <td>6.876971e-07</td>\n",
       "      <td>0.022043</td>\n",
       "      <td>5.086000e-04</td>\n",
       "      <td>0.0</td>\n",
       "      <td>0.0</td>\n",
       "      <td>0.0</td>\n",
       "      <td>...</td>\n",
       "      <td>0.000000</td>\n",
       "      <td>2.217396e-03</td>\n",
       "      <td>0.005884</td>\n",
       "      <td>0.000000e+00</td>\n",
       "      <td>0.0</td>\n",
       "      <td>0.0</td>\n",
       "      <td>0.0</td>\n",
       "      <td>0.0</td>\n",
       "      <td>0.0</td>\n",
       "      <td>0.0</td>\n",
       "    </tr>\n",
       "    <tr>\n",
       "      <th>6</th>\n",
       "      <td>0.0</td>\n",
       "      <td>0.0</td>\n",
       "      <td>0.0</td>\n",
       "      <td>0.0</td>\n",
       "      <td>0.000000e+00</td>\n",
       "      <td>0.000000</td>\n",
       "      <td>0.000000e+00</td>\n",
       "      <td>0.0</td>\n",
       "      <td>0.0</td>\n",
       "      <td>0.0</td>\n",
       "      <td>...</td>\n",
       "      <td>0.022043</td>\n",
       "      <td>9.133409e-06</td>\n",
       "      <td>0.054010</td>\n",
       "      <td>4.412074e-04</td>\n",
       "      <td>0.0</td>\n",
       "      <td>0.0</td>\n",
       "      <td>0.0</td>\n",
       "      <td>0.0</td>\n",
       "      <td>0.0</td>\n",
       "      <td>0.0</td>\n",
       "    </tr>\n",
       "  </tbody>\n",
       "</table>\n",
       "<p>7 rows × 910 columns</p>\n",
       "</div>"
      ],
      "text/plain": [
       "   True_value  True_value  True_value  True_value    True_value  True_value  \\\n",
       "0         0.0         0.0         0.0         0.0  5.458158e-06    0.000668   \n",
       "1         0.0         0.0         0.0         0.0  6.645597e-02    0.091669   \n",
       "2         0.0         0.0         0.0         0.0  0.000000e+00    0.042952   \n",
       "3         0.0         0.0         0.0         0.0  0.000000e+00    0.000000   \n",
       "4         0.0         0.0         0.0         0.0  0.000000e+00    0.000000   \n",
       "5         0.0         0.0         0.0         0.0  6.876971e-07    0.022043   \n",
       "6         0.0         0.0         0.0         0.0  0.000000e+00    0.000000   \n",
       "\n",
       "     True_value  True_value  True_value  True_value  ...  True_value  \\\n",
       "0  1.044816e-07         0.0         0.0         0.0  ...    0.000000   \n",
       "1  0.000000e+00         0.0         0.0         0.0  ...    0.000000   \n",
       "2  1.150733e-02         0.0         0.0         0.0  ...    0.000000   \n",
       "3  0.000000e+00         0.0         0.0         0.0  ...    0.000000   \n",
       "4  0.000000e+00         0.0         0.0         0.0  ...    0.000000   \n",
       "5  5.086000e-04         0.0         0.0         0.0  ...    0.000000   \n",
       "6  0.000000e+00         0.0         0.0         0.0  ...    0.022043   \n",
       "\n",
       "     True_value  True_value    True_value  True_value  True_value  True_value  \\\n",
       "0  0.000000e+00    0.000000  0.000000e+00         0.0         0.0         0.0   \n",
       "1  0.000000e+00    0.000000  0.000000e+00         0.0         0.0         0.0   \n",
       "2  7.683623e-10    0.000005  4.013955e-08         0.0         0.0         0.0   \n",
       "3  2.402814e-05    0.000650  8.526243e-09         0.0         0.0         0.0   \n",
       "4  7.271623e-04    0.003871  0.000000e+00         0.0         0.0         0.0   \n",
       "5  2.217396e-03    0.005884  0.000000e+00         0.0         0.0         0.0   \n",
       "6  9.133409e-06    0.054010  4.412074e-04         0.0         0.0         0.0   \n",
       "\n",
       "   True_value  True_value  True_value  \n",
       "0         0.0         0.0         0.0  \n",
       "1         0.0         0.0         0.0  \n",
       "2         0.0         0.0         0.0  \n",
       "3         0.0         0.0         0.0  \n",
       "4         0.0         0.0         0.0  \n",
       "5         0.0         0.0         0.0  \n",
       "6         0.0         0.0         0.0  \n",
       "\n",
       "[7 rows x 910 columns]"
      ]
     },
     "execution_count": 23,
     "metadata": {},
     "output_type": "execute_result"
    }
   ],
   "source": [
    "exp_true"
   ]
  },
  {
   "cell_type": "code",
   "execution_count": 24,
   "id": "fbc09b78-d34e-434e-8232-ee3be25766e9",
   "metadata": {},
   "outputs": [],
   "source": [
    "# sum the true values - since the sub images are not overlapping, we can get the sum across columns in the above dataframe\n",
    "sum_true_values = exp_true.sum(axis = 1)"
   ]
  },
  {
   "cell_type": "code",
   "execution_count": 25,
   "id": "6057a433-4dfb-4804-bbac-ea3dacce11e6",
   "metadata": {},
   "outputs": [
    {
     "data": {
      "text/plain": [
       "0    40.000661\n",
       "1    39.000002\n",
       "2    41.000000\n",
       "3    31.000000\n",
       "4    32.000000\n",
       "5    40.002086\n",
       "6    27.000176\n",
       "dtype: float64"
      ]
     },
     "execution_count": 25,
     "metadata": {},
     "output_type": "execute_result"
    }
   ],
   "source": [
    "sum_true_values"
   ]
  },
  {
   "cell_type": "code",
   "execution_count": 26,
   "id": "2fc2ac3e-59e7-4f27-91ab-31d30b4eeaa7",
   "metadata": {},
   "outputs": [],
   "source": [
    "# get the forecasted values\n",
    "Forecasted_values_df = combined_df[['Forecasted_value']]"
   ]
  },
  {
   "cell_type": "code",
   "execution_count": 27,
   "id": "4d4182a4-7ede-4ffc-b952-08aa47d424d0",
   "metadata": {},
   "outputs": [
    {
     "data": {
      "text/html": [
       "<div>\n",
       "<style scoped>\n",
       "    .dataframe tbody tr th:only-of-type {\n",
       "        vertical-align: middle;\n",
       "    }\n",
       "\n",
       "    .dataframe tbody tr th {\n",
       "        vertical-align: top;\n",
       "    }\n",
       "\n",
       "    .dataframe thead th {\n",
       "        text-align: right;\n",
       "    }\n",
       "</style>\n",
       "<table border=\"1\" class=\"dataframe\">\n",
       "  <thead>\n",
       "    <tr style=\"text-align: right;\">\n",
       "      <th></th>\n",
       "      <th>Forecasted_value</th>\n",
       "      <th>Forecasted_value</th>\n",
       "      <th>Forecasted_value</th>\n",
       "      <th>Forecasted_value</th>\n",
       "      <th>Forecasted_value</th>\n",
       "      <th>Forecasted_value</th>\n",
       "      <th>Forecasted_value</th>\n",
       "      <th>Forecasted_value</th>\n",
       "      <th>Forecasted_value</th>\n",
       "      <th>Forecasted_value</th>\n",
       "      <th>...</th>\n",
       "      <th>Forecasted_value</th>\n",
       "      <th>Forecasted_value</th>\n",
       "      <th>Forecasted_value</th>\n",
       "      <th>Forecasted_value</th>\n",
       "      <th>Forecasted_value</th>\n",
       "      <th>Forecasted_value</th>\n",
       "      <th>Forecasted_value</th>\n",
       "      <th>Forecasted_value</th>\n",
       "      <th>Forecasted_value</th>\n",
       "      <th>Forecasted_value</th>\n",
       "    </tr>\n",
       "  </thead>\n",
       "  <tbody>\n",
       "    <tr>\n",
       "      <th>0</th>\n",
       "      <td>-0.007279</td>\n",
       "      <td>0.001342</td>\n",
       "      <td>-0.014463</td>\n",
       "      <td>-0.006619</td>\n",
       "      <td>-0.006840</td>\n",
       "      <td>0.088145</td>\n",
       "      <td>0.042620</td>\n",
       "      <td>0.047033</td>\n",
       "      <td>-0.007805</td>\n",
       "      <td>-0.005963</td>\n",
       "      <td>...</td>\n",
       "      <td>-0.024253</td>\n",
       "      <td>0.024533</td>\n",
       "      <td>-0.006370</td>\n",
       "      <td>0.011137</td>\n",
       "      <td>0.006874</td>\n",
       "      <td>-0.009194</td>\n",
       "      <td>-0.024609</td>\n",
       "      <td>-0.013291</td>\n",
       "      <td>0.006175</td>\n",
       "      <td>0.015136</td>\n",
       "    </tr>\n",
       "    <tr>\n",
       "      <th>1</th>\n",
       "      <td>-0.007449</td>\n",
       "      <td>-0.004507</td>\n",
       "      <td>-0.004461</td>\n",
       "      <td>0.010723</td>\n",
       "      <td>0.000068</td>\n",
       "      <td>0.085915</td>\n",
       "      <td>0.043575</td>\n",
       "      <td>0.048003</td>\n",
       "      <td>0.001213</td>\n",
       "      <td>-0.007135</td>\n",
       "      <td>...</td>\n",
       "      <td>-0.014604</td>\n",
       "      <td>0.015365</td>\n",
       "      <td>-0.002497</td>\n",
       "      <td>0.021797</td>\n",
       "      <td>0.000212</td>\n",
       "      <td>-0.003731</td>\n",
       "      <td>-0.000618</td>\n",
       "      <td>-0.000924</td>\n",
       "      <td>0.003867</td>\n",
       "      <td>0.005072</td>\n",
       "    </tr>\n",
       "    <tr>\n",
       "      <th>2</th>\n",
       "      <td>-0.005981</td>\n",
       "      <td>-0.007174</td>\n",
       "      <td>-0.000400</td>\n",
       "      <td>0.004464</td>\n",
       "      <td>-0.001827</td>\n",
       "      <td>0.088339</td>\n",
       "      <td>0.054926</td>\n",
       "      <td>0.038742</td>\n",
       "      <td>-0.005458</td>\n",
       "      <td>-0.007781</td>\n",
       "      <td>...</td>\n",
       "      <td>-0.012879</td>\n",
       "      <td>0.020280</td>\n",
       "      <td>0.012899</td>\n",
       "      <td>0.001947</td>\n",
       "      <td>-0.004645</td>\n",
       "      <td>-0.008060</td>\n",
       "      <td>-0.010582</td>\n",
       "      <td>-0.002664</td>\n",
       "      <td>-0.015471</td>\n",
       "      <td>-0.003901</td>\n",
       "    </tr>\n",
       "    <tr>\n",
       "      <th>3</th>\n",
       "      <td>-0.005447</td>\n",
       "      <td>-0.006824</td>\n",
       "      <td>0.011465</td>\n",
       "      <td>0.021764</td>\n",
       "      <td>0.001272</td>\n",
       "      <td>0.094239</td>\n",
       "      <td>0.046275</td>\n",
       "      <td>0.045754</td>\n",
       "      <td>0.011134</td>\n",
       "      <td>-0.000019</td>\n",
       "      <td>...</td>\n",
       "      <td>-0.012375</td>\n",
       "      <td>-0.001422</td>\n",
       "      <td>-0.018756</td>\n",
       "      <td>-0.013938</td>\n",
       "      <td>-0.003431</td>\n",
       "      <td>-0.004274</td>\n",
       "      <td>0.013196</td>\n",
       "      <td>0.003368</td>\n",
       "      <td>-0.002275</td>\n",
       "      <td>0.011471</td>\n",
       "    </tr>\n",
       "    <tr>\n",
       "      <th>4</th>\n",
       "      <td>-0.006981</td>\n",
       "      <td>-0.006054</td>\n",
       "      <td>0.004548</td>\n",
       "      <td>-0.011085</td>\n",
       "      <td>0.002165</td>\n",
       "      <td>0.095762</td>\n",
       "      <td>0.043703</td>\n",
       "      <td>0.026896</td>\n",
       "      <td>-0.000243</td>\n",
       "      <td>-0.000138</td>\n",
       "      <td>...</td>\n",
       "      <td>0.009112</td>\n",
       "      <td>-0.000789</td>\n",
       "      <td>-0.014065</td>\n",
       "      <td>-0.003231</td>\n",
       "      <td>0.009677</td>\n",
       "      <td>-0.001649</td>\n",
       "      <td>0.007829</td>\n",
       "      <td>0.003785</td>\n",
       "      <td>-0.009859</td>\n",
       "      <td>0.004498</td>\n",
       "    </tr>\n",
       "  </tbody>\n",
       "</table>\n",
       "<p>5 rows × 910 columns</p>\n",
       "</div>"
      ],
      "text/plain": [
       "   Forecasted_value  Forecasted_value  Forecasted_value  Forecasted_value  \\\n",
       "0         -0.007279          0.001342         -0.014463         -0.006619   \n",
       "1         -0.007449         -0.004507         -0.004461          0.010723   \n",
       "2         -0.005981         -0.007174         -0.000400          0.004464   \n",
       "3         -0.005447         -0.006824          0.011465          0.021764   \n",
       "4         -0.006981         -0.006054          0.004548         -0.011085   \n",
       "\n",
       "   Forecasted_value  Forecasted_value  Forecasted_value  Forecasted_value  \\\n",
       "0         -0.006840          0.088145          0.042620          0.047033   \n",
       "1          0.000068          0.085915          0.043575          0.048003   \n",
       "2         -0.001827          0.088339          0.054926          0.038742   \n",
       "3          0.001272          0.094239          0.046275          0.045754   \n",
       "4          0.002165          0.095762          0.043703          0.026896   \n",
       "\n",
       "   Forecasted_value  Forecasted_value  ...  Forecasted_value  \\\n",
       "0         -0.007805         -0.005963  ...         -0.024253   \n",
       "1          0.001213         -0.007135  ...         -0.014604   \n",
       "2         -0.005458         -0.007781  ...         -0.012879   \n",
       "3          0.011134         -0.000019  ...         -0.012375   \n",
       "4         -0.000243         -0.000138  ...          0.009112   \n",
       "\n",
       "   Forecasted_value  Forecasted_value  Forecasted_value  Forecasted_value  \\\n",
       "0          0.024533         -0.006370          0.011137          0.006874   \n",
       "1          0.015365         -0.002497          0.021797          0.000212   \n",
       "2          0.020280          0.012899          0.001947         -0.004645   \n",
       "3         -0.001422         -0.018756         -0.013938         -0.003431   \n",
       "4         -0.000789         -0.014065         -0.003231          0.009677   \n",
       "\n",
       "   Forecasted_value  Forecasted_value  Forecasted_value  Forecasted_value  \\\n",
       "0         -0.009194         -0.024609         -0.013291          0.006175   \n",
       "1         -0.003731         -0.000618         -0.000924          0.003867   \n",
       "2         -0.008060         -0.010582         -0.002664         -0.015471   \n",
       "3         -0.004274          0.013196          0.003368         -0.002275   \n",
       "4         -0.001649          0.007829          0.003785         -0.009859   \n",
       "\n",
       "   Forecasted_value  \n",
       "0          0.015136  \n",
       "1          0.005072  \n",
       "2         -0.003901  \n",
       "3          0.011471  \n",
       "4          0.004498  \n",
       "\n",
       "[5 rows x 910 columns]"
      ]
     },
     "execution_count": 27,
     "metadata": {},
     "output_type": "execute_result"
    }
   ],
   "source": [
    "Forecasted_values_df.head()"
   ]
  },
  {
   "cell_type": "code",
   "execution_count": 28,
   "id": "c4e2130b-9b6b-40b7-9efe-4cd6cd30c107",
   "metadata": {},
   "outputs": [],
   "source": [
    "exp_forecasted = np.exp(Forecasted_values_df)-1"
   ]
  },
  {
   "cell_type": "code",
   "execution_count": 29,
   "id": "60cd0006-0367-436e-b3c8-282e12e01146",
   "metadata": {},
   "outputs": [
    {
     "data": {
      "text/html": [
       "<div>\n",
       "<style scoped>\n",
       "    .dataframe tbody tr th:only-of-type {\n",
       "        vertical-align: middle;\n",
       "    }\n",
       "\n",
       "    .dataframe tbody tr th {\n",
       "        vertical-align: top;\n",
       "    }\n",
       "\n",
       "    .dataframe thead th {\n",
       "        text-align: right;\n",
       "    }\n",
       "</style>\n",
       "<table border=\"1\" class=\"dataframe\">\n",
       "  <thead>\n",
       "    <tr style=\"text-align: right;\">\n",
       "      <th></th>\n",
       "      <th>Forecasted_value</th>\n",
       "      <th>Forecasted_value</th>\n",
       "      <th>Forecasted_value</th>\n",
       "      <th>Forecasted_value</th>\n",
       "      <th>Forecasted_value</th>\n",
       "      <th>Forecasted_value</th>\n",
       "      <th>Forecasted_value</th>\n",
       "      <th>Forecasted_value</th>\n",
       "      <th>Forecasted_value</th>\n",
       "      <th>Forecasted_value</th>\n",
       "      <th>...</th>\n",
       "      <th>Forecasted_value</th>\n",
       "      <th>Forecasted_value</th>\n",
       "      <th>Forecasted_value</th>\n",
       "      <th>Forecasted_value</th>\n",
       "      <th>Forecasted_value</th>\n",
       "      <th>Forecasted_value</th>\n",
       "      <th>Forecasted_value</th>\n",
       "      <th>Forecasted_value</th>\n",
       "      <th>Forecasted_value</th>\n",
       "      <th>Forecasted_value</th>\n",
       "    </tr>\n",
       "  </thead>\n",
       "  <tbody>\n",
       "    <tr>\n",
       "      <th>0</th>\n",
       "      <td>-0.007252</td>\n",
       "      <td>0.001343</td>\n",
       "      <td>-0.014359</td>\n",
       "      <td>-0.006597</td>\n",
       "      <td>-0.006817</td>\n",
       "      <td>0.092146</td>\n",
       "      <td>0.043541</td>\n",
       "      <td>0.048157</td>\n",
       "      <td>-0.007774</td>\n",
       "      <td>-0.005945</td>\n",
       "      <td>...</td>\n",
       "      <td>-0.023962</td>\n",
       "      <td>0.024836</td>\n",
       "      <td>-0.006349</td>\n",
       "      <td>0.011199</td>\n",
       "      <td>0.006897</td>\n",
       "      <td>-0.009152</td>\n",
       "      <td>-0.024308</td>\n",
       "      <td>-0.013203</td>\n",
       "      <td>0.006194</td>\n",
       "      <td>0.015251</td>\n",
       "    </tr>\n",
       "    <tr>\n",
       "      <th>1</th>\n",
       "      <td>-0.007421</td>\n",
       "      <td>-0.004497</td>\n",
       "      <td>-0.004451</td>\n",
       "      <td>0.010781</td>\n",
       "      <td>0.000068</td>\n",
       "      <td>0.089714</td>\n",
       "      <td>0.044538</td>\n",
       "      <td>0.049174</td>\n",
       "      <td>0.001214</td>\n",
       "      <td>-0.007110</td>\n",
       "      <td>...</td>\n",
       "      <td>-0.014498</td>\n",
       "      <td>0.015484</td>\n",
       "      <td>-0.002493</td>\n",
       "      <td>0.022036</td>\n",
       "      <td>0.000212</td>\n",
       "      <td>-0.003724</td>\n",
       "      <td>-0.000618</td>\n",
       "      <td>-0.000923</td>\n",
       "      <td>0.003874</td>\n",
       "      <td>0.005084</td>\n",
       "    </tr>\n",
       "    <tr>\n",
       "      <th>2</th>\n",
       "      <td>-0.005963</td>\n",
       "      <td>-0.007148</td>\n",
       "      <td>-0.000399</td>\n",
       "      <td>0.004474</td>\n",
       "      <td>-0.001825</td>\n",
       "      <td>0.092359</td>\n",
       "      <td>0.056463</td>\n",
       "      <td>0.039503</td>\n",
       "      <td>-0.005444</td>\n",
       "      <td>-0.007751</td>\n",
       "      <td>...</td>\n",
       "      <td>-0.012796</td>\n",
       "      <td>0.020487</td>\n",
       "      <td>0.012983</td>\n",
       "      <td>0.001949</td>\n",
       "      <td>-0.004634</td>\n",
       "      <td>-0.008027</td>\n",
       "      <td>-0.010526</td>\n",
       "      <td>-0.002661</td>\n",
       "      <td>-0.015352</td>\n",
       "      <td>-0.003893</td>\n",
       "    </tr>\n",
       "    <tr>\n",
       "      <th>3</th>\n",
       "      <td>-0.005433</td>\n",
       "      <td>-0.006801</td>\n",
       "      <td>0.011531</td>\n",
       "      <td>0.022003</td>\n",
       "      <td>0.001273</td>\n",
       "      <td>0.098823</td>\n",
       "      <td>0.047362</td>\n",
       "      <td>0.046817</td>\n",
       "      <td>0.011196</td>\n",
       "      <td>-0.000019</td>\n",
       "      <td>...</td>\n",
       "      <td>-0.012299</td>\n",
       "      <td>-0.001421</td>\n",
       "      <td>-0.018581</td>\n",
       "      <td>-0.013841</td>\n",
       "      <td>-0.003425</td>\n",
       "      <td>-0.004265</td>\n",
       "      <td>0.013283</td>\n",
       "      <td>0.003374</td>\n",
       "      <td>-0.002272</td>\n",
       "      <td>0.011537</td>\n",
       "    </tr>\n",
       "    <tr>\n",
       "      <th>4</th>\n",
       "      <td>-0.006957</td>\n",
       "      <td>-0.006035</td>\n",
       "      <td>0.004559</td>\n",
       "      <td>-0.011023</td>\n",
       "      <td>0.002167</td>\n",
       "      <td>0.100497</td>\n",
       "      <td>0.044672</td>\n",
       "      <td>0.027261</td>\n",
       "      <td>-0.000243</td>\n",
       "      <td>-0.000138</td>\n",
       "      <td>...</td>\n",
       "      <td>0.009153</td>\n",
       "      <td>-0.000789</td>\n",
       "      <td>-0.013966</td>\n",
       "      <td>-0.003226</td>\n",
       "      <td>0.009724</td>\n",
       "      <td>-0.001647</td>\n",
       "      <td>0.007859</td>\n",
       "      <td>0.003793</td>\n",
       "      <td>-0.009811</td>\n",
       "      <td>0.004508</td>\n",
       "    </tr>\n",
       "    <tr>\n",
       "      <th>5</th>\n",
       "      <td>-0.007444</td>\n",
       "      <td>-0.004530</td>\n",
       "      <td>0.011690</td>\n",
       "      <td>0.021509</td>\n",
       "      <td>0.005045</td>\n",
       "      <td>0.086280</td>\n",
       "      <td>0.052963</td>\n",
       "      <td>0.054324</td>\n",
       "      <td>0.012549</td>\n",
       "      <td>0.001055</td>\n",
       "      <td>...</td>\n",
       "      <td>0.001220</td>\n",
       "      <td>0.022711</td>\n",
       "      <td>-0.003942</td>\n",
       "      <td>-0.000495</td>\n",
       "      <td>0.002177</td>\n",
       "      <td>0.003091</td>\n",
       "      <td>0.015116</td>\n",
       "      <td>0.002837</td>\n",
       "      <td>-0.008281</td>\n",
       "      <td>0.005110</td>\n",
       "    </tr>\n",
       "    <tr>\n",
       "      <th>6</th>\n",
       "      <td>-0.003107</td>\n",
       "      <td>0.001370</td>\n",
       "      <td>0.001051</td>\n",
       "      <td>-0.003809</td>\n",
       "      <td>-0.001143</td>\n",
       "      <td>0.093094</td>\n",
       "      <td>0.044940</td>\n",
       "      <td>0.036110</td>\n",
       "      <td>0.006847</td>\n",
       "      <td>0.002905</td>\n",
       "      <td>...</td>\n",
       "      <td>-0.000886</td>\n",
       "      <td>0.007573</td>\n",
       "      <td>-0.006090</td>\n",
       "      <td>-0.005523</td>\n",
       "      <td>-0.007963</td>\n",
       "      <td>0.003282</td>\n",
       "      <td>0.007492</td>\n",
       "      <td>0.000780</td>\n",
       "      <td>-0.005888</td>\n",
       "      <td>0.003280</td>\n",
       "    </tr>\n",
       "  </tbody>\n",
       "</table>\n",
       "<p>7 rows × 910 columns</p>\n",
       "</div>"
      ],
      "text/plain": [
       "   Forecasted_value  Forecasted_value  Forecasted_value  Forecasted_value  \\\n",
       "0         -0.007252          0.001343         -0.014359         -0.006597   \n",
       "1         -0.007421         -0.004497         -0.004451          0.010781   \n",
       "2         -0.005963         -0.007148         -0.000399          0.004474   \n",
       "3         -0.005433         -0.006801          0.011531          0.022003   \n",
       "4         -0.006957         -0.006035          0.004559         -0.011023   \n",
       "5         -0.007444         -0.004530          0.011690          0.021509   \n",
       "6         -0.003107          0.001370          0.001051         -0.003809   \n",
       "\n",
       "   Forecasted_value  Forecasted_value  Forecasted_value  Forecasted_value  \\\n",
       "0         -0.006817          0.092146          0.043541          0.048157   \n",
       "1          0.000068          0.089714          0.044538          0.049174   \n",
       "2         -0.001825          0.092359          0.056463          0.039503   \n",
       "3          0.001273          0.098823          0.047362          0.046817   \n",
       "4          0.002167          0.100497          0.044672          0.027261   \n",
       "5          0.005045          0.086280          0.052963          0.054324   \n",
       "6         -0.001143          0.093094          0.044940          0.036110   \n",
       "\n",
       "   Forecasted_value  Forecasted_value  ...  Forecasted_value  \\\n",
       "0         -0.007774         -0.005945  ...         -0.023962   \n",
       "1          0.001214         -0.007110  ...         -0.014498   \n",
       "2         -0.005444         -0.007751  ...         -0.012796   \n",
       "3          0.011196         -0.000019  ...         -0.012299   \n",
       "4         -0.000243         -0.000138  ...          0.009153   \n",
       "5          0.012549          0.001055  ...          0.001220   \n",
       "6          0.006847          0.002905  ...         -0.000886   \n",
       "\n",
       "   Forecasted_value  Forecasted_value  Forecasted_value  Forecasted_value  \\\n",
       "0          0.024836         -0.006349          0.011199          0.006897   \n",
       "1          0.015484         -0.002493          0.022036          0.000212   \n",
       "2          0.020487          0.012983          0.001949         -0.004634   \n",
       "3         -0.001421         -0.018581         -0.013841         -0.003425   \n",
       "4         -0.000789         -0.013966         -0.003226          0.009724   \n",
       "5          0.022711         -0.003942         -0.000495          0.002177   \n",
       "6          0.007573         -0.006090         -0.005523         -0.007963   \n",
       "\n",
       "   Forecasted_value  Forecasted_value  Forecasted_value  Forecasted_value  \\\n",
       "0         -0.009152         -0.024308         -0.013203          0.006194   \n",
       "1         -0.003724         -0.000618         -0.000923          0.003874   \n",
       "2         -0.008027         -0.010526         -0.002661         -0.015352   \n",
       "3         -0.004265          0.013283          0.003374         -0.002272   \n",
       "4         -0.001647          0.007859          0.003793         -0.009811   \n",
       "5          0.003091          0.015116          0.002837         -0.008281   \n",
       "6          0.003282          0.007492          0.000780         -0.005888   \n",
       "\n",
       "   Forecasted_value  \n",
       "0          0.015251  \n",
       "1          0.005084  \n",
       "2         -0.003893  \n",
       "3          0.011537  \n",
       "4          0.004508  \n",
       "5          0.005110  \n",
       "6          0.003280  \n",
       "\n",
       "[7 rows x 910 columns]"
      ]
     },
     "execution_count": 29,
     "metadata": {},
     "output_type": "execute_result"
    }
   ],
   "source": [
    "exp_forecasted"
   ]
  },
  {
   "cell_type": "code",
   "execution_count": 30,
   "id": "cdc66bd6-b552-4dcd-9703-e07b035fb736",
   "metadata": {},
   "outputs": [],
   "source": [
    "# set the values to 0 if the forecasted count is negative?"
   ]
  },
  {
   "cell_type": "code",
   "execution_count": 31,
   "id": "56eddb77-a48e-409d-9684-10bb31132568",
   "metadata": {},
   "outputs": [],
   "source": [
    "exp_forecasted[exp_forecasted < 0] = 0"
   ]
  },
  {
   "cell_type": "code",
   "execution_count": 32,
   "id": "c96eedde-fcfa-4f54-b8cb-d5f5cb3d6493",
   "metadata": {},
   "outputs": [
    {
     "data": {
      "text/html": [
       "<div>\n",
       "<style scoped>\n",
       "    .dataframe tbody tr th:only-of-type {\n",
       "        vertical-align: middle;\n",
       "    }\n",
       "\n",
       "    .dataframe tbody tr th {\n",
       "        vertical-align: top;\n",
       "    }\n",
       "\n",
       "    .dataframe thead th {\n",
       "        text-align: right;\n",
       "    }\n",
       "</style>\n",
       "<table border=\"1\" class=\"dataframe\">\n",
       "  <thead>\n",
       "    <tr style=\"text-align: right;\">\n",
       "      <th></th>\n",
       "      <th>Forecasted_value</th>\n",
       "      <th>Forecasted_value</th>\n",
       "      <th>Forecasted_value</th>\n",
       "      <th>Forecasted_value</th>\n",
       "      <th>Forecasted_value</th>\n",
       "      <th>Forecasted_value</th>\n",
       "      <th>Forecasted_value</th>\n",
       "      <th>Forecasted_value</th>\n",
       "      <th>Forecasted_value</th>\n",
       "      <th>Forecasted_value</th>\n",
       "      <th>...</th>\n",
       "      <th>Forecasted_value</th>\n",
       "      <th>Forecasted_value</th>\n",
       "      <th>Forecasted_value</th>\n",
       "      <th>Forecasted_value</th>\n",
       "      <th>Forecasted_value</th>\n",
       "      <th>Forecasted_value</th>\n",
       "      <th>Forecasted_value</th>\n",
       "      <th>Forecasted_value</th>\n",
       "      <th>Forecasted_value</th>\n",
       "      <th>Forecasted_value</th>\n",
       "    </tr>\n",
       "  </thead>\n",
       "  <tbody>\n",
       "    <tr>\n",
       "      <th>0</th>\n",
       "      <td>0.0</td>\n",
       "      <td>0.001343</td>\n",
       "      <td>0.000000</td>\n",
       "      <td>0.000000</td>\n",
       "      <td>0.000000</td>\n",
       "      <td>0.092146</td>\n",
       "      <td>0.043541</td>\n",
       "      <td>0.048157</td>\n",
       "      <td>0.000000</td>\n",
       "      <td>0.0</td>\n",
       "      <td>...</td>\n",
       "      <td>0.000000</td>\n",
       "      <td>0.024836</td>\n",
       "      <td>0.000000</td>\n",
       "      <td>0.011199</td>\n",
       "      <td>0.006897</td>\n",
       "      <td>0.0</td>\n",
       "      <td>0.000000</td>\n",
       "      <td>0.000000</td>\n",
       "      <td>0.006194</td>\n",
       "      <td>0.015251</td>\n",
       "    </tr>\n",
       "    <tr>\n",
       "      <th>1</th>\n",
       "      <td>0.0</td>\n",
       "      <td>0.000000</td>\n",
       "      <td>0.000000</td>\n",
       "      <td>0.010781</td>\n",
       "      <td>0.000068</td>\n",
       "      <td>0.089714</td>\n",
       "      <td>0.044538</td>\n",
       "      <td>0.049174</td>\n",
       "      <td>0.001214</td>\n",
       "      <td>0.0</td>\n",
       "      <td>...</td>\n",
       "      <td>0.000000</td>\n",
       "      <td>0.015484</td>\n",
       "      <td>0.000000</td>\n",
       "      <td>0.022036</td>\n",
       "      <td>0.000212</td>\n",
       "      <td>0.0</td>\n",
       "      <td>0.000000</td>\n",
       "      <td>0.000000</td>\n",
       "      <td>0.003874</td>\n",
       "      <td>0.005084</td>\n",
       "    </tr>\n",
       "    <tr>\n",
       "      <th>2</th>\n",
       "      <td>0.0</td>\n",
       "      <td>0.000000</td>\n",
       "      <td>0.000000</td>\n",
       "      <td>0.004474</td>\n",
       "      <td>0.000000</td>\n",
       "      <td>0.092359</td>\n",
       "      <td>0.056463</td>\n",
       "      <td>0.039503</td>\n",
       "      <td>0.000000</td>\n",
       "      <td>0.0</td>\n",
       "      <td>...</td>\n",
       "      <td>0.000000</td>\n",
       "      <td>0.020487</td>\n",
       "      <td>0.012983</td>\n",
       "      <td>0.001949</td>\n",
       "      <td>0.000000</td>\n",
       "      <td>0.0</td>\n",
       "      <td>0.000000</td>\n",
       "      <td>0.000000</td>\n",
       "      <td>0.000000</td>\n",
       "      <td>0.000000</td>\n",
       "    </tr>\n",
       "    <tr>\n",
       "      <th>3</th>\n",
       "      <td>0.0</td>\n",
       "      <td>0.000000</td>\n",
       "      <td>0.011531</td>\n",
       "      <td>0.022003</td>\n",
       "      <td>0.001273</td>\n",
       "      <td>0.098823</td>\n",
       "      <td>0.047362</td>\n",
       "      <td>0.046817</td>\n",
       "      <td>0.011196</td>\n",
       "      <td>0.0</td>\n",
       "      <td>...</td>\n",
       "      <td>0.000000</td>\n",
       "      <td>0.000000</td>\n",
       "      <td>0.000000</td>\n",
       "      <td>0.000000</td>\n",
       "      <td>0.000000</td>\n",
       "      <td>0.0</td>\n",
       "      <td>0.013283</td>\n",
       "      <td>0.003374</td>\n",
       "      <td>0.000000</td>\n",
       "      <td>0.011537</td>\n",
       "    </tr>\n",
       "    <tr>\n",
       "      <th>4</th>\n",
       "      <td>0.0</td>\n",
       "      <td>0.000000</td>\n",
       "      <td>0.004559</td>\n",
       "      <td>0.000000</td>\n",
       "      <td>0.002167</td>\n",
       "      <td>0.100497</td>\n",
       "      <td>0.044672</td>\n",
       "      <td>0.027261</td>\n",
       "      <td>0.000000</td>\n",
       "      <td>0.0</td>\n",
       "      <td>...</td>\n",
       "      <td>0.009153</td>\n",
       "      <td>0.000000</td>\n",
       "      <td>0.000000</td>\n",
       "      <td>0.000000</td>\n",
       "      <td>0.009724</td>\n",
       "      <td>0.0</td>\n",
       "      <td>0.007859</td>\n",
       "      <td>0.003793</td>\n",
       "      <td>0.000000</td>\n",
       "      <td>0.004508</td>\n",
       "    </tr>\n",
       "  </tbody>\n",
       "</table>\n",
       "<p>5 rows × 910 columns</p>\n",
       "</div>"
      ],
      "text/plain": [
       "   Forecasted_value  Forecasted_value  Forecasted_value  Forecasted_value  \\\n",
       "0               0.0          0.001343          0.000000          0.000000   \n",
       "1               0.0          0.000000          0.000000          0.010781   \n",
       "2               0.0          0.000000          0.000000          0.004474   \n",
       "3               0.0          0.000000          0.011531          0.022003   \n",
       "4               0.0          0.000000          0.004559          0.000000   \n",
       "\n",
       "   Forecasted_value  Forecasted_value  Forecasted_value  Forecasted_value  \\\n",
       "0          0.000000          0.092146          0.043541          0.048157   \n",
       "1          0.000068          0.089714          0.044538          0.049174   \n",
       "2          0.000000          0.092359          0.056463          0.039503   \n",
       "3          0.001273          0.098823          0.047362          0.046817   \n",
       "4          0.002167          0.100497          0.044672          0.027261   \n",
       "\n",
       "   Forecasted_value  Forecasted_value  ...  Forecasted_value  \\\n",
       "0          0.000000               0.0  ...          0.000000   \n",
       "1          0.001214               0.0  ...          0.000000   \n",
       "2          0.000000               0.0  ...          0.000000   \n",
       "3          0.011196               0.0  ...          0.000000   \n",
       "4          0.000000               0.0  ...          0.009153   \n",
       "\n",
       "   Forecasted_value  Forecasted_value  Forecasted_value  Forecasted_value  \\\n",
       "0          0.024836          0.000000          0.011199          0.006897   \n",
       "1          0.015484          0.000000          0.022036          0.000212   \n",
       "2          0.020487          0.012983          0.001949          0.000000   \n",
       "3          0.000000          0.000000          0.000000          0.000000   \n",
       "4          0.000000          0.000000          0.000000          0.009724   \n",
       "\n",
       "   Forecasted_value  Forecasted_value  Forecasted_value  Forecasted_value  \\\n",
       "0               0.0          0.000000          0.000000          0.006194   \n",
       "1               0.0          0.000000          0.000000          0.003874   \n",
       "2               0.0          0.000000          0.000000          0.000000   \n",
       "3               0.0          0.013283          0.003374          0.000000   \n",
       "4               0.0          0.007859          0.003793          0.000000   \n",
       "\n",
       "   Forecasted_value  \n",
       "0          0.015251  \n",
       "1          0.005084  \n",
       "2          0.000000  \n",
       "3          0.011537  \n",
       "4          0.004508  \n",
       "\n",
       "[5 rows x 910 columns]"
      ]
     },
     "execution_count": 32,
     "metadata": {},
     "output_type": "execute_result"
    }
   ],
   "source": [
    "exp_forecasted.head()"
   ]
  },
  {
   "cell_type": "code",
   "execution_count": 33,
   "id": "92bcf82f-ca31-4b25-a919-c8d51d72cfa7",
   "metadata": {},
   "outputs": [],
   "source": [
    "sum_forecasted_values = exp_forecasted.sum(axis = 1)"
   ]
  },
  {
   "cell_type": "code",
   "execution_count": 34,
   "id": "7f0e1119-a3bd-4a52-ae36-afa2c2070e2b",
   "metadata": {},
   "outputs": [
    {
     "data": {
      "text/plain": [
       "0    23.756586\n",
       "1    25.594901\n",
       "2    27.688246\n",
       "3    21.763405\n",
       "4    19.609185\n",
       "5    24.104186\n",
       "6    20.976827\n",
       "dtype: float64"
      ]
     },
     "execution_count": 34,
     "metadata": {},
     "output_type": "execute_result"
    }
   ],
   "source": [
    "sum_forecasted_values"
   ]
  },
  {
   "cell_type": "code",
   "execution_count": 35,
   "id": "cbc06a7e-2dca-400d-9cea-d063c33a4442",
   "metadata": {},
   "outputs": [],
   "source": [
    "# concatenate the sum dataframes\n",
    "block_0103_true_and_forecasted_values_df = pd.concat((sum_true_values, sum_forecasted_values), axis = 1)"
   ]
  },
  {
   "cell_type": "code",
   "execution_count": 36,
   "id": "f667f3a6-d7f7-4e7c-a037-1e9541dd38bd",
   "metadata": {},
   "outputs": [],
   "source": [
    "block_0103_true_and_forecasted_values_df.columns = [\"True_count\", \"Forecasted_count\"]"
   ]
  },
  {
   "cell_type": "code",
   "execution_count": 37,
   "id": "d27b93db-c9e2-49ff-9003-9e4925de3179",
   "metadata": {},
   "outputs": [
    {
     "data": {
      "text/html": [
       "<div>\n",
       "<style scoped>\n",
       "    .dataframe tbody tr th:only-of-type {\n",
       "        vertical-align: middle;\n",
       "    }\n",
       "\n",
       "    .dataframe tbody tr th {\n",
       "        vertical-align: top;\n",
       "    }\n",
       "\n",
       "    .dataframe thead th {\n",
       "        text-align: right;\n",
       "    }\n",
       "</style>\n",
       "<table border=\"1\" class=\"dataframe\">\n",
       "  <thead>\n",
       "    <tr style=\"text-align: right;\">\n",
       "      <th></th>\n",
       "      <th>True_count</th>\n",
       "      <th>Forecasted_count</th>\n",
       "    </tr>\n",
       "  </thead>\n",
       "  <tbody>\n",
       "    <tr>\n",
       "      <th>0</th>\n",
       "      <td>40.000661</td>\n",
       "      <td>23.756586</td>\n",
       "    </tr>\n",
       "    <tr>\n",
       "      <th>1</th>\n",
       "      <td>39.000002</td>\n",
       "      <td>25.594901</td>\n",
       "    </tr>\n",
       "    <tr>\n",
       "      <th>2</th>\n",
       "      <td>41.000000</td>\n",
       "      <td>27.688246</td>\n",
       "    </tr>\n",
       "    <tr>\n",
       "      <th>3</th>\n",
       "      <td>31.000000</td>\n",
       "      <td>21.763405</td>\n",
       "    </tr>\n",
       "    <tr>\n",
       "      <th>4</th>\n",
       "      <td>32.000000</td>\n",
       "      <td>19.609185</td>\n",
       "    </tr>\n",
       "    <tr>\n",
       "      <th>5</th>\n",
       "      <td>40.002086</td>\n",
       "      <td>24.104186</td>\n",
       "    </tr>\n",
       "    <tr>\n",
       "      <th>6</th>\n",
       "      <td>27.000176</td>\n",
       "      <td>20.976827</td>\n",
       "    </tr>\n",
       "  </tbody>\n",
       "</table>\n",
       "</div>"
      ],
      "text/plain": [
       "   True_count  Forecasted_count\n",
       "0   40.000661         23.756586\n",
       "1   39.000002         25.594901\n",
       "2   41.000000         27.688246\n",
       "3   31.000000         21.763405\n",
       "4   32.000000         19.609185\n",
       "5   40.002086         24.104186\n",
       "6   27.000176         20.976827"
      ]
     },
     "execution_count": 37,
     "metadata": {},
     "output_type": "execute_result"
    }
   ],
   "source": [
    "block_0103_true_and_forecasted_values_df"
   ]
  },
  {
   "cell_type": "code",
   "execution_count": 38,
   "id": "636d512d-f76b-48dc-90f1-872dc6a32736",
   "metadata": {},
   "outputs": [
    {
     "data": {
      "text/plain": [
       "12.809819922289787"
      ]
     },
     "execution_count": 38,
     "metadata": {},
     "output_type": "execute_result"
    }
   ],
   "source": [
    "# blockwise mean squared error\n",
    "rmse = np.sqrt(mean_squared_error(sum_true_values, sum_forecasted_values))\n",
    "rmse"
   ]
  },
  {
   "cell_type": "code",
   "execution_count": 39,
   "id": "df568443-7d02-4ba8-ad0e-5d83f2576c8b",
   "metadata": {},
   "outputs": [
    {
     "data": {
      "text/plain": [
       "12.358512547135167"
      ]
     },
     "execution_count": 39,
     "metadata": {},
     "output_type": "execute_result"
    }
   ],
   "source": [
    "# blockwise mean absolute error\n",
    "mae = mean_absolute_error(sum_true_values, sum_forecasted_values)\n",
    "mae"
   ]
  },
  {
   "cell_type": "code",
   "execution_count": 40,
   "id": "24d1568b-1b0d-41db-a60b-cd864b46d6e7",
   "metadata": {},
   "outputs": [
    {
     "data": {
      "text/plain": [
       "PearsonRResult(statistic=0.8262660909863535, pvalue=0.021953287218588243)"
      ]
     },
     "execution_count": 40,
     "metadata": {},
     "output_type": "execute_result"
    }
   ],
   "source": [
    "corr = pearsonr(sum_true_values, sum_forecasted_values)\n",
    "corr"
   ]
  },
  {
   "cell_type": "code",
   "execution_count": 41,
   "id": "cf8101a2-be23-4216-afd7-f7783e56f62d",
   "metadata": {},
   "outputs": [
    {
     "data": {
      "text/plain": [
       "-5.127746774761278"
      ]
     },
     "execution_count": 41,
     "metadata": {},
     "output_type": "execute_result"
    }
   ],
   "source": [
    "r2 = r2_score(sum_true_values, sum_forecasted_values)\n",
    "r2"
   ]
  },
  {
   "cell_type": "markdown",
   "id": "fa460e4d-2fdc-45fb-8f50-6a50b0a6ef13",
   "metadata": {},
   "source": [
    "##### Coverages and widths for the forecasted values?"
   ]
  },
  {
   "cell_type": "code",
   "execution_count": 42,
   "id": "eae4e334-d06f-4950-b09e-ec34cb4f3eba",
   "metadata": {},
   "outputs": [],
   "source": [
    "# for this we need the all_forecasts npy files"
   ]
  },
  {
   "cell_type": "code",
   "execution_count": 43,
   "id": "1ec4f3fa-b7b0-4064-9007-4230b0e64f72",
   "metadata": {},
   "outputs": [],
   "source": [
    "# content location is the same path as above"
   ]
  },
  {
   "cell_type": "code",
   "execution_count": 44,
   "id": "febb8655-c529-4099-b22e-ee36918188d5",
   "metadata": {},
   "outputs": [],
   "source": [
    "all_forecasts_npy_files = ['all_forecasts_sub_' + str(i) + '.npy' for i in range(910)]"
   ]
  },
  {
   "cell_type": "code",
   "execution_count": 45,
   "id": "11eba5f0-5a18-4d7d-a743-d57bc9cf93a4",
   "metadata": {},
   "outputs": [],
   "source": [
    "# all_forecasts_npy_files"
   ]
  },
  {
   "cell_type": "code",
   "execution_count": 46,
   "id": "7711dd37-fd3c-4ac8-b8ae-b4be59dff7fa",
   "metadata": {},
   "outputs": [],
   "source": [
    "# load the npy files"
   ]
  },
  {
   "cell_type": "code",
   "execution_count": 47,
   "id": "57f059e1-25b1-4e6d-b370-9ca0236848ea",
   "metadata": {},
   "outputs": [
    {
     "name": "stdout",
     "output_type": "stream",
     "text": [
      "CPU times: user 271 ms, sys: 63.4 ms, total: 335 ms\n",
      "Wall time: 335 ms\n"
     ]
    }
   ],
   "source": [
    "%%time\n",
    "loaded_npy_files = []\n",
    "for file in all_forecasts_npy_files:\n",
    "    joined_path = os.path.join(path_to_dfs, file)\n",
    "    load_file = np.load(joined_path)\n",
    "    # notice we are averaging the preds across the chains before exponentiation\n",
    "    mean_file = np.exp(np.mean(load_file, axis = 1)) - 1\n",
    "    loaded_npy_files.append(mean_file)"
   ]
  },
  {
   "cell_type": "code",
   "execution_count": 48,
   "id": "78d4c420-8e99-4103-881e-297bc81f909d",
   "metadata": {},
   "outputs": [
    {
     "data": {
      "text/plain": [
       "910"
      ]
     },
     "execution_count": 48,
     "metadata": {},
     "output_type": "execute_result"
    }
   ],
   "source": [
    "len(loaded_npy_files)"
   ]
  },
  {
   "cell_type": "code",
   "execution_count": 49,
   "id": "3cc8627a-822a-4c8e-898a-52957870ccde",
   "metadata": {},
   "outputs": [
    {
     "data": {
      "text/plain": [
       "(1000, 7)"
      ]
     },
     "execution_count": 49,
     "metadata": {},
     "output_type": "execute_result"
    }
   ],
   "source": [
    "loaded_npy_files[0].shape"
   ]
  },
  {
   "cell_type": "code",
   "execution_count": 50,
   "id": "ab72ca92-e8f1-4ce3-9cea-117b673d4529",
   "metadata": {},
   "outputs": [
    {
     "data": {
      "text/plain": [
       "array([[-0.00271261, -0.00209135, -0.00373435, ..., -0.00724757,\n",
       "        -0.00186688, -0.00239658],\n",
       "       [-0.00058371, -0.00385338, -0.00292224, ..., -0.00594693,\n",
       "        -0.00349027, -0.00414318],\n",
       "       [-0.00044096, -0.00430238, -0.00496197, ..., -0.00570291,\n",
       "        -0.0027383 , -0.00491804],\n",
       "       ...,\n",
       "       [-0.00077987, -0.00339347, -0.00537318, ...,  0.00086474,\n",
       "         0.00103116,  0.00123465],\n",
       "       [-0.00042289, -0.00541186, -0.00324726, ..., -0.00188756,\n",
       "        -0.00080031,  0.00031757],\n",
       "       [ 0.00262845, -0.00261897, -0.00267571, ..., -0.00035775,\n",
       "         0.00207472,  0.00118029]], dtype=float32)"
      ]
     },
     "execution_count": 50,
     "metadata": {},
     "output_type": "execute_result"
    }
   ],
   "source": [
    "loaded_npy_files[0]"
   ]
  },
  {
   "cell_type": "code",
   "execution_count": 51,
   "id": "53dd5c88-918c-46a0-b5ae-cb7c75895741",
   "metadata": {},
   "outputs": [
    {
     "name": "stdout",
     "output_type": "stream",
     "text": [
      "CPU times: user 20.5 ms, sys: 1.04 ms, total: 21.6 ms\n",
      "Wall time: 20.8 ms\n"
     ]
    }
   ],
   "source": [
    "%%time\n",
    "# convert less than 0 entries to 0 for all arrays\n",
    "for arr in loaded_npy_files:\n",
    "    arr[arr < 0] = 0"
   ]
  },
  {
   "cell_type": "code",
   "execution_count": 52,
   "id": "b20d4662-eefc-41bc-ac0a-25d0613fa00c",
   "metadata": {},
   "outputs": [
    {
     "data": {
      "text/plain": [
       "array([[0.        , 0.        , 0.        , ..., 0.        , 0.        ,\n",
       "        0.        ],\n",
       "       [0.        , 0.        , 0.        , ..., 0.        , 0.        ,\n",
       "        0.        ],\n",
       "       [0.        , 0.        , 0.        , ..., 0.        , 0.        ,\n",
       "        0.        ],\n",
       "       ...,\n",
       "       [0.        , 0.        , 0.        , ..., 0.00086474, 0.00103116,\n",
       "        0.00123465],\n",
       "       [0.        , 0.        , 0.        , ..., 0.        , 0.        ,\n",
       "        0.00031757],\n",
       "       [0.00262845, 0.        , 0.        , ..., 0.        , 0.00207472,\n",
       "        0.00118029]], dtype=float32)"
      ]
     },
     "execution_count": 52,
     "metadata": {},
     "output_type": "execute_result"
    }
   ],
   "source": [
    "loaded_npy_files[0]"
   ]
  },
  {
   "cell_type": "code",
   "execution_count": 53,
   "id": "f2474bdb-3a79-4436-83b1-2b3c3ac24a5c",
   "metadata": {},
   "outputs": [],
   "source": [
    "# Since we do not have overlapping sub-windows, we can sum the counts to get the final densities\n",
    "output = sum(loaded_npy_files)"
   ]
  },
  {
   "cell_type": "code",
   "execution_count": 54,
   "id": "d9038206-4f90-4001-9c3c-aee27d7d610c",
   "metadata": {},
   "outputs": [
    {
     "data": {
      "text/plain": [
       "(1000, 7)"
      ]
     },
     "execution_count": 54,
     "metadata": {},
     "output_type": "execute_result"
    }
   ],
   "source": [
    "output.shape"
   ]
  },
  {
   "cell_type": "code",
   "execution_count": 55,
   "id": "6116babf-18f2-4e39-9a72-150ccc4e6387",
   "metadata": {},
   "outputs": [
    {
     "data": {
      "text/plain": [
       "array([[39.058846, 35.248596, 40.29437 , ..., 32.612686, 33.495163,\n",
       "        29.418167],\n",
       "       [31.844812, 31.389385, 34.56382 , ..., 27.121487, 31.881628,\n",
       "        36.50189 ],\n",
       "       [41.15255 , 38.825413, 37.99243 , ..., 38.016228, 41.933613,\n",
       "        43.261024],\n",
       "       ...,\n",
       "       [29.173079, 32.480667, 36.961327, ..., 36.472908, 38.97257 ,\n",
       "        42.24106 ],\n",
       "       [39.288925, 33.667534, 42.326298, ..., 44.470108, 41.79911 ,\n",
       "        39.484444],\n",
       "       [30.913006, 38.205128, 44.776257, ..., 34.404613, 40.4469  ,\n",
       "        36.89897 ]], dtype=float32)"
      ]
     },
     "execution_count": 55,
     "metadata": {},
     "output_type": "execute_result"
    }
   ],
   "source": [
    "output"
   ]
  },
  {
   "cell_type": "code",
   "execution_count": 56,
   "id": "fbac31f0-215b-4e8b-8c13-2cd85e76a70f",
   "metadata": {},
   "outputs": [],
   "source": [
    "# is this sum correct? alternative method of computing the sums\n",
    "output_alt = np.sum(loaded_npy_files, axis = 0)"
   ]
  },
  {
   "cell_type": "code",
   "execution_count": 57,
   "id": "1198a1a0-14fc-4101-b4af-14a2c26dc0c5",
   "metadata": {},
   "outputs": [
    {
     "data": {
      "text/plain": [
       "(1000, 7)"
      ]
     },
     "execution_count": 57,
     "metadata": {},
     "output_type": "execute_result"
    }
   ],
   "source": [
    "output_alt.shape"
   ]
  },
  {
   "cell_type": "code",
   "execution_count": 58,
   "id": "23c6ebbe-2c27-47ff-8a5f-86491e58d899",
   "metadata": {},
   "outputs": [
    {
     "data": {
      "text/plain": [
       "array([[39.058846, 35.248596, 40.29437 , ..., 32.612686, 33.495163,\n",
       "        29.418167],\n",
       "       [31.844812, 31.389385, 34.56382 , ..., 27.121487, 31.881628,\n",
       "        36.50189 ],\n",
       "       [41.15255 , 38.825413, 37.99243 , ..., 38.016228, 41.933613,\n",
       "        43.261024],\n",
       "       ...,\n",
       "       [29.173079, 32.480667, 36.961327, ..., 36.472908, 38.97257 ,\n",
       "        42.24106 ],\n",
       "       [39.288925, 33.667534, 42.326298, ..., 44.470108, 41.79911 ,\n",
       "        39.484444],\n",
       "       [30.913006, 38.205128, 44.776257, ..., 34.404613, 40.4469  ,\n",
       "        36.89897 ]], dtype=float32)"
      ]
     },
     "execution_count": 58,
     "metadata": {},
     "output_type": "execute_result"
    }
   ],
   "source": [
    "output_alt"
   ]
  },
  {
   "cell_type": "code",
   "execution_count": 59,
   "id": "7b4a8d85-fe98-49c3-9a9f-51fbd90c5174",
   "metadata": {},
   "outputs": [
    {
     "data": {
      "text/plain": [
       "1.0"
      ]
     },
     "execution_count": 59,
     "metadata": {},
     "output_type": "execute_result"
    }
   ],
   "source": [
    "np.mean(output_alt == output)"
   ]
  },
  {
   "cell_type": "code",
   "execution_count": 60,
   "id": "ba6418a3-03f4-475a-b552-55a08048311f",
   "metadata": {},
   "outputs": [],
   "source": [
    "# verified the sum is correct, let's get the widths and the coverages - and also any essential plots"
   ]
  },
  {
   "cell_type": "code",
   "execution_count": 61,
   "id": "ca61eabc-63ed-4b74-b20a-61521b3751a6",
   "metadata": {},
   "outputs": [],
   "source": [
    "# now we can get the 2.5th abd the 97.5th percentiles - to get the coverage and the widths of the CIS\n",
    "li_train = np.percentile(output, axis = 0, q = (2.5, 97.5))[0,:].reshape(-1,1)    \n",
    "ui_train = np.percentile(output, axis = 0, q = (2.5, 97.5))[1,:].reshape(-1,1)"
   ]
  },
  {
   "cell_type": "code",
   "execution_count": 62,
   "id": "9cad5cca-320d-4e70-b204-e4dc52fb9d6d",
   "metadata": {},
   "outputs": [
    {
     "data": {
      "text/plain": [
       "array([[22.42267823],\n",
       "       [21.65304356],\n",
       "       [21.77461214],\n",
       "       [20.19288588],\n",
       "       [18.75213342],\n",
       "       [21.74594612],\n",
       "       [20.00448937]])"
      ]
     },
     "execution_count": 62,
     "metadata": {},
     "output_type": "execute_result"
    }
   ],
   "source": [
    "li_train"
   ]
  },
  {
   "cell_type": "code",
   "execution_count": 63,
   "id": "4e669c1d-0916-4e77-92e2-a1b1879834aa",
   "metadata": {},
   "outputs": [
    {
     "data": {
      "text/plain": [
       "array([[44.24560776],\n",
       "       [43.02102432],\n",
       "       [45.85896845],\n",
       "       [48.31862984],\n",
       "       [41.02620287],\n",
       "       [45.76822624],\n",
       "       [48.37217293]])"
      ]
     },
     "execution_count": 63,
     "metadata": {},
     "output_type": "execute_result"
    }
   ],
   "source": [
    "ui_train"
   ]
  },
  {
   "cell_type": "code",
   "execution_count": 64,
   "id": "4d51a483-bfe5-4cc6-a31f-813cb83d5540",
   "metadata": {},
   "outputs": [],
   "source": [
    "width_train = ui_train - li_train\n",
    "avg_width_train = width_train.mean(0)[0]"
   ]
  },
  {
   "cell_type": "code",
   "execution_count": 65,
   "id": "37b163bb-b24c-4af2-8f2b-19c78eb24ff9",
   "metadata": {},
   "outputs": [
    {
     "data": {
      "text/plain": [
       "24.295006241117203"
      ]
     },
     "execution_count": 65,
     "metadata": {},
     "output_type": "execute_result"
    }
   ],
   "source": [
    "avg_width_train"
   ]
  },
  {
   "cell_type": "code",
   "execution_count": 66,
   "id": "46d652b2-05be-44f9-bf0d-3ff69ad25fed",
   "metadata": {},
   "outputs": [],
   "source": [
    "y_traina = block_0103_true_and_forecasted_values_df[[\"True_count\"]].values"
   ]
  },
  {
   "cell_type": "code",
   "execution_count": 67,
   "id": "5f1ba54d-0aca-494d-b741-b2cd6d00fcb3",
   "metadata": {},
   "outputs": [],
   "source": [
    "ind_train = (y_traina >= li_train) & (y_traina <= ui_train)\n",
    "coverage_train= ind_train.mean(0)[0]"
   ]
  },
  {
   "cell_type": "code",
   "execution_count": 68,
   "id": "66d5a7c9-0400-4f6f-9221-9cb9c7860d3c",
   "metadata": {},
   "outputs": [
    {
     "data": {
      "text/plain": [
       "1.0"
      ]
     },
     "execution_count": 68,
     "metadata": {},
     "output_type": "execute_result"
    }
   ],
   "source": [
    "coverage_train"
   ]
  },
  {
   "cell_type": "code",
   "execution_count": 69,
   "id": "ce86b870-01cf-4e10-904b-ef2396d2dc47",
   "metadata": {},
   "outputs": [
    {
     "data": {
      "text/plain": [
       "array([32.036156, 31.936789, 33.4014  , 31.78123 , 28.459902, 32.067184,\n",
       "       31.352577], dtype=float32)"
      ]
     },
     "execution_count": 69,
     "metadata": {},
     "output_type": "execute_result"
    }
   ],
   "source": [
    "np.mean(output, axis = 0)"
   ]
  },
  {
   "cell_type": "code",
   "execution_count": 70,
   "id": "311beb4f-6347-407c-af9b-bfe285361098",
   "metadata": {},
   "outputs": [],
   "source": [
    "# sum_forecasted_values"
   ]
  },
  {
   "cell_type": "code",
   "execution_count": 71,
   "id": "0f94ff2b-6606-477b-a3a7-c3841f436c56",
   "metadata": {},
   "outputs": [
    {
     "data": {
      "image/png": "[encoded data removed]",
      "text/plain": [
       "<Figure size 640x480 with 1 Axes>"
      ]
     },
     "metadata": {},
     "output_type": "display_data"
    }
   ],
   "source": [
    "plt.scatter(block_0103_true_and_forecasted_values_df['True_count'], block_0103_true_and_forecasted_values_df['Forecasted_count'])\n",
    "plt.xlabel(\"True density\")\n",
    "plt.ylabel(\"Predicted density\")\n",
    "# Add the y = x line\n",
    "plt.plot([20, 40], [20, 40], color='green', label='y = x')\n",
    "plt.legend()\n",
    "plt.show()"
   ]
  },
  {
   "cell_type": "code",
   "execution_count": 72,
   "id": "04aa778d-3203-493f-a8d5-6c42cd0c540a",
   "metadata": {},
   "outputs": [
    {
     "data": {
      "image/png": "[encoded data removed]",
      "text/plain": [
       "<Figure size 1500x2000 with 8 Axes>"
      ]
     },
     "metadata": {},
     "output_type": "display_data"
    },
    {
     "name": "stdout",
     "output_type": "stream",
     "text": [
      "CPU times: user 27.5 s, sys: 741 ms, total: 28.2 s\n",
      "Wall time: 27.9 s\n"
     ]
    }
   ],
   "source": [
    "%%time\n",
    "# Create a 2x4 grid of subplots (total 8 plots, the last one will be left empty)\n",
    "fig, axes = plt.subplots(4, 2, figsize=(15,20))\n",
    "axes = axes.flatten() \n",
    "\n",
    "# widths plots\n",
    "for i in range(7):\n",
    "    timestep_i_subwindows = []\n",
    "    for y, file in enumerate(loaded_npy_files):\n",
    "        t_i_forecast = file[:,i]\n",
    "        # print the shape of the extracted array\n",
    "        # print(t_i_forecast.shape)\n",
    "        timestep_i_subwindows.append(t_i_forecast)\n",
    "    stacked_forecasts = np.stack(timestep_i_subwindows)\n",
    "    stacked_forecasts[stacked_forecasts<0] = 0\n",
    "    sorted_stacked_forecasts = np.sort(stacked_forecasts, axis = 1)\n",
    "    # get the values between the 2.5th and 97.5th percentile?\n",
    "    sorted_interval_data = sorted_stacked_forecasts[:,25:975]\n",
    "\n",
    "    # Plot for the current 2D array\n",
    "    for l, row in enumerate(sorted_interval_data):\n",
    "        axes[i].plot([l + 1] * len(row), row, 'o', markersize=1, color='teal', label='Distribution of forecasted values' if l == 0 else \"\")\n",
    "    \n",
    "    true_counts = exp_true.iloc[i,:].values\n",
    "\n",
    "    # # Overlay the 1D array values\n",
    "    axes[i].plot(np.arange(1, 911), true_counts, 'o', markersize=1, color='red', label='True density')\n",
    "    \n",
    "    # Customize x-ticks and labels\n",
    "    axes[i].set_xticks(np.arange(1, 911))\n",
    "    # axes[i].set_xticklabels([f'sub_window_{zz + 1}' for zz in range(910)], rotation=90, fontsize=13)\n",
    "    axes[i].set_xlabel(\"Sub windows\", fontsize=12, fontweight='bold')\n",
    "    axes[i].set_ylabel(\"Forecasted and true densities\", fontsize=12, fontweight='bold')\n",
    "    axes[i].set_title(f\"Test image {i + 1}\", fontsize=12, fontweight='bold')\n",
    "    axes[i].legend()\n",
    "\n",
    "\n",
    "# Hide the last (empty) subplot\n",
    "axes[-1].set_visible(False)\n",
    "\n",
    "# Adjust layout\n",
    "plt.tight_layout()\n",
    "\n",
    "# # Save the figure as a PDF file\n",
    "# plt.savefig(\"Previous_data/Forecasted_distributions_blk13.pdf\", format='pdf', bbox_inches='tight')\n",
    "plt.show()\n",
    "\n"
   ]
  },
  {
   "cell_type": "code",
   "execution_count": 73,
   "id": "b51d6a01-5c7a-4e37-be12-776053974e4d",
   "metadata": {},
   "outputs": [],
   "source": [
    "# plots are going to be too over-crowded as we now have 910 subwindows - might beed to talk to Dr. Ghosh to figure out a better way to give these plots"
   ]
  }
 ],
 "metadata": {
  "kernelspec": {
   "display_name": "Python (tfp_cpu_env)",
   "language": "python",
   "name": "tfp_cpu_env"
  },
  "language_info": {
   "codemirror_mode": {
    "name": "ipython",
    "version": 3
   },
   "file_extension": ".py",
   "mimetype": "text/x-python",
   "name": "python",
   "nbconvert_exporter": "python",
   "pygments_lexer": "ipython3",
   "version": "3.11.7"
  }
 },
 "nbformat": 4,
 "nbformat_minor": 5
}
