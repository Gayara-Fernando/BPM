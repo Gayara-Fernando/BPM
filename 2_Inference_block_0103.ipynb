{
 "cells": [
  {
   "cell_type": "code",
   "execution_count": 1,
   "id": "95479ff1-daa9-4a85-bee2-32d78b24506b",
   "metadata": {},
   "outputs": [],
   "source": [
    "import pandas as pd\n",
    "import numpy as np\n",
    "import matplotlib.pyplot as plt\n",
    "import os\n",
    "from sklearn.metrics import mean_absolute_error, mean_squared_error, r2_score\n",
    "from scipy.stats import pearsonr"
   ]
  },
  {
   "cell_type": "code",
   "execution_count": 2,
   "id": "d0c496d4-1b24-43dd-ab1b-b98d6eaef21b",
   "metadata": {},
   "outputs": [],
   "source": [
    "# path to dataframes\n",
    "path_to_dfs = \"suggestion_2/forecasted_counts/block_0103\""
   ]
  },
  {
   "cell_type": "code",
   "execution_count": 3,
   "id": "0c9c641d-4e5d-4c54-a235-c62cbdf13f8d",
   "metadata": {},
   "outputs": [],
   "source": [
    "# os.listdir(path_to_dfs)"
   ]
  },
  {
   "cell_type": "code",
   "execution_count": 4,
   "id": "5e5d1ebd-ac8c-4a2b-b33c-db3c4b477eae",
   "metadata": {},
   "outputs": [
    {
     "data": {
      "text/plain": [
       "6370"
      ]
     },
     "execution_count": 4,
     "metadata": {},
     "output_type": "execute_result"
    }
   ],
   "source": [
    "len(os.listdir(path_to_dfs))"
   ]
  },
  {
   "cell_type": "code",
   "execution_count": 5,
   "id": "3b80d752-5eb8-42c1-ad39-987ad3dbb001",
   "metadata": {},
   "outputs": [
    {
     "data": {
      "text/plain": [
       "7.0"
      ]
     },
     "execution_count": 5,
     "metadata": {},
     "output_type": "execute_result"
    }
   ],
   "source": [
    "6370/910"
   ]
  },
  {
   "cell_type": "code",
   "execution_count": 6,
   "id": "a0ac81e1-3049-44de-a2bf-4bf5a274ba45",
   "metadata": {},
   "outputs": [],
   "source": [
    "# seems each sub-window sequence have 7 things stored - what are all these?\n",
    "\n",
    "# the forecasted npy files\n",
    "# ar_sigma\n",
    "# noise_sigma\n",
    "# betas\n",
    "# rho\n",
    "# averaged forecasts\n",
    "# posterior parameter summaries - might need to pay a little attention here, the r_hat values are too high - think this should vary around 1? - but almost all the values are greater than 2."
   ]
  },
  {
   "cell_type": "code",
   "execution_count": 7,
   "id": "f9a4f497-2d9d-4b5c-9169-46b6ae6b9977",
   "metadata": {},
   "outputs": [],
   "source": [
    "averaged_forecasts_csvs = []\n",
    "for file in os.listdir(path_to_dfs):\n",
    "    if file[:8] =='averaged':\n",
    "        averaged_forecasts_csvs.append(file)"
   ]
  },
  {
   "cell_type": "code",
   "execution_count": 8,
   "id": "094e9614-b16f-45a2-aafc-d7884678eb44",
   "metadata": {},
   "outputs": [
    {
     "data": {
      "text/plain": [
       "910"
      ]
     },
     "execution_count": 8,
     "metadata": {},
     "output_type": "execute_result"
    }
   ],
   "source": [
    "# how many csv files do we have?\n",
    "len(averaged_forecasts_csvs)"
   ]
  },
  {
   "cell_type": "code",
   "execution_count": 9,
   "id": "7eca928b-bdbd-4d00-9eb1-8a808db7123e",
   "metadata": {},
   "outputs": [],
   "source": [
    "# averaged_forecasts_csvs - we probably need these in order for getting the respective predicted values"
   ]
  },
  {
   "cell_type": "code",
   "execution_count": 10,
   "id": "d0e11c68-824a-41ea-bf6b-65f53103343f",
   "metadata": {},
   "outputs": [
    {
     "data": {
      "text/plain": [
       "'averaged_forecasts_sub_653.csv'"
      ]
     },
     "execution_count": 10,
     "metadata": {},
     "output_type": "execute_result"
    }
   ],
   "source": [
    "averaged_forecasts_csvs[0]"
   ]
  },
  {
   "cell_type": "code",
   "execution_count": 11,
   "id": "f1f9e7be-53a6-4f38-b389-045d898b14ef",
   "metadata": {},
   "outputs": [],
   "source": [
    "# sorting them would not work as everything in the nomenclature of the files is a character - hence will not respect the numerical order"
   ]
  },
  {
   "cell_type": "code",
   "execution_count": 12,
   "id": "3cf616ee-4b4e-4ad9-ac1b-20aba081bfc5",
   "metadata": {},
   "outputs": [],
   "source": [
    "# let's create these names in the order of the subwindows\n",
    "ordered_csv_files = ['averaged_forecasts_sub_' + str(i) + '.csv' for i in range(910)]"
   ]
  },
  {
   "cell_type": "code",
   "execution_count": 13,
   "id": "7ac08389-4437-448b-b8a8-317cd0a9bf8e",
   "metadata": {},
   "outputs": [],
   "source": [
    "# ordered_csv_files"
   ]
  },
  {
   "cell_type": "code",
   "execution_count": 14,
   "id": "e74425d7-b613-44cf-96dd-df4298cef947",
   "metadata": {},
   "outputs": [],
   "source": [
    "# averaged_forecasts_csvs list is pointless at this time?"
   ]
  },
  {
   "cell_type": "code",
   "execution_count": 15,
   "id": "9a94c9ec-57cc-42fa-ad71-26639da44cb7",
   "metadata": {},
   "outputs": [
    {
     "name": "stdout",
     "output_type": "stream",
     "text": [
      "CPU times: user 1.47 s, sys: 314 ms, total: 1.78 s\n",
      "Wall time: 21.8 s\n"
     ]
    }
   ],
   "source": [
    "%%time\n",
    "all_dfs = []\n",
    "for file in ordered_csv_files:\n",
    "    read_df = pd.read_csv(path_to_dfs + '/' + file)\n",
    "    all_dfs.append(read_df)"
   ]
  },
  {
   "cell_type": "code",
   "execution_count": 16,
   "id": "c04b6062-8fc9-4f3e-87f2-2a8e9abac16f",
   "metadata": {},
   "outputs": [],
   "source": [
    "# make a single dataframe out of the many\n",
    "combined_df = pd.concat(all_dfs, axis = 1)"
   ]
  },
  {
   "cell_type": "code",
   "execution_count": 17,
   "id": "5671cc95-7ba6-47bc-8da8-47ba9d3f36e3",
   "metadata": {},
   "outputs": [
    {
     "data": {
      "text/html": [
       "<div>\n",
       "<style scoped>\n",
       "    .dataframe tbody tr th:only-of-type {\n",
       "        vertical-align: middle;\n",
       "    }\n",
       "\n",
       "    .dataframe tbody tr th {\n",
       "        vertical-align: top;\n",
       "    }\n",
       "\n",
       "    .dataframe thead th {\n",
       "        text-align: right;\n",
       "    }\n",
       "</style>\n",
       "<table border=\"1\" class=\"dataframe\">\n",
       "  <thead>\n",
       "    <tr style=\"text-align: right;\">\n",
       "      <th></th>\n",
       "      <th>True_value</th>\n",
       "      <th>Forecasted_value</th>\n",
       "      <th>True_value</th>\n",
       "      <th>Forecasted_value</th>\n",
       "      <th>True_value</th>\n",
       "      <th>Forecasted_value</th>\n",
       "      <th>True_value</th>\n",
       "      <th>Forecasted_value</th>\n",
       "      <th>True_value</th>\n",
       "      <th>Forecasted_value</th>\n",
       "      <th>...</th>\n",
       "      <th>True_value</th>\n",
       "      <th>Forecasted_value</th>\n",
       "      <th>True_value</th>\n",
       "      <th>Forecasted_value</th>\n",
       "      <th>True_value</th>\n",
       "      <th>Forecasted_value</th>\n",
       "      <th>True_value</th>\n",
       "      <th>Forecasted_value</th>\n",
       "      <th>True_value</th>\n",
       "      <th>Forecasted_value</th>\n",
       "    </tr>\n",
       "  </thead>\n",
       "  <tbody>\n",
       "    <tr>\n",
       "      <th>0</th>\n",
       "      <td>0.0</td>\n",
       "      <td>-0.008622</td>\n",
       "      <td>0.0</td>\n",
       "      <td>-0.004020</td>\n",
       "      <td>0.0</td>\n",
       "      <td>-0.013600</td>\n",
       "      <td>0.0</td>\n",
       "      <td>-0.016808</td>\n",
       "      <td>0.000005</td>\n",
       "      <td>-0.003117</td>\n",
       "      <td>...</td>\n",
       "      <td>0.0</td>\n",
       "      <td>-0.007105</td>\n",
       "      <td>0.0</td>\n",
       "      <td>-0.012972</td>\n",
       "      <td>0.0</td>\n",
       "      <td>-0.008735</td>\n",
       "      <td>0.0</td>\n",
       "      <td>0.002620</td>\n",
       "      <td>0.0</td>\n",
       "      <td>0.005498</td>\n",
       "    </tr>\n",
       "    <tr>\n",
       "      <th>1</th>\n",
       "      <td>0.0</td>\n",
       "      <td>-0.003352</td>\n",
       "      <td>0.0</td>\n",
       "      <td>-0.001749</td>\n",
       "      <td>0.0</td>\n",
       "      <td>-0.005783</td>\n",
       "      <td>0.0</td>\n",
       "      <td>0.007102</td>\n",
       "      <td>0.064341</td>\n",
       "      <td>0.000372</td>\n",
       "      <td>...</td>\n",
       "      <td>0.0</td>\n",
       "      <td>0.000033</td>\n",
       "      <td>0.0</td>\n",
       "      <td>-0.001411</td>\n",
       "      <td>0.0</td>\n",
       "      <td>0.000213</td>\n",
       "      <td>0.0</td>\n",
       "      <td>0.000874</td>\n",
       "      <td>0.0</td>\n",
       "      <td>0.001592</td>\n",
       "    </tr>\n",
       "    <tr>\n",
       "      <th>2</th>\n",
       "      <td>0.0</td>\n",
       "      <td>-0.003265</td>\n",
       "      <td>0.0</td>\n",
       "      <td>-0.003800</td>\n",
       "      <td>0.0</td>\n",
       "      <td>-0.001575</td>\n",
       "      <td>0.0</td>\n",
       "      <td>0.001654</td>\n",
       "      <td>0.000000</td>\n",
       "      <td>-0.000544</td>\n",
       "      <td>...</td>\n",
       "      <td>0.0</td>\n",
       "      <td>-0.004479</td>\n",
       "      <td>0.0</td>\n",
       "      <td>-0.006052</td>\n",
       "      <td>0.0</td>\n",
       "      <td>-0.002207</td>\n",
       "      <td>0.0</td>\n",
       "      <td>-0.006147</td>\n",
       "      <td>0.0</td>\n",
       "      <td>-0.003249</td>\n",
       "    </tr>\n",
       "    <tr>\n",
       "      <th>3</th>\n",
       "      <td>0.0</td>\n",
       "      <td>-0.002662</td>\n",
       "      <td>0.0</td>\n",
       "      <td>-0.003518</td>\n",
       "      <td>0.0</td>\n",
       "      <td>0.004136</td>\n",
       "      <td>0.0</td>\n",
       "      <td>0.011356</td>\n",
       "      <td>0.000000</td>\n",
       "      <td>0.001134</td>\n",
       "      <td>...</td>\n",
       "      <td>0.0</td>\n",
       "      <td>-0.001618</td>\n",
       "      <td>0.0</td>\n",
       "      <td>0.006355</td>\n",
       "      <td>0.0</td>\n",
       "      <td>0.001497</td>\n",
       "      <td>0.0</td>\n",
       "      <td>-0.000994</td>\n",
       "      <td>0.0</td>\n",
       "      <td>0.003673</td>\n",
       "    </tr>\n",
       "    <tr>\n",
       "      <th>4</th>\n",
       "      <td>0.0</td>\n",
       "      <td>-0.003706</td>\n",
       "      <td>0.0</td>\n",
       "      <td>-0.004616</td>\n",
       "      <td>0.0</td>\n",
       "      <td>-0.001090</td>\n",
       "      <td>0.0</td>\n",
       "      <td>-0.006067</td>\n",
       "      <td>0.000000</td>\n",
       "      <td>0.001924</td>\n",
       "      <td>...</td>\n",
       "      <td>0.0</td>\n",
       "      <td>-0.002414</td>\n",
       "      <td>0.0</td>\n",
       "      <td>0.002233</td>\n",
       "      <td>0.0</td>\n",
       "      <td>0.002590</td>\n",
       "      <td>0.0</td>\n",
       "      <td>-0.004778</td>\n",
       "      <td>0.0</td>\n",
       "      <td>0.003327</td>\n",
       "    </tr>\n",
       "  </tbody>\n",
       "</table>\n",
       "<p>5 rows × 1820 columns</p>\n",
       "</div>"
      ],
      "text/plain": [
       "   True_value  Forecasted_value  True_value  Forecasted_value  True_value  \\\n",
       "0         0.0         -0.008622         0.0         -0.004020         0.0   \n",
       "1         0.0         -0.003352         0.0         -0.001749         0.0   \n",
       "2         0.0         -0.003265         0.0         -0.003800         0.0   \n",
       "3         0.0         -0.002662         0.0         -0.003518         0.0   \n",
       "4         0.0         -0.003706         0.0         -0.004616         0.0   \n",
       "\n",
       "   Forecasted_value  True_value  Forecasted_value  True_value  \\\n",
       "0         -0.013600         0.0         -0.016808    0.000005   \n",
       "1         -0.005783         0.0          0.007102    0.064341   \n",
       "2         -0.001575         0.0          0.001654    0.000000   \n",
       "3          0.004136         0.0          0.011356    0.000000   \n",
       "4         -0.001090         0.0         -0.006067    0.000000   \n",
       "\n",
       "   Forecasted_value  ...  True_value  Forecasted_value  True_value  \\\n",
       "0         -0.003117  ...         0.0         -0.007105         0.0   \n",
       "1          0.000372  ...         0.0          0.000033         0.0   \n",
       "2         -0.000544  ...         0.0         -0.004479         0.0   \n",
       "3          0.001134  ...         0.0         -0.001618         0.0   \n",
       "4          0.001924  ...         0.0         -0.002414         0.0   \n",
       "\n",
       "   Forecasted_value  True_value  Forecasted_value  True_value  \\\n",
       "0         -0.012972         0.0         -0.008735         0.0   \n",
       "1         -0.001411         0.0          0.000213         0.0   \n",
       "2         -0.006052         0.0         -0.002207         0.0   \n",
       "3          0.006355         0.0          0.001497         0.0   \n",
       "4          0.002233         0.0          0.002590         0.0   \n",
       "\n",
       "   Forecasted_value  True_value  Forecasted_value  \n",
       "0          0.002620         0.0          0.005498  \n",
       "1          0.000874         0.0          0.001592  \n",
       "2         -0.006147         0.0         -0.003249  \n",
       "3         -0.000994         0.0          0.003673  \n",
       "4         -0.004778         0.0          0.003327  \n",
       "\n",
       "[5 rows x 1820 columns]"
      ]
     },
     "execution_count": 17,
     "metadata": {},
     "output_type": "execute_result"
    }
   ],
   "source": [
    "combined_df.head()"
   ]
  },
  {
   "cell_type": "code",
   "execution_count": 18,
   "id": "77ebc554-fe99-4cea-9cb3-2d2b8329b7b8",
   "metadata": {},
   "outputs": [
    {
     "data": {
      "text/plain": [
       "(7, 1820)"
      ]
     },
     "execution_count": 18,
     "metadata": {},
     "output_type": "execute_result"
    }
   ],
   "source": [
    "combined_df.shape"
   ]
  },
  {
   "cell_type": "code",
   "execution_count": 19,
   "id": "cd7bd824-8dac-4284-b286-aafcd8cd7d43",
   "metadata": {},
   "outputs": [],
   "source": [
    "# get the true values\n",
    "True_values_df = combined_df[['True_value']]"
   ]
  },
  {
   "cell_type": "code",
   "execution_count": 20,
   "id": "20d0decc-e09d-494a-9ff8-2139aac7254b",
   "metadata": {},
   "outputs": [
    {
     "data": {
      "text/html": [
       "<div>\n",
       "<style scoped>\n",
       "    .dataframe tbody tr th:only-of-type {\n",
       "        vertical-align: middle;\n",
       "    }\n",
       "\n",
       "    .dataframe tbody tr th {\n",
       "        vertical-align: top;\n",
       "    }\n",
       "\n",
       "    .dataframe thead th {\n",
       "        text-align: right;\n",
       "    }\n",
       "</style>\n",
       "<table border=\"1\" class=\"dataframe\">\n",
       "  <thead>\n",
       "    <tr style=\"text-align: right;\">\n",
       "      <th></th>\n",
       "      <th>True_value</th>\n",
       "      <th>True_value</th>\n",
       "      <th>True_value</th>\n",
       "      <th>True_value</th>\n",
       "      <th>True_value</th>\n",
       "      <th>True_value</th>\n",
       "      <th>True_value</th>\n",
       "      <th>True_value</th>\n",
       "      <th>True_value</th>\n",
       "      <th>True_value</th>\n",
       "      <th>...</th>\n",
       "      <th>True_value</th>\n",
       "      <th>True_value</th>\n",
       "      <th>True_value</th>\n",
       "      <th>True_value</th>\n",
       "      <th>True_value</th>\n",
       "      <th>True_value</th>\n",
       "      <th>True_value</th>\n",
       "      <th>True_value</th>\n",
       "      <th>True_value</th>\n",
       "      <th>True_value</th>\n",
       "    </tr>\n",
       "  </thead>\n",
       "  <tbody>\n",
       "    <tr>\n",
       "      <th>0</th>\n",
       "      <td>0.0</td>\n",
       "      <td>0.0</td>\n",
       "      <td>0.0</td>\n",
       "      <td>0.0</td>\n",
       "      <td>0.000005</td>\n",
       "      <td>0.000668</td>\n",
       "      <td>1.044816e-07</td>\n",
       "      <td>0.0</td>\n",
       "      <td>0.0</td>\n",
       "      <td>0.0</td>\n",
       "      <td>...</td>\n",
       "      <td>0.0</td>\n",
       "      <td>0.000000e+00</td>\n",
       "      <td>0.000000</td>\n",
       "      <td>0.000000e+00</td>\n",
       "      <td>0.0</td>\n",
       "      <td>0.0</td>\n",
       "      <td>0.0</td>\n",
       "      <td>0.0</td>\n",
       "      <td>0.0</td>\n",
       "      <td>0.0</td>\n",
       "    </tr>\n",
       "    <tr>\n",
       "      <th>1</th>\n",
       "      <td>0.0</td>\n",
       "      <td>0.0</td>\n",
       "      <td>0.0</td>\n",
       "      <td>0.0</td>\n",
       "      <td>0.064341</td>\n",
       "      <td>0.087708</td>\n",
       "      <td>0.000000e+00</td>\n",
       "      <td>0.0</td>\n",
       "      <td>0.0</td>\n",
       "      <td>0.0</td>\n",
       "      <td>...</td>\n",
       "      <td>0.0</td>\n",
       "      <td>0.000000e+00</td>\n",
       "      <td>0.000000</td>\n",
       "      <td>0.000000e+00</td>\n",
       "      <td>0.0</td>\n",
       "      <td>0.0</td>\n",
       "      <td>0.0</td>\n",
       "      <td>0.0</td>\n",
       "      <td>0.0</td>\n",
       "      <td>0.0</td>\n",
       "    </tr>\n",
       "    <tr>\n",
       "      <th>2</th>\n",
       "      <td>0.0</td>\n",
       "      <td>0.0</td>\n",
       "      <td>0.0</td>\n",
       "      <td>0.0</td>\n",
       "      <td>0.000000</td>\n",
       "      <td>0.042056</td>\n",
       "      <td>1.144163e-02</td>\n",
       "      <td>0.0</td>\n",
       "      <td>0.0</td>\n",
       "      <td>0.0</td>\n",
       "      <td>...</td>\n",
       "      <td>0.0</td>\n",
       "      <td>7.683623e-10</td>\n",
       "      <td>0.000005</td>\n",
       "      <td>4.013955e-08</td>\n",
       "      <td>0.0</td>\n",
       "      <td>0.0</td>\n",
       "      <td>0.0</td>\n",
       "      <td>0.0</td>\n",
       "      <td>0.0</td>\n",
       "      <td>0.0</td>\n",
       "    </tr>\n",
       "    <tr>\n",
       "      <th>3</th>\n",
       "      <td>0.0</td>\n",
       "      <td>0.0</td>\n",
       "      <td>0.0</td>\n",
       "      <td>0.0</td>\n",
       "      <td>0.000000</td>\n",
       "      <td>0.000000</td>\n",
       "      <td>0.000000e+00</td>\n",
       "      <td>0.0</td>\n",
       "      <td>0.0</td>\n",
       "      <td>0.0</td>\n",
       "      <td>...</td>\n",
       "      <td>0.0</td>\n",
       "      <td>2.402785e-05</td>\n",
       "      <td>0.000649</td>\n",
       "      <td>8.526243e-09</td>\n",
       "      <td>0.0</td>\n",
       "      <td>0.0</td>\n",
       "      <td>0.0</td>\n",
       "      <td>0.0</td>\n",
       "      <td>0.0</td>\n",
       "      <td>0.0</td>\n",
       "    </tr>\n",
       "    <tr>\n",
       "      <th>4</th>\n",
       "      <td>0.0</td>\n",
       "      <td>0.0</td>\n",
       "      <td>0.0</td>\n",
       "      <td>0.0</td>\n",
       "      <td>0.000000</td>\n",
       "      <td>0.000000</td>\n",
       "      <td>0.000000e+00</td>\n",
       "      <td>0.0</td>\n",
       "      <td>0.0</td>\n",
       "      <td>0.0</td>\n",
       "      <td>...</td>\n",
       "      <td>0.0</td>\n",
       "      <td>7.268980e-04</td>\n",
       "      <td>0.003864</td>\n",
       "      <td>0.000000e+00</td>\n",
       "      <td>0.0</td>\n",
       "      <td>0.0</td>\n",
       "      <td>0.0</td>\n",
       "      <td>0.0</td>\n",
       "      <td>0.0</td>\n",
       "      <td>0.0</td>\n",
       "    </tr>\n",
       "  </tbody>\n",
       "</table>\n",
       "<p>5 rows × 910 columns</p>\n",
       "</div>"
      ],
      "text/plain": [
       "   True_value  True_value  True_value  True_value  True_value  True_value  \\\n",
       "0         0.0         0.0         0.0         0.0    0.000005    0.000668   \n",
       "1         0.0         0.0         0.0         0.0    0.064341    0.087708   \n",
       "2         0.0         0.0         0.0         0.0    0.000000    0.042056   \n",
       "3         0.0         0.0         0.0         0.0    0.000000    0.000000   \n",
       "4         0.0         0.0         0.0         0.0    0.000000    0.000000   \n",
       "\n",
       "     True_value  True_value  True_value  True_value  ...  True_value  \\\n",
       "0  1.044816e-07         0.0         0.0         0.0  ...         0.0   \n",
       "1  0.000000e+00         0.0         0.0         0.0  ...         0.0   \n",
       "2  1.144163e-02         0.0         0.0         0.0  ...         0.0   \n",
       "3  0.000000e+00         0.0         0.0         0.0  ...         0.0   \n",
       "4  0.000000e+00         0.0         0.0         0.0  ...         0.0   \n",
       "\n",
       "     True_value  True_value    True_value  True_value  True_value  True_value  \\\n",
       "0  0.000000e+00    0.000000  0.000000e+00         0.0         0.0         0.0   \n",
       "1  0.000000e+00    0.000000  0.000000e+00         0.0         0.0         0.0   \n",
       "2  7.683623e-10    0.000005  4.013955e-08         0.0         0.0         0.0   \n",
       "3  2.402785e-05    0.000649  8.526243e-09         0.0         0.0         0.0   \n",
       "4  7.268980e-04    0.003864  0.000000e+00         0.0         0.0         0.0   \n",
       "\n",
       "   True_value  True_value  True_value  \n",
       "0         0.0         0.0         0.0  \n",
       "1         0.0         0.0         0.0  \n",
       "2         0.0         0.0         0.0  \n",
       "3         0.0         0.0         0.0  \n",
       "4         0.0         0.0         0.0  \n",
       "\n",
       "[5 rows x 910 columns]"
      ]
     },
     "execution_count": 20,
     "metadata": {},
     "output_type": "execute_result"
    }
   ],
   "source": [
    "True_values_df.head()"
   ]
  },
  {
   "cell_type": "code",
   "execution_count": 21,
   "id": "7bf2ce55-e613-440c-98df-b3137476fda8",
   "metadata": {},
   "outputs": [
    {
     "data": {
      "text/plain": [
       "(7, 910)"
      ]
     },
     "execution_count": 21,
     "metadata": {},
     "output_type": "execute_result"
    }
   ],
   "source": [
    "True_values_df.shape"
   ]
  },
  {
   "cell_type": "code",
   "execution_count": 22,
   "id": "18e0219e-ee9c-4e29-a372-2b6290708941",
   "metadata": {},
   "outputs": [],
   "source": [
    "# get the proper counts?\n",
    "exp_true = np.exp(True_values_df)-1"
   ]
  },
  {
   "cell_type": "code",
   "execution_count": 23,
   "id": "a7319ca1-7b28-41f3-8b38-11863c1835e5",
   "metadata": {},
   "outputs": [
    {
     "data": {
      "text/html": [
       "<div>\n",
       "<style scoped>\n",
       "    .dataframe tbody tr th:only-of-type {\n",
       "        vertical-align: middle;\n",
       "    }\n",
       "\n",
       "    .dataframe tbody tr th {\n",
       "        vertical-align: top;\n",
       "    }\n",
       "\n",
       "    .dataframe thead th {\n",
       "        text-align: right;\n",
       "    }\n",
       "</style>\n",
       "<table border=\"1\" class=\"dataframe\">\n",
       "  <thead>\n",
       "    <tr style=\"text-align: right;\">\n",
       "      <th></th>\n",
       "      <th>True_value</th>\n",
       "      <th>True_value</th>\n",
       "      <th>True_value</th>\n",
       "      <th>True_value</th>\n",
       "      <th>True_value</th>\n",
       "      <th>True_value</th>\n",
       "      <th>True_value</th>\n",
       "      <th>True_value</th>\n",
       "      <th>True_value</th>\n",
       "      <th>True_value</th>\n",
       "      <th>...</th>\n",
       "      <th>True_value</th>\n",
       "      <th>True_value</th>\n",
       "      <th>True_value</th>\n",
       "      <th>True_value</th>\n",
       "      <th>True_value</th>\n",
       "      <th>True_value</th>\n",
       "      <th>True_value</th>\n",
       "      <th>True_value</th>\n",
       "      <th>True_value</th>\n",
       "      <th>True_value</th>\n",
       "    </tr>\n",
       "  </thead>\n",
       "  <tbody>\n",
       "    <tr>\n",
       "      <th>0</th>\n",
       "      <td>0.0</td>\n",
       "      <td>0.0</td>\n",
       "      <td>0.0</td>\n",
       "      <td>0.0</td>\n",
       "      <td>5.458158e-06</td>\n",
       "      <td>0.000668</td>\n",
       "      <td>1.044816e-07</td>\n",
       "      <td>0.0</td>\n",
       "      <td>0.0</td>\n",
       "      <td>0.0</td>\n",
       "      <td>...</td>\n",
       "      <td>0.000000</td>\n",
       "      <td>0.000000e+00</td>\n",
       "      <td>0.000000</td>\n",
       "      <td>0.000000e+00</td>\n",
       "      <td>0.0</td>\n",
       "      <td>0.0</td>\n",
       "      <td>0.0</td>\n",
       "      <td>0.0</td>\n",
       "      <td>0.0</td>\n",
       "      <td>0.0</td>\n",
       "    </tr>\n",
       "    <tr>\n",
       "      <th>1</th>\n",
       "      <td>0.0</td>\n",
       "      <td>0.0</td>\n",
       "      <td>0.0</td>\n",
       "      <td>0.0</td>\n",
       "      <td>6.645597e-02</td>\n",
       "      <td>0.091669</td>\n",
       "      <td>0.000000e+00</td>\n",
       "      <td>0.0</td>\n",
       "      <td>0.0</td>\n",
       "      <td>0.0</td>\n",
       "      <td>...</td>\n",
       "      <td>0.000000</td>\n",
       "      <td>0.000000e+00</td>\n",
       "      <td>0.000000</td>\n",
       "      <td>0.000000e+00</td>\n",
       "      <td>0.0</td>\n",
       "      <td>0.0</td>\n",
       "      <td>0.0</td>\n",
       "      <td>0.0</td>\n",
       "      <td>0.0</td>\n",
       "      <td>0.0</td>\n",
       "    </tr>\n",
       "    <tr>\n",
       "      <th>2</th>\n",
       "      <td>0.0</td>\n",
       "      <td>0.0</td>\n",
       "      <td>0.0</td>\n",
       "      <td>0.0</td>\n",
       "      <td>0.000000e+00</td>\n",
       "      <td>0.042952</td>\n",
       "      <td>1.150733e-02</td>\n",
       "      <td>0.0</td>\n",
       "      <td>0.0</td>\n",
       "      <td>0.0</td>\n",
       "      <td>...</td>\n",
       "      <td>0.000000</td>\n",
       "      <td>7.683623e-10</td>\n",
       "      <td>0.000005</td>\n",
       "      <td>4.013955e-08</td>\n",
       "      <td>0.0</td>\n",
       "      <td>0.0</td>\n",
       "      <td>0.0</td>\n",
       "      <td>0.0</td>\n",
       "      <td>0.0</td>\n",
       "      <td>0.0</td>\n",
       "    </tr>\n",
       "    <tr>\n",
       "      <th>3</th>\n",
       "      <td>0.0</td>\n",
       "      <td>0.0</td>\n",
       "      <td>0.0</td>\n",
       "      <td>0.0</td>\n",
       "      <td>0.000000e+00</td>\n",
       "      <td>0.000000</td>\n",
       "      <td>0.000000e+00</td>\n",
       "      <td>0.0</td>\n",
       "      <td>0.0</td>\n",
       "      <td>0.0</td>\n",
       "      <td>...</td>\n",
       "      <td>0.000000</td>\n",
       "      <td>2.402814e-05</td>\n",
       "      <td>0.000650</td>\n",
       "      <td>8.526243e-09</td>\n",
       "      <td>0.0</td>\n",
       "      <td>0.0</td>\n",
       "      <td>0.0</td>\n",
       "      <td>0.0</td>\n",
       "      <td>0.0</td>\n",
       "      <td>0.0</td>\n",
       "    </tr>\n",
       "    <tr>\n",
       "      <th>4</th>\n",
       "      <td>0.0</td>\n",
       "      <td>0.0</td>\n",
       "      <td>0.0</td>\n",
       "      <td>0.0</td>\n",
       "      <td>0.000000e+00</td>\n",
       "      <td>0.000000</td>\n",
       "      <td>0.000000e+00</td>\n",
       "      <td>0.0</td>\n",
       "      <td>0.0</td>\n",
       "      <td>0.0</td>\n",
       "      <td>...</td>\n",
       "      <td>0.000000</td>\n",
       "      <td>7.271623e-04</td>\n",
       "      <td>0.003871</td>\n",
       "      <td>0.000000e+00</td>\n",
       "      <td>0.0</td>\n",
       "      <td>0.0</td>\n",
       "      <td>0.0</td>\n",
       "      <td>0.0</td>\n",
       "      <td>0.0</td>\n",
       "      <td>0.0</td>\n",
       "    </tr>\n",
       "    <tr>\n",
       "      <th>5</th>\n",
       "      <td>0.0</td>\n",
       "      <td>0.0</td>\n",
       "      <td>0.0</td>\n",
       "      <td>0.0</td>\n",
       "      <td>6.876971e-07</td>\n",
       "      <td>0.022043</td>\n",
       "      <td>5.086000e-04</td>\n",
       "      <td>0.0</td>\n",
       "      <td>0.0</td>\n",
       "      <td>0.0</td>\n",
       "      <td>...</td>\n",
       "      <td>0.000000</td>\n",
       "      <td>2.217396e-03</td>\n",
       "      <td>0.005884</td>\n",
       "      <td>0.000000e+00</td>\n",
       "      <td>0.0</td>\n",
       "      <td>0.0</td>\n",
       "      <td>0.0</td>\n",
       "      <td>0.0</td>\n",
       "      <td>0.0</td>\n",
       "      <td>0.0</td>\n",
       "    </tr>\n",
       "    <tr>\n",
       "      <th>6</th>\n",
       "      <td>0.0</td>\n",
       "      <td>0.0</td>\n",
       "      <td>0.0</td>\n",
       "      <td>0.0</td>\n",
       "      <td>0.000000e+00</td>\n",
       "      <td>0.000000</td>\n",
       "      <td>0.000000e+00</td>\n",
       "      <td>0.0</td>\n",
       "      <td>0.0</td>\n",
       "      <td>0.0</td>\n",
       "      <td>...</td>\n",
       "      <td>0.022043</td>\n",
       "      <td>9.133409e-06</td>\n",
       "      <td>0.054010</td>\n",
       "      <td>4.412074e-04</td>\n",
       "      <td>0.0</td>\n",
       "      <td>0.0</td>\n",
       "      <td>0.0</td>\n",
       "      <td>0.0</td>\n",
       "      <td>0.0</td>\n",
       "      <td>0.0</td>\n",
       "    </tr>\n",
       "  </tbody>\n",
       "</table>\n",
       "<p>7 rows × 910 columns</p>\n",
       "</div>"
      ],
      "text/plain": [
       "   True_value  True_value  True_value  True_value    True_value  True_value  \\\n",
       "0         0.0         0.0         0.0         0.0  5.458158e-06    0.000668   \n",
       "1         0.0         0.0         0.0         0.0  6.645597e-02    0.091669   \n",
       "2         0.0         0.0         0.0         0.0  0.000000e+00    0.042952   \n",
       "3         0.0         0.0         0.0         0.0  0.000000e+00    0.000000   \n",
       "4         0.0         0.0         0.0         0.0  0.000000e+00    0.000000   \n",
       "5         0.0         0.0         0.0         0.0  6.876971e-07    0.022043   \n",
       "6         0.0         0.0         0.0         0.0  0.000000e+00    0.000000   \n",
       "\n",
       "     True_value  True_value  True_value  True_value  ...  True_value  \\\n",
       "0  1.044816e-07         0.0         0.0         0.0  ...    0.000000   \n",
       "1  0.000000e+00         0.0         0.0         0.0  ...    0.000000   \n",
       "2  1.150733e-02         0.0         0.0         0.0  ...    0.000000   \n",
       "3  0.000000e+00         0.0         0.0         0.0  ...    0.000000   \n",
       "4  0.000000e+00         0.0         0.0         0.0  ...    0.000000   \n",
       "5  5.086000e-04         0.0         0.0         0.0  ...    0.000000   \n",
       "6  0.000000e+00         0.0         0.0         0.0  ...    0.022043   \n",
       "\n",
       "     True_value  True_value    True_value  True_value  True_value  True_value  \\\n",
       "0  0.000000e+00    0.000000  0.000000e+00         0.0         0.0         0.0   \n",
       "1  0.000000e+00    0.000000  0.000000e+00         0.0         0.0         0.0   \n",
       "2  7.683623e-10    0.000005  4.013955e-08         0.0         0.0         0.0   \n",
       "3  2.402814e-05    0.000650  8.526243e-09         0.0         0.0         0.0   \n",
       "4  7.271623e-04    0.003871  0.000000e+00         0.0         0.0         0.0   \n",
       "5  2.217396e-03    0.005884  0.000000e+00         0.0         0.0         0.0   \n",
       "6  9.133409e-06    0.054010  4.412074e-04         0.0         0.0         0.0   \n",
       "\n",
       "   True_value  True_value  True_value  \n",
       "0         0.0         0.0         0.0  \n",
       "1         0.0         0.0         0.0  \n",
       "2         0.0         0.0         0.0  \n",
       "3         0.0         0.0         0.0  \n",
       "4         0.0         0.0         0.0  \n",
       "5         0.0         0.0         0.0  \n",
       "6         0.0         0.0         0.0  \n",
       "\n",
       "[7 rows x 910 columns]"
      ]
     },
     "execution_count": 23,
     "metadata": {},
     "output_type": "execute_result"
    }
   ],
   "source": [
    "exp_true"
   ]
  },
  {
   "cell_type": "code",
   "execution_count": 24,
   "id": "fbc09b78-d34e-434e-8232-ee3be25766e9",
   "metadata": {},
   "outputs": [],
   "source": [
    "# sum the true values - since the sub images are not overlapping, we can get the sum across columns in the above dataframe\n",
    "sum_true_values = exp_true.sum(axis = 1)"
   ]
  },
  {
   "cell_type": "code",
   "execution_count": 25,
   "id": "6057a433-4dfb-4804-bbac-ea3dacce11e6",
   "metadata": {},
   "outputs": [
    {
     "data": {
      "text/plain": [
       "0    40.000661\n",
       "1    39.000002\n",
       "2    41.000000\n",
       "3    31.000000\n",
       "4    32.000000\n",
       "5    40.002086\n",
       "6    27.000176\n",
       "dtype: float64"
      ]
     },
     "execution_count": 25,
     "metadata": {},
     "output_type": "execute_result"
    }
   ],
   "source": [
    "sum_true_values"
   ]
  },
  {
   "cell_type": "code",
   "execution_count": 26,
   "id": "2fc2ac3e-59e7-4f27-91ab-31d30b4eeaa7",
   "metadata": {},
   "outputs": [],
   "source": [
    "# get the forecasted values\n",
    "Forecasted_values_df = combined_df[['Forecasted_value']]"
   ]
  },
  {
   "cell_type": "code",
   "execution_count": 27,
   "id": "4d4182a4-7ede-4ffc-b952-08aa47d424d0",
   "metadata": {},
   "outputs": [
    {
     "data": {
      "text/html": [
       "<div>\n",
       "<style scoped>\n",
       "    .dataframe tbody tr th:only-of-type {\n",
       "        vertical-align: middle;\n",
       "    }\n",
       "\n",
       "    .dataframe tbody tr th {\n",
       "        vertical-align: top;\n",
       "    }\n",
       "\n",
       "    .dataframe thead th {\n",
       "        text-align: right;\n",
       "    }\n",
       "</style>\n",
       "<table border=\"1\" class=\"dataframe\">\n",
       "  <thead>\n",
       "    <tr style=\"text-align: right;\">\n",
       "      <th></th>\n",
       "      <th>Forecasted_value</th>\n",
       "      <th>Forecasted_value</th>\n",
       "      <th>Forecasted_value</th>\n",
       "      <th>Forecasted_value</th>\n",
       "      <th>Forecasted_value</th>\n",
       "      <th>Forecasted_value</th>\n",
       "      <th>Forecasted_value</th>\n",
       "      <th>Forecasted_value</th>\n",
       "      <th>Forecasted_value</th>\n",
       "      <th>Forecasted_value</th>\n",
       "      <th>...</th>\n",
       "      <th>Forecasted_value</th>\n",
       "      <th>Forecasted_value</th>\n",
       "      <th>Forecasted_value</th>\n",
       "      <th>Forecasted_value</th>\n",
       "      <th>Forecasted_value</th>\n",
       "      <th>Forecasted_value</th>\n",
       "      <th>Forecasted_value</th>\n",
       "      <th>Forecasted_value</th>\n",
       "      <th>Forecasted_value</th>\n",
       "      <th>Forecasted_value</th>\n",
       "    </tr>\n",
       "  </thead>\n",
       "  <tbody>\n",
       "    <tr>\n",
       "      <th>0</th>\n",
       "      <td>-0.008622</td>\n",
       "      <td>-0.004020</td>\n",
       "      <td>-0.013600</td>\n",
       "      <td>-0.016808</td>\n",
       "      <td>-0.003117</td>\n",
       "      <td>0.095382</td>\n",
       "      <td>0.045459</td>\n",
       "      <td>0.036910</td>\n",
       "      <td>-0.004830</td>\n",
       "      <td>-0.003631</td>\n",
       "      <td>...</td>\n",
       "      <td>-0.006975</td>\n",
       "      <td>0.020388</td>\n",
       "      <td>-0.000016</td>\n",
       "      <td>0.006160</td>\n",
       "      <td>0.004799</td>\n",
       "      <td>-0.007105</td>\n",
       "      <td>-0.012972</td>\n",
       "      <td>-0.008735</td>\n",
       "      <td>0.002620</td>\n",
       "      <td>0.005498</td>\n",
       "    </tr>\n",
       "    <tr>\n",
       "      <th>1</th>\n",
       "      <td>-0.003352</td>\n",
       "      <td>-0.001749</td>\n",
       "      <td>-0.005783</td>\n",
       "      <td>0.007102</td>\n",
       "      <td>0.000372</td>\n",
       "      <td>0.086942</td>\n",
       "      <td>0.050358</td>\n",
       "      <td>0.029387</td>\n",
       "      <td>-0.000118</td>\n",
       "      <td>-0.006368</td>\n",
       "      <td>...</td>\n",
       "      <td>-0.002359</td>\n",
       "      <td>0.014716</td>\n",
       "      <td>0.013672</td>\n",
       "      <td>0.006646</td>\n",
       "      <td>-0.000384</td>\n",
       "      <td>0.000033</td>\n",
       "      <td>-0.001411</td>\n",
       "      <td>0.000213</td>\n",
       "      <td>0.000874</td>\n",
       "      <td>0.001592</td>\n",
       "    </tr>\n",
       "    <tr>\n",
       "      <th>2</th>\n",
       "      <td>-0.003265</td>\n",
       "      <td>-0.003800</td>\n",
       "      <td>-0.001575</td>\n",
       "      <td>0.001654</td>\n",
       "      <td>-0.000544</td>\n",
       "      <td>0.077602</td>\n",
       "      <td>0.056216</td>\n",
       "      <td>0.033716</td>\n",
       "      <td>-0.001760</td>\n",
       "      <td>-0.005804</td>\n",
       "      <td>...</td>\n",
       "      <td>-0.003766</td>\n",
       "      <td>0.019808</td>\n",
       "      <td>0.023486</td>\n",
       "      <td>0.001851</td>\n",
       "      <td>-0.002185</td>\n",
       "      <td>-0.004479</td>\n",
       "      <td>-0.006052</td>\n",
       "      <td>-0.002207</td>\n",
       "      <td>-0.006147</td>\n",
       "      <td>-0.003249</td>\n",
       "    </tr>\n",
       "    <tr>\n",
       "      <th>3</th>\n",
       "      <td>-0.002662</td>\n",
       "      <td>-0.003518</td>\n",
       "      <td>0.004136</td>\n",
       "      <td>0.011356</td>\n",
       "      <td>0.001134</td>\n",
       "      <td>0.084737</td>\n",
       "      <td>0.039150</td>\n",
       "      <td>0.039714</td>\n",
       "      <td>0.007798</td>\n",
       "      <td>-0.002904</td>\n",
       "      <td>...</td>\n",
       "      <td>-0.002133</td>\n",
       "      <td>0.005871</td>\n",
       "      <td>-0.008419</td>\n",
       "      <td>-0.015027</td>\n",
       "      <td>0.000346</td>\n",
       "      <td>-0.001618</td>\n",
       "      <td>0.006355</td>\n",
       "      <td>0.001497</td>\n",
       "      <td>-0.000994</td>\n",
       "      <td>0.003673</td>\n",
       "    </tr>\n",
       "    <tr>\n",
       "      <th>4</th>\n",
       "      <td>-0.003706</td>\n",
       "      <td>-0.004616</td>\n",
       "      <td>-0.001090</td>\n",
       "      <td>-0.006067</td>\n",
       "      <td>0.001924</td>\n",
       "      <td>0.092911</td>\n",
       "      <td>0.089849</td>\n",
       "      <td>0.015549</td>\n",
       "      <td>0.000755</td>\n",
       "      <td>-0.002149</td>\n",
       "      <td>...</td>\n",
       "      <td>0.002175</td>\n",
       "      <td>0.005437</td>\n",
       "      <td>-0.010796</td>\n",
       "      <td>-0.006548</td>\n",
       "      <td>0.005557</td>\n",
       "      <td>-0.002414</td>\n",
       "      <td>0.002233</td>\n",
       "      <td>0.002590</td>\n",
       "      <td>-0.004778</td>\n",
       "      <td>0.003327</td>\n",
       "    </tr>\n",
       "  </tbody>\n",
       "</table>\n",
       "<p>5 rows × 910 columns</p>\n",
       "</div>"
      ],
      "text/plain": [
       "   Forecasted_value  Forecasted_value  Forecasted_value  Forecasted_value  \\\n",
       "0         -0.008622         -0.004020         -0.013600         -0.016808   \n",
       "1         -0.003352         -0.001749         -0.005783          0.007102   \n",
       "2         -0.003265         -0.003800         -0.001575          0.001654   \n",
       "3         -0.002662         -0.003518          0.004136          0.011356   \n",
       "4         -0.003706         -0.004616         -0.001090         -0.006067   \n",
       "\n",
       "   Forecasted_value  Forecasted_value  Forecasted_value  Forecasted_value  \\\n",
       "0         -0.003117          0.095382          0.045459          0.036910   \n",
       "1          0.000372          0.086942          0.050358          0.029387   \n",
       "2         -0.000544          0.077602          0.056216          0.033716   \n",
       "3          0.001134          0.084737          0.039150          0.039714   \n",
       "4          0.001924          0.092911          0.089849          0.015549   \n",
       "\n",
       "   Forecasted_value  Forecasted_value  ...  Forecasted_value  \\\n",
       "0         -0.004830         -0.003631  ...         -0.006975   \n",
       "1         -0.000118         -0.006368  ...         -0.002359   \n",
       "2         -0.001760         -0.005804  ...         -0.003766   \n",
       "3          0.007798         -0.002904  ...         -0.002133   \n",
       "4          0.000755         -0.002149  ...          0.002175   \n",
       "\n",
       "   Forecasted_value  Forecasted_value  Forecasted_value  Forecasted_value  \\\n",
       "0          0.020388         -0.000016          0.006160          0.004799   \n",
       "1          0.014716          0.013672          0.006646         -0.000384   \n",
       "2          0.019808          0.023486          0.001851         -0.002185   \n",
       "3          0.005871         -0.008419         -0.015027          0.000346   \n",
       "4          0.005437         -0.010796         -0.006548          0.005557   \n",
       "\n",
       "   Forecasted_value  Forecasted_value  Forecasted_value  Forecasted_value  \\\n",
       "0         -0.007105         -0.012972         -0.008735          0.002620   \n",
       "1          0.000033         -0.001411          0.000213          0.000874   \n",
       "2         -0.004479         -0.006052         -0.002207         -0.006147   \n",
       "3         -0.001618          0.006355          0.001497         -0.000994   \n",
       "4         -0.002414          0.002233          0.002590         -0.004778   \n",
       "\n",
       "   Forecasted_value  \n",
       "0          0.005498  \n",
       "1          0.001592  \n",
       "2         -0.003249  \n",
       "3          0.003673  \n",
       "4          0.003327  \n",
       "\n",
       "[5 rows x 910 columns]"
      ]
     },
     "execution_count": 27,
     "metadata": {},
     "output_type": "execute_result"
    }
   ],
   "source": [
    "Forecasted_values_df.head()"
   ]
  },
  {
   "cell_type": "code",
   "execution_count": 28,
   "id": "c4e2130b-9b6b-40b7-9efe-4cd6cd30c107",
   "metadata": {},
   "outputs": [],
   "source": [
    "exp_forecasted = np.exp(Forecasted_values_df)-1"
   ]
  },
  {
   "cell_type": "code",
   "execution_count": 29,
   "id": "60cd0006-0367-436e-b3c8-282e12e01146",
   "metadata": {},
   "outputs": [
    {
     "data": {
      "text/html": [
       "<div>\n",
       "<style scoped>\n",
       "    .dataframe tbody tr th:only-of-type {\n",
       "        vertical-align: middle;\n",
       "    }\n",
       "\n",
       "    .dataframe tbody tr th {\n",
       "        vertical-align: top;\n",
       "    }\n",
       "\n",
       "    .dataframe thead th {\n",
       "        text-align: right;\n",
       "    }\n",
       "</style>\n",
       "<table border=\"1\" class=\"dataframe\">\n",
       "  <thead>\n",
       "    <tr style=\"text-align: right;\">\n",
       "      <th></th>\n",
       "      <th>Forecasted_value</th>\n",
       "      <th>Forecasted_value</th>\n",
       "      <th>Forecasted_value</th>\n",
       "      <th>Forecasted_value</th>\n",
       "      <th>Forecasted_value</th>\n",
       "      <th>Forecasted_value</th>\n",
       "      <th>Forecasted_value</th>\n",
       "      <th>Forecasted_value</th>\n",
       "      <th>Forecasted_value</th>\n",
       "      <th>Forecasted_value</th>\n",
       "      <th>...</th>\n",
       "      <th>Forecasted_value</th>\n",
       "      <th>Forecasted_value</th>\n",
       "      <th>Forecasted_value</th>\n",
       "      <th>Forecasted_value</th>\n",
       "      <th>Forecasted_value</th>\n",
       "      <th>Forecasted_value</th>\n",
       "      <th>Forecasted_value</th>\n",
       "      <th>Forecasted_value</th>\n",
       "      <th>Forecasted_value</th>\n",
       "      <th>Forecasted_value</th>\n",
       "    </tr>\n",
       "  </thead>\n",
       "  <tbody>\n",
       "    <tr>\n",
       "      <th>0</th>\n",
       "      <td>-0.008585</td>\n",
       "      <td>-0.004012</td>\n",
       "      <td>-0.013508</td>\n",
       "      <td>-0.016668</td>\n",
       "      <td>-0.003112</td>\n",
       "      <td>0.100079</td>\n",
       "      <td>0.046508</td>\n",
       "      <td>0.037600</td>\n",
       "      <td>-0.004819</td>\n",
       "      <td>-0.003624</td>\n",
       "      <td>...</td>\n",
       "      <td>-0.006951</td>\n",
       "      <td>0.020598</td>\n",
       "      <td>-0.000016</td>\n",
       "      <td>0.006179</td>\n",
       "      <td>0.004810</td>\n",
       "      <td>-0.007080</td>\n",
       "      <td>-0.012889</td>\n",
       "      <td>-0.008697</td>\n",
       "      <td>0.002623</td>\n",
       "      <td>0.005513</td>\n",
       "    </tr>\n",
       "    <tr>\n",
       "      <th>1</th>\n",
       "      <td>-0.003347</td>\n",
       "      <td>-0.001747</td>\n",
       "      <td>-0.005767</td>\n",
       "      <td>0.007127</td>\n",
       "      <td>0.000373</td>\n",
       "      <td>0.090833</td>\n",
       "      <td>0.051647</td>\n",
       "      <td>0.029823</td>\n",
       "      <td>-0.000118</td>\n",
       "      <td>-0.006347</td>\n",
       "      <td>...</td>\n",
       "      <td>-0.002356</td>\n",
       "      <td>0.014825</td>\n",
       "      <td>0.013765</td>\n",
       "      <td>0.006668</td>\n",
       "      <td>-0.000384</td>\n",
       "      <td>0.000033</td>\n",
       "      <td>-0.001410</td>\n",
       "      <td>0.000213</td>\n",
       "      <td>0.000875</td>\n",
       "      <td>0.001594</td>\n",
       "    </tr>\n",
       "    <tr>\n",
       "      <th>2</th>\n",
       "      <td>-0.003259</td>\n",
       "      <td>-0.003793</td>\n",
       "      <td>-0.001574</td>\n",
       "      <td>0.001655</td>\n",
       "      <td>-0.000544</td>\n",
       "      <td>0.080693</td>\n",
       "      <td>0.057826</td>\n",
       "      <td>0.034291</td>\n",
       "      <td>-0.001758</td>\n",
       "      <td>-0.005788</td>\n",
       "      <td>...</td>\n",
       "      <td>-0.003759</td>\n",
       "      <td>0.020005</td>\n",
       "      <td>0.023764</td>\n",
       "      <td>0.001852</td>\n",
       "      <td>-0.002183</td>\n",
       "      <td>-0.004469</td>\n",
       "      <td>-0.006034</td>\n",
       "      <td>-0.002204</td>\n",
       "      <td>-0.006128</td>\n",
       "      <td>-0.003244</td>\n",
       "    </tr>\n",
       "    <tr>\n",
       "      <th>3</th>\n",
       "      <td>-0.002658</td>\n",
       "      <td>-0.003512</td>\n",
       "      <td>0.004145</td>\n",
       "      <td>0.011420</td>\n",
       "      <td>0.001135</td>\n",
       "      <td>0.088431</td>\n",
       "      <td>0.039927</td>\n",
       "      <td>0.040513</td>\n",
       "      <td>0.007829</td>\n",
       "      <td>-0.002900</td>\n",
       "      <td>...</td>\n",
       "      <td>-0.002131</td>\n",
       "      <td>0.005888</td>\n",
       "      <td>-0.008383</td>\n",
       "      <td>-0.014915</td>\n",
       "      <td>0.000346</td>\n",
       "      <td>-0.001616</td>\n",
       "      <td>0.006375</td>\n",
       "      <td>0.001498</td>\n",
       "      <td>-0.000994</td>\n",
       "      <td>0.003680</td>\n",
       "    </tr>\n",
       "    <tr>\n",
       "      <th>4</th>\n",
       "      <td>-0.003700</td>\n",
       "      <td>-0.004605</td>\n",
       "      <td>-0.001089</td>\n",
       "      <td>-0.006048</td>\n",
       "      <td>0.001926</td>\n",
       "      <td>0.097364</td>\n",
       "      <td>0.094009</td>\n",
       "      <td>0.015671</td>\n",
       "      <td>0.000756</td>\n",
       "      <td>-0.002147</td>\n",
       "      <td>...</td>\n",
       "      <td>0.002177</td>\n",
       "      <td>0.005452</td>\n",
       "      <td>-0.010738</td>\n",
       "      <td>-0.006526</td>\n",
       "      <td>0.005572</td>\n",
       "      <td>-0.002411</td>\n",
       "      <td>0.002235</td>\n",
       "      <td>0.002594</td>\n",
       "      <td>-0.004766</td>\n",
       "      <td>0.003333</td>\n",
       "    </tr>\n",
       "    <tr>\n",
       "      <th>5</th>\n",
       "      <td>-0.002841</td>\n",
       "      <td>-0.004445</td>\n",
       "      <td>0.007234</td>\n",
       "      <td>0.009438</td>\n",
       "      <td>0.003734</td>\n",
       "      <td>0.083782</td>\n",
       "      <td>0.064041</td>\n",
       "      <td>0.042502</td>\n",
       "      <td>0.007232</td>\n",
       "      <td>-0.000615</td>\n",
       "      <td>...</td>\n",
       "      <td>0.002111</td>\n",
       "      <td>0.018329</td>\n",
       "      <td>-0.003870</td>\n",
       "      <td>0.001013</td>\n",
       "      <td>-0.000258</td>\n",
       "      <td>0.000135</td>\n",
       "      <td>0.008076</td>\n",
       "      <td>0.001409</td>\n",
       "      <td>-0.003237</td>\n",
       "      <td>0.000980</td>\n",
       "    </tr>\n",
       "    <tr>\n",
       "      <th>6</th>\n",
       "      <td>-0.001492</td>\n",
       "      <td>0.000425</td>\n",
       "      <td>-0.000646</td>\n",
       "      <td>-0.002547</td>\n",
       "      <td>-0.000422</td>\n",
       "      <td>0.084026</td>\n",
       "      <td>0.008427</td>\n",
       "      <td>0.028524</td>\n",
       "      <td>0.003119</td>\n",
       "      <td>-0.000042</td>\n",
       "      <td>...</td>\n",
       "      <td>-0.000313</td>\n",
       "      <td>0.010703</td>\n",
       "      <td>-0.005131</td>\n",
       "      <td>-0.002758</td>\n",
       "      <td>-0.003988</td>\n",
       "      <td>-0.002416</td>\n",
       "      <td>0.003056</td>\n",
       "      <td>-0.000568</td>\n",
       "      <td>-0.002055</td>\n",
       "      <td>-0.000131</td>\n",
       "    </tr>\n",
       "  </tbody>\n",
       "</table>\n",
       "<p>7 rows × 910 columns</p>\n",
       "</div>"
      ],
      "text/plain": [
       "   Forecasted_value  Forecasted_value  Forecasted_value  Forecasted_value  \\\n",
       "0         -0.008585         -0.004012         -0.013508         -0.016668   \n",
       "1         -0.003347         -0.001747         -0.005767          0.007127   \n",
       "2         -0.003259         -0.003793         -0.001574          0.001655   \n",
       "3         -0.002658         -0.003512          0.004145          0.011420   \n",
       "4         -0.003700         -0.004605         -0.001089         -0.006048   \n",
       "5         -0.002841         -0.004445          0.007234          0.009438   \n",
       "6         -0.001492          0.000425         -0.000646         -0.002547   \n",
       "\n",
       "   Forecasted_value  Forecasted_value  Forecasted_value  Forecasted_value  \\\n",
       "0         -0.003112          0.100079          0.046508          0.037600   \n",
       "1          0.000373          0.090833          0.051647          0.029823   \n",
       "2         -0.000544          0.080693          0.057826          0.034291   \n",
       "3          0.001135          0.088431          0.039927          0.040513   \n",
       "4          0.001926          0.097364          0.094009          0.015671   \n",
       "5          0.003734          0.083782          0.064041          0.042502   \n",
       "6         -0.000422          0.084026          0.008427          0.028524   \n",
       "\n",
       "   Forecasted_value  Forecasted_value  ...  Forecasted_value  \\\n",
       "0         -0.004819         -0.003624  ...         -0.006951   \n",
       "1         -0.000118         -0.006347  ...         -0.002356   \n",
       "2         -0.001758         -0.005788  ...         -0.003759   \n",
       "3          0.007829         -0.002900  ...         -0.002131   \n",
       "4          0.000756         -0.002147  ...          0.002177   \n",
       "5          0.007232         -0.000615  ...          0.002111   \n",
       "6          0.003119         -0.000042  ...         -0.000313   \n",
       "\n",
       "   Forecasted_value  Forecasted_value  Forecasted_value  Forecasted_value  \\\n",
       "0          0.020598         -0.000016          0.006179          0.004810   \n",
       "1          0.014825          0.013765          0.006668         -0.000384   \n",
       "2          0.020005          0.023764          0.001852         -0.002183   \n",
       "3          0.005888         -0.008383         -0.014915          0.000346   \n",
       "4          0.005452         -0.010738         -0.006526          0.005572   \n",
       "5          0.018329         -0.003870          0.001013         -0.000258   \n",
       "6          0.010703         -0.005131         -0.002758         -0.003988   \n",
       "\n",
       "   Forecasted_value  Forecasted_value  Forecasted_value  Forecasted_value  \\\n",
       "0         -0.007080         -0.012889         -0.008697          0.002623   \n",
       "1          0.000033         -0.001410          0.000213          0.000875   \n",
       "2         -0.004469         -0.006034         -0.002204         -0.006128   \n",
       "3         -0.001616          0.006375          0.001498         -0.000994   \n",
       "4         -0.002411          0.002235          0.002594         -0.004766   \n",
       "5          0.000135          0.008076          0.001409         -0.003237   \n",
       "6         -0.002416          0.003056         -0.000568         -0.002055   \n",
       "\n",
       "   Forecasted_value  \n",
       "0          0.005513  \n",
       "1          0.001594  \n",
       "2         -0.003244  \n",
       "3          0.003680  \n",
       "4          0.003333  \n",
       "5          0.000980  \n",
       "6         -0.000131  \n",
       "\n",
       "[7 rows x 910 columns]"
      ]
     },
     "execution_count": 29,
     "metadata": {},
     "output_type": "execute_result"
    }
   ],
   "source": [
    "exp_forecasted"
   ]
  },
  {
   "cell_type": "code",
   "execution_count": 30,
   "id": "cdc66bd6-b552-4dcd-9703-e07b035fb736",
   "metadata": {},
   "outputs": [],
   "source": [
    "# set the values to 0 if the forecasted count is negative?"
   ]
  },
  {
   "cell_type": "code",
   "execution_count": 31,
   "id": "56eddb77-a48e-409d-9684-10bb31132568",
   "metadata": {},
   "outputs": [],
   "source": [
    "exp_forecasted[exp_forecasted < 0] = 0"
   ]
  },
  {
   "cell_type": "code",
   "execution_count": 32,
   "id": "c96eedde-fcfa-4f54-b8cb-d5f5cb3d6493",
   "metadata": {},
   "outputs": [
    {
     "data": {
      "text/html": [
       "<div>\n",
       "<style scoped>\n",
       "    .dataframe tbody tr th:only-of-type {\n",
       "        vertical-align: middle;\n",
       "    }\n",
       "\n",
       "    .dataframe tbody tr th {\n",
       "        vertical-align: top;\n",
       "    }\n",
       "\n",
       "    .dataframe thead th {\n",
       "        text-align: right;\n",
       "    }\n",
       "</style>\n",
       "<table border=\"1\" class=\"dataframe\">\n",
       "  <thead>\n",
       "    <tr style=\"text-align: right;\">\n",
       "      <th></th>\n",
       "      <th>Forecasted_value</th>\n",
       "      <th>Forecasted_value</th>\n",
       "      <th>Forecasted_value</th>\n",
       "      <th>Forecasted_value</th>\n",
       "      <th>Forecasted_value</th>\n",
       "      <th>Forecasted_value</th>\n",
       "      <th>Forecasted_value</th>\n",
       "      <th>Forecasted_value</th>\n",
       "      <th>Forecasted_value</th>\n",
       "      <th>Forecasted_value</th>\n",
       "      <th>...</th>\n",
       "      <th>Forecasted_value</th>\n",
       "      <th>Forecasted_value</th>\n",
       "      <th>Forecasted_value</th>\n",
       "      <th>Forecasted_value</th>\n",
       "      <th>Forecasted_value</th>\n",
       "      <th>Forecasted_value</th>\n",
       "      <th>Forecasted_value</th>\n",
       "      <th>Forecasted_value</th>\n",
       "      <th>Forecasted_value</th>\n",
       "      <th>Forecasted_value</th>\n",
       "    </tr>\n",
       "  </thead>\n",
       "  <tbody>\n",
       "    <tr>\n",
       "      <th>0</th>\n",
       "      <td>0.0</td>\n",
       "      <td>0.0</td>\n",
       "      <td>0.000000</td>\n",
       "      <td>0.000000</td>\n",
       "      <td>0.000000</td>\n",
       "      <td>0.100079</td>\n",
       "      <td>0.046508</td>\n",
       "      <td>0.037600</td>\n",
       "      <td>0.000000</td>\n",
       "      <td>0.0</td>\n",
       "      <td>...</td>\n",
       "      <td>0.000000</td>\n",
       "      <td>0.020598</td>\n",
       "      <td>0.000000</td>\n",
       "      <td>0.006179</td>\n",
       "      <td>0.004810</td>\n",
       "      <td>0.000000</td>\n",
       "      <td>0.000000</td>\n",
       "      <td>0.000000</td>\n",
       "      <td>0.002623</td>\n",
       "      <td>0.005513</td>\n",
       "    </tr>\n",
       "    <tr>\n",
       "      <th>1</th>\n",
       "      <td>0.0</td>\n",
       "      <td>0.0</td>\n",
       "      <td>0.000000</td>\n",
       "      <td>0.007127</td>\n",
       "      <td>0.000373</td>\n",
       "      <td>0.090833</td>\n",
       "      <td>0.051647</td>\n",
       "      <td>0.029823</td>\n",
       "      <td>0.000000</td>\n",
       "      <td>0.0</td>\n",
       "      <td>...</td>\n",
       "      <td>0.000000</td>\n",
       "      <td>0.014825</td>\n",
       "      <td>0.013765</td>\n",
       "      <td>0.006668</td>\n",
       "      <td>0.000000</td>\n",
       "      <td>0.000033</td>\n",
       "      <td>0.000000</td>\n",
       "      <td>0.000213</td>\n",
       "      <td>0.000875</td>\n",
       "      <td>0.001594</td>\n",
       "    </tr>\n",
       "    <tr>\n",
       "      <th>2</th>\n",
       "      <td>0.0</td>\n",
       "      <td>0.0</td>\n",
       "      <td>0.000000</td>\n",
       "      <td>0.001655</td>\n",
       "      <td>0.000000</td>\n",
       "      <td>0.080693</td>\n",
       "      <td>0.057826</td>\n",
       "      <td>0.034291</td>\n",
       "      <td>0.000000</td>\n",
       "      <td>0.0</td>\n",
       "      <td>...</td>\n",
       "      <td>0.000000</td>\n",
       "      <td>0.020005</td>\n",
       "      <td>0.023764</td>\n",
       "      <td>0.001852</td>\n",
       "      <td>0.000000</td>\n",
       "      <td>0.000000</td>\n",
       "      <td>0.000000</td>\n",
       "      <td>0.000000</td>\n",
       "      <td>0.000000</td>\n",
       "      <td>0.000000</td>\n",
       "    </tr>\n",
       "    <tr>\n",
       "      <th>3</th>\n",
       "      <td>0.0</td>\n",
       "      <td>0.0</td>\n",
       "      <td>0.004145</td>\n",
       "      <td>0.011420</td>\n",
       "      <td>0.001135</td>\n",
       "      <td>0.088431</td>\n",
       "      <td>0.039927</td>\n",
       "      <td>0.040513</td>\n",
       "      <td>0.007829</td>\n",
       "      <td>0.0</td>\n",
       "      <td>...</td>\n",
       "      <td>0.000000</td>\n",
       "      <td>0.005888</td>\n",
       "      <td>0.000000</td>\n",
       "      <td>0.000000</td>\n",
       "      <td>0.000346</td>\n",
       "      <td>0.000000</td>\n",
       "      <td>0.006375</td>\n",
       "      <td>0.001498</td>\n",
       "      <td>0.000000</td>\n",
       "      <td>0.003680</td>\n",
       "    </tr>\n",
       "    <tr>\n",
       "      <th>4</th>\n",
       "      <td>0.0</td>\n",
       "      <td>0.0</td>\n",
       "      <td>0.000000</td>\n",
       "      <td>0.000000</td>\n",
       "      <td>0.001926</td>\n",
       "      <td>0.097364</td>\n",
       "      <td>0.094009</td>\n",
       "      <td>0.015671</td>\n",
       "      <td>0.000756</td>\n",
       "      <td>0.0</td>\n",
       "      <td>...</td>\n",
       "      <td>0.002177</td>\n",
       "      <td>0.005452</td>\n",
       "      <td>0.000000</td>\n",
       "      <td>0.000000</td>\n",
       "      <td>0.005572</td>\n",
       "      <td>0.000000</td>\n",
       "      <td>0.002235</td>\n",
       "      <td>0.002594</td>\n",
       "      <td>0.000000</td>\n",
       "      <td>0.003333</td>\n",
       "    </tr>\n",
       "  </tbody>\n",
       "</table>\n",
       "<p>5 rows × 910 columns</p>\n",
       "</div>"
      ],
      "text/plain": [
       "   Forecasted_value  Forecasted_value  Forecasted_value  Forecasted_value  \\\n",
       "0               0.0               0.0          0.000000          0.000000   \n",
       "1               0.0               0.0          0.000000          0.007127   \n",
       "2               0.0               0.0          0.000000          0.001655   \n",
       "3               0.0               0.0          0.004145          0.011420   \n",
       "4               0.0               0.0          0.000000          0.000000   \n",
       "\n",
       "   Forecasted_value  Forecasted_value  Forecasted_value  Forecasted_value  \\\n",
       "0          0.000000          0.100079          0.046508          0.037600   \n",
       "1          0.000373          0.090833          0.051647          0.029823   \n",
       "2          0.000000          0.080693          0.057826          0.034291   \n",
       "3          0.001135          0.088431          0.039927          0.040513   \n",
       "4          0.001926          0.097364          0.094009          0.015671   \n",
       "\n",
       "   Forecasted_value  Forecasted_value  ...  Forecasted_value  \\\n",
       "0          0.000000               0.0  ...          0.000000   \n",
       "1          0.000000               0.0  ...          0.000000   \n",
       "2          0.000000               0.0  ...          0.000000   \n",
       "3          0.007829               0.0  ...          0.000000   \n",
       "4          0.000756               0.0  ...          0.002177   \n",
       "\n",
       "   Forecasted_value  Forecasted_value  Forecasted_value  Forecasted_value  \\\n",
       "0          0.020598          0.000000          0.006179          0.004810   \n",
       "1          0.014825          0.013765          0.006668          0.000000   \n",
       "2          0.020005          0.023764          0.001852          0.000000   \n",
       "3          0.005888          0.000000          0.000000          0.000346   \n",
       "4          0.005452          0.000000          0.000000          0.005572   \n",
       "\n",
       "   Forecasted_value  Forecasted_value  Forecasted_value  Forecasted_value  \\\n",
       "0          0.000000          0.000000          0.000000          0.002623   \n",
       "1          0.000033          0.000000          0.000213          0.000875   \n",
       "2          0.000000          0.000000          0.000000          0.000000   \n",
       "3          0.000000          0.006375          0.001498          0.000000   \n",
       "4          0.000000          0.002235          0.002594          0.000000   \n",
       "\n",
       "   Forecasted_value  \n",
       "0          0.005513  \n",
       "1          0.001594  \n",
       "2          0.000000  \n",
       "3          0.003680  \n",
       "4          0.003333  \n",
       "\n",
       "[5 rows x 910 columns]"
      ]
     },
     "execution_count": 32,
     "metadata": {},
     "output_type": "execute_result"
    }
   ],
   "source": [
    "exp_forecasted.head()"
   ]
  },
  {
   "cell_type": "code",
   "execution_count": 33,
   "id": "92bcf82f-ca31-4b25-a919-c8d51d72cfa7",
   "metadata": {},
   "outputs": [],
   "source": [
    "sum_forecasted_values = exp_forecasted.sum(axis = 1)"
   ]
  },
  {
   "cell_type": "code",
   "execution_count": 34,
   "id": "7f0e1119-a3bd-4a52-ae36-afa2c2070e2b",
   "metadata": {},
   "outputs": [
    {
     "data": {
      "text/plain": [
       "0    21.526836\n",
       "1    25.338087\n",
       "2    27.422520\n",
       "3    19.436150\n",
       "4    17.969685\n",
       "5    21.965814\n",
       "6    18.875880\n",
       "dtype: float64"
      ]
     },
     "execution_count": 34,
     "metadata": {},
     "output_type": "execute_result"
    }
   ],
   "source": [
    "sum_forecasted_values"
   ]
  },
  {
   "cell_type": "code",
   "execution_count": 35,
   "id": "cbc06a7e-2dca-400d-9cea-d063c33a4442",
   "metadata": {},
   "outputs": [],
   "source": [
    "# concatenate the sum dataframes\n",
    "block_0103_true_and_forecasted_values_df = pd.concat((sum_true_values, sum_forecasted_values), axis = 1)"
   ]
  },
  {
   "cell_type": "code",
   "execution_count": 36,
   "id": "f667f3a6-d7f7-4e7c-a037-1e9541dd38bd",
   "metadata": {},
   "outputs": [],
   "source": [
    "block_0103_true_and_forecasted_values_df.columns = [\"True_count\", \"Forecasted_count\"]"
   ]
  },
  {
   "cell_type": "code",
   "execution_count": 37,
   "id": "d27b93db-c9e2-49ff-9003-9e4925de3179",
   "metadata": {},
   "outputs": [
    {
     "data": {
      "text/html": [
       "<div>\n",
       "<style scoped>\n",
       "    .dataframe tbody tr th:only-of-type {\n",
       "        vertical-align: middle;\n",
       "    }\n",
       "\n",
       "    .dataframe tbody tr th {\n",
       "        vertical-align: top;\n",
       "    }\n",
       "\n",
       "    .dataframe thead th {\n",
       "        text-align: right;\n",
       "    }\n",
       "</style>\n",
       "<table border=\"1\" class=\"dataframe\">\n",
       "  <thead>\n",
       "    <tr style=\"text-align: right;\">\n",
       "      <th></th>\n",
       "      <th>True_count</th>\n",
       "      <th>Forecasted_count</th>\n",
       "    </tr>\n",
       "  </thead>\n",
       "  <tbody>\n",
       "    <tr>\n",
       "      <th>0</th>\n",
       "      <td>40.000661</td>\n",
       "      <td>21.526836</td>\n",
       "    </tr>\n",
       "    <tr>\n",
       "      <th>1</th>\n",
       "      <td>39.000002</td>\n",
       "      <td>25.338087</td>\n",
       "    </tr>\n",
       "    <tr>\n",
       "      <th>2</th>\n",
       "      <td>41.000000</td>\n",
       "      <td>27.422520</td>\n",
       "    </tr>\n",
       "    <tr>\n",
       "      <th>3</th>\n",
       "      <td>31.000000</td>\n",
       "      <td>19.436150</td>\n",
       "    </tr>\n",
       "    <tr>\n",
       "      <th>4</th>\n",
       "      <td>32.000000</td>\n",
       "      <td>17.969685</td>\n",
       "    </tr>\n",
       "    <tr>\n",
       "      <th>5</th>\n",
       "      <td>40.002086</td>\n",
       "      <td>21.965814</td>\n",
       "    </tr>\n",
       "    <tr>\n",
       "      <th>6</th>\n",
       "      <td>27.000176</td>\n",
       "      <td>18.875880</td>\n",
       "    </tr>\n",
       "  </tbody>\n",
       "</table>\n",
       "</div>"
      ],
      "text/plain": [
       "   True_count  Forecasted_count\n",
       "0   40.000661         21.526836\n",
       "1   39.000002         25.338087\n",
       "2   41.000000         27.422520\n",
       "3   31.000000         19.436150\n",
       "4   32.000000         17.969685\n",
       "5   40.002086         21.965814\n",
       "6   27.000176         18.875880"
      ]
     },
     "execution_count": 37,
     "metadata": {},
     "output_type": "execute_result"
    }
   ],
   "source": [
    "block_0103_true_and_forecasted_values_df"
   ]
  },
  {
   "cell_type": "code",
   "execution_count": 38,
   "id": "636d512d-f76b-48dc-90f1-872dc6a32736",
   "metadata": {},
   "outputs": [
    {
     "data": {
      "text/plain": [
       "14.313638471701374"
      ]
     },
     "execution_count": 38,
     "metadata": {},
     "output_type": "execute_result"
    }
   ],
   "source": [
    "# blockwise mean squared error\n",
    "rmse = np.sqrt(mean_squared_error(sum_true_values, sum_forecasted_values))\n",
    "rmse"
   ]
  },
  {
   "cell_type": "code",
   "execution_count": 39,
   "id": "df568443-7d02-4ba8-ad0e-5d83f2576c8b",
   "metadata": {},
   "outputs": [
    {
     "data": {
      "text/plain": [
       "13.923993102180846"
      ]
     },
     "execution_count": 39,
     "metadata": {},
     "output_type": "execute_result"
    }
   ],
   "source": [
    "# blockwise mean absolute error\n",
    "mae = mean_absolute_error(sum_true_values, sum_forecasted_values)\n",
    "mae"
   ]
  },
  {
   "cell_type": "code",
   "execution_count": 40,
   "id": "24d1568b-1b0d-41db-a60b-cd864b46d6e7",
   "metadata": {},
   "outputs": [
    {
     "data": {
      "text/plain": [
       "PearsonRResult(statistic=0.783994336038516, pvalue=0.03693327575016617)"
      ]
     },
     "execution_count": 40,
     "metadata": {},
     "output_type": "execute_result"
    }
   ],
   "source": [
    "corr = pearsonr(sum_true_values, sum_forecasted_values)\n",
    "corr"
   ]
  },
  {
   "cell_type": "code",
   "execution_count": 41,
   "id": "cf8101a2-be23-4216-afd7-f7783e56f62d",
   "metadata": {},
   "outputs": [
    {
     "data": {
      "text/plain": [
       "-6.650940921398718"
      ]
     },
     "execution_count": 41,
     "metadata": {},
     "output_type": "execute_result"
    }
   ],
   "source": [
    "r2 = r2_score(sum_true_values, sum_forecasted_values)\n",
    "r2"
   ]
  },
  {
   "cell_type": "markdown",
   "id": "fa460e4d-2fdc-45fb-8f50-6a50b0a6ef13",
   "metadata": {},
   "source": [
    "##### Coverages and widths for the forecasted values?"
   ]
  },
  {
   "cell_type": "code",
   "execution_count": 42,
   "id": "ab169e66-e011-4b49-aff9-a0bbc6ed682a",
   "metadata": {},
   "outputs": [],
   "source": [
    "# Should we get the interval preds in the same thinking way too?"
   ]
  },
  {
   "cell_type": "code",
   "execution_count": 43,
   "id": "68096274-41ee-4d50-aa90-600dfa7aebbd",
   "metadata": {},
   "outputs": [],
   "source": [
    "# maybe we should - so first convert to data scale before avearging, and see if the measures differ a lot"
   ]
  },
  {
   "cell_type": "code",
   "execution_count": null,
   "id": "dd89055b-d2da-4de1-8f26-aeca49b1b2e7",
   "metadata": {},
   "outputs": [],
   "source": []
  },
  {
   "cell_type": "code",
   "execution_count": null,
   "id": "b7832620-0685-4c21-9c6e-19df746f71fb",
   "metadata": {},
   "outputs": [],
   "source": []
  },
  {
   "cell_type": "code",
   "execution_count": 44,
   "id": "eae4e334-d06f-4950-b09e-ec34cb4f3eba",
   "metadata": {},
   "outputs": [],
   "source": [
    "# for this we need the all_forecasts npy files"
   ]
  },
  {
   "cell_type": "code",
   "execution_count": 45,
   "id": "1ec4f3fa-b7b0-4064-9007-4230b0e64f72",
   "metadata": {},
   "outputs": [],
   "source": [
    "# content location is the same path as above"
   ]
  },
  {
   "cell_type": "code",
   "execution_count": 46,
   "id": "febb8655-c529-4099-b22e-ee36918188d5",
   "metadata": {},
   "outputs": [],
   "source": [
    "all_forecasts_npy_files = ['all_forecasts_sub_' + str(i) + '.npy' for i in range(910)]"
   ]
  },
  {
   "cell_type": "code",
   "execution_count": 47,
   "id": "11eba5f0-5a18-4d7d-a743-d57bc9cf93a4",
   "metadata": {},
   "outputs": [],
   "source": [
    "# all_forecasts_npy_files"
   ]
  },
  {
   "cell_type": "code",
   "execution_count": 48,
   "id": "7711dd37-fd3c-4ac8-b8ae-b4be59dff7fa",
   "metadata": {},
   "outputs": [],
   "source": [
    "# load the npy files"
   ]
  },
  {
   "cell_type": "code",
   "execution_count": 49,
   "id": "57f059e1-25b1-4e6d-b370-9ca0236848ea",
   "metadata": {},
   "outputs": [
    {
     "name": "stdout",
     "output_type": "stream",
     "text": [
      "CPU times: user 828 ms, sys: 488 ms, total: 1.32 s\n",
      "Wall time: 18.7 s\n"
     ]
    }
   ],
   "source": [
    "%%time\n",
    "loaded_npy_files = []\n",
    "for file in all_forecasts_npy_files:\n",
    "    joined_path = os.path.join(path_to_dfs, file)\n",
    "    load_file = np.load(joined_path)\n",
    "    # notice we are averaging the preds across the chains before exponentiation\n",
    "    mean_file = np.exp(np.mean(load_file, axis = 1)) - 1\n",
    "    loaded_npy_files.append(mean_file)"
   ]
  },
  {
   "cell_type": "code",
   "execution_count": 50,
   "id": "78d4c420-8e99-4103-881e-297bc81f909d",
   "metadata": {},
   "outputs": [
    {
     "data": {
      "text/plain": [
       "910"
      ]
     },
     "execution_count": 50,
     "metadata": {},
     "output_type": "execute_result"
    }
   ],
   "source": [
    "len(loaded_npy_files)"
   ]
  },
  {
   "cell_type": "code",
   "execution_count": 51,
   "id": "3cc8627a-822a-4c8e-898a-52957870ccde",
   "metadata": {},
   "outputs": [
    {
     "data": {
      "text/plain": [
       "(1000, 7)"
      ]
     },
     "execution_count": 51,
     "metadata": {},
     "output_type": "execute_result"
    }
   ],
   "source": [
    "loaded_npy_files[0].shape"
   ]
  },
  {
   "cell_type": "code",
   "execution_count": 52,
   "id": "ab72ca92-e8f1-4ce3-9cea-117b673d4529",
   "metadata": {},
   "outputs": [
    {
     "data": {
      "text/plain": [
       "array([[-0.00901258, -0.00065106, -0.00195491, ..., -0.0009644 ,\n",
       "         0.0008353 ,  0.00243044],\n",
       "       [-0.00822181,  0.00031781, -0.00133431, ..., -0.00036073,\n",
       "         0.00060463,  0.00162017],\n",
       "       [-0.00863409, -0.00030988, -0.00121206, ..., -0.00140691,\n",
       "         0.00031173,  0.00127518],\n",
       "       ...,\n",
       "       [-0.00639707, -0.00243479, -0.00292408, ..., -0.002352  ,\n",
       "        -0.0002718 , -0.00139511],\n",
       "       [-0.00617099, -0.00285178, -0.00273949, ..., -0.00199544,\n",
       "        -0.00190312, -0.00112075],\n",
       "       [-0.00466943, -0.00147235, -0.00274545, ..., -0.00077766,\n",
       "         0.00015628, -0.00155425]], dtype=float32)"
      ]
     },
     "execution_count": 52,
     "metadata": {},
     "output_type": "execute_result"
    }
   ],
   "source": [
    "loaded_npy_files[0]"
   ]
  },
  {
   "cell_type": "code",
   "execution_count": 53,
   "id": "53dd5c88-918c-46a0-b5ae-cb7c75895741",
   "metadata": {},
   "outputs": [
    {
     "name": "stdout",
     "output_type": "stream",
     "text": [
      "CPU times: user 22.6 ms, sys: 1.9 ms, total: 24.5 ms\n",
      "Wall time: 23.6 ms\n"
     ]
    }
   ],
   "source": [
    "%%time\n",
    "# convert less than 0 entries to 0 for all arrays\n",
    "for arr in loaded_npy_files:\n",
    "    arr[arr < 0] = 0"
   ]
  },
  {
   "cell_type": "code",
   "execution_count": 54,
   "id": "b20d4662-eefc-41bc-ac0a-25d0613fa00c",
   "metadata": {},
   "outputs": [
    {
     "data": {
      "text/plain": [
       "array([[0.        , 0.        , 0.        , ..., 0.        , 0.0008353 ,\n",
       "        0.00243044],\n",
       "       [0.        , 0.00031781, 0.        , ..., 0.        , 0.00060463,\n",
       "        0.00162017],\n",
       "       [0.        , 0.        , 0.        , ..., 0.        , 0.00031173,\n",
       "        0.00127518],\n",
       "       ...,\n",
       "       [0.        , 0.        , 0.        , ..., 0.        , 0.        ,\n",
       "        0.        ],\n",
       "       [0.        , 0.        , 0.        , ..., 0.        , 0.        ,\n",
       "        0.        ],\n",
       "       [0.        , 0.        , 0.        , ..., 0.        , 0.00015628,\n",
       "        0.        ]], dtype=float32)"
      ]
     },
     "execution_count": 54,
     "metadata": {},
     "output_type": "execute_result"
    }
   ],
   "source": [
    "loaded_npy_files[0]"
   ]
  },
  {
   "cell_type": "code",
   "execution_count": 55,
   "id": "f2474bdb-3a79-4436-83b1-2b3c3ac24a5c",
   "metadata": {},
   "outputs": [],
   "source": [
    "# Since we do not have overlapping sub-windows, we can sum the counts to get the final densities\n",
    "output = sum(loaded_npy_files)"
   ]
  },
  {
   "cell_type": "code",
   "execution_count": 56,
   "id": "d9038206-4f90-4001-9c3c-aee27d7d610c",
   "metadata": {},
   "outputs": [
    {
     "data": {
      "text/plain": [
       "(1000, 7)"
      ]
     },
     "execution_count": 56,
     "metadata": {},
     "output_type": "execute_result"
    }
   ],
   "source": [
    "output.shape"
   ]
  },
  {
   "cell_type": "code",
   "execution_count": 57,
   "id": "6116babf-18f2-4e39-9a72-150ccc4e6387",
   "metadata": {},
   "outputs": [
    {
     "data": {
      "text/plain": [
       "array([[31.400396, 30.299393, 36.923996, ..., 29.034386, 33.237934,\n",
       "        27.64193 ],\n",
       "       [25.091558, 30.692207, 35.457348, ..., 22.731222, 29.904833,\n",
       "        29.777946],\n",
       "       [32.43474 , 34.291706, 37.10489 , ..., 29.077883, 36.91828 ,\n",
       "        31.034899],\n",
       "       ...,\n",
       "       [30.34501 , 31.753355, 35.069656, ..., 29.970139, 36.689144,\n",
       "        39.03253 ],\n",
       "       [29.173512, 30.830044, 37.037434, ..., 35.604347, 31.980108,\n",
       "        31.267962],\n",
       "       [30.870174, 32.920147, 35.401623, ..., 29.362686, 36.34338 ,\n",
       "        30.810358]], dtype=float32)"
      ]
     },
     "execution_count": 57,
     "metadata": {},
     "output_type": "execute_result"
    }
   ],
   "source": [
    "output"
   ]
  },
  {
   "cell_type": "code",
   "execution_count": 58,
   "id": "fbac31f0-215b-4e8b-8c13-2cd85e76a70f",
   "metadata": {},
   "outputs": [],
   "source": [
    "# is this sum correct? alternative method of computing the sums\n",
    "output_alt = np.sum(loaded_npy_files, axis = 0)"
   ]
  },
  {
   "cell_type": "code",
   "execution_count": 59,
   "id": "1198a1a0-14fc-4101-b4af-14a2c26dc0c5",
   "metadata": {},
   "outputs": [
    {
     "data": {
      "text/plain": [
       "(1000, 7)"
      ]
     },
     "execution_count": 59,
     "metadata": {},
     "output_type": "execute_result"
    }
   ],
   "source": [
    "output_alt.shape"
   ]
  },
  {
   "cell_type": "code",
   "execution_count": 60,
   "id": "23c6ebbe-2c27-47ff-8a5f-86491e58d899",
   "metadata": {},
   "outputs": [
    {
     "data": {
      "text/plain": [
       "array([[31.400396, 30.299393, 36.923996, ..., 29.034386, 33.237934,\n",
       "        27.64193 ],\n",
       "       [25.091558, 30.692207, 35.457348, ..., 22.731222, 29.904833,\n",
       "        29.777946],\n",
       "       [32.43474 , 34.291706, 37.10489 , ..., 29.077883, 36.91828 ,\n",
       "        31.034899],\n",
       "       ...,\n",
       "       [30.34501 , 31.753355, 35.069656, ..., 29.970139, 36.689144,\n",
       "        39.03253 ],\n",
       "       [29.173512, 30.830044, 37.037434, ..., 35.604347, 31.980108,\n",
       "        31.267962],\n",
       "       [30.870174, 32.920147, 35.401623, ..., 29.362686, 36.34338 ,\n",
       "        30.810358]], dtype=float32)"
      ]
     },
     "execution_count": 60,
     "metadata": {},
     "output_type": "execute_result"
    }
   ],
   "source": [
    "output_alt"
   ]
  },
  {
   "cell_type": "code",
   "execution_count": 61,
   "id": "7b4a8d85-fe98-49c3-9a9f-51fbd90c5174",
   "metadata": {},
   "outputs": [
    {
     "data": {
      "text/plain": [
       "1.0"
      ]
     },
     "execution_count": 61,
     "metadata": {},
     "output_type": "execute_result"
    }
   ],
   "source": [
    "np.mean(output_alt == output)"
   ]
  },
  {
   "cell_type": "code",
   "execution_count": 62,
   "id": "ba6418a3-03f4-475a-b552-55a08048311f",
   "metadata": {},
   "outputs": [],
   "source": [
    "# verified the sum is correct, let's get the widths and the coverages - and also any essential plots"
   ]
  },
  {
   "cell_type": "code",
   "execution_count": 63,
   "id": "ca61eabc-63ed-4b74-b20a-61521b3751a6",
   "metadata": {},
   "outputs": [],
   "source": [
    "# now we can get the 2.5th abd the 97.5th percentiles - to get the coverage and the widths of the CIS\n",
    "li_train = np.percentile(output, axis = 0, q = (2.5, 97.5))[0,:].reshape(-1,1)    \n",
    "ui_train = np.percentile(output, axis = 0, q = (2.5, 97.5))[1,:].reshape(-1,1)"
   ]
  },
  {
   "cell_type": "code",
   "execution_count": 64,
   "id": "9cad5cca-320d-4e70-b204-e4dc52fb9d6d",
   "metadata": {},
   "outputs": [
    {
     "data": {
      "text/plain": [
       "array([[20.75166984],\n",
       "       [22.68757911],\n",
       "       [22.81007876],\n",
       "       [17.75576682],\n",
       "       [17.61131787],\n",
       "       [19.63968916],\n",
       "       [18.48609934]])"
      ]
     },
     "execution_count": 64,
     "metadata": {},
     "output_type": "execute_result"
    }
   ],
   "source": [
    "li_train"
   ]
  },
  {
   "cell_type": "code",
   "execution_count": 65,
   "id": "4e669c1d-0916-4e77-92e2-a1b1879834aa",
   "metadata": {},
   "outputs": [
    {
     "data": {
      "text/plain": [
       "array([[37.72680378],\n",
       "       [41.10635519],\n",
       "       [44.0154006 ],\n",
       "       [39.08450537],\n",
       "       [37.55361223],\n",
       "       [41.60724297],\n",
       "       [38.87409954]])"
      ]
     },
     "execution_count": 65,
     "metadata": {},
     "output_type": "execute_result"
    }
   ],
   "source": [
    "ui_train"
   ]
  },
  {
   "cell_type": "code",
   "execution_count": 66,
   "id": "4d51a483-bfe5-4cc6-a31f-813cb83d5540",
   "metadata": {},
   "outputs": [],
   "source": [
    "width_train = ui_train - li_train\n",
    "avg_width_train = width_train.mean(0)[0]"
   ]
  },
  {
   "cell_type": "code",
   "execution_count": 67,
   "id": "37b163bb-b24c-4af2-8f2b-19c78eb24ff9",
   "metadata": {},
   "outputs": [
    {
     "data": {
      "text/plain": [
       "20.03225982529776"
      ]
     },
     "execution_count": 67,
     "metadata": {},
     "output_type": "execute_result"
    }
   ],
   "source": [
    "avg_width_train"
   ]
  },
  {
   "cell_type": "code",
   "execution_count": 68,
   "id": "46d652b2-05be-44f9-bf0d-3ff69ad25fed",
   "metadata": {},
   "outputs": [],
   "source": [
    "y_traina = block_0103_true_and_forecasted_values_df[[\"True_count\"]].values"
   ]
  },
  {
   "cell_type": "code",
   "execution_count": 69,
   "id": "5f1ba54d-0aca-494d-b741-b2cd6d00fcb3",
   "metadata": {},
   "outputs": [],
   "source": [
    "ind_train = (y_traina >= li_train) & (y_traina <= ui_train)\n",
    "coverage_train= ind_train.mean(0)[0]"
   ]
  },
  {
   "cell_type": "code",
   "execution_count": 70,
   "id": "66d5a7c9-0400-4f6f-9221-9cb9c7860d3c",
   "metadata": {},
   "outputs": [
    {
     "data": {
      "text/plain": [
       "0.8571428571428571"
      ]
     },
     "execution_count": 70,
     "metadata": {},
     "output_type": "execute_result"
    }
   ],
   "source": [
    "coverage_train"
   ]
  },
  {
   "cell_type": "code",
   "execution_count": 71,
   "id": "ce86b870-01cf-4e10-904b-ef2396d2dc47",
   "metadata": {},
   "outputs": [
    {
     "data": {
      "text/plain": [
       "array([28.485115, 31.154804, 32.723938, 27.69168 , 25.967222, 29.362005,\n",
       "       27.493525], dtype=float32)"
      ]
     },
     "execution_count": 71,
     "metadata": {},
     "output_type": "execute_result"
    }
   ],
   "source": [
    "np.mean(output, axis = 0)"
   ]
  },
  {
   "cell_type": "code",
   "execution_count": 72,
   "id": "311beb4f-6347-407c-af9b-bfe285361098",
   "metadata": {},
   "outputs": [],
   "source": [
    "# sum_forecasted_values"
   ]
  },
  {
   "cell_type": "code",
   "execution_count": 76,
   "id": "0f94ff2b-6606-477b-a3a7-c3841f436c56",
   "metadata": {},
   "outputs": [
    {
     "data": {
      "image/png": "[encoded data removed]",
      "text/plain": [
       "<Figure size 640x480 with 1 Axes>"
      ]
     },
     "metadata": {},
     "output_type": "display_data"
    }
   ],
   "source": [
    "plt.scatter(block_0103_true_and_forecasted_values_df['True_count'], block_0103_true_and_forecasted_values_df['Forecasted_count'])\n",
    "plt.xlabel(\"True density\")\n",
    "plt.ylabel(\"Predicted density\")\n",
    "# Add the y = x line\n",
    "plt.plot([18, 42], [18, 42], color='green', label='y = x')\n",
    "plt.legend()\n",
    "plt.show()"
   ]
  },
  {
   "cell_type": "code",
   "execution_count": 74,
   "id": "04aa778d-3203-493f-a8d5-6c42cd0c540a",
   "metadata": {},
   "outputs": [
    {
     "data": {
      "image/png": "[encoded data removed]",
      "text/plain": [
       "<Figure size 1500x2000 with 8 Axes>"
      ]
     },
     "metadata": {},
     "output_type": "display_data"
    },
    {
     "name": "stdout",
     "output_type": "stream",
     "text": [
      "CPU times: user 26.1 s, sys: 871 ms, total: 27 s\n",
      "Wall time: 26.7 s\n"
     ]
    }
   ],
   "source": [
    "%%time\n",
    "# Create a 2x4 grid of subplots (total 8 plots, the last one will be left empty)\n",
    "fig, axes = plt.subplots(4, 2, figsize=(15,20))\n",
    "axes = axes.flatten() \n",
    "\n",
    "# widths plots\n",
    "for i in range(7):\n",
    "    timestep_i_subwindows = []\n",
    "    for y, file in enumerate(loaded_npy_files):\n",
    "        t_i_forecast = file[:,i]\n",
    "        # print the shape of the extracted array\n",
    "        # print(t_i_forecast.shape)\n",
    "        timestep_i_subwindows.append(t_i_forecast)\n",
    "    stacked_forecasts = np.stack(timestep_i_subwindows)\n",
    "    stacked_forecasts[stacked_forecasts<0] = 0\n",
    "    sorted_stacked_forecasts = np.sort(stacked_forecasts, axis = 1)\n",
    "    # get the values between the 2.5th and 97.5th percentile?\n",
    "    sorted_interval_data = sorted_stacked_forecasts[:,25:975]\n",
    "\n",
    "    # Plot for the current 2D array\n",
    "    for l, row in enumerate(sorted_interval_data):\n",
    "        axes[i].plot([l + 1] * len(row), row, 'o', markersize=1, color='teal', label='Distribution of forecasted values' if l == 0 else \"\")\n",
    "    \n",
    "    true_counts = exp_true.iloc[i,:].values\n",
    "\n",
    "    # # Overlay the 1D array values\n",
    "    axes[i].plot(np.arange(1, 911), true_counts, 'o', markersize=1, color='red', label='True density')\n",
    "    \n",
    "    # Customize x-ticks and labels\n",
    "    axes[i].set_xticks(np.arange(1, 911))\n",
    "    # axes[i].set_xticklabels([f'sub_window_{zz + 1}' for zz in range(910)], rotation=90, fontsize=13)\n",
    "    axes[i].set_xlabel(\"Sub windows\", fontsize=12, fontweight='bold')\n",
    "    axes[i].set_ylabel(\"Forecasted and true densities\", fontsize=12, fontweight='bold')\n",
    "    axes[i].set_title(f\"Test image {i + 1}\", fontsize=12, fontweight='bold')\n",
    "    axes[i].legend()\n",
    "\n",
    "\n",
    "# Hide the last (empty) subplot\n",
    "axes[-1].set_visible(False)\n",
    "\n",
    "# Adjust layout\n",
    "plt.tight_layout()\n",
    "\n",
    "# # Save the figure as a PDF file\n",
    "# plt.savefig(\"Previous_data/Forecasted_distributions_blk13.pdf\", format='pdf', bbox_inches='tight')\n",
    "plt.show()\n",
    "\n"
   ]
  },
  {
   "cell_type": "code",
   "execution_count": 75,
   "id": "b51d6a01-5c7a-4e37-be12-776053974e4d",
   "metadata": {},
   "outputs": [],
   "source": [
    "# plots are going to be too over-crowded as we now have 910 subwindows - might beed to talk to Dr. Ghosh to figure out a better way to give these plots"
   ]
  }
 ],
 "metadata": {
  "kernelspec": {
   "display_name": "Python (tfp_cpu_env)",
   "language": "python",
   "name": "tfp_cpu_env"
  },
  "language_info": {
   "codemirror_mode": {
    "name": "ipython",
    "version": 3
   },
   "file_extension": ".py",
   "mimetype": "text/x-python",
   "name": "python",
   "nbconvert_exporter": "python",
   "pygments_lexer": "ipython3",
   "version": "3.11.7"
  }
 },
 "nbformat": 4,
 "nbformat_minor": 5
}
